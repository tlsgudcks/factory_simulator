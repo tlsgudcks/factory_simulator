{
 "cells": [
  {
   "cell_type": "code",
   "execution_count": 6,
   "id": "52e7cb22",
   "metadata": {},
   "outputs": [
    {
     "name": "stdout",
     "output_type": "stream",
     "text": [
      "--------------------------------------------------\n",
      "flow time: 3853, util : 0.801, makespan : 232\n",
      "n_episode: 1, score : -277.0, n_buffer : 227, eps : 8.0%\n",
      "--------------------------------------------------\n",
      "flow time: 3970, util : 0.790, makespan : 240\n",
      "n_episode: 2, score : -303.0, n_buffer : 342, eps : 8.0%\n",
      "--------------------------------------------------\n",
      "flow time: 3649, util : 0.819, makespan : 232\n",
      "n_episode: 3, score : -252.0, n_buffer : 457, eps : 8.0%\n",
      "--------------------------------------------------\n",
      "flow time: 3791, util : 0.795, makespan : 229\n",
      "n_episode: 4, score : -281.0, n_buffer : 570, eps : 8.0%\n",
      "--------------------------------------------------\n",
      "flow time: 3734, util : 0.823, makespan : 230\n",
      "n_episode: 5, score : -244.0, n_buffer : 685, eps : 8.0%\n",
      "--------------------------------------------------\n",
      "flow time: 4045, util : 0.806, makespan : 245\n",
      "n_episode: 6, score : -285.0, n_buffer : 801, eps : 7.9%\n",
      "--------------------------------------------------\n",
      "flow time: 3823, util : 0.807, makespan : 238\n",
      "n_episode: 7, score : -275.0, n_buffer : 918, eps : 7.9%\n",
      "--------------------------------------------------\n",
      "flow time: 3801, util : 0.782, makespan : 234\n",
      "n_episode: 8, score : -306.0, n_buffer : 1033, eps : 7.9%\n",
      "--------------------------------------------------\n",
      "flow time: 3416, util : 0.801, makespan : 251\n",
      "n_episode: 9, score : -300.0, n_buffer : 1150, eps : 7.9%\n",
      "--------------------------------------------------\n",
      "flow time: 3308, util : 0.712, makespan : 275\n",
      "n_episode: 10, score : -476.0, n_buffer : 1306, eps : 7.9%\n",
      "--------------------------------------------------\n",
      "flow time: 4992, util : 0.810, makespan : 285\n",
      "n_episode: 11, score : -325.0, n_buffer : 1421, eps : 7.9%\n",
      "--------------------------------------------------\n",
      "flow time: 3258, util : 0.764, makespan : 256\n",
      "n_episode: 12, score : -362.0, n_buffer : 1566, eps : 7.9%\n",
      "--------------------------------------------------\n",
      "flow time: 4332, util : 0.828, makespan : 253\n",
      "n_episode: 13, score : -261.0, n_buffer : 1681, eps : 7.9%\n",
      "--------------------------------------------------\n",
      "flow time: 3683, util : 0.758, makespan : 278\n",
      "n_episode: 14, score : -404.0, n_buffer : 1819, eps : 7.9%\n",
      "--------------------------------------------------\n",
      "flow time: 3842, util : 0.808, makespan : 246\n",
      "n_episode: 15, score : -283.0, n_buffer : 1935, eps : 7.8%\n",
      "--------------------------------------------------\n",
      "flow time: 3803, util : 0.829, makespan : 243\n",
      "n_episode: 16, score : -250.0, n_buffer : 2044, eps : 7.8%\n",
      "--------------------------------------------------\n",
      "flow time: 4945, util : 0.842, makespan : 284\n",
      "n_episode: 17, score : -270.0, n_buffer : 2159, eps : 7.8%\n",
      "--------------------------------------------------\n",
      "flow time: 4801, util : 0.833, makespan : 283\n",
      "n_episode: 18, score : -283.0, n_buffer : 2271, eps : 7.8%\n",
      "--------------------------------------------------\n",
      "flow time: 3046, util : 0.779, makespan : 292\n",
      "n_episode: 19, score : -387.0, n_buffer : 2426, eps : 7.8%\n",
      "--------------------------------------------------\n",
      "flow time: 3951, util : 0.833, makespan : 280\n",
      "n_episode: 20, score : -280.0, n_buffer : 2538, eps : 7.8%\n",
      "--------------------------------------------------\n",
      "flow time: 3162, util : 0.721, makespan : 309\n",
      "n_episode: 21, score : -517.0, n_buffer : 2685, eps : 7.8%\n",
      "--------------------------------------------------\n",
      "flow time: 3027, util : 0.827, makespan : 274\n",
      "n_episode: 22, score : -285.0, n_buffer : 2828, eps : 7.8%\n",
      "--------------------------------------------------\n",
      "flow time: 2817, util : 0.824, makespan : 275\n",
      "n_episode: 23, score : -291.0, n_buffer : 2975, eps : 7.8%\n",
      "--------------------------------------------------\n",
      "flow time: 2758, util : 0.784, makespan : 291\n",
      "n_episode: 24, score : -377.0, n_buffer : 3127, eps : 7.8%\n",
      "--------------------------------------------------\n",
      "flow time: 2931, util : 0.777, makespan : 307\n",
      "n_episode: 25, score : -410.0, n_buffer : 3276, eps : 7.8%\n",
      "--------------------------------------------------\n",
      "flow time: 2721, util : 0.755, makespan : 293\n",
      "n_episode: 26, score : -430.0, n_buffer : 3431, eps : 7.7%\n",
      "--------------------------------------------------\n",
      "flow time: 2844, util : 0.773, makespan : 286\n",
      "n_episode: 27, score : -390.0, n_buffer : 3575, eps : 7.7%\n",
      "--------------------------------------------------\n",
      "flow time: 2962, util : 0.810, makespan : 287\n",
      "n_episode: 28, score : -328.0, n_buffer : 3716, eps : 7.7%\n",
      "--------------------------------------------------\n",
      "flow time: 2742, util : 0.809, makespan : 278\n",
      "n_episode: 29, score : -319.0, n_buffer : 3855, eps : 7.7%\n",
      "--------------------------------------------------\n",
      "flow time: 2863, util : 0.820, makespan : 278\n",
      "n_episode: 30, score : -300.0, n_buffer : 3996, eps : 7.7%\n",
      "--------------------------------------------------\n",
      "flow time: 2796, util : 0.771, makespan : 292\n",
      "n_episode: 31, score : -402.0, n_buffer : 4166, eps : 7.7%\n",
      "--------------------------------------------------\n",
      "flow time: 3127, util : 0.775, makespan : 290\n",
      "n_episode: 32, score : -392.0, n_buffer : 4321, eps : 7.7%\n",
      "--------------------------------------------------\n",
      "flow time: 3080, util : 0.779, makespan : 277\n",
      "n_episode: 33, score : -367.0, n_buffer : 4478, eps : 7.7%\n",
      "--------------------------------------------------\n",
      "flow time: 3336, util : 0.825, makespan : 235\n",
      "n_episode: 34, score : -247.0, n_buffer : 4600, eps : 7.7%\n",
      "--------------------------------------------------\n",
      "flow time: 3736, util : 0.813, makespan : 266\n",
      "n_episode: 35, score : -299.0, n_buffer : 4717, eps : 7.6%\n",
      "--------------------------------------------------\n",
      "flow time: 3094, util : 0.786, makespan : 272\n",
      "n_episode: 36, score : -350.0, n_buffer : 4874, eps : 7.6%\n",
      "--------------------------------------------------\n",
      "flow time: 3073, util : 0.808, makespan : 284\n",
      "n_episode: 37, score : -328.0, n_buffer : 5028, eps : 7.6%\n",
      "--------------------------------------------------\n",
      "flow time: 2967, util : 0.777, makespan : 281\n",
      "n_episode: 38, score : -376.0, n_buffer : 5183, eps : 7.6%\n",
      "--------------------------------------------------\n",
      "flow time: 3183, util : 0.790, makespan : 277\n",
      "n_episode: 39, score : -349.0, n_buffer : 5318, eps : 7.6%\n",
      "--------------------------------------------------\n",
      "flow time: 2893, util : 0.775, makespan : 287\n",
      "n_episode: 40, score : -388.0, n_buffer : 5472, eps : 7.6%\n",
      "--------------------------------------------------\n",
      "flow time: 2745, util : 0.784, makespan : 278\n",
      "n_episode: 41, score : -361.0, n_buffer : 5625, eps : 7.6%\n",
      "--------------------------------------------------\n",
      "flow time: 2827, util : 0.790, makespan : 291\n",
      "n_episode: 42, score : -366.0, n_buffer : 5769, eps : 7.6%\n",
      "--------------------------------------------------\n",
      "flow time: 2798, util : 0.811, makespan : 274\n",
      "n_episode: 43, score : -310.0, n_buffer : 5909, eps : 7.6%\n",
      "--------------------------------------------------\n",
      "flow time: 3078, util : 0.753, makespan : 322\n",
      "n_episode: 44, score : -478.0, n_buffer : 6064, eps : 7.6%\n",
      "--------------------------------------------------\n",
      "flow time: 2859, util : 0.764, makespan : 301\n",
      "n_episode: 45, score : -427.0, n_buffer : 6217, eps : 7.5%\n",
      "--------------------------------------------------\n",
      "flow time: 3131, util : 0.873, makespan : 265\n",
      "n_episode: 46, score : -202.0, n_buffer : 6340, eps : 7.5%\n",
      "--------------------------------------------------\n",
      "flow time: 2743, util : 0.763, makespan : 299\n",
      "n_episode: 47, score : -425.0, n_buffer : 6483, eps : 7.5%\n",
      "--------------------------------------------------\n",
      "flow time: 2910, util : 0.811, makespan : 277\n",
      "n_episode: 48, score : -314.0, n_buffer : 6619, eps : 7.5%\n",
      "--------------------------------------------------\n",
      "flow time: 2945, util : 0.767, makespan : 295\n",
      "n_episode: 49, score : -413.0, n_buffer : 6774, eps : 7.5%\n",
      "--------------------------------------------------\n",
      "flow time: 2911, util : 0.779, makespan : 297\n",
      "n_episode: 50, score : -393.0, n_buffer : 6922, eps : 7.5%\n",
      "--------------------------------------------------\n",
      "flow time: 2916, util : 0.778, makespan : 288\n",
      "n_episode: 51, score : -384.0, n_buffer : 7086, eps : 7.5%\n",
      "--------------------------------------------------\n",
      "flow time: 2676, util : 0.775, makespan : 279\n",
      "n_episode: 52, score : -376.0, n_buffer : 7242, eps : 7.5%\n",
      "--------------------------------------------------\n",
      "flow time: 3130, util : 0.801, makespan : 261\n",
      "n_episode: 53, score : -312.0, n_buffer : 7382, eps : 7.5%\n"
     ]
    },
    {
     "name": "stdout",
     "output_type": "stream",
     "text": [
      "--------------------------------------------------\n",
      "flow time: 3063, util : 0.825, makespan : 247\n",
      "n_episode: 54, score : -260.0, n_buffer : 7521, eps : 7.5%\n",
      "--------------------------------------------------\n",
      "flow time: 2914, util : 0.806, makespan : 277\n",
      "n_episode: 55, score : -323.0, n_buffer : 7666, eps : 7.4%\n",
      "--------------------------------------------------\n",
      "flow time: 2793, util : 0.803, makespan : 286\n",
      "n_episode: 56, score : -338.0, n_buffer : 7823, eps : 7.4%\n",
      "--------------------------------------------------\n",
      "flow time: 2758, util : 0.775, makespan : 288\n",
      "n_episode: 57, score : -388.0, n_buffer : 7974, eps : 7.4%\n",
      "--------------------------------------------------\n",
      "flow time: 3017, util : 0.824, makespan : 288\n",
      "n_episode: 58, score : -304.0, n_buffer : 8113, eps : 7.4%\n",
      "--------------------------------------------------\n",
      "flow time: 2870, util : 0.813, makespan : 285\n",
      "n_episode: 59, score : -320.0, n_buffer : 8258, eps : 7.4%\n",
      "--------------------------------------------------\n",
      "flow time: 2673, util : 0.747, makespan : 285\n",
      "n_episode: 60, score : -432.0, n_buffer : 8406, eps : 7.4%\n",
      "--------------------------------------------------\n",
      "flow time: 3053, util : 0.734, makespan : 292\n",
      "n_episode: 61, score : -466.0, n_buffer : 8559, eps : 7.4%\n",
      "--------------------------------------------------\n",
      "flow time: 3366, util : 0.809, makespan : 223\n",
      "n_episode: 62, score : -256.0, n_buffer : 8675, eps : 7.4%\n",
      "--------------------------------------------------\n",
      "flow time: 2862, util : 0.769, makespan : 291\n",
      "n_episode: 63, score : -404.0, n_buffer : 8821, eps : 7.4%\n",
      "--------------------------------------------------\n",
      "flow time: 2890, util : 0.812, makespan : 285\n",
      "n_episode: 64, score : -321.0, n_buffer : 8955, eps : 7.4%\n",
      "--------------------------------------------------\n",
      "flow time: 3119, util : 0.766, makespan : 278\n",
      "n_episode: 65, score : -390.0, n_buffer : 9106, eps : 7.3%\n",
      "--------------------------------------------------\n",
      "flow time: 3842, util : 0.833, makespan : 233\n",
      "n_episode: 66, score : -234.0, n_buffer : 9221, eps : 7.3%\n",
      "--------------------------------------------------\n",
      "flow time: 2963, util : 0.852, makespan : 263\n",
      "n_episode: 67, score : -233.0, n_buffer : 9358, eps : 7.3%\n",
      "--------------------------------------------------\n",
      "flow time: 2889, util : 0.810, makespan : 277\n",
      "n_episode: 68, score : -315.0, n_buffer : 9514, eps : 7.3%\n",
      "--------------------------------------------------\n",
      "flow time: 2880, util : 0.788, makespan : 286\n",
      "n_episode: 69, score : -364.0, n_buffer : 9656, eps : 7.3%\n",
      "--------------------------------------------------\n",
      "flow time: 2924, util : 0.799, makespan : 285\n",
      "n_episode: 70, score : -344.0, n_buffer : 9804, eps : 7.3%\n",
      "--------------------------------------------------\n",
      "flow time: 2792, util : 0.722, makespan : 319\n",
      "n_episode: 71, score : -533.0, n_buffer : 9962, eps : 7.3%\n",
      "--------------------------------------------------\n",
      "flow time: 2912, util : 0.752, makespan : 300\n",
      "n_episode: 72, score : -447.0, n_buffer : 10000, eps : 7.3%\n",
      "--------------------------------------------------\n",
      "flow time: 2774, util : 0.771, makespan : 280\n",
      "n_episode: 73, score : -384.0, n_buffer : 10000, eps : 7.3%\n",
      "--------------------------------------------------\n",
      "flow time: 2964, util : 0.871, makespan : 261\n",
      "n_episode: 74, score : -202.0, n_buffer : 10000, eps : 7.3%\n",
      "--------------------------------------------------\n",
      "flow time: 2974, util : 0.740, makespan : 322\n",
      "n_episode: 75, score : -502.0, n_buffer : 10000, eps : 7.3%\n",
      "--------------------------------------------------\n",
      "flow time: 2864, util : 0.798, makespan : 286\n",
      "n_episode: 76, score : -346.0, n_buffer : 10000, eps : 7.2%\n",
      "--------------------------------------------------\n",
      "flow time: 2830, util : 0.782, makespan : 288\n",
      "n_episode: 77, score : -377.0, n_buffer : 10000, eps : 7.2%\n",
      "--------------------------------------------------\n",
      "flow time: 2751, util : 0.792, makespan : 291\n",
      "n_episode: 78, score : -363.0, n_buffer : 10000, eps : 7.2%\n",
      "--------------------------------------------------\n",
      "flow time: 2828, util : 0.757, makespan : 301\n",
      "n_episode: 79, score : -439.0, n_buffer : 10000, eps : 7.2%\n",
      "--------------------------------------------------\n",
      "flow time: 2855, util : 0.799, makespan : 288\n",
      "n_episode: 80, score : -347.0, n_buffer : 10000, eps : 7.2%\n",
      "--------------------------------------------------\n",
      "flow time: 2867, util : 0.835, makespan : 279\n",
      "n_episode: 81, score : -276.0, n_buffer : 10000, eps : 7.2%\n",
      "--------------------------------------------------\n",
      "flow time: 2969, util : 0.729, makespan : 315\n",
      "n_episode: 82, score : -513.0, n_buffer : 10000, eps : 7.2%\n",
      "--------------------------------------------------\n",
      "flow time: 2877, util : 0.790, makespan : 274\n",
      "n_episode: 83, score : -346.0, n_buffer : 10000, eps : 7.2%\n",
      "--------------------------------------------------\n",
      "flow time: 2818, util : 0.841, makespan : 262\n",
      "n_episode: 84, score : -250.0, n_buffer : 10000, eps : 7.2%\n",
      "--------------------------------------------------\n",
      "flow time: 2822, util : 0.768, makespan : 284\n",
      "n_episode: 85, score : -396.0, n_buffer : 10000, eps : 7.2%\n",
      "--------------------------------------------------\n",
      "flow time: 2815, util : 0.821, makespan : 269\n",
      "n_episode: 86, score : -289.0, n_buffer : 10000, eps : 7.1%\n",
      "--------------------------------------------------\n",
      "flow time: 2810, util : 0.768, makespan : 278\n",
      "n_episode: 87, score : -387.0, n_buffer : 10000, eps : 7.1%\n",
      "--------------------------------------------------\n",
      "flow time: 2903, util : 0.801, makespan : 285\n",
      "n_episode: 88, score : -341.0, n_buffer : 10000, eps : 7.1%\n",
      "--------------------------------------------------\n",
      "flow time: 3195, util : 0.779, makespan : 284\n",
      "n_episode: 89, score : -377.0, n_buffer : 10000, eps : 7.1%\n",
      "--------------------------------------------------\n",
      "flow time: 3196, util : 0.799, makespan : 292\n",
      "n_episode: 90, score : -353.0, n_buffer : 10000, eps : 7.1%\n",
      "--------------------------------------------------\n",
      "flow time: 3031, util : 0.789, makespan : 286\n",
      "n_episode: 91, score : -362.0, n_buffer : 10000, eps : 7.1%\n",
      "--------------------------------------------------\n",
      "flow time: 2974, util : 0.844, makespan : 270\n",
      "n_episode: 92, score : -253.0, n_buffer : 10000, eps : 7.1%\n",
      "--------------------------------------------------\n",
      "flow time: 2800, util : 0.780, makespan : 282\n",
      "n_episode: 93, score : -373.0, n_buffer : 10000, eps : 7.1%\n",
      "--------------------------------------------------\n",
      "flow time: 2912, util : 0.783, makespan : 284\n",
      "n_episode: 94, score : -369.0, n_buffer : 10000, eps : 7.1%\n",
      "--------------------------------------------------\n",
      "flow time: 2764, util : 0.813, makespan : 271\n",
      "n_episode: 95, score : -304.0, n_buffer : 10000, eps : 7.1%\n",
      "--------------------------------------------------\n",
      "flow time: 2855, util : 0.804, makespan : 275\n",
      "n_episode: 96, score : -323.0, n_buffer : 10000, eps : 7.0%\n",
      "--------------------------------------------------\n",
      "flow time: 2783, util : 0.775, makespan : 273\n",
      "n_episode: 97, score : -369.0, n_buffer : 10000, eps : 7.0%\n",
      "--------------------------------------------------\n",
      "flow time: 2830, util : 0.777, makespan : 290\n",
      "n_episode: 98, score : -388.0, n_buffer : 10000, eps : 7.0%\n",
      "--------------------------------------------------\n",
      "flow time: 2801, util : 0.795, makespan : 284\n",
      "n_episode: 99, score : -349.0, n_buffer : 10000, eps : 7.0%\n",
      "--------------------------------------------------\n",
      "flow time: 2771, util : 0.804, makespan : 272\n",
      "n_episode: 100, score : -320.0, n_buffer : 10000, eps : 7.0%\n",
      "--------------------------------------------------\n",
      "flow time: 2758, util : 0.827, makespan : 259\n",
      "n_episode: 101, score : -269.0, n_buffer : 10000, eps : 7.0%\n",
      "--------------------------------------------------\n",
      "flow time: 2915, util : 0.839, makespan : 254\n",
      "n_episode: 102, score : -245.0, n_buffer : 10000, eps : 7.0%\n",
      "--------------------------------------------------\n",
      "flow time: 2874, util : 0.804, makespan : 280\n",
      "n_episode: 103, score : -329.0, n_buffer : 10000, eps : 7.0%\n",
      "--------------------------------------------------\n",
      "flow time: 2922, util : 0.736, makespan : 305\n",
      "n_episode: 104, score : -483.0, n_buffer : 10000, eps : 7.0%\n",
      "--------------------------------------------------\n",
      "flow time: 2768, util : 0.711, makespan : 316\n",
      "n_episode: 105, score : -548.0, n_buffer : 10000, eps : 7.0%\n",
      "--------------------------------------------------\n",
      "flow time: 2786, util : 0.800, makespan : 271\n",
      "n_episode: 106, score : -325.0, n_buffer : 10000, eps : 6.9%\n"
     ]
    },
    {
     "name": "stdout",
     "output_type": "stream",
     "text": [
      "--------------------------------------------------\n",
      "flow time: 2873, util : 0.749, makespan : 300\n",
      "n_episode: 107, score : -451.0, n_buffer : 10000, eps : 6.9%\n",
      "--------------------------------------------------\n",
      "flow time: 2908, util : 0.786, makespan : 301\n",
      "n_episode: 108, score : -386.0, n_buffer : 10000, eps : 6.9%\n",
      "--------------------------------------------------\n",
      "flow time: 2832, util : 0.826, makespan : 271\n",
      "n_episode: 109, score : -283.0, n_buffer : 10000, eps : 6.9%\n",
      "--------------------------------------------------\n",
      "flow time: 2749, util : 0.759, makespan : 300\n",
      "n_episode: 110, score : -434.0, n_buffer : 10000, eps : 6.9%\n",
      "--------------------------------------------------\n",
      "flow time: 2668, util : 0.813, makespan : 269\n",
      "n_episode: 111, score : -302.0, n_buffer : 10000, eps : 6.9%\n",
      "--------------------------------------------------\n",
      "flow time: 2706, util : 0.798, makespan : 279\n",
      "n_episode: 112, score : -338.0, n_buffer : 10000, eps : 6.9%\n",
      "--------------------------------------------------\n",
      "flow time: 2722, util : 0.734, makespan : 307\n",
      "n_episode: 113, score : -490.0, n_buffer : 10000, eps : 6.9%\n",
      "--------------------------------------------------\n",
      "flow time: 2832, util : 0.797, makespan : 269\n",
      "n_episode: 114, score : -327.0, n_buffer : 10000, eps : 6.9%\n",
      "--------------------------------------------------\n",
      "flow time: 2705, util : 0.746, makespan : 279\n",
      "n_episode: 115, score : -425.0, n_buffer : 10000, eps : 6.9%\n",
      "--------------------------------------------------\n",
      "flow time: 2766, util : 0.802, makespan : 262\n",
      "n_episode: 116, score : -312.0, n_buffer : 10000, eps : 6.8%\n",
      "--------------------------------------------------\n",
      "flow time: 2769, util : 0.774, makespan : 288\n",
      "n_episode: 117, score : -390.0, n_buffer : 10000, eps : 6.8%\n",
      "--------------------------------------------------\n",
      "flow time: 2643, util : 0.819, makespan : 259\n",
      "n_episode: 118, score : -281.0, n_buffer : 10000, eps : 6.8%\n",
      "--------------------------------------------------\n",
      "flow time: 2918, util : 0.818, makespan : 274\n",
      "n_episode: 119, score : -299.0, n_buffer : 10000, eps : 6.8%\n",
      "--------------------------------------------------\n",
      "flow time: 2725, util : 0.758, makespan : 293\n",
      "n_episode: 120, score : -426.0, n_buffer : 10000, eps : 6.8%\n",
      "--------------------------------------------------\n",
      "flow time: 2825, util : 0.788, makespan : 280\n",
      "n_episode: 121, score : -356.0, n_buffer : 10000, eps : 6.8%\n",
      "--------------------------------------------------\n",
      "flow time: 3274, util : 0.815, makespan : 282\n",
      "n_episode: 122, score : -313.0, n_buffer : 10000, eps : 6.8%\n",
      "--------------------------------------------------\n",
      "flow time: 2923, util : 0.770, makespan : 291\n",
      "n_episode: 123, score : -402.0, n_buffer : 10000, eps : 6.8%\n",
      "--------------------------------------------------\n",
      "flow time: 3321, util : 0.851, makespan : 270\n",
      "n_episode: 124, score : -242.0, n_buffer : 10000, eps : 6.8%\n",
      "--------------------------------------------------\n",
      "flow time: 3274, util : 0.787, makespan : 286\n",
      "n_episode: 125, score : -366.0, n_buffer : 10000, eps : 6.8%\n",
      "--------------------------------------------------\n",
      "flow time: 2967, util : 0.822, makespan : 273\n",
      "n_episode: 126, score : -291.0, n_buffer : 10000, eps : 6.7%\n",
      "--------------------------------------------------\n",
      "flow time: 2850, util : 0.850, makespan : 274\n",
      "n_episode: 127, score : -247.0, n_buffer : 10000, eps : 6.7%\n",
      "--------------------------------------------------\n",
      "flow time: 2860, util : 0.804, makespan : 267\n",
      "n_episode: 128, score : -314.0, n_buffer : 10000, eps : 6.7%\n",
      "--------------------------------------------------\n",
      "flow time: 3233, util : 0.816, makespan : 279\n",
      "n_episode: 129, score : -308.0, n_buffer : 10000, eps : 6.7%\n",
      "--------------------------------------------------\n",
      "flow time: 3239, util : 0.840, makespan : 265\n",
      "n_episode: 130, score : -255.0, n_buffer : 10000, eps : 6.7%\n",
      "--------------------------------------------------\n",
      "flow time: 3179, util : 0.765, makespan : 299\n",
      "n_episode: 131, score : -421.0, n_buffer : 10000, eps : 6.7%\n",
      "--------------------------------------------------\n",
      "flow time: 3162, util : 0.893, makespan : 231\n",
      "n_episode: 132, score : -148.0, n_buffer : 10000, eps : 6.7%\n",
      "--------------------------------------------------\n",
      "flow time: 3164, util : 0.815, makespan : 270\n",
      "n_episode: 133, score : -300.0, n_buffer : 10000, eps : 6.7%\n",
      "--------------------------------------------------\n",
      "flow time: 3305, util : 0.818, makespan : 277\n",
      "n_episode: 134, score : -303.0, n_buffer : 10000, eps : 6.7%\n",
      "--------------------------------------------------\n",
      "flow time: 3333, util : 0.787, makespan : 275\n",
      "n_episode: 135, score : -351.0, n_buffer : 10000, eps : 6.7%\n",
      "--------------------------------------------------\n",
      "flow time: 3762, util : 0.823, makespan : 288\n",
      "n_episode: 136, score : -305.0, n_buffer : 10000, eps : 6.6%\n",
      "--------------------------------------------------\n",
      "flow time: 3526, util : 0.783, makespan : 300\n",
      "n_episode: 137, score : -391.0, n_buffer : 10000, eps : 6.6%\n",
      "--------------------------------------------------\n",
      "flow time: 2953, util : 0.763, makespan : 299\n",
      "n_episode: 138, score : -425.0, n_buffer : 10000, eps : 6.6%\n",
      "--------------------------------------------------\n",
      "flow time: 2876, util : 0.754, makespan : 289\n",
      "n_episode: 139, score : -427.0, n_buffer : 10000, eps : 6.6%\n",
      "--------------------------------------------------\n",
      "flow time: 3101, util : 0.838, makespan : 264\n",
      "n_episode: 140, score : -257.0, n_buffer : 10000, eps : 6.6%\n",
      "--------------------------------------------------\n",
      "flow time: 3394, util : 0.825, makespan : 267\n",
      "n_episode: 141, score : -280.0, n_buffer : 10000, eps : 6.6%\n",
      "--------------------------------------------------\n",
      "flow time: 2910, util : 0.769, makespan : 299\n",
      "n_episode: 142, score : -415.0, n_buffer : 10000, eps : 6.6%\n",
      "--------------------------------------------------\n",
      "flow time: 2983, util : 0.761, makespan : 301\n",
      "n_episode: 143, score : -431.0, n_buffer : 10000, eps : 6.6%\n",
      "--------------------------------------------------\n",
      "flow time: 2988, util : 0.833, makespan : 269\n",
      "n_episode: 144, score : -270.0, n_buffer : 10000, eps : 6.6%\n",
      "--------------------------------------------------\n",
      "flow time: 3179, util : 0.759, makespan : 307\n",
      "n_episode: 145, score : -444.0, n_buffer : 10000, eps : 6.6%\n",
      "--------------------------------------------------\n",
      "flow time: 4127, util : 0.850, makespan : 278\n",
      "n_episode: 146, score : -251.0, n_buffer : 10000, eps : 6.5%\n",
      "--------------------------------------------------\n",
      "flow time: 3045, util : 0.735, makespan : 316\n",
      "n_episode: 147, score : -502.0, n_buffer : 10000, eps : 6.5%\n",
      "--------------------------------------------------\n",
      "flow time: 3237, util : 0.762, makespan : 292\n",
      "n_episode: 148, score : -417.0, n_buffer : 10000, eps : 6.5%\n",
      "--------------------------------------------------\n",
      "flow time: 3326, util : 0.777, makespan : 292\n",
      "n_episode: 149, score : -390.0, n_buffer : 10000, eps : 6.5%\n",
      "--------------------------------------------------\n",
      "flow time: 3601, util : 0.869, makespan : 264\n",
      "n_episode: 150, score : -208.0, n_buffer : 10000, eps : 6.5%\n",
      "--------------------------------------------------\n",
      "flow time: 3370, util : 0.848, makespan : 266\n",
      "n_episode: 151, score : -243.0, n_buffer : 10000, eps : 6.5%\n",
      "--------------------------------------------------\n",
      "flow time: 3359, util : 0.861, makespan : 251\n",
      "n_episode: 152, score : -210.0, n_buffer : 10000, eps : 6.5%\n",
      "--------------------------------------------------\n",
      "flow time: 3908, util : 0.853, makespan : 271\n",
      "n_episode: 153, score : -239.0, n_buffer : 10000, eps : 6.5%\n",
      "--------------------------------------------------\n",
      "flow time: 3474, util : 0.822, makespan : 279\n",
      "n_episode: 154, score : -298.0, n_buffer : 10000, eps : 6.5%\n",
      "--------------------------------------------------\n",
      "flow time: 3191, util : 0.775, makespan : 288\n",
      "n_episode: 155, score : -388.0, n_buffer : 10000, eps : 6.5%\n",
      "--------------------------------------------------\n",
      "flow time: 2843, util : 0.810, makespan : 275\n",
      "n_episode: 156, score : -313.0, n_buffer : 10000, eps : 6.4%\n",
      "--------------------------------------------------\n",
      "flow time: 3202, util : 0.823, makespan : 288\n",
      "n_episode: 157, score : -305.0, n_buffer : 10000, eps : 6.4%\n",
      "--------------------------------------------------\n",
      "flow time: 2958, util : 0.786, makespan : 280\n",
      "n_episode: 158, score : -360.0, n_buffer : 10000, eps : 6.4%\n"
     ]
    },
    {
     "name": "stdout",
     "output_type": "stream",
     "text": [
      "--------------------------------------------------\n",
      "flow time: 3310, util : 0.833, makespan : 270\n",
      "n_episode: 159, score : -270.0, n_buffer : 10000, eps : 6.4%\n",
      "--------------------------------------------------\n",
      "flow time: 3350, util : 0.762, makespan : 293\n",
      "n_episode: 160, score : -419.0, n_buffer : 10000, eps : 6.4%\n",
      "--------------------------------------------------\n",
      "flow time: 2822, util : 0.862, makespan : 265\n",
      "n_episode: 161, score : -220.0, n_buffer : 10000, eps : 6.4%\n",
      "--------------------------------------------------\n",
      "flow time: 2802, util : 0.777, makespan : 283\n",
      "n_episode: 162, score : -378.0, n_buffer : 10000, eps : 6.4%\n",
      "--------------------------------------------------\n",
      "flow time: 3009, util : 0.783, makespan : 287\n",
      "n_episode: 163, score : -374.0, n_buffer : 10000, eps : 6.4%\n",
      "--------------------------------------------------\n",
      "flow time: 2865, util : 0.763, makespan : 293\n",
      "n_episode: 164, score : -417.0, n_buffer : 10000, eps : 6.4%\n",
      "--------------------------------------------------\n",
      "flow time: 2734, util : 0.802, makespan : 279\n",
      "n_episode: 165, score : -331.0, n_buffer : 10000, eps : 6.3%\n",
      "--------------------------------------------------\n",
      "flow time: 2748, util : 0.808, makespan : 272\n",
      "n_episode: 166, score : -314.0, n_buffer : 10000, eps : 6.3%\n",
      "--------------------------------------------------\n",
      "flow time: 2886, util : 0.787, makespan : 299\n",
      "n_episode: 167, score : -382.0, n_buffer : 10000, eps : 6.3%\n",
      "--------------------------------------------------\n",
      "flow time: 3281, util : 0.783, makespan : 293\n",
      "n_episode: 168, score : -382.0, n_buffer : 10000, eps : 6.3%\n",
      "--------------------------------------------------\n",
      "flow time: 3591, util : 0.843, makespan : 262\n",
      "n_episode: 169, score : -247.0, n_buffer : 10000, eps : 6.3%\n",
      "--------------------------------------------------\n",
      "flow time: 3021, util : 0.779, makespan : 293\n",
      "n_episode: 170, score : -388.0, n_buffer : 10000, eps : 6.3%\n",
      "--------------------------------------------------\n",
      "flow time: 2852, util : 0.812, makespan : 286\n",
      "n_episode: 171, score : -322.0, n_buffer : 10000, eps : 6.3%\n",
      "--------------------------------------------------\n",
      "flow time: 2869, util : 0.795, makespan : 287\n",
      "n_episode: 172, score : -353.0, n_buffer : 10000, eps : 6.3%\n",
      "--------------------------------------------------\n",
      "flow time: 3303, util : 0.828, makespan : 276\n",
      "n_episode: 173, score : -285.0, n_buffer : 10000, eps : 6.3%\n",
      "--------------------------------------------------\n",
      "flow time: 3587, util : 0.862, makespan : 258\n",
      "n_episode: 174, score : -214.0, n_buffer : 10000, eps : 6.3%\n",
      "--------------------------------------------------\n",
      "flow time: 2930, util : 0.801, makespan : 265\n",
      "n_episode: 175, score : -316.0, n_buffer : 10000, eps : 6.2%\n",
      "--------------------------------------------------\n",
      "flow time: 3188, util : 0.783, makespan : 280\n",
      "n_episode: 176, score : -365.0, n_buffer : 10000, eps : 6.2%\n",
      "--------------------------------------------------\n",
      "flow time: 3610, util : 0.860, makespan : 272\n",
      "n_episode: 177, score : -228.0, n_buffer : 10000, eps : 6.2%\n",
      "--------------------------------------------------\n",
      "flow time: 2890, util : 0.809, makespan : 278\n",
      "n_episode: 178, score : -318.0, n_buffer : 10000, eps : 6.2%\n",
      "--------------------------------------------------\n",
      "flow time: 2796, util : 0.733, makespan : 306\n",
      "n_episode: 179, score : -490.0, n_buffer : 10000, eps : 6.2%\n",
      "--------------------------------------------------\n",
      "flow time: 2755, util : 0.818, makespan : 279\n",
      "n_episode: 180, score : -304.0, n_buffer : 10000, eps : 6.2%\n",
      "--------------------------------------------------\n",
      "flow time: 2604, util : 0.777, makespan : 278\n",
      "n_episode: 181, score : -372.0, n_buffer : 10000, eps : 6.2%\n",
      "--------------------------------------------------\n",
      "flow time: 2901, util : 0.765, makespan : 285\n",
      "n_episode: 182, score : -402.0, n_buffer : 10000, eps : 6.2%\n",
      "--------------------------------------------------\n",
      "flow time: 2920, util : 0.776, makespan : 294\n",
      "n_episode: 183, score : -395.0, n_buffer : 10000, eps : 6.2%\n",
      "--------------------------------------------------\n",
      "flow time: 2838, util : 0.821, makespan : 265\n",
      "n_episode: 184, score : -284.0, n_buffer : 10000, eps : 6.2%\n",
      "--------------------------------------------------\n",
      "flow time: 2944, util : 0.778, makespan : 287\n",
      "n_episode: 185, score : -382.0, n_buffer : 10000, eps : 6.2%\n",
      "--------------------------------------------------\n",
      "flow time: 2749, util : 0.756, makespan : 289\n",
      "n_episode: 186, score : -423.0, n_buffer : 10000, eps : 6.1%\n",
      "--------------------------------------------------\n",
      "flow time: 2677, util : 0.785, makespan : 274\n",
      "n_episode: 187, score : -354.0, n_buffer : 10000, eps : 6.1%\n",
      "--------------------------------------------------\n",
      "flow time: 2903, util : 0.793, makespan : 297\n",
      "n_episode: 188, score : -368.0, n_buffer : 10000, eps : 6.1%\n",
      "--------------------------------------------------\n",
      "flow time: 2872, util : 0.772, makespan : 295\n",
      "n_episode: 189, score : -404.0, n_buffer : 10000, eps : 6.1%\n",
      "--------------------------------------------------\n",
      "flow time: 2769, util : 0.847, makespan : 252\n",
      "n_episode: 190, score : -232.0, n_buffer : 10000, eps : 6.1%\n",
      "--------------------------------------------------\n",
      "flow time: 2725, util : 0.842, makespan : 263\n",
      "n_episode: 191, score : -250.0, n_buffer : 10000, eps : 6.1%\n",
      "--------------------------------------------------\n",
      "flow time: 2827, util : 0.773, makespan : 289\n",
      "n_episode: 192, score : -393.0, n_buffer : 10000, eps : 6.1%\n",
      "--------------------------------------------------\n",
      "flow time: 2925, util : 0.783, makespan : 278\n",
      "n_episode: 193, score : -362.0, n_buffer : 10000, eps : 6.1%\n",
      "--------------------------------------------------\n",
      "flow time: 3240, util : 0.796, makespan : 284\n",
      "n_episode: 194, score : -347.0, n_buffer : 10000, eps : 6.1%\n",
      "--------------------------------------------------\n",
      "flow time: 2877, util : 0.768, makespan : 301\n",
      "n_episode: 195, score : -419.0, n_buffer : 10000, eps : 6.0%\n",
      "--------------------------------------------------\n",
      "flow time: 2767, util : 0.781, makespan : 295\n",
      "n_episode: 196, score : -388.0, n_buffer : 10000, eps : 6.0%\n",
      "--------------------------------------------------\n",
      "flow time: 2750, util : 0.771, makespan : 292\n",
      "n_episode: 197, score : -401.0, n_buffer : 10000, eps : 6.0%\n",
      "--------------------------------------------------\n",
      "flow time: 3267, util : 0.799, makespan : 279\n",
      "n_episode: 198, score : -337.0, n_buffer : 10000, eps : 6.0%\n",
      "--------------------------------------------------\n",
      "flow time: 2893, util : 0.786, makespan : 280\n",
      "n_episode: 199, score : -359.0, n_buffer : 10000, eps : 6.0%\n",
      "--------------------------------------------------\n",
      "flow time: 3381, util : 0.835, makespan : 263\n",
      "n_episode: 200, score : -260.0, n_buffer : 10000, eps : 6.0%\n",
      "--------------------------------------------------\n",
      "flow time: 2644, util : 0.797, makespan : 273\n",
      "n_episode: 201, score : -333.0, n_buffer : 10000, eps : 6.0%\n",
      "--------------------------------------------------\n",
      "flow time: 2627, util : 0.836, makespan : 266\n",
      "n_episode: 202, score : -261.0, n_buffer : 10000, eps : 6.0%\n",
      "--------------------------------------------------\n",
      "flow time: 2677, util : 0.816, makespan : 274\n",
      "n_episode: 203, score : -302.0, n_buffer : 10000, eps : 6.0%\n",
      "--------------------------------------------------\n",
      "flow time: 2827, util : 0.778, makespan : 293\n",
      "n_episode: 204, score : -390.0, n_buffer : 10000, eps : 6.0%\n",
      "--------------------------------------------------\n",
      "flow time: 2851, util : 0.763, makespan : 300\n",
      "n_episode: 205, score : -426.0, n_buffer : 10000, eps : 6.0%\n",
      "--------------------------------------------------\n",
      "flow time: 2765, util : 0.745, makespan : 292\n",
      "n_episode: 206, score : -447.0, n_buffer : 10000, eps : 5.9%\n",
      "--------------------------------------------------\n",
      "flow time: 2802, util : 0.791, makespan : 296\n",
      "n_episode: 207, score : -371.0, n_buffer : 10000, eps : 5.9%\n",
      "--------------------------------------------------\n",
      "flow time: 2673, util : 0.799, makespan : 278\n",
      "n_episode: 208, score : -336.0, n_buffer : 10000, eps : 5.9%\n",
      "--------------------------------------------------\n",
      "flow time: 2766, util : 0.747, makespan : 299\n",
      "n_episode: 209, score : -454.0, n_buffer : 10000, eps : 5.9%\n",
      "--------------------------------------------------\n",
      "flow time: 2723, util : 0.801, makespan : 275\n",
      "n_episode: 210, score : -329.0, n_buffer : 10000, eps : 5.9%\n"
     ]
    },
    {
     "name": "stdout",
     "output_type": "stream",
     "text": [
      "--------------------------------------------------\n",
      "flow time: 2876, util : 0.800, makespan : 262\n",
      "n_episode: 211, score : -314.0, n_buffer : 10000, eps : 5.9%\n",
      "--------------------------------------------------\n",
      "flow time: 2794, util : 0.776, makespan : 293\n",
      "n_episode: 212, score : -393.0, n_buffer : 10000, eps : 5.9%\n",
      "--------------------------------------------------\n",
      "flow time: 2937, util : 0.805, makespan : 274\n",
      "n_episode: 213, score : -321.0, n_buffer : 10000, eps : 5.9%\n",
      "--------------------------------------------------\n",
      "flow time: 2880, util : 0.879, makespan : 262\n",
      "n_episode: 214, score : -190.0, n_buffer : 10000, eps : 5.9%\n",
      "--------------------------------------------------\n",
      "flow time: 2652, util : 0.768, makespan : 275\n",
      "n_episode: 215, score : -383.0, n_buffer : 10000, eps : 5.9%\n",
      "--------------------------------------------------\n",
      "flow time: 2871, util : 0.779, makespan : 272\n",
      "n_episode: 216, score : -361.0, n_buffer : 10000, eps : 5.8%\n",
      "--------------------------------------------------\n",
      "flow time: 2764, util : 0.755, makespan : 291\n",
      "n_episode: 217, score : -428.0, n_buffer : 10000, eps : 5.8%\n",
      "--------------------------------------------------\n",
      "flow time: 2754, util : 0.802, makespan : 283\n",
      "n_episode: 218, score : -336.0, n_buffer : 10000, eps : 5.8%\n",
      "--------------------------------------------------\n",
      "flow time: 2735, util : 0.760, makespan : 291\n",
      "n_episode: 219, score : -419.0, n_buffer : 10000, eps : 5.8%\n",
      "--------------------------------------------------\n",
      "flow time: 2654, util : 0.755, makespan : 301\n",
      "n_episode: 220, score : -443.0, n_buffer : 10000, eps : 5.8%\n",
      "--------------------------------------------------\n",
      "flow time: 2731, util : 0.847, makespan : 271\n",
      "n_episode: 221, score : -249.0, n_buffer : 10000, eps : 5.8%\n",
      "--------------------------------------------------\n",
      "flow time: 2799, util : 0.760, makespan : 306\n",
      "n_episode: 222, score : -440.0, n_buffer : 10000, eps : 5.8%\n",
      "--------------------------------------------------\n",
      "flow time: 2649, util : 0.797, makespan : 285\n",
      "n_episode: 223, score : -347.0, n_buffer : 10000, eps : 5.8%\n",
      "--------------------------------------------------\n",
      "flow time: 2761, util : 0.851, makespan : 270\n",
      "n_episode: 224, score : -241.0, n_buffer : 10000, eps : 5.8%\n",
      "--------------------------------------------------\n",
      "flow time: 2759, util : 0.779, makespan : 286\n",
      "n_episode: 225, score : -379.0, n_buffer : 10000, eps : 5.8%\n",
      "--------------------------------------------------\n",
      "flow time: 2807, util : 0.841, makespan : 270\n",
      "n_episode: 226, score : -257.0, n_buffer : 10000, eps : 5.7%\n",
      "--------------------------------------------------\n",
      "flow time: 3016, util : 0.788, makespan : 296\n",
      "n_episode: 227, score : -377.0, n_buffer : 10000, eps : 5.7%\n",
      "--------------------------------------------------\n",
      "flow time: 3381, util : 0.786, makespan : 300\n",
      "n_episode: 228, score : -386.0, n_buffer : 10000, eps : 5.7%\n",
      "--------------------------------------------------\n",
      "flow time: 2752, util : 0.772, makespan : 293\n",
      "n_episode: 229, score : -400.0, n_buffer : 10000, eps : 5.7%\n",
      "--------------------------------------------------\n",
      "flow time: 2715, util : 0.749, makespan : 301\n",
      "n_episode: 230, score : -454.0, n_buffer : 10000, eps : 5.7%\n",
      "--------------------------------------------------\n",
      "flow time: 2731, util : 0.740, makespan : 300\n",
      "n_episode: 231, score : -468.0, n_buffer : 10000, eps : 5.7%\n",
      "--------------------------------------------------\n",
      "flow time: 2644, util : 0.778, makespan : 277\n",
      "n_episode: 232, score : -369.0, n_buffer : 10000, eps : 5.7%\n",
      "--------------------------------------------------\n",
      "flow time: 2635, util : 0.774, makespan : 279\n",
      "n_episode: 233, score : -379.0, n_buffer : 10000, eps : 5.7%\n",
      "--------------------------------------------------\n",
      "flow time: 2810, util : 0.719, makespan : 319\n",
      "n_episode: 234, score : -537.0, n_buffer : 10000, eps : 5.7%\n",
      "--------------------------------------------------\n",
      "flow time: 2719, util : 0.789, makespan : 283\n",
      "n_episode: 235, score : -359.0, n_buffer : 10000, eps : 5.7%\n",
      "--------------------------------------------------\n",
      "flow time: 2879, util : 0.752, makespan : 313\n",
      "n_episode: 236, score : -466.0, n_buffer : 10000, eps : 5.6%\n",
      "--------------------------------------------------\n",
      "flow time: 2735, util : 0.767, makespan : 301\n",
      "n_episode: 237, score : -420.0, n_buffer : 10000, eps : 5.6%\n",
      "--------------------------------------------------\n",
      "flow time: 2774, util : 0.751, makespan : 291\n",
      "n_episode: 238, score : -435.0, n_buffer : 10000, eps : 5.6%\n",
      "--------------------------------------------------\n",
      "flow time: 2747, util : 0.839, makespan : 273\n",
      "n_episode: 239, score : -263.0, n_buffer : 10000, eps : 5.6%\n",
      "--------------------------------------------------\n",
      "flow time: 2970, util : 0.764, makespan : 308\n",
      "n_episode: 240, score : -437.0, n_buffer : 10000, eps : 5.6%\n",
      "--------------------------------------------------\n",
      "flow time: 2660, util : 0.763, makespan : 296\n",
      "n_episode: 241, score : -421.0, n_buffer : 10000, eps : 5.6%\n",
      "--------------------------------------------------\n",
      "flow time: 2783, util : 0.791, makespan : 287\n",
      "n_episode: 242, score : -360.0, n_buffer : 10000, eps : 5.6%\n",
      "--------------------------------------------------\n",
      "flow time: 2803, util : 0.822, makespan : 270\n",
      "n_episode: 243, score : -288.0, n_buffer : 10000, eps : 5.6%\n",
      "--------------------------------------------------\n",
      "flow time: 2769, util : 0.801, makespan : 286\n",
      "n_episode: 244, score : -341.0, n_buffer : 10000, eps : 5.6%\n",
      "--------------------------------------------------\n",
      "flow time: 2660, util : 0.810, makespan : 280\n",
      "n_episode: 245, score : -320.0, n_buffer : 10000, eps : 5.5%\n",
      "--------------------------------------------------\n",
      "flow time: 2758, util : 0.744, makespan : 300\n",
      "n_episode: 246, score : -461.0, n_buffer : 10000, eps : 5.5%\n",
      "--------------------------------------------------\n",
      "flow time: 2972, util : 0.774, makespan : 297\n",
      "n_episode: 247, score : -402.0, n_buffer : 10000, eps : 5.5%\n",
      "--------------------------------------------------\n",
      "flow time: 2747, util : 0.778, makespan : 282\n",
      "n_episode: 248, score : -376.0, n_buffer : 10000, eps : 5.5%\n",
      "--------------------------------------------------\n",
      "flow time: 2742, util : 0.732, makespan : 297\n",
      "n_episode: 249, score : -478.0, n_buffer : 10000, eps : 5.5%\n",
      "--------------------------------------------------\n",
      "flow time: 2776, util : 0.722, makespan : 322\n",
      "n_episode: 250, score : -537.0, n_buffer : 10000, eps : 5.5%\n",
      "--------------------------------------------------\n",
      "flow time: 2850, util : 0.817, makespan : 281\n",
      "n_episode: 251, score : -308.0, n_buffer : 10000, eps : 5.5%\n",
      "--------------------------------------------------\n",
      "flow time: 2777, util : 0.732, makespan : 312\n",
      "n_episode: 252, score : -501.0, n_buffer : 10000, eps : 5.5%\n",
      "--------------------------------------------------\n",
      "flow time: 2670, util : 0.794, makespan : 280\n",
      "n_episode: 253, score : -346.0, n_buffer : 10000, eps : 5.5%\n",
      "--------------------------------------------------\n",
      "flow time: 2641, util : 0.728, makespan : 301\n",
      "n_episode: 254, score : -491.0, n_buffer : 10000, eps : 5.5%\n",
      "--------------------------------------------------\n",
      "flow time: 2769, util : 0.831, makespan : 272\n",
      "n_episode: 255, score : -276.0, n_buffer : 10000, eps : 5.5%\n",
      "--------------------------------------------------\n",
      "flow time: 2692, util : 0.780, makespan : 286\n",
      "n_episode: 256, score : -378.0, n_buffer : 10000, eps : 5.4%\n",
      "--------------------------------------------------\n",
      "flow time: 2899, util : 0.825, makespan : 295\n",
      "n_episode: 257, score : -309.0, n_buffer : 10000, eps : 5.4%\n",
      "--------------------------------------------------\n",
      "flow time: 2774, util : 0.793, makespan : 279\n",
      "n_episode: 258, score : -347.0, n_buffer : 10000, eps : 5.4%\n",
      "--------------------------------------------------\n",
      "flow time: 2888, util : 0.755, makespan : 308\n",
      "n_episode: 259, score : -453.0, n_buffer : 10000, eps : 5.4%\n",
      "--------------------------------------------------\n",
      "flow time: 2633, util : 0.787, makespan : 279\n",
      "n_episode: 260, score : -357.0, n_buffer : 10000, eps : 5.4%\n",
      "--------------------------------------------------\n",
      "flow time: 2638, util : 0.746, makespan : 295\n",
      "n_episode: 261, score : -449.0, n_buffer : 10000, eps : 5.4%\n",
      "--------------------------------------------------\n",
      "flow time: 2686, util : 0.800, makespan : 286\n",
      "n_episode: 262, score : -343.0, n_buffer : 10000, eps : 5.4%\n"
     ]
    },
    {
     "name": "stdout",
     "output_type": "stream",
     "text": [
      "--------------------------------------------------\n",
      "flow time: 2687, util : 0.811, makespan : 281\n",
      "n_episode: 263, score : -319.0, n_buffer : 10000, eps : 5.4%\n",
      "--------------------------------------------------\n",
      "flow time: 2727, util : 0.721, makespan : 310\n",
      "n_episode: 264, score : -519.0, n_buffer : 10000, eps : 5.4%\n",
      "--------------------------------------------------\n",
      "flow time: 2784, util : 0.756, makespan : 299\n",
      "n_episode: 265, score : -438.0, n_buffer : 10000, eps : 5.4%\n",
      "--------------------------------------------------\n",
      "flow time: 2649, util : 0.797, makespan : 285\n",
      "n_episode: 266, score : -347.0, n_buffer : 10000, eps : 5.3%\n",
      "--------------------------------------------------\n",
      "flow time: 2884, util : 0.787, makespan : 298\n",
      "n_episode: 267, score : -381.0, n_buffer : 10000, eps : 5.3%\n",
      "--------------------------------------------------\n",
      "flow time: 2676, util : 0.747, makespan : 296\n",
      "n_episode: 268, score : -449.0, n_buffer : 10000, eps : 5.3%\n",
      "--------------------------------------------------\n",
      "flow time: 3021, util : 0.792, makespan : 289\n",
      "n_episode: 269, score : -360.0, n_buffer : 10000, eps : 5.3%\n",
      "--------------------------------------------------\n",
      "flow time: 3107, util : 0.803, makespan : 293\n",
      "n_episode: 270, score : -347.0, n_buffer : 10000, eps : 5.3%\n",
      "--------------------------------------------------\n",
      "flow time: 2948, util : 0.782, makespan : 290\n",
      "n_episode: 271, score : -379.0, n_buffer : 10000, eps : 5.3%\n",
      "--------------------------------------------------\n",
      "flow time: 2861, util : 0.815, makespan : 285\n",
      "n_episode: 272, score : -317.0, n_buffer : 10000, eps : 5.3%\n",
      "--------------------------------------------------\n",
      "flow time: 2701, util : 0.793, makespan : 286\n",
      "n_episode: 273, score : -356.0, n_buffer : 10000, eps : 5.3%\n",
      "--------------------------------------------------\n",
      "flow time: 2803, util : 0.768, makespan : 297\n",
      "n_episode: 274, score : -413.0, n_buffer : 10000, eps : 5.3%\n",
      "--------------------------------------------------\n",
      "flow time: 2798, util : 0.758, makespan : 300\n",
      "n_episode: 275, score : -436.0, n_buffer : 10000, eps : 5.3%\n",
      "--------------------------------------------------\n",
      "flow time: 2919, util : 0.746, makespan : 322\n",
      "n_episode: 276, score : -491.0, n_buffer : 10000, eps : 5.2%\n",
      "--------------------------------------------------\n",
      "flow time: 2806, util : 0.741, makespan : 306\n",
      "n_episode: 277, score : -475.0, n_buffer : 10000, eps : 5.2%\n",
      "--------------------------------------------------\n",
      "flow time: 2706, util : 0.811, makespan : 271\n",
      "n_episode: 278, score : -308.0, n_buffer : 10000, eps : 5.2%\n",
      "--------------------------------------------------\n",
      "flow time: 2837, util : 0.804, makespan : 282\n",
      "n_episode: 279, score : -331.0, n_buffer : 10000, eps : 5.2%\n",
      "--------------------------------------------------\n",
      "flow time: 2669, util : 0.788, makespan : 278\n",
      "n_episode: 280, score : -354.0, n_buffer : 10000, eps : 5.2%\n",
      "--------------------------------------------------\n",
      "flow time: 2759, util : 0.801, makespan : 287\n",
      "n_episode: 281, score : -343.0, n_buffer : 10000, eps : 5.2%\n",
      "--------------------------------------------------\n",
      "flow time: 2728, util : 0.793, makespan : 274\n",
      "n_episode: 282, score : -340.0, n_buffer : 10000, eps : 5.2%\n",
      "--------------------------------------------------\n",
      "flow time: 2701, util : 0.828, makespan : 268\n",
      "n_episode: 283, score : -276.0, n_buffer : 10000, eps : 5.2%\n",
      "--------------------------------------------------\n",
      "flow time: 2885, util : 0.797, makespan : 292\n",
      "n_episode: 284, score : -356.0, n_buffer : 10000, eps : 5.2%\n",
      "--------------------------------------------------\n",
      "flow time: 2684, util : 0.756, makespan : 295\n",
      "n_episode: 285, score : -431.0, n_buffer : 10000, eps : 5.2%\n",
      "--------------------------------------------------\n",
      "flow time: 2666, util : 0.807, makespan : 277\n",
      "n_episode: 286, score : -321.0, n_buffer : 10000, eps : 5.1%\n",
      "--------------------------------------------------\n",
      "flow time: 2993, util : 0.804, makespan : 290\n",
      "n_episode: 287, score : -341.0, n_buffer : 10000, eps : 5.1%\n",
      "--------------------------------------------------\n",
      "flow time: 2903, util : 0.801, makespan : 280\n",
      "n_episode: 288, score : -334.0, n_buffer : 10000, eps : 5.1%\n",
      "--------------------------------------------------\n",
      "flow time: 2782, util : 0.782, makespan : 294\n",
      "n_episode: 289, score : -385.0, n_buffer : 10000, eps : 5.1%\n",
      "--------------------------------------------------\n",
      "flow time: 2703, util : 0.722, makespan : 307\n",
      "n_episode: 290, score : -512.0, n_buffer : 10000, eps : 5.1%\n",
      "--------------------------------------------------\n",
      "flow time: 2667, util : 0.807, makespan : 268\n",
      "n_episode: 291, score : -310.0, n_buffer : 10000, eps : 5.1%\n",
      "--------------------------------------------------\n",
      "flow time: 2669, util : 0.722, makespan : 295\n",
      "n_episode: 292, score : -492.0, n_buffer : 10000, eps : 5.1%\n",
      "--------------------------------------------------\n",
      "flow time: 2780, util : 0.765, makespan : 293\n",
      "n_episode: 293, score : -414.0, n_buffer : 10000, eps : 5.1%\n",
      "--------------------------------------------------\n",
      "flow time: 2649, util : 0.797, makespan : 285\n",
      "n_episode: 294, score : -347.0, n_buffer : 10000, eps : 5.1%\n",
      "--------------------------------------------------\n",
      "flow time: 2844, util : 0.802, makespan : 289\n",
      "n_episode: 295, score : -344.0, n_buffer : 10000, eps : 5.1%\n",
      "--------------------------------------------------\n",
      "flow time: 2664, util : 0.754, makespan : 283\n",
      "n_episode: 296, score : -418.0, n_buffer : 10000, eps : 5.0%\n",
      "--------------------------------------------------\n",
      "flow time: 3174, util : 0.796, makespan : 292\n",
      "n_episode: 297, score : -358.0, n_buffer : 10000, eps : 5.0%\n",
      "--------------------------------------------------\n",
      "flow time: 2871, util : 0.825, makespan : 282\n",
      "n_episode: 298, score : -296.0, n_buffer : 10000, eps : 5.0%\n",
      "--------------------------------------------------\n",
      "flow time: 2910, util : 0.757, makespan : 309\n",
      "n_episode: 299, score : -450.0, n_buffer : 10000, eps : 5.0%\n",
      "--------------------------------------------------\n",
      "flow time: 2796, util : 0.694, makespan : 328\n",
      "n_episode: 300, score : -602.0, n_buffer : 10000, eps : 5.0%\n",
      "--------------------------------------------------\n",
      "flow time: 2733, util : 0.828, makespan : 277\n",
      "n_episode: 301, score : -286.0, n_buffer : 10000, eps : 5.0%\n",
      "--------------------------------------------------\n",
      "flow time: 2724, util : 0.783, makespan : 288\n",
      "n_episode: 302, score : -375.0, n_buffer : 10000, eps : 5.0%\n",
      "--------------------------------------------------\n",
      "flow time: 2604, util : 0.751, makespan : 284\n",
      "n_episode: 303, score : -425.0, n_buffer : 10000, eps : 5.0%\n",
      "--------------------------------------------------\n",
      "flow time: 2865, util : 0.775, makespan : 294\n",
      "n_episode: 304, score : -397.0, n_buffer : 10000, eps : 5.0%\n",
      "--------------------------------------------------\n",
      "flow time: 2674, util : 0.796, makespan : 275\n",
      "n_episode: 305, score : -337.0, n_buffer : 10000, eps : 5.0%\n",
      "--------------------------------------------------\n",
      "flow time: 2891, util : 0.857, makespan : 263\n",
      "n_episode: 306, score : -226.0, n_buffer : 10000, eps : 4.9%\n",
      "--------------------------------------------------\n",
      "flow time: 2966, util : 0.872, makespan : 269\n",
      "n_episode: 307, score : -206.0, n_buffer : 10000, eps : 4.9%\n",
      "--------------------------------------------------\n",
      "flow time: 2760, util : 0.825, makespan : 263\n",
      "n_episode: 308, score : -276.0, n_buffer : 10000, eps : 4.9%\n",
      "--------------------------------------------------\n",
      "flow time: 2766, util : 0.755, makespan : 301\n",
      "n_episode: 309, score : -442.0, n_buffer : 10000, eps : 4.9%\n",
      "--------------------------------------------------\n",
      "flow time: 2774, util : 0.818, makespan : 277\n",
      "n_episode: 310, score : -303.0, n_buffer : 10000, eps : 4.9%\n",
      "--------------------------------------------------\n",
      "flow time: 2891, util : 0.755, makespan : 307\n",
      "n_episode: 311, score : -452.0, n_buffer : 10000, eps : 4.9%\n",
      "--------------------------------------------------\n",
      "flow time: 2851, util : 0.828, makespan : 271\n",
      "n_episode: 312, score : -279.0, n_buffer : 10000, eps : 4.9%\n",
      "--------------------------------------------------\n",
      "flow time: 2716, util : 0.753, makespan : 292\n",
      "n_episode: 313, score : -433.0, n_buffer : 10000, eps : 4.9%\n",
      "--------------------------------------------------\n",
      "flow time: 2641, util : 0.764, makespan : 288\n",
      "n_episode: 314, score : -408.0, n_buffer : 10000, eps : 4.9%\n"
     ]
    },
    {
     "name": "stdout",
     "output_type": "stream",
     "text": [
      "--------------------------------------------------\n",
      "flow time: 2735, util : 0.768, makespan : 293\n",
      "n_episode: 315, score : -407.0, n_buffer : 10000, eps : 4.9%\n",
      "--------------------------------------------------\n",
      "flow time: 2752, util : 0.744, makespan : 296\n",
      "n_episode: 316, score : -455.0, n_buffer : 10000, eps : 4.8%\n",
      "--------------------------------------------------\n",
      "flow time: 2765, util : 0.819, makespan : 269\n",
      "n_episode: 317, score : -292.0, n_buffer : 10000, eps : 4.8%\n",
      "--------------------------------------------------\n",
      "flow time: 2923, util : 0.776, makespan : 304\n",
      "n_episode: 318, score : -409.0, n_buffer : 10000, eps : 4.8%\n",
      "--------------------------------------------------\n",
      "flow time: 2698, util : 0.841, makespan : 263\n",
      "n_episode: 319, score : -251.0, n_buffer : 10000, eps : 4.8%\n",
      "--------------------------------------------------\n",
      "flow time: 2649, util : 0.818, makespan : 265\n",
      "n_episode: 320, score : -290.0, n_buffer : 10000, eps : 4.8%\n",
      "--------------------------------------------------\n",
      "flow time: 2792, util : 0.846, makespan : 267\n",
      "n_episode: 321, score : -246.0, n_buffer : 10000, eps : 4.8%\n",
      "--------------------------------------------------\n",
      "flow time: 2779, util : 0.739, makespan : 307\n",
      "n_episode: 322, score : -480.0, n_buffer : 10000, eps : 4.8%\n",
      "--------------------------------------------------\n",
      "flow time: 2802, util : 0.776, makespan : 301\n",
      "n_episode: 323, score : -404.0, n_buffer : 10000, eps : 4.8%\n",
      "--------------------------------------------------\n",
      "flow time: 2817, util : 0.705, makespan : 321\n",
      "n_episode: 324, score : -568.0, n_buffer : 10000, eps : 4.8%\n",
      "--------------------------------------------------\n",
      "flow time: 2720, util : 0.750, makespan : 300\n",
      "n_episode: 325, score : -450.0, n_buffer : 10000, eps : 4.8%\n",
      "--------------------------------------------------\n",
      "flow time: 3011, util : 0.793, makespan : 280\n",
      "n_episode: 326, score : -347.0, n_buffer : 10000, eps : 4.7%\n",
      "--------------------------------------------------\n",
      "flow time: 2747, util : 0.743, makespan : 300\n",
      "n_episode: 327, score : -462.0, n_buffer : 10000, eps : 4.7%\n",
      "--------------------------------------------------\n",
      "flow time: 2667, util : 0.767, makespan : 283\n",
      "n_episode: 328, score : -395.0, n_buffer : 10000, eps : 4.7%\n",
      "--------------------------------------------------\n",
      "flow time: 2805, util : 0.836, makespan : 272\n",
      "n_episode: 329, score : -267.0, n_buffer : 10000, eps : 4.7%\n",
      "--------------------------------------------------\n",
      "flow time: 2742, util : 0.775, makespan : 298\n",
      "n_episode: 330, score : -403.0, n_buffer : 10000, eps : 4.7%\n",
      "--------------------------------------------------\n",
      "flow time: 2774, util : 0.751, makespan : 299\n",
      "n_episode: 331, score : -447.0, n_buffer : 10000, eps : 4.7%\n",
      "--------------------------------------------------\n",
      "flow time: 2746, util : 0.798, makespan : 279\n",
      "n_episode: 332, score : -338.0, n_buffer : 10000, eps : 4.7%\n",
      "--------------------------------------------------\n",
      "flow time: 2758, util : 0.767, makespan : 298\n",
      "n_episode: 333, score : -416.0, n_buffer : 10000, eps : 4.7%\n",
      "--------------------------------------------------\n",
      "flow time: 3001, util : 0.841, makespan : 285\n",
      "n_episode: 334, score : -272.0, n_buffer : 10000, eps : 4.7%\n",
      "--------------------------------------------------\n",
      "flow time: 2670, util : 0.775, makespan : 278\n",
      "n_episode: 335, score : -376.0, n_buffer : 10000, eps : 4.7%\n",
      "--------------------------------------------------\n",
      "flow time: 2722, util : 0.712, makespan : 311\n",
      "n_episode: 336, score : -538.0, n_buffer : 10000, eps : 4.6%\n",
      "--------------------------------------------------\n",
      "flow time: 2689, util : 0.792, makespan : 281\n",
      "n_episode: 337, score : -351.0, n_buffer : 10000, eps : 4.6%\n",
      "--------------------------------------------------\n",
      "flow time: 2613, util : 0.771, makespan : 283\n",
      "n_episode: 338, score : -388.0, n_buffer : 10000, eps : 4.6%\n",
      "--------------------------------------------------\n",
      "flow time: 2700, util : 0.753, makespan : 302\n",
      "n_episode: 339, score : -447.0, n_buffer : 10000, eps : 4.6%\n",
      "--------------------------------------------------\n",
      "flow time: 2986, util : 0.736, makespan : 319\n",
      "n_episode: 340, score : -505.0, n_buffer : 10000, eps : 4.6%\n",
      "--------------------------------------------------\n",
      "flow time: 2783, util : 0.786, makespan : 288\n",
      "n_episode: 341, score : -370.0, n_buffer : 10000, eps : 4.6%\n",
      "--------------------------------------------------\n",
      "flow time: 2776, util : 0.759, makespan : 304\n",
      "n_episode: 342, score : -439.0, n_buffer : 10000, eps : 4.6%\n",
      "--------------------------------------------------\n",
      "flow time: 2739, util : 0.818, makespan : 279\n",
      "n_episode: 343, score : -304.0, n_buffer : 10000, eps : 4.6%\n",
      "--------------------------------------------------\n",
      "flow time: 2686, util : 0.799, makespan : 279\n",
      "n_episode: 344, score : -337.0, n_buffer : 10000, eps : 4.6%\n",
      "--------------------------------------------------\n",
      "flow time: 2969, util : 0.819, makespan : 276\n",
      "n_episode: 345, score : -300.0, n_buffer : 10000, eps : 4.5%\n",
      "--------------------------------------------------\n",
      "flow time: 3241, util : 0.833, makespan : 277\n",
      "n_episode: 346, score : -278.0, n_buffer : 10000, eps : 4.5%\n",
      "--------------------------------------------------\n",
      "flow time: 3175, util : 0.821, makespan : 281\n",
      "n_episode: 347, score : -302.0, n_buffer : 10000, eps : 4.5%\n",
      "--------------------------------------------------\n",
      "flow time: 2783, util : 0.791, makespan : 281\n",
      "n_episode: 348, score : -352.0, n_buffer : 10000, eps : 4.5%\n",
      "--------------------------------------------------\n",
      "flow time: 2666, util : 0.826, makespan : 272\n",
      "n_episode: 349, score : -284.0, n_buffer : 10000, eps : 4.5%\n",
      "--------------------------------------------------\n",
      "flow time: 2662, util : 0.792, makespan : 283\n",
      "n_episode: 350, score : -353.0, n_buffer : 10000, eps : 4.5%\n",
      "--------------------------------------------------\n",
      "flow time: 2750, util : 0.788, makespan : 286\n",
      "n_episode: 351, score : -364.0, n_buffer : 10000, eps : 4.5%\n",
      "--------------------------------------------------\n",
      "flow time: 2742, util : 0.769, makespan : 292\n",
      "n_episode: 352, score : -404.0, n_buffer : 10000, eps : 4.5%\n",
      "--------------------------------------------------\n",
      "flow time: 2590, util : 0.776, makespan : 277\n",
      "n_episode: 353, score : -373.0, n_buffer : 10000, eps : 4.5%\n",
      "--------------------------------------------------\n",
      "flow time: 2742, util : 0.775, makespan : 298\n",
      "n_episode: 354, score : -403.0, n_buffer : 10000, eps : 4.5%\n",
      "--------------------------------------------------\n",
      "flow time: 2701, util : 0.785, makespan : 285\n",
      "n_episode: 355, score : -368.0, n_buffer : 10000, eps : 4.5%\n",
      "--------------------------------------------------\n",
      "flow time: 2758, util : 0.751, makespan : 293\n",
      "n_episode: 356, score : -437.0, n_buffer : 10000, eps : 4.4%\n",
      "--------------------------------------------------\n",
      "flow time: 2704, util : 0.800, makespan : 258\n",
      "n_episode: 357, score : -309.0, n_buffer : 10000, eps : 4.4%\n",
      "--------------------------------------------------\n",
      "flow time: 2749, util : 0.764, makespan : 295\n",
      "n_episode: 358, score : -418.0, n_buffer : 10000, eps : 4.4%\n",
      "--------------------------------------------------\n",
      "flow time: 2702, util : 0.801, makespan : 289\n",
      "n_episode: 359, score : -345.0, n_buffer : 10000, eps : 4.4%\n",
      "--------------------------------------------------\n",
      "flow time: 2649, util : 0.797, makespan : 285\n",
      "n_episode: 360, score : -347.0, n_buffer : 10000, eps : 4.4%\n",
      "--------------------------------------------------\n",
      "flow time: 3163, util : 0.850, makespan : 269\n",
      "n_episode: 361, score : -242.0, n_buffer : 10000, eps : 4.4%\n",
      "--------------------------------------------------\n",
      "flow time: 3057, util : 0.861, makespan : 255\n",
      "n_episode: 362, score : -212.0, n_buffer : 10000, eps : 4.4%\n",
      "--------------------------------------------------\n",
      "flow time: 2674, util : 0.771, makespan : 288\n",
      "n_episode: 363, score : -396.0, n_buffer : 10000, eps : 4.4%\n",
      "--------------------------------------------------\n",
      "flow time: 2590, util : 0.782, makespan : 277\n",
      "n_episode: 364, score : -363.0, n_buffer : 10000, eps : 4.4%\n",
      "--------------------------------------------------\n",
      "flow time: 2705, util : 0.827, makespan : 269\n",
      "n_episode: 365, score : -279.0, n_buffer : 10000, eps : 4.4%\n",
      "--------------------------------------------------\n",
      "flow time: 2778, util : 0.796, makespan : 277\n",
      "n_episode: 366, score : -339.0, n_buffer : 10000, eps : 4.3%\n"
     ]
    },
    {
     "name": "stdout",
     "output_type": "stream",
     "text": [
      "--------------------------------------------------\n",
      "flow time: 2696, util : 0.742, makespan : 305\n",
      "n_episode: 367, score : -473.0, n_buffer : 10000, eps : 4.3%\n",
      "--------------------------------------------------\n",
      "flow time: 2826, util : 0.812, makespan : 271\n",
      "n_episode: 368, score : -306.0, n_buffer : 10000, eps : 4.3%\n",
      "--------------------------------------------------\n",
      "flow time: 2737, util : 0.790, makespan : 290\n",
      "n_episode: 369, score : -365.0, n_buffer : 10000, eps : 4.3%\n",
      "--------------------------------------------------\n",
      "flow time: 2958, util : 0.797, makespan : 268\n",
      "n_episode: 370, score : -327.0, n_buffer : 10000, eps : 4.3%\n",
      "--------------------------------------------------\n",
      "flow time: 3004, util : 0.790, makespan : 252\n",
      "n_episode: 371, score : -318.0, n_buffer : 10000, eps : 4.3%\n",
      "--------------------------------------------------\n",
      "flow time: 2770, util : 0.771, makespan : 292\n",
      "n_episode: 372, score : -401.0, n_buffer : 10000, eps : 4.3%\n",
      "--------------------------------------------------\n",
      "flow time: 2843, util : 0.769, makespan : 289\n",
      "n_episode: 373, score : -400.0, n_buffer : 10000, eps : 4.3%\n",
      "--------------------------------------------------\n",
      "flow time: 3033, util : 0.817, makespan : 262\n",
      "n_episode: 374, score : -288.0, n_buffer : 10000, eps : 4.3%\n",
      "--------------------------------------------------\n",
      "flow time: 2958, util : 0.809, makespan : 264\n",
      "n_episode: 375, score : -303.0, n_buffer : 10000, eps : 4.2%\n",
      "--------------------------------------------------\n",
      "flow time: 3028, util : 0.861, makespan : 253\n",
      "n_episode: 376, score : -211.0, n_buffer : 10000, eps : 4.2%\n",
      "--------------------------------------------------\n",
      "flow time: 2649, util : 0.797, makespan : 285\n",
      "n_episode: 377, score : -347.0, n_buffer : 10000, eps : 4.2%\n",
      "--------------------------------------------------\n",
      "flow time: 2696, util : 0.755, makespan : 296\n",
      "n_episode: 378, score : -436.0, n_buffer : 10000, eps : 4.2%\n",
      "--------------------------------------------------\n",
      "flow time: 2735, util : 0.742, makespan : 307\n",
      "n_episode: 379, score : -475.0, n_buffer : 10000, eps : 4.2%\n",
      "--------------------------------------------------\n",
      "flow time: 2793, util : 0.755, makespan : 305\n",
      "n_episode: 380, score : -448.0, n_buffer : 10000, eps : 4.2%\n",
      "--------------------------------------------------\n",
      "flow time: 2951, util : 0.784, makespan : 305\n",
      "n_episode: 381, score : -396.0, n_buffer : 10000, eps : 4.2%\n",
      "--------------------------------------------------\n",
      "flow time: 3322, util : 0.839, makespan : 267\n",
      "n_episode: 382, score : -258.0, n_buffer : 10000, eps : 4.2%\n",
      "--------------------------------------------------\n",
      "flow time: 3514, util : 0.862, makespan : 256\n",
      "n_episode: 383, score : -212.0, n_buffer : 10000, eps : 4.2%\n",
      "--------------------------------------------------\n",
      "flow time: 3252, util : 0.867, makespan : 257\n",
      "n_episode: 384, score : -205.0, n_buffer : 10000, eps : 4.2%\n",
      "--------------------------------------------------\n",
      "flow time: 3136, util : 0.802, makespan : 289\n",
      "n_episode: 385, score : -344.0, n_buffer : 10000, eps : 4.2%\n",
      "--------------------------------------------------\n",
      "flow time: 2787, util : 0.776, makespan : 291\n",
      "n_episode: 386, score : -391.0, n_buffer : 10000, eps : 4.1%\n",
      "--------------------------------------------------\n",
      "flow time: 3065, util : 0.781, makespan : 290\n",
      "n_episode: 387, score : -381.0, n_buffer : 10000, eps : 4.1%\n",
      "--------------------------------------------------\n",
      "flow time: 3114, util : 0.878, makespan : 259\n",
      "n_episode: 388, score : -190.0, n_buffer : 10000, eps : 4.1%\n",
      "--------------------------------------------------\n",
      "flow time: 2731, util : 0.760, makespan : 292\n",
      "n_episode: 389, score : -421.0, n_buffer : 10000, eps : 4.1%\n",
      "--------------------------------------------------\n",
      "flow time: 2810, util : 0.832, makespan : 269\n",
      "n_episode: 390, score : -271.0, n_buffer : 10000, eps : 4.1%\n",
      "--------------------------------------------------\n",
      "flow time: 2620, util : 0.814, makespan : 269\n",
      "n_episode: 391, score : -301.0, n_buffer : 10000, eps : 4.1%\n",
      "--------------------------------------------------\n",
      "flow time: 2807, util : 0.756, makespan : 298\n",
      "n_episode: 392, score : -437.0, n_buffer : 10000, eps : 4.1%\n",
      "--------------------------------------------------\n",
      "flow time: 2731, util : 0.790, makespan : 281\n",
      "n_episode: 393, score : -354.0, n_buffer : 10000, eps : 4.1%\n",
      "--------------------------------------------------\n",
      "flow time: 2777, util : 0.856, makespan : 269\n",
      "n_episode: 394, score : -232.0, n_buffer : 10000, eps : 4.1%\n",
      "--------------------------------------------------\n",
      "flow time: 2663, util : 0.795, makespan : 285\n",
      "n_episode: 395, score : -350.0, n_buffer : 10000, eps : 4.0%\n",
      "--------------------------------------------------\n",
      "flow time: 3216, util : 0.824, makespan : 284\n",
      "n_episode: 396, score : -300.0, n_buffer : 10000, eps : 4.0%\n",
      "--------------------------------------------------\n",
      "flow time: 2824, util : 0.733, makespan : 316\n",
      "n_episode: 397, score : -506.0, n_buffer : 10000, eps : 4.0%\n",
      "--------------------------------------------------\n",
      "flow time: 3597, util : 0.860, makespan : 267\n",
      "n_episode: 398, score : -224.0, n_buffer : 10000, eps : 4.0%\n",
      "--------------------------------------------------\n",
      "flow time: 2660, util : 0.782, makespan : 288\n",
      "n_episode: 399, score : -377.0, n_buffer : 10000, eps : 4.0%\n",
      "--------------------------------------------------\n",
      "flow time: 3440, util : 0.781, makespan : 270\n",
      "n_episode: 400, score : -354.0, n_buffer : 10000, eps : 4.0%\n",
      "--------------------------------------------------\n",
      "flow time: 3187, util : 0.860, makespan : 260\n",
      "n_episode: 401, score : -219.0, n_buffer : 10000, eps : 4.0%\n",
      "--------------------------------------------------\n",
      "flow time: 2854, util : 0.767, makespan : 296\n",
      "n_episode: 402, score : -413.0, n_buffer : 10000, eps : 4.0%\n",
      "--------------------------------------------------\n",
      "flow time: 2738, util : 0.718, makespan : 307\n",
      "n_episode: 403, score : -520.0, n_buffer : 10000, eps : 4.0%\n",
      "--------------------------------------------------\n",
      "flow time: 2688, util : 0.794, makespan : 287\n",
      "n_episode: 404, score : -355.0, n_buffer : 10000, eps : 4.0%\n",
      "--------------------------------------------------\n",
      "flow time: 2666, util : 0.807, makespan : 277\n",
      "n_episode: 405, score : -321.0, n_buffer : 10000, eps : 4.0%\n",
      "--------------------------------------------------\n",
      "flow time: 2828, util : 0.774, makespan : 303\n",
      "n_episode: 406, score : -411.0, n_buffer : 10000, eps : 3.9%\n",
      "--------------------------------------------------\n",
      "flow time: 2840, util : 0.753, makespan : 300\n",
      "n_episode: 407, score : -445.0, n_buffer : 10000, eps : 3.9%\n",
      "--------------------------------------------------\n",
      "flow time: 3271, util : 0.849, makespan : 266\n",
      "n_episode: 408, score : -241.0, n_buffer : 10000, eps : 3.9%\n",
      "--------------------------------------------------\n",
      "flow time: 3636, util : 0.848, makespan : 254\n",
      "n_episode: 409, score : -232.0, n_buffer : 10000, eps : 3.9%\n",
      "--------------------------------------------------\n",
      "flow time: 3755, util : 0.845, makespan : 268\n",
      "n_episode: 410, score : -249.0, n_buffer : 10000, eps : 3.9%\n",
      "--------------------------------------------------\n",
      "flow time: 3992, util : 0.827, makespan : 272\n",
      "n_episode: 411, score : -283.0, n_buffer : 10000, eps : 3.9%\n",
      "--------------------------------------------------\n",
      "flow time: 3265, util : 0.793, makespan : 291\n",
      "n_episode: 412, score : -362.0, n_buffer : 10000, eps : 3.9%\n",
      "--------------------------------------------------\n",
      "flow time: 3471, util : 0.837, makespan : 287\n",
      "n_episode: 413, score : -281.0, n_buffer : 10000, eps : 3.9%\n",
      "--------------------------------------------------\n",
      "flow time: 3674, util : 0.829, makespan : 292\n",
      "n_episode: 414, score : -299.0, n_buffer : 10000, eps : 3.9%\n",
      "--------------------------------------------------\n",
      "flow time: 2740, util : 0.753, makespan : 304\n",
      "n_episode: 415, score : -450.0, n_buffer : 10000, eps : 3.9%\n",
      "--------------------------------------------------\n",
      "flow time: 2872, util : 0.822, makespan : 275\n",
      "n_episode: 416, score : -293.0, n_buffer : 10000, eps : 3.8%\n",
      "--------------------------------------------------\n",
      "flow time: 2649, util : 0.797, makespan : 285\n",
      "n_episode: 417, score : -347.0, n_buffer : 10000, eps : 3.8%\n",
      "--------------------------------------------------\n",
      "flow time: 2910, util : 0.763, makespan : 298\n",
      "n_episode: 418, score : -424.0, n_buffer : 10000, eps : 3.8%\n"
     ]
    },
    {
     "name": "stdout",
     "output_type": "stream",
     "text": [
      "--------------------------------------------------\n",
      "flow time: 2870, util : 0.781, makespan : 306\n",
      "n_episode: 419, score : -403.0, n_buffer : 10000, eps : 3.8%\n",
      "--------------------------------------------------\n",
      "flow time: 2874, util : 0.762, makespan : 308\n",
      "n_episode: 420, score : -439.0, n_buffer : 10000, eps : 3.8%\n",
      "--------------------------------------------------\n",
      "flow time: 2662, util : 0.737, makespan : 298\n",
      "n_episode: 421, score : -470.0, n_buffer : 10000, eps : 3.8%\n",
      "--------------------------------------------------\n",
      "flow time: 2895, util : 0.770, makespan : 279\n",
      "n_episode: 422, score : -385.0, n_buffer : 10000, eps : 3.8%\n",
      "--------------------------------------------------\n",
      "flow time: 2895, util : 0.764, makespan : 301\n",
      "n_episode: 423, score : -426.0, n_buffer : 10000, eps : 3.8%\n",
      "--------------------------------------------------\n",
      "flow time: 2954, util : 0.779, makespan : 304\n",
      "n_episode: 424, score : -404.0, n_buffer : 10000, eps : 3.8%\n",
      "--------------------------------------------------\n",
      "flow time: 3031, util : 0.853, makespan : 273\n",
      "n_episode: 425, score : -240.0, n_buffer : 10000, eps : 3.8%\n",
      "--------------------------------------------------\n",
      "flow time: 2998, util : 0.784, makespan : 292\n",
      "n_episode: 426, score : -378.0, n_buffer : 10000, eps : 3.7%\n",
      "--------------------------------------------------\n",
      "flow time: 2908, util : 0.787, makespan : 299\n",
      "n_episode: 427, score : -382.0, n_buffer : 10000, eps : 3.7%\n",
      "--------------------------------------------------\n",
      "flow time: 2946, util : 0.814, makespan : 286\n",
      "n_episode: 428, score : -320.0, n_buffer : 10000, eps : 3.7%\n",
      "--------------------------------------------------\n",
      "flow time: 3102, util : 0.800, makespan : 283\n",
      "n_episode: 429, score : -340.0, n_buffer : 10000, eps : 3.7%\n",
      "--------------------------------------------------\n",
      "flow time: 2748, util : 0.729, makespan : 312\n",
      "n_episode: 430, score : -508.0, n_buffer : 10000, eps : 3.7%\n",
      "--------------------------------------------------\n",
      "flow time: 2804, util : 0.789, makespan : 289\n",
      "n_episode: 431, score : -366.0, n_buffer : 10000, eps : 3.7%\n",
      "--------------------------------------------------\n",
      "flow time: 2897, util : 0.749, makespan : 310\n",
      "n_episode: 432, score : -467.0, n_buffer : 10000, eps : 3.7%\n",
      "--------------------------------------------------\n",
      "flow time: 2799, util : 0.824, makespan : 282\n",
      "n_episode: 433, score : -297.0, n_buffer : 10000, eps : 3.7%\n",
      "--------------------------------------------------\n",
      "flow time: 2783, util : 0.783, makespan : 288\n",
      "n_episode: 434, score : -375.0, n_buffer : 10000, eps : 3.7%\n",
      "--------------------------------------------------\n",
      "flow time: 2880, util : 0.780, makespan : 304\n",
      "n_episode: 435, score : -401.0, n_buffer : 10000, eps : 3.7%\n",
      "--------------------------------------------------\n",
      "flow time: 2670, util : 0.770, makespan : 290\n",
      "n_episode: 436, score : -401.0, n_buffer : 10000, eps : 3.6%\n",
      "--------------------------------------------------\n",
      "flow time: 2834, util : 0.698, makespan : 308\n",
      "n_episode: 437, score : -559.0, n_buffer : 10000, eps : 3.6%\n",
      "--------------------------------------------------\n",
      "flow time: 3060, util : 0.712, makespan : 304\n",
      "n_episode: 438, score : -526.0, n_buffer : 10000, eps : 3.6%\n",
      "--------------------------------------------------\n",
      "flow time: 2867, util : 0.760, makespan : 285\n",
      "n_episode: 439, score : -411.0, n_buffer : 10000, eps : 3.6%\n",
      "--------------------------------------------------\n",
      "flow time: 3007, util : 0.759, makespan : 311\n",
      "n_episode: 440, score : -449.0, n_buffer : 10000, eps : 3.6%\n",
      "--------------------------------------------------\n",
      "flow time: 2926, util : 0.744, makespan : 296\n",
      "n_episode: 441, score : -454.0, n_buffer : 10000, eps : 3.6%\n",
      "--------------------------------------------------\n",
      "flow time: 3176, util : 0.857, makespan : 263\n",
      "n_episode: 442, score : -225.0, n_buffer : 10000, eps : 3.6%\n",
      "--------------------------------------------------\n",
      "flow time: 2875, util : 0.784, makespan : 295\n",
      "n_episode: 443, score : -382.0, n_buffer : 10000, eps : 3.6%\n",
      "--------------------------------------------------\n",
      "flow time: 3123, util : 0.802, makespan : 284\n",
      "n_episode: 444, score : -338.0, n_buffer : 10000, eps : 3.6%\n",
      "--------------------------------------------------\n",
      "flow time: 3151, util : 0.773, makespan : 293\n",
      "n_episode: 445, score : -399.0, n_buffer : 10000, eps : 3.5%\n",
      "--------------------------------------------------\n",
      "flow time: 3123, util : 0.824, makespan : 276\n",
      "n_episode: 446, score : -292.0, n_buffer : 10000, eps : 3.5%\n",
      "--------------------------------------------------\n",
      "flow time: 2784, util : 0.795, makespan : 286\n",
      "n_episode: 447, score : -351.0, n_buffer : 10000, eps : 3.5%\n",
      "--------------------------------------------------\n",
      "flow time: 2755, util : 0.824, makespan : 276\n",
      "n_episode: 448, score : -291.0, n_buffer : 10000, eps : 3.5%\n",
      "--------------------------------------------------\n",
      "flow time: 2624, util : 0.757, makespan : 292\n",
      "n_episode: 449, score : -426.0, n_buffer : 10000, eps : 3.5%\n",
      "--------------------------------------------------\n",
      "flow time: 2711, util : 0.762, makespan : 297\n",
      "n_episode: 450, score : -425.0, n_buffer : 10000, eps : 3.5%\n",
      "--------------------------------------------------\n",
      "flow time: 2621, util : 0.793, makespan : 277\n",
      "n_episode: 451, score : -344.0, n_buffer : 10000, eps : 3.5%\n",
      "--------------------------------------------------\n",
      "flow time: 2820, util : 0.773, makespan : 288\n",
      "n_episode: 452, score : -392.0, n_buffer : 10000, eps : 3.5%\n",
      "--------------------------------------------------\n",
      "flow time: 2686, util : 0.768, makespan : 292\n",
      "n_episode: 453, score : -406.0, n_buffer : 10000, eps : 3.5%\n",
      "--------------------------------------------------\n",
      "flow time: 2939, util : 0.815, makespan : 258\n",
      "n_episode: 454, score : -286.0, n_buffer : 10000, eps : 3.5%\n",
      "--------------------------------------------------\n",
      "flow time: 2764, util : 0.778, makespan : 299\n",
      "n_episode: 455, score : -398.0, n_buffer : 10000, eps : 3.5%\n",
      "--------------------------------------------------\n",
      "flow time: 2983, util : 0.786, makespan : 300\n",
      "n_episode: 456, score : -386.0, n_buffer : 10000, eps : 3.4%\n",
      "--------------------------------------------------\n",
      "flow time: 2682, util : 0.780, makespan : 295\n",
      "n_episode: 457, score : -389.0, n_buffer : 10000, eps : 3.4%\n",
      "--------------------------------------------------\n",
      "flow time: 2605, util : 0.766, makespan : 278\n",
      "n_episode: 458, score : -390.0, n_buffer : 10000, eps : 3.4%\n",
      "--------------------------------------------------\n",
      "flow time: 2637, util : 0.776, makespan : 285\n",
      "n_episode: 459, score : -383.0, n_buffer : 10000, eps : 3.4%\n",
      "--------------------------------------------------\n",
      "flow time: 2933, util : 0.699, makespan : 336\n",
      "n_episode: 460, score : -607.0, n_buffer : 10000, eps : 3.4%\n",
      "--------------------------------------------------\n",
      "flow time: 2649, util : 0.818, makespan : 265\n",
      "n_episode: 461, score : -290.0, n_buffer : 10000, eps : 3.4%\n",
      "--------------------------------------------------\n",
      "flow time: 2626, util : 0.765, makespan : 284\n",
      "n_episode: 462, score : -400.0, n_buffer : 10000, eps : 3.4%\n",
      "--------------------------------------------------\n",
      "flow time: 2649, util : 0.797, makespan : 285\n",
      "n_episode: 463, score : -347.0, n_buffer : 10000, eps : 3.4%\n",
      "--------------------------------------------------\n",
      "flow time: 2690, util : 0.771, makespan : 291\n",
      "n_episode: 464, score : -400.0, n_buffer : 10000, eps : 3.4%\n",
      "--------------------------------------------------\n",
      "flow time: 2870, util : 0.800, makespan : 289\n",
      "n_episode: 465, score : -346.0, n_buffer : 10000, eps : 3.3%\n",
      "--------------------------------------------------\n",
      "flow time: 2964, util : 0.708, makespan : 331\n",
      "n_episode: 466, score : -580.0, n_buffer : 10000, eps : 3.3%\n",
      "--------------------------------------------------\n",
      "flow time: 3024, util : 0.826, makespan : 278\n",
      "n_episode: 467, score : -290.0, n_buffer : 10000, eps : 3.3%\n",
      "--------------------------------------------------\n",
      "flow time: 2785, util : 0.762, makespan : 297\n",
      "n_episode: 468, score : -425.0, n_buffer : 10000, eps : 3.3%\n",
      "--------------------------------------------------\n",
      "flow time: 2869, util : 0.813, makespan : 272\n",
      "n_episode: 469, score : -305.0, n_buffer : 10000, eps : 3.3%\n",
      "--------------------------------------------------\n",
      "flow time: 2960, util : 0.833, makespan : 251\n",
      "n_episode: 470, score : -252.0, n_buffer : 10000, eps : 3.3%\n"
     ]
    },
    {
     "name": "stdout",
     "output_type": "stream",
     "text": [
      "--------------------------------------------------\n",
      "flow time: 2807, util : 0.828, makespan : 272\n",
      "n_episode: 471, score : -280.0, n_buffer : 10000, eps : 3.3%\n",
      "--------------------------------------------------\n",
      "flow time: 3410, util : 0.820, makespan : 230\n",
      "n_episode: 472, score : -249.0, n_buffer : 10000, eps : 3.3%\n",
      "--------------------------------------------------\n",
      "flow time: 2735, util : 0.774, makespan : 298\n",
      "n_episode: 473, score : -404.0, n_buffer : 10000, eps : 3.3%\n",
      "--------------------------------------------------\n",
      "flow time: 2662, util : 0.770, makespan : 285\n",
      "n_episode: 474, score : -394.0, n_buffer : 10000, eps : 3.3%\n",
      "--------------------------------------------------\n",
      "flow time: 2631, util : 0.742, makespan : 298\n",
      "n_episode: 475, score : -461.0, n_buffer : 10000, eps : 3.2%\n",
      "--------------------------------------------------\n",
      "flow time: 2858, util : 0.781, makespan : 294\n",
      "n_episode: 476, score : -386.0, n_buffer : 10000, eps : 3.2%\n",
      "--------------------------------------------------\n",
      "flow time: 3126, util : 0.885, makespan : 254\n",
      "n_episode: 477, score : -176.0, n_buffer : 10000, eps : 3.2%\n",
      "--------------------------------------------------\n",
      "flow time: 3147, util : 0.866, makespan : 261\n",
      "n_episode: 478, score : -210.0, n_buffer : 10000, eps : 3.2%\n",
      "--------------------------------------------------\n",
      "flow time: 2768, util : 0.760, makespan : 303\n",
      "n_episode: 479, score : -436.0, n_buffer : 10000, eps : 3.2%\n",
      "--------------------------------------------------\n",
      "flow time: 2670, util : 0.779, makespan : 293\n",
      "n_episode: 480, score : -389.0, n_buffer : 10000, eps : 3.2%\n",
      "--------------------------------------------------\n",
      "flow time: 2677, util : 0.798, makespan : 282\n",
      "n_episode: 481, score : -342.0, n_buffer : 10000, eps : 3.2%\n",
      "--------------------------------------------------\n",
      "flow time: 3027, util : 0.860, makespan : 258\n",
      "n_episode: 482, score : -216.0, n_buffer : 10000, eps : 3.2%\n",
      "--------------------------------------------------\n",
      "flow time: 2778, util : 0.728, makespan : 305\n",
      "n_episode: 483, score : -497.0, n_buffer : 10000, eps : 3.2%\n",
      "--------------------------------------------------\n",
      "flow time: 2913, util : 0.801, makespan : 285\n",
      "n_episode: 484, score : -340.0, n_buffer : 10000, eps : 3.2%\n",
      "--------------------------------------------------\n",
      "flow time: 2732, util : 0.802, makespan : 277\n",
      "n_episode: 485, score : -329.0, n_buffer : 10000, eps : 3.2%\n",
      "--------------------------------------------------\n",
      "flow time: 2637, util : 0.775, makespan : 288\n",
      "n_episode: 486, score : -389.0, n_buffer : 10000, eps : 3.1%\n",
      "--------------------------------------------------\n",
      "flow time: 2634, util : 0.804, makespan : 277\n",
      "n_episode: 487, score : -326.0, n_buffer : 10000, eps : 3.1%\n",
      "--------------------------------------------------\n",
      "flow time: 2931, util : 0.818, makespan : 286\n",
      "n_episode: 488, score : -312.0, n_buffer : 10000, eps : 3.1%\n",
      "--------------------------------------------------\n",
      "flow time: 2960, util : 0.844, makespan : 255\n",
      "n_episode: 489, score : -239.0, n_buffer : 10000, eps : 3.1%\n",
      "--------------------------------------------------\n",
      "flow time: 2986, util : 0.818, makespan : 286\n",
      "n_episode: 490, score : -312.0, n_buffer : 10000, eps : 3.1%\n",
      "--------------------------------------------------\n",
      "flow time: 2917, util : 0.778, makespan : 303\n",
      "n_episode: 491, score : -404.0, n_buffer : 10000, eps : 3.1%\n",
      "--------------------------------------------------\n",
      "flow time: 2804, util : 0.741, makespan : 306\n",
      "n_episode: 492, score : -475.0, n_buffer : 10000, eps : 3.1%\n",
      "--------------------------------------------------\n",
      "flow time: 2912, util : 0.756, makespan : 299\n",
      "n_episode: 493, score : -437.0, n_buffer : 10000, eps : 3.1%\n",
      "--------------------------------------------------\n",
      "flow time: 2988, util : 0.867, makespan : 244\n",
      "n_episode: 494, score : -194.0, n_buffer : 10000, eps : 3.1%\n",
      "--------------------------------------------------\n",
      "flow time: 3269, util : 0.849, makespan : 255\n",
      "n_episode: 495, score : -231.0, n_buffer : 10000, eps : 3.0%\n",
      "--------------------------------------------------\n",
      "flow time: 3002, util : 0.706, makespan : 329\n",
      "n_episode: 496, score : -581.0, n_buffer : 10000, eps : 3.0%\n",
      "--------------------------------------------------\n",
      "flow time: 2903, util : 0.760, makespan : 306\n",
      "n_episode: 497, score : -441.0, n_buffer : 10000, eps : 3.0%\n",
      "--------------------------------------------------\n",
      "flow time: 2787, util : 0.800, makespan : 286\n",
      "n_episode: 498, score : -344.0, n_buffer : 10000, eps : 3.0%\n",
      "--------------------------------------------------\n",
      "flow time: 2738, util : 0.814, makespan : 280\n",
      "n_episode: 499, score : -312.0, n_buffer : 10000, eps : 3.0%\n",
      "--------------------------------------------------\n",
      "flow time: 2934, util : 0.784, makespan : 288\n",
      "n_episode: 500, score : -373.0, n_buffer : 10000, eps : 3.0%\n",
      "--------------------------------------------------\n",
      "flow time: 2720, util : 0.749, makespan : 300\n",
      "n_episode: 501, score : -451.0, n_buffer : 10000, eps : 3.0%\n",
      "--------------------------------------------------\n",
      "flow time: 2904, util : 0.761, makespan : 300\n",
      "n_episode: 502, score : -430.0, n_buffer : 10000, eps : 3.0%\n",
      "--------------------------------------------------\n",
      "flow time: 2798, util : 0.774, makespan : 299\n",
      "n_episode: 503, score : -405.0, n_buffer : 10000, eps : 3.0%\n",
      "--------------------------------------------------\n",
      "flow time: 2731, util : 0.824, makespan : 278\n",
      "n_episode: 504, score : -294.0, n_buffer : 10000, eps : 3.0%\n",
      "--------------------------------------------------\n",
      "flow time: 2653, util : 0.813, makespan : 277\n",
      "n_episode: 505, score : -311.0, n_buffer : 10000, eps : 3.0%\n",
      "--------------------------------------------------\n",
      "flow time: 2764, util : 0.765, makespan : 293\n",
      "n_episode: 506, score : -414.0, n_buffer : 10000, eps : 2.9%\n",
      "--------------------------------------------------\n",
      "flow time: 2880, util : 0.764, makespan : 301\n",
      "n_episode: 507, score : -426.0, n_buffer : 10000, eps : 2.9%\n",
      "--------------------------------------------------\n",
      "flow time: 2742, util : 0.817, makespan : 280\n",
      "n_episode: 508, score : -307.0, n_buffer : 10000, eps : 2.9%\n",
      "--------------------------------------------------\n",
      "flow time: 2795, util : 0.785, makespan : 291\n",
      "n_episode: 509, score : -376.0, n_buffer : 10000, eps : 2.9%\n",
      "--------------------------------------------------\n",
      "flow time: 2787, util : 0.777, makespan : 289\n",
      "n_episode: 510, score : -386.0, n_buffer : 10000, eps : 2.9%\n",
      "--------------------------------------------------\n",
      "flow time: 3039, util : 0.757, makespan : 297\n",
      "n_episode: 511, score : -433.0, n_buffer : 10000, eps : 2.9%\n",
      "--------------------------------------------------\n",
      "flow time: 2731, util : 0.756, makespan : 294\n",
      "n_episode: 512, score : -430.0, n_buffer : 10000, eps : 2.9%\n",
      "--------------------------------------------------\n",
      "flow time: 3175, util : 0.836, makespan : 268\n",
      "n_episode: 513, score : -263.0, n_buffer : 10000, eps : 2.9%\n",
      "--------------------------------------------------\n",
      "flow time: 3012, util : 0.792, makespan : 291\n",
      "n_episode: 514, score : -363.0, n_buffer : 10000, eps : 2.9%\n",
      "--------------------------------------------------\n",
      "flow time: 2788, util : 0.766, makespan : 300\n",
      "n_episode: 515, score : -421.0, n_buffer : 10000, eps : 2.8%\n",
      "--------------------------------------------------\n",
      "flow time: 2657, util : 0.792, makespan : 271\n",
      "n_episode: 516, score : -338.0, n_buffer : 10000, eps : 2.8%\n",
      "--------------------------------------------------\n",
      "flow time: 2722, util : 0.801, makespan : 272\n",
      "n_episode: 517, score : -325.0, n_buffer : 10000, eps : 2.8%\n",
      "--------------------------------------------------\n",
      "flow time: 2714, util : 0.741, makespan : 302\n",
      "n_episode: 518, score : -470.0, n_buffer : 10000, eps : 2.8%\n",
      "--------------------------------------------------\n",
      "flow time: 2735, util : 0.771, makespan : 288\n",
      "n_episode: 519, score : -395.0, n_buffer : 10000, eps : 2.8%\n",
      "--------------------------------------------------\n",
      "flow time: 2677, util : 0.777, makespan : 290\n",
      "n_episode: 520, score : -388.0, n_buffer : 10000, eps : 2.8%\n",
      "--------------------------------------------------\n",
      "flow time: 2823, util : 0.765, makespan : 303\n",
      "n_episode: 521, score : -428.0, n_buffer : 10000, eps : 2.8%\n",
      "--------------------------------------------------\n",
      "flow time: 2824, util : 0.795, makespan : 292\n",
      "n_episode: 522, score : -360.0, n_buffer : 10000, eps : 2.8%\n"
     ]
    },
    {
     "name": "stdout",
     "output_type": "stream",
     "text": [
      "--------------------------------------------------\n",
      "flow time: 2646, util : 0.820, makespan : 276\n",
      "n_episode: 523, score : -298.0, n_buffer : 10000, eps : 2.8%\n",
      "--------------------------------------------------\n",
      "flow time: 2762, util : 0.786, makespan : 291\n",
      "n_episode: 524, score : -374.0, n_buffer : 10000, eps : 2.8%\n",
      "--------------------------------------------------\n",
      "flow time: 3034, util : 0.757, makespan : 312\n",
      "n_episode: 525, score : -455.0, n_buffer : 10000, eps : 2.8%\n",
      "--------------------------------------------------\n",
      "flow time: 2897, util : 0.771, makespan : 293\n",
      "n_episode: 526, score : -403.0, n_buffer : 10000, eps : 2.7%\n",
      "--------------------------------------------------\n",
      "flow time: 2764, util : 0.806, makespan : 285\n",
      "n_episode: 527, score : -331.0, n_buffer : 10000, eps : 2.7%\n",
      "--------------------------------------------------\n",
      "flow time: 2670, util : 0.792, makespan : 280\n",
      "n_episode: 528, score : -349.0, n_buffer : 10000, eps : 2.7%\n",
      "--------------------------------------------------\n",
      "flow time: 2774, util : 0.751, makespan : 293\n",
      "n_episode: 529, score : -437.0, n_buffer : 10000, eps : 2.7%\n",
      "--------------------------------------------------\n",
      "flow time: 2839, util : 0.798, makespan : 283\n",
      "n_episode: 530, score : -343.0, n_buffer : 10000, eps : 2.7%\n",
      "--------------------------------------------------\n",
      "flow time: 2769, util : 0.799, makespan : 273\n",
      "n_episode: 531, score : -330.0, n_buffer : 10000, eps : 2.7%\n",
      "--------------------------------------------------\n",
      "flow time: 2870, util : 0.751, makespan : 285\n",
      "n_episode: 532, score : -426.0, n_buffer : 10000, eps : 2.7%\n",
      "--------------------------------------------------\n",
      "flow time: 2698, util : 0.766, makespan : 288\n",
      "n_episode: 533, score : -404.0, n_buffer : 10000, eps : 2.7%\n",
      "--------------------------------------------------\n",
      "flow time: 2819, util : 0.694, makespan : 307\n",
      "n_episode: 534, score : -564.0, n_buffer : 10000, eps : 2.7%\n",
      "--------------------------------------------------\n",
      "flow time: 2785, util : 0.747, makespan : 294\n",
      "n_episode: 535, score : -447.0, n_buffer : 10000, eps : 2.7%\n",
      "--------------------------------------------------\n",
      "flow time: 2833, util : 0.756, makespan : 297\n",
      "n_episode: 536, score : -435.0, n_buffer : 10000, eps : 2.6%\n",
      "--------------------------------------------------\n",
      "flow time: 2780, util : 0.762, makespan : 291\n",
      "n_episode: 537, score : -416.0, n_buffer : 10000, eps : 2.6%\n",
      "--------------------------------------------------\n",
      "flow time: 2734, util : 0.702, makespan : 312\n",
      "n_episode: 538, score : -558.0, n_buffer : 10000, eps : 2.6%\n",
      "--------------------------------------------------\n",
      "flow time: 2921, util : 0.780, makespan : 305\n",
      "n_episode: 539, score : -403.0, n_buffer : 10000, eps : 2.6%\n",
      "--------------------------------------------------\n",
      "flow time: 2671, util : 0.779, makespan : 279\n",
      "n_episode: 540, score : -370.0, n_buffer : 10000, eps : 2.6%\n",
      "--------------------------------------------------\n",
      "flow time: 2659, util : 0.806, makespan : 272\n",
      "n_episode: 541, score : -317.0, n_buffer : 10000, eps : 2.6%\n",
      "--------------------------------------------------\n",
      "flow time: 2960, util : 0.821, makespan : 274\n",
      "n_episode: 542, score : -294.0, n_buffer : 10000, eps : 2.6%\n",
      "--------------------------------------------------\n",
      "flow time: 2769, util : 0.815, makespan : 281\n",
      "n_episode: 543, score : -312.0, n_buffer : 10000, eps : 2.6%\n",
      "--------------------------------------------------\n",
      "flow time: 2860, util : 0.798, makespan : 276\n",
      "n_episode: 544, score : -335.0, n_buffer : 10000, eps : 2.6%\n",
      "--------------------------------------------------\n",
      "flow time: 2798, util : 0.771, makespan : 295\n",
      "n_episode: 545, score : -406.0, n_buffer : 10000, eps : 2.6%\n",
      "--------------------------------------------------\n",
      "flow time: 3003, util : 0.810, makespan : 289\n",
      "n_episode: 546, score : -329.0, n_buffer : 10000, eps : 2.5%\n",
      "--------------------------------------------------\n",
      "flow time: 2950, util : 0.768, makespan : 298\n",
      "n_episode: 547, score : -414.0, n_buffer : 10000, eps : 2.5%\n",
      "--------------------------------------------------\n",
      "flow time: 3051, util : 0.690, makespan : 339\n",
      "n_episode: 548, score : -631.0, n_buffer : 10000, eps : 2.5%\n",
      "--------------------------------------------------\n",
      "flow time: 2803, util : 0.783, makespan : 290\n",
      "n_episode: 549, score : -378.0, n_buffer : 10000, eps : 2.5%\n",
      "--------------------------------------------------\n",
      "flow time: 2742, util : 0.817, makespan : 280\n",
      "n_episode: 550, score : -307.0, n_buffer : 10000, eps : 2.5%\n",
      "--------------------------------------------------\n",
      "flow time: 2793, util : 0.808, makespan : 284\n",
      "n_episode: 551, score : -328.0, n_buffer : 10000, eps : 2.5%\n",
      "--------------------------------------------------\n",
      "flow time: 2727, util : 0.795, makespan : 284\n",
      "n_episode: 552, score : -349.0, n_buffer : 10000, eps : 2.5%\n",
      "--------------------------------------------------\n",
      "flow time: 2760, util : 0.763, makespan : 288\n",
      "n_episode: 553, score : -409.0, n_buffer : 10000, eps : 2.5%\n",
      "--------------------------------------------------\n",
      "flow time: 2785, util : 0.833, makespan : 270\n",
      "n_episode: 554, score : -270.0, n_buffer : 10000, eps : 2.5%\n",
      "--------------------------------------------------\n",
      "flow time: 3112, util : 0.740, makespan : 322\n",
      "n_episode: 555, score : -502.0, n_buffer : 10000, eps : 2.5%\n",
      "--------------------------------------------------\n",
      "flow time: 2824, util : 0.766, makespan : 296\n",
      "n_episode: 556, score : -416.0, n_buffer : 10000, eps : 2.4%\n",
      "--------------------------------------------------\n",
      "flow time: 2736, util : 0.739, makespan : 301\n",
      "n_episode: 557, score : -472.0, n_buffer : 10000, eps : 2.4%\n",
      "--------------------------------------------------\n",
      "flow time: 2805, util : 0.831, makespan : 270\n",
      "n_episode: 558, score : -274.0, n_buffer : 10000, eps : 2.4%\n",
      "--------------------------------------------------\n",
      "flow time: 2804, util : 0.794, makespan : 283\n",
      "n_episode: 559, score : -349.0, n_buffer : 10000, eps : 2.4%\n",
      "--------------------------------------------------\n",
      "flow time: 2980, util : 0.811, makespan : 281\n",
      "n_episode: 560, score : -318.0, n_buffer : 10000, eps : 2.4%\n",
      "--------------------------------------------------\n",
      "flow time: 2973, util : 0.791, makespan : 293\n",
      "n_episode: 561, score : -367.0, n_buffer : 10000, eps : 2.4%\n",
      "--------------------------------------------------\n",
      "flow time: 3129, util : 0.801, makespan : 274\n",
      "n_episode: 562, score : -327.0, n_buffer : 10000, eps : 2.4%\n",
      "--------------------------------------------------\n",
      "flow time: 2908, util : 0.789, makespan : 283\n",
      "n_episode: 563, score : -359.0, n_buffer : 10000, eps : 2.4%\n",
      "--------------------------------------------------\n",
      "flow time: 3061, util : 0.824, makespan : 279\n",
      "n_episode: 564, score : -294.0, n_buffer : 10000, eps : 2.4%\n",
      "--------------------------------------------------\n",
      "flow time: 2871, util : 0.811, makespan : 275\n",
      "n_episode: 565, score : -312.0, n_buffer : 10000, eps : 2.4%\n",
      "--------------------------------------------------\n",
      "flow time: 2901, util : 0.826, makespan : 269\n",
      "n_episode: 566, score : -281.0, n_buffer : 10000, eps : 2.3%\n",
      "--------------------------------------------------\n",
      "flow time: 2914, util : 0.823, makespan : 270\n",
      "n_episode: 567, score : -286.0, n_buffer : 10000, eps : 2.3%\n",
      "--------------------------------------------------\n",
      "flow time: 2624, util : 0.778, makespan : 274\n",
      "n_episode: 568, score : -365.0, n_buffer : 10000, eps : 2.3%\n",
      "--------------------------------------------------\n",
      "flow time: 2733, util : 0.797, makespan : 292\n",
      "n_episode: 569, score : -356.0, n_buffer : 10000, eps : 2.3%\n",
      "--------------------------------------------------\n",
      "flow time: 2853, util : 0.797, makespan : 298\n",
      "n_episode: 570, score : -363.0, n_buffer : 10000, eps : 2.3%\n",
      "--------------------------------------------------\n",
      "flow time: 2685, util : 0.755, makespan : 297\n",
      "n_episode: 571, score : -437.0, n_buffer : 10000, eps : 2.3%\n",
      "--------------------------------------------------\n",
      "flow time: 2649, util : 0.797, makespan : 285\n",
      "n_episode: 572, score : -347.0, n_buffer : 10000, eps : 2.3%\n",
      "--------------------------------------------------\n",
      "flow time: 3122, util : 0.800, makespan : 286\n",
      "n_episode: 573, score : -344.0, n_buffer : 10000, eps : 2.3%\n",
      "--------------------------------------------------\n",
      "flow time: 2752, util : 0.737, makespan : 304\n",
      "n_episode: 574, score : -479.0, n_buffer : 10000, eps : 2.3%\n"
     ]
    },
    {
     "name": "stdout",
     "output_type": "stream",
     "text": [
      "--------------------------------------------------\n",
      "flow time: 2870, util : 0.773, makespan : 315\n",
      "n_episode: 575, score : -429.0, n_buffer : 10000, eps : 2.2%\n",
      "--------------------------------------------------\n",
      "flow time: 2804, util : 0.790, makespan : 295\n",
      "n_episode: 576, score : -372.0, n_buffer : 10000, eps : 2.2%\n",
      "--------------------------------------------------\n",
      "flow time: 2656, util : 0.791, makespan : 278\n",
      "n_episode: 577, score : -348.0, n_buffer : 10000, eps : 2.2%\n",
      "--------------------------------------------------\n",
      "flow time: 2670, util : 0.770, makespan : 290\n",
      "n_episode: 578, score : -401.0, n_buffer : 10000, eps : 2.2%\n",
      "--------------------------------------------------\n",
      "flow time: 2764, util : 0.828, makespan : 277\n",
      "n_episode: 579, score : -286.0, n_buffer : 10000, eps : 2.2%\n",
      "--------------------------------------------------\n",
      "flow time: 2813, util : 0.801, makespan : 284\n",
      "n_episode: 580, score : -339.0, n_buffer : 10000, eps : 2.2%\n",
      "--------------------------------------------------\n",
      "flow time: 2925, util : 0.806, makespan : 292\n",
      "n_episode: 581, score : -340.0, n_buffer : 10000, eps : 2.2%\n",
      "--------------------------------------------------\n",
      "flow time: 3147, util : 0.796, makespan : 295\n",
      "n_episode: 582, score : -361.0, n_buffer : 10000, eps : 2.2%\n",
      "--------------------------------------------------\n",
      "flow time: 2829, util : 0.766, makespan : 294\n",
      "n_episode: 583, score : -413.0, n_buffer : 10000, eps : 2.2%\n",
      "--------------------------------------------------\n",
      "flow time: 2973, util : 0.805, makespan : 278\n",
      "n_episode: 584, score : -325.0, n_buffer : 10000, eps : 2.2%\n",
      "--------------------------------------------------\n",
      "flow time: 2840, util : 0.815, makespan : 279\n",
      "n_episode: 585, score : -309.0, n_buffer : 10000, eps : 2.2%\n",
      "--------------------------------------------------\n",
      "flow time: 3138, util : 0.744, makespan : 317\n",
      "n_episode: 586, score : -486.0, n_buffer : 10000, eps : 2.1%\n",
      "--------------------------------------------------\n",
      "flow time: 2897, util : 0.790, makespan : 291\n",
      "n_episode: 587, score : -367.0, n_buffer : 10000, eps : 2.1%\n",
      "--------------------------------------------------\n",
      "flow time: 2824, util : 0.783, makespan : 286\n",
      "n_episode: 588, score : -372.0, n_buffer : 10000, eps : 2.1%\n",
      "--------------------------------------------------\n",
      "flow time: 2778, util : 0.752, makespan : 302\n",
      "n_episode: 589, score : -449.0, n_buffer : 10000, eps : 2.1%\n",
      "--------------------------------------------------\n",
      "flow time: 2713, util : 0.838, makespan : 265\n",
      "n_episode: 590, score : -257.0, n_buffer : 10000, eps : 2.1%\n",
      "--------------------------------------------------\n",
      "flow time: 2685, util : 0.825, makespan : 269\n",
      "n_episode: 591, score : -283.0, n_buffer : 10000, eps : 2.1%\n",
      "--------------------------------------------------\n",
      "flow time: 2794, util : 0.834, makespan : 272\n",
      "n_episode: 592, score : -271.0, n_buffer : 10000, eps : 2.1%\n",
      "--------------------------------------------------\n",
      "flow time: 2869, util : 0.832, makespan : 280\n",
      "n_episode: 593, score : -282.0, n_buffer : 10000, eps : 2.1%\n",
      "--------------------------------------------------\n",
      "flow time: 2858, util : 0.780, makespan : 300\n",
      "n_episode: 594, score : -396.0, n_buffer : 10000, eps : 2.1%\n",
      "--------------------------------------------------\n",
      "flow time: 2599, util : 0.798, makespan : 271\n",
      "n_episode: 595, score : -328.0, n_buffer : 10000, eps : 2.0%\n",
      "--------------------------------------------------\n",
      "flow time: 2649, util : 0.797, makespan : 285\n",
      "n_episode: 596, score : -347.0, n_buffer : 10000, eps : 2.0%\n",
      "--------------------------------------------------\n",
      "flow time: 2772, util : 0.759, makespan : 296\n",
      "n_episode: 597, score : -428.0, n_buffer : 10000, eps : 2.0%\n",
      "--------------------------------------------------\n",
      "flow time: 2922, util : 0.787, makespan : 301\n",
      "n_episode: 598, score : -384.0, n_buffer : 10000, eps : 2.0%\n",
      "--------------------------------------------------\n",
      "flow time: 3223, util : 0.839, makespan : 302\n",
      "n_episode: 599, score : -291.0, n_buffer : 10000, eps : 2.0%\n",
      "--------------------------------------------------\n",
      "flow time: 2943, util : 0.808, makespan : 287\n",
      "n_episode: 600, score : -331.0, n_buffer : 10000, eps : 2.0%\n",
      "--------------------------------------------------\n",
      "flow time: 2922, util : 0.810, makespan : 288\n",
      "n_episode: 601, score : -329.0, n_buffer : 10000, eps : 2.0%\n",
      "--------------------------------------------------\n",
      "flow time: 2886, util : 0.754, makespan : 300\n",
      "n_episode: 602, score : -442.0, n_buffer : 10000, eps : 2.0%\n",
      "--------------------------------------------------\n",
      "flow time: 2770, util : 0.780, makespan : 299\n",
      "n_episode: 603, score : -395.0, n_buffer : 10000, eps : 2.0%\n",
      "--------------------------------------------------\n",
      "flow time: 2758, util : 0.782, makespan : 292\n",
      "n_episode: 604, score : -382.0, n_buffer : 10000, eps : 2.0%\n",
      "--------------------------------------------------\n",
      "flow time: 3008, util : 0.765, makespan : 306\n",
      "n_episode: 605, score : -432.0, n_buffer : 10000, eps : 2.0%\n",
      "--------------------------------------------------\n",
      "flow time: 2939, util : 0.762, makespan : 297\n",
      "n_episode: 606, score : -424.0, n_buffer : 10000, eps : 1.9%\n",
      "--------------------------------------------------\n",
      "flow time: 2811, util : 0.769, makespan : 299\n",
      "n_episode: 607, score : -414.0, n_buffer : 10000, eps : 1.9%\n",
      "--------------------------------------------------\n",
      "flow time: 2822, util : 0.788, makespan : 297\n",
      "n_episode: 608, score : -377.0, n_buffer : 10000, eps : 1.9%\n",
      "--------------------------------------------------\n",
      "flow time: 2827, util : 0.772, makespan : 299\n",
      "n_episode: 609, score : -409.0, n_buffer : 10000, eps : 1.9%\n",
      "--------------------------------------------------\n",
      "flow time: 2817, util : 0.784, makespan : 299\n",
      "n_episode: 610, score : -388.0, n_buffer : 10000, eps : 1.9%\n",
      "--------------------------------------------------\n",
      "flow time: 2784, util : 0.795, makespan : 290\n",
      "n_episode: 611, score : -357.0, n_buffer : 10000, eps : 1.9%\n",
      "--------------------------------------------------\n",
      "flow time: 2755, util : 0.778, makespan : 293\n",
      "n_episode: 612, score : -391.0, n_buffer : 10000, eps : 1.9%\n",
      "--------------------------------------------------\n",
      "flow time: 2740, util : 0.746, makespan : 304\n",
      "n_episode: 613, score : -464.0, n_buffer : 10000, eps : 1.9%\n",
      "--------------------------------------------------\n",
      "flow time: 2687, util : 0.789, makespan : 283\n",
      "n_episode: 614, score : -358.0, n_buffer : 10000, eps : 1.9%\n",
      "--------------------------------------------------\n",
      "flow time: 2774, util : 0.761, makespan : 304\n",
      "n_episode: 615, score : -436.0, n_buffer : 10000, eps : 1.8%\n",
      "--------------------------------------------------\n",
      "flow time: 2664, util : 0.798, makespan : 285\n",
      "n_episode: 616, score : -345.0, n_buffer : 10000, eps : 1.8%\n",
      "--------------------------------------------------\n",
      "flow time: 2650, util : 0.773, makespan : 286\n",
      "n_episode: 617, score : -390.0, n_buffer : 10000, eps : 1.8%\n",
      "--------------------------------------------------\n",
      "flow time: 2767, util : 0.795, makespan : 285\n",
      "n_episode: 618, score : -351.0, n_buffer : 10000, eps : 1.8%\n",
      "--------------------------------------------------\n",
      "flow time: 2649, util : 0.797, makespan : 285\n",
      "n_episode: 619, score : -347.0, n_buffer : 10000, eps : 1.8%\n",
      "--------------------------------------------------\n",
      "flow time: 2775, util : 0.818, makespan : 286\n",
      "n_episode: 620, score : -313.0, n_buffer : 10000, eps : 1.8%\n",
      "--------------------------------------------------\n",
      "flow time: 2793, util : 0.776, makespan : 293\n",
      "n_episode: 621, score : -394.0, n_buffer : 10000, eps : 1.8%\n",
      "--------------------------------------------------\n",
      "flow time: 2806, util : 0.758, makespan : 310\n",
      "n_episode: 622, score : -451.0, n_buffer : 10000, eps : 1.8%\n",
      "--------------------------------------------------\n",
      "flow time: 2774, util : 0.784, makespan : 290\n",
      "n_episode: 623, score : -375.0, n_buffer : 10000, eps : 1.8%\n",
      "--------------------------------------------------\n",
      "flow time: 2898, util : 0.785, makespan : 296\n",
      "n_episode: 624, score : -382.0, n_buffer : 10000, eps : 1.8%\n",
      "--------------------------------------------------\n",
      "flow time: 2929, util : 0.772, makespan : 306\n",
      "n_episode: 625, score : -418.0, n_buffer : 10000, eps : 1.8%\n",
      "--------------------------------------------------\n",
      "flow time: 2887, util : 0.765, makespan : 303\n",
      "n_episode: 626, score : -428.0, n_buffer : 10000, eps : 1.7%\n"
     ]
    },
    {
     "name": "stdout",
     "output_type": "stream",
     "text": [
      "--------------------------------------------------\n",
      "flow time: 2798, util : 0.780, makespan : 298\n",
      "n_episode: 627, score : -393.0, n_buffer : 10000, eps : 1.7%\n",
      "--------------------------------------------------\n",
      "flow time: 2797, util : 0.758, makespan : 301\n",
      "n_episode: 628, score : -437.0, n_buffer : 10000, eps : 1.7%\n",
      "--------------------------------------------------\n",
      "flow time: 2724, util : 0.802, makespan : 280\n",
      "n_episode: 629, score : -333.0, n_buffer : 10000, eps : 1.7%\n",
      "--------------------------------------------------\n",
      "flow time: 2780, util : 0.762, makespan : 291\n",
      "n_episode: 630, score : -416.0, n_buffer : 10000, eps : 1.7%\n",
      "--------------------------------------------------\n",
      "flow time: 2770, util : 0.773, makespan : 300\n",
      "n_episode: 631, score : -409.0, n_buffer : 10000, eps : 1.7%\n",
      "--------------------------------------------------\n",
      "flow time: 2772, util : 0.786, makespan : 289\n",
      "n_episode: 632, score : -371.0, n_buffer : 10000, eps : 1.7%\n",
      "--------------------------------------------------\n",
      "flow time: 2770, util : 0.783, makespan : 293\n",
      "n_episode: 633, score : -381.0, n_buffer : 10000, eps : 1.7%\n",
      "--------------------------------------------------\n",
      "flow time: 2766, util : 0.770, makespan : 293\n",
      "n_episode: 634, score : -404.0, n_buffer : 10000, eps : 1.7%\n",
      "--------------------------------------------------\n",
      "flow time: 2834, util : 0.777, makespan : 286\n",
      "n_episode: 635, score : -382.0, n_buffer : 10000, eps : 1.7%\n",
      "--------------------------------------------------\n",
      "flow time: 2712, util : 0.779, makespan : 286\n",
      "n_episode: 636, score : -379.0, n_buffer : 10000, eps : 1.6%\n",
      "--------------------------------------------------\n",
      "flow time: 2653, util : 0.797, makespan : 278\n",
      "n_episode: 637, score : -338.0, n_buffer : 10000, eps : 1.6%\n",
      "--------------------------------------------------\n",
      "flow time: 2703, util : 0.747, makespan : 292\n",
      "n_episode: 638, score : -444.0, n_buffer : 10000, eps : 1.6%\n",
      "--------------------------------------------------\n",
      "flow time: 2646, util : 0.785, makespan : 278\n",
      "n_episode: 639, score : -358.0, n_buffer : 10000, eps : 1.6%\n",
      "--------------------------------------------------\n",
      "flow time: 2834, util : 0.819, makespan : 275\n",
      "n_episode: 640, score : -298.0, n_buffer : 10000, eps : 1.6%\n",
      "--------------------------------------------------\n",
      "flow time: 2695, util : 0.789, makespan : 281\n",
      "n_episode: 641, score : -355.0, n_buffer : 10000, eps : 1.6%\n",
      "--------------------------------------------------\n",
      "flow time: 2651, util : 0.754, makespan : 283\n",
      "n_episode: 642, score : -417.0, n_buffer : 10000, eps : 1.6%\n",
      "--------------------------------------------------\n",
      "flow time: 2754, util : 0.809, makespan : 279\n",
      "n_episode: 643, score : -319.0, n_buffer : 10000, eps : 1.6%\n",
      "--------------------------------------------------\n",
      "flow time: 2671, util : 0.759, makespan : 293\n",
      "n_episode: 644, score : -423.0, n_buffer : 10000, eps : 1.6%\n",
      "--------------------------------------------------\n",
      "flow time: 2643, util : 0.772, makespan : 283\n",
      "n_episode: 645, score : -387.0, n_buffer : 10000, eps : 1.6%\n",
      "--------------------------------------------------\n",
      "flow time: 2649, util : 0.846, makespan : 268\n",
      "n_episode: 646, score : -248.0, n_buffer : 10000, eps : 1.5%\n",
      "--------------------------------------------------\n",
      "flow time: 2649, util : 0.797, makespan : 285\n",
      "n_episode: 647, score : -347.0, n_buffer : 10000, eps : 1.5%\n",
      "--------------------------------------------------\n",
      "flow time: 2649, util : 0.797, makespan : 285\n",
      "n_episode: 648, score : -347.0, n_buffer : 10000, eps : 1.5%\n",
      "--------------------------------------------------\n",
      "flow time: 2659, util : 0.751, makespan : 292\n",
      "n_episode: 649, score : -436.0, n_buffer : 10000, eps : 1.5%\n",
      "--------------------------------------------------\n",
      "flow time: 2618, util : 0.813, makespan : 270\n",
      "n_episode: 650, score : -303.0, n_buffer : 10000, eps : 1.5%\n",
      "--------------------------------------------------\n",
      "flow time: 2634, util : 0.804, makespan : 277\n",
      "n_episode: 651, score : -326.0, n_buffer : 10000, eps : 1.5%\n",
      "--------------------------------------------------\n",
      "flow time: 2638, util : 0.757, makespan : 292\n",
      "n_episode: 652, score : -426.0, n_buffer : 10000, eps : 1.5%\n",
      "--------------------------------------------------\n",
      "flow time: 2655, util : 0.801, makespan : 285\n",
      "n_episode: 653, score : -340.0, n_buffer : 10000, eps : 1.5%\n",
      "--------------------------------------------------\n",
      "flow time: 2599, util : 0.798, makespan : 271\n",
      "n_episode: 654, score : -328.0, n_buffer : 10000, eps : 1.5%\n",
      "--------------------------------------------------\n",
      "flow time: 2679, util : 0.806, makespan : 282\n",
      "n_episode: 655, score : -329.0, n_buffer : 10000, eps : 1.4%\n",
      "--------------------------------------------------\n",
      "flow time: 2618, util : 0.843, makespan : 263\n",
      "n_episode: 656, score : -248.0, n_buffer : 10000, eps : 1.4%\n",
      "--------------------------------------------------\n",
      "flow time: 2755, util : 0.810, makespan : 282\n",
      "n_episode: 657, score : -321.0, n_buffer : 10000, eps : 1.4%\n",
      "--------------------------------------------------\n",
      "flow time: 2745, util : 0.744, makespan : 304\n",
      "n_episode: 658, score : -467.0, n_buffer : 10000, eps : 1.4%\n",
      "--------------------------------------------------\n",
      "flow time: 2649, util : 0.797, makespan : 285\n",
      "n_episode: 659, score : -347.0, n_buffer : 10000, eps : 1.4%\n",
      "--------------------------------------------------\n",
      "flow time: 2766, util : 0.797, makespan : 288\n",
      "n_episode: 660, score : -351.0, n_buffer : 10000, eps : 1.4%\n",
      "--------------------------------------------------\n",
      "flow time: 2617, util : 0.753, makespan : 288\n",
      "n_episode: 661, score : -427.0, n_buffer : 10000, eps : 1.4%\n",
      "--------------------------------------------------\n",
      "flow time: 2732, util : 0.832, makespan : 279\n",
      "n_episode: 662, score : -282.0, n_buffer : 10000, eps : 1.4%\n",
      "--------------------------------------------------\n",
      "flow time: 2650, util : 0.787, makespan : 283\n",
      "n_episode: 663, score : -361.0, n_buffer : 10000, eps : 1.4%\n",
      "--------------------------------------------------\n",
      "flow time: 2649, util : 0.797, makespan : 285\n",
      "n_episode: 664, score : -347.0, n_buffer : 10000, eps : 1.4%\n",
      "--------------------------------------------------\n",
      "flow time: 2649, util : 0.797, makespan : 285\n",
      "n_episode: 665, score : -347.0, n_buffer : 10000, eps : 1.3%\n",
      "--------------------------------------------------\n",
      "flow time: 2649, util : 0.797, makespan : 285\n",
      "n_episode: 666, score : -347.0, n_buffer : 10000, eps : 1.3%\n",
      "--------------------------------------------------\n",
      "flow time: 2775, util : 0.793, makespan : 287\n",
      "n_episode: 667, score : -356.0, n_buffer : 10000, eps : 1.3%\n",
      "--------------------------------------------------\n",
      "flow time: 2666, util : 0.782, makespan : 282\n",
      "n_episode: 668, score : -369.0, n_buffer : 10000, eps : 1.3%\n",
      "--------------------------------------------------\n",
      "flow time: 2607, util : 0.770, makespan : 282\n",
      "n_episode: 669, score : -389.0, n_buffer : 10000, eps : 1.3%\n",
      "--------------------------------------------------\n",
      "flow time: 2658, util : 0.830, makespan : 268\n",
      "n_episode: 670, score : -273.0, n_buffer : 10000, eps : 1.3%\n",
      "--------------------------------------------------\n",
      "flow time: 2764, util : 0.750, makespan : 298\n",
      "n_episode: 671, score : -447.0, n_buffer : 10000, eps : 1.3%\n",
      "--------------------------------------------------\n",
      "flow time: 2674, util : 0.776, makespan : 284\n",
      "n_episode: 672, score : -382.0, n_buffer : 10000, eps : 1.3%\n",
      "--------------------------------------------------\n",
      "flow time: 2739, util : 0.823, makespan : 278\n",
      "n_episode: 673, score : -295.0, n_buffer : 10000, eps : 1.3%\n",
      "--------------------------------------------------\n",
      "flow time: 2619, util : 0.800, makespan : 274\n",
      "n_episode: 674, score : -329.0, n_buffer : 10000, eps : 1.3%\n",
      "--------------------------------------------------\n",
      "flow time: 2680, util : 0.787, makespan : 285\n",
      "n_episode: 675, score : -365.0, n_buffer : 10000, eps : 1.2%\n",
      "--------------------------------------------------\n",
      "flow time: 2790, util : 0.771, makespan : 294\n",
      "n_episode: 676, score : -404.0, n_buffer : 10000, eps : 1.2%\n",
      "--------------------------------------------------\n",
      "flow time: 2631, util : 0.816, makespan : 273\n",
      "n_episode: 677, score : -301.0, n_buffer : 10000, eps : 1.2%\n",
      "--------------------------------------------------\n",
      "flow time: 2714, util : 0.814, makespan : 278\n",
      "n_episode: 678, score : -311.0, n_buffer : 10000, eps : 1.2%\n"
     ]
    },
    {
     "name": "stdout",
     "output_type": "stream",
     "text": [
      "--------------------------------------------------\n",
      "flow time: 2649, util : 0.797, makespan : 285\n",
      "n_episode: 679, score : -347.0, n_buffer : 10000, eps : 1.2%\n",
      "--------------------------------------------------\n",
      "flow time: 2649, util : 0.797, makespan : 285\n",
      "n_episode: 680, score : -347.0, n_buffer : 10000, eps : 1.2%\n",
      "--------------------------------------------------\n",
      "flow time: 2650, util : 0.793, makespan : 286\n",
      "n_episode: 681, score : -356.0, n_buffer : 10000, eps : 1.2%\n",
      "--------------------------------------------------\n",
      "flow time: 2854, util : 0.792, makespan : 283\n",
      "n_episode: 682, score : -353.0, n_buffer : 10000, eps : 1.2%\n",
      "--------------------------------------------------\n",
      "flow time: 2950, util : 0.771, makespan : 295\n",
      "n_episode: 683, score : -405.0, n_buffer : 10000, eps : 1.2%\n",
      "--------------------------------------------------\n",
      "flow time: 2777, util : 0.818, makespan : 284\n",
      "n_episode: 684, score : -310.0, n_buffer : 10000, eps : 1.2%\n",
      "--------------------------------------------------\n",
      "flow time: 2785, util : 0.778, makespan : 290\n",
      "n_episode: 685, score : -387.0, n_buffer : 10000, eps : 1.2%\n",
      "--------------------------------------------------\n",
      "flow time: 2798, util : 0.784, makespan : 296\n",
      "n_episode: 686, score : -383.0, n_buffer : 10000, eps : 1.1%\n",
      "--------------------------------------------------\n",
      "flow time: 2798, util : 0.784, makespan : 296\n",
      "n_episode: 687, score : -383.0, n_buffer : 10000, eps : 1.1%\n",
      "--------------------------------------------------\n",
      "flow time: 2723, util : 0.753, makespan : 298\n",
      "n_episode: 688, score : -442.0, n_buffer : 10000, eps : 1.1%\n",
      "--------------------------------------------------\n",
      "flow time: 2771, util : 0.802, makespan : 285\n",
      "n_episode: 689, score : -338.0, n_buffer : 10000, eps : 1.1%\n",
      "--------------------------------------------------\n",
      "flow time: 2700, util : 0.782, makespan : 287\n",
      "n_episode: 690, score : -375.0, n_buffer : 10000, eps : 1.1%\n",
      "--------------------------------------------------\n",
      "flow time: 2775, util : 0.744, makespan : 307\n",
      "n_episode: 691, score : -471.0, n_buffer : 10000, eps : 1.1%\n",
      "--------------------------------------------------\n",
      "flow time: 3054, util : 0.737, makespan : 325\n",
      "n_episode: 692, score : -513.0, n_buffer : 10000, eps : 1.1%\n",
      "--------------------------------------------------\n",
      "flow time: 2988, util : 0.863, makespan : 263\n",
      "n_episode: 693, score : -216.0, n_buffer : 10000, eps : 1.1%\n",
      "--------------------------------------------------\n",
      "flow time: 2901, util : 0.768, makespan : 295\n",
      "n_episode: 694, score : -411.0, n_buffer : 10000, eps : 1.1%\n",
      "--------------------------------------------------\n",
      "flow time: 2918, util : 0.725, makespan : 308\n",
      "n_episode: 695, score : -508.0, n_buffer : 10000, eps : 1.0%\n",
      "--------------------------------------------------\n",
      "flow time: 2928, util : 0.834, makespan : 271\n",
      "n_episode: 696, score : -270.0, n_buffer : 10000, eps : 1.0%\n",
      "--------------------------------------------------\n",
      "flow time: 2724, util : 0.809, makespan : 276\n",
      "n_episode: 697, score : -316.0, n_buffer : 10000, eps : 1.0%\n",
      "--------------------------------------------------\n",
      "flow time: 2749, util : 0.787, makespan : 286\n",
      "n_episode: 698, score : -366.0, n_buffer : 10000, eps : 1.0%\n",
      "--------------------------------------------------\n",
      "flow time: 2875, util : 0.755, makespan : 299\n",
      "n_episode: 699, score : -440.0, n_buffer : 10000, eps : 1.0%\n",
      "--------------------------------------------------\n",
      "flow time: 2838, util : 0.783, makespan : 301\n",
      "n_episode: 700, score : -392.0, n_buffer : 10000, eps : 1.0%\n",
      "--------------------------------------------------\n",
      "flow time: 2589, util : 0.824, makespan : 263\n",
      "n_episode: 701, score : -278.0, n_buffer : 10000, eps : 1.0%\n",
      "--------------------------------------------------\n",
      "flow time: 2866, util : 0.771, makespan : 299\n",
      "n_episode: 702, score : -410.0, n_buffer : 10000, eps : 1.0%\n",
      "--------------------------------------------------\n",
      "flow time: 2627, util : 0.797, makespan : 280\n",
      "n_episode: 703, score : -341.0, n_buffer : 10000, eps : 1.0%\n",
      "--------------------------------------------------\n",
      "flow time: 2649, util : 0.797, makespan : 285\n",
      "n_episode: 704, score : -347.0, n_buffer : 10000, eps : 1.0%\n",
      "--------------------------------------------------\n",
      "flow time: 2649, util : 0.797, makespan : 285\n",
      "n_episode: 705, score : -347.0, n_buffer : 10000, eps : 1.0%\n",
      "--------------------------------------------------\n",
      "flow time: 3148, util : 0.767, makespan : 303\n",
      "n_episode: 706, score : -423.0, n_buffer : 10000, eps : 1.0%\n",
      "--------------------------------------------------\n",
      "flow time: 2942, util : 0.812, makespan : 261\n",
      "n_episode: 707, score : -295.0, n_buffer : 10000, eps : 1.0%\n",
      "--------------------------------------------------\n",
      "flow time: 3160, util : 0.865, makespan : 250\n",
      "n_episode: 708, score : -202.0, n_buffer : 10000, eps : 1.0%\n",
      "--------------------------------------------------\n",
      "flow time: 2752, util : 0.780, makespan : 282\n",
      "n_episode: 709, score : -372.0, n_buffer : 10000, eps : 1.0%\n",
      "--------------------------------------------------\n",
      "flow time: 2770, util : 0.783, makespan : 293\n",
      "n_episode: 710, score : -381.0, n_buffer : 10000, eps : 1.0%\n",
      "--------------------------------------------------\n",
      "flow time: 2742, util : 0.773, makespan : 282\n",
      "n_episode: 711, score : -384.0, n_buffer : 10000, eps : 1.0%\n",
      "--------------------------------------------------\n",
      "flow time: 2787, util : 0.800, makespan : 286\n",
      "n_episode: 712, score : -344.0, n_buffer : 10000, eps : 1.0%\n",
      "--------------------------------------------------\n",
      "flow time: 2759, util : 0.798, makespan : 286\n",
      "n_episode: 713, score : -346.0, n_buffer : 10000, eps : 1.0%\n",
      "--------------------------------------------------\n",
      "flow time: 2660, util : 0.772, makespan : 286\n",
      "n_episode: 714, score : -391.0, n_buffer : 10000, eps : 1.0%\n",
      "--------------------------------------------------\n",
      "flow time: 2695, util : 0.789, makespan : 281\n",
      "n_episode: 715, score : -355.0, n_buffer : 10000, eps : 1.0%\n",
      "--------------------------------------------------\n",
      "flow time: 2770, util : 0.783, makespan : 293\n",
      "n_episode: 716, score : -381.0, n_buffer : 10000, eps : 1.0%\n",
      "--------------------------------------------------\n",
      "flow time: 2735, util : 0.771, makespan : 288\n",
      "n_episode: 717, score : -395.0, n_buffer : 10000, eps : 1.0%\n",
      "--------------------------------------------------\n",
      "flow time: 2802, util : 0.770, makespan : 293\n",
      "n_episode: 718, score : -405.0, n_buffer : 10000, eps : 1.0%\n",
      "--------------------------------------------------\n",
      "flow time: 2831, util : 0.788, makespan : 300\n",
      "n_episode: 719, score : -381.0, n_buffer : 10000, eps : 1.0%\n",
      "--------------------------------------------------\n",
      "flow time: 2650, util : 0.793, makespan : 286\n",
      "n_episode: 720, score : -356.0, n_buffer : 10000, eps : 1.0%\n",
      "--------------------------------------------------\n",
      "flow time: 2834, util : 0.788, makespan : 289\n",
      "n_episode: 721, score : -368.0, n_buffer : 10000, eps : 1.0%\n",
      "--------------------------------------------------\n",
      "flow time: 2671, util : 0.748, makespan : 294\n",
      "n_episode: 722, score : -444.0, n_buffer : 10000, eps : 1.0%\n",
      "--------------------------------------------------\n",
      "flow time: 2755, util : 0.778, makespan : 293\n",
      "n_episode: 723, score : -391.0, n_buffer : 10000, eps : 1.0%\n",
      "--------------------------------------------------\n",
      "flow time: 2755, util : 0.778, makespan : 293\n",
      "n_episode: 724, score : -391.0, n_buffer : 10000, eps : 1.0%\n",
      "--------------------------------------------------\n",
      "flow time: 2784, util : 0.795, makespan : 290\n",
      "n_episode: 725, score : -357.0, n_buffer : 10000, eps : 1.0%\n",
      "--------------------------------------------------\n",
      "flow time: 2798, util : 0.784, makespan : 296\n",
      "n_episode: 726, score : -383.0, n_buffer : 10000, eps : 1.0%\n",
      "--------------------------------------------------\n",
      "flow time: 2798, util : 0.784, makespan : 296\n",
      "n_episode: 727, score : -383.0, n_buffer : 10000, eps : 1.0%\n",
      "--------------------------------------------------\n",
      "flow time: 2940, util : 0.795, makespan : 290\n",
      "n_episode: 728, score : -356.0, n_buffer : 10000, eps : 1.0%\n",
      "--------------------------------------------------\n",
      "flow time: 2877, util : 0.807, makespan : 286\n",
      "n_episode: 729, score : -332.0, n_buffer : 10000, eps : 1.0%\n",
      "--------------------------------------------------\n",
      "flow time: 2797, util : 0.819, makespan : 284\n",
      "n_episode: 730, score : -308.0, n_buffer : 10000, eps : 1.0%\n"
     ]
    },
    {
     "name": "stdout",
     "output_type": "stream",
     "text": [
      "--------------------------------------------------\n",
      "flow time: 2734, util : 0.758, makespan : 304\n",
      "n_episode: 731, score : -441.0, n_buffer : 10000, eps : 1.0%\n",
      "--------------------------------------------------\n",
      "flow time: 2601, util : 0.743, makespan : 292\n",
      "n_episode: 732, score : -451.0, n_buffer : 10000, eps : 1.0%\n",
      "--------------------------------------------------\n",
      "flow time: 2649, util : 0.797, makespan : 285\n",
      "n_episode: 733, score : -347.0, n_buffer : 10000, eps : 1.0%\n",
      "--------------------------------------------------\n",
      "flow time: 2666, util : 0.807, makespan : 277\n",
      "n_episode: 734, score : -321.0, n_buffer : 10000, eps : 1.0%\n",
      "--------------------------------------------------\n",
      "flow time: 3061, util : 0.814, makespan : 283\n",
      "n_episode: 735, score : -315.0, n_buffer : 10000, eps : 1.0%\n",
      "--------------------------------------------------\n",
      "flow time: 2679, util : 0.768, makespan : 294\n",
      "n_episode: 736, score : -409.0, n_buffer : 10000, eps : 1.0%\n",
      "--------------------------------------------------\n",
      "flow time: 2735, util : 0.771, makespan : 288\n",
      "n_episode: 737, score : -395.0, n_buffer : 10000, eps : 1.0%\n",
      "--------------------------------------------------\n",
      "flow time: 2709, util : 0.742, makespan : 300\n",
      "n_episode: 738, score : -464.0, n_buffer : 10000, eps : 1.0%\n",
      "--------------------------------------------------\n",
      "flow time: 2718, util : 0.795, makespan : 281\n",
      "n_episode: 739, score : -345.0, n_buffer : 10000, eps : 1.0%\n",
      "--------------------------------------------------\n",
      "flow time: 2672, util : 0.770, makespan : 279\n",
      "n_episode: 740, score : -385.0, n_buffer : 10000, eps : 1.0%\n",
      "--------------------------------------------------\n",
      "flow time: 2649, util : 0.797, makespan : 285\n",
      "n_episode: 741, score : -347.0, n_buffer : 10000, eps : 1.0%\n",
      "--------------------------------------------------\n",
      "flow time: 2635, util : 0.838, makespan : 267\n",
      "n_episode: 742, score : -260.0, n_buffer : 10000, eps : 1.0%\n",
      "--------------------------------------------------\n",
      "flow time: 2601, util : 0.796, makespan : 274\n",
      "n_episode: 743, score : -336.0, n_buffer : 10000, eps : 1.0%\n",
      "--------------------------------------------------\n",
      "flow time: 2656, util : 0.757, makespan : 292\n",
      "n_episode: 744, score : -425.0, n_buffer : 10000, eps : 1.0%\n",
      "--------------------------------------------------\n",
      "flow time: 2649, util : 0.797, makespan : 285\n",
      "n_episode: 745, score : -347.0, n_buffer : 10000, eps : 1.0%\n",
      "--------------------------------------------------\n",
      "flow time: 2649, util : 0.797, makespan : 285\n",
      "n_episode: 746, score : -347.0, n_buffer : 10000, eps : 1.0%\n",
      "--------------------------------------------------\n",
      "flow time: 2647, util : 0.766, makespan : 279\n",
      "n_episode: 747, score : -392.0, n_buffer : 10000, eps : 1.0%\n",
      "--------------------------------------------------\n",
      "flow time: 2789, util : 0.782, makespan : 293\n",
      "n_episode: 748, score : -383.0, n_buffer : 10000, eps : 1.0%\n",
      "--------------------------------------------------\n",
      "flow time: 3058, util : 0.881, makespan : 247\n",
      "n_episode: 749, score : -177.0, n_buffer : 10000, eps : 1.0%\n",
      "--------------------------------------------------\n",
      "flow time: 2798, util : 0.779, makespan : 290\n",
      "n_episode: 750, score : -385.0, n_buffer : 10000, eps : 1.0%\n",
      "--------------------------------------------------\n",
      "flow time: 2797, util : 0.825, makespan : 274\n",
      "n_episode: 751, score : -288.0, n_buffer : 10000, eps : 1.0%\n",
      "--------------------------------------------------\n",
      "flow time: 2649, util : 0.797, makespan : 285\n",
      "n_episode: 752, score : -347.0, n_buffer : 10000, eps : 1.0%\n",
      "--------------------------------------------------\n",
      "flow time: 2649, util : 0.797, makespan : 285\n",
      "n_episode: 753, score : -347.0, n_buffer : 10000, eps : 1.0%\n",
      "--------------------------------------------------\n",
      "flow time: 2767, util : 0.766, makespan : 304\n",
      "n_episode: 754, score : -426.0, n_buffer : 10000, eps : 1.0%\n",
      "--------------------------------------------------\n",
      "flow time: 2777, util : 0.866, makespan : 264\n",
      "n_episode: 755, score : -213.0, n_buffer : 10000, eps : 1.0%\n",
      "--------------------------------------------------\n",
      "flow time: 2864, util : 0.854, makespan : 271\n",
      "n_episode: 756, score : -237.0, n_buffer : 10000, eps : 1.0%\n",
      "--------------------------------------------------\n",
      "flow time: 2887, util : 0.777, makespan : 304\n",
      "n_episode: 757, score : -407.0, n_buffer : 10000, eps : 1.0%\n",
      "--------------------------------------------------\n",
      "flow time: 2798, util : 0.795, makespan : 286\n",
      "n_episode: 758, score : -351.0, n_buffer : 10000, eps : 1.0%\n",
      "--------------------------------------------------\n",
      "flow time: 2798, util : 0.784, makespan : 296\n",
      "n_episode: 759, score : -383.0, n_buffer : 10000, eps : 1.0%\n",
      "--------------------------------------------------\n",
      "flow time: 2915, util : 0.785, makespan : 305\n",
      "n_episode: 760, score : -394.0, n_buffer : 10000, eps : 1.0%\n",
      "--------------------------------------------------\n",
      "flow time: 2800, util : 0.784, makespan : 295\n",
      "n_episode: 761, score : -382.0, n_buffer : 10000, eps : 1.0%\n",
      "--------------------------------------------------\n",
      "flow time: 3242, util : 0.838, makespan : 278\n",
      "n_episode: 762, score : -271.0, n_buffer : 10000, eps : 1.0%\n",
      "--------------------------------------------------\n",
      "flow time: 2740, util : 0.786, makespan : 285\n",
      "n_episode: 763, score : -366.0, n_buffer : 10000, eps : 1.0%\n",
      "--------------------------------------------------\n",
      "flow time: 2780, util : 0.802, makespan : 286\n",
      "n_episode: 764, score : -339.0, n_buffer : 10000, eps : 1.0%\n",
      "--------------------------------------------------\n",
      "flow time: 2783, util : 0.805, makespan : 286\n",
      "n_episode: 765, score : -334.0, n_buffer : 10000, eps : 1.0%\n",
      "--------------------------------------------------\n",
      "flow time: 2779, util : 0.749, makespan : 307\n",
      "n_episode: 766, score : -462.0, n_buffer : 10000, eps : 1.0%\n",
      "--------------------------------------------------\n",
      "flow time: 2782, util : 0.802, makespan : 286\n",
      "n_episode: 767, score : -339.0, n_buffer : 10000, eps : 1.0%\n",
      "--------------------------------------------------\n",
      "flow time: 2798, util : 0.784, makespan : 296\n",
      "n_episode: 768, score : -383.0, n_buffer : 10000, eps : 1.0%\n",
      "--------------------------------------------------\n",
      "flow time: 2798, util : 0.784, makespan : 296\n",
      "n_episode: 769, score : -383.0, n_buffer : 10000, eps : 1.0%\n",
      "--------------------------------------------------\n",
      "flow time: 2810, util : 0.794, makespan : 295\n",
      "n_episode: 770, score : -364.0, n_buffer : 10000, eps : 1.0%\n",
      "--------------------------------------------------\n",
      "flow time: 2881, util : 0.782, makespan : 291\n",
      "n_episode: 771, score : -381.0, n_buffer : 10000, eps : 1.0%\n",
      "--------------------------------------------------\n",
      "flow time: 2787, util : 0.800, makespan : 286\n",
      "n_episode: 772, score : -344.0, n_buffer : 10000, eps : 1.0%\n",
      "--------------------------------------------------\n",
      "flow time: 2685, util : 0.812, makespan : 274\n",
      "n_episode: 773, score : -309.0, n_buffer : 10000, eps : 1.0%\n",
      "--------------------------------------------------\n",
      "flow time: 2810, util : 0.794, makespan : 295\n",
      "n_episode: 774, score : -364.0, n_buffer : 10000, eps : 1.0%\n",
      "--------------------------------------------------\n",
      "flow time: 2682, util : 0.753, makespan : 293\n",
      "n_episode: 775, score : -435.0, n_buffer : 10000, eps : 1.0%\n",
      "--------------------------------------------------\n",
      "flow time: 2773, util : 0.700, makespan : 324\n",
      "n_episode: 776, score : -583.0, n_buffer : 10000, eps : 1.0%\n",
      "--------------------------------------------------\n",
      "flow time: 2757, util : 0.801, makespan : 281\n",
      "n_episode: 777, score : -335.0, n_buffer : 10000, eps : 1.0%\n",
      "--------------------------------------------------\n",
      "flow time: 2788, util : 0.802, makespan : 273\n",
      "n_episode: 778, score : -325.0, n_buffer : 10000, eps : 1.0%\n",
      "--------------------------------------------------\n",
      "flow time: 2800, util : 0.784, makespan : 295\n",
      "n_episode: 779, score : -382.0, n_buffer : 10000, eps : 1.0%\n",
      "--------------------------------------------------\n",
      "flow time: 2746, util : 0.766, makespan : 296\n",
      "n_episode: 780, score : -415.0, n_buffer : 10000, eps : 1.0%\n",
      "--------------------------------------------------\n",
      "flow time: 2670, util : 0.821, makespan : 277\n",
      "n_episode: 781, score : -297.0, n_buffer : 10000, eps : 1.0%\n",
      "--------------------------------------------------\n",
      "flow time: 2852, util : 0.770, makespan : 285\n",
      "n_episode: 782, score : -393.0, n_buffer : 10000, eps : 1.0%\n"
     ]
    },
    {
     "name": "stdout",
     "output_type": "stream",
     "text": [
      "--------------------------------------------------\n",
      "flow time: 2682, util : 0.753, makespan : 293\n",
      "n_episode: 783, score : -435.0, n_buffer : 10000, eps : 1.0%\n",
      "--------------------------------------------------\n",
      "flow time: 2713, util : 0.750, makespan : 299\n",
      "n_episode: 784, score : -448.0, n_buffer : 10000, eps : 1.0%\n",
      "--------------------------------------------------\n",
      "flow time: 2610, util : 0.772, makespan : 281\n",
      "n_episode: 785, score : -385.0, n_buffer : 10000, eps : 1.0%\n",
      "--------------------------------------------------\n",
      "flow time: 2894, util : 0.697, makespan : 316\n",
      "n_episode: 786, score : -574.0, n_buffer : 10000, eps : 1.0%\n",
      "--------------------------------------------------\n",
      "flow time: 2772, util : 0.733, makespan : 297\n",
      "n_episode: 787, score : -476.0, n_buffer : 10000, eps : 1.0%\n",
      "--------------------------------------------------\n",
      "flow time: 2896, util : 0.738, makespan : 301\n",
      "n_episode: 788, score : -474.0, n_buffer : 10000, eps : 1.0%\n",
      "--------------------------------------------------\n",
      "flow time: 2784, util : 0.717, makespan : 294\n",
      "n_episode: 789, score : -499.0, n_buffer : 10000, eps : 1.0%\n",
      "--------------------------------------------------\n",
      "flow time: 2814, util : 0.820, makespan : 255\n",
      "n_episode: 790, score : -276.0, n_buffer : 10000, eps : 1.0%\n",
      "--------------------------------------------------\n",
      "flow time: 2784, util : 0.809, makespan : 263\n",
      "n_episode: 791, score : -301.0, n_buffer : 10000, eps : 1.0%\n",
      "--------------------------------------------------\n",
      "flow time: 2806, util : 0.798, makespan : 287\n",
      "n_episode: 792, score : -347.0, n_buffer : 10000, eps : 1.0%\n",
      "--------------------------------------------------\n",
      "flow time: 2781, util : 0.776, makespan : 295\n",
      "n_episode: 793, score : -397.0, n_buffer : 10000, eps : 1.0%\n",
      "--------------------------------------------------\n",
      "flow time: 2893, util : 0.791, makespan : 296\n",
      "n_episode: 794, score : -371.0, n_buffer : 10000, eps : 1.0%\n",
      "--------------------------------------------------\n",
      "flow time: 3048, util : 0.796, makespan : 291\n",
      "n_episode: 795, score : -357.0, n_buffer : 10000, eps : 1.0%\n",
      "--------------------------------------------------\n",
      "flow time: 2864, util : 0.835, makespan : 262\n",
      "n_episode: 796, score : -260.0, n_buffer : 10000, eps : 1.0%\n",
      "--------------------------------------------------\n",
      "flow time: 2937, util : 0.802, makespan : 280\n",
      "n_episode: 797, score : -332.0, n_buffer : 10000, eps : 1.0%\n",
      "--------------------------------------------------\n",
      "flow time: 2750, util : 0.791, makespan : 270\n",
      "n_episode: 798, score : -339.0, n_buffer : 10000, eps : 1.0%\n",
      "--------------------------------------------------\n",
      "flow time: 2954, util : 0.843, makespan : 269\n",
      "n_episode: 799, score : -254.0, n_buffer : 10000, eps : 1.0%\n",
      "--------------------------------------------------\n",
      "flow time: 2916, util : 0.843, makespan : 264\n",
      "n_episode: 800, score : -249.0, n_buffer : 10000, eps : 1.0%\n",
      "--------------------------------------------------\n",
      "flow time: 3223, util : 0.833, makespan : 256\n",
      "n_episode: 801, score : -256.0, n_buffer : 10000, eps : 1.0%\n",
      "--------------------------------------------------\n",
      "flow time: 3231, util : 0.776, makespan : 310\n",
      "n_episode: 802, score : -416.0, n_buffer : 10000, eps : 1.0%\n",
      "--------------------------------------------------\n",
      "flow time: 3301, util : 0.806, makespan : 291\n",
      "n_episode: 803, score : -339.0, n_buffer : 10000, eps : 1.0%\n",
      "--------------------------------------------------\n",
      "flow time: 3359, util : 0.781, makespan : 306\n",
      "n_episode: 804, score : -402.0, n_buffer : 10000, eps : 1.0%\n",
      "--------------------------------------------------\n",
      "flow time: 3345, util : 0.773, makespan : 314\n",
      "n_episode: 805, score : -427.0, n_buffer : 10000, eps : 1.0%\n",
      "--------------------------------------------------\n",
      "flow time: 3301, util : 0.735, makespan : 317\n",
      "n_episode: 806, score : -504.0, n_buffer : 10000, eps : 1.0%\n",
      "--------------------------------------------------\n",
      "flow time: 3332, util : 0.764, makespan : 312\n",
      "n_episode: 807, score : -442.0, n_buffer : 10000, eps : 1.0%\n",
      "--------------------------------------------------\n",
      "flow time: 3328, util : 0.775, makespan : 313\n",
      "n_episode: 808, score : -423.0, n_buffer : 10000, eps : 1.0%\n",
      "--------------------------------------------------\n",
      "flow time: 3110, util : 0.774, makespan : 300\n",
      "n_episode: 809, score : -407.0, n_buffer : 10000, eps : 1.0%\n",
      "--------------------------------------------------\n",
      "flow time: 2914, util : 0.815, makespan : 280\n",
      "n_episode: 810, score : -311.0, n_buffer : 10000, eps : 1.0%\n",
      "--------------------------------------------------\n",
      "flow time: 2687, util : 0.797, makespan : 274\n",
      "n_episode: 811, score : -333.0, n_buffer : 10000, eps : 1.0%\n",
      "--------------------------------------------------\n",
      "flow time: 2907, util : 0.779, makespan : 301\n",
      "n_episode: 812, score : -399.0, n_buffer : 10000, eps : 1.0%\n",
      "--------------------------------------------------\n",
      "flow time: 2795, util : 0.810, makespan : 284\n",
      "n_episode: 813, score : -323.0, n_buffer : 10000, eps : 1.0%\n",
      "--------------------------------------------------\n",
      "flow time: 2720, util : 0.828, makespan : 270\n",
      "n_episode: 814, score : -278.0, n_buffer : 10000, eps : 1.0%\n",
      "--------------------------------------------------\n",
      "flow time: 2736, util : 0.747, makespan : 296\n",
      "n_episode: 815, score : -450.0, n_buffer : 10000, eps : 1.0%\n",
      "--------------------------------------------------\n",
      "flow time: 2934, util : 0.814, makespan : 278\n",
      "n_episode: 816, score : -310.0, n_buffer : 10000, eps : 1.0%\n",
      "--------------------------------------------------\n",
      "flow time: 2780, util : 0.850, makespan : 263\n",
      "n_episode: 817, score : -236.0, n_buffer : 10000, eps : 1.0%\n",
      "--------------------------------------------------\n",
      "flow time: 3257, util : 0.875, makespan : 253\n",
      "n_episode: 818, score : -189.0, n_buffer : 10000, eps : 1.0%\n",
      "--------------------------------------------------\n",
      "flow time: 3318, util : 0.745, makespan : 323\n",
      "n_episode: 819, score : -494.0, n_buffer : 10000, eps : 1.0%\n",
      "--------------------------------------------------\n",
      "flow time: 3265, util : 0.773, makespan : 305\n",
      "n_episode: 820, score : -415.0, n_buffer : 10000, eps : 1.0%\n",
      "--------------------------------------------------\n",
      "flow time: 2941, util : 0.774, makespan : 296\n",
      "n_episode: 821, score : -401.0, n_buffer : 10000, eps : 1.0%\n",
      "--------------------------------------------------\n",
      "flow time: 2858, util : 0.745, makespan : 293\n",
      "n_episode: 822, score : -449.0, n_buffer : 10000, eps : 1.0%\n",
      "--------------------------------------------------\n",
      "flow time: 3133, util : 0.880, makespan : 249\n",
      "n_episode: 823, score : -179.0, n_buffer : 10000, eps : 1.0%\n",
      "--------------------------------------------------\n",
      "flow time: 2980, util : 0.864, makespan : 235\n",
      "n_episode: 824, score : -192.0, n_buffer : 10000, eps : 1.0%\n",
      "--------------------------------------------------\n",
      "flow time: 2965, util : 0.832, makespan : 245\n",
      "n_episode: 825, score : -247.0, n_buffer : 10000, eps : 1.0%\n",
      "--------------------------------------------------\n",
      "flow time: 3457, util : 0.788, makespan : 224\n",
      "n_episode: 826, score : -285.0, n_buffer : 10000, eps : 1.0%\n",
      "--------------------------------------------------\n",
      "flow time: 3051, util : 0.763, makespan : 278\n",
      "n_episode: 827, score : -395.0, n_buffer : 10000, eps : 1.0%\n",
      "--------------------------------------------------\n",
      "flow time: 3058, util : 0.811, makespan : 256\n",
      "n_episode: 828, score : -290.0, n_buffer : 10000, eps : 1.0%\n",
      "--------------------------------------------------\n",
      "flow time: 3231, util : 0.743, makespan : 270\n",
      "n_episode: 829, score : -417.0, n_buffer : 10000, eps : 1.0%\n",
      "--------------------------------------------------\n",
      "flow time: 2934, util : 0.824, makespan : 265\n",
      "n_episode: 830, score : -280.0, n_buffer : 10000, eps : 1.0%\n",
      "--------------------------------------------------\n",
      "flow time: 3465, util : 0.834, makespan : 231\n",
      "n_episode: 831, score : -230.0, n_buffer : 10000, eps : 1.0%\n",
      "--------------------------------------------------\n",
      "flow time: 3275, util : 0.821, makespan : 254\n",
      "n_episode: 832, score : -273.0, n_buffer : 10000, eps : 1.0%\n",
      "--------------------------------------------------\n",
      "flow time: 3397, util : 0.772, makespan : 294\n",
      "n_episode: 833, score : -402.0, n_buffer : 10000, eps : 1.0%\n",
      "--------------------------------------------------\n",
      "flow time: 3152, util : 0.793, makespan : 298\n",
      "n_episode: 834, score : -371.0, n_buffer : 10000, eps : 1.0%\n"
     ]
    },
    {
     "name": "stdout",
     "output_type": "stream",
     "text": [
      "--------------------------------------------------\n",
      "flow time: 3285, util : 0.743, makespan : 318\n",
      "n_episode: 835, score : -490.0, n_buffer : 10000, eps : 1.0%\n",
      "--------------------------------------------------\n",
      "flow time: 2906, util : 0.782, makespan : 300\n",
      "n_episode: 836, score : -393.0, n_buffer : 10000, eps : 1.0%\n",
      "--------------------------------------------------\n",
      "flow time: 2955, util : 0.789, makespan : 288\n",
      "n_episode: 837, score : -365.0, n_buffer : 10000, eps : 1.0%\n",
      "--------------------------------------------------\n",
      "flow time: 2704, util : 0.752, makespan : 296\n",
      "n_episode: 838, score : -440.0, n_buffer : 10000, eps : 1.0%\n",
      "--------------------------------------------------\n",
      "flow time: 2805, util : 0.797, makespan : 287\n",
      "n_episode: 839, score : -349.0, n_buffer : 10000, eps : 1.0%\n",
      "--------------------------------------------------\n",
      "flow time: 2662, util : 0.735, makespan : 294\n",
      "n_episode: 840, score : -467.0, n_buffer : 10000, eps : 1.0%\n",
      "--------------------------------------------------\n",
      "flow time: 2844, util : 0.742, makespan : 304\n",
      "n_episode: 841, score : -470.0, n_buffer : 10000, eps : 1.0%\n",
      "--------------------------------------------------\n",
      "flow time: 2788, util : 0.807, makespan : 287\n",
      "n_episode: 842, score : -333.0, n_buffer : 10000, eps : 1.0%\n",
      "--------------------------------------------------\n",
      "flow time: 2857, util : 0.781, makespan : 298\n",
      "n_episode: 843, score : -392.0, n_buffer : 10000, eps : 1.0%\n",
      "--------------------------------------------------\n",
      "flow time: 2729, util : 0.813, makespan : 277\n",
      "n_episode: 844, score : -310.0, n_buffer : 10000, eps : 1.0%\n",
      "--------------------------------------------------\n",
      "flow time: 2783, util : 0.793, makespan : 290\n",
      "n_episode: 845, score : -361.0, n_buffer : 10000, eps : 1.0%\n",
      "--------------------------------------------------\n",
      "flow time: 3068, util : 0.855, makespan : 246\n",
      "n_episode: 846, score : -214.0, n_buffer : 10000, eps : 1.0%\n",
      "--------------------------------------------------\n",
      "flow time: 2704, util : 0.808, makespan : 270\n",
      "n_episode: 847, score : -311.0, n_buffer : 10000, eps : 1.0%\n",
      "--------------------------------------------------\n",
      "flow time: 2742, util : 0.793, makespan : 279\n",
      "n_episode: 848, score : -346.0, n_buffer : 10000, eps : 1.0%\n",
      "--------------------------------------------------\n",
      "flow time: 2770, util : 0.781, makespan : 284\n",
      "n_episode: 849, score : -373.0, n_buffer : 10000, eps : 1.0%\n",
      "--------------------------------------------------\n",
      "flow time: 3148, util : 0.757, makespan : 312\n",
      "n_episode: 850, score : -455.0, n_buffer : 10000, eps : 1.0%\n",
      "--------------------------------------------------\n",
      "flow time: 3100, util : 0.800, makespan : 294\n",
      "n_episode: 851, score : -352.0, n_buffer : 10000, eps : 1.0%\n",
      "--------------------------------------------------\n",
      "flow time: 2945, util : 0.783, makespan : 292\n",
      "n_episode: 852, score : -380.0, n_buffer : 10000, eps : 1.0%\n",
      "--------------------------------------------------\n",
      "flow time: 3141, util : 0.816, makespan : 272\n",
      "n_episode: 853, score : -300.0, n_buffer : 10000, eps : 1.0%\n",
      "--------------------------------------------------\n",
      "flow time: 3066, util : 0.816, makespan : 266\n",
      "n_episode: 854, score : -294.0, n_buffer : 10000, eps : 1.0%\n",
      "--------------------------------------------------\n",
      "flow time: 2793, util : 0.782, makespan : 296\n",
      "n_episode: 855, score : -387.0, n_buffer : 10000, eps : 1.0%\n",
      "--------------------------------------------------\n",
      "flow time: 2650, util : 0.793, makespan : 286\n",
      "n_episode: 856, score : -356.0, n_buffer : 10000, eps : 1.0%\n",
      "--------------------------------------------------\n",
      "flow time: 2780, util : 0.762, makespan : 303\n",
      "n_episode: 857, score : -432.0, n_buffer : 10000, eps : 1.0%\n",
      "--------------------------------------------------\n",
      "flow time: 2766, util : 0.807, makespan : 279\n",
      "n_episode: 858, score : -323.0, n_buffer : 10000, eps : 1.0%\n",
      "--------------------------------------------------\n",
      "flow time: 2992, util : 0.725, makespan : 304\n",
      "n_episode: 859, score : -501.0, n_buffer : 10000, eps : 1.0%\n",
      "--------------------------------------------------\n",
      "flow time: 2848, util : 0.812, makespan : 261\n",
      "n_episode: 860, score : -294.0, n_buffer : 10000, eps : 1.0%\n",
      "--------------------------------------------------\n",
      "flow time: 3075, util : 0.746, makespan : 318\n",
      "n_episode: 861, score : -485.0, n_buffer : 10000, eps : 1.0%\n",
      "--------------------------------------------------\n",
      "flow time: 3119, util : 0.746, makespan : 318\n",
      "n_episode: 862, score : -485.0, n_buffer : 10000, eps : 1.0%\n",
      "--------------------------------------------------\n",
      "flow time: 2921, util : 0.792, makespan : 287\n",
      "n_episode: 863, score : -359.0, n_buffer : 10000, eps : 1.0%\n",
      "--------------------------------------------------\n",
      "flow time: 2896, util : 0.831, makespan : 270\n",
      "n_episode: 864, score : -274.0, n_buffer : 10000, eps : 1.0%\n",
      "--------------------------------------------------\n",
      "flow time: 2991, util : 0.857, makespan : 242\n",
      "n_episode: 865, score : -207.0, n_buffer : 10000, eps : 1.0%\n",
      "--------------------------------------------------\n",
      "flow time: 3278, util : 0.810, makespan : 253\n",
      "n_episode: 866, score : -289.0, n_buffer : 10000, eps : 1.0%\n",
      "--------------------------------------------------\n",
      "flow time: 3158, util : 0.775, makespan : 272\n",
      "n_episode: 867, score : -367.0, n_buffer : 10000, eps : 1.0%\n",
      "--------------------------------------------------\n",
      "flow time: 2711, util : 0.766, makespan : 287\n",
      "n_episode: 868, score : -403.0, n_buffer : 10000, eps : 1.0%\n",
      "--------------------------------------------------\n",
      "flow time: 2649, util : 0.797, makespan : 285\n",
      "n_episode: 869, score : -347.0, n_buffer : 10000, eps : 1.0%\n",
      "--------------------------------------------------\n",
      "flow time: 2949, util : 0.846, makespan : 248\n",
      "n_episode: 870, score : -229.0, n_buffer : 10000, eps : 1.0%\n",
      "--------------------------------------------------\n",
      "flow time: 2850, util : 0.797, makespan : 299\n",
      "n_episode: 871, score : -364.0, n_buffer : 10000, eps : 1.0%\n",
      "--------------------------------------------------\n",
      "flow time: 2649, util : 0.797, makespan : 285\n",
      "n_episode: 872, score : -347.0, n_buffer : 10000, eps : 1.0%\n",
      "--------------------------------------------------\n",
      "flow time: 3093, util : 0.867, makespan : 240\n",
      "n_episode: 873, score : -192.0, n_buffer : 10000, eps : 1.0%\n",
      "--------------------------------------------------\n",
      "flow time: 3206, util : 0.848, makespan : 246\n",
      "n_episode: 874, score : -225.0, n_buffer : 10000, eps : 1.0%\n",
      "--------------------------------------------------\n",
      "flow time: 2665, util : 0.786, makespan : 287\n",
      "n_episode: 875, score : -369.0, n_buffer : 10000, eps : 1.0%\n",
      "--------------------------------------------------\n",
      "flow time: 2649, util : 0.797, makespan : 285\n",
      "n_episode: 876, score : -347.0, n_buffer : 10000, eps : 1.0%\n",
      "--------------------------------------------------\n",
      "flow time: 2786, util : 0.824, makespan : 276\n",
      "n_episode: 877, score : -292.0, n_buffer : 10000, eps : 1.0%\n",
      "--------------------------------------------------\n",
      "flow time: 3131, util : 0.778, makespan : 305\n",
      "n_episode: 878, score : -406.0, n_buffer : 10000, eps : 1.0%\n",
      "--------------------------------------------------\n",
      "flow time: 3232, util : 0.879, makespan : 249\n",
      "n_episode: 879, score : -181.0, n_buffer : 10000, eps : 1.0%\n",
      "--------------------------------------------------\n",
      "flow time: 2811, util : 0.821, makespan : 280\n",
      "n_episode: 880, score : -300.0, n_buffer : 10000, eps : 1.0%\n",
      "--------------------------------------------------\n",
      "flow time: 2649, util : 0.797, makespan : 285\n",
      "n_episode: 881, score : -347.0, n_buffer : 10000, eps : 1.0%\n",
      "--------------------------------------------------\n",
      "flow time: 2711, util : 0.776, makespan : 287\n",
      "n_episode: 882, score : -386.0, n_buffer : 10000, eps : 1.0%\n",
      "--------------------------------------------------\n",
      "flow time: 2649, util : 0.797, makespan : 285\n",
      "n_episode: 883, score : -347.0, n_buffer : 10000, eps : 1.0%\n",
      "--------------------------------------------------\n",
      "flow time: 2710, util : 0.790, makespan : 284\n",
      "n_episode: 884, score : -357.0, n_buffer : 10000, eps : 1.0%\n",
      "--------------------------------------------------\n",
      "flow time: 2835, util : 0.751, makespan : 309\n",
      "n_episode: 885, score : -461.0, n_buffer : 10000, eps : 1.0%\n",
      "--------------------------------------------------\n",
      "flow time: 2649, util : 0.797, makespan : 285\n",
      "n_episode: 886, score : -347.0, n_buffer : 10000, eps : 1.0%\n"
     ]
    },
    {
     "name": "stdout",
     "output_type": "stream",
     "text": [
      "--------------------------------------------------\n",
      "flow time: 2769, util : 0.793, makespan : 282\n",
      "n_episode: 887, score : -350.0, n_buffer : 10000, eps : 1.0%\n",
      "--------------------------------------------------\n",
      "flow time: 3192, util : 0.761, makespan : 312\n",
      "n_episode: 888, score : -447.0, n_buffer : 10000, eps : 1.0%\n",
      "--------------------------------------------------\n",
      "flow time: 3055, util : 0.761, makespan : 310\n",
      "n_episode: 889, score : -445.0, n_buffer : 10000, eps : 1.0%\n",
      "--------------------------------------------------\n",
      "flow time: 2645, util : 0.798, makespan : 280\n",
      "n_episode: 890, score : -340.0, n_buffer : 10000, eps : 1.0%\n",
      "--------------------------------------------------\n",
      "flow time: 2649, util : 0.797, makespan : 285\n",
      "n_episode: 891, score : -347.0, n_buffer : 10000, eps : 1.0%\n",
      "--------------------------------------------------\n",
      "flow time: 2742, util : 0.794, makespan : 287\n",
      "n_episode: 892, score : -354.0, n_buffer : 10000, eps : 1.0%\n",
      "--------------------------------------------------\n",
      "flow time: 2769, util : 0.761, makespan : 294\n",
      "n_episode: 893, score : -422.0, n_buffer : 10000, eps : 1.0%\n",
      "--------------------------------------------------\n",
      "flow time: 3048, util : 0.725, makespan : 311\n",
      "n_episode: 894, score : -513.0, n_buffer : 10000, eps : 1.0%\n",
      "--------------------------------------------------\n",
      "flow time: 2768, util : 0.809, makespan : 286\n",
      "n_episode: 895, score : -328.0, n_buffer : 10000, eps : 1.0%\n",
      "--------------------------------------------------\n",
      "flow time: 3046, util : 0.736, makespan : 295\n",
      "n_episode: 896, score : -468.0, n_buffer : 10000, eps : 1.0%\n",
      "--------------------------------------------------\n",
      "flow time: 2992, util : 0.815, makespan : 268\n",
      "n_episode: 897, score : -298.0, n_buffer : 10000, eps : 1.0%\n",
      "--------------------------------------------------\n",
      "flow time: 3139, util : 0.836, makespan : 251\n",
      "n_episode: 898, score : -247.0, n_buffer : 10000, eps : 1.0%\n",
      "--------------------------------------------------\n",
      "flow time: 2764, util : 0.776, makespan : 297\n",
      "n_episode: 899, score : -399.0, n_buffer : 10000, eps : 1.0%\n",
      "--------------------------------------------------\n",
      "flow time: 2682, util : 0.809, makespan : 272\n",
      "n_episode: 900, score : -312.0, n_buffer : 10000, eps : 1.0%\n",
      "--------------------------------------------------\n",
      "flow time: 2948, util : 0.729, makespan : 316\n",
      "n_episode: 901, score : -514.0, n_buffer : 10000, eps : 1.0%\n",
      "--------------------------------------------------\n",
      "flow time: 3192, util : 0.834, makespan : 269\n",
      "n_episode: 902, score : -268.0, n_buffer : 10000, eps : 1.0%\n",
      "--------------------------------------------------\n",
      "flow time: 2718, util : 0.835, makespan : 273\n",
      "n_episode: 903, score : -271.0, n_buffer : 10000, eps : 1.0%\n",
      "--------------------------------------------------\n",
      "flow time: 3047, util : 0.816, makespan : 275\n",
      "n_episode: 904, score : -304.0, n_buffer : 10000, eps : 1.0%\n",
      "--------------------------------------------------\n",
      "flow time: 2968, util : 0.771, makespan : 280\n",
      "n_episode: 905, score : -384.0, n_buffer : 10000, eps : 1.0%\n",
      "--------------------------------------------------\n",
      "flow time: 2951, util : 0.867, makespan : 244\n",
      "n_episode: 906, score : -195.0, n_buffer : 10000, eps : 1.0%\n",
      "--------------------------------------------------\n",
      "flow time: 2968, util : 0.779, makespan : 283\n",
      "n_episode: 907, score : -376.0, n_buffer : 10000, eps : 1.0%\n",
      "--------------------------------------------------\n",
      "flow time: 3076, util : 0.778, makespan : 296\n",
      "n_episode: 908, score : -394.0, n_buffer : 10000, eps : 1.0%\n",
      "--------------------------------------------------\n",
      "flow time: 3229, util : 0.808, makespan : 272\n",
      "n_episode: 909, score : -314.0, n_buffer : 10000, eps : 1.0%\n",
      "--------------------------------------------------\n",
      "flow time: 3131, util : 0.779, makespan : 277\n",
      "n_episode: 910, score : -367.0, n_buffer : 10000, eps : 1.0%\n",
      "--------------------------------------------------\n",
      "flow time: 3100, util : 0.787, makespan : 293\n",
      "n_episode: 911, score : -375.0, n_buffer : 10000, eps : 1.0%\n",
      "--------------------------------------------------\n",
      "flow time: 3413, util : 0.804, makespan : 306\n",
      "n_episode: 912, score : -359.0, n_buffer : 10000, eps : 1.0%\n",
      "--------------------------------------------------\n",
      "flow time: 3294, util : 0.830, makespan : 276\n",
      "n_episode: 913, score : -281.0, n_buffer : 10000, eps : 1.0%\n",
      "--------------------------------------------------\n",
      "flow time: 3129, util : 0.771, makespan : 298\n",
      "n_episode: 914, score : -409.0, n_buffer : 10000, eps : 1.0%\n",
      "--------------------------------------------------\n",
      "flow time: 2999, util : 0.781, makespan : 295\n",
      "n_episode: 915, score : -388.0, n_buffer : 10000, eps : 1.0%\n",
      "--------------------------------------------------\n",
      "flow time: 3071, util : 0.776, makespan : 291\n",
      "n_episode: 916, score : -391.0, n_buffer : 10000, eps : 1.0%\n",
      "--------------------------------------------------\n",
      "flow time: 2907, util : 0.785, makespan : 284\n",
      "n_episode: 917, score : -366.0, n_buffer : 10000, eps : 1.0%\n",
      "--------------------------------------------------\n",
      "flow time: 3025, util : 0.793, makespan : 296\n",
      "n_episode: 918, score : -367.0, n_buffer : 10000, eps : 1.0%\n",
      "--------------------------------------------------\n",
      "flow time: 3100, util : 0.787, makespan : 293\n",
      "n_episode: 919, score : -375.0, n_buffer : 10000, eps : 1.0%\n",
      "--------------------------------------------------\n",
      "flow time: 2967, util : 0.787, makespan : 290\n",
      "n_episode: 920, score : -370.0, n_buffer : 10000, eps : 1.0%\n",
      "--------------------------------------------------\n",
      "flow time: 3183, util : 0.805, makespan : 287\n",
      "n_episode: 921, score : -336.0, n_buffer : 10000, eps : 1.0%\n",
      "--------------------------------------------------\n",
      "flow time: 2820, util : 0.789, makespan : 295\n",
      "n_episode: 922, score : -373.0, n_buffer : 10000, eps : 1.0%\n",
      "--------------------------------------------------\n",
      "flow time: 3115, util : 0.820, makespan : 269\n",
      "n_episode: 923, score : -290.0, n_buffer : 10000, eps : 1.0%\n",
      "--------------------------------------------------\n",
      "flow time: 2683, util : 0.815, makespan : 280\n",
      "n_episode: 924, score : -310.0, n_buffer : 10000, eps : 1.0%\n",
      "--------------------------------------------------\n",
      "flow time: 2876, util : 0.771, makespan : 288\n",
      "n_episode: 925, score : -396.0, n_buffer : 10000, eps : 1.0%\n",
      "--------------------------------------------------\n",
      "flow time: 2649, util : 0.797, makespan : 285\n",
      "n_episode: 926, score : -347.0, n_buffer : 10000, eps : 1.0%\n",
      "--------------------------------------------------\n",
      "flow time: 2780, util : 0.826, makespan : 276\n",
      "n_episode: 927, score : -288.0, n_buffer : 10000, eps : 1.0%\n",
      "--------------------------------------------------\n",
      "flow time: 3318, util : 0.685, makespan : 343\n",
      "n_episode: 928, score : -648.0, n_buffer : 10000, eps : 1.0%\n",
      "--------------------------------------------------\n",
      "flow time: 2801, util : 0.816, makespan : 282\n",
      "n_episode: 929, score : -311.0, n_buffer : 10000, eps : 1.0%\n",
      "--------------------------------------------------\n",
      "flow time: 2766, util : 0.769, makespan : 274\n",
      "n_episode: 930, score : -380.0, n_buffer : 10000, eps : 1.0%\n",
      "--------------------------------------------------\n",
      "flow time: 2846, util : 0.739, makespan : 281\n",
      "n_episode: 931, score : -440.0, n_buffer : 10000, eps : 1.0%\n",
      "--------------------------------------------------\n",
      "flow time: 2801, util : 0.748, makespan : 281\n",
      "n_episode: 932, score : -425.0, n_buffer : 10000, eps : 1.0%\n",
      "--------------------------------------------------\n",
      "flow time: 2733, util : 0.807, makespan : 280\n",
      "n_episode: 933, score : -325.0, n_buffer : 10000, eps : 1.0%\n",
      "--------------------------------------------------\n",
      "flow time: 2866, util : 0.798, makespan : 277\n",
      "n_episode: 934, score : -335.0, n_buffer : 10000, eps : 1.0%\n",
      "--------------------------------------------------\n",
      "flow time: 3045, util : 0.749, makespan : 290\n",
      "n_episode: 935, score : -437.0, n_buffer : 10000, eps : 1.0%\n",
      "--------------------------------------------------\n",
      "flow time: 3004, util : 0.817, makespan : 269\n",
      "n_episode: 936, score : -296.0, n_buffer : 10000, eps : 1.0%\n",
      "--------------------------------------------------\n",
      "flow time: 2863, util : 0.771, makespan : 293\n",
      "n_episode: 937, score : -403.0, n_buffer : 10000, eps : 1.0%\n",
      "--------------------------------------------------\n",
      "flow time: 2710, util : 0.787, makespan : 281\n",
      "n_episode: 938, score : -359.0, n_buffer : 10000, eps : 1.0%\n"
     ]
    },
    {
     "name": "stdout",
     "output_type": "stream",
     "text": [
      "--------------------------------------------------\n",
      "flow time: 2795, util : 0.787, makespan : 285\n",
      "n_episode: 939, score : -364.0, n_buffer : 10000, eps : 1.0%\n",
      "--------------------------------------------------\n",
      "flow time: 2626, util : 0.830, makespan : 264\n",
      "n_episode: 940, score : -270.0, n_buffer : 10000, eps : 1.0%\n",
      "--------------------------------------------------\n",
      "flow time: 2622, util : 0.813, makespan : 267\n",
      "n_episode: 941, score : -300.0, n_buffer : 10000, eps : 1.0%\n",
      "--------------------------------------------------\n",
      "flow time: 2771, util : 0.788, makespan : 293\n",
      "n_episode: 942, score : -373.0, n_buffer : 10000, eps : 1.0%\n",
      "--------------------------------------------------\n",
      "flow time: 2752, util : 0.739, makespan : 299\n",
      "n_episode: 943, score : -468.0, n_buffer : 10000, eps : 1.0%\n",
      "--------------------------------------------------\n",
      "flow time: 2655, util : 0.753, makespan : 289\n",
      "n_episode: 944, score : -429.0, n_buffer : 10000, eps : 1.0%\n",
      "--------------------------------------------------\n",
      "flow time: 3002, util : 0.786, makespan : 276\n",
      "n_episode: 945, score : -354.0, n_buffer : 10000, eps : 1.0%\n",
      "--------------------------------------------------\n",
      "flow time: 2687, util : 0.815, makespan : 280\n",
      "n_episode: 946, score : -310.0, n_buffer : 10000, eps : 1.0%\n",
      "--------------------------------------------------\n",
      "flow time: 2649, util : 0.797, makespan : 285\n",
      "n_episode: 947, score : -347.0, n_buffer : 10000, eps : 1.0%\n",
      "--------------------------------------------------\n",
      "flow time: 2666, util : 0.807, makespan : 277\n",
      "n_episode: 948, score : -321.0, n_buffer : 10000, eps : 1.0%\n",
      "--------------------------------------------------\n",
      "flow time: 2669, util : 0.817, makespan : 282\n",
      "n_episode: 949, score : -309.0, n_buffer : 10000, eps : 1.0%\n",
      "--------------------------------------------------\n",
      "flow time: 2649, util : 0.797, makespan : 285\n",
      "n_episode: 950, score : -347.0, n_buffer : 10000, eps : 1.0%\n",
      "--------------------------------------------------\n",
      "flow time: 2649, util : 0.797, makespan : 285\n",
      "n_episode: 951, score : -347.0, n_buffer : 10000, eps : 1.0%\n",
      "--------------------------------------------------\n",
      "flow time: 2765, util : 0.800, makespan : 277\n",
      "n_episode: 952, score : -332.0, n_buffer : 10000, eps : 1.0%\n",
      "--------------------------------------------------\n",
      "flow time: 2642, util : 0.851, makespan : 257\n",
      "n_episode: 953, score : -229.0, n_buffer : 10000, eps : 1.0%\n",
      "--------------------------------------------------\n",
      "flow time: 2757, util : 0.824, makespan : 262\n",
      "n_episode: 954, score : -276.0, n_buffer : 10000, eps : 1.0%\n",
      "--------------------------------------------------\n",
      "flow time: 2765, util : 0.769, makespan : 290\n",
      "n_episode: 955, score : -402.0, n_buffer : 10000, eps : 1.0%\n",
      "--------------------------------------------------\n",
      "flow time: 2650, util : 0.793, makespan : 286\n",
      "n_episode: 956, score : -356.0, n_buffer : 10000, eps : 1.0%\n",
      "--------------------------------------------------\n",
      "flow time: 2649, util : 0.797, makespan : 285\n",
      "n_episode: 957, score : -347.0, n_buffer : 10000, eps : 1.0%\n",
      "--------------------------------------------------\n",
      "flow time: 2672, util : 0.774, makespan : 285\n",
      "n_episode: 958, score : -387.0, n_buffer : 10000, eps : 1.0%\n",
      "--------------------------------------------------\n",
      "flow time: 2664, util : 0.838, makespan : 265\n",
      "n_episode: 959, score : -258.0, n_buffer : 10000, eps : 1.0%\n",
      "--------------------------------------------------\n",
      "flow time: 2795, util : 0.793, makespan : 286\n",
      "n_episode: 960, score : -356.0, n_buffer : 10000, eps : 1.0%\n",
      "--------------------------------------------------\n",
      "flow time: 2643, util : 0.796, makespan : 274\n",
      "n_episode: 961, score : -335.0, n_buffer : 10000, eps : 1.0%\n",
      "--------------------------------------------------\n",
      "flow time: 2649, util : 0.797, makespan : 285\n",
      "n_episode: 962, score : -347.0, n_buffer : 10000, eps : 1.0%\n",
      "--------------------------------------------------\n",
      "flow time: 2711, util : 0.759, makespan : 300\n",
      "n_episode: 963, score : -434.0, n_buffer : 10000, eps : 1.0%\n",
      "--------------------------------------------------\n",
      "flow time: 2626, util : 0.823, makespan : 272\n",
      "n_episode: 964, score : -289.0, n_buffer : 10000, eps : 1.0%\n",
      "--------------------------------------------------\n",
      "flow time: 2670, util : 0.809, makespan : 274\n",
      "n_episode: 965, score : -314.0, n_buffer : 10000, eps : 1.0%\n",
      "--------------------------------------------------\n",
      "flow time: 2713, util : 0.791, makespan : 286\n",
      "n_episode: 966, score : -359.0, n_buffer : 10000, eps : 1.0%\n",
      "--------------------------------------------------\n",
      "flow time: 2742, util : 0.763, makespan : 292\n",
      "n_episode: 967, score : -416.0, n_buffer : 10000, eps : 1.0%\n",
      "--------------------------------------------------\n",
      "flow time: 2604, util : 0.831, makespan : 260\n",
      "n_episode: 968, score : -263.0, n_buffer : 10000, eps : 1.0%\n",
      "--------------------------------------------------\n",
      "flow time: 2745, util : 0.802, makespan : 282\n",
      "n_episode: 969, score : -335.0, n_buffer : 10000, eps : 1.0%\n",
      "--------------------------------------------------\n",
      "flow time: 2619, util : 0.801, makespan : 274\n",
      "n_episode: 970, score : -327.0, n_buffer : 10000, eps : 1.0%\n",
      "--------------------------------------------------\n",
      "flow time: 2672, util : 0.735, makespan : 305\n",
      "n_episode: 971, score : -485.0, n_buffer : 10000, eps : 1.0%\n",
      "--------------------------------------------------\n",
      "flow time: 2642, util : 0.758, makespan : 288\n",
      "n_episode: 972, score : -419.0, n_buffer : 10000, eps : 1.0%\n",
      "--------------------------------------------------\n",
      "flow time: 3013, util : 0.833, makespan : 257\n",
      "n_episode: 973, score : -258.0, n_buffer : 10000, eps : 1.0%\n",
      "--------------------------------------------------\n",
      "flow time: 2731, util : 0.823, makespan : 262\n",
      "n_episode: 974, score : -279.0, n_buffer : 10000, eps : 1.0%\n",
      "--------------------------------------------------\n",
      "flow time: 2692, util : 0.787, makespan : 264\n",
      "n_episode: 975, score : -337.0, n_buffer : 10000, eps : 1.0%\n",
      "--------------------------------------------------\n",
      "flow time: 2649, util : 0.797, makespan : 285\n",
      "n_episode: 976, score : -347.0, n_buffer : 10000, eps : 1.0%\n",
      "--------------------------------------------------\n",
      "flow time: 2649, util : 0.797, makespan : 285\n",
      "n_episode: 977, score : -347.0, n_buffer : 10000, eps : 1.0%\n",
      "--------------------------------------------------\n",
      "flow time: 2627, util : 0.797, makespan : 280\n",
      "n_episode: 978, score : -341.0, n_buffer : 10000, eps : 1.0%\n",
      "--------------------------------------------------\n",
      "flow time: 2676, util : 0.828, makespan : 276\n",
      "n_episode: 979, score : -285.0, n_buffer : 10000, eps : 1.0%\n",
      "--------------------------------------------------\n",
      "flow time: 2680, util : 0.803, makespan : 283\n",
      "n_episode: 980, score : -335.0, n_buffer : 10000, eps : 1.0%\n",
      "--------------------------------------------------\n",
      "flow time: 2724, util : 0.802, makespan : 281\n",
      "n_episode: 981, score : -333.0, n_buffer : 10000, eps : 1.0%\n",
      "--------------------------------------------------\n",
      "flow time: 2603, util : 0.807, makespan : 269\n",
      "n_episode: 982, score : -312.0, n_buffer : 10000, eps : 1.0%\n",
      "--------------------------------------------------\n",
      "flow time: 2717, util : 0.754, makespan : 296\n",
      "n_episode: 983, score : -437.0, n_buffer : 10000, eps : 1.0%\n",
      "--------------------------------------------------\n",
      "flow time: 2839, util : 0.793, makespan : 292\n",
      "n_episode: 984, score : -363.0, n_buffer : 10000, eps : 1.0%\n",
      "--------------------------------------------------\n",
      "flow time: 2649, util : 0.797, makespan : 285\n",
      "n_episode: 985, score : -347.0, n_buffer : 10000, eps : 1.0%\n",
      "--------------------------------------------------\n",
      "flow time: 2649, util : 0.797, makespan : 285\n",
      "n_episode: 986, score : -347.0, n_buffer : 10000, eps : 1.0%\n",
      "--------------------------------------------------\n",
      "flow time: 2680, util : 0.803, makespan : 283\n",
      "n_episode: 987, score : -335.0, n_buffer : 10000, eps : 1.0%\n",
      "--------------------------------------------------\n",
      "flow time: 2664, util : 0.830, makespan : 268\n",
      "n_episode: 988, score : -274.0, n_buffer : 10000, eps : 1.0%\n",
      "--------------------------------------------------\n",
      "flow time: 2767, util : 0.851, makespan : 270\n",
      "n_episode: 989, score : -242.0, n_buffer : 10000, eps : 1.0%\n",
      "--------------------------------------------------\n",
      "flow time: 3044, util : 0.817, makespan : 284\n",
      "n_episode: 990, score : -311.0, n_buffer : 10000, eps : 1.0%\n"
     ]
    },
    {
     "name": "stdout",
     "output_type": "stream",
     "text": [
      "--------------------------------------------------\n",
      "flow time: 2655, util : 0.801, makespan : 285\n",
      "n_episode: 991, score : -340.0, n_buffer : 10000, eps : 1.0%\n",
      "--------------------------------------------------\n",
      "flow time: 2693, util : 0.815, makespan : 273\n",
      "n_episode: 992, score : -303.0, n_buffer : 10000, eps : 1.0%\n",
      "--------------------------------------------------\n",
      "flow time: 2649, util : 0.797, makespan : 285\n",
      "n_episode: 993, score : -347.0, n_buffer : 10000, eps : 1.0%\n",
      "--------------------------------------------------\n",
      "flow time: 2666, util : 0.807, makespan : 277\n",
      "n_episode: 994, score : -321.0, n_buffer : 10000, eps : 1.0%\n",
      "--------------------------------------------------\n",
      "flow time: 2619, util : 0.801, makespan : 274\n",
      "n_episode: 995, score : -327.0, n_buffer : 10000, eps : 1.0%\n",
      "--------------------------------------------------\n",
      "flow time: 2649, util : 0.797, makespan : 285\n",
      "n_episode: 996, score : -347.0, n_buffer : 10000, eps : 1.0%\n",
      "--------------------------------------------------\n",
      "flow time: 2690, util : 0.771, makespan : 294\n",
      "n_episode: 997, score : -404.0, n_buffer : 10000, eps : 1.0%\n",
      "--------------------------------------------------\n",
      "flow time: 2649, util : 0.797, makespan : 285\n",
      "n_episode: 998, score : -347.0, n_buffer : 10000, eps : 1.0%\n",
      "--------------------------------------------------\n",
      "flow time: 3034, util : 0.785, makespan : 296\n",
      "n_episode: 999, score : -381.0, n_buffer : 10000, eps : 1.0%\n",
      "[-25.66155243 -27.2156105  -27.19031525 -26.18622017 -23.62264061\n",
      " -24.01217079]\n",
      "4\n",
      "0\n",
      "[-26.40227699 -28.03242111 -28.00144577 -27.05465508 -24.31027794\n",
      " -24.80721855]\n",
      "4\n",
      "0\n",
      "[-28.01268768 -28.96386147 -29.69862366 -28.25956535 -25.3363266\n",
      " -25.83330345]\n",
      "4\n",
      "0\n",
      "[-29.07209396 -29.54542923 -30.86221695 -29.10707855 -26.19922066\n",
      " -26.44260979]\n",
      "4\n",
      "0\n",
      "[-30.13849258 -30.32595062 -32.29553604 -30.15161705 -26.81630135\n",
      " -27.26428413]\n",
      "4\n",
      "0\n",
      "[-31.3067112  -31.29454041 -33.72230148 -31.24718857 -27.57570076\n",
      " -28.12443352]\n",
      "4\n",
      "0\n",
      "[-32.34624863 -32.23672485 -34.80755234 -32.32125854 -28.38095665\n",
      " -29.13323212]\n",
      "4\n",
      "0\n",
      "[-32.8873558  -32.54801941 -34.95858765 -32.7987442  -29.19131279\n",
      " -29.7831974 ]\n",
      "4\n",
      "0\n",
      "[-33.84872437 -33.38598633 -35.83023834 -33.65568542 -30.16029358\n",
      " -30.6547699 ]\n",
      "4\n",
      "0\n",
      "[-33.68292618 -33.46327972 -35.26464844 -33.74925232 -30.48098755\n",
      " -30.91469383]\n",
      "4\n",
      "0\n",
      "[-34.23431015 -34.0959816  -35.68125534 -34.34375    -31.24616051\n",
      " -31.6949234 ]\n",
      "4\n",
      "0\n",
      "[-34.71684647 -34.52293015 -36.05714035 -34.72811127 -31.90620232\n",
      " -32.16810608]\n",
      "4\n",
      "0\n",
      "[-35.08440018 -34.84713364 -36.35773087 -35.02484894 -32.331604\n",
      " -32.52083969]\n",
      "4\n",
      "0\n",
      "[-35.62778854 -35.36465836 -36.87318039 -35.54294586 -33.00907898\n",
      " -33.09562302]\n",
      "4\n",
      "0\n",
      "[-36.26543808 -36.01605606 -37.52891159 -36.17041779 -33.64881516\n",
      " -33.70331192]\n",
      "4\n",
      "0\n",
      "[-36.89617538 -36.62282944 -38.16601181 -36.74177551 -34.29121399\n",
      " -34.26990891]\n",
      "5\n",
      "-4\n",
      "[-35.65173721 -35.79462814 -36.5494194  -35.78097534 -33.63399124\n",
      " -33.75589371]\n",
      "4\n",
      "-2\n",
      "[-35.34262466 -35.59769821 -36.14283752 -35.55925751 -33.74033737\n",
      " -33.75617981]\n",
      "4\n",
      "-3\n",
      "[-36.33576584 -36.69137192 -37.00412369 -36.63264465 -34.9985733\n",
      " -34.83854294]\n",
      "5\n",
      "-1\n",
      "[-37.70489883 -38.05490112 -38.18331146 -37.87806702 -36.63216782\n",
      " -36.28108597]\n",
      "5\n",
      "-3\n",
      "[-38.20560837 -38.33149719 -38.50688553 -38.09118652 -37.35299301\n",
      " -36.8747406 ]\n",
      "5\n",
      "-3\n",
      "[-36.98761749 -37.39788055 -37.35811996 -37.05660248 -35.99005508\n",
      " -35.7036438 ]\n",
      "5\n",
      "-3\n",
      "[-36.04855728 -36.58559418 -36.50619888 -36.21741486 -35.12081909\n",
      " -34.99214172]\n",
      "5\n",
      "-3\n",
      "[-35.74507141 -36.21435165 -36.04421234 -35.69252014 -34.82248306\n",
      " -34.78005219]\n",
      "5\n",
      "-3\n",
      "[-33.21655655 -33.82352066 -33.60000229 -33.29792023 -32.3359108\n",
      " -32.44001007]\n",
      "4\n",
      "-3\n",
      "[-30.67822838 -31.07804489 -30.74527168 -30.43656921 -29.96219444\n",
      " -30.045187  ]\n",
      "4\n",
      "-3\n",
      "[-29.61646461 -29.95523071 -29.47354317 -29.41812134 -28.549757\n",
      " -29.16350746]\n",
      "4\n",
      "-3\n",
      "[-28.74726295 -28.93580627 -28.3789444  -28.51942253 -27.35276222\n",
      " -28.32611656]\n",
      "4\n",
      "-1\n",
      "[-28.02091026 -28.31942368 -27.85041428 -27.97254181 -26.8800869\n",
      " -27.82599831]\n",
      "4\n",
      "-3\n",
      "[-26.28366661 -26.78582764 -26.23139763 -26.50408554 -24.96628189\n",
      " -26.19611931]\n",
      "4\n",
      "0\n",
      "[-26.33712578 -26.93979073 -26.31184006 -26.67484093 -24.75620461\n",
      " -26.28130341]\n",
      "4\n",
      "-4\n",
      "[-25.45747566 -26.1134758  -25.4368248  -26.01076508 -23.5140152\n",
      " -25.49449921]\n",
      "4\n",
      "0\n",
      "[-23.83530998 -24.19660568 -23.53516006 -24.2909565  -21.73227501\n",
      " -23.95368004]\n",
      "4\n",
      "0\n",
      "[-22.33901024 -22.5915947  -21.9493885  -22.75466919 -20.24485207\n",
      " -22.48768425]\n",
      "4\n",
      "0\n",
      "[-22.03307533 -22.29457474 -21.63492203 -22.46339226 -19.93261719\n",
      " -22.18984413]\n",
      "4\n",
      "0\n",
      "[-21.9805851  -22.22755241 -21.55798721 -22.39241982 -19.85915947\n",
      " -22.11382103]\n",
      "4\n",
      "0\n",
      "[-22.39280891 -22.58716583 -21.85607719 -22.62072372 -20.70280647\n",
      " -22.51400948]\n",
      "4\n",
      "-2\n",
      "[-23.8104496  -24.03606415 -23.24150848 -24.10700417 -21.92932701\n",
      " -23.88228226]\n",
      "4\n",
      "0\n",
      "[-23.41555214 -23.62784958 -22.87686157 -23.72912025 -21.48897743\n",
      " -23.55751991]\n",
      "4\n",
      "-3\n",
      "[-23.72991371 -23.95271111 -23.24306679 -24.03631783 -21.82734108\n",
      " -23.96466446]\n",
      "4\n",
      "-3\n",
      "[-23.55207062 -23.76117706 -23.05370331 -23.8296032  -21.6533947\n",
      " -23.78535652]\n",
      "4\n",
      "0\n",
      "[-23.55133629 -23.75977325 -23.05710793 -23.82780838 -21.63542557\n",
      " -23.82320404]\n",
      "4\n",
      "0\n",
      "[-24.03955269 -24.27166748 -23.5392189  -24.27069664 -22.24588203\n",
      " -24.33939171]\n",
      "4\n",
      "0\n",
      "[-25.97597313 -26.27132225 -25.36765289 -26.1513195  -24.32271385\n",
      " -26.12964821]\n",
      "4\n",
      "0\n",
      "[-26.8705101  -27.17190933 -26.23250198 -27.03565025 -25.14045906\n",
      " -27.01651764]\n",
      "4\n",
      "0\n",
      "[-27.55650711 -27.87663078 -26.90465355 -27.75193977 -25.75597572\n",
      " -27.68358994]\n",
      "4\n",
      "0\n",
      "[-27.59990883 -27.91930008 -26.97872734 -27.80543327 -25.76699829\n",
      " -27.78207397]\n",
      "4\n",
      "0\n",
      "[-27.37936974 -27.684021   -26.76105881 -27.5729847  -25.52047539\n",
      " -27.57405663]\n",
      "4\n",
      "-3\n",
      "[-28.71791077 -29.0422821  -28.09109688 -28.9878006  -26.60907555\n",
      " -28.90745735]\n",
      "4\n",
      "-3\n",
      "[-29.51974678 -29.86070442 -28.94703484 -29.78974342 -27.38766479\n",
      " -29.82348824]\n",
      "4\n",
      "-4\n",
      "[-31.0732193  -31.45672989 -30.42051888 -31.30967903 -29.02000237\n",
      " -31.26730156]\n",
      "4\n",
      "-4\n",
      "[-30.81066895 -31.22999954 -30.16914749 -30.94714928 -29.14710426\n",
      " -31.03565025]\n",
      "4\n",
      "0\n",
      "[-31.26874352 -31.69461441 -30.60607529 -31.36349869 -29.65450478\n",
      " -31.48967171]\n",
      "4\n",
      "-3\n",
      "[-32.7503624  -33.22500992 -32.00811005 -32.85235596 -31.13004494\n",
      " -32.8529129 ]\n",
      "4\n",
      "0\n",
      "[-33.82130432 -34.31289291 -33.03339386 -33.91912842 -32.14163971\n",
      " -33.87973785]\n",
      "4\n",
      "0\n",
      "[-33.9439621  -34.4382515  -33.19711304 -34.04516602 -32.25132751\n",
      " -34.08196259]\n",
      "4\n",
      "-3\n",
      "[-33.77019882 -34.26342773 -33.01049423 -33.83201599 -32.15985107\n",
      " -33.91181183]\n",
      "4\n",
      "0\n",
      "[-34.4437294  -34.93955612 -33.66770172 -34.53651428 -32.67639542\n",
      " -34.60816193]\n",
      "4\n",
      "-1\n",
      "[-35.96846771 -36.48639679 -35.10084915 -36.04653931 -34.08962631\n",
      " -36.07500458]\n",
      "4\n",
      "0\n",
      "[-36.54138947 -37.08269119 -35.61582184 -36.5584259  -34.7995491\n",
      " -36.6011734 ]\n",
      "4\n",
      "0\n",
      "[-36.42618561 -36.96625519 -35.53180695 -36.44921875 -34.68630981\n",
      " -36.54227066]\n",
      "4\n",
      "0\n",
      "[-36.82872391 -37.38100052 -35.92319107 -36.8429718  -35.11019516\n",
      " -36.9583168 ]\n",
      "4\n",
      "0\n",
      "[-36.94926071 -37.51094437 -36.03452301 -36.95597076 -35.26918411\n",
      " -37.06647491]\n",
      "4\n",
      "-3\n",
      "[-37.40432358 -37.9840126  -36.52248383 -37.38510132 -35.80558777\n",
      " -37.60087585]\n",
      "4\n",
      "-4\n",
      "[-38.53032303 -39.14468002 -37.59008789 -38.51914215 -36.90377045\n",
      " -38.64142227]\n",
      "4\n",
      "-2\n",
      "[-38.53910446 -39.16150284 -37.6102066  -38.49688721 -37.02582169\n",
      " -38.6656189 ]\n",
      "4\n",
      "-2\n",
      "[-38.92736435 -39.5990715  -37.97064209 -38.76020813 -37.83011627\n",
      " -39.01869202]\n",
      "4\n",
      "0\n",
      "[-40.29639435 -41.01570511 -39.26464844 -40.0604248  -39.36384201\n",
      " -40.32765961]\n",
      "2\n",
      "-1\n",
      "[-41.51725769 -42.25204086 -40.42689514 -41.30218506 -40.44472122\n",
      " -41.47509766]\n",
      "2\n",
      "-3\n",
      "[-42.22645569 -42.99230576 -41.09080124 -42.00113678 -41.20984268\n",
      " -42.11712646]\n",
      "2\n",
      "-4\n",
      "[-42.74630356 -43.52999115 -41.58818054 -42.51261139 -41.75715256\n",
      " -42.6013298 ]\n",
      "2\n",
      "0\n",
      "[-44.84271622 -45.70091629 -43.62070465 -44.62821198 -43.86023331\n",
      " -44.59581757]\n",
      "2\n",
      "0\n",
      "[-45.32727051 -46.20136642 -44.1342392  -45.10118866 -44.38092422\n",
      " -45.14411926]\n",
      "2\n",
      "0\n",
      "[-47.79774857 -48.76749802 -46.58618927 -47.55751801 -47.02239609\n",
      " -47.54027557]\n",
      "2\n",
      "0\n",
      "[-49.85417557 -50.92307663 -48.69895172 -49.70857239 -49.1004982\n",
      " -49.56073761]\n",
      "2\n",
      "-2\n",
      "[-50.26248169 -51.32488251 -49.07257462 -50.09024048 -49.48083115\n",
      " -49.94157791]\n",
      "2\n",
      "-2\n",
      "[-52.08072662 -53.21405411 -50.88888931 -51.90333557 -51.42033386\n",
      " -51.70744705]\n",
      "2\n",
      "0\n",
      "[-54.46097946 -55.70632553 -53.23100281 -54.27664948 -54.01870346\n",
      " -54.00026703]\n",
      "2\n",
      "0\n",
      "[-55.05578995 -56.32910919 -53.85861969 -54.85083008 -54.69503021\n",
      " -54.68899536]\n",
      "2\n",
      "-2\n",
      "[-55.71930313 -57.01780319 -54.53164291 -55.52442932 -55.38283157\n",
      " -55.33545685]\n",
      "2\n",
      "0\n",
      "[-57.51859665 -58.90369797 -56.3778038  -57.40003967 -57.21455383\n",
      " -57.09783173]\n",
      "2\n",
      "0\n",
      "[-59.5884552  -61.05368423 -58.44535065 -59.49887848 -59.34366226\n",
      " -59.0942421 ]\n",
      "2\n",
      "0\n",
      "[-60.61504745 -62.11185455 -59.47333527 -60.51794434 -60.42022324\n",
      " -60.08295441]\n",
      "2\n",
      "-1\n",
      "[-61.5946846  -63.13628006 -60.43634796 -61.48461914 -61.4949379\n",
      " -61.02222061]\n",
      "2\n",
      "-3\n",
      "[-65.90733337 -67.62597656 -64.72512817 -65.88751221 -65.90350342\n",
      " -65.17445374]\n",
      "2\n",
      "0\n",
      "[-69.11917114 -70.96240997 -67.94355774 -69.14826202 -69.21560669\n",
      " -68.29084015]\n",
      "2\n"
     ]
    },
    {
     "name": "stdout",
     "output_type": "stream",
     "text": [
      "0\n",
      "[-70.79855347 -72.71060944 -69.63954163 -70.87245178 -70.93209076\n",
      " -69.96617126]\n",
      "2\n",
      "-2\n",
      "[-71.8680954  -73.81074524 -70.72930145 -71.94762421 -72.03804016\n",
      " -71.02929688]\n",
      "2\n",
      "0\n",
      "[-79.87005615 -82.07470703 -78.50627136 -80.00773621 -80.02365875\n",
      " -79.10943604]\n",
      "2\n",
      "0\n",
      "[-81.89839935 -84.14237213 -80.5105896  -81.98932648 -82.11592865\n",
      " -81.18302155]\n",
      "2\n",
      "0\n",
      "[-86.55684662 -88.96447754 -85.0418396  -86.67524719 -86.82202148\n",
      " -85.90972137]\n",
      "2\n",
      "-2\n",
      "[-93.75437164 -96.31983185 -91.97227478 -93.79595947 -93.98214722\n",
      " -93.09033966]\n",
      "2\n",
      "0\n",
      "[ -98.04298401 -100.73561096  -96.16830444  -98.11254883  -98.25631714\n",
      "  -97.47563934]\n",
      "2\n",
      "-5\n",
      "[ -98.28897095 -100.98470306  -96.41146088  -98.35029602  -98.51000214\n",
      "  -97.7259903 ]\n",
      "2\n",
      "-5\n",
      "[-100.23821259 -102.96954346  -98.27378082 -100.27056122 -100.43655396\n",
      "  -99.6656723 ]\n",
      "2\n",
      "-5\n",
      "[-100.48419189 -103.21864319  -98.51693726 -100.50831604 -100.69023895\n",
      "  -99.91603088]\n",
      "2\n",
      "-4\n",
      "[-103.30065918 -106.0929184  -101.25095367 -103.26564789 -103.56845093\n",
      " -102.78146362]\n",
      "2\n",
      "-1\n",
      "[-103.69050598 -106.48988342 -101.62342834 -103.64970398 -103.95376587\n",
      " -103.16940308]\n",
      "2\n",
      "-1\n",
      "[-103.87567139 -106.68119812 -101.80306244 -103.83561707 -104.13962555\n",
      " -103.35533142]\n",
      "2\n",
      "0\n",
      "[-109.05275726 -112.01251984 -106.86987305 -109.0483551  -109.29708099\n",
      " -108.64586639]\n",
      "2\n",
      "-1\n",
      "[-109.44260406 -112.40948486 -107.24234772 -109.43241882 -109.68239594\n",
      " -109.03380585]\n",
      "2\n",
      "-1\n",
      "[-109.6277771  -112.60079193 -107.42197418 -109.61831665 -109.86824799\n",
      " -109.21973419]\n",
      "2\n",
      "-1\n",
      "[-109.71513367 -112.69091797 -107.50711823 -109.70619202 -109.95476532\n",
      " -109.30564117]\n",
      "2\n",
      "0\n",
      "[-111.92115021 -114.93092346 -109.67061615 -111.84165955 -112.23423004\n",
      " -111.54886627]\n",
      "2\n",
      "-2\n",
      "[-112.70085144 -115.72485352 -110.41553497 -112.6097641  -113.00485229\n",
      " -112.32473755]\n",
      "2\n",
      "-2\n",
      "[-113.07118988 -116.10746765 -110.77481079 -112.98156738 -113.37656403\n",
      " -112.69657135]\n",
      "2\n",
      "-2\n",
      "[-113.2459259  -116.28772736 -110.94511414 -113.15732574 -113.54960632\n",
      " -112.86841583]\n",
      "2\n",
      "-15\n",
      "[-119.09365845 -122.24224091 -116.53208923 -118.91812134 -119.3292923\n",
      " -118.68749237]\n",
      "2\n",
      "-15\n",
      "[-121.99864197 -125.23927307 -119.34976959 -121.84162903 -122.21881866\n",
      " -121.61116791]\n",
      "2\n",
      "-15\n",
      "[-123.25015259 -126.5322113  -120.56999207 -123.09725952 -123.4695816\n",
      " -122.83753204]\n",
      "2\n",
      "0\n",
      "[-129.12231445 -132.59379578 -126.29595947 -129.04948425 -129.24456787\n",
      " -128.72506714]\n",
      "2\n",
      "-2\n",
      "[-130.01957703 -133.51158142 -127.15250397 -129.94473267 -130.11643982\n",
      " -129.60214233]\n",
      "2\n",
      "-2\n",
      "[-130.43893433 -133.94508362 -127.55853271 -130.36923218 -130.5295105\n",
      " -130.01882935]\n",
      "2\n",
      "-2\n",
      "[-130.60217285 -134.11357117 -127.71779633 -130.53266907 -130.69303894\n",
      " -130.17951965]\n",
      "2\n",
      "0\n",
      "[-133.25279236 -136.82124329 -130.3012085  -133.14645386 -133.36915588\n",
      " -132.85137939]\n",
      "2\n",
      "-1\n",
      "[-133.70143127 -137.28015137 -130.72949219 -133.59407043 -133.80508423\n",
      " -133.28993225]\n",
      "2\n",
      "-1\n",
      "[-133.91111755 -137.49688721 -130.93247986 -133.80632019 -134.01161194\n",
      " -133.4982605 ]\n",
      "2\n",
      "-1\n",
      "[-133.99272156 -137.58114624 -131.01213074 -133.88804626 -134.09339905\n",
      " -133.57861328]\n",
      "2\n",
      "0\n",
      "[-139.5614624  -143.29151917 -136.40740967 -139.42967224 -139.64234924\n",
      " -139.11270142]\n",
      "2\n",
      "-11\n",
      "[-144.49647522 -148.33929443 -141.11842346 -144.35354614 -144.43763733\n",
      " -143.93667603]\n",
      "2\n",
      "-11\n",
      "[-146.80291748 -150.72364807 -143.35159302 -146.68833923 -146.70948792\n",
      " -146.22848511]\n",
      "2\n",
      "-11\n",
      "[-147.7006073  -151.65019226 -144.22749329 -147.5872345  -147.60888672\n",
      " -147.11221313]\n",
      "2\n",
      "0\n",
      "[-152.35388184 -156.40364075 -148.76927185 -152.18478394 -152.28623962\n",
      " -151.78948975]\n",
      "2\n",
      "-3\n",
      "[-153.69981384 -157.78031921 -150.05409241 -153.52766418 -153.59405518\n",
      " -153.10513306]\n",
      "2\n",
      "-3\n",
      "[-154.3288269  -158.43058777 -150.66313171 -154.16441345 -154.21365356\n",
      " -153.73014832]\n",
      "2\n",
      "-3\n",
      "[-154.57366943 -158.68328857 -150.90203857 -154.40957642 -154.4589386\n",
      " -153.97119141]\n",
      "2\n",
      "-9\n",
      "[-158.61140442 -162.81329346 -154.75648499 -158.4382019  -158.38237\n",
      " -157.91807556]\n",
      "2\n",
      "-9\n",
      "[-160.49848938 -164.76412964 -156.58363342 -160.34848022 -160.2411499\n",
      " -159.79318237]\n",
      "2\n",
      "-9\n",
      "[-161.23298645 -165.52223206 -157.30027771 -161.08395386 -160.97703552\n",
      " -160.51623535]\n",
      "2\n",
      "-9\n",
      "[-163.29852295 -167.66404724 -159.3250885  -163.2019043  -162.99101257\n",
      " -162.58343506]\n",
      "2\n",
      "-2\n",
      "[-167.28326416 -171.77586365 -163.23831177 -167.24725342 -166.90336609\n",
      " -166.57693481]\n",
      "2\n",
      "-2\n",
      "[-168.18052673 -172.69363403 -164.09484863 -168.14250183 -167.77523804\n",
      " -167.45402527]\n",
      "2\n",
      "-2\n",
      "[-168.59991455 -173.12716675 -164.50090027 -168.56703186 -168.18830872\n",
      " -167.87072754]\n",
      "2\n",
      "-2\n",
      "[-168.76312256 -173.29563904 -164.66014099 -168.73045349 -168.3518219\n",
      " -168.03140259]\n",
      "2\n",
      "-2\n",
      "[-168.85716248 -173.39117432 -164.75312805 -168.82106018 -168.45011902\n",
      " -168.1260376 ]\n",
      "2\n",
      "-5\n",
      "[-171.10035706 -175.68560791 -166.89448547 -171.05917358 -170.629776\n",
      " -170.31872559]\n",
      "2\n",
      "-5\n",
      "[-172.14872742 -176.76940918 -167.90956116 -172.12043762 -171.66244507\n",
      " -171.36047363]\n",
      "2\n",
      "-5\n",
      "[-172.55677795 -177.19059753 -168.307724   -172.52903748 -172.0712738\n",
      " -171.76217651]\n",
      "2\n",
      "-5\n",
      "[-172.79190063 -177.42944336 -168.54017639 -172.75556946 -172.3170166\n",
      " -171.998703  ]\n",
      "2\n",
      "-1\n",
      "[-173.24052429 -177.88832092 -168.96842957 -173.20317078 -172.75292969\n",
      " -172.43722534]\n",
      "2\n",
      "-1\n",
      "[-173.45021057 -178.10507202 -169.17146301 -173.41545105 -172.95947266\n",
      " -172.64559937]\n",
      "2\n",
      "-1\n",
      "[-173.53181458 -178.1893158  -169.25108337 -173.49714661 -173.04124451\n",
      " -172.72592163]\n",
      "2\n",
      "-1\n",
      "[-173.5788269  -178.23709106 -169.29759216 -173.54246521 -173.09039307\n",
      " -172.77325439]\n",
      "2\n",
      "-1\n",
      "[-173.80833435 -178.47505188 -169.52255249 -173.77778625 -173.31416321\n",
      " -173.00292969]\n",
      "2\n",
      "0\n"
     ]
    },
    {
     "data": {
      "application/vnd.plotly.v1+json": {
       "config": {
        "plotlyServerURL": "https://plot.ly"
       },
       "data": [
        {
         "alignmentgroup": "True",
         "base": [
          "1970-01-06T04:00:00",
          "1970-01-06T17:00:00",
          "1970-01-07T03:00:00",
          "1970-01-07T11:00:00",
          "1970-01-09T04:00:00"
         ],
         "customdata": [
          [
           "LOR"
          ],
          [
           "LOR"
          ],
          [
           "LOR"
          ],
          [
           "LOR"
          ],
          [
           "MOR"
          ]
         ],
         "hovertemplate": "Type=j9<br>Start=%{base}<br>Finish=%{x}<br>Resource=%{y}<br>Task=%{text}<br>Rule=%{customdata[0]}<extra></extra>",
         "legendgroup": "j9",
         "marker": {
          "color": "#2E91E5",
          "line": {
           "color": "black"
          },
          "pattern": {
           "shape": ""
          }
         },
         "name": "j9",
         "offsetgroup": "j9",
         "orientation": "h",
         "showlegend": true,
         "text": [
          "j0901",
          "j0902",
          "j0903",
          "j0904",
          "j0905"
         ],
         "textposition": "auto",
         "type": "bar",
         "x": [
          46800000,
          36000000,
          28800000,
          32400000,
          39600000
         ],
         "xaxis": "x",
         "y": [
          "M6",
          "M6",
          "M6",
          "M6",
          "M5"
         ],
         "yaxis": "y"
        },
        {
         "alignmentgroup": "True",
         "base": [
          "1970-01-10T03:00:00",
          "1970-01-07T17:00:00",
          "1970-01-02T13:00:00",
          "1970-01-07T01:00:00",
          "1970-01-08T19:00:00",
          "1970-01-09T11:00:00"
         ],
         "customdata": [
          [
           "MOR"
          ],
          [
           "LOR"
          ],
          [
           "LPT"
          ],
          [
           "LOR"
          ],
          [
           "MOR"
          ],
          [
           "MOR"
          ]
         ],
         "hovertemplate": "Type=j20<br>Start=%{base}<br>Finish=%{x}<br>Resource=%{y}<br>Task=%{text}<br>Rule=%{customdata[0]}<extra></extra>",
         "legendgroup": "j20",
         "marker": {
          "color": "#E15F99",
          "line": {
           "color": "black"
          },
          "pattern": {
           "shape": ""
          }
         },
         "name": "j20",
         "offsetgroup": "j20",
         "orientation": "h",
         "showlegend": true,
         "text": [
          "j2006",
          "j2003",
          "j2001",
          "j2002",
          "j2004",
          "j2005"
         ],
         "textposition": "auto",
         "type": "bar",
         "x": [
          32400000,
          93600000,
          93600000,
          57600000,
          57600000,
          43200000
         ],
         "xaxis": "x",
         "y": [
          "M6",
          "M5",
          "M4",
          "M3",
          "M3",
          "M3"
         ],
         "yaxis": "y"
        },
        {
         "alignmentgroup": "True",
         "base": [
          "1970-01-03T11:00:00",
          "1970-01-04T12:00:00",
          "1970-01-04T22:00:00",
          "1970-01-05T11:00:00",
          "1970-01-06T04:00:00"
         ],
         "customdata": [
          [
           "LPT"
          ],
          [
           "LOR"
          ],
          [
           "LOR"
          ],
          [
           "LOR"
          ],
          [
           "LOR"
          ]
         ],
         "hovertemplate": "Type=j18<br>Start=%{base}<br>Finish=%{x}<br>Resource=%{y}<br>Task=%{text}<br>Rule=%{customdata[0]}<extra></extra>",
         "legendgroup": "j18",
         "marker": {
          "color": "#1CA71C",
          "line": {
           "color": "black"
          },
          "pattern": {
           "shape": ""
          }
         },
         "name": "j18",
         "offsetgroup": "j18",
         "orientation": "h",
         "showlegend": true,
         "text": [
          "j1801",
          "j1802",
          "j1803",
          "j1804",
          "j1805"
         ],
         "textposition": "auto",
         "type": "bar",
         "x": [
          90000000,
          36000000,
          46800000,
          61200000,
          36000000
         ],
         "xaxis": "x",
         "y": [
          "M6",
          "M6",
          "M6",
          "M6",
          "M1"
         ],
         "yaxis": "y"
        },
        {
         "alignmentgroup": "True",
         "base": [
          "1970-01-02T08:00:00",
          "1970-01-05T03:00:00",
          "1970-01-06T00:00:00",
          "1970-01-04T01:00:00"
         ],
         "customdata": [
          [
           "LPT"
          ],
          [
           "LOR"
          ],
          [
           "LOR"
          ],
          [
           "LOR"
          ]
         ],
         "hovertemplate": "Type=j17<br>Start=%{base}<br>Finish=%{x}<br>Resource=%{y}<br>Task=%{text}<br>Rule=%{customdata[0]}<extra></extra>",
         "legendgroup": "j17",
         "marker": {
          "color": "#FB0D0D",
          "line": {
           "color": "black"
          },
          "pattern": {
           "shape": ""
          }
         },
         "name": "j17",
         "offsetgroup": "j17",
         "orientation": "h",
         "showlegend": true,
         "text": [
          "j1701",
          "j1703",
          "j1704",
          "j1702"
         ],
         "textposition": "auto",
         "type": "bar",
         "x": [
          97200000,
          75600000,
          90000000,
          93600000
         ],
         "xaxis": "x",
         "y": [
          "M6",
          "M3",
          "M3",
          "M2"
         ],
         "yaxis": "y"
        },
        {
         "alignmentgroup": "True",
         "base": [
          "1970-01-07T20:00:00",
          "1970-01-08T09:00:00",
          "1970-01-08T22:00:00",
          "1970-01-09T15:00:00",
          "1970-01-10T03:00:00",
          "1970-01-10T17:00:00",
          "1970-01-11T15:00:00",
          "1970-01-12T14:00:00"
         ],
         "customdata": [
          [
           "MOR"
          ],
          [
           "MOR"
          ],
          [
           "MOR"
          ],
          [
           "MOR"
          ],
          [
           "MOR"
          ],
          [
           "MOR"
          ],
          [
           "MOR"
          ],
          [
           "MOR"
          ]
         ],
         "hovertemplate": "Type=j16<br>Start=%{base}<br>Finish=%{x}<br>Resource=%{y}<br>Task=%{text}<br>Rule=%{customdata[0]}<extra></extra>",
         "legendgroup": "j16",
         "marker": {
          "color": "#DA16FF",
          "line": {
           "color": "black"
          },
          "pattern": {
           "shape": ""
          }
         },
         "name": "j16",
         "offsetgroup": "j16",
         "orientation": "h",
         "showlegend": true,
         "text": [
          "j1601",
          "j1602",
          "j1603",
          "j1604",
          "j1605",
          "j1606",
          "j1607",
          "j1608"
         ],
         "textposition": "auto",
         "type": "bar",
         "x": [
          46800000,
          46800000,
          61200000,
          43200000,
          50400000,
          79200000,
          82800000,
          25200000
         ],
         "xaxis": "x",
         "y": [
          "M6",
          "M6",
          "M6",
          "M5",
          "M5",
          "M3",
          "M3",
          "M1"
         ],
         "yaxis": "y"
        },
        {
         "alignmentgroup": "True",
         "base": [
          "1970-01-09T15:00:00",
          "1970-01-02T14:00:00",
          "1970-01-06T08:00:00",
          "1970-01-07T06:00:00",
          "1970-01-08T06:00:00",
          "1970-01-07T17:00:00"
         ],
         "customdata": [
          [
           "MOR"
          ],
          [
           "LPT"
          ],
          [
           "LOR"
          ],
          [
           "LOR"
          ],
          [
           "MOR"
          ],
          [
           "LOR"
          ]
         ],
         "hovertemplate": "Type=j11<br>Start=%{base}<br>Finish=%{x}<br>Resource=%{y}<br>Task=%{text}<br>Rule=%{customdata[0]}<extra></extra>",
         "legendgroup": "j11",
         "marker": {
          "color": "#222A2A",
          "line": {
           "color": "black"
          },
          "pattern": {
           "shape": ""
          }
         },
         "name": "j11",
         "offsetgroup": "j11",
         "orientation": "h",
         "showlegend": true,
         "text": [
          "j1106",
          "j1101",
          "j1102",
          "j1103",
          "j1105",
          "j1104"
         ],
         "textposition": "auto",
         "type": "bar",
         "x": [
          43200000,
          93600000,
          79200000,
          39600000,
          46800000,
          46800000
         ],
         "xaxis": "x",
         "y": [
          "M6",
          "M5",
          "M5",
          "M5",
          "M3",
          "M1"
         ],
         "yaxis": "y"
        },
        {
         "alignmentgroup": "True",
         "base": [
          "1970-01-01T09:00:00",
          "1970-01-01T14:00:00",
          "1970-01-02T01:00:00",
          "1970-01-02T10:00:00"
         ],
         "customdata": [
          [
           "LOR"
          ],
          [
           "LOR"
          ],
          [
           "LOR"
          ],
          [
           "LOR"
          ]
         ],
         "hovertemplate": "Type=j10<br>Start=%{base}<br>Finish=%{x}<br>Resource=%{y}<br>Task=%{text}<br>Rule=%{customdata[0]}<extra></extra>",
         "legendgroup": "j10",
         "marker": {
          "color": "#B68100",
          "line": {
           "color": "black"
          },
          "pattern": {
           "shape": ""
          }
         },
         "name": "j10",
         "offsetgroup": "j10",
         "orientation": "h",
         "showlegend": true,
         "text": [
          "j1001",
          "j1002",
          "j1003",
          "j1004"
         ],
         "textposition": "auto",
         "type": "bar",
         "x": [
          18000000,
          39600000,
          25200000,
          57600000
         ],
         "xaxis": "x",
         "y": [
          "M6",
          "M6",
          "M6",
          "M2"
         ],
         "yaxis": "y"
        },
        {
         "alignmentgroup": "True",
         "base": [
          "1970-01-10T12:00:00",
          "1970-01-10T17:00:00",
          "1970-01-10T18:00:00",
          "1970-01-10T19:00:00",
          "1970-01-10T21:00:00",
          "1970-01-11T12:00:00",
          "1970-01-11T14:00:00",
          "1970-01-11T15:00:00",
          "1970-01-12T02:00:00",
          "1970-01-12T05:00:00",
          "1970-01-12T14:00:00",
          "1970-01-12T16:00:00",
          "1970-01-12T21:00:00",
          "1970-01-10T17:00:00",
          "1970-01-10T18:00:00",
          "1970-01-10T19:00:00",
          "1970-01-10T21:00:00",
          "1970-01-11T12:00:00",
          "1970-01-11T14:00:00",
          "1970-01-11T15:00:00",
          "1970-01-12T02:00:00",
          "1970-01-12T05:00:00",
          "1970-01-12T14:00:00",
          "1970-01-12T16:00:00",
          "1970-01-12T21:00:00",
          "1970-01-10T18:00:00",
          "1970-01-10T19:00:00",
          "1970-01-10T21:00:00",
          "1970-01-11T12:00:00",
          "1970-01-11T14:00:00",
          "1970-01-11T15:00:00",
          "1970-01-12T02:00:00",
          "1970-01-12T05:00:00",
          "1970-01-12T14:00:00",
          "1970-01-12T16:00:00",
          "1970-01-12T21:00:00",
          "1970-01-10T07:00:00",
          "1970-01-10T12:00:00",
          "1970-01-12T14:00:00",
          "1970-01-12T16:00:00",
          "1970-01-12T21:00:00",
          "1970-01-12T05:00:00",
          "1970-01-12T21:00:00"
         ],
         "customdata": [
          [
           "DDA"
          ],
          [
           "DDA"
          ],
          [
           "DDA"
          ],
          [
           "DDA"
          ],
          [
           "DDA"
          ],
          [
           "DDA"
          ],
          [
           "DDA"
          ],
          [
           "DDA"
          ],
          [
           "DDA"
          ],
          [
           "DDA"
          ],
          [
           "DDA"
          ],
          [
           "DDA"
          ],
          [
           "DDA"
          ],
          [
           "DDA"
          ],
          [
           "DDA"
          ],
          [
           "DDA"
          ],
          [
           "DDA"
          ],
          [
           "DDA"
          ],
          [
           "DDA"
          ],
          [
           "DDA"
          ],
          [
           "DDA"
          ],
          [
           "DDA"
          ],
          [
           "DDA"
          ],
          [
           "DDA"
          ],
          [
           "DDA"
          ],
          [
           "DDA"
          ],
          [
           "DDA"
          ],
          [
           "DDA"
          ],
          [
           "DDA"
          ],
          [
           "DDA"
          ],
          [
           "DDA"
          ],
          [
           "DDA"
          ],
          [
           "DDA"
          ],
          [
           "DDA"
          ],
          [
           "DDA"
          ],
          [
           "DDA"
          ],
          [
           "DDA"
          ],
          [
           "DDA"
          ],
          [
           "DDA"
          ],
          [
           "DDA"
          ],
          [
           "DDA"
          ],
          [
           "DDA"
          ],
          [
           "DDA"
          ]
         ],
         "hovertemplate": "Type=delay_machine<br>Start=%{base}<br>Finish=%{x}<br>Resource=%{y}<br>Task=%{text}<br>Rule=%{customdata[0]}<extra></extra>",
         "legendgroup": "delay_machine",
         "marker": {
          "color": "#750D86",
          "line": {
           "color": "black"
          },
          "pattern": {
           "shape": ""
          }
         },
         "name": "delay_machine",
         "offsetgroup": "delay_machine",
         "orientation": "h",
         "showlegend": true,
         "text": [
          "delay",
          "delay",
          "delay",
          "delay",
          "delay",
          "delay",
          "delay",
          "delay",
          "delay",
          "delay",
          "delay",
          "delay",
          "delay",
          "delay",
          "delay",
          "delay",
          "delay",
          "delay",
          "delay",
          "delay",
          "delay",
          "delay",
          "delay",
          "delay",
          "delay",
          "delay",
          "delay",
          "delay",
          "delay",
          "delay",
          "delay",
          "delay",
          "delay",
          "delay",
          "delay",
          "delay",
          "delay",
          "delay",
          "delay",
          "delay",
          "delay",
          "delay",
          "delay"
         ],
         "textposition": "auto",
         "type": "bar",
         "x": [
          18000000,
          3600000,
          3600000,
          7200000,
          54000000,
          7200000,
          3600000,
          39600000,
          10800000,
          32400000,
          7200000,
          18000000,
          3600000,
          3600000,
          3600000,
          7200000,
          54000000,
          7200000,
          3600000,
          39600000,
          10800000,
          32400000,
          7200000,
          18000000,
          3600000,
          3600000,
          7200000,
          54000000,
          7200000,
          3600000,
          39600000,
          10800000,
          32400000,
          7200000,
          18000000,
          3600000,
          18000000,
          18000000,
          7200000,
          18000000,
          3600000,
          32400000,
          3600000
         ],
         "xaxis": "x",
         "y": [
          "M6",
          "M6",
          "M6",
          "M6",
          "M6",
          "M6",
          "M6",
          "M6",
          "M6",
          "M6",
          "M6",
          "M6",
          "M6",
          "M5",
          "M5",
          "M5",
          "M5",
          "M5",
          "M5",
          "M5",
          "M5",
          "M5",
          "M5",
          "M5",
          "M5",
          "M4",
          "M4",
          "M4",
          "M4",
          "M4",
          "M4",
          "M4",
          "M4",
          "M4",
          "M4",
          "M4",
          "M3",
          "M3",
          "M3",
          "M3",
          "M3",
          "M1",
          "M1"
         ],
         "yaxis": "y"
        },
        {
         "alignmentgroup": "True",
         "base": [
          "1970-01-01T09:00:00",
          "1970-01-01T15:00:00",
          "1970-01-01T20:00:00",
          "1970-01-03T16:00:00"
         ],
         "customdata": [
          [
           "LOR"
          ],
          [
           "LOR"
          ],
          [
           "LOR"
          ],
          [
           "LOR"
          ]
         ],
         "hovertemplate": "Type=j8<br>Start=%{base}<br>Finish=%{x}<br>Resource=%{y}<br>Task=%{text}<br>Rule=%{customdata[0]}<extra></extra>",
         "legendgroup": "j8",
         "marker": {
          "color": "#EB663B",
          "line": {
           "color": "black"
          },
          "pattern": {
           "shape": ""
          }
         },
         "name": "j8",
         "offsetgroup": "j8",
         "orientation": "h",
         "showlegend": true,
         "text": [
          "j0801",
          "j0802",
          "j0803",
          "j0804"
         ],
         "textposition": "auto",
         "type": "bar",
         "x": [
          21600000,
          18000000,
          64800000,
          64800000
         ],
         "xaxis": "x",
         "y": [
          "M5",
          "M5",
          "M5",
          "M5"
         ],
         "yaxis": "y"
        },
        {
         "alignmentgroup": "True",
         "base": [
          "1970-01-04T10:00:00",
          "1970-01-04T18:00:00",
          "1970-01-05T01:00:00",
          "1970-01-05T06:00:00",
          "1970-01-05T15:00:00"
         ],
         "customdata": [
          [
           "LOR"
          ],
          [
           "LOR"
          ],
          [
           "LOR"
          ],
          [
           "LOR"
          ],
          [
           "LOR"
          ]
         ],
         "hovertemplate": "Type=j4<br>Start=%{base}<br>Finish=%{x}<br>Resource=%{y}<br>Task=%{text}<br>Rule=%{customdata[0]}<extra></extra>",
         "legendgroup": "j4",
         "marker": {
          "color": "#511CFB",
          "line": {
           "color": "black"
          },
          "pattern": {
           "shape": ""
          }
         },
         "name": "j4",
         "offsetgroup": "j4",
         "orientation": "h",
         "showlegend": true,
         "text": [
          "j0401",
          "j0402",
          "j0403",
          "j0404",
          "j0405"
         ],
         "textposition": "auto",
         "type": "bar",
         "x": [
          28800000,
          25200000,
          18000000,
          32400000,
          61200000
         ],
         "xaxis": "x",
         "y": [
          "M5",
          "M5",
          "M5",
          "M5",
          "M5"
         ],
         "yaxis": "y"
        },
        {
         "alignmentgroup": "True",
         "base": [
          "1970-01-08T19:00:00",
          "1970-01-07T17:00:00",
          "1970-01-09T23:00:00",
          "1970-01-06T14:00:00",
          "1970-01-07T12:00:00"
         ],
         "customdata": [
          [
           "MOR"
          ],
          [
           "LOR"
          ],
          [
           "MOR"
          ],
          [
           "LOR"
          ],
          [
           "LOR"
          ]
         ],
         "hovertemplate": "Type=j12<br>Start=%{base}<br>Finish=%{x}<br>Resource=%{y}<br>Task=%{text}<br>Rule=%{customdata[0]}<extra></extra>",
         "legendgroup": "j12",
         "marker": {
          "color": "#00A08B",
          "line": {
           "color": "black"
          },
          "pattern": {
           "shape": ""
          }
         },
         "name": "j12",
         "offsetgroup": "j12",
         "orientation": "h",
         "showlegend": true,
         "text": [
          "j1204",
          "j1203",
          "j1205",
          "j1201",
          "j1202"
         ],
         "textposition": "auto",
         "type": "bar",
         "x": [
          32400000,
          46800000,
          28800000,
          79200000,
          18000000
         ],
         "xaxis": "x",
         "y": [
          "M5",
          "M3",
          "M3",
          "M1",
          "M1"
         ],
         "yaxis": "y"
        },
        {
         "alignmentgroup": "True",
         "base": [
          "1970-01-01T09:00:00",
          "1970-01-01T21:00:00",
          "1970-01-02T06:00:00",
          "1970-01-03T15:00:00"
         ],
         "customdata": [
          [
           "LOR"
          ],
          [
           "LOR"
          ],
          [
           "LOR"
          ],
          [
           "LOR"
          ]
         ],
         "hovertemplate": "Type=j3<br>Start=%{base}<br>Finish=%{x}<br>Resource=%{y}<br>Task=%{text}<br>Rule=%{customdata[0]}<extra></extra>",
         "legendgroup": "j3",
         "marker": {
          "color": "#FB00D1",
          "line": {
           "color": "black"
          },
          "pattern": {
           "shape": ""
          }
         },
         "name": "j3",
         "offsetgroup": "j3",
         "orientation": "h",
         "showlegend": true,
         "text": [
          "j0301",
          "j0302",
          "j0303",
          "j0304"
         ],
         "textposition": "auto",
         "type": "bar",
         "x": [
          43200000,
          32400000,
          25200000,
          46800000
         ],
         "xaxis": "x",
         "y": [
          "M4",
          "M4",
          "M4",
          "M4"
         ],
         "yaxis": "y"
        },
        {
         "alignmentgroup": "True",
         "base": [
          "1970-01-07T05:00:00",
          "1970-01-07T19:00:00",
          "1970-01-08T12:00:00",
          "1970-01-09T08:00:00",
          "1970-01-09T17:00:00",
          "1970-01-10T00:00:00",
          "1970-01-02T19:00:00"
         ],
         "customdata": [
          [
           "LOR"
          ],
          [
           "LOR"
          ],
          [
           "MOR"
          ],
          [
           "MOR"
          ],
          [
           "MOR"
          ],
          [
           "MOR"
          ],
          [
           "LPT"
          ]
         ],
         "hovertemplate": "Type=j19<br>Start=%{base}<br>Finish=%{x}<br>Resource=%{y}<br>Task=%{text}<br>Rule=%{customdata[0]}<extra></extra>",
         "legendgroup": "j19",
         "marker": {
          "color": "#FC0080",
          "line": {
           "color": "black"
          },
          "pattern": {
           "shape": ""
          }
         },
         "name": "j19",
         "offsetgroup": "j19",
         "orientation": "h",
         "showlegend": true,
         "text": [
          "j1902",
          "j1903",
          "j1904",
          "j1905",
          "j1906",
          "j1907",
          "j1901"
         ],
         "textposition": "auto",
         "type": "bar",
         "x": [
          50400000,
          61200000,
          72000000,
          32400000,
          25200000,
          64800000,
          82800000
         ],
         "xaxis": "x",
         "y": [
          "M4",
          "M4",
          "M4",
          "M4",
          "M4",
          "M4",
          "M1"
         ],
         "yaxis": "y"
        },
        {
         "alignmentgroup": "True",
         "base": [
          "1970-01-04T04:00:00",
          "1970-01-04T16:00:00",
          "1970-01-05T11:00:00",
          "1970-01-06T11:00:00"
         ],
         "customdata": [
          [
           "LOR"
          ],
          [
           "LOR"
          ],
          [
           "LOR"
          ],
          [
           "LOR"
          ]
         ],
         "hovertemplate": "Type=j13<br>Start=%{base}<br>Finish=%{x}<br>Resource=%{y}<br>Task=%{text}<br>Rule=%{customdata[0]}<extra></extra>",
         "legendgroup": "j13",
         "marker": {
          "color": "#B2828D",
          "line": {
           "color": "black"
          },
          "pattern": {
           "shape": ""
          }
         },
         "name": "j13",
         "offsetgroup": "j13",
         "orientation": "h",
         "showlegend": true,
         "text": [
          "j1301",
          "j1302",
          "j1303",
          "j1304"
         ],
         "textposition": "auto",
         "type": "bar",
         "x": [
          43200000,
          68400000,
          86400000,
          64800000
         ],
         "xaxis": "x",
         "y": [
          "M4",
          "M4",
          "M4",
          "M4"
         ],
         "yaxis": "y"
        },
        {
         "alignmentgroup": "True",
         "base": [
          "1970-01-02T11:00:00",
          "1970-01-01T09:00:00",
          "1970-01-02T02:00:00"
         ],
         "customdata": [
          [
           "LOR"
          ],
          [
           "LOR"
          ],
          [
           "LOR"
          ]
         ],
         "hovertemplate": "Type=j15<br>Start=%{base}<br>Finish=%{x}<br>Resource=%{y}<br>Task=%{text}<br>Rule=%{customdata[0]}<extra></extra>",
         "legendgroup": "j15",
         "marker": {
          "color": "#6C7C32",
          "line": {
           "color": "black"
          },
          "pattern": {
           "shape": ""
          }
         },
         "name": "j15",
         "offsetgroup": "j15",
         "orientation": "h",
         "showlegend": true,
         "text": [
          "j1503",
          "j1501",
          "j1502"
         ],
         "textposition": "auto",
         "type": "bar",
         "x": [
          100800000,
          61200000,
          28800000
         ],
         "xaxis": "x",
         "y": [
          "M3",
          "M2",
          "M2"
         ],
         "yaxis": "y"
        },
        {
         "alignmentgroup": "True",
         "base": [
          "1970-01-03T15:00:00",
          "1970-01-04T17:00:00",
          "1970-01-05T03:00:00",
          "1970-01-05T20:00:00"
         ],
         "customdata": [
          [
           "LPT"
          ],
          [
           "LOR"
          ],
          [
           "LOR"
          ],
          [
           "LOR"
          ]
         ],
         "hovertemplate": "Type=j14<br>Start=%{base}<br>Finish=%{x}<br>Resource=%{y}<br>Task=%{text}<br>Rule=%{customdata[0]}<extra></extra>",
         "legendgroup": "j14",
         "marker": {
          "color": "#778AAE",
          "line": {
           "color": "black"
          },
          "pattern": {
           "shape": ""
          }
         },
         "name": "j14",
         "offsetgroup": "j14",
         "orientation": "h",
         "showlegend": true,
         "text": [
          "j1401",
          "j1402",
          "j1403",
          "j1404"
         ],
         "textposition": "auto",
         "type": "bar",
         "x": [
          93600000,
          36000000,
          61200000,
          28800000
         ],
         "xaxis": "x",
         "y": [
          "M3",
          "M3",
          "M2",
          "M2"
         ],
         "yaxis": "y"
        },
        {
         "alignmentgroup": "True",
         "base": [
          "1970-01-01T09:00:00",
          "1970-01-02T03:00:00",
          "1970-01-03T18:00:00",
          "1970-01-04T09:00:00"
         ],
         "customdata": [
          [
           "LOR"
          ],
          [
           "LOR"
          ],
          [
           "LOR"
          ],
          [
           "LOR"
          ]
         ],
         "hovertemplate": "Type=j1<br>Start=%{base}<br>Finish=%{x}<br>Resource=%{y}<br>Task=%{text}<br>Rule=%{customdata[0]}<extra></extra>",
         "legendgroup": "j1",
         "marker": {
          "color": "#862A16",
          "line": {
           "color": "black"
          },
          "pattern": {
           "shape": ""
          }
         },
         "name": "j1",
         "offsetgroup": "j1",
         "orientation": "h",
         "showlegend": true,
         "text": [
          "j0101",
          "j0102",
          "j0103",
          "j0104"
         ],
         "textposition": "auto",
         "type": "bar",
         "x": [
          64800000,
          28800000,
          54000000,
          50400000
         ],
         "xaxis": "x",
         "y": [
          "M3",
          "M3",
          "M1",
          "M1"
         ],
         "yaxis": "y"
        },
        {
         "alignmentgroup": "True",
         "base": [
          "1970-01-03T02:00:00",
          "1970-01-01T09:00:00",
          "1970-01-01T20:00:00"
         ],
         "customdata": [
          [
           "LPT"
          ],
          [
           "LOR"
          ],
          [
           "LOR"
          ]
         ],
         "hovertemplate": "Type=j6<br>Start=%{base}<br>Finish=%{x}<br>Resource=%{y}<br>Task=%{text}<br>Rule=%{customdata[0]}<extra></extra>",
         "legendgroup": "j6",
         "marker": {
          "color": "#A777F1",
          "line": {
           "color": "black"
          },
          "pattern": {
           "shape": ""
          }
         },
         "name": "j6",
         "offsetgroup": "j6",
         "orientation": "h",
         "showlegend": true,
         "text": [
          "j0603",
          "j0601",
          "j0602"
         ],
         "textposition": "auto",
         "type": "bar",
         "x": [
          82800000,
          39600000,
          82800000
         ],
         "xaxis": "x",
         "y": [
          "M2",
          "M1",
          "M1"
         ],
         "yaxis": "y"
        },
        {
         "alignmentgroup": "True",
         "base": [
          "1970-01-06T04:00:00",
          "1970-01-07T00:00:00",
          "1970-01-07T11:00:00",
          "1970-01-04T23:00:00",
          "1970-01-05T17:00:00"
         ],
         "customdata": [
          [
           "LOR"
          ],
          [
           "LOR"
          ],
          [
           "LOR"
          ],
          [
           "LOR"
          ],
          [
           "LOR"
          ]
         ],
         "hovertemplate": "Type=j5<br>Start=%{base}<br>Finish=%{x}<br>Resource=%{y}<br>Task=%{text}<br>Rule=%{customdata[0]}<extra></extra>",
         "legendgroup": "j5",
         "marker": {
          "color": "#620042",
          "line": {
           "color": "black"
          },
          "pattern": {
           "shape": ""
          }
         },
         "name": "j5",
         "offsetgroup": "j5",
         "orientation": "h",
         "showlegend": true,
         "text": [
          "j0503",
          "j0504",
          "j0505",
          "j0501",
          "j0502"
         ],
         "textposition": "auto",
         "type": "bar",
         "x": [
          72000000,
          39600000,
          18000000,
          64800000,
          39600000
         ],
         "xaxis": "x",
         "y": [
          "M2",
          "M2",
          "M2",
          "M1",
          "M1"
         ],
         "yaxis": "y"
        },
        {
         "alignmentgroup": "True",
         "base": [
          "1970-01-07T16:00:00",
          "1970-01-08T10:00:00",
          "1970-01-09T02:00:00",
          "1970-01-10T01:00:00",
          "1970-01-10T19:00:00",
          "1970-01-11T14:00:00",
          "1970-01-12T02:00:00"
         ],
         "customdata": [
          [
           "LOR"
          ],
          [
           "MOR"
          ],
          [
           "MOR"
          ],
          [
           "MOR"
          ],
          [
           "MOR"
          ],
          [
           "MOR"
          ],
          [
           "MOR"
          ]
         ],
         "hovertemplate": "Type=j2<br>Start=%{base}<br>Finish=%{x}<br>Resource=%{y}<br>Task=%{text}<br>Rule=%{customdata[0]}<extra></extra>",
         "legendgroup": "j2",
         "marker": {
          "color": "#1616A7",
          "line": {
           "color": "black"
          },
          "pattern": {
           "shape": ""
          }
         },
         "name": "j2",
         "offsetgroup": "j2",
         "orientation": "h",
         "showlegend": true,
         "text": [
          "j0201",
          "j0202",
          "j0203",
          "j0204",
          "j0205",
          "j0206",
          "j0207"
         ],
         "textposition": "auto",
         "type": "bar",
         "x": [
          64800000,
          57600000,
          82800000,
          64800000,
          68400000,
          43200000,
          72000000
         ],
         "xaxis": "x",
         "y": [
          "M2",
          "M2",
          "M2",
          "M2",
          "M2",
          "M2",
          "M2"
         ],
         "yaxis": "y"
        },
        {
         "alignmentgroup": "True",
         "base": [
          "1970-01-08T06:00:00",
          "1970-01-08T15:00:00",
          "1970-01-09T08:00:00",
          "1970-01-09T22:00:00",
          "1970-01-10T04:00:00",
          "1970-01-10T18:00:00",
          "1970-01-11T12:00:00"
         ],
         "customdata": [
          [
           "MOR"
          ],
          [
           "MOR"
          ],
          [
           "MOR"
          ],
          [
           "MOR"
          ],
          [
           "MOR"
          ],
          [
           "MOR"
          ],
          [
           "MOR"
          ]
         ],
         "hovertemplate": "Type=j7<br>Start=%{base}<br>Finish=%{x}<br>Resource=%{y}<br>Task=%{text}<br>Rule=%{customdata[0]}<extra></extra>",
         "legendgroup": "j7",
         "marker": {
          "color": "#DA60CA",
          "line": {
           "color": "black"
          },
          "pattern": {
           "shape": ""
          }
         },
         "name": "j7",
         "offsetgroup": "j7",
         "orientation": "h",
         "showlegend": true,
         "text": [
          "j0701",
          "j0702",
          "j0703",
          "j0704",
          "j0705",
          "j0706",
          "j0707"
         ],
         "textposition": "auto",
         "type": "bar",
         "x": [
          32400000,
          61200000,
          50400000,
          21600000,
          50400000,
          64800000,
          61200000
         ],
         "xaxis": "x",
         "y": [
          "M1",
          "M1",
          "M1",
          "M1",
          "M1",
          "M1",
          "M1"
         ],
         "yaxis": "y"
        },
        {
         "alignmentgroup": "True",
         "base": [
          "1970-01-02T08:00:00",
          "1970-01-03T11:00:00",
          "1970-01-06T04:00:00",
          "1970-01-07T20:00:00",
          "1970-01-09T15:00:00",
          "1970-01-10T03:00:00",
          "1970-01-02T14:00:00",
          "1970-01-03T16:00:00",
          "1970-01-04T10:00:00",
          "1970-01-06T08:00:00",
          "1970-01-07T17:00:00",
          "1970-01-08T19:00:00",
          "1970-01-09T04:00:00",
          "1970-01-09T15:00:00",
          "1970-01-02T13:00:00",
          "1970-01-03T15:00:00",
          "1970-01-04T04:00:00",
          "1970-01-07T05:00:00",
          "1970-01-02T11:00:00",
          "1970-01-03T15:00:00",
          "1970-01-05T03:00:00",
          "1970-01-07T01:00:00",
          "1970-01-07T17:00:00",
          "1970-01-08T06:00:00",
          "1970-01-08T19:00:00",
          "1970-01-09T23:00:00",
          "1970-01-10T17:00:00",
          "1970-01-02T10:00:00",
          "1970-01-03T02:00:00",
          "1970-01-04T01:00:00",
          "1970-01-05T03:00:00",
          "1970-01-06T04:00:00",
          "1970-01-07T16:00:00",
          "1970-01-02T19:00:00",
          "1970-01-03T18:00:00",
          "1970-01-04T23:00:00",
          "1970-01-06T04:00:00",
          "1970-01-06T14:00:00",
          "1970-01-07T17:00:00",
          "1970-01-08T06:00:00",
          "1970-01-12T14:00:00"
         ],
         "customdata": [
          [
           "NONE"
          ],
          [
           "NONE"
          ],
          [
           "NONE"
          ],
          [
           "NONE"
          ],
          [
           "NONE"
          ],
          [
           "NONE"
          ],
          [
           "NONE"
          ],
          [
           "NONE"
          ],
          [
           "NONE"
          ],
          [
           "NONE"
          ],
          [
           "NONE"
          ],
          [
           "NONE"
          ],
          [
           "NONE"
          ],
          [
           "NONE"
          ],
          [
           "NONE"
          ],
          [
           "NONE"
          ],
          [
           "NONE"
          ],
          [
           "NONE"
          ],
          [
           "NONE"
          ],
          [
           "NONE"
          ],
          [
           "NONE"
          ],
          [
           "NONE"
          ],
          [
           "NONE"
          ],
          [
           "NONE"
          ],
          [
           "NONE"
          ],
          [
           "NONE"
          ],
          [
           "NONE"
          ],
          [
           "NONE"
          ],
          [
           "NONE"
          ],
          [
           "NONE"
          ],
          [
           "NONE"
          ],
          [
           "NONE"
          ],
          [
           "NONE"
          ],
          [
           "NONE"
          ],
          [
           "NONE"
          ],
          [
           "NONE"
          ],
          [
           "NONE"
          ],
          [
           "NONE"
          ],
          [
           "NONE"
          ],
          [
           "NONE"
          ],
          [
           "NONE"
          ]
         ],
         "hovertemplate": "Type=setup<br>Start=%{base}<br>Finish=%{x}<br>Resource=%{y}<br>Task=%{text}<br>Rule=%{customdata[0]}<extra></extra>",
         "legendgroup": "setup",
         "marker": {
          "color": "#6C4516",
          "line": {
           "color": "black"
          },
          "pattern": {
           "shape": ""
          }
         },
         "name": "setup",
         "offsetgroup": "setup",
         "orientation": "h",
         "showlegend": true,
         "text": [
          "setup",
          "setup",
          "setup",
          "setup",
          "setup",
          "setup",
          "setup",
          "setup",
          "setup",
          "setup",
          "setup",
          "setup",
          "setup",
          "setup",
          "setup",
          "setup",
          "setup",
          "setup",
          "setup",
          "setup",
          "setup",
          "setup",
          "setup",
          "setup",
          "setup",
          "setup",
          "setup",
          "setup",
          "setup",
          "setup",
          "setup",
          "setup",
          "setup",
          "setup",
          "setup",
          "setup",
          "setup",
          "setup",
          "setup",
          "setup",
          "setup"
         ],
         "textposition": "auto",
         "type": "bar",
         "width": 0.7,
         "x": [
          14400000,
          10800000,
          14400000,
          3600000,
          10800000,
          7200000,
          10800000,
          10800000,
          14400000,
          14400000,
          7200000,
          7200000,
          7200000,
          3600000,
          3600000,
          10800000,
          10800000,
          3600000,
          10800000,
          10800000,
          10800000,
          10800000,
          7200000,
          14400000,
          7200000,
          7200000,
          14400000,
          7200000,
          10800000,
          3600000,
          10800000,
          10800000,
          10800000,
          10800000,
          10800000,
          7200000,
          10800000,
          10800000,
          14400000,
          10800000,
          7200000
         ],
         "xaxis": "x",
         "y": [
          "M6",
          "M6",
          "M6",
          "M6",
          "M6",
          "M6",
          "M5",
          "M5",
          "M5",
          "M5",
          "M5",
          "M5",
          "M5",
          "M5",
          "M4",
          "M4",
          "M4",
          "M4",
          "M3",
          "M3",
          "M3",
          "M3",
          "M3",
          "M3",
          "M3",
          "M3",
          "M3",
          "M2",
          "M2",
          "M2",
          "M2",
          "M2",
          "M2",
          "M1",
          "M1",
          "M1",
          "M1",
          "M1",
          "M1",
          "M1",
          "M1"
         ],
         "yaxis": "y"
        }
       ],
       "layout": {
        "barmode": "overlay",
        "height": 800,
        "legend": {
         "title": {
          "text": "Type"
         },
         "tracegroupgap": 0
        },
        "margin": {
         "t": 60
        },
        "template": {
         "data": {
          "bar": [
           {
            "error_x": {
             "color": "rgb(36,36,36)"
            },
            "error_y": {
             "color": "rgb(36,36,36)"
            },
            "marker": {
             "line": {
              "color": "white",
              "width": 0.5
             },
             "pattern": {
              "fillmode": "overlay",
              "size": 10,
              "solidity": 0.2
             }
            },
            "type": "bar"
           }
          ],
          "barpolar": [
           {
            "marker": {
             "line": {
              "color": "white",
              "width": 0.5
             },
             "pattern": {
              "fillmode": "overlay",
              "size": 10,
              "solidity": 0.2
             }
            },
            "type": "barpolar"
           }
          ],
          "carpet": [
           {
            "aaxis": {
             "endlinecolor": "rgb(36,36,36)",
             "gridcolor": "white",
             "linecolor": "white",
             "minorgridcolor": "white",
             "startlinecolor": "rgb(36,36,36)"
            },
            "baxis": {
             "endlinecolor": "rgb(36,36,36)",
             "gridcolor": "white",
             "linecolor": "white",
             "minorgridcolor": "white",
             "startlinecolor": "rgb(36,36,36)"
            },
            "type": "carpet"
           }
          ],
          "choropleth": [
           {
            "colorbar": {
             "outlinewidth": 1,
             "tickcolor": "rgb(36,36,36)",
             "ticks": "outside"
            },
            "type": "choropleth"
           }
          ],
          "contour": [
           {
            "colorbar": {
             "outlinewidth": 1,
             "tickcolor": "rgb(36,36,36)",
             "ticks": "outside"
            },
            "colorscale": [
             [
              0,
              "#440154"
             ],
             [
              0.1111111111111111,
              "#482878"
             ],
             [
              0.2222222222222222,
              "#3e4989"
             ],
             [
              0.3333333333333333,
              "#31688e"
             ],
             [
              0.4444444444444444,
              "#26828e"
             ],
             [
              0.5555555555555556,
              "#1f9e89"
             ],
             [
              0.6666666666666666,
              "#35b779"
             ],
             [
              0.7777777777777778,
              "#6ece58"
             ],
             [
              0.8888888888888888,
              "#b5de2b"
             ],
             [
              1,
              "#fde725"
             ]
            ],
            "type": "contour"
           }
          ],
          "contourcarpet": [
           {
            "colorbar": {
             "outlinewidth": 1,
             "tickcolor": "rgb(36,36,36)",
             "ticks": "outside"
            },
            "type": "contourcarpet"
           }
          ],
          "heatmap": [
           {
            "colorbar": {
             "outlinewidth": 1,
             "tickcolor": "rgb(36,36,36)",
             "ticks": "outside"
            },
            "colorscale": [
             [
              0,
              "#440154"
             ],
             [
              0.1111111111111111,
              "#482878"
             ],
             [
              0.2222222222222222,
              "#3e4989"
             ],
             [
              0.3333333333333333,
              "#31688e"
             ],
             [
              0.4444444444444444,
              "#26828e"
             ],
             [
              0.5555555555555556,
              "#1f9e89"
             ],
             [
              0.6666666666666666,
              "#35b779"
             ],
             [
              0.7777777777777778,
              "#6ece58"
             ],
             [
              0.8888888888888888,
              "#b5de2b"
             ],
             [
              1,
              "#fde725"
             ]
            ],
            "type": "heatmap"
           }
          ],
          "heatmapgl": [
           {
            "colorbar": {
             "outlinewidth": 1,
             "tickcolor": "rgb(36,36,36)",
             "ticks": "outside"
            },
            "colorscale": [
             [
              0,
              "#440154"
             ],
             [
              0.1111111111111111,
              "#482878"
             ],
             [
              0.2222222222222222,
              "#3e4989"
             ],
             [
              0.3333333333333333,
              "#31688e"
             ],
             [
              0.4444444444444444,
              "#26828e"
             ],
             [
              0.5555555555555556,
              "#1f9e89"
             ],
             [
              0.6666666666666666,
              "#35b779"
             ],
             [
              0.7777777777777778,
              "#6ece58"
             ],
             [
              0.8888888888888888,
              "#b5de2b"
             ],
             [
              1,
              "#fde725"
             ]
            ],
            "type": "heatmapgl"
           }
          ],
          "histogram": [
           {
            "marker": {
             "line": {
              "color": "white",
              "width": 0.6
             }
            },
            "type": "histogram"
           }
          ],
          "histogram2d": [
           {
            "colorbar": {
             "outlinewidth": 1,
             "tickcolor": "rgb(36,36,36)",
             "ticks": "outside"
            },
            "colorscale": [
             [
              0,
              "#440154"
             ],
             [
              0.1111111111111111,
              "#482878"
             ],
             [
              0.2222222222222222,
              "#3e4989"
             ],
             [
              0.3333333333333333,
              "#31688e"
             ],
             [
              0.4444444444444444,
              "#26828e"
             ],
             [
              0.5555555555555556,
              "#1f9e89"
             ],
             [
              0.6666666666666666,
              "#35b779"
             ],
             [
              0.7777777777777778,
              "#6ece58"
             ],
             [
              0.8888888888888888,
              "#b5de2b"
             ],
             [
              1,
              "#fde725"
             ]
            ],
            "type": "histogram2d"
           }
          ],
          "histogram2dcontour": [
           {
            "colorbar": {
             "outlinewidth": 1,
             "tickcolor": "rgb(36,36,36)",
             "ticks": "outside"
            },
            "colorscale": [
             [
              0,
              "#440154"
             ],
             [
              0.1111111111111111,
              "#482878"
             ],
             [
              0.2222222222222222,
              "#3e4989"
             ],
             [
              0.3333333333333333,
              "#31688e"
             ],
             [
              0.4444444444444444,
              "#26828e"
             ],
             [
              0.5555555555555556,
              "#1f9e89"
             ],
             [
              0.6666666666666666,
              "#35b779"
             ],
             [
              0.7777777777777778,
              "#6ece58"
             ],
             [
              0.8888888888888888,
              "#b5de2b"
             ],
             [
              1,
              "#fde725"
             ]
            ],
            "type": "histogram2dcontour"
           }
          ],
          "mesh3d": [
           {
            "colorbar": {
             "outlinewidth": 1,
             "tickcolor": "rgb(36,36,36)",
             "ticks": "outside"
            },
            "type": "mesh3d"
           }
          ],
          "parcoords": [
           {
            "line": {
             "colorbar": {
              "outlinewidth": 1,
              "tickcolor": "rgb(36,36,36)",
              "ticks": "outside"
             }
            },
            "type": "parcoords"
           }
          ],
          "pie": [
           {
            "automargin": true,
            "type": "pie"
           }
          ],
          "scatter": [
           {
            "fillpattern": {
             "fillmode": "overlay",
             "size": 10,
             "solidity": 0.2
            },
            "type": "scatter"
           }
          ],
          "scatter3d": [
           {
            "line": {
             "colorbar": {
              "outlinewidth": 1,
              "tickcolor": "rgb(36,36,36)",
              "ticks": "outside"
             }
            },
            "marker": {
             "colorbar": {
              "outlinewidth": 1,
              "tickcolor": "rgb(36,36,36)",
              "ticks": "outside"
             }
            },
            "type": "scatter3d"
           }
          ],
          "scattercarpet": [
           {
            "marker": {
             "colorbar": {
              "outlinewidth": 1,
              "tickcolor": "rgb(36,36,36)",
              "ticks": "outside"
             }
            },
            "type": "scattercarpet"
           }
          ],
          "scattergeo": [
           {
            "marker": {
             "colorbar": {
              "outlinewidth": 1,
              "tickcolor": "rgb(36,36,36)",
              "ticks": "outside"
             }
            },
            "type": "scattergeo"
           }
          ],
          "scattergl": [
           {
            "marker": {
             "colorbar": {
              "outlinewidth": 1,
              "tickcolor": "rgb(36,36,36)",
              "ticks": "outside"
             }
            },
            "type": "scattergl"
           }
          ],
          "scattermapbox": [
           {
            "marker": {
             "colorbar": {
              "outlinewidth": 1,
              "tickcolor": "rgb(36,36,36)",
              "ticks": "outside"
             }
            },
            "type": "scattermapbox"
           }
          ],
          "scatterpolar": [
           {
            "marker": {
             "colorbar": {
              "outlinewidth": 1,
              "tickcolor": "rgb(36,36,36)",
              "ticks": "outside"
             }
            },
            "type": "scatterpolar"
           }
          ],
          "scatterpolargl": [
           {
            "marker": {
             "colorbar": {
              "outlinewidth": 1,
              "tickcolor": "rgb(36,36,36)",
              "ticks": "outside"
             }
            },
            "type": "scatterpolargl"
           }
          ],
          "scatterternary": [
           {
            "marker": {
             "colorbar": {
              "outlinewidth": 1,
              "tickcolor": "rgb(36,36,36)",
              "ticks": "outside"
             }
            },
            "type": "scatterternary"
           }
          ],
          "surface": [
           {
            "colorbar": {
             "outlinewidth": 1,
             "tickcolor": "rgb(36,36,36)",
             "ticks": "outside"
            },
            "colorscale": [
             [
              0,
              "#440154"
             ],
             [
              0.1111111111111111,
              "#482878"
             ],
             [
              0.2222222222222222,
              "#3e4989"
             ],
             [
              0.3333333333333333,
              "#31688e"
             ],
             [
              0.4444444444444444,
              "#26828e"
             ],
             [
              0.5555555555555556,
              "#1f9e89"
             ],
             [
              0.6666666666666666,
              "#35b779"
             ],
             [
              0.7777777777777778,
              "#6ece58"
             ],
             [
              0.8888888888888888,
              "#b5de2b"
             ],
             [
              1,
              "#fde725"
             ]
            ],
            "type": "surface"
           }
          ],
          "table": [
           {
            "cells": {
             "fill": {
              "color": "rgb(237,237,237)"
             },
             "line": {
              "color": "white"
             }
            },
            "header": {
             "fill": {
              "color": "rgb(217,217,217)"
             },
             "line": {
              "color": "white"
             }
            },
            "type": "table"
           }
          ]
         },
         "layout": {
          "annotationdefaults": {
           "arrowhead": 0,
           "arrowwidth": 1
          },
          "autotypenumbers": "strict",
          "coloraxis": {
           "colorbar": {
            "outlinewidth": 1,
            "tickcolor": "rgb(36,36,36)",
            "ticks": "outside"
           }
          },
          "colorscale": {
           "diverging": [
            [
             0,
             "rgb(103,0,31)"
            ],
            [
             0.1,
             "rgb(178,24,43)"
            ],
            [
             0.2,
             "rgb(214,96,77)"
            ],
            [
             0.3,
             "rgb(244,165,130)"
            ],
            [
             0.4,
             "rgb(253,219,199)"
            ],
            [
             0.5,
             "rgb(247,247,247)"
            ],
            [
             0.6,
             "rgb(209,229,240)"
            ],
            [
             0.7,
             "rgb(146,197,222)"
            ],
            [
             0.8,
             "rgb(67,147,195)"
            ],
            [
             0.9,
             "rgb(33,102,172)"
            ],
            [
             1,
             "rgb(5,48,97)"
            ]
           ],
           "sequential": [
            [
             0,
             "#440154"
            ],
            [
             0.1111111111111111,
             "#482878"
            ],
            [
             0.2222222222222222,
             "#3e4989"
            ],
            [
             0.3333333333333333,
             "#31688e"
            ],
            [
             0.4444444444444444,
             "#26828e"
            ],
            [
             0.5555555555555556,
             "#1f9e89"
            ],
            [
             0.6666666666666666,
             "#35b779"
            ],
            [
             0.7777777777777778,
             "#6ece58"
            ],
            [
             0.8888888888888888,
             "#b5de2b"
            ],
            [
             1,
             "#fde725"
            ]
           ],
           "sequentialminus": [
            [
             0,
             "#440154"
            ],
            [
             0.1111111111111111,
             "#482878"
            ],
            [
             0.2222222222222222,
             "#3e4989"
            ],
            [
             0.3333333333333333,
             "#31688e"
            ],
            [
             0.4444444444444444,
             "#26828e"
            ],
            [
             0.5555555555555556,
             "#1f9e89"
            ],
            [
             0.6666666666666666,
             "#35b779"
            ],
            [
             0.7777777777777778,
             "#6ece58"
            ],
            [
             0.8888888888888888,
             "#b5de2b"
            ],
            [
             1,
             "#fde725"
            ]
           ]
          },
          "colorway": [
           "#1F77B4",
           "#FF7F0E",
           "#2CA02C",
           "#D62728",
           "#9467BD",
           "#8C564B",
           "#E377C2",
           "#7F7F7F",
           "#BCBD22",
           "#17BECF"
          ],
          "font": {
           "color": "rgb(36,36,36)"
          },
          "geo": {
           "bgcolor": "white",
           "lakecolor": "white",
           "landcolor": "white",
           "showlakes": true,
           "showland": true,
           "subunitcolor": "white"
          },
          "hoverlabel": {
           "align": "left"
          },
          "hovermode": "closest",
          "mapbox": {
           "style": "light"
          },
          "paper_bgcolor": "white",
          "plot_bgcolor": "white",
          "polar": {
           "angularaxis": {
            "gridcolor": "rgb(232,232,232)",
            "linecolor": "rgb(36,36,36)",
            "showgrid": false,
            "showline": true,
            "ticks": "outside"
           },
           "bgcolor": "white",
           "radialaxis": {
            "gridcolor": "rgb(232,232,232)",
            "linecolor": "rgb(36,36,36)",
            "showgrid": false,
            "showline": true,
            "ticks": "outside"
           }
          },
          "scene": {
           "xaxis": {
            "backgroundcolor": "white",
            "gridcolor": "rgb(232,232,232)",
            "gridwidth": 2,
            "linecolor": "rgb(36,36,36)",
            "showbackground": true,
            "showgrid": false,
            "showline": true,
            "ticks": "outside",
            "zeroline": false,
            "zerolinecolor": "rgb(36,36,36)"
           },
           "yaxis": {
            "backgroundcolor": "white",
            "gridcolor": "rgb(232,232,232)",
            "gridwidth": 2,
            "linecolor": "rgb(36,36,36)",
            "showbackground": true,
            "showgrid": false,
            "showline": true,
            "ticks": "outside",
            "zeroline": false,
            "zerolinecolor": "rgb(36,36,36)"
           },
           "zaxis": {
            "backgroundcolor": "white",
            "gridcolor": "rgb(232,232,232)",
            "gridwidth": 2,
            "linecolor": "rgb(36,36,36)",
            "showbackground": true,
            "showgrid": false,
            "showline": true,
            "ticks": "outside",
            "zeroline": false,
            "zerolinecolor": "rgb(36,36,36)"
           }
          },
          "shapedefaults": {
           "fillcolor": "black",
           "line": {
            "width": 0
           },
           "opacity": 0.3
          },
          "ternary": {
           "aaxis": {
            "gridcolor": "rgb(232,232,232)",
            "linecolor": "rgb(36,36,36)",
            "showgrid": false,
            "showline": true,
            "ticks": "outside"
           },
           "baxis": {
            "gridcolor": "rgb(232,232,232)",
            "linecolor": "rgb(36,36,36)",
            "showgrid": false,
            "showline": true,
            "ticks": "outside"
           },
           "bgcolor": "white",
           "caxis": {
            "gridcolor": "rgb(232,232,232)",
            "linecolor": "rgb(36,36,36)",
            "showgrid": false,
            "showline": true,
            "ticks": "outside"
           }
          },
          "title": {
           "x": 0.05
          },
          "xaxis": {
           "automargin": true,
           "gridcolor": "rgb(232,232,232)",
           "linecolor": "rgb(36,36,36)",
           "showgrid": false,
           "showline": true,
           "ticks": "outside",
           "title": {
            "standoff": 15
           },
           "zeroline": false,
           "zerolinecolor": "rgb(36,36,36)"
          },
          "yaxis": {
           "automargin": true,
           "gridcolor": "rgb(232,232,232)",
           "linecolor": "rgb(36,36,36)",
           "showgrid": false,
           "showline": true,
           "ticks": "outside",
           "title": {
            "standoff": 15
           },
           "zeroline": false,
           "zerolinecolor": "rgb(36,36,36)"
          }
         }
        },
        "width": 2000,
        "xaxis": {
         "anchor": "y",
         "domain": [
          0,
          1
         ],
         "type": "date"
        },
        "yaxis": {
         "anchor": "x",
         "domain": [
          0,
          1
         ],
         "title": {
          "text": "Resource"
         }
        }
       }
      },
      "text/html": [
       "<div>                            <div id=\"1cec5bce-2b97-466e-8b11-2abd4aadd62d\" class=\"plotly-graph-div\" style=\"height:800px; width:2000px;\"></div>            <script type=\"text/javascript\">                require([\"plotly\"], function(Plotly) {                    window.PLOTLYENV=window.PLOTLYENV || {};                                    if (document.getElementById(\"1cec5bce-2b97-466e-8b11-2abd4aadd62d\")) {                    Plotly.newPlot(                        \"1cec5bce-2b97-466e-8b11-2abd4aadd62d\",                        [{\"alignmentgroup\":\"True\",\"base\":[\"1970-01-06T04:00:00\",\"1970-01-06T17:00:00\",\"1970-01-07T03:00:00\",\"1970-01-07T11:00:00\",\"1970-01-09T04:00:00\"],\"customdata\":[[\"LOR\"],[\"LOR\"],[\"LOR\"],[\"LOR\"],[\"MOR\"]],\"hovertemplate\":\"Type=j9<br>Start=%{base}<br>Finish=%{x}<br>Resource=%{y}<br>Task=%{text}<br>Rule=%{customdata[0]}<extra></extra>\",\"legendgroup\":\"j9\",\"marker\":{\"color\":\"#2E91E5\",\"pattern\":{\"shape\":\"\"},\"line\":{\"color\":\"black\"}},\"name\":\"j9\",\"offsetgroup\":\"j9\",\"orientation\":\"h\",\"showlegend\":true,\"text\":[\"j0901\",\"j0902\",\"j0903\",\"j0904\",\"j0905\"],\"textposition\":\"auto\",\"x\":[46800000.0,36000000.0,28800000.0,32400000.0,39600000.0],\"xaxis\":\"x\",\"y\":[\"M6\",\"M6\",\"M6\",\"M6\",\"M5\"],\"yaxis\":\"y\",\"type\":\"bar\"},{\"alignmentgroup\":\"True\",\"base\":[\"1970-01-10T03:00:00\",\"1970-01-07T17:00:00\",\"1970-01-02T13:00:00\",\"1970-01-07T01:00:00\",\"1970-01-08T19:00:00\",\"1970-01-09T11:00:00\"],\"customdata\":[[\"MOR\"],[\"LOR\"],[\"LPT\"],[\"LOR\"],[\"MOR\"],[\"MOR\"]],\"hovertemplate\":\"Type=j20<br>Start=%{base}<br>Finish=%{x}<br>Resource=%{y}<br>Task=%{text}<br>Rule=%{customdata[0]}<extra></extra>\",\"legendgroup\":\"j20\",\"marker\":{\"color\":\"#E15F99\",\"pattern\":{\"shape\":\"\"},\"line\":{\"color\":\"black\"}},\"name\":\"j20\",\"offsetgroup\":\"j20\",\"orientation\":\"h\",\"showlegend\":true,\"text\":[\"j2006\",\"j2003\",\"j2001\",\"j2002\",\"j2004\",\"j2005\"],\"textposition\":\"auto\",\"x\":[32400000.0,93600000.0,93600000.0,57600000.0,57600000.0,43200000.0],\"xaxis\":\"x\",\"y\":[\"M6\",\"M5\",\"M4\",\"M3\",\"M3\",\"M3\"],\"yaxis\":\"y\",\"type\":\"bar\"},{\"alignmentgroup\":\"True\",\"base\":[\"1970-01-03T11:00:00\",\"1970-01-04T12:00:00\",\"1970-01-04T22:00:00\",\"1970-01-05T11:00:00\",\"1970-01-06T04:00:00\"],\"customdata\":[[\"LPT\"],[\"LOR\"],[\"LOR\"],[\"LOR\"],[\"LOR\"]],\"hovertemplate\":\"Type=j18<br>Start=%{base}<br>Finish=%{x}<br>Resource=%{y}<br>Task=%{text}<br>Rule=%{customdata[0]}<extra></extra>\",\"legendgroup\":\"j18\",\"marker\":{\"color\":\"#1CA71C\",\"pattern\":{\"shape\":\"\"},\"line\":{\"color\":\"black\"}},\"name\":\"j18\",\"offsetgroup\":\"j18\",\"orientation\":\"h\",\"showlegend\":true,\"text\":[\"j1801\",\"j1802\",\"j1803\",\"j1804\",\"j1805\"],\"textposition\":\"auto\",\"x\":[90000000.0,36000000.0,46800000.0,61200000.0,36000000.0],\"xaxis\":\"x\",\"y\":[\"M6\",\"M6\",\"M6\",\"M6\",\"M1\"],\"yaxis\":\"y\",\"type\":\"bar\"},{\"alignmentgroup\":\"True\",\"base\":[\"1970-01-02T08:00:00\",\"1970-01-05T03:00:00\",\"1970-01-06T00:00:00\",\"1970-01-04T01:00:00\"],\"customdata\":[[\"LPT\"],[\"LOR\"],[\"LOR\"],[\"LOR\"]],\"hovertemplate\":\"Type=j17<br>Start=%{base}<br>Finish=%{x}<br>Resource=%{y}<br>Task=%{text}<br>Rule=%{customdata[0]}<extra></extra>\",\"legendgroup\":\"j17\",\"marker\":{\"color\":\"#FB0D0D\",\"pattern\":{\"shape\":\"\"},\"line\":{\"color\":\"black\"}},\"name\":\"j17\",\"offsetgroup\":\"j17\",\"orientation\":\"h\",\"showlegend\":true,\"text\":[\"j1701\",\"j1703\",\"j1704\",\"j1702\"],\"textposition\":\"auto\",\"x\":[97200000.0,75600000.0,90000000.0,93600000.0],\"xaxis\":\"x\",\"y\":[\"M6\",\"M3\",\"M3\",\"M2\"],\"yaxis\":\"y\",\"type\":\"bar\"},{\"alignmentgroup\":\"True\",\"base\":[\"1970-01-07T20:00:00\",\"1970-01-08T09:00:00\",\"1970-01-08T22:00:00\",\"1970-01-09T15:00:00\",\"1970-01-10T03:00:00\",\"1970-01-10T17:00:00\",\"1970-01-11T15:00:00\",\"1970-01-12T14:00:00\"],\"customdata\":[[\"MOR\"],[\"MOR\"],[\"MOR\"],[\"MOR\"],[\"MOR\"],[\"MOR\"],[\"MOR\"],[\"MOR\"]],\"hovertemplate\":\"Type=j16<br>Start=%{base}<br>Finish=%{x}<br>Resource=%{y}<br>Task=%{text}<br>Rule=%{customdata[0]}<extra></extra>\",\"legendgroup\":\"j16\",\"marker\":{\"color\":\"#DA16FF\",\"pattern\":{\"shape\":\"\"},\"line\":{\"color\":\"black\"}},\"name\":\"j16\",\"offsetgroup\":\"j16\",\"orientation\":\"h\",\"showlegend\":true,\"text\":[\"j1601\",\"j1602\",\"j1603\",\"j1604\",\"j1605\",\"j1606\",\"j1607\",\"j1608\"],\"textposition\":\"auto\",\"x\":[46800000.0,46800000.0,61200000.0,43200000.0,50400000.0,79200000.0,82800000.0,25200000.0],\"xaxis\":\"x\",\"y\":[\"M6\",\"M6\",\"M6\",\"M5\",\"M5\",\"M3\",\"M3\",\"M1\"],\"yaxis\":\"y\",\"type\":\"bar\"},{\"alignmentgroup\":\"True\",\"base\":[\"1970-01-09T15:00:00\",\"1970-01-02T14:00:00\",\"1970-01-06T08:00:00\",\"1970-01-07T06:00:00\",\"1970-01-08T06:00:00\",\"1970-01-07T17:00:00\"],\"customdata\":[[\"MOR\"],[\"LPT\"],[\"LOR\"],[\"LOR\"],[\"MOR\"],[\"LOR\"]],\"hovertemplate\":\"Type=j11<br>Start=%{base}<br>Finish=%{x}<br>Resource=%{y}<br>Task=%{text}<br>Rule=%{customdata[0]}<extra></extra>\",\"legendgroup\":\"j11\",\"marker\":{\"color\":\"#222A2A\",\"pattern\":{\"shape\":\"\"},\"line\":{\"color\":\"black\"}},\"name\":\"j11\",\"offsetgroup\":\"j11\",\"orientation\":\"h\",\"showlegend\":true,\"text\":[\"j1106\",\"j1101\",\"j1102\",\"j1103\",\"j1105\",\"j1104\"],\"textposition\":\"auto\",\"x\":[43200000.0,93600000.0,79200000.0,39600000.0,46800000.0,46800000.0],\"xaxis\":\"x\",\"y\":[\"M6\",\"M5\",\"M5\",\"M5\",\"M3\",\"M1\"],\"yaxis\":\"y\",\"type\":\"bar\"},{\"alignmentgroup\":\"True\",\"base\":[\"1970-01-01T09:00:00\",\"1970-01-01T14:00:00\",\"1970-01-02T01:00:00\",\"1970-01-02T10:00:00\"],\"customdata\":[[\"LOR\"],[\"LOR\"],[\"LOR\"],[\"LOR\"]],\"hovertemplate\":\"Type=j10<br>Start=%{base}<br>Finish=%{x}<br>Resource=%{y}<br>Task=%{text}<br>Rule=%{customdata[0]}<extra></extra>\",\"legendgroup\":\"j10\",\"marker\":{\"color\":\"#B68100\",\"pattern\":{\"shape\":\"\"},\"line\":{\"color\":\"black\"}},\"name\":\"j10\",\"offsetgroup\":\"j10\",\"orientation\":\"h\",\"showlegend\":true,\"text\":[\"j1001\",\"j1002\",\"j1003\",\"j1004\"],\"textposition\":\"auto\",\"x\":[18000000.0,39600000.0,25200000.0,57600000.0],\"xaxis\":\"x\",\"y\":[\"M6\",\"M6\",\"M6\",\"M2\"],\"yaxis\":\"y\",\"type\":\"bar\"},{\"alignmentgroup\":\"True\",\"base\":[\"1970-01-10T12:00:00\",\"1970-01-10T17:00:00\",\"1970-01-10T18:00:00\",\"1970-01-10T19:00:00\",\"1970-01-10T21:00:00\",\"1970-01-11T12:00:00\",\"1970-01-11T14:00:00\",\"1970-01-11T15:00:00\",\"1970-01-12T02:00:00\",\"1970-01-12T05:00:00\",\"1970-01-12T14:00:00\",\"1970-01-12T16:00:00\",\"1970-01-12T21:00:00\",\"1970-01-10T17:00:00\",\"1970-01-10T18:00:00\",\"1970-01-10T19:00:00\",\"1970-01-10T21:00:00\",\"1970-01-11T12:00:00\",\"1970-01-11T14:00:00\",\"1970-01-11T15:00:00\",\"1970-01-12T02:00:00\",\"1970-01-12T05:00:00\",\"1970-01-12T14:00:00\",\"1970-01-12T16:00:00\",\"1970-01-12T21:00:00\",\"1970-01-10T18:00:00\",\"1970-01-10T19:00:00\",\"1970-01-10T21:00:00\",\"1970-01-11T12:00:00\",\"1970-01-11T14:00:00\",\"1970-01-11T15:00:00\",\"1970-01-12T02:00:00\",\"1970-01-12T05:00:00\",\"1970-01-12T14:00:00\",\"1970-01-12T16:00:00\",\"1970-01-12T21:00:00\",\"1970-01-10T07:00:00\",\"1970-01-10T12:00:00\",\"1970-01-12T14:00:00\",\"1970-01-12T16:00:00\",\"1970-01-12T21:00:00\",\"1970-01-12T05:00:00\",\"1970-01-12T21:00:00\"],\"customdata\":[[\"DDA\"],[\"DDA\"],[\"DDA\"],[\"DDA\"],[\"DDA\"],[\"DDA\"],[\"DDA\"],[\"DDA\"],[\"DDA\"],[\"DDA\"],[\"DDA\"],[\"DDA\"],[\"DDA\"],[\"DDA\"],[\"DDA\"],[\"DDA\"],[\"DDA\"],[\"DDA\"],[\"DDA\"],[\"DDA\"],[\"DDA\"],[\"DDA\"],[\"DDA\"],[\"DDA\"],[\"DDA\"],[\"DDA\"],[\"DDA\"],[\"DDA\"],[\"DDA\"],[\"DDA\"],[\"DDA\"],[\"DDA\"],[\"DDA\"],[\"DDA\"],[\"DDA\"],[\"DDA\"],[\"DDA\"],[\"DDA\"],[\"DDA\"],[\"DDA\"],[\"DDA\"],[\"DDA\"],[\"DDA\"]],\"hovertemplate\":\"Type=delay_machine<br>Start=%{base}<br>Finish=%{x}<br>Resource=%{y}<br>Task=%{text}<br>Rule=%{customdata[0]}<extra></extra>\",\"legendgroup\":\"delay_machine\",\"marker\":{\"color\":\"#750D86\",\"pattern\":{\"shape\":\"\"},\"line\":{\"color\":\"black\"}},\"name\":\"delay_machine\",\"offsetgroup\":\"delay_machine\",\"orientation\":\"h\",\"showlegend\":true,\"text\":[\"delay\",\"delay\",\"delay\",\"delay\",\"delay\",\"delay\",\"delay\",\"delay\",\"delay\",\"delay\",\"delay\",\"delay\",\"delay\",\"delay\",\"delay\",\"delay\",\"delay\",\"delay\",\"delay\",\"delay\",\"delay\",\"delay\",\"delay\",\"delay\",\"delay\",\"delay\",\"delay\",\"delay\",\"delay\",\"delay\",\"delay\",\"delay\",\"delay\",\"delay\",\"delay\",\"delay\",\"delay\",\"delay\",\"delay\",\"delay\",\"delay\",\"delay\",\"delay\"],\"textposition\":\"auto\",\"x\":[18000000.0,3600000.0,3600000.0,7200000.0,54000000.0,7200000.0,3600000.0,39600000.0,10800000.0,32400000.0,7200000.0,18000000.0,3600000.0,3600000.0,3600000.0,7200000.0,54000000.0,7200000.0,3600000.0,39600000.0,10800000.0,32400000.0,7200000.0,18000000.0,3600000.0,3600000.0,7200000.0,54000000.0,7200000.0,3600000.0,39600000.0,10800000.0,32400000.0,7200000.0,18000000.0,3600000.0,18000000.0,18000000.0,7200000.0,18000000.0,3600000.0,32400000.0,3600000.0],\"xaxis\":\"x\",\"y\":[\"M6\",\"M6\",\"M6\",\"M6\",\"M6\",\"M6\",\"M6\",\"M6\",\"M6\",\"M6\",\"M6\",\"M6\",\"M6\",\"M5\",\"M5\",\"M5\",\"M5\",\"M5\",\"M5\",\"M5\",\"M5\",\"M5\",\"M5\",\"M5\",\"M5\",\"M4\",\"M4\",\"M4\",\"M4\",\"M4\",\"M4\",\"M4\",\"M4\",\"M4\",\"M4\",\"M4\",\"M3\",\"M3\",\"M3\",\"M3\",\"M3\",\"M1\",\"M1\"],\"yaxis\":\"y\",\"type\":\"bar\"},{\"alignmentgroup\":\"True\",\"base\":[\"1970-01-01T09:00:00\",\"1970-01-01T15:00:00\",\"1970-01-01T20:00:00\",\"1970-01-03T16:00:00\"],\"customdata\":[[\"LOR\"],[\"LOR\"],[\"LOR\"],[\"LOR\"]],\"hovertemplate\":\"Type=j8<br>Start=%{base}<br>Finish=%{x}<br>Resource=%{y}<br>Task=%{text}<br>Rule=%{customdata[0]}<extra></extra>\",\"legendgroup\":\"j8\",\"marker\":{\"color\":\"#EB663B\",\"pattern\":{\"shape\":\"\"},\"line\":{\"color\":\"black\"}},\"name\":\"j8\",\"offsetgroup\":\"j8\",\"orientation\":\"h\",\"showlegend\":true,\"text\":[\"j0801\",\"j0802\",\"j0803\",\"j0804\"],\"textposition\":\"auto\",\"x\":[21600000.0,18000000.0,64800000.0,64800000.0],\"xaxis\":\"x\",\"y\":[\"M5\",\"M5\",\"M5\",\"M5\"],\"yaxis\":\"y\",\"type\":\"bar\"},{\"alignmentgroup\":\"True\",\"base\":[\"1970-01-04T10:00:00\",\"1970-01-04T18:00:00\",\"1970-01-05T01:00:00\",\"1970-01-05T06:00:00\",\"1970-01-05T15:00:00\"],\"customdata\":[[\"LOR\"],[\"LOR\"],[\"LOR\"],[\"LOR\"],[\"LOR\"]],\"hovertemplate\":\"Type=j4<br>Start=%{base}<br>Finish=%{x}<br>Resource=%{y}<br>Task=%{text}<br>Rule=%{customdata[0]}<extra></extra>\",\"legendgroup\":\"j4\",\"marker\":{\"color\":\"#511CFB\",\"pattern\":{\"shape\":\"\"},\"line\":{\"color\":\"black\"}},\"name\":\"j4\",\"offsetgroup\":\"j4\",\"orientation\":\"h\",\"showlegend\":true,\"text\":[\"j0401\",\"j0402\",\"j0403\",\"j0404\",\"j0405\"],\"textposition\":\"auto\",\"x\":[28800000.0,25200000.0,18000000.0,32400000.0,61200000.0],\"xaxis\":\"x\",\"y\":[\"M5\",\"M5\",\"M5\",\"M5\",\"M5\"],\"yaxis\":\"y\",\"type\":\"bar\"},{\"alignmentgroup\":\"True\",\"base\":[\"1970-01-08T19:00:00\",\"1970-01-07T17:00:00\",\"1970-01-09T23:00:00\",\"1970-01-06T14:00:00\",\"1970-01-07T12:00:00\"],\"customdata\":[[\"MOR\"],[\"LOR\"],[\"MOR\"],[\"LOR\"],[\"LOR\"]],\"hovertemplate\":\"Type=j12<br>Start=%{base}<br>Finish=%{x}<br>Resource=%{y}<br>Task=%{text}<br>Rule=%{customdata[0]}<extra></extra>\",\"legendgroup\":\"j12\",\"marker\":{\"color\":\"#00A08B\",\"pattern\":{\"shape\":\"\"},\"line\":{\"color\":\"black\"}},\"name\":\"j12\",\"offsetgroup\":\"j12\",\"orientation\":\"h\",\"showlegend\":true,\"text\":[\"j1204\",\"j1203\",\"j1205\",\"j1201\",\"j1202\"],\"textposition\":\"auto\",\"x\":[32400000.0,46800000.0,28800000.0,79200000.0,18000000.0],\"xaxis\":\"x\",\"y\":[\"M5\",\"M3\",\"M3\",\"M1\",\"M1\"],\"yaxis\":\"y\",\"type\":\"bar\"},{\"alignmentgroup\":\"True\",\"base\":[\"1970-01-01T09:00:00\",\"1970-01-01T21:00:00\",\"1970-01-02T06:00:00\",\"1970-01-03T15:00:00\"],\"customdata\":[[\"LOR\"],[\"LOR\"],[\"LOR\"],[\"LOR\"]],\"hovertemplate\":\"Type=j3<br>Start=%{base}<br>Finish=%{x}<br>Resource=%{y}<br>Task=%{text}<br>Rule=%{customdata[0]}<extra></extra>\",\"legendgroup\":\"j3\",\"marker\":{\"color\":\"#FB00D1\",\"pattern\":{\"shape\":\"\"},\"line\":{\"color\":\"black\"}},\"name\":\"j3\",\"offsetgroup\":\"j3\",\"orientation\":\"h\",\"showlegend\":true,\"text\":[\"j0301\",\"j0302\",\"j0303\",\"j0304\"],\"textposition\":\"auto\",\"x\":[43200000.0,32400000.0,25200000.0,46800000.0],\"xaxis\":\"x\",\"y\":[\"M4\",\"M4\",\"M4\",\"M4\"],\"yaxis\":\"y\",\"type\":\"bar\"},{\"alignmentgroup\":\"True\",\"base\":[\"1970-01-07T05:00:00\",\"1970-01-07T19:00:00\",\"1970-01-08T12:00:00\",\"1970-01-09T08:00:00\",\"1970-01-09T17:00:00\",\"1970-01-10T00:00:00\",\"1970-01-02T19:00:00\"],\"customdata\":[[\"LOR\"],[\"LOR\"],[\"MOR\"],[\"MOR\"],[\"MOR\"],[\"MOR\"],[\"LPT\"]],\"hovertemplate\":\"Type=j19<br>Start=%{base}<br>Finish=%{x}<br>Resource=%{y}<br>Task=%{text}<br>Rule=%{customdata[0]}<extra></extra>\",\"legendgroup\":\"j19\",\"marker\":{\"color\":\"#FC0080\",\"pattern\":{\"shape\":\"\"},\"line\":{\"color\":\"black\"}},\"name\":\"j19\",\"offsetgroup\":\"j19\",\"orientation\":\"h\",\"showlegend\":true,\"text\":[\"j1902\",\"j1903\",\"j1904\",\"j1905\",\"j1906\",\"j1907\",\"j1901\"],\"textposition\":\"auto\",\"x\":[50400000.0,61200000.0,72000000.0,32400000.0,25200000.0,64800000.0,82800000.0],\"xaxis\":\"x\",\"y\":[\"M4\",\"M4\",\"M4\",\"M4\",\"M4\",\"M4\",\"M1\"],\"yaxis\":\"y\",\"type\":\"bar\"},{\"alignmentgroup\":\"True\",\"base\":[\"1970-01-04T04:00:00\",\"1970-01-04T16:00:00\",\"1970-01-05T11:00:00\",\"1970-01-06T11:00:00\"],\"customdata\":[[\"LOR\"],[\"LOR\"],[\"LOR\"],[\"LOR\"]],\"hovertemplate\":\"Type=j13<br>Start=%{base}<br>Finish=%{x}<br>Resource=%{y}<br>Task=%{text}<br>Rule=%{customdata[0]}<extra></extra>\",\"legendgroup\":\"j13\",\"marker\":{\"color\":\"#B2828D\",\"pattern\":{\"shape\":\"\"},\"line\":{\"color\":\"black\"}},\"name\":\"j13\",\"offsetgroup\":\"j13\",\"orientation\":\"h\",\"showlegend\":true,\"text\":[\"j1301\",\"j1302\",\"j1303\",\"j1304\"],\"textposition\":\"auto\",\"x\":[43200000.0,68400000.0,86400000.0,64800000.0],\"xaxis\":\"x\",\"y\":[\"M4\",\"M4\",\"M4\",\"M4\"],\"yaxis\":\"y\",\"type\":\"bar\"},{\"alignmentgroup\":\"True\",\"base\":[\"1970-01-02T11:00:00\",\"1970-01-01T09:00:00\",\"1970-01-02T02:00:00\"],\"customdata\":[[\"LOR\"],[\"LOR\"],[\"LOR\"]],\"hovertemplate\":\"Type=j15<br>Start=%{base}<br>Finish=%{x}<br>Resource=%{y}<br>Task=%{text}<br>Rule=%{customdata[0]}<extra></extra>\",\"legendgroup\":\"j15\",\"marker\":{\"color\":\"#6C7C32\",\"pattern\":{\"shape\":\"\"},\"line\":{\"color\":\"black\"}},\"name\":\"j15\",\"offsetgroup\":\"j15\",\"orientation\":\"h\",\"showlegend\":true,\"text\":[\"j1503\",\"j1501\",\"j1502\"],\"textposition\":\"auto\",\"x\":[100800000.0,61200000.0,28800000.0],\"xaxis\":\"x\",\"y\":[\"M3\",\"M2\",\"M2\"],\"yaxis\":\"y\",\"type\":\"bar\"},{\"alignmentgroup\":\"True\",\"base\":[\"1970-01-03T15:00:00\",\"1970-01-04T17:00:00\",\"1970-01-05T03:00:00\",\"1970-01-05T20:00:00\"],\"customdata\":[[\"LPT\"],[\"LOR\"],[\"LOR\"],[\"LOR\"]],\"hovertemplate\":\"Type=j14<br>Start=%{base}<br>Finish=%{x}<br>Resource=%{y}<br>Task=%{text}<br>Rule=%{customdata[0]}<extra></extra>\",\"legendgroup\":\"j14\",\"marker\":{\"color\":\"#778AAE\",\"pattern\":{\"shape\":\"\"},\"line\":{\"color\":\"black\"}},\"name\":\"j14\",\"offsetgroup\":\"j14\",\"orientation\":\"h\",\"showlegend\":true,\"text\":[\"j1401\",\"j1402\",\"j1403\",\"j1404\"],\"textposition\":\"auto\",\"x\":[93600000.0,36000000.0,61200000.0,28800000.0],\"xaxis\":\"x\",\"y\":[\"M3\",\"M3\",\"M2\",\"M2\"],\"yaxis\":\"y\",\"type\":\"bar\"},{\"alignmentgroup\":\"True\",\"base\":[\"1970-01-01T09:00:00\",\"1970-01-02T03:00:00\",\"1970-01-03T18:00:00\",\"1970-01-04T09:00:00\"],\"customdata\":[[\"LOR\"],[\"LOR\"],[\"LOR\"],[\"LOR\"]],\"hovertemplate\":\"Type=j1<br>Start=%{base}<br>Finish=%{x}<br>Resource=%{y}<br>Task=%{text}<br>Rule=%{customdata[0]}<extra></extra>\",\"legendgroup\":\"j1\",\"marker\":{\"color\":\"#862A16\",\"pattern\":{\"shape\":\"\"},\"line\":{\"color\":\"black\"}},\"name\":\"j1\",\"offsetgroup\":\"j1\",\"orientation\":\"h\",\"showlegend\":true,\"text\":[\"j0101\",\"j0102\",\"j0103\",\"j0104\"],\"textposition\":\"auto\",\"x\":[64800000.0,28800000.0,54000000.0,50400000.0],\"xaxis\":\"x\",\"y\":[\"M3\",\"M3\",\"M1\",\"M1\"],\"yaxis\":\"y\",\"type\":\"bar\"},{\"alignmentgroup\":\"True\",\"base\":[\"1970-01-03T02:00:00\",\"1970-01-01T09:00:00\",\"1970-01-01T20:00:00\"],\"customdata\":[[\"LPT\"],[\"LOR\"],[\"LOR\"]],\"hovertemplate\":\"Type=j6<br>Start=%{base}<br>Finish=%{x}<br>Resource=%{y}<br>Task=%{text}<br>Rule=%{customdata[0]}<extra></extra>\",\"legendgroup\":\"j6\",\"marker\":{\"color\":\"#A777F1\",\"pattern\":{\"shape\":\"\"},\"line\":{\"color\":\"black\"}},\"name\":\"j6\",\"offsetgroup\":\"j6\",\"orientation\":\"h\",\"showlegend\":true,\"text\":[\"j0603\",\"j0601\",\"j0602\"],\"textposition\":\"auto\",\"x\":[82800000.0,39600000.0,82800000.0],\"xaxis\":\"x\",\"y\":[\"M2\",\"M1\",\"M1\"],\"yaxis\":\"y\",\"type\":\"bar\"},{\"alignmentgroup\":\"True\",\"base\":[\"1970-01-06T04:00:00\",\"1970-01-07T00:00:00\",\"1970-01-07T11:00:00\",\"1970-01-04T23:00:00\",\"1970-01-05T17:00:00\"],\"customdata\":[[\"LOR\"],[\"LOR\"],[\"LOR\"],[\"LOR\"],[\"LOR\"]],\"hovertemplate\":\"Type=j5<br>Start=%{base}<br>Finish=%{x}<br>Resource=%{y}<br>Task=%{text}<br>Rule=%{customdata[0]}<extra></extra>\",\"legendgroup\":\"j5\",\"marker\":{\"color\":\"#620042\",\"pattern\":{\"shape\":\"\"},\"line\":{\"color\":\"black\"}},\"name\":\"j5\",\"offsetgroup\":\"j5\",\"orientation\":\"h\",\"showlegend\":true,\"text\":[\"j0503\",\"j0504\",\"j0505\",\"j0501\",\"j0502\"],\"textposition\":\"auto\",\"x\":[72000000.0,39600000.0,18000000.0,64800000.0,39600000.0],\"xaxis\":\"x\",\"y\":[\"M2\",\"M2\",\"M2\",\"M1\",\"M1\"],\"yaxis\":\"y\",\"type\":\"bar\"},{\"alignmentgroup\":\"True\",\"base\":[\"1970-01-07T16:00:00\",\"1970-01-08T10:00:00\",\"1970-01-09T02:00:00\",\"1970-01-10T01:00:00\",\"1970-01-10T19:00:00\",\"1970-01-11T14:00:00\",\"1970-01-12T02:00:00\"],\"customdata\":[[\"LOR\"],[\"MOR\"],[\"MOR\"],[\"MOR\"],[\"MOR\"],[\"MOR\"],[\"MOR\"]],\"hovertemplate\":\"Type=j2<br>Start=%{base}<br>Finish=%{x}<br>Resource=%{y}<br>Task=%{text}<br>Rule=%{customdata[0]}<extra></extra>\",\"legendgroup\":\"j2\",\"marker\":{\"color\":\"#1616A7\",\"pattern\":{\"shape\":\"\"},\"line\":{\"color\":\"black\"}},\"name\":\"j2\",\"offsetgroup\":\"j2\",\"orientation\":\"h\",\"showlegend\":true,\"text\":[\"j0201\",\"j0202\",\"j0203\",\"j0204\",\"j0205\",\"j0206\",\"j0207\"],\"textposition\":\"auto\",\"x\":[64800000.0,57600000.0,82800000.0,64800000.0,68400000.0,43200000.0,72000000.0],\"xaxis\":\"x\",\"y\":[\"M2\",\"M2\",\"M2\",\"M2\",\"M2\",\"M2\",\"M2\"],\"yaxis\":\"y\",\"type\":\"bar\"},{\"alignmentgroup\":\"True\",\"base\":[\"1970-01-08T06:00:00\",\"1970-01-08T15:00:00\",\"1970-01-09T08:00:00\",\"1970-01-09T22:00:00\",\"1970-01-10T04:00:00\",\"1970-01-10T18:00:00\",\"1970-01-11T12:00:00\"],\"customdata\":[[\"MOR\"],[\"MOR\"],[\"MOR\"],[\"MOR\"],[\"MOR\"],[\"MOR\"],[\"MOR\"]],\"hovertemplate\":\"Type=j7<br>Start=%{base}<br>Finish=%{x}<br>Resource=%{y}<br>Task=%{text}<br>Rule=%{customdata[0]}<extra></extra>\",\"legendgroup\":\"j7\",\"marker\":{\"color\":\"#DA60CA\",\"pattern\":{\"shape\":\"\"},\"line\":{\"color\":\"black\"}},\"name\":\"j7\",\"offsetgroup\":\"j7\",\"orientation\":\"h\",\"showlegend\":true,\"text\":[\"j0701\",\"j0702\",\"j0703\",\"j0704\",\"j0705\",\"j0706\",\"j0707\"],\"textposition\":\"auto\",\"x\":[32400000.0,61200000.0,50400000.0,21600000.0,50400000.0,64800000.0,61200000.0],\"xaxis\":\"x\",\"y\":[\"M1\",\"M1\",\"M1\",\"M1\",\"M1\",\"M1\",\"M1\"],\"yaxis\":\"y\",\"type\":\"bar\"},{\"alignmentgroup\":\"True\",\"base\":[\"1970-01-02T08:00:00\",\"1970-01-03T11:00:00\",\"1970-01-06T04:00:00\",\"1970-01-07T20:00:00\",\"1970-01-09T15:00:00\",\"1970-01-10T03:00:00\",\"1970-01-02T14:00:00\",\"1970-01-03T16:00:00\",\"1970-01-04T10:00:00\",\"1970-01-06T08:00:00\",\"1970-01-07T17:00:00\",\"1970-01-08T19:00:00\",\"1970-01-09T04:00:00\",\"1970-01-09T15:00:00\",\"1970-01-02T13:00:00\",\"1970-01-03T15:00:00\",\"1970-01-04T04:00:00\",\"1970-01-07T05:00:00\",\"1970-01-02T11:00:00\",\"1970-01-03T15:00:00\",\"1970-01-05T03:00:00\",\"1970-01-07T01:00:00\",\"1970-01-07T17:00:00\",\"1970-01-08T06:00:00\",\"1970-01-08T19:00:00\",\"1970-01-09T23:00:00\",\"1970-01-10T17:00:00\",\"1970-01-02T10:00:00\",\"1970-01-03T02:00:00\",\"1970-01-04T01:00:00\",\"1970-01-05T03:00:00\",\"1970-01-06T04:00:00\",\"1970-01-07T16:00:00\",\"1970-01-02T19:00:00\",\"1970-01-03T18:00:00\",\"1970-01-04T23:00:00\",\"1970-01-06T04:00:00\",\"1970-01-06T14:00:00\",\"1970-01-07T17:00:00\",\"1970-01-08T06:00:00\",\"1970-01-12T14:00:00\"],\"customdata\":[[\"NONE\"],[\"NONE\"],[\"NONE\"],[\"NONE\"],[\"NONE\"],[\"NONE\"],[\"NONE\"],[\"NONE\"],[\"NONE\"],[\"NONE\"],[\"NONE\"],[\"NONE\"],[\"NONE\"],[\"NONE\"],[\"NONE\"],[\"NONE\"],[\"NONE\"],[\"NONE\"],[\"NONE\"],[\"NONE\"],[\"NONE\"],[\"NONE\"],[\"NONE\"],[\"NONE\"],[\"NONE\"],[\"NONE\"],[\"NONE\"],[\"NONE\"],[\"NONE\"],[\"NONE\"],[\"NONE\"],[\"NONE\"],[\"NONE\"],[\"NONE\"],[\"NONE\"],[\"NONE\"],[\"NONE\"],[\"NONE\"],[\"NONE\"],[\"NONE\"],[\"NONE\"]],\"hovertemplate\":\"Type=setup<br>Start=%{base}<br>Finish=%{x}<br>Resource=%{y}<br>Task=%{text}<br>Rule=%{customdata[0]}<extra></extra>\",\"legendgroup\":\"setup\",\"marker\":{\"color\":\"#6C4516\",\"pattern\":{\"shape\":\"\"},\"line\":{\"color\":\"black\"}},\"name\":\"setup\",\"offsetgroup\":\"setup\",\"orientation\":\"h\",\"showlegend\":true,\"text\":[\"setup\",\"setup\",\"setup\",\"setup\",\"setup\",\"setup\",\"setup\",\"setup\",\"setup\",\"setup\",\"setup\",\"setup\",\"setup\",\"setup\",\"setup\",\"setup\",\"setup\",\"setup\",\"setup\",\"setup\",\"setup\",\"setup\",\"setup\",\"setup\",\"setup\",\"setup\",\"setup\",\"setup\",\"setup\",\"setup\",\"setup\",\"setup\",\"setup\",\"setup\",\"setup\",\"setup\",\"setup\",\"setup\",\"setup\",\"setup\",\"setup\"],\"textposition\":\"auto\",\"x\":[14400000.0,10800000.0,14400000.0,3600000.0,10800000.0,7200000.0,10800000.0,10800000.0,14400000.0,14400000.0,7200000.0,7200000.0,7200000.0,3600000.0,3600000.0,10800000.0,10800000.0,3600000.0,10800000.0,10800000.0,10800000.0,10800000.0,7200000.0,14400000.0,7200000.0,7200000.0,14400000.0,7200000.0,10800000.0,3600000.0,10800000.0,10800000.0,10800000.0,10800000.0,10800000.0,7200000.0,10800000.0,10800000.0,14400000.0,10800000.0,7200000.0],\"xaxis\":\"x\",\"y\":[\"M6\",\"M6\",\"M6\",\"M6\",\"M6\",\"M6\",\"M5\",\"M5\",\"M5\",\"M5\",\"M5\",\"M5\",\"M5\",\"M5\",\"M4\",\"M4\",\"M4\",\"M4\",\"M3\",\"M3\",\"M3\",\"M3\",\"M3\",\"M3\",\"M3\",\"M3\",\"M3\",\"M2\",\"M2\",\"M2\",\"M2\",\"M2\",\"M2\",\"M1\",\"M1\",\"M1\",\"M1\",\"M1\",\"M1\",\"M1\",\"M1\"],\"yaxis\":\"y\",\"type\":\"bar\",\"width\":0.7}],                        {\"template\":{\"data\":{\"barpolar\":[{\"marker\":{\"line\":{\"color\":\"white\",\"width\":0.5},\"pattern\":{\"fillmode\":\"overlay\",\"size\":10,\"solidity\":0.2}},\"type\":\"barpolar\"}],\"bar\":[{\"error_x\":{\"color\":\"rgb(36,36,36)\"},\"error_y\":{\"color\":\"rgb(36,36,36)\"},\"marker\":{\"line\":{\"color\":\"white\",\"width\":0.5},\"pattern\":{\"fillmode\":\"overlay\",\"size\":10,\"solidity\":0.2}},\"type\":\"bar\"}],\"carpet\":[{\"aaxis\":{\"endlinecolor\":\"rgb(36,36,36)\",\"gridcolor\":\"white\",\"linecolor\":\"white\",\"minorgridcolor\":\"white\",\"startlinecolor\":\"rgb(36,36,36)\"},\"baxis\":{\"endlinecolor\":\"rgb(36,36,36)\",\"gridcolor\":\"white\",\"linecolor\":\"white\",\"minorgridcolor\":\"white\",\"startlinecolor\":\"rgb(36,36,36)\"},\"type\":\"carpet\"}],\"choropleth\":[{\"colorbar\":{\"outlinewidth\":1,\"tickcolor\":\"rgb(36,36,36)\",\"ticks\":\"outside\"},\"type\":\"choropleth\"}],\"contourcarpet\":[{\"colorbar\":{\"outlinewidth\":1,\"tickcolor\":\"rgb(36,36,36)\",\"ticks\":\"outside\"},\"type\":\"contourcarpet\"}],\"contour\":[{\"colorbar\":{\"outlinewidth\":1,\"tickcolor\":\"rgb(36,36,36)\",\"ticks\":\"outside\"},\"colorscale\":[[0.0,\"#440154\"],[0.1111111111111111,\"#482878\"],[0.2222222222222222,\"#3e4989\"],[0.3333333333333333,\"#31688e\"],[0.4444444444444444,\"#26828e\"],[0.5555555555555556,\"#1f9e89\"],[0.6666666666666666,\"#35b779\"],[0.7777777777777778,\"#6ece58\"],[0.8888888888888888,\"#b5de2b\"],[1.0,\"#fde725\"]],\"type\":\"contour\"}],\"heatmapgl\":[{\"colorbar\":{\"outlinewidth\":1,\"tickcolor\":\"rgb(36,36,36)\",\"ticks\":\"outside\"},\"colorscale\":[[0.0,\"#440154\"],[0.1111111111111111,\"#482878\"],[0.2222222222222222,\"#3e4989\"],[0.3333333333333333,\"#31688e\"],[0.4444444444444444,\"#26828e\"],[0.5555555555555556,\"#1f9e89\"],[0.6666666666666666,\"#35b779\"],[0.7777777777777778,\"#6ece58\"],[0.8888888888888888,\"#b5de2b\"],[1.0,\"#fde725\"]],\"type\":\"heatmapgl\"}],\"heatmap\":[{\"colorbar\":{\"outlinewidth\":1,\"tickcolor\":\"rgb(36,36,36)\",\"ticks\":\"outside\"},\"colorscale\":[[0.0,\"#440154\"],[0.1111111111111111,\"#482878\"],[0.2222222222222222,\"#3e4989\"],[0.3333333333333333,\"#31688e\"],[0.4444444444444444,\"#26828e\"],[0.5555555555555556,\"#1f9e89\"],[0.6666666666666666,\"#35b779\"],[0.7777777777777778,\"#6ece58\"],[0.8888888888888888,\"#b5de2b\"],[1.0,\"#fde725\"]],\"type\":\"heatmap\"}],\"histogram2dcontour\":[{\"colorbar\":{\"outlinewidth\":1,\"tickcolor\":\"rgb(36,36,36)\",\"ticks\":\"outside\"},\"colorscale\":[[0.0,\"#440154\"],[0.1111111111111111,\"#482878\"],[0.2222222222222222,\"#3e4989\"],[0.3333333333333333,\"#31688e\"],[0.4444444444444444,\"#26828e\"],[0.5555555555555556,\"#1f9e89\"],[0.6666666666666666,\"#35b779\"],[0.7777777777777778,\"#6ece58\"],[0.8888888888888888,\"#b5de2b\"],[1.0,\"#fde725\"]],\"type\":\"histogram2dcontour\"}],\"histogram2d\":[{\"colorbar\":{\"outlinewidth\":1,\"tickcolor\":\"rgb(36,36,36)\",\"ticks\":\"outside\"},\"colorscale\":[[0.0,\"#440154\"],[0.1111111111111111,\"#482878\"],[0.2222222222222222,\"#3e4989\"],[0.3333333333333333,\"#31688e\"],[0.4444444444444444,\"#26828e\"],[0.5555555555555556,\"#1f9e89\"],[0.6666666666666666,\"#35b779\"],[0.7777777777777778,\"#6ece58\"],[0.8888888888888888,\"#b5de2b\"],[1.0,\"#fde725\"]],\"type\":\"histogram2d\"}],\"histogram\":[{\"marker\":{\"line\":{\"color\":\"white\",\"width\":0.6}},\"type\":\"histogram\"}],\"mesh3d\":[{\"colorbar\":{\"outlinewidth\":1,\"tickcolor\":\"rgb(36,36,36)\",\"ticks\":\"outside\"},\"type\":\"mesh3d\"}],\"parcoords\":[{\"line\":{\"colorbar\":{\"outlinewidth\":1,\"tickcolor\":\"rgb(36,36,36)\",\"ticks\":\"outside\"}},\"type\":\"parcoords\"}],\"pie\":[{\"automargin\":true,\"type\":\"pie\"}],\"scatter3d\":[{\"line\":{\"colorbar\":{\"outlinewidth\":1,\"tickcolor\":\"rgb(36,36,36)\",\"ticks\":\"outside\"}},\"marker\":{\"colorbar\":{\"outlinewidth\":1,\"tickcolor\":\"rgb(36,36,36)\",\"ticks\":\"outside\"}},\"type\":\"scatter3d\"}],\"scattercarpet\":[{\"marker\":{\"colorbar\":{\"outlinewidth\":1,\"tickcolor\":\"rgb(36,36,36)\",\"ticks\":\"outside\"}},\"type\":\"scattercarpet\"}],\"scattergeo\":[{\"marker\":{\"colorbar\":{\"outlinewidth\":1,\"tickcolor\":\"rgb(36,36,36)\",\"ticks\":\"outside\"}},\"type\":\"scattergeo\"}],\"scattergl\":[{\"marker\":{\"colorbar\":{\"outlinewidth\":1,\"tickcolor\":\"rgb(36,36,36)\",\"ticks\":\"outside\"}},\"type\":\"scattergl\"}],\"scattermapbox\":[{\"marker\":{\"colorbar\":{\"outlinewidth\":1,\"tickcolor\":\"rgb(36,36,36)\",\"ticks\":\"outside\"}},\"type\":\"scattermapbox\"}],\"scatterpolargl\":[{\"marker\":{\"colorbar\":{\"outlinewidth\":1,\"tickcolor\":\"rgb(36,36,36)\",\"ticks\":\"outside\"}},\"type\":\"scatterpolargl\"}],\"scatterpolar\":[{\"marker\":{\"colorbar\":{\"outlinewidth\":1,\"tickcolor\":\"rgb(36,36,36)\",\"ticks\":\"outside\"}},\"type\":\"scatterpolar\"}],\"scatter\":[{\"fillpattern\":{\"fillmode\":\"overlay\",\"size\":10,\"solidity\":0.2},\"type\":\"scatter\"}],\"scatterternary\":[{\"marker\":{\"colorbar\":{\"outlinewidth\":1,\"tickcolor\":\"rgb(36,36,36)\",\"ticks\":\"outside\"}},\"type\":\"scatterternary\"}],\"surface\":[{\"colorbar\":{\"outlinewidth\":1,\"tickcolor\":\"rgb(36,36,36)\",\"ticks\":\"outside\"},\"colorscale\":[[0.0,\"#440154\"],[0.1111111111111111,\"#482878\"],[0.2222222222222222,\"#3e4989\"],[0.3333333333333333,\"#31688e\"],[0.4444444444444444,\"#26828e\"],[0.5555555555555556,\"#1f9e89\"],[0.6666666666666666,\"#35b779\"],[0.7777777777777778,\"#6ece58\"],[0.8888888888888888,\"#b5de2b\"],[1.0,\"#fde725\"]],\"type\":\"surface\"}],\"table\":[{\"cells\":{\"fill\":{\"color\":\"rgb(237,237,237)\"},\"line\":{\"color\":\"white\"}},\"header\":{\"fill\":{\"color\":\"rgb(217,217,217)\"},\"line\":{\"color\":\"white\"}},\"type\":\"table\"}]},\"layout\":{\"annotationdefaults\":{\"arrowhead\":0,\"arrowwidth\":1},\"autotypenumbers\":\"strict\",\"coloraxis\":{\"colorbar\":{\"outlinewidth\":1,\"tickcolor\":\"rgb(36,36,36)\",\"ticks\":\"outside\"}},\"colorscale\":{\"diverging\":[[0.0,\"rgb(103,0,31)\"],[0.1,\"rgb(178,24,43)\"],[0.2,\"rgb(214,96,77)\"],[0.3,\"rgb(244,165,130)\"],[0.4,\"rgb(253,219,199)\"],[0.5,\"rgb(247,247,247)\"],[0.6,\"rgb(209,229,240)\"],[0.7,\"rgb(146,197,222)\"],[0.8,\"rgb(67,147,195)\"],[0.9,\"rgb(33,102,172)\"],[1.0,\"rgb(5,48,97)\"]],\"sequential\":[[0.0,\"#440154\"],[0.1111111111111111,\"#482878\"],[0.2222222222222222,\"#3e4989\"],[0.3333333333333333,\"#31688e\"],[0.4444444444444444,\"#26828e\"],[0.5555555555555556,\"#1f9e89\"],[0.6666666666666666,\"#35b779\"],[0.7777777777777778,\"#6ece58\"],[0.8888888888888888,\"#b5de2b\"],[1.0,\"#fde725\"]],\"sequentialminus\":[[0.0,\"#440154\"],[0.1111111111111111,\"#482878\"],[0.2222222222222222,\"#3e4989\"],[0.3333333333333333,\"#31688e\"],[0.4444444444444444,\"#26828e\"],[0.5555555555555556,\"#1f9e89\"],[0.6666666666666666,\"#35b779\"],[0.7777777777777778,\"#6ece58\"],[0.8888888888888888,\"#b5de2b\"],[1.0,\"#fde725\"]]},\"colorway\":[\"#1F77B4\",\"#FF7F0E\",\"#2CA02C\",\"#D62728\",\"#9467BD\",\"#8C564B\",\"#E377C2\",\"#7F7F7F\",\"#BCBD22\",\"#17BECF\"],\"font\":{\"color\":\"rgb(36,36,36)\"},\"geo\":{\"bgcolor\":\"white\",\"lakecolor\":\"white\",\"landcolor\":\"white\",\"showlakes\":true,\"showland\":true,\"subunitcolor\":\"white\"},\"hoverlabel\":{\"align\":\"left\"},\"hovermode\":\"closest\",\"mapbox\":{\"style\":\"light\"},\"paper_bgcolor\":\"white\",\"plot_bgcolor\":\"white\",\"polar\":{\"angularaxis\":{\"gridcolor\":\"rgb(232,232,232)\",\"linecolor\":\"rgb(36,36,36)\",\"showgrid\":false,\"showline\":true,\"ticks\":\"outside\"},\"bgcolor\":\"white\",\"radialaxis\":{\"gridcolor\":\"rgb(232,232,232)\",\"linecolor\":\"rgb(36,36,36)\",\"showgrid\":false,\"showline\":true,\"ticks\":\"outside\"}},\"scene\":{\"xaxis\":{\"backgroundcolor\":\"white\",\"gridcolor\":\"rgb(232,232,232)\",\"gridwidth\":2,\"linecolor\":\"rgb(36,36,36)\",\"showbackground\":true,\"showgrid\":false,\"showline\":true,\"ticks\":\"outside\",\"zeroline\":false,\"zerolinecolor\":\"rgb(36,36,36)\"},\"yaxis\":{\"backgroundcolor\":\"white\",\"gridcolor\":\"rgb(232,232,232)\",\"gridwidth\":2,\"linecolor\":\"rgb(36,36,36)\",\"showbackground\":true,\"showgrid\":false,\"showline\":true,\"ticks\":\"outside\",\"zeroline\":false,\"zerolinecolor\":\"rgb(36,36,36)\"},\"zaxis\":{\"backgroundcolor\":\"white\",\"gridcolor\":\"rgb(232,232,232)\",\"gridwidth\":2,\"linecolor\":\"rgb(36,36,36)\",\"showbackground\":true,\"showgrid\":false,\"showline\":true,\"ticks\":\"outside\",\"zeroline\":false,\"zerolinecolor\":\"rgb(36,36,36)\"}},\"shapedefaults\":{\"fillcolor\":\"black\",\"line\":{\"width\":0},\"opacity\":0.3},\"ternary\":{\"aaxis\":{\"gridcolor\":\"rgb(232,232,232)\",\"linecolor\":\"rgb(36,36,36)\",\"showgrid\":false,\"showline\":true,\"ticks\":\"outside\"},\"baxis\":{\"gridcolor\":\"rgb(232,232,232)\",\"linecolor\":\"rgb(36,36,36)\",\"showgrid\":false,\"showline\":true,\"ticks\":\"outside\"},\"bgcolor\":\"white\",\"caxis\":{\"gridcolor\":\"rgb(232,232,232)\",\"linecolor\":\"rgb(36,36,36)\",\"showgrid\":false,\"showline\":true,\"ticks\":\"outside\"}},\"title\":{\"x\":0.05},\"xaxis\":{\"automargin\":true,\"gridcolor\":\"rgb(232,232,232)\",\"linecolor\":\"rgb(36,36,36)\",\"showgrid\":false,\"showline\":true,\"ticks\":\"outside\",\"title\":{\"standoff\":15},\"zeroline\":false,\"zerolinecolor\":\"rgb(36,36,36)\"},\"yaxis\":{\"automargin\":true,\"gridcolor\":\"rgb(232,232,232)\",\"linecolor\":\"rgb(36,36,36)\",\"showgrid\":false,\"showline\":true,\"ticks\":\"outside\",\"title\":{\"standoff\":15},\"zeroline\":false,\"zerolinecolor\":\"rgb(36,36,36)\"}}},\"xaxis\":{\"anchor\":\"y\",\"domain\":[0.0,1.0],\"type\":\"date\"},\"yaxis\":{\"anchor\":\"x\",\"domain\":[0.0,1.0],\"title\":{\"text\":\"Resource\"}},\"legend\":{\"title\":{\"text\":\"Type\"},\"tracegroupgap\":0},\"margin\":{\"t\":60},\"barmode\":\"overlay\",\"height\":800,\"width\":2000},                        {\"responsive\": true}                    ).then(function(){\n",
       "                            \n",
       "var gd = document.getElementById('1cec5bce-2b97-466e-8b11-2abd4aadd62d');\n",
       "var x = new MutationObserver(function (mutations, observer) {{\n",
       "        var display = window.getComputedStyle(gd).display;\n",
       "        if (!display || display === 'none') {{\n",
       "            console.log([gd, 'removed!']);\n",
       "            Plotly.purge(gd);\n",
       "            observer.disconnect();\n",
       "        }}\n",
       "}});\n",
       "\n",
       "// Listen for the removal of the full notebook cells\n",
       "var notebookContainer = gd.closest('#notebook-container');\n",
       "if (notebookContainer) {{\n",
       "    x.observe(notebookContainer, {childList: true});\n",
       "}}\n",
       "\n",
       "// Listen for the clearing of the current output cell\n",
       "var outputEl = gd.closest('.output');\n",
       "if (outputEl) {{\n",
       "    x.observe(outputEl, {childList: true});\n",
       "}}\n",
       "\n",
       "                        })                };                });            </script>        </div>"
      ]
     },
     "metadata": {},
     "output_type": "display_data"
    },
    {
     "data": {
      "application/vnd.plotly.v1+json": {
       "config": {
        "plotlyServerURL": "https://plot.ly"
       },
       "data": [
        {
         "alignmentgroup": "True",
         "base": [
          "1970-01-12T21:00:00",
          "1970-01-12T05:00:00",
          "1970-01-03T18:00:00",
          "1970-01-04T09:00:00",
          "1970-01-07T17:00:00",
          "1970-01-07T12:00:00",
          "1970-01-06T14:00:00",
          "1970-01-12T14:00:00",
          "1970-01-06T04:00:00",
          "1970-01-02T19:00:00",
          "1970-01-04T23:00:00",
          "1970-01-05T17:00:00",
          "1970-01-01T09:00:00",
          "1970-01-01T20:00:00",
          "1970-01-10T18:00:00",
          "1970-01-11T12:00:00",
          "1970-01-10T04:00:00",
          "1970-01-09T08:00:00",
          "1970-01-08T06:00:00",
          "1970-01-09T22:00:00",
          "1970-01-08T15:00:00",
          "1970-01-12T14:00:00",
          "1970-01-02T19:00:00",
          "1970-01-06T04:00:00",
          "1970-01-06T14:00:00",
          "1970-01-07T17:00:00",
          "1970-01-08T06:00:00",
          "1970-01-04T23:00:00",
          "1970-01-03T18:00:00"
         ],
         "hovertemplate": "Resource=%{text}<br>Start=%{base}<br>Finish=%{x}<br>Type=%{y}<extra></extra>",
         "legendgroup": "M1",
         "marker": {
          "cmid": 1000,
          "color": "rgb(76,114,176)",
          "line": {
           "color": "yellow"
          },
          "pattern": {
           "shape": ""
          }
         },
         "name": "M1",
         "offsetgroup": "M1",
         "orientation": "h",
         "showlegend": true,
         "text": [
          "M1",
          "M1",
          "M1",
          "M1",
          "M1",
          "M1",
          "M1",
          "M1",
          "M1",
          "M1",
          "M1",
          "M1",
          "M1",
          "M1",
          "M1",
          "M1",
          "M1",
          "M1",
          "M1",
          "M1",
          "M1",
          "M1",
          "M1",
          "M1",
          "M1",
          "M1",
          "M1",
          "M1",
          "M1"
         ],
         "textposition": "auto",
         "type": "bar",
         "x": [
          3600000,
          32400000,
          54000000,
          50400000,
          46800000,
          18000000,
          79200000,
          25200000,
          36000000,
          82800000,
          64800000,
          39600000,
          39600000,
          82800000,
          64800000,
          61200000,
          50400000,
          50400000,
          32400000,
          21600000,
          61200000,
          7200000,
          10800000,
          10800000,
          10800000,
          14400000,
          10800000,
          7200000,
          10800000
         ],
         "xaxis": "x",
         "y": [
          "delay_machine",
          "delay_machine",
          "j1",
          "j1",
          "j11",
          "j12",
          "j12",
          "j16",
          "j18",
          "j19",
          "j5",
          "j5",
          "j6",
          "j6",
          "j7",
          "j7",
          "j7",
          "j7",
          "j7",
          "j7",
          "j7",
          "setup",
          "setup",
          "setup",
          "setup",
          "setup",
          "setup",
          "setup",
          "setup"
         ],
         "yaxis": "y"
        },
        {
         "alignmentgroup": "True",
         "base": [
          "1970-01-11T14:00:00",
          "1970-01-11T12:00:00",
          "1970-01-10T21:00:00",
          "1970-01-10T19:00:00",
          "1970-01-10T18:00:00",
          "1970-01-10T17:00:00",
          "1970-01-11T15:00:00",
          "1970-01-12T21:00:00",
          "1970-01-12T16:00:00",
          "1970-01-12T14:00:00",
          "1970-01-12T05:00:00",
          "1970-01-12T02:00:00",
          "1970-01-07T06:00:00",
          "1970-01-06T08:00:00",
          "1970-01-02T14:00:00",
          "1970-01-08T19:00:00",
          "1970-01-10T03:00:00",
          "1970-01-09T15:00:00",
          "1970-01-07T17:00:00",
          "1970-01-05T15:00:00",
          "1970-01-05T06:00:00",
          "1970-01-04T18:00:00",
          "1970-01-05T01:00:00",
          "1970-01-04T10:00:00",
          "1970-01-01T15:00:00",
          "1970-01-03T16:00:00",
          "1970-01-01T20:00:00",
          "1970-01-01T09:00:00",
          "1970-01-09T04:00:00",
          "1970-01-02T14:00:00",
          "1970-01-06T08:00:00",
          "1970-01-07T17:00:00",
          "1970-01-08T19:00:00",
          "1970-01-09T04:00:00",
          "1970-01-09T15:00:00",
          "1970-01-04T10:00:00",
          "1970-01-03T16:00:00"
         ],
         "hovertemplate": "Resource=%{text}<br>Start=%{base}<br>Finish=%{x}<br>Type=%{y}<extra></extra>",
         "legendgroup": "M5",
         "marker": {
          "cmid": 1000,
          "color": "rgb(221,132,82)",
          "line": {
           "color": "yellow"
          },
          "pattern": {
           "shape": ""
          }
         },
         "name": "M5",
         "offsetgroup": "M5",
         "orientation": "h",
         "showlegend": true,
         "text": [
          "M5",
          "M5",
          "M5",
          "M5",
          "M5",
          "M5",
          "M5",
          "M5",
          "M5",
          "M5",
          "M5",
          "M5",
          "M5",
          "M5",
          "M5",
          "M5",
          "M5",
          "M5",
          "M5",
          "M5",
          "M5",
          "M5",
          "M5",
          "M5",
          "M5",
          "M5",
          "M5",
          "M5",
          "M5",
          "M5",
          "M5",
          "M5",
          "M5",
          "M5",
          "M5",
          "M5",
          "M5"
         ],
         "textposition": "auto",
         "type": "bar",
         "x": [
          3600000,
          7200000,
          54000000,
          7200000,
          3600000,
          3600000,
          39600000,
          3600000,
          18000000,
          7200000,
          32400000,
          10800000,
          39600000,
          79200000,
          93600000,
          32400000,
          50400000,
          43200000,
          93600000,
          61200000,
          32400000,
          25200000,
          18000000,
          28800000,
          18000000,
          64800000,
          64800000,
          21600000,
          39600000,
          10800000,
          14400000,
          7200000,
          7200000,
          7200000,
          3600000,
          14400000,
          10800000
         ],
         "xaxis": "x",
         "y": [
          "delay_machine",
          "delay_machine",
          "delay_machine",
          "delay_machine",
          "delay_machine",
          "delay_machine",
          "delay_machine",
          "delay_machine",
          "delay_machine",
          "delay_machine",
          "delay_machine",
          "delay_machine",
          "j11",
          "j11",
          "j11",
          "j12",
          "j16",
          "j16",
          "j20",
          "j4",
          "j4",
          "j4",
          "j4",
          "j4",
          "j8",
          "j8",
          "j8",
          "j8",
          "j9",
          "setup",
          "setup",
          "setup",
          "setup",
          "setup",
          "setup",
          "setup",
          "setup"
         ],
         "yaxis": "y"
        },
        {
         "alignmentgroup": "True",
         "base": [
          "1970-01-11T14:00:00",
          "1970-01-11T12:00:00",
          "1970-01-10T21:00:00",
          "1970-01-10T19:00:00",
          "1970-01-10T18:00:00",
          "1970-01-10T17:00:00",
          "1970-01-10T12:00:00",
          "1970-01-11T15:00:00",
          "1970-01-12T21:00:00",
          "1970-01-12T16:00:00",
          "1970-01-12T14:00:00",
          "1970-01-12T05:00:00",
          "1970-01-12T02:00:00",
          "1970-01-01T09:00:00",
          "1970-01-02T01:00:00",
          "1970-01-01T14:00:00",
          "1970-01-09T15:00:00",
          "1970-01-07T20:00:00",
          "1970-01-08T09:00:00",
          "1970-01-08T22:00:00",
          "1970-01-02T08:00:00",
          "1970-01-04T12:00:00",
          "1970-01-04T22:00:00",
          "1970-01-05T11:00:00",
          "1970-01-03T11:00:00",
          "1970-01-10T03:00:00",
          "1970-01-06T04:00:00",
          "1970-01-06T17:00:00",
          "1970-01-07T11:00:00",
          "1970-01-07T03:00:00",
          "1970-01-03T11:00:00",
          "1970-01-02T08:00:00",
          "1970-01-09T15:00:00",
          "1970-01-06T04:00:00",
          "1970-01-10T03:00:00",
          "1970-01-07T20:00:00"
         ],
         "hovertemplate": "Resource=%{text}<br>Start=%{base}<br>Finish=%{x}<br>Type=%{y}<extra></extra>",
         "legendgroup": "M6",
         "marker": {
          "cmid": 1000,
          "color": "rgb(85,168,104)",
          "line": {
           "color": "yellow"
          },
          "pattern": {
           "shape": ""
          }
         },
         "name": "M6",
         "offsetgroup": "M6",
         "orientation": "h",
         "showlegend": true,
         "text": [
          "M6",
          "M6",
          "M6",
          "M6",
          "M6",
          "M6",
          "M6",
          "M6",
          "M6",
          "M6",
          "M6",
          "M6",
          "M6",
          "M6",
          "M6",
          "M6",
          "M6",
          "M6",
          "M6",
          "M6",
          "M6",
          "M6",
          "M6",
          "M6",
          "M6",
          "M6",
          "M6",
          "M6",
          "M6",
          "M6",
          "M6",
          "M6",
          "M6",
          "M6",
          "M6",
          "M6"
         ],
         "textposition": "auto",
         "type": "bar",
         "x": [
          3600000,
          7200000,
          54000000,
          7200000,
          3600000,
          3600000,
          18000000,
          39600000,
          3600000,
          18000000,
          7200000,
          32400000,
          10800000,
          18000000,
          25200000,
          39600000,
          43200000,
          46800000,
          46800000,
          61200000,
          97200000,
          36000000,
          46800000,
          61200000,
          90000000,
          32400000,
          46800000,
          36000000,
          32400000,
          28800000,
          10800000,
          14400000,
          10800000,
          14400000,
          7200000,
          3600000
         ],
         "xaxis": "x",
         "y": [
          "delay_machine",
          "delay_machine",
          "delay_machine",
          "delay_machine",
          "delay_machine",
          "delay_machine",
          "delay_machine",
          "delay_machine",
          "delay_machine",
          "delay_machine",
          "delay_machine",
          "delay_machine",
          "delay_machine",
          "j10",
          "j10",
          "j10",
          "j11",
          "j16",
          "j16",
          "j16",
          "j17",
          "j18",
          "j18",
          "j18",
          "j18",
          "j20",
          "j9",
          "j9",
          "j9",
          "j9",
          "setup",
          "setup",
          "setup",
          "setup",
          "setup",
          "setup"
         ],
         "yaxis": "y"
        },
        {
         "alignmentgroup": "True",
         "base": [
          "1970-01-11T12:00:00",
          "1970-01-10T21:00:00",
          "1970-01-10T19:00:00",
          "1970-01-10T18:00:00",
          "1970-01-11T14:00:00",
          "1970-01-12T14:00:00",
          "1970-01-12T21:00:00",
          "1970-01-12T16:00:00",
          "1970-01-11T15:00:00",
          "1970-01-12T05:00:00",
          "1970-01-12T02:00:00",
          "1970-01-05T11:00:00",
          "1970-01-06T11:00:00",
          "1970-01-04T04:00:00",
          "1970-01-04T16:00:00",
          "1970-01-07T19:00:00",
          "1970-01-10T00:00:00",
          "1970-01-07T05:00:00",
          "1970-01-08T12:00:00",
          "1970-01-09T17:00:00",
          "1970-01-09T08:00:00",
          "1970-01-02T13:00:00",
          "1970-01-01T09:00:00",
          "1970-01-02T06:00:00",
          "1970-01-03T15:00:00",
          "1970-01-01T21:00:00",
          "1970-01-02T13:00:00",
          "1970-01-03T15:00:00",
          "1970-01-07T05:00:00",
          "1970-01-04T04:00:00"
         ],
         "hovertemplate": "Resource=%{text}<br>Start=%{base}<br>Finish=%{x}<br>Type=%{y}<extra></extra>",
         "legendgroup": "M4",
         "marker": {
          "cmid": 1000,
          "color": "rgb(196,78,82)",
          "line": {
           "color": "yellow"
          },
          "pattern": {
           "shape": ""
          }
         },
         "name": "M4",
         "offsetgroup": "M4",
         "orientation": "h",
         "showlegend": true,
         "text": [
          "M4",
          "M4",
          "M4",
          "M4",
          "M4",
          "M4",
          "M4",
          "M4",
          "M4",
          "M4",
          "M4",
          "M4",
          "M4",
          "M4",
          "M4",
          "M4",
          "M4",
          "M4",
          "M4",
          "M4",
          "M4",
          "M4",
          "M4",
          "M4",
          "M4",
          "M4",
          "M4",
          "M4",
          "M4",
          "M4"
         ],
         "textposition": "auto",
         "type": "bar",
         "x": [
          7200000,
          54000000,
          7200000,
          3600000,
          3600000,
          7200000,
          3600000,
          18000000,
          39600000,
          32400000,
          10800000,
          86400000,
          64800000,
          43200000,
          68400000,
          61200000,
          64800000,
          50400000,
          72000000,
          25200000,
          32400000,
          93600000,
          43200000,
          25200000,
          46800000,
          32400000,
          3600000,
          10800000,
          3600000,
          10800000
         ],
         "xaxis": "x",
         "y": [
          "delay_machine",
          "delay_machine",
          "delay_machine",
          "delay_machine",
          "delay_machine",
          "delay_machine",
          "delay_machine",
          "delay_machine",
          "delay_machine",
          "delay_machine",
          "delay_machine",
          "j13",
          "j13",
          "j13",
          "j13",
          "j19",
          "j19",
          "j19",
          "j19",
          "j19",
          "j19",
          "j20",
          "j3",
          "j3",
          "j3",
          "j3",
          "setup",
          "setup",
          "setup",
          "setup"
         ],
         "yaxis": "y"
        },
        {
         "alignmentgroup": "True",
         "base": [
          "1970-01-10T12:00:00",
          "1970-01-10T07:00:00",
          "1970-01-12T16:00:00",
          "1970-01-12T14:00:00",
          "1970-01-12T21:00:00",
          "1970-01-01T09:00:00",
          "1970-01-02T03:00:00",
          "1970-01-08T06:00:00",
          "1970-01-07T17:00:00",
          "1970-01-09T23:00:00",
          "1970-01-04T17:00:00",
          "1970-01-03T15:00:00",
          "1970-01-02T11:00:00",
          "1970-01-11T15:00:00",
          "1970-01-10T17:00:00",
          "1970-01-06T00:00:00",
          "1970-01-05T03:00:00",
          "1970-01-07T01:00:00",
          "1970-01-08T19:00:00",
          "1970-01-09T11:00:00",
          "1970-01-02T11:00:00",
          "1970-01-05T03:00:00",
          "1970-01-07T01:00:00",
          "1970-01-07T17:00:00",
          "1970-01-03T15:00:00",
          "1970-01-08T19:00:00",
          "1970-01-09T23:00:00",
          "1970-01-10T17:00:00",
          "1970-01-08T06:00:00"
         ],
         "hovertemplate": "Resource=%{text}<br>Start=%{base}<br>Finish=%{x}<br>Type=%{y}<extra></extra>",
         "legendgroup": "M3",
         "marker": {
          "cmid": 1000,
          "color": "rgb(129,114,179)",
          "line": {
           "color": "yellow"
          },
          "pattern": {
           "shape": ""
          }
         },
         "name": "M3",
         "offsetgroup": "M3",
         "orientation": "h",
         "showlegend": true,
         "text": [
          "M3",
          "M3",
          "M3",
          "M3",
          "M3",
          "M3",
          "M3",
          "M3",
          "M3",
          "M3",
          "M3",
          "M3",
          "M3",
          "M3",
          "M3",
          "M3",
          "M3",
          "M3",
          "M3",
          "M3",
          "M3",
          "M3",
          "M3",
          "M3",
          "M3",
          "M3",
          "M3",
          "M3",
          "M3"
         ],
         "textposition": "auto",
         "type": "bar",
         "x": [
          18000000,
          18000000,
          18000000,
          7200000,
          3600000,
          64800000,
          28800000,
          46800000,
          46800000,
          28800000,
          36000000,
          93600000,
          100800000,
          82800000,
          79200000,
          90000000,
          75600000,
          57600000,
          57600000,
          43200000,
          10800000,
          10800000,
          10800000,
          7200000,
          10800000,
          7200000,
          7200000,
          14400000,
          14400000
         ],
         "xaxis": "x",
         "y": [
          "delay_machine",
          "delay_machine",
          "delay_machine",
          "delay_machine",
          "delay_machine",
          "j1",
          "j1",
          "j11",
          "j12",
          "j12",
          "j14",
          "j14",
          "j15",
          "j16",
          "j16",
          "j17",
          "j17",
          "j20",
          "j20",
          "j20",
          "setup",
          "setup",
          "setup",
          "setup",
          "setup",
          "setup",
          "setup",
          "setup",
          "setup"
         ],
         "yaxis": "y"
        },
        {
         "alignmentgroup": "True",
         "base": [
          "1970-01-02T10:00:00",
          "1970-01-05T20:00:00",
          "1970-01-05T03:00:00",
          "1970-01-01T09:00:00",
          "1970-01-02T02:00:00",
          "1970-01-04T01:00:00",
          "1970-01-10T01:00:00",
          "1970-01-07T16:00:00",
          "1970-01-10T19:00:00",
          "1970-01-09T02:00:00",
          "1970-01-12T02:00:00",
          "1970-01-08T10:00:00",
          "1970-01-11T14:00:00",
          "1970-01-07T11:00:00",
          "1970-01-06T04:00:00",
          "1970-01-07T00:00:00",
          "1970-01-03T02:00:00",
          "1970-01-03T02:00:00",
          "1970-01-02T10:00:00",
          "1970-01-05T03:00:00",
          "1970-01-06T04:00:00",
          "1970-01-07T16:00:00",
          "1970-01-04T01:00:00"
         ],
         "hovertemplate": "Resource=%{text}<br>Start=%{base}<br>Finish=%{x}<br>Type=%{y}<extra></extra>",
         "legendgroup": "M2",
         "marker": {
          "cmid": 1000,
          "color": "rgb(147,120,96)",
          "line": {
           "color": "yellow"
          },
          "pattern": {
           "shape": ""
          }
         },
         "name": "M2",
         "offsetgroup": "M2",
         "orientation": "h",
         "showlegend": true,
         "text": [
          "M2",
          "M2",
          "M2",
          "M2",
          "M2",
          "M2",
          "M2",
          "M2",
          "M2",
          "M2",
          "M2",
          "M2",
          "M2",
          "M2",
          "M2",
          "M2",
          "M2",
          "M2",
          "M2",
          "M2",
          "M2",
          "M2",
          "M2"
         ],
         "textposition": "auto",
         "type": "bar",
         "x": [
          57600000,
          28800000,
          61200000,
          61200000,
          28800000,
          93600000,
          64800000,
          64800000,
          68400000,
          82800000,
          72000000,
          57600000,
          43200000,
          18000000,
          72000000,
          39600000,
          82800000,
          10800000,
          7200000,
          10800000,
          10800000,
          10800000,
          3600000
         ],
         "xaxis": "x",
         "y": [
          "j10",
          "j14",
          "j14",
          "j15",
          "j15",
          "j17",
          "j2",
          "j2",
          "j2",
          "j2",
          "j2",
          "j2",
          "j2",
          "j5",
          "j5",
          "j5",
          "j6",
          "setup",
          "setup",
          "setup",
          "setup",
          "setup",
          "setup"
         ],
         "yaxis": "y"
        }
       ],
       "layout": {
        "barmode": "overlay",
        "height": 1000,
        "legend": {
         "title": {
          "text": "Resource"
         },
         "tracegroupgap": 0
        },
        "margin": {
         "t": 60
        },
        "template": {
         "data": {
          "bar": [
           {
            "error_x": {
             "color": "rgb(36,36,36)"
            },
            "error_y": {
             "color": "rgb(36,36,36)"
            },
            "marker": {
             "line": {
              "color": "rgb(234,234,242)",
              "width": 0.5
             },
             "pattern": {
              "fillmode": "overlay",
              "size": 10,
              "solidity": 0.2
             }
            },
            "type": "bar"
           }
          ],
          "barpolar": [
           {
            "marker": {
             "line": {
              "color": "rgb(234,234,242)",
              "width": 0.5
             },
             "pattern": {
              "fillmode": "overlay",
              "size": 10,
              "solidity": 0.2
             }
            },
            "type": "barpolar"
           }
          ],
          "carpet": [
           {
            "aaxis": {
             "endlinecolor": "rgb(36,36,36)",
             "gridcolor": "white",
             "linecolor": "white",
             "minorgridcolor": "white",
             "startlinecolor": "rgb(36,36,36)"
            },
            "baxis": {
             "endlinecolor": "rgb(36,36,36)",
             "gridcolor": "white",
             "linecolor": "white",
             "minorgridcolor": "white",
             "startlinecolor": "rgb(36,36,36)"
            },
            "type": "carpet"
           }
          ],
          "choropleth": [
           {
            "colorbar": {
             "outlinewidth": 0,
             "tickcolor": "rgb(36,36,36)",
             "ticklen": 8,
             "ticks": "outside",
             "tickwidth": 2
            },
            "type": "choropleth"
           }
          ],
          "contour": [
           {
            "colorbar": {
             "outlinewidth": 0,
             "tickcolor": "rgb(36,36,36)",
             "ticklen": 8,
             "ticks": "outside",
             "tickwidth": 2
            },
            "colorscale": [
             [
              0,
              "rgb(2,4,25)"
             ],
             [
              0.06274509803921569,
              "rgb(24,15,41)"
             ],
             [
              0.12549019607843137,
              "rgb(47,23,57)"
             ],
             [
              0.18823529411764706,
              "rgb(71,28,72)"
             ],
             [
              0.25098039215686274,
              "rgb(97,30,82)"
             ],
             [
              0.3137254901960784,
              "rgb(123,30,89)"
             ],
             [
              0.3764705882352941,
              "rgb(150,27,91)"
             ],
             [
              0.4392156862745098,
              "rgb(177,22,88)"
             ],
             [
              0.5019607843137255,
              "rgb(203,26,79)"
             ],
             [
              0.5647058823529412,
              "rgb(223,47,67)"
             ],
             [
              0.6274509803921569,
              "rgb(236,76,61)"
             ],
             [
              0.6901960784313725,
              "rgb(242,107,73)"
             ],
             [
              0.7529411764705882,
              "rgb(244,135,95)"
             ],
             [
              0.8156862745098039,
              "rgb(245,162,122)"
             ],
             [
              0.8784313725490196,
              "rgb(246,188,153)"
             ],
             [
              0.9411764705882353,
              "rgb(247,212,187)"
             ],
             [
              1,
              "rgb(250,234,220)"
             ]
            ],
            "type": "contour"
           }
          ],
          "contourcarpet": [
           {
            "colorbar": {
             "outlinewidth": 0,
             "tickcolor": "rgb(36,36,36)",
             "ticklen": 8,
             "ticks": "outside",
             "tickwidth": 2
            },
            "type": "contourcarpet"
           }
          ],
          "heatmap": [
           {
            "colorbar": {
             "outlinewidth": 0,
             "tickcolor": "rgb(36,36,36)",
             "ticklen": 8,
             "ticks": "outside",
             "tickwidth": 2
            },
            "colorscale": [
             [
              0,
              "rgb(2,4,25)"
             ],
             [
              0.06274509803921569,
              "rgb(24,15,41)"
             ],
             [
              0.12549019607843137,
              "rgb(47,23,57)"
             ],
             [
              0.18823529411764706,
              "rgb(71,28,72)"
             ],
             [
              0.25098039215686274,
              "rgb(97,30,82)"
             ],
             [
              0.3137254901960784,
              "rgb(123,30,89)"
             ],
             [
              0.3764705882352941,
              "rgb(150,27,91)"
             ],
             [
              0.4392156862745098,
              "rgb(177,22,88)"
             ],
             [
              0.5019607843137255,
              "rgb(203,26,79)"
             ],
             [
              0.5647058823529412,
              "rgb(223,47,67)"
             ],
             [
              0.6274509803921569,
              "rgb(236,76,61)"
             ],
             [
              0.6901960784313725,
              "rgb(242,107,73)"
             ],
             [
              0.7529411764705882,
              "rgb(244,135,95)"
             ],
             [
              0.8156862745098039,
              "rgb(245,162,122)"
             ],
             [
              0.8784313725490196,
              "rgb(246,188,153)"
             ],
             [
              0.9411764705882353,
              "rgb(247,212,187)"
             ],
             [
              1,
              "rgb(250,234,220)"
             ]
            ],
            "type": "heatmap"
           }
          ],
          "heatmapgl": [
           {
            "colorbar": {
             "outlinewidth": 0,
             "tickcolor": "rgb(36,36,36)",
             "ticklen": 8,
             "ticks": "outside",
             "tickwidth": 2
            },
            "colorscale": [
             [
              0,
              "rgb(2,4,25)"
             ],
             [
              0.06274509803921569,
              "rgb(24,15,41)"
             ],
             [
              0.12549019607843137,
              "rgb(47,23,57)"
             ],
             [
              0.18823529411764706,
              "rgb(71,28,72)"
             ],
             [
              0.25098039215686274,
              "rgb(97,30,82)"
             ],
             [
              0.3137254901960784,
              "rgb(123,30,89)"
             ],
             [
              0.3764705882352941,
              "rgb(150,27,91)"
             ],
             [
              0.4392156862745098,
              "rgb(177,22,88)"
             ],
             [
              0.5019607843137255,
              "rgb(203,26,79)"
             ],
             [
              0.5647058823529412,
              "rgb(223,47,67)"
             ],
             [
              0.6274509803921569,
              "rgb(236,76,61)"
             ],
             [
              0.6901960784313725,
              "rgb(242,107,73)"
             ],
             [
              0.7529411764705882,
              "rgb(244,135,95)"
             ],
             [
              0.8156862745098039,
              "rgb(245,162,122)"
             ],
             [
              0.8784313725490196,
              "rgb(246,188,153)"
             ],
             [
              0.9411764705882353,
              "rgb(247,212,187)"
             ],
             [
              1,
              "rgb(250,234,220)"
             ]
            ],
            "type": "heatmapgl"
           }
          ],
          "histogram": [
           {
            "marker": {
             "pattern": {
              "fillmode": "overlay",
              "size": 10,
              "solidity": 0.2
             }
            },
            "type": "histogram"
           }
          ],
          "histogram2d": [
           {
            "colorbar": {
             "outlinewidth": 0,
             "tickcolor": "rgb(36,36,36)",
             "ticklen": 8,
             "ticks": "outside",
             "tickwidth": 2
            },
            "colorscale": [
             [
              0,
              "rgb(2,4,25)"
             ],
             [
              0.06274509803921569,
              "rgb(24,15,41)"
             ],
             [
              0.12549019607843137,
              "rgb(47,23,57)"
             ],
             [
              0.18823529411764706,
              "rgb(71,28,72)"
             ],
             [
              0.25098039215686274,
              "rgb(97,30,82)"
             ],
             [
              0.3137254901960784,
              "rgb(123,30,89)"
             ],
             [
              0.3764705882352941,
              "rgb(150,27,91)"
             ],
             [
              0.4392156862745098,
              "rgb(177,22,88)"
             ],
             [
              0.5019607843137255,
              "rgb(203,26,79)"
             ],
             [
              0.5647058823529412,
              "rgb(223,47,67)"
             ],
             [
              0.6274509803921569,
              "rgb(236,76,61)"
             ],
             [
              0.6901960784313725,
              "rgb(242,107,73)"
             ],
             [
              0.7529411764705882,
              "rgb(244,135,95)"
             ],
             [
              0.8156862745098039,
              "rgb(245,162,122)"
             ],
             [
              0.8784313725490196,
              "rgb(246,188,153)"
             ],
             [
              0.9411764705882353,
              "rgb(247,212,187)"
             ],
             [
              1,
              "rgb(250,234,220)"
             ]
            ],
            "type": "histogram2d"
           }
          ],
          "histogram2dcontour": [
           {
            "colorbar": {
             "outlinewidth": 0,
             "tickcolor": "rgb(36,36,36)",
             "ticklen": 8,
             "ticks": "outside",
             "tickwidth": 2
            },
            "colorscale": [
             [
              0,
              "rgb(2,4,25)"
             ],
             [
              0.06274509803921569,
              "rgb(24,15,41)"
             ],
             [
              0.12549019607843137,
              "rgb(47,23,57)"
             ],
             [
              0.18823529411764706,
              "rgb(71,28,72)"
             ],
             [
              0.25098039215686274,
              "rgb(97,30,82)"
             ],
             [
              0.3137254901960784,
              "rgb(123,30,89)"
             ],
             [
              0.3764705882352941,
              "rgb(150,27,91)"
             ],
             [
              0.4392156862745098,
              "rgb(177,22,88)"
             ],
             [
              0.5019607843137255,
              "rgb(203,26,79)"
             ],
             [
              0.5647058823529412,
              "rgb(223,47,67)"
             ],
             [
              0.6274509803921569,
              "rgb(236,76,61)"
             ],
             [
              0.6901960784313725,
              "rgb(242,107,73)"
             ],
             [
              0.7529411764705882,
              "rgb(244,135,95)"
             ],
             [
              0.8156862745098039,
              "rgb(245,162,122)"
             ],
             [
              0.8784313725490196,
              "rgb(246,188,153)"
             ],
             [
              0.9411764705882353,
              "rgb(247,212,187)"
             ],
             [
              1,
              "rgb(250,234,220)"
             ]
            ],
            "type": "histogram2dcontour"
           }
          ],
          "mesh3d": [
           {
            "colorbar": {
             "outlinewidth": 0,
             "tickcolor": "rgb(36,36,36)",
             "ticklen": 8,
             "ticks": "outside",
             "tickwidth": 2
            },
            "type": "mesh3d"
           }
          ],
          "parcoords": [
           {
            "line": {
             "colorbar": {
              "outlinewidth": 0,
              "tickcolor": "rgb(36,36,36)",
              "ticklen": 8,
              "ticks": "outside",
              "tickwidth": 2
             }
            },
            "type": "parcoords"
           }
          ],
          "pie": [
           {
            "automargin": true,
            "type": "pie"
           }
          ],
          "scatter": [
           {
            "fillpattern": {
             "fillmode": "overlay",
             "size": 10,
             "solidity": 0.2
            },
            "type": "scatter"
           }
          ],
          "scatter3d": [
           {
            "line": {
             "colorbar": {
              "outlinewidth": 0,
              "tickcolor": "rgb(36,36,36)",
              "ticklen": 8,
              "ticks": "outside",
              "tickwidth": 2
             }
            },
            "marker": {
             "colorbar": {
              "outlinewidth": 0,
              "tickcolor": "rgb(36,36,36)",
              "ticklen": 8,
              "ticks": "outside",
              "tickwidth": 2
             }
            },
            "type": "scatter3d"
           }
          ],
          "scattercarpet": [
           {
            "marker": {
             "colorbar": {
              "outlinewidth": 0,
              "tickcolor": "rgb(36,36,36)",
              "ticklen": 8,
              "ticks": "outside",
              "tickwidth": 2
             }
            },
            "type": "scattercarpet"
           }
          ],
          "scattergeo": [
           {
            "marker": {
             "colorbar": {
              "outlinewidth": 0,
              "tickcolor": "rgb(36,36,36)",
              "ticklen": 8,
              "ticks": "outside",
              "tickwidth": 2
             }
            },
            "type": "scattergeo"
           }
          ],
          "scattergl": [
           {
            "marker": {
             "colorbar": {
              "outlinewidth": 0,
              "tickcolor": "rgb(36,36,36)",
              "ticklen": 8,
              "ticks": "outside",
              "tickwidth": 2
             }
            },
            "type": "scattergl"
           }
          ],
          "scattermapbox": [
           {
            "marker": {
             "colorbar": {
              "outlinewidth": 0,
              "tickcolor": "rgb(36,36,36)",
              "ticklen": 8,
              "ticks": "outside",
              "tickwidth": 2
             }
            },
            "type": "scattermapbox"
           }
          ],
          "scatterpolar": [
           {
            "marker": {
             "colorbar": {
              "outlinewidth": 0,
              "tickcolor": "rgb(36,36,36)",
              "ticklen": 8,
              "ticks": "outside",
              "tickwidth": 2
             }
            },
            "type": "scatterpolar"
           }
          ],
          "scatterpolargl": [
           {
            "marker": {
             "colorbar": {
              "outlinewidth": 0,
              "tickcolor": "rgb(36,36,36)",
              "ticklen": 8,
              "ticks": "outside",
              "tickwidth": 2
             }
            },
            "type": "scatterpolargl"
           }
          ],
          "scatterternary": [
           {
            "marker": {
             "colorbar": {
              "outlinewidth": 0,
              "tickcolor": "rgb(36,36,36)",
              "ticklen": 8,
              "ticks": "outside",
              "tickwidth": 2
             }
            },
            "type": "scatterternary"
           }
          ],
          "surface": [
           {
            "colorbar": {
             "outlinewidth": 0,
             "tickcolor": "rgb(36,36,36)",
             "ticklen": 8,
             "ticks": "outside",
             "tickwidth": 2
            },
            "colorscale": [
             [
              0,
              "rgb(2,4,25)"
             ],
             [
              0.06274509803921569,
              "rgb(24,15,41)"
             ],
             [
              0.12549019607843137,
              "rgb(47,23,57)"
             ],
             [
              0.18823529411764706,
              "rgb(71,28,72)"
             ],
             [
              0.25098039215686274,
              "rgb(97,30,82)"
             ],
             [
              0.3137254901960784,
              "rgb(123,30,89)"
             ],
             [
              0.3764705882352941,
              "rgb(150,27,91)"
             ],
             [
              0.4392156862745098,
              "rgb(177,22,88)"
             ],
             [
              0.5019607843137255,
              "rgb(203,26,79)"
             ],
             [
              0.5647058823529412,
              "rgb(223,47,67)"
             ],
             [
              0.6274509803921569,
              "rgb(236,76,61)"
             ],
             [
              0.6901960784313725,
              "rgb(242,107,73)"
             ],
             [
              0.7529411764705882,
              "rgb(244,135,95)"
             ],
             [
              0.8156862745098039,
              "rgb(245,162,122)"
             ],
             [
              0.8784313725490196,
              "rgb(246,188,153)"
             ],
             [
              0.9411764705882353,
              "rgb(247,212,187)"
             ],
             [
              1,
              "rgb(250,234,220)"
             ]
            ],
            "type": "surface"
           }
          ],
          "table": [
           {
            "cells": {
             "fill": {
              "color": "rgb(231,231,240)"
             },
             "line": {
              "color": "white"
             }
            },
            "header": {
             "fill": {
              "color": "rgb(183,183,191)"
             },
             "line": {
              "color": "white"
             }
            },
            "type": "table"
           }
          ]
         },
         "layout": {
          "annotationdefaults": {
           "arrowcolor": "rgb(67,103,167)"
          },
          "autotypenumbers": "strict",
          "coloraxis": {
           "colorbar": {
            "outlinewidth": 0,
            "tickcolor": "rgb(36,36,36)",
            "ticklen": 8,
            "ticks": "outside",
            "tickwidth": 2
           }
          },
          "colorscale": {
           "sequential": [
            [
             0,
             "rgb(2,4,25)"
            ],
            [
             0.06274509803921569,
             "rgb(24,15,41)"
            ],
            [
             0.12549019607843137,
             "rgb(47,23,57)"
            ],
            [
             0.18823529411764706,
             "rgb(71,28,72)"
            ],
            [
             0.25098039215686274,
             "rgb(97,30,82)"
            ],
            [
             0.3137254901960784,
             "rgb(123,30,89)"
            ],
            [
             0.3764705882352941,
             "rgb(150,27,91)"
            ],
            [
             0.4392156862745098,
             "rgb(177,22,88)"
            ],
            [
             0.5019607843137255,
             "rgb(203,26,79)"
            ],
            [
             0.5647058823529412,
             "rgb(223,47,67)"
            ],
            [
             0.6274509803921569,
             "rgb(236,76,61)"
            ],
            [
             0.6901960784313725,
             "rgb(242,107,73)"
            ],
            [
             0.7529411764705882,
             "rgb(244,135,95)"
            ],
            [
             0.8156862745098039,
             "rgb(245,162,122)"
            ],
            [
             0.8784313725490196,
             "rgb(246,188,153)"
            ],
            [
             0.9411764705882353,
             "rgb(247,212,187)"
            ],
            [
             1,
             "rgb(250,234,220)"
            ]
           ],
           "sequentialminus": [
            [
             0,
             "rgb(2,4,25)"
            ],
            [
             0.06274509803921569,
             "rgb(24,15,41)"
            ],
            [
             0.12549019607843137,
             "rgb(47,23,57)"
            ],
            [
             0.18823529411764706,
             "rgb(71,28,72)"
            ],
            [
             0.25098039215686274,
             "rgb(97,30,82)"
            ],
            [
             0.3137254901960784,
             "rgb(123,30,89)"
            ],
            [
             0.3764705882352941,
             "rgb(150,27,91)"
            ],
            [
             0.4392156862745098,
             "rgb(177,22,88)"
            ],
            [
             0.5019607843137255,
             "rgb(203,26,79)"
            ],
            [
             0.5647058823529412,
             "rgb(223,47,67)"
            ],
            [
             0.6274509803921569,
             "rgb(236,76,61)"
            ],
            [
             0.6901960784313725,
             "rgb(242,107,73)"
            ],
            [
             0.7529411764705882,
             "rgb(244,135,95)"
            ],
            [
             0.8156862745098039,
             "rgb(245,162,122)"
            ],
            [
             0.8784313725490196,
             "rgb(246,188,153)"
            ],
            [
             0.9411764705882353,
             "rgb(247,212,187)"
            ],
            [
             1,
             "rgb(250,234,220)"
            ]
           ]
          },
          "colorway": [
           "rgb(76,114,176)",
           "rgb(221,132,82)",
           "rgb(85,168,104)",
           "rgb(196,78,82)",
           "rgb(129,114,179)",
           "rgb(147,120,96)",
           "rgb(218,139,195)",
           "rgb(140,140,140)",
           "rgb(204,185,116)",
           "rgb(100,181,205)"
          ],
          "font": {
           "color": "rgb(36,36,36)"
          },
          "geo": {
           "bgcolor": "white",
           "lakecolor": "white",
           "landcolor": "rgb(234,234,242)",
           "showlakes": true,
           "showland": true,
           "subunitcolor": "white"
          },
          "hoverlabel": {
           "align": "left"
          },
          "hovermode": "closest",
          "paper_bgcolor": "white",
          "plot_bgcolor": "rgb(234,234,242)",
          "polar": {
           "angularaxis": {
            "gridcolor": "white",
            "linecolor": "white",
            "showgrid": true,
            "ticks": ""
           },
           "bgcolor": "rgb(234,234,242)",
           "radialaxis": {
            "gridcolor": "white",
            "linecolor": "white",
            "showgrid": true,
            "ticks": ""
           }
          },
          "scene": {
           "xaxis": {
            "backgroundcolor": "rgb(234,234,242)",
            "gridcolor": "white",
            "gridwidth": 2,
            "linecolor": "white",
            "showbackground": true,
            "showgrid": true,
            "ticks": "",
            "zerolinecolor": "white"
           },
           "yaxis": {
            "backgroundcolor": "rgb(234,234,242)",
            "gridcolor": "white",
            "gridwidth": 2,
            "linecolor": "white",
            "showbackground": true,
            "showgrid": true,
            "ticks": "",
            "zerolinecolor": "white"
           },
           "zaxis": {
            "backgroundcolor": "rgb(234,234,242)",
            "gridcolor": "white",
            "gridwidth": 2,
            "linecolor": "white",
            "showbackground": true,
            "showgrid": true,
            "ticks": "",
            "zerolinecolor": "white"
           }
          },
          "shapedefaults": {
           "fillcolor": "rgb(67,103,167)",
           "line": {
            "width": 0
           },
           "opacity": 0.5
          },
          "ternary": {
           "aaxis": {
            "gridcolor": "white",
            "linecolor": "white",
            "showgrid": true,
            "ticks": ""
           },
           "baxis": {
            "gridcolor": "white",
            "linecolor": "white",
            "showgrid": true,
            "ticks": ""
           },
           "bgcolor": "rgb(234,234,242)",
           "caxis": {
            "gridcolor": "white",
            "linecolor": "white",
            "showgrid": true,
            "ticks": ""
           }
          },
          "xaxis": {
           "automargin": true,
           "gridcolor": "white",
           "linecolor": "white",
           "showgrid": true,
           "ticks": "",
           "title": {
            "standoff": 15
           },
           "zerolinecolor": "white"
          },
          "yaxis": {
           "automargin": true,
           "gridcolor": "white",
           "linecolor": "white",
           "showgrid": true,
           "ticks": "",
           "title": {
            "standoff": 15
           },
           "zerolinecolor": "white"
          }
         }
        },
        "width": 2000,
        "xaxis": {
         "anchor": "y",
         "domain": [
          0,
          1
         ],
         "type": "date"
        },
        "yaxis": {
         "anchor": "x",
         "domain": [
          0,
          1
         ],
         "title": {
          "text": "Type"
         }
        }
       }
      },
      "text/html": [
       "<div>                            <div id=\"8b81ad9d-185a-465e-9561-12f3865221ef\" class=\"plotly-graph-div\" style=\"height:1000px; width:2000px;\"></div>            <script type=\"text/javascript\">                require([\"plotly\"], function(Plotly) {                    window.PLOTLYENV=window.PLOTLYENV || {};                                    if (document.getElementById(\"8b81ad9d-185a-465e-9561-12f3865221ef\")) {                    Plotly.newPlot(                        \"8b81ad9d-185a-465e-9561-12f3865221ef\",                        [{\"alignmentgroup\":\"True\",\"base\":[\"1970-01-12T21:00:00\",\"1970-01-12T05:00:00\",\"1970-01-03T18:00:00\",\"1970-01-04T09:00:00\",\"1970-01-07T17:00:00\",\"1970-01-07T12:00:00\",\"1970-01-06T14:00:00\",\"1970-01-12T14:00:00\",\"1970-01-06T04:00:00\",\"1970-01-02T19:00:00\",\"1970-01-04T23:00:00\",\"1970-01-05T17:00:00\",\"1970-01-01T09:00:00\",\"1970-01-01T20:00:00\",\"1970-01-10T18:00:00\",\"1970-01-11T12:00:00\",\"1970-01-10T04:00:00\",\"1970-01-09T08:00:00\",\"1970-01-08T06:00:00\",\"1970-01-09T22:00:00\",\"1970-01-08T15:00:00\",\"1970-01-12T14:00:00\",\"1970-01-02T19:00:00\",\"1970-01-06T04:00:00\",\"1970-01-06T14:00:00\",\"1970-01-07T17:00:00\",\"1970-01-08T06:00:00\",\"1970-01-04T23:00:00\",\"1970-01-03T18:00:00\"],\"hovertemplate\":\"Resource=%{text}<br>Start=%{base}<br>Finish=%{x}<br>Type=%{y}<extra></extra>\",\"legendgroup\":\"M1\",\"marker\":{\"color\":\"rgb(76,114,176)\",\"pattern\":{\"shape\":\"\"},\"line\":{\"color\":\"yellow\"},\"cmid\":1000},\"name\":\"M1\",\"offsetgroup\":\"M1\",\"orientation\":\"h\",\"showlegend\":true,\"text\":[\"M1\",\"M1\",\"M1\",\"M1\",\"M1\",\"M1\",\"M1\",\"M1\",\"M1\",\"M1\",\"M1\",\"M1\",\"M1\",\"M1\",\"M1\",\"M1\",\"M1\",\"M1\",\"M1\",\"M1\",\"M1\",\"M1\",\"M1\",\"M1\",\"M1\",\"M1\",\"M1\",\"M1\",\"M1\"],\"textposition\":\"auto\",\"x\":[3600000.0,32400000.0,54000000.0,50400000.0,46800000.0,18000000.0,79200000.0,25200000.0,36000000.0,82800000.0,64800000.0,39600000.0,39600000.0,82800000.0,64800000.0,61200000.0,50400000.0,50400000.0,32400000.0,21600000.0,61200000.0,7200000.0,10800000.0,10800000.0,10800000.0,14400000.0,10800000.0,7200000.0,10800000.0],\"xaxis\":\"x\",\"y\":[\"delay_machine\",\"delay_machine\",\"j1\",\"j1\",\"j11\",\"j12\",\"j12\",\"j16\",\"j18\",\"j19\",\"j5\",\"j5\",\"j6\",\"j6\",\"j7\",\"j7\",\"j7\",\"j7\",\"j7\",\"j7\",\"j7\",\"setup\",\"setup\",\"setup\",\"setup\",\"setup\",\"setup\",\"setup\",\"setup\"],\"yaxis\":\"y\",\"type\":\"bar\"},{\"alignmentgroup\":\"True\",\"base\":[\"1970-01-11T14:00:00\",\"1970-01-11T12:00:00\",\"1970-01-10T21:00:00\",\"1970-01-10T19:00:00\",\"1970-01-10T18:00:00\",\"1970-01-10T17:00:00\",\"1970-01-11T15:00:00\",\"1970-01-12T21:00:00\",\"1970-01-12T16:00:00\",\"1970-01-12T14:00:00\",\"1970-01-12T05:00:00\",\"1970-01-12T02:00:00\",\"1970-01-07T06:00:00\",\"1970-01-06T08:00:00\",\"1970-01-02T14:00:00\",\"1970-01-08T19:00:00\",\"1970-01-10T03:00:00\",\"1970-01-09T15:00:00\",\"1970-01-07T17:00:00\",\"1970-01-05T15:00:00\",\"1970-01-05T06:00:00\",\"1970-01-04T18:00:00\",\"1970-01-05T01:00:00\",\"1970-01-04T10:00:00\",\"1970-01-01T15:00:00\",\"1970-01-03T16:00:00\",\"1970-01-01T20:00:00\",\"1970-01-01T09:00:00\",\"1970-01-09T04:00:00\",\"1970-01-02T14:00:00\",\"1970-01-06T08:00:00\",\"1970-01-07T17:00:00\",\"1970-01-08T19:00:00\",\"1970-01-09T04:00:00\",\"1970-01-09T15:00:00\",\"1970-01-04T10:00:00\",\"1970-01-03T16:00:00\"],\"hovertemplate\":\"Resource=%{text}<br>Start=%{base}<br>Finish=%{x}<br>Type=%{y}<extra></extra>\",\"legendgroup\":\"M5\",\"marker\":{\"color\":\"rgb(221,132,82)\",\"pattern\":{\"shape\":\"\"},\"line\":{\"color\":\"yellow\"},\"cmid\":1000},\"name\":\"M5\",\"offsetgroup\":\"M5\",\"orientation\":\"h\",\"showlegend\":true,\"text\":[\"M5\",\"M5\",\"M5\",\"M5\",\"M5\",\"M5\",\"M5\",\"M5\",\"M5\",\"M5\",\"M5\",\"M5\",\"M5\",\"M5\",\"M5\",\"M5\",\"M5\",\"M5\",\"M5\",\"M5\",\"M5\",\"M5\",\"M5\",\"M5\",\"M5\",\"M5\",\"M5\",\"M5\",\"M5\",\"M5\",\"M5\",\"M5\",\"M5\",\"M5\",\"M5\",\"M5\",\"M5\"],\"textposition\":\"auto\",\"x\":[3600000.0,7200000.0,54000000.0,7200000.0,3600000.0,3600000.0,39600000.0,3600000.0,18000000.0,7200000.0,32400000.0,10800000.0,39600000.0,79200000.0,93600000.0,32400000.0,50400000.0,43200000.0,93600000.0,61200000.0,32400000.0,25200000.0,18000000.0,28800000.0,18000000.0,64800000.0,64800000.0,21600000.0,39600000.0,10800000.0,14400000.0,7200000.0,7200000.0,7200000.0,3600000.0,14400000.0,10800000.0],\"xaxis\":\"x\",\"y\":[\"delay_machine\",\"delay_machine\",\"delay_machine\",\"delay_machine\",\"delay_machine\",\"delay_machine\",\"delay_machine\",\"delay_machine\",\"delay_machine\",\"delay_machine\",\"delay_machine\",\"delay_machine\",\"j11\",\"j11\",\"j11\",\"j12\",\"j16\",\"j16\",\"j20\",\"j4\",\"j4\",\"j4\",\"j4\",\"j4\",\"j8\",\"j8\",\"j8\",\"j8\",\"j9\",\"setup\",\"setup\",\"setup\",\"setup\",\"setup\",\"setup\",\"setup\",\"setup\"],\"yaxis\":\"y\",\"type\":\"bar\"},{\"alignmentgroup\":\"True\",\"base\":[\"1970-01-11T14:00:00\",\"1970-01-11T12:00:00\",\"1970-01-10T21:00:00\",\"1970-01-10T19:00:00\",\"1970-01-10T18:00:00\",\"1970-01-10T17:00:00\",\"1970-01-10T12:00:00\",\"1970-01-11T15:00:00\",\"1970-01-12T21:00:00\",\"1970-01-12T16:00:00\",\"1970-01-12T14:00:00\",\"1970-01-12T05:00:00\",\"1970-01-12T02:00:00\",\"1970-01-01T09:00:00\",\"1970-01-02T01:00:00\",\"1970-01-01T14:00:00\",\"1970-01-09T15:00:00\",\"1970-01-07T20:00:00\",\"1970-01-08T09:00:00\",\"1970-01-08T22:00:00\",\"1970-01-02T08:00:00\",\"1970-01-04T12:00:00\",\"1970-01-04T22:00:00\",\"1970-01-05T11:00:00\",\"1970-01-03T11:00:00\",\"1970-01-10T03:00:00\",\"1970-01-06T04:00:00\",\"1970-01-06T17:00:00\",\"1970-01-07T11:00:00\",\"1970-01-07T03:00:00\",\"1970-01-03T11:00:00\",\"1970-01-02T08:00:00\",\"1970-01-09T15:00:00\",\"1970-01-06T04:00:00\",\"1970-01-10T03:00:00\",\"1970-01-07T20:00:00\"],\"hovertemplate\":\"Resource=%{text}<br>Start=%{base}<br>Finish=%{x}<br>Type=%{y}<extra></extra>\",\"legendgroup\":\"M6\",\"marker\":{\"color\":\"rgb(85,168,104)\",\"pattern\":{\"shape\":\"\"},\"line\":{\"color\":\"yellow\"},\"cmid\":1000},\"name\":\"M6\",\"offsetgroup\":\"M6\",\"orientation\":\"h\",\"showlegend\":true,\"text\":[\"M6\",\"M6\",\"M6\",\"M6\",\"M6\",\"M6\",\"M6\",\"M6\",\"M6\",\"M6\",\"M6\",\"M6\",\"M6\",\"M6\",\"M6\",\"M6\",\"M6\",\"M6\",\"M6\",\"M6\",\"M6\",\"M6\",\"M6\",\"M6\",\"M6\",\"M6\",\"M6\",\"M6\",\"M6\",\"M6\",\"M6\",\"M6\",\"M6\",\"M6\",\"M6\",\"M6\"],\"textposition\":\"auto\",\"x\":[3600000.0,7200000.0,54000000.0,7200000.0,3600000.0,3600000.0,18000000.0,39600000.0,3600000.0,18000000.0,7200000.0,32400000.0,10800000.0,18000000.0,25200000.0,39600000.0,43200000.0,46800000.0,46800000.0,61200000.0,97200000.0,36000000.0,46800000.0,61200000.0,90000000.0,32400000.0,46800000.0,36000000.0,32400000.0,28800000.0,10800000.0,14400000.0,10800000.0,14400000.0,7200000.0,3600000.0],\"xaxis\":\"x\",\"y\":[\"delay_machine\",\"delay_machine\",\"delay_machine\",\"delay_machine\",\"delay_machine\",\"delay_machine\",\"delay_machine\",\"delay_machine\",\"delay_machine\",\"delay_machine\",\"delay_machine\",\"delay_machine\",\"delay_machine\",\"j10\",\"j10\",\"j10\",\"j11\",\"j16\",\"j16\",\"j16\",\"j17\",\"j18\",\"j18\",\"j18\",\"j18\",\"j20\",\"j9\",\"j9\",\"j9\",\"j9\",\"setup\",\"setup\",\"setup\",\"setup\",\"setup\",\"setup\"],\"yaxis\":\"y\",\"type\":\"bar\"},{\"alignmentgroup\":\"True\",\"base\":[\"1970-01-11T12:00:00\",\"1970-01-10T21:00:00\",\"1970-01-10T19:00:00\",\"1970-01-10T18:00:00\",\"1970-01-11T14:00:00\",\"1970-01-12T14:00:00\",\"1970-01-12T21:00:00\",\"1970-01-12T16:00:00\",\"1970-01-11T15:00:00\",\"1970-01-12T05:00:00\",\"1970-01-12T02:00:00\",\"1970-01-05T11:00:00\",\"1970-01-06T11:00:00\",\"1970-01-04T04:00:00\",\"1970-01-04T16:00:00\",\"1970-01-07T19:00:00\",\"1970-01-10T00:00:00\",\"1970-01-07T05:00:00\",\"1970-01-08T12:00:00\",\"1970-01-09T17:00:00\",\"1970-01-09T08:00:00\",\"1970-01-02T13:00:00\",\"1970-01-01T09:00:00\",\"1970-01-02T06:00:00\",\"1970-01-03T15:00:00\",\"1970-01-01T21:00:00\",\"1970-01-02T13:00:00\",\"1970-01-03T15:00:00\",\"1970-01-07T05:00:00\",\"1970-01-04T04:00:00\"],\"hovertemplate\":\"Resource=%{text}<br>Start=%{base}<br>Finish=%{x}<br>Type=%{y}<extra></extra>\",\"legendgroup\":\"M4\",\"marker\":{\"color\":\"rgb(196,78,82)\",\"pattern\":{\"shape\":\"\"},\"line\":{\"color\":\"yellow\"},\"cmid\":1000},\"name\":\"M4\",\"offsetgroup\":\"M4\",\"orientation\":\"h\",\"showlegend\":true,\"text\":[\"M4\",\"M4\",\"M4\",\"M4\",\"M4\",\"M4\",\"M4\",\"M4\",\"M4\",\"M4\",\"M4\",\"M4\",\"M4\",\"M4\",\"M4\",\"M4\",\"M4\",\"M4\",\"M4\",\"M4\",\"M4\",\"M4\",\"M4\",\"M4\",\"M4\",\"M4\",\"M4\",\"M4\",\"M4\",\"M4\"],\"textposition\":\"auto\",\"x\":[7200000.0,54000000.0,7200000.0,3600000.0,3600000.0,7200000.0,3600000.0,18000000.0,39600000.0,32400000.0,10800000.0,86400000.0,64800000.0,43200000.0,68400000.0,61200000.0,64800000.0,50400000.0,72000000.0,25200000.0,32400000.0,93600000.0,43200000.0,25200000.0,46800000.0,32400000.0,3600000.0,10800000.0,3600000.0,10800000.0],\"xaxis\":\"x\",\"y\":[\"delay_machine\",\"delay_machine\",\"delay_machine\",\"delay_machine\",\"delay_machine\",\"delay_machine\",\"delay_machine\",\"delay_machine\",\"delay_machine\",\"delay_machine\",\"delay_machine\",\"j13\",\"j13\",\"j13\",\"j13\",\"j19\",\"j19\",\"j19\",\"j19\",\"j19\",\"j19\",\"j20\",\"j3\",\"j3\",\"j3\",\"j3\",\"setup\",\"setup\",\"setup\",\"setup\"],\"yaxis\":\"y\",\"type\":\"bar\"},{\"alignmentgroup\":\"True\",\"base\":[\"1970-01-10T12:00:00\",\"1970-01-10T07:00:00\",\"1970-01-12T16:00:00\",\"1970-01-12T14:00:00\",\"1970-01-12T21:00:00\",\"1970-01-01T09:00:00\",\"1970-01-02T03:00:00\",\"1970-01-08T06:00:00\",\"1970-01-07T17:00:00\",\"1970-01-09T23:00:00\",\"1970-01-04T17:00:00\",\"1970-01-03T15:00:00\",\"1970-01-02T11:00:00\",\"1970-01-11T15:00:00\",\"1970-01-10T17:00:00\",\"1970-01-06T00:00:00\",\"1970-01-05T03:00:00\",\"1970-01-07T01:00:00\",\"1970-01-08T19:00:00\",\"1970-01-09T11:00:00\",\"1970-01-02T11:00:00\",\"1970-01-05T03:00:00\",\"1970-01-07T01:00:00\",\"1970-01-07T17:00:00\",\"1970-01-03T15:00:00\",\"1970-01-08T19:00:00\",\"1970-01-09T23:00:00\",\"1970-01-10T17:00:00\",\"1970-01-08T06:00:00\"],\"hovertemplate\":\"Resource=%{text}<br>Start=%{base}<br>Finish=%{x}<br>Type=%{y}<extra></extra>\",\"legendgroup\":\"M3\",\"marker\":{\"color\":\"rgb(129,114,179)\",\"pattern\":{\"shape\":\"\"},\"line\":{\"color\":\"yellow\"},\"cmid\":1000},\"name\":\"M3\",\"offsetgroup\":\"M3\",\"orientation\":\"h\",\"showlegend\":true,\"text\":[\"M3\",\"M3\",\"M3\",\"M3\",\"M3\",\"M3\",\"M3\",\"M3\",\"M3\",\"M3\",\"M3\",\"M3\",\"M3\",\"M3\",\"M3\",\"M3\",\"M3\",\"M3\",\"M3\",\"M3\",\"M3\",\"M3\",\"M3\",\"M3\",\"M3\",\"M3\",\"M3\",\"M3\",\"M3\"],\"textposition\":\"auto\",\"x\":[18000000.0,18000000.0,18000000.0,7200000.0,3600000.0,64800000.0,28800000.0,46800000.0,46800000.0,28800000.0,36000000.0,93600000.0,100800000.0,82800000.0,79200000.0,90000000.0,75600000.0,57600000.0,57600000.0,43200000.0,10800000.0,10800000.0,10800000.0,7200000.0,10800000.0,7200000.0,7200000.0,14400000.0,14400000.0],\"xaxis\":\"x\",\"y\":[\"delay_machine\",\"delay_machine\",\"delay_machine\",\"delay_machine\",\"delay_machine\",\"j1\",\"j1\",\"j11\",\"j12\",\"j12\",\"j14\",\"j14\",\"j15\",\"j16\",\"j16\",\"j17\",\"j17\",\"j20\",\"j20\",\"j20\",\"setup\",\"setup\",\"setup\",\"setup\",\"setup\",\"setup\",\"setup\",\"setup\",\"setup\"],\"yaxis\":\"y\",\"type\":\"bar\"},{\"alignmentgroup\":\"True\",\"base\":[\"1970-01-02T10:00:00\",\"1970-01-05T20:00:00\",\"1970-01-05T03:00:00\",\"1970-01-01T09:00:00\",\"1970-01-02T02:00:00\",\"1970-01-04T01:00:00\",\"1970-01-10T01:00:00\",\"1970-01-07T16:00:00\",\"1970-01-10T19:00:00\",\"1970-01-09T02:00:00\",\"1970-01-12T02:00:00\",\"1970-01-08T10:00:00\",\"1970-01-11T14:00:00\",\"1970-01-07T11:00:00\",\"1970-01-06T04:00:00\",\"1970-01-07T00:00:00\",\"1970-01-03T02:00:00\",\"1970-01-03T02:00:00\",\"1970-01-02T10:00:00\",\"1970-01-05T03:00:00\",\"1970-01-06T04:00:00\",\"1970-01-07T16:00:00\",\"1970-01-04T01:00:00\"],\"hovertemplate\":\"Resource=%{text}<br>Start=%{base}<br>Finish=%{x}<br>Type=%{y}<extra></extra>\",\"legendgroup\":\"M2\",\"marker\":{\"color\":\"rgb(147,120,96)\",\"pattern\":{\"shape\":\"\"},\"line\":{\"color\":\"yellow\"},\"cmid\":1000},\"name\":\"M2\",\"offsetgroup\":\"M2\",\"orientation\":\"h\",\"showlegend\":true,\"text\":[\"M2\",\"M2\",\"M2\",\"M2\",\"M2\",\"M2\",\"M2\",\"M2\",\"M2\",\"M2\",\"M2\",\"M2\",\"M2\",\"M2\",\"M2\",\"M2\",\"M2\",\"M2\",\"M2\",\"M2\",\"M2\",\"M2\",\"M2\"],\"textposition\":\"auto\",\"x\":[57600000.0,28800000.0,61200000.0,61200000.0,28800000.0,93600000.0,64800000.0,64800000.0,68400000.0,82800000.0,72000000.0,57600000.0,43200000.0,18000000.0,72000000.0,39600000.0,82800000.0,10800000.0,7200000.0,10800000.0,10800000.0,10800000.0,3600000.0],\"xaxis\":\"x\",\"y\":[\"j10\",\"j14\",\"j14\",\"j15\",\"j15\",\"j17\",\"j2\",\"j2\",\"j2\",\"j2\",\"j2\",\"j2\",\"j2\",\"j5\",\"j5\",\"j5\",\"j6\",\"setup\",\"setup\",\"setup\",\"setup\",\"setup\",\"setup\"],\"yaxis\":\"y\",\"type\":\"bar\"}],                        {\"template\":{\"data\":{\"barpolar\":[{\"marker\":{\"line\":{\"color\":\"rgb(234,234,242)\",\"width\":0.5},\"pattern\":{\"fillmode\":\"overlay\",\"size\":10,\"solidity\":0.2}},\"type\":\"barpolar\"}],\"bar\":[{\"error_x\":{\"color\":\"rgb(36,36,36)\"},\"error_y\":{\"color\":\"rgb(36,36,36)\"},\"marker\":{\"line\":{\"color\":\"rgb(234,234,242)\",\"width\":0.5},\"pattern\":{\"fillmode\":\"overlay\",\"size\":10,\"solidity\":0.2}},\"type\":\"bar\"}],\"carpet\":[{\"aaxis\":{\"endlinecolor\":\"rgb(36,36,36)\",\"gridcolor\":\"white\",\"linecolor\":\"white\",\"minorgridcolor\":\"white\",\"startlinecolor\":\"rgb(36,36,36)\"},\"baxis\":{\"endlinecolor\":\"rgb(36,36,36)\",\"gridcolor\":\"white\",\"linecolor\":\"white\",\"minorgridcolor\":\"white\",\"startlinecolor\":\"rgb(36,36,36)\"},\"type\":\"carpet\"}],\"choropleth\":[{\"colorbar\":{\"outlinewidth\":0,\"tickcolor\":\"rgb(36,36,36)\",\"ticklen\":8,\"ticks\":\"outside\",\"tickwidth\":2},\"type\":\"choropleth\"}],\"contourcarpet\":[{\"colorbar\":{\"outlinewidth\":0,\"tickcolor\":\"rgb(36,36,36)\",\"ticklen\":8,\"ticks\":\"outside\",\"tickwidth\":2},\"type\":\"contourcarpet\"}],\"contour\":[{\"colorbar\":{\"outlinewidth\":0,\"tickcolor\":\"rgb(36,36,36)\",\"ticklen\":8,\"ticks\":\"outside\",\"tickwidth\":2},\"colorscale\":[[0.0,\"rgb(2,4,25)\"],[0.06274509803921569,\"rgb(24,15,41)\"],[0.12549019607843137,\"rgb(47,23,57)\"],[0.18823529411764706,\"rgb(71,28,72)\"],[0.25098039215686274,\"rgb(97,30,82)\"],[0.3137254901960784,\"rgb(123,30,89)\"],[0.3764705882352941,\"rgb(150,27,91)\"],[0.4392156862745098,\"rgb(177,22,88)\"],[0.5019607843137255,\"rgb(203,26,79)\"],[0.5647058823529412,\"rgb(223,47,67)\"],[0.6274509803921569,\"rgb(236,76,61)\"],[0.6901960784313725,\"rgb(242,107,73)\"],[0.7529411764705882,\"rgb(244,135,95)\"],[0.8156862745098039,\"rgb(245,162,122)\"],[0.8784313725490196,\"rgb(246,188,153)\"],[0.9411764705882353,\"rgb(247,212,187)\"],[1.0,\"rgb(250,234,220)\"]],\"type\":\"contour\"}],\"heatmapgl\":[{\"colorbar\":{\"outlinewidth\":0,\"tickcolor\":\"rgb(36,36,36)\",\"ticklen\":8,\"ticks\":\"outside\",\"tickwidth\":2},\"colorscale\":[[0.0,\"rgb(2,4,25)\"],[0.06274509803921569,\"rgb(24,15,41)\"],[0.12549019607843137,\"rgb(47,23,57)\"],[0.18823529411764706,\"rgb(71,28,72)\"],[0.25098039215686274,\"rgb(97,30,82)\"],[0.3137254901960784,\"rgb(123,30,89)\"],[0.3764705882352941,\"rgb(150,27,91)\"],[0.4392156862745098,\"rgb(177,22,88)\"],[0.5019607843137255,\"rgb(203,26,79)\"],[0.5647058823529412,\"rgb(223,47,67)\"],[0.6274509803921569,\"rgb(236,76,61)\"],[0.6901960784313725,\"rgb(242,107,73)\"],[0.7529411764705882,\"rgb(244,135,95)\"],[0.8156862745098039,\"rgb(245,162,122)\"],[0.8784313725490196,\"rgb(246,188,153)\"],[0.9411764705882353,\"rgb(247,212,187)\"],[1.0,\"rgb(250,234,220)\"]],\"type\":\"heatmapgl\"}],\"heatmap\":[{\"colorbar\":{\"outlinewidth\":0,\"tickcolor\":\"rgb(36,36,36)\",\"ticklen\":8,\"ticks\":\"outside\",\"tickwidth\":2},\"colorscale\":[[0.0,\"rgb(2,4,25)\"],[0.06274509803921569,\"rgb(24,15,41)\"],[0.12549019607843137,\"rgb(47,23,57)\"],[0.18823529411764706,\"rgb(71,28,72)\"],[0.25098039215686274,\"rgb(97,30,82)\"],[0.3137254901960784,\"rgb(123,30,89)\"],[0.3764705882352941,\"rgb(150,27,91)\"],[0.4392156862745098,\"rgb(177,22,88)\"],[0.5019607843137255,\"rgb(203,26,79)\"],[0.5647058823529412,\"rgb(223,47,67)\"],[0.6274509803921569,\"rgb(236,76,61)\"],[0.6901960784313725,\"rgb(242,107,73)\"],[0.7529411764705882,\"rgb(244,135,95)\"],[0.8156862745098039,\"rgb(245,162,122)\"],[0.8784313725490196,\"rgb(246,188,153)\"],[0.9411764705882353,\"rgb(247,212,187)\"],[1.0,\"rgb(250,234,220)\"]],\"type\":\"heatmap\"}],\"histogram2dcontour\":[{\"colorbar\":{\"outlinewidth\":0,\"tickcolor\":\"rgb(36,36,36)\",\"ticklen\":8,\"ticks\":\"outside\",\"tickwidth\":2},\"colorscale\":[[0.0,\"rgb(2,4,25)\"],[0.06274509803921569,\"rgb(24,15,41)\"],[0.12549019607843137,\"rgb(47,23,57)\"],[0.18823529411764706,\"rgb(71,28,72)\"],[0.25098039215686274,\"rgb(97,30,82)\"],[0.3137254901960784,\"rgb(123,30,89)\"],[0.3764705882352941,\"rgb(150,27,91)\"],[0.4392156862745098,\"rgb(177,22,88)\"],[0.5019607843137255,\"rgb(203,26,79)\"],[0.5647058823529412,\"rgb(223,47,67)\"],[0.6274509803921569,\"rgb(236,76,61)\"],[0.6901960784313725,\"rgb(242,107,73)\"],[0.7529411764705882,\"rgb(244,135,95)\"],[0.8156862745098039,\"rgb(245,162,122)\"],[0.8784313725490196,\"rgb(246,188,153)\"],[0.9411764705882353,\"rgb(247,212,187)\"],[1.0,\"rgb(250,234,220)\"]],\"type\":\"histogram2dcontour\"}],\"histogram2d\":[{\"colorbar\":{\"outlinewidth\":0,\"tickcolor\":\"rgb(36,36,36)\",\"ticklen\":8,\"ticks\":\"outside\",\"tickwidth\":2},\"colorscale\":[[0.0,\"rgb(2,4,25)\"],[0.06274509803921569,\"rgb(24,15,41)\"],[0.12549019607843137,\"rgb(47,23,57)\"],[0.18823529411764706,\"rgb(71,28,72)\"],[0.25098039215686274,\"rgb(97,30,82)\"],[0.3137254901960784,\"rgb(123,30,89)\"],[0.3764705882352941,\"rgb(150,27,91)\"],[0.4392156862745098,\"rgb(177,22,88)\"],[0.5019607843137255,\"rgb(203,26,79)\"],[0.5647058823529412,\"rgb(223,47,67)\"],[0.6274509803921569,\"rgb(236,76,61)\"],[0.6901960784313725,\"rgb(242,107,73)\"],[0.7529411764705882,\"rgb(244,135,95)\"],[0.8156862745098039,\"rgb(245,162,122)\"],[0.8784313725490196,\"rgb(246,188,153)\"],[0.9411764705882353,\"rgb(247,212,187)\"],[1.0,\"rgb(250,234,220)\"]],\"type\":\"histogram2d\"}],\"histogram\":[{\"marker\":{\"pattern\":{\"fillmode\":\"overlay\",\"size\":10,\"solidity\":0.2}},\"type\":\"histogram\"}],\"mesh3d\":[{\"colorbar\":{\"outlinewidth\":0,\"tickcolor\":\"rgb(36,36,36)\",\"ticklen\":8,\"ticks\":\"outside\",\"tickwidth\":2},\"type\":\"mesh3d\"}],\"parcoords\":[{\"line\":{\"colorbar\":{\"outlinewidth\":0,\"tickcolor\":\"rgb(36,36,36)\",\"ticklen\":8,\"ticks\":\"outside\",\"tickwidth\":2}},\"type\":\"parcoords\"}],\"pie\":[{\"automargin\":true,\"type\":\"pie\"}],\"scatter3d\":[{\"line\":{\"colorbar\":{\"outlinewidth\":0,\"tickcolor\":\"rgb(36,36,36)\",\"ticklen\":8,\"ticks\":\"outside\",\"tickwidth\":2}},\"marker\":{\"colorbar\":{\"outlinewidth\":0,\"tickcolor\":\"rgb(36,36,36)\",\"ticklen\":8,\"ticks\":\"outside\",\"tickwidth\":2}},\"type\":\"scatter3d\"}],\"scattercarpet\":[{\"marker\":{\"colorbar\":{\"outlinewidth\":0,\"tickcolor\":\"rgb(36,36,36)\",\"ticklen\":8,\"ticks\":\"outside\",\"tickwidth\":2}},\"type\":\"scattercarpet\"}],\"scattergeo\":[{\"marker\":{\"colorbar\":{\"outlinewidth\":0,\"tickcolor\":\"rgb(36,36,36)\",\"ticklen\":8,\"ticks\":\"outside\",\"tickwidth\":2}},\"type\":\"scattergeo\"}],\"scattergl\":[{\"marker\":{\"colorbar\":{\"outlinewidth\":0,\"tickcolor\":\"rgb(36,36,36)\",\"ticklen\":8,\"ticks\":\"outside\",\"tickwidth\":2}},\"type\":\"scattergl\"}],\"scattermapbox\":[{\"marker\":{\"colorbar\":{\"outlinewidth\":0,\"tickcolor\":\"rgb(36,36,36)\",\"ticklen\":8,\"ticks\":\"outside\",\"tickwidth\":2}},\"type\":\"scattermapbox\"}],\"scatterpolargl\":[{\"marker\":{\"colorbar\":{\"outlinewidth\":0,\"tickcolor\":\"rgb(36,36,36)\",\"ticklen\":8,\"ticks\":\"outside\",\"tickwidth\":2}},\"type\":\"scatterpolargl\"}],\"scatterpolar\":[{\"marker\":{\"colorbar\":{\"outlinewidth\":0,\"tickcolor\":\"rgb(36,36,36)\",\"ticklen\":8,\"ticks\":\"outside\",\"tickwidth\":2}},\"type\":\"scatterpolar\"}],\"scatter\":[{\"fillpattern\":{\"fillmode\":\"overlay\",\"size\":10,\"solidity\":0.2},\"type\":\"scatter\"}],\"scatterternary\":[{\"marker\":{\"colorbar\":{\"outlinewidth\":0,\"tickcolor\":\"rgb(36,36,36)\",\"ticklen\":8,\"ticks\":\"outside\",\"tickwidth\":2}},\"type\":\"scatterternary\"}],\"surface\":[{\"colorbar\":{\"outlinewidth\":0,\"tickcolor\":\"rgb(36,36,36)\",\"ticklen\":8,\"ticks\":\"outside\",\"tickwidth\":2},\"colorscale\":[[0.0,\"rgb(2,4,25)\"],[0.06274509803921569,\"rgb(24,15,41)\"],[0.12549019607843137,\"rgb(47,23,57)\"],[0.18823529411764706,\"rgb(71,28,72)\"],[0.25098039215686274,\"rgb(97,30,82)\"],[0.3137254901960784,\"rgb(123,30,89)\"],[0.3764705882352941,\"rgb(150,27,91)\"],[0.4392156862745098,\"rgb(177,22,88)\"],[0.5019607843137255,\"rgb(203,26,79)\"],[0.5647058823529412,\"rgb(223,47,67)\"],[0.6274509803921569,\"rgb(236,76,61)\"],[0.6901960784313725,\"rgb(242,107,73)\"],[0.7529411764705882,\"rgb(244,135,95)\"],[0.8156862745098039,\"rgb(245,162,122)\"],[0.8784313725490196,\"rgb(246,188,153)\"],[0.9411764705882353,\"rgb(247,212,187)\"],[1.0,\"rgb(250,234,220)\"]],\"type\":\"surface\"}],\"table\":[{\"cells\":{\"fill\":{\"color\":\"rgb(231,231,240)\"},\"line\":{\"color\":\"white\"}},\"header\":{\"fill\":{\"color\":\"rgb(183,183,191)\"},\"line\":{\"color\":\"white\"}},\"type\":\"table\"}]},\"layout\":{\"annotationdefaults\":{\"arrowcolor\":\"rgb(67,103,167)\"},\"autotypenumbers\":\"strict\",\"coloraxis\":{\"colorbar\":{\"outlinewidth\":0,\"tickcolor\":\"rgb(36,36,36)\",\"ticklen\":8,\"ticks\":\"outside\",\"tickwidth\":2}},\"colorscale\":{\"sequential\":[[0.0,\"rgb(2,4,25)\"],[0.06274509803921569,\"rgb(24,15,41)\"],[0.12549019607843137,\"rgb(47,23,57)\"],[0.18823529411764706,\"rgb(71,28,72)\"],[0.25098039215686274,\"rgb(97,30,82)\"],[0.3137254901960784,\"rgb(123,30,89)\"],[0.3764705882352941,\"rgb(150,27,91)\"],[0.4392156862745098,\"rgb(177,22,88)\"],[0.5019607843137255,\"rgb(203,26,79)\"],[0.5647058823529412,\"rgb(223,47,67)\"],[0.6274509803921569,\"rgb(236,76,61)\"],[0.6901960784313725,\"rgb(242,107,73)\"],[0.7529411764705882,\"rgb(244,135,95)\"],[0.8156862745098039,\"rgb(245,162,122)\"],[0.8784313725490196,\"rgb(246,188,153)\"],[0.9411764705882353,\"rgb(247,212,187)\"],[1.0,\"rgb(250,234,220)\"]],\"sequentialminus\":[[0.0,\"rgb(2,4,25)\"],[0.06274509803921569,\"rgb(24,15,41)\"],[0.12549019607843137,\"rgb(47,23,57)\"],[0.18823529411764706,\"rgb(71,28,72)\"],[0.25098039215686274,\"rgb(97,30,82)\"],[0.3137254901960784,\"rgb(123,30,89)\"],[0.3764705882352941,\"rgb(150,27,91)\"],[0.4392156862745098,\"rgb(177,22,88)\"],[0.5019607843137255,\"rgb(203,26,79)\"],[0.5647058823529412,\"rgb(223,47,67)\"],[0.6274509803921569,\"rgb(236,76,61)\"],[0.6901960784313725,\"rgb(242,107,73)\"],[0.7529411764705882,\"rgb(244,135,95)\"],[0.8156862745098039,\"rgb(245,162,122)\"],[0.8784313725490196,\"rgb(246,188,153)\"],[0.9411764705882353,\"rgb(247,212,187)\"],[1.0,\"rgb(250,234,220)\"]]},\"colorway\":[\"rgb(76,114,176)\",\"rgb(221,132,82)\",\"rgb(85,168,104)\",\"rgb(196,78,82)\",\"rgb(129,114,179)\",\"rgb(147,120,96)\",\"rgb(218,139,195)\",\"rgb(140,140,140)\",\"rgb(204,185,116)\",\"rgb(100,181,205)\"],\"font\":{\"color\":\"rgb(36,36,36)\"},\"geo\":{\"bgcolor\":\"white\",\"lakecolor\":\"white\",\"landcolor\":\"rgb(234,234,242)\",\"showlakes\":true,\"showland\":true,\"subunitcolor\":\"white\"},\"hoverlabel\":{\"align\":\"left\"},\"hovermode\":\"closest\",\"paper_bgcolor\":\"white\",\"plot_bgcolor\":\"rgb(234,234,242)\",\"polar\":{\"angularaxis\":{\"gridcolor\":\"white\",\"linecolor\":\"white\",\"showgrid\":true,\"ticks\":\"\"},\"bgcolor\":\"rgb(234,234,242)\",\"radialaxis\":{\"gridcolor\":\"white\",\"linecolor\":\"white\",\"showgrid\":true,\"ticks\":\"\"}},\"scene\":{\"xaxis\":{\"backgroundcolor\":\"rgb(234,234,242)\",\"gridcolor\":\"white\",\"gridwidth\":2,\"linecolor\":\"white\",\"showbackground\":true,\"showgrid\":true,\"ticks\":\"\",\"zerolinecolor\":\"white\"},\"yaxis\":{\"backgroundcolor\":\"rgb(234,234,242)\",\"gridcolor\":\"white\",\"gridwidth\":2,\"linecolor\":\"white\",\"showbackground\":true,\"showgrid\":true,\"ticks\":\"\",\"zerolinecolor\":\"white\"},\"zaxis\":{\"backgroundcolor\":\"rgb(234,234,242)\",\"gridcolor\":\"white\",\"gridwidth\":2,\"linecolor\":\"white\",\"showbackground\":true,\"showgrid\":true,\"ticks\":\"\",\"zerolinecolor\":\"white\"}},\"shapedefaults\":{\"fillcolor\":\"rgb(67,103,167)\",\"line\":{\"width\":0},\"opacity\":0.5},\"ternary\":{\"aaxis\":{\"gridcolor\":\"white\",\"linecolor\":\"white\",\"showgrid\":true,\"ticks\":\"\"},\"baxis\":{\"gridcolor\":\"white\",\"linecolor\":\"white\",\"showgrid\":true,\"ticks\":\"\"},\"bgcolor\":\"rgb(234,234,242)\",\"caxis\":{\"gridcolor\":\"white\",\"linecolor\":\"white\",\"showgrid\":true,\"ticks\":\"\"}},\"xaxis\":{\"automargin\":true,\"gridcolor\":\"white\",\"linecolor\":\"white\",\"showgrid\":true,\"ticks\":\"\",\"title\":{\"standoff\":15},\"zerolinecolor\":\"white\"},\"yaxis\":{\"automargin\":true,\"gridcolor\":\"white\",\"linecolor\":\"white\",\"showgrid\":true,\"ticks\":\"\",\"title\":{\"standoff\":15},\"zerolinecolor\":\"white\"}}},\"xaxis\":{\"anchor\":\"y\",\"domain\":[0.0,1.0],\"type\":\"date\"},\"yaxis\":{\"anchor\":\"x\",\"domain\":[0.0,1.0],\"title\":{\"text\":\"Type\"}},\"legend\":{\"title\":{\"text\":\"Resource\"},\"tracegroupgap\":0},\"margin\":{\"t\":60},\"barmode\":\"overlay\",\"height\":1000,\"width\":2000},                        {\"responsive\": true}                    ).then(function(){\n",
       "                            \n",
       "var gd = document.getElementById('8b81ad9d-185a-465e-9561-12f3865221ef');\n",
       "var x = new MutationObserver(function (mutations, observer) {{\n",
       "        var display = window.getComputedStyle(gd).display;\n",
       "        if (!display || display === 'none') {{\n",
       "            console.log([gd, 'removed!']);\n",
       "            Plotly.purge(gd);\n",
       "            observer.disconnect();\n",
       "        }}\n",
       "}});\n",
       "\n",
       "// Listen for the removal of the full notebook cells\n",
       "var notebookContainer = gd.closest('#notebook-container');\n",
       "if (notebookContainer) {{\n",
       "    x.observe(notebookContainer, {childList: true});\n",
       "}}\n",
       "\n",
       "// Listen for the clearing of the current output cell\n",
       "var outputEl = gd.closest('.output');\n",
       "if (outputEl) {{\n",
       "    x.observe(outputEl, {childList: true});\n",
       "}}\n",
       "\n",
       "                        })                };                });            </script>        </div>"
      ]
     },
     "metadata": {},
     "output_type": "display_data"
    },
    {
     "data": {
      "application/vnd.plotly.v1+json": {
       "config": {
        "plotlyServerURL": "https://plot.ly"
       },
       "data": [
        {
         "alignmentgroup": "True",
         "base": [
          "1970-01-06T04:00:00",
          "1970-01-06T17:00:00",
          "1970-01-07T03:00:00",
          "1970-01-07T11:00:00",
          "1970-01-09T04:00:00"
         ],
         "hovertemplate": "Type=j9<br>Start=%{base}<br>Finish=%{x}<br>Resource=%{y}<br>Rule=%{text}<extra></extra>",
         "legendgroup": "j9",
         "marker": {
          "color": "#2E91E5",
          "pattern": {
           "shape": ""
          }
         },
         "name": "j9",
         "offsetgroup": "j9",
         "orientation": "h",
         "showlegend": true,
         "text": [
          "LOR",
          "LOR",
          "LOR",
          "LOR",
          "MOR"
         ],
         "textposition": "auto",
         "type": "bar",
         "x": [
          46800000,
          36000000,
          28800000,
          32400000,
          39600000
         ],
         "xaxis": "x",
         "y": [
          "M6",
          "M6",
          "M6",
          "M6",
          "M5"
         ],
         "yaxis": "y"
        },
        {
         "alignmentgroup": "True",
         "base": [
          "1970-01-10T03:00:00",
          "1970-01-07T17:00:00",
          "1970-01-02T13:00:00",
          "1970-01-07T01:00:00",
          "1970-01-08T19:00:00",
          "1970-01-09T11:00:00"
         ],
         "hovertemplate": "Type=j20<br>Start=%{base}<br>Finish=%{x}<br>Resource=%{y}<br>Rule=%{text}<extra></extra>",
         "legendgroup": "j20",
         "marker": {
          "color": "#E15F99",
          "pattern": {
           "shape": ""
          }
         },
         "name": "j20",
         "offsetgroup": "j20",
         "orientation": "h",
         "showlegend": true,
         "text": [
          "MOR",
          "LOR",
          "LPT",
          "LOR",
          "MOR",
          "MOR"
         ],
         "textposition": "auto",
         "type": "bar",
         "x": [
          32400000,
          93600000,
          93600000,
          57600000,
          57600000,
          43200000
         ],
         "xaxis": "x",
         "y": [
          "M6",
          "M5",
          "M4",
          "M3",
          "M3",
          "M3"
         ],
         "yaxis": "y"
        },
        {
         "alignmentgroup": "True",
         "base": [
          "1970-01-03T11:00:00",
          "1970-01-04T12:00:00",
          "1970-01-04T22:00:00",
          "1970-01-05T11:00:00",
          "1970-01-06T04:00:00"
         ],
         "hovertemplate": "Type=j18<br>Start=%{base}<br>Finish=%{x}<br>Resource=%{y}<br>Rule=%{text}<extra></extra>",
         "legendgroup": "j18",
         "marker": {
          "color": "#1CA71C",
          "pattern": {
           "shape": ""
          }
         },
         "name": "j18",
         "offsetgroup": "j18",
         "orientation": "h",
         "showlegend": true,
         "text": [
          "LPT",
          "LOR",
          "LOR",
          "LOR",
          "LOR"
         ],
         "textposition": "auto",
         "type": "bar",
         "x": [
          90000000,
          36000000,
          46800000,
          61200000,
          36000000
         ],
         "xaxis": "x",
         "y": [
          "M6",
          "M6",
          "M6",
          "M6",
          "M1"
         ],
         "yaxis": "y"
        },
        {
         "alignmentgroup": "True",
         "base": [
          "1970-01-02T08:00:00",
          "1970-01-05T03:00:00",
          "1970-01-06T00:00:00",
          "1970-01-04T01:00:00"
         ],
         "hovertemplate": "Type=j17<br>Start=%{base}<br>Finish=%{x}<br>Resource=%{y}<br>Rule=%{text}<extra></extra>",
         "legendgroup": "j17",
         "marker": {
          "color": "#FB0D0D",
          "pattern": {
           "shape": ""
          }
         },
         "name": "j17",
         "offsetgroup": "j17",
         "orientation": "h",
         "showlegend": true,
         "text": [
          "LPT",
          "LOR",
          "LOR",
          "LOR"
         ],
         "textposition": "auto",
         "type": "bar",
         "x": [
          97200000,
          75600000,
          90000000,
          93600000
         ],
         "xaxis": "x",
         "y": [
          "M6",
          "M3",
          "M3",
          "M2"
         ],
         "yaxis": "y"
        },
        {
         "alignmentgroup": "True",
         "base": [
          "1970-01-07T20:00:00",
          "1970-01-08T09:00:00",
          "1970-01-08T22:00:00",
          "1970-01-09T15:00:00",
          "1970-01-10T03:00:00",
          "1970-01-10T17:00:00",
          "1970-01-11T15:00:00",
          "1970-01-12T14:00:00"
         ],
         "hovertemplate": "Type=j16<br>Start=%{base}<br>Finish=%{x}<br>Resource=%{y}<br>Rule=%{text}<extra></extra>",
         "legendgroup": "j16",
         "marker": {
          "color": "#DA16FF",
          "pattern": {
           "shape": ""
          }
         },
         "name": "j16",
         "offsetgroup": "j16",
         "orientation": "h",
         "showlegend": true,
         "text": [
          "MOR",
          "MOR",
          "MOR",
          "MOR",
          "MOR",
          "MOR",
          "MOR",
          "MOR"
         ],
         "textposition": "auto",
         "type": "bar",
         "x": [
          46800000,
          46800000,
          61200000,
          43200000,
          50400000,
          79200000,
          82800000,
          25200000
         ],
         "xaxis": "x",
         "y": [
          "M6",
          "M6",
          "M6",
          "M5",
          "M5",
          "M3",
          "M3",
          "M1"
         ],
         "yaxis": "y"
        },
        {
         "alignmentgroup": "True",
         "base": [
          "1970-01-09T15:00:00",
          "1970-01-02T14:00:00",
          "1970-01-06T08:00:00",
          "1970-01-07T06:00:00",
          "1970-01-08T06:00:00",
          "1970-01-07T17:00:00"
         ],
         "hovertemplate": "Type=j11<br>Start=%{base}<br>Finish=%{x}<br>Resource=%{y}<br>Rule=%{text}<extra></extra>",
         "legendgroup": "j11",
         "marker": {
          "color": "#222A2A",
          "pattern": {
           "shape": ""
          }
         },
         "name": "j11",
         "offsetgroup": "j11",
         "orientation": "h",
         "showlegend": true,
         "text": [
          "MOR",
          "LPT",
          "LOR",
          "LOR",
          "MOR",
          "LOR"
         ],
         "textposition": "auto",
         "type": "bar",
         "x": [
          43200000,
          93600000,
          79200000,
          39600000,
          46800000,
          46800000
         ],
         "xaxis": "x",
         "y": [
          "M6",
          "M5",
          "M5",
          "M5",
          "M3",
          "M1"
         ],
         "yaxis": "y"
        },
        {
         "alignmentgroup": "True",
         "base": [
          "1970-01-01T09:00:00",
          "1970-01-01T14:00:00",
          "1970-01-02T01:00:00",
          "1970-01-02T10:00:00"
         ],
         "hovertemplate": "Type=j10<br>Start=%{base}<br>Finish=%{x}<br>Resource=%{y}<br>Rule=%{text}<extra></extra>",
         "legendgroup": "j10",
         "marker": {
          "color": "#B68100",
          "pattern": {
           "shape": ""
          }
         },
         "name": "j10",
         "offsetgroup": "j10",
         "orientation": "h",
         "showlegend": true,
         "text": [
          "LOR",
          "LOR",
          "LOR",
          "LOR"
         ],
         "textposition": "auto",
         "type": "bar",
         "x": [
          18000000,
          39600000,
          25200000,
          57600000
         ],
         "xaxis": "x",
         "y": [
          "M6",
          "M6",
          "M6",
          "M2"
         ],
         "yaxis": "y"
        },
        {
         "alignmentgroup": "True",
         "base": [
          "1970-01-10T12:00:00",
          "1970-01-10T17:00:00",
          "1970-01-10T18:00:00",
          "1970-01-10T19:00:00",
          "1970-01-10T21:00:00",
          "1970-01-11T12:00:00",
          "1970-01-11T14:00:00",
          "1970-01-11T15:00:00",
          "1970-01-12T02:00:00",
          "1970-01-12T05:00:00",
          "1970-01-12T14:00:00",
          "1970-01-12T16:00:00",
          "1970-01-12T21:00:00",
          "1970-01-10T17:00:00",
          "1970-01-10T18:00:00",
          "1970-01-10T19:00:00",
          "1970-01-10T21:00:00",
          "1970-01-11T12:00:00",
          "1970-01-11T14:00:00",
          "1970-01-11T15:00:00",
          "1970-01-12T02:00:00",
          "1970-01-12T05:00:00",
          "1970-01-12T14:00:00",
          "1970-01-12T16:00:00",
          "1970-01-12T21:00:00",
          "1970-01-10T18:00:00",
          "1970-01-10T19:00:00",
          "1970-01-10T21:00:00",
          "1970-01-11T12:00:00",
          "1970-01-11T14:00:00",
          "1970-01-11T15:00:00",
          "1970-01-12T02:00:00",
          "1970-01-12T05:00:00",
          "1970-01-12T14:00:00",
          "1970-01-12T16:00:00",
          "1970-01-12T21:00:00",
          "1970-01-10T07:00:00",
          "1970-01-10T12:00:00",
          "1970-01-12T14:00:00",
          "1970-01-12T16:00:00",
          "1970-01-12T21:00:00",
          "1970-01-12T05:00:00",
          "1970-01-12T21:00:00"
         ],
         "hovertemplate": "Type=delay_machine<br>Start=%{base}<br>Finish=%{x}<br>Resource=%{y}<br>Rule=%{text}<extra></extra>",
         "legendgroup": "delay_machine",
         "marker": {
          "color": "#750D86",
          "pattern": {
           "shape": ""
          }
         },
         "name": "delay_machine",
         "offsetgroup": "delay_machine",
         "orientation": "h",
         "showlegend": true,
         "text": [
          "DDA",
          "DDA",
          "DDA",
          "DDA",
          "DDA",
          "DDA",
          "DDA",
          "DDA",
          "DDA",
          "DDA",
          "DDA",
          "DDA",
          "DDA",
          "DDA",
          "DDA",
          "DDA",
          "DDA",
          "DDA",
          "DDA",
          "DDA",
          "DDA",
          "DDA",
          "DDA",
          "DDA",
          "DDA",
          "DDA",
          "DDA",
          "DDA",
          "DDA",
          "DDA",
          "DDA",
          "DDA",
          "DDA",
          "DDA",
          "DDA",
          "DDA",
          "DDA",
          "DDA",
          "DDA",
          "DDA",
          "DDA",
          "DDA",
          "DDA"
         ],
         "textposition": "auto",
         "type": "bar",
         "x": [
          18000000,
          3600000,
          3600000,
          7200000,
          54000000,
          7200000,
          3600000,
          39600000,
          10800000,
          32400000,
          7200000,
          18000000,
          3600000,
          3600000,
          3600000,
          7200000,
          54000000,
          7200000,
          3600000,
          39600000,
          10800000,
          32400000,
          7200000,
          18000000,
          3600000,
          3600000,
          7200000,
          54000000,
          7200000,
          3600000,
          39600000,
          10800000,
          32400000,
          7200000,
          18000000,
          3600000,
          18000000,
          18000000,
          7200000,
          18000000,
          3600000,
          32400000,
          3600000
         ],
         "xaxis": "x",
         "y": [
          "M6",
          "M6",
          "M6",
          "M6",
          "M6",
          "M6",
          "M6",
          "M6",
          "M6",
          "M6",
          "M6",
          "M6",
          "M6",
          "M5",
          "M5",
          "M5",
          "M5",
          "M5",
          "M5",
          "M5",
          "M5",
          "M5",
          "M5",
          "M5",
          "M5",
          "M4",
          "M4",
          "M4",
          "M4",
          "M4",
          "M4",
          "M4",
          "M4",
          "M4",
          "M4",
          "M4",
          "M3",
          "M3",
          "M3",
          "M3",
          "M3",
          "M1",
          "M1"
         ],
         "yaxis": "y"
        },
        {
         "alignmentgroup": "True",
         "base": [
          "1970-01-01T09:00:00",
          "1970-01-01T15:00:00",
          "1970-01-01T20:00:00",
          "1970-01-03T16:00:00"
         ],
         "hovertemplate": "Type=j8<br>Start=%{base}<br>Finish=%{x}<br>Resource=%{y}<br>Rule=%{text}<extra></extra>",
         "legendgroup": "j8",
         "marker": {
          "color": "#EB663B",
          "pattern": {
           "shape": ""
          }
         },
         "name": "j8",
         "offsetgroup": "j8",
         "orientation": "h",
         "showlegend": true,
         "text": [
          "LOR",
          "LOR",
          "LOR",
          "LOR"
         ],
         "textposition": "auto",
         "type": "bar",
         "x": [
          21600000,
          18000000,
          64800000,
          64800000
         ],
         "xaxis": "x",
         "y": [
          "M5",
          "M5",
          "M5",
          "M5"
         ],
         "yaxis": "y"
        },
        {
         "alignmentgroup": "True",
         "base": [
          "1970-01-04T10:00:00",
          "1970-01-04T18:00:00",
          "1970-01-05T01:00:00",
          "1970-01-05T06:00:00",
          "1970-01-05T15:00:00"
         ],
         "hovertemplate": "Type=j4<br>Start=%{base}<br>Finish=%{x}<br>Resource=%{y}<br>Rule=%{text}<extra></extra>",
         "legendgroup": "j4",
         "marker": {
          "color": "#511CFB",
          "pattern": {
           "shape": ""
          }
         },
         "name": "j4",
         "offsetgroup": "j4",
         "orientation": "h",
         "showlegend": true,
         "text": [
          "LOR",
          "LOR",
          "LOR",
          "LOR",
          "LOR"
         ],
         "textposition": "auto",
         "type": "bar",
         "x": [
          28800000,
          25200000,
          18000000,
          32400000,
          61200000
         ],
         "xaxis": "x",
         "y": [
          "M5",
          "M5",
          "M5",
          "M5",
          "M5"
         ],
         "yaxis": "y"
        },
        {
         "alignmentgroup": "True",
         "base": [
          "1970-01-08T19:00:00",
          "1970-01-07T17:00:00",
          "1970-01-09T23:00:00",
          "1970-01-06T14:00:00",
          "1970-01-07T12:00:00"
         ],
         "hovertemplate": "Type=j12<br>Start=%{base}<br>Finish=%{x}<br>Resource=%{y}<br>Rule=%{text}<extra></extra>",
         "legendgroup": "j12",
         "marker": {
          "color": "#00A08B",
          "pattern": {
           "shape": ""
          }
         },
         "name": "j12",
         "offsetgroup": "j12",
         "orientation": "h",
         "showlegend": true,
         "text": [
          "MOR",
          "LOR",
          "MOR",
          "LOR",
          "LOR"
         ],
         "textposition": "auto",
         "type": "bar",
         "x": [
          32400000,
          46800000,
          28800000,
          79200000,
          18000000
         ],
         "xaxis": "x",
         "y": [
          "M5",
          "M3",
          "M3",
          "M1",
          "M1"
         ],
         "yaxis": "y"
        },
        {
         "alignmentgroup": "True",
         "base": [
          "1970-01-01T09:00:00",
          "1970-01-01T21:00:00",
          "1970-01-02T06:00:00",
          "1970-01-03T15:00:00"
         ],
         "hovertemplate": "Type=j3<br>Start=%{base}<br>Finish=%{x}<br>Resource=%{y}<br>Rule=%{text}<extra></extra>",
         "legendgroup": "j3",
         "marker": {
          "color": "#FB00D1",
          "pattern": {
           "shape": ""
          }
         },
         "name": "j3",
         "offsetgroup": "j3",
         "orientation": "h",
         "showlegend": true,
         "text": [
          "LOR",
          "LOR",
          "LOR",
          "LOR"
         ],
         "textposition": "auto",
         "type": "bar",
         "x": [
          43200000,
          32400000,
          25200000,
          46800000
         ],
         "xaxis": "x",
         "y": [
          "M4",
          "M4",
          "M4",
          "M4"
         ],
         "yaxis": "y"
        },
        {
         "alignmentgroup": "True",
         "base": [
          "1970-01-07T05:00:00",
          "1970-01-07T19:00:00",
          "1970-01-08T12:00:00",
          "1970-01-09T08:00:00",
          "1970-01-09T17:00:00",
          "1970-01-10T00:00:00",
          "1970-01-02T19:00:00"
         ],
         "hovertemplate": "Type=j19<br>Start=%{base}<br>Finish=%{x}<br>Resource=%{y}<br>Rule=%{text}<extra></extra>",
         "legendgroup": "j19",
         "marker": {
          "color": "#FC0080",
          "pattern": {
           "shape": ""
          }
         },
         "name": "j19",
         "offsetgroup": "j19",
         "orientation": "h",
         "showlegend": true,
         "text": [
          "LOR",
          "LOR",
          "MOR",
          "MOR",
          "MOR",
          "MOR",
          "LPT"
         ],
         "textposition": "auto",
         "type": "bar",
         "x": [
          50400000,
          61200000,
          72000000,
          32400000,
          25200000,
          64800000,
          82800000
         ],
         "xaxis": "x",
         "y": [
          "M4",
          "M4",
          "M4",
          "M4",
          "M4",
          "M4",
          "M1"
         ],
         "yaxis": "y"
        },
        {
         "alignmentgroup": "True",
         "base": [
          "1970-01-04T04:00:00",
          "1970-01-04T16:00:00",
          "1970-01-05T11:00:00",
          "1970-01-06T11:00:00"
         ],
         "hovertemplate": "Type=j13<br>Start=%{base}<br>Finish=%{x}<br>Resource=%{y}<br>Rule=%{text}<extra></extra>",
         "legendgroup": "j13",
         "marker": {
          "color": "#B2828D",
          "pattern": {
           "shape": ""
          }
         },
         "name": "j13",
         "offsetgroup": "j13",
         "orientation": "h",
         "showlegend": true,
         "text": [
          "LOR",
          "LOR",
          "LOR",
          "LOR"
         ],
         "textposition": "auto",
         "type": "bar",
         "x": [
          43200000,
          68400000,
          86400000,
          64800000
         ],
         "xaxis": "x",
         "y": [
          "M4",
          "M4",
          "M4",
          "M4"
         ],
         "yaxis": "y"
        },
        {
         "alignmentgroup": "True",
         "base": [
          "1970-01-02T11:00:00",
          "1970-01-01T09:00:00",
          "1970-01-02T02:00:00"
         ],
         "hovertemplate": "Type=j15<br>Start=%{base}<br>Finish=%{x}<br>Resource=%{y}<br>Rule=%{text}<extra></extra>",
         "legendgroup": "j15",
         "marker": {
          "color": "#6C7C32",
          "pattern": {
           "shape": ""
          }
         },
         "name": "j15",
         "offsetgroup": "j15",
         "orientation": "h",
         "showlegend": true,
         "text": [
          "LOR",
          "LOR",
          "LOR"
         ],
         "textposition": "auto",
         "type": "bar",
         "x": [
          100800000,
          61200000,
          28800000
         ],
         "xaxis": "x",
         "y": [
          "M3",
          "M2",
          "M2"
         ],
         "yaxis": "y"
        },
        {
         "alignmentgroup": "True",
         "base": [
          "1970-01-03T15:00:00",
          "1970-01-04T17:00:00",
          "1970-01-05T03:00:00",
          "1970-01-05T20:00:00"
         ],
         "hovertemplate": "Type=j14<br>Start=%{base}<br>Finish=%{x}<br>Resource=%{y}<br>Rule=%{text}<extra></extra>",
         "legendgroup": "j14",
         "marker": {
          "color": "#778AAE",
          "pattern": {
           "shape": ""
          }
         },
         "name": "j14",
         "offsetgroup": "j14",
         "orientation": "h",
         "showlegend": true,
         "text": [
          "LPT",
          "LOR",
          "LOR",
          "LOR"
         ],
         "textposition": "auto",
         "type": "bar",
         "x": [
          93600000,
          36000000,
          61200000,
          28800000
         ],
         "xaxis": "x",
         "y": [
          "M3",
          "M3",
          "M2",
          "M2"
         ],
         "yaxis": "y"
        },
        {
         "alignmentgroup": "True",
         "base": [
          "1970-01-01T09:00:00",
          "1970-01-02T03:00:00",
          "1970-01-03T18:00:00",
          "1970-01-04T09:00:00"
         ],
         "hovertemplate": "Type=j1<br>Start=%{base}<br>Finish=%{x}<br>Resource=%{y}<br>Rule=%{text}<extra></extra>",
         "legendgroup": "j1",
         "marker": {
          "color": "#862A16",
          "pattern": {
           "shape": ""
          }
         },
         "name": "j1",
         "offsetgroup": "j1",
         "orientation": "h",
         "showlegend": true,
         "text": [
          "LOR",
          "LOR",
          "LOR",
          "LOR"
         ],
         "textposition": "auto",
         "type": "bar",
         "x": [
          64800000,
          28800000,
          54000000,
          50400000
         ],
         "xaxis": "x",
         "y": [
          "M3",
          "M3",
          "M1",
          "M1"
         ],
         "yaxis": "y"
        },
        {
         "alignmentgroup": "True",
         "base": [
          "1970-01-03T02:00:00",
          "1970-01-01T09:00:00",
          "1970-01-01T20:00:00"
         ],
         "hovertemplate": "Type=j6<br>Start=%{base}<br>Finish=%{x}<br>Resource=%{y}<br>Rule=%{text}<extra></extra>",
         "legendgroup": "j6",
         "marker": {
          "color": "#A777F1",
          "pattern": {
           "shape": ""
          }
         },
         "name": "j6",
         "offsetgroup": "j6",
         "orientation": "h",
         "showlegend": true,
         "text": [
          "LPT",
          "LOR",
          "LOR"
         ],
         "textposition": "auto",
         "type": "bar",
         "x": [
          82800000,
          39600000,
          82800000
         ],
         "xaxis": "x",
         "y": [
          "M2",
          "M1",
          "M1"
         ],
         "yaxis": "y"
        },
        {
         "alignmentgroup": "True",
         "base": [
          "1970-01-06T04:00:00",
          "1970-01-07T00:00:00",
          "1970-01-07T11:00:00",
          "1970-01-04T23:00:00",
          "1970-01-05T17:00:00"
         ],
         "hovertemplate": "Type=j5<br>Start=%{base}<br>Finish=%{x}<br>Resource=%{y}<br>Rule=%{text}<extra></extra>",
         "legendgroup": "j5",
         "marker": {
          "color": "#620042",
          "pattern": {
           "shape": ""
          }
         },
         "name": "j5",
         "offsetgroup": "j5",
         "orientation": "h",
         "showlegend": true,
         "text": [
          "LOR",
          "LOR",
          "LOR",
          "LOR",
          "LOR"
         ],
         "textposition": "auto",
         "type": "bar",
         "x": [
          72000000,
          39600000,
          18000000,
          64800000,
          39600000
         ],
         "xaxis": "x",
         "y": [
          "M2",
          "M2",
          "M2",
          "M1",
          "M1"
         ],
         "yaxis": "y"
        },
        {
         "alignmentgroup": "True",
         "base": [
          "1970-01-07T16:00:00",
          "1970-01-08T10:00:00",
          "1970-01-09T02:00:00",
          "1970-01-10T01:00:00",
          "1970-01-10T19:00:00",
          "1970-01-11T14:00:00",
          "1970-01-12T02:00:00"
         ],
         "hovertemplate": "Type=j2<br>Start=%{base}<br>Finish=%{x}<br>Resource=%{y}<br>Rule=%{text}<extra></extra>",
         "legendgroup": "j2",
         "marker": {
          "color": "#1616A7",
          "pattern": {
           "shape": ""
          }
         },
         "name": "j2",
         "offsetgroup": "j2",
         "orientation": "h",
         "showlegend": true,
         "text": [
          "LOR",
          "MOR",
          "MOR",
          "MOR",
          "MOR",
          "MOR",
          "MOR"
         ],
         "textposition": "auto",
         "type": "bar",
         "x": [
          64800000,
          57600000,
          82800000,
          64800000,
          68400000,
          43200000,
          72000000
         ],
         "xaxis": "x",
         "y": [
          "M2",
          "M2",
          "M2",
          "M2",
          "M2",
          "M2",
          "M2"
         ],
         "yaxis": "y"
        },
        {
         "alignmentgroup": "True",
         "base": [
          "1970-01-08T06:00:00",
          "1970-01-08T15:00:00",
          "1970-01-09T08:00:00",
          "1970-01-09T22:00:00",
          "1970-01-10T04:00:00",
          "1970-01-10T18:00:00",
          "1970-01-11T12:00:00"
         ],
         "hovertemplate": "Type=j7<br>Start=%{base}<br>Finish=%{x}<br>Resource=%{y}<br>Rule=%{text}<extra></extra>",
         "legendgroup": "j7",
         "marker": {
          "color": "#DA60CA",
          "pattern": {
           "shape": ""
          }
         },
         "name": "j7",
         "offsetgroup": "j7",
         "orientation": "h",
         "showlegend": true,
         "text": [
          "MOR",
          "MOR",
          "MOR",
          "MOR",
          "MOR",
          "MOR",
          "MOR"
         ],
         "textposition": "auto",
         "type": "bar",
         "x": [
          32400000,
          61200000,
          50400000,
          21600000,
          50400000,
          64800000,
          61200000
         ],
         "xaxis": "x",
         "y": [
          "M1",
          "M1",
          "M1",
          "M1",
          "M1",
          "M1",
          "M1"
         ],
         "yaxis": "y"
        },
        {
         "alignmentgroup": "True",
         "base": [
          "1970-01-02T08:00:00",
          "1970-01-03T11:00:00",
          "1970-01-06T04:00:00",
          "1970-01-07T20:00:00",
          "1970-01-09T15:00:00",
          "1970-01-10T03:00:00",
          "1970-01-02T14:00:00",
          "1970-01-03T16:00:00",
          "1970-01-04T10:00:00",
          "1970-01-06T08:00:00",
          "1970-01-07T17:00:00",
          "1970-01-08T19:00:00",
          "1970-01-09T04:00:00",
          "1970-01-09T15:00:00",
          "1970-01-02T13:00:00",
          "1970-01-03T15:00:00",
          "1970-01-04T04:00:00",
          "1970-01-07T05:00:00",
          "1970-01-02T11:00:00",
          "1970-01-03T15:00:00",
          "1970-01-05T03:00:00",
          "1970-01-07T01:00:00",
          "1970-01-07T17:00:00",
          "1970-01-08T06:00:00",
          "1970-01-08T19:00:00",
          "1970-01-09T23:00:00",
          "1970-01-10T17:00:00",
          "1970-01-02T10:00:00",
          "1970-01-03T02:00:00",
          "1970-01-04T01:00:00",
          "1970-01-05T03:00:00",
          "1970-01-06T04:00:00",
          "1970-01-07T16:00:00",
          "1970-01-02T19:00:00",
          "1970-01-03T18:00:00",
          "1970-01-04T23:00:00",
          "1970-01-06T04:00:00",
          "1970-01-06T14:00:00",
          "1970-01-07T17:00:00",
          "1970-01-08T06:00:00",
          "1970-01-12T14:00:00"
         ],
         "hovertemplate": "Type=setup<br>Start=%{base}<br>Finish=%{x}<br>Resource=%{y}<br>Rule=%{text}<extra></extra>",
         "legendgroup": "setup",
         "marker": {
          "color": "#6C4516",
          "pattern": {
           "shape": ""
          }
         },
         "name": "setup",
         "offsetgroup": "setup",
         "orientation": "h",
         "showlegend": true,
         "text": "",
         "textposition": "auto",
         "type": "bar",
         "width": 0.7,
         "x": [
          14400000,
          10800000,
          14400000,
          3600000,
          10800000,
          7200000,
          10800000,
          10800000,
          14400000,
          14400000,
          7200000,
          7200000,
          7200000,
          3600000,
          3600000,
          10800000,
          10800000,
          3600000,
          10800000,
          10800000,
          10800000,
          10800000,
          7200000,
          14400000,
          7200000,
          7200000,
          14400000,
          7200000,
          10800000,
          3600000,
          10800000,
          10800000,
          10800000,
          10800000,
          10800000,
          7200000,
          10800000,
          10800000,
          14400000,
          10800000,
          7200000
         ],
         "xaxis": "x",
         "y": [
          "M6",
          "M6",
          "M6",
          "M6",
          "M6",
          "M6",
          "M5",
          "M5",
          "M5",
          "M5",
          "M5",
          "M5",
          "M5",
          "M5",
          "M4",
          "M4",
          "M4",
          "M4",
          "M3",
          "M3",
          "M3",
          "M3",
          "M3",
          "M3",
          "M3",
          "M3",
          "M3",
          "M2",
          "M2",
          "M2",
          "M2",
          "M2",
          "M2",
          "M1",
          "M1",
          "M1",
          "M1",
          "M1",
          "M1",
          "M1",
          "M1"
         ],
         "yaxis": "y"
        }
       ],
       "layout": {
        "barmode": "overlay",
        "height": 800,
        "legend": {
         "title": {
          "text": "Type"
         },
         "tracegroupgap": 0
        },
        "margin": {
         "t": 60
        },
        "template": {
         "data": {
          "bar": [
           {
            "error_x": {
             "color": "rgb(36,36,36)"
            },
            "error_y": {
             "color": "rgb(36,36,36)"
            },
            "marker": {
             "line": {
              "color": "white",
              "width": 0.5
             },
             "pattern": {
              "fillmode": "overlay",
              "size": 10,
              "solidity": 0.2
             }
            },
            "type": "bar"
           }
          ],
          "barpolar": [
           {
            "marker": {
             "line": {
              "color": "white",
              "width": 0.5
             },
             "pattern": {
              "fillmode": "overlay",
              "size": 10,
              "solidity": 0.2
             }
            },
            "type": "barpolar"
           }
          ],
          "carpet": [
           {
            "aaxis": {
             "endlinecolor": "rgb(36,36,36)",
             "gridcolor": "white",
             "linecolor": "white",
             "minorgridcolor": "white",
             "startlinecolor": "rgb(36,36,36)"
            },
            "baxis": {
             "endlinecolor": "rgb(36,36,36)",
             "gridcolor": "white",
             "linecolor": "white",
             "minorgridcolor": "white",
             "startlinecolor": "rgb(36,36,36)"
            },
            "type": "carpet"
           }
          ],
          "choropleth": [
           {
            "colorbar": {
             "outlinewidth": 1,
             "tickcolor": "rgb(36,36,36)",
             "ticks": "outside"
            },
            "type": "choropleth"
           }
          ],
          "contour": [
           {
            "colorbar": {
             "outlinewidth": 1,
             "tickcolor": "rgb(36,36,36)",
             "ticks": "outside"
            },
            "colorscale": [
             [
              0,
              "#440154"
             ],
             [
              0.1111111111111111,
              "#482878"
             ],
             [
              0.2222222222222222,
              "#3e4989"
             ],
             [
              0.3333333333333333,
              "#31688e"
             ],
             [
              0.4444444444444444,
              "#26828e"
             ],
             [
              0.5555555555555556,
              "#1f9e89"
             ],
             [
              0.6666666666666666,
              "#35b779"
             ],
             [
              0.7777777777777778,
              "#6ece58"
             ],
             [
              0.8888888888888888,
              "#b5de2b"
             ],
             [
              1,
              "#fde725"
             ]
            ],
            "type": "contour"
           }
          ],
          "contourcarpet": [
           {
            "colorbar": {
             "outlinewidth": 1,
             "tickcolor": "rgb(36,36,36)",
             "ticks": "outside"
            },
            "type": "contourcarpet"
           }
          ],
          "heatmap": [
           {
            "colorbar": {
             "outlinewidth": 1,
             "tickcolor": "rgb(36,36,36)",
             "ticks": "outside"
            },
            "colorscale": [
             [
              0,
              "#440154"
             ],
             [
              0.1111111111111111,
              "#482878"
             ],
             [
              0.2222222222222222,
              "#3e4989"
             ],
             [
              0.3333333333333333,
              "#31688e"
             ],
             [
              0.4444444444444444,
              "#26828e"
             ],
             [
              0.5555555555555556,
              "#1f9e89"
             ],
             [
              0.6666666666666666,
              "#35b779"
             ],
             [
              0.7777777777777778,
              "#6ece58"
             ],
             [
              0.8888888888888888,
              "#b5de2b"
             ],
             [
              1,
              "#fde725"
             ]
            ],
            "type": "heatmap"
           }
          ],
          "heatmapgl": [
           {
            "colorbar": {
             "outlinewidth": 1,
             "tickcolor": "rgb(36,36,36)",
             "ticks": "outside"
            },
            "colorscale": [
             [
              0,
              "#440154"
             ],
             [
              0.1111111111111111,
              "#482878"
             ],
             [
              0.2222222222222222,
              "#3e4989"
             ],
             [
              0.3333333333333333,
              "#31688e"
             ],
             [
              0.4444444444444444,
              "#26828e"
             ],
             [
              0.5555555555555556,
              "#1f9e89"
             ],
             [
              0.6666666666666666,
              "#35b779"
             ],
             [
              0.7777777777777778,
              "#6ece58"
             ],
             [
              0.8888888888888888,
              "#b5de2b"
             ],
             [
              1,
              "#fde725"
             ]
            ],
            "type": "heatmapgl"
           }
          ],
          "histogram": [
           {
            "marker": {
             "line": {
              "color": "white",
              "width": 0.6
             }
            },
            "type": "histogram"
           }
          ],
          "histogram2d": [
           {
            "colorbar": {
             "outlinewidth": 1,
             "tickcolor": "rgb(36,36,36)",
             "ticks": "outside"
            },
            "colorscale": [
             [
              0,
              "#440154"
             ],
             [
              0.1111111111111111,
              "#482878"
             ],
             [
              0.2222222222222222,
              "#3e4989"
             ],
             [
              0.3333333333333333,
              "#31688e"
             ],
             [
              0.4444444444444444,
              "#26828e"
             ],
             [
              0.5555555555555556,
              "#1f9e89"
             ],
             [
              0.6666666666666666,
              "#35b779"
             ],
             [
              0.7777777777777778,
              "#6ece58"
             ],
             [
              0.8888888888888888,
              "#b5de2b"
             ],
             [
              1,
              "#fde725"
             ]
            ],
            "type": "histogram2d"
           }
          ],
          "histogram2dcontour": [
           {
            "colorbar": {
             "outlinewidth": 1,
             "tickcolor": "rgb(36,36,36)",
             "ticks": "outside"
            },
            "colorscale": [
             [
              0,
              "#440154"
             ],
             [
              0.1111111111111111,
              "#482878"
             ],
             [
              0.2222222222222222,
              "#3e4989"
             ],
             [
              0.3333333333333333,
              "#31688e"
             ],
             [
              0.4444444444444444,
              "#26828e"
             ],
             [
              0.5555555555555556,
              "#1f9e89"
             ],
             [
              0.6666666666666666,
              "#35b779"
             ],
             [
              0.7777777777777778,
              "#6ece58"
             ],
             [
              0.8888888888888888,
              "#b5de2b"
             ],
             [
              1,
              "#fde725"
             ]
            ],
            "type": "histogram2dcontour"
           }
          ],
          "mesh3d": [
           {
            "colorbar": {
             "outlinewidth": 1,
             "tickcolor": "rgb(36,36,36)",
             "ticks": "outside"
            },
            "type": "mesh3d"
           }
          ],
          "parcoords": [
           {
            "line": {
             "colorbar": {
              "outlinewidth": 1,
              "tickcolor": "rgb(36,36,36)",
              "ticks": "outside"
             }
            },
            "type": "parcoords"
           }
          ],
          "pie": [
           {
            "automargin": true,
            "type": "pie"
           }
          ],
          "scatter": [
           {
            "fillpattern": {
             "fillmode": "overlay",
             "size": 10,
             "solidity": 0.2
            },
            "type": "scatter"
           }
          ],
          "scatter3d": [
           {
            "line": {
             "colorbar": {
              "outlinewidth": 1,
              "tickcolor": "rgb(36,36,36)",
              "ticks": "outside"
             }
            },
            "marker": {
             "colorbar": {
              "outlinewidth": 1,
              "tickcolor": "rgb(36,36,36)",
              "ticks": "outside"
             }
            },
            "type": "scatter3d"
           }
          ],
          "scattercarpet": [
           {
            "marker": {
             "colorbar": {
              "outlinewidth": 1,
              "tickcolor": "rgb(36,36,36)",
              "ticks": "outside"
             }
            },
            "type": "scattercarpet"
           }
          ],
          "scattergeo": [
           {
            "marker": {
             "colorbar": {
              "outlinewidth": 1,
              "tickcolor": "rgb(36,36,36)",
              "ticks": "outside"
             }
            },
            "type": "scattergeo"
           }
          ],
          "scattergl": [
           {
            "marker": {
             "colorbar": {
              "outlinewidth": 1,
              "tickcolor": "rgb(36,36,36)",
              "ticks": "outside"
             }
            },
            "type": "scattergl"
           }
          ],
          "scattermapbox": [
           {
            "marker": {
             "colorbar": {
              "outlinewidth": 1,
              "tickcolor": "rgb(36,36,36)",
              "ticks": "outside"
             }
            },
            "type": "scattermapbox"
           }
          ],
          "scatterpolar": [
           {
            "marker": {
             "colorbar": {
              "outlinewidth": 1,
              "tickcolor": "rgb(36,36,36)",
              "ticks": "outside"
             }
            },
            "type": "scatterpolar"
           }
          ],
          "scatterpolargl": [
           {
            "marker": {
             "colorbar": {
              "outlinewidth": 1,
              "tickcolor": "rgb(36,36,36)",
              "ticks": "outside"
             }
            },
            "type": "scatterpolargl"
           }
          ],
          "scatterternary": [
           {
            "marker": {
             "colorbar": {
              "outlinewidth": 1,
              "tickcolor": "rgb(36,36,36)",
              "ticks": "outside"
             }
            },
            "type": "scatterternary"
           }
          ],
          "surface": [
           {
            "colorbar": {
             "outlinewidth": 1,
             "tickcolor": "rgb(36,36,36)",
             "ticks": "outside"
            },
            "colorscale": [
             [
              0,
              "#440154"
             ],
             [
              0.1111111111111111,
              "#482878"
             ],
             [
              0.2222222222222222,
              "#3e4989"
             ],
             [
              0.3333333333333333,
              "#31688e"
             ],
             [
              0.4444444444444444,
              "#26828e"
             ],
             [
              0.5555555555555556,
              "#1f9e89"
             ],
             [
              0.6666666666666666,
              "#35b779"
             ],
             [
              0.7777777777777778,
              "#6ece58"
             ],
             [
              0.8888888888888888,
              "#b5de2b"
             ],
             [
              1,
              "#fde725"
             ]
            ],
            "type": "surface"
           }
          ],
          "table": [
           {
            "cells": {
             "fill": {
              "color": "rgb(237,237,237)"
             },
             "line": {
              "color": "white"
             }
            },
            "header": {
             "fill": {
              "color": "rgb(217,217,217)"
             },
             "line": {
              "color": "white"
             }
            },
            "type": "table"
           }
          ]
         },
         "layout": {
          "annotationdefaults": {
           "arrowhead": 0,
           "arrowwidth": 1
          },
          "autotypenumbers": "strict",
          "coloraxis": {
           "colorbar": {
            "outlinewidth": 1,
            "tickcolor": "rgb(36,36,36)",
            "ticks": "outside"
           }
          },
          "colorscale": {
           "diverging": [
            [
             0,
             "rgb(103,0,31)"
            ],
            [
             0.1,
             "rgb(178,24,43)"
            ],
            [
             0.2,
             "rgb(214,96,77)"
            ],
            [
             0.3,
             "rgb(244,165,130)"
            ],
            [
             0.4,
             "rgb(253,219,199)"
            ],
            [
             0.5,
             "rgb(247,247,247)"
            ],
            [
             0.6,
             "rgb(209,229,240)"
            ],
            [
             0.7,
             "rgb(146,197,222)"
            ],
            [
             0.8,
             "rgb(67,147,195)"
            ],
            [
             0.9,
             "rgb(33,102,172)"
            ],
            [
             1,
             "rgb(5,48,97)"
            ]
           ],
           "sequential": [
            [
             0,
             "#440154"
            ],
            [
             0.1111111111111111,
             "#482878"
            ],
            [
             0.2222222222222222,
             "#3e4989"
            ],
            [
             0.3333333333333333,
             "#31688e"
            ],
            [
             0.4444444444444444,
             "#26828e"
            ],
            [
             0.5555555555555556,
             "#1f9e89"
            ],
            [
             0.6666666666666666,
             "#35b779"
            ],
            [
             0.7777777777777778,
             "#6ece58"
            ],
            [
             0.8888888888888888,
             "#b5de2b"
            ],
            [
             1,
             "#fde725"
            ]
           ],
           "sequentialminus": [
            [
             0,
             "#440154"
            ],
            [
             0.1111111111111111,
             "#482878"
            ],
            [
             0.2222222222222222,
             "#3e4989"
            ],
            [
             0.3333333333333333,
             "#31688e"
            ],
            [
             0.4444444444444444,
             "#26828e"
            ],
            [
             0.5555555555555556,
             "#1f9e89"
            ],
            [
             0.6666666666666666,
             "#35b779"
            ],
            [
             0.7777777777777778,
             "#6ece58"
            ],
            [
             0.8888888888888888,
             "#b5de2b"
            ],
            [
             1,
             "#fde725"
            ]
           ]
          },
          "colorway": [
           "#1F77B4",
           "#FF7F0E",
           "#2CA02C",
           "#D62728",
           "#9467BD",
           "#8C564B",
           "#E377C2",
           "#7F7F7F",
           "#BCBD22",
           "#17BECF"
          ],
          "font": {
           "color": "rgb(36,36,36)"
          },
          "geo": {
           "bgcolor": "white",
           "lakecolor": "white",
           "landcolor": "white",
           "showlakes": true,
           "showland": true,
           "subunitcolor": "white"
          },
          "hoverlabel": {
           "align": "left"
          },
          "hovermode": "closest",
          "mapbox": {
           "style": "light"
          },
          "paper_bgcolor": "white",
          "plot_bgcolor": "white",
          "polar": {
           "angularaxis": {
            "gridcolor": "rgb(232,232,232)",
            "linecolor": "rgb(36,36,36)",
            "showgrid": false,
            "showline": true,
            "ticks": "outside"
           },
           "bgcolor": "white",
           "radialaxis": {
            "gridcolor": "rgb(232,232,232)",
            "linecolor": "rgb(36,36,36)",
            "showgrid": false,
            "showline": true,
            "ticks": "outside"
           }
          },
          "scene": {
           "xaxis": {
            "backgroundcolor": "white",
            "gridcolor": "rgb(232,232,232)",
            "gridwidth": 2,
            "linecolor": "rgb(36,36,36)",
            "showbackground": true,
            "showgrid": false,
            "showline": true,
            "ticks": "outside",
            "zeroline": false,
            "zerolinecolor": "rgb(36,36,36)"
           },
           "yaxis": {
            "backgroundcolor": "white",
            "gridcolor": "rgb(232,232,232)",
            "gridwidth": 2,
            "linecolor": "rgb(36,36,36)",
            "showbackground": true,
            "showgrid": false,
            "showline": true,
            "ticks": "outside",
            "zeroline": false,
            "zerolinecolor": "rgb(36,36,36)"
           },
           "zaxis": {
            "backgroundcolor": "white",
            "gridcolor": "rgb(232,232,232)",
            "gridwidth": 2,
            "linecolor": "rgb(36,36,36)",
            "showbackground": true,
            "showgrid": false,
            "showline": true,
            "ticks": "outside",
            "zeroline": false,
            "zerolinecolor": "rgb(36,36,36)"
           }
          },
          "shapedefaults": {
           "fillcolor": "black",
           "line": {
            "width": 0
           },
           "opacity": 0.3
          },
          "ternary": {
           "aaxis": {
            "gridcolor": "rgb(232,232,232)",
            "linecolor": "rgb(36,36,36)",
            "showgrid": false,
            "showline": true,
            "ticks": "outside"
           },
           "baxis": {
            "gridcolor": "rgb(232,232,232)",
            "linecolor": "rgb(36,36,36)",
            "showgrid": false,
            "showline": true,
            "ticks": "outside"
           },
           "bgcolor": "white",
           "caxis": {
            "gridcolor": "rgb(232,232,232)",
            "linecolor": "rgb(36,36,36)",
            "showgrid": false,
            "showline": true,
            "ticks": "outside"
           }
          },
          "title": {
           "x": 0.05
          },
          "xaxis": {
           "automargin": true,
           "gridcolor": "rgb(232,232,232)",
           "linecolor": "rgb(36,36,36)",
           "showgrid": false,
           "showline": true,
           "ticks": "outside",
           "title": {
            "standoff": 15
           },
           "zeroline": false,
           "zerolinecolor": "rgb(36,36,36)"
          },
          "yaxis": {
           "automargin": true,
           "gridcolor": "rgb(232,232,232)",
           "linecolor": "rgb(36,36,36)",
           "showgrid": false,
           "showline": true,
           "ticks": "outside",
           "title": {
            "standoff": 15
           },
           "zeroline": false,
           "zerolinecolor": "rgb(36,36,36)"
          }
         }
        },
        "width": 2000,
        "xaxis": {
         "anchor": "y",
         "domain": [
          0,
          1
         ],
         "type": "date"
        },
        "yaxis": {
         "anchor": "x",
         "domain": [
          0,
          1
         ],
         "title": {
          "text": "Resource"
         }
        }
       }
      },
      "text/html": [
       "<div>                            <div id=\"f33a1944-eae8-42b6-82d1-bef01e69e2bd\" class=\"plotly-graph-div\" style=\"height:800px; width:2000px;\"></div>            <script type=\"text/javascript\">                require([\"plotly\"], function(Plotly) {                    window.PLOTLYENV=window.PLOTLYENV || {};                                    if (document.getElementById(\"f33a1944-eae8-42b6-82d1-bef01e69e2bd\")) {                    Plotly.newPlot(                        \"f33a1944-eae8-42b6-82d1-bef01e69e2bd\",                        [{\"alignmentgroup\":\"True\",\"base\":[\"1970-01-06T04:00:00\",\"1970-01-06T17:00:00\",\"1970-01-07T03:00:00\",\"1970-01-07T11:00:00\",\"1970-01-09T04:00:00\"],\"hovertemplate\":\"Type=j9<br>Start=%{base}<br>Finish=%{x}<br>Resource=%{y}<br>Rule=%{text}<extra></extra>\",\"legendgroup\":\"j9\",\"marker\":{\"color\":\"#2E91E5\",\"pattern\":{\"shape\":\"\"}},\"name\":\"j9\",\"offsetgroup\":\"j9\",\"orientation\":\"h\",\"showlegend\":true,\"text\":[\"LOR\",\"LOR\",\"LOR\",\"LOR\",\"MOR\"],\"textposition\":\"auto\",\"x\":[46800000.0,36000000.0,28800000.0,32400000.0,39600000.0],\"xaxis\":\"x\",\"y\":[\"M6\",\"M6\",\"M6\",\"M6\",\"M5\"],\"yaxis\":\"y\",\"type\":\"bar\"},{\"alignmentgroup\":\"True\",\"base\":[\"1970-01-10T03:00:00\",\"1970-01-07T17:00:00\",\"1970-01-02T13:00:00\",\"1970-01-07T01:00:00\",\"1970-01-08T19:00:00\",\"1970-01-09T11:00:00\"],\"hovertemplate\":\"Type=j20<br>Start=%{base}<br>Finish=%{x}<br>Resource=%{y}<br>Rule=%{text}<extra></extra>\",\"legendgroup\":\"j20\",\"marker\":{\"color\":\"#E15F99\",\"pattern\":{\"shape\":\"\"}},\"name\":\"j20\",\"offsetgroup\":\"j20\",\"orientation\":\"h\",\"showlegend\":true,\"text\":[\"MOR\",\"LOR\",\"LPT\",\"LOR\",\"MOR\",\"MOR\"],\"textposition\":\"auto\",\"x\":[32400000.0,93600000.0,93600000.0,57600000.0,57600000.0,43200000.0],\"xaxis\":\"x\",\"y\":[\"M6\",\"M5\",\"M4\",\"M3\",\"M3\",\"M3\"],\"yaxis\":\"y\",\"type\":\"bar\"},{\"alignmentgroup\":\"True\",\"base\":[\"1970-01-03T11:00:00\",\"1970-01-04T12:00:00\",\"1970-01-04T22:00:00\",\"1970-01-05T11:00:00\",\"1970-01-06T04:00:00\"],\"hovertemplate\":\"Type=j18<br>Start=%{base}<br>Finish=%{x}<br>Resource=%{y}<br>Rule=%{text}<extra></extra>\",\"legendgroup\":\"j18\",\"marker\":{\"color\":\"#1CA71C\",\"pattern\":{\"shape\":\"\"}},\"name\":\"j18\",\"offsetgroup\":\"j18\",\"orientation\":\"h\",\"showlegend\":true,\"text\":[\"LPT\",\"LOR\",\"LOR\",\"LOR\",\"LOR\"],\"textposition\":\"auto\",\"x\":[90000000.0,36000000.0,46800000.0,61200000.0,36000000.0],\"xaxis\":\"x\",\"y\":[\"M6\",\"M6\",\"M6\",\"M6\",\"M1\"],\"yaxis\":\"y\",\"type\":\"bar\"},{\"alignmentgroup\":\"True\",\"base\":[\"1970-01-02T08:00:00\",\"1970-01-05T03:00:00\",\"1970-01-06T00:00:00\",\"1970-01-04T01:00:00\"],\"hovertemplate\":\"Type=j17<br>Start=%{base}<br>Finish=%{x}<br>Resource=%{y}<br>Rule=%{text}<extra></extra>\",\"legendgroup\":\"j17\",\"marker\":{\"color\":\"#FB0D0D\",\"pattern\":{\"shape\":\"\"}},\"name\":\"j17\",\"offsetgroup\":\"j17\",\"orientation\":\"h\",\"showlegend\":true,\"text\":[\"LPT\",\"LOR\",\"LOR\",\"LOR\"],\"textposition\":\"auto\",\"x\":[97200000.0,75600000.0,90000000.0,93600000.0],\"xaxis\":\"x\",\"y\":[\"M6\",\"M3\",\"M3\",\"M2\"],\"yaxis\":\"y\",\"type\":\"bar\"},{\"alignmentgroup\":\"True\",\"base\":[\"1970-01-07T20:00:00\",\"1970-01-08T09:00:00\",\"1970-01-08T22:00:00\",\"1970-01-09T15:00:00\",\"1970-01-10T03:00:00\",\"1970-01-10T17:00:00\",\"1970-01-11T15:00:00\",\"1970-01-12T14:00:00\"],\"hovertemplate\":\"Type=j16<br>Start=%{base}<br>Finish=%{x}<br>Resource=%{y}<br>Rule=%{text}<extra></extra>\",\"legendgroup\":\"j16\",\"marker\":{\"color\":\"#DA16FF\",\"pattern\":{\"shape\":\"\"}},\"name\":\"j16\",\"offsetgroup\":\"j16\",\"orientation\":\"h\",\"showlegend\":true,\"text\":[\"MOR\",\"MOR\",\"MOR\",\"MOR\",\"MOR\",\"MOR\",\"MOR\",\"MOR\"],\"textposition\":\"auto\",\"x\":[46800000.0,46800000.0,61200000.0,43200000.0,50400000.0,79200000.0,82800000.0,25200000.0],\"xaxis\":\"x\",\"y\":[\"M6\",\"M6\",\"M6\",\"M5\",\"M5\",\"M3\",\"M3\",\"M1\"],\"yaxis\":\"y\",\"type\":\"bar\"},{\"alignmentgroup\":\"True\",\"base\":[\"1970-01-09T15:00:00\",\"1970-01-02T14:00:00\",\"1970-01-06T08:00:00\",\"1970-01-07T06:00:00\",\"1970-01-08T06:00:00\",\"1970-01-07T17:00:00\"],\"hovertemplate\":\"Type=j11<br>Start=%{base}<br>Finish=%{x}<br>Resource=%{y}<br>Rule=%{text}<extra></extra>\",\"legendgroup\":\"j11\",\"marker\":{\"color\":\"#222A2A\",\"pattern\":{\"shape\":\"\"}},\"name\":\"j11\",\"offsetgroup\":\"j11\",\"orientation\":\"h\",\"showlegend\":true,\"text\":[\"MOR\",\"LPT\",\"LOR\",\"LOR\",\"MOR\",\"LOR\"],\"textposition\":\"auto\",\"x\":[43200000.0,93600000.0,79200000.0,39600000.0,46800000.0,46800000.0],\"xaxis\":\"x\",\"y\":[\"M6\",\"M5\",\"M5\",\"M5\",\"M3\",\"M1\"],\"yaxis\":\"y\",\"type\":\"bar\"},{\"alignmentgroup\":\"True\",\"base\":[\"1970-01-01T09:00:00\",\"1970-01-01T14:00:00\",\"1970-01-02T01:00:00\",\"1970-01-02T10:00:00\"],\"hovertemplate\":\"Type=j10<br>Start=%{base}<br>Finish=%{x}<br>Resource=%{y}<br>Rule=%{text}<extra></extra>\",\"legendgroup\":\"j10\",\"marker\":{\"color\":\"#B68100\",\"pattern\":{\"shape\":\"\"}},\"name\":\"j10\",\"offsetgroup\":\"j10\",\"orientation\":\"h\",\"showlegend\":true,\"text\":[\"LOR\",\"LOR\",\"LOR\",\"LOR\"],\"textposition\":\"auto\",\"x\":[18000000.0,39600000.0,25200000.0,57600000.0],\"xaxis\":\"x\",\"y\":[\"M6\",\"M6\",\"M6\",\"M2\"],\"yaxis\":\"y\",\"type\":\"bar\"},{\"alignmentgroup\":\"True\",\"base\":[\"1970-01-10T12:00:00\",\"1970-01-10T17:00:00\",\"1970-01-10T18:00:00\",\"1970-01-10T19:00:00\",\"1970-01-10T21:00:00\",\"1970-01-11T12:00:00\",\"1970-01-11T14:00:00\",\"1970-01-11T15:00:00\",\"1970-01-12T02:00:00\",\"1970-01-12T05:00:00\",\"1970-01-12T14:00:00\",\"1970-01-12T16:00:00\",\"1970-01-12T21:00:00\",\"1970-01-10T17:00:00\",\"1970-01-10T18:00:00\",\"1970-01-10T19:00:00\",\"1970-01-10T21:00:00\",\"1970-01-11T12:00:00\",\"1970-01-11T14:00:00\",\"1970-01-11T15:00:00\",\"1970-01-12T02:00:00\",\"1970-01-12T05:00:00\",\"1970-01-12T14:00:00\",\"1970-01-12T16:00:00\",\"1970-01-12T21:00:00\",\"1970-01-10T18:00:00\",\"1970-01-10T19:00:00\",\"1970-01-10T21:00:00\",\"1970-01-11T12:00:00\",\"1970-01-11T14:00:00\",\"1970-01-11T15:00:00\",\"1970-01-12T02:00:00\",\"1970-01-12T05:00:00\",\"1970-01-12T14:00:00\",\"1970-01-12T16:00:00\",\"1970-01-12T21:00:00\",\"1970-01-10T07:00:00\",\"1970-01-10T12:00:00\",\"1970-01-12T14:00:00\",\"1970-01-12T16:00:00\",\"1970-01-12T21:00:00\",\"1970-01-12T05:00:00\",\"1970-01-12T21:00:00\"],\"hovertemplate\":\"Type=delay_machine<br>Start=%{base}<br>Finish=%{x}<br>Resource=%{y}<br>Rule=%{text}<extra></extra>\",\"legendgroup\":\"delay_machine\",\"marker\":{\"color\":\"#750D86\",\"pattern\":{\"shape\":\"\"}},\"name\":\"delay_machine\",\"offsetgroup\":\"delay_machine\",\"orientation\":\"h\",\"showlegend\":true,\"text\":[\"DDA\",\"DDA\",\"DDA\",\"DDA\",\"DDA\",\"DDA\",\"DDA\",\"DDA\",\"DDA\",\"DDA\",\"DDA\",\"DDA\",\"DDA\",\"DDA\",\"DDA\",\"DDA\",\"DDA\",\"DDA\",\"DDA\",\"DDA\",\"DDA\",\"DDA\",\"DDA\",\"DDA\",\"DDA\",\"DDA\",\"DDA\",\"DDA\",\"DDA\",\"DDA\",\"DDA\",\"DDA\",\"DDA\",\"DDA\",\"DDA\",\"DDA\",\"DDA\",\"DDA\",\"DDA\",\"DDA\",\"DDA\",\"DDA\",\"DDA\"],\"textposition\":\"auto\",\"x\":[18000000.0,3600000.0,3600000.0,7200000.0,54000000.0,7200000.0,3600000.0,39600000.0,10800000.0,32400000.0,7200000.0,18000000.0,3600000.0,3600000.0,3600000.0,7200000.0,54000000.0,7200000.0,3600000.0,39600000.0,10800000.0,32400000.0,7200000.0,18000000.0,3600000.0,3600000.0,7200000.0,54000000.0,7200000.0,3600000.0,39600000.0,10800000.0,32400000.0,7200000.0,18000000.0,3600000.0,18000000.0,18000000.0,7200000.0,18000000.0,3600000.0,32400000.0,3600000.0],\"xaxis\":\"x\",\"y\":[\"M6\",\"M6\",\"M6\",\"M6\",\"M6\",\"M6\",\"M6\",\"M6\",\"M6\",\"M6\",\"M6\",\"M6\",\"M6\",\"M5\",\"M5\",\"M5\",\"M5\",\"M5\",\"M5\",\"M5\",\"M5\",\"M5\",\"M5\",\"M5\",\"M5\",\"M4\",\"M4\",\"M4\",\"M4\",\"M4\",\"M4\",\"M4\",\"M4\",\"M4\",\"M4\",\"M4\",\"M3\",\"M3\",\"M3\",\"M3\",\"M3\",\"M1\",\"M1\"],\"yaxis\":\"y\",\"type\":\"bar\"},{\"alignmentgroup\":\"True\",\"base\":[\"1970-01-01T09:00:00\",\"1970-01-01T15:00:00\",\"1970-01-01T20:00:00\",\"1970-01-03T16:00:00\"],\"hovertemplate\":\"Type=j8<br>Start=%{base}<br>Finish=%{x}<br>Resource=%{y}<br>Rule=%{text}<extra></extra>\",\"legendgroup\":\"j8\",\"marker\":{\"color\":\"#EB663B\",\"pattern\":{\"shape\":\"\"}},\"name\":\"j8\",\"offsetgroup\":\"j8\",\"orientation\":\"h\",\"showlegend\":true,\"text\":[\"LOR\",\"LOR\",\"LOR\",\"LOR\"],\"textposition\":\"auto\",\"x\":[21600000.0,18000000.0,64800000.0,64800000.0],\"xaxis\":\"x\",\"y\":[\"M5\",\"M5\",\"M5\",\"M5\"],\"yaxis\":\"y\",\"type\":\"bar\"},{\"alignmentgroup\":\"True\",\"base\":[\"1970-01-04T10:00:00\",\"1970-01-04T18:00:00\",\"1970-01-05T01:00:00\",\"1970-01-05T06:00:00\",\"1970-01-05T15:00:00\"],\"hovertemplate\":\"Type=j4<br>Start=%{base}<br>Finish=%{x}<br>Resource=%{y}<br>Rule=%{text}<extra></extra>\",\"legendgroup\":\"j4\",\"marker\":{\"color\":\"#511CFB\",\"pattern\":{\"shape\":\"\"}},\"name\":\"j4\",\"offsetgroup\":\"j4\",\"orientation\":\"h\",\"showlegend\":true,\"text\":[\"LOR\",\"LOR\",\"LOR\",\"LOR\",\"LOR\"],\"textposition\":\"auto\",\"x\":[28800000.0,25200000.0,18000000.0,32400000.0,61200000.0],\"xaxis\":\"x\",\"y\":[\"M5\",\"M5\",\"M5\",\"M5\",\"M5\"],\"yaxis\":\"y\",\"type\":\"bar\"},{\"alignmentgroup\":\"True\",\"base\":[\"1970-01-08T19:00:00\",\"1970-01-07T17:00:00\",\"1970-01-09T23:00:00\",\"1970-01-06T14:00:00\",\"1970-01-07T12:00:00\"],\"hovertemplate\":\"Type=j12<br>Start=%{base}<br>Finish=%{x}<br>Resource=%{y}<br>Rule=%{text}<extra></extra>\",\"legendgroup\":\"j12\",\"marker\":{\"color\":\"#00A08B\",\"pattern\":{\"shape\":\"\"}},\"name\":\"j12\",\"offsetgroup\":\"j12\",\"orientation\":\"h\",\"showlegend\":true,\"text\":[\"MOR\",\"LOR\",\"MOR\",\"LOR\",\"LOR\"],\"textposition\":\"auto\",\"x\":[32400000.0,46800000.0,28800000.0,79200000.0,18000000.0],\"xaxis\":\"x\",\"y\":[\"M5\",\"M3\",\"M3\",\"M1\",\"M1\"],\"yaxis\":\"y\",\"type\":\"bar\"},{\"alignmentgroup\":\"True\",\"base\":[\"1970-01-01T09:00:00\",\"1970-01-01T21:00:00\",\"1970-01-02T06:00:00\",\"1970-01-03T15:00:00\"],\"hovertemplate\":\"Type=j3<br>Start=%{base}<br>Finish=%{x}<br>Resource=%{y}<br>Rule=%{text}<extra></extra>\",\"legendgroup\":\"j3\",\"marker\":{\"color\":\"#FB00D1\",\"pattern\":{\"shape\":\"\"}},\"name\":\"j3\",\"offsetgroup\":\"j3\",\"orientation\":\"h\",\"showlegend\":true,\"text\":[\"LOR\",\"LOR\",\"LOR\",\"LOR\"],\"textposition\":\"auto\",\"x\":[43200000.0,32400000.0,25200000.0,46800000.0],\"xaxis\":\"x\",\"y\":[\"M4\",\"M4\",\"M4\",\"M4\"],\"yaxis\":\"y\",\"type\":\"bar\"},{\"alignmentgroup\":\"True\",\"base\":[\"1970-01-07T05:00:00\",\"1970-01-07T19:00:00\",\"1970-01-08T12:00:00\",\"1970-01-09T08:00:00\",\"1970-01-09T17:00:00\",\"1970-01-10T00:00:00\",\"1970-01-02T19:00:00\"],\"hovertemplate\":\"Type=j19<br>Start=%{base}<br>Finish=%{x}<br>Resource=%{y}<br>Rule=%{text}<extra></extra>\",\"legendgroup\":\"j19\",\"marker\":{\"color\":\"#FC0080\",\"pattern\":{\"shape\":\"\"}},\"name\":\"j19\",\"offsetgroup\":\"j19\",\"orientation\":\"h\",\"showlegend\":true,\"text\":[\"LOR\",\"LOR\",\"MOR\",\"MOR\",\"MOR\",\"MOR\",\"LPT\"],\"textposition\":\"auto\",\"x\":[50400000.0,61200000.0,72000000.0,32400000.0,25200000.0,64800000.0,82800000.0],\"xaxis\":\"x\",\"y\":[\"M4\",\"M4\",\"M4\",\"M4\",\"M4\",\"M4\",\"M1\"],\"yaxis\":\"y\",\"type\":\"bar\"},{\"alignmentgroup\":\"True\",\"base\":[\"1970-01-04T04:00:00\",\"1970-01-04T16:00:00\",\"1970-01-05T11:00:00\",\"1970-01-06T11:00:00\"],\"hovertemplate\":\"Type=j13<br>Start=%{base}<br>Finish=%{x}<br>Resource=%{y}<br>Rule=%{text}<extra></extra>\",\"legendgroup\":\"j13\",\"marker\":{\"color\":\"#B2828D\",\"pattern\":{\"shape\":\"\"}},\"name\":\"j13\",\"offsetgroup\":\"j13\",\"orientation\":\"h\",\"showlegend\":true,\"text\":[\"LOR\",\"LOR\",\"LOR\",\"LOR\"],\"textposition\":\"auto\",\"x\":[43200000.0,68400000.0,86400000.0,64800000.0],\"xaxis\":\"x\",\"y\":[\"M4\",\"M4\",\"M4\",\"M4\"],\"yaxis\":\"y\",\"type\":\"bar\"},{\"alignmentgroup\":\"True\",\"base\":[\"1970-01-02T11:00:00\",\"1970-01-01T09:00:00\",\"1970-01-02T02:00:00\"],\"hovertemplate\":\"Type=j15<br>Start=%{base}<br>Finish=%{x}<br>Resource=%{y}<br>Rule=%{text}<extra></extra>\",\"legendgroup\":\"j15\",\"marker\":{\"color\":\"#6C7C32\",\"pattern\":{\"shape\":\"\"}},\"name\":\"j15\",\"offsetgroup\":\"j15\",\"orientation\":\"h\",\"showlegend\":true,\"text\":[\"LOR\",\"LOR\",\"LOR\"],\"textposition\":\"auto\",\"x\":[100800000.0,61200000.0,28800000.0],\"xaxis\":\"x\",\"y\":[\"M3\",\"M2\",\"M2\"],\"yaxis\":\"y\",\"type\":\"bar\"},{\"alignmentgroup\":\"True\",\"base\":[\"1970-01-03T15:00:00\",\"1970-01-04T17:00:00\",\"1970-01-05T03:00:00\",\"1970-01-05T20:00:00\"],\"hovertemplate\":\"Type=j14<br>Start=%{base}<br>Finish=%{x}<br>Resource=%{y}<br>Rule=%{text}<extra></extra>\",\"legendgroup\":\"j14\",\"marker\":{\"color\":\"#778AAE\",\"pattern\":{\"shape\":\"\"}},\"name\":\"j14\",\"offsetgroup\":\"j14\",\"orientation\":\"h\",\"showlegend\":true,\"text\":[\"LPT\",\"LOR\",\"LOR\",\"LOR\"],\"textposition\":\"auto\",\"x\":[93600000.0,36000000.0,61200000.0,28800000.0],\"xaxis\":\"x\",\"y\":[\"M3\",\"M3\",\"M2\",\"M2\"],\"yaxis\":\"y\",\"type\":\"bar\"},{\"alignmentgroup\":\"True\",\"base\":[\"1970-01-01T09:00:00\",\"1970-01-02T03:00:00\",\"1970-01-03T18:00:00\",\"1970-01-04T09:00:00\"],\"hovertemplate\":\"Type=j1<br>Start=%{base}<br>Finish=%{x}<br>Resource=%{y}<br>Rule=%{text}<extra></extra>\",\"legendgroup\":\"j1\",\"marker\":{\"color\":\"#862A16\",\"pattern\":{\"shape\":\"\"}},\"name\":\"j1\",\"offsetgroup\":\"j1\",\"orientation\":\"h\",\"showlegend\":true,\"text\":[\"LOR\",\"LOR\",\"LOR\",\"LOR\"],\"textposition\":\"auto\",\"x\":[64800000.0,28800000.0,54000000.0,50400000.0],\"xaxis\":\"x\",\"y\":[\"M3\",\"M3\",\"M1\",\"M1\"],\"yaxis\":\"y\",\"type\":\"bar\"},{\"alignmentgroup\":\"True\",\"base\":[\"1970-01-03T02:00:00\",\"1970-01-01T09:00:00\",\"1970-01-01T20:00:00\"],\"hovertemplate\":\"Type=j6<br>Start=%{base}<br>Finish=%{x}<br>Resource=%{y}<br>Rule=%{text}<extra></extra>\",\"legendgroup\":\"j6\",\"marker\":{\"color\":\"#A777F1\",\"pattern\":{\"shape\":\"\"}},\"name\":\"j6\",\"offsetgroup\":\"j6\",\"orientation\":\"h\",\"showlegend\":true,\"text\":[\"LPT\",\"LOR\",\"LOR\"],\"textposition\":\"auto\",\"x\":[82800000.0,39600000.0,82800000.0],\"xaxis\":\"x\",\"y\":[\"M2\",\"M1\",\"M1\"],\"yaxis\":\"y\",\"type\":\"bar\"},{\"alignmentgroup\":\"True\",\"base\":[\"1970-01-06T04:00:00\",\"1970-01-07T00:00:00\",\"1970-01-07T11:00:00\",\"1970-01-04T23:00:00\",\"1970-01-05T17:00:00\"],\"hovertemplate\":\"Type=j5<br>Start=%{base}<br>Finish=%{x}<br>Resource=%{y}<br>Rule=%{text}<extra></extra>\",\"legendgroup\":\"j5\",\"marker\":{\"color\":\"#620042\",\"pattern\":{\"shape\":\"\"}},\"name\":\"j5\",\"offsetgroup\":\"j5\",\"orientation\":\"h\",\"showlegend\":true,\"text\":[\"LOR\",\"LOR\",\"LOR\",\"LOR\",\"LOR\"],\"textposition\":\"auto\",\"x\":[72000000.0,39600000.0,18000000.0,64800000.0,39600000.0],\"xaxis\":\"x\",\"y\":[\"M2\",\"M2\",\"M2\",\"M1\",\"M1\"],\"yaxis\":\"y\",\"type\":\"bar\"},{\"alignmentgroup\":\"True\",\"base\":[\"1970-01-07T16:00:00\",\"1970-01-08T10:00:00\",\"1970-01-09T02:00:00\",\"1970-01-10T01:00:00\",\"1970-01-10T19:00:00\",\"1970-01-11T14:00:00\",\"1970-01-12T02:00:00\"],\"hovertemplate\":\"Type=j2<br>Start=%{base}<br>Finish=%{x}<br>Resource=%{y}<br>Rule=%{text}<extra></extra>\",\"legendgroup\":\"j2\",\"marker\":{\"color\":\"#1616A7\",\"pattern\":{\"shape\":\"\"}},\"name\":\"j2\",\"offsetgroup\":\"j2\",\"orientation\":\"h\",\"showlegend\":true,\"text\":[\"LOR\",\"MOR\",\"MOR\",\"MOR\",\"MOR\",\"MOR\",\"MOR\"],\"textposition\":\"auto\",\"x\":[64800000.0,57600000.0,82800000.0,64800000.0,68400000.0,43200000.0,72000000.0],\"xaxis\":\"x\",\"y\":[\"M2\",\"M2\",\"M2\",\"M2\",\"M2\",\"M2\",\"M2\"],\"yaxis\":\"y\",\"type\":\"bar\"},{\"alignmentgroup\":\"True\",\"base\":[\"1970-01-08T06:00:00\",\"1970-01-08T15:00:00\",\"1970-01-09T08:00:00\",\"1970-01-09T22:00:00\",\"1970-01-10T04:00:00\",\"1970-01-10T18:00:00\",\"1970-01-11T12:00:00\"],\"hovertemplate\":\"Type=j7<br>Start=%{base}<br>Finish=%{x}<br>Resource=%{y}<br>Rule=%{text}<extra></extra>\",\"legendgroup\":\"j7\",\"marker\":{\"color\":\"#DA60CA\",\"pattern\":{\"shape\":\"\"}},\"name\":\"j7\",\"offsetgroup\":\"j7\",\"orientation\":\"h\",\"showlegend\":true,\"text\":[\"MOR\",\"MOR\",\"MOR\",\"MOR\",\"MOR\",\"MOR\",\"MOR\"],\"textposition\":\"auto\",\"x\":[32400000.0,61200000.0,50400000.0,21600000.0,50400000.0,64800000.0,61200000.0],\"xaxis\":\"x\",\"y\":[\"M1\",\"M1\",\"M1\",\"M1\",\"M1\",\"M1\",\"M1\"],\"yaxis\":\"y\",\"type\":\"bar\"},{\"alignmentgroup\":\"True\",\"base\":[\"1970-01-02T08:00:00\",\"1970-01-03T11:00:00\",\"1970-01-06T04:00:00\",\"1970-01-07T20:00:00\",\"1970-01-09T15:00:00\",\"1970-01-10T03:00:00\",\"1970-01-02T14:00:00\",\"1970-01-03T16:00:00\",\"1970-01-04T10:00:00\",\"1970-01-06T08:00:00\",\"1970-01-07T17:00:00\",\"1970-01-08T19:00:00\",\"1970-01-09T04:00:00\",\"1970-01-09T15:00:00\",\"1970-01-02T13:00:00\",\"1970-01-03T15:00:00\",\"1970-01-04T04:00:00\",\"1970-01-07T05:00:00\",\"1970-01-02T11:00:00\",\"1970-01-03T15:00:00\",\"1970-01-05T03:00:00\",\"1970-01-07T01:00:00\",\"1970-01-07T17:00:00\",\"1970-01-08T06:00:00\",\"1970-01-08T19:00:00\",\"1970-01-09T23:00:00\",\"1970-01-10T17:00:00\",\"1970-01-02T10:00:00\",\"1970-01-03T02:00:00\",\"1970-01-04T01:00:00\",\"1970-01-05T03:00:00\",\"1970-01-06T04:00:00\",\"1970-01-07T16:00:00\",\"1970-01-02T19:00:00\",\"1970-01-03T18:00:00\",\"1970-01-04T23:00:00\",\"1970-01-06T04:00:00\",\"1970-01-06T14:00:00\",\"1970-01-07T17:00:00\",\"1970-01-08T06:00:00\",\"1970-01-12T14:00:00\"],\"hovertemplate\":\"Type=setup<br>Start=%{base}<br>Finish=%{x}<br>Resource=%{y}<br>Rule=%{text}<extra></extra>\",\"legendgroup\":\"setup\",\"marker\":{\"color\":\"#6C4516\",\"pattern\":{\"shape\":\"\"}},\"name\":\"setup\",\"offsetgroup\":\"setup\",\"orientation\":\"h\",\"showlegend\":true,\"text\":\"\",\"textposition\":\"auto\",\"x\":[14400000.0,10800000.0,14400000.0,3600000.0,10800000.0,7200000.0,10800000.0,10800000.0,14400000.0,14400000.0,7200000.0,7200000.0,7200000.0,3600000.0,3600000.0,10800000.0,10800000.0,3600000.0,10800000.0,10800000.0,10800000.0,10800000.0,7200000.0,14400000.0,7200000.0,7200000.0,14400000.0,7200000.0,10800000.0,3600000.0,10800000.0,10800000.0,10800000.0,10800000.0,10800000.0,7200000.0,10800000.0,10800000.0,14400000.0,10800000.0,7200000.0],\"xaxis\":\"x\",\"y\":[\"M6\",\"M6\",\"M6\",\"M6\",\"M6\",\"M6\",\"M5\",\"M5\",\"M5\",\"M5\",\"M5\",\"M5\",\"M5\",\"M5\",\"M4\",\"M4\",\"M4\",\"M4\",\"M3\",\"M3\",\"M3\",\"M3\",\"M3\",\"M3\",\"M3\",\"M3\",\"M3\",\"M2\",\"M2\",\"M2\",\"M2\",\"M2\",\"M2\",\"M1\",\"M1\",\"M1\",\"M1\",\"M1\",\"M1\",\"M1\",\"M1\"],\"yaxis\":\"y\",\"type\":\"bar\",\"width\":0.7}],                        {\"template\":{\"data\":{\"barpolar\":[{\"marker\":{\"line\":{\"color\":\"white\",\"width\":0.5},\"pattern\":{\"fillmode\":\"overlay\",\"size\":10,\"solidity\":0.2}},\"type\":\"barpolar\"}],\"bar\":[{\"error_x\":{\"color\":\"rgb(36,36,36)\"},\"error_y\":{\"color\":\"rgb(36,36,36)\"},\"marker\":{\"line\":{\"color\":\"white\",\"width\":0.5},\"pattern\":{\"fillmode\":\"overlay\",\"size\":10,\"solidity\":0.2}},\"type\":\"bar\"}],\"carpet\":[{\"aaxis\":{\"endlinecolor\":\"rgb(36,36,36)\",\"gridcolor\":\"white\",\"linecolor\":\"white\",\"minorgridcolor\":\"white\",\"startlinecolor\":\"rgb(36,36,36)\"},\"baxis\":{\"endlinecolor\":\"rgb(36,36,36)\",\"gridcolor\":\"white\",\"linecolor\":\"white\",\"minorgridcolor\":\"white\",\"startlinecolor\":\"rgb(36,36,36)\"},\"type\":\"carpet\"}],\"choropleth\":[{\"colorbar\":{\"outlinewidth\":1,\"tickcolor\":\"rgb(36,36,36)\",\"ticks\":\"outside\"},\"type\":\"choropleth\"}],\"contourcarpet\":[{\"colorbar\":{\"outlinewidth\":1,\"tickcolor\":\"rgb(36,36,36)\",\"ticks\":\"outside\"},\"type\":\"contourcarpet\"}],\"contour\":[{\"colorbar\":{\"outlinewidth\":1,\"tickcolor\":\"rgb(36,36,36)\",\"ticks\":\"outside\"},\"colorscale\":[[0.0,\"#440154\"],[0.1111111111111111,\"#482878\"],[0.2222222222222222,\"#3e4989\"],[0.3333333333333333,\"#31688e\"],[0.4444444444444444,\"#26828e\"],[0.5555555555555556,\"#1f9e89\"],[0.6666666666666666,\"#35b779\"],[0.7777777777777778,\"#6ece58\"],[0.8888888888888888,\"#b5de2b\"],[1.0,\"#fde725\"]],\"type\":\"contour\"}],\"heatmapgl\":[{\"colorbar\":{\"outlinewidth\":1,\"tickcolor\":\"rgb(36,36,36)\",\"ticks\":\"outside\"},\"colorscale\":[[0.0,\"#440154\"],[0.1111111111111111,\"#482878\"],[0.2222222222222222,\"#3e4989\"],[0.3333333333333333,\"#31688e\"],[0.4444444444444444,\"#26828e\"],[0.5555555555555556,\"#1f9e89\"],[0.6666666666666666,\"#35b779\"],[0.7777777777777778,\"#6ece58\"],[0.8888888888888888,\"#b5de2b\"],[1.0,\"#fde725\"]],\"type\":\"heatmapgl\"}],\"heatmap\":[{\"colorbar\":{\"outlinewidth\":1,\"tickcolor\":\"rgb(36,36,36)\",\"ticks\":\"outside\"},\"colorscale\":[[0.0,\"#440154\"],[0.1111111111111111,\"#482878\"],[0.2222222222222222,\"#3e4989\"],[0.3333333333333333,\"#31688e\"],[0.4444444444444444,\"#26828e\"],[0.5555555555555556,\"#1f9e89\"],[0.6666666666666666,\"#35b779\"],[0.7777777777777778,\"#6ece58\"],[0.8888888888888888,\"#b5de2b\"],[1.0,\"#fde725\"]],\"type\":\"heatmap\"}],\"histogram2dcontour\":[{\"colorbar\":{\"outlinewidth\":1,\"tickcolor\":\"rgb(36,36,36)\",\"ticks\":\"outside\"},\"colorscale\":[[0.0,\"#440154\"],[0.1111111111111111,\"#482878\"],[0.2222222222222222,\"#3e4989\"],[0.3333333333333333,\"#31688e\"],[0.4444444444444444,\"#26828e\"],[0.5555555555555556,\"#1f9e89\"],[0.6666666666666666,\"#35b779\"],[0.7777777777777778,\"#6ece58\"],[0.8888888888888888,\"#b5de2b\"],[1.0,\"#fde725\"]],\"type\":\"histogram2dcontour\"}],\"histogram2d\":[{\"colorbar\":{\"outlinewidth\":1,\"tickcolor\":\"rgb(36,36,36)\",\"ticks\":\"outside\"},\"colorscale\":[[0.0,\"#440154\"],[0.1111111111111111,\"#482878\"],[0.2222222222222222,\"#3e4989\"],[0.3333333333333333,\"#31688e\"],[0.4444444444444444,\"#26828e\"],[0.5555555555555556,\"#1f9e89\"],[0.6666666666666666,\"#35b779\"],[0.7777777777777778,\"#6ece58\"],[0.8888888888888888,\"#b5de2b\"],[1.0,\"#fde725\"]],\"type\":\"histogram2d\"}],\"histogram\":[{\"marker\":{\"line\":{\"color\":\"white\",\"width\":0.6}},\"type\":\"histogram\"}],\"mesh3d\":[{\"colorbar\":{\"outlinewidth\":1,\"tickcolor\":\"rgb(36,36,36)\",\"ticks\":\"outside\"},\"type\":\"mesh3d\"}],\"parcoords\":[{\"line\":{\"colorbar\":{\"outlinewidth\":1,\"tickcolor\":\"rgb(36,36,36)\",\"ticks\":\"outside\"}},\"type\":\"parcoords\"}],\"pie\":[{\"automargin\":true,\"type\":\"pie\"}],\"scatter3d\":[{\"line\":{\"colorbar\":{\"outlinewidth\":1,\"tickcolor\":\"rgb(36,36,36)\",\"ticks\":\"outside\"}},\"marker\":{\"colorbar\":{\"outlinewidth\":1,\"tickcolor\":\"rgb(36,36,36)\",\"ticks\":\"outside\"}},\"type\":\"scatter3d\"}],\"scattercarpet\":[{\"marker\":{\"colorbar\":{\"outlinewidth\":1,\"tickcolor\":\"rgb(36,36,36)\",\"ticks\":\"outside\"}},\"type\":\"scattercarpet\"}],\"scattergeo\":[{\"marker\":{\"colorbar\":{\"outlinewidth\":1,\"tickcolor\":\"rgb(36,36,36)\",\"ticks\":\"outside\"}},\"type\":\"scattergeo\"}],\"scattergl\":[{\"marker\":{\"colorbar\":{\"outlinewidth\":1,\"tickcolor\":\"rgb(36,36,36)\",\"ticks\":\"outside\"}},\"type\":\"scattergl\"}],\"scattermapbox\":[{\"marker\":{\"colorbar\":{\"outlinewidth\":1,\"tickcolor\":\"rgb(36,36,36)\",\"ticks\":\"outside\"}},\"type\":\"scattermapbox\"}],\"scatterpolargl\":[{\"marker\":{\"colorbar\":{\"outlinewidth\":1,\"tickcolor\":\"rgb(36,36,36)\",\"ticks\":\"outside\"}},\"type\":\"scatterpolargl\"}],\"scatterpolar\":[{\"marker\":{\"colorbar\":{\"outlinewidth\":1,\"tickcolor\":\"rgb(36,36,36)\",\"ticks\":\"outside\"}},\"type\":\"scatterpolar\"}],\"scatter\":[{\"fillpattern\":{\"fillmode\":\"overlay\",\"size\":10,\"solidity\":0.2},\"type\":\"scatter\"}],\"scatterternary\":[{\"marker\":{\"colorbar\":{\"outlinewidth\":1,\"tickcolor\":\"rgb(36,36,36)\",\"ticks\":\"outside\"}},\"type\":\"scatterternary\"}],\"surface\":[{\"colorbar\":{\"outlinewidth\":1,\"tickcolor\":\"rgb(36,36,36)\",\"ticks\":\"outside\"},\"colorscale\":[[0.0,\"#440154\"],[0.1111111111111111,\"#482878\"],[0.2222222222222222,\"#3e4989\"],[0.3333333333333333,\"#31688e\"],[0.4444444444444444,\"#26828e\"],[0.5555555555555556,\"#1f9e89\"],[0.6666666666666666,\"#35b779\"],[0.7777777777777778,\"#6ece58\"],[0.8888888888888888,\"#b5de2b\"],[1.0,\"#fde725\"]],\"type\":\"surface\"}],\"table\":[{\"cells\":{\"fill\":{\"color\":\"rgb(237,237,237)\"},\"line\":{\"color\":\"white\"}},\"header\":{\"fill\":{\"color\":\"rgb(217,217,217)\"},\"line\":{\"color\":\"white\"}},\"type\":\"table\"}]},\"layout\":{\"annotationdefaults\":{\"arrowhead\":0,\"arrowwidth\":1},\"autotypenumbers\":\"strict\",\"coloraxis\":{\"colorbar\":{\"outlinewidth\":1,\"tickcolor\":\"rgb(36,36,36)\",\"ticks\":\"outside\"}},\"colorscale\":{\"diverging\":[[0.0,\"rgb(103,0,31)\"],[0.1,\"rgb(178,24,43)\"],[0.2,\"rgb(214,96,77)\"],[0.3,\"rgb(244,165,130)\"],[0.4,\"rgb(253,219,199)\"],[0.5,\"rgb(247,247,247)\"],[0.6,\"rgb(209,229,240)\"],[0.7,\"rgb(146,197,222)\"],[0.8,\"rgb(67,147,195)\"],[0.9,\"rgb(33,102,172)\"],[1.0,\"rgb(5,48,97)\"]],\"sequential\":[[0.0,\"#440154\"],[0.1111111111111111,\"#482878\"],[0.2222222222222222,\"#3e4989\"],[0.3333333333333333,\"#31688e\"],[0.4444444444444444,\"#26828e\"],[0.5555555555555556,\"#1f9e89\"],[0.6666666666666666,\"#35b779\"],[0.7777777777777778,\"#6ece58\"],[0.8888888888888888,\"#b5de2b\"],[1.0,\"#fde725\"]],\"sequentialminus\":[[0.0,\"#440154\"],[0.1111111111111111,\"#482878\"],[0.2222222222222222,\"#3e4989\"],[0.3333333333333333,\"#31688e\"],[0.4444444444444444,\"#26828e\"],[0.5555555555555556,\"#1f9e89\"],[0.6666666666666666,\"#35b779\"],[0.7777777777777778,\"#6ece58\"],[0.8888888888888888,\"#b5de2b\"],[1.0,\"#fde725\"]]},\"colorway\":[\"#1F77B4\",\"#FF7F0E\",\"#2CA02C\",\"#D62728\",\"#9467BD\",\"#8C564B\",\"#E377C2\",\"#7F7F7F\",\"#BCBD22\",\"#17BECF\"],\"font\":{\"color\":\"rgb(36,36,36)\"},\"geo\":{\"bgcolor\":\"white\",\"lakecolor\":\"white\",\"landcolor\":\"white\",\"showlakes\":true,\"showland\":true,\"subunitcolor\":\"white\"},\"hoverlabel\":{\"align\":\"left\"},\"hovermode\":\"closest\",\"mapbox\":{\"style\":\"light\"},\"paper_bgcolor\":\"white\",\"plot_bgcolor\":\"white\",\"polar\":{\"angularaxis\":{\"gridcolor\":\"rgb(232,232,232)\",\"linecolor\":\"rgb(36,36,36)\",\"showgrid\":false,\"showline\":true,\"ticks\":\"outside\"},\"bgcolor\":\"white\",\"radialaxis\":{\"gridcolor\":\"rgb(232,232,232)\",\"linecolor\":\"rgb(36,36,36)\",\"showgrid\":false,\"showline\":true,\"ticks\":\"outside\"}},\"scene\":{\"xaxis\":{\"backgroundcolor\":\"white\",\"gridcolor\":\"rgb(232,232,232)\",\"gridwidth\":2,\"linecolor\":\"rgb(36,36,36)\",\"showbackground\":true,\"showgrid\":false,\"showline\":true,\"ticks\":\"outside\",\"zeroline\":false,\"zerolinecolor\":\"rgb(36,36,36)\"},\"yaxis\":{\"backgroundcolor\":\"white\",\"gridcolor\":\"rgb(232,232,232)\",\"gridwidth\":2,\"linecolor\":\"rgb(36,36,36)\",\"showbackground\":true,\"showgrid\":false,\"showline\":true,\"ticks\":\"outside\",\"zeroline\":false,\"zerolinecolor\":\"rgb(36,36,36)\"},\"zaxis\":{\"backgroundcolor\":\"white\",\"gridcolor\":\"rgb(232,232,232)\",\"gridwidth\":2,\"linecolor\":\"rgb(36,36,36)\",\"showbackground\":true,\"showgrid\":false,\"showline\":true,\"ticks\":\"outside\",\"zeroline\":false,\"zerolinecolor\":\"rgb(36,36,36)\"}},\"shapedefaults\":{\"fillcolor\":\"black\",\"line\":{\"width\":0},\"opacity\":0.3},\"ternary\":{\"aaxis\":{\"gridcolor\":\"rgb(232,232,232)\",\"linecolor\":\"rgb(36,36,36)\",\"showgrid\":false,\"showline\":true,\"ticks\":\"outside\"},\"baxis\":{\"gridcolor\":\"rgb(232,232,232)\",\"linecolor\":\"rgb(36,36,36)\",\"showgrid\":false,\"showline\":true,\"ticks\":\"outside\"},\"bgcolor\":\"white\",\"caxis\":{\"gridcolor\":\"rgb(232,232,232)\",\"linecolor\":\"rgb(36,36,36)\",\"showgrid\":false,\"showline\":true,\"ticks\":\"outside\"}},\"title\":{\"x\":0.05},\"xaxis\":{\"automargin\":true,\"gridcolor\":\"rgb(232,232,232)\",\"linecolor\":\"rgb(36,36,36)\",\"showgrid\":false,\"showline\":true,\"ticks\":\"outside\",\"title\":{\"standoff\":15},\"zeroline\":false,\"zerolinecolor\":\"rgb(36,36,36)\"},\"yaxis\":{\"automargin\":true,\"gridcolor\":\"rgb(232,232,232)\",\"linecolor\":\"rgb(36,36,36)\",\"showgrid\":false,\"showline\":true,\"ticks\":\"outside\",\"title\":{\"standoff\":15},\"zeroline\":false,\"zerolinecolor\":\"rgb(36,36,36)\"}}},\"xaxis\":{\"anchor\":\"y\",\"domain\":[0.0,1.0],\"type\":\"date\"},\"yaxis\":{\"anchor\":\"x\",\"domain\":[0.0,1.0],\"title\":{\"text\":\"Resource\"}},\"legend\":{\"title\":{\"text\":\"Type\"},\"tracegroupgap\":0},\"margin\":{\"t\":60},\"barmode\":\"overlay\",\"height\":800,\"width\":2000},                        {\"responsive\": true}                    ).then(function(){\n",
       "                            \n",
       "var gd = document.getElementById('f33a1944-eae8-42b6-82d1-bef01e69e2bd');\n",
       "var x = new MutationObserver(function (mutations, observer) {{\n",
       "        var display = window.getComputedStyle(gd).display;\n",
       "        if (!display || display === 'none') {{\n",
       "            console.log([gd, 'removed!']);\n",
       "            Plotly.purge(gd);\n",
       "            observer.disconnect();\n",
       "        }}\n",
       "}});\n",
       "\n",
       "// Listen for the removal of the full notebook cells\n",
       "var notebookContainer = gd.closest('#notebook-container');\n",
       "if (notebookContainer) {{\n",
       "    x.observe(notebookContainer, {childList: true});\n",
       "}}\n",
       "\n",
       "// Listen for the clearing of the current output cell\n",
       "var outputEl = gd.closest('.output');\n",
       "if (outputEl) {{\n",
       "    x.observe(outputEl, {childList: true});\n",
       "}}\n",
       "\n",
       "                        })                };                });            </script>        </div>"
      ]
     },
     "metadata": {},
     "output_type": "display_data"
    },
    {
     "data": {
      "application/vnd.plotly.v1+json": {
       "config": {
        "plotlyServerURL": "https://plot.ly"
       },
       "data": [
        {
         "alignmentgroup": "True",
         "base": [
          "1970-01-06T04:00:00",
          "1970-01-06T17:00:00",
          "1970-01-07T03:00:00",
          "1970-01-07T11:00:00",
          "1970-01-09T04:00:00"
         ],
         "hovertemplate": "Type=j9<br>Start=%{base}<br>Finish=%{x}<br>Resource=%{y}<br>Step-Rule=%{text}<extra></extra>",
         "legendgroup": "j9",
         "marker": {
          "color": "#2E91E5",
          "pattern": {
           "shape": ""
          }
         },
         "name": "j9",
         "offsetgroup": "j9",
         "orientation": "h",
         "showlegend": true,
         "text": [
          "50-LOR",
          "54-LOR",
          "57-LOR",
          "61-LOR",
          "79-MOR"
         ],
         "textposition": "auto",
         "type": "bar",
         "x": [
          46800000,
          36000000,
          28800000,
          32400000,
          39600000
         ],
         "xaxis": "x",
         "y": [
          "M6",
          "M6",
          "M6",
          "M6",
          "M5"
         ],
         "yaxis": "y"
        },
        {
         "alignmentgroup": "True",
         "base": [
          "1970-01-10T03:00:00",
          "1970-01-07T17:00:00",
          "1970-01-02T13:00:00",
          "1970-01-07T01:00:00",
          "1970-01-08T19:00:00",
          "1970-01-09T11:00:00"
         ],
         "hovertemplate": "Type=j20<br>Start=%{base}<br>Finish=%{x}<br>Resource=%{y}<br>Step-Rule=%{text}<extra></extra>",
         "legendgroup": "j20",
         "marker": {
          "color": "#E15F99",
          "pattern": {
           "shape": ""
          }
         },
         "name": "j20",
         "offsetgroup": "j20",
         "orientation": "h",
         "showlegend": true,
         "text": [
          "91-MOR",
          "66-LOR",
          "19-LPT",
          "56-LOR",
          "75-MOR",
          "82-MOR"
         ],
         "textposition": "auto",
         "type": "bar",
         "x": [
          32400000,
          93600000,
          93600000,
          57600000,
          57600000,
          43200000
         ],
         "xaxis": "x",
         "y": [
          "M6",
          "M5",
          "M4",
          "M3",
          "M3",
          "M3"
         ],
         "yaxis": "y"
        },
        {
         "alignmentgroup": "True",
         "base": [
          "1970-01-03T11:00:00",
          "1970-01-04T12:00:00",
          "1970-01-04T22:00:00",
          "1970-01-05T11:00:00",
          "1970-01-06T04:00:00"
         ],
         "hovertemplate": "Type=j18<br>Start=%{base}<br>Finish=%{x}<br>Resource=%{y}<br>Step-Rule=%{text}<extra></extra>",
         "legendgroup": "j18",
         "marker": {
          "color": "#1CA71C",
          "pattern": {
           "shape": ""
          }
         },
         "name": "j18",
         "offsetgroup": "j18",
         "orientation": "h",
         "showlegend": true,
         "text": [
          "23-LPT",
          "32-LOR",
          "36-LOR",
          "43-LOR",
          "48-LOR"
         ],
         "textposition": "auto",
         "type": "bar",
         "x": [
          90000000,
          36000000,
          46800000,
          61200000,
          36000000
         ],
         "xaxis": "x",
         "y": [
          "M6",
          "M6",
          "M6",
          "M6",
          "M1"
         ],
         "yaxis": "y"
        },
        {
         "alignmentgroup": "True",
         "base": [
          "1970-01-02T08:00:00",
          "1970-01-05T03:00:00",
          "1970-01-06T00:00:00",
          "1970-01-04T01:00:00"
         ],
         "hovertemplate": "Type=j17<br>Start=%{base}<br>Finish=%{x}<br>Resource=%{y}<br>Step-Rule=%{text}<extra></extra>",
         "legendgroup": "j17",
         "marker": {
          "color": "#FB0D0D",
          "pattern": {
           "shape": ""
          }
         },
         "name": "j17",
         "offsetgroup": "j17",
         "orientation": "h",
         "showlegend": true,
         "text": [
          "16-LPT",
          "40-LOR",
          "47-LOR",
          "28-LOR"
         ],
         "textposition": "auto",
         "type": "bar",
         "x": [
          97200000,
          75600000,
          90000000,
          93600000
         ],
         "xaxis": "x",
         "y": [
          "M6",
          "M3",
          "M3",
          "M2"
         ],
         "yaxis": "y"
        },
        {
         "alignmentgroup": "True",
         "base": [
          "1970-01-07T20:00:00",
          "1970-01-08T09:00:00",
          "1970-01-08T22:00:00",
          "1970-01-09T15:00:00",
          "1970-01-10T03:00:00",
          "1970-01-10T17:00:00",
          "1970-01-11T15:00:00",
          "1970-01-12T14:00:00"
         ],
         "hovertemplate": "Type=j16<br>Start=%{base}<br>Finish=%{x}<br>Resource=%{y}<br>Step-Rule=%{text}<extra></extra>",
         "legendgroup": "j16",
         "marker": {
          "color": "#DA16FF",
          "pattern": {
           "shape": ""
          }
         },
         "name": "j16",
         "offsetgroup": "j16",
         "orientation": "h",
         "showlegend": true,
         "text": [
          "68-MOR",
          "71-MOR",
          "77-MOR",
          "83-MOR",
          "90-MOR",
          "93-MOR",
          "98-MOR",
          "100-MOR"
         ],
         "textposition": "auto",
         "type": "bar",
         "x": [
          46800000,
          46800000,
          61200000,
          43200000,
          50400000,
          79200000,
          82800000,
          25200000
         ],
         "xaxis": "x",
         "y": [
          "M6",
          "M6",
          "M6",
          "M5",
          "M5",
          "M3",
          "M3",
          "M1"
         ],
         "yaxis": "y"
        },
        {
         "alignmentgroup": "True",
         "base": [
          "1970-01-09T15:00:00",
          "1970-01-02T14:00:00",
          "1970-01-06T08:00:00",
          "1970-01-07T06:00:00",
          "1970-01-08T06:00:00",
          "1970-01-07T17:00:00"
         ],
         "hovertemplate": "Type=j11<br>Start=%{base}<br>Finish=%{x}<br>Resource=%{y}<br>Step-Rule=%{text}<extra></extra>",
         "legendgroup": "j11",
         "marker": {
          "color": "#222A2A",
          "pattern": {
           "shape": ""
          }
         },
         "name": "j11",
         "offsetgroup": "j11",
         "orientation": "h",
         "showlegend": true,
         "text": [
          "84-MOR",
          "20-LPT",
          "51-LOR",
          "59-LOR",
          "70-MOR",
          "64-LOR"
         ],
         "textposition": "auto",
         "type": "bar",
         "x": [
          43200000,
          93600000,
          79200000,
          39600000,
          46800000,
          46800000
         ],
         "xaxis": "x",
         "y": [
          "M6",
          "M5",
          "M5",
          "M5",
          "M3",
          "M1"
         ],
         "yaxis": "y"
        },
        {
         "alignmentgroup": "True",
         "base": [
          "1970-01-01T09:00:00",
          "1970-01-01T14:00:00",
          "1970-01-02T01:00:00",
          "1970-01-02T10:00:00"
         ],
         "hovertemplate": "Type=j10<br>Start=%{base}<br>Finish=%{x}<br>Resource=%{y}<br>Step-Rule=%{text}<extra></extra>",
         "legendgroup": "j10",
         "marker": {
          "color": "#B68100",
          "pattern": {
           "shape": ""
          }
         },
         "name": "j10",
         "offsetgroup": "j10",
         "orientation": "h",
         "showlegend": true,
         "text": [
          "6-LOR",
          "7-LOR",
          "12-LOR",
          "17-LOR"
         ],
         "textposition": "auto",
         "type": "bar",
         "x": [
          18000000,
          39600000,
          25200000,
          57600000
         ],
         "xaxis": "x",
         "y": [
          "M6",
          "M6",
          "M6",
          "M2"
         ],
         "yaxis": "y"
        },
        {
         "alignmentgroup": "True",
         "base": [
          "1970-01-10T12:00:00",
          "1970-01-10T17:00:00",
          "1970-01-10T18:00:00",
          "1970-01-10T19:00:00",
          "1970-01-10T21:00:00",
          "1970-01-11T12:00:00",
          "1970-01-11T14:00:00",
          "1970-01-11T15:00:00",
          "1970-01-12T02:00:00",
          "1970-01-12T05:00:00",
          "1970-01-12T14:00:00",
          "1970-01-12T16:00:00",
          "1970-01-12T21:00:00",
          "1970-01-10T17:00:00",
          "1970-01-10T18:00:00",
          "1970-01-10T19:00:00",
          "1970-01-10T21:00:00",
          "1970-01-11T12:00:00",
          "1970-01-11T14:00:00",
          "1970-01-11T15:00:00",
          "1970-01-12T02:00:00",
          "1970-01-12T05:00:00",
          "1970-01-12T14:00:00",
          "1970-01-12T16:00:00",
          "1970-01-12T21:00:00",
          "1970-01-10T18:00:00",
          "1970-01-10T19:00:00",
          "1970-01-10T21:00:00",
          "1970-01-11T12:00:00",
          "1970-01-11T14:00:00",
          "1970-01-11T15:00:00",
          "1970-01-12T02:00:00",
          "1970-01-12T05:00:00",
          "1970-01-12T14:00:00",
          "1970-01-12T16:00:00",
          "1970-01-12T21:00:00",
          "1970-01-10T07:00:00",
          "1970-01-10T12:00:00",
          "1970-01-12T14:00:00",
          "1970-01-12T16:00:00",
          "1970-01-12T21:00:00",
          "1970-01-12T05:00:00",
          "1970-01-12T21:00:00"
         ],
         "hovertemplate": "Type=delay_machine<br>Start=%{base}<br>Finish=%{x}<br>Resource=%{y}<br>Step-Rule=%{text}<extra></extra>",
         "legendgroup": "delay_machine",
         "marker": {
          "color": "#750D86",
          "pattern": {
           "shape": ""
          }
         },
         "name": "delay_machine",
         "offsetgroup": "delay_machine",
         "orientation": "h",
         "showlegend": true,
         "text": [
          "93-DDA",
          "94-DDA",
          "95-DDA",
          "96-DDA",
          "96-DDA",
          "97-DDA",
          "98-DDA",
          "99-DDA",
          "100-DDA",
          "100-DDA",
          "101-DDA",
          "101-DDA",
          "101-DDA",
          "94-DDA",
          "95-DDA",
          "96-DDA",
          "96-DDA",
          "97-DDA",
          "98-DDA",
          "99-DDA",
          "100-DDA",
          "100-DDA",
          "101-DDA",
          "101-DDA",
          "101-DDA",
          "95-DDA",
          "96-DDA",
          "96-DDA",
          "97-DDA",
          "98-DDA",
          "99-DDA",
          "100-DDA",
          "100-DDA",
          "101-DDA",
          "101-DDA",
          "101-DDA",
          "93-DDA",
          "93-DDA",
          "101-DDA",
          "101-DDA",
          "101-DDA",
          "100-DDA",
          "101-DDA"
         ],
         "textposition": "auto",
         "type": "bar",
         "x": [
          18000000,
          3600000,
          3600000,
          7200000,
          54000000,
          7200000,
          3600000,
          39600000,
          10800000,
          32400000,
          7200000,
          18000000,
          3600000,
          3600000,
          3600000,
          7200000,
          54000000,
          7200000,
          3600000,
          39600000,
          10800000,
          32400000,
          7200000,
          18000000,
          3600000,
          3600000,
          7200000,
          54000000,
          7200000,
          3600000,
          39600000,
          10800000,
          32400000,
          7200000,
          18000000,
          3600000,
          18000000,
          18000000,
          7200000,
          18000000,
          3600000,
          32400000,
          3600000
         ],
         "xaxis": "x",
         "y": [
          "M6",
          "M6",
          "M6",
          "M6",
          "M6",
          "M6",
          "M6",
          "M6",
          "M6",
          "M6",
          "M6",
          "M6",
          "M6",
          "M5",
          "M5",
          "M5",
          "M5",
          "M5",
          "M5",
          "M5",
          "M5",
          "M5",
          "M5",
          "M5",
          "M5",
          "M4",
          "M4",
          "M4",
          "M4",
          "M4",
          "M4",
          "M4",
          "M4",
          "M4",
          "M4",
          "M4",
          "M3",
          "M3",
          "M3",
          "M3",
          "M3",
          "M1",
          "M1"
         ],
         "yaxis": "y"
        },
        {
         "alignmentgroup": "True",
         "base": [
          "1970-01-01T09:00:00",
          "1970-01-01T15:00:00",
          "1970-01-01T20:00:00",
          "1970-01-03T16:00:00"
         ],
         "hovertemplate": "Type=j8<br>Start=%{base}<br>Finish=%{x}<br>Resource=%{y}<br>Step-Rule=%{text}<extra></extra>",
         "legendgroup": "j8",
         "marker": {
          "color": "#EB663B",
          "pattern": {
           "shape": ""
          }
         },
         "name": "j8",
         "offsetgroup": "j8",
         "orientation": "h",
         "showlegend": true,
         "text": [
          "5-LOR",
          "8-LOR",
          "10-LOR",
          "26-LOR"
         ],
         "textposition": "auto",
         "type": "bar",
         "x": [
          21600000,
          18000000,
          64800000,
          64800000
         ],
         "xaxis": "x",
         "y": [
          "M5",
          "M5",
          "M5",
          "M5"
         ],
         "yaxis": "y"
        },
        {
         "alignmentgroup": "True",
         "base": [
          "1970-01-04T10:00:00",
          "1970-01-04T18:00:00",
          "1970-01-05T01:00:00",
          "1970-01-05T06:00:00",
          "1970-01-05T15:00:00"
         ],
         "hovertemplate": "Type=j4<br>Start=%{base}<br>Finish=%{x}<br>Resource=%{y}<br>Step-Rule=%{text}<extra></extra>",
         "legendgroup": "j4",
         "marker": {
          "color": "#511CFB",
          "pattern": {
           "shape": ""
          }
         },
         "name": "j4",
         "offsetgroup": "j4",
         "orientation": "h",
         "showlegend": true,
         "text": [
          "31-LOR",
          "35-LOR",
          "38-LOR",
          "41-LOR",
          "44-LOR"
         ],
         "textposition": "auto",
         "type": "bar",
         "x": [
          28800000,
          25200000,
          18000000,
          32400000,
          61200000
         ],
         "xaxis": "x",
         "y": [
          "M5",
          "M5",
          "M5",
          "M5",
          "M5"
         ],
         "yaxis": "y"
        },
        {
         "alignmentgroup": "True",
         "base": [
          "1970-01-08T19:00:00",
          "1970-01-07T17:00:00",
          "1970-01-09T23:00:00",
          "1970-01-06T14:00:00",
          "1970-01-07T12:00:00"
         ],
         "hovertemplate": "Type=j12<br>Start=%{base}<br>Finish=%{x}<br>Resource=%{y}<br>Step-Rule=%{text}<extra></extra>",
         "legendgroup": "j12",
         "marker": {
          "color": "#00A08B",
          "pattern": {
           "shape": ""
          }
         },
         "name": "j12",
         "offsetgroup": "j12",
         "orientation": "h",
         "showlegend": true,
         "text": [
          "76-MOR",
          "65-LOR",
          "87-MOR",
          "53-LOR",
          "62-LOR"
         ],
         "textposition": "auto",
         "type": "bar",
         "x": [
          32400000,
          46800000,
          28800000,
          79200000,
          18000000
         ],
         "xaxis": "x",
         "y": [
          "M5",
          "M3",
          "M3",
          "M1",
          "M1"
         ],
         "yaxis": "y"
        },
        {
         "alignmentgroup": "True",
         "base": [
          "1970-01-01T09:00:00",
          "1970-01-01T21:00:00",
          "1970-01-02T06:00:00",
          "1970-01-03T15:00:00"
         ],
         "hovertemplate": "Type=j3<br>Start=%{base}<br>Finish=%{x}<br>Resource=%{y}<br>Step-Rule=%{text}<extra></extra>",
         "legendgroup": "j3",
         "marker": {
          "color": "#FB00D1",
          "pattern": {
           "shape": ""
          }
         },
         "name": "j3",
         "offsetgroup": "j3",
         "orientation": "h",
         "showlegend": true,
         "text": [
          "4-LOR",
          "11-LOR",
          "15-LOR",
          "25-LOR"
         ],
         "textposition": "auto",
         "type": "bar",
         "x": [
          43200000,
          32400000,
          25200000,
          46800000
         ],
         "xaxis": "x",
         "y": [
          "M4",
          "M4",
          "M4",
          "M4"
         ],
         "yaxis": "y"
        },
        {
         "alignmentgroup": "True",
         "base": [
          "1970-01-07T05:00:00",
          "1970-01-07T19:00:00",
          "1970-01-08T12:00:00",
          "1970-01-09T08:00:00",
          "1970-01-09T17:00:00",
          "1970-01-10T00:00:00",
          "1970-01-02T19:00:00"
         ],
         "hovertemplate": "Type=j19<br>Start=%{base}<br>Finish=%{x}<br>Resource=%{y}<br>Step-Rule=%{text}<extra></extra>",
         "legendgroup": "j19",
         "marker": {
          "color": "#FC0080",
          "pattern": {
           "shape": ""
          }
         },
         "name": "j19",
         "offsetgroup": "j19",
         "orientation": "h",
         "showlegend": true,
         "text": [
          "58-LOR",
          "67-LOR",
          "73-MOR",
          "81-MOR",
          "85-MOR",
          "88-MOR",
          "21-LPT"
         ],
         "textposition": "auto",
         "type": "bar",
         "x": [
          50400000,
          61200000,
          72000000,
          32400000,
          25200000,
          64800000,
          82800000
         ],
         "xaxis": "x",
         "y": [
          "M4",
          "M4",
          "M4",
          "M4",
          "M4",
          "M4",
          "M1"
         ],
         "yaxis": "y"
        },
        {
         "alignmentgroup": "True",
         "base": [
          "1970-01-04T04:00:00",
          "1970-01-04T16:00:00",
          "1970-01-05T11:00:00",
          "1970-01-06T11:00:00"
         ],
         "hovertemplate": "Type=j13<br>Start=%{base}<br>Finish=%{x}<br>Resource=%{y}<br>Step-Rule=%{text}<extra></extra>",
         "legendgroup": "j13",
         "marker": {
          "color": "#B2828D",
          "pattern": {
           "shape": ""
          }
         },
         "name": "j13",
         "offsetgroup": "j13",
         "orientation": "h",
         "showlegend": true,
         "text": [
          "29-LOR",
          "33-LOR",
          "42-LOR",
          "52-LOR"
         ],
         "textposition": "auto",
         "type": "bar",
         "x": [
          43200000,
          68400000,
          86400000,
          64800000
         ],
         "xaxis": "x",
         "y": [
          "M4",
          "M4",
          "M4",
          "M4"
         ],
         "yaxis": "y"
        },
        {
         "alignmentgroup": "True",
         "base": [
          "1970-01-02T11:00:00",
          "1970-01-01T09:00:00",
          "1970-01-02T02:00:00"
         ],
         "hovertemplate": "Type=j15<br>Start=%{base}<br>Finish=%{x}<br>Resource=%{y}<br>Step-Rule=%{text}<extra></extra>",
         "legendgroup": "j15",
         "marker": {
          "color": "#6C7C32",
          "pattern": {
           "shape": ""
          }
         },
         "name": "j15",
         "offsetgroup": "j15",
         "orientation": "h",
         "showlegend": true,
         "text": [
          "18-LOR",
          "2-LOR",
          "13-LOR"
         ],
         "textposition": "auto",
         "type": "bar",
         "x": [
          100800000,
          61200000,
          28800000
         ],
         "xaxis": "x",
         "y": [
          "M3",
          "M2",
          "M2"
         ],
         "yaxis": "y"
        },
        {
         "alignmentgroup": "True",
         "base": [
          "1970-01-03T15:00:00",
          "1970-01-04T17:00:00",
          "1970-01-05T03:00:00",
          "1970-01-05T20:00:00"
         ],
         "hovertemplate": "Type=j14<br>Start=%{base}<br>Finish=%{x}<br>Resource=%{y}<br>Step-Rule=%{text}<extra></extra>",
         "legendgroup": "j14",
         "marker": {
          "color": "#778AAE",
          "pattern": {
           "shape": ""
          }
         },
         "name": "j14",
         "offsetgroup": "j14",
         "orientation": "h",
         "showlegend": true,
         "text": [
          "24-LPT",
          "34-LOR",
          "39-LOR",
          "46-LOR"
         ],
         "textposition": "auto",
         "type": "bar",
         "x": [
          93600000,
          36000000,
          61200000,
          28800000
         ],
         "xaxis": "x",
         "y": [
          "M3",
          "M3",
          "M2",
          "M2"
         ],
         "yaxis": "y"
        },
        {
         "alignmentgroup": "True",
         "base": [
          "1970-01-01T09:00:00",
          "1970-01-02T03:00:00",
          "1970-01-03T18:00:00",
          "1970-01-04T09:00:00"
         ],
         "hovertemplate": "Type=j1<br>Start=%{base}<br>Finish=%{x}<br>Resource=%{y}<br>Step-Rule=%{text}<extra></extra>",
         "legendgroup": "j1",
         "marker": {
          "color": "#862A16",
          "pattern": {
           "shape": ""
          }
         },
         "name": "j1",
         "offsetgroup": "j1",
         "orientation": "h",
         "showlegend": true,
         "text": [
          "3-LOR",
          "14-LOR",
          "27-LOR",
          "30-LOR"
         ],
         "textposition": "auto",
         "type": "bar",
         "x": [
          64800000,
          28800000,
          54000000,
          50400000
         ],
         "xaxis": "x",
         "y": [
          "M3",
          "M3",
          "M1",
          "M1"
         ],
         "yaxis": "y"
        },
        {
         "alignmentgroup": "True",
         "base": [
          "1970-01-03T02:00:00",
          "1970-01-01T09:00:00",
          "1970-01-01T20:00:00"
         ],
         "hovertemplate": "Type=j6<br>Start=%{base}<br>Finish=%{x}<br>Resource=%{y}<br>Step-Rule=%{text}<extra></extra>",
         "legendgroup": "j6",
         "marker": {
          "color": "#A777F1",
          "pattern": {
           "shape": ""
          }
         },
         "name": "j6",
         "offsetgroup": "j6",
         "orientation": "h",
         "showlegend": true,
         "text": [
          "22-LPT",
          "1-LOR",
          "9-LOR"
         ],
         "textposition": "auto",
         "type": "bar",
         "x": [
          82800000,
          39600000,
          82800000
         ],
         "xaxis": "x",
         "y": [
          "M2",
          "M1",
          "M1"
         ],
         "yaxis": "y"
        },
        {
         "alignmentgroup": "True",
         "base": [
          "1970-01-06T04:00:00",
          "1970-01-07T00:00:00",
          "1970-01-07T11:00:00",
          "1970-01-04T23:00:00",
          "1970-01-05T17:00:00"
         ],
         "hovertemplate": "Type=j5<br>Start=%{base}<br>Finish=%{x}<br>Resource=%{y}<br>Step-Rule=%{text}<extra></extra>",
         "legendgroup": "j5",
         "marker": {
          "color": "#620042",
          "pattern": {
           "shape": ""
          }
         },
         "name": "j5",
         "offsetgroup": "j5",
         "orientation": "h",
         "showlegend": true,
         "text": [
          "49-LOR",
          "55-LOR",
          "60-LOR",
          "37-LOR",
          "45-LOR"
         ],
         "textposition": "auto",
         "type": "bar",
         "x": [
          72000000,
          39600000,
          18000000,
          64800000,
          39600000
         ],
         "xaxis": "x",
         "y": [
          "M2",
          "M2",
          "M2",
          "M1",
          "M1"
         ],
         "yaxis": "y"
        },
        {
         "alignmentgroup": "True",
         "base": [
          "1970-01-07T16:00:00",
          "1970-01-08T10:00:00",
          "1970-01-09T02:00:00",
          "1970-01-10T01:00:00",
          "1970-01-10T19:00:00",
          "1970-01-11T14:00:00",
          "1970-01-12T02:00:00"
         ],
         "hovertemplate": "Type=j2<br>Start=%{base}<br>Finish=%{x}<br>Resource=%{y}<br>Step-Rule=%{text}<extra></extra>",
         "legendgroup": "j2",
         "marker": {
          "color": "#1616A7",
          "pattern": {
           "shape": ""
          }
         },
         "name": "j2",
         "offsetgroup": "j2",
         "orientation": "h",
         "showlegend": true,
         "text": [
          "63-LOR",
          "72-MOR",
          "78-MOR",
          "89-MOR",
          "95-MOR",
          "97-MOR",
          "99-MOR"
         ],
         "textposition": "auto",
         "type": "bar",
         "x": [
          64800000,
          57600000,
          82800000,
          64800000,
          68400000,
          43200000,
          72000000
         ],
         "xaxis": "x",
         "y": [
          "M2",
          "M2",
          "M2",
          "M2",
          "M2",
          "M2",
          "M2"
         ],
         "yaxis": "y"
        },
        {
         "alignmentgroup": "True",
         "base": [
          "1970-01-08T06:00:00",
          "1970-01-08T15:00:00",
          "1970-01-09T08:00:00",
          "1970-01-09T22:00:00",
          "1970-01-10T04:00:00",
          "1970-01-10T18:00:00",
          "1970-01-11T12:00:00"
         ],
         "hovertemplate": "Type=j7<br>Start=%{base}<br>Finish=%{x}<br>Resource=%{y}<br>Step-Rule=%{text}<extra></extra>",
         "legendgroup": "j7",
         "marker": {
          "color": "#DA60CA",
          "pattern": {
           "shape": ""
          }
         },
         "name": "j7",
         "offsetgroup": "j7",
         "orientation": "h",
         "showlegend": true,
         "text": [
          "69-MOR",
          "74-MOR",
          "80-MOR",
          "86-MOR",
          "92-MOR",
          "94-MOR",
          "96-MOR"
         ],
         "textposition": "auto",
         "type": "bar",
         "x": [
          32400000,
          61200000,
          50400000,
          21600000,
          50400000,
          64800000,
          61200000
         ],
         "xaxis": "x",
         "y": [
          "M1",
          "M1",
          "M1",
          "M1",
          "M1",
          "M1",
          "M1"
         ],
         "yaxis": "y"
        },
        {
         "alignmentgroup": "True",
         "base": [
          "1970-01-02T08:00:00",
          "1970-01-03T11:00:00",
          "1970-01-06T04:00:00",
          "1970-01-07T20:00:00",
          "1970-01-09T15:00:00",
          "1970-01-10T03:00:00",
          "1970-01-02T14:00:00",
          "1970-01-03T16:00:00",
          "1970-01-04T10:00:00",
          "1970-01-06T08:00:00",
          "1970-01-07T17:00:00",
          "1970-01-08T19:00:00",
          "1970-01-09T04:00:00",
          "1970-01-09T15:00:00",
          "1970-01-02T13:00:00",
          "1970-01-03T15:00:00",
          "1970-01-04T04:00:00",
          "1970-01-07T05:00:00",
          "1970-01-02T11:00:00",
          "1970-01-03T15:00:00",
          "1970-01-05T03:00:00",
          "1970-01-07T01:00:00",
          "1970-01-07T17:00:00",
          "1970-01-08T06:00:00",
          "1970-01-08T19:00:00",
          "1970-01-09T23:00:00",
          "1970-01-10T17:00:00",
          "1970-01-02T10:00:00",
          "1970-01-03T02:00:00",
          "1970-01-04T01:00:00",
          "1970-01-05T03:00:00",
          "1970-01-06T04:00:00",
          "1970-01-07T16:00:00",
          "1970-01-02T19:00:00",
          "1970-01-03T18:00:00",
          "1970-01-04T23:00:00",
          "1970-01-06T04:00:00",
          "1970-01-06T14:00:00",
          "1970-01-07T17:00:00",
          "1970-01-08T06:00:00",
          "1970-01-12T14:00:00"
         ],
         "hovertemplate": "Type=setup<br>Start=%{base}<br>Finish=%{x}<br>Resource=%{y}<br>Step-Rule=%{text}<extra></extra>",
         "legendgroup": "setup",
         "marker": {
          "color": "#6C4516",
          "pattern": {
           "shape": ""
          }
         },
         "name": "setup",
         "offsetgroup": "setup",
         "orientation": "h",
         "showlegend": true,
         "text": "",
         "textposition": "auto",
         "type": "bar",
         "width": 0.7,
         "x": [
          14400000,
          10800000,
          14400000,
          3600000,
          10800000,
          7200000,
          10800000,
          10800000,
          14400000,
          14400000,
          7200000,
          7200000,
          7200000,
          3600000,
          3600000,
          10800000,
          10800000,
          3600000,
          10800000,
          10800000,
          10800000,
          10800000,
          7200000,
          14400000,
          7200000,
          7200000,
          14400000,
          7200000,
          10800000,
          3600000,
          10800000,
          10800000,
          10800000,
          10800000,
          10800000,
          7200000,
          10800000,
          10800000,
          14400000,
          10800000,
          7200000
         ],
         "xaxis": "x",
         "y": [
          "M6",
          "M6",
          "M6",
          "M6",
          "M6",
          "M6",
          "M5",
          "M5",
          "M5",
          "M5",
          "M5",
          "M5",
          "M5",
          "M5",
          "M4",
          "M4",
          "M4",
          "M4",
          "M3",
          "M3",
          "M3",
          "M3",
          "M3",
          "M3",
          "M3",
          "M3",
          "M3",
          "M2",
          "M2",
          "M2",
          "M2",
          "M2",
          "M2",
          "M1",
          "M1",
          "M1",
          "M1",
          "M1",
          "M1",
          "M1",
          "M1"
         ],
         "yaxis": "y"
        }
       ],
       "layout": {
        "barmode": "overlay",
        "height": 800,
        "legend": {
         "title": {
          "text": "Type"
         },
         "tracegroupgap": 0
        },
        "margin": {
         "t": 60
        },
        "template": {
         "data": {
          "bar": [
           {
            "error_x": {
             "color": "rgb(36,36,36)"
            },
            "error_y": {
             "color": "rgb(36,36,36)"
            },
            "marker": {
             "line": {
              "color": "white",
              "width": 0.5
             },
             "pattern": {
              "fillmode": "overlay",
              "size": 10,
              "solidity": 0.2
             }
            },
            "type": "bar"
           }
          ],
          "barpolar": [
           {
            "marker": {
             "line": {
              "color": "white",
              "width": 0.5
             },
             "pattern": {
              "fillmode": "overlay",
              "size": 10,
              "solidity": 0.2
             }
            },
            "type": "barpolar"
           }
          ],
          "carpet": [
           {
            "aaxis": {
             "endlinecolor": "rgb(36,36,36)",
             "gridcolor": "white",
             "linecolor": "white",
             "minorgridcolor": "white",
             "startlinecolor": "rgb(36,36,36)"
            },
            "baxis": {
             "endlinecolor": "rgb(36,36,36)",
             "gridcolor": "white",
             "linecolor": "white",
             "minorgridcolor": "white",
             "startlinecolor": "rgb(36,36,36)"
            },
            "type": "carpet"
           }
          ],
          "choropleth": [
           {
            "colorbar": {
             "outlinewidth": 1,
             "tickcolor": "rgb(36,36,36)",
             "ticks": "outside"
            },
            "type": "choropleth"
           }
          ],
          "contour": [
           {
            "colorbar": {
             "outlinewidth": 1,
             "tickcolor": "rgb(36,36,36)",
             "ticks": "outside"
            },
            "colorscale": [
             [
              0,
              "#440154"
             ],
             [
              0.1111111111111111,
              "#482878"
             ],
             [
              0.2222222222222222,
              "#3e4989"
             ],
             [
              0.3333333333333333,
              "#31688e"
             ],
             [
              0.4444444444444444,
              "#26828e"
             ],
             [
              0.5555555555555556,
              "#1f9e89"
             ],
             [
              0.6666666666666666,
              "#35b779"
             ],
             [
              0.7777777777777778,
              "#6ece58"
             ],
             [
              0.8888888888888888,
              "#b5de2b"
             ],
             [
              1,
              "#fde725"
             ]
            ],
            "type": "contour"
           }
          ],
          "contourcarpet": [
           {
            "colorbar": {
             "outlinewidth": 1,
             "tickcolor": "rgb(36,36,36)",
             "ticks": "outside"
            },
            "type": "contourcarpet"
           }
          ],
          "heatmap": [
           {
            "colorbar": {
             "outlinewidth": 1,
             "tickcolor": "rgb(36,36,36)",
             "ticks": "outside"
            },
            "colorscale": [
             [
              0,
              "#440154"
             ],
             [
              0.1111111111111111,
              "#482878"
             ],
             [
              0.2222222222222222,
              "#3e4989"
             ],
             [
              0.3333333333333333,
              "#31688e"
             ],
             [
              0.4444444444444444,
              "#26828e"
             ],
             [
              0.5555555555555556,
              "#1f9e89"
             ],
             [
              0.6666666666666666,
              "#35b779"
             ],
             [
              0.7777777777777778,
              "#6ece58"
             ],
             [
              0.8888888888888888,
              "#b5de2b"
             ],
             [
              1,
              "#fde725"
             ]
            ],
            "type": "heatmap"
           }
          ],
          "heatmapgl": [
           {
            "colorbar": {
             "outlinewidth": 1,
             "tickcolor": "rgb(36,36,36)",
             "ticks": "outside"
            },
            "colorscale": [
             [
              0,
              "#440154"
             ],
             [
              0.1111111111111111,
              "#482878"
             ],
             [
              0.2222222222222222,
              "#3e4989"
             ],
             [
              0.3333333333333333,
              "#31688e"
             ],
             [
              0.4444444444444444,
              "#26828e"
             ],
             [
              0.5555555555555556,
              "#1f9e89"
             ],
             [
              0.6666666666666666,
              "#35b779"
             ],
             [
              0.7777777777777778,
              "#6ece58"
             ],
             [
              0.8888888888888888,
              "#b5de2b"
             ],
             [
              1,
              "#fde725"
             ]
            ],
            "type": "heatmapgl"
           }
          ],
          "histogram": [
           {
            "marker": {
             "line": {
              "color": "white",
              "width": 0.6
             }
            },
            "type": "histogram"
           }
          ],
          "histogram2d": [
           {
            "colorbar": {
             "outlinewidth": 1,
             "tickcolor": "rgb(36,36,36)",
             "ticks": "outside"
            },
            "colorscale": [
             [
              0,
              "#440154"
             ],
             [
              0.1111111111111111,
              "#482878"
             ],
             [
              0.2222222222222222,
              "#3e4989"
             ],
             [
              0.3333333333333333,
              "#31688e"
             ],
             [
              0.4444444444444444,
              "#26828e"
             ],
             [
              0.5555555555555556,
              "#1f9e89"
             ],
             [
              0.6666666666666666,
              "#35b779"
             ],
             [
              0.7777777777777778,
              "#6ece58"
             ],
             [
              0.8888888888888888,
              "#b5de2b"
             ],
             [
              1,
              "#fde725"
             ]
            ],
            "type": "histogram2d"
           }
          ],
          "histogram2dcontour": [
           {
            "colorbar": {
             "outlinewidth": 1,
             "tickcolor": "rgb(36,36,36)",
             "ticks": "outside"
            },
            "colorscale": [
             [
              0,
              "#440154"
             ],
             [
              0.1111111111111111,
              "#482878"
             ],
             [
              0.2222222222222222,
              "#3e4989"
             ],
             [
              0.3333333333333333,
              "#31688e"
             ],
             [
              0.4444444444444444,
              "#26828e"
             ],
             [
              0.5555555555555556,
              "#1f9e89"
             ],
             [
              0.6666666666666666,
              "#35b779"
             ],
             [
              0.7777777777777778,
              "#6ece58"
             ],
             [
              0.8888888888888888,
              "#b5de2b"
             ],
             [
              1,
              "#fde725"
             ]
            ],
            "type": "histogram2dcontour"
           }
          ],
          "mesh3d": [
           {
            "colorbar": {
             "outlinewidth": 1,
             "tickcolor": "rgb(36,36,36)",
             "ticks": "outside"
            },
            "type": "mesh3d"
           }
          ],
          "parcoords": [
           {
            "line": {
             "colorbar": {
              "outlinewidth": 1,
              "tickcolor": "rgb(36,36,36)",
              "ticks": "outside"
             }
            },
            "type": "parcoords"
           }
          ],
          "pie": [
           {
            "automargin": true,
            "type": "pie"
           }
          ],
          "scatter": [
           {
            "fillpattern": {
             "fillmode": "overlay",
             "size": 10,
             "solidity": 0.2
            },
            "type": "scatter"
           }
          ],
          "scatter3d": [
           {
            "line": {
             "colorbar": {
              "outlinewidth": 1,
              "tickcolor": "rgb(36,36,36)",
              "ticks": "outside"
             }
            },
            "marker": {
             "colorbar": {
              "outlinewidth": 1,
              "tickcolor": "rgb(36,36,36)",
              "ticks": "outside"
             }
            },
            "type": "scatter3d"
           }
          ],
          "scattercarpet": [
           {
            "marker": {
             "colorbar": {
              "outlinewidth": 1,
              "tickcolor": "rgb(36,36,36)",
              "ticks": "outside"
             }
            },
            "type": "scattercarpet"
           }
          ],
          "scattergeo": [
           {
            "marker": {
             "colorbar": {
              "outlinewidth": 1,
              "tickcolor": "rgb(36,36,36)",
              "ticks": "outside"
             }
            },
            "type": "scattergeo"
           }
          ],
          "scattergl": [
           {
            "marker": {
             "colorbar": {
              "outlinewidth": 1,
              "tickcolor": "rgb(36,36,36)",
              "ticks": "outside"
             }
            },
            "type": "scattergl"
           }
          ],
          "scattermapbox": [
           {
            "marker": {
             "colorbar": {
              "outlinewidth": 1,
              "tickcolor": "rgb(36,36,36)",
              "ticks": "outside"
             }
            },
            "type": "scattermapbox"
           }
          ],
          "scatterpolar": [
           {
            "marker": {
             "colorbar": {
              "outlinewidth": 1,
              "tickcolor": "rgb(36,36,36)",
              "ticks": "outside"
             }
            },
            "type": "scatterpolar"
           }
          ],
          "scatterpolargl": [
           {
            "marker": {
             "colorbar": {
              "outlinewidth": 1,
              "tickcolor": "rgb(36,36,36)",
              "ticks": "outside"
             }
            },
            "type": "scatterpolargl"
           }
          ],
          "scatterternary": [
           {
            "marker": {
             "colorbar": {
              "outlinewidth": 1,
              "tickcolor": "rgb(36,36,36)",
              "ticks": "outside"
             }
            },
            "type": "scatterternary"
           }
          ],
          "surface": [
           {
            "colorbar": {
             "outlinewidth": 1,
             "tickcolor": "rgb(36,36,36)",
             "ticks": "outside"
            },
            "colorscale": [
             [
              0,
              "#440154"
             ],
             [
              0.1111111111111111,
              "#482878"
             ],
             [
              0.2222222222222222,
              "#3e4989"
             ],
             [
              0.3333333333333333,
              "#31688e"
             ],
             [
              0.4444444444444444,
              "#26828e"
             ],
             [
              0.5555555555555556,
              "#1f9e89"
             ],
             [
              0.6666666666666666,
              "#35b779"
             ],
             [
              0.7777777777777778,
              "#6ece58"
             ],
             [
              0.8888888888888888,
              "#b5de2b"
             ],
             [
              1,
              "#fde725"
             ]
            ],
            "type": "surface"
           }
          ],
          "table": [
           {
            "cells": {
             "fill": {
              "color": "rgb(237,237,237)"
             },
             "line": {
              "color": "white"
             }
            },
            "header": {
             "fill": {
              "color": "rgb(217,217,217)"
             },
             "line": {
              "color": "white"
             }
            },
            "type": "table"
           }
          ]
         },
         "layout": {
          "annotationdefaults": {
           "arrowhead": 0,
           "arrowwidth": 1
          },
          "autotypenumbers": "strict",
          "coloraxis": {
           "colorbar": {
            "outlinewidth": 1,
            "tickcolor": "rgb(36,36,36)",
            "ticks": "outside"
           }
          },
          "colorscale": {
           "diverging": [
            [
             0,
             "rgb(103,0,31)"
            ],
            [
             0.1,
             "rgb(178,24,43)"
            ],
            [
             0.2,
             "rgb(214,96,77)"
            ],
            [
             0.3,
             "rgb(244,165,130)"
            ],
            [
             0.4,
             "rgb(253,219,199)"
            ],
            [
             0.5,
             "rgb(247,247,247)"
            ],
            [
             0.6,
             "rgb(209,229,240)"
            ],
            [
             0.7,
             "rgb(146,197,222)"
            ],
            [
             0.8,
             "rgb(67,147,195)"
            ],
            [
             0.9,
             "rgb(33,102,172)"
            ],
            [
             1,
             "rgb(5,48,97)"
            ]
           ],
           "sequential": [
            [
             0,
             "#440154"
            ],
            [
             0.1111111111111111,
             "#482878"
            ],
            [
             0.2222222222222222,
             "#3e4989"
            ],
            [
             0.3333333333333333,
             "#31688e"
            ],
            [
             0.4444444444444444,
             "#26828e"
            ],
            [
             0.5555555555555556,
             "#1f9e89"
            ],
            [
             0.6666666666666666,
             "#35b779"
            ],
            [
             0.7777777777777778,
             "#6ece58"
            ],
            [
             0.8888888888888888,
             "#b5de2b"
            ],
            [
             1,
             "#fde725"
            ]
           ],
           "sequentialminus": [
            [
             0,
             "#440154"
            ],
            [
             0.1111111111111111,
             "#482878"
            ],
            [
             0.2222222222222222,
             "#3e4989"
            ],
            [
             0.3333333333333333,
             "#31688e"
            ],
            [
             0.4444444444444444,
             "#26828e"
            ],
            [
             0.5555555555555556,
             "#1f9e89"
            ],
            [
             0.6666666666666666,
             "#35b779"
            ],
            [
             0.7777777777777778,
             "#6ece58"
            ],
            [
             0.8888888888888888,
             "#b5de2b"
            ],
            [
             1,
             "#fde725"
            ]
           ]
          },
          "colorway": [
           "#1F77B4",
           "#FF7F0E",
           "#2CA02C",
           "#D62728",
           "#9467BD",
           "#8C564B",
           "#E377C2",
           "#7F7F7F",
           "#BCBD22",
           "#17BECF"
          ],
          "font": {
           "color": "rgb(36,36,36)"
          },
          "geo": {
           "bgcolor": "white",
           "lakecolor": "white",
           "landcolor": "white",
           "showlakes": true,
           "showland": true,
           "subunitcolor": "white"
          },
          "hoverlabel": {
           "align": "left"
          },
          "hovermode": "closest",
          "mapbox": {
           "style": "light"
          },
          "paper_bgcolor": "white",
          "plot_bgcolor": "white",
          "polar": {
           "angularaxis": {
            "gridcolor": "rgb(232,232,232)",
            "linecolor": "rgb(36,36,36)",
            "showgrid": false,
            "showline": true,
            "ticks": "outside"
           },
           "bgcolor": "white",
           "radialaxis": {
            "gridcolor": "rgb(232,232,232)",
            "linecolor": "rgb(36,36,36)",
            "showgrid": false,
            "showline": true,
            "ticks": "outside"
           }
          },
          "scene": {
           "xaxis": {
            "backgroundcolor": "white",
            "gridcolor": "rgb(232,232,232)",
            "gridwidth": 2,
            "linecolor": "rgb(36,36,36)",
            "showbackground": true,
            "showgrid": false,
            "showline": true,
            "ticks": "outside",
            "zeroline": false,
            "zerolinecolor": "rgb(36,36,36)"
           },
           "yaxis": {
            "backgroundcolor": "white",
            "gridcolor": "rgb(232,232,232)",
            "gridwidth": 2,
            "linecolor": "rgb(36,36,36)",
            "showbackground": true,
            "showgrid": false,
            "showline": true,
            "ticks": "outside",
            "zeroline": false,
            "zerolinecolor": "rgb(36,36,36)"
           },
           "zaxis": {
            "backgroundcolor": "white",
            "gridcolor": "rgb(232,232,232)",
            "gridwidth": 2,
            "linecolor": "rgb(36,36,36)",
            "showbackground": true,
            "showgrid": false,
            "showline": true,
            "ticks": "outside",
            "zeroline": false,
            "zerolinecolor": "rgb(36,36,36)"
           }
          },
          "shapedefaults": {
           "fillcolor": "black",
           "line": {
            "width": 0
           },
           "opacity": 0.3
          },
          "ternary": {
           "aaxis": {
            "gridcolor": "rgb(232,232,232)",
            "linecolor": "rgb(36,36,36)",
            "showgrid": false,
            "showline": true,
            "ticks": "outside"
           },
           "baxis": {
            "gridcolor": "rgb(232,232,232)",
            "linecolor": "rgb(36,36,36)",
            "showgrid": false,
            "showline": true,
            "ticks": "outside"
           },
           "bgcolor": "white",
           "caxis": {
            "gridcolor": "rgb(232,232,232)",
            "linecolor": "rgb(36,36,36)",
            "showgrid": false,
            "showline": true,
            "ticks": "outside"
           }
          },
          "title": {
           "x": 0.05
          },
          "xaxis": {
           "automargin": true,
           "gridcolor": "rgb(232,232,232)",
           "linecolor": "rgb(36,36,36)",
           "showgrid": false,
           "showline": true,
           "ticks": "outside",
           "title": {
            "standoff": 15
           },
           "zeroline": false,
           "zerolinecolor": "rgb(36,36,36)"
          },
          "yaxis": {
           "automargin": true,
           "gridcolor": "rgb(232,232,232)",
           "linecolor": "rgb(36,36,36)",
           "showgrid": false,
           "showline": true,
           "ticks": "outside",
           "title": {
            "standoff": 15
           },
           "zeroline": false,
           "zerolinecolor": "rgb(36,36,36)"
          }
         }
        },
        "width": 2000,
        "xaxis": {
         "anchor": "y",
         "domain": [
          0,
          1
         ],
         "type": "date"
        },
        "yaxis": {
         "anchor": "x",
         "domain": [
          0,
          1
         ],
         "title": {
          "text": "Resource"
         }
        }
       }
      },
      "text/html": [
       "<div>                            <div id=\"2661e5ea-78c4-4ce1-97cf-73aac54f331c\" class=\"plotly-graph-div\" style=\"height:800px; width:2000px;\"></div>            <script type=\"text/javascript\">                require([\"plotly\"], function(Plotly) {                    window.PLOTLYENV=window.PLOTLYENV || {};                                    if (document.getElementById(\"2661e5ea-78c4-4ce1-97cf-73aac54f331c\")) {                    Plotly.newPlot(                        \"2661e5ea-78c4-4ce1-97cf-73aac54f331c\",                        [{\"alignmentgroup\":\"True\",\"base\":[\"1970-01-06T04:00:00\",\"1970-01-06T17:00:00\",\"1970-01-07T03:00:00\",\"1970-01-07T11:00:00\",\"1970-01-09T04:00:00\"],\"hovertemplate\":\"Type=j9<br>Start=%{base}<br>Finish=%{x}<br>Resource=%{y}<br>Step-Rule=%{text}<extra></extra>\",\"legendgroup\":\"j9\",\"marker\":{\"color\":\"#2E91E5\",\"pattern\":{\"shape\":\"\"}},\"name\":\"j9\",\"offsetgroup\":\"j9\",\"orientation\":\"h\",\"showlegend\":true,\"text\":[\"50-LOR\",\"54-LOR\",\"57-LOR\",\"61-LOR\",\"79-MOR\"],\"textposition\":\"auto\",\"x\":[46800000.0,36000000.0,28800000.0,32400000.0,39600000.0],\"xaxis\":\"x\",\"y\":[\"M6\",\"M6\",\"M6\",\"M6\",\"M5\"],\"yaxis\":\"y\",\"type\":\"bar\"},{\"alignmentgroup\":\"True\",\"base\":[\"1970-01-10T03:00:00\",\"1970-01-07T17:00:00\",\"1970-01-02T13:00:00\",\"1970-01-07T01:00:00\",\"1970-01-08T19:00:00\",\"1970-01-09T11:00:00\"],\"hovertemplate\":\"Type=j20<br>Start=%{base}<br>Finish=%{x}<br>Resource=%{y}<br>Step-Rule=%{text}<extra></extra>\",\"legendgroup\":\"j20\",\"marker\":{\"color\":\"#E15F99\",\"pattern\":{\"shape\":\"\"}},\"name\":\"j20\",\"offsetgroup\":\"j20\",\"orientation\":\"h\",\"showlegend\":true,\"text\":[\"91-MOR\",\"66-LOR\",\"19-LPT\",\"56-LOR\",\"75-MOR\",\"82-MOR\"],\"textposition\":\"auto\",\"x\":[32400000.0,93600000.0,93600000.0,57600000.0,57600000.0,43200000.0],\"xaxis\":\"x\",\"y\":[\"M6\",\"M5\",\"M4\",\"M3\",\"M3\",\"M3\"],\"yaxis\":\"y\",\"type\":\"bar\"},{\"alignmentgroup\":\"True\",\"base\":[\"1970-01-03T11:00:00\",\"1970-01-04T12:00:00\",\"1970-01-04T22:00:00\",\"1970-01-05T11:00:00\",\"1970-01-06T04:00:00\"],\"hovertemplate\":\"Type=j18<br>Start=%{base}<br>Finish=%{x}<br>Resource=%{y}<br>Step-Rule=%{text}<extra></extra>\",\"legendgroup\":\"j18\",\"marker\":{\"color\":\"#1CA71C\",\"pattern\":{\"shape\":\"\"}},\"name\":\"j18\",\"offsetgroup\":\"j18\",\"orientation\":\"h\",\"showlegend\":true,\"text\":[\"23-LPT\",\"32-LOR\",\"36-LOR\",\"43-LOR\",\"48-LOR\"],\"textposition\":\"auto\",\"x\":[90000000.0,36000000.0,46800000.0,61200000.0,36000000.0],\"xaxis\":\"x\",\"y\":[\"M6\",\"M6\",\"M6\",\"M6\",\"M1\"],\"yaxis\":\"y\",\"type\":\"bar\"},{\"alignmentgroup\":\"True\",\"base\":[\"1970-01-02T08:00:00\",\"1970-01-05T03:00:00\",\"1970-01-06T00:00:00\",\"1970-01-04T01:00:00\"],\"hovertemplate\":\"Type=j17<br>Start=%{base}<br>Finish=%{x}<br>Resource=%{y}<br>Step-Rule=%{text}<extra></extra>\",\"legendgroup\":\"j17\",\"marker\":{\"color\":\"#FB0D0D\",\"pattern\":{\"shape\":\"\"}},\"name\":\"j17\",\"offsetgroup\":\"j17\",\"orientation\":\"h\",\"showlegend\":true,\"text\":[\"16-LPT\",\"40-LOR\",\"47-LOR\",\"28-LOR\"],\"textposition\":\"auto\",\"x\":[97200000.0,75600000.0,90000000.0,93600000.0],\"xaxis\":\"x\",\"y\":[\"M6\",\"M3\",\"M3\",\"M2\"],\"yaxis\":\"y\",\"type\":\"bar\"},{\"alignmentgroup\":\"True\",\"base\":[\"1970-01-07T20:00:00\",\"1970-01-08T09:00:00\",\"1970-01-08T22:00:00\",\"1970-01-09T15:00:00\",\"1970-01-10T03:00:00\",\"1970-01-10T17:00:00\",\"1970-01-11T15:00:00\",\"1970-01-12T14:00:00\"],\"hovertemplate\":\"Type=j16<br>Start=%{base}<br>Finish=%{x}<br>Resource=%{y}<br>Step-Rule=%{text}<extra></extra>\",\"legendgroup\":\"j16\",\"marker\":{\"color\":\"#DA16FF\",\"pattern\":{\"shape\":\"\"}},\"name\":\"j16\",\"offsetgroup\":\"j16\",\"orientation\":\"h\",\"showlegend\":true,\"text\":[\"68-MOR\",\"71-MOR\",\"77-MOR\",\"83-MOR\",\"90-MOR\",\"93-MOR\",\"98-MOR\",\"100-MOR\"],\"textposition\":\"auto\",\"x\":[46800000.0,46800000.0,61200000.0,43200000.0,50400000.0,79200000.0,82800000.0,25200000.0],\"xaxis\":\"x\",\"y\":[\"M6\",\"M6\",\"M6\",\"M5\",\"M5\",\"M3\",\"M3\",\"M1\"],\"yaxis\":\"y\",\"type\":\"bar\"},{\"alignmentgroup\":\"True\",\"base\":[\"1970-01-09T15:00:00\",\"1970-01-02T14:00:00\",\"1970-01-06T08:00:00\",\"1970-01-07T06:00:00\",\"1970-01-08T06:00:00\",\"1970-01-07T17:00:00\"],\"hovertemplate\":\"Type=j11<br>Start=%{base}<br>Finish=%{x}<br>Resource=%{y}<br>Step-Rule=%{text}<extra></extra>\",\"legendgroup\":\"j11\",\"marker\":{\"color\":\"#222A2A\",\"pattern\":{\"shape\":\"\"}},\"name\":\"j11\",\"offsetgroup\":\"j11\",\"orientation\":\"h\",\"showlegend\":true,\"text\":[\"84-MOR\",\"20-LPT\",\"51-LOR\",\"59-LOR\",\"70-MOR\",\"64-LOR\"],\"textposition\":\"auto\",\"x\":[43200000.0,93600000.0,79200000.0,39600000.0,46800000.0,46800000.0],\"xaxis\":\"x\",\"y\":[\"M6\",\"M5\",\"M5\",\"M5\",\"M3\",\"M1\"],\"yaxis\":\"y\",\"type\":\"bar\"},{\"alignmentgroup\":\"True\",\"base\":[\"1970-01-01T09:00:00\",\"1970-01-01T14:00:00\",\"1970-01-02T01:00:00\",\"1970-01-02T10:00:00\"],\"hovertemplate\":\"Type=j10<br>Start=%{base}<br>Finish=%{x}<br>Resource=%{y}<br>Step-Rule=%{text}<extra></extra>\",\"legendgroup\":\"j10\",\"marker\":{\"color\":\"#B68100\",\"pattern\":{\"shape\":\"\"}},\"name\":\"j10\",\"offsetgroup\":\"j10\",\"orientation\":\"h\",\"showlegend\":true,\"text\":[\"6-LOR\",\"7-LOR\",\"12-LOR\",\"17-LOR\"],\"textposition\":\"auto\",\"x\":[18000000.0,39600000.0,25200000.0,57600000.0],\"xaxis\":\"x\",\"y\":[\"M6\",\"M6\",\"M6\",\"M2\"],\"yaxis\":\"y\",\"type\":\"bar\"},{\"alignmentgroup\":\"True\",\"base\":[\"1970-01-10T12:00:00\",\"1970-01-10T17:00:00\",\"1970-01-10T18:00:00\",\"1970-01-10T19:00:00\",\"1970-01-10T21:00:00\",\"1970-01-11T12:00:00\",\"1970-01-11T14:00:00\",\"1970-01-11T15:00:00\",\"1970-01-12T02:00:00\",\"1970-01-12T05:00:00\",\"1970-01-12T14:00:00\",\"1970-01-12T16:00:00\",\"1970-01-12T21:00:00\",\"1970-01-10T17:00:00\",\"1970-01-10T18:00:00\",\"1970-01-10T19:00:00\",\"1970-01-10T21:00:00\",\"1970-01-11T12:00:00\",\"1970-01-11T14:00:00\",\"1970-01-11T15:00:00\",\"1970-01-12T02:00:00\",\"1970-01-12T05:00:00\",\"1970-01-12T14:00:00\",\"1970-01-12T16:00:00\",\"1970-01-12T21:00:00\",\"1970-01-10T18:00:00\",\"1970-01-10T19:00:00\",\"1970-01-10T21:00:00\",\"1970-01-11T12:00:00\",\"1970-01-11T14:00:00\",\"1970-01-11T15:00:00\",\"1970-01-12T02:00:00\",\"1970-01-12T05:00:00\",\"1970-01-12T14:00:00\",\"1970-01-12T16:00:00\",\"1970-01-12T21:00:00\",\"1970-01-10T07:00:00\",\"1970-01-10T12:00:00\",\"1970-01-12T14:00:00\",\"1970-01-12T16:00:00\",\"1970-01-12T21:00:00\",\"1970-01-12T05:00:00\",\"1970-01-12T21:00:00\"],\"hovertemplate\":\"Type=delay_machine<br>Start=%{base}<br>Finish=%{x}<br>Resource=%{y}<br>Step-Rule=%{text}<extra></extra>\",\"legendgroup\":\"delay_machine\",\"marker\":{\"color\":\"#750D86\",\"pattern\":{\"shape\":\"\"}},\"name\":\"delay_machine\",\"offsetgroup\":\"delay_machine\",\"orientation\":\"h\",\"showlegend\":true,\"text\":[\"93-DDA\",\"94-DDA\",\"95-DDA\",\"96-DDA\",\"96-DDA\",\"97-DDA\",\"98-DDA\",\"99-DDA\",\"100-DDA\",\"100-DDA\",\"101-DDA\",\"101-DDA\",\"101-DDA\",\"94-DDA\",\"95-DDA\",\"96-DDA\",\"96-DDA\",\"97-DDA\",\"98-DDA\",\"99-DDA\",\"100-DDA\",\"100-DDA\",\"101-DDA\",\"101-DDA\",\"101-DDA\",\"95-DDA\",\"96-DDA\",\"96-DDA\",\"97-DDA\",\"98-DDA\",\"99-DDA\",\"100-DDA\",\"100-DDA\",\"101-DDA\",\"101-DDA\",\"101-DDA\",\"93-DDA\",\"93-DDA\",\"101-DDA\",\"101-DDA\",\"101-DDA\",\"100-DDA\",\"101-DDA\"],\"textposition\":\"auto\",\"x\":[18000000.0,3600000.0,3600000.0,7200000.0,54000000.0,7200000.0,3600000.0,39600000.0,10800000.0,32400000.0,7200000.0,18000000.0,3600000.0,3600000.0,3600000.0,7200000.0,54000000.0,7200000.0,3600000.0,39600000.0,10800000.0,32400000.0,7200000.0,18000000.0,3600000.0,3600000.0,7200000.0,54000000.0,7200000.0,3600000.0,39600000.0,10800000.0,32400000.0,7200000.0,18000000.0,3600000.0,18000000.0,18000000.0,7200000.0,18000000.0,3600000.0,32400000.0,3600000.0],\"xaxis\":\"x\",\"y\":[\"M6\",\"M6\",\"M6\",\"M6\",\"M6\",\"M6\",\"M6\",\"M6\",\"M6\",\"M6\",\"M6\",\"M6\",\"M6\",\"M5\",\"M5\",\"M5\",\"M5\",\"M5\",\"M5\",\"M5\",\"M5\",\"M5\",\"M5\",\"M5\",\"M5\",\"M4\",\"M4\",\"M4\",\"M4\",\"M4\",\"M4\",\"M4\",\"M4\",\"M4\",\"M4\",\"M4\",\"M3\",\"M3\",\"M3\",\"M3\",\"M3\",\"M1\",\"M1\"],\"yaxis\":\"y\",\"type\":\"bar\"},{\"alignmentgroup\":\"True\",\"base\":[\"1970-01-01T09:00:00\",\"1970-01-01T15:00:00\",\"1970-01-01T20:00:00\",\"1970-01-03T16:00:00\"],\"hovertemplate\":\"Type=j8<br>Start=%{base}<br>Finish=%{x}<br>Resource=%{y}<br>Step-Rule=%{text}<extra></extra>\",\"legendgroup\":\"j8\",\"marker\":{\"color\":\"#EB663B\",\"pattern\":{\"shape\":\"\"}},\"name\":\"j8\",\"offsetgroup\":\"j8\",\"orientation\":\"h\",\"showlegend\":true,\"text\":[\"5-LOR\",\"8-LOR\",\"10-LOR\",\"26-LOR\"],\"textposition\":\"auto\",\"x\":[21600000.0,18000000.0,64800000.0,64800000.0],\"xaxis\":\"x\",\"y\":[\"M5\",\"M5\",\"M5\",\"M5\"],\"yaxis\":\"y\",\"type\":\"bar\"},{\"alignmentgroup\":\"True\",\"base\":[\"1970-01-04T10:00:00\",\"1970-01-04T18:00:00\",\"1970-01-05T01:00:00\",\"1970-01-05T06:00:00\",\"1970-01-05T15:00:00\"],\"hovertemplate\":\"Type=j4<br>Start=%{base}<br>Finish=%{x}<br>Resource=%{y}<br>Step-Rule=%{text}<extra></extra>\",\"legendgroup\":\"j4\",\"marker\":{\"color\":\"#511CFB\",\"pattern\":{\"shape\":\"\"}},\"name\":\"j4\",\"offsetgroup\":\"j4\",\"orientation\":\"h\",\"showlegend\":true,\"text\":[\"31-LOR\",\"35-LOR\",\"38-LOR\",\"41-LOR\",\"44-LOR\"],\"textposition\":\"auto\",\"x\":[28800000.0,25200000.0,18000000.0,32400000.0,61200000.0],\"xaxis\":\"x\",\"y\":[\"M5\",\"M5\",\"M5\",\"M5\",\"M5\"],\"yaxis\":\"y\",\"type\":\"bar\"},{\"alignmentgroup\":\"True\",\"base\":[\"1970-01-08T19:00:00\",\"1970-01-07T17:00:00\",\"1970-01-09T23:00:00\",\"1970-01-06T14:00:00\",\"1970-01-07T12:00:00\"],\"hovertemplate\":\"Type=j12<br>Start=%{base}<br>Finish=%{x}<br>Resource=%{y}<br>Step-Rule=%{text}<extra></extra>\",\"legendgroup\":\"j12\",\"marker\":{\"color\":\"#00A08B\",\"pattern\":{\"shape\":\"\"}},\"name\":\"j12\",\"offsetgroup\":\"j12\",\"orientation\":\"h\",\"showlegend\":true,\"text\":[\"76-MOR\",\"65-LOR\",\"87-MOR\",\"53-LOR\",\"62-LOR\"],\"textposition\":\"auto\",\"x\":[32400000.0,46800000.0,28800000.0,79200000.0,18000000.0],\"xaxis\":\"x\",\"y\":[\"M5\",\"M3\",\"M3\",\"M1\",\"M1\"],\"yaxis\":\"y\",\"type\":\"bar\"},{\"alignmentgroup\":\"True\",\"base\":[\"1970-01-01T09:00:00\",\"1970-01-01T21:00:00\",\"1970-01-02T06:00:00\",\"1970-01-03T15:00:00\"],\"hovertemplate\":\"Type=j3<br>Start=%{base}<br>Finish=%{x}<br>Resource=%{y}<br>Step-Rule=%{text}<extra></extra>\",\"legendgroup\":\"j3\",\"marker\":{\"color\":\"#FB00D1\",\"pattern\":{\"shape\":\"\"}},\"name\":\"j3\",\"offsetgroup\":\"j3\",\"orientation\":\"h\",\"showlegend\":true,\"text\":[\"4-LOR\",\"11-LOR\",\"15-LOR\",\"25-LOR\"],\"textposition\":\"auto\",\"x\":[43200000.0,32400000.0,25200000.0,46800000.0],\"xaxis\":\"x\",\"y\":[\"M4\",\"M4\",\"M4\",\"M4\"],\"yaxis\":\"y\",\"type\":\"bar\"},{\"alignmentgroup\":\"True\",\"base\":[\"1970-01-07T05:00:00\",\"1970-01-07T19:00:00\",\"1970-01-08T12:00:00\",\"1970-01-09T08:00:00\",\"1970-01-09T17:00:00\",\"1970-01-10T00:00:00\",\"1970-01-02T19:00:00\"],\"hovertemplate\":\"Type=j19<br>Start=%{base}<br>Finish=%{x}<br>Resource=%{y}<br>Step-Rule=%{text}<extra></extra>\",\"legendgroup\":\"j19\",\"marker\":{\"color\":\"#FC0080\",\"pattern\":{\"shape\":\"\"}},\"name\":\"j19\",\"offsetgroup\":\"j19\",\"orientation\":\"h\",\"showlegend\":true,\"text\":[\"58-LOR\",\"67-LOR\",\"73-MOR\",\"81-MOR\",\"85-MOR\",\"88-MOR\",\"21-LPT\"],\"textposition\":\"auto\",\"x\":[50400000.0,61200000.0,72000000.0,32400000.0,25200000.0,64800000.0,82800000.0],\"xaxis\":\"x\",\"y\":[\"M4\",\"M4\",\"M4\",\"M4\",\"M4\",\"M4\",\"M1\"],\"yaxis\":\"y\",\"type\":\"bar\"},{\"alignmentgroup\":\"True\",\"base\":[\"1970-01-04T04:00:00\",\"1970-01-04T16:00:00\",\"1970-01-05T11:00:00\",\"1970-01-06T11:00:00\"],\"hovertemplate\":\"Type=j13<br>Start=%{base}<br>Finish=%{x}<br>Resource=%{y}<br>Step-Rule=%{text}<extra></extra>\",\"legendgroup\":\"j13\",\"marker\":{\"color\":\"#B2828D\",\"pattern\":{\"shape\":\"\"}},\"name\":\"j13\",\"offsetgroup\":\"j13\",\"orientation\":\"h\",\"showlegend\":true,\"text\":[\"29-LOR\",\"33-LOR\",\"42-LOR\",\"52-LOR\"],\"textposition\":\"auto\",\"x\":[43200000.0,68400000.0,86400000.0,64800000.0],\"xaxis\":\"x\",\"y\":[\"M4\",\"M4\",\"M4\",\"M4\"],\"yaxis\":\"y\",\"type\":\"bar\"},{\"alignmentgroup\":\"True\",\"base\":[\"1970-01-02T11:00:00\",\"1970-01-01T09:00:00\",\"1970-01-02T02:00:00\"],\"hovertemplate\":\"Type=j15<br>Start=%{base}<br>Finish=%{x}<br>Resource=%{y}<br>Step-Rule=%{text}<extra></extra>\",\"legendgroup\":\"j15\",\"marker\":{\"color\":\"#6C7C32\",\"pattern\":{\"shape\":\"\"}},\"name\":\"j15\",\"offsetgroup\":\"j15\",\"orientation\":\"h\",\"showlegend\":true,\"text\":[\"18-LOR\",\"2-LOR\",\"13-LOR\"],\"textposition\":\"auto\",\"x\":[100800000.0,61200000.0,28800000.0],\"xaxis\":\"x\",\"y\":[\"M3\",\"M2\",\"M2\"],\"yaxis\":\"y\",\"type\":\"bar\"},{\"alignmentgroup\":\"True\",\"base\":[\"1970-01-03T15:00:00\",\"1970-01-04T17:00:00\",\"1970-01-05T03:00:00\",\"1970-01-05T20:00:00\"],\"hovertemplate\":\"Type=j14<br>Start=%{base}<br>Finish=%{x}<br>Resource=%{y}<br>Step-Rule=%{text}<extra></extra>\",\"legendgroup\":\"j14\",\"marker\":{\"color\":\"#778AAE\",\"pattern\":{\"shape\":\"\"}},\"name\":\"j14\",\"offsetgroup\":\"j14\",\"orientation\":\"h\",\"showlegend\":true,\"text\":[\"24-LPT\",\"34-LOR\",\"39-LOR\",\"46-LOR\"],\"textposition\":\"auto\",\"x\":[93600000.0,36000000.0,61200000.0,28800000.0],\"xaxis\":\"x\",\"y\":[\"M3\",\"M3\",\"M2\",\"M2\"],\"yaxis\":\"y\",\"type\":\"bar\"},{\"alignmentgroup\":\"True\",\"base\":[\"1970-01-01T09:00:00\",\"1970-01-02T03:00:00\",\"1970-01-03T18:00:00\",\"1970-01-04T09:00:00\"],\"hovertemplate\":\"Type=j1<br>Start=%{base}<br>Finish=%{x}<br>Resource=%{y}<br>Step-Rule=%{text}<extra></extra>\",\"legendgroup\":\"j1\",\"marker\":{\"color\":\"#862A16\",\"pattern\":{\"shape\":\"\"}},\"name\":\"j1\",\"offsetgroup\":\"j1\",\"orientation\":\"h\",\"showlegend\":true,\"text\":[\"3-LOR\",\"14-LOR\",\"27-LOR\",\"30-LOR\"],\"textposition\":\"auto\",\"x\":[64800000.0,28800000.0,54000000.0,50400000.0],\"xaxis\":\"x\",\"y\":[\"M3\",\"M3\",\"M1\",\"M1\"],\"yaxis\":\"y\",\"type\":\"bar\"},{\"alignmentgroup\":\"True\",\"base\":[\"1970-01-03T02:00:00\",\"1970-01-01T09:00:00\",\"1970-01-01T20:00:00\"],\"hovertemplate\":\"Type=j6<br>Start=%{base}<br>Finish=%{x}<br>Resource=%{y}<br>Step-Rule=%{text}<extra></extra>\",\"legendgroup\":\"j6\",\"marker\":{\"color\":\"#A777F1\",\"pattern\":{\"shape\":\"\"}},\"name\":\"j6\",\"offsetgroup\":\"j6\",\"orientation\":\"h\",\"showlegend\":true,\"text\":[\"22-LPT\",\"1-LOR\",\"9-LOR\"],\"textposition\":\"auto\",\"x\":[82800000.0,39600000.0,82800000.0],\"xaxis\":\"x\",\"y\":[\"M2\",\"M1\",\"M1\"],\"yaxis\":\"y\",\"type\":\"bar\"},{\"alignmentgroup\":\"True\",\"base\":[\"1970-01-06T04:00:00\",\"1970-01-07T00:00:00\",\"1970-01-07T11:00:00\",\"1970-01-04T23:00:00\",\"1970-01-05T17:00:00\"],\"hovertemplate\":\"Type=j5<br>Start=%{base}<br>Finish=%{x}<br>Resource=%{y}<br>Step-Rule=%{text}<extra></extra>\",\"legendgroup\":\"j5\",\"marker\":{\"color\":\"#620042\",\"pattern\":{\"shape\":\"\"}},\"name\":\"j5\",\"offsetgroup\":\"j5\",\"orientation\":\"h\",\"showlegend\":true,\"text\":[\"49-LOR\",\"55-LOR\",\"60-LOR\",\"37-LOR\",\"45-LOR\"],\"textposition\":\"auto\",\"x\":[72000000.0,39600000.0,18000000.0,64800000.0,39600000.0],\"xaxis\":\"x\",\"y\":[\"M2\",\"M2\",\"M2\",\"M1\",\"M1\"],\"yaxis\":\"y\",\"type\":\"bar\"},{\"alignmentgroup\":\"True\",\"base\":[\"1970-01-07T16:00:00\",\"1970-01-08T10:00:00\",\"1970-01-09T02:00:00\",\"1970-01-10T01:00:00\",\"1970-01-10T19:00:00\",\"1970-01-11T14:00:00\",\"1970-01-12T02:00:00\"],\"hovertemplate\":\"Type=j2<br>Start=%{base}<br>Finish=%{x}<br>Resource=%{y}<br>Step-Rule=%{text}<extra></extra>\",\"legendgroup\":\"j2\",\"marker\":{\"color\":\"#1616A7\",\"pattern\":{\"shape\":\"\"}},\"name\":\"j2\",\"offsetgroup\":\"j2\",\"orientation\":\"h\",\"showlegend\":true,\"text\":[\"63-LOR\",\"72-MOR\",\"78-MOR\",\"89-MOR\",\"95-MOR\",\"97-MOR\",\"99-MOR\"],\"textposition\":\"auto\",\"x\":[64800000.0,57600000.0,82800000.0,64800000.0,68400000.0,43200000.0,72000000.0],\"xaxis\":\"x\",\"y\":[\"M2\",\"M2\",\"M2\",\"M2\",\"M2\",\"M2\",\"M2\"],\"yaxis\":\"y\",\"type\":\"bar\"},{\"alignmentgroup\":\"True\",\"base\":[\"1970-01-08T06:00:00\",\"1970-01-08T15:00:00\",\"1970-01-09T08:00:00\",\"1970-01-09T22:00:00\",\"1970-01-10T04:00:00\",\"1970-01-10T18:00:00\",\"1970-01-11T12:00:00\"],\"hovertemplate\":\"Type=j7<br>Start=%{base}<br>Finish=%{x}<br>Resource=%{y}<br>Step-Rule=%{text}<extra></extra>\",\"legendgroup\":\"j7\",\"marker\":{\"color\":\"#DA60CA\",\"pattern\":{\"shape\":\"\"}},\"name\":\"j7\",\"offsetgroup\":\"j7\",\"orientation\":\"h\",\"showlegend\":true,\"text\":[\"69-MOR\",\"74-MOR\",\"80-MOR\",\"86-MOR\",\"92-MOR\",\"94-MOR\",\"96-MOR\"],\"textposition\":\"auto\",\"x\":[32400000.0,61200000.0,50400000.0,21600000.0,50400000.0,64800000.0,61200000.0],\"xaxis\":\"x\",\"y\":[\"M1\",\"M1\",\"M1\",\"M1\",\"M1\",\"M1\",\"M1\"],\"yaxis\":\"y\",\"type\":\"bar\"},{\"alignmentgroup\":\"True\",\"base\":[\"1970-01-02T08:00:00\",\"1970-01-03T11:00:00\",\"1970-01-06T04:00:00\",\"1970-01-07T20:00:00\",\"1970-01-09T15:00:00\",\"1970-01-10T03:00:00\",\"1970-01-02T14:00:00\",\"1970-01-03T16:00:00\",\"1970-01-04T10:00:00\",\"1970-01-06T08:00:00\",\"1970-01-07T17:00:00\",\"1970-01-08T19:00:00\",\"1970-01-09T04:00:00\",\"1970-01-09T15:00:00\",\"1970-01-02T13:00:00\",\"1970-01-03T15:00:00\",\"1970-01-04T04:00:00\",\"1970-01-07T05:00:00\",\"1970-01-02T11:00:00\",\"1970-01-03T15:00:00\",\"1970-01-05T03:00:00\",\"1970-01-07T01:00:00\",\"1970-01-07T17:00:00\",\"1970-01-08T06:00:00\",\"1970-01-08T19:00:00\",\"1970-01-09T23:00:00\",\"1970-01-10T17:00:00\",\"1970-01-02T10:00:00\",\"1970-01-03T02:00:00\",\"1970-01-04T01:00:00\",\"1970-01-05T03:00:00\",\"1970-01-06T04:00:00\",\"1970-01-07T16:00:00\",\"1970-01-02T19:00:00\",\"1970-01-03T18:00:00\",\"1970-01-04T23:00:00\",\"1970-01-06T04:00:00\",\"1970-01-06T14:00:00\",\"1970-01-07T17:00:00\",\"1970-01-08T06:00:00\",\"1970-01-12T14:00:00\"],\"hovertemplate\":\"Type=setup<br>Start=%{base}<br>Finish=%{x}<br>Resource=%{y}<br>Step-Rule=%{text}<extra></extra>\",\"legendgroup\":\"setup\",\"marker\":{\"color\":\"#6C4516\",\"pattern\":{\"shape\":\"\"}},\"name\":\"setup\",\"offsetgroup\":\"setup\",\"orientation\":\"h\",\"showlegend\":true,\"text\":\"\",\"textposition\":\"auto\",\"x\":[14400000.0,10800000.0,14400000.0,3600000.0,10800000.0,7200000.0,10800000.0,10800000.0,14400000.0,14400000.0,7200000.0,7200000.0,7200000.0,3600000.0,3600000.0,10800000.0,10800000.0,3600000.0,10800000.0,10800000.0,10800000.0,10800000.0,7200000.0,14400000.0,7200000.0,7200000.0,14400000.0,7200000.0,10800000.0,3600000.0,10800000.0,10800000.0,10800000.0,10800000.0,10800000.0,7200000.0,10800000.0,10800000.0,14400000.0,10800000.0,7200000.0],\"xaxis\":\"x\",\"y\":[\"M6\",\"M6\",\"M6\",\"M6\",\"M6\",\"M6\",\"M5\",\"M5\",\"M5\",\"M5\",\"M5\",\"M5\",\"M5\",\"M5\",\"M4\",\"M4\",\"M4\",\"M4\",\"M3\",\"M3\",\"M3\",\"M3\",\"M3\",\"M3\",\"M3\",\"M3\",\"M3\",\"M2\",\"M2\",\"M2\",\"M2\",\"M2\",\"M2\",\"M1\",\"M1\",\"M1\",\"M1\",\"M1\",\"M1\",\"M1\",\"M1\"],\"yaxis\":\"y\",\"type\":\"bar\",\"width\":0.7}],                        {\"template\":{\"data\":{\"barpolar\":[{\"marker\":{\"line\":{\"color\":\"white\",\"width\":0.5},\"pattern\":{\"fillmode\":\"overlay\",\"size\":10,\"solidity\":0.2}},\"type\":\"barpolar\"}],\"bar\":[{\"error_x\":{\"color\":\"rgb(36,36,36)\"},\"error_y\":{\"color\":\"rgb(36,36,36)\"},\"marker\":{\"line\":{\"color\":\"white\",\"width\":0.5},\"pattern\":{\"fillmode\":\"overlay\",\"size\":10,\"solidity\":0.2}},\"type\":\"bar\"}],\"carpet\":[{\"aaxis\":{\"endlinecolor\":\"rgb(36,36,36)\",\"gridcolor\":\"white\",\"linecolor\":\"white\",\"minorgridcolor\":\"white\",\"startlinecolor\":\"rgb(36,36,36)\"},\"baxis\":{\"endlinecolor\":\"rgb(36,36,36)\",\"gridcolor\":\"white\",\"linecolor\":\"white\",\"minorgridcolor\":\"white\",\"startlinecolor\":\"rgb(36,36,36)\"},\"type\":\"carpet\"}],\"choropleth\":[{\"colorbar\":{\"outlinewidth\":1,\"tickcolor\":\"rgb(36,36,36)\",\"ticks\":\"outside\"},\"type\":\"choropleth\"}],\"contourcarpet\":[{\"colorbar\":{\"outlinewidth\":1,\"tickcolor\":\"rgb(36,36,36)\",\"ticks\":\"outside\"},\"type\":\"contourcarpet\"}],\"contour\":[{\"colorbar\":{\"outlinewidth\":1,\"tickcolor\":\"rgb(36,36,36)\",\"ticks\":\"outside\"},\"colorscale\":[[0.0,\"#440154\"],[0.1111111111111111,\"#482878\"],[0.2222222222222222,\"#3e4989\"],[0.3333333333333333,\"#31688e\"],[0.4444444444444444,\"#26828e\"],[0.5555555555555556,\"#1f9e89\"],[0.6666666666666666,\"#35b779\"],[0.7777777777777778,\"#6ece58\"],[0.8888888888888888,\"#b5de2b\"],[1.0,\"#fde725\"]],\"type\":\"contour\"}],\"heatmapgl\":[{\"colorbar\":{\"outlinewidth\":1,\"tickcolor\":\"rgb(36,36,36)\",\"ticks\":\"outside\"},\"colorscale\":[[0.0,\"#440154\"],[0.1111111111111111,\"#482878\"],[0.2222222222222222,\"#3e4989\"],[0.3333333333333333,\"#31688e\"],[0.4444444444444444,\"#26828e\"],[0.5555555555555556,\"#1f9e89\"],[0.6666666666666666,\"#35b779\"],[0.7777777777777778,\"#6ece58\"],[0.8888888888888888,\"#b5de2b\"],[1.0,\"#fde725\"]],\"type\":\"heatmapgl\"}],\"heatmap\":[{\"colorbar\":{\"outlinewidth\":1,\"tickcolor\":\"rgb(36,36,36)\",\"ticks\":\"outside\"},\"colorscale\":[[0.0,\"#440154\"],[0.1111111111111111,\"#482878\"],[0.2222222222222222,\"#3e4989\"],[0.3333333333333333,\"#31688e\"],[0.4444444444444444,\"#26828e\"],[0.5555555555555556,\"#1f9e89\"],[0.6666666666666666,\"#35b779\"],[0.7777777777777778,\"#6ece58\"],[0.8888888888888888,\"#b5de2b\"],[1.0,\"#fde725\"]],\"type\":\"heatmap\"}],\"histogram2dcontour\":[{\"colorbar\":{\"outlinewidth\":1,\"tickcolor\":\"rgb(36,36,36)\",\"ticks\":\"outside\"},\"colorscale\":[[0.0,\"#440154\"],[0.1111111111111111,\"#482878\"],[0.2222222222222222,\"#3e4989\"],[0.3333333333333333,\"#31688e\"],[0.4444444444444444,\"#26828e\"],[0.5555555555555556,\"#1f9e89\"],[0.6666666666666666,\"#35b779\"],[0.7777777777777778,\"#6ece58\"],[0.8888888888888888,\"#b5de2b\"],[1.0,\"#fde725\"]],\"type\":\"histogram2dcontour\"}],\"histogram2d\":[{\"colorbar\":{\"outlinewidth\":1,\"tickcolor\":\"rgb(36,36,36)\",\"ticks\":\"outside\"},\"colorscale\":[[0.0,\"#440154\"],[0.1111111111111111,\"#482878\"],[0.2222222222222222,\"#3e4989\"],[0.3333333333333333,\"#31688e\"],[0.4444444444444444,\"#26828e\"],[0.5555555555555556,\"#1f9e89\"],[0.6666666666666666,\"#35b779\"],[0.7777777777777778,\"#6ece58\"],[0.8888888888888888,\"#b5de2b\"],[1.0,\"#fde725\"]],\"type\":\"histogram2d\"}],\"histogram\":[{\"marker\":{\"line\":{\"color\":\"white\",\"width\":0.6}},\"type\":\"histogram\"}],\"mesh3d\":[{\"colorbar\":{\"outlinewidth\":1,\"tickcolor\":\"rgb(36,36,36)\",\"ticks\":\"outside\"},\"type\":\"mesh3d\"}],\"parcoords\":[{\"line\":{\"colorbar\":{\"outlinewidth\":1,\"tickcolor\":\"rgb(36,36,36)\",\"ticks\":\"outside\"}},\"type\":\"parcoords\"}],\"pie\":[{\"automargin\":true,\"type\":\"pie\"}],\"scatter3d\":[{\"line\":{\"colorbar\":{\"outlinewidth\":1,\"tickcolor\":\"rgb(36,36,36)\",\"ticks\":\"outside\"}},\"marker\":{\"colorbar\":{\"outlinewidth\":1,\"tickcolor\":\"rgb(36,36,36)\",\"ticks\":\"outside\"}},\"type\":\"scatter3d\"}],\"scattercarpet\":[{\"marker\":{\"colorbar\":{\"outlinewidth\":1,\"tickcolor\":\"rgb(36,36,36)\",\"ticks\":\"outside\"}},\"type\":\"scattercarpet\"}],\"scattergeo\":[{\"marker\":{\"colorbar\":{\"outlinewidth\":1,\"tickcolor\":\"rgb(36,36,36)\",\"ticks\":\"outside\"}},\"type\":\"scattergeo\"}],\"scattergl\":[{\"marker\":{\"colorbar\":{\"outlinewidth\":1,\"tickcolor\":\"rgb(36,36,36)\",\"ticks\":\"outside\"}},\"type\":\"scattergl\"}],\"scattermapbox\":[{\"marker\":{\"colorbar\":{\"outlinewidth\":1,\"tickcolor\":\"rgb(36,36,36)\",\"ticks\":\"outside\"}},\"type\":\"scattermapbox\"}],\"scatterpolargl\":[{\"marker\":{\"colorbar\":{\"outlinewidth\":1,\"tickcolor\":\"rgb(36,36,36)\",\"ticks\":\"outside\"}},\"type\":\"scatterpolargl\"}],\"scatterpolar\":[{\"marker\":{\"colorbar\":{\"outlinewidth\":1,\"tickcolor\":\"rgb(36,36,36)\",\"ticks\":\"outside\"}},\"type\":\"scatterpolar\"}],\"scatter\":[{\"fillpattern\":{\"fillmode\":\"overlay\",\"size\":10,\"solidity\":0.2},\"type\":\"scatter\"}],\"scatterternary\":[{\"marker\":{\"colorbar\":{\"outlinewidth\":1,\"tickcolor\":\"rgb(36,36,36)\",\"ticks\":\"outside\"}},\"type\":\"scatterternary\"}],\"surface\":[{\"colorbar\":{\"outlinewidth\":1,\"tickcolor\":\"rgb(36,36,36)\",\"ticks\":\"outside\"},\"colorscale\":[[0.0,\"#440154\"],[0.1111111111111111,\"#482878\"],[0.2222222222222222,\"#3e4989\"],[0.3333333333333333,\"#31688e\"],[0.4444444444444444,\"#26828e\"],[0.5555555555555556,\"#1f9e89\"],[0.6666666666666666,\"#35b779\"],[0.7777777777777778,\"#6ece58\"],[0.8888888888888888,\"#b5de2b\"],[1.0,\"#fde725\"]],\"type\":\"surface\"}],\"table\":[{\"cells\":{\"fill\":{\"color\":\"rgb(237,237,237)\"},\"line\":{\"color\":\"white\"}},\"header\":{\"fill\":{\"color\":\"rgb(217,217,217)\"},\"line\":{\"color\":\"white\"}},\"type\":\"table\"}]},\"layout\":{\"annotationdefaults\":{\"arrowhead\":0,\"arrowwidth\":1},\"autotypenumbers\":\"strict\",\"coloraxis\":{\"colorbar\":{\"outlinewidth\":1,\"tickcolor\":\"rgb(36,36,36)\",\"ticks\":\"outside\"}},\"colorscale\":{\"diverging\":[[0.0,\"rgb(103,0,31)\"],[0.1,\"rgb(178,24,43)\"],[0.2,\"rgb(214,96,77)\"],[0.3,\"rgb(244,165,130)\"],[0.4,\"rgb(253,219,199)\"],[0.5,\"rgb(247,247,247)\"],[0.6,\"rgb(209,229,240)\"],[0.7,\"rgb(146,197,222)\"],[0.8,\"rgb(67,147,195)\"],[0.9,\"rgb(33,102,172)\"],[1.0,\"rgb(5,48,97)\"]],\"sequential\":[[0.0,\"#440154\"],[0.1111111111111111,\"#482878\"],[0.2222222222222222,\"#3e4989\"],[0.3333333333333333,\"#31688e\"],[0.4444444444444444,\"#26828e\"],[0.5555555555555556,\"#1f9e89\"],[0.6666666666666666,\"#35b779\"],[0.7777777777777778,\"#6ece58\"],[0.8888888888888888,\"#b5de2b\"],[1.0,\"#fde725\"]],\"sequentialminus\":[[0.0,\"#440154\"],[0.1111111111111111,\"#482878\"],[0.2222222222222222,\"#3e4989\"],[0.3333333333333333,\"#31688e\"],[0.4444444444444444,\"#26828e\"],[0.5555555555555556,\"#1f9e89\"],[0.6666666666666666,\"#35b779\"],[0.7777777777777778,\"#6ece58\"],[0.8888888888888888,\"#b5de2b\"],[1.0,\"#fde725\"]]},\"colorway\":[\"#1F77B4\",\"#FF7F0E\",\"#2CA02C\",\"#D62728\",\"#9467BD\",\"#8C564B\",\"#E377C2\",\"#7F7F7F\",\"#BCBD22\",\"#17BECF\"],\"font\":{\"color\":\"rgb(36,36,36)\"},\"geo\":{\"bgcolor\":\"white\",\"lakecolor\":\"white\",\"landcolor\":\"white\",\"showlakes\":true,\"showland\":true,\"subunitcolor\":\"white\"},\"hoverlabel\":{\"align\":\"left\"},\"hovermode\":\"closest\",\"mapbox\":{\"style\":\"light\"},\"paper_bgcolor\":\"white\",\"plot_bgcolor\":\"white\",\"polar\":{\"angularaxis\":{\"gridcolor\":\"rgb(232,232,232)\",\"linecolor\":\"rgb(36,36,36)\",\"showgrid\":false,\"showline\":true,\"ticks\":\"outside\"},\"bgcolor\":\"white\",\"radialaxis\":{\"gridcolor\":\"rgb(232,232,232)\",\"linecolor\":\"rgb(36,36,36)\",\"showgrid\":false,\"showline\":true,\"ticks\":\"outside\"}},\"scene\":{\"xaxis\":{\"backgroundcolor\":\"white\",\"gridcolor\":\"rgb(232,232,232)\",\"gridwidth\":2,\"linecolor\":\"rgb(36,36,36)\",\"showbackground\":true,\"showgrid\":false,\"showline\":true,\"ticks\":\"outside\",\"zeroline\":false,\"zerolinecolor\":\"rgb(36,36,36)\"},\"yaxis\":{\"backgroundcolor\":\"white\",\"gridcolor\":\"rgb(232,232,232)\",\"gridwidth\":2,\"linecolor\":\"rgb(36,36,36)\",\"showbackground\":true,\"showgrid\":false,\"showline\":true,\"ticks\":\"outside\",\"zeroline\":false,\"zerolinecolor\":\"rgb(36,36,36)\"},\"zaxis\":{\"backgroundcolor\":\"white\",\"gridcolor\":\"rgb(232,232,232)\",\"gridwidth\":2,\"linecolor\":\"rgb(36,36,36)\",\"showbackground\":true,\"showgrid\":false,\"showline\":true,\"ticks\":\"outside\",\"zeroline\":false,\"zerolinecolor\":\"rgb(36,36,36)\"}},\"shapedefaults\":{\"fillcolor\":\"black\",\"line\":{\"width\":0},\"opacity\":0.3},\"ternary\":{\"aaxis\":{\"gridcolor\":\"rgb(232,232,232)\",\"linecolor\":\"rgb(36,36,36)\",\"showgrid\":false,\"showline\":true,\"ticks\":\"outside\"},\"baxis\":{\"gridcolor\":\"rgb(232,232,232)\",\"linecolor\":\"rgb(36,36,36)\",\"showgrid\":false,\"showline\":true,\"ticks\":\"outside\"},\"bgcolor\":\"white\",\"caxis\":{\"gridcolor\":\"rgb(232,232,232)\",\"linecolor\":\"rgb(36,36,36)\",\"showgrid\":false,\"showline\":true,\"ticks\":\"outside\"}},\"title\":{\"x\":0.05},\"xaxis\":{\"automargin\":true,\"gridcolor\":\"rgb(232,232,232)\",\"linecolor\":\"rgb(36,36,36)\",\"showgrid\":false,\"showline\":true,\"ticks\":\"outside\",\"title\":{\"standoff\":15},\"zeroline\":false,\"zerolinecolor\":\"rgb(36,36,36)\"},\"yaxis\":{\"automargin\":true,\"gridcolor\":\"rgb(232,232,232)\",\"linecolor\":\"rgb(36,36,36)\",\"showgrid\":false,\"showline\":true,\"ticks\":\"outside\",\"title\":{\"standoff\":15},\"zeroline\":false,\"zerolinecolor\":\"rgb(36,36,36)\"}}},\"xaxis\":{\"anchor\":\"y\",\"domain\":[0.0,1.0],\"type\":\"date\"},\"yaxis\":{\"anchor\":\"x\",\"domain\":[0.0,1.0],\"title\":{\"text\":\"Resource\"}},\"legend\":{\"title\":{\"text\":\"Type\"},\"tracegroupgap\":0},\"margin\":{\"t\":60},\"barmode\":\"overlay\",\"height\":800,\"width\":2000},                        {\"responsive\": true}                    ).then(function(){\n",
       "                            \n",
       "var gd = document.getElementById('2661e5ea-78c4-4ce1-97cf-73aac54f331c');\n",
       "var x = new MutationObserver(function (mutations, observer) {{\n",
       "        var display = window.getComputedStyle(gd).display;\n",
       "        if (!display || display === 'none') {{\n",
       "            console.log([gd, 'removed!']);\n",
       "            Plotly.purge(gd);\n",
       "            observer.disconnect();\n",
       "        }}\n",
       "}});\n",
       "\n",
       "// Listen for the removal of the full notebook cells\n",
       "var notebookContainer = gd.closest('#notebook-container');\n",
       "if (notebookContainer) {{\n",
       "    x.observe(notebookContainer, {childList: true});\n",
       "}}\n",
       "\n",
       "// Listen for the clearing of the current output cell\n",
       "var outputEl = gd.closest('.output');\n",
       "if (outputEl) {{\n",
       "    x.observe(outputEl, {childList: true});\n",
       "}}\n",
       "\n",
       "                        })                };                });            </script>        </div>"
      ]
     },
     "metadata": {},
     "output_type": "display_data"
    },
    {
     "data": {
      "application/vnd.plotly.v1+json": {
       "config": {
        "plotlyServerURL": "https://plot.ly"
       },
       "data": [
        {
         "alignmentgroup": "True",
         "base": [
          "1970-01-06T04:00:00",
          "1970-01-06T17:00:00",
          "1970-01-07T03:00:00",
          "1970-01-07T11:00:00",
          "1970-01-04T12:00:00",
          "1970-01-04T22:00:00",
          "1970-01-05T11:00:00",
          "1970-01-01T09:00:00",
          "1970-01-01T14:00:00",
          "1970-01-02T01:00:00",
          "1970-01-01T09:00:00",
          "1970-01-01T15:00:00",
          "1970-01-01T20:00:00",
          "1970-01-03T16:00:00",
          "1970-01-04T10:00:00",
          "1970-01-04T18:00:00",
          "1970-01-05T01:00:00",
          "1970-01-05T06:00:00",
          "1970-01-05T15:00:00",
          "1970-01-07T17:00:00",
          "1970-01-06T08:00:00",
          "1970-01-07T06:00:00",
          "1970-01-01T09:00:00",
          "1970-01-01T21:00:00",
          "1970-01-02T06:00:00",
          "1970-01-03T15:00:00",
          "1970-01-07T05:00:00",
          "1970-01-07T19:00:00",
          "1970-01-04T04:00:00",
          "1970-01-04T16:00:00",
          "1970-01-05T11:00:00",
          "1970-01-06T11:00:00",
          "1970-01-07T01:00:00",
          "1970-01-05T03:00:00",
          "1970-01-06T00:00:00",
          "1970-01-02T11:00:00",
          "1970-01-04T17:00:00",
          "1970-01-07T17:00:00",
          "1970-01-01T09:00:00",
          "1970-01-02T03:00:00",
          "1970-01-06T04:00:00",
          "1970-01-07T00:00:00",
          "1970-01-07T11:00:00",
          "1970-01-07T16:00:00",
          "1970-01-04T01:00:00",
          "1970-01-01T09:00:00",
          "1970-01-02T02:00:00",
          "1970-01-05T03:00:00",
          "1970-01-05T20:00:00",
          "1970-01-02T10:00:00",
          "1970-01-01T09:00:00",
          "1970-01-01T20:00:00",
          "1970-01-04T23:00:00",
          "1970-01-05T17:00:00",
          "1970-01-06T04:00:00",
          "1970-01-06T14:00:00",
          "1970-01-07T12:00:00",
          "1970-01-07T17:00:00",
          "1970-01-03T18:00:00",
          "1970-01-04T09:00:00"
         ],
         "hovertemplate": "Rule=%{y}<br>Start=%{base}<br>Finish=%{x}<br>Step-Rule=%{text}<extra></extra>",
         "legendgroup": "LOR",
         "marker": {
          "color": "#2E91E5",
          "pattern": {
           "shape": ""
          }
         },
         "name": "LOR",
         "offsetgroup": "LOR",
         "orientation": "h",
         "showlegend": true,
         "text": [
          "50-LOR",
          "54-LOR",
          "57-LOR",
          "61-LOR",
          "32-LOR",
          "36-LOR",
          "43-LOR",
          "6-LOR",
          "7-LOR",
          "12-LOR",
          "5-LOR",
          "8-LOR",
          "10-LOR",
          "26-LOR",
          "31-LOR",
          "35-LOR",
          "38-LOR",
          "41-LOR",
          "44-LOR",
          "66-LOR",
          "51-LOR",
          "59-LOR",
          "4-LOR",
          "11-LOR",
          "15-LOR",
          "25-LOR",
          "58-LOR",
          "67-LOR",
          "29-LOR",
          "33-LOR",
          "42-LOR",
          "52-LOR",
          "56-LOR",
          "40-LOR",
          "47-LOR",
          "18-LOR",
          "34-LOR",
          "65-LOR",
          "3-LOR",
          "14-LOR",
          "49-LOR",
          "55-LOR",
          "60-LOR",
          "63-LOR",
          "28-LOR",
          "2-LOR",
          "13-LOR",
          "39-LOR",
          "46-LOR",
          "17-LOR",
          "1-LOR",
          "9-LOR",
          "37-LOR",
          "45-LOR",
          "48-LOR",
          "53-LOR",
          "62-LOR",
          "64-LOR",
          "27-LOR",
          "30-LOR"
         ],
         "textposition": "auto",
         "type": "bar",
         "x": [
          46800000,
          36000000,
          28800000,
          32400000,
          36000000,
          46800000,
          61200000,
          18000000,
          39600000,
          25200000,
          21600000,
          18000000,
          64800000,
          64800000,
          28800000,
          25200000,
          18000000,
          32400000,
          61200000,
          93600000,
          79200000,
          39600000,
          43200000,
          32400000,
          25200000,
          46800000,
          50400000,
          61200000,
          43200000,
          68400000,
          86400000,
          64800000,
          57600000,
          75600000,
          90000000,
          100800000,
          36000000,
          46800000,
          64800000,
          28800000,
          72000000,
          39600000,
          18000000,
          64800000,
          93600000,
          61200000,
          28800000,
          61200000,
          28800000,
          57600000,
          39600000,
          82800000,
          64800000,
          39600000,
          36000000,
          79200000,
          18000000,
          46800000,
          54000000,
          50400000
         ],
         "xaxis": "x",
         "y": [
          "LOR",
          "LOR",
          "LOR",
          "LOR",
          "LOR",
          "LOR",
          "LOR",
          "LOR",
          "LOR",
          "LOR",
          "LOR",
          "LOR",
          "LOR",
          "LOR",
          "LOR",
          "LOR",
          "LOR",
          "LOR",
          "LOR",
          "LOR",
          "LOR",
          "LOR",
          "LOR",
          "LOR",
          "LOR",
          "LOR",
          "LOR",
          "LOR",
          "LOR",
          "LOR",
          "LOR",
          "LOR",
          "LOR",
          "LOR",
          "LOR",
          "LOR",
          "LOR",
          "LOR",
          "LOR",
          "LOR",
          "LOR",
          "LOR",
          "LOR",
          "LOR",
          "LOR",
          "LOR",
          "LOR",
          "LOR",
          "LOR",
          "LOR",
          "LOR",
          "LOR",
          "LOR",
          "LOR",
          "LOR",
          "LOR",
          "LOR",
          "LOR",
          "LOR",
          "LOR"
         ],
         "yaxis": "y"
        },
        {
         "alignmentgroup": "True",
         "base": [
          "1970-01-10T03:00:00",
          "1970-01-07T20:00:00",
          "1970-01-08T09:00:00",
          "1970-01-08T22:00:00",
          "1970-01-09T15:00:00",
          "1970-01-09T04:00:00",
          "1970-01-09T15:00:00",
          "1970-01-10T03:00:00",
          "1970-01-08T19:00:00",
          "1970-01-08T12:00:00",
          "1970-01-09T08:00:00",
          "1970-01-09T17:00:00",
          "1970-01-10T00:00:00",
          "1970-01-08T19:00:00",
          "1970-01-09T11:00:00",
          "1970-01-10T17:00:00",
          "1970-01-11T15:00:00",
          "1970-01-09T23:00:00",
          "1970-01-08T06:00:00",
          "1970-01-08T10:00:00",
          "1970-01-09T02:00:00",
          "1970-01-10T01:00:00",
          "1970-01-10T19:00:00",
          "1970-01-11T14:00:00",
          "1970-01-12T02:00:00",
          "1970-01-08T06:00:00",
          "1970-01-08T15:00:00",
          "1970-01-09T08:00:00",
          "1970-01-09T22:00:00",
          "1970-01-10T04:00:00",
          "1970-01-10T18:00:00",
          "1970-01-11T12:00:00",
          "1970-01-12T14:00:00"
         ],
         "hovertemplate": "Rule=%{y}<br>Start=%{base}<br>Finish=%{x}<br>Step-Rule=%{text}<extra></extra>",
         "legendgroup": "MOR",
         "marker": {
          "color": "#E15F99",
          "pattern": {
           "shape": ""
          }
         },
         "name": "MOR",
         "offsetgroup": "MOR",
         "orientation": "h",
         "showlegend": true,
         "text": [
          "91-MOR",
          "68-MOR",
          "71-MOR",
          "77-MOR",
          "84-MOR",
          "79-MOR",
          "83-MOR",
          "90-MOR",
          "76-MOR",
          "73-MOR",
          "81-MOR",
          "85-MOR",
          "88-MOR",
          "75-MOR",
          "82-MOR",
          "93-MOR",
          "98-MOR",
          "87-MOR",
          "70-MOR",
          "72-MOR",
          "78-MOR",
          "89-MOR",
          "95-MOR",
          "97-MOR",
          "99-MOR",
          "69-MOR",
          "74-MOR",
          "80-MOR",
          "86-MOR",
          "92-MOR",
          "94-MOR",
          "96-MOR",
          "100-MOR"
         ],
         "textposition": "auto",
         "type": "bar",
         "x": [
          32400000,
          46800000,
          46800000,
          61200000,
          43200000,
          39600000,
          43200000,
          50400000,
          32400000,
          72000000,
          32400000,
          25200000,
          64800000,
          57600000,
          43200000,
          79200000,
          82800000,
          28800000,
          46800000,
          57600000,
          82800000,
          64800000,
          68400000,
          43200000,
          72000000,
          32400000,
          61200000,
          50400000,
          21600000,
          50400000,
          64800000,
          61200000,
          25200000
         ],
         "xaxis": "x",
         "y": [
          "MOR",
          "MOR",
          "MOR",
          "MOR",
          "MOR",
          "MOR",
          "MOR",
          "MOR",
          "MOR",
          "MOR",
          "MOR",
          "MOR",
          "MOR",
          "MOR",
          "MOR",
          "MOR",
          "MOR",
          "MOR",
          "MOR",
          "MOR",
          "MOR",
          "MOR",
          "MOR",
          "MOR",
          "MOR",
          "MOR",
          "MOR",
          "MOR",
          "MOR",
          "MOR",
          "MOR",
          "MOR",
          "MOR"
         ],
         "yaxis": "y"
        },
        {
         "alignmentgroup": "True",
         "base": [
          "1970-01-03T11:00:00",
          "1970-01-02T08:00:00",
          "1970-01-02T14:00:00",
          "1970-01-02T13:00:00",
          "1970-01-03T15:00:00",
          "1970-01-03T02:00:00",
          "1970-01-02T19:00:00"
         ],
         "hovertemplate": "Rule=%{y}<br>Start=%{base}<br>Finish=%{x}<br>Step-Rule=%{text}<extra></extra>",
         "legendgroup": "LPT",
         "marker": {
          "color": "#1CA71C",
          "pattern": {
           "shape": ""
          }
         },
         "name": "LPT",
         "offsetgroup": "LPT",
         "orientation": "h",
         "showlegend": true,
         "text": [
          "23-LPT",
          "16-LPT",
          "20-LPT",
          "19-LPT",
          "24-LPT",
          "22-LPT",
          "21-LPT"
         ],
         "textposition": "auto",
         "type": "bar",
         "x": [
          90000000,
          97200000,
          93600000,
          93600000,
          93600000,
          82800000,
          82800000
         ],
         "xaxis": "x",
         "y": [
          "LPT",
          "LPT",
          "LPT",
          "LPT",
          "LPT",
          "LPT",
          "LPT"
         ],
         "yaxis": "y"
        },
        {
         "alignmentgroup": "True",
         "base": [
          "1970-01-10T12:00:00",
          "1970-01-10T17:00:00",
          "1970-01-10T18:00:00",
          "1970-01-10T19:00:00",
          "1970-01-10T21:00:00",
          "1970-01-11T12:00:00",
          "1970-01-11T14:00:00",
          "1970-01-11T15:00:00",
          "1970-01-12T02:00:00",
          "1970-01-12T05:00:00",
          "1970-01-12T14:00:00",
          "1970-01-12T16:00:00",
          "1970-01-12T21:00:00",
          "1970-01-10T17:00:00",
          "1970-01-10T18:00:00",
          "1970-01-10T19:00:00",
          "1970-01-10T21:00:00",
          "1970-01-11T12:00:00",
          "1970-01-11T14:00:00",
          "1970-01-11T15:00:00",
          "1970-01-12T02:00:00",
          "1970-01-12T05:00:00",
          "1970-01-12T14:00:00",
          "1970-01-12T16:00:00",
          "1970-01-12T21:00:00",
          "1970-01-10T18:00:00",
          "1970-01-10T19:00:00",
          "1970-01-10T21:00:00",
          "1970-01-11T12:00:00",
          "1970-01-11T14:00:00",
          "1970-01-11T15:00:00",
          "1970-01-12T02:00:00",
          "1970-01-12T05:00:00",
          "1970-01-12T14:00:00",
          "1970-01-12T16:00:00",
          "1970-01-12T21:00:00",
          "1970-01-10T07:00:00",
          "1970-01-10T12:00:00",
          "1970-01-12T14:00:00",
          "1970-01-12T16:00:00",
          "1970-01-12T21:00:00",
          "1970-01-12T05:00:00",
          "1970-01-12T21:00:00"
         ],
         "hovertemplate": "Rule=%{y}<br>Start=%{base}<br>Finish=%{x}<br>Step-Rule=%{text}<extra></extra>",
         "legendgroup": "DDA",
         "marker": {
          "color": "#FB0D0D",
          "pattern": {
           "shape": ""
          }
         },
         "name": "DDA",
         "offsetgroup": "DDA",
         "orientation": "h",
         "showlegend": true,
         "text": [
          "93-DDA",
          "94-DDA",
          "95-DDA",
          "96-DDA",
          "96-DDA",
          "97-DDA",
          "98-DDA",
          "99-DDA",
          "100-DDA",
          "100-DDA",
          "101-DDA",
          "101-DDA",
          "101-DDA",
          "94-DDA",
          "95-DDA",
          "96-DDA",
          "96-DDA",
          "97-DDA",
          "98-DDA",
          "99-DDA",
          "100-DDA",
          "100-DDA",
          "101-DDA",
          "101-DDA",
          "101-DDA",
          "95-DDA",
          "96-DDA",
          "96-DDA",
          "97-DDA",
          "98-DDA",
          "99-DDA",
          "100-DDA",
          "100-DDA",
          "101-DDA",
          "101-DDA",
          "101-DDA",
          "93-DDA",
          "93-DDA",
          "101-DDA",
          "101-DDA",
          "101-DDA",
          "100-DDA",
          "101-DDA"
         ],
         "textposition": "auto",
         "type": "bar",
         "x": [
          18000000,
          3600000,
          3600000,
          7200000,
          54000000,
          7200000,
          3600000,
          39600000,
          10800000,
          32400000,
          7200000,
          18000000,
          3600000,
          3600000,
          3600000,
          7200000,
          54000000,
          7200000,
          3600000,
          39600000,
          10800000,
          32400000,
          7200000,
          18000000,
          3600000,
          3600000,
          7200000,
          54000000,
          7200000,
          3600000,
          39600000,
          10800000,
          32400000,
          7200000,
          18000000,
          3600000,
          18000000,
          18000000,
          7200000,
          18000000,
          3600000,
          32400000,
          3600000
         ],
         "xaxis": "x",
         "y": [
          "DDA",
          "DDA",
          "DDA",
          "DDA",
          "DDA",
          "DDA",
          "DDA",
          "DDA",
          "DDA",
          "DDA",
          "DDA",
          "DDA",
          "DDA",
          "DDA",
          "DDA",
          "DDA",
          "DDA",
          "DDA",
          "DDA",
          "DDA",
          "DDA",
          "DDA",
          "DDA",
          "DDA",
          "DDA",
          "DDA",
          "DDA",
          "DDA",
          "DDA",
          "DDA",
          "DDA",
          "DDA",
          "DDA",
          "DDA",
          "DDA",
          "DDA",
          "DDA",
          "DDA",
          "DDA",
          "DDA",
          "DDA",
          "DDA",
          "DDA"
         ],
         "yaxis": "y"
        },
        {
         "alignmentgroup": "True",
         "base": [
          "1970-01-02T08:00:00",
          "1970-01-03T11:00:00",
          "1970-01-06T04:00:00",
          "1970-01-07T20:00:00",
          "1970-01-09T15:00:00",
          "1970-01-10T03:00:00",
          "1970-01-02T14:00:00",
          "1970-01-03T16:00:00",
          "1970-01-04T10:00:00",
          "1970-01-06T08:00:00",
          "1970-01-07T17:00:00",
          "1970-01-08T19:00:00",
          "1970-01-09T04:00:00",
          "1970-01-09T15:00:00",
          "1970-01-02T13:00:00",
          "1970-01-03T15:00:00",
          "1970-01-04T04:00:00",
          "1970-01-07T05:00:00",
          "1970-01-02T11:00:00",
          "1970-01-03T15:00:00",
          "1970-01-05T03:00:00",
          "1970-01-07T01:00:00",
          "1970-01-07T17:00:00",
          "1970-01-08T06:00:00",
          "1970-01-08T19:00:00",
          "1970-01-09T23:00:00",
          "1970-01-10T17:00:00",
          "1970-01-02T10:00:00",
          "1970-01-03T02:00:00",
          "1970-01-04T01:00:00",
          "1970-01-05T03:00:00",
          "1970-01-06T04:00:00",
          "1970-01-07T16:00:00",
          "1970-01-02T19:00:00",
          "1970-01-03T18:00:00",
          "1970-01-04T23:00:00",
          "1970-01-06T04:00:00",
          "1970-01-06T14:00:00",
          "1970-01-07T17:00:00",
          "1970-01-08T06:00:00",
          "1970-01-12T14:00:00"
         ],
         "hovertemplate": "Rule=%{y}<br>Start=%{base}<br>Finish=%{x}<br>Step-Rule=%{text}<extra></extra>",
         "legendgroup": "NONE",
         "marker": {
          "color": "#DA16FF",
          "pattern": {
           "shape": ""
          }
         },
         "name": "NONE",
         "offsetgroup": "NONE",
         "orientation": "h",
         "showlegend": true,
         "text": [
          "16-NONE",
          "23-NONE",
          "50-NONE",
          "68-NONE",
          "84-NONE",
          "91-NONE",
          "20-NONE",
          "26-NONE",
          "31-NONE",
          "51-NONE",
          "66-NONE",
          "76-NONE",
          "79-NONE",
          "83-NONE",
          "19-NONE",
          "25-NONE",
          "29-NONE",
          "58-NONE",
          "18-NONE",
          "24-NONE",
          "40-NONE",
          "56-NONE",
          "65-NONE",
          "70-NONE",
          "75-NONE",
          "87-NONE",
          "93-NONE",
          "17-NONE",
          "22-NONE",
          "28-NONE",
          "39-NONE",
          "49-NONE",
          "63-NONE",
          "21-NONE",
          "27-NONE",
          "37-NONE",
          "48-NONE",
          "53-NONE",
          "64-NONE",
          "69-NONE",
          "100-NONE"
         ],
         "textposition": "auto",
         "type": "bar",
         "x": [
          14400000,
          10800000,
          14400000,
          3600000,
          10800000,
          7200000,
          10800000,
          10800000,
          14400000,
          14400000,
          7200000,
          7200000,
          7200000,
          3600000,
          3600000,
          10800000,
          10800000,
          3600000,
          10800000,
          10800000,
          10800000,
          10800000,
          7200000,
          14400000,
          7200000,
          7200000,
          14400000,
          7200000,
          10800000,
          3600000,
          10800000,
          10800000,
          10800000,
          10800000,
          10800000,
          7200000,
          10800000,
          10800000,
          14400000,
          10800000,
          7200000
         ],
         "xaxis": "x",
         "y": [
          "NONE",
          "NONE",
          "NONE",
          "NONE",
          "NONE",
          "NONE",
          "NONE",
          "NONE",
          "NONE",
          "NONE",
          "NONE",
          "NONE",
          "NONE",
          "NONE",
          "NONE",
          "NONE",
          "NONE",
          "NONE",
          "NONE",
          "NONE",
          "NONE",
          "NONE",
          "NONE",
          "NONE",
          "NONE",
          "NONE",
          "NONE",
          "NONE",
          "NONE",
          "NONE",
          "NONE",
          "NONE",
          "NONE",
          "NONE",
          "NONE",
          "NONE",
          "NONE",
          "NONE",
          "NONE",
          "NONE",
          "NONE"
         ],
         "yaxis": "y"
        }
       ],
       "layout": {
        "barmode": "overlay",
        "height": 800,
        "legend": {
         "title": {
          "text": "Rule"
         },
         "tracegroupgap": 0
        },
        "margin": {
         "t": 60
        },
        "template": {
         "data": {
          "bar": [
           {
            "error_x": {
             "color": "rgb(36,36,36)"
            },
            "error_y": {
             "color": "rgb(36,36,36)"
            },
            "marker": {
             "line": {
              "color": "white",
              "width": 0.5
             },
             "pattern": {
              "fillmode": "overlay",
              "size": 10,
              "solidity": 0.2
             }
            },
            "type": "bar"
           }
          ],
          "barpolar": [
           {
            "marker": {
             "line": {
              "color": "white",
              "width": 0.5
             },
             "pattern": {
              "fillmode": "overlay",
              "size": 10,
              "solidity": 0.2
             }
            },
            "type": "barpolar"
           }
          ],
          "carpet": [
           {
            "aaxis": {
             "endlinecolor": "rgb(36,36,36)",
             "gridcolor": "white",
             "linecolor": "white",
             "minorgridcolor": "white",
             "startlinecolor": "rgb(36,36,36)"
            },
            "baxis": {
             "endlinecolor": "rgb(36,36,36)",
             "gridcolor": "white",
             "linecolor": "white",
             "minorgridcolor": "white",
             "startlinecolor": "rgb(36,36,36)"
            },
            "type": "carpet"
           }
          ],
          "choropleth": [
           {
            "colorbar": {
             "outlinewidth": 1,
             "tickcolor": "rgb(36,36,36)",
             "ticks": "outside"
            },
            "type": "choropleth"
           }
          ],
          "contour": [
           {
            "colorbar": {
             "outlinewidth": 1,
             "tickcolor": "rgb(36,36,36)",
             "ticks": "outside"
            },
            "colorscale": [
             [
              0,
              "#440154"
             ],
             [
              0.1111111111111111,
              "#482878"
             ],
             [
              0.2222222222222222,
              "#3e4989"
             ],
             [
              0.3333333333333333,
              "#31688e"
             ],
             [
              0.4444444444444444,
              "#26828e"
             ],
             [
              0.5555555555555556,
              "#1f9e89"
             ],
             [
              0.6666666666666666,
              "#35b779"
             ],
             [
              0.7777777777777778,
              "#6ece58"
             ],
             [
              0.8888888888888888,
              "#b5de2b"
             ],
             [
              1,
              "#fde725"
             ]
            ],
            "type": "contour"
           }
          ],
          "contourcarpet": [
           {
            "colorbar": {
             "outlinewidth": 1,
             "tickcolor": "rgb(36,36,36)",
             "ticks": "outside"
            },
            "type": "contourcarpet"
           }
          ],
          "heatmap": [
           {
            "colorbar": {
             "outlinewidth": 1,
             "tickcolor": "rgb(36,36,36)",
             "ticks": "outside"
            },
            "colorscale": [
             [
              0,
              "#440154"
             ],
             [
              0.1111111111111111,
              "#482878"
             ],
             [
              0.2222222222222222,
              "#3e4989"
             ],
             [
              0.3333333333333333,
              "#31688e"
             ],
             [
              0.4444444444444444,
              "#26828e"
             ],
             [
              0.5555555555555556,
              "#1f9e89"
             ],
             [
              0.6666666666666666,
              "#35b779"
             ],
             [
              0.7777777777777778,
              "#6ece58"
             ],
             [
              0.8888888888888888,
              "#b5de2b"
             ],
             [
              1,
              "#fde725"
             ]
            ],
            "type": "heatmap"
           }
          ],
          "heatmapgl": [
           {
            "colorbar": {
             "outlinewidth": 1,
             "tickcolor": "rgb(36,36,36)",
             "ticks": "outside"
            },
            "colorscale": [
             [
              0,
              "#440154"
             ],
             [
              0.1111111111111111,
              "#482878"
             ],
             [
              0.2222222222222222,
              "#3e4989"
             ],
             [
              0.3333333333333333,
              "#31688e"
             ],
             [
              0.4444444444444444,
              "#26828e"
             ],
             [
              0.5555555555555556,
              "#1f9e89"
             ],
             [
              0.6666666666666666,
              "#35b779"
             ],
             [
              0.7777777777777778,
              "#6ece58"
             ],
             [
              0.8888888888888888,
              "#b5de2b"
             ],
             [
              1,
              "#fde725"
             ]
            ],
            "type": "heatmapgl"
           }
          ],
          "histogram": [
           {
            "marker": {
             "line": {
              "color": "white",
              "width": 0.6
             }
            },
            "type": "histogram"
           }
          ],
          "histogram2d": [
           {
            "colorbar": {
             "outlinewidth": 1,
             "tickcolor": "rgb(36,36,36)",
             "ticks": "outside"
            },
            "colorscale": [
             [
              0,
              "#440154"
             ],
             [
              0.1111111111111111,
              "#482878"
             ],
             [
              0.2222222222222222,
              "#3e4989"
             ],
             [
              0.3333333333333333,
              "#31688e"
             ],
             [
              0.4444444444444444,
              "#26828e"
             ],
             [
              0.5555555555555556,
              "#1f9e89"
             ],
             [
              0.6666666666666666,
              "#35b779"
             ],
             [
              0.7777777777777778,
              "#6ece58"
             ],
             [
              0.8888888888888888,
              "#b5de2b"
             ],
             [
              1,
              "#fde725"
             ]
            ],
            "type": "histogram2d"
           }
          ],
          "histogram2dcontour": [
           {
            "colorbar": {
             "outlinewidth": 1,
             "tickcolor": "rgb(36,36,36)",
             "ticks": "outside"
            },
            "colorscale": [
             [
              0,
              "#440154"
             ],
             [
              0.1111111111111111,
              "#482878"
             ],
             [
              0.2222222222222222,
              "#3e4989"
             ],
             [
              0.3333333333333333,
              "#31688e"
             ],
             [
              0.4444444444444444,
              "#26828e"
             ],
             [
              0.5555555555555556,
              "#1f9e89"
             ],
             [
              0.6666666666666666,
              "#35b779"
             ],
             [
              0.7777777777777778,
              "#6ece58"
             ],
             [
              0.8888888888888888,
              "#b5de2b"
             ],
             [
              1,
              "#fde725"
             ]
            ],
            "type": "histogram2dcontour"
           }
          ],
          "mesh3d": [
           {
            "colorbar": {
             "outlinewidth": 1,
             "tickcolor": "rgb(36,36,36)",
             "ticks": "outside"
            },
            "type": "mesh3d"
           }
          ],
          "parcoords": [
           {
            "line": {
             "colorbar": {
              "outlinewidth": 1,
              "tickcolor": "rgb(36,36,36)",
              "ticks": "outside"
             }
            },
            "type": "parcoords"
           }
          ],
          "pie": [
           {
            "automargin": true,
            "type": "pie"
           }
          ],
          "scatter": [
           {
            "fillpattern": {
             "fillmode": "overlay",
             "size": 10,
             "solidity": 0.2
            },
            "type": "scatter"
           }
          ],
          "scatter3d": [
           {
            "line": {
             "colorbar": {
              "outlinewidth": 1,
              "tickcolor": "rgb(36,36,36)",
              "ticks": "outside"
             }
            },
            "marker": {
             "colorbar": {
              "outlinewidth": 1,
              "tickcolor": "rgb(36,36,36)",
              "ticks": "outside"
             }
            },
            "type": "scatter3d"
           }
          ],
          "scattercarpet": [
           {
            "marker": {
             "colorbar": {
              "outlinewidth": 1,
              "tickcolor": "rgb(36,36,36)",
              "ticks": "outside"
             }
            },
            "type": "scattercarpet"
           }
          ],
          "scattergeo": [
           {
            "marker": {
             "colorbar": {
              "outlinewidth": 1,
              "tickcolor": "rgb(36,36,36)",
              "ticks": "outside"
             }
            },
            "type": "scattergeo"
           }
          ],
          "scattergl": [
           {
            "marker": {
             "colorbar": {
              "outlinewidth": 1,
              "tickcolor": "rgb(36,36,36)",
              "ticks": "outside"
             }
            },
            "type": "scattergl"
           }
          ],
          "scattermapbox": [
           {
            "marker": {
             "colorbar": {
              "outlinewidth": 1,
              "tickcolor": "rgb(36,36,36)",
              "ticks": "outside"
             }
            },
            "type": "scattermapbox"
           }
          ],
          "scatterpolar": [
           {
            "marker": {
             "colorbar": {
              "outlinewidth": 1,
              "tickcolor": "rgb(36,36,36)",
              "ticks": "outside"
             }
            },
            "type": "scatterpolar"
           }
          ],
          "scatterpolargl": [
           {
            "marker": {
             "colorbar": {
              "outlinewidth": 1,
              "tickcolor": "rgb(36,36,36)",
              "ticks": "outside"
             }
            },
            "type": "scatterpolargl"
           }
          ],
          "scatterternary": [
           {
            "marker": {
             "colorbar": {
              "outlinewidth": 1,
              "tickcolor": "rgb(36,36,36)",
              "ticks": "outside"
             }
            },
            "type": "scatterternary"
           }
          ],
          "surface": [
           {
            "colorbar": {
             "outlinewidth": 1,
             "tickcolor": "rgb(36,36,36)",
             "ticks": "outside"
            },
            "colorscale": [
             [
              0,
              "#440154"
             ],
             [
              0.1111111111111111,
              "#482878"
             ],
             [
              0.2222222222222222,
              "#3e4989"
             ],
             [
              0.3333333333333333,
              "#31688e"
             ],
             [
              0.4444444444444444,
              "#26828e"
             ],
             [
              0.5555555555555556,
              "#1f9e89"
             ],
             [
              0.6666666666666666,
              "#35b779"
             ],
             [
              0.7777777777777778,
              "#6ece58"
             ],
             [
              0.8888888888888888,
              "#b5de2b"
             ],
             [
              1,
              "#fde725"
             ]
            ],
            "type": "surface"
           }
          ],
          "table": [
           {
            "cells": {
             "fill": {
              "color": "rgb(237,237,237)"
             },
             "line": {
              "color": "white"
             }
            },
            "header": {
             "fill": {
              "color": "rgb(217,217,217)"
             },
             "line": {
              "color": "white"
             }
            },
            "type": "table"
           }
          ]
         },
         "layout": {
          "annotationdefaults": {
           "arrowhead": 0,
           "arrowwidth": 1
          },
          "autotypenumbers": "strict",
          "coloraxis": {
           "colorbar": {
            "outlinewidth": 1,
            "tickcolor": "rgb(36,36,36)",
            "ticks": "outside"
           }
          },
          "colorscale": {
           "diverging": [
            [
             0,
             "rgb(103,0,31)"
            ],
            [
             0.1,
             "rgb(178,24,43)"
            ],
            [
             0.2,
             "rgb(214,96,77)"
            ],
            [
             0.3,
             "rgb(244,165,130)"
            ],
            [
             0.4,
             "rgb(253,219,199)"
            ],
            [
             0.5,
             "rgb(247,247,247)"
            ],
            [
             0.6,
             "rgb(209,229,240)"
            ],
            [
             0.7,
             "rgb(146,197,222)"
            ],
            [
             0.8,
             "rgb(67,147,195)"
            ],
            [
             0.9,
             "rgb(33,102,172)"
            ],
            [
             1,
             "rgb(5,48,97)"
            ]
           ],
           "sequential": [
            [
             0,
             "#440154"
            ],
            [
             0.1111111111111111,
             "#482878"
            ],
            [
             0.2222222222222222,
             "#3e4989"
            ],
            [
             0.3333333333333333,
             "#31688e"
            ],
            [
             0.4444444444444444,
             "#26828e"
            ],
            [
             0.5555555555555556,
             "#1f9e89"
            ],
            [
             0.6666666666666666,
             "#35b779"
            ],
            [
             0.7777777777777778,
             "#6ece58"
            ],
            [
             0.8888888888888888,
             "#b5de2b"
            ],
            [
             1,
             "#fde725"
            ]
           ],
           "sequentialminus": [
            [
             0,
             "#440154"
            ],
            [
             0.1111111111111111,
             "#482878"
            ],
            [
             0.2222222222222222,
             "#3e4989"
            ],
            [
             0.3333333333333333,
             "#31688e"
            ],
            [
             0.4444444444444444,
             "#26828e"
            ],
            [
             0.5555555555555556,
             "#1f9e89"
            ],
            [
             0.6666666666666666,
             "#35b779"
            ],
            [
             0.7777777777777778,
             "#6ece58"
            ],
            [
             0.8888888888888888,
             "#b5de2b"
            ],
            [
             1,
             "#fde725"
            ]
           ]
          },
          "colorway": [
           "#1F77B4",
           "#FF7F0E",
           "#2CA02C",
           "#D62728",
           "#9467BD",
           "#8C564B",
           "#E377C2",
           "#7F7F7F",
           "#BCBD22",
           "#17BECF"
          ],
          "font": {
           "color": "rgb(36,36,36)"
          },
          "geo": {
           "bgcolor": "white",
           "lakecolor": "white",
           "landcolor": "white",
           "showlakes": true,
           "showland": true,
           "subunitcolor": "white"
          },
          "hoverlabel": {
           "align": "left"
          },
          "hovermode": "closest",
          "mapbox": {
           "style": "light"
          },
          "paper_bgcolor": "white",
          "plot_bgcolor": "white",
          "polar": {
           "angularaxis": {
            "gridcolor": "rgb(232,232,232)",
            "linecolor": "rgb(36,36,36)",
            "showgrid": false,
            "showline": true,
            "ticks": "outside"
           },
           "bgcolor": "white",
           "radialaxis": {
            "gridcolor": "rgb(232,232,232)",
            "linecolor": "rgb(36,36,36)",
            "showgrid": false,
            "showline": true,
            "ticks": "outside"
           }
          },
          "scene": {
           "xaxis": {
            "backgroundcolor": "white",
            "gridcolor": "rgb(232,232,232)",
            "gridwidth": 2,
            "linecolor": "rgb(36,36,36)",
            "showbackground": true,
            "showgrid": false,
            "showline": true,
            "ticks": "outside",
            "zeroline": false,
            "zerolinecolor": "rgb(36,36,36)"
           },
           "yaxis": {
            "backgroundcolor": "white",
            "gridcolor": "rgb(232,232,232)",
            "gridwidth": 2,
            "linecolor": "rgb(36,36,36)",
            "showbackground": true,
            "showgrid": false,
            "showline": true,
            "ticks": "outside",
            "zeroline": false,
            "zerolinecolor": "rgb(36,36,36)"
           },
           "zaxis": {
            "backgroundcolor": "white",
            "gridcolor": "rgb(232,232,232)",
            "gridwidth": 2,
            "linecolor": "rgb(36,36,36)",
            "showbackground": true,
            "showgrid": false,
            "showline": true,
            "ticks": "outside",
            "zeroline": false,
            "zerolinecolor": "rgb(36,36,36)"
           }
          },
          "shapedefaults": {
           "fillcolor": "black",
           "line": {
            "width": 0
           },
           "opacity": 0.3
          },
          "ternary": {
           "aaxis": {
            "gridcolor": "rgb(232,232,232)",
            "linecolor": "rgb(36,36,36)",
            "showgrid": false,
            "showline": true,
            "ticks": "outside"
           },
           "baxis": {
            "gridcolor": "rgb(232,232,232)",
            "linecolor": "rgb(36,36,36)",
            "showgrid": false,
            "showline": true,
            "ticks": "outside"
           },
           "bgcolor": "white",
           "caxis": {
            "gridcolor": "rgb(232,232,232)",
            "linecolor": "rgb(36,36,36)",
            "showgrid": false,
            "showline": true,
            "ticks": "outside"
           }
          },
          "title": {
           "x": 0.05
          },
          "xaxis": {
           "automargin": true,
           "gridcolor": "rgb(232,232,232)",
           "linecolor": "rgb(36,36,36)",
           "showgrid": false,
           "showline": true,
           "ticks": "outside",
           "title": {
            "standoff": 15
           },
           "zeroline": false,
           "zerolinecolor": "rgb(36,36,36)"
          },
          "yaxis": {
           "automargin": true,
           "gridcolor": "rgb(232,232,232)",
           "linecolor": "rgb(36,36,36)",
           "showgrid": false,
           "showline": true,
           "ticks": "outside",
           "title": {
            "standoff": 15
           },
           "zeroline": false,
           "zerolinecolor": "rgb(36,36,36)"
          }
         }
        },
        "width": 2000,
        "xaxis": {
         "anchor": "y",
         "domain": [
          0,
          1
         ],
         "type": "date"
        },
        "yaxis": {
         "anchor": "x",
         "categoryarray": [
          "NONE",
          "DDA",
          "LPT",
          "MOR",
          "LOR"
         ],
         "categoryorder": "array",
         "domain": [
          0,
          1
         ],
         "title": {
          "text": "Rule"
         }
        }
       }
      },
      "text/html": [
       "<div>                            <div id=\"c6a83919-e985-48e0-8885-123331178d3b\" class=\"plotly-graph-div\" style=\"height:800px; width:2000px;\"></div>            <script type=\"text/javascript\">                require([\"plotly\"], function(Plotly) {                    window.PLOTLYENV=window.PLOTLYENV || {};                                    if (document.getElementById(\"c6a83919-e985-48e0-8885-123331178d3b\")) {                    Plotly.newPlot(                        \"c6a83919-e985-48e0-8885-123331178d3b\",                        [{\"alignmentgroup\":\"True\",\"base\":[\"1970-01-06T04:00:00\",\"1970-01-06T17:00:00\",\"1970-01-07T03:00:00\",\"1970-01-07T11:00:00\",\"1970-01-04T12:00:00\",\"1970-01-04T22:00:00\",\"1970-01-05T11:00:00\",\"1970-01-01T09:00:00\",\"1970-01-01T14:00:00\",\"1970-01-02T01:00:00\",\"1970-01-01T09:00:00\",\"1970-01-01T15:00:00\",\"1970-01-01T20:00:00\",\"1970-01-03T16:00:00\",\"1970-01-04T10:00:00\",\"1970-01-04T18:00:00\",\"1970-01-05T01:00:00\",\"1970-01-05T06:00:00\",\"1970-01-05T15:00:00\",\"1970-01-07T17:00:00\",\"1970-01-06T08:00:00\",\"1970-01-07T06:00:00\",\"1970-01-01T09:00:00\",\"1970-01-01T21:00:00\",\"1970-01-02T06:00:00\",\"1970-01-03T15:00:00\",\"1970-01-07T05:00:00\",\"1970-01-07T19:00:00\",\"1970-01-04T04:00:00\",\"1970-01-04T16:00:00\",\"1970-01-05T11:00:00\",\"1970-01-06T11:00:00\",\"1970-01-07T01:00:00\",\"1970-01-05T03:00:00\",\"1970-01-06T00:00:00\",\"1970-01-02T11:00:00\",\"1970-01-04T17:00:00\",\"1970-01-07T17:00:00\",\"1970-01-01T09:00:00\",\"1970-01-02T03:00:00\",\"1970-01-06T04:00:00\",\"1970-01-07T00:00:00\",\"1970-01-07T11:00:00\",\"1970-01-07T16:00:00\",\"1970-01-04T01:00:00\",\"1970-01-01T09:00:00\",\"1970-01-02T02:00:00\",\"1970-01-05T03:00:00\",\"1970-01-05T20:00:00\",\"1970-01-02T10:00:00\",\"1970-01-01T09:00:00\",\"1970-01-01T20:00:00\",\"1970-01-04T23:00:00\",\"1970-01-05T17:00:00\",\"1970-01-06T04:00:00\",\"1970-01-06T14:00:00\",\"1970-01-07T12:00:00\",\"1970-01-07T17:00:00\",\"1970-01-03T18:00:00\",\"1970-01-04T09:00:00\"],\"hovertemplate\":\"Rule=%{y}<br>Start=%{base}<br>Finish=%{x}<br>Step-Rule=%{text}<extra></extra>\",\"legendgroup\":\"LOR\",\"marker\":{\"color\":\"#2E91E5\",\"pattern\":{\"shape\":\"\"}},\"name\":\"LOR\",\"offsetgroup\":\"LOR\",\"orientation\":\"h\",\"showlegend\":true,\"text\":[\"50-LOR\",\"54-LOR\",\"57-LOR\",\"61-LOR\",\"32-LOR\",\"36-LOR\",\"43-LOR\",\"6-LOR\",\"7-LOR\",\"12-LOR\",\"5-LOR\",\"8-LOR\",\"10-LOR\",\"26-LOR\",\"31-LOR\",\"35-LOR\",\"38-LOR\",\"41-LOR\",\"44-LOR\",\"66-LOR\",\"51-LOR\",\"59-LOR\",\"4-LOR\",\"11-LOR\",\"15-LOR\",\"25-LOR\",\"58-LOR\",\"67-LOR\",\"29-LOR\",\"33-LOR\",\"42-LOR\",\"52-LOR\",\"56-LOR\",\"40-LOR\",\"47-LOR\",\"18-LOR\",\"34-LOR\",\"65-LOR\",\"3-LOR\",\"14-LOR\",\"49-LOR\",\"55-LOR\",\"60-LOR\",\"63-LOR\",\"28-LOR\",\"2-LOR\",\"13-LOR\",\"39-LOR\",\"46-LOR\",\"17-LOR\",\"1-LOR\",\"9-LOR\",\"37-LOR\",\"45-LOR\",\"48-LOR\",\"53-LOR\",\"62-LOR\",\"64-LOR\",\"27-LOR\",\"30-LOR\"],\"textposition\":\"auto\",\"x\":[46800000.0,36000000.0,28800000.0,32400000.0,36000000.0,46800000.0,61200000.0,18000000.0,39600000.0,25200000.0,21600000.0,18000000.0,64800000.0,64800000.0,28800000.0,25200000.0,18000000.0,32400000.0,61200000.0,93600000.0,79200000.0,39600000.0,43200000.0,32400000.0,25200000.0,46800000.0,50400000.0,61200000.0,43200000.0,68400000.0,86400000.0,64800000.0,57600000.0,75600000.0,90000000.0,100800000.0,36000000.0,46800000.0,64800000.0,28800000.0,72000000.0,39600000.0,18000000.0,64800000.0,93600000.0,61200000.0,28800000.0,61200000.0,28800000.0,57600000.0,39600000.0,82800000.0,64800000.0,39600000.0,36000000.0,79200000.0,18000000.0,46800000.0,54000000.0,50400000.0],\"xaxis\":\"x\",\"y\":[\"LOR\",\"LOR\",\"LOR\",\"LOR\",\"LOR\",\"LOR\",\"LOR\",\"LOR\",\"LOR\",\"LOR\",\"LOR\",\"LOR\",\"LOR\",\"LOR\",\"LOR\",\"LOR\",\"LOR\",\"LOR\",\"LOR\",\"LOR\",\"LOR\",\"LOR\",\"LOR\",\"LOR\",\"LOR\",\"LOR\",\"LOR\",\"LOR\",\"LOR\",\"LOR\",\"LOR\",\"LOR\",\"LOR\",\"LOR\",\"LOR\",\"LOR\",\"LOR\",\"LOR\",\"LOR\",\"LOR\",\"LOR\",\"LOR\",\"LOR\",\"LOR\",\"LOR\",\"LOR\",\"LOR\",\"LOR\",\"LOR\",\"LOR\",\"LOR\",\"LOR\",\"LOR\",\"LOR\",\"LOR\",\"LOR\",\"LOR\",\"LOR\",\"LOR\",\"LOR\"],\"yaxis\":\"y\",\"type\":\"bar\"},{\"alignmentgroup\":\"True\",\"base\":[\"1970-01-10T03:00:00\",\"1970-01-07T20:00:00\",\"1970-01-08T09:00:00\",\"1970-01-08T22:00:00\",\"1970-01-09T15:00:00\",\"1970-01-09T04:00:00\",\"1970-01-09T15:00:00\",\"1970-01-10T03:00:00\",\"1970-01-08T19:00:00\",\"1970-01-08T12:00:00\",\"1970-01-09T08:00:00\",\"1970-01-09T17:00:00\",\"1970-01-10T00:00:00\",\"1970-01-08T19:00:00\",\"1970-01-09T11:00:00\",\"1970-01-10T17:00:00\",\"1970-01-11T15:00:00\",\"1970-01-09T23:00:00\",\"1970-01-08T06:00:00\",\"1970-01-08T10:00:00\",\"1970-01-09T02:00:00\",\"1970-01-10T01:00:00\",\"1970-01-10T19:00:00\",\"1970-01-11T14:00:00\",\"1970-01-12T02:00:00\",\"1970-01-08T06:00:00\",\"1970-01-08T15:00:00\",\"1970-01-09T08:00:00\",\"1970-01-09T22:00:00\",\"1970-01-10T04:00:00\",\"1970-01-10T18:00:00\",\"1970-01-11T12:00:00\",\"1970-01-12T14:00:00\"],\"hovertemplate\":\"Rule=%{y}<br>Start=%{base}<br>Finish=%{x}<br>Step-Rule=%{text}<extra></extra>\",\"legendgroup\":\"MOR\",\"marker\":{\"color\":\"#E15F99\",\"pattern\":{\"shape\":\"\"}},\"name\":\"MOR\",\"offsetgroup\":\"MOR\",\"orientation\":\"h\",\"showlegend\":true,\"text\":[\"91-MOR\",\"68-MOR\",\"71-MOR\",\"77-MOR\",\"84-MOR\",\"79-MOR\",\"83-MOR\",\"90-MOR\",\"76-MOR\",\"73-MOR\",\"81-MOR\",\"85-MOR\",\"88-MOR\",\"75-MOR\",\"82-MOR\",\"93-MOR\",\"98-MOR\",\"87-MOR\",\"70-MOR\",\"72-MOR\",\"78-MOR\",\"89-MOR\",\"95-MOR\",\"97-MOR\",\"99-MOR\",\"69-MOR\",\"74-MOR\",\"80-MOR\",\"86-MOR\",\"92-MOR\",\"94-MOR\",\"96-MOR\",\"100-MOR\"],\"textposition\":\"auto\",\"x\":[32400000.0,46800000.0,46800000.0,61200000.0,43200000.0,39600000.0,43200000.0,50400000.0,32400000.0,72000000.0,32400000.0,25200000.0,64800000.0,57600000.0,43200000.0,79200000.0,82800000.0,28800000.0,46800000.0,57600000.0,82800000.0,64800000.0,68400000.0,43200000.0,72000000.0,32400000.0,61200000.0,50400000.0,21600000.0,50400000.0,64800000.0,61200000.0,25200000.0],\"xaxis\":\"x\",\"y\":[\"MOR\",\"MOR\",\"MOR\",\"MOR\",\"MOR\",\"MOR\",\"MOR\",\"MOR\",\"MOR\",\"MOR\",\"MOR\",\"MOR\",\"MOR\",\"MOR\",\"MOR\",\"MOR\",\"MOR\",\"MOR\",\"MOR\",\"MOR\",\"MOR\",\"MOR\",\"MOR\",\"MOR\",\"MOR\",\"MOR\",\"MOR\",\"MOR\",\"MOR\",\"MOR\",\"MOR\",\"MOR\",\"MOR\"],\"yaxis\":\"y\",\"type\":\"bar\"},{\"alignmentgroup\":\"True\",\"base\":[\"1970-01-03T11:00:00\",\"1970-01-02T08:00:00\",\"1970-01-02T14:00:00\",\"1970-01-02T13:00:00\",\"1970-01-03T15:00:00\",\"1970-01-03T02:00:00\",\"1970-01-02T19:00:00\"],\"hovertemplate\":\"Rule=%{y}<br>Start=%{base}<br>Finish=%{x}<br>Step-Rule=%{text}<extra></extra>\",\"legendgroup\":\"LPT\",\"marker\":{\"color\":\"#1CA71C\",\"pattern\":{\"shape\":\"\"}},\"name\":\"LPT\",\"offsetgroup\":\"LPT\",\"orientation\":\"h\",\"showlegend\":true,\"text\":[\"23-LPT\",\"16-LPT\",\"20-LPT\",\"19-LPT\",\"24-LPT\",\"22-LPT\",\"21-LPT\"],\"textposition\":\"auto\",\"x\":[90000000.0,97200000.0,93600000.0,93600000.0,93600000.0,82800000.0,82800000.0],\"xaxis\":\"x\",\"y\":[\"LPT\",\"LPT\",\"LPT\",\"LPT\",\"LPT\",\"LPT\",\"LPT\"],\"yaxis\":\"y\",\"type\":\"bar\"},{\"alignmentgroup\":\"True\",\"base\":[\"1970-01-10T12:00:00\",\"1970-01-10T17:00:00\",\"1970-01-10T18:00:00\",\"1970-01-10T19:00:00\",\"1970-01-10T21:00:00\",\"1970-01-11T12:00:00\",\"1970-01-11T14:00:00\",\"1970-01-11T15:00:00\",\"1970-01-12T02:00:00\",\"1970-01-12T05:00:00\",\"1970-01-12T14:00:00\",\"1970-01-12T16:00:00\",\"1970-01-12T21:00:00\",\"1970-01-10T17:00:00\",\"1970-01-10T18:00:00\",\"1970-01-10T19:00:00\",\"1970-01-10T21:00:00\",\"1970-01-11T12:00:00\",\"1970-01-11T14:00:00\",\"1970-01-11T15:00:00\",\"1970-01-12T02:00:00\",\"1970-01-12T05:00:00\",\"1970-01-12T14:00:00\",\"1970-01-12T16:00:00\",\"1970-01-12T21:00:00\",\"1970-01-10T18:00:00\",\"1970-01-10T19:00:00\",\"1970-01-10T21:00:00\",\"1970-01-11T12:00:00\",\"1970-01-11T14:00:00\",\"1970-01-11T15:00:00\",\"1970-01-12T02:00:00\",\"1970-01-12T05:00:00\",\"1970-01-12T14:00:00\",\"1970-01-12T16:00:00\",\"1970-01-12T21:00:00\",\"1970-01-10T07:00:00\",\"1970-01-10T12:00:00\",\"1970-01-12T14:00:00\",\"1970-01-12T16:00:00\",\"1970-01-12T21:00:00\",\"1970-01-12T05:00:00\",\"1970-01-12T21:00:00\"],\"hovertemplate\":\"Rule=%{y}<br>Start=%{base}<br>Finish=%{x}<br>Step-Rule=%{text}<extra></extra>\",\"legendgroup\":\"DDA\",\"marker\":{\"color\":\"#FB0D0D\",\"pattern\":{\"shape\":\"\"}},\"name\":\"DDA\",\"offsetgroup\":\"DDA\",\"orientation\":\"h\",\"showlegend\":true,\"text\":[\"93-DDA\",\"94-DDA\",\"95-DDA\",\"96-DDA\",\"96-DDA\",\"97-DDA\",\"98-DDA\",\"99-DDA\",\"100-DDA\",\"100-DDA\",\"101-DDA\",\"101-DDA\",\"101-DDA\",\"94-DDA\",\"95-DDA\",\"96-DDA\",\"96-DDA\",\"97-DDA\",\"98-DDA\",\"99-DDA\",\"100-DDA\",\"100-DDA\",\"101-DDA\",\"101-DDA\",\"101-DDA\",\"95-DDA\",\"96-DDA\",\"96-DDA\",\"97-DDA\",\"98-DDA\",\"99-DDA\",\"100-DDA\",\"100-DDA\",\"101-DDA\",\"101-DDA\",\"101-DDA\",\"93-DDA\",\"93-DDA\",\"101-DDA\",\"101-DDA\",\"101-DDA\",\"100-DDA\",\"101-DDA\"],\"textposition\":\"auto\",\"x\":[18000000.0,3600000.0,3600000.0,7200000.0,54000000.0,7200000.0,3600000.0,39600000.0,10800000.0,32400000.0,7200000.0,18000000.0,3600000.0,3600000.0,3600000.0,7200000.0,54000000.0,7200000.0,3600000.0,39600000.0,10800000.0,32400000.0,7200000.0,18000000.0,3600000.0,3600000.0,7200000.0,54000000.0,7200000.0,3600000.0,39600000.0,10800000.0,32400000.0,7200000.0,18000000.0,3600000.0,18000000.0,18000000.0,7200000.0,18000000.0,3600000.0,32400000.0,3600000.0],\"xaxis\":\"x\",\"y\":[\"DDA\",\"DDA\",\"DDA\",\"DDA\",\"DDA\",\"DDA\",\"DDA\",\"DDA\",\"DDA\",\"DDA\",\"DDA\",\"DDA\",\"DDA\",\"DDA\",\"DDA\",\"DDA\",\"DDA\",\"DDA\",\"DDA\",\"DDA\",\"DDA\",\"DDA\",\"DDA\",\"DDA\",\"DDA\",\"DDA\",\"DDA\",\"DDA\",\"DDA\",\"DDA\",\"DDA\",\"DDA\",\"DDA\",\"DDA\",\"DDA\",\"DDA\",\"DDA\",\"DDA\",\"DDA\",\"DDA\",\"DDA\",\"DDA\",\"DDA\"],\"yaxis\":\"y\",\"type\":\"bar\"},{\"alignmentgroup\":\"True\",\"base\":[\"1970-01-02T08:00:00\",\"1970-01-03T11:00:00\",\"1970-01-06T04:00:00\",\"1970-01-07T20:00:00\",\"1970-01-09T15:00:00\",\"1970-01-10T03:00:00\",\"1970-01-02T14:00:00\",\"1970-01-03T16:00:00\",\"1970-01-04T10:00:00\",\"1970-01-06T08:00:00\",\"1970-01-07T17:00:00\",\"1970-01-08T19:00:00\",\"1970-01-09T04:00:00\",\"1970-01-09T15:00:00\",\"1970-01-02T13:00:00\",\"1970-01-03T15:00:00\",\"1970-01-04T04:00:00\",\"1970-01-07T05:00:00\",\"1970-01-02T11:00:00\",\"1970-01-03T15:00:00\",\"1970-01-05T03:00:00\",\"1970-01-07T01:00:00\",\"1970-01-07T17:00:00\",\"1970-01-08T06:00:00\",\"1970-01-08T19:00:00\",\"1970-01-09T23:00:00\",\"1970-01-10T17:00:00\",\"1970-01-02T10:00:00\",\"1970-01-03T02:00:00\",\"1970-01-04T01:00:00\",\"1970-01-05T03:00:00\",\"1970-01-06T04:00:00\",\"1970-01-07T16:00:00\",\"1970-01-02T19:00:00\",\"1970-01-03T18:00:00\",\"1970-01-04T23:00:00\",\"1970-01-06T04:00:00\",\"1970-01-06T14:00:00\",\"1970-01-07T17:00:00\",\"1970-01-08T06:00:00\",\"1970-01-12T14:00:00\"],\"hovertemplate\":\"Rule=%{y}<br>Start=%{base}<br>Finish=%{x}<br>Step-Rule=%{text}<extra></extra>\",\"legendgroup\":\"NONE\",\"marker\":{\"color\":\"#DA16FF\",\"pattern\":{\"shape\":\"\"}},\"name\":\"NONE\",\"offsetgroup\":\"NONE\",\"orientation\":\"h\",\"showlegend\":true,\"text\":[\"16-NONE\",\"23-NONE\",\"50-NONE\",\"68-NONE\",\"84-NONE\",\"91-NONE\",\"20-NONE\",\"26-NONE\",\"31-NONE\",\"51-NONE\",\"66-NONE\",\"76-NONE\",\"79-NONE\",\"83-NONE\",\"19-NONE\",\"25-NONE\",\"29-NONE\",\"58-NONE\",\"18-NONE\",\"24-NONE\",\"40-NONE\",\"56-NONE\",\"65-NONE\",\"70-NONE\",\"75-NONE\",\"87-NONE\",\"93-NONE\",\"17-NONE\",\"22-NONE\",\"28-NONE\",\"39-NONE\",\"49-NONE\",\"63-NONE\",\"21-NONE\",\"27-NONE\",\"37-NONE\",\"48-NONE\",\"53-NONE\",\"64-NONE\",\"69-NONE\",\"100-NONE\"],\"textposition\":\"auto\",\"x\":[14400000.0,10800000.0,14400000.0,3600000.0,10800000.0,7200000.0,10800000.0,10800000.0,14400000.0,14400000.0,7200000.0,7200000.0,7200000.0,3600000.0,3600000.0,10800000.0,10800000.0,3600000.0,10800000.0,10800000.0,10800000.0,10800000.0,7200000.0,14400000.0,7200000.0,7200000.0,14400000.0,7200000.0,10800000.0,3600000.0,10800000.0,10800000.0,10800000.0,10800000.0,10800000.0,7200000.0,10800000.0,10800000.0,14400000.0,10800000.0,7200000.0],\"xaxis\":\"x\",\"y\":[\"NONE\",\"NONE\",\"NONE\",\"NONE\",\"NONE\",\"NONE\",\"NONE\",\"NONE\",\"NONE\",\"NONE\",\"NONE\",\"NONE\",\"NONE\",\"NONE\",\"NONE\",\"NONE\",\"NONE\",\"NONE\",\"NONE\",\"NONE\",\"NONE\",\"NONE\",\"NONE\",\"NONE\",\"NONE\",\"NONE\",\"NONE\",\"NONE\",\"NONE\",\"NONE\",\"NONE\",\"NONE\",\"NONE\",\"NONE\",\"NONE\",\"NONE\",\"NONE\",\"NONE\",\"NONE\",\"NONE\",\"NONE\"],\"yaxis\":\"y\",\"type\":\"bar\"}],                        {\"template\":{\"data\":{\"barpolar\":[{\"marker\":{\"line\":{\"color\":\"white\",\"width\":0.5},\"pattern\":{\"fillmode\":\"overlay\",\"size\":10,\"solidity\":0.2}},\"type\":\"barpolar\"}],\"bar\":[{\"error_x\":{\"color\":\"rgb(36,36,36)\"},\"error_y\":{\"color\":\"rgb(36,36,36)\"},\"marker\":{\"line\":{\"color\":\"white\",\"width\":0.5},\"pattern\":{\"fillmode\":\"overlay\",\"size\":10,\"solidity\":0.2}},\"type\":\"bar\"}],\"carpet\":[{\"aaxis\":{\"endlinecolor\":\"rgb(36,36,36)\",\"gridcolor\":\"white\",\"linecolor\":\"white\",\"minorgridcolor\":\"white\",\"startlinecolor\":\"rgb(36,36,36)\"},\"baxis\":{\"endlinecolor\":\"rgb(36,36,36)\",\"gridcolor\":\"white\",\"linecolor\":\"white\",\"minorgridcolor\":\"white\",\"startlinecolor\":\"rgb(36,36,36)\"},\"type\":\"carpet\"}],\"choropleth\":[{\"colorbar\":{\"outlinewidth\":1,\"tickcolor\":\"rgb(36,36,36)\",\"ticks\":\"outside\"},\"type\":\"choropleth\"}],\"contourcarpet\":[{\"colorbar\":{\"outlinewidth\":1,\"tickcolor\":\"rgb(36,36,36)\",\"ticks\":\"outside\"},\"type\":\"contourcarpet\"}],\"contour\":[{\"colorbar\":{\"outlinewidth\":1,\"tickcolor\":\"rgb(36,36,36)\",\"ticks\":\"outside\"},\"colorscale\":[[0.0,\"#440154\"],[0.1111111111111111,\"#482878\"],[0.2222222222222222,\"#3e4989\"],[0.3333333333333333,\"#31688e\"],[0.4444444444444444,\"#26828e\"],[0.5555555555555556,\"#1f9e89\"],[0.6666666666666666,\"#35b779\"],[0.7777777777777778,\"#6ece58\"],[0.8888888888888888,\"#b5de2b\"],[1.0,\"#fde725\"]],\"type\":\"contour\"}],\"heatmapgl\":[{\"colorbar\":{\"outlinewidth\":1,\"tickcolor\":\"rgb(36,36,36)\",\"ticks\":\"outside\"},\"colorscale\":[[0.0,\"#440154\"],[0.1111111111111111,\"#482878\"],[0.2222222222222222,\"#3e4989\"],[0.3333333333333333,\"#31688e\"],[0.4444444444444444,\"#26828e\"],[0.5555555555555556,\"#1f9e89\"],[0.6666666666666666,\"#35b779\"],[0.7777777777777778,\"#6ece58\"],[0.8888888888888888,\"#b5de2b\"],[1.0,\"#fde725\"]],\"type\":\"heatmapgl\"}],\"heatmap\":[{\"colorbar\":{\"outlinewidth\":1,\"tickcolor\":\"rgb(36,36,36)\",\"ticks\":\"outside\"},\"colorscale\":[[0.0,\"#440154\"],[0.1111111111111111,\"#482878\"],[0.2222222222222222,\"#3e4989\"],[0.3333333333333333,\"#31688e\"],[0.4444444444444444,\"#26828e\"],[0.5555555555555556,\"#1f9e89\"],[0.6666666666666666,\"#35b779\"],[0.7777777777777778,\"#6ece58\"],[0.8888888888888888,\"#b5de2b\"],[1.0,\"#fde725\"]],\"type\":\"heatmap\"}],\"histogram2dcontour\":[{\"colorbar\":{\"outlinewidth\":1,\"tickcolor\":\"rgb(36,36,36)\",\"ticks\":\"outside\"},\"colorscale\":[[0.0,\"#440154\"],[0.1111111111111111,\"#482878\"],[0.2222222222222222,\"#3e4989\"],[0.3333333333333333,\"#31688e\"],[0.4444444444444444,\"#26828e\"],[0.5555555555555556,\"#1f9e89\"],[0.6666666666666666,\"#35b779\"],[0.7777777777777778,\"#6ece58\"],[0.8888888888888888,\"#b5de2b\"],[1.0,\"#fde725\"]],\"type\":\"histogram2dcontour\"}],\"histogram2d\":[{\"colorbar\":{\"outlinewidth\":1,\"tickcolor\":\"rgb(36,36,36)\",\"ticks\":\"outside\"},\"colorscale\":[[0.0,\"#440154\"],[0.1111111111111111,\"#482878\"],[0.2222222222222222,\"#3e4989\"],[0.3333333333333333,\"#31688e\"],[0.4444444444444444,\"#26828e\"],[0.5555555555555556,\"#1f9e89\"],[0.6666666666666666,\"#35b779\"],[0.7777777777777778,\"#6ece58\"],[0.8888888888888888,\"#b5de2b\"],[1.0,\"#fde725\"]],\"type\":\"histogram2d\"}],\"histogram\":[{\"marker\":{\"line\":{\"color\":\"white\",\"width\":0.6}},\"type\":\"histogram\"}],\"mesh3d\":[{\"colorbar\":{\"outlinewidth\":1,\"tickcolor\":\"rgb(36,36,36)\",\"ticks\":\"outside\"},\"type\":\"mesh3d\"}],\"parcoords\":[{\"line\":{\"colorbar\":{\"outlinewidth\":1,\"tickcolor\":\"rgb(36,36,36)\",\"ticks\":\"outside\"}},\"type\":\"parcoords\"}],\"pie\":[{\"automargin\":true,\"type\":\"pie\"}],\"scatter3d\":[{\"line\":{\"colorbar\":{\"outlinewidth\":1,\"tickcolor\":\"rgb(36,36,36)\",\"ticks\":\"outside\"}},\"marker\":{\"colorbar\":{\"outlinewidth\":1,\"tickcolor\":\"rgb(36,36,36)\",\"ticks\":\"outside\"}},\"type\":\"scatter3d\"}],\"scattercarpet\":[{\"marker\":{\"colorbar\":{\"outlinewidth\":1,\"tickcolor\":\"rgb(36,36,36)\",\"ticks\":\"outside\"}},\"type\":\"scattercarpet\"}],\"scattergeo\":[{\"marker\":{\"colorbar\":{\"outlinewidth\":1,\"tickcolor\":\"rgb(36,36,36)\",\"ticks\":\"outside\"}},\"type\":\"scattergeo\"}],\"scattergl\":[{\"marker\":{\"colorbar\":{\"outlinewidth\":1,\"tickcolor\":\"rgb(36,36,36)\",\"ticks\":\"outside\"}},\"type\":\"scattergl\"}],\"scattermapbox\":[{\"marker\":{\"colorbar\":{\"outlinewidth\":1,\"tickcolor\":\"rgb(36,36,36)\",\"ticks\":\"outside\"}},\"type\":\"scattermapbox\"}],\"scatterpolargl\":[{\"marker\":{\"colorbar\":{\"outlinewidth\":1,\"tickcolor\":\"rgb(36,36,36)\",\"ticks\":\"outside\"}},\"type\":\"scatterpolargl\"}],\"scatterpolar\":[{\"marker\":{\"colorbar\":{\"outlinewidth\":1,\"tickcolor\":\"rgb(36,36,36)\",\"ticks\":\"outside\"}},\"type\":\"scatterpolar\"}],\"scatter\":[{\"fillpattern\":{\"fillmode\":\"overlay\",\"size\":10,\"solidity\":0.2},\"type\":\"scatter\"}],\"scatterternary\":[{\"marker\":{\"colorbar\":{\"outlinewidth\":1,\"tickcolor\":\"rgb(36,36,36)\",\"ticks\":\"outside\"}},\"type\":\"scatterternary\"}],\"surface\":[{\"colorbar\":{\"outlinewidth\":1,\"tickcolor\":\"rgb(36,36,36)\",\"ticks\":\"outside\"},\"colorscale\":[[0.0,\"#440154\"],[0.1111111111111111,\"#482878\"],[0.2222222222222222,\"#3e4989\"],[0.3333333333333333,\"#31688e\"],[0.4444444444444444,\"#26828e\"],[0.5555555555555556,\"#1f9e89\"],[0.6666666666666666,\"#35b779\"],[0.7777777777777778,\"#6ece58\"],[0.8888888888888888,\"#b5de2b\"],[1.0,\"#fde725\"]],\"type\":\"surface\"}],\"table\":[{\"cells\":{\"fill\":{\"color\":\"rgb(237,237,237)\"},\"line\":{\"color\":\"white\"}},\"header\":{\"fill\":{\"color\":\"rgb(217,217,217)\"},\"line\":{\"color\":\"white\"}},\"type\":\"table\"}]},\"layout\":{\"annotationdefaults\":{\"arrowhead\":0,\"arrowwidth\":1},\"autotypenumbers\":\"strict\",\"coloraxis\":{\"colorbar\":{\"outlinewidth\":1,\"tickcolor\":\"rgb(36,36,36)\",\"ticks\":\"outside\"}},\"colorscale\":{\"diverging\":[[0.0,\"rgb(103,0,31)\"],[0.1,\"rgb(178,24,43)\"],[0.2,\"rgb(214,96,77)\"],[0.3,\"rgb(244,165,130)\"],[0.4,\"rgb(253,219,199)\"],[0.5,\"rgb(247,247,247)\"],[0.6,\"rgb(209,229,240)\"],[0.7,\"rgb(146,197,222)\"],[0.8,\"rgb(67,147,195)\"],[0.9,\"rgb(33,102,172)\"],[1.0,\"rgb(5,48,97)\"]],\"sequential\":[[0.0,\"#440154\"],[0.1111111111111111,\"#482878\"],[0.2222222222222222,\"#3e4989\"],[0.3333333333333333,\"#31688e\"],[0.4444444444444444,\"#26828e\"],[0.5555555555555556,\"#1f9e89\"],[0.6666666666666666,\"#35b779\"],[0.7777777777777778,\"#6ece58\"],[0.8888888888888888,\"#b5de2b\"],[1.0,\"#fde725\"]],\"sequentialminus\":[[0.0,\"#440154\"],[0.1111111111111111,\"#482878\"],[0.2222222222222222,\"#3e4989\"],[0.3333333333333333,\"#31688e\"],[0.4444444444444444,\"#26828e\"],[0.5555555555555556,\"#1f9e89\"],[0.6666666666666666,\"#35b779\"],[0.7777777777777778,\"#6ece58\"],[0.8888888888888888,\"#b5de2b\"],[1.0,\"#fde725\"]]},\"colorway\":[\"#1F77B4\",\"#FF7F0E\",\"#2CA02C\",\"#D62728\",\"#9467BD\",\"#8C564B\",\"#E377C2\",\"#7F7F7F\",\"#BCBD22\",\"#17BECF\"],\"font\":{\"color\":\"rgb(36,36,36)\"},\"geo\":{\"bgcolor\":\"white\",\"lakecolor\":\"white\",\"landcolor\":\"white\",\"showlakes\":true,\"showland\":true,\"subunitcolor\":\"white\"},\"hoverlabel\":{\"align\":\"left\"},\"hovermode\":\"closest\",\"mapbox\":{\"style\":\"light\"},\"paper_bgcolor\":\"white\",\"plot_bgcolor\":\"white\",\"polar\":{\"angularaxis\":{\"gridcolor\":\"rgb(232,232,232)\",\"linecolor\":\"rgb(36,36,36)\",\"showgrid\":false,\"showline\":true,\"ticks\":\"outside\"},\"bgcolor\":\"white\",\"radialaxis\":{\"gridcolor\":\"rgb(232,232,232)\",\"linecolor\":\"rgb(36,36,36)\",\"showgrid\":false,\"showline\":true,\"ticks\":\"outside\"}},\"scene\":{\"xaxis\":{\"backgroundcolor\":\"white\",\"gridcolor\":\"rgb(232,232,232)\",\"gridwidth\":2,\"linecolor\":\"rgb(36,36,36)\",\"showbackground\":true,\"showgrid\":false,\"showline\":true,\"ticks\":\"outside\",\"zeroline\":false,\"zerolinecolor\":\"rgb(36,36,36)\"},\"yaxis\":{\"backgroundcolor\":\"white\",\"gridcolor\":\"rgb(232,232,232)\",\"gridwidth\":2,\"linecolor\":\"rgb(36,36,36)\",\"showbackground\":true,\"showgrid\":false,\"showline\":true,\"ticks\":\"outside\",\"zeroline\":false,\"zerolinecolor\":\"rgb(36,36,36)\"},\"zaxis\":{\"backgroundcolor\":\"white\",\"gridcolor\":\"rgb(232,232,232)\",\"gridwidth\":2,\"linecolor\":\"rgb(36,36,36)\",\"showbackground\":true,\"showgrid\":false,\"showline\":true,\"ticks\":\"outside\",\"zeroline\":false,\"zerolinecolor\":\"rgb(36,36,36)\"}},\"shapedefaults\":{\"fillcolor\":\"black\",\"line\":{\"width\":0},\"opacity\":0.3},\"ternary\":{\"aaxis\":{\"gridcolor\":\"rgb(232,232,232)\",\"linecolor\":\"rgb(36,36,36)\",\"showgrid\":false,\"showline\":true,\"ticks\":\"outside\"},\"baxis\":{\"gridcolor\":\"rgb(232,232,232)\",\"linecolor\":\"rgb(36,36,36)\",\"showgrid\":false,\"showline\":true,\"ticks\":\"outside\"},\"bgcolor\":\"white\",\"caxis\":{\"gridcolor\":\"rgb(232,232,232)\",\"linecolor\":\"rgb(36,36,36)\",\"showgrid\":false,\"showline\":true,\"ticks\":\"outside\"}},\"title\":{\"x\":0.05},\"xaxis\":{\"automargin\":true,\"gridcolor\":\"rgb(232,232,232)\",\"linecolor\":\"rgb(36,36,36)\",\"showgrid\":false,\"showline\":true,\"ticks\":\"outside\",\"title\":{\"standoff\":15},\"zeroline\":false,\"zerolinecolor\":\"rgb(36,36,36)\"},\"yaxis\":{\"automargin\":true,\"gridcolor\":\"rgb(232,232,232)\",\"linecolor\":\"rgb(36,36,36)\",\"showgrid\":false,\"showline\":true,\"ticks\":\"outside\",\"title\":{\"standoff\":15},\"zeroline\":false,\"zerolinecolor\":\"rgb(36,36,36)\"}}},\"xaxis\":{\"anchor\":\"y\",\"domain\":[0.0,1.0],\"type\":\"date\"},\"yaxis\":{\"anchor\":\"x\",\"domain\":[0.0,1.0],\"title\":{\"text\":\"Rule\"},\"categoryorder\":\"array\",\"categoryarray\":[\"NONE\",\"DDA\",\"LPT\",\"MOR\",\"LOR\"]},\"legend\":{\"title\":{\"text\":\"Rule\"},\"tracegroupgap\":0},\"margin\":{\"t\":60},\"barmode\":\"overlay\",\"height\":800,\"width\":2000},                        {\"responsive\": true}                    ).then(function(){\n",
       "                            \n",
       "var gd = document.getElementById('c6a83919-e985-48e0-8885-123331178d3b');\n",
       "var x = new MutationObserver(function (mutations, observer) {{\n",
       "        var display = window.getComputedStyle(gd).display;\n",
       "        if (!display || display === 'none') {{\n",
       "            console.log([gd, 'removed!']);\n",
       "            Plotly.purge(gd);\n",
       "            observer.disconnect();\n",
       "        }}\n",
       "}});\n",
       "\n",
       "// Listen for the removal of the full notebook cells\n",
       "var notebookContainer = gd.closest('#notebook-container');\n",
       "if (notebookContainer) {{\n",
       "    x.observe(notebookContainer, {childList: true});\n",
       "}}\n",
       "\n",
       "// Listen for the clearing of the current output cell\n",
       "var outputEl = gd.closest('.output');\n",
       "if (outputEl) {{\n",
       "    x.observe(outputEl, {childList: true});\n",
       "}}\n",
       "\n",
       "                        })                };                });            </script>        </div>"
      ]
     },
     "metadata": {},
     "output_type": "display_data"
    },
    {
     "name": "stdout",
     "output_type": "stream",
     "text": [
      "FlowTime: 3050\n",
      "machine_util: 0\n",
      "util: 0.818892900120337\n",
      "makespan: 277\n",
      "Score -301.0\n"
     ]
    }
   ],
   "source": [
    "# -*- coding: utf-8 -*-\n",
    "\"\"\"\n",
    "Created on Mon Apr  4 23:28:32 2022\n",
    "\n",
    "@author: parkh\n",
    "\"\"\"\n",
    "\n",
    "import torch\n",
    "import torch.nn as nn\n",
    "import torch.nn.functional as F\n",
    "import torch.optim as optim\n",
    "\n",
    "import gym\n",
    "import collections\n",
    "import random\n",
    "from SIM_gannt4 import *\n",
    "\n",
    "learning_rate = 0.001  \n",
    "gamma = 0.99\n",
    "buffer_limit = 10000\n",
    "batch_size = 16\n",
    "\n",
    "class ReplayBuffer():\n",
    "    def __init__(self):\n",
    "        self.buffer = collections.deque(maxlen=buffer_limit);\n",
    "    def put(self, transition):\n",
    "        self.buffer.append(transition)\n",
    "    def sample(self, n):\n",
    "        mini_batch = random.sample(self.buffer, n)\n",
    "        s_lst, a_lst, r_lst, s_prime_lst, done_mask_lst = [],[],[],[],[]\n",
    "        \n",
    "        for transition in mini_batch:\n",
    "            s, a, r, s_prime, done_mask = transition\n",
    "            s_lst.append(s)\n",
    "            a_lst.append([a])\n",
    "            r_lst.append([r])\n",
    "            s_prime_lst.append(s_prime)\n",
    "            done_mask_lst.append([done_mask])\n",
    "            \n",
    "        return torch.tensor(s_lst, dtype=torch. float),torch.tensor(a_lst), torch.tensor(r_lst), torch.tensor(s_prime_lst, dtype=torch. float), torch.tensor(done_mask_lst)\n",
    "    \n",
    "    def size(self):\n",
    "        return len(self.buffer)\n",
    "\n",
    "class Qnet(nn.Module):\n",
    "    def __init__(self):\n",
    "        super(Qnet, self).__init__()\n",
    "        self.fc1 = nn.Linear(132,64)\n",
    "        self.fc2 = nn.Linear(64,32)\n",
    "        self.fc3 = nn.Linear(32,6)\n",
    "        self.number_of_time_list = np.array([1 for x in range(6)])\n",
    "    \n",
    "    def forward(self, x):\n",
    "        x = F.relu(self.fc1(x))\n",
    "        x = F.relu(self.fc2(x))\n",
    "        x = self.fc3(x)\n",
    "        return x\n",
    "    \n",
    "    def sample_action(self, obs, epsilon):\n",
    "        out = self.forward(obs)\n",
    "        #print(out)\n",
    "        out2 = out.detach().numpy()\n",
    "        act_list = out2/self.number_of_time_list\n",
    "        act = np.argmax(act_list)\n",
    "        coin = random.random()\n",
    "        if coin < epsilon:\n",
    "            return random.randint(0, 5)\n",
    "        else:\n",
    "            return act\n",
    "    def select_action(self, obs, epsilon):\n",
    "        out = self.forward(obs)\n",
    "        out2 = out.detach().numpy()\n",
    "        act_list = out2/self.number_of_time_list\n",
    "        act = np.argmax(act_list)\n",
    "        return act,act_list\n",
    "        \n",
    "def train(q, q_target, memory, optimizer):\n",
    "    for i in range(10):\n",
    "        s,a,r,s_prime,done_mask = memory.sample(batch_size)\n",
    "        #q.number_of_time_list[a] += 1    \n",
    "        q_out = q(s)\n",
    "        q_a = q_out.gather(1,a)\n",
    "        max_q_prime = q_target(s_prime).max (1)[0].unsqueeze(1)\n",
    "        target = r + gamma * max_q_prime * done_mask\n",
    "        loss = F.smooth_l1_loss(q_a, target)\n",
    "        optimizer.zero_grad()\n",
    "        loss.backward()\n",
    "        optimizer.step()\n",
    "            \n",
    "def main():\n",
    "    env = FJSP_simulator('C:/Users\\parkh/git_tlsgudcks/simulator/data/FJSP_SIM7_all.csv','C:/Users/parkh/FJSP_SETUP_SIM.csv',1)\n",
    "    q = Qnet()\n",
    "    q_target = Qnet()\n",
    "    q_target.load_state_dict(q.state_dict())\n",
    "    memory = ReplayBuffer()\n",
    "    print_interval = 1\n",
    "    q_load = 20\n",
    "    score = 0.0\n",
    "    optimizer = optim.Adam(q.parameters(), lr=learning_rate)\n",
    "    \n",
    "    for n_epi in range(1000):\n",
    "        epsilon = max(0.01 , 0.08 - 0.02*(n_epi/200))\n",
    "        s = env.reset()\n",
    "        done = False\n",
    "        score = 0.0\n",
    "        while not done:\n",
    "            a = q.sample_action(torch.from_numpy(s). float(), epsilon)\n",
    "            s_prime, r, done = env.step(a)\n",
    "            done_mask =0.0 if done else 1.0\n",
    "            if done == False:\n",
    "                memory.put((s,a,r,s_prime,done_mask))\n",
    "                s = s_prime\n",
    "                score += r\n",
    "            if done:\n",
    "                break\n",
    "        if memory.size()>1000:\n",
    "            train(q, q_target, memory, optimizer)\n",
    "            \n",
    "        if n_epi % print_interval==0 and n_epi!=0:\n",
    "            #q_target.load_state_dict(q.state_dict())\n",
    "            Flow_time, machine_utill ,util, makespan = env.performance_measure()\n",
    "            print(\"--------------------------------------------------\")\n",
    "            print(\"flow time: {}, util : {:.3f}, makespan : {}\".format(Flow_time, util, makespan))\n",
    "            print(\"n_episode: {}, score : {:.1f}, n_buffer : {}, eps : {:.1f}%\".format(n_epi, score/print_interval,memory.size(),epsilon*100))\n",
    "            #score=0.0\n",
    "        if n_epi % q_load ==0 and n_epi!=0:\n",
    "            q_target.load_state_dict(q.state_dict())\n",
    "        s = env.reset()\n",
    "        done = False\n",
    "        score = 0.0\n",
    "    while not done:\n",
    "        a, a_list = q.select_action(torch.from_numpy(s). float(), epsilon)\n",
    "        print(a_list)\n",
    "        print(a)\n",
    "        s_prime, r, done = env.step(a)\n",
    "        print(r)\n",
    "        s = s_prime\n",
    "        score += r\n",
    "        if done:\n",
    "            break\n",
    "    Flow_time, machine_util, util, makespan = env.performance_measure()\n",
    "    env.gannt_chart()\n",
    "    return Flow_time, machine_util, util, makespan, score\n",
    "Flow_time, machine_util, util, makespan, score =main()\n",
    "print(\"FlowTime:\" , Flow_time)\n",
    "print(\"machine_util:\" , machine_util)\n",
    "print(\"util:\" , util)\n",
    "print(\"makespan:\" , makespan)\n",
    "print(\"Score\" , score)\n",
    "      \n",
    "    "
   ]
  },
  {
   "cell_type": "code",
   "execution_count": null,
   "id": "36f3497f",
   "metadata": {},
   "outputs": [],
   "source": []
  }
 ],
 "metadata": {
  "kernelspec": {
   "display_name": "Python 3",
   "language": "python",
   "name": "python3"
  },
  "language_info": {
   "codemirror_mode": {
    "name": "ipython",
    "version": 3
   },
   "file_extension": ".py",
   "mimetype": "text/x-python",
   "name": "python",
   "nbconvert_exporter": "python",
   "pygments_lexer": "ipython3",
   "version": "3.8.8"
  }
 },
 "nbformat": 4,
 "nbformat_minor": 5
}
