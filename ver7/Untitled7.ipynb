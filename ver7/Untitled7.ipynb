{
 "cells": [
  {
   "cell_type": "code",
   "execution_count": 2,
   "id": "49cc2b0e",
   "metadata": {},
   "outputs": [
    {
     "name": "stderr",
     "output_type": "stream",
     "text": [
      "C:\\Users\\parkh\\Anaconda3\\lib\\site-packages\\ipykernel\\ipkernel.py:287: DeprecationWarning:\n",
      "\n",
      "`should_run_async` will not call `transform_cell` automatically in the future. Please pass the result to `transformed_cell` argument and any exception that happen during thetransform in `preprocessing_exc_tuple` in IPython 7.17 and above.\n",
      "\n",
      "<>:91: DeprecationWarning:\n",
      "\n",
      "invalid escape sequence \\p\n",
      "\n"
     ]
    },
    {
     "name": "stdout",
     "output_type": "stream",
     "text": [
      "--------------------------------------------------\n",
      "flow time: 4719, util : 0.810, makespan : 268\n",
      "n_episode: 1, score : -1608.0, n_buffer : 226, eps : 8.0%\n",
      "--------------------------------------------------\n",
      "flow time: 4687, util : 0.821, makespan : 269\n",
      "n_episode: 2, score : -1614.0, n_buffer : 342, eps : 8.0%\n",
      "--------------------------------------------------\n",
      "flow time: 4651, util : 0.800, makespan : 277\n",
      "n_episode: 3, score : -1662.0, n_buffer : 457, eps : 8.0%\n",
      "--------------------------------------------------\n",
      "flow time: 4869, util : 0.818, makespan : 272\n",
      "n_episode: 4, score : -1632.0, n_buffer : 572, eps : 8.0%\n",
      "--------------------------------------------------\n",
      "flow time: 4822, util : 0.816, makespan : 272\n",
      "n_episode: 5, score : -1632.0, n_buffer : 687, eps : 8.0%\n",
      "--------------------------------------------------\n",
      "flow time: 4785, util : 0.826, makespan : 269\n",
      "n_episode: 6, score : -1614.0, n_buffer : 802, eps : 7.9%\n",
      "--------------------------------------------------\n",
      "flow time: 4850, util : 0.815, makespan : 280\n",
      "n_episode: 7, score : -1680.0, n_buffer : 919, eps : 7.9%\n",
      "--------------------------------------------------\n",
      "flow time: 4982, util : 0.837, makespan : 283\n",
      "n_episode: 8, score : -1698.0, n_buffer : 1033, eps : 7.9%\n",
      "--------------------------------------------------\n",
      "flow time: 2807, util : 0.802, makespan : 231\n",
      "n_episode: 9, score : -1386.0, n_buffer : 1159, eps : 7.9%\n",
      "--------------------------------------------------\n",
      "flow time: 3695, util : 0.763, makespan : 280\n",
      "n_episode: 10, score : -1680.0, n_buffer : 1300, eps : 7.9%\n",
      "--------------------------------------------------\n",
      "flow time: 4640, util : 0.852, makespan : 306\n",
      "n_episode: 11, score : -1836.0, n_buffer : 1429, eps : 7.9%\n",
      "--------------------------------------------------\n",
      "flow time: 3378, util : 0.763, makespan : 250\n",
      "n_episode: 12, score : -1500.0, n_buffer : 1566, eps : 7.9%\n",
      "--------------------------------------------------\n",
      "flow time: 4485, util : 0.827, makespan : 273\n",
      "n_episode: 13, score : -1638.0, n_buffer : 1684, eps : 7.9%\n",
      "--------------------------------------------------\n",
      "flow time: 2839, util : 0.830, makespan : 275\n",
      "n_episode: 14, score : -1650.0, n_buffer : 1820, eps : 7.9%\n",
      "--------------------------------------------------\n",
      "flow time: 2984, util : 0.811, makespan : 289\n",
      "n_episode: 15, score : -1734.0, n_buffer : 1951, eps : 7.8%\n",
      "--------------------------------------------------\n",
      "flow time: 3096, util : 0.834, makespan : 290\n",
      "n_episode: 16, score : -1740.0, n_buffer : 2083, eps : 7.8%\n",
      "--------------------------------------------------\n",
      "flow time: 2782, util : 0.868, makespan : 263\n",
      "n_episode: 17, score : -1578.0, n_buffer : 2209, eps : 7.8%\n",
      "--------------------------------------------------\n",
      "flow time: 3069, util : 0.739, makespan : 296\n",
      "n_episode: 18, score : -1776.0, n_buffer : 2363, eps : 7.8%\n",
      "--------------------------------------------------\n",
      "flow time: 2613, util : 0.727, makespan : 262\n",
      "n_episode: 19, score : -1572.0, n_buffer : 2511, eps : 7.8%\n",
      "--------------------------------------------------\n",
      "flow time: 2826, util : 0.790, makespan : 232\n",
      "n_episode: 20, score : -1392.0, n_buffer : 2638, eps : 7.8%\n",
      "--------------------------------------------------\n",
      "flow time: 3090, util : 0.784, makespan : 254\n",
      "n_episode: 21, score : -1524.0, n_buffer : 2753, eps : 7.8%\n",
      "--------------------------------------------------\n",
      "flow time: 3656, util : 0.828, makespan : 216\n",
      "n_episode: 22, score : -1296.0, n_buffer : 2868, eps : 7.8%\n",
      "--------------------------------------------------\n",
      "flow time: 4152, util : 0.830, makespan : 240\n",
      "n_episode: 23, score : -1440.0, n_buffer : 2983, eps : 7.8%\n",
      "--------------------------------------------------\n",
      "flow time: 3205, util : 0.847, makespan : 239\n",
      "n_episode: 24, score : -1434.0, n_buffer : 3097, eps : 7.8%\n",
      "--------------------------------------------------\n",
      "flow time: 2616, util : 0.800, makespan : 234\n",
      "n_episode: 25, score : -1404.0, n_buffer : 3234, eps : 7.8%\n",
      "--------------------------------------------------\n",
      "flow time: 2667, util : 0.705, makespan : 273\n",
      "n_episode: 26, score : -1638.0, n_buffer : 3381, eps : 7.7%\n",
      "--------------------------------------------------\n",
      "flow time: 3399, util : 0.811, makespan : 229\n",
      "n_episode: 27, score : -1374.0, n_buffer : 3496, eps : 7.7%\n",
      "--------------------------------------------------\n",
      "flow time: 3841, util : 0.819, makespan : 235\n",
      "n_episode: 28, score : -1410.0, n_buffer : 3611, eps : 7.7%\n",
      "--------------------------------------------------\n",
      "flow time: 3701, util : 0.820, makespan : 219\n",
      "n_episode: 29, score : -1314.0, n_buffer : 3726, eps : 7.7%\n",
      "--------------------------------------------------\n",
      "flow time: 3150, util : 0.790, makespan : 239\n",
      "n_episode: 30, score : -1434.0, n_buffer : 3854, eps : 7.7%\n",
      "--------------------------------------------------\n",
      "flow time: 2640, util : 0.848, makespan : 219\n",
      "n_episode: 31, score : -1314.0, n_buffer : 3969, eps : 7.7%\n",
      "--------------------------------------------------\n",
      "flow time: 3221, util : 0.741, makespan : 252\n",
      "n_episode: 32, score : -1512.0, n_buffer : 4097, eps : 7.7%\n",
      "--------------------------------------------------\n",
      "flow time: 3618, util : 0.804, makespan : 224\n",
      "n_episode: 33, score : -1344.0, n_buffer : 4212, eps : 7.7%\n",
      "--------------------------------------------------\n",
      "flow time: 3752, util : 0.780, makespan : 236\n",
      "n_episode: 34, score : -1416.0, n_buffer : 4327, eps : 7.7%\n",
      "--------------------------------------------------\n",
      "flow time: 3659, util : 0.824, makespan : 221\n",
      "n_episode: 35, score : -1326.0, n_buffer : 4448, eps : 7.6%\n",
      "--------------------------------------------------\n",
      "flow time: 3255, util : 0.767, makespan : 242\n",
      "n_episode: 36, score : -1452.0, n_buffer : 4579, eps : 7.6%\n",
      "--------------------------------------------------\n",
      "flow time: 3482, util : 0.788, makespan : 233\n",
      "n_episode: 37, score : -1398.0, n_buffer : 4700, eps : 7.6%\n",
      "--------------------------------------------------\n",
      "flow time: 3578, util : 0.838, makespan : 236\n",
      "n_episode: 38, score : -1416.0, n_buffer : 4810, eps : 7.6%\n",
      "--------------------------------------------------\n",
      "flow time: 3894, util : 0.821, makespan : 228\n",
      "n_episode: 39, score : -1368.0, n_buffer : 4926, eps : 7.6%\n",
      "--------------------------------------------------\n",
      "flow time: 3983, util : 0.795, makespan : 242\n",
      "n_episode: 40, score : -1452.0, n_buffer : 5042, eps : 7.6%\n",
      "--------------------------------------------------\n",
      "flow time: 3608, util : 0.801, makespan : 224\n",
      "n_episode: 41, score : -1344.0, n_buffer : 5157, eps : 7.6%\n",
      "--------------------------------------------------\n",
      "flow time: 3467, util : 0.793, makespan : 226\n",
      "n_episode: 42, score : -1356.0, n_buffer : 5273, eps : 7.6%\n",
      "--------------------------------------------------\n",
      "flow time: 2870, util : 0.752, makespan : 261\n",
      "n_episode: 43, score : -1566.0, n_buffer : 5397, eps : 7.6%\n",
      "--------------------------------------------------\n",
      "flow time: 2787, util : 0.789, makespan : 245\n",
      "n_episode: 44, score : -1470.0, n_buffer : 5534, eps : 7.6%\n",
      "--------------------------------------------------\n",
      "flow time: 3797, util : 0.815, makespan : 232\n",
      "n_episode: 45, score : -1392.0, n_buffer : 5649, eps : 7.5%\n",
      "--------------------------------------------------\n",
      "flow time: 2804, util : 0.786, makespan : 231\n",
      "n_episode: 46, score : -1386.0, n_buffer : 5772, eps : 7.5%\n",
      "--------------------------------------------------\n",
      "flow time: 3416, util : 0.801, makespan : 222\n",
      "n_episode: 47, score : -1332.0, n_buffer : 5887, eps : 7.5%\n",
      "--------------------------------------------------\n",
      "flow time: 3514, util : 0.784, makespan : 239\n",
      "n_episode: 48, score : -1434.0, n_buffer : 6009, eps : 7.5%\n",
      "--------------------------------------------------\n",
      "flow time: 2801, util : 0.746, makespan : 255\n",
      "n_episode: 49, score : -1530.0, n_buffer : 6132, eps : 7.5%\n",
      "--------------------------------------------------\n",
      "flow time: 2670, util : 0.804, makespan : 247\n",
      "n_episode: 50, score : -1482.0, n_buffer : 6266, eps : 7.5%\n",
      "--------------------------------------------------\n",
      "flow time: 2794, util : 0.762, makespan : 284\n",
      "n_episode: 51, score : -1704.0, n_buffer : 6410, eps : 7.5%\n",
      "--------------------------------------------------\n",
      "flow time: 2905, util : 0.724, makespan : 259\n",
      "n_episode: 52, score : -1554.0, n_buffer : 6533, eps : 7.5%\n",
      "--------------------------------------------------\n",
      "flow time: 3431, util : 0.806, makespan : 225\n",
      "n_episode: 53, score : -1350.0, n_buffer : 6645, eps : 7.5%\n"
     ]
    },
    {
     "name": "stdout",
     "output_type": "stream",
     "text": [
      "--------------------------------------------------\n",
      "flow time: 3585, util : 0.816, makespan : 238\n",
      "n_episode: 54, score : -1428.0, n_buffer : 6763, eps : 7.5%\n",
      "--------------------------------------------------\n",
      "flow time: 3692, util : 0.799, makespan : 233\n",
      "n_episode: 55, score : -1398.0, n_buffer : 6878, eps : 7.4%\n",
      "--------------------------------------------------\n",
      "flow time: 2715, util : 0.803, makespan : 233\n",
      "n_episode: 56, score : -1398.0, n_buffer : 7010, eps : 7.4%\n",
      "--------------------------------------------------\n",
      "flow time: 3453, util : 0.804, makespan : 224\n",
      "n_episode: 57, score : -1344.0, n_buffer : 7127, eps : 7.4%\n",
      "--------------------------------------------------\n",
      "flow time: 3742, util : 0.791, makespan : 225\n",
      "n_episode: 58, score : -1350.0, n_buffer : 7239, eps : 7.4%\n",
      "--------------------------------------------------\n",
      "flow time: 3189, util : 0.729, makespan : 275\n",
      "n_episode: 59, score : -1650.0, n_buffer : 7367, eps : 7.4%\n",
      "--------------------------------------------------\n",
      "flow time: 3697, util : 0.815, makespan : 222\n",
      "n_episode: 60, score : -1332.0, n_buffer : 7483, eps : 7.4%\n",
      "--------------------------------------------------\n",
      "flow time: 2814, util : 0.681, makespan : 284\n",
      "n_episode: 61, score : -1704.0, n_buffer : 7623, eps : 7.4%\n",
      "--------------------------------------------------\n",
      "flow time: 2687, util : 0.727, makespan : 267\n",
      "n_episode: 62, score : -1602.0, n_buffer : 7765, eps : 7.4%\n",
      "--------------------------------------------------\n",
      "flow time: 2934, util : 0.885, makespan : 251\n",
      "n_episode: 63, score : -1506.0, n_buffer : 7884, eps : 7.4%\n",
      "--------------------------------------------------\n",
      "flow time: 2714, util : 0.788, makespan : 260\n",
      "n_episode: 64, score : -1560.0, n_buffer : 8019, eps : 7.4%\n",
      "--------------------------------------------------\n",
      "flow time: 2689, util : 0.784, makespan : 245\n",
      "n_episode: 65, score : -1470.0, n_buffer : 8141, eps : 7.3%\n",
      "--------------------------------------------------\n",
      "flow time: 3588, util : 0.786, makespan : 230\n",
      "n_episode: 66, score : -1380.0, n_buffer : 8258, eps : 7.3%\n",
      "--------------------------------------------------\n",
      "flow time: 3674, util : 0.803, makespan : 217\n",
      "n_episode: 67, score : -1302.0, n_buffer : 8374, eps : 7.3%\n",
      "--------------------------------------------------\n",
      "flow time: 3345, util : 0.788, makespan : 232\n",
      "n_episode: 68, score : -1392.0, n_buffer : 8489, eps : 7.3%\n",
      "--------------------------------------------------\n",
      "flow time: 3454, util : 0.789, makespan : 231\n",
      "n_episode: 69, score : -1386.0, n_buffer : 8604, eps : 7.3%\n",
      "--------------------------------------------------\n",
      "flow time: 2861, util : 0.799, makespan : 239\n",
      "n_episode: 70, score : -1434.0, n_buffer : 8728, eps : 7.3%\n",
      "--------------------------------------------------\n",
      "flow time: 3805, util : 0.782, makespan : 235\n",
      "n_episode: 71, score : -1410.0, n_buffer : 8839, eps : 7.3%\n",
      "--------------------------------------------------\n",
      "flow time: 3269, util : 0.751, makespan : 286\n",
      "n_episode: 72, score : -1716.0, n_buffer : 8987, eps : 7.3%\n",
      "--------------------------------------------------\n",
      "flow time: 2980, util : 0.757, makespan : 282\n",
      "n_episode: 73, score : -1692.0, n_buffer : 9133, eps : 7.3%\n",
      "--------------------------------------------------\n",
      "flow time: 2706, util : 0.734, makespan : 253\n",
      "n_episode: 74, score : -1518.0, n_buffer : 9268, eps : 7.3%\n",
      "--------------------------------------------------\n",
      "flow time: 3167, util : 0.850, makespan : 227\n",
      "n_episode: 75, score : -1362.0, n_buffer : 9385, eps : 7.3%\n",
      "--------------------------------------------------\n",
      "flow time: 3693, util : 0.802, makespan : 232\n",
      "n_episode: 76, score : -1392.0, n_buffer : 9494, eps : 7.2%\n",
      "--------------------------------------------------\n",
      "flow time: 2914, util : 0.765, makespan : 258\n",
      "n_episode: 77, score : -1548.0, n_buffer : 9628, eps : 7.2%\n",
      "--------------------------------------------------\n",
      "flow time: 3094, util : 0.711, makespan : 267\n",
      "n_episode: 78, score : -1602.0, n_buffer : 9751, eps : 7.2%\n",
      "--------------------------------------------------\n",
      "flow time: 3341, util : 0.810, makespan : 222\n",
      "n_episode: 79, score : -1332.0, n_buffer : 9863, eps : 7.2%\n",
      "--------------------------------------------------\n",
      "flow time: 2765, util : 0.827, makespan : 232\n",
      "n_episode: 80, score : -1392.0, n_buffer : 9997, eps : 7.2%\n",
      "--------------------------------------------------\n",
      "flow time: 3534, util : 0.823, makespan : 220\n",
      "n_episode: 81, score : -1320.0, n_buffer : 10000, eps : 7.2%\n",
      "--------------------------------------------------\n",
      "flow time: 2834, util : 0.781, makespan : 285\n",
      "n_episode: 82, score : -1710.0, n_buffer : 10000, eps : 7.2%\n",
      "--------------------------------------------------\n",
      "flow time: 3677, util : 0.814, makespan : 228\n",
      "n_episode: 83, score : -1368.0, n_buffer : 10000, eps : 7.2%\n",
      "--------------------------------------------------\n",
      "flow time: 2653, util : 0.678, makespan : 269\n",
      "n_episode: 84, score : -1614.0, n_buffer : 10000, eps : 7.2%\n",
      "--------------------------------------------------\n",
      "flow time: 3230, util : 0.763, makespan : 262\n",
      "n_episode: 85, score : -1572.0, n_buffer : 10000, eps : 7.2%\n",
      "--------------------------------------------------\n",
      "flow time: 3349, util : 0.824, makespan : 241\n",
      "n_episode: 86, score : -1446.0, n_buffer : 10000, eps : 7.1%\n",
      "--------------------------------------------------\n",
      "flow time: 2864, util : 0.765, makespan : 255\n",
      "n_episode: 87, score : -1530.0, n_buffer : 10000, eps : 7.1%\n",
      "--------------------------------------------------\n",
      "flow time: 2877, util : 0.787, makespan : 237\n",
      "n_episode: 88, score : -1422.0, n_buffer : 10000, eps : 7.1%\n",
      "--------------------------------------------------\n",
      "flow time: 3557, util : 0.796, makespan : 226\n",
      "n_episode: 89, score : -1356.0, n_buffer : 10000, eps : 7.1%\n",
      "--------------------------------------------------\n",
      "flow time: 2820, util : 0.833, makespan : 226\n",
      "n_episode: 90, score : -1356.0, n_buffer : 10000, eps : 7.1%\n",
      "--------------------------------------------------\n",
      "flow time: 2559, util : 0.794, makespan : 239\n",
      "n_episode: 91, score : -1434.0, n_buffer : 10000, eps : 7.1%\n",
      "--------------------------------------------------\n",
      "flow time: 2840, util : 0.664, makespan : 287\n",
      "n_episode: 92, score : -1722.0, n_buffer : 10000, eps : 7.1%\n",
      "--------------------------------------------------\n",
      "flow time: 2643, util : 0.789, makespan : 238\n",
      "n_episode: 93, score : -1428.0, n_buffer : 10000, eps : 7.1%\n",
      "--------------------------------------------------\n",
      "flow time: 2984, util : 0.824, makespan : 225\n",
      "n_episode: 94, score : -1350.0, n_buffer : 10000, eps : 7.1%\n",
      "--------------------------------------------------\n",
      "flow time: 3149, util : 0.827, makespan : 214\n",
      "n_episode: 95, score : -1284.0, n_buffer : 10000, eps : 7.1%\n",
      "--------------------------------------------------\n",
      "flow time: 2676, util : 0.783, makespan : 238\n",
      "n_episode: 96, score : -1428.0, n_buffer : 10000, eps : 7.0%\n",
      "--------------------------------------------------\n",
      "flow time: 2871, util : 0.758, makespan : 252\n",
      "n_episode: 97, score : -1512.0, n_buffer : 10000, eps : 7.0%\n",
      "--------------------------------------------------\n",
      "flow time: 2937, util : 0.791, makespan : 247\n",
      "n_episode: 98, score : -1482.0, n_buffer : 10000, eps : 7.0%\n",
      "--------------------------------------------------\n",
      "flow time: 2871, util : 0.825, makespan : 233\n",
      "n_episode: 99, score : -1398.0, n_buffer : 10000, eps : 7.0%\n",
      "--------------------------------------------------\n",
      "flow time: 2819, util : 0.772, makespan : 235\n",
      "n_episode: 100, score : -1410.0, n_buffer : 10000, eps : 7.0%\n",
      "--------------------------------------------------\n",
      "flow time: 2807, util : 0.736, makespan : 255\n",
      "n_episode: 101, score : -1530.0, n_buffer : 10000, eps : 7.0%\n",
      "--------------------------------------------------\n",
      "flow time: 2741, util : 0.749, makespan : 250\n",
      "n_episode: 102, score : -1500.0, n_buffer : 10000, eps : 7.0%\n",
      "--------------------------------------------------\n",
      "flow time: 3036, util : 0.743, makespan : 269\n",
      "n_episode: 103, score : -1614.0, n_buffer : 10000, eps : 7.0%\n",
      "--------------------------------------------------\n",
      "flow time: 3584, util : 0.820, makespan : 223\n",
      "n_episode: 104, score : -1338.0, n_buffer : 10000, eps : 7.0%\n",
      "--------------------------------------------------\n",
      "flow time: 3610, util : 0.808, makespan : 220\n",
      "n_episode: 105, score : -1320.0, n_buffer : 10000, eps : 7.0%\n"
     ]
    },
    {
     "name": "stdout",
     "output_type": "stream",
     "text": [
      "--------------------------------------------------\n",
      "flow time: 2670, util : 0.700, makespan : 272\n",
      "n_episode: 106, score : -1632.0, n_buffer : 10000, eps : 6.9%\n",
      "--------------------------------------------------\n",
      "flow time: 2991, util : 0.824, makespan : 238\n",
      "n_episode: 107, score : -1428.0, n_buffer : 10000, eps : 6.9%\n",
      "--------------------------------------------------\n",
      "flow time: 3212, util : 0.806, makespan : 224\n",
      "n_episode: 108, score : -1344.0, n_buffer : 10000, eps : 6.9%\n",
      "--------------------------------------------------\n",
      "flow time: 2903, util : 0.759, makespan : 253\n",
      "n_episode: 109, score : -1518.0, n_buffer : 10000, eps : 6.9%\n",
      "--------------------------------------------------\n",
      "flow time: 2740, util : 0.761, makespan : 246\n",
      "n_episode: 110, score : -1476.0, n_buffer : 10000, eps : 6.9%\n",
      "--------------------------------------------------\n",
      "flow time: 3142, util : 0.806, makespan : 227\n",
      "n_episode: 111, score : -1362.0, n_buffer : 10000, eps : 6.9%\n",
      "--------------------------------------------------\n",
      "flow time: 2807, util : 0.677, makespan : 286\n",
      "n_episode: 112, score : -1716.0, n_buffer : 10000, eps : 6.9%\n",
      "--------------------------------------------------\n",
      "flow time: 3698, util : 0.786, makespan : 230\n",
      "n_episode: 113, score : -1380.0, n_buffer : 10000, eps : 6.9%\n",
      "--------------------------------------------------\n",
      "flow time: 3553, util : 0.794, makespan : 228\n",
      "n_episode: 114, score : -1368.0, n_buffer : 10000, eps : 6.9%\n",
      "--------------------------------------------------\n",
      "flow time: 3154, util : 0.832, makespan : 227\n",
      "n_episode: 115, score : -1362.0, n_buffer : 10000, eps : 6.9%\n",
      "--------------------------------------------------\n",
      "flow time: 2778, util : 0.830, makespan : 221\n",
      "n_episode: 116, score : -1326.0, n_buffer : 10000, eps : 6.8%\n",
      "--------------------------------------------------\n",
      "flow time: 2703, util : 0.792, makespan : 236\n",
      "n_episode: 117, score : -1416.0, n_buffer : 10000, eps : 6.8%\n",
      "--------------------------------------------------\n",
      "flow time: 2974, util : 0.754, makespan : 249\n",
      "n_episode: 118, score : -1494.0, n_buffer : 10000, eps : 6.8%\n",
      "--------------------------------------------------\n",
      "flow time: 2683, util : 0.699, makespan : 271\n",
      "n_episode: 119, score : -1626.0, n_buffer : 10000, eps : 6.8%\n",
      "--------------------------------------------------\n",
      "flow time: 2953, util : 0.762, makespan : 272\n",
      "n_episode: 120, score : -1632.0, n_buffer : 10000, eps : 6.8%\n",
      "--------------------------------------------------\n",
      "flow time: 2750, util : 0.686, makespan : 291\n",
      "n_episode: 121, score : -1746.0, n_buffer : 10000, eps : 6.8%\n",
      "--------------------------------------------------\n",
      "flow time: 2703, util : 0.762, makespan : 288\n",
      "n_episode: 122, score : -1728.0, n_buffer : 10000, eps : 6.8%\n",
      "--------------------------------------------------\n",
      "flow time: 2693, util : 0.796, makespan : 238\n",
      "n_episode: 123, score : -1428.0, n_buffer : 10000, eps : 6.8%\n",
      "--------------------------------------------------\n",
      "flow time: 3740, util : 0.789, makespan : 227\n",
      "n_episode: 124, score : -1362.0, n_buffer : 10000, eps : 6.8%\n",
      "--------------------------------------------------\n",
      "flow time: 2777, util : 0.796, makespan : 248\n",
      "n_episode: 125, score : -1488.0, n_buffer : 10000, eps : 6.8%\n",
      "--------------------------------------------------\n",
      "flow time: 2983, util : 0.818, makespan : 224\n",
      "n_episode: 126, score : -1344.0, n_buffer : 10000, eps : 6.7%\n",
      "--------------------------------------------------\n",
      "flow time: 3373, util : 0.800, makespan : 228\n",
      "n_episode: 127, score : -1368.0, n_buffer : 10000, eps : 6.7%\n",
      "--------------------------------------------------\n",
      "flow time: 2896, util : 0.795, makespan : 261\n",
      "n_episode: 128, score : -1566.0, n_buffer : 10000, eps : 6.7%\n",
      "--------------------------------------------------\n",
      "flow time: 2742, util : 0.718, makespan : 284\n",
      "n_episode: 129, score : -1704.0, n_buffer : 10000, eps : 6.7%\n",
      "--------------------------------------------------\n",
      "flow time: 3316, util : 0.814, makespan : 226\n",
      "n_episode: 130, score : -1356.0, n_buffer : 10000, eps : 6.7%\n",
      "--------------------------------------------------\n",
      "flow time: 2728, util : 0.788, makespan : 233\n",
      "n_episode: 131, score : -1398.0, n_buffer : 10000, eps : 6.7%\n",
      "--------------------------------------------------\n",
      "flow time: 2679, util : 0.795, makespan : 235\n",
      "n_episode: 132, score : -1410.0, n_buffer : 10000, eps : 6.7%\n",
      "--------------------------------------------------\n",
      "flow time: 2778, util : 0.812, makespan : 241\n",
      "n_episode: 133, score : -1446.0, n_buffer : 10000, eps : 6.7%\n",
      "--------------------------------------------------\n",
      "flow time: 2854, util : 0.823, makespan : 228\n",
      "n_episode: 134, score : -1368.0, n_buffer : 10000, eps : 6.7%\n",
      "--------------------------------------------------\n",
      "flow time: 2881, util : 0.678, makespan : 288\n",
      "n_episode: 135, score : -1728.0, n_buffer : 10000, eps : 6.7%\n",
      "--------------------------------------------------\n",
      "flow time: 2672, util : 0.664, makespan : 291\n",
      "n_episode: 136, score : -1746.0, n_buffer : 10000, eps : 6.6%\n",
      "--------------------------------------------------\n",
      "flow time: 2752, util : 0.815, makespan : 224\n",
      "n_episode: 137, score : -1344.0, n_buffer : 10000, eps : 6.6%\n",
      "--------------------------------------------------\n",
      "flow time: 2685, util : 0.767, makespan : 241\n",
      "n_episode: 138, score : -1446.0, n_buffer : 10000, eps : 6.6%\n",
      "--------------------------------------------------\n",
      "flow time: 2879, util : 0.737, makespan : 279\n",
      "n_episode: 139, score : -1674.0, n_buffer : 10000, eps : 6.6%\n",
      "--------------------------------------------------\n",
      "flow time: 3202, util : 0.801, makespan : 221\n",
      "n_episode: 140, score : -1326.0, n_buffer : 10000, eps : 6.6%\n",
      "--------------------------------------------------\n",
      "flow time: 2657, util : 0.764, makespan : 245\n",
      "n_episode: 141, score : -1470.0, n_buffer : 10000, eps : 6.6%\n",
      "--------------------------------------------------\n",
      "flow time: 3545, util : 0.801, makespan : 219\n",
      "n_episode: 142, score : -1314.0, n_buffer : 10000, eps : 6.6%\n",
      "--------------------------------------------------\n",
      "flow time: 2866, util : 0.850, makespan : 225\n",
      "n_episode: 143, score : -1350.0, n_buffer : 10000, eps : 6.6%\n",
      "--------------------------------------------------\n",
      "flow time: 2923, util : 0.774, makespan : 246\n",
      "n_episode: 144, score : -1476.0, n_buffer : 10000, eps : 6.6%\n",
      "--------------------------------------------------\n",
      "flow time: 2906, util : 0.820, makespan : 221\n",
      "n_episode: 145, score : -1326.0, n_buffer : 10000, eps : 6.6%\n",
      "--------------------------------------------------\n",
      "flow time: 2651, util : 0.830, makespan : 234\n",
      "n_episode: 146, score : -1404.0, n_buffer : 10000, eps : 6.5%\n",
      "--------------------------------------------------\n",
      "flow time: 3429, util : 0.814, makespan : 230\n",
      "n_episode: 147, score : -1380.0, n_buffer : 10000, eps : 6.5%\n",
      "--------------------------------------------------\n",
      "flow time: 2925, util : 0.664, makespan : 298\n",
      "n_episode: 148, score : -1788.0, n_buffer : 10000, eps : 6.5%\n",
      "--------------------------------------------------\n",
      "flow time: 2702, util : 0.652, makespan : 294\n",
      "n_episode: 149, score : -1764.0, n_buffer : 10000, eps : 6.5%\n",
      "--------------------------------------------------\n",
      "flow time: 3721, util : 0.811, makespan : 221\n",
      "n_episode: 150, score : -1326.0, n_buffer : 10000, eps : 6.5%\n",
      "--------------------------------------------------\n",
      "flow time: 2874, util : 0.752, makespan : 262\n",
      "n_episode: 151, score : -1572.0, n_buffer : 10000, eps : 6.5%\n",
      "--------------------------------------------------\n",
      "flow time: 2739, util : 0.708, makespan : 263\n",
      "n_episode: 152, score : -1578.0, n_buffer : 10000, eps : 6.5%\n",
      "--------------------------------------------------\n",
      "flow time: 2761, util : 0.740, makespan : 302\n",
      "n_episode: 153, score : -1812.0, n_buffer : 10000, eps : 6.5%\n",
      "--------------------------------------------------\n",
      "flow time: 2781, util : 0.682, makespan : 288\n",
      "n_episode: 154, score : -1728.0, n_buffer : 10000, eps : 6.5%\n",
      "--------------------------------------------------\n",
      "flow time: 2695, util : 0.697, makespan : 280\n",
      "n_episode: 155, score : -1680.0, n_buffer : 10000, eps : 6.5%\n",
      "--------------------------------------------------\n",
      "flow time: 2724, util : 0.711, makespan : 277\n",
      "n_episode: 156, score : -1662.0, n_buffer : 10000, eps : 6.4%\n",
      "--------------------------------------------------\n",
      "flow time: 2981, util : 0.830, makespan : 230\n",
      "n_episode: 157, score : -1380.0, n_buffer : 10000, eps : 6.4%\n"
     ]
    },
    {
     "name": "stdout",
     "output_type": "stream",
     "text": [
      "--------------------------------------------------\n",
      "flow time: 3761, util : 0.813, makespan : 221\n",
      "n_episode: 158, score : -1326.0, n_buffer : 10000, eps : 6.4%\n",
      "--------------------------------------------------\n",
      "flow time: 2579, util : 0.815, makespan : 221\n",
      "n_episode: 159, score : -1326.0, n_buffer : 10000, eps : 6.4%\n",
      "--------------------------------------------------\n",
      "flow time: 2680, util : 0.741, makespan : 254\n",
      "n_episode: 160, score : -1524.0, n_buffer : 10000, eps : 6.4%\n",
      "--------------------------------------------------\n",
      "flow time: 3466, util : 0.814, makespan : 221\n",
      "n_episode: 161, score : -1326.0, n_buffer : 10000, eps : 6.4%\n",
      "--------------------------------------------------\n",
      "flow time: 3576, util : 0.794, makespan : 218\n",
      "n_episode: 162, score : -1308.0, n_buffer : 10000, eps : 6.4%\n",
      "--------------------------------------------------\n",
      "flow time: 2673, util : 0.814, makespan : 229\n",
      "n_episode: 163, score : -1374.0, n_buffer : 10000, eps : 6.4%\n",
      "--------------------------------------------------\n",
      "flow time: 3654, util : 0.796, makespan : 243\n",
      "n_episode: 164, score : -1458.0, n_buffer : 10000, eps : 6.4%\n",
      "--------------------------------------------------\n",
      "flow time: 2644, util : 0.786, makespan : 241\n",
      "n_episode: 165, score : -1446.0, n_buffer : 10000, eps : 6.3%\n",
      "--------------------------------------------------\n",
      "flow time: 2661, util : 0.702, makespan : 271\n",
      "n_episode: 166, score : -1626.0, n_buffer : 10000, eps : 6.3%\n",
      "--------------------------------------------------\n",
      "flow time: 2700, util : 0.653, makespan : 283\n",
      "n_episode: 167, score : -1698.0, n_buffer : 10000, eps : 6.3%\n",
      "--------------------------------------------------\n",
      "flow time: 3434, util : 0.800, makespan : 231\n",
      "n_episode: 168, score : -1386.0, n_buffer : 10000, eps : 6.3%\n",
      "--------------------------------------------------\n",
      "flow time: 2761, util : 0.839, makespan : 224\n",
      "n_episode: 169, score : -1344.0, n_buffer : 10000, eps : 6.3%\n",
      "--------------------------------------------------\n",
      "flow time: 2705, util : 0.748, makespan : 257\n",
      "n_episode: 170, score : -1542.0, n_buffer : 10000, eps : 6.3%\n",
      "--------------------------------------------------\n",
      "flow time: 3591, util : 0.782, makespan : 231\n",
      "n_episode: 171, score : -1386.0, n_buffer : 10000, eps : 6.3%\n",
      "--------------------------------------------------\n",
      "flow time: 2873, util : 0.770, makespan : 244\n",
      "n_episode: 172, score : -1464.0, n_buffer : 10000, eps : 6.3%\n",
      "--------------------------------------------------\n",
      "flow time: 2751, util : 0.824, makespan : 224\n",
      "n_episode: 173, score : -1344.0, n_buffer : 10000, eps : 6.3%\n",
      "--------------------------------------------------\n",
      "flow time: 2681, util : 0.750, makespan : 256\n",
      "n_episode: 174, score : -1536.0, n_buffer : 10000, eps : 6.3%\n",
      "--------------------------------------------------\n",
      "flow time: 3017, util : 0.737, makespan : 274\n",
      "n_episode: 175, score : -1644.0, n_buffer : 10000, eps : 6.2%\n",
      "--------------------------------------------------\n",
      "flow time: 2783, util : 0.752, makespan : 276\n",
      "n_episode: 176, score : -1656.0, n_buffer : 10000, eps : 6.2%\n",
      "--------------------------------------------------\n",
      "flow time: 2619, util : 0.756, makespan : 256\n",
      "n_episode: 177, score : -1536.0, n_buffer : 10000, eps : 6.2%\n",
      "--------------------------------------------------\n",
      "flow time: 2679, util : 0.759, makespan : 251\n",
      "n_episode: 178, score : -1506.0, n_buffer : 10000, eps : 6.2%\n",
      "--------------------------------------------------\n",
      "flow time: 2717, util : 0.825, makespan : 229\n",
      "n_episode: 179, score : -1374.0, n_buffer : 10000, eps : 6.2%\n",
      "--------------------------------------------------\n",
      "flow time: 3543, util : 0.788, makespan : 219\n",
      "n_episode: 180, score : -1314.0, n_buffer : 10000, eps : 6.2%\n",
      "--------------------------------------------------\n",
      "flow time: 2953, util : 0.729, makespan : 266\n",
      "n_episode: 181, score : -1596.0, n_buffer : 10000, eps : 6.2%\n",
      "--------------------------------------------------\n",
      "flow time: 2832, util : 0.830, makespan : 275\n",
      "n_episode: 182, score : -1650.0, n_buffer : 10000, eps : 6.2%\n",
      "--------------------------------------------------\n",
      "flow time: 3057, util : 0.819, makespan : 224\n",
      "n_episode: 183, score : -1344.0, n_buffer : 10000, eps : 6.2%\n",
      "--------------------------------------------------\n",
      "flow time: 3070, util : 0.786, makespan : 227\n",
      "n_episode: 184, score : -1362.0, n_buffer : 10000, eps : 6.2%\n",
      "--------------------------------------------------\n",
      "flow time: 3394, util : 0.750, makespan : 252\n",
      "n_episode: 185, score : -1512.0, n_buffer : 10000, eps : 6.2%\n",
      "--------------------------------------------------\n",
      "flow time: 3653, util : 0.781, makespan : 224\n",
      "n_episode: 186, score : -1344.0, n_buffer : 10000, eps : 6.1%\n",
      "--------------------------------------------------\n",
      "flow time: 2852, util : 0.795, makespan : 289\n",
      "n_episode: 187, score : -1734.0, n_buffer : 10000, eps : 6.1%\n",
      "--------------------------------------------------\n",
      "flow time: 2864, util : 0.760, makespan : 306\n",
      "n_episode: 188, score : -1836.0, n_buffer : 10000, eps : 6.1%\n",
      "--------------------------------------------------\n",
      "flow time: 3127, util : 0.808, makespan : 231\n",
      "n_episode: 189, score : -1386.0, n_buffer : 10000, eps : 6.1%\n",
      "--------------------------------------------------\n",
      "flow time: 2747, util : 0.765, makespan : 244\n",
      "n_episode: 190, score : -1464.0, n_buffer : 10000, eps : 6.1%\n",
      "--------------------------------------------------\n",
      "flow time: 2640, util : 0.752, makespan : 252\n",
      "n_episode: 191, score : -1512.0, n_buffer : 10000, eps : 6.1%\n",
      "--------------------------------------------------\n",
      "flow time: 2918, util : 0.692, makespan : 280\n",
      "n_episode: 192, score : -1680.0, n_buffer : 10000, eps : 6.1%\n",
      "--------------------------------------------------\n",
      "flow time: 2858, util : 0.815, makespan : 240\n",
      "n_episode: 193, score : -1440.0, n_buffer : 10000, eps : 6.1%\n",
      "--------------------------------------------------\n",
      "flow time: 2818, util : 0.794, makespan : 237\n",
      "n_episode: 194, score : -1422.0, n_buffer : 10000, eps : 6.1%\n",
      "--------------------------------------------------\n",
      "flow time: 3045, util : 0.824, makespan : 223\n",
      "n_episode: 195, score : -1338.0, n_buffer : 10000, eps : 6.0%\n",
      "--------------------------------------------------\n",
      "flow time: 2607, util : 0.787, makespan : 240\n",
      "n_episode: 196, score : -1440.0, n_buffer : 10000, eps : 6.0%\n",
      "--------------------------------------------------\n",
      "flow time: 2686, util : 0.718, makespan : 264\n",
      "n_episode: 197, score : -1584.0, n_buffer : 10000, eps : 6.0%\n",
      "--------------------------------------------------\n",
      "flow time: 2904, util : 0.822, makespan : 235\n",
      "n_episode: 198, score : -1410.0, n_buffer : 10000, eps : 6.0%\n",
      "--------------------------------------------------\n",
      "flow time: 3828, util : 0.822, makespan : 224\n",
      "n_episode: 199, score : -1344.0, n_buffer : 10000, eps : 6.0%\n",
      "--------------------------------------------------\n",
      "flow time: 2781, util : 0.679, makespan : 275\n",
      "n_episode: 200, score : -1650.0, n_buffer : 10000, eps : 6.0%\n",
      "--------------------------------------------------\n",
      "flow time: 2848, util : 0.762, makespan : 246\n",
      "n_episode: 201, score : -1476.0, n_buffer : 10000, eps : 6.0%\n",
      "--------------------------------------------------\n",
      "flow time: 3531, util : 0.806, makespan : 217\n",
      "n_episode: 202, score : -1302.0, n_buffer : 10000, eps : 6.0%\n",
      "--------------------------------------------------\n",
      "flow time: 2707, util : 0.671, makespan : 289\n",
      "n_episode: 203, score : -1734.0, n_buffer : 10000, eps : 6.0%\n",
      "--------------------------------------------------\n",
      "flow time: 2782, util : 0.676, makespan : 282\n",
      "n_episode: 204, score : -1692.0, n_buffer : 10000, eps : 6.0%\n",
      "--------------------------------------------------\n",
      "flow time: 2796, util : 0.685, makespan : 276\n",
      "n_episode: 205, score : -1656.0, n_buffer : 10000, eps : 6.0%\n",
      "--------------------------------------------------\n",
      "flow time: 3490, util : 0.809, makespan : 222\n",
      "n_episode: 206, score : -1332.0, n_buffer : 10000, eps : 5.9%\n",
      "--------------------------------------------------\n",
      "flow time: 2772, util : 0.758, makespan : 242\n",
      "n_episode: 207, score : -1452.0, n_buffer : 10000, eps : 5.9%\n",
      "--------------------------------------------------\n",
      "flow time: 2713, util : 0.757, makespan : 261\n",
      "n_episode: 208, score : -1566.0, n_buffer : 10000, eps : 5.9%\n",
      "--------------------------------------------------\n",
      "flow time: 2658, util : 0.744, makespan : 267\n",
      "n_episode: 209, score : -1602.0, n_buffer : 10000, eps : 5.9%\n"
     ]
    },
    {
     "name": "stdout",
     "output_type": "stream",
     "text": [
      "--------------------------------------------------\n",
      "flow time: 2790, util : 0.663, makespan : 283\n",
      "n_episode: 210, score : -1698.0, n_buffer : 10000, eps : 5.9%\n",
      "--------------------------------------------------\n",
      "flow time: 2880, util : 0.790, makespan : 237\n",
      "n_episode: 211, score : -1422.0, n_buffer : 10000, eps : 5.9%\n",
      "--------------------------------------------------\n",
      "flow time: 2636, util : 0.735, makespan : 271\n",
      "n_episode: 212, score : -1626.0, n_buffer : 10000, eps : 5.9%\n",
      "--------------------------------------------------\n",
      "flow time: 2639, util : 0.771, makespan : 289\n",
      "n_episode: 213, score : -1734.0, n_buffer : 10000, eps : 5.9%\n",
      "--------------------------------------------------\n",
      "flow time: 2834, util : 0.768, makespan : 308\n",
      "n_episode: 214, score : -1848.0, n_buffer : 10000, eps : 5.9%\n",
      "--------------------------------------------------\n",
      "flow time: 2686, util : 0.817, makespan : 228\n",
      "n_episode: 215, score : -1368.0, n_buffer : 10000, eps : 5.9%\n",
      "--------------------------------------------------\n",
      "flow time: 2765, util : 0.777, makespan : 242\n",
      "n_episode: 216, score : -1452.0, n_buffer : 10000, eps : 5.8%\n",
      "--------------------------------------------------\n",
      "flow time: 2722, util : 0.635, makespan : 302\n",
      "n_episode: 217, score : -1812.0, n_buffer : 10000, eps : 5.8%\n",
      "--------------------------------------------------\n",
      "flow time: 2849, util : 0.749, makespan : 292\n",
      "n_episode: 218, score : -1752.0, n_buffer : 10000, eps : 5.8%\n",
      "--------------------------------------------------\n",
      "flow time: 2789, util : 0.726, makespan : 283\n",
      "n_episode: 219, score : -1698.0, n_buffer : 10000, eps : 5.8%\n",
      "--------------------------------------------------\n",
      "flow time: 2691, util : 0.617, makespan : 304\n",
      "n_episode: 220, score : -1824.0, n_buffer : 10000, eps : 5.8%\n",
      "--------------------------------------------------\n",
      "flow time: 2724, util : 0.790, makespan : 237\n",
      "n_episode: 221, score : -1422.0, n_buffer : 10000, eps : 5.8%\n",
      "--------------------------------------------------\n",
      "flow time: 2809, util : 0.780, makespan : 284\n",
      "n_episode: 222, score : -1704.0, n_buffer : 10000, eps : 5.8%\n",
      "--------------------------------------------------\n",
      "flow time: 3065, util : 0.845, makespan : 249\n",
      "n_episode: 223, score : -1494.0, n_buffer : 10000, eps : 5.8%\n",
      "--------------------------------------------------\n",
      "flow time: 2824, util : 0.806, makespan : 240\n",
      "n_episode: 224, score : -1440.0, n_buffer : 10000, eps : 5.8%\n",
      "--------------------------------------------------\n",
      "flow time: 2751, util : 0.748, makespan : 259\n",
      "n_episode: 225, score : -1554.0, n_buffer : 10000, eps : 5.8%\n",
      "--------------------------------------------------\n",
      "flow time: 2774, util : 0.784, makespan : 242\n",
      "n_episode: 226, score : -1452.0, n_buffer : 10000, eps : 5.7%\n",
      "--------------------------------------------------\n",
      "flow time: 3224, util : 0.761, makespan : 245\n",
      "n_episode: 227, score : -1470.0, n_buffer : 10000, eps : 5.7%\n",
      "--------------------------------------------------\n",
      "flow time: 2707, util : 0.698, makespan : 280\n",
      "n_episode: 228, score : -1680.0, n_buffer : 10000, eps : 5.7%\n",
      "--------------------------------------------------\n",
      "flow time: 2709, util : 0.806, makespan : 228\n",
      "n_episode: 229, score : -1368.0, n_buffer : 10000, eps : 5.7%\n",
      "--------------------------------------------------\n",
      "flow time: 3601, util : 0.817, makespan : 217\n",
      "n_episode: 230, score : -1302.0, n_buffer : 10000, eps : 5.7%\n",
      "--------------------------------------------------\n",
      "flow time: 3984, util : 0.811, makespan : 241\n",
      "n_episode: 231, score : -1446.0, n_buffer : 10000, eps : 5.7%\n",
      "--------------------------------------------------\n",
      "flow time: 2702, util : 0.756, makespan : 255\n",
      "n_episode: 232, score : -1530.0, n_buffer : 10000, eps : 5.7%\n",
      "--------------------------------------------------\n",
      "flow time: 2708, util : 0.796, makespan : 238\n",
      "n_episode: 233, score : -1428.0, n_buffer : 10000, eps : 5.7%\n",
      "--------------------------------------------------\n",
      "flow time: 2691, util : 0.808, makespan : 236\n",
      "n_episode: 234, score : -1416.0, n_buffer : 10000, eps : 5.7%\n",
      "--------------------------------------------------\n",
      "flow time: 3746, util : 0.796, makespan : 228\n",
      "n_episode: 235, score : -1368.0, n_buffer : 10000, eps : 5.7%\n",
      "--------------------------------------------------\n",
      "flow time: 2860, util : 0.669, makespan : 289\n",
      "n_episode: 236, score : -1734.0, n_buffer : 10000, eps : 5.6%\n",
      "--------------------------------------------------\n",
      "flow time: 2652, util : 0.859, makespan : 217\n",
      "n_episode: 237, score : -1302.0, n_buffer : 10000, eps : 5.6%\n",
      "--------------------------------------------------\n",
      "flow time: 2676, util : 0.678, makespan : 286\n",
      "n_episode: 238, score : -1716.0, n_buffer : 10000, eps : 5.6%\n",
      "--------------------------------------------------\n",
      "flow time: 3505, util : 0.802, makespan : 212\n",
      "n_episode: 239, score : -1272.0, n_buffer : 10000, eps : 5.6%\n",
      "--------------------------------------------------\n",
      "flow time: 2798, util : 0.737, makespan : 262\n",
      "n_episode: 240, score : -1572.0, n_buffer : 10000, eps : 5.6%\n",
      "--------------------------------------------------\n",
      "flow time: 2882, util : 0.767, makespan : 248\n",
      "n_episode: 241, score : -1488.0, n_buffer : 10000, eps : 5.6%\n",
      "--------------------------------------------------\n",
      "flow time: 2765, util : 0.697, makespan : 280\n",
      "n_episode: 242, score : -1680.0, n_buffer : 10000, eps : 5.6%\n",
      "--------------------------------------------------\n",
      "flow time: 2704, util : 0.788, makespan : 245\n",
      "n_episode: 243, score : -1470.0, n_buffer : 10000, eps : 5.6%\n",
      "--------------------------------------------------\n",
      "flow time: 3547, util : 0.799, makespan : 221\n",
      "n_episode: 244, score : -1326.0, n_buffer : 10000, eps : 5.6%\n",
      "--------------------------------------------------\n",
      "flow time: 2698, util : 0.698, makespan : 276\n",
      "n_episode: 245, score : -1656.0, n_buffer : 10000, eps : 5.5%\n",
      "--------------------------------------------------\n",
      "flow time: 2803, util : 0.781, makespan : 240\n",
      "n_episode: 246, score : -1440.0, n_buffer : 10000, eps : 5.5%\n",
      "--------------------------------------------------\n",
      "flow time: 2715, util : 0.705, makespan : 276\n",
      "n_episode: 247, score : -1656.0, n_buffer : 10000, eps : 5.5%\n",
      "--------------------------------------------------\n",
      "flow time: 2618, util : 0.727, makespan : 272\n",
      "n_episode: 248, score : -1632.0, n_buffer : 10000, eps : 5.5%\n",
      "--------------------------------------------------\n",
      "flow time: 2719, util : 0.665, makespan : 284\n",
      "n_episode: 249, score : -1704.0, n_buffer : 10000, eps : 5.5%\n",
      "--------------------------------------------------\n",
      "flow time: 3299, util : 0.811, makespan : 228\n",
      "n_episode: 250, score : -1368.0, n_buffer : 10000, eps : 5.5%\n",
      "--------------------------------------------------\n",
      "flow time: 3020, util : 0.767, makespan : 247\n",
      "n_episode: 251, score : -1482.0, n_buffer : 10000, eps : 5.5%\n",
      "--------------------------------------------------\n",
      "flow time: 3111, util : 0.764, makespan : 251\n",
      "n_episode: 252, score : -1506.0, n_buffer : 10000, eps : 5.5%\n",
      "--------------------------------------------------\n",
      "flow time: 2676, util : 0.768, makespan : 252\n",
      "n_episode: 253, score : -1512.0, n_buffer : 10000, eps : 5.5%\n",
      "--------------------------------------------------\n",
      "flow time: 3169, util : 0.806, makespan : 242\n",
      "n_episode: 254, score : -1452.0, n_buffer : 10000, eps : 5.5%\n",
      "--------------------------------------------------\n",
      "flow time: 3929, util : 0.835, makespan : 229\n",
      "n_episode: 255, score : -1374.0, n_buffer : 10000, eps : 5.5%\n",
      "--------------------------------------------------\n",
      "flow time: 2808, util : 0.713, makespan : 261\n",
      "n_episode: 256, score : -1566.0, n_buffer : 10000, eps : 5.4%\n",
      "--------------------------------------------------\n",
      "flow time: 3007, util : 0.691, makespan : 301\n",
      "n_episode: 257, score : -1806.0, n_buffer : 10000, eps : 5.4%\n",
      "--------------------------------------------------\n",
      "flow time: 3499, util : 0.824, makespan : 219\n",
      "n_episode: 258, score : -1314.0, n_buffer : 10000, eps : 5.4%\n",
      "--------------------------------------------------\n",
      "flow time: 2675, util : 0.751, makespan : 256\n",
      "n_episode: 259, score : -1536.0, n_buffer : 10000, eps : 5.4%\n",
      "--------------------------------------------------\n",
      "flow time: 3700, util : 0.791, makespan : 227\n",
      "n_episode: 260, score : -1362.0, n_buffer : 10000, eps : 5.4%\n",
      "--------------------------------------------------\n",
      "flow time: 2680, util : 0.749, makespan : 248\n",
      "n_episode: 261, score : -1488.0, n_buffer : 10000, eps : 5.4%\n"
     ]
    },
    {
     "name": "stdout",
     "output_type": "stream",
     "text": [
      "--------------------------------------------------\n",
      "flow time: 3486, util : 0.723, makespan : 265\n",
      "n_episode: 262, score : -1590.0, n_buffer : 10000, eps : 5.4%\n",
      "--------------------------------------------------\n",
      "flow time: 3025, util : 0.839, makespan : 225\n",
      "n_episode: 263, score : -1350.0, n_buffer : 10000, eps : 5.4%\n",
      "--------------------------------------------------\n",
      "flow time: 2828, util : 0.782, makespan : 268\n",
      "n_episode: 264, score : -1608.0, n_buffer : 10000, eps : 5.4%\n",
      "--------------------------------------------------\n",
      "flow time: 2807, util : 0.814, makespan : 237\n",
      "n_episode: 265, score : -1422.0, n_buffer : 10000, eps : 5.4%\n",
      "--------------------------------------------------\n",
      "flow time: 2622, util : 0.824, makespan : 232\n",
      "n_episode: 266, score : -1392.0, n_buffer : 10000, eps : 5.3%\n",
      "--------------------------------------------------\n",
      "flow time: 3010, util : 0.853, makespan : 219\n",
      "n_episode: 267, score : -1314.0, n_buffer : 10000, eps : 5.3%\n",
      "--------------------------------------------------\n",
      "flow time: 2693, util : 0.776, makespan : 243\n",
      "n_episode: 268, score : -1458.0, n_buffer : 10000, eps : 5.3%\n",
      "--------------------------------------------------\n",
      "flow time: 3036, util : 0.844, makespan : 227\n",
      "n_episode: 269, score : -1362.0, n_buffer : 10000, eps : 5.3%\n",
      "--------------------------------------------------\n",
      "flow time: 2793, util : 0.691, makespan : 278\n",
      "n_episode: 270, score : -1668.0, n_buffer : 10000, eps : 5.3%\n",
      "--------------------------------------------------\n",
      "flow time: 2720, util : 0.723, makespan : 263\n",
      "n_episode: 271, score : -1578.0, n_buffer : 10000, eps : 5.3%\n",
      "--------------------------------------------------\n",
      "flow time: 2999, util : 0.804, makespan : 226\n",
      "n_episode: 272, score : -1356.0, n_buffer : 10000, eps : 5.3%\n",
      "--------------------------------------------------\n",
      "flow time: 3537, util : 0.825, makespan : 216\n",
      "n_episode: 273, score : -1296.0, n_buffer : 10000, eps : 5.3%\n",
      "--------------------------------------------------\n",
      "flow time: 2641, util : 0.730, makespan : 267\n",
      "n_episode: 274, score : -1602.0, n_buffer : 10000, eps : 5.3%\n",
      "--------------------------------------------------\n",
      "flow time: 2725, util : 0.738, makespan : 265\n",
      "n_episode: 275, score : -1590.0, n_buffer : 10000, eps : 5.3%\n",
      "--------------------------------------------------\n",
      "flow time: 2691, util : 0.775, makespan : 250\n",
      "n_episode: 276, score : -1500.0, n_buffer : 10000, eps : 5.2%\n",
      "--------------------------------------------------\n",
      "flow time: 2981, util : 0.758, makespan : 271\n",
      "n_episode: 277, score : -1626.0, n_buffer : 10000, eps : 5.2%\n",
      "--------------------------------------------------\n",
      "flow time: 2789, util : 0.671, makespan : 286\n",
      "n_episode: 278, score : -1716.0, n_buffer : 10000, eps : 5.2%\n",
      "--------------------------------------------------\n",
      "flow time: 2648, util : 0.727, makespan : 254\n",
      "n_episode: 279, score : -1524.0, n_buffer : 10000, eps : 5.2%\n",
      "--------------------------------------------------\n",
      "flow time: 2755, util : 0.754, makespan : 263\n",
      "n_episode: 280, score : -1578.0, n_buffer : 10000, eps : 5.2%\n",
      "--------------------------------------------------\n",
      "flow time: 2621, util : 0.739, makespan : 250\n",
      "n_episode: 281, score : -1500.0, n_buffer : 10000, eps : 5.2%\n",
      "--------------------------------------------------\n",
      "flow time: 4235, util : 0.821, makespan : 246\n",
      "n_episode: 282, score : -1476.0, n_buffer : 10000, eps : 5.2%\n",
      "--------------------------------------------------\n",
      "flow time: 3847, util : 0.825, makespan : 251\n",
      "n_episode: 283, score : -1506.0, n_buffer : 10000, eps : 5.2%\n",
      "--------------------------------------------------\n",
      "flow time: 2859, util : 0.783, makespan : 247\n",
      "n_episode: 284, score : -1482.0, n_buffer : 10000, eps : 5.2%\n",
      "--------------------------------------------------\n",
      "flow time: 2657, util : 0.807, makespan : 237\n",
      "n_episode: 285, score : -1422.0, n_buffer : 10000, eps : 5.2%\n",
      "--------------------------------------------------\n",
      "flow time: 2869, util : 0.665, makespan : 298\n",
      "n_episode: 286, score : -1788.0, n_buffer : 10000, eps : 5.1%\n",
      "--------------------------------------------------\n",
      "flow time: 2710, util : 0.859, makespan : 218\n",
      "n_episode: 287, score : -1308.0, n_buffer : 10000, eps : 5.1%\n",
      "--------------------------------------------------\n",
      "flow time: 3317, util : 0.821, makespan : 216\n",
      "n_episode: 288, score : -1296.0, n_buffer : 10000, eps : 5.1%\n",
      "--------------------------------------------------\n",
      "flow time: 2822, util : 0.802, makespan : 238\n",
      "n_episode: 289, score : -1428.0, n_buffer : 10000, eps : 5.1%\n",
      "--------------------------------------------------\n",
      "flow time: 2628, util : 0.729, makespan : 261\n",
      "n_episode: 290, score : -1566.0, n_buffer : 10000, eps : 5.1%\n",
      "--------------------------------------------------\n",
      "flow time: 2892, util : 0.799, makespan : 232\n",
      "n_episode: 291, score : -1392.0, n_buffer : 10000, eps : 5.1%\n",
      "--------------------------------------------------\n",
      "flow time: 2701, util : 0.763, makespan : 255\n",
      "n_episode: 292, score : -1530.0, n_buffer : 10000, eps : 5.1%\n",
      "--------------------------------------------------\n",
      "flow time: 3170, util : 0.807, makespan : 229\n",
      "n_episode: 293, score : -1374.0, n_buffer : 10000, eps : 5.1%\n",
      "--------------------------------------------------\n",
      "flow time: 2668, util : 0.702, makespan : 272\n",
      "n_episode: 294, score : -1632.0, n_buffer : 10000, eps : 5.1%\n",
      "--------------------------------------------------\n",
      "flow time: 3080, util : 0.771, makespan : 256\n",
      "n_episode: 295, score : -1536.0, n_buffer : 10000, eps : 5.1%\n",
      "--------------------------------------------------\n",
      "flow time: 3654, util : 0.817, makespan : 217\n",
      "n_episode: 296, score : -1302.0, n_buffer : 10000, eps : 5.0%\n",
      "--------------------------------------------------\n",
      "flow time: 2781, util : 0.791, makespan : 239\n",
      "n_episode: 297, score : -1434.0, n_buffer : 10000, eps : 5.0%\n",
      "--------------------------------------------------\n",
      "flow time: 3086, util : 0.786, makespan : 248\n",
      "n_episode: 298, score : -1488.0, n_buffer : 10000, eps : 5.0%\n",
      "--------------------------------------------------\n",
      "flow time: 3761, util : 0.795, makespan : 235\n",
      "n_episode: 299, score : -1410.0, n_buffer : 10000, eps : 5.0%\n",
      "--------------------------------------------------\n",
      "flow time: 2589, util : 0.761, makespan : 241\n",
      "n_episode: 300, score : -1446.0, n_buffer : 10000, eps : 5.0%\n",
      "--------------------------------------------------\n",
      "flow time: 2757, util : 0.689, makespan : 274\n",
      "n_episode: 301, score : -1644.0, n_buffer : 10000, eps : 5.0%\n",
      "--------------------------------------------------\n",
      "flow time: 2985, util : 0.766, makespan : 280\n",
      "n_episode: 302, score : -1680.0, n_buffer : 10000, eps : 5.0%\n",
      "--------------------------------------------------\n",
      "flow time: 2702, util : 0.676, makespan : 283\n",
      "n_episode: 303, score : -1698.0, n_buffer : 10000, eps : 5.0%\n",
      "--------------------------------------------------\n",
      "flow time: 2652, util : 0.760, makespan : 244\n",
      "n_episode: 304, score : -1464.0, n_buffer : 10000, eps : 5.0%\n",
      "--------------------------------------------------\n",
      "flow time: 3696, util : 0.786, makespan : 233\n",
      "n_episode: 305, score : -1398.0, n_buffer : 10000, eps : 5.0%\n",
      "--------------------------------------------------\n",
      "flow time: 2688, util : 0.643, makespan : 309\n",
      "n_episode: 306, score : -1854.0, n_buffer : 10000, eps : 4.9%\n",
      "--------------------------------------------------\n",
      "flow time: 3739, util : 0.818, makespan : 220\n",
      "n_episode: 307, score : -1320.0, n_buffer : 10000, eps : 4.9%\n",
      "--------------------------------------------------\n",
      "flow time: 2688, util : 0.723, makespan : 267\n",
      "n_episode: 308, score : -1602.0, n_buffer : 10000, eps : 4.9%\n",
      "--------------------------------------------------\n",
      "flow time: 2906, util : 0.796, makespan : 246\n",
      "n_episode: 309, score : -1476.0, n_buffer : 10000, eps : 4.9%\n",
      "--------------------------------------------------\n",
      "flow time: 3691, util : 0.815, makespan : 222\n",
      "n_episode: 310, score : -1332.0, n_buffer : 10000, eps : 4.9%\n",
      "--------------------------------------------------\n",
      "flow time: 2656, util : 0.775, makespan : 250\n",
      "n_episode: 311, score : -1500.0, n_buffer : 10000, eps : 4.9%\n",
      "--------------------------------------------------\n",
      "flow time: 3075, util : 0.846, makespan : 219\n",
      "n_episode: 312, score : -1314.0, n_buffer : 10000, eps : 4.9%\n",
      "--------------------------------------------------\n",
      "flow time: 3447, util : 0.814, makespan : 223\n",
      "n_episode: 313, score : -1338.0, n_buffer : 10000, eps : 4.9%\n"
     ]
    },
    {
     "name": "stdout",
     "output_type": "stream",
     "text": [
      "--------------------------------------------------\n",
      "flow time: 2728, util : 0.683, makespan : 283\n",
      "n_episode: 314, score : -1698.0, n_buffer : 10000, eps : 4.9%\n",
      "--------------------------------------------------\n",
      "flow time: 2880, util : 0.783, makespan : 242\n",
      "n_episode: 315, score : -1452.0, n_buffer : 10000, eps : 4.9%\n",
      "--------------------------------------------------\n",
      "flow time: 2927, util : 0.806, makespan : 241\n",
      "n_episode: 316, score : -1446.0, n_buffer : 10000, eps : 4.8%\n",
      "--------------------------------------------------\n",
      "flow time: 2674, util : 0.820, makespan : 218\n",
      "n_episode: 317, score : -1308.0, n_buffer : 10000, eps : 4.8%\n",
      "--------------------------------------------------\n",
      "flow time: 2821, util : 0.801, makespan : 234\n",
      "n_episode: 318, score : -1404.0, n_buffer : 10000, eps : 4.8%\n",
      "--------------------------------------------------\n",
      "flow time: 3709, util : 0.816, makespan : 225\n",
      "n_episode: 319, score : -1350.0, n_buffer : 10000, eps : 4.8%\n",
      "--------------------------------------------------\n",
      "flow time: 2627, util : 0.670, makespan : 295\n",
      "n_episode: 320, score : -1770.0, n_buffer : 10000, eps : 4.8%\n",
      "--------------------------------------------------\n",
      "flow time: 2680, util : 0.752, makespan : 251\n",
      "n_episode: 321, score : -1506.0, n_buffer : 10000, eps : 4.8%\n",
      "--------------------------------------------------\n",
      "flow time: 2717, util : 0.678, makespan : 280\n",
      "n_episode: 322, score : -1680.0, n_buffer : 10000, eps : 4.8%\n",
      "--------------------------------------------------\n",
      "flow time: 2644, util : 0.805, makespan : 233\n",
      "n_episode: 323, score : -1398.0, n_buffer : 10000, eps : 4.8%\n",
      "--------------------------------------------------\n",
      "flow time: 2718, util : 0.731, makespan : 291\n",
      "n_episode: 324, score : -1746.0, n_buffer : 10000, eps : 4.8%\n",
      "--------------------------------------------------\n",
      "flow time: 2806, util : 0.692, makespan : 332\n",
      "n_episode: 325, score : -1992.0, n_buffer : 10000, eps : 4.8%\n",
      "--------------------------------------------------\n",
      "flow time: 2780, util : 0.739, makespan : 264\n",
      "n_episode: 326, score : -1584.0, n_buffer : 10000, eps : 4.7%\n",
      "--------------------------------------------------\n",
      "flow time: 2723, util : 0.851, makespan : 229\n",
      "n_episode: 327, score : -1374.0, n_buffer : 10000, eps : 4.7%\n",
      "--------------------------------------------------\n",
      "flow time: 2645, util : 0.805, makespan : 233\n",
      "n_episode: 328, score : -1398.0, n_buffer : 10000, eps : 4.7%\n",
      "--------------------------------------------------\n",
      "flow time: 3164, util : 0.806, makespan : 229\n",
      "n_episode: 329, score : -1374.0, n_buffer : 10000, eps : 4.7%\n",
      "--------------------------------------------------\n",
      "flow time: 2901, util : 0.813, makespan : 226\n",
      "n_episode: 330, score : -1356.0, n_buffer : 10000, eps : 4.7%\n",
      "--------------------------------------------------\n",
      "flow time: 2850, util : 0.746, makespan : 262\n",
      "n_episode: 331, score : -1572.0, n_buffer : 10000, eps : 4.7%\n",
      "--------------------------------------------------\n",
      "flow time: 2666, util : 0.697, makespan : 276\n",
      "n_episode: 332, score : -1656.0, n_buffer : 10000, eps : 4.7%\n",
      "--------------------------------------------------\n",
      "flow time: 2740, util : 0.786, makespan : 227\n",
      "n_episode: 333, score : -1362.0, n_buffer : 10000, eps : 4.7%\n",
      "--------------------------------------------------\n",
      "flow time: 3781, util : 0.806, makespan : 222\n",
      "n_episode: 334, score : -1332.0, n_buffer : 10000, eps : 4.7%\n",
      "--------------------------------------------------\n",
      "flow time: 2678, util : 0.746, makespan : 294\n",
      "n_episode: 335, score : -1764.0, n_buffer : 10000, eps : 4.7%\n",
      "--------------------------------------------------\n",
      "flow time: 2791, util : 0.785, makespan : 237\n",
      "n_episode: 336, score : -1422.0, n_buffer : 10000, eps : 4.6%\n",
      "--------------------------------------------------\n",
      "flow time: 3011, util : 0.808, makespan : 231\n",
      "n_episode: 337, score : -1386.0, n_buffer : 10000, eps : 4.6%\n",
      "--------------------------------------------------\n",
      "flow time: 2974, util : 0.836, makespan : 224\n",
      "n_episode: 338, score : -1344.0, n_buffer : 10000, eps : 4.6%\n",
      "--------------------------------------------------\n",
      "flow time: 2676, util : 0.768, makespan : 252\n",
      "n_episode: 339, score : -1512.0, n_buffer : 10000, eps : 4.6%\n",
      "--------------------------------------------------\n",
      "flow time: 2700, util : 0.701, makespan : 274\n",
      "n_episode: 340, score : -1644.0, n_buffer : 10000, eps : 4.6%\n",
      "--------------------------------------------------\n",
      "flow time: 2888, util : 0.835, makespan : 223\n",
      "n_episode: 341, score : -1338.0, n_buffer : 10000, eps : 4.6%\n",
      "--------------------------------------------------\n",
      "flow time: 3465, util : 0.837, makespan : 247\n",
      "n_episode: 342, score : -1482.0, n_buffer : 10000, eps : 4.6%\n",
      "--------------------------------------------------\n",
      "flow time: 2944, util : 0.802, makespan : 233\n",
      "n_episode: 343, score : -1398.0, n_buffer : 10000, eps : 4.6%\n",
      "--------------------------------------------------\n",
      "flow time: 3595, util : 0.806, makespan : 219\n",
      "n_episode: 344, score : -1314.0, n_buffer : 10000, eps : 4.6%\n",
      "--------------------------------------------------\n",
      "flow time: 3568, util : 0.791, makespan : 227\n",
      "n_episode: 345, score : -1362.0, n_buffer : 10000, eps : 4.5%\n",
      "--------------------------------------------------\n",
      "flow time: 2826, util : 0.671, makespan : 283\n",
      "n_episode: 346, score : -1698.0, n_buffer : 10000, eps : 4.5%\n",
      "--------------------------------------------------\n",
      "flow time: 2788, util : 0.759, makespan : 251\n",
      "n_episode: 347, score : -1506.0, n_buffer : 10000, eps : 4.5%\n",
      "--------------------------------------------------\n",
      "flow time: 3126, util : 0.802, makespan : 226\n",
      "n_episode: 348, score : -1356.0, n_buffer : 10000, eps : 4.5%\n",
      "--------------------------------------------------\n",
      "flow time: 2650, util : 0.789, makespan : 232\n",
      "n_episode: 349, score : -1392.0, n_buffer : 10000, eps : 4.5%\n",
      "--------------------------------------------------\n",
      "flow time: 2651, util : 0.819, makespan : 229\n",
      "n_episode: 350, score : -1374.0, n_buffer : 10000, eps : 4.5%\n",
      "--------------------------------------------------\n",
      "flow time: 2828, util : 0.729, makespan : 269\n",
      "n_episode: 351, score : -1614.0, n_buffer : 10000, eps : 4.5%\n",
      "--------------------------------------------------\n",
      "flow time: 2699, util : 0.787, makespan : 246\n",
      "n_episode: 352, score : -1476.0, n_buffer : 10000, eps : 4.5%\n",
      "--------------------------------------------------\n",
      "flow time: 2686, util : 0.821, makespan : 239\n",
      "n_episode: 353, score : -1434.0, n_buffer : 10000, eps : 4.5%\n",
      "--------------------------------------------------\n",
      "flow time: 2931, util : 0.711, makespan : 277\n",
      "n_episode: 354, score : -1662.0, n_buffer : 10000, eps : 4.5%\n",
      "--------------------------------------------------\n",
      "flow time: 2837, util : 0.733, makespan : 260\n",
      "n_episode: 355, score : -1560.0, n_buffer : 10000, eps : 4.5%\n",
      "--------------------------------------------------\n",
      "flow time: 2849, util : 0.813, makespan : 229\n",
      "n_episode: 356, score : -1374.0, n_buffer : 10000, eps : 4.4%\n",
      "--------------------------------------------------\n",
      "flow time: 2661, util : 0.780, makespan : 247\n",
      "n_episode: 357, score : -1482.0, n_buffer : 10000, eps : 4.4%\n",
      "--------------------------------------------------\n",
      "flow time: 2704, util : 0.696, makespan : 275\n",
      "n_episode: 358, score : -1650.0, n_buffer : 10000, eps : 4.4%\n",
      "--------------------------------------------------\n",
      "flow time: 2704, util : 0.807, makespan : 236\n",
      "n_episode: 359, score : -1416.0, n_buffer : 10000, eps : 4.4%\n",
      "--------------------------------------------------\n",
      "flow time: 3578, util : 0.826, makespan : 234\n",
      "n_episode: 360, score : -1404.0, n_buffer : 10000, eps : 4.4%\n",
      "--------------------------------------------------\n",
      "flow time: 3651, util : 0.810, makespan : 219\n",
      "n_episode: 361, score : -1314.0, n_buffer : 10000, eps : 4.4%\n",
      "--------------------------------------------------\n",
      "flow time: 2795, util : 0.787, makespan : 290\n",
      "n_episode: 362, score : -1740.0, n_buffer : 10000, eps : 4.4%\n",
      "--------------------------------------------------\n",
      "flow time: 2660, util : 0.710, makespan : 282\n",
      "n_episode: 363, score : -1692.0, n_buffer : 10000, eps : 4.4%\n",
      "--------------------------------------------------\n",
      "flow time: 3921, util : 0.797, makespan : 245\n",
      "n_episode: 364, score : -1470.0, n_buffer : 10000, eps : 4.4%\n",
      "--------------------------------------------------\n",
      "flow time: 2755, util : 0.718, makespan : 281\n",
      "n_episode: 365, score : -1686.0, n_buffer : 10000, eps : 4.4%\n"
     ]
    },
    {
     "name": "stdout",
     "output_type": "stream",
     "text": [
      "--------------------------------------------------\n",
      "flow time: 2828, util : 0.739, makespan : 269\n",
      "n_episode: 366, score : -1614.0, n_buffer : 10000, eps : 4.3%\n",
      "--------------------------------------------------\n",
      "flow time: 2813, util : 0.640, makespan : 293\n",
      "n_episode: 367, score : -1758.0, n_buffer : 10000, eps : 4.3%\n",
      "--------------------------------------------------\n",
      "flow time: 3616, util : 0.812, makespan : 215\n",
      "n_episode: 368, score : -1290.0, n_buffer : 10000, eps : 4.3%\n",
      "--------------------------------------------------\n",
      "flow time: 2723, util : 0.666, makespan : 288\n",
      "n_episode: 369, score : -1728.0, n_buffer : 10000, eps : 4.3%\n",
      "--------------------------------------------------\n",
      "flow time: 3071, util : 0.831, makespan : 222\n",
      "n_episode: 370, score : -1332.0, n_buffer : 10000, eps : 4.3%\n",
      "--------------------------------------------------\n",
      "flow time: 2810, util : 0.730, makespan : 254\n",
      "n_episode: 371, score : -1524.0, n_buffer : 10000, eps : 4.3%\n",
      "--------------------------------------------------\n",
      "flow time: 2734, util : 0.748, makespan : 251\n",
      "n_episode: 372, score : -1506.0, n_buffer : 10000, eps : 4.3%\n",
      "--------------------------------------------------\n",
      "flow time: 2721, util : 0.761, makespan : 249\n",
      "n_episode: 373, score : -1494.0, n_buffer : 10000, eps : 4.3%\n",
      "--------------------------------------------------\n",
      "flow time: 2766, util : 0.833, makespan : 258\n",
      "n_episode: 374, score : -1548.0, n_buffer : 10000, eps : 4.3%\n",
      "--------------------------------------------------\n",
      "flow time: 3208, util : 0.855, makespan : 250\n",
      "n_episode: 375, score : -1500.0, n_buffer : 10000, eps : 4.2%\n",
      "--------------------------------------------------\n",
      "flow time: 3378, util : 0.817, makespan : 225\n",
      "n_episode: 376, score : -1350.0, n_buffer : 10000, eps : 4.2%\n",
      "--------------------------------------------------\n",
      "flow time: 2576, util : 0.758, makespan : 240\n",
      "n_episode: 377, score : -1440.0, n_buffer : 10000, eps : 4.2%\n",
      "--------------------------------------------------\n",
      "flow time: 2779, util : 0.683, makespan : 289\n",
      "n_episode: 378, score : -1734.0, n_buffer : 10000, eps : 4.2%\n",
      "--------------------------------------------------\n",
      "flow time: 3145, util : 0.800, makespan : 224\n",
      "n_episode: 379, score : -1344.0, n_buffer : 10000, eps : 4.2%\n",
      "--------------------------------------------------\n",
      "flow time: 2868, util : 0.702, makespan : 286\n",
      "n_episode: 380, score : -1716.0, n_buffer : 10000, eps : 4.2%\n",
      "--------------------------------------------------\n",
      "flow time: 2826, util : 0.675, makespan : 297\n",
      "n_episode: 381, score : -1782.0, n_buffer : 10000, eps : 4.2%\n",
      "--------------------------------------------------\n",
      "flow time: 2725, util : 0.795, makespan : 281\n",
      "n_episode: 382, score : -1686.0, n_buffer : 10000, eps : 4.2%\n",
      "--------------------------------------------------\n",
      "flow time: 2775, util : 0.776, makespan : 245\n",
      "n_episode: 383, score : -1470.0, n_buffer : 10000, eps : 4.2%\n",
      "--------------------------------------------------\n",
      "flow time: 2798, util : 0.749, makespan : 257\n",
      "n_episode: 384, score : -1542.0, n_buffer : 10000, eps : 4.2%\n",
      "--------------------------------------------------\n",
      "flow time: 3937, util : 0.818, makespan : 234\n",
      "n_episode: 385, score : -1404.0, n_buffer : 10000, eps : 4.2%\n",
      "--------------------------------------------------\n",
      "flow time: 3745, util : 0.809, makespan : 221\n",
      "n_episode: 386, score : -1326.0, n_buffer : 10000, eps : 4.1%\n",
      "--------------------------------------------------\n",
      "flow time: 3569, util : 0.781, makespan : 228\n",
      "n_episode: 387, score : -1368.0, n_buffer : 10000, eps : 4.1%\n",
      "--------------------------------------------------\n",
      "flow time: 2761, util : 0.619, makespan : 311\n",
      "n_episode: 388, score : -1866.0, n_buffer : 10000, eps : 4.1%\n",
      "--------------------------------------------------\n",
      "flow time: 2668, util : 0.708, makespan : 273\n",
      "n_episode: 389, score : -1638.0, n_buffer : 10000, eps : 4.1%\n",
      "--------------------------------------------------\n",
      "flow time: 2836, util : 0.748, makespan : 255\n",
      "n_episode: 390, score : -1530.0, n_buffer : 10000, eps : 4.1%\n",
      "--------------------------------------------------\n",
      "flow time: 2719, util : 0.760, makespan : 242\n",
      "n_episode: 391, score : -1452.0, n_buffer : 10000, eps : 4.1%\n",
      "--------------------------------------------------\n",
      "flow time: 2805, util : 0.687, makespan : 277\n",
      "n_episode: 392, score : -1662.0, n_buffer : 10000, eps : 4.1%\n",
      "--------------------------------------------------\n",
      "flow time: 3239, util : 0.775, makespan : 238\n",
      "n_episode: 393, score : -1428.0, n_buffer : 10000, eps : 4.1%\n",
      "--------------------------------------------------\n",
      "flow time: 2738, util : 0.623, makespan : 314\n",
      "n_episode: 394, score : -1884.0, n_buffer : 10000, eps : 4.1%\n",
      "--------------------------------------------------\n",
      "flow time: 2675, util : 0.791, makespan : 236\n",
      "n_episode: 395, score : -1416.0, n_buffer : 10000, eps : 4.0%\n",
      "--------------------------------------------------\n",
      "flow time: 2639, util : 0.725, makespan : 261\n",
      "n_episode: 396, score : -1566.0, n_buffer : 10000, eps : 4.0%\n",
      "--------------------------------------------------\n",
      "flow time: 2611, util : 0.787, makespan : 242\n",
      "n_episode: 397, score : -1452.0, n_buffer : 10000, eps : 4.0%\n",
      "--------------------------------------------------\n",
      "flow time: 3664, util : 0.801, makespan : 223\n",
      "n_episode: 398, score : -1338.0, n_buffer : 10000, eps : 4.0%\n",
      "--------------------------------------------------\n",
      "flow time: 2978, util : 0.750, makespan : 257\n",
      "n_episode: 399, score : -1542.0, n_buffer : 10000, eps : 4.0%\n",
      "--------------------------------------------------\n",
      "flow time: 2643, util : 0.780, makespan : 241\n",
      "n_episode: 400, score : -1446.0, n_buffer : 10000, eps : 4.0%\n",
      "--------------------------------------------------\n",
      "flow time: 2777, util : 0.782, makespan : 242\n",
      "n_episode: 401, score : -1452.0, n_buffer : 10000, eps : 4.0%\n",
      "--------------------------------------------------\n",
      "flow time: 2855, util : 0.744, makespan : 267\n",
      "n_episode: 402, score : -1602.0, n_buffer : 10000, eps : 4.0%\n",
      "--------------------------------------------------\n",
      "flow time: 3730, util : 0.807, makespan : 222\n",
      "n_episode: 403, score : -1332.0, n_buffer : 10000, eps : 4.0%\n",
      "--------------------------------------------------\n",
      "flow time: 3636, util : 0.826, makespan : 219\n",
      "n_episode: 404, score : -1314.0, n_buffer : 10000, eps : 4.0%\n",
      "--------------------------------------------------\n",
      "flow time: 2848, util : 0.760, makespan : 255\n",
      "n_episode: 405, score : -1530.0, n_buffer : 10000, eps : 4.0%\n",
      "--------------------------------------------------\n",
      "flow time: 3147, util : 0.789, makespan : 233\n",
      "n_episode: 406, score : -1398.0, n_buffer : 10000, eps : 3.9%\n",
      "--------------------------------------------------\n",
      "flow time: 3800, util : 0.819, makespan : 226\n",
      "n_episode: 407, score : -1356.0, n_buffer : 10000, eps : 3.9%\n",
      "--------------------------------------------------\n",
      "flow time: 2796, util : 0.758, makespan : 253\n",
      "n_episode: 408, score : -1518.0, n_buffer : 10000, eps : 3.9%\n",
      "--------------------------------------------------\n",
      "flow time: 3553, util : 0.785, makespan : 221\n",
      "n_episode: 409, score : -1326.0, n_buffer : 10000, eps : 3.9%\n",
      "--------------------------------------------------\n",
      "flow time: 3631, util : 0.815, makespan : 215\n",
      "n_episode: 410, score : -1290.0, n_buffer : 10000, eps : 3.9%\n",
      "--------------------------------------------------\n",
      "flow time: 2683, util : 0.823, makespan : 233\n",
      "n_episode: 411, score : -1398.0, n_buffer : 10000, eps : 3.9%\n",
      "--------------------------------------------------\n",
      "flow time: 2831, util : 0.722, makespan : 275\n",
      "n_episode: 412, score : -1650.0, n_buffer : 10000, eps : 3.9%\n",
      "--------------------------------------------------\n",
      "flow time: 3624, util : 0.800, makespan : 217\n",
      "n_episode: 413, score : -1302.0, n_buffer : 10000, eps : 3.9%\n",
      "--------------------------------------------------\n",
      "flow time: 3081, util : 0.794, makespan : 238\n",
      "n_episode: 414, score : -1428.0, n_buffer : 10000, eps : 3.9%\n",
      "--------------------------------------------------\n",
      "flow time: 3565, util : 0.794, makespan : 214\n",
      "n_episode: 415, score : -1284.0, n_buffer : 10000, eps : 3.9%\n",
      "--------------------------------------------------\n",
      "flow time: 2815, util : 0.798, makespan : 225\n",
      "n_episode: 416, score : -1350.0, n_buffer : 10000, eps : 3.8%\n",
      "--------------------------------------------------\n",
      "flow time: 3740, util : 0.787, makespan : 222\n",
      "n_episode: 417, score : -1332.0, n_buffer : 10000, eps : 3.8%\n"
     ]
    },
    {
     "name": "stdout",
     "output_type": "stream",
     "text": [
      "--------------------------------------------------\n",
      "flow time: 2945, util : 0.824, makespan : 237\n",
      "n_episode: 418, score : -1422.0, n_buffer : 10000, eps : 3.8%\n",
      "--------------------------------------------------\n",
      "flow time: 2973, util : 0.771, makespan : 256\n",
      "n_episode: 419, score : -1536.0, n_buffer : 10000, eps : 3.8%\n",
      "--------------------------------------------------\n",
      "flow time: 2857, util : 0.789, makespan : 252\n",
      "n_episode: 420, score : -1512.0, n_buffer : 10000, eps : 3.8%\n",
      "--------------------------------------------------\n",
      "flow time: 3581, util : 0.792, makespan : 213\n",
      "n_episode: 421, score : -1278.0, n_buffer : 10000, eps : 3.8%\n",
      "--------------------------------------------------\n",
      "flow time: 4087, util : 0.814, makespan : 237\n",
      "n_episode: 422, score : -1422.0, n_buffer : 10000, eps : 3.8%\n",
      "--------------------------------------------------\n",
      "flow time: 2691, util : 0.676, makespan : 279\n",
      "n_episode: 423, score : -1674.0, n_buffer : 10000, eps : 3.8%\n",
      "--------------------------------------------------\n",
      "flow time: 2782, util : 0.694, makespan : 274\n",
      "n_episode: 424, score : -1644.0, n_buffer : 10000, eps : 3.8%\n",
      "--------------------------------------------------\n",
      "flow time: 2921, util : 0.690, makespan : 279\n",
      "n_episode: 425, score : -1674.0, n_buffer : 10000, eps : 3.8%\n",
      "--------------------------------------------------\n",
      "flow time: 2678, util : 0.830, makespan : 268\n",
      "n_episode: 426, score : -1608.0, n_buffer : 10000, eps : 3.7%\n",
      "--------------------------------------------------\n",
      "flow time: 3146, util : 0.715, makespan : 286\n",
      "n_episode: 427, score : -1716.0, n_buffer : 10000, eps : 3.7%\n",
      "--------------------------------------------------\n",
      "flow time: 3733, util : 0.832, makespan : 222\n",
      "n_episode: 428, score : -1332.0, n_buffer : 10000, eps : 3.7%\n",
      "--------------------------------------------------\n",
      "flow time: 2761, util : 0.797, makespan : 238\n",
      "n_episode: 429, score : -1428.0, n_buffer : 10000, eps : 3.7%\n",
      "--------------------------------------------------\n",
      "flow time: 2772, util : 0.805, makespan : 284\n",
      "n_episode: 430, score : -1704.0, n_buffer : 10000, eps : 3.7%\n",
      "--------------------------------------------------\n",
      "flow time: 3678, util : 0.777, makespan : 245\n",
      "n_episode: 431, score : -1470.0, n_buffer : 10000, eps : 3.7%\n",
      "--------------------------------------------------\n",
      "flow time: 3054, util : 0.800, makespan : 229\n",
      "n_episode: 432, score : -1374.0, n_buffer : 10000, eps : 3.7%\n",
      "--------------------------------------------------\n",
      "flow time: 2892, util : 0.793, makespan : 238\n",
      "n_episode: 433, score : -1428.0, n_buffer : 10000, eps : 3.7%\n",
      "--------------------------------------------------\n",
      "flow time: 2828, util : 0.739, makespan : 269\n",
      "n_episode: 434, score : -1614.0, n_buffer : 10000, eps : 3.7%\n",
      "--------------------------------------------------\n",
      "flow time: 3557, util : 0.791, makespan : 213\n",
      "n_episode: 435, score : -1278.0, n_buffer : 10000, eps : 3.7%\n",
      "--------------------------------------------------\n",
      "flow time: 3021, util : 0.673, makespan : 280\n",
      "n_episode: 436, score : -1680.0, n_buffer : 10000, eps : 3.6%\n",
      "--------------------------------------------------\n",
      "flow time: 3613, util : 0.808, makespan : 216\n",
      "n_episode: 437, score : -1296.0, n_buffer : 10000, eps : 3.6%\n",
      "--------------------------------------------------\n",
      "flow time: 2607, util : 0.766, makespan : 239\n",
      "n_episode: 438, score : -1434.0, n_buffer : 10000, eps : 3.6%\n",
      "--------------------------------------------------\n",
      "flow time: 3566, util : 0.795, makespan : 217\n",
      "n_episode: 439, score : -1302.0, n_buffer : 10000, eps : 3.6%\n",
      "--------------------------------------------------\n",
      "flow time: 3418, util : 0.800, makespan : 211\n",
      "n_episode: 440, score : -1266.0, n_buffer : 10000, eps : 3.6%\n",
      "--------------------------------------------------\n",
      "flow time: 2840, util : 0.736, makespan : 270\n",
      "n_episode: 441, score : -1620.0, n_buffer : 10000, eps : 3.6%\n",
      "--------------------------------------------------\n",
      "flow time: 2940, util : 0.808, makespan : 277\n",
      "n_episode: 442, score : -1662.0, n_buffer : 10000, eps : 3.6%\n",
      "--------------------------------------------------\n",
      "flow time: 2774, util : 0.836, makespan : 224\n",
      "n_episode: 443, score : -1344.0, n_buffer : 10000, eps : 3.6%\n",
      "--------------------------------------------------\n",
      "flow time: 2733, util : 0.762, makespan : 249\n",
      "n_episode: 444, score : -1494.0, n_buffer : 10000, eps : 3.6%\n",
      "--------------------------------------------------\n",
      "flow time: 3572, util : 0.826, makespan : 214\n",
      "n_episode: 445, score : -1284.0, n_buffer : 10000, eps : 3.5%\n",
      "--------------------------------------------------\n",
      "flow time: 2928, util : 0.805, makespan : 237\n",
      "n_episode: 446, score : -1422.0, n_buffer : 10000, eps : 3.5%\n",
      "--------------------------------------------------\n",
      "flow time: 2616, util : 0.769, makespan : 241\n",
      "n_episode: 447, score : -1446.0, n_buffer : 10000, eps : 3.5%\n",
      "--------------------------------------------------\n",
      "flow time: 2968, util : 0.754, makespan : 251\n",
      "n_episode: 448, score : -1506.0, n_buffer : 10000, eps : 3.5%\n",
      "--------------------------------------------------\n",
      "flow time: 3466, util : 0.748, makespan : 259\n",
      "n_episode: 449, score : -1554.0, n_buffer : 10000, eps : 3.5%\n",
      "--------------------------------------------------\n",
      "flow time: 2718, util : 0.803, makespan : 250\n",
      "n_episode: 450, score : -1500.0, n_buffer : 10000, eps : 3.5%\n",
      "--------------------------------------------------\n",
      "flow time: 3096, util : 0.778, makespan : 260\n",
      "n_episode: 451, score : -1560.0, n_buffer : 10000, eps : 3.5%\n",
      "--------------------------------------------------\n",
      "flow time: 2781, util : 0.707, makespan : 273\n",
      "n_episode: 452, score : -1638.0, n_buffer : 10000, eps : 3.5%\n",
      "--------------------------------------------------\n",
      "flow time: 3603, util : 0.833, makespan : 231\n",
      "n_episode: 453, score : -1386.0, n_buffer : 10000, eps : 3.5%\n",
      "--------------------------------------------------\n",
      "flow time: 2987, util : 0.820, makespan : 234\n",
      "n_episode: 454, score : -1404.0, n_buffer : 10000, eps : 3.5%\n",
      "--------------------------------------------------\n",
      "flow time: 2749, util : 0.804, makespan : 241\n",
      "n_episode: 455, score : -1446.0, n_buffer : 10000, eps : 3.5%\n",
      "--------------------------------------------------\n",
      "flow time: 3892, util : 0.837, makespan : 227\n",
      "n_episode: 456, score : -1362.0, n_buffer : 10000, eps : 3.4%\n",
      "--------------------------------------------------\n",
      "flow time: 2778, util : 0.789, makespan : 262\n",
      "n_episode: 457, score : -1572.0, n_buffer : 10000, eps : 3.4%\n",
      "--------------------------------------------------\n",
      "flow time: 2684, util : 0.820, makespan : 231\n",
      "n_episode: 458, score : -1386.0, n_buffer : 10000, eps : 3.4%\n",
      "--------------------------------------------------\n",
      "flow time: 3648, util : 0.779, makespan : 222\n",
      "n_episode: 459, score : -1332.0, n_buffer : 10000, eps : 3.4%\n",
      "--------------------------------------------------\n",
      "flow time: 2695, util : 0.765, makespan : 257\n",
      "n_episode: 460, score : -1542.0, n_buffer : 10000, eps : 3.4%\n",
      "--------------------------------------------------\n",
      "flow time: 4046, util : 0.838, makespan : 237\n",
      "n_episode: 461, score : -1422.0, n_buffer : 10000, eps : 3.4%\n",
      "--------------------------------------------------\n",
      "flow time: 2777, util : 0.780, makespan : 263\n",
      "n_episode: 462, score : -1578.0, n_buffer : 10000, eps : 3.4%\n",
      "--------------------------------------------------\n",
      "flow time: 3572, util : 0.809, makespan : 216\n",
      "n_episode: 463, score : -1296.0, n_buffer : 10000, eps : 3.4%\n",
      "--------------------------------------------------\n",
      "flow time: 2771, util : 0.798, makespan : 256\n",
      "n_episode: 464, score : -1536.0, n_buffer : 10000, eps : 3.4%\n",
      "--------------------------------------------------\n",
      "flow time: 3098, util : 0.777, makespan : 274\n",
      "n_episode: 465, score : -1644.0, n_buffer : 10000, eps : 3.3%\n",
      "--------------------------------------------------\n",
      "flow time: 3678, util : 0.811, makespan : 227\n",
      "n_episode: 466, score : -1362.0, n_buffer : 10000, eps : 3.3%\n",
      "--------------------------------------------------\n",
      "flow time: 2613, util : 0.747, makespan : 252\n",
      "n_episode: 467, score : -1512.0, n_buffer : 10000, eps : 3.3%\n",
      "--------------------------------------------------\n",
      "flow time: 3827, util : 0.805, makespan : 232\n",
      "n_episode: 468, score : -1392.0, n_buffer : 10000, eps : 3.3%\n",
      "--------------------------------------------------\n",
      "flow time: 2860, util : 0.722, makespan : 267\n",
      "n_episode: 469, score : -1602.0, n_buffer : 10000, eps : 3.3%\n"
     ]
    },
    {
     "name": "stdout",
     "output_type": "stream",
     "text": [
      "--------------------------------------------------\n",
      "flow time: 2970, util : 0.770, makespan : 249\n",
      "n_episode: 470, score : -1494.0, n_buffer : 10000, eps : 3.3%\n",
      "--------------------------------------------------\n",
      "flow time: 3656, util : 0.764, makespan : 237\n",
      "n_episode: 471, score : -1422.0, n_buffer : 10000, eps : 3.3%\n",
      "--------------------------------------------------\n",
      "flow time: 2715, util : 0.767, makespan : 278\n",
      "n_episode: 472, score : -1668.0, n_buffer : 10000, eps : 3.3%\n",
      "--------------------------------------------------\n",
      "flow time: 3096, util : 0.782, makespan : 243\n",
      "n_episode: 473, score : -1458.0, n_buffer : 10000, eps : 3.3%\n",
      "--------------------------------------------------\n",
      "flow time: 2951, util : 0.816, makespan : 224\n",
      "n_episode: 474, score : -1344.0, n_buffer : 10000, eps : 3.3%\n",
      "--------------------------------------------------\n",
      "flow time: 2792, util : 0.819, makespan : 235\n",
      "n_episode: 475, score : -1410.0, n_buffer : 10000, eps : 3.2%\n",
      "--------------------------------------------------\n",
      "flow time: 2637, util : 0.797, makespan : 246\n",
      "n_episode: 476, score : -1476.0, n_buffer : 10000, eps : 3.2%\n",
      "--------------------------------------------------\n",
      "flow time: 2693, util : 0.757, makespan : 261\n",
      "n_episode: 477, score : -1566.0, n_buffer : 10000, eps : 3.2%\n",
      "--------------------------------------------------\n",
      "flow time: 3766, util : 0.824, makespan : 225\n",
      "n_episode: 478, score : -1350.0, n_buffer : 10000, eps : 3.2%\n",
      "--------------------------------------------------\n",
      "flow time: 3169, util : 0.733, makespan : 257\n",
      "n_episode: 479, score : -1542.0, n_buffer : 10000, eps : 3.2%\n",
      "--------------------------------------------------\n",
      "flow time: 3794, util : 0.847, makespan : 236\n",
      "n_episode: 480, score : -1416.0, n_buffer : 10000, eps : 3.2%\n",
      "--------------------------------------------------\n",
      "flow time: 2765, util : 0.787, makespan : 246\n",
      "n_episode: 481, score : -1476.0, n_buffer : 10000, eps : 3.2%\n",
      "--------------------------------------------------\n",
      "flow time: 3804, util : 0.807, makespan : 226\n",
      "n_episode: 482, score : -1356.0, n_buffer : 10000, eps : 3.2%\n",
      "--------------------------------------------------\n",
      "flow time: 2730, util : 0.762, makespan : 246\n",
      "n_episode: 483, score : -1476.0, n_buffer : 10000, eps : 3.2%\n",
      "--------------------------------------------------\n",
      "flow time: 3641, util : 0.794, makespan : 243\n",
      "n_episode: 484, score : -1458.0, n_buffer : 10000, eps : 3.2%\n",
      "--------------------------------------------------\n",
      "flow time: 2699, util : 0.784, makespan : 247\n",
      "n_episode: 485, score : -1482.0, n_buffer : 10000, eps : 3.2%\n",
      "--------------------------------------------------\n",
      "flow time: 3154, util : 0.804, makespan : 225\n",
      "n_episode: 486, score : -1350.0, n_buffer : 10000, eps : 3.1%\n",
      "--------------------------------------------------\n",
      "flow time: 3175, util : 0.819, makespan : 219\n",
      "n_episode: 487, score : -1314.0, n_buffer : 10000, eps : 3.1%\n",
      "--------------------------------------------------\n",
      "flow time: 2691, util : 0.787, makespan : 236\n",
      "n_episode: 488, score : -1416.0, n_buffer : 10000, eps : 3.1%\n",
      "--------------------------------------------------\n",
      "flow time: 2649, util : 0.727, makespan : 270\n",
      "n_episode: 489, score : -1620.0, n_buffer : 10000, eps : 3.1%\n",
      "--------------------------------------------------\n",
      "flow time: 3570, util : 0.750, makespan : 251\n",
      "n_episode: 490, score : -1506.0, n_buffer : 10000, eps : 3.1%\n",
      "--------------------------------------------------\n",
      "flow time: 2714, util : 0.793, makespan : 235\n",
      "n_episode: 491, score : -1410.0, n_buffer : 10000, eps : 3.1%\n",
      "--------------------------------------------------\n",
      "flow time: 3693, util : 0.814, makespan : 226\n",
      "n_episode: 492, score : -1356.0, n_buffer : 10000, eps : 3.1%\n",
      "--------------------------------------------------\n",
      "flow time: 3199, util : 0.785, makespan : 233\n",
      "n_episode: 493, score : -1398.0, n_buffer : 10000, eps : 3.1%\n",
      "--------------------------------------------------\n",
      "flow time: 2797, util : 0.810, makespan : 239\n",
      "n_episode: 494, score : -1434.0, n_buffer : 10000, eps : 3.1%\n",
      "--------------------------------------------------\n",
      "flow time: 3175, util : 0.795, makespan : 228\n",
      "n_episode: 495, score : -1368.0, n_buffer : 10000, eps : 3.0%\n",
      "--------------------------------------------------\n",
      "flow time: 2715, util : 0.760, makespan : 250\n",
      "n_episode: 496, score : -1500.0, n_buffer : 10000, eps : 3.0%\n",
      "--------------------------------------------------\n",
      "flow time: 3692, util : 0.775, makespan : 241\n",
      "n_episode: 497, score : -1446.0, n_buffer : 10000, eps : 3.0%\n",
      "--------------------------------------------------\n",
      "flow time: 2778, util : 0.787, makespan : 253\n",
      "n_episode: 498, score : -1518.0, n_buffer : 10000, eps : 3.0%\n",
      "--------------------------------------------------\n",
      "flow time: 2666, util : 0.777, makespan : 238\n",
      "n_episode: 499, score : -1428.0, n_buffer : 10000, eps : 3.0%\n",
      "--------------------------------------------------\n",
      "flow time: 2933, util : 0.745, makespan : 257\n",
      "n_episode: 500, score : -1542.0, n_buffer : 10000, eps : 3.0%\n",
      "--------------------------------------------------\n",
      "flow time: 2743, util : 0.808, makespan : 244\n",
      "n_episode: 501, score : -1464.0, n_buffer : 10000, eps : 3.0%\n",
      "--------------------------------------------------\n",
      "flow time: 3998, util : 0.790, makespan : 268\n",
      "n_episode: 502, score : -1608.0, n_buffer : 10000, eps : 3.0%\n",
      "--------------------------------------------------\n",
      "flow time: 2660, util : 0.790, makespan : 242\n",
      "n_episode: 503, score : -1452.0, n_buffer : 10000, eps : 3.0%\n",
      "--------------------------------------------------\n",
      "flow time: 2735, util : 0.807, makespan : 247\n",
      "n_episode: 504, score : -1482.0, n_buffer : 10000, eps : 3.0%\n",
      "--------------------------------------------------\n",
      "flow time: 4005, util : 0.841, makespan : 238\n",
      "n_episode: 505, score : -1428.0, n_buffer : 10000, eps : 3.0%\n",
      "--------------------------------------------------\n",
      "flow time: 3994, util : 0.803, makespan : 256\n",
      "n_episode: 506, score : -1536.0, n_buffer : 10000, eps : 2.9%\n",
      "--------------------------------------------------\n",
      "flow time: 2946, util : 0.758, makespan : 258\n",
      "n_episode: 507, score : -1548.0, n_buffer : 10000, eps : 2.9%\n",
      "--------------------------------------------------\n",
      "flow time: 3514, util : 0.822, makespan : 227\n",
      "n_episode: 508, score : -1362.0, n_buffer : 10000, eps : 2.9%\n",
      "--------------------------------------------------\n",
      "flow time: 3623, util : 0.837, makespan : 213\n",
      "n_episode: 509, score : -1278.0, n_buffer : 10000, eps : 2.9%\n",
      "--------------------------------------------------\n",
      "flow time: 2716, util : 0.776, makespan : 257\n",
      "n_episode: 510, score : -1542.0, n_buffer : 10000, eps : 2.9%\n",
      "--------------------------------------------------\n",
      "flow time: 3204, util : 0.819, makespan : 230\n",
      "n_episode: 511, score : -1380.0, n_buffer : 10000, eps : 2.9%\n",
      "--------------------------------------------------\n",
      "flow time: 3000, util : 0.819, makespan : 238\n",
      "n_episode: 512, score : -1428.0, n_buffer : 10000, eps : 2.9%\n",
      "--------------------------------------------------\n",
      "flow time: 2850, util : 0.839, makespan : 219\n",
      "n_episode: 513, score : -1314.0, n_buffer : 10000, eps : 2.9%\n",
      "--------------------------------------------------\n",
      "flow time: 3563, util : 0.801, makespan : 215\n",
      "n_episode: 514, score : -1290.0, n_buffer : 10000, eps : 2.9%\n",
      "--------------------------------------------------\n",
      "flow time: 2669, util : 0.739, makespan : 259\n",
      "n_episode: 515, score : -1554.0, n_buffer : 10000, eps : 2.8%\n",
      "--------------------------------------------------\n",
      "flow time: 3669, util : 0.816, makespan : 221\n",
      "n_episode: 516, score : -1326.0, n_buffer : 10000, eps : 2.8%\n",
      "--------------------------------------------------\n",
      "flow time: 2798, util : 0.790, makespan : 256\n",
      "n_episode: 517, score : -1536.0, n_buffer : 10000, eps : 2.8%\n",
      "--------------------------------------------------\n",
      "flow time: 2865, util : 0.849, makespan : 235\n",
      "n_episode: 518, score : -1410.0, n_buffer : 10000, eps : 2.8%\n",
      "--------------------------------------------------\n",
      "flow time: 3530, util : 0.831, makespan : 227\n",
      "n_episode: 519, score : -1362.0, n_buffer : 10000, eps : 2.8%\n",
      "--------------------------------------------------\n",
      "flow time: 2896, util : 0.746, makespan : 259\n",
      "n_episode: 520, score : -1554.0, n_buffer : 10000, eps : 2.8%\n",
      "--------------------------------------------------\n",
      "flow time: 3665, util : 0.816, makespan : 226\n",
      "n_episode: 521, score : -1356.0, n_buffer : 10000, eps : 2.8%\n"
     ]
    },
    {
     "name": "stdout",
     "output_type": "stream",
     "text": [
      "--------------------------------------------------\n",
      "flow time: 2889, util : 0.799, makespan : 238\n",
      "n_episode: 522, score : -1428.0, n_buffer : 10000, eps : 2.8%\n",
      "--------------------------------------------------\n",
      "flow time: 2966, util : 0.804, makespan : 247\n",
      "n_episode: 523, score : -1482.0, n_buffer : 10000, eps : 2.8%\n",
      "--------------------------------------------------\n",
      "flow time: 3161, util : 0.801, makespan : 239\n",
      "n_episode: 524, score : -1434.0, n_buffer : 10000, eps : 2.8%\n",
      "--------------------------------------------------\n",
      "flow time: 3634, util : 0.779, makespan : 254\n",
      "n_episode: 525, score : -1524.0, n_buffer : 10000, eps : 2.8%\n",
      "--------------------------------------------------\n",
      "flow time: 2771, util : 0.729, makespan : 283\n",
      "n_episode: 526, score : -1698.0, n_buffer : 10000, eps : 2.7%\n",
      "--------------------------------------------------\n",
      "flow time: 3659, util : 0.800, makespan : 228\n",
      "n_episode: 527, score : -1368.0, n_buffer : 10000, eps : 2.7%\n",
      "--------------------------------------------------\n",
      "flow time: 2774, util : 0.697, makespan : 275\n",
      "n_episode: 528, score : -1650.0, n_buffer : 10000, eps : 2.7%\n",
      "--------------------------------------------------\n",
      "flow time: 2884, util : 0.748, makespan : 260\n",
      "n_episode: 529, score : -1560.0, n_buffer : 10000, eps : 2.7%\n",
      "--------------------------------------------------\n",
      "flow time: 3749, util : 0.827, makespan : 222\n",
      "n_episode: 530, score : -1332.0, n_buffer : 10000, eps : 2.7%\n",
      "--------------------------------------------------\n",
      "flow time: 3885, util : 0.803, makespan : 233\n",
      "n_episode: 531, score : -1398.0, n_buffer : 10000, eps : 2.7%\n",
      "--------------------------------------------------\n",
      "flow time: 2677, util : 0.731, makespan : 251\n",
      "n_episode: 532, score : -1506.0, n_buffer : 10000, eps : 2.7%\n",
      "--------------------------------------------------\n",
      "flow time: 2944, util : 0.737, makespan : 262\n",
      "n_episode: 533, score : -1572.0, n_buffer : 10000, eps : 2.7%\n",
      "--------------------------------------------------\n",
      "flow time: 3714, util : 0.827, makespan : 222\n",
      "n_episode: 534, score : -1332.0, n_buffer : 10000, eps : 2.7%\n",
      "--------------------------------------------------\n",
      "flow time: 2937, util : 0.773, makespan : 261\n",
      "n_episode: 535, score : -1566.0, n_buffer : 10000, eps : 2.7%\n",
      "--------------------------------------------------\n",
      "flow time: 2994, util : 0.800, makespan : 242\n",
      "n_episode: 536, score : -1452.0, n_buffer : 10000, eps : 2.6%\n",
      "--------------------------------------------------\n",
      "flow time: 3678, util : 0.774, makespan : 222\n",
      "n_episode: 537, score : -1332.0, n_buffer : 10000, eps : 2.6%\n",
      "--------------------------------------------------\n",
      "flow time: 2687, util : 0.689, makespan : 280\n",
      "n_episode: 538, score : -1680.0, n_buffer : 10000, eps : 2.6%\n",
      "--------------------------------------------------\n",
      "flow time: 2673, util : 0.790, makespan : 238\n",
      "n_episode: 539, score : -1428.0, n_buffer : 10000, eps : 2.6%\n",
      "--------------------------------------------------\n",
      "flow time: 3244, util : 0.753, makespan : 240\n",
      "n_episode: 540, score : -1440.0, n_buffer : 10000, eps : 2.6%\n",
      "--------------------------------------------------\n",
      "flow time: 2760, util : 0.747, makespan : 263\n",
      "n_episode: 541, score : -1578.0, n_buffer : 10000, eps : 2.6%\n",
      "--------------------------------------------------\n",
      "flow time: 3968, util : 0.833, makespan : 231\n",
      "n_episode: 542, score : -1386.0, n_buffer : 10000, eps : 2.6%\n",
      "--------------------------------------------------\n",
      "flow time: 3122, util : 0.810, makespan : 247\n",
      "n_episode: 543, score : -1482.0, n_buffer : 10000, eps : 2.6%\n",
      "--------------------------------------------------\n",
      "flow time: 2701, util : 0.757, makespan : 260\n",
      "n_episode: 544, score : -1560.0, n_buffer : 10000, eps : 2.6%\n",
      "--------------------------------------------------\n",
      "flow time: 3581, util : 0.792, makespan : 213\n",
      "n_episode: 545, score : -1278.0, n_buffer : 10000, eps : 2.6%\n",
      "--------------------------------------------------\n",
      "flow time: 3319, util : 0.791, makespan : 227\n",
      "n_episode: 546, score : -1362.0, n_buffer : 10000, eps : 2.5%\n",
      "--------------------------------------------------\n",
      "flow time: 3581, util : 0.792, makespan : 213\n",
      "n_episode: 547, score : -1278.0, n_buffer : 10000, eps : 2.5%\n",
      "--------------------------------------------------\n",
      "flow time: 2758, util : 0.718, makespan : 274\n",
      "n_episode: 548, score : -1644.0, n_buffer : 10000, eps : 2.5%\n",
      "--------------------------------------------------\n",
      "flow time: 2834, util : 0.808, makespan : 255\n",
      "n_episode: 549, score : -1530.0, n_buffer : 10000, eps : 2.5%\n",
      "--------------------------------------------------\n",
      "flow time: 3454, util : 0.781, makespan : 237\n",
      "n_episode: 550, score : -1422.0, n_buffer : 10000, eps : 2.5%\n",
      "--------------------------------------------------\n",
      "flow time: 2864, util : 0.790, makespan : 239\n",
      "n_episode: 551, score : -1434.0, n_buffer : 10000, eps : 2.5%\n",
      "--------------------------------------------------\n",
      "flow time: 3438, util : 0.794, makespan : 227\n",
      "n_episode: 552, score : -1362.0, n_buffer : 10000, eps : 2.5%\n",
      "--------------------------------------------------\n",
      "flow time: 2686, util : 0.726, makespan : 270\n",
      "n_episode: 553, score : -1620.0, n_buffer : 10000, eps : 2.5%\n",
      "--------------------------------------------------\n",
      "flow time: 2660, util : 0.819, makespan : 228\n",
      "n_episode: 554, score : -1368.0, n_buffer : 10000, eps : 2.5%\n",
      "--------------------------------------------------\n",
      "flow time: 3048, util : 0.836, makespan : 220\n",
      "n_episode: 555, score : -1320.0, n_buffer : 10000, eps : 2.5%\n",
      "--------------------------------------------------\n",
      "flow time: 2763, util : 0.716, makespan : 273\n",
      "n_episode: 556, score : -1638.0, n_buffer : 10000, eps : 2.4%\n",
      "--------------------------------------------------\n",
      "flow time: 3617, util : 0.791, makespan : 220\n",
      "n_episode: 557, score : -1320.0, n_buffer : 10000, eps : 2.4%\n",
      "--------------------------------------------------\n",
      "flow time: 2667, util : 0.809, makespan : 230\n",
      "n_episode: 558, score : -1380.0, n_buffer : 10000, eps : 2.4%\n",
      "--------------------------------------------------\n",
      "flow time: 3252, util : 0.725, makespan : 268\n",
      "n_episode: 559, score : -1608.0, n_buffer : 10000, eps : 2.4%\n",
      "--------------------------------------------------\n",
      "flow time: 3555, util : 0.825, makespan : 218\n",
      "n_episode: 560, score : -1308.0, n_buffer : 10000, eps : 2.4%\n",
      "--------------------------------------------------\n",
      "flow time: 2831, util : 0.775, makespan : 261\n",
      "n_episode: 561, score : -1566.0, n_buffer : 10000, eps : 2.4%\n",
      "--------------------------------------------------\n",
      "flow time: 3818, util : 0.823, makespan : 232\n",
      "n_episode: 562, score : -1392.0, n_buffer : 10000, eps : 2.4%\n",
      "--------------------------------------------------\n",
      "flow time: 2708, util : 0.750, makespan : 264\n",
      "n_episode: 563, score : -1584.0, n_buffer : 10000, eps : 2.4%\n",
      "--------------------------------------------------\n",
      "flow time: 2730, util : 0.781, makespan : 272\n",
      "n_episode: 564, score : -1632.0, n_buffer : 10000, eps : 2.4%\n",
      "--------------------------------------------------\n",
      "flow time: 2970, util : 0.821, makespan : 229\n",
      "n_episode: 565, score : -1374.0, n_buffer : 10000, eps : 2.4%\n",
      "--------------------------------------------------\n",
      "flow time: 2612, util : 0.745, makespan : 258\n",
      "n_episode: 566, score : -1548.0, n_buffer : 10000, eps : 2.3%\n",
      "--------------------------------------------------\n",
      "flow time: 2811, util : 0.759, makespan : 249\n",
      "n_episode: 567, score : -1494.0, n_buffer : 10000, eps : 2.3%\n",
      "--------------------------------------------------\n",
      "flow time: 2730, util : 0.866, makespan : 223\n",
      "n_episode: 568, score : -1338.0, n_buffer : 10000, eps : 2.3%\n",
      "--------------------------------------------------\n",
      "flow time: 3195, util : 0.816, makespan : 217\n",
      "n_episode: 569, score : -1302.0, n_buffer : 10000, eps : 2.3%\n",
      "--------------------------------------------------\n",
      "flow time: 2704, util : 0.804, makespan : 243\n",
      "n_episode: 570, score : -1458.0, n_buffer : 10000, eps : 2.3%\n",
      "--------------------------------------------------\n",
      "flow time: 3126, util : 0.815, makespan : 219\n",
      "n_episode: 571, score : -1314.0, n_buffer : 10000, eps : 2.3%\n",
      "--------------------------------------------------\n",
      "flow time: 2824, util : 0.778, makespan : 243\n",
      "n_episode: 572, score : -1458.0, n_buffer : 10000, eps : 2.3%\n",
      "--------------------------------------------------\n",
      "flow time: 2977, util : 0.819, makespan : 233\n",
      "n_episode: 573, score : -1398.0, n_buffer : 10000, eps : 2.3%\n"
     ]
    },
    {
     "name": "stdout",
     "output_type": "stream",
     "text": [
      "--------------------------------------------------\n",
      "flow time: 2865, util : 0.795, makespan : 243\n",
      "n_episode: 574, score : -1458.0, n_buffer : 10000, eps : 2.3%\n",
      "--------------------------------------------------\n",
      "flow time: 3223, util : 0.788, makespan : 248\n",
      "n_episode: 575, score : -1488.0, n_buffer : 10000, eps : 2.2%\n",
      "--------------------------------------------------\n",
      "flow time: 3367, util : 0.826, makespan : 224\n",
      "n_episode: 576, score : -1344.0, n_buffer : 10000, eps : 2.2%\n",
      "--------------------------------------------------\n",
      "flow time: 3026, util : 0.822, makespan : 236\n",
      "n_episode: 577, score : -1416.0, n_buffer : 10000, eps : 2.2%\n",
      "--------------------------------------------------\n",
      "flow time: 2817, util : 0.802, makespan : 248\n",
      "n_episode: 578, score : -1488.0, n_buffer : 10000, eps : 2.2%\n",
      "--------------------------------------------------\n",
      "flow time: 2645, util : 0.740, makespan : 263\n",
      "n_episode: 579, score : -1578.0, n_buffer : 10000, eps : 2.2%\n",
      "--------------------------------------------------\n",
      "flow time: 3916, util : 0.837, makespan : 233\n",
      "n_episode: 580, score : -1398.0, n_buffer : 10000, eps : 2.2%\n",
      "--------------------------------------------------\n",
      "flow time: 2854, util : 0.762, makespan : 264\n",
      "n_episode: 581, score : -1584.0, n_buffer : 10000, eps : 2.2%\n",
      "--------------------------------------------------\n",
      "flow time: 4238, util : 0.810, makespan : 285\n",
      "n_episode: 582, score : -1710.0, n_buffer : 10000, eps : 2.2%\n",
      "--------------------------------------------------\n",
      "flow time: 3105, util : 0.755, makespan : 280\n",
      "n_episode: 583, score : -1680.0, n_buffer : 10000, eps : 2.2%\n",
      "--------------------------------------------------\n",
      "flow time: 2818, util : 0.762, makespan : 298\n",
      "n_episode: 584, score : -1788.0, n_buffer : 10000, eps : 2.2%\n",
      "--------------------------------------------------\n",
      "flow time: 3168, util : 0.804, makespan : 246\n",
      "n_episode: 585, score : -1476.0, n_buffer : 10000, eps : 2.2%\n",
      "--------------------------------------------------\n",
      "flow time: 3686, util : 0.807, makespan : 225\n",
      "n_episode: 586, score : -1350.0, n_buffer : 10000, eps : 2.1%\n",
      "--------------------------------------------------\n",
      "flow time: 3653, util : 0.806, makespan : 223\n",
      "n_episode: 587, score : -1338.0, n_buffer : 10000, eps : 2.1%\n",
      "--------------------------------------------------\n",
      "flow time: 2902, util : 0.793, makespan : 252\n",
      "n_episode: 588, score : -1512.0, n_buffer : 10000, eps : 2.1%\n",
      "--------------------------------------------------\n",
      "flow time: 3654, util : 0.823, makespan : 223\n",
      "n_episode: 589, score : -1338.0, n_buffer : 10000, eps : 2.1%\n",
      "--------------------------------------------------\n",
      "flow time: 2735, util : 0.787, makespan : 247\n",
      "n_episode: 590, score : -1482.0, n_buffer : 10000, eps : 2.1%\n",
      "--------------------------------------------------\n",
      "flow time: 3539, util : 0.814, makespan : 212\n",
      "n_episode: 591, score : -1272.0, n_buffer : 10000, eps : 2.1%\n",
      "--------------------------------------------------\n",
      "flow time: 3076, util : 0.829, makespan : 220\n",
      "n_episode: 592, score : -1320.0, n_buffer : 10000, eps : 2.1%\n",
      "--------------------------------------------------\n",
      "flow time: 2963, util : 0.741, makespan : 279\n",
      "n_episode: 593, score : -1674.0, n_buffer : 10000, eps : 2.1%\n",
      "--------------------------------------------------\n",
      "flow time: 3443, util : 0.814, makespan : 218\n",
      "n_episode: 594, score : -1308.0, n_buffer : 10000, eps : 2.1%\n",
      "--------------------------------------------------\n",
      "flow time: 2773, util : 0.841, makespan : 225\n",
      "n_episode: 595, score : -1350.0, n_buffer : 10000, eps : 2.0%\n",
      "--------------------------------------------------\n",
      "flow time: 3577, util : 0.718, makespan : 252\n",
      "n_episode: 596, score : -1512.0, n_buffer : 10000, eps : 2.0%\n",
      "--------------------------------------------------\n",
      "flow time: 2724, util : 0.729, makespan : 276\n",
      "n_episode: 597, score : -1656.0, n_buffer : 10000, eps : 2.0%\n",
      "--------------------------------------------------\n",
      "flow time: 3899, util : 0.790, makespan : 247\n",
      "n_episode: 598, score : -1482.0, n_buffer : 10000, eps : 2.0%\n",
      "--------------------------------------------------\n",
      "flow time: 2916, util : 0.752, makespan : 257\n",
      "n_episode: 599, score : -1542.0, n_buffer : 10000, eps : 2.0%\n",
      "--------------------------------------------------\n",
      "flow time: 3229, util : 0.809, makespan : 223\n",
      "n_episode: 600, score : -1338.0, n_buffer : 10000, eps : 2.0%\n",
      "--------------------------------------------------\n",
      "flow time: 3853, util : 0.833, makespan : 235\n",
      "n_episode: 601, score : -1410.0, n_buffer : 10000, eps : 2.0%\n",
      "--------------------------------------------------\n",
      "flow time: 2818, util : 0.783, makespan : 266\n",
      "n_episode: 602, score : -1596.0, n_buffer : 10000, eps : 2.0%\n",
      "--------------------------------------------------\n",
      "flow time: 3264, util : 0.680, makespan : 272\n",
      "n_episode: 603, score : -1632.0, n_buffer : 10000, eps : 2.0%\n",
      "--------------------------------------------------\n",
      "flow time: 3068, util : 0.810, makespan : 232\n",
      "n_episode: 604, score : -1392.0, n_buffer : 10000, eps : 2.0%\n",
      "--------------------------------------------------\n",
      "flow time: 3142, util : 0.772, makespan : 234\n",
      "n_episode: 605, score : -1404.0, n_buffer : 10000, eps : 2.0%\n",
      "--------------------------------------------------\n",
      "flow time: 3594, util : 0.795, makespan : 215\n",
      "n_episode: 606, score : -1290.0, n_buffer : 10000, eps : 1.9%\n",
      "--------------------------------------------------\n",
      "flow time: 2838, util : 0.764, makespan : 259\n",
      "n_episode: 607, score : -1554.0, n_buffer : 10000, eps : 1.9%\n",
      "--------------------------------------------------\n",
      "flow time: 3591, util : 0.799, makespan : 213\n",
      "n_episode: 608, score : -1278.0, n_buffer : 10000, eps : 1.9%\n",
      "--------------------------------------------------\n",
      "flow time: 2738, util : 0.849, makespan : 229\n",
      "n_episode: 609, score : -1374.0, n_buffer : 10000, eps : 1.9%\n",
      "--------------------------------------------------\n",
      "flow time: 3412, util : 0.810, makespan : 209\n",
      "n_episode: 610, score : -1254.0, n_buffer : 10000, eps : 1.9%\n",
      "--------------------------------------------------\n",
      "flow time: 2677, util : 0.683, makespan : 284\n",
      "n_episode: 611, score : -1704.0, n_buffer : 10000, eps : 1.9%\n",
      "--------------------------------------------------\n",
      "flow time: 2749, util : 0.730, makespan : 269\n",
      "n_episode: 612, score : -1614.0, n_buffer : 10000, eps : 1.9%\n",
      "--------------------------------------------------\n",
      "flow time: 2657, util : 0.744, makespan : 253\n",
      "n_episode: 613, score : -1518.0, n_buffer : 10000, eps : 1.9%\n",
      "--------------------------------------------------\n",
      "flow time: 3204, util : 0.757, makespan : 260\n",
      "n_episode: 614, score : -1560.0, n_buffer : 10000, eps : 1.9%\n",
      "--------------------------------------------------\n",
      "flow time: 2645, util : 0.754, makespan : 260\n",
      "n_episode: 615, score : -1560.0, n_buffer : 10000, eps : 1.8%\n",
      "--------------------------------------------------\n",
      "flow time: 3620, util : 0.787, makespan : 229\n",
      "n_episode: 616, score : -1374.0, n_buffer : 10000, eps : 1.8%\n",
      "--------------------------------------------------\n",
      "flow time: 2681, util : 0.770, makespan : 254\n",
      "n_episode: 617, score : -1524.0, n_buffer : 10000, eps : 1.8%\n",
      "--------------------------------------------------\n",
      "flow time: 2716, util : 0.726, makespan : 266\n",
      "n_episode: 618, score : -1596.0, n_buffer : 10000, eps : 1.8%\n",
      "--------------------------------------------------\n",
      "flow time: 2717, util : 0.770, makespan : 261\n",
      "n_episode: 619, score : -1566.0, n_buffer : 10000, eps : 1.8%\n",
      "--------------------------------------------------\n",
      "flow time: 3156, util : 0.759, makespan : 272\n",
      "n_episode: 620, score : -1632.0, n_buffer : 10000, eps : 1.8%\n",
      "--------------------------------------------------\n",
      "flow time: 3048, util : 0.793, makespan : 292\n",
      "n_episode: 621, score : -1752.0, n_buffer : 10000, eps : 1.8%\n",
      "--------------------------------------------------\n",
      "flow time: 3837, util : 0.795, makespan : 249\n",
      "n_episode: 622, score : -1494.0, n_buffer : 10000, eps : 1.8%\n",
      "--------------------------------------------------\n",
      "flow time: 2804, util : 0.806, makespan : 250\n",
      "n_episode: 623, score : -1500.0, n_buffer : 10000, eps : 1.8%\n",
      "--------------------------------------------------\n",
      "flow time: 3396, util : 0.850, makespan : 222\n",
      "n_episode: 624, score : -1332.0, n_buffer : 10000, eps : 1.8%\n",
      "--------------------------------------------------\n",
      "flow time: 2733, util : 0.701, makespan : 282\n",
      "n_episode: 625, score : -1692.0, n_buffer : 10000, eps : 1.8%\n"
     ]
    },
    {
     "name": "stdout",
     "output_type": "stream",
     "text": [
      "--------------------------------------------------\n",
      "flow time: 3491, util : 0.786, makespan : 213\n",
      "n_episode: 626, score : -1278.0, n_buffer : 10000, eps : 1.7%\n",
      "--------------------------------------------------\n",
      "flow time: 3054, util : 0.817, makespan : 220\n",
      "n_episode: 627, score : -1320.0, n_buffer : 10000, eps : 1.7%\n",
      "--------------------------------------------------\n",
      "flow time: 3100, util : 0.729, makespan : 253\n",
      "n_episode: 628, score : -1518.0, n_buffer : 10000, eps : 1.7%\n",
      "--------------------------------------------------\n",
      "flow time: 2882, util : 0.743, makespan : 266\n",
      "n_episode: 629, score : -1596.0, n_buffer : 10000, eps : 1.7%\n",
      "--------------------------------------------------\n",
      "flow time: 2777, util : 0.781, makespan : 256\n",
      "n_episode: 630, score : -1536.0, n_buffer : 10000, eps : 1.7%\n",
      "--------------------------------------------------\n",
      "flow time: 3637, util : 0.825, makespan : 211\n",
      "n_episode: 631, score : -1266.0, n_buffer : 10000, eps : 1.7%\n",
      "--------------------------------------------------\n",
      "flow time: 3091, util : 0.836, makespan : 233\n",
      "n_episode: 632, score : -1398.0, n_buffer : 10000, eps : 1.7%\n",
      "--------------------------------------------------\n",
      "flow time: 3011, util : 0.827, makespan : 228\n",
      "n_episode: 633, score : -1368.0, n_buffer : 10000, eps : 1.7%\n",
      "--------------------------------------------------\n",
      "flow time: 2974, util : 0.844, makespan : 225\n",
      "n_episode: 634, score : -1350.0, n_buffer : 10000, eps : 1.7%\n",
      "--------------------------------------------------\n",
      "flow time: 3319, util : 0.633, makespan : 309\n",
      "n_episode: 635, score : -1854.0, n_buffer : 10000, eps : 1.7%\n",
      "--------------------------------------------------\n",
      "flow time: 2683, util : 0.752, makespan : 259\n",
      "n_episode: 636, score : -1554.0, n_buffer : 10000, eps : 1.6%\n",
      "--------------------------------------------------\n",
      "flow time: 3530, util : 0.793, makespan : 217\n",
      "n_episode: 637, score : -1302.0, n_buffer : 10000, eps : 1.6%\n",
      "--------------------------------------------------\n",
      "flow time: 2984, util : 0.848, makespan : 236\n",
      "n_episode: 638, score : -1416.0, n_buffer : 10000, eps : 1.6%\n",
      "--------------------------------------------------\n",
      "flow time: 3547, util : 0.804, makespan : 216\n",
      "n_episode: 639, score : -1296.0, n_buffer : 10000, eps : 1.6%\n",
      "--------------------------------------------------\n",
      "flow time: 2653, util : 0.722, makespan : 273\n",
      "n_episode: 640, score : -1638.0, n_buffer : 10000, eps : 1.6%\n",
      "--------------------------------------------------\n",
      "flow time: 2796, util : 0.859, makespan : 218\n",
      "n_episode: 641, score : -1308.0, n_buffer : 10000, eps : 1.6%\n",
      "--------------------------------------------------\n",
      "flow time: 3654, util : 0.748, makespan : 257\n",
      "n_episode: 642, score : -1542.0, n_buffer : 10000, eps : 1.6%\n",
      "--------------------------------------------------\n",
      "flow time: 2691, util : 0.716, makespan : 291\n",
      "n_episode: 643, score : -1746.0, n_buffer : 10000, eps : 1.6%\n",
      "--------------------------------------------------\n",
      "flow time: 3670, util : 0.792, makespan : 224\n",
      "n_episode: 644, score : -1344.0, n_buffer : 10000, eps : 1.6%\n",
      "--------------------------------------------------\n",
      "flow time: 2763, util : 0.719, makespan : 278\n",
      "n_episode: 645, score : -1668.0, n_buffer : 10000, eps : 1.6%\n",
      "--------------------------------------------------\n",
      "flow time: 3602, util : 0.813, makespan : 212\n",
      "n_episode: 646, score : -1272.0, n_buffer : 10000, eps : 1.5%\n",
      "--------------------------------------------------\n",
      "flow time: 2902, util : 0.770, makespan : 244\n",
      "n_episode: 647, score : -1464.0, n_buffer : 10000, eps : 1.5%\n",
      "--------------------------------------------------\n",
      "flow time: 2682, util : 0.774, makespan : 247\n",
      "n_episode: 648, score : -1482.0, n_buffer : 10000, eps : 1.5%\n",
      "--------------------------------------------------\n",
      "flow time: 3332, util : 0.811, makespan : 221\n",
      "n_episode: 649, score : -1326.0, n_buffer : 10000, eps : 1.5%\n",
      "--------------------------------------------------\n",
      "flow time: 3719, util : 0.813, makespan : 224\n",
      "n_episode: 650, score : -1344.0, n_buffer : 10000, eps : 1.5%\n",
      "--------------------------------------------------\n",
      "flow time: 2785, util : 0.854, makespan : 236\n",
      "n_episode: 651, score : -1416.0, n_buffer : 10000, eps : 1.5%\n",
      "--------------------------------------------------\n",
      "flow time: 3293, util : 0.822, makespan : 227\n",
      "n_episode: 652, score : -1362.0, n_buffer : 10000, eps : 1.5%\n",
      "--------------------------------------------------\n",
      "flow time: 2964, util : 0.777, makespan : 239\n",
      "n_episode: 653, score : -1434.0, n_buffer : 10000, eps : 1.5%\n",
      "--------------------------------------------------\n",
      "flow time: 3617, util : 0.813, makespan : 218\n",
      "n_episode: 654, score : -1308.0, n_buffer : 10000, eps : 1.5%\n",
      "--------------------------------------------------\n",
      "flow time: 2742, util : 0.803, makespan : 238\n",
      "n_episode: 655, score : -1428.0, n_buffer : 10000, eps : 1.4%\n",
      "--------------------------------------------------\n",
      "flow time: 3361, util : 0.804, makespan : 240\n",
      "n_episode: 656, score : -1440.0, n_buffer : 10000, eps : 1.4%\n",
      "--------------------------------------------------\n",
      "flow time: 4666, util : 0.799, makespan : 273\n",
      "n_episode: 657, score : -1638.0, n_buffer : 10000, eps : 1.4%\n",
      "--------------------------------------------------\n",
      "flow time: 3120, util : 0.827, makespan : 244\n",
      "n_episode: 658, score : -1464.0, n_buffer : 10000, eps : 1.4%\n",
      "--------------------------------------------------\n",
      "flow time: 2800, util : 0.775, makespan : 247\n",
      "n_episode: 659, score : -1482.0, n_buffer : 10000, eps : 1.4%\n",
      "--------------------------------------------------\n",
      "flow time: 3433, util : 0.748, makespan : 250\n",
      "n_episode: 660, score : -1500.0, n_buffer : 10000, eps : 1.4%\n",
      "--------------------------------------------------\n",
      "flow time: 2790, util : 0.835, makespan : 231\n",
      "n_episode: 661, score : -1386.0, n_buffer : 10000, eps : 1.4%\n",
      "--------------------------------------------------\n",
      "flow time: 3292, util : 0.836, makespan : 249\n",
      "n_episode: 662, score : -1494.0, n_buffer : 10000, eps : 1.4%\n",
      "--------------------------------------------------\n",
      "flow time: 3035, util : 0.773, makespan : 239\n",
      "n_episode: 663, score : -1434.0, n_buffer : 10000, eps : 1.4%\n",
      "--------------------------------------------------\n",
      "flow time: 3615, util : 0.781, makespan : 225\n",
      "n_episode: 664, score : -1350.0, n_buffer : 10000, eps : 1.4%\n",
      "--------------------------------------------------\n",
      "flow time: 2908, util : 0.853, makespan : 221\n",
      "n_episode: 665, score : -1326.0, n_buffer : 10000, eps : 1.3%\n",
      "--------------------------------------------------\n",
      "flow time: 2827, util : 0.742, makespan : 258\n",
      "n_episode: 666, score : -1548.0, n_buffer : 10000, eps : 1.3%\n",
      "--------------------------------------------------\n",
      "flow time: 3128, util : 0.814, makespan : 244\n",
      "n_episode: 667, score : -1464.0, n_buffer : 10000, eps : 1.3%\n",
      "--------------------------------------------------\n",
      "flow time: 3033, util : 0.812, makespan : 224\n",
      "n_episode: 668, score : -1344.0, n_buffer : 10000, eps : 1.3%\n",
      "--------------------------------------------------\n",
      "flow time: 3079, util : 0.753, makespan : 249\n",
      "n_episode: 669, score : -1494.0, n_buffer : 10000, eps : 1.3%\n",
      "--------------------------------------------------\n",
      "flow time: 3098, util : 0.819, makespan : 216\n",
      "n_episode: 670, score : -1296.0, n_buffer : 10000, eps : 1.3%\n",
      "--------------------------------------------------\n",
      "flow time: 3537, util : 0.817, makespan : 225\n",
      "n_episode: 671, score : -1350.0, n_buffer : 10000, eps : 1.3%\n",
      "--------------------------------------------------\n",
      "flow time: 3578, util : 0.826, makespan : 215\n",
      "n_episode: 672, score : -1290.0, n_buffer : 10000, eps : 1.3%\n",
      "--------------------------------------------------\n",
      "flow time: 2646, util : 0.756, makespan : 257\n",
      "n_episode: 673, score : -1542.0, n_buffer : 10000, eps : 1.3%\n",
      "--------------------------------------------------\n",
      "flow time: 3380, util : 0.797, makespan : 224\n",
      "n_episode: 674, score : -1344.0, n_buffer : 10000, eps : 1.3%\n",
      "--------------------------------------------------\n",
      "flow time: 3006, util : 0.829, makespan : 230\n",
      "n_episode: 675, score : -1380.0, n_buffer : 10000, eps : 1.2%\n",
      "--------------------------------------------------\n",
      "flow time: 3602, util : 0.812, makespan : 216\n",
      "n_episode: 676, score : -1296.0, n_buffer : 10000, eps : 1.2%\n",
      "--------------------------------------------------\n",
      "flow time: 2854, util : 0.774, makespan : 289\n",
      "n_episode: 677, score : -1734.0, n_buffer : 10000, eps : 1.2%\n"
     ]
    },
    {
     "name": "stdout",
     "output_type": "stream",
     "text": [
      "--------------------------------------------------\n",
      "flow time: 3110, util : 0.658, makespan : 303\n",
      "n_episode: 678, score : -1818.0, n_buffer : 10000, eps : 1.2%\n",
      "--------------------------------------------------\n",
      "flow time: 3279, util : 0.733, makespan : 256\n",
      "n_episode: 679, score : -1536.0, n_buffer : 10000, eps : 1.2%\n",
      "--------------------------------------------------\n",
      "flow time: 2779, util : 0.669, makespan : 306\n",
      "n_episode: 680, score : -1836.0, n_buffer : 10000, eps : 1.2%\n",
      "--------------------------------------------------\n",
      "flow time: 3620, util : 0.814, makespan : 216\n",
      "n_episode: 681, score : -1296.0, n_buffer : 10000, eps : 1.2%\n",
      "--------------------------------------------------\n",
      "flow time: 4146, util : 0.833, makespan : 236\n",
      "n_episode: 682, score : -1416.0, n_buffer : 10000, eps : 1.2%\n",
      "--------------------------------------------------\n",
      "flow time: 3247, util : 0.819, makespan : 234\n",
      "n_episode: 683, score : -1404.0, n_buffer : 10000, eps : 1.2%\n",
      "--------------------------------------------------\n",
      "flow time: 3489, util : 0.755, makespan : 242\n",
      "n_episode: 684, score : -1452.0, n_buffer : 10000, eps : 1.2%\n",
      "--------------------------------------------------\n",
      "flow time: 4374, util : 0.833, makespan : 246\n",
      "n_episode: 685, score : -1476.0, n_buffer : 10000, eps : 1.2%\n",
      "--------------------------------------------------\n",
      "flow time: 3759, util : 0.817, makespan : 258\n",
      "n_episode: 686, score : -1548.0, n_buffer : 10000, eps : 1.1%\n",
      "--------------------------------------------------\n",
      "flow time: 2819, util : 0.749, makespan : 250\n",
      "n_episode: 687, score : -1500.0, n_buffer : 10000, eps : 1.1%\n",
      "--------------------------------------------------\n",
      "flow time: 3383, util : 0.775, makespan : 227\n",
      "n_episode: 688, score : -1362.0, n_buffer : 10000, eps : 1.1%\n",
      "--------------------------------------------------\n",
      "flow time: 3545, util : 0.793, makespan : 216\n",
      "n_episode: 689, score : -1296.0, n_buffer : 10000, eps : 1.1%\n",
      "--------------------------------------------------\n",
      "flow time: 3650, util : 0.794, makespan : 218\n",
      "n_episode: 690, score : -1308.0, n_buffer : 10000, eps : 1.1%\n",
      "--------------------------------------------------\n",
      "flow time: 2650, util : 0.757, makespan : 293\n",
      "n_episode: 691, score : -1758.0, n_buffer : 10000, eps : 1.1%\n",
      "--------------------------------------------------\n",
      "flow time: 3451, util : 0.789, makespan : 231\n",
      "n_episode: 692, score : -1386.0, n_buffer : 10000, eps : 1.1%\n",
      "--------------------------------------------------\n",
      "flow time: 2962, util : 0.760, makespan : 244\n",
      "n_episode: 693, score : -1464.0, n_buffer : 10000, eps : 1.1%\n",
      "--------------------------------------------------\n",
      "flow time: 3280, util : 0.814, makespan : 218\n",
      "n_episode: 694, score : -1308.0, n_buffer : 10000, eps : 1.1%\n",
      "--------------------------------------------------\n",
      "flow time: 3598, util : 0.791, makespan : 217\n",
      "n_episode: 695, score : -1302.0, n_buffer : 10000, eps : 1.0%\n",
      "--------------------------------------------------\n",
      "flow time: 2898, util : 0.718, makespan : 260\n",
      "n_episode: 696, score : -1560.0, n_buffer : 10000, eps : 1.0%\n",
      "--------------------------------------------------\n",
      "flow time: 3581, util : 0.792, makespan : 213\n",
      "n_episode: 697, score : -1278.0, n_buffer : 10000, eps : 1.0%\n",
      "--------------------------------------------------\n",
      "flow time: 2738, util : 0.787, makespan : 254\n",
      "n_episode: 698, score : -1524.0, n_buffer : 10000, eps : 1.0%\n",
      "--------------------------------------------------\n",
      "flow time: 2963, util : 0.799, makespan : 242\n",
      "n_episode: 699, score : -1452.0, n_buffer : 10000, eps : 1.0%\n",
      "--------------------------------------------------\n",
      "flow time: 3567, util : 0.802, makespan : 210\n",
      "n_episode: 700, score : -1260.0, n_buffer : 10000, eps : 1.0%\n",
      "--------------------------------------------------\n",
      "flow time: 2665, util : 0.800, makespan : 238\n",
      "n_episode: 701, score : -1428.0, n_buffer : 10000, eps : 1.0%\n",
      "--------------------------------------------------\n",
      "flow time: 3819, util : 0.826, makespan : 233\n",
      "n_episode: 702, score : -1398.0, n_buffer : 10000, eps : 1.0%\n",
      "--------------------------------------------------\n",
      "flow time: 3537, util : 0.790, makespan : 217\n",
      "n_episode: 703, score : -1302.0, n_buffer : 10000, eps : 1.0%\n",
      "--------------------------------------------------\n",
      "flow time: 2675, util : 0.712, makespan : 271\n",
      "n_episode: 704, score : -1626.0, n_buffer : 10000, eps : 1.0%\n",
      "--------------------------------------------------\n",
      "flow time: 4973, util : 0.829, makespan : 277\n",
      "n_episode: 705, score : -1662.0, n_buffer : 10000, eps : 1.0%\n",
      "--------------------------------------------------\n",
      "flow time: 2800, util : 0.723, makespan : 262\n",
      "n_episode: 706, score : -1572.0, n_buffer : 10000, eps : 1.0%\n",
      "--------------------------------------------------\n",
      "flow time: 3597, util : 0.809, makespan : 210\n",
      "n_episode: 707, score : -1260.0, n_buffer : 10000, eps : 1.0%\n",
      "--------------------------------------------------\n",
      "flow time: 3080, util : 0.817, makespan : 211\n",
      "n_episode: 708, score : -1266.0, n_buffer : 10000, eps : 1.0%\n",
      "--------------------------------------------------\n",
      "flow time: 2616, util : 0.719, makespan : 279\n",
      "n_episode: 709, score : -1674.0, n_buffer : 10000, eps : 1.0%\n",
      "--------------------------------------------------\n",
      "flow time: 2834, util : 0.676, makespan : 277\n",
      "n_episode: 710, score : -1662.0, n_buffer : 10000, eps : 1.0%\n",
      "--------------------------------------------------\n",
      "flow time: 2656, util : 0.751, makespan : 253\n",
      "n_episode: 711, score : -1518.0, n_buffer : 10000, eps : 1.0%\n",
      "--------------------------------------------------\n",
      "flow time: 3298, util : 0.794, makespan : 216\n",
      "n_episode: 712, score : -1296.0, n_buffer : 10000, eps : 1.0%\n",
      "--------------------------------------------------\n",
      "flow time: 4394, util : 0.812, makespan : 262\n",
      "n_episode: 713, score : -1572.0, n_buffer : 10000, eps : 1.0%\n",
      "--------------------------------------------------\n",
      "flow time: 2733, util : 0.860, makespan : 221\n",
      "n_episode: 714, score : -1326.0, n_buffer : 10000, eps : 1.0%\n",
      "--------------------------------------------------\n",
      "flow time: 2754, util : 0.801, makespan : 242\n",
      "n_episode: 715, score : -1452.0, n_buffer : 10000, eps : 1.0%\n",
      "--------------------------------------------------\n",
      "flow time: 3504, util : 0.783, makespan : 217\n",
      "n_episode: 716, score : -1302.0, n_buffer : 10000, eps : 1.0%\n",
      "--------------------------------------------------\n",
      "flow time: 2667, util : 0.817, makespan : 234\n",
      "n_episode: 717, score : -1404.0, n_buffer : 10000, eps : 1.0%\n",
      "--------------------------------------------------\n",
      "flow time: 3410, util : 0.831, makespan : 220\n",
      "n_episode: 718, score : -1320.0, n_buffer : 10000, eps : 1.0%\n",
      "--------------------------------------------------\n",
      "flow time: 3006, util : 0.798, makespan : 253\n",
      "n_episode: 719, score : -1518.0, n_buffer : 10000, eps : 1.0%\n",
      "--------------------------------------------------\n",
      "flow time: 3154, util : 0.766, makespan : 266\n",
      "n_episode: 720, score : -1596.0, n_buffer : 10000, eps : 1.0%\n",
      "--------------------------------------------------\n",
      "flow time: 2911, util : 0.779, makespan : 244\n",
      "n_episode: 721, score : -1464.0, n_buffer : 10000, eps : 1.0%\n",
      "--------------------------------------------------\n",
      "flow time: 3493, util : 0.798, makespan : 210\n",
      "n_episode: 722, score : -1260.0, n_buffer : 10000, eps : 1.0%\n",
      "--------------------------------------------------\n",
      "flow time: 3016, util : 0.711, makespan : 259\n",
      "n_episode: 723, score : -1554.0, n_buffer : 10000, eps : 1.0%\n",
      "--------------------------------------------------\n",
      "flow time: 2659, util : 0.751, makespan : 267\n",
      "n_episode: 724, score : -1602.0, n_buffer : 10000, eps : 1.0%\n",
      "--------------------------------------------------\n",
      "flow time: 2723, util : 0.738, makespan : 271\n",
      "n_episode: 725, score : -1626.0, n_buffer : 10000, eps : 1.0%\n",
      "--------------------------------------------------\n",
      "flow time: 3491, util : 0.786, makespan : 213\n",
      "n_episode: 726, score : -1278.0, n_buffer : 10000, eps : 1.0%\n",
      "--------------------------------------------------\n",
      "flow time: 3526, util : 0.791, makespan : 215\n",
      "n_episode: 727, score : -1290.0, n_buffer : 10000, eps : 1.0%\n",
      "--------------------------------------------------\n",
      "flow time: 2631, util : 0.807, makespan : 231\n",
      "n_episode: 728, score : -1386.0, n_buffer : 10000, eps : 1.0%\n",
      "--------------------------------------------------\n",
      "flow time: 2901, util : 0.762, makespan : 244\n",
      "n_episode: 729, score : -1464.0, n_buffer : 10000, eps : 1.0%\n"
     ]
    },
    {
     "name": "stdout",
     "output_type": "stream",
     "text": [
      "--------------------------------------------------\n",
      "flow time: 3491, util : 0.786, makespan : 213\n",
      "n_episode: 730, score : -1278.0, n_buffer : 10000, eps : 1.0%\n",
      "--------------------------------------------------\n",
      "flow time: 2640, util : 0.810, makespan : 231\n",
      "n_episode: 731, score : -1386.0, n_buffer : 10000, eps : 1.0%\n",
      "--------------------------------------------------\n",
      "flow time: 3521, util : 0.807, makespan : 225\n",
      "n_episode: 732, score : -1350.0, n_buffer : 10000, eps : 1.0%\n",
      "--------------------------------------------------\n",
      "flow time: 2891, util : 0.750, makespan : 278\n",
      "n_episode: 733, score : -1668.0, n_buffer : 10000, eps : 1.0%\n",
      "--------------------------------------------------\n",
      "flow time: 2776, util : 0.806, makespan : 231\n",
      "n_episode: 734, score : -1386.0, n_buffer : 10000, eps : 1.0%\n",
      "--------------------------------------------------\n",
      "flow time: 2660, util : 0.773, makespan : 246\n",
      "n_episode: 735, score : -1476.0, n_buffer : 10000, eps : 1.0%\n",
      "--------------------------------------------------\n",
      "flow time: 3593, util : 0.784, makespan : 217\n",
      "n_episode: 736, score : -1302.0, n_buffer : 10000, eps : 1.0%\n",
      "--------------------------------------------------\n",
      "flow time: 2640, util : 0.810, makespan : 233\n",
      "n_episode: 737, score : -1398.0, n_buffer : 10000, eps : 1.0%\n",
      "--------------------------------------------------\n",
      "flow time: 3580, util : 0.798, makespan : 215\n",
      "n_episode: 738, score : -1290.0, n_buffer : 10000, eps : 1.0%\n",
      "--------------------------------------------------\n",
      "flow time: 2770, util : 0.785, makespan : 240\n",
      "n_episode: 739, score : -1440.0, n_buffer : 10000, eps : 1.0%\n",
      "--------------------------------------------------\n",
      "flow time: 3666, util : 0.821, makespan : 252\n",
      "n_episode: 740, score : -1512.0, n_buffer : 10000, eps : 1.0%\n",
      "--------------------------------------------------\n",
      "flow time: 4040, util : 0.818, makespan : 242\n",
      "n_episode: 741, score : -1452.0, n_buffer : 10000, eps : 1.0%\n",
      "--------------------------------------------------\n",
      "flow time: 3510, util : 0.751, makespan : 253\n",
      "n_episode: 742, score : -1518.0, n_buffer : 10000, eps : 1.0%\n",
      "--------------------------------------------------\n",
      "flow time: 3195, util : 0.804, makespan : 217\n",
      "n_episode: 743, score : -1302.0, n_buffer : 10000, eps : 1.0%\n",
      "--------------------------------------------------\n",
      "flow time: 3594, util : 0.772, makespan : 235\n",
      "n_episode: 744, score : -1410.0, n_buffer : 10000, eps : 1.0%\n",
      "--------------------------------------------------\n",
      "flow time: 3182, util : 0.804, makespan : 236\n",
      "n_episode: 745, score : -1416.0, n_buffer : 10000, eps : 1.0%\n",
      "--------------------------------------------------\n",
      "flow time: 3022, util : 0.736, makespan : 296\n",
      "n_episode: 746, score : -1776.0, n_buffer : 10000, eps : 1.0%\n",
      "--------------------------------------------------\n",
      "flow time: 3515, util : 0.780, makespan : 252\n",
      "n_episode: 747, score : -1512.0, n_buffer : 10000, eps : 1.0%\n",
      "--------------------------------------------------\n",
      "flow time: 3117, util : 0.842, makespan : 221\n",
      "n_episode: 748, score : -1326.0, n_buffer : 10000, eps : 1.0%\n",
      "--------------------------------------------------\n",
      "flow time: 3427, util : 0.806, makespan : 211\n",
      "n_episode: 749, score : -1266.0, n_buffer : 10000, eps : 1.0%\n",
      "--------------------------------------------------\n",
      "flow time: 3581, util : 0.792, makespan : 213\n",
      "n_episode: 750, score : -1278.0, n_buffer : 10000, eps : 1.0%\n",
      "--------------------------------------------------\n",
      "flow time: 2889, util : 0.722, makespan : 260\n",
      "n_episode: 751, score : -1560.0, n_buffer : 10000, eps : 1.0%\n",
      "--------------------------------------------------\n",
      "flow time: 2594, util : 0.760, makespan : 290\n",
      "n_episode: 752, score : -1740.0, n_buffer : 10000, eps : 1.0%\n",
      "--------------------------------------------------\n",
      "flow time: 4539, util : 0.827, makespan : 275\n",
      "n_episode: 753, score : -1650.0, n_buffer : 10000, eps : 1.0%\n",
      "--------------------------------------------------\n",
      "flow time: 2675, util : 0.829, makespan : 234\n",
      "n_episode: 754, score : -1404.0, n_buffer : 10000, eps : 1.0%\n",
      "--------------------------------------------------\n",
      "flow time: 3600, util : 0.787, makespan : 217\n",
      "n_episode: 755, score : -1302.0, n_buffer : 10000, eps : 1.0%\n",
      "--------------------------------------------------\n",
      "flow time: 2649, util : 0.645, makespan : 288\n",
      "n_episode: 756, score : -1728.0, n_buffer : 10000, eps : 1.0%\n",
      "--------------------------------------------------\n",
      "flow time: 2998, util : 0.738, makespan : 294\n",
      "n_episode: 757, score : -1764.0, n_buffer : 10000, eps : 1.0%\n",
      "--------------------------------------------------\n",
      "flow time: 3555, util : 0.791, makespan : 220\n",
      "n_episode: 758, score : -1320.0, n_buffer : 10000, eps : 1.0%\n",
      "--------------------------------------------------\n",
      "flow time: 2913, util : 0.760, makespan : 242\n",
      "n_episode: 759, score : -1452.0, n_buffer : 10000, eps : 1.0%\n",
      "--------------------------------------------------\n",
      "flow time: 3585, util : 0.789, makespan : 225\n",
      "n_episode: 760, score : -1350.0, n_buffer : 10000, eps : 1.0%\n",
      "--------------------------------------------------\n",
      "flow time: 2681, util : 0.713, makespan : 268\n",
      "n_episode: 761, score : -1608.0, n_buffer : 10000, eps : 1.0%\n",
      "--------------------------------------------------\n",
      "flow time: 3648, util : 0.789, makespan : 221\n",
      "n_episode: 762, score : -1326.0, n_buffer : 10000, eps : 1.0%\n",
      "--------------------------------------------------\n",
      "flow time: 3495, util : 0.794, makespan : 213\n",
      "n_episode: 763, score : -1278.0, n_buffer : 10000, eps : 1.0%\n",
      "--------------------------------------------------\n",
      "flow time: 2663, util : 0.747, makespan : 253\n",
      "n_episode: 764, score : -1518.0, n_buffer : 10000, eps : 1.0%\n",
      "--------------------------------------------------\n",
      "flow time: 3100, util : 0.827, makespan : 224\n",
      "n_episode: 765, score : -1344.0, n_buffer : 10000, eps : 1.0%\n",
      "--------------------------------------------------\n",
      "flow time: 3370, util : 0.729, makespan : 248\n",
      "n_episode: 766, score : -1488.0, n_buffer : 10000, eps : 1.0%\n",
      "--------------------------------------------------\n",
      "flow time: 3596, util : 0.805, makespan : 220\n",
      "n_episode: 767, score : -1320.0, n_buffer : 10000, eps : 1.0%\n",
      "--------------------------------------------------\n",
      "flow time: 4820, util : 0.830, makespan : 270\n",
      "n_episode: 768, score : -1620.0, n_buffer : 10000, eps : 1.0%\n",
      "--------------------------------------------------\n",
      "flow time: 3226, util : 0.842, makespan : 238\n",
      "n_episode: 769, score : -1428.0, n_buffer : 10000, eps : 1.0%\n",
      "--------------------------------------------------\n",
      "flow time: 3593, util : 0.784, makespan : 217\n",
      "n_episode: 770, score : -1302.0, n_buffer : 10000, eps : 1.0%\n",
      "--------------------------------------------------\n",
      "flow time: 2720, util : 0.694, makespan : 279\n",
      "n_episode: 771, score : -1674.0, n_buffer : 10000, eps : 1.0%\n",
      "--------------------------------------------------\n",
      "flow time: 3667, util : 0.785, makespan : 228\n",
      "n_episode: 772, score : -1368.0, n_buffer : 10000, eps : 1.0%\n",
      "--------------------------------------------------\n",
      "flow time: 2640, util : 0.783, makespan : 238\n",
      "n_episode: 773, score : -1428.0, n_buffer : 10000, eps : 1.0%\n",
      "--------------------------------------------------\n",
      "flow time: 3456, util : 0.816, makespan : 213\n",
      "n_episode: 774, score : -1278.0, n_buffer : 10000, eps : 1.0%\n",
      "--------------------------------------------------\n",
      "flow time: 2652, util : 0.652, makespan : 299\n",
      "n_episode: 775, score : -1794.0, n_buffer : 10000, eps : 1.0%\n",
      "--------------------------------------------------\n",
      "flow time: 3609, util : 0.799, makespan : 217\n",
      "n_episode: 776, score : -1302.0, n_buffer : 10000, eps : 1.0%\n",
      "--------------------------------------------------\n",
      "flow time: 2671, util : 0.766, makespan : 249\n",
      "n_episode: 777, score : -1494.0, n_buffer : 10000, eps : 1.0%\n",
      "--------------------------------------------------\n",
      "flow time: 3491, util : 0.786, makespan : 213\n",
      "n_episode: 778, score : -1278.0, n_buffer : 10000, eps : 1.0%\n",
      "--------------------------------------------------\n",
      "flow time: 3554, util : 0.801, makespan : 210\n",
      "n_episode: 779, score : -1260.0, n_buffer : 10000, eps : 1.0%\n",
      "--------------------------------------------------\n",
      "flow time: 3561, util : 0.803, makespan : 211\n",
      "n_episode: 780, score : -1266.0, n_buffer : 10000, eps : 1.0%\n",
      "--------------------------------------------------\n",
      "flow time: 3412, util : 0.767, makespan : 232\n",
      "n_episode: 781, score : -1392.0, n_buffer : 10000, eps : 1.0%\n"
     ]
    },
    {
     "name": "stdout",
     "output_type": "stream",
     "text": [
      "--------------------------------------------------\n",
      "flow time: 2802, util : 0.838, makespan : 259\n",
      "n_episode: 782, score : -1554.0, n_buffer : 10000, eps : 1.0%\n",
      "--------------------------------------------------\n",
      "flow time: 3533, util : 0.805, makespan : 215\n",
      "n_episode: 783, score : -1290.0, n_buffer : 10000, eps : 1.0%\n",
      "--------------------------------------------------\n",
      "flow time: 3482, util : 0.812, makespan : 222\n",
      "n_episode: 784, score : -1332.0, n_buffer : 10000, eps : 1.0%\n",
      "--------------------------------------------------\n",
      "flow time: 2675, util : 0.813, makespan : 269\n",
      "n_episode: 785, score : -1614.0, n_buffer : 10000, eps : 1.0%\n",
      "--------------------------------------------------\n",
      "flow time: 3220, util : 0.780, makespan : 224\n",
      "n_episode: 786, score : -1344.0, n_buffer : 10000, eps : 1.0%\n",
      "--------------------------------------------------\n",
      "flow time: 2724, util : 0.680, makespan : 271\n",
      "n_episode: 787, score : -1626.0, n_buffer : 10000, eps : 1.0%\n",
      "--------------------------------------------------\n",
      "flow time: 2649, util : 0.645, makespan : 288\n",
      "n_episode: 788, score : -1728.0, n_buffer : 10000, eps : 1.0%\n",
      "--------------------------------------------------\n",
      "flow time: 2594, util : 0.760, makespan : 290\n",
      "n_episode: 789, score : -1740.0, n_buffer : 10000, eps : 1.0%\n",
      "--------------------------------------------------\n",
      "flow time: 3062, util : 0.745, makespan : 248\n",
      "n_episode: 790, score : -1488.0, n_buffer : 10000, eps : 1.0%\n",
      "--------------------------------------------------\n",
      "flow time: 2930, util : 0.796, makespan : 227\n",
      "n_episode: 791, score : -1362.0, n_buffer : 10000, eps : 1.0%\n",
      "--------------------------------------------------\n",
      "flow time: 3617, util : 0.817, makespan : 238\n",
      "n_episode: 792, score : -1428.0, n_buffer : 10000, eps : 1.0%\n",
      "--------------------------------------------------\n",
      "flow time: 2645, util : 0.805, makespan : 233\n",
      "n_episode: 793, score : -1398.0, n_buffer : 10000, eps : 1.0%\n",
      "--------------------------------------------------\n",
      "flow time: 3609, util : 0.795, makespan : 217\n",
      "n_episode: 794, score : -1302.0, n_buffer : 10000, eps : 1.0%\n",
      "--------------------------------------------------\n",
      "flow time: 2974, util : 0.736, makespan : 247\n",
      "n_episode: 795, score : -1482.0, n_buffer : 10000, eps : 1.0%\n",
      "--------------------------------------------------\n",
      "flow time: 2596, util : 0.795, makespan : 235\n",
      "n_episode: 796, score : -1410.0, n_buffer : 10000, eps : 1.0%\n",
      "--------------------------------------------------\n",
      "flow time: 3442, util : 0.783, makespan : 216\n",
      "n_episode: 797, score : -1296.0, n_buffer : 10000, eps : 1.0%\n",
      "--------------------------------------------------\n",
      "flow time: 3023, util : 0.802, makespan : 222\n",
      "n_episode: 798, score : -1332.0, n_buffer : 10000, eps : 1.0%\n",
      "--------------------------------------------------\n",
      "flow time: 3201, util : 0.766, makespan : 231\n",
      "n_episode: 799, score : -1386.0, n_buffer : 10000, eps : 1.0%\n",
      "--------------------------------------------------\n",
      "flow time: 4073, util : 0.822, makespan : 257\n",
      "n_episode: 800, score : -1542.0, n_buffer : 10000, eps : 1.0%\n",
      "--------------------------------------------------\n",
      "flow time: 2645, util : 0.805, makespan : 233\n",
      "n_episode: 801, score : -1398.0, n_buffer : 10000, eps : 1.0%\n",
      "--------------------------------------------------\n",
      "flow time: 2594, util : 0.760, makespan : 290\n",
      "n_episode: 802, score : -1740.0, n_buffer : 10000, eps : 1.0%\n",
      "--------------------------------------------------\n",
      "flow time: 3460, util : 0.798, makespan : 210\n",
      "n_episode: 803, score : -1260.0, n_buffer : 10000, eps : 1.0%\n",
      "--------------------------------------------------\n",
      "flow time: 2764, util : 0.690, makespan : 274\n",
      "n_episode: 804, score : -1644.0, n_buffer : 10000, eps : 1.0%\n",
      "--------------------------------------------------\n",
      "flow time: 3643, util : 0.811, makespan : 220\n",
      "n_episode: 805, score : -1320.0, n_buffer : 10000, eps : 1.0%\n",
      "--------------------------------------------------\n",
      "flow time: 3361, util : 0.804, makespan : 213\n",
      "n_episode: 806, score : -1278.0, n_buffer : 10000, eps : 1.0%\n",
      "--------------------------------------------------\n",
      "flow time: 2905, util : 0.805, makespan : 283\n",
      "n_episode: 807, score : -1698.0, n_buffer : 10000, eps : 1.0%\n",
      "--------------------------------------------------\n",
      "flow time: 3653, util : 0.793, makespan : 222\n",
      "n_episode: 808, score : -1332.0, n_buffer : 10000, eps : 1.0%\n",
      "--------------------------------------------------\n",
      "flow time: 2713, util : 0.759, makespan : 243\n",
      "n_episode: 809, score : -1458.0, n_buffer : 10000, eps : 1.0%\n",
      "--------------------------------------------------\n",
      "flow time: 3353, util : 0.789, makespan : 222\n",
      "n_episode: 810, score : -1332.0, n_buffer : 10000, eps : 1.0%\n",
      "--------------------------------------------------\n",
      "flow time: 2818, util : 0.762, makespan : 298\n",
      "n_episode: 811, score : -1788.0, n_buffer : 10000, eps : 1.0%\n",
      "--------------------------------------------------\n",
      "flow time: 3486, util : 0.799, makespan : 213\n",
      "n_episode: 812, score : -1278.0, n_buffer : 10000, eps : 1.0%\n",
      "--------------------------------------------------\n",
      "flow time: 2718, util : 0.754, makespan : 245\n",
      "n_episode: 813, score : -1470.0, n_buffer : 10000, eps : 1.0%\n",
      "--------------------------------------------------\n",
      "flow time: 2636, util : 0.801, makespan : 233\n",
      "n_episode: 814, score : -1398.0, n_buffer : 10000, eps : 1.0%\n",
      "--------------------------------------------------\n",
      "flow time: 3622, util : 0.811, makespan : 217\n",
      "n_episode: 815, score : -1302.0, n_buffer : 10000, eps : 1.0%\n",
      "--------------------------------------------------\n",
      "flow time: 3615, util : 0.800, makespan : 217\n",
      "n_episode: 816, score : -1302.0, n_buffer : 10000, eps : 1.0%\n",
      "--------------------------------------------------\n",
      "flow time: 2645, util : 0.805, makespan : 233\n",
      "n_episode: 817, score : -1398.0, n_buffer : 10000, eps : 1.0%\n",
      "--------------------------------------------------\n",
      "flow time: 2771, util : 0.850, makespan : 263\n",
      "n_episode: 818, score : -1578.0, n_buffer : 10000, eps : 1.0%\n",
      "--------------------------------------------------\n",
      "flow time: 2660, util : 0.768, makespan : 249\n",
      "n_episode: 819, score : -1494.0, n_buffer : 10000, eps : 1.0%\n",
      "--------------------------------------------------\n",
      "flow time: 3607, util : 0.793, makespan : 217\n",
      "n_episode: 820, score : -1302.0, n_buffer : 10000, eps : 1.0%\n",
      "--------------------------------------------------\n",
      "flow time: 2809, util : 0.750, makespan : 292\n",
      "n_episode: 821, score : -1752.0, n_buffer : 10000, eps : 1.0%\n",
      "--------------------------------------------------\n",
      "flow time: 2750, util : 0.783, makespan : 255\n",
      "n_episode: 822, score : -1530.0, n_buffer : 10000, eps : 1.0%\n",
      "--------------------------------------------------\n",
      "flow time: 3607, util : 0.800, makespan : 217\n",
      "n_episode: 823, score : -1302.0, n_buffer : 10000, eps : 1.0%\n",
      "--------------------------------------------------\n",
      "flow time: 2674, util : 0.728, makespan : 299\n",
      "n_episode: 824, score : -1794.0, n_buffer : 10000, eps : 1.0%\n",
      "--------------------------------------------------\n",
      "flow time: 3613, util : 0.790, makespan : 218\n",
      "n_episode: 825, score : -1308.0, n_buffer : 10000, eps : 1.0%\n",
      "--------------------------------------------------\n",
      "flow time: 3054, util : 0.804, makespan : 242\n",
      "n_episode: 826, score : -1452.0, n_buffer : 10000, eps : 1.0%\n",
      "--------------------------------------------------\n",
      "flow time: 2669, util : 0.656, makespan : 290\n",
      "n_episode: 827, score : -1740.0, n_buffer : 10000, eps : 1.0%\n",
      "--------------------------------------------------\n",
      "flow time: 3595, util : 0.782, makespan : 220\n",
      "n_episode: 828, score : -1320.0, n_buffer : 10000, eps : 1.0%\n",
      "--------------------------------------------------\n",
      "flow time: 2736, util : 0.653, makespan : 312\n",
      "n_episode: 829, score : -1872.0, n_buffer : 10000, eps : 1.0%\n",
      "--------------------------------------------------\n",
      "flow time: 2636, util : 0.801, makespan : 233\n",
      "n_episode: 830, score : -1398.0, n_buffer : 10000, eps : 1.0%\n",
      "--------------------------------------------------\n",
      "flow time: 2700, util : 0.804, makespan : 236\n",
      "n_episode: 831, score : -1416.0, n_buffer : 10000, eps : 1.0%\n",
      "--------------------------------------------------\n",
      "flow time: 3425, util : 0.779, makespan : 228\n",
      "n_episode: 832, score : -1368.0, n_buffer : 10000, eps : 1.0%\n",
      "--------------------------------------------------\n",
      "flow time: 2880, util : 0.783, makespan : 237\n",
      "n_episode: 833, score : -1422.0, n_buffer : 10000, eps : 1.0%\n"
     ]
    },
    {
     "name": "stdout",
     "output_type": "stream",
     "text": [
      "--------------------------------------------------\n",
      "flow time: 3322, util : 0.787, makespan : 218\n",
      "n_episode: 834, score : -1308.0, n_buffer : 10000, eps : 1.0%\n",
      "--------------------------------------------------\n",
      "flow time: 3597, util : 0.783, makespan : 218\n",
      "n_episode: 835, score : -1308.0, n_buffer : 10000, eps : 1.0%\n",
      "--------------------------------------------------\n",
      "flow time: 2692, util : 0.660, makespan : 285\n",
      "n_episode: 836, score : -1710.0, n_buffer : 10000, eps : 1.0%\n",
      "--------------------------------------------------\n",
      "flow time: 3525, util : 0.837, makespan : 210\n",
      "n_episode: 837, score : -1260.0, n_buffer : 10000, eps : 1.0%\n",
      "--------------------------------------------------\n",
      "flow time: 2810, util : 0.780, makespan : 233\n",
      "n_episode: 838, score : -1398.0, n_buffer : 10000, eps : 1.0%\n",
      "--------------------------------------------------\n",
      "flow time: 2759, util : 0.719, makespan : 262\n",
      "n_episode: 839, score : -1572.0, n_buffer : 10000, eps : 1.0%\n",
      "--------------------------------------------------\n",
      "flow time: 3491, util : 0.786, makespan : 213\n",
      "n_episode: 840, score : -1278.0, n_buffer : 10000, eps : 1.0%\n",
      "--------------------------------------------------\n",
      "flow time: 3048, util : 0.829, makespan : 218\n",
      "n_episode: 841, score : -1308.0, n_buffer : 10000, eps : 1.0%\n",
      "--------------------------------------------------\n",
      "flow time: 2636, util : 0.762, makespan : 244\n",
      "n_episode: 842, score : -1464.0, n_buffer : 10000, eps : 1.0%\n",
      "--------------------------------------------------\n",
      "flow time: 3526, util : 0.817, makespan : 211\n",
      "n_episode: 843, score : -1266.0, n_buffer : 10000, eps : 1.0%\n",
      "--------------------------------------------------\n",
      "flow time: 2642, util : 0.687, makespan : 284\n",
      "n_episode: 844, score : -1704.0, n_buffer : 10000, eps : 1.0%\n",
      "--------------------------------------------------\n",
      "flow time: 3305, util : 0.802, makespan : 226\n",
      "n_episode: 845, score : -1356.0, n_buffer : 10000, eps : 1.0%\n",
      "--------------------------------------------------\n",
      "flow time: 2803, util : 0.836, makespan : 223\n",
      "n_episode: 846, score : -1338.0, n_buffer : 10000, eps : 1.0%\n",
      "--------------------------------------------------\n",
      "flow time: 2604, util : 0.756, makespan : 294\n",
      "n_episode: 847, score : -1764.0, n_buffer : 10000, eps : 1.0%\n",
      "--------------------------------------------------\n",
      "flow time: 2641, util : 0.740, makespan : 255\n",
      "n_episode: 848, score : -1530.0, n_buffer : 10000, eps : 1.0%\n",
      "--------------------------------------------------\n",
      "flow time: 3165, util : 0.781, makespan : 218\n",
      "n_episode: 849, score : -1308.0, n_buffer : 10000, eps : 1.0%\n",
      "--------------------------------------------------\n",
      "flow time: 3504, util : 0.783, makespan : 217\n",
      "n_episode: 850, score : -1302.0, n_buffer : 10000, eps : 1.0%\n",
      "--------------------------------------------------\n",
      "flow time: 2649, util : 0.820, makespan : 231\n",
      "n_episode: 851, score : -1386.0, n_buffer : 10000, eps : 1.0%\n",
      "--------------------------------------------------\n",
      "flow time: 2842, util : 0.797, makespan : 296\n",
      "n_episode: 852, score : -1776.0, n_buffer : 10000, eps : 1.0%\n",
      "--------------------------------------------------\n",
      "flow time: 3593, util : 0.784, makespan : 217\n",
      "n_episode: 853, score : -1302.0, n_buffer : 10000, eps : 1.0%\n",
      "--------------------------------------------------\n",
      "flow time: 2678, util : 0.735, makespan : 250\n",
      "n_episode: 854, score : -1500.0, n_buffer : 10000, eps : 1.0%\n",
      "--------------------------------------------------\n",
      "flow time: 3670, util : 0.771, makespan : 235\n",
      "n_episode: 855, score : -1410.0, n_buffer : 10000, eps : 1.0%\n",
      "--------------------------------------------------\n",
      "flow time: 2626, util : 0.798, makespan : 232\n",
      "n_episode: 856, score : -1392.0, n_buffer : 10000, eps : 1.0%\n",
      "--------------------------------------------------\n",
      "flow time: 3502, util : 0.809, makespan : 213\n",
      "n_episode: 857, score : -1278.0, n_buffer : 10000, eps : 1.0%\n",
      "--------------------------------------------------\n",
      "flow time: 2652, util : 0.821, makespan : 229\n",
      "n_episode: 858, score : -1374.0, n_buffer : 10000, eps : 1.0%\n",
      "--------------------------------------------------\n",
      "flow time: 2723, util : 0.717, makespan : 260\n",
      "n_episode: 859, score : -1560.0, n_buffer : 10000, eps : 1.0%\n",
      "--------------------------------------------------\n",
      "flow time: 4142, util : 0.832, makespan : 250\n",
      "n_episode: 860, score : -1500.0, n_buffer : 10000, eps : 1.0%\n",
      "--------------------------------------------------\n",
      "flow time: 4859, util : 0.825, makespan : 272\n",
      "n_episode: 861, score : -1632.0, n_buffer : 10000, eps : 1.0%\n",
      "--------------------------------------------------\n",
      "flow time: 3688, util : 0.822, makespan : 241\n",
      "n_episode: 862, score : -1446.0, n_buffer : 10000, eps : 1.0%\n",
      "--------------------------------------------------\n",
      "flow time: 3662, util : 0.791, makespan : 223\n",
      "n_episode: 863, score : -1338.0, n_buffer : 10000, eps : 1.0%\n",
      "--------------------------------------------------\n",
      "flow time: 2664, util : 0.684, makespan : 274\n",
      "n_episode: 864, score : -1644.0, n_buffer : 10000, eps : 1.0%\n",
      "--------------------------------------------------\n",
      "flow time: 3569, util : 0.806, makespan : 218\n",
      "n_episode: 865, score : -1308.0, n_buffer : 10000, eps : 1.0%\n",
      "--------------------------------------------------\n",
      "flow time: 2636, util : 0.762, makespan : 244\n",
      "n_episode: 866, score : -1464.0, n_buffer : 10000, eps : 1.0%\n",
      "--------------------------------------------------\n",
      "flow time: 3593, util : 0.784, makespan : 217\n",
      "n_episode: 867, score : -1302.0, n_buffer : 10000, eps : 1.0%\n",
      "--------------------------------------------------\n",
      "flow time: 2832, util : 0.769, makespan : 242\n",
      "n_episode: 868, score : -1452.0, n_buffer : 10000, eps : 1.0%\n",
      "--------------------------------------------------\n",
      "flow time: 2668, util : 0.781, makespan : 245\n",
      "n_episode: 869, score : -1470.0, n_buffer : 10000, eps : 1.0%\n",
      "--------------------------------------------------\n",
      "flow time: 3800, util : 0.744, makespan : 249\n",
      "n_episode: 870, score : -1494.0, n_buffer : 10000, eps : 1.0%\n",
      "--------------------------------------------------\n",
      "flow time: 2675, util : 0.712, makespan : 271\n",
      "n_episode: 871, score : -1626.0, n_buffer : 10000, eps : 1.0%\n",
      "--------------------------------------------------\n",
      "flow time: 3598, util : 0.791, makespan : 217\n",
      "n_episode: 872, score : -1302.0, n_buffer : 10000, eps : 1.0%\n",
      "--------------------------------------------------\n",
      "flow time: 2675, util : 0.712, makespan : 271\n",
      "n_episode: 873, score : -1626.0, n_buffer : 10000, eps : 1.0%\n",
      "--------------------------------------------------\n",
      "flow time: 2706, util : 0.754, makespan : 266\n",
      "n_episode: 874, score : -1596.0, n_buffer : 10000, eps : 1.0%\n",
      "--------------------------------------------------\n",
      "flow time: 2815, util : 0.839, makespan : 225\n",
      "n_episode: 875, score : -1350.0, n_buffer : 10000, eps : 1.0%\n",
      "--------------------------------------------------\n",
      "flow time: 2645, util : 0.805, makespan : 233\n",
      "n_episode: 876, score : -1398.0, n_buffer : 10000, eps : 1.0%\n",
      "--------------------------------------------------\n",
      "flow time: 2890, util : 0.732, makespan : 312\n",
      "n_episode: 877, score : -1872.0, n_buffer : 10000, eps : 1.0%\n",
      "--------------------------------------------------\n",
      "flow time: 2628, util : 0.774, makespan : 239\n",
      "n_episode: 878, score : -1434.0, n_buffer : 10000, eps : 1.0%\n",
      "--------------------------------------------------\n",
      "flow time: 2636, util : 0.801, makespan : 233\n",
      "n_episode: 879, score : -1398.0, n_buffer : 10000, eps : 1.0%\n",
      "--------------------------------------------------\n",
      "flow time: 3252, util : 0.789, makespan : 250\n",
      "n_episode: 880, score : -1500.0, n_buffer : 10000, eps : 1.0%\n",
      "--------------------------------------------------\n",
      "flow time: 2898, util : 0.729, makespan : 281\n",
      "n_episode: 881, score : -1686.0, n_buffer : 10000, eps : 1.0%\n",
      "--------------------------------------------------\n",
      "flow time: 2834, util : 0.715, makespan : 265\n",
      "n_episode: 882, score : -1590.0, n_buffer : 10000, eps : 1.0%\n",
      "--------------------------------------------------\n",
      "flow time: 3581, util : 0.792, makespan : 213\n",
      "n_episode: 883, score : -1278.0, n_buffer : 10000, eps : 1.0%\n",
      "--------------------------------------------------\n",
      "flow time: 2888, util : 0.854, makespan : 213\n",
      "n_episode: 884, score : -1278.0, n_buffer : 10000, eps : 1.0%\n",
      "--------------------------------------------------\n",
      "flow time: 3581, util : 0.792, makespan : 213\n",
      "n_episode: 885, score : -1278.0, n_buffer : 10000, eps : 1.0%\n"
     ]
    },
    {
     "name": "stdout",
     "output_type": "stream",
     "text": [
      "--------------------------------------------------\n",
      "flow time: 2665, util : 0.793, makespan : 242\n",
      "n_episode: 886, score : -1452.0, n_buffer : 10000, eps : 1.0%\n",
      "--------------------------------------------------\n",
      "flow time: 3581, util : 0.792, makespan : 213\n",
      "n_episode: 887, score : -1278.0, n_buffer : 10000, eps : 1.0%\n",
      "--------------------------------------------------\n",
      "flow time: 2720, util : 0.694, makespan : 279\n",
      "n_episode: 888, score : -1674.0, n_buffer : 10000, eps : 1.0%\n",
      "--------------------------------------------------\n",
      "flow time: 2636, util : 0.801, makespan : 233\n",
      "n_episode: 889, score : -1398.0, n_buffer : 10000, eps : 1.0%\n",
      "--------------------------------------------------\n",
      "flow time: 2631, util : 0.807, makespan : 231\n",
      "n_episode: 890, score : -1386.0, n_buffer : 10000, eps : 1.0%\n",
      "--------------------------------------------------\n",
      "flow time: 3531, util : 0.815, makespan : 218\n",
      "n_episode: 891, score : -1308.0, n_buffer : 10000, eps : 1.0%\n",
      "--------------------------------------------------\n",
      "flow time: 2636, util : 0.801, makespan : 233\n",
      "n_episode: 892, score : -1398.0, n_buffer : 10000, eps : 1.0%\n",
      "--------------------------------------------------\n",
      "flow time: 3581, util : 0.792, makespan : 213\n",
      "n_episode: 893, score : -1278.0, n_buffer : 10000, eps : 1.0%\n",
      "--------------------------------------------------\n",
      "flow time: 2631, util : 0.807, makespan : 231\n",
      "n_episode: 894, score : -1386.0, n_buffer : 10000, eps : 1.0%\n",
      "--------------------------------------------------\n",
      "flow time: 3559, util : 0.796, makespan : 212\n",
      "n_episode: 895, score : -1272.0, n_buffer : 10000, eps : 1.0%\n",
      "--------------------------------------------------\n",
      "flow time: 2711, util : 0.678, makespan : 282\n",
      "n_episode: 896, score : -1692.0, n_buffer : 10000, eps : 1.0%\n",
      "--------------------------------------------------\n",
      "flow time: 3539, util : 0.787, makespan : 216\n",
      "n_episode: 897, score : -1296.0, n_buffer : 10000, eps : 1.0%\n",
      "--------------------------------------------------\n",
      "flow time: 3516, util : 0.812, makespan : 208\n",
      "n_episode: 898, score : -1248.0, n_buffer : 10000, eps : 1.0%\n",
      "--------------------------------------------------\n",
      "flow time: 3581, util : 0.792, makespan : 213\n",
      "n_episode: 899, score : -1278.0, n_buffer : 10000, eps : 1.0%\n",
      "--------------------------------------------------\n",
      "flow time: 2640, util : 0.810, makespan : 231\n",
      "n_episode: 900, score : -1386.0, n_buffer : 10000, eps : 1.0%\n",
      "--------------------------------------------------\n",
      "flow time: 3203, util : 0.798, makespan : 220\n",
      "n_episode: 901, score : -1320.0, n_buffer : 10000, eps : 1.0%\n",
      "--------------------------------------------------\n",
      "flow time: 3777, util : 0.790, makespan : 229\n",
      "n_episode: 902, score : -1374.0, n_buffer : 10000, eps : 1.0%\n",
      "--------------------------------------------------\n",
      "flow time: 2654, util : 0.866, makespan : 213\n",
      "n_episode: 903, score : -1278.0, n_buffer : 10000, eps : 1.0%\n",
      "--------------------------------------------------\n",
      "flow time: 4426, util : 0.826, makespan : 303\n",
      "n_episode: 904, score : -1818.0, n_buffer : 10000, eps : 1.0%\n",
      "--------------------------------------------------\n",
      "flow time: 2655, util : 0.819, makespan : 236\n",
      "n_episode: 905, score : -1416.0, n_buffer : 10000, eps : 1.0%\n",
      "--------------------------------------------------\n",
      "flow time: 2885, util : 0.783, makespan : 233\n",
      "n_episode: 906, score : -1398.0, n_buffer : 10000, eps : 1.0%\n",
      "--------------------------------------------------\n",
      "flow time: 3502, util : 0.800, makespan : 212\n",
      "n_episode: 907, score : -1272.0, n_buffer : 10000, eps : 1.0%\n",
      "--------------------------------------------------\n",
      "flow time: 2594, util : 0.760, makespan : 290\n",
      "n_episode: 908, score : -1740.0, n_buffer : 10000, eps : 1.0%\n",
      "--------------------------------------------------\n",
      "flow time: 2676, util : 0.768, makespan : 249\n",
      "n_episode: 909, score : -1494.0, n_buffer : 10000, eps : 1.0%\n",
      "--------------------------------------------------\n",
      "flow time: 3595, util : 0.798, makespan : 213\n",
      "n_episode: 910, score : -1278.0, n_buffer : 10000, eps : 1.0%\n",
      "--------------------------------------------------\n",
      "flow time: 3399, util : 0.797, makespan : 222\n",
      "n_episode: 911, score : -1332.0, n_buffer : 10000, eps : 1.0%\n",
      "--------------------------------------------------\n",
      "flow time: 3114, util : 0.789, makespan : 286\n",
      "n_episode: 912, score : -1716.0, n_buffer : 10000, eps : 1.0%\n",
      "--------------------------------------------------\n",
      "flow time: 2599, util : 0.789, makespan : 280\n",
      "n_episode: 913, score : -1680.0, n_buffer : 10000, eps : 1.0%\n",
      "--------------------------------------------------\n",
      "flow time: 2778, util : 0.787, makespan : 267\n",
      "n_episode: 914, score : -1602.0, n_buffer : 10000, eps : 1.0%\n",
      "--------------------------------------------------\n",
      "flow time: 3168, util : 0.783, makespan : 224\n",
      "n_episode: 915, score : -1344.0, n_buffer : 10000, eps : 1.0%\n",
      "--------------------------------------------------\n",
      "flow time: 3491, util : 0.786, makespan : 213\n",
      "n_episode: 916, score : -1278.0, n_buffer : 10000, eps : 1.0%\n",
      "--------------------------------------------------\n",
      "flow time: 3581, util : 0.792, makespan : 213\n",
      "n_episode: 917, score : -1278.0, n_buffer : 10000, eps : 1.0%\n",
      "--------------------------------------------------\n",
      "flow time: 2745, util : 0.660, makespan : 286\n",
      "n_episode: 918, score : -1716.0, n_buffer : 10000, eps : 1.0%\n",
      "--------------------------------------------------\n",
      "flow time: 2576, util : 0.771, makespan : 282\n",
      "n_episode: 919, score : -1692.0, n_buffer : 10000, eps : 1.0%\n",
      "--------------------------------------------------\n",
      "flow time: 3527, util : 0.828, makespan : 204\n",
      "n_episode: 920, score : -1224.0, n_buffer : 10000, eps : 1.0%\n",
      "--------------------------------------------------\n",
      "flow time: 2697, util : 0.815, makespan : 231\n",
      "n_episode: 921, score : -1386.0, n_buffer : 10000, eps : 1.0%\n",
      "--------------------------------------------------\n",
      "flow time: 3730, util : 0.811, makespan : 238\n",
      "n_episode: 922, score : -1428.0, n_buffer : 10000, eps : 1.0%\n",
      "--------------------------------------------------\n",
      "flow time: 2719, util : 0.745, makespan : 267\n",
      "n_episode: 923, score : -1602.0, n_buffer : 10000, eps : 1.0%\n",
      "--------------------------------------------------\n",
      "flow time: 3581, util : 0.792, makespan : 213\n",
      "n_episode: 924, score : -1278.0, n_buffer : 10000, eps : 1.0%\n",
      "--------------------------------------------------\n",
      "flow time: 2676, util : 0.768, makespan : 249\n",
      "n_episode: 925, score : -1494.0, n_buffer : 10000, eps : 1.0%\n",
      "--------------------------------------------------\n",
      "flow time: 3634, util : 0.804, makespan : 217\n",
      "n_episode: 926, score : -1302.0, n_buffer : 10000, eps : 1.0%\n",
      "--------------------------------------------------\n",
      "flow time: 3330, util : 0.778, makespan : 230\n",
      "n_episode: 927, score : -1380.0, n_buffer : 10000, eps : 1.0%\n",
      "--------------------------------------------------\n",
      "flow time: 3585, util : 0.789, makespan : 225\n",
      "n_episode: 928, score : -1350.0, n_buffer : 10000, eps : 1.0%\n",
      "--------------------------------------------------\n",
      "flow time: 3529, util : 0.794, makespan : 218\n",
      "n_episode: 929, score : -1308.0, n_buffer : 10000, eps : 1.0%\n",
      "--------------------------------------------------\n",
      "flow time: 2638, util : 0.786, makespan : 238\n",
      "n_episode: 930, score : -1428.0, n_buffer : 10000, eps : 1.0%\n",
      "--------------------------------------------------\n",
      "flow time: 3684, util : 0.827, makespan : 223\n",
      "n_episode: 931, score : -1338.0, n_buffer : 10000, eps : 1.0%\n",
      "--------------------------------------------------\n",
      "flow time: 3743, util : 0.813, makespan : 242\n",
      "n_episode: 932, score : -1452.0, n_buffer : 10000, eps : 1.0%\n",
      "--------------------------------------------------\n",
      "flow time: 3486, util : 0.799, makespan : 213\n",
      "n_episode: 933, score : -1278.0, n_buffer : 10000, eps : 1.0%\n",
      "--------------------------------------------------\n",
      "flow time: 3745, util : 0.786, makespan : 249\n",
      "n_episode: 934, score : -1494.0, n_buffer : 10000, eps : 1.0%\n",
      "--------------------------------------------------\n",
      "flow time: 2814, util : 0.805, makespan : 225\n",
      "n_episode: 935, score : -1350.0, n_buffer : 10000, eps : 1.0%\n",
      "--------------------------------------------------\n",
      "flow time: 3665, util : 0.821, makespan : 264\n",
      "n_episode: 936, score : -1584.0, n_buffer : 10000, eps : 1.0%\n",
      "--------------------------------------------------\n",
      "flow time: 4015, util : 0.820, makespan : 257\n",
      "n_episode: 937, score : -1542.0, n_buffer : 10000, eps : 1.0%\n"
     ]
    },
    {
     "name": "stdout",
     "output_type": "stream",
     "text": [
      "--------------------------------------------------\n",
      "flow time: 2717, util : 0.649, makespan : 293\n",
      "n_episode: 938, score : -1758.0, n_buffer : 10000, eps : 1.0%\n",
      "--------------------------------------------------\n",
      "flow time: 3087, util : 0.790, makespan : 231\n",
      "n_episode: 939, score : -1386.0, n_buffer : 10000, eps : 1.0%\n",
      "--------------------------------------------------\n",
      "flow time: 2725, util : 0.728, makespan : 276\n",
      "n_episode: 940, score : -1656.0, n_buffer : 10000, eps : 1.0%\n",
      "--------------------------------------------------\n",
      "flow time: 3167, util : 0.811, makespan : 213\n",
      "n_episode: 941, score : -1278.0, n_buffer : 10000, eps : 1.0%\n",
      "--------------------------------------------------\n",
      "flow time: 3319, util : 0.822, makespan : 228\n",
      "n_episode: 942, score : -1368.0, n_buffer : 10000, eps : 1.0%\n",
      "--------------------------------------------------\n",
      "flow time: 3510, util : 0.800, makespan : 213\n",
      "n_episode: 943, score : -1278.0, n_buffer : 10000, eps : 1.0%\n",
      "--------------------------------------------------\n",
      "flow time: 3494, util : 0.791, makespan : 217\n",
      "n_episode: 944, score : -1302.0, n_buffer : 10000, eps : 1.0%\n",
      "--------------------------------------------------\n",
      "flow time: 2640, util : 0.788, makespan : 237\n",
      "n_episode: 945, score : -1422.0, n_buffer : 10000, eps : 1.0%\n",
      "--------------------------------------------------\n",
      "flow time: 3330, util : 0.680, makespan : 261\n",
      "n_episode: 946, score : -1566.0, n_buffer : 10000, eps : 1.0%\n",
      "--------------------------------------------------\n",
      "flow time: 3581, util : 0.792, makespan : 213\n",
      "n_episode: 947, score : -1278.0, n_buffer : 10000, eps : 1.0%\n",
      "--------------------------------------------------\n",
      "flow time: 2573, util : 0.721, makespan : 259\n",
      "n_episode: 948, score : -1554.0, n_buffer : 10000, eps : 1.0%\n",
      "--------------------------------------------------\n",
      "flow time: 3806, util : 0.826, makespan : 223\n",
      "n_episode: 949, score : -1338.0, n_buffer : 10000, eps : 1.0%\n",
      "--------------------------------------------------\n",
      "flow time: 2672, util : 0.696, makespan : 276\n",
      "n_episode: 950, score : -1656.0, n_buffer : 10000, eps : 1.0%\n",
      "--------------------------------------------------\n",
      "flow time: 3385, util : 0.822, makespan : 212\n",
      "n_episode: 951, score : -1272.0, n_buffer : 10000, eps : 1.0%\n",
      "--------------------------------------------------\n",
      "flow time: 3387, util : 0.777, makespan : 219\n",
      "n_episode: 952, score : -1314.0, n_buffer : 10000, eps : 1.0%\n",
      "--------------------------------------------------\n",
      "flow time: 2651, util : 0.806, makespan : 226\n",
      "n_episode: 953, score : -1356.0, n_buffer : 10000, eps : 1.0%\n",
      "--------------------------------------------------\n",
      "flow time: 2632, util : 0.742, makespan : 273\n",
      "n_episode: 954, score : -1638.0, n_buffer : 10000, eps : 1.0%\n",
      "--------------------------------------------------\n",
      "flow time: 3247, util : 0.746, makespan : 293\n",
      "n_episode: 955, score : -1758.0, n_buffer : 10000, eps : 1.0%\n",
      "--------------------------------------------------\n",
      "flow time: 3009, util : 0.841, makespan : 231\n",
      "n_episode: 956, score : -1386.0, n_buffer : 10000, eps : 1.0%\n",
      "--------------------------------------------------\n",
      "flow time: 3583, util : 0.804, makespan : 227\n",
      "n_episode: 957, score : -1362.0, n_buffer : 10000, eps : 1.0%\n",
      "--------------------------------------------------\n",
      "flow time: 2678, util : 0.800, makespan : 277\n",
      "n_episode: 958, score : -1662.0, n_buffer : 10000, eps : 1.0%\n",
      "--------------------------------------------------\n",
      "flow time: 2909, util : 0.806, makespan : 257\n",
      "n_episode: 959, score : -1542.0, n_buffer : 10000, eps : 1.0%\n",
      "--------------------------------------------------\n",
      "flow time: 3235, util : 0.752, makespan : 232\n",
      "n_episode: 960, score : -1392.0, n_buffer : 10000, eps : 1.0%\n",
      "--------------------------------------------------\n",
      "flow time: 2689, util : 0.756, makespan : 248\n",
      "n_episode: 961, score : -1488.0, n_buffer : 10000, eps : 1.0%\n",
      "--------------------------------------------------\n",
      "flow time: 4138, util : 0.824, makespan : 257\n",
      "n_episode: 962, score : -1542.0, n_buffer : 10000, eps : 1.0%\n",
      "--------------------------------------------------\n",
      "flow time: 3588, util : 0.786, makespan : 220\n",
      "n_episode: 963, score : -1320.0, n_buffer : 10000, eps : 1.0%\n",
      "--------------------------------------------------\n",
      "flow time: 3491, util : 0.786, makespan : 213\n",
      "n_episode: 964, score : -1278.0, n_buffer : 10000, eps : 1.0%\n",
      "--------------------------------------------------\n",
      "flow time: 3144, util : 0.767, makespan : 244\n",
      "n_episode: 965, score : -1464.0, n_buffer : 10000, eps : 1.0%\n",
      "--------------------------------------------------\n",
      "flow time: 3195, util : 0.824, makespan : 257\n",
      "n_episode: 966, score : -1542.0, n_buffer : 10000, eps : 1.0%\n",
      "--------------------------------------------------\n",
      "flow time: 3956, util : 0.798, makespan : 236\n",
      "n_episode: 967, score : -1416.0, n_buffer : 10000, eps : 1.0%\n",
      "--------------------------------------------------\n",
      "flow time: 3619, util : 0.828, makespan : 239\n",
      "n_episode: 968, score : -1434.0, n_buffer : 10000, eps : 1.0%\n",
      "--------------------------------------------------\n",
      "flow time: 3933, util : 0.802, makespan : 253\n",
      "n_episode: 969, score : -1518.0, n_buffer : 10000, eps : 1.0%\n",
      "--------------------------------------------------\n",
      "flow time: 3592, util : 0.799, makespan : 213\n",
      "n_episode: 970, score : -1278.0, n_buffer : 10000, eps : 1.0%\n",
      "--------------------------------------------------\n",
      "flow time: 2866, util : 0.770, makespan : 282\n",
      "n_episode: 971, score : -1692.0, n_buffer : 10000, eps : 1.0%\n",
      "--------------------------------------------------\n",
      "flow time: 3623, util : 0.794, makespan : 220\n",
      "n_episode: 972, score : -1320.0, n_buffer : 10000, eps : 1.0%\n",
      "--------------------------------------------------\n",
      "flow time: 2675, util : 0.793, makespan : 233\n",
      "n_episode: 973, score : -1398.0, n_buffer : 10000, eps : 1.0%\n",
      "--------------------------------------------------\n",
      "flow time: 3605, util : 0.790, makespan : 221\n",
      "n_episode: 974, score : -1326.0, n_buffer : 10000, eps : 1.0%\n",
      "--------------------------------------------------\n",
      "flow time: 2767, util : 0.783, makespan : 292\n",
      "n_episode: 975, score : -1752.0, n_buffer : 10000, eps : 1.0%\n",
      "--------------------------------------------------\n",
      "flow time: 2636, util : 0.801, makespan : 233\n",
      "n_episode: 976, score : -1398.0, n_buffer : 10000, eps : 1.0%\n",
      "--------------------------------------------------\n",
      "flow time: 3425, util : 0.795, makespan : 215\n",
      "n_episode: 977, score : -1290.0, n_buffer : 10000, eps : 1.0%\n",
      "--------------------------------------------------\n",
      "flow time: 2633, util : 0.750, makespan : 263\n",
      "n_episode: 978, score : -1578.0, n_buffer : 10000, eps : 1.0%\n",
      "--------------------------------------------------\n",
      "flow time: 3547, util : 0.812, makespan : 208\n",
      "n_episode: 979, score : -1248.0, n_buffer : 10000, eps : 1.0%\n",
      "--------------------------------------------------\n",
      "flow time: 2606, util : 0.780, makespan : 239\n",
      "n_episode: 980, score : -1434.0, n_buffer : 10000, eps : 1.0%\n",
      "--------------------------------------------------\n",
      "flow time: 2785, util : 0.797, makespan : 270\n",
      "n_episode: 981, score : -1620.0, n_buffer : 10000, eps : 1.0%\n",
      "--------------------------------------------------\n",
      "flow time: 2627, util : 0.770, makespan : 248\n",
      "n_episode: 982, score : -1488.0, n_buffer : 10000, eps : 1.0%\n",
      "--------------------------------------------------\n",
      "flow time: 2631, util : 0.807, makespan : 231\n",
      "n_episode: 983, score : -1386.0, n_buffer : 10000, eps : 1.0%\n",
      "--------------------------------------------------\n",
      "flow time: 2701, util : 0.821, makespan : 273\n",
      "n_episode: 984, score : -1638.0, n_buffer : 10000, eps : 1.0%\n",
      "--------------------------------------------------\n",
      "flow time: 2636, util : 0.801, makespan : 233\n",
      "n_episode: 985, score : -1398.0, n_buffer : 10000, eps : 1.0%\n",
      "--------------------------------------------------\n",
      "flow time: 3577, util : 0.788, makespan : 220\n",
      "n_episode: 986, score : -1320.0, n_buffer : 10000, eps : 1.0%\n",
      "--------------------------------------------------\n",
      "flow time: 3471, util : 0.719, makespan : 250\n",
      "n_episode: 987, score : -1500.0, n_buffer : 10000, eps : 1.0%\n",
      "--------------------------------------------------\n",
      "flow time: 2719, util : 0.750, makespan : 246\n",
      "n_episode: 988, score : -1476.0, n_buffer : 10000, eps : 1.0%\n",
      "--------------------------------------------------\n",
      "flow time: 3226, util : 0.727, makespan : 246\n",
      "n_episode: 989, score : -1476.0, n_buffer : 10000, eps : 1.0%\n"
     ]
    },
    {
     "name": "stdout",
     "output_type": "stream",
     "text": [
      "--------------------------------------------------\n",
      "flow time: 3610, util : 0.790, makespan : 219\n",
      "n_episode: 990, score : -1314.0, n_buffer : 10000, eps : 1.0%\n",
      "--------------------------------------------------\n",
      "flow time: 3455, util : 0.777, makespan : 220\n",
      "n_episode: 991, score : -1320.0, n_buffer : 10000, eps : 1.0%\n",
      "--------------------------------------------------\n",
      "flow time: 3525, util : 0.809, makespan : 211\n",
      "n_episode: 992, score : -1266.0, n_buffer : 10000, eps : 1.0%\n",
      "--------------------------------------------------\n",
      "flow time: 3555, util : 0.792, makespan : 219\n",
      "n_episode: 993, score : -1314.0, n_buffer : 10000, eps : 1.0%\n",
      "--------------------------------------------------\n",
      "flow time: 3491, util : 0.786, makespan : 213\n",
      "n_episode: 994, score : -1278.0, n_buffer : 10000, eps : 1.0%\n",
      "--------------------------------------------------\n",
      "flow time: 2715, util : 0.652, makespan : 294\n",
      "n_episode: 995, score : -1764.0, n_buffer : 10000, eps : 1.0%\n",
      "--------------------------------------------------\n",
      "flow time: 3558, util : 0.803, makespan : 218\n",
      "n_episode: 996, score : -1308.0, n_buffer : 10000, eps : 1.0%\n",
      "--------------------------------------------------\n",
      "flow time: 4947, util : 0.824, makespan : 278\n",
      "n_episode: 997, score : -1668.0, n_buffer : 10000, eps : 1.0%\n",
      "--------------------------------------------------\n",
      "flow time: 4234, util : 0.836, makespan : 255\n",
      "n_episode: 998, score : -1530.0, n_buffer : 10000, eps : 1.0%\n",
      "--------------------------------------------------\n",
      "flow time: 3581, util : 0.792, makespan : 213\n",
      "n_episode: 999, score : -1278.0, n_buffer : 10000, eps : 1.0%\n",
      "[-385.80343628 -401.92666626 -395.74942017 -387.57147217 -391.37805176\n",
      " -403.39889526]\n",
      "0\n",
      "-5\n",
      "[-392.97714233 -407.79223633 -401.93722534 -393.60345459 -396.75250244\n",
      " -409.47543335]\n",
      "0\n",
      "-5\n",
      "[-401.46090698 -415.62600708 -409.80200195 -401.49612427 -404.29241943\n",
      " -417.40109253]\n",
      "0\n",
      "-5\n",
      "[-410.77880859 -424.52667236 -418.55749512 -410.42694092 -412.89389038\n",
      " -426.36672974]\n",
      "3\n",
      "-14\n",
      "[-407.65853882 -422.01733398 -415.78579712 -407.64614868 -410.27410889\n",
      " -423.69699097]\n",
      "3\n",
      "-10\n",
      "[-410.61141968 -425.4850769  -419.34683228 -410.66494751 -413.39996338\n",
      " -427.04812622]\n",
      "0\n",
      "-5\n",
      "[-418.01870728 -434.22982788 -427.95046997 -418.5960083  -421.84356689\n",
      " -435.76644897]\n",
      "0\n",
      "-10\n",
      "[-420.81072998 -436.36734009 -430.2850647  -420.89550781 -423.83392334\n",
      " -437.90921021]\n",
      "0\n",
      "-5\n",
      "[-429.08285522 -443.74249268 -437.71185303 -428.45220947 -430.91183472\n",
      " -445.35430908]\n",
      "3\n",
      "-7\n",
      "[-431.40158081 -446.03311157 -439.98867798 -430.73736572 -433.14047241\n",
      " -447.60629272]\n",
      "3\n",
      "-16\n",
      "[-433.69055176 -448.78994751 -442.98986816 -433.08670044 -435.72241211\n",
      " -450.17977905]\n",
      "3\n",
      "-12\n",
      "[-436.56973267 -451.52877808 -445.75924683 -435.77694702 -438.36346436\n",
      " -452.92752075]\n",
      "3\n",
      "-7\n",
      "[-442.45840454 -457.66470337 -451.76824951 -441.60662842 -444.14013672\n",
      " -459.00527954]\n",
      "3\n",
      "-10\n",
      "[-446.74685669 -462.16537476 -456.06030273 -445.86450195 -448.355896\n",
      " -463.49145508]\n",
      "3\n",
      "-8\n",
      "[-450.56539917 -465.9956665  -460.05981445 -449.75091553 -452.24276733\n",
      " -467.29568481]\n",
      "3\n",
      "-13\n",
      "[-449.9670105  -465.25741577 -459.36169434 -449.17080688 -451.63912964\n",
      " -466.48031616]\n",
      "3\n",
      "-10\n",
      "[-449.362854   -464.48986816 -458.58639526 -448.45462036 -450.83602905\n",
      " -465.72842407]\n",
      "3\n",
      "-13\n",
      "[-459.97692871 -475.20007324 -469.42672729 -459.0274353  -461.36090088\n",
      " -476.3961792 ]\n",
      "3\n",
      "-9\n",
      "[-463.64074707 -478.71133423 -472.92910767 -462.62530518 -464.93237305\n",
      " -479.95117188]\n",
      "3\n",
      "-9\n",
      "[-463.35754395 -478.43692017 -472.75634766 -462.43862915 -464.77075195\n",
      " -479.64776611]\n",
      "3\n",
      "-14\n",
      "[-462.62289429 -477.70175171 -472.21151733 -461.83282471 -464.16345215\n",
      " -478.84210205]\n",
      "3\n",
      "-14\n",
      "[-453.82614136 -468.74273682 -463.46829224 -453.21588135 -455.49130249\n",
      " -469.78860474]\n",
      "3\n",
      "-18\n",
      "[-451.31140137 -466.40151978 -461.15658569 -450.6993103  -452.96612549\n",
      " -467.29907227]\n",
      "3\n",
      "-13\n",
      "[-453.98410034 -469.04315186 -463.83987427 -453.30700684 -455.61016846\n",
      " -469.97085571]\n",
      "3\n",
      "-15\n",
      "[-451.67602539 -466.86260986 -461.71081543 -451.20019531 -453.58084106\n",
      " -467.74459839]\n",
      "3\n",
      "-13\n",
      "[-448.89306641 -464.28778076 -459.61367798 -448.64331055 -451.14642334\n",
      " -465.0324707 ]\n",
      "3\n",
      "-6\n",
      "[-454.74859619 -470.34802246 -465.63674927 -454.50976562 -457.03222656\n",
      " -471.11361694]\n",
      "3\n",
      "-9\n",
      "[-464.02993774 -479.915802   -475.28634644 -463.94046021 -466.44439697\n",
      " -480.73516846]\n",
      "3\n",
      "-19\n",
      "[-457.09109497 -472.93054199 -468.46981812 -456.97750854 -459.47854614\n",
      " -473.68795776]\n",
      "3\n",
      "-9\n",
      "[-459.45965576 -475.29443359 -470.84701538 -459.31906128 -461.8510437\n",
      " -476.08566284]\n",
      "3\n",
      "-14\n",
      "[-459.5897522  -475.22390747 -470.79492188 -459.40621948 -461.89862061\n",
      " -475.96099854]\n",
      "3\n",
      "-16\n",
      "[-454.83309937 -470.47445679 -465.93139648 -454.70346069 -457.12823486\n",
      " -471.16900635]\n",
      "3\n",
      "-8\n",
      "[-458.1781311  -473.72445679 -469.2918396  -457.97644043 -460.37664795\n",
      " -474.37619019]\n",
      "3\n",
      "-14\n",
      "[-454.41268921 -469.49267578 -464.89685059 -454.12658691 -456.39117432\n",
      " -470.11114502]\n",
      "3\n",
      "-17\n",
      "[-451.16055298 -466.41452026 -461.87335205 -450.86242676 -453.25894165\n",
      " -467.03829956]\n",
      "3\n",
      "-8\n",
      "[-461.31881714 -476.90237427 -472.47763062 -461.11419678 -463.50598145\n",
      " -477.49227905]\n",
      "3\n",
      "-7\n",
      "[-461.57965088 -477.16836548 -472.71884155 -461.34689331 -463.73565674\n",
      " -477.73760986]\n",
      "3\n",
      "-19\n",
      "[-457.24087524 -472.58102417 -468.15197754 -456.95425415 -459.19317627\n",
      " -473.12664795]\n",
      "3\n",
      "-13\n",
      "[-455.52792358 -470.7975769  -466.3343811  -455.25985718 -457.45950317\n",
      " -471.32382202]\n",
      "3\n",
      "-14\n",
      "[-455.77108765 -470.82183838 -466.4190979  -455.38461304 -457.59997559\n",
      " -471.35400391]\n",
      "3\n",
      "-10\n",
      "[-465.42462158 -480.81118774 -476.41366577 -465.30700684 -467.57434082\n",
      " -481.32086182]\n",
      "3\n",
      "-16\n",
      "[-461.96115112 -477.3470459  -472.89395142 -461.82870483 -464.00460815\n",
      " -477.73251343]\n",
      "3\n",
      "-5\n",
      "[-459.60317993 -474.90237427 -470.49539185 -459.46969604 -461.63806152\n",
      " -475.29116821]\n",
      "3\n",
      "-25\n",
      "[-450.63537598 -465.23901367 -460.83999634 -450.5668335  -452.37670898\n",
      " -465.51321411]\n",
      "3\n",
      "-17\n",
      "[-447.97790527 -462.29833984 -458.17422485 -447.89889526 -449.73666382\n",
      " -462.59185791]\n",
      "3\n",
      "-13\n",
      "[-447.30056763 -461.47668457 -457.36752319 -447.28421021 -449.09725952\n",
      " -461.74716187]\n",
      "3\n",
      "-12\n",
      "[-449.01620483 -462.97155762 -458.978302   -448.98199463 -450.7088623\n",
      " -463.21151733]\n",
      "3\n",
      "-11\n",
      "[-449.07315063 -462.98623657 -458.99942017 -449.02386475 -450.71868896\n",
      " -463.20425415]\n",
      "3\n",
      "-7\n",
      "[-445.07852173 -458.81118774 -454.82977295 -445.025177   -446.65539551\n",
      " -458.97460938]\n",
      "3\n",
      "-7\n",
      "[-447.62069702 -461.41592407 -457.3850708  -447.57232666 -449.22143555\n",
      " -461.60568237]\n",
      "3\n",
      "-12\n",
      "[-444.72116089 -458.478302   -454.82522583 -444.64019775 -446.47576904\n",
      " -459.0428772 ]\n",
      "3\n",
      "-11\n",
      "[-445.16296387 -458.91775513 -455.23995972 -445.06253052 -446.85980225\n",
      " -459.4390564 ]\n",
      "3\n",
      "-15\n",
      "[-440.36248779 -453.95162964 -450.40078735 -440.25247192 -441.96420288\n",
      " -454.57281494]\n",
      "3\n",
      "-16\n",
      "[-439.61328125 -453.17538452 -449.6907959  -439.48648071 -441.22473145\n",
      " -453.80471802]\n",
      "3\n",
      "-11\n",
      "[-440.30941772 -454.05383301 -450.54141235 -440.22879028 -442.01901245\n",
      " -454.80117798]\n",
      "3\n",
      "-8\n",
      "[-436.01150513 -449.68096924 -446.28231812 -435.89141846 -437.69070435\n",
      " -450.63116455]\n",
      "3\n",
      "-5\n",
      "[-435.9145813  -449.58169556 -446.20581055 -435.78408813 -437.5838623\n",
      " -450.54733276]\n",
      "3\n",
      "-5\n",
      "[-442.39328003 -456.31866455 -452.9571228  -442.33688354 -444.24078369\n",
      " -457.43075562]\n",
      "3\n",
      "-13\n",
      "[-440.6867981  -454.51171875 -450.95462036 -440.62860107 -442.31951904\n",
      " -455.31106567]\n",
      "3\n",
      "-17\n",
      "[-429.45440674 -443.16088867 -440.00479126 -429.57635498 -431.42199707\n",
      " -444.24487305]\n",
      "0\n",
      "-10\n",
      "[-425.98239136 -439.49389648 -436.51974487 -426.17605591 -428.00653076\n",
      " -440.62255859]\n",
      "0\n",
      "-10\n",
      "[-431.75546265 -445.69836426 -442.72595215 -432.19812012 -434.09625244\n",
      " -446.8934021 ]\n",
      "0\n",
      "-7\n",
      "[-434.63897705 -448.68151855 -445.69665527 -435.06536865 -436.97186279\n",
      " -449.9303894 ]\n",
      "0\n",
      "-11\n",
      "[-435.64279175 -449.62197876 -446.89547729 -436.0211792  -438.01245117\n",
      " -451.0451355 ]\n",
      "0\n",
      "-6\n",
      "[-435.7928772  -449.72824097 -446.99261475 -436.1083374  -438.09378052\n",
      " -451.28897095]\n",
      "0\n",
      "-14\n",
      "[-438.06204224 -451.90701294 -449.23171997 -438.39205933 -440.30767822\n",
      " -453.48913574]\n",
      "0\n",
      "-12\n",
      "[-445.1781311  -459.2414856  -456.82510376 -445.46398926 -447.45861816\n",
      " -461.20129395]\n",
      "0\n",
      "-12\n",
      "[-445.58831787 -459.73638916 -457.62167358 -445.81060791 -448.04202271\n",
      " -462.16567993]\n",
      "0\n",
      "-9\n",
      "[-446.17498779 -460.23568726 -458.36804199 -446.33996582 -448.66098022\n",
      " -462.80252075]\n",
      "0\n",
      "-10\n",
      "[-446.06369019 -460.22494507 -458.42495728 -446.22680664 -448.53485107\n",
      " -462.97265625]\n",
      "0\n",
      "-15\n",
      "[-439.0696106  -452.90957642 -451.02578735 -439.14324951 -441.32003784\n",
      " -455.65844727]\n",
      "0\n",
      "-14\n",
      "[-436.39657593 -449.96560669 -448.23703003 -436.46740723 -438.69244385\n",
      " -452.69503784]\n",
      "0\n",
      "-13\n",
      "[-439.47976685 -453.09011841 -451.74127197 -439.45306396 -441.74761963\n",
      " -456.18392944]\n",
      "3\n",
      "-16\n",
      "[-438.57022095 -451.67700195 -450.43716431 -438.47338867 -440.56140137\n",
      " -454.71691895]\n",
      "3\n",
      "-14\n",
      "[-431.77877808 -444.65594482 -443.73666382 -431.78158569 -433.90948486\n",
      " -447.94436646]\n",
      "0\n",
      "-17\n",
      "[-424.7081604  -436.93734741 -436.03744507 -424.85321045 -426.82885742\n",
      " -439.88891602]\n",
      "0\n"
     ]
    },
    {
     "name": "stdout",
     "output_type": "stream",
     "text": [
      "-10\n",
      "[-414.72711182 -426.48773193 -425.6817627  -414.81265259 -416.75170898\n",
      " -429.47927856]\n",
      "0\n",
      "-8\n",
      "[-414.73406982 -426.1434021  -425.73391724 -414.6652832  -416.62661743\n",
      " -429.42868042]\n",
      "3\n",
      "-16\n",
      "[-405.25726318 -415.87936401 -415.27682495 -405.31182861 -406.96710205\n",
      " -418.722229  ]\n",
      "0\n",
      "-13\n",
      "[-401.96524048 -412.66021729 -412.17211914 -402.23318481 -403.89599609\n",
      " -415.59829712]\n",
      "0\n",
      "-16\n",
      "[-393.38009644 -403.31942749 -402.81610107 -393.64770508 -395.01754761\n",
      " -406.07046509]\n",
      "0\n",
      "-16\n",
      "[-386.86773682 -396.41732788 -395.80233765 -387.27810669 -388.46640015\n",
      " -398.88116455]\n",
      "0\n",
      "-15\n",
      "[-376.53872681 -385.59024048 -385.36605835 -377.04782104 -378.2381897\n",
      " -388.15725708]\n",
      "0\n",
      "-12\n",
      "[-374.10421753 -383.29885864 -383.44216919 -374.68161011 -375.94329834\n",
      " -386.16305542]\n",
      "0\n",
      "-16\n",
      "[-370.05462646 -379.36901855 -379.48321533 -370.70117188 -372.01419067\n",
      " -382.42752075]\n",
      "0\n",
      "-11\n",
      "[-359.93469238 -368.56869507 -368.80911255 -360.62634277 -361.80908203\n",
      " -371.45278931]\n",
      "0\n",
      "-18\n",
      "[-348.90087891 -357.31161499 -357.99264526 -349.55792236 -350.86383057\n",
      " -360.55123901]\n",
      "0\n",
      "-18\n",
      "[-339.3687439  -346.95541382 -347.89413452 -340.10882568 -341.22247314\n",
      " -350.13034058]\n",
      "0\n",
      "-15\n",
      "[-329.01083374 -335.6065979  -336.73690796 -329.78549194 -330.66659546\n",
      " -338.57608032]\n",
      "0\n",
      "-14\n",
      "[-320.82876587 -327.12289429 -328.20254517 -321.72143555 -322.52734375\n",
      " -329.94284058]\n",
      "0\n",
      "-14\n",
      "[-309.56552124 -315.0798645  -316.34277344 -310.52139282 -311.17251587\n",
      " -317.65292358]\n",
      "0\n",
      "-14\n",
      "[-306.7953186  -312.34439087 -313.60153198 -307.80383301 -308.4576416\n",
      " -315.00601196]\n",
      "0\n",
      "-5\n",
      "[-297.55636597 -302.78448486 -304.04275513 -298.65606689 -299.24371338\n",
      " -305.35025024]\n",
      "0\n",
      "-16\n",
      "[-276.70623779 -280.72561646 -281.87670898 -277.91003418 -278.10626221\n",
      " -282.93087769]\n",
      "0\n",
      "-17\n",
      "[-263.82333374 -267.97171021 -269.5579834  -265.3578186  -265.70532227\n",
      " -270.23397827]\n",
      "0\n",
      "-15\n",
      "[-243.44247437 -246.37605286 -248.0252533  -245.00218201 -245.07048035\n",
      " -248.36248779]\n",
      "0\n",
      "-22\n",
      "[-231.91140747 -234.11210632 -235.65161133 -233.61997986 -233.47740173\n",
      " -235.73603821]\n",
      "0\n",
      "-28\n",
      "[-214.69851685 -215.7151947  -217.45320129 -216.47009277 -216.06773376\n",
      " -216.94859314]\n",
      "0\n",
      "-23\n",
      "[-196.65979004 -196.47348022 -198.52037048 -198.42607117 -197.79801941\n",
      " -197.44833374]\n",
      "1\n",
      "-1\n",
      "[-196.61929321 -196.41873169 -198.47349548 -198.38925171 -197.75666809\n",
      " -197.39303589]\n",
      "1\n",
      "-1\n",
      "[-196.67987061 -196.47290039 -198.52870178 -198.45329285 -197.82090759\n",
      " -197.45079041]\n",
      "1\n",
      "-1\n",
      "[-196.63935852 -196.4181366  -198.48179626 -198.41644287 -197.77955627\n",
      " -197.39549255]\n",
      "1\n",
      "-12\n",
      "[-187.3163147  -186.48698425 -188.98170471 -189.0693512  -188.42127991\n",
      " -187.32644653]\n",
      "1\n",
      "-3\n",
      "[-189.34321594 -188.62054443 -191.14273071 -191.08232117 -190.47267151\n",
      " -189.51029968]\n",
      "1\n",
      "-3\n",
      "[-189.68566895 -188.94058228 -191.46228027 -191.43147278 -190.82080078\n",
      " -189.83343506]\n",
      "1\n",
      "-6\n",
      "[-193.73945618 -193.20770264 -195.7842865  -195.45741272 -194.92358398\n",
      " -194.20114136]\n",
      "1\n",
      "-6\n",
      "[-194.42440796 -193.84776306 -196.42338562 -196.15570068 -195.61982727\n",
      " -194.84741211]\n",
      "1\n",
      "-3\n",
      "[-196.45129395 -195.98132324 -198.58441162 -198.16868591 -197.67123413\n",
      " -197.03125   ]\n",
      "1\n",
      "-3\n",
      "[-196.79376221 -196.30136108 -198.90394592 -198.51782227 -198.01934814\n",
      " -197.35438538]\n",
      "1\n",
      "-3\n",
      "[-196.93811035 -196.45834351 -199.03909302 -198.67672729 -198.1758728\n",
      " -197.50201416]\n",
      "1\n",
      "-31\n",
      "[-209.52716064 -210.31393433 -212.77120972 -211.4158783  -211.35736084\n",
      " -211.78503418]\n",
      "0\n",
      "-2\n",
      "[-210.91339111 -211.77398682 -214.25205994 -212.79504395 -212.76268005\n",
      " -213.27964783]\n",
      "0\n",
      "-2\n",
      "[-211.09410095 -211.93606567 -214.41041565 -212.97720337 -212.94343567\n",
      " -213.44238281]\n",
      "0\n",
      "-2\n",
      "[-211.15194702 -211.96464539 -214.45362854 -213.04098511 -212.99732971\n",
      " -213.46496582]\n",
      "0\n",
      "-1\n",
      "[-211.84506226 -212.69470215 -215.19407654 -213.73059082 -213.69999695\n",
      " -214.21226501]\n",
      "0\n",
      "-1\n",
      "[-212.2817688  -213.1569519  -215.65515137 -214.16668701 -214.14201355\n",
      " -214.68371582]\n",
      "0\n",
      "-1\n",
      "[-212.37213135 -213.23797607 -215.73431396 -214.25778198 -214.23240662\n",
      " -214.76506042]\n",
      "0\n",
      "-1\n",
      "[-212.40103149 -213.25227356 -215.75592041 -214.28965759 -214.25932312\n",
      " -214.77635193]\n",
      "0\n",
      "-1\n",
      "[-213.09417725 -213.98231506 -216.49635315 -214.97926331 -214.96199036\n",
      " -215.52366638]\n",
      "0\n",
      "-1\n",
      "[-213.53089905 -214.44458008 -216.95742798 -215.41539001 -215.40400696\n",
      " -215.99511719]\n",
      "0\n",
      "-1\n",
      "[-213.62124634 -214.52561951 -217.03660583 -215.50645447 -215.49440002\n",
      " -216.07644653]\n",
      "0\n",
      "-1\n",
      "[-213.65014648 -214.53991699 -217.05819702 -215.53831482 -215.52133179\n",
      " -216.08773804]\n",
      "0\n",
      "-1\n",
      "[-213.5275116  -214.40386963 -216.92680359 -215.41871643 -215.39918518\n",
      " -215.94610596]\n",
      "0\n",
      "-27\n",
      "[-232.24188232 -234.11468506 -236.91833496 -234.03773499 -234.37098694\n",
      " -236.12358093]\n",
      "0\n",
      "-27\n",
      "[-244.03337097 -246.59576416 -249.36732483 -245.81309509 -246.30534363\n",
      " -248.85247803]\n",
      "0\n",
      "-27\n",
      "[-246.47296143 -248.78379822 -251.50514221 -248.27206421 -248.74557495\n",
      " -251.04928589]\n",
      "0\n",
      "-27\n",
      "[-247.25361633 -249.16998291 -252.08857727 -249.13310242 -249.47322083\n",
      " -251.35392761]\n",
      "0\n",
      "-27\n",
      "[-243.94244385 -245.49658203 -248.54055786 -245.90361023 -246.17504883\n",
      " -247.52981567]\n",
      "0\n",
      "0\n"
     ]
    },
    {
     "data": {
      "application/vnd.plotly.v1+json": {
       "config": {
        "plotlyServerURL": "https://plot.ly"
       },
       "data": [
        {
         "alignmentgroup": "True",
         "base": [
          "1970-01-02T19:00:00",
          "1970-01-03T08:00:00",
          "1970-01-07T06:00:00",
          "1970-01-01T19:00:00",
          "1970-01-06T08:00:00"
         ],
         "customdata": [
          [
           "MORSPT"
          ],
          [
           "MORSPT"
          ],
          [
           "SPT"
          ],
          [
           "MORSPT"
          ],
          [
           "SPT"
          ]
         ],
         "hovertemplate": "Type=j9<br>Start=%{base}<br>Finish=%{x}<br>Resource=%{y}<br>Task=%{text}<br>Rule=%{customdata[0]}<extra></extra>",
         "legendgroup": "j9",
         "marker": {
          "color": "#2E91E5",
          "line": {
           "color": "black"
          },
          "pattern": {
           "shape": ""
          }
         },
         "name": "j9",
         "offsetgroup": "j9",
         "orientation": "h",
         "showlegend": true,
         "text": [
          "j0902",
          "j0903",
          "j0905",
          "j0901",
          "j0904"
         ],
         "textposition": "auto",
         "type": "bar",
         "x": [
          46800000,
          28800000,
          28800000,
          43200000,
          43200000
         ],
         "xaxis": "x",
         "y": [
          "M6",
          "M6",
          "M6",
          "M2",
          "M1"
         ],
         "yaxis": "y"
        },
        {
         "alignmentgroup": "True",
         "base": [
          "1970-01-07T14:00:00",
          "1970-01-06T19:00:00",
          "1970-01-08T03:00:00",
          "1970-01-02T07:00:00",
          "1970-01-02T16:00:00",
          "1970-01-03T05:00:00",
          "1970-01-01T14:00:00"
         ],
         "customdata": [
          [
           "SPT"
          ],
          [
           "MORSPT"
          ],
          [
           "SPT"
          ],
          [
           "MORSPT"
          ],
          [
           "MORSPT"
          ],
          [
           "MORSPT"
          ],
          [
           "SPT"
          ]
         ],
         "hovertemplate": "Type=j7<br>Start=%{base}<br>Finish=%{x}<br>Resource=%{y}<br>Task=%{text}<br>Rule=%{customdata[0]}<extra></extra>",
         "legendgroup": "j7",
         "marker": {
          "color": "#E15F99",
          "line": {
           "color": "black"
          },
          "pattern": {
           "shape": ""
          }
         },
         "name": "j7",
         "offsetgroup": "j7",
         "orientation": "h",
         "showlegend": true,
         "text": [
          "j0706",
          "j0705",
          "j0707",
          "j0702",
          "j0703",
          "j0704",
          "j0701"
         ],
         "textposition": "auto",
         "type": "bar",
         "x": [
          43200000,
          57600000,
          64800000,
          32400000,
          46800000,
          32400000,
          36000000
         ],
         "xaxis": "x",
         "y": [
          "M6",
          "M4",
          "M4",
          "M3",
          "M2",
          "M2",
          "M1"
         ],
         "yaxis": "y"
        },
        {
         "alignmentgroup": "True",
         "base": [
          "1970-01-06T17:00:00",
          "1970-01-07T09:00:00",
          "1970-01-02T07:00:00"
         ],
         "customdata": [
          [
           "SPT"
          ],
          [
           "SPT"
          ],
          [
           "MORSPT"
          ]
         ],
         "hovertemplate": "Type=j6<br>Start=%{base}<br>Finish=%{x}<br>Resource=%{y}<br>Task=%{text}<br>Rule=%{customdata[0]}<extra></extra>",
         "legendgroup": "j6",
         "marker": {
          "color": "#1CA71C",
          "line": {
           "color": "black"
          },
          "pattern": {
           "shape": ""
          }
         },
         "name": "j6",
         "offsetgroup": "j6",
         "orientation": "h",
         "showlegend": true,
         "text": [
          "j0602",
          "j0603",
          "j0601"
         ],
         "textposition": "auto",
         "type": "bar",
         "x": [
          46800000,
          46800000,
          32400000
         ],
         "xaxis": "x",
         "y": [
          "M6",
          "M5",
          "M2"
         ],
         "yaxis": "y"
        },
        {
         "alignmentgroup": "True",
         "base": [
          "1970-01-05T19:00:00",
          "1970-01-02T16:00:00",
          "1970-01-06T08:00:00",
          "1970-01-03T07:00:00",
          "1970-01-03T21:00:00"
         ],
         "customdata": [
          [
           "SPT"
          ],
          [
           "MORSPT"
          ],
          [
           "SPT"
          ],
          [
           "MORSPT"
          ],
          [
           "MORSPT"
          ]
         ],
         "hovertemplate": "Type=j5<br>Start=%{base}<br>Finish=%{x}<br>Resource=%{y}<br>Task=%{text}<br>Rule=%{customdata[0]}<extra></extra>",
         "legendgroup": "j5",
         "marker": {
          "color": "#FB0D0D",
          "line": {
           "color": "black"
          },
          "pattern": {
           "shape": ""
          }
         },
         "name": "j5",
         "offsetgroup": "j5",
         "orientation": "h",
         "showlegend": true,
         "text": [
          "j0504",
          "j0501",
          "j0505",
          "j0502",
          "j0503"
         ],
         "textposition": "auto",
         "type": "bar",
         "x": [
          36000000,
          54000000,
          32400000,
          50400000,
          25200000
         ],
         "xaxis": "x",
         "y": [
          "M6",
          "M3",
          "M2",
          "M1",
          "M1"
         ],
         "yaxis": "y"
        },
        {
         "alignmentgroup": "True",
         "base": [
          "1970-01-03T16:00:00",
          "1970-01-01T19:00:00",
          "1970-01-01T09:00:00",
          "1970-01-01T14:00:00",
          "1970-01-06T17:00:00"
         ],
         "customdata": [
          [
           "MORSPT"
          ],
          [
           "MORSPT"
          ],
          [
           "SPT"
          ],
          [
           "SPT"
          ],
          [
           "SPT"
          ]
         ],
         "hovertemplate": "Type=j4<br>Start=%{base}<br>Finish=%{x}<br>Resource=%{y}<br>Task=%{text}<br>Rule=%{customdata[0]}<extra></extra>",
         "legendgroup": "j4",
         "marker": {
          "color": "#DA16FF",
          "line": {
           "color": "black"
          },
          "pattern": {
           "shape": ""
          }
         },
         "name": "j4",
         "offsetgroup": "j4",
         "orientation": "h",
         "showlegend": true,
         "text": [
          "j0404",
          "j0403",
          "j0401",
          "j0402",
          "j0405"
         ],
         "textposition": "auto",
         "type": "bar",
         "x": [
          28800000,
          25200000,
          18000000,
          18000000,
          50400000
         ],
         "xaxis": "x",
         "y": [
          "M6",
          "M5",
          "M2",
          "M2",
          "M2"
         ],
         "yaxis": "y"
        },
        {
         "alignmentgroup": "True",
         "base": [
          "1970-01-01T09:00:00",
          "1970-01-03T02:00:00",
          "1970-01-06T05:00:00",
          "1970-01-01T14:00:00"
         ],
         "customdata": [
          [
           "SPT"
          ],
          [
           "MORSPT"
          ],
          [
           "SPT"
          ],
          [
           "MORSPT"
          ]
         ],
         "hovertemplate": "Type=j3<br>Start=%{base}<br>Finish=%{x}<br>Resource=%{y}<br>Task=%{text}<br>Rule=%{customdata[0]}<extra></extra>",
         "legendgroup": "j3",
         "marker": {
          "color": "#222A2A",
          "line": {
           "color": "black"
          },
          "pattern": {
           "shape": ""
          }
         },
         "name": "j3",
         "offsetgroup": "j3",
         "orientation": "h",
         "showlegend": true,
         "text": [
          "j0301",
          "j0303",
          "j0304",
          "j0302"
         ],
         "textposition": "auto",
         "type": "bar",
         "x": [
          18000000,
          32400000,
          50400000,
          25200000
         ],
         "xaxis": "x",
         "y": [
          "M6",
          "M5",
          "M4",
          "M3"
         ],
         "yaxis": "y"
        },
        {
         "alignmentgroup": "True",
         "base": [
          "1970-01-08T20:00:00",
          "1970-01-01T09:00:00",
          "1970-01-04T11:00:00",
          "1970-01-05T19:00:00",
          "1970-01-09T13:00:00",
          "1970-01-02T00:00:00",
          "1970-01-10T01:00:00"
         ],
         "customdata": [
          [
           "SPT"
          ],
          [
           "MORSPT"
          ],
          [
           "MORSPT"
          ],
          [
           "MORSPT"
          ],
          [
           "SPTSSU"
          ],
          [
           "MORSPT"
          ],
          [
           "SPTSSU"
          ]
         ],
         "hovertemplate": "Type=j2<br>Start=%{base}<br>Finish=%{x}<br>Resource=%{y}<br>Task=%{text}<br>Rule=%{customdata[0]}<extra></extra>",
         "legendgroup": "j2",
         "marker": {
          "color": "#B68100",
          "line": {
           "color": "black"
          },
          "pattern": {
           "shape": ""
          }
         },
         "name": "j2",
         "offsetgroup": "j2",
         "orientation": "h",
         "showlegend": true,
         "text": [
          "j0205",
          "j0201",
          "j0203",
          "j0204",
          "j0206",
          "j0202",
          "j0207"
         ],
         "textposition": "auto",
         "type": "bar",
         "x": [
          61200000,
          36000000,
          90000000,
          61200000,
          43200000,
          46800000,
          111600000
         ],
         "xaxis": "x",
         "y": [
          "M6",
          "M5",
          "M5",
          "M3",
          "M3",
          "M1",
          "M1"
         ],
         "yaxis": "y"
        },
        {
         "alignmentgroup": "True",
         "base": [
          "1970-01-05T02:00:00",
          "1970-01-05T14:00:00",
          "1970-01-02T02:00:00",
          "1970-01-02T12:00:00",
          "1970-01-03T11:00:00",
          "1970-01-01T09:00:00",
          "1970-01-09T00:00:00"
         ],
         "customdata": [
          [
           "MORSPT"
          ],
          [
           "MORSPT"
          ],
          [
           "MORSPT"
          ],
          [
           "MORSPT"
          ],
          [
           "MORSPT"
          ],
          [
           "MORSPT"
          ],
          [
           "SPT"
          ]
         ],
         "hovertemplate": "Type=j19<br>Start=%{base}<br>Finish=%{x}<br>Resource=%{y}<br>Task=%{text}<br>Rule=%{customdata[0]}<extra></extra>",
         "legendgroup": "j19",
         "marker": {
          "color": "#750D86",
          "line": {
           "color": "black"
          },
          "pattern": {
           "shape": ""
          }
         },
         "name": "j19",
         "offsetgroup": "j19",
         "orientation": "h",
         "showlegend": true,
         "text": [
          "j1905",
          "j1906",
          "j1902",
          "j1903",
          "j1904",
          "j1901",
          "j1907"
         ],
         "textposition": "auto",
         "type": "bar",
         "x": [
          43200000,
          18000000,
          36000000,
          50400000,
          50400000,
          50400000,
          100800000
         ],
         "xaxis": "x",
         "y": [
          "M6",
          "M6",
          "M5",
          "M5",
          "M5",
          "M4",
          "M2"
         ],
         "yaxis": "y"
        },
        {
         "alignmentgroup": "True",
         "base": [
          "1970-01-01T14:00:00",
          "1970-01-02T06:00:00",
          "1970-01-06T19:00:00",
          "1970-01-03T07:00:00",
          "1970-01-03T23:00:00",
          "1970-01-07T13:00:00",
          "1970-01-08T05:00:00",
          "1970-01-08T19:00:00"
         ],
         "customdata": [
          [
           "MORSPT"
          ],
          [
           "MORSPT"
          ],
          [
           "MORSPT"
          ],
          [
           "MORSPT"
          ],
          [
           "MORSPT"
          ],
          [
           "SPT"
          ],
          [
           "SPT"
          ],
          [
           "SPT"
          ]
         ],
         "hovertemplate": "Type=j16<br>Start=%{base}<br>Finish=%{x}<br>Resource=%{y}<br>Task=%{text}<br>Rule=%{customdata[0]}<extra></extra>",
         "legendgroup": "j16",
         "marker": {
          "color": "#EB663B",
          "line": {
           "color": "black"
          },
          "pattern": {
           "shape": ""
          }
         },
         "name": "j16",
         "offsetgroup": "j16",
         "orientation": "h",
         "showlegend": true,
         "text": [
          "j1601",
          "j1602",
          "j1605",
          "j1603",
          "j1604",
          "j1606",
          "j1607",
          "j1608"
         ],
         "textposition": "auto",
         "type": "bar",
         "x": [
          57600000,
          46800000,
          50400000,
          57600000,
          46800000,
          57600000,
          50400000,
          18000000
         ],
         "xaxis": "x",
         "y": [
          "M6",
          "M6",
          "M5",
          "M3",
          "M3",
          "M1",
          "M1",
          "M1"
         ],
         "yaxis": "y"
        },
        {
         "alignmentgroup": "True",
         "base": [
          "1970-01-04T14:00:00",
          "1970-01-06T09:00:00",
          "1970-01-06T20:00:00"
         ],
         "customdata": [
          [
           "MORSPT"
          ],
          [
           "SPT"
          ],
          [
           "SPT"
          ]
         ],
         "hovertemplate": "Type=j15<br>Start=%{base}<br>Finish=%{x}<br>Resource=%{y}<br>Task=%{text}<br>Rule=%{customdata[0]}<extra></extra>",
         "legendgroup": "j15",
         "marker": {
          "color": "#511CFB",
          "line": {
           "color": "black"
          },
          "pattern": {
           "shape": ""
          }
         },
         "name": "j15",
         "offsetgroup": "j15",
         "orientation": "h",
         "showlegend": true,
         "text": [
          "j1501",
          "j1502",
          "j1503"
         ],
         "textposition": "auto",
         "type": "bar",
         "x": [
          43200000,
          36000000,
          61200000
         ],
         "xaxis": "x",
         "y": [
          "M6",
          "M5",
          "M1"
         ],
         "yaxis": "y"
        },
        {
         "alignmentgroup": "True",
         "base": [
          "1970-01-08T02:00:00",
          "1970-01-08T21:00:00",
          "1970-01-05T08:00:00",
          "1970-01-04T12:00:00"
         ],
         "customdata": [
          [
           "SPT"
          ],
          [
           "SPT"
          ],
          [
           "MORSPT"
          ],
          [
           "MORSPT"
          ]
         ],
         "hovertemplate": "Type=j14<br>Start=%{base}<br>Finish=%{x}<br>Resource=%{y}<br>Task=%{text}<br>Rule=%{customdata[0]}<extra></extra>",
         "legendgroup": "j14",
         "marker": {
          "color": "#00A08B",
          "line": {
           "color": "black"
          },
          "pattern": {
           "shape": ""
          }
         },
         "name": "j14",
         "offsetgroup": "j14",
         "orientation": "h",
         "showlegend": true,
         "text": [
          "j1403",
          "j1404",
          "j1402",
          "j1401"
         ],
         "textposition": "auto",
         "type": "bar",
         "x": [
          64800000,
          54000000,
          39600000,
          61200000
         ],
         "xaxis": "x",
         "y": [
          "M6",
          "M4",
          "M3",
          "M2"
         ],
         "yaxis": "y"
        },
        {
         "alignmentgroup": "True",
         "base": [
          "1970-01-04T00:00:00",
          "1970-01-03T03:00:00",
          "1970-01-05T21:00:00",
          "1970-01-05T03:00:00",
          "1970-01-05T14:00:00"
         ],
         "customdata": [
          [
           "MORSPT"
          ],
          [
           "MORSPT"
          ],
          [
           "SPT"
          ],
          [
           "MORSPT"
          ],
          [
           "MORSPT"
          ]
         ],
         "hovertemplate": "Type=j12<br>Start=%{base}<br>Finish=%{x}<br>Resource=%{y}<br>Task=%{text}<br>Rule=%{customdata[0]}<extra></extra>",
         "legendgroup": "j12",
         "marker": {
          "color": "#FB00D1",
          "line": {
           "color": "black"
          },
          "pattern": {
           "shape": ""
          }
         },
         "name": "j12",
         "offsetgroup": "j12",
         "orientation": "h",
         "showlegend": true,
         "text": [
          "j1202",
          "j1201",
          "j1205",
          "j1203",
          "j1204"
         ],
         "textposition": "auto",
         "type": "bar",
         "x": [
          50400000,
          68400000,
          39600000,
          39600000,
          18000000
         ],
         "xaxis": "x",
         "y": [
          "M6",
          "M4",
          "M2",
          "M1",
          "M1"
         ],
         "yaxis": "y"
        },
        {
         "alignmentgroup": "True",
         "base": [
          "1970-01-06T05:00:00",
          "1970-01-04T01:00:00",
          "1970-01-02T07:00:00",
          "1970-01-02T21:00:00"
         ],
         "customdata": [
          [
           "SPT"
          ],
          [
           "MORSPT"
          ],
          [
           "MORSPT"
          ],
          [
           "MORSPT"
          ]
         ],
         "hovertemplate": "Type=j1<br>Start=%{base}<br>Finish=%{x}<br>Resource=%{y}<br>Task=%{text}<br>Rule=%{customdata[0]}<extra></extra>",
         "legendgroup": "j1",
         "marker": {
          "color": "#FC0080",
          "line": {
           "color": "black"
          },
          "pattern": {
           "shape": ""
          }
         },
         "name": "j1",
         "offsetgroup": "j1",
         "orientation": "h",
         "showlegend": true,
         "text": [
          "j0104",
          "j0103",
          "j0101",
          "j0102"
         ],
         "textposition": "auto",
         "type": "bar",
         "x": [
          43200000,
          36000000,
          50400000,
          21600000
         ],
         "xaxis": "x",
         "y": [
          "M6",
          "M5",
          "M4",
          "M4"
         ],
         "yaxis": "y"
        },
        {
         "alignmentgroup": "True",
         "base": [
          "1970-01-09T13:00:00",
          "1970-01-09T16:00:00",
          "1970-01-09T22:00:00",
          "1970-01-10T01:00:00",
          "1970-01-10T03:00:00",
          "1970-01-10T04:00:00",
          "1970-01-10T05:00:00",
          "1970-01-10T03:00:00",
          "1970-01-10T04:00:00",
          "1970-01-10T05:00:00",
          "1970-01-09T12:00:00",
          "1970-01-09T13:00:00",
          "1970-01-09T16:00:00",
          "1970-01-09T22:00:00",
          "1970-01-10T01:00:00",
          "1970-01-10T03:00:00",
          "1970-01-10T04:00:00",
          "1970-01-10T05:00:00",
          "1970-01-09T11:00:00",
          "1970-01-09T12:00:00",
          "1970-01-10T01:00:00",
          "1970-01-10T03:00:00",
          "1970-01-10T04:00:00",
          "1970-01-10T05:00:00",
          "1970-01-10T04:00:00",
          "1970-01-10T05:00:00",
          "1970-01-09T22:00:00"
         ],
         "customdata": [
          [
           "DDA"
          ],
          [
           "DDA"
          ],
          [
           "DDA"
          ],
          [
           "DDA"
          ],
          [
           "DDA"
          ],
          [
           "DDA"
          ],
          [
           "DDA"
          ],
          [
           "DDA"
          ],
          [
           "DDA"
          ],
          [
           "DDA"
          ],
          [
           "DDA"
          ],
          [
           "DDA"
          ],
          [
           "DDA"
          ],
          [
           "DDA"
          ],
          [
           "DDA"
          ],
          [
           "DDA"
          ],
          [
           "DDA"
          ],
          [
           "DDA"
          ],
          [
           "DDA"
          ],
          [
           "DDA"
          ],
          [
           "DDA"
          ],
          [
           "DDA"
          ],
          [
           "DDA"
          ],
          [
           "DDA"
          ],
          [
           "DDA"
          ],
          [
           "DDA"
          ],
          [
           "DDA"
          ]
         ],
         "hovertemplate": "Type=delay_machine<br>Start=%{base}<br>Finish=%{x}<br>Resource=%{y}<br>Task=%{text}<br>Rule=%{customdata[0]}<extra></extra>",
         "legendgroup": "delay_machine",
         "marker": {
          "color": "#B2828D",
          "line": {
           "color": "black"
          },
          "pattern": {
           "shape": ""
          }
         },
         "name": "delay_machine",
         "offsetgroup": "delay_machine",
         "orientation": "h",
         "showlegend": true,
         "text": [
          "delay",
          "delay",
          "delay",
          "delay",
          "delay",
          "delay",
          "delay",
          "delay",
          "delay",
          "delay",
          "delay",
          "delay",
          "delay",
          "delay",
          "delay",
          "delay",
          "delay",
          "delay",
          "delay",
          "delay",
          "delay",
          "delay",
          "delay",
          "delay",
          "delay",
          "delay",
          "delay"
         ],
         "textposition": "auto",
         "type": "bar",
         "x": [
          10800000,
          21600000,
          10800000,
          7200000,
          3600000,
          3600000,
          97200000,
          3600000,
          3600000,
          97200000,
          3600000,
          10800000,
          21600000,
          10800000,
          7200000,
          3600000,
          3600000,
          97200000,
          3600000,
          3600000,
          7200000,
          3600000,
          3600000,
          97200000,
          3600000,
          97200000,
          10800000
         ],
         "xaxis": "x",
         "y": [
          "M6",
          "M6",
          "M6",
          "M6",
          "M6",
          "M6",
          "M6",
          "M5",
          "M5",
          "M5",
          "M4",
          "M4",
          "M4",
          "M4",
          "M4",
          "M4",
          "M4",
          "M4",
          "M3",
          "M3",
          "M3",
          "M3",
          "M3",
          "M3",
          "M2",
          "M2",
          "M1"
         ],
         "yaxis": "y"
        },
        {
         "alignmentgroup": "True",
         "base": [
          "1970-01-07T22:00:00",
          "1970-01-08T14:00:00",
          "1970-01-09T04:00:00",
          "1970-01-01T21:00:00"
         ],
         "customdata": [
          [
           "SPT"
          ],
          [
           "SPT"
          ],
          [
           "SPT"
          ],
          [
           "MORSPT"
          ]
         ],
         "hovertemplate": "Type=j13<br>Start=%{base}<br>Finish=%{x}<br>Resource=%{y}<br>Task=%{text}<br>Rule=%{customdata[0]}<extra></extra>",
         "legendgroup": "j13",
         "marker": {
          "color": "#6C7C32",
          "line": {
           "color": "black"
          },
          "pattern": {
           "shape": ""
          }
         },
         "name": "j13",
         "offsetgroup": "j13",
         "orientation": "h",
         "showlegend": true,
         "text": [
          "j1302",
          "j1303",
          "j1304",
          "j1301"
         ],
         "textposition": "auto",
         "type": "bar",
         "x": [
          57600000,
          50400000,
          82800000,
          36000000
         ],
         "xaxis": "x",
         "y": [
          "M5",
          "M5",
          "M5",
          "M3"
         ],
         "yaxis": "y"
        },
        {
         "alignmentgroup": "True",
         "base": [
          "1970-01-05T12:00:00",
          "1970-01-05T20:00:00",
          "1970-01-06T03:00:00",
          "1970-01-02T13:00:00",
          "1970-01-04T04:00:00",
          "1970-01-04T20:00:00"
         ],
         "customdata": [
          [
           "MORSPT"
          ],
          [
           "SPT"
          ],
          [
           "SPT"
          ],
          [
           "MORSPT"
          ],
          [
           "MORSPT"
          ],
          [
           "MORSPT"
          ]
         ],
         "hovertemplate": "Type=j11<br>Start=%{base}<br>Finish=%{x}<br>Resource=%{y}<br>Task=%{text}<br>Rule=%{customdata[0]}<extra></extra>",
         "legendgroup": "j11",
         "marker": {
          "color": "#778AAE",
          "line": {
           "color": "black"
          },
          "pattern": {
           "shape": ""
          }
         },
         "name": "j11",
         "offsetgroup": "j11",
         "orientation": "h",
         "showlegend": true,
         "text": [
          "j1104",
          "j1105",
          "j1106",
          "j1101",
          "j1102",
          "j1103"
         ],
         "textposition": "auto",
         "type": "bar",
         "x": [
          28800000,
          25200000,
          21600000,
          64800000,
          57600000,
          25200000
         ],
         "xaxis": "x",
         "y": [
          "M5",
          "M5",
          "M5",
          "M1",
          "M1",
          "M1"
         ],
         "yaxis": "y"
        },
        {
         "alignmentgroup": "True",
         "base": [
          "1970-01-01T23:00:00",
          "1970-01-01T09:00:00",
          "1970-01-07T13:00:00",
          "1970-01-08T04:00:00"
         ],
         "customdata": [
          [
           "MORSPT"
          ],
          [
           "SPT"
          ],
          [
           "SPT"
          ],
          [
           "SPT"
          ]
         ],
         "hovertemplate": "Type=j8<br>Start=%{base}<br>Finish=%{x}<br>Resource=%{y}<br>Task=%{text}<br>Rule=%{customdata[0]}<extra></extra>",
         "legendgroup": "j8",
         "marker": {
          "color": "#862A16",
          "line": {
           "color": "black"
          },
          "pattern": {
           "shape": ""
          }
         },
         "name": "j8",
         "offsetgroup": "j8",
         "orientation": "h",
         "showlegend": true,
         "text": [
          "j0802",
          "j0801",
          "j0803",
          "j0804"
         ],
         "textposition": "auto",
         "type": "bar",
         "x": [
          28800000,
          18000000,
          54000000,
          54000000
         ],
         "xaxis": "x",
         "y": [
          "M4",
          "M3",
          "M3",
          "M3"
         ],
         "yaxis": "y"
        },
        {
         "alignmentgroup": "True",
         "base": [
          "1970-01-05T04:00:00",
          "1970-01-06T12:00:00",
          "1970-01-07T03:00:00",
          "1970-01-03T14:00:00",
          "1970-01-04T07:00:00",
          "1970-01-05T19:00:00"
         ],
         "customdata": [
          [
           "MORSPT"
          ],
          [
           "SPT"
          ],
          [
           "SPT"
          ],
          [
           "MORSPT"
          ],
          [
           "MORSPT"
          ],
          [
           "MORSPT"
          ]
         ],
         "hovertemplate": "Type=j20<br>Start=%{base}<br>Finish=%{x}<br>Resource=%{y}<br>Task=%{text}<br>Rule=%{customdata[0]}<extra></extra>",
         "legendgroup": "j20",
         "marker": {
          "color": "#A777F1",
          "line": {
           "color": "black"
          },
          "pattern": {
           "shape": ""
          }
         },
         "name": "j20",
         "offsetgroup": "j20",
         "orientation": "h",
         "showlegend": true,
         "text": [
          "j2003",
          "j2005",
          "j2006",
          "j2001",
          "j2002",
          "j2004"
         ],
         "textposition": "auto",
         "type": "bar",
         "x": [
          54000000,
          54000000,
          36000000,
          61200000,
          18000000,
          46800000
         ],
         "xaxis": "x",
         "y": [
          "M4",
          "M3",
          "M3",
          "M2",
          "M2",
          "M1"
         ],
         "yaxis": "y"
        },
        {
         "alignmentgroup": "True",
         "base": [
          "1970-01-03T22:00:00",
          "1970-01-04T17:00:00",
          "1970-01-08T19:00:00",
          "1970-01-07T07:00:00",
          "1970-01-07T23:00:00"
         ],
         "customdata": [
          [
           "MORSPT"
          ],
          [
           "MORSPT"
          ],
          [
           "SPT"
          ],
          [
           "MORSPT"
          ],
          [
           "SPT"
          ]
         ],
         "hovertemplate": "Type=j18<br>Start=%{base}<br>Finish=%{x}<br>Resource=%{y}<br>Task=%{text}<br>Rule=%{customdata[0]}<extra></extra>",
         "legendgroup": "j18",
         "marker": {
          "color": "#620042",
          "line": {
           "color": "black"
          },
          "pattern": {
           "shape": ""
          }
         },
         "name": "j18",
         "offsetgroup": "j18",
         "orientation": "h",
         "showlegend": true,
         "text": [
          "j1801",
          "j1802",
          "j1805",
          "j1803",
          "j1804"
         ],
         "textposition": "auto",
         "type": "bar",
         "x": [
          68400000,
          39600000,
          57600000,
          57600000,
          39600000
         ],
         "xaxis": "x",
         "y": [
          "M4",
          "M4",
          "M3",
          "M2",
          "M2"
         ],
         "yaxis": "y"
        },
        {
         "alignmentgroup": "True",
         "base": [
          "1970-01-07T11:00:00",
          "1970-01-05T05:00:00",
          "1970-01-08T10:00:00",
          "1970-01-09T00:00:00"
         ],
         "customdata": [
          [
           "SPT"
          ],
          [
           "MORSPT"
          ],
          [
           "SPT"
          ],
          [
           "SPT"
          ]
         ],
         "hovertemplate": "Type=j17<br>Start=%{base}<br>Finish=%{x}<br>Resource=%{y}<br>Task=%{text}<br>Rule=%{customdata[0]}<extra></extra>",
         "legendgroup": "j17",
         "marker": {
          "color": "#1616A7",
          "line": {
           "color": "black"
          },
          "pattern": {
           "shape": ""
          }
         },
         "name": "j17",
         "offsetgroup": "j17",
         "orientation": "h",
         "showlegend": true,
         "text": [
          "j1702",
          "j1701",
          "j1703",
          "j1704"
         ],
         "textposition": "auto",
         "type": "bar",
         "x": [
          57600000,
          57600000,
          50400000,
          79200000
         ],
         "xaxis": "x",
         "y": [
          "M4",
          "M2",
          "M2",
          "M1"
         ],
         "yaxis": "y"
        },
        {
         "alignmentgroup": "True",
         "base": [
          "1970-01-05T19:00:00",
          "1970-01-04T12:00:00",
          "1970-01-05T01:00:00",
          "1970-01-01T09:00:00"
         ],
         "customdata": [
          [
           "SPT"
          ],
          [
           "MORSPT"
          ],
          [
           "MORSPT"
          ],
          [
           "SPT"
          ]
         ],
         "hovertemplate": "Type=j10<br>Start=%{base}<br>Finish=%{x}<br>Resource=%{y}<br>Task=%{text}<br>Rule=%{customdata[0]}<extra></extra>",
         "legendgroup": "j10",
         "marker": {
          "color": "#DA60CA",
          "line": {
           "color": "black"
          },
          "pattern": {
           "shape": ""
          }
         },
         "name": "j10",
         "offsetgroup": "j10",
         "orientation": "h",
         "showlegend": true,
         "text": [
          "j1004",
          "j1002",
          "j1003",
          "j1001"
         ],
         "textposition": "auto",
         "type": "bar",
         "x": [
          36000000,
          46800000,
          25200000,
          18000000
         ],
         "xaxis": "x",
         "y": [
          "M4",
          "M3",
          "M3",
          "M1"
         ],
         "yaxis": "y"
        },
        {
         "alignmentgroup": "True",
         "base": [
          "1970-01-01T14:00:00",
          "1970-01-02T19:00:00",
          "1970-01-03T16:00:00",
          "1970-01-04T00:00:00",
          "1970-01-04T14:00:00",
          "1970-01-05T02:00:00",
          "1970-01-05T19:00:00",
          "1970-01-06T05:00:00",
          "1970-01-06T17:00:00",
          "1970-01-07T06:00:00",
          "1970-01-07T14:00:00",
          "1970-01-08T02:00:00",
          "1970-01-08T20:00:00",
          "1970-01-01T19:00:00",
          "1970-01-02T02:00:00",
          "1970-01-03T02:00:00",
          "1970-01-03T11:00:00",
          "1970-01-04T01:00:00",
          "1970-01-04T11:00:00",
          "1970-01-05T12:00:00",
          "1970-01-06T09:00:00",
          "1970-01-07T09:00:00",
          "1970-01-07T22:00:00",
          "1970-01-01T23:00:00",
          "1970-01-02T07:00:00",
          "1970-01-03T03:00:00",
          "1970-01-03T22:00:00",
          "1970-01-05T04:00:00",
          "1970-01-05T19:00:00",
          "1970-01-06T05:00:00",
          "1970-01-06T19:00:00",
          "1970-01-07T11:00:00",
          "1970-01-08T03:00:00",
          "1970-01-08T21:00:00",
          "1970-01-01T14:00:00",
          "1970-01-01T21:00:00",
          "1970-01-02T07:00:00",
          "1970-01-02T16:00:00",
          "1970-01-03T07:00:00",
          "1970-01-04T12:00:00",
          "1970-01-05T08:00:00",
          "1970-01-05T19:00:00",
          "1970-01-06T12:00:00",
          "1970-01-07T13:00:00",
          "1970-01-08T19:00:00",
          "1970-01-09T13:00:00",
          "1970-01-01T19:00:00",
          "1970-01-02T07:00:00",
          "1970-01-02T16:00:00",
          "1970-01-03T14:00:00",
          "1970-01-04T12:00:00",
          "1970-01-05T05:00:00",
          "1970-01-05T21:00:00",
          "1970-01-06T08:00:00",
          "1970-01-06T17:00:00",
          "1970-01-07T07:00:00",
          "1970-01-08T10:00:00",
          "1970-01-09T00:00:00",
          "1970-01-01T14:00:00",
          "1970-01-02T00:00:00",
          "1970-01-02T13:00:00",
          "1970-01-03T07:00:00",
          "1970-01-04T04:00:00",
          "1970-01-05T03:00:00",
          "1970-01-05T19:00:00",
          "1970-01-06T08:00:00",
          "1970-01-06T20:00:00",
          "1970-01-09T00:00:00",
          "1970-01-10T01:00:00"
         ],
         "customdata": [
          [
           "NONE"
          ],
          [
           "NONE"
          ],
          [
           "NONE"
          ],
          [
           "NONE"
          ],
          [
           "NONE"
          ],
          [
           "NONE"
          ],
          [
           "NONE"
          ],
          [
           "NONE"
          ],
          [
           "NONE"
          ],
          [
           "NONE"
          ],
          [
           "NONE"
          ],
          [
           "NONE"
          ],
          [
           "NONE"
          ],
          [
           "NONE"
          ],
          [
           "NONE"
          ],
          [
           "NONE"
          ],
          [
           "NONE"
          ],
          [
           "NONE"
          ],
          [
           "NONE"
          ],
          [
           "NONE"
          ],
          [
           "NONE"
          ],
          [
           "NONE"
          ],
          [
           "NONE"
          ],
          [
           "NONE"
          ],
          [
           "NONE"
          ],
          [
           "NONE"
          ],
          [
           "NONE"
          ],
          [
           "NONE"
          ],
          [
           "NONE"
          ],
          [
           "NONE"
          ],
          [
           "NONE"
          ],
          [
           "NONE"
          ],
          [
           "NONE"
          ],
          [
           "NONE"
          ],
          [
           "NONE"
          ],
          [
           "NONE"
          ],
          [
           "NONE"
          ],
          [
           "NONE"
          ],
          [
           "NONE"
          ],
          [
           "NONE"
          ],
          [
           "NONE"
          ],
          [
           "NONE"
          ],
          [
           "NONE"
          ],
          [
           "NONE"
          ],
          [
           "NONE"
          ],
          [
           "NONE"
          ],
          [
           "NONE"
          ],
          [
           "NONE"
          ],
          [
           "NONE"
          ],
          [
           "NONE"
          ],
          [
           "NONE"
          ],
          [
           "NONE"
          ],
          [
           "NONE"
          ],
          [
           "NONE"
          ],
          [
           "NONE"
          ],
          [
           "NONE"
          ],
          [
           "NONE"
          ],
          [
           "NONE"
          ],
          [
           "NONE"
          ],
          [
           "NONE"
          ],
          [
           "NONE"
          ],
          [
           "NONE"
          ],
          [
           "NONE"
          ],
          [
           "NONE"
          ],
          [
           "NONE"
          ],
          [
           "NONE"
          ],
          [
           "NONE"
          ],
          [
           "NONE"
          ],
          [
           "NONE"
          ]
         ],
         "hovertemplate": "Type=setup<br>Start=%{base}<br>Finish=%{x}<br>Resource=%{y}<br>Task=%{text}<br>Rule=%{customdata[0]}<extra></extra>",
         "legendgroup": "setup",
         "marker": {
          "color": "#6C4516",
          "line": {
           "color": "black"
          },
          "pattern": {
           "shape": ""
          }
         },
         "name": "setup",
         "offsetgroup": "setup",
         "orientation": "h",
         "showlegend": true,
         "text": [
          "setup",
          "setup",
          "setup",
          "setup",
          "setup",
          "setup",
          "setup",
          "setup",
          "setup",
          "setup",
          "setup",
          "setup",
          "setup",
          "setup",
          "setup",
          "setup",
          "setup",
          "setup",
          "setup",
          "setup",
          "setup",
          "setup",
          "setup",
          "setup",
          "setup",
          "setup",
          "setup",
          "setup",
          "setup",
          "setup",
          "setup",
          "setup",
          "setup",
          "setup",
          "setup",
          "setup",
          "setup",
          "setup",
          "setup",
          "setup",
          "setup",
          "setup",
          "setup",
          "setup",
          "setup",
          "setup",
          "setup",
          "setup",
          "setup",
          "setup",
          "setup",
          "setup",
          "setup",
          "setup",
          "setup",
          "setup",
          "setup",
          "setup",
          "setup",
          "setup",
          "setup",
          "setup",
          "setup",
          "setup",
          "setup",
          "setup",
          "setup",
          "setup",
          "setup"
         ],
         "textposition": "auto",
         "type": "bar",
         "width": 0.7,
         "x": [
          14400000,
          10800000,
          7200000,
          7200000,
          7200000,
          7200000,
          10800000,
          10800000,
          10800000,
          3600000,
          3600000,
          10800000,
          3600000,
          7200000,
          10800000,
          10800000,
          7200000,
          10800000,
          10800000,
          7200000,
          7200000,
          3600000,
          7200000,
          7200000,
          7200000,
          10800000,
          10800000,
          10800000,
          3600000,
          14400000,
          10800000,
          10800000,
          3600000,
          10800000,
          7200000,
          10800000,
          10800000,
          7200000,
          7200000,
          7200000,
          3600000,
          3600000,
          10800000,
          7200000,
          10800000,
          10800000,
          14400000,
          10800000,
          10800000,
          3600000,
          14400000,
          10800000,
          14400000,
          14400000,
          10800000,
          14400000,
          10800000,
          14400000,
          14400000,
          7200000,
          7200000,
          10800000,
          7200000,
          14400000,
          10800000,
          10800000,
          7200000,
          10800000,
          14400000
         ],
         "xaxis": "x",
         "y": [
          "M6",
          "M6",
          "M6",
          "M6",
          "M6",
          "M6",
          "M6",
          "M6",
          "M6",
          "M6",
          "M6",
          "M6",
          "M6",
          "M5",
          "M5",
          "M5",
          "M5",
          "M5",
          "M5",
          "M5",
          "M5",
          "M5",
          "M5",
          "M4",
          "M4",
          "M4",
          "M4",
          "M4",
          "M4",
          "M4",
          "M4",
          "M4",
          "M4",
          "M4",
          "M3",
          "M3",
          "M3",
          "M3",
          "M3",
          "M3",
          "M3",
          "M3",
          "M3",
          "M3",
          "M3",
          "M3",
          "M2",
          "M2",
          "M2",
          "M2",
          "M2",
          "M2",
          "M2",
          "M2",
          "M2",
          "M2",
          "M2",
          "M2",
          "M1",
          "M1",
          "M1",
          "M1",
          "M1",
          "M1",
          "M1",
          "M1",
          "M1",
          "M1",
          "M1"
         ],
         "yaxis": "y"
        }
       ],
       "layout": {
        "barmode": "overlay",
        "height": 800,
        "legend": {
         "title": {
          "text": "Type"
         },
         "tracegroupgap": 0
        },
        "margin": {
         "t": 60
        },
        "template": {
         "data": {
          "bar": [
           {
            "error_x": {
             "color": "rgb(36,36,36)"
            },
            "error_y": {
             "color": "rgb(36,36,36)"
            },
            "marker": {
             "line": {
              "color": "white",
              "width": 0.5
             },
             "pattern": {
              "fillmode": "overlay",
              "size": 10,
              "solidity": 0.2
             }
            },
            "type": "bar"
           }
          ],
          "barpolar": [
           {
            "marker": {
             "line": {
              "color": "white",
              "width": 0.5
             },
             "pattern": {
              "fillmode": "overlay",
              "size": 10,
              "solidity": 0.2
             }
            },
            "type": "barpolar"
           }
          ],
          "carpet": [
           {
            "aaxis": {
             "endlinecolor": "rgb(36,36,36)",
             "gridcolor": "white",
             "linecolor": "white",
             "minorgridcolor": "white",
             "startlinecolor": "rgb(36,36,36)"
            },
            "baxis": {
             "endlinecolor": "rgb(36,36,36)",
             "gridcolor": "white",
             "linecolor": "white",
             "minorgridcolor": "white",
             "startlinecolor": "rgb(36,36,36)"
            },
            "type": "carpet"
           }
          ],
          "choropleth": [
           {
            "colorbar": {
             "outlinewidth": 1,
             "tickcolor": "rgb(36,36,36)",
             "ticks": "outside"
            },
            "type": "choropleth"
           }
          ],
          "contour": [
           {
            "colorbar": {
             "outlinewidth": 1,
             "tickcolor": "rgb(36,36,36)",
             "ticks": "outside"
            },
            "colorscale": [
             [
              0,
              "#440154"
             ],
             [
              0.1111111111111111,
              "#482878"
             ],
             [
              0.2222222222222222,
              "#3e4989"
             ],
             [
              0.3333333333333333,
              "#31688e"
             ],
             [
              0.4444444444444444,
              "#26828e"
             ],
             [
              0.5555555555555556,
              "#1f9e89"
             ],
             [
              0.6666666666666666,
              "#35b779"
             ],
             [
              0.7777777777777778,
              "#6ece58"
             ],
             [
              0.8888888888888888,
              "#b5de2b"
             ],
             [
              1,
              "#fde725"
             ]
            ],
            "type": "contour"
           }
          ],
          "contourcarpet": [
           {
            "colorbar": {
             "outlinewidth": 1,
             "tickcolor": "rgb(36,36,36)",
             "ticks": "outside"
            },
            "type": "contourcarpet"
           }
          ],
          "heatmap": [
           {
            "colorbar": {
             "outlinewidth": 1,
             "tickcolor": "rgb(36,36,36)",
             "ticks": "outside"
            },
            "colorscale": [
             [
              0,
              "#440154"
             ],
             [
              0.1111111111111111,
              "#482878"
             ],
             [
              0.2222222222222222,
              "#3e4989"
             ],
             [
              0.3333333333333333,
              "#31688e"
             ],
             [
              0.4444444444444444,
              "#26828e"
             ],
             [
              0.5555555555555556,
              "#1f9e89"
             ],
             [
              0.6666666666666666,
              "#35b779"
             ],
             [
              0.7777777777777778,
              "#6ece58"
             ],
             [
              0.8888888888888888,
              "#b5de2b"
             ],
             [
              1,
              "#fde725"
             ]
            ],
            "type": "heatmap"
           }
          ],
          "heatmapgl": [
           {
            "colorbar": {
             "outlinewidth": 1,
             "tickcolor": "rgb(36,36,36)",
             "ticks": "outside"
            },
            "colorscale": [
             [
              0,
              "#440154"
             ],
             [
              0.1111111111111111,
              "#482878"
             ],
             [
              0.2222222222222222,
              "#3e4989"
             ],
             [
              0.3333333333333333,
              "#31688e"
             ],
             [
              0.4444444444444444,
              "#26828e"
             ],
             [
              0.5555555555555556,
              "#1f9e89"
             ],
             [
              0.6666666666666666,
              "#35b779"
             ],
             [
              0.7777777777777778,
              "#6ece58"
             ],
             [
              0.8888888888888888,
              "#b5de2b"
             ],
             [
              1,
              "#fde725"
             ]
            ],
            "type": "heatmapgl"
           }
          ],
          "histogram": [
           {
            "marker": {
             "line": {
              "color": "white",
              "width": 0.6
             }
            },
            "type": "histogram"
           }
          ],
          "histogram2d": [
           {
            "colorbar": {
             "outlinewidth": 1,
             "tickcolor": "rgb(36,36,36)",
             "ticks": "outside"
            },
            "colorscale": [
             [
              0,
              "#440154"
             ],
             [
              0.1111111111111111,
              "#482878"
             ],
             [
              0.2222222222222222,
              "#3e4989"
             ],
             [
              0.3333333333333333,
              "#31688e"
             ],
             [
              0.4444444444444444,
              "#26828e"
             ],
             [
              0.5555555555555556,
              "#1f9e89"
             ],
             [
              0.6666666666666666,
              "#35b779"
             ],
             [
              0.7777777777777778,
              "#6ece58"
             ],
             [
              0.8888888888888888,
              "#b5de2b"
             ],
             [
              1,
              "#fde725"
             ]
            ],
            "type": "histogram2d"
           }
          ],
          "histogram2dcontour": [
           {
            "colorbar": {
             "outlinewidth": 1,
             "tickcolor": "rgb(36,36,36)",
             "ticks": "outside"
            },
            "colorscale": [
             [
              0,
              "#440154"
             ],
             [
              0.1111111111111111,
              "#482878"
             ],
             [
              0.2222222222222222,
              "#3e4989"
             ],
             [
              0.3333333333333333,
              "#31688e"
             ],
             [
              0.4444444444444444,
              "#26828e"
             ],
             [
              0.5555555555555556,
              "#1f9e89"
             ],
             [
              0.6666666666666666,
              "#35b779"
             ],
             [
              0.7777777777777778,
              "#6ece58"
             ],
             [
              0.8888888888888888,
              "#b5de2b"
             ],
             [
              1,
              "#fde725"
             ]
            ],
            "type": "histogram2dcontour"
           }
          ],
          "mesh3d": [
           {
            "colorbar": {
             "outlinewidth": 1,
             "tickcolor": "rgb(36,36,36)",
             "ticks": "outside"
            },
            "type": "mesh3d"
           }
          ],
          "parcoords": [
           {
            "line": {
             "colorbar": {
              "outlinewidth": 1,
              "tickcolor": "rgb(36,36,36)",
              "ticks": "outside"
             }
            },
            "type": "parcoords"
           }
          ],
          "pie": [
           {
            "automargin": true,
            "type": "pie"
           }
          ],
          "scatter": [
           {
            "fillpattern": {
             "fillmode": "overlay",
             "size": 10,
             "solidity": 0.2
            },
            "type": "scatter"
           }
          ],
          "scatter3d": [
           {
            "line": {
             "colorbar": {
              "outlinewidth": 1,
              "tickcolor": "rgb(36,36,36)",
              "ticks": "outside"
             }
            },
            "marker": {
             "colorbar": {
              "outlinewidth": 1,
              "tickcolor": "rgb(36,36,36)",
              "ticks": "outside"
             }
            },
            "type": "scatter3d"
           }
          ],
          "scattercarpet": [
           {
            "marker": {
             "colorbar": {
              "outlinewidth": 1,
              "tickcolor": "rgb(36,36,36)",
              "ticks": "outside"
             }
            },
            "type": "scattercarpet"
           }
          ],
          "scattergeo": [
           {
            "marker": {
             "colorbar": {
              "outlinewidth": 1,
              "tickcolor": "rgb(36,36,36)",
              "ticks": "outside"
             }
            },
            "type": "scattergeo"
           }
          ],
          "scattergl": [
           {
            "marker": {
             "colorbar": {
              "outlinewidth": 1,
              "tickcolor": "rgb(36,36,36)",
              "ticks": "outside"
             }
            },
            "type": "scattergl"
           }
          ],
          "scattermapbox": [
           {
            "marker": {
             "colorbar": {
              "outlinewidth": 1,
              "tickcolor": "rgb(36,36,36)",
              "ticks": "outside"
             }
            },
            "type": "scattermapbox"
           }
          ],
          "scatterpolar": [
           {
            "marker": {
             "colorbar": {
              "outlinewidth": 1,
              "tickcolor": "rgb(36,36,36)",
              "ticks": "outside"
             }
            },
            "type": "scatterpolar"
           }
          ],
          "scatterpolargl": [
           {
            "marker": {
             "colorbar": {
              "outlinewidth": 1,
              "tickcolor": "rgb(36,36,36)",
              "ticks": "outside"
             }
            },
            "type": "scatterpolargl"
           }
          ],
          "scatterternary": [
           {
            "marker": {
             "colorbar": {
              "outlinewidth": 1,
              "tickcolor": "rgb(36,36,36)",
              "ticks": "outside"
             }
            },
            "type": "scatterternary"
           }
          ],
          "surface": [
           {
            "colorbar": {
             "outlinewidth": 1,
             "tickcolor": "rgb(36,36,36)",
             "ticks": "outside"
            },
            "colorscale": [
             [
              0,
              "#440154"
             ],
             [
              0.1111111111111111,
              "#482878"
             ],
             [
              0.2222222222222222,
              "#3e4989"
             ],
             [
              0.3333333333333333,
              "#31688e"
             ],
             [
              0.4444444444444444,
              "#26828e"
             ],
             [
              0.5555555555555556,
              "#1f9e89"
             ],
             [
              0.6666666666666666,
              "#35b779"
             ],
             [
              0.7777777777777778,
              "#6ece58"
             ],
             [
              0.8888888888888888,
              "#b5de2b"
             ],
             [
              1,
              "#fde725"
             ]
            ],
            "type": "surface"
           }
          ],
          "table": [
           {
            "cells": {
             "fill": {
              "color": "rgb(237,237,237)"
             },
             "line": {
              "color": "white"
             }
            },
            "header": {
             "fill": {
              "color": "rgb(217,217,217)"
             },
             "line": {
              "color": "white"
             }
            },
            "type": "table"
           }
          ]
         },
         "layout": {
          "annotationdefaults": {
           "arrowhead": 0,
           "arrowwidth": 1
          },
          "autotypenumbers": "strict",
          "coloraxis": {
           "colorbar": {
            "outlinewidth": 1,
            "tickcolor": "rgb(36,36,36)",
            "ticks": "outside"
           }
          },
          "colorscale": {
           "diverging": [
            [
             0,
             "rgb(103,0,31)"
            ],
            [
             0.1,
             "rgb(178,24,43)"
            ],
            [
             0.2,
             "rgb(214,96,77)"
            ],
            [
             0.3,
             "rgb(244,165,130)"
            ],
            [
             0.4,
             "rgb(253,219,199)"
            ],
            [
             0.5,
             "rgb(247,247,247)"
            ],
            [
             0.6,
             "rgb(209,229,240)"
            ],
            [
             0.7,
             "rgb(146,197,222)"
            ],
            [
             0.8,
             "rgb(67,147,195)"
            ],
            [
             0.9,
             "rgb(33,102,172)"
            ],
            [
             1,
             "rgb(5,48,97)"
            ]
           ],
           "sequential": [
            [
             0,
             "#440154"
            ],
            [
             0.1111111111111111,
             "#482878"
            ],
            [
             0.2222222222222222,
             "#3e4989"
            ],
            [
             0.3333333333333333,
             "#31688e"
            ],
            [
             0.4444444444444444,
             "#26828e"
            ],
            [
             0.5555555555555556,
             "#1f9e89"
            ],
            [
             0.6666666666666666,
             "#35b779"
            ],
            [
             0.7777777777777778,
             "#6ece58"
            ],
            [
             0.8888888888888888,
             "#b5de2b"
            ],
            [
             1,
             "#fde725"
            ]
           ],
           "sequentialminus": [
            [
             0,
             "#440154"
            ],
            [
             0.1111111111111111,
             "#482878"
            ],
            [
             0.2222222222222222,
             "#3e4989"
            ],
            [
             0.3333333333333333,
             "#31688e"
            ],
            [
             0.4444444444444444,
             "#26828e"
            ],
            [
             0.5555555555555556,
             "#1f9e89"
            ],
            [
             0.6666666666666666,
             "#35b779"
            ],
            [
             0.7777777777777778,
             "#6ece58"
            ],
            [
             0.8888888888888888,
             "#b5de2b"
            ],
            [
             1,
             "#fde725"
            ]
           ]
          },
          "colorway": [
           "#1F77B4",
           "#FF7F0E",
           "#2CA02C",
           "#D62728",
           "#9467BD",
           "#8C564B",
           "#E377C2",
           "#7F7F7F",
           "#BCBD22",
           "#17BECF"
          ],
          "font": {
           "color": "rgb(36,36,36)"
          },
          "geo": {
           "bgcolor": "white",
           "lakecolor": "white",
           "landcolor": "white",
           "showlakes": true,
           "showland": true,
           "subunitcolor": "white"
          },
          "hoverlabel": {
           "align": "left"
          },
          "hovermode": "closest",
          "mapbox": {
           "style": "light"
          },
          "paper_bgcolor": "white",
          "plot_bgcolor": "white",
          "polar": {
           "angularaxis": {
            "gridcolor": "rgb(232,232,232)",
            "linecolor": "rgb(36,36,36)",
            "showgrid": false,
            "showline": true,
            "ticks": "outside"
           },
           "bgcolor": "white",
           "radialaxis": {
            "gridcolor": "rgb(232,232,232)",
            "linecolor": "rgb(36,36,36)",
            "showgrid": false,
            "showline": true,
            "ticks": "outside"
           }
          },
          "scene": {
           "xaxis": {
            "backgroundcolor": "white",
            "gridcolor": "rgb(232,232,232)",
            "gridwidth": 2,
            "linecolor": "rgb(36,36,36)",
            "showbackground": true,
            "showgrid": false,
            "showline": true,
            "ticks": "outside",
            "zeroline": false,
            "zerolinecolor": "rgb(36,36,36)"
           },
           "yaxis": {
            "backgroundcolor": "white",
            "gridcolor": "rgb(232,232,232)",
            "gridwidth": 2,
            "linecolor": "rgb(36,36,36)",
            "showbackground": true,
            "showgrid": false,
            "showline": true,
            "ticks": "outside",
            "zeroline": false,
            "zerolinecolor": "rgb(36,36,36)"
           },
           "zaxis": {
            "backgroundcolor": "white",
            "gridcolor": "rgb(232,232,232)",
            "gridwidth": 2,
            "linecolor": "rgb(36,36,36)",
            "showbackground": true,
            "showgrid": false,
            "showline": true,
            "ticks": "outside",
            "zeroline": false,
            "zerolinecolor": "rgb(36,36,36)"
           }
          },
          "shapedefaults": {
           "fillcolor": "black",
           "line": {
            "width": 0
           },
           "opacity": 0.3
          },
          "ternary": {
           "aaxis": {
            "gridcolor": "rgb(232,232,232)",
            "linecolor": "rgb(36,36,36)",
            "showgrid": false,
            "showline": true,
            "ticks": "outside"
           },
           "baxis": {
            "gridcolor": "rgb(232,232,232)",
            "linecolor": "rgb(36,36,36)",
            "showgrid": false,
            "showline": true,
            "ticks": "outside"
           },
           "bgcolor": "white",
           "caxis": {
            "gridcolor": "rgb(232,232,232)",
            "linecolor": "rgb(36,36,36)",
            "showgrid": false,
            "showline": true,
            "ticks": "outside"
           }
          },
          "title": {
           "x": 0.05
          },
          "xaxis": {
           "automargin": true,
           "gridcolor": "rgb(232,232,232)",
           "linecolor": "rgb(36,36,36)",
           "showgrid": false,
           "showline": true,
           "ticks": "outside",
           "title": {
            "standoff": 15
           },
           "zeroline": false,
           "zerolinecolor": "rgb(36,36,36)"
          },
          "yaxis": {
           "automargin": true,
           "gridcolor": "rgb(232,232,232)",
           "linecolor": "rgb(36,36,36)",
           "showgrid": false,
           "showline": true,
           "ticks": "outside",
           "title": {
            "standoff": 15
           },
           "zeroline": false,
           "zerolinecolor": "rgb(36,36,36)"
          }
         }
        },
        "width": 2000,
        "xaxis": {
         "anchor": "y",
         "domain": [
          0,
          1
         ],
         "type": "date"
        },
        "yaxis": {
         "anchor": "x",
         "domain": [
          0,
          1
         ],
         "title": {
          "text": "Resource"
         }
        }
       }
      },
      "text/html": [
       "<div>                            <div id=\"c114dfe9-e86c-46fb-a45e-0fdd0ccd0609\" class=\"plotly-graph-div\" style=\"height:800px; width:2000px;\"></div>            <script type=\"text/javascript\">                require([\"plotly\"], function(Plotly) {                    window.PLOTLYENV=window.PLOTLYENV || {};                                    if (document.getElementById(\"c114dfe9-e86c-46fb-a45e-0fdd0ccd0609\")) {                    Plotly.newPlot(                        \"c114dfe9-e86c-46fb-a45e-0fdd0ccd0609\",                        [{\"alignmentgroup\":\"True\",\"base\":[\"1970-01-02T19:00:00\",\"1970-01-03T08:00:00\",\"1970-01-07T06:00:00\",\"1970-01-01T19:00:00\",\"1970-01-06T08:00:00\"],\"customdata\":[[\"MORSPT\"],[\"MORSPT\"],[\"SPT\"],[\"MORSPT\"],[\"SPT\"]],\"hovertemplate\":\"Type=j9<br>Start=%{base}<br>Finish=%{x}<br>Resource=%{y}<br>Task=%{text}<br>Rule=%{customdata[0]}<extra></extra>\",\"legendgroup\":\"j9\",\"marker\":{\"color\":\"#2E91E5\",\"pattern\":{\"shape\":\"\"},\"line\":{\"color\":\"black\"}},\"name\":\"j9\",\"offsetgroup\":\"j9\",\"orientation\":\"h\",\"showlegend\":true,\"text\":[\"j0902\",\"j0903\",\"j0905\",\"j0901\",\"j0904\"],\"textposition\":\"auto\",\"x\":[46800000.0,28800000.0,28800000.0,43200000.0,43200000.0],\"xaxis\":\"x\",\"y\":[\"M6\",\"M6\",\"M6\",\"M2\",\"M1\"],\"yaxis\":\"y\",\"type\":\"bar\"},{\"alignmentgroup\":\"True\",\"base\":[\"1970-01-07T14:00:00\",\"1970-01-06T19:00:00\",\"1970-01-08T03:00:00\",\"1970-01-02T07:00:00\",\"1970-01-02T16:00:00\",\"1970-01-03T05:00:00\",\"1970-01-01T14:00:00\"],\"customdata\":[[\"SPT\"],[\"MORSPT\"],[\"SPT\"],[\"MORSPT\"],[\"MORSPT\"],[\"MORSPT\"],[\"SPT\"]],\"hovertemplate\":\"Type=j7<br>Start=%{base}<br>Finish=%{x}<br>Resource=%{y}<br>Task=%{text}<br>Rule=%{customdata[0]}<extra></extra>\",\"legendgroup\":\"j7\",\"marker\":{\"color\":\"#E15F99\",\"pattern\":{\"shape\":\"\"},\"line\":{\"color\":\"black\"}},\"name\":\"j7\",\"offsetgroup\":\"j7\",\"orientation\":\"h\",\"showlegend\":true,\"text\":[\"j0706\",\"j0705\",\"j0707\",\"j0702\",\"j0703\",\"j0704\",\"j0701\"],\"textposition\":\"auto\",\"x\":[43200000.0,57600000.0,64800000.0,32400000.0,46800000.0,32400000.0,36000000.0],\"xaxis\":\"x\",\"y\":[\"M6\",\"M4\",\"M4\",\"M3\",\"M2\",\"M2\",\"M1\"],\"yaxis\":\"y\",\"type\":\"bar\"},{\"alignmentgroup\":\"True\",\"base\":[\"1970-01-06T17:00:00\",\"1970-01-07T09:00:00\",\"1970-01-02T07:00:00\"],\"customdata\":[[\"SPT\"],[\"SPT\"],[\"MORSPT\"]],\"hovertemplate\":\"Type=j6<br>Start=%{base}<br>Finish=%{x}<br>Resource=%{y}<br>Task=%{text}<br>Rule=%{customdata[0]}<extra></extra>\",\"legendgroup\":\"j6\",\"marker\":{\"color\":\"#1CA71C\",\"pattern\":{\"shape\":\"\"},\"line\":{\"color\":\"black\"}},\"name\":\"j6\",\"offsetgroup\":\"j6\",\"orientation\":\"h\",\"showlegend\":true,\"text\":[\"j0602\",\"j0603\",\"j0601\"],\"textposition\":\"auto\",\"x\":[46800000.0,46800000.0,32400000.0],\"xaxis\":\"x\",\"y\":[\"M6\",\"M5\",\"M2\"],\"yaxis\":\"y\",\"type\":\"bar\"},{\"alignmentgroup\":\"True\",\"base\":[\"1970-01-05T19:00:00\",\"1970-01-02T16:00:00\",\"1970-01-06T08:00:00\",\"1970-01-03T07:00:00\",\"1970-01-03T21:00:00\"],\"customdata\":[[\"SPT\"],[\"MORSPT\"],[\"SPT\"],[\"MORSPT\"],[\"MORSPT\"]],\"hovertemplate\":\"Type=j5<br>Start=%{base}<br>Finish=%{x}<br>Resource=%{y}<br>Task=%{text}<br>Rule=%{customdata[0]}<extra></extra>\",\"legendgroup\":\"j5\",\"marker\":{\"color\":\"#FB0D0D\",\"pattern\":{\"shape\":\"\"},\"line\":{\"color\":\"black\"}},\"name\":\"j5\",\"offsetgroup\":\"j5\",\"orientation\":\"h\",\"showlegend\":true,\"text\":[\"j0504\",\"j0501\",\"j0505\",\"j0502\",\"j0503\"],\"textposition\":\"auto\",\"x\":[36000000.0,54000000.0,32400000.0,50400000.0,25200000.0],\"xaxis\":\"x\",\"y\":[\"M6\",\"M3\",\"M2\",\"M1\",\"M1\"],\"yaxis\":\"y\",\"type\":\"bar\"},{\"alignmentgroup\":\"True\",\"base\":[\"1970-01-03T16:00:00\",\"1970-01-01T19:00:00\",\"1970-01-01T09:00:00\",\"1970-01-01T14:00:00\",\"1970-01-06T17:00:00\"],\"customdata\":[[\"MORSPT\"],[\"MORSPT\"],[\"SPT\"],[\"SPT\"],[\"SPT\"]],\"hovertemplate\":\"Type=j4<br>Start=%{base}<br>Finish=%{x}<br>Resource=%{y}<br>Task=%{text}<br>Rule=%{customdata[0]}<extra></extra>\",\"legendgroup\":\"j4\",\"marker\":{\"color\":\"#DA16FF\",\"pattern\":{\"shape\":\"\"},\"line\":{\"color\":\"black\"}},\"name\":\"j4\",\"offsetgroup\":\"j4\",\"orientation\":\"h\",\"showlegend\":true,\"text\":[\"j0404\",\"j0403\",\"j0401\",\"j0402\",\"j0405\"],\"textposition\":\"auto\",\"x\":[28800000.0,25200000.0,18000000.0,18000000.0,50400000.0],\"xaxis\":\"x\",\"y\":[\"M6\",\"M5\",\"M2\",\"M2\",\"M2\"],\"yaxis\":\"y\",\"type\":\"bar\"},{\"alignmentgroup\":\"True\",\"base\":[\"1970-01-01T09:00:00\",\"1970-01-03T02:00:00\",\"1970-01-06T05:00:00\",\"1970-01-01T14:00:00\"],\"customdata\":[[\"SPT\"],[\"MORSPT\"],[\"SPT\"],[\"MORSPT\"]],\"hovertemplate\":\"Type=j3<br>Start=%{base}<br>Finish=%{x}<br>Resource=%{y}<br>Task=%{text}<br>Rule=%{customdata[0]}<extra></extra>\",\"legendgroup\":\"j3\",\"marker\":{\"color\":\"#222A2A\",\"pattern\":{\"shape\":\"\"},\"line\":{\"color\":\"black\"}},\"name\":\"j3\",\"offsetgroup\":\"j3\",\"orientation\":\"h\",\"showlegend\":true,\"text\":[\"j0301\",\"j0303\",\"j0304\",\"j0302\"],\"textposition\":\"auto\",\"x\":[18000000.0,32400000.0,50400000.0,25200000.0],\"xaxis\":\"x\",\"y\":[\"M6\",\"M5\",\"M4\",\"M3\"],\"yaxis\":\"y\",\"type\":\"bar\"},{\"alignmentgroup\":\"True\",\"base\":[\"1970-01-08T20:00:00\",\"1970-01-01T09:00:00\",\"1970-01-04T11:00:00\",\"1970-01-05T19:00:00\",\"1970-01-09T13:00:00\",\"1970-01-02T00:00:00\",\"1970-01-10T01:00:00\"],\"customdata\":[[\"SPT\"],[\"MORSPT\"],[\"MORSPT\"],[\"MORSPT\"],[\"SPTSSU\"],[\"MORSPT\"],[\"SPTSSU\"]],\"hovertemplate\":\"Type=j2<br>Start=%{base}<br>Finish=%{x}<br>Resource=%{y}<br>Task=%{text}<br>Rule=%{customdata[0]}<extra></extra>\",\"legendgroup\":\"j2\",\"marker\":{\"color\":\"#B68100\",\"pattern\":{\"shape\":\"\"},\"line\":{\"color\":\"black\"}},\"name\":\"j2\",\"offsetgroup\":\"j2\",\"orientation\":\"h\",\"showlegend\":true,\"text\":[\"j0205\",\"j0201\",\"j0203\",\"j0204\",\"j0206\",\"j0202\",\"j0207\"],\"textposition\":\"auto\",\"x\":[61200000.0,36000000.0,90000000.0,61200000.0,43200000.0,46800000.0,111600000.0],\"xaxis\":\"x\",\"y\":[\"M6\",\"M5\",\"M5\",\"M3\",\"M3\",\"M1\",\"M1\"],\"yaxis\":\"y\",\"type\":\"bar\"},{\"alignmentgroup\":\"True\",\"base\":[\"1970-01-05T02:00:00\",\"1970-01-05T14:00:00\",\"1970-01-02T02:00:00\",\"1970-01-02T12:00:00\",\"1970-01-03T11:00:00\",\"1970-01-01T09:00:00\",\"1970-01-09T00:00:00\"],\"customdata\":[[\"MORSPT\"],[\"MORSPT\"],[\"MORSPT\"],[\"MORSPT\"],[\"MORSPT\"],[\"MORSPT\"],[\"SPT\"]],\"hovertemplate\":\"Type=j19<br>Start=%{base}<br>Finish=%{x}<br>Resource=%{y}<br>Task=%{text}<br>Rule=%{customdata[0]}<extra></extra>\",\"legendgroup\":\"j19\",\"marker\":{\"color\":\"#750D86\",\"pattern\":{\"shape\":\"\"},\"line\":{\"color\":\"black\"}},\"name\":\"j19\",\"offsetgroup\":\"j19\",\"orientation\":\"h\",\"showlegend\":true,\"text\":[\"j1905\",\"j1906\",\"j1902\",\"j1903\",\"j1904\",\"j1901\",\"j1907\"],\"textposition\":\"auto\",\"x\":[43200000.0,18000000.0,36000000.0,50400000.0,50400000.0,50400000.0,100800000.0],\"xaxis\":\"x\",\"y\":[\"M6\",\"M6\",\"M5\",\"M5\",\"M5\",\"M4\",\"M2\"],\"yaxis\":\"y\",\"type\":\"bar\"},{\"alignmentgroup\":\"True\",\"base\":[\"1970-01-01T14:00:00\",\"1970-01-02T06:00:00\",\"1970-01-06T19:00:00\",\"1970-01-03T07:00:00\",\"1970-01-03T23:00:00\",\"1970-01-07T13:00:00\",\"1970-01-08T05:00:00\",\"1970-01-08T19:00:00\"],\"customdata\":[[\"MORSPT\"],[\"MORSPT\"],[\"MORSPT\"],[\"MORSPT\"],[\"MORSPT\"],[\"SPT\"],[\"SPT\"],[\"SPT\"]],\"hovertemplate\":\"Type=j16<br>Start=%{base}<br>Finish=%{x}<br>Resource=%{y}<br>Task=%{text}<br>Rule=%{customdata[0]}<extra></extra>\",\"legendgroup\":\"j16\",\"marker\":{\"color\":\"#EB663B\",\"pattern\":{\"shape\":\"\"},\"line\":{\"color\":\"black\"}},\"name\":\"j16\",\"offsetgroup\":\"j16\",\"orientation\":\"h\",\"showlegend\":true,\"text\":[\"j1601\",\"j1602\",\"j1605\",\"j1603\",\"j1604\",\"j1606\",\"j1607\",\"j1608\"],\"textposition\":\"auto\",\"x\":[57600000.0,46800000.0,50400000.0,57600000.0,46800000.0,57600000.0,50400000.0,18000000.0],\"xaxis\":\"x\",\"y\":[\"M6\",\"M6\",\"M5\",\"M3\",\"M3\",\"M1\",\"M1\",\"M1\"],\"yaxis\":\"y\",\"type\":\"bar\"},{\"alignmentgroup\":\"True\",\"base\":[\"1970-01-04T14:00:00\",\"1970-01-06T09:00:00\",\"1970-01-06T20:00:00\"],\"customdata\":[[\"MORSPT\"],[\"SPT\"],[\"SPT\"]],\"hovertemplate\":\"Type=j15<br>Start=%{base}<br>Finish=%{x}<br>Resource=%{y}<br>Task=%{text}<br>Rule=%{customdata[0]}<extra></extra>\",\"legendgroup\":\"j15\",\"marker\":{\"color\":\"#511CFB\",\"pattern\":{\"shape\":\"\"},\"line\":{\"color\":\"black\"}},\"name\":\"j15\",\"offsetgroup\":\"j15\",\"orientation\":\"h\",\"showlegend\":true,\"text\":[\"j1501\",\"j1502\",\"j1503\"],\"textposition\":\"auto\",\"x\":[43200000.0,36000000.0,61200000.0],\"xaxis\":\"x\",\"y\":[\"M6\",\"M5\",\"M1\"],\"yaxis\":\"y\",\"type\":\"bar\"},{\"alignmentgroup\":\"True\",\"base\":[\"1970-01-08T02:00:00\",\"1970-01-08T21:00:00\",\"1970-01-05T08:00:00\",\"1970-01-04T12:00:00\"],\"customdata\":[[\"SPT\"],[\"SPT\"],[\"MORSPT\"],[\"MORSPT\"]],\"hovertemplate\":\"Type=j14<br>Start=%{base}<br>Finish=%{x}<br>Resource=%{y}<br>Task=%{text}<br>Rule=%{customdata[0]}<extra></extra>\",\"legendgroup\":\"j14\",\"marker\":{\"color\":\"#00A08B\",\"pattern\":{\"shape\":\"\"},\"line\":{\"color\":\"black\"}},\"name\":\"j14\",\"offsetgroup\":\"j14\",\"orientation\":\"h\",\"showlegend\":true,\"text\":[\"j1403\",\"j1404\",\"j1402\",\"j1401\"],\"textposition\":\"auto\",\"x\":[64800000.0,54000000.0,39600000.0,61200000.0],\"xaxis\":\"x\",\"y\":[\"M6\",\"M4\",\"M3\",\"M2\"],\"yaxis\":\"y\",\"type\":\"bar\"},{\"alignmentgroup\":\"True\",\"base\":[\"1970-01-04T00:00:00\",\"1970-01-03T03:00:00\",\"1970-01-05T21:00:00\",\"1970-01-05T03:00:00\",\"1970-01-05T14:00:00\"],\"customdata\":[[\"MORSPT\"],[\"MORSPT\"],[\"SPT\"],[\"MORSPT\"],[\"MORSPT\"]],\"hovertemplate\":\"Type=j12<br>Start=%{base}<br>Finish=%{x}<br>Resource=%{y}<br>Task=%{text}<br>Rule=%{customdata[0]}<extra></extra>\",\"legendgroup\":\"j12\",\"marker\":{\"color\":\"#FB00D1\",\"pattern\":{\"shape\":\"\"},\"line\":{\"color\":\"black\"}},\"name\":\"j12\",\"offsetgroup\":\"j12\",\"orientation\":\"h\",\"showlegend\":true,\"text\":[\"j1202\",\"j1201\",\"j1205\",\"j1203\",\"j1204\"],\"textposition\":\"auto\",\"x\":[50400000.0,68400000.0,39600000.0,39600000.0,18000000.0],\"xaxis\":\"x\",\"y\":[\"M6\",\"M4\",\"M2\",\"M1\",\"M1\"],\"yaxis\":\"y\",\"type\":\"bar\"},{\"alignmentgroup\":\"True\",\"base\":[\"1970-01-06T05:00:00\",\"1970-01-04T01:00:00\",\"1970-01-02T07:00:00\",\"1970-01-02T21:00:00\"],\"customdata\":[[\"SPT\"],[\"MORSPT\"],[\"MORSPT\"],[\"MORSPT\"]],\"hovertemplate\":\"Type=j1<br>Start=%{base}<br>Finish=%{x}<br>Resource=%{y}<br>Task=%{text}<br>Rule=%{customdata[0]}<extra></extra>\",\"legendgroup\":\"j1\",\"marker\":{\"color\":\"#FC0080\",\"pattern\":{\"shape\":\"\"},\"line\":{\"color\":\"black\"}},\"name\":\"j1\",\"offsetgroup\":\"j1\",\"orientation\":\"h\",\"showlegend\":true,\"text\":[\"j0104\",\"j0103\",\"j0101\",\"j0102\"],\"textposition\":\"auto\",\"x\":[43200000.0,36000000.0,50400000.0,21600000.0],\"xaxis\":\"x\",\"y\":[\"M6\",\"M5\",\"M4\",\"M4\"],\"yaxis\":\"y\",\"type\":\"bar\"},{\"alignmentgroup\":\"True\",\"base\":[\"1970-01-09T13:00:00\",\"1970-01-09T16:00:00\",\"1970-01-09T22:00:00\",\"1970-01-10T01:00:00\",\"1970-01-10T03:00:00\",\"1970-01-10T04:00:00\",\"1970-01-10T05:00:00\",\"1970-01-10T03:00:00\",\"1970-01-10T04:00:00\",\"1970-01-10T05:00:00\",\"1970-01-09T12:00:00\",\"1970-01-09T13:00:00\",\"1970-01-09T16:00:00\",\"1970-01-09T22:00:00\",\"1970-01-10T01:00:00\",\"1970-01-10T03:00:00\",\"1970-01-10T04:00:00\",\"1970-01-10T05:00:00\",\"1970-01-09T11:00:00\",\"1970-01-09T12:00:00\",\"1970-01-10T01:00:00\",\"1970-01-10T03:00:00\",\"1970-01-10T04:00:00\",\"1970-01-10T05:00:00\",\"1970-01-10T04:00:00\",\"1970-01-10T05:00:00\",\"1970-01-09T22:00:00\"],\"customdata\":[[\"DDA\"],[\"DDA\"],[\"DDA\"],[\"DDA\"],[\"DDA\"],[\"DDA\"],[\"DDA\"],[\"DDA\"],[\"DDA\"],[\"DDA\"],[\"DDA\"],[\"DDA\"],[\"DDA\"],[\"DDA\"],[\"DDA\"],[\"DDA\"],[\"DDA\"],[\"DDA\"],[\"DDA\"],[\"DDA\"],[\"DDA\"],[\"DDA\"],[\"DDA\"],[\"DDA\"],[\"DDA\"],[\"DDA\"],[\"DDA\"]],\"hovertemplate\":\"Type=delay_machine<br>Start=%{base}<br>Finish=%{x}<br>Resource=%{y}<br>Task=%{text}<br>Rule=%{customdata[0]}<extra></extra>\",\"legendgroup\":\"delay_machine\",\"marker\":{\"color\":\"#B2828D\",\"pattern\":{\"shape\":\"\"},\"line\":{\"color\":\"black\"}},\"name\":\"delay_machine\",\"offsetgroup\":\"delay_machine\",\"orientation\":\"h\",\"showlegend\":true,\"text\":[\"delay\",\"delay\",\"delay\",\"delay\",\"delay\",\"delay\",\"delay\",\"delay\",\"delay\",\"delay\",\"delay\",\"delay\",\"delay\",\"delay\",\"delay\",\"delay\",\"delay\",\"delay\",\"delay\",\"delay\",\"delay\",\"delay\",\"delay\",\"delay\",\"delay\",\"delay\",\"delay\"],\"textposition\":\"auto\",\"x\":[10800000.0,21600000.0,10800000.0,7200000.0,3600000.0,3600000.0,97200000.0,3600000.0,3600000.0,97200000.0,3600000.0,10800000.0,21600000.0,10800000.0,7200000.0,3600000.0,3600000.0,97200000.0,3600000.0,3600000.0,7200000.0,3600000.0,3600000.0,97200000.0,3600000.0,97200000.0,10800000.0],\"xaxis\":\"x\",\"y\":[\"M6\",\"M6\",\"M6\",\"M6\",\"M6\",\"M6\",\"M6\",\"M5\",\"M5\",\"M5\",\"M4\",\"M4\",\"M4\",\"M4\",\"M4\",\"M4\",\"M4\",\"M4\",\"M3\",\"M3\",\"M3\",\"M3\",\"M3\",\"M3\",\"M2\",\"M2\",\"M1\"],\"yaxis\":\"y\",\"type\":\"bar\"},{\"alignmentgroup\":\"True\",\"base\":[\"1970-01-07T22:00:00\",\"1970-01-08T14:00:00\",\"1970-01-09T04:00:00\",\"1970-01-01T21:00:00\"],\"customdata\":[[\"SPT\"],[\"SPT\"],[\"SPT\"],[\"MORSPT\"]],\"hovertemplate\":\"Type=j13<br>Start=%{base}<br>Finish=%{x}<br>Resource=%{y}<br>Task=%{text}<br>Rule=%{customdata[0]}<extra></extra>\",\"legendgroup\":\"j13\",\"marker\":{\"color\":\"#6C7C32\",\"pattern\":{\"shape\":\"\"},\"line\":{\"color\":\"black\"}},\"name\":\"j13\",\"offsetgroup\":\"j13\",\"orientation\":\"h\",\"showlegend\":true,\"text\":[\"j1302\",\"j1303\",\"j1304\",\"j1301\"],\"textposition\":\"auto\",\"x\":[57600000.0,50400000.0,82800000.0,36000000.0],\"xaxis\":\"x\",\"y\":[\"M5\",\"M5\",\"M5\",\"M3\"],\"yaxis\":\"y\",\"type\":\"bar\"},{\"alignmentgroup\":\"True\",\"base\":[\"1970-01-05T12:00:00\",\"1970-01-05T20:00:00\",\"1970-01-06T03:00:00\",\"1970-01-02T13:00:00\",\"1970-01-04T04:00:00\",\"1970-01-04T20:00:00\"],\"customdata\":[[\"MORSPT\"],[\"SPT\"],[\"SPT\"],[\"MORSPT\"],[\"MORSPT\"],[\"MORSPT\"]],\"hovertemplate\":\"Type=j11<br>Start=%{base}<br>Finish=%{x}<br>Resource=%{y}<br>Task=%{text}<br>Rule=%{customdata[0]}<extra></extra>\",\"legendgroup\":\"j11\",\"marker\":{\"color\":\"#778AAE\",\"pattern\":{\"shape\":\"\"},\"line\":{\"color\":\"black\"}},\"name\":\"j11\",\"offsetgroup\":\"j11\",\"orientation\":\"h\",\"showlegend\":true,\"text\":[\"j1104\",\"j1105\",\"j1106\",\"j1101\",\"j1102\",\"j1103\"],\"textposition\":\"auto\",\"x\":[28800000.0,25200000.0,21600000.0,64800000.0,57600000.0,25200000.0],\"xaxis\":\"x\",\"y\":[\"M5\",\"M5\",\"M5\",\"M1\",\"M1\",\"M1\"],\"yaxis\":\"y\",\"type\":\"bar\"},{\"alignmentgroup\":\"True\",\"base\":[\"1970-01-01T23:00:00\",\"1970-01-01T09:00:00\",\"1970-01-07T13:00:00\",\"1970-01-08T04:00:00\"],\"customdata\":[[\"MORSPT\"],[\"SPT\"],[\"SPT\"],[\"SPT\"]],\"hovertemplate\":\"Type=j8<br>Start=%{base}<br>Finish=%{x}<br>Resource=%{y}<br>Task=%{text}<br>Rule=%{customdata[0]}<extra></extra>\",\"legendgroup\":\"j8\",\"marker\":{\"color\":\"#862A16\",\"pattern\":{\"shape\":\"\"},\"line\":{\"color\":\"black\"}},\"name\":\"j8\",\"offsetgroup\":\"j8\",\"orientation\":\"h\",\"showlegend\":true,\"text\":[\"j0802\",\"j0801\",\"j0803\",\"j0804\"],\"textposition\":\"auto\",\"x\":[28800000.0,18000000.0,54000000.0,54000000.0],\"xaxis\":\"x\",\"y\":[\"M4\",\"M3\",\"M3\",\"M3\"],\"yaxis\":\"y\",\"type\":\"bar\"},{\"alignmentgroup\":\"True\",\"base\":[\"1970-01-05T04:00:00\",\"1970-01-06T12:00:00\",\"1970-01-07T03:00:00\",\"1970-01-03T14:00:00\",\"1970-01-04T07:00:00\",\"1970-01-05T19:00:00\"],\"customdata\":[[\"MORSPT\"],[\"SPT\"],[\"SPT\"],[\"MORSPT\"],[\"MORSPT\"],[\"MORSPT\"]],\"hovertemplate\":\"Type=j20<br>Start=%{base}<br>Finish=%{x}<br>Resource=%{y}<br>Task=%{text}<br>Rule=%{customdata[0]}<extra></extra>\",\"legendgroup\":\"j20\",\"marker\":{\"color\":\"#A777F1\",\"pattern\":{\"shape\":\"\"},\"line\":{\"color\":\"black\"}},\"name\":\"j20\",\"offsetgroup\":\"j20\",\"orientation\":\"h\",\"showlegend\":true,\"text\":[\"j2003\",\"j2005\",\"j2006\",\"j2001\",\"j2002\",\"j2004\"],\"textposition\":\"auto\",\"x\":[54000000.0,54000000.0,36000000.0,61200000.0,18000000.0,46800000.0],\"xaxis\":\"x\",\"y\":[\"M4\",\"M3\",\"M3\",\"M2\",\"M2\",\"M1\"],\"yaxis\":\"y\",\"type\":\"bar\"},{\"alignmentgroup\":\"True\",\"base\":[\"1970-01-03T22:00:00\",\"1970-01-04T17:00:00\",\"1970-01-08T19:00:00\",\"1970-01-07T07:00:00\",\"1970-01-07T23:00:00\"],\"customdata\":[[\"MORSPT\"],[\"MORSPT\"],[\"SPT\"],[\"MORSPT\"],[\"SPT\"]],\"hovertemplate\":\"Type=j18<br>Start=%{base}<br>Finish=%{x}<br>Resource=%{y}<br>Task=%{text}<br>Rule=%{customdata[0]}<extra></extra>\",\"legendgroup\":\"j18\",\"marker\":{\"color\":\"#620042\",\"pattern\":{\"shape\":\"\"},\"line\":{\"color\":\"black\"}},\"name\":\"j18\",\"offsetgroup\":\"j18\",\"orientation\":\"h\",\"showlegend\":true,\"text\":[\"j1801\",\"j1802\",\"j1805\",\"j1803\",\"j1804\"],\"textposition\":\"auto\",\"x\":[68400000.0,39600000.0,57600000.0,57600000.0,39600000.0],\"xaxis\":\"x\",\"y\":[\"M4\",\"M4\",\"M3\",\"M2\",\"M2\"],\"yaxis\":\"y\",\"type\":\"bar\"},{\"alignmentgroup\":\"True\",\"base\":[\"1970-01-07T11:00:00\",\"1970-01-05T05:00:00\",\"1970-01-08T10:00:00\",\"1970-01-09T00:00:00\"],\"customdata\":[[\"SPT\"],[\"MORSPT\"],[\"SPT\"],[\"SPT\"]],\"hovertemplate\":\"Type=j17<br>Start=%{base}<br>Finish=%{x}<br>Resource=%{y}<br>Task=%{text}<br>Rule=%{customdata[0]}<extra></extra>\",\"legendgroup\":\"j17\",\"marker\":{\"color\":\"#1616A7\",\"pattern\":{\"shape\":\"\"},\"line\":{\"color\":\"black\"}},\"name\":\"j17\",\"offsetgroup\":\"j17\",\"orientation\":\"h\",\"showlegend\":true,\"text\":[\"j1702\",\"j1701\",\"j1703\",\"j1704\"],\"textposition\":\"auto\",\"x\":[57600000.0,57600000.0,50400000.0,79200000.0],\"xaxis\":\"x\",\"y\":[\"M4\",\"M2\",\"M2\",\"M1\"],\"yaxis\":\"y\",\"type\":\"bar\"},{\"alignmentgroup\":\"True\",\"base\":[\"1970-01-05T19:00:00\",\"1970-01-04T12:00:00\",\"1970-01-05T01:00:00\",\"1970-01-01T09:00:00\"],\"customdata\":[[\"SPT\"],[\"MORSPT\"],[\"MORSPT\"],[\"SPT\"]],\"hovertemplate\":\"Type=j10<br>Start=%{base}<br>Finish=%{x}<br>Resource=%{y}<br>Task=%{text}<br>Rule=%{customdata[0]}<extra></extra>\",\"legendgroup\":\"j10\",\"marker\":{\"color\":\"#DA60CA\",\"pattern\":{\"shape\":\"\"},\"line\":{\"color\":\"black\"}},\"name\":\"j10\",\"offsetgroup\":\"j10\",\"orientation\":\"h\",\"showlegend\":true,\"text\":[\"j1004\",\"j1002\",\"j1003\",\"j1001\"],\"textposition\":\"auto\",\"x\":[36000000.0,46800000.0,25200000.0,18000000.0],\"xaxis\":\"x\",\"y\":[\"M4\",\"M3\",\"M3\",\"M1\"],\"yaxis\":\"y\",\"type\":\"bar\"},{\"alignmentgroup\":\"True\",\"base\":[\"1970-01-01T14:00:00\",\"1970-01-02T19:00:00\",\"1970-01-03T16:00:00\",\"1970-01-04T00:00:00\",\"1970-01-04T14:00:00\",\"1970-01-05T02:00:00\",\"1970-01-05T19:00:00\",\"1970-01-06T05:00:00\",\"1970-01-06T17:00:00\",\"1970-01-07T06:00:00\",\"1970-01-07T14:00:00\",\"1970-01-08T02:00:00\",\"1970-01-08T20:00:00\",\"1970-01-01T19:00:00\",\"1970-01-02T02:00:00\",\"1970-01-03T02:00:00\",\"1970-01-03T11:00:00\",\"1970-01-04T01:00:00\",\"1970-01-04T11:00:00\",\"1970-01-05T12:00:00\",\"1970-01-06T09:00:00\",\"1970-01-07T09:00:00\",\"1970-01-07T22:00:00\",\"1970-01-01T23:00:00\",\"1970-01-02T07:00:00\",\"1970-01-03T03:00:00\",\"1970-01-03T22:00:00\",\"1970-01-05T04:00:00\",\"1970-01-05T19:00:00\",\"1970-01-06T05:00:00\",\"1970-01-06T19:00:00\",\"1970-01-07T11:00:00\",\"1970-01-08T03:00:00\",\"1970-01-08T21:00:00\",\"1970-01-01T14:00:00\",\"1970-01-01T21:00:00\",\"1970-01-02T07:00:00\",\"1970-01-02T16:00:00\",\"1970-01-03T07:00:00\",\"1970-01-04T12:00:00\",\"1970-01-05T08:00:00\",\"1970-01-05T19:00:00\",\"1970-01-06T12:00:00\",\"1970-01-07T13:00:00\",\"1970-01-08T19:00:00\",\"1970-01-09T13:00:00\",\"1970-01-01T19:00:00\",\"1970-01-02T07:00:00\",\"1970-01-02T16:00:00\",\"1970-01-03T14:00:00\",\"1970-01-04T12:00:00\",\"1970-01-05T05:00:00\",\"1970-01-05T21:00:00\",\"1970-01-06T08:00:00\",\"1970-01-06T17:00:00\",\"1970-01-07T07:00:00\",\"1970-01-08T10:00:00\",\"1970-01-09T00:00:00\",\"1970-01-01T14:00:00\",\"1970-01-02T00:00:00\",\"1970-01-02T13:00:00\",\"1970-01-03T07:00:00\",\"1970-01-04T04:00:00\",\"1970-01-05T03:00:00\",\"1970-01-05T19:00:00\",\"1970-01-06T08:00:00\",\"1970-01-06T20:00:00\",\"1970-01-09T00:00:00\",\"1970-01-10T01:00:00\"],\"customdata\":[[\"NONE\"],[\"NONE\"],[\"NONE\"],[\"NONE\"],[\"NONE\"],[\"NONE\"],[\"NONE\"],[\"NONE\"],[\"NONE\"],[\"NONE\"],[\"NONE\"],[\"NONE\"],[\"NONE\"],[\"NONE\"],[\"NONE\"],[\"NONE\"],[\"NONE\"],[\"NONE\"],[\"NONE\"],[\"NONE\"],[\"NONE\"],[\"NONE\"],[\"NONE\"],[\"NONE\"],[\"NONE\"],[\"NONE\"],[\"NONE\"],[\"NONE\"],[\"NONE\"],[\"NONE\"],[\"NONE\"],[\"NONE\"],[\"NONE\"],[\"NONE\"],[\"NONE\"],[\"NONE\"],[\"NONE\"],[\"NONE\"],[\"NONE\"],[\"NONE\"],[\"NONE\"],[\"NONE\"],[\"NONE\"],[\"NONE\"],[\"NONE\"],[\"NONE\"],[\"NONE\"],[\"NONE\"],[\"NONE\"],[\"NONE\"],[\"NONE\"],[\"NONE\"],[\"NONE\"],[\"NONE\"],[\"NONE\"],[\"NONE\"],[\"NONE\"],[\"NONE\"],[\"NONE\"],[\"NONE\"],[\"NONE\"],[\"NONE\"],[\"NONE\"],[\"NONE\"],[\"NONE\"],[\"NONE\"],[\"NONE\"],[\"NONE\"],[\"NONE\"]],\"hovertemplate\":\"Type=setup<br>Start=%{base}<br>Finish=%{x}<br>Resource=%{y}<br>Task=%{text}<br>Rule=%{customdata[0]}<extra></extra>\",\"legendgroup\":\"setup\",\"marker\":{\"color\":\"#6C4516\",\"pattern\":{\"shape\":\"\"},\"line\":{\"color\":\"black\"}},\"name\":\"setup\",\"offsetgroup\":\"setup\",\"orientation\":\"h\",\"showlegend\":true,\"text\":[\"setup\",\"setup\",\"setup\",\"setup\",\"setup\",\"setup\",\"setup\",\"setup\",\"setup\",\"setup\",\"setup\",\"setup\",\"setup\",\"setup\",\"setup\",\"setup\",\"setup\",\"setup\",\"setup\",\"setup\",\"setup\",\"setup\",\"setup\",\"setup\",\"setup\",\"setup\",\"setup\",\"setup\",\"setup\",\"setup\",\"setup\",\"setup\",\"setup\",\"setup\",\"setup\",\"setup\",\"setup\",\"setup\",\"setup\",\"setup\",\"setup\",\"setup\",\"setup\",\"setup\",\"setup\",\"setup\",\"setup\",\"setup\",\"setup\",\"setup\",\"setup\",\"setup\",\"setup\",\"setup\",\"setup\",\"setup\",\"setup\",\"setup\",\"setup\",\"setup\",\"setup\",\"setup\",\"setup\",\"setup\",\"setup\",\"setup\",\"setup\",\"setup\",\"setup\"],\"textposition\":\"auto\",\"x\":[14400000.0,10800000.0,7200000.0,7200000.0,7200000.0,7200000.0,10800000.0,10800000.0,10800000.0,3600000.0,3600000.0,10800000.0,3600000.0,7200000.0,10800000.0,10800000.0,7200000.0,10800000.0,10800000.0,7200000.0,7200000.0,3600000.0,7200000.0,7200000.0,7200000.0,10800000.0,10800000.0,10800000.0,3600000.0,14400000.0,10800000.0,10800000.0,3600000.0,10800000.0,7200000.0,10800000.0,10800000.0,7200000.0,7200000.0,7200000.0,3600000.0,3600000.0,10800000.0,7200000.0,10800000.0,10800000.0,14400000.0,10800000.0,10800000.0,3600000.0,14400000.0,10800000.0,14400000.0,14400000.0,10800000.0,14400000.0,10800000.0,14400000.0,14400000.0,7200000.0,7200000.0,10800000.0,7200000.0,14400000.0,10800000.0,10800000.0,7200000.0,10800000.0,14400000.0],\"xaxis\":\"x\",\"y\":[\"M6\",\"M6\",\"M6\",\"M6\",\"M6\",\"M6\",\"M6\",\"M6\",\"M6\",\"M6\",\"M6\",\"M6\",\"M6\",\"M5\",\"M5\",\"M5\",\"M5\",\"M5\",\"M5\",\"M5\",\"M5\",\"M5\",\"M5\",\"M4\",\"M4\",\"M4\",\"M4\",\"M4\",\"M4\",\"M4\",\"M4\",\"M4\",\"M4\",\"M4\",\"M3\",\"M3\",\"M3\",\"M3\",\"M3\",\"M3\",\"M3\",\"M3\",\"M3\",\"M3\",\"M3\",\"M3\",\"M2\",\"M2\",\"M2\",\"M2\",\"M2\",\"M2\",\"M2\",\"M2\",\"M2\",\"M2\",\"M2\",\"M2\",\"M1\",\"M1\",\"M1\",\"M1\",\"M1\",\"M1\",\"M1\",\"M1\",\"M1\",\"M1\",\"M1\"],\"yaxis\":\"y\",\"type\":\"bar\",\"width\":0.7}],                        {\"template\":{\"data\":{\"barpolar\":[{\"marker\":{\"line\":{\"color\":\"white\",\"width\":0.5},\"pattern\":{\"fillmode\":\"overlay\",\"size\":10,\"solidity\":0.2}},\"type\":\"barpolar\"}],\"bar\":[{\"error_x\":{\"color\":\"rgb(36,36,36)\"},\"error_y\":{\"color\":\"rgb(36,36,36)\"},\"marker\":{\"line\":{\"color\":\"white\",\"width\":0.5},\"pattern\":{\"fillmode\":\"overlay\",\"size\":10,\"solidity\":0.2}},\"type\":\"bar\"}],\"carpet\":[{\"aaxis\":{\"endlinecolor\":\"rgb(36,36,36)\",\"gridcolor\":\"white\",\"linecolor\":\"white\",\"minorgridcolor\":\"white\",\"startlinecolor\":\"rgb(36,36,36)\"},\"baxis\":{\"endlinecolor\":\"rgb(36,36,36)\",\"gridcolor\":\"white\",\"linecolor\":\"white\",\"minorgridcolor\":\"white\",\"startlinecolor\":\"rgb(36,36,36)\"},\"type\":\"carpet\"}],\"choropleth\":[{\"colorbar\":{\"outlinewidth\":1,\"tickcolor\":\"rgb(36,36,36)\",\"ticks\":\"outside\"},\"type\":\"choropleth\"}],\"contourcarpet\":[{\"colorbar\":{\"outlinewidth\":1,\"tickcolor\":\"rgb(36,36,36)\",\"ticks\":\"outside\"},\"type\":\"contourcarpet\"}],\"contour\":[{\"colorbar\":{\"outlinewidth\":1,\"tickcolor\":\"rgb(36,36,36)\",\"ticks\":\"outside\"},\"colorscale\":[[0.0,\"#440154\"],[0.1111111111111111,\"#482878\"],[0.2222222222222222,\"#3e4989\"],[0.3333333333333333,\"#31688e\"],[0.4444444444444444,\"#26828e\"],[0.5555555555555556,\"#1f9e89\"],[0.6666666666666666,\"#35b779\"],[0.7777777777777778,\"#6ece58\"],[0.8888888888888888,\"#b5de2b\"],[1.0,\"#fde725\"]],\"type\":\"contour\"}],\"heatmapgl\":[{\"colorbar\":{\"outlinewidth\":1,\"tickcolor\":\"rgb(36,36,36)\",\"ticks\":\"outside\"},\"colorscale\":[[0.0,\"#440154\"],[0.1111111111111111,\"#482878\"],[0.2222222222222222,\"#3e4989\"],[0.3333333333333333,\"#31688e\"],[0.4444444444444444,\"#26828e\"],[0.5555555555555556,\"#1f9e89\"],[0.6666666666666666,\"#35b779\"],[0.7777777777777778,\"#6ece58\"],[0.8888888888888888,\"#b5de2b\"],[1.0,\"#fde725\"]],\"type\":\"heatmapgl\"}],\"heatmap\":[{\"colorbar\":{\"outlinewidth\":1,\"tickcolor\":\"rgb(36,36,36)\",\"ticks\":\"outside\"},\"colorscale\":[[0.0,\"#440154\"],[0.1111111111111111,\"#482878\"],[0.2222222222222222,\"#3e4989\"],[0.3333333333333333,\"#31688e\"],[0.4444444444444444,\"#26828e\"],[0.5555555555555556,\"#1f9e89\"],[0.6666666666666666,\"#35b779\"],[0.7777777777777778,\"#6ece58\"],[0.8888888888888888,\"#b5de2b\"],[1.0,\"#fde725\"]],\"type\":\"heatmap\"}],\"histogram2dcontour\":[{\"colorbar\":{\"outlinewidth\":1,\"tickcolor\":\"rgb(36,36,36)\",\"ticks\":\"outside\"},\"colorscale\":[[0.0,\"#440154\"],[0.1111111111111111,\"#482878\"],[0.2222222222222222,\"#3e4989\"],[0.3333333333333333,\"#31688e\"],[0.4444444444444444,\"#26828e\"],[0.5555555555555556,\"#1f9e89\"],[0.6666666666666666,\"#35b779\"],[0.7777777777777778,\"#6ece58\"],[0.8888888888888888,\"#b5de2b\"],[1.0,\"#fde725\"]],\"type\":\"histogram2dcontour\"}],\"histogram2d\":[{\"colorbar\":{\"outlinewidth\":1,\"tickcolor\":\"rgb(36,36,36)\",\"ticks\":\"outside\"},\"colorscale\":[[0.0,\"#440154\"],[0.1111111111111111,\"#482878\"],[0.2222222222222222,\"#3e4989\"],[0.3333333333333333,\"#31688e\"],[0.4444444444444444,\"#26828e\"],[0.5555555555555556,\"#1f9e89\"],[0.6666666666666666,\"#35b779\"],[0.7777777777777778,\"#6ece58\"],[0.8888888888888888,\"#b5de2b\"],[1.0,\"#fde725\"]],\"type\":\"histogram2d\"}],\"histogram\":[{\"marker\":{\"line\":{\"color\":\"white\",\"width\":0.6}},\"type\":\"histogram\"}],\"mesh3d\":[{\"colorbar\":{\"outlinewidth\":1,\"tickcolor\":\"rgb(36,36,36)\",\"ticks\":\"outside\"},\"type\":\"mesh3d\"}],\"parcoords\":[{\"line\":{\"colorbar\":{\"outlinewidth\":1,\"tickcolor\":\"rgb(36,36,36)\",\"ticks\":\"outside\"}},\"type\":\"parcoords\"}],\"pie\":[{\"automargin\":true,\"type\":\"pie\"}],\"scatter3d\":[{\"line\":{\"colorbar\":{\"outlinewidth\":1,\"tickcolor\":\"rgb(36,36,36)\",\"ticks\":\"outside\"}},\"marker\":{\"colorbar\":{\"outlinewidth\":1,\"tickcolor\":\"rgb(36,36,36)\",\"ticks\":\"outside\"}},\"type\":\"scatter3d\"}],\"scattercarpet\":[{\"marker\":{\"colorbar\":{\"outlinewidth\":1,\"tickcolor\":\"rgb(36,36,36)\",\"ticks\":\"outside\"}},\"type\":\"scattercarpet\"}],\"scattergeo\":[{\"marker\":{\"colorbar\":{\"outlinewidth\":1,\"tickcolor\":\"rgb(36,36,36)\",\"ticks\":\"outside\"}},\"type\":\"scattergeo\"}],\"scattergl\":[{\"marker\":{\"colorbar\":{\"outlinewidth\":1,\"tickcolor\":\"rgb(36,36,36)\",\"ticks\":\"outside\"}},\"type\":\"scattergl\"}],\"scattermapbox\":[{\"marker\":{\"colorbar\":{\"outlinewidth\":1,\"tickcolor\":\"rgb(36,36,36)\",\"ticks\":\"outside\"}},\"type\":\"scattermapbox\"}],\"scatterpolargl\":[{\"marker\":{\"colorbar\":{\"outlinewidth\":1,\"tickcolor\":\"rgb(36,36,36)\",\"ticks\":\"outside\"}},\"type\":\"scatterpolargl\"}],\"scatterpolar\":[{\"marker\":{\"colorbar\":{\"outlinewidth\":1,\"tickcolor\":\"rgb(36,36,36)\",\"ticks\":\"outside\"}},\"type\":\"scatterpolar\"}],\"scatter\":[{\"fillpattern\":{\"fillmode\":\"overlay\",\"size\":10,\"solidity\":0.2},\"type\":\"scatter\"}],\"scatterternary\":[{\"marker\":{\"colorbar\":{\"outlinewidth\":1,\"tickcolor\":\"rgb(36,36,36)\",\"ticks\":\"outside\"}},\"type\":\"scatterternary\"}],\"surface\":[{\"colorbar\":{\"outlinewidth\":1,\"tickcolor\":\"rgb(36,36,36)\",\"ticks\":\"outside\"},\"colorscale\":[[0.0,\"#440154\"],[0.1111111111111111,\"#482878\"],[0.2222222222222222,\"#3e4989\"],[0.3333333333333333,\"#31688e\"],[0.4444444444444444,\"#26828e\"],[0.5555555555555556,\"#1f9e89\"],[0.6666666666666666,\"#35b779\"],[0.7777777777777778,\"#6ece58\"],[0.8888888888888888,\"#b5de2b\"],[1.0,\"#fde725\"]],\"type\":\"surface\"}],\"table\":[{\"cells\":{\"fill\":{\"color\":\"rgb(237,237,237)\"},\"line\":{\"color\":\"white\"}},\"header\":{\"fill\":{\"color\":\"rgb(217,217,217)\"},\"line\":{\"color\":\"white\"}},\"type\":\"table\"}]},\"layout\":{\"annotationdefaults\":{\"arrowhead\":0,\"arrowwidth\":1},\"autotypenumbers\":\"strict\",\"coloraxis\":{\"colorbar\":{\"outlinewidth\":1,\"tickcolor\":\"rgb(36,36,36)\",\"ticks\":\"outside\"}},\"colorscale\":{\"diverging\":[[0.0,\"rgb(103,0,31)\"],[0.1,\"rgb(178,24,43)\"],[0.2,\"rgb(214,96,77)\"],[0.3,\"rgb(244,165,130)\"],[0.4,\"rgb(253,219,199)\"],[0.5,\"rgb(247,247,247)\"],[0.6,\"rgb(209,229,240)\"],[0.7,\"rgb(146,197,222)\"],[0.8,\"rgb(67,147,195)\"],[0.9,\"rgb(33,102,172)\"],[1.0,\"rgb(5,48,97)\"]],\"sequential\":[[0.0,\"#440154\"],[0.1111111111111111,\"#482878\"],[0.2222222222222222,\"#3e4989\"],[0.3333333333333333,\"#31688e\"],[0.4444444444444444,\"#26828e\"],[0.5555555555555556,\"#1f9e89\"],[0.6666666666666666,\"#35b779\"],[0.7777777777777778,\"#6ece58\"],[0.8888888888888888,\"#b5de2b\"],[1.0,\"#fde725\"]],\"sequentialminus\":[[0.0,\"#440154\"],[0.1111111111111111,\"#482878\"],[0.2222222222222222,\"#3e4989\"],[0.3333333333333333,\"#31688e\"],[0.4444444444444444,\"#26828e\"],[0.5555555555555556,\"#1f9e89\"],[0.6666666666666666,\"#35b779\"],[0.7777777777777778,\"#6ece58\"],[0.8888888888888888,\"#b5de2b\"],[1.0,\"#fde725\"]]},\"colorway\":[\"#1F77B4\",\"#FF7F0E\",\"#2CA02C\",\"#D62728\",\"#9467BD\",\"#8C564B\",\"#E377C2\",\"#7F7F7F\",\"#BCBD22\",\"#17BECF\"],\"font\":{\"color\":\"rgb(36,36,36)\"},\"geo\":{\"bgcolor\":\"white\",\"lakecolor\":\"white\",\"landcolor\":\"white\",\"showlakes\":true,\"showland\":true,\"subunitcolor\":\"white\"},\"hoverlabel\":{\"align\":\"left\"},\"hovermode\":\"closest\",\"mapbox\":{\"style\":\"light\"},\"paper_bgcolor\":\"white\",\"plot_bgcolor\":\"white\",\"polar\":{\"angularaxis\":{\"gridcolor\":\"rgb(232,232,232)\",\"linecolor\":\"rgb(36,36,36)\",\"showgrid\":false,\"showline\":true,\"ticks\":\"outside\"},\"bgcolor\":\"white\",\"radialaxis\":{\"gridcolor\":\"rgb(232,232,232)\",\"linecolor\":\"rgb(36,36,36)\",\"showgrid\":false,\"showline\":true,\"ticks\":\"outside\"}},\"scene\":{\"xaxis\":{\"backgroundcolor\":\"white\",\"gridcolor\":\"rgb(232,232,232)\",\"gridwidth\":2,\"linecolor\":\"rgb(36,36,36)\",\"showbackground\":true,\"showgrid\":false,\"showline\":true,\"ticks\":\"outside\",\"zeroline\":false,\"zerolinecolor\":\"rgb(36,36,36)\"},\"yaxis\":{\"backgroundcolor\":\"white\",\"gridcolor\":\"rgb(232,232,232)\",\"gridwidth\":2,\"linecolor\":\"rgb(36,36,36)\",\"showbackground\":true,\"showgrid\":false,\"showline\":true,\"ticks\":\"outside\",\"zeroline\":false,\"zerolinecolor\":\"rgb(36,36,36)\"},\"zaxis\":{\"backgroundcolor\":\"white\",\"gridcolor\":\"rgb(232,232,232)\",\"gridwidth\":2,\"linecolor\":\"rgb(36,36,36)\",\"showbackground\":true,\"showgrid\":false,\"showline\":true,\"ticks\":\"outside\",\"zeroline\":false,\"zerolinecolor\":\"rgb(36,36,36)\"}},\"shapedefaults\":{\"fillcolor\":\"black\",\"line\":{\"width\":0},\"opacity\":0.3},\"ternary\":{\"aaxis\":{\"gridcolor\":\"rgb(232,232,232)\",\"linecolor\":\"rgb(36,36,36)\",\"showgrid\":false,\"showline\":true,\"ticks\":\"outside\"},\"baxis\":{\"gridcolor\":\"rgb(232,232,232)\",\"linecolor\":\"rgb(36,36,36)\",\"showgrid\":false,\"showline\":true,\"ticks\":\"outside\"},\"bgcolor\":\"white\",\"caxis\":{\"gridcolor\":\"rgb(232,232,232)\",\"linecolor\":\"rgb(36,36,36)\",\"showgrid\":false,\"showline\":true,\"ticks\":\"outside\"}},\"title\":{\"x\":0.05},\"xaxis\":{\"automargin\":true,\"gridcolor\":\"rgb(232,232,232)\",\"linecolor\":\"rgb(36,36,36)\",\"showgrid\":false,\"showline\":true,\"ticks\":\"outside\",\"title\":{\"standoff\":15},\"zeroline\":false,\"zerolinecolor\":\"rgb(36,36,36)\"},\"yaxis\":{\"automargin\":true,\"gridcolor\":\"rgb(232,232,232)\",\"linecolor\":\"rgb(36,36,36)\",\"showgrid\":false,\"showline\":true,\"ticks\":\"outside\",\"title\":{\"standoff\":15},\"zeroline\":false,\"zerolinecolor\":\"rgb(36,36,36)\"}}},\"xaxis\":{\"anchor\":\"y\",\"domain\":[0.0,1.0],\"type\":\"date\"},\"yaxis\":{\"anchor\":\"x\",\"domain\":[0.0,1.0],\"title\":{\"text\":\"Resource\"}},\"legend\":{\"title\":{\"text\":\"Type\"},\"tracegroupgap\":0},\"margin\":{\"t\":60},\"barmode\":\"overlay\",\"height\":800,\"width\":2000},                        {\"responsive\": true}                    ).then(function(){\n",
       "                            \n",
       "var gd = document.getElementById('c114dfe9-e86c-46fb-a45e-0fdd0ccd0609');\n",
       "var x = new MutationObserver(function (mutations, observer) {{\n",
       "        var display = window.getComputedStyle(gd).display;\n",
       "        if (!display || display === 'none') {{\n",
       "            console.log([gd, 'removed!']);\n",
       "            Plotly.purge(gd);\n",
       "            observer.disconnect();\n",
       "        }}\n",
       "}});\n",
       "\n",
       "// Listen for the removal of the full notebook cells\n",
       "var notebookContainer = gd.closest('#notebook-container');\n",
       "if (notebookContainer) {{\n",
       "    x.observe(notebookContainer, {childList: true});\n",
       "}}\n",
       "\n",
       "// Listen for the clearing of the current output cell\n",
       "var outputEl = gd.closest('.output');\n",
       "if (outputEl) {{\n",
       "    x.observe(outputEl, {childList: true});\n",
       "}}\n",
       "\n",
       "                        })                };                });            </script>        </div>"
      ]
     },
     "metadata": {},
     "output_type": "display_data"
    },
    {
     "data": {
      "application/vnd.plotly.v1+json": {
       "config": {
        "plotlyServerURL": "https://plot.ly"
       },
       "data": [
        {
         "alignmentgroup": "True",
         "base": [
          "1970-01-10T05:00:00",
          "1970-01-10T04:00:00",
          "1970-01-05T21:00:00",
          "1970-01-04T12:00:00",
          "1970-01-08T10:00:00",
          "1970-01-05T05:00:00",
          "1970-01-07T23:00:00",
          "1970-01-07T07:00:00",
          "1970-01-09T00:00:00",
          "1970-01-03T14:00:00",
          "1970-01-04T07:00:00",
          "1970-01-06T17:00:00",
          "1970-01-01T14:00:00",
          "1970-01-01T09:00:00",
          "1970-01-06T08:00:00",
          "1970-01-02T07:00:00",
          "1970-01-02T16:00:00",
          "1970-01-03T05:00:00",
          "1970-01-01T19:00:00",
          "1970-01-01T19:00:00",
          "1970-01-02T07:00:00",
          "1970-01-09T00:00:00",
          "1970-01-05T05:00:00",
          "1970-01-04T12:00:00",
          "1970-01-03T14:00:00",
          "1970-01-08T10:00:00",
          "1970-01-07T07:00:00",
          "1970-01-06T17:00:00",
          "1970-01-02T16:00:00",
          "1970-01-06T08:00:00",
          "1970-01-05T21:00:00"
         ],
         "hovertemplate": "Resource=%{text}<br>Start=%{base}<br>Finish=%{x}<br>Type=%{y}<extra></extra>",
         "legendgroup": "M2",
         "marker": {
          "cmid": 1000,
          "color": "rgb(76,114,176)",
          "line": {
           "color": "yellow"
          },
          "pattern": {
           "shape": ""
          }
         },
         "name": "M2",
         "offsetgroup": "M2",
         "orientation": "h",
         "showlegend": true,
         "text": [
          "M2",
          "M2",
          "M2",
          "M2",
          "M2",
          "M2",
          "M2",
          "M2",
          "M2",
          "M2",
          "M2",
          "M2",
          "M2",
          "M2",
          "M2",
          "M2",
          "M2",
          "M2",
          "M2",
          "M2",
          "M2",
          "M2",
          "M2",
          "M2",
          "M2",
          "M2",
          "M2",
          "M2",
          "M2",
          "M2",
          "M2"
         ],
         "textposition": "auto",
         "type": "bar",
         "x": [
          97200000,
          3600000,
          39600000,
          61200000,
          50400000,
          57600000,
          39600000,
          57600000,
          100800000,
          61200000,
          18000000,
          50400000,
          18000000,
          18000000,
          32400000,
          32400000,
          46800000,
          32400000,
          43200000,
          14400000,
          10800000,
          14400000,
          10800000,
          14400000,
          3600000,
          10800000,
          14400000,
          10800000,
          10800000,
          14400000,
          14400000
         ],
         "xaxis": "x",
         "y": [
          "delay_machine",
          "delay_machine",
          "j12",
          "j14",
          "j17",
          "j17",
          "j18",
          "j18",
          "j19",
          "j20",
          "j20",
          "j4",
          "j4",
          "j4",
          "j5",
          "j6",
          "j7",
          "j7",
          "j9",
          "setup",
          "setup",
          "setup",
          "setup",
          "setup",
          "setup",
          "setup",
          "setup",
          "setup",
          "setup",
          "setup",
          "setup"
         ],
         "yaxis": "y"
        },
        {
         "alignmentgroup": "True",
         "base": [
          "1970-01-10T05:00:00",
          "1970-01-09T11:00:00",
          "1970-01-09T12:00:00",
          "1970-01-10T01:00:00",
          "1970-01-10T04:00:00",
          "1970-01-10T03:00:00",
          "1970-01-05T01:00:00",
          "1970-01-04T12:00:00",
          "1970-01-01T21:00:00",
          "1970-01-05T08:00:00",
          "1970-01-03T23:00:00",
          "1970-01-03T07:00:00",
          "1970-01-08T19:00:00",
          "1970-01-09T13:00:00",
          "1970-01-05T19:00:00",
          "1970-01-07T03:00:00",
          "1970-01-06T12:00:00",
          "1970-01-01T14:00:00",
          "1970-01-02T16:00:00",
          "1970-01-02T07:00:00",
          "1970-01-07T13:00:00",
          "1970-01-08T04:00:00",
          "1970-01-01T09:00:00",
          "1970-01-01T21:00:00",
          "1970-01-01T14:00:00",
          "1970-01-08T19:00:00",
          "1970-01-09T13:00:00",
          "1970-01-02T07:00:00",
          "1970-01-05T08:00:00",
          "1970-01-04T12:00:00",
          "1970-01-02T16:00:00",
          "1970-01-03T07:00:00",
          "1970-01-05T19:00:00",
          "1970-01-07T13:00:00",
          "1970-01-06T12:00:00"
         ],
         "hovertemplate": "Resource=%{text}<br>Start=%{base}<br>Finish=%{x}<br>Type=%{y}<extra></extra>",
         "legendgroup": "M3",
         "marker": {
          "cmid": 1000,
          "color": "rgb(221,132,82)",
          "line": {
           "color": "yellow"
          },
          "pattern": {
           "shape": ""
          }
         },
         "name": "M3",
         "offsetgroup": "M3",
         "orientation": "h",
         "showlegend": true,
         "text": [
          "M3",
          "M3",
          "M3",
          "M3",
          "M3",
          "M3",
          "M3",
          "M3",
          "M3",
          "M3",
          "M3",
          "M3",
          "M3",
          "M3",
          "M3",
          "M3",
          "M3",
          "M3",
          "M3",
          "M3",
          "M3",
          "M3",
          "M3",
          "M3",
          "M3",
          "M3",
          "M3",
          "M3",
          "M3",
          "M3",
          "M3",
          "M3",
          "M3",
          "M3",
          "M3"
         ],
         "textposition": "auto",
         "type": "bar",
         "x": [
          97200000,
          3600000,
          3600000,
          7200000,
          3600000,
          3600000,
          25200000,
          46800000,
          36000000,
          39600000,
          46800000,
          57600000,
          57600000,
          43200000,
          61200000,
          36000000,
          54000000,
          25200000,
          54000000,
          32400000,
          54000000,
          54000000,
          18000000,
          10800000,
          7200000,
          10800000,
          10800000,
          10800000,
          3600000,
          7200000,
          7200000,
          7200000,
          3600000,
          7200000,
          10800000
         ],
         "xaxis": "x",
         "y": [
          "delay_machine",
          "delay_machine",
          "delay_machine",
          "delay_machine",
          "delay_machine",
          "delay_machine",
          "j10",
          "j10",
          "j13",
          "j14",
          "j16",
          "j16",
          "j18",
          "j2",
          "j2",
          "j20",
          "j20",
          "j3",
          "j5",
          "j7",
          "j8",
          "j8",
          "j8",
          "setup",
          "setup",
          "setup",
          "setup",
          "setup",
          "setup",
          "setup",
          "setup",
          "setup",
          "setup",
          "setup",
          "setup"
         ],
         "yaxis": "y"
        },
        {
         "alignmentgroup": "True",
         "base": [
          "1970-01-09T12:00:00",
          "1970-01-09T13:00:00",
          "1970-01-09T16:00:00",
          "1970-01-09T22:00:00",
          "1970-01-10T01:00:00",
          "1970-01-10T05:00:00",
          "1970-01-10T04:00:00",
          "1970-01-10T03:00:00",
          "1970-01-02T21:00:00",
          "1970-01-02T07:00:00",
          "1970-01-05T19:00:00",
          "1970-01-03T03:00:00",
          "1970-01-08T21:00:00",
          "1970-01-07T11:00:00",
          "1970-01-03T22:00:00",
          "1970-01-04T17:00:00",
          "1970-01-01T09:00:00",
          "1970-01-05T04:00:00",
          "1970-01-06T05:00:00",
          "1970-01-06T19:00:00",
          "1970-01-08T03:00:00",
          "1970-01-01T23:00:00",
          "1970-01-08T21:00:00",
          "1970-01-01T23:00:00",
          "1970-01-02T07:00:00",
          "1970-01-05T04:00:00",
          "1970-01-03T22:00:00",
          "1970-01-03T03:00:00",
          "1970-01-08T03:00:00",
          "1970-01-07T11:00:00",
          "1970-01-06T19:00:00",
          "1970-01-06T05:00:00",
          "1970-01-05T19:00:00"
         ],
         "hovertemplate": "Resource=%{text}<br>Start=%{base}<br>Finish=%{x}<br>Type=%{y}<extra></extra>",
         "legendgroup": "M4",
         "marker": {
          "cmid": 1000,
          "color": "rgb(85,168,104)",
          "line": {
           "color": "yellow"
          },
          "pattern": {
           "shape": ""
          }
         },
         "name": "M4",
         "offsetgroup": "M4",
         "orientation": "h",
         "showlegend": true,
         "text": [
          "M4",
          "M4",
          "M4",
          "M4",
          "M4",
          "M4",
          "M4",
          "M4",
          "M4",
          "M4",
          "M4",
          "M4",
          "M4",
          "M4",
          "M4",
          "M4",
          "M4",
          "M4",
          "M4",
          "M4",
          "M4",
          "M4",
          "M4",
          "M4",
          "M4",
          "M4",
          "M4",
          "M4",
          "M4",
          "M4",
          "M4",
          "M4",
          "M4"
         ],
         "textposition": "auto",
         "type": "bar",
         "x": [
          3600000,
          10800000,
          21600000,
          10800000,
          7200000,
          97200000,
          3600000,
          3600000,
          21600000,
          50400000,
          36000000,
          68400000,
          54000000,
          57600000,
          68400000,
          39600000,
          50400000,
          54000000,
          50400000,
          57600000,
          64800000,
          28800000,
          10800000,
          7200000,
          7200000,
          10800000,
          10800000,
          10800000,
          3600000,
          10800000,
          10800000,
          14400000,
          3600000
         ],
         "xaxis": "x",
         "y": [
          "delay_machine",
          "delay_machine",
          "delay_machine",
          "delay_machine",
          "delay_machine",
          "delay_machine",
          "delay_machine",
          "delay_machine",
          "j1",
          "j1",
          "j10",
          "j12",
          "j14",
          "j17",
          "j18",
          "j18",
          "j19",
          "j20",
          "j3",
          "j7",
          "j7",
          "j8",
          "setup",
          "setup",
          "setup",
          "setup",
          "setup",
          "setup",
          "setup",
          "setup",
          "setup",
          "setup",
          "setup"
         ],
         "yaxis": "y"
        },
        {
         "alignmentgroup": "True",
         "base": [
          "1970-01-09T13:00:00",
          "1970-01-09T16:00:00",
          "1970-01-09T22:00:00",
          "1970-01-10T01:00:00",
          "1970-01-10T03:00:00",
          "1970-01-10T05:00:00",
          "1970-01-10T04:00:00",
          "1970-01-06T05:00:00",
          "1970-01-04T00:00:00",
          "1970-01-08T02:00:00",
          "1970-01-04T14:00:00",
          "1970-01-02T06:00:00",
          "1970-01-01T14:00:00",
          "1970-01-05T02:00:00",
          "1970-01-05T14:00:00",
          "1970-01-08T20:00:00",
          "1970-01-01T09:00:00",
          "1970-01-03T16:00:00",
          "1970-01-05T19:00:00",
          "1970-01-06T17:00:00",
          "1970-01-07T14:00:00",
          "1970-01-07T06:00:00",
          "1970-01-03T08:00:00",
          "1970-01-02T19:00:00",
          "1970-01-01T14:00:00",
          "1970-01-08T20:00:00",
          "1970-01-02T19:00:00",
          "1970-01-08T02:00:00",
          "1970-01-05T02:00:00",
          "1970-01-04T14:00:00",
          "1970-01-04T00:00:00",
          "1970-01-03T16:00:00",
          "1970-01-07T14:00:00",
          "1970-01-07T06:00:00",
          "1970-01-06T17:00:00",
          "1970-01-06T05:00:00",
          "1970-01-05T19:00:00"
         ],
         "hovertemplate": "Resource=%{text}<br>Start=%{base}<br>Finish=%{x}<br>Type=%{y}<extra></extra>",
         "legendgroup": "M6",
         "marker": {
          "cmid": 1000,
          "color": "rgb(196,78,82)",
          "line": {
           "color": "yellow"
          },
          "pattern": {
           "shape": ""
          }
         },
         "name": "M6",
         "offsetgroup": "M6",
         "orientation": "h",
         "showlegend": true,
         "text": [
          "M6",
          "M6",
          "M6",
          "M6",
          "M6",
          "M6",
          "M6",
          "M6",
          "M6",
          "M6",
          "M6",
          "M6",
          "M6",
          "M6",
          "M6",
          "M6",
          "M6",
          "M6",
          "M6",
          "M6",
          "M6",
          "M6",
          "M6",
          "M6",
          "M6",
          "M6",
          "M6",
          "M6",
          "M6",
          "M6",
          "M6",
          "M6",
          "M6",
          "M6",
          "M6",
          "M6",
          "M6"
         ],
         "textposition": "auto",
         "type": "bar",
         "x": [
          10800000,
          21600000,
          10800000,
          7200000,
          3600000,
          97200000,
          3600000,
          43200000,
          50400000,
          64800000,
          43200000,
          46800000,
          57600000,
          43200000,
          18000000,
          61200000,
          18000000,
          28800000,
          36000000,
          46800000,
          43200000,
          28800000,
          28800000,
          46800000,
          14400000,
          3600000,
          10800000,
          10800000,
          7200000,
          7200000,
          7200000,
          7200000,
          3600000,
          3600000,
          10800000,
          10800000,
          10800000
         ],
         "xaxis": "x",
         "y": [
          "delay_machine",
          "delay_machine",
          "delay_machine",
          "delay_machine",
          "delay_machine",
          "delay_machine",
          "delay_machine",
          "j1",
          "j12",
          "j14",
          "j15",
          "j16",
          "j16",
          "j19",
          "j19",
          "j2",
          "j3",
          "j4",
          "j5",
          "j6",
          "j7",
          "j9",
          "j9",
          "j9",
          "setup",
          "setup",
          "setup",
          "setup",
          "setup",
          "setup",
          "setup",
          "setup",
          "setup",
          "setup",
          "setup",
          "setup",
          "setup"
         ],
         "yaxis": "y"
        },
        {
         "alignmentgroup": "True",
         "base": [
          "1970-01-09T22:00:00",
          "1970-01-01T09:00:00",
          "1970-01-02T13:00:00",
          "1970-01-04T20:00:00",
          "1970-01-04T04:00:00",
          "1970-01-05T14:00:00",
          "1970-01-05T03:00:00",
          "1970-01-06T20:00:00",
          "1970-01-08T05:00:00",
          "1970-01-07T13:00:00",
          "1970-01-08T19:00:00",
          "1970-01-09T00:00:00",
          "1970-01-10T01:00:00",
          "1970-01-02T00:00:00",
          "1970-01-05T19:00:00",
          "1970-01-03T21:00:00",
          "1970-01-03T07:00:00",
          "1970-01-01T14:00:00",
          "1970-01-06T08:00:00",
          "1970-01-02T00:00:00",
          "1970-01-01T14:00:00",
          "1970-01-10T01:00:00",
          "1970-01-09T00:00:00",
          "1970-01-05T03:00:00",
          "1970-01-04T04:00:00",
          "1970-01-03T07:00:00",
          "1970-01-05T19:00:00",
          "1970-01-06T20:00:00",
          "1970-01-06T08:00:00",
          "1970-01-02T13:00:00"
         ],
         "hovertemplate": "Resource=%{text}<br>Start=%{base}<br>Finish=%{x}<br>Type=%{y}<extra></extra>",
         "legendgroup": "M1",
         "marker": {
          "cmid": 1000,
          "color": "rgb(129,114,179)",
          "line": {
           "color": "yellow"
          },
          "pattern": {
           "shape": ""
          }
         },
         "name": "M1",
         "offsetgroup": "M1",
         "orientation": "h",
         "showlegend": true,
         "text": [
          "M1",
          "M1",
          "M1",
          "M1",
          "M1",
          "M1",
          "M1",
          "M1",
          "M1",
          "M1",
          "M1",
          "M1",
          "M1",
          "M1",
          "M1",
          "M1",
          "M1",
          "M1",
          "M1",
          "M1",
          "M1",
          "M1",
          "M1",
          "M1",
          "M1",
          "M1",
          "M1",
          "M1",
          "M1",
          "M1"
         ],
         "textposition": "auto",
         "type": "bar",
         "x": [
          10800000,
          18000000,
          64800000,
          25200000,
          57600000,
          18000000,
          39600000,
          61200000,
          50400000,
          57600000,
          18000000,
          79200000,
          111600000,
          46800000,
          46800000,
          25200000,
          50400000,
          36000000,
          43200000,
          7200000,
          14400000,
          14400000,
          10800000,
          14400000,
          7200000,
          10800000,
          10800000,
          7200000,
          10800000,
          7200000
         ],
         "xaxis": "x",
         "y": [
          "delay_machine",
          "j10",
          "j11",
          "j11",
          "j11",
          "j12",
          "j12",
          "j15",
          "j16",
          "j16",
          "j16",
          "j17",
          "j2",
          "j2",
          "j20",
          "j5",
          "j5",
          "j7",
          "j9",
          "setup",
          "setup",
          "setup",
          "setup",
          "setup",
          "setup",
          "setup",
          "setup",
          "setup",
          "setup",
          "setup"
         ],
         "yaxis": "y"
        },
        {
         "alignmentgroup": "True",
         "base": [
          "1970-01-10T05:00:00",
          "1970-01-10T03:00:00",
          "1970-01-10T04:00:00",
          "1970-01-04T01:00:00",
          "1970-01-06T03:00:00",
          "1970-01-05T20:00:00",
          "1970-01-05T12:00:00",
          "1970-01-08T14:00:00",
          "1970-01-09T04:00:00",
          "1970-01-07T22:00:00",
          "1970-01-06T09:00:00",
          "1970-01-06T19:00:00",
          "1970-01-03T11:00:00",
          "1970-01-02T02:00:00",
          "1970-01-02T12:00:00",
          "1970-01-04T11:00:00",
          "1970-01-01T09:00:00",
          "1970-01-03T02:00:00",
          "1970-01-01T19:00:00",
          "1970-01-07T09:00:00",
          "1970-01-02T02:00:00",
          "1970-01-01T19:00:00",
          "1970-01-04T11:00:00",
          "1970-01-04T01:00:00",
          "1970-01-03T11:00:00",
          "1970-01-03T02:00:00",
          "1970-01-05T12:00:00",
          "1970-01-07T22:00:00",
          "1970-01-07T09:00:00",
          "1970-01-06T09:00:00"
         ],
         "hovertemplate": "Resource=%{text}<br>Start=%{base}<br>Finish=%{x}<br>Type=%{y}<extra></extra>",
         "legendgroup": "M5",
         "marker": {
          "cmid": 1000,
          "color": "rgb(147,120,96)",
          "line": {
           "color": "yellow"
          },
          "pattern": {
           "shape": ""
          }
         },
         "name": "M5",
         "offsetgroup": "M5",
         "orientation": "h",
         "showlegend": true,
         "text": [
          "M5",
          "M5",
          "M5",
          "M5",
          "M5",
          "M5",
          "M5",
          "M5",
          "M5",
          "M5",
          "M5",
          "M5",
          "M5",
          "M5",
          "M5",
          "M5",
          "M5",
          "M5",
          "M5",
          "M5",
          "M5",
          "M5",
          "M5",
          "M5",
          "M5",
          "M5",
          "M5",
          "M5",
          "M5",
          "M5"
         ],
         "textposition": "auto",
         "type": "bar",
         "x": [
          97200000,
          3600000,
          3600000,
          36000000,
          21600000,
          25200000,
          28800000,
          50400000,
          82800000,
          57600000,
          36000000,
          50400000,
          50400000,
          36000000,
          50400000,
          90000000,
          36000000,
          32400000,
          25200000,
          46800000,
          10800000,
          7200000,
          10800000,
          10800000,
          7200000,
          10800000,
          7200000,
          7200000,
          3600000,
          7200000
         ],
         "xaxis": "x",
         "y": [
          "delay_machine",
          "delay_machine",
          "delay_machine",
          "j1",
          "j11",
          "j11",
          "j11",
          "j13",
          "j13",
          "j13",
          "j15",
          "j16",
          "j19",
          "j19",
          "j19",
          "j2",
          "j2",
          "j3",
          "j4",
          "j6",
          "setup",
          "setup",
          "setup",
          "setup",
          "setup",
          "setup",
          "setup",
          "setup",
          "setup",
          "setup"
         ],
         "yaxis": "y"
        }
       ],
       "layout": {
        "barmode": "overlay",
        "height": 1000,
        "legend": {
         "title": {
          "text": "Resource"
         },
         "tracegroupgap": 0
        },
        "margin": {
         "t": 60
        },
        "template": {
         "data": {
          "bar": [
           {
            "error_x": {
             "color": "rgb(36,36,36)"
            },
            "error_y": {
             "color": "rgb(36,36,36)"
            },
            "marker": {
             "line": {
              "color": "rgb(234,234,242)",
              "width": 0.5
             },
             "pattern": {
              "fillmode": "overlay",
              "size": 10,
              "solidity": 0.2
             }
            },
            "type": "bar"
           }
          ],
          "barpolar": [
           {
            "marker": {
             "line": {
              "color": "rgb(234,234,242)",
              "width": 0.5
             },
             "pattern": {
              "fillmode": "overlay",
              "size": 10,
              "solidity": 0.2
             }
            },
            "type": "barpolar"
           }
          ],
          "carpet": [
           {
            "aaxis": {
             "endlinecolor": "rgb(36,36,36)",
             "gridcolor": "white",
             "linecolor": "white",
             "minorgridcolor": "white",
             "startlinecolor": "rgb(36,36,36)"
            },
            "baxis": {
             "endlinecolor": "rgb(36,36,36)",
             "gridcolor": "white",
             "linecolor": "white",
             "minorgridcolor": "white",
             "startlinecolor": "rgb(36,36,36)"
            },
            "type": "carpet"
           }
          ],
          "choropleth": [
           {
            "colorbar": {
             "outlinewidth": 0,
             "tickcolor": "rgb(36,36,36)",
             "ticklen": 8,
             "ticks": "outside",
             "tickwidth": 2
            },
            "type": "choropleth"
           }
          ],
          "contour": [
           {
            "colorbar": {
             "outlinewidth": 0,
             "tickcolor": "rgb(36,36,36)",
             "ticklen": 8,
             "ticks": "outside",
             "tickwidth": 2
            },
            "colorscale": [
             [
              0,
              "rgb(2,4,25)"
             ],
             [
              0.06274509803921569,
              "rgb(24,15,41)"
             ],
             [
              0.12549019607843137,
              "rgb(47,23,57)"
             ],
             [
              0.18823529411764706,
              "rgb(71,28,72)"
             ],
             [
              0.25098039215686274,
              "rgb(97,30,82)"
             ],
             [
              0.3137254901960784,
              "rgb(123,30,89)"
             ],
             [
              0.3764705882352941,
              "rgb(150,27,91)"
             ],
             [
              0.4392156862745098,
              "rgb(177,22,88)"
             ],
             [
              0.5019607843137255,
              "rgb(203,26,79)"
             ],
             [
              0.5647058823529412,
              "rgb(223,47,67)"
             ],
             [
              0.6274509803921569,
              "rgb(236,76,61)"
             ],
             [
              0.6901960784313725,
              "rgb(242,107,73)"
             ],
             [
              0.7529411764705882,
              "rgb(244,135,95)"
             ],
             [
              0.8156862745098039,
              "rgb(245,162,122)"
             ],
             [
              0.8784313725490196,
              "rgb(246,188,153)"
             ],
             [
              0.9411764705882353,
              "rgb(247,212,187)"
             ],
             [
              1,
              "rgb(250,234,220)"
             ]
            ],
            "type": "contour"
           }
          ],
          "contourcarpet": [
           {
            "colorbar": {
             "outlinewidth": 0,
             "tickcolor": "rgb(36,36,36)",
             "ticklen": 8,
             "ticks": "outside",
             "tickwidth": 2
            },
            "type": "contourcarpet"
           }
          ],
          "heatmap": [
           {
            "colorbar": {
             "outlinewidth": 0,
             "tickcolor": "rgb(36,36,36)",
             "ticklen": 8,
             "ticks": "outside",
             "tickwidth": 2
            },
            "colorscale": [
             [
              0,
              "rgb(2,4,25)"
             ],
             [
              0.06274509803921569,
              "rgb(24,15,41)"
             ],
             [
              0.12549019607843137,
              "rgb(47,23,57)"
             ],
             [
              0.18823529411764706,
              "rgb(71,28,72)"
             ],
             [
              0.25098039215686274,
              "rgb(97,30,82)"
             ],
             [
              0.3137254901960784,
              "rgb(123,30,89)"
             ],
             [
              0.3764705882352941,
              "rgb(150,27,91)"
             ],
             [
              0.4392156862745098,
              "rgb(177,22,88)"
             ],
             [
              0.5019607843137255,
              "rgb(203,26,79)"
             ],
             [
              0.5647058823529412,
              "rgb(223,47,67)"
             ],
             [
              0.6274509803921569,
              "rgb(236,76,61)"
             ],
             [
              0.6901960784313725,
              "rgb(242,107,73)"
             ],
             [
              0.7529411764705882,
              "rgb(244,135,95)"
             ],
             [
              0.8156862745098039,
              "rgb(245,162,122)"
             ],
             [
              0.8784313725490196,
              "rgb(246,188,153)"
             ],
             [
              0.9411764705882353,
              "rgb(247,212,187)"
             ],
             [
              1,
              "rgb(250,234,220)"
             ]
            ],
            "type": "heatmap"
           }
          ],
          "heatmapgl": [
           {
            "colorbar": {
             "outlinewidth": 0,
             "tickcolor": "rgb(36,36,36)",
             "ticklen": 8,
             "ticks": "outside",
             "tickwidth": 2
            },
            "colorscale": [
             [
              0,
              "rgb(2,4,25)"
             ],
             [
              0.06274509803921569,
              "rgb(24,15,41)"
             ],
             [
              0.12549019607843137,
              "rgb(47,23,57)"
             ],
             [
              0.18823529411764706,
              "rgb(71,28,72)"
             ],
             [
              0.25098039215686274,
              "rgb(97,30,82)"
             ],
             [
              0.3137254901960784,
              "rgb(123,30,89)"
             ],
             [
              0.3764705882352941,
              "rgb(150,27,91)"
             ],
             [
              0.4392156862745098,
              "rgb(177,22,88)"
             ],
             [
              0.5019607843137255,
              "rgb(203,26,79)"
             ],
             [
              0.5647058823529412,
              "rgb(223,47,67)"
             ],
             [
              0.6274509803921569,
              "rgb(236,76,61)"
             ],
             [
              0.6901960784313725,
              "rgb(242,107,73)"
             ],
             [
              0.7529411764705882,
              "rgb(244,135,95)"
             ],
             [
              0.8156862745098039,
              "rgb(245,162,122)"
             ],
             [
              0.8784313725490196,
              "rgb(246,188,153)"
             ],
             [
              0.9411764705882353,
              "rgb(247,212,187)"
             ],
             [
              1,
              "rgb(250,234,220)"
             ]
            ],
            "type": "heatmapgl"
           }
          ],
          "histogram": [
           {
            "marker": {
             "pattern": {
              "fillmode": "overlay",
              "size": 10,
              "solidity": 0.2
             }
            },
            "type": "histogram"
           }
          ],
          "histogram2d": [
           {
            "colorbar": {
             "outlinewidth": 0,
             "tickcolor": "rgb(36,36,36)",
             "ticklen": 8,
             "ticks": "outside",
             "tickwidth": 2
            },
            "colorscale": [
             [
              0,
              "rgb(2,4,25)"
             ],
             [
              0.06274509803921569,
              "rgb(24,15,41)"
             ],
             [
              0.12549019607843137,
              "rgb(47,23,57)"
             ],
             [
              0.18823529411764706,
              "rgb(71,28,72)"
             ],
             [
              0.25098039215686274,
              "rgb(97,30,82)"
             ],
             [
              0.3137254901960784,
              "rgb(123,30,89)"
             ],
             [
              0.3764705882352941,
              "rgb(150,27,91)"
             ],
             [
              0.4392156862745098,
              "rgb(177,22,88)"
             ],
             [
              0.5019607843137255,
              "rgb(203,26,79)"
             ],
             [
              0.5647058823529412,
              "rgb(223,47,67)"
             ],
             [
              0.6274509803921569,
              "rgb(236,76,61)"
             ],
             [
              0.6901960784313725,
              "rgb(242,107,73)"
             ],
             [
              0.7529411764705882,
              "rgb(244,135,95)"
             ],
             [
              0.8156862745098039,
              "rgb(245,162,122)"
             ],
             [
              0.8784313725490196,
              "rgb(246,188,153)"
             ],
             [
              0.9411764705882353,
              "rgb(247,212,187)"
             ],
             [
              1,
              "rgb(250,234,220)"
             ]
            ],
            "type": "histogram2d"
           }
          ],
          "histogram2dcontour": [
           {
            "colorbar": {
             "outlinewidth": 0,
             "tickcolor": "rgb(36,36,36)",
             "ticklen": 8,
             "ticks": "outside",
             "tickwidth": 2
            },
            "colorscale": [
             [
              0,
              "rgb(2,4,25)"
             ],
             [
              0.06274509803921569,
              "rgb(24,15,41)"
             ],
             [
              0.12549019607843137,
              "rgb(47,23,57)"
             ],
             [
              0.18823529411764706,
              "rgb(71,28,72)"
             ],
             [
              0.25098039215686274,
              "rgb(97,30,82)"
             ],
             [
              0.3137254901960784,
              "rgb(123,30,89)"
             ],
             [
              0.3764705882352941,
              "rgb(150,27,91)"
             ],
             [
              0.4392156862745098,
              "rgb(177,22,88)"
             ],
             [
              0.5019607843137255,
              "rgb(203,26,79)"
             ],
             [
              0.5647058823529412,
              "rgb(223,47,67)"
             ],
             [
              0.6274509803921569,
              "rgb(236,76,61)"
             ],
             [
              0.6901960784313725,
              "rgb(242,107,73)"
             ],
             [
              0.7529411764705882,
              "rgb(244,135,95)"
             ],
             [
              0.8156862745098039,
              "rgb(245,162,122)"
             ],
             [
              0.8784313725490196,
              "rgb(246,188,153)"
             ],
             [
              0.9411764705882353,
              "rgb(247,212,187)"
             ],
             [
              1,
              "rgb(250,234,220)"
             ]
            ],
            "type": "histogram2dcontour"
           }
          ],
          "mesh3d": [
           {
            "colorbar": {
             "outlinewidth": 0,
             "tickcolor": "rgb(36,36,36)",
             "ticklen": 8,
             "ticks": "outside",
             "tickwidth": 2
            },
            "type": "mesh3d"
           }
          ],
          "parcoords": [
           {
            "line": {
             "colorbar": {
              "outlinewidth": 0,
              "tickcolor": "rgb(36,36,36)",
              "ticklen": 8,
              "ticks": "outside",
              "tickwidth": 2
             }
            },
            "type": "parcoords"
           }
          ],
          "pie": [
           {
            "automargin": true,
            "type": "pie"
           }
          ],
          "scatter": [
           {
            "fillpattern": {
             "fillmode": "overlay",
             "size": 10,
             "solidity": 0.2
            },
            "type": "scatter"
           }
          ],
          "scatter3d": [
           {
            "line": {
             "colorbar": {
              "outlinewidth": 0,
              "tickcolor": "rgb(36,36,36)",
              "ticklen": 8,
              "ticks": "outside",
              "tickwidth": 2
             }
            },
            "marker": {
             "colorbar": {
              "outlinewidth": 0,
              "tickcolor": "rgb(36,36,36)",
              "ticklen": 8,
              "ticks": "outside",
              "tickwidth": 2
             }
            },
            "type": "scatter3d"
           }
          ],
          "scattercarpet": [
           {
            "marker": {
             "colorbar": {
              "outlinewidth": 0,
              "tickcolor": "rgb(36,36,36)",
              "ticklen": 8,
              "ticks": "outside",
              "tickwidth": 2
             }
            },
            "type": "scattercarpet"
           }
          ],
          "scattergeo": [
           {
            "marker": {
             "colorbar": {
              "outlinewidth": 0,
              "tickcolor": "rgb(36,36,36)",
              "ticklen": 8,
              "ticks": "outside",
              "tickwidth": 2
             }
            },
            "type": "scattergeo"
           }
          ],
          "scattergl": [
           {
            "marker": {
             "colorbar": {
              "outlinewidth": 0,
              "tickcolor": "rgb(36,36,36)",
              "ticklen": 8,
              "ticks": "outside",
              "tickwidth": 2
             }
            },
            "type": "scattergl"
           }
          ],
          "scattermapbox": [
           {
            "marker": {
             "colorbar": {
              "outlinewidth": 0,
              "tickcolor": "rgb(36,36,36)",
              "ticklen": 8,
              "ticks": "outside",
              "tickwidth": 2
             }
            },
            "type": "scattermapbox"
           }
          ],
          "scatterpolar": [
           {
            "marker": {
             "colorbar": {
              "outlinewidth": 0,
              "tickcolor": "rgb(36,36,36)",
              "ticklen": 8,
              "ticks": "outside",
              "tickwidth": 2
             }
            },
            "type": "scatterpolar"
           }
          ],
          "scatterpolargl": [
           {
            "marker": {
             "colorbar": {
              "outlinewidth": 0,
              "tickcolor": "rgb(36,36,36)",
              "ticklen": 8,
              "ticks": "outside",
              "tickwidth": 2
             }
            },
            "type": "scatterpolargl"
           }
          ],
          "scatterternary": [
           {
            "marker": {
             "colorbar": {
              "outlinewidth": 0,
              "tickcolor": "rgb(36,36,36)",
              "ticklen": 8,
              "ticks": "outside",
              "tickwidth": 2
             }
            },
            "type": "scatterternary"
           }
          ],
          "surface": [
           {
            "colorbar": {
             "outlinewidth": 0,
             "tickcolor": "rgb(36,36,36)",
             "ticklen": 8,
             "ticks": "outside",
             "tickwidth": 2
            },
            "colorscale": [
             [
              0,
              "rgb(2,4,25)"
             ],
             [
              0.06274509803921569,
              "rgb(24,15,41)"
             ],
             [
              0.12549019607843137,
              "rgb(47,23,57)"
             ],
             [
              0.18823529411764706,
              "rgb(71,28,72)"
             ],
             [
              0.25098039215686274,
              "rgb(97,30,82)"
             ],
             [
              0.3137254901960784,
              "rgb(123,30,89)"
             ],
             [
              0.3764705882352941,
              "rgb(150,27,91)"
             ],
             [
              0.4392156862745098,
              "rgb(177,22,88)"
             ],
             [
              0.5019607843137255,
              "rgb(203,26,79)"
             ],
             [
              0.5647058823529412,
              "rgb(223,47,67)"
             ],
             [
              0.6274509803921569,
              "rgb(236,76,61)"
             ],
             [
              0.6901960784313725,
              "rgb(242,107,73)"
             ],
             [
              0.7529411764705882,
              "rgb(244,135,95)"
             ],
             [
              0.8156862745098039,
              "rgb(245,162,122)"
             ],
             [
              0.8784313725490196,
              "rgb(246,188,153)"
             ],
             [
              0.9411764705882353,
              "rgb(247,212,187)"
             ],
             [
              1,
              "rgb(250,234,220)"
             ]
            ],
            "type": "surface"
           }
          ],
          "table": [
           {
            "cells": {
             "fill": {
              "color": "rgb(231,231,240)"
             },
             "line": {
              "color": "white"
             }
            },
            "header": {
             "fill": {
              "color": "rgb(183,183,191)"
             },
             "line": {
              "color": "white"
             }
            },
            "type": "table"
           }
          ]
         },
         "layout": {
          "annotationdefaults": {
           "arrowcolor": "rgb(67,103,167)"
          },
          "autotypenumbers": "strict",
          "coloraxis": {
           "colorbar": {
            "outlinewidth": 0,
            "tickcolor": "rgb(36,36,36)",
            "ticklen": 8,
            "ticks": "outside",
            "tickwidth": 2
           }
          },
          "colorscale": {
           "sequential": [
            [
             0,
             "rgb(2,4,25)"
            ],
            [
             0.06274509803921569,
             "rgb(24,15,41)"
            ],
            [
             0.12549019607843137,
             "rgb(47,23,57)"
            ],
            [
             0.18823529411764706,
             "rgb(71,28,72)"
            ],
            [
             0.25098039215686274,
             "rgb(97,30,82)"
            ],
            [
             0.3137254901960784,
             "rgb(123,30,89)"
            ],
            [
             0.3764705882352941,
             "rgb(150,27,91)"
            ],
            [
             0.4392156862745098,
             "rgb(177,22,88)"
            ],
            [
             0.5019607843137255,
             "rgb(203,26,79)"
            ],
            [
             0.5647058823529412,
             "rgb(223,47,67)"
            ],
            [
             0.6274509803921569,
             "rgb(236,76,61)"
            ],
            [
             0.6901960784313725,
             "rgb(242,107,73)"
            ],
            [
             0.7529411764705882,
             "rgb(244,135,95)"
            ],
            [
             0.8156862745098039,
             "rgb(245,162,122)"
            ],
            [
             0.8784313725490196,
             "rgb(246,188,153)"
            ],
            [
             0.9411764705882353,
             "rgb(247,212,187)"
            ],
            [
             1,
             "rgb(250,234,220)"
            ]
           ],
           "sequentialminus": [
            [
             0,
             "rgb(2,4,25)"
            ],
            [
             0.06274509803921569,
             "rgb(24,15,41)"
            ],
            [
             0.12549019607843137,
             "rgb(47,23,57)"
            ],
            [
             0.18823529411764706,
             "rgb(71,28,72)"
            ],
            [
             0.25098039215686274,
             "rgb(97,30,82)"
            ],
            [
             0.3137254901960784,
             "rgb(123,30,89)"
            ],
            [
             0.3764705882352941,
             "rgb(150,27,91)"
            ],
            [
             0.4392156862745098,
             "rgb(177,22,88)"
            ],
            [
             0.5019607843137255,
             "rgb(203,26,79)"
            ],
            [
             0.5647058823529412,
             "rgb(223,47,67)"
            ],
            [
             0.6274509803921569,
             "rgb(236,76,61)"
            ],
            [
             0.6901960784313725,
             "rgb(242,107,73)"
            ],
            [
             0.7529411764705882,
             "rgb(244,135,95)"
            ],
            [
             0.8156862745098039,
             "rgb(245,162,122)"
            ],
            [
             0.8784313725490196,
             "rgb(246,188,153)"
            ],
            [
             0.9411764705882353,
             "rgb(247,212,187)"
            ],
            [
             1,
             "rgb(250,234,220)"
            ]
           ]
          },
          "colorway": [
           "rgb(76,114,176)",
           "rgb(221,132,82)",
           "rgb(85,168,104)",
           "rgb(196,78,82)",
           "rgb(129,114,179)",
           "rgb(147,120,96)",
           "rgb(218,139,195)",
           "rgb(140,140,140)",
           "rgb(204,185,116)",
           "rgb(100,181,205)"
          ],
          "font": {
           "color": "rgb(36,36,36)"
          },
          "geo": {
           "bgcolor": "white",
           "lakecolor": "white",
           "landcolor": "rgb(234,234,242)",
           "showlakes": true,
           "showland": true,
           "subunitcolor": "white"
          },
          "hoverlabel": {
           "align": "left"
          },
          "hovermode": "closest",
          "paper_bgcolor": "white",
          "plot_bgcolor": "rgb(234,234,242)",
          "polar": {
           "angularaxis": {
            "gridcolor": "white",
            "linecolor": "white",
            "showgrid": true,
            "ticks": ""
           },
           "bgcolor": "rgb(234,234,242)",
           "radialaxis": {
            "gridcolor": "white",
            "linecolor": "white",
            "showgrid": true,
            "ticks": ""
           }
          },
          "scene": {
           "xaxis": {
            "backgroundcolor": "rgb(234,234,242)",
            "gridcolor": "white",
            "gridwidth": 2,
            "linecolor": "white",
            "showbackground": true,
            "showgrid": true,
            "ticks": "",
            "zerolinecolor": "white"
           },
           "yaxis": {
            "backgroundcolor": "rgb(234,234,242)",
            "gridcolor": "white",
            "gridwidth": 2,
            "linecolor": "white",
            "showbackground": true,
            "showgrid": true,
            "ticks": "",
            "zerolinecolor": "white"
           },
           "zaxis": {
            "backgroundcolor": "rgb(234,234,242)",
            "gridcolor": "white",
            "gridwidth": 2,
            "linecolor": "white",
            "showbackground": true,
            "showgrid": true,
            "ticks": "",
            "zerolinecolor": "white"
           }
          },
          "shapedefaults": {
           "fillcolor": "rgb(67,103,167)",
           "line": {
            "width": 0
           },
           "opacity": 0.5
          },
          "ternary": {
           "aaxis": {
            "gridcolor": "white",
            "linecolor": "white",
            "showgrid": true,
            "ticks": ""
           },
           "baxis": {
            "gridcolor": "white",
            "linecolor": "white",
            "showgrid": true,
            "ticks": ""
           },
           "bgcolor": "rgb(234,234,242)",
           "caxis": {
            "gridcolor": "white",
            "linecolor": "white",
            "showgrid": true,
            "ticks": ""
           }
          },
          "xaxis": {
           "automargin": true,
           "gridcolor": "white",
           "linecolor": "white",
           "showgrid": true,
           "ticks": "",
           "title": {
            "standoff": 15
           },
           "zerolinecolor": "white"
          },
          "yaxis": {
           "automargin": true,
           "gridcolor": "white",
           "linecolor": "white",
           "showgrid": true,
           "ticks": "",
           "title": {
            "standoff": 15
           },
           "zerolinecolor": "white"
          }
         }
        },
        "width": 2000,
        "xaxis": {
         "anchor": "y",
         "domain": [
          0,
          1
         ],
         "type": "date"
        },
        "yaxis": {
         "anchor": "x",
         "domain": [
          0,
          1
         ],
         "title": {
          "text": "Type"
         }
        }
       }
      },
      "text/html": [
       "<div>                            <div id=\"472e07eb-f0ed-4660-9d83-e3d34a637d29\" class=\"plotly-graph-div\" style=\"height:1000px; width:2000px;\"></div>            <script type=\"text/javascript\">                require([\"plotly\"], function(Plotly) {                    window.PLOTLYENV=window.PLOTLYENV || {};                                    if (document.getElementById(\"472e07eb-f0ed-4660-9d83-e3d34a637d29\")) {                    Plotly.newPlot(                        \"472e07eb-f0ed-4660-9d83-e3d34a637d29\",                        [{\"alignmentgroup\":\"True\",\"base\":[\"1970-01-10T05:00:00\",\"1970-01-10T04:00:00\",\"1970-01-05T21:00:00\",\"1970-01-04T12:00:00\",\"1970-01-08T10:00:00\",\"1970-01-05T05:00:00\",\"1970-01-07T23:00:00\",\"1970-01-07T07:00:00\",\"1970-01-09T00:00:00\",\"1970-01-03T14:00:00\",\"1970-01-04T07:00:00\",\"1970-01-06T17:00:00\",\"1970-01-01T14:00:00\",\"1970-01-01T09:00:00\",\"1970-01-06T08:00:00\",\"1970-01-02T07:00:00\",\"1970-01-02T16:00:00\",\"1970-01-03T05:00:00\",\"1970-01-01T19:00:00\",\"1970-01-01T19:00:00\",\"1970-01-02T07:00:00\",\"1970-01-09T00:00:00\",\"1970-01-05T05:00:00\",\"1970-01-04T12:00:00\",\"1970-01-03T14:00:00\",\"1970-01-08T10:00:00\",\"1970-01-07T07:00:00\",\"1970-01-06T17:00:00\",\"1970-01-02T16:00:00\",\"1970-01-06T08:00:00\",\"1970-01-05T21:00:00\"],\"hovertemplate\":\"Resource=%{text}<br>Start=%{base}<br>Finish=%{x}<br>Type=%{y}<extra></extra>\",\"legendgroup\":\"M2\",\"marker\":{\"color\":\"rgb(76,114,176)\",\"pattern\":{\"shape\":\"\"},\"line\":{\"color\":\"yellow\"},\"cmid\":1000},\"name\":\"M2\",\"offsetgroup\":\"M2\",\"orientation\":\"h\",\"showlegend\":true,\"text\":[\"M2\",\"M2\",\"M2\",\"M2\",\"M2\",\"M2\",\"M2\",\"M2\",\"M2\",\"M2\",\"M2\",\"M2\",\"M2\",\"M2\",\"M2\",\"M2\",\"M2\",\"M2\",\"M2\",\"M2\",\"M2\",\"M2\",\"M2\",\"M2\",\"M2\",\"M2\",\"M2\",\"M2\",\"M2\",\"M2\",\"M2\"],\"textposition\":\"auto\",\"x\":[97200000.0,3600000.0,39600000.0,61200000.0,50400000.0,57600000.0,39600000.0,57600000.0,100800000.0,61200000.0,18000000.0,50400000.0,18000000.0,18000000.0,32400000.0,32400000.0,46800000.0,32400000.0,43200000.0,14400000.0,10800000.0,14400000.0,10800000.0,14400000.0,3600000.0,10800000.0,14400000.0,10800000.0,10800000.0,14400000.0,14400000.0],\"xaxis\":\"x\",\"y\":[\"delay_machine\",\"delay_machine\",\"j12\",\"j14\",\"j17\",\"j17\",\"j18\",\"j18\",\"j19\",\"j20\",\"j20\",\"j4\",\"j4\",\"j4\",\"j5\",\"j6\",\"j7\",\"j7\",\"j9\",\"setup\",\"setup\",\"setup\",\"setup\",\"setup\",\"setup\",\"setup\",\"setup\",\"setup\",\"setup\",\"setup\",\"setup\"],\"yaxis\":\"y\",\"type\":\"bar\"},{\"alignmentgroup\":\"True\",\"base\":[\"1970-01-10T05:00:00\",\"1970-01-09T11:00:00\",\"1970-01-09T12:00:00\",\"1970-01-10T01:00:00\",\"1970-01-10T04:00:00\",\"1970-01-10T03:00:00\",\"1970-01-05T01:00:00\",\"1970-01-04T12:00:00\",\"1970-01-01T21:00:00\",\"1970-01-05T08:00:00\",\"1970-01-03T23:00:00\",\"1970-01-03T07:00:00\",\"1970-01-08T19:00:00\",\"1970-01-09T13:00:00\",\"1970-01-05T19:00:00\",\"1970-01-07T03:00:00\",\"1970-01-06T12:00:00\",\"1970-01-01T14:00:00\",\"1970-01-02T16:00:00\",\"1970-01-02T07:00:00\",\"1970-01-07T13:00:00\",\"1970-01-08T04:00:00\",\"1970-01-01T09:00:00\",\"1970-01-01T21:00:00\",\"1970-01-01T14:00:00\",\"1970-01-08T19:00:00\",\"1970-01-09T13:00:00\",\"1970-01-02T07:00:00\",\"1970-01-05T08:00:00\",\"1970-01-04T12:00:00\",\"1970-01-02T16:00:00\",\"1970-01-03T07:00:00\",\"1970-01-05T19:00:00\",\"1970-01-07T13:00:00\",\"1970-01-06T12:00:00\"],\"hovertemplate\":\"Resource=%{text}<br>Start=%{base}<br>Finish=%{x}<br>Type=%{y}<extra></extra>\",\"legendgroup\":\"M3\",\"marker\":{\"color\":\"rgb(221,132,82)\",\"pattern\":{\"shape\":\"\"},\"line\":{\"color\":\"yellow\"},\"cmid\":1000},\"name\":\"M3\",\"offsetgroup\":\"M3\",\"orientation\":\"h\",\"showlegend\":true,\"text\":[\"M3\",\"M3\",\"M3\",\"M3\",\"M3\",\"M3\",\"M3\",\"M3\",\"M3\",\"M3\",\"M3\",\"M3\",\"M3\",\"M3\",\"M3\",\"M3\",\"M3\",\"M3\",\"M3\",\"M3\",\"M3\",\"M3\",\"M3\",\"M3\",\"M3\",\"M3\",\"M3\",\"M3\",\"M3\",\"M3\",\"M3\",\"M3\",\"M3\",\"M3\",\"M3\"],\"textposition\":\"auto\",\"x\":[97200000.0,3600000.0,3600000.0,7200000.0,3600000.0,3600000.0,25200000.0,46800000.0,36000000.0,39600000.0,46800000.0,57600000.0,57600000.0,43200000.0,61200000.0,36000000.0,54000000.0,25200000.0,54000000.0,32400000.0,54000000.0,54000000.0,18000000.0,10800000.0,7200000.0,10800000.0,10800000.0,10800000.0,3600000.0,7200000.0,7200000.0,7200000.0,3600000.0,7200000.0,10800000.0],\"xaxis\":\"x\",\"y\":[\"delay_machine\",\"delay_machine\",\"delay_machine\",\"delay_machine\",\"delay_machine\",\"delay_machine\",\"j10\",\"j10\",\"j13\",\"j14\",\"j16\",\"j16\",\"j18\",\"j2\",\"j2\",\"j20\",\"j20\",\"j3\",\"j5\",\"j7\",\"j8\",\"j8\",\"j8\",\"setup\",\"setup\",\"setup\",\"setup\",\"setup\",\"setup\",\"setup\",\"setup\",\"setup\",\"setup\",\"setup\",\"setup\"],\"yaxis\":\"y\",\"type\":\"bar\"},{\"alignmentgroup\":\"True\",\"base\":[\"1970-01-09T12:00:00\",\"1970-01-09T13:00:00\",\"1970-01-09T16:00:00\",\"1970-01-09T22:00:00\",\"1970-01-10T01:00:00\",\"1970-01-10T05:00:00\",\"1970-01-10T04:00:00\",\"1970-01-10T03:00:00\",\"1970-01-02T21:00:00\",\"1970-01-02T07:00:00\",\"1970-01-05T19:00:00\",\"1970-01-03T03:00:00\",\"1970-01-08T21:00:00\",\"1970-01-07T11:00:00\",\"1970-01-03T22:00:00\",\"1970-01-04T17:00:00\",\"1970-01-01T09:00:00\",\"1970-01-05T04:00:00\",\"1970-01-06T05:00:00\",\"1970-01-06T19:00:00\",\"1970-01-08T03:00:00\",\"1970-01-01T23:00:00\",\"1970-01-08T21:00:00\",\"1970-01-01T23:00:00\",\"1970-01-02T07:00:00\",\"1970-01-05T04:00:00\",\"1970-01-03T22:00:00\",\"1970-01-03T03:00:00\",\"1970-01-08T03:00:00\",\"1970-01-07T11:00:00\",\"1970-01-06T19:00:00\",\"1970-01-06T05:00:00\",\"1970-01-05T19:00:00\"],\"hovertemplate\":\"Resource=%{text}<br>Start=%{base}<br>Finish=%{x}<br>Type=%{y}<extra></extra>\",\"legendgroup\":\"M4\",\"marker\":{\"color\":\"rgb(85,168,104)\",\"pattern\":{\"shape\":\"\"},\"line\":{\"color\":\"yellow\"},\"cmid\":1000},\"name\":\"M4\",\"offsetgroup\":\"M4\",\"orientation\":\"h\",\"showlegend\":true,\"text\":[\"M4\",\"M4\",\"M4\",\"M4\",\"M4\",\"M4\",\"M4\",\"M4\",\"M4\",\"M4\",\"M4\",\"M4\",\"M4\",\"M4\",\"M4\",\"M4\",\"M4\",\"M4\",\"M4\",\"M4\",\"M4\",\"M4\",\"M4\",\"M4\",\"M4\",\"M4\",\"M4\",\"M4\",\"M4\",\"M4\",\"M4\",\"M4\",\"M4\"],\"textposition\":\"auto\",\"x\":[3600000.0,10800000.0,21600000.0,10800000.0,7200000.0,97200000.0,3600000.0,3600000.0,21600000.0,50400000.0,36000000.0,68400000.0,54000000.0,57600000.0,68400000.0,39600000.0,50400000.0,54000000.0,50400000.0,57600000.0,64800000.0,28800000.0,10800000.0,7200000.0,7200000.0,10800000.0,10800000.0,10800000.0,3600000.0,10800000.0,10800000.0,14400000.0,3600000.0],\"xaxis\":\"x\",\"y\":[\"delay_machine\",\"delay_machine\",\"delay_machine\",\"delay_machine\",\"delay_machine\",\"delay_machine\",\"delay_machine\",\"delay_machine\",\"j1\",\"j1\",\"j10\",\"j12\",\"j14\",\"j17\",\"j18\",\"j18\",\"j19\",\"j20\",\"j3\",\"j7\",\"j7\",\"j8\",\"setup\",\"setup\",\"setup\",\"setup\",\"setup\",\"setup\",\"setup\",\"setup\",\"setup\",\"setup\",\"setup\"],\"yaxis\":\"y\",\"type\":\"bar\"},{\"alignmentgroup\":\"True\",\"base\":[\"1970-01-09T13:00:00\",\"1970-01-09T16:00:00\",\"1970-01-09T22:00:00\",\"1970-01-10T01:00:00\",\"1970-01-10T03:00:00\",\"1970-01-10T05:00:00\",\"1970-01-10T04:00:00\",\"1970-01-06T05:00:00\",\"1970-01-04T00:00:00\",\"1970-01-08T02:00:00\",\"1970-01-04T14:00:00\",\"1970-01-02T06:00:00\",\"1970-01-01T14:00:00\",\"1970-01-05T02:00:00\",\"1970-01-05T14:00:00\",\"1970-01-08T20:00:00\",\"1970-01-01T09:00:00\",\"1970-01-03T16:00:00\",\"1970-01-05T19:00:00\",\"1970-01-06T17:00:00\",\"1970-01-07T14:00:00\",\"1970-01-07T06:00:00\",\"1970-01-03T08:00:00\",\"1970-01-02T19:00:00\",\"1970-01-01T14:00:00\",\"1970-01-08T20:00:00\",\"1970-01-02T19:00:00\",\"1970-01-08T02:00:00\",\"1970-01-05T02:00:00\",\"1970-01-04T14:00:00\",\"1970-01-04T00:00:00\",\"1970-01-03T16:00:00\",\"1970-01-07T14:00:00\",\"1970-01-07T06:00:00\",\"1970-01-06T17:00:00\",\"1970-01-06T05:00:00\",\"1970-01-05T19:00:00\"],\"hovertemplate\":\"Resource=%{text}<br>Start=%{base}<br>Finish=%{x}<br>Type=%{y}<extra></extra>\",\"legendgroup\":\"M6\",\"marker\":{\"color\":\"rgb(196,78,82)\",\"pattern\":{\"shape\":\"\"},\"line\":{\"color\":\"yellow\"},\"cmid\":1000},\"name\":\"M6\",\"offsetgroup\":\"M6\",\"orientation\":\"h\",\"showlegend\":true,\"text\":[\"M6\",\"M6\",\"M6\",\"M6\",\"M6\",\"M6\",\"M6\",\"M6\",\"M6\",\"M6\",\"M6\",\"M6\",\"M6\",\"M6\",\"M6\",\"M6\",\"M6\",\"M6\",\"M6\",\"M6\",\"M6\",\"M6\",\"M6\",\"M6\",\"M6\",\"M6\",\"M6\",\"M6\",\"M6\",\"M6\",\"M6\",\"M6\",\"M6\",\"M6\",\"M6\",\"M6\",\"M6\"],\"textposition\":\"auto\",\"x\":[10800000.0,21600000.0,10800000.0,7200000.0,3600000.0,97200000.0,3600000.0,43200000.0,50400000.0,64800000.0,43200000.0,46800000.0,57600000.0,43200000.0,18000000.0,61200000.0,18000000.0,28800000.0,36000000.0,46800000.0,43200000.0,28800000.0,28800000.0,46800000.0,14400000.0,3600000.0,10800000.0,10800000.0,7200000.0,7200000.0,7200000.0,7200000.0,3600000.0,3600000.0,10800000.0,10800000.0,10800000.0],\"xaxis\":\"x\",\"y\":[\"delay_machine\",\"delay_machine\",\"delay_machine\",\"delay_machine\",\"delay_machine\",\"delay_machine\",\"delay_machine\",\"j1\",\"j12\",\"j14\",\"j15\",\"j16\",\"j16\",\"j19\",\"j19\",\"j2\",\"j3\",\"j4\",\"j5\",\"j6\",\"j7\",\"j9\",\"j9\",\"j9\",\"setup\",\"setup\",\"setup\",\"setup\",\"setup\",\"setup\",\"setup\",\"setup\",\"setup\",\"setup\",\"setup\",\"setup\",\"setup\"],\"yaxis\":\"y\",\"type\":\"bar\"},{\"alignmentgroup\":\"True\",\"base\":[\"1970-01-09T22:00:00\",\"1970-01-01T09:00:00\",\"1970-01-02T13:00:00\",\"1970-01-04T20:00:00\",\"1970-01-04T04:00:00\",\"1970-01-05T14:00:00\",\"1970-01-05T03:00:00\",\"1970-01-06T20:00:00\",\"1970-01-08T05:00:00\",\"1970-01-07T13:00:00\",\"1970-01-08T19:00:00\",\"1970-01-09T00:00:00\",\"1970-01-10T01:00:00\",\"1970-01-02T00:00:00\",\"1970-01-05T19:00:00\",\"1970-01-03T21:00:00\",\"1970-01-03T07:00:00\",\"1970-01-01T14:00:00\",\"1970-01-06T08:00:00\",\"1970-01-02T00:00:00\",\"1970-01-01T14:00:00\",\"1970-01-10T01:00:00\",\"1970-01-09T00:00:00\",\"1970-01-05T03:00:00\",\"1970-01-04T04:00:00\",\"1970-01-03T07:00:00\",\"1970-01-05T19:00:00\",\"1970-01-06T20:00:00\",\"1970-01-06T08:00:00\",\"1970-01-02T13:00:00\"],\"hovertemplate\":\"Resource=%{text}<br>Start=%{base}<br>Finish=%{x}<br>Type=%{y}<extra></extra>\",\"legendgroup\":\"M1\",\"marker\":{\"color\":\"rgb(129,114,179)\",\"pattern\":{\"shape\":\"\"},\"line\":{\"color\":\"yellow\"},\"cmid\":1000},\"name\":\"M1\",\"offsetgroup\":\"M1\",\"orientation\":\"h\",\"showlegend\":true,\"text\":[\"M1\",\"M1\",\"M1\",\"M1\",\"M1\",\"M1\",\"M1\",\"M1\",\"M1\",\"M1\",\"M1\",\"M1\",\"M1\",\"M1\",\"M1\",\"M1\",\"M1\",\"M1\",\"M1\",\"M1\",\"M1\",\"M1\",\"M1\",\"M1\",\"M1\",\"M1\",\"M1\",\"M1\",\"M1\",\"M1\"],\"textposition\":\"auto\",\"x\":[10800000.0,18000000.0,64800000.0,25200000.0,57600000.0,18000000.0,39600000.0,61200000.0,50400000.0,57600000.0,18000000.0,79200000.0,111600000.0,46800000.0,46800000.0,25200000.0,50400000.0,36000000.0,43200000.0,7200000.0,14400000.0,14400000.0,10800000.0,14400000.0,7200000.0,10800000.0,10800000.0,7200000.0,10800000.0,7200000.0],\"xaxis\":\"x\",\"y\":[\"delay_machine\",\"j10\",\"j11\",\"j11\",\"j11\",\"j12\",\"j12\",\"j15\",\"j16\",\"j16\",\"j16\",\"j17\",\"j2\",\"j2\",\"j20\",\"j5\",\"j5\",\"j7\",\"j9\",\"setup\",\"setup\",\"setup\",\"setup\",\"setup\",\"setup\",\"setup\",\"setup\",\"setup\",\"setup\",\"setup\"],\"yaxis\":\"y\",\"type\":\"bar\"},{\"alignmentgroup\":\"True\",\"base\":[\"1970-01-10T05:00:00\",\"1970-01-10T03:00:00\",\"1970-01-10T04:00:00\",\"1970-01-04T01:00:00\",\"1970-01-06T03:00:00\",\"1970-01-05T20:00:00\",\"1970-01-05T12:00:00\",\"1970-01-08T14:00:00\",\"1970-01-09T04:00:00\",\"1970-01-07T22:00:00\",\"1970-01-06T09:00:00\",\"1970-01-06T19:00:00\",\"1970-01-03T11:00:00\",\"1970-01-02T02:00:00\",\"1970-01-02T12:00:00\",\"1970-01-04T11:00:00\",\"1970-01-01T09:00:00\",\"1970-01-03T02:00:00\",\"1970-01-01T19:00:00\",\"1970-01-07T09:00:00\",\"1970-01-02T02:00:00\",\"1970-01-01T19:00:00\",\"1970-01-04T11:00:00\",\"1970-01-04T01:00:00\",\"1970-01-03T11:00:00\",\"1970-01-03T02:00:00\",\"1970-01-05T12:00:00\",\"1970-01-07T22:00:00\",\"1970-01-07T09:00:00\",\"1970-01-06T09:00:00\"],\"hovertemplate\":\"Resource=%{text}<br>Start=%{base}<br>Finish=%{x}<br>Type=%{y}<extra></extra>\",\"legendgroup\":\"M5\",\"marker\":{\"color\":\"rgb(147,120,96)\",\"pattern\":{\"shape\":\"\"},\"line\":{\"color\":\"yellow\"},\"cmid\":1000},\"name\":\"M5\",\"offsetgroup\":\"M5\",\"orientation\":\"h\",\"showlegend\":true,\"text\":[\"M5\",\"M5\",\"M5\",\"M5\",\"M5\",\"M5\",\"M5\",\"M5\",\"M5\",\"M5\",\"M5\",\"M5\",\"M5\",\"M5\",\"M5\",\"M5\",\"M5\",\"M5\",\"M5\",\"M5\",\"M5\",\"M5\",\"M5\",\"M5\",\"M5\",\"M5\",\"M5\",\"M5\",\"M5\",\"M5\"],\"textposition\":\"auto\",\"x\":[97200000.0,3600000.0,3600000.0,36000000.0,21600000.0,25200000.0,28800000.0,50400000.0,82800000.0,57600000.0,36000000.0,50400000.0,50400000.0,36000000.0,50400000.0,90000000.0,36000000.0,32400000.0,25200000.0,46800000.0,10800000.0,7200000.0,10800000.0,10800000.0,7200000.0,10800000.0,7200000.0,7200000.0,3600000.0,7200000.0],\"xaxis\":\"x\",\"y\":[\"delay_machine\",\"delay_machine\",\"delay_machine\",\"j1\",\"j11\",\"j11\",\"j11\",\"j13\",\"j13\",\"j13\",\"j15\",\"j16\",\"j19\",\"j19\",\"j19\",\"j2\",\"j2\",\"j3\",\"j4\",\"j6\",\"setup\",\"setup\",\"setup\",\"setup\",\"setup\",\"setup\",\"setup\",\"setup\",\"setup\",\"setup\"],\"yaxis\":\"y\",\"type\":\"bar\"}],                        {\"template\":{\"data\":{\"barpolar\":[{\"marker\":{\"line\":{\"color\":\"rgb(234,234,242)\",\"width\":0.5},\"pattern\":{\"fillmode\":\"overlay\",\"size\":10,\"solidity\":0.2}},\"type\":\"barpolar\"}],\"bar\":[{\"error_x\":{\"color\":\"rgb(36,36,36)\"},\"error_y\":{\"color\":\"rgb(36,36,36)\"},\"marker\":{\"line\":{\"color\":\"rgb(234,234,242)\",\"width\":0.5},\"pattern\":{\"fillmode\":\"overlay\",\"size\":10,\"solidity\":0.2}},\"type\":\"bar\"}],\"carpet\":[{\"aaxis\":{\"endlinecolor\":\"rgb(36,36,36)\",\"gridcolor\":\"white\",\"linecolor\":\"white\",\"minorgridcolor\":\"white\",\"startlinecolor\":\"rgb(36,36,36)\"},\"baxis\":{\"endlinecolor\":\"rgb(36,36,36)\",\"gridcolor\":\"white\",\"linecolor\":\"white\",\"minorgridcolor\":\"white\",\"startlinecolor\":\"rgb(36,36,36)\"},\"type\":\"carpet\"}],\"choropleth\":[{\"colorbar\":{\"outlinewidth\":0,\"tickcolor\":\"rgb(36,36,36)\",\"ticklen\":8,\"ticks\":\"outside\",\"tickwidth\":2},\"type\":\"choropleth\"}],\"contourcarpet\":[{\"colorbar\":{\"outlinewidth\":0,\"tickcolor\":\"rgb(36,36,36)\",\"ticklen\":8,\"ticks\":\"outside\",\"tickwidth\":2},\"type\":\"contourcarpet\"}],\"contour\":[{\"colorbar\":{\"outlinewidth\":0,\"tickcolor\":\"rgb(36,36,36)\",\"ticklen\":8,\"ticks\":\"outside\",\"tickwidth\":2},\"colorscale\":[[0.0,\"rgb(2,4,25)\"],[0.06274509803921569,\"rgb(24,15,41)\"],[0.12549019607843137,\"rgb(47,23,57)\"],[0.18823529411764706,\"rgb(71,28,72)\"],[0.25098039215686274,\"rgb(97,30,82)\"],[0.3137254901960784,\"rgb(123,30,89)\"],[0.3764705882352941,\"rgb(150,27,91)\"],[0.4392156862745098,\"rgb(177,22,88)\"],[0.5019607843137255,\"rgb(203,26,79)\"],[0.5647058823529412,\"rgb(223,47,67)\"],[0.6274509803921569,\"rgb(236,76,61)\"],[0.6901960784313725,\"rgb(242,107,73)\"],[0.7529411764705882,\"rgb(244,135,95)\"],[0.8156862745098039,\"rgb(245,162,122)\"],[0.8784313725490196,\"rgb(246,188,153)\"],[0.9411764705882353,\"rgb(247,212,187)\"],[1.0,\"rgb(250,234,220)\"]],\"type\":\"contour\"}],\"heatmapgl\":[{\"colorbar\":{\"outlinewidth\":0,\"tickcolor\":\"rgb(36,36,36)\",\"ticklen\":8,\"ticks\":\"outside\",\"tickwidth\":2},\"colorscale\":[[0.0,\"rgb(2,4,25)\"],[0.06274509803921569,\"rgb(24,15,41)\"],[0.12549019607843137,\"rgb(47,23,57)\"],[0.18823529411764706,\"rgb(71,28,72)\"],[0.25098039215686274,\"rgb(97,30,82)\"],[0.3137254901960784,\"rgb(123,30,89)\"],[0.3764705882352941,\"rgb(150,27,91)\"],[0.4392156862745098,\"rgb(177,22,88)\"],[0.5019607843137255,\"rgb(203,26,79)\"],[0.5647058823529412,\"rgb(223,47,67)\"],[0.6274509803921569,\"rgb(236,76,61)\"],[0.6901960784313725,\"rgb(242,107,73)\"],[0.7529411764705882,\"rgb(244,135,95)\"],[0.8156862745098039,\"rgb(245,162,122)\"],[0.8784313725490196,\"rgb(246,188,153)\"],[0.9411764705882353,\"rgb(247,212,187)\"],[1.0,\"rgb(250,234,220)\"]],\"type\":\"heatmapgl\"}],\"heatmap\":[{\"colorbar\":{\"outlinewidth\":0,\"tickcolor\":\"rgb(36,36,36)\",\"ticklen\":8,\"ticks\":\"outside\",\"tickwidth\":2},\"colorscale\":[[0.0,\"rgb(2,4,25)\"],[0.06274509803921569,\"rgb(24,15,41)\"],[0.12549019607843137,\"rgb(47,23,57)\"],[0.18823529411764706,\"rgb(71,28,72)\"],[0.25098039215686274,\"rgb(97,30,82)\"],[0.3137254901960784,\"rgb(123,30,89)\"],[0.3764705882352941,\"rgb(150,27,91)\"],[0.4392156862745098,\"rgb(177,22,88)\"],[0.5019607843137255,\"rgb(203,26,79)\"],[0.5647058823529412,\"rgb(223,47,67)\"],[0.6274509803921569,\"rgb(236,76,61)\"],[0.6901960784313725,\"rgb(242,107,73)\"],[0.7529411764705882,\"rgb(244,135,95)\"],[0.8156862745098039,\"rgb(245,162,122)\"],[0.8784313725490196,\"rgb(246,188,153)\"],[0.9411764705882353,\"rgb(247,212,187)\"],[1.0,\"rgb(250,234,220)\"]],\"type\":\"heatmap\"}],\"histogram2dcontour\":[{\"colorbar\":{\"outlinewidth\":0,\"tickcolor\":\"rgb(36,36,36)\",\"ticklen\":8,\"ticks\":\"outside\",\"tickwidth\":2},\"colorscale\":[[0.0,\"rgb(2,4,25)\"],[0.06274509803921569,\"rgb(24,15,41)\"],[0.12549019607843137,\"rgb(47,23,57)\"],[0.18823529411764706,\"rgb(71,28,72)\"],[0.25098039215686274,\"rgb(97,30,82)\"],[0.3137254901960784,\"rgb(123,30,89)\"],[0.3764705882352941,\"rgb(150,27,91)\"],[0.4392156862745098,\"rgb(177,22,88)\"],[0.5019607843137255,\"rgb(203,26,79)\"],[0.5647058823529412,\"rgb(223,47,67)\"],[0.6274509803921569,\"rgb(236,76,61)\"],[0.6901960784313725,\"rgb(242,107,73)\"],[0.7529411764705882,\"rgb(244,135,95)\"],[0.8156862745098039,\"rgb(245,162,122)\"],[0.8784313725490196,\"rgb(246,188,153)\"],[0.9411764705882353,\"rgb(247,212,187)\"],[1.0,\"rgb(250,234,220)\"]],\"type\":\"histogram2dcontour\"}],\"histogram2d\":[{\"colorbar\":{\"outlinewidth\":0,\"tickcolor\":\"rgb(36,36,36)\",\"ticklen\":8,\"ticks\":\"outside\",\"tickwidth\":2},\"colorscale\":[[0.0,\"rgb(2,4,25)\"],[0.06274509803921569,\"rgb(24,15,41)\"],[0.12549019607843137,\"rgb(47,23,57)\"],[0.18823529411764706,\"rgb(71,28,72)\"],[0.25098039215686274,\"rgb(97,30,82)\"],[0.3137254901960784,\"rgb(123,30,89)\"],[0.3764705882352941,\"rgb(150,27,91)\"],[0.4392156862745098,\"rgb(177,22,88)\"],[0.5019607843137255,\"rgb(203,26,79)\"],[0.5647058823529412,\"rgb(223,47,67)\"],[0.6274509803921569,\"rgb(236,76,61)\"],[0.6901960784313725,\"rgb(242,107,73)\"],[0.7529411764705882,\"rgb(244,135,95)\"],[0.8156862745098039,\"rgb(245,162,122)\"],[0.8784313725490196,\"rgb(246,188,153)\"],[0.9411764705882353,\"rgb(247,212,187)\"],[1.0,\"rgb(250,234,220)\"]],\"type\":\"histogram2d\"}],\"histogram\":[{\"marker\":{\"pattern\":{\"fillmode\":\"overlay\",\"size\":10,\"solidity\":0.2}},\"type\":\"histogram\"}],\"mesh3d\":[{\"colorbar\":{\"outlinewidth\":0,\"tickcolor\":\"rgb(36,36,36)\",\"ticklen\":8,\"ticks\":\"outside\",\"tickwidth\":2},\"type\":\"mesh3d\"}],\"parcoords\":[{\"line\":{\"colorbar\":{\"outlinewidth\":0,\"tickcolor\":\"rgb(36,36,36)\",\"ticklen\":8,\"ticks\":\"outside\",\"tickwidth\":2}},\"type\":\"parcoords\"}],\"pie\":[{\"automargin\":true,\"type\":\"pie\"}],\"scatter3d\":[{\"line\":{\"colorbar\":{\"outlinewidth\":0,\"tickcolor\":\"rgb(36,36,36)\",\"ticklen\":8,\"ticks\":\"outside\",\"tickwidth\":2}},\"marker\":{\"colorbar\":{\"outlinewidth\":0,\"tickcolor\":\"rgb(36,36,36)\",\"ticklen\":8,\"ticks\":\"outside\",\"tickwidth\":2}},\"type\":\"scatter3d\"}],\"scattercarpet\":[{\"marker\":{\"colorbar\":{\"outlinewidth\":0,\"tickcolor\":\"rgb(36,36,36)\",\"ticklen\":8,\"ticks\":\"outside\",\"tickwidth\":2}},\"type\":\"scattercarpet\"}],\"scattergeo\":[{\"marker\":{\"colorbar\":{\"outlinewidth\":0,\"tickcolor\":\"rgb(36,36,36)\",\"ticklen\":8,\"ticks\":\"outside\",\"tickwidth\":2}},\"type\":\"scattergeo\"}],\"scattergl\":[{\"marker\":{\"colorbar\":{\"outlinewidth\":0,\"tickcolor\":\"rgb(36,36,36)\",\"ticklen\":8,\"ticks\":\"outside\",\"tickwidth\":2}},\"type\":\"scattergl\"}],\"scattermapbox\":[{\"marker\":{\"colorbar\":{\"outlinewidth\":0,\"tickcolor\":\"rgb(36,36,36)\",\"ticklen\":8,\"ticks\":\"outside\",\"tickwidth\":2}},\"type\":\"scattermapbox\"}],\"scatterpolargl\":[{\"marker\":{\"colorbar\":{\"outlinewidth\":0,\"tickcolor\":\"rgb(36,36,36)\",\"ticklen\":8,\"ticks\":\"outside\",\"tickwidth\":2}},\"type\":\"scatterpolargl\"}],\"scatterpolar\":[{\"marker\":{\"colorbar\":{\"outlinewidth\":0,\"tickcolor\":\"rgb(36,36,36)\",\"ticklen\":8,\"ticks\":\"outside\",\"tickwidth\":2}},\"type\":\"scatterpolar\"}],\"scatter\":[{\"fillpattern\":{\"fillmode\":\"overlay\",\"size\":10,\"solidity\":0.2},\"type\":\"scatter\"}],\"scatterternary\":[{\"marker\":{\"colorbar\":{\"outlinewidth\":0,\"tickcolor\":\"rgb(36,36,36)\",\"ticklen\":8,\"ticks\":\"outside\",\"tickwidth\":2}},\"type\":\"scatterternary\"}],\"surface\":[{\"colorbar\":{\"outlinewidth\":0,\"tickcolor\":\"rgb(36,36,36)\",\"ticklen\":8,\"ticks\":\"outside\",\"tickwidth\":2},\"colorscale\":[[0.0,\"rgb(2,4,25)\"],[0.06274509803921569,\"rgb(24,15,41)\"],[0.12549019607843137,\"rgb(47,23,57)\"],[0.18823529411764706,\"rgb(71,28,72)\"],[0.25098039215686274,\"rgb(97,30,82)\"],[0.3137254901960784,\"rgb(123,30,89)\"],[0.3764705882352941,\"rgb(150,27,91)\"],[0.4392156862745098,\"rgb(177,22,88)\"],[0.5019607843137255,\"rgb(203,26,79)\"],[0.5647058823529412,\"rgb(223,47,67)\"],[0.6274509803921569,\"rgb(236,76,61)\"],[0.6901960784313725,\"rgb(242,107,73)\"],[0.7529411764705882,\"rgb(244,135,95)\"],[0.8156862745098039,\"rgb(245,162,122)\"],[0.8784313725490196,\"rgb(246,188,153)\"],[0.9411764705882353,\"rgb(247,212,187)\"],[1.0,\"rgb(250,234,220)\"]],\"type\":\"surface\"}],\"table\":[{\"cells\":{\"fill\":{\"color\":\"rgb(231,231,240)\"},\"line\":{\"color\":\"white\"}},\"header\":{\"fill\":{\"color\":\"rgb(183,183,191)\"},\"line\":{\"color\":\"white\"}},\"type\":\"table\"}]},\"layout\":{\"annotationdefaults\":{\"arrowcolor\":\"rgb(67,103,167)\"},\"autotypenumbers\":\"strict\",\"coloraxis\":{\"colorbar\":{\"outlinewidth\":0,\"tickcolor\":\"rgb(36,36,36)\",\"ticklen\":8,\"ticks\":\"outside\",\"tickwidth\":2}},\"colorscale\":{\"sequential\":[[0.0,\"rgb(2,4,25)\"],[0.06274509803921569,\"rgb(24,15,41)\"],[0.12549019607843137,\"rgb(47,23,57)\"],[0.18823529411764706,\"rgb(71,28,72)\"],[0.25098039215686274,\"rgb(97,30,82)\"],[0.3137254901960784,\"rgb(123,30,89)\"],[0.3764705882352941,\"rgb(150,27,91)\"],[0.4392156862745098,\"rgb(177,22,88)\"],[0.5019607843137255,\"rgb(203,26,79)\"],[0.5647058823529412,\"rgb(223,47,67)\"],[0.6274509803921569,\"rgb(236,76,61)\"],[0.6901960784313725,\"rgb(242,107,73)\"],[0.7529411764705882,\"rgb(244,135,95)\"],[0.8156862745098039,\"rgb(245,162,122)\"],[0.8784313725490196,\"rgb(246,188,153)\"],[0.9411764705882353,\"rgb(247,212,187)\"],[1.0,\"rgb(250,234,220)\"]],\"sequentialminus\":[[0.0,\"rgb(2,4,25)\"],[0.06274509803921569,\"rgb(24,15,41)\"],[0.12549019607843137,\"rgb(47,23,57)\"],[0.18823529411764706,\"rgb(71,28,72)\"],[0.25098039215686274,\"rgb(97,30,82)\"],[0.3137254901960784,\"rgb(123,30,89)\"],[0.3764705882352941,\"rgb(150,27,91)\"],[0.4392156862745098,\"rgb(177,22,88)\"],[0.5019607843137255,\"rgb(203,26,79)\"],[0.5647058823529412,\"rgb(223,47,67)\"],[0.6274509803921569,\"rgb(236,76,61)\"],[0.6901960784313725,\"rgb(242,107,73)\"],[0.7529411764705882,\"rgb(244,135,95)\"],[0.8156862745098039,\"rgb(245,162,122)\"],[0.8784313725490196,\"rgb(246,188,153)\"],[0.9411764705882353,\"rgb(247,212,187)\"],[1.0,\"rgb(250,234,220)\"]]},\"colorway\":[\"rgb(76,114,176)\",\"rgb(221,132,82)\",\"rgb(85,168,104)\",\"rgb(196,78,82)\",\"rgb(129,114,179)\",\"rgb(147,120,96)\",\"rgb(218,139,195)\",\"rgb(140,140,140)\",\"rgb(204,185,116)\",\"rgb(100,181,205)\"],\"font\":{\"color\":\"rgb(36,36,36)\"},\"geo\":{\"bgcolor\":\"white\",\"lakecolor\":\"white\",\"landcolor\":\"rgb(234,234,242)\",\"showlakes\":true,\"showland\":true,\"subunitcolor\":\"white\"},\"hoverlabel\":{\"align\":\"left\"},\"hovermode\":\"closest\",\"paper_bgcolor\":\"white\",\"plot_bgcolor\":\"rgb(234,234,242)\",\"polar\":{\"angularaxis\":{\"gridcolor\":\"white\",\"linecolor\":\"white\",\"showgrid\":true,\"ticks\":\"\"},\"bgcolor\":\"rgb(234,234,242)\",\"radialaxis\":{\"gridcolor\":\"white\",\"linecolor\":\"white\",\"showgrid\":true,\"ticks\":\"\"}},\"scene\":{\"xaxis\":{\"backgroundcolor\":\"rgb(234,234,242)\",\"gridcolor\":\"white\",\"gridwidth\":2,\"linecolor\":\"white\",\"showbackground\":true,\"showgrid\":true,\"ticks\":\"\",\"zerolinecolor\":\"white\"},\"yaxis\":{\"backgroundcolor\":\"rgb(234,234,242)\",\"gridcolor\":\"white\",\"gridwidth\":2,\"linecolor\":\"white\",\"showbackground\":true,\"showgrid\":true,\"ticks\":\"\",\"zerolinecolor\":\"white\"},\"zaxis\":{\"backgroundcolor\":\"rgb(234,234,242)\",\"gridcolor\":\"white\",\"gridwidth\":2,\"linecolor\":\"white\",\"showbackground\":true,\"showgrid\":true,\"ticks\":\"\",\"zerolinecolor\":\"white\"}},\"shapedefaults\":{\"fillcolor\":\"rgb(67,103,167)\",\"line\":{\"width\":0},\"opacity\":0.5},\"ternary\":{\"aaxis\":{\"gridcolor\":\"white\",\"linecolor\":\"white\",\"showgrid\":true,\"ticks\":\"\"},\"baxis\":{\"gridcolor\":\"white\",\"linecolor\":\"white\",\"showgrid\":true,\"ticks\":\"\"},\"bgcolor\":\"rgb(234,234,242)\",\"caxis\":{\"gridcolor\":\"white\",\"linecolor\":\"white\",\"showgrid\":true,\"ticks\":\"\"}},\"xaxis\":{\"automargin\":true,\"gridcolor\":\"white\",\"linecolor\":\"white\",\"showgrid\":true,\"ticks\":\"\",\"title\":{\"standoff\":15},\"zerolinecolor\":\"white\"},\"yaxis\":{\"automargin\":true,\"gridcolor\":\"white\",\"linecolor\":\"white\",\"showgrid\":true,\"ticks\":\"\",\"title\":{\"standoff\":15},\"zerolinecolor\":\"white\"}}},\"xaxis\":{\"anchor\":\"y\",\"domain\":[0.0,1.0],\"type\":\"date\"},\"yaxis\":{\"anchor\":\"x\",\"domain\":[0.0,1.0],\"title\":{\"text\":\"Type\"}},\"legend\":{\"title\":{\"text\":\"Resource\"},\"tracegroupgap\":0},\"margin\":{\"t\":60},\"barmode\":\"overlay\",\"height\":1000,\"width\":2000},                        {\"responsive\": true}                    ).then(function(){\n",
       "                            \n",
       "var gd = document.getElementById('472e07eb-f0ed-4660-9d83-e3d34a637d29');\n",
       "var x = new MutationObserver(function (mutations, observer) {{\n",
       "        var display = window.getComputedStyle(gd).display;\n",
       "        if (!display || display === 'none') {{\n",
       "            console.log([gd, 'removed!']);\n",
       "            Plotly.purge(gd);\n",
       "            observer.disconnect();\n",
       "        }}\n",
       "}});\n",
       "\n",
       "// Listen for the removal of the full notebook cells\n",
       "var notebookContainer = gd.closest('#notebook-container');\n",
       "if (notebookContainer) {{\n",
       "    x.observe(notebookContainer, {childList: true});\n",
       "}}\n",
       "\n",
       "// Listen for the clearing of the current output cell\n",
       "var outputEl = gd.closest('.output');\n",
       "if (outputEl) {{\n",
       "    x.observe(outputEl, {childList: true});\n",
       "}}\n",
       "\n",
       "                        })                };                });            </script>        </div>"
      ]
     },
     "metadata": {},
     "output_type": "display_data"
    },
    {
     "data": {
      "application/vnd.plotly.v1+json": {
       "config": {
        "plotlyServerURL": "https://plot.ly"
       },
       "data": [
        {
         "alignmentgroup": "True",
         "base": [
          "1970-01-02T19:00:00",
          "1970-01-03T08:00:00",
          "1970-01-07T06:00:00",
          "1970-01-01T19:00:00",
          "1970-01-06T08:00:00"
         ],
         "hovertemplate": "Type=j9<br>Start=%{base}<br>Finish=%{x}<br>Resource=%{y}<br>Rule=%{text}<extra></extra>",
         "legendgroup": "j9",
         "marker": {
          "color": "#2E91E5",
          "pattern": {
           "shape": ""
          }
         },
         "name": "j9",
         "offsetgroup": "j9",
         "orientation": "h",
         "showlegend": true,
         "text": [
          "MORSPT",
          "MORSPT",
          "SPT",
          "MORSPT",
          "SPT"
         ],
         "textposition": "auto",
         "type": "bar",
         "x": [
          46800000,
          28800000,
          28800000,
          43200000,
          43200000
         ],
         "xaxis": "x",
         "y": [
          "M6",
          "M6",
          "M6",
          "M2",
          "M1"
         ],
         "yaxis": "y"
        },
        {
         "alignmentgroup": "True",
         "base": [
          "1970-01-07T14:00:00",
          "1970-01-06T19:00:00",
          "1970-01-08T03:00:00",
          "1970-01-02T07:00:00",
          "1970-01-02T16:00:00",
          "1970-01-03T05:00:00",
          "1970-01-01T14:00:00"
         ],
         "hovertemplate": "Type=j7<br>Start=%{base}<br>Finish=%{x}<br>Resource=%{y}<br>Rule=%{text}<extra></extra>",
         "legendgroup": "j7",
         "marker": {
          "color": "#E15F99",
          "pattern": {
           "shape": ""
          }
         },
         "name": "j7",
         "offsetgroup": "j7",
         "orientation": "h",
         "showlegend": true,
         "text": [
          "SPT",
          "MORSPT",
          "SPT",
          "MORSPT",
          "MORSPT",
          "MORSPT",
          "SPT"
         ],
         "textposition": "auto",
         "type": "bar",
         "x": [
          43200000,
          57600000,
          64800000,
          32400000,
          46800000,
          32400000,
          36000000
         ],
         "xaxis": "x",
         "y": [
          "M6",
          "M4",
          "M4",
          "M3",
          "M2",
          "M2",
          "M1"
         ],
         "yaxis": "y"
        },
        {
         "alignmentgroup": "True",
         "base": [
          "1970-01-06T17:00:00",
          "1970-01-07T09:00:00",
          "1970-01-02T07:00:00"
         ],
         "hovertemplate": "Type=j6<br>Start=%{base}<br>Finish=%{x}<br>Resource=%{y}<br>Rule=%{text}<extra></extra>",
         "legendgroup": "j6",
         "marker": {
          "color": "#1CA71C",
          "pattern": {
           "shape": ""
          }
         },
         "name": "j6",
         "offsetgroup": "j6",
         "orientation": "h",
         "showlegend": true,
         "text": [
          "SPT",
          "SPT",
          "MORSPT"
         ],
         "textposition": "auto",
         "type": "bar",
         "x": [
          46800000,
          46800000,
          32400000
         ],
         "xaxis": "x",
         "y": [
          "M6",
          "M5",
          "M2"
         ],
         "yaxis": "y"
        },
        {
         "alignmentgroup": "True",
         "base": [
          "1970-01-05T19:00:00",
          "1970-01-02T16:00:00",
          "1970-01-06T08:00:00",
          "1970-01-03T07:00:00",
          "1970-01-03T21:00:00"
         ],
         "hovertemplate": "Type=j5<br>Start=%{base}<br>Finish=%{x}<br>Resource=%{y}<br>Rule=%{text}<extra></extra>",
         "legendgroup": "j5",
         "marker": {
          "color": "#FB0D0D",
          "pattern": {
           "shape": ""
          }
         },
         "name": "j5",
         "offsetgroup": "j5",
         "orientation": "h",
         "showlegend": true,
         "text": [
          "SPT",
          "MORSPT",
          "SPT",
          "MORSPT",
          "MORSPT"
         ],
         "textposition": "auto",
         "type": "bar",
         "x": [
          36000000,
          54000000,
          32400000,
          50400000,
          25200000
         ],
         "xaxis": "x",
         "y": [
          "M6",
          "M3",
          "M2",
          "M1",
          "M1"
         ],
         "yaxis": "y"
        },
        {
         "alignmentgroup": "True",
         "base": [
          "1970-01-03T16:00:00",
          "1970-01-01T19:00:00",
          "1970-01-01T09:00:00",
          "1970-01-01T14:00:00",
          "1970-01-06T17:00:00"
         ],
         "hovertemplate": "Type=j4<br>Start=%{base}<br>Finish=%{x}<br>Resource=%{y}<br>Rule=%{text}<extra></extra>",
         "legendgroup": "j4",
         "marker": {
          "color": "#DA16FF",
          "pattern": {
           "shape": ""
          }
         },
         "name": "j4",
         "offsetgroup": "j4",
         "orientation": "h",
         "showlegend": true,
         "text": [
          "MORSPT",
          "MORSPT",
          "SPT",
          "SPT",
          "SPT"
         ],
         "textposition": "auto",
         "type": "bar",
         "x": [
          28800000,
          25200000,
          18000000,
          18000000,
          50400000
         ],
         "xaxis": "x",
         "y": [
          "M6",
          "M5",
          "M2",
          "M2",
          "M2"
         ],
         "yaxis": "y"
        },
        {
         "alignmentgroup": "True",
         "base": [
          "1970-01-01T09:00:00",
          "1970-01-03T02:00:00",
          "1970-01-06T05:00:00",
          "1970-01-01T14:00:00"
         ],
         "hovertemplate": "Type=j3<br>Start=%{base}<br>Finish=%{x}<br>Resource=%{y}<br>Rule=%{text}<extra></extra>",
         "legendgroup": "j3",
         "marker": {
          "color": "#222A2A",
          "pattern": {
           "shape": ""
          }
         },
         "name": "j3",
         "offsetgroup": "j3",
         "orientation": "h",
         "showlegend": true,
         "text": [
          "SPT",
          "MORSPT",
          "SPT",
          "MORSPT"
         ],
         "textposition": "auto",
         "type": "bar",
         "x": [
          18000000,
          32400000,
          50400000,
          25200000
         ],
         "xaxis": "x",
         "y": [
          "M6",
          "M5",
          "M4",
          "M3"
         ],
         "yaxis": "y"
        },
        {
         "alignmentgroup": "True",
         "base": [
          "1970-01-08T20:00:00",
          "1970-01-01T09:00:00",
          "1970-01-04T11:00:00",
          "1970-01-05T19:00:00",
          "1970-01-09T13:00:00",
          "1970-01-02T00:00:00",
          "1970-01-10T01:00:00"
         ],
         "hovertemplate": "Type=j2<br>Start=%{base}<br>Finish=%{x}<br>Resource=%{y}<br>Rule=%{text}<extra></extra>",
         "legendgroup": "j2",
         "marker": {
          "color": "#B68100",
          "pattern": {
           "shape": ""
          }
         },
         "name": "j2",
         "offsetgroup": "j2",
         "orientation": "h",
         "showlegend": true,
         "text": [
          "SPT",
          "MORSPT",
          "MORSPT",
          "MORSPT",
          "SPTSSU",
          "MORSPT",
          "SPTSSU"
         ],
         "textposition": "auto",
         "type": "bar",
         "x": [
          61200000,
          36000000,
          90000000,
          61200000,
          43200000,
          46800000,
          111600000
         ],
         "xaxis": "x",
         "y": [
          "M6",
          "M5",
          "M5",
          "M3",
          "M3",
          "M1",
          "M1"
         ],
         "yaxis": "y"
        },
        {
         "alignmentgroup": "True",
         "base": [
          "1970-01-05T02:00:00",
          "1970-01-05T14:00:00",
          "1970-01-02T02:00:00",
          "1970-01-02T12:00:00",
          "1970-01-03T11:00:00",
          "1970-01-01T09:00:00",
          "1970-01-09T00:00:00"
         ],
         "hovertemplate": "Type=j19<br>Start=%{base}<br>Finish=%{x}<br>Resource=%{y}<br>Rule=%{text}<extra></extra>",
         "legendgroup": "j19",
         "marker": {
          "color": "#750D86",
          "pattern": {
           "shape": ""
          }
         },
         "name": "j19",
         "offsetgroup": "j19",
         "orientation": "h",
         "showlegend": true,
         "text": [
          "MORSPT",
          "MORSPT",
          "MORSPT",
          "MORSPT",
          "MORSPT",
          "MORSPT",
          "SPT"
         ],
         "textposition": "auto",
         "type": "bar",
         "x": [
          43200000,
          18000000,
          36000000,
          50400000,
          50400000,
          50400000,
          100800000
         ],
         "xaxis": "x",
         "y": [
          "M6",
          "M6",
          "M5",
          "M5",
          "M5",
          "M4",
          "M2"
         ],
         "yaxis": "y"
        },
        {
         "alignmentgroup": "True",
         "base": [
          "1970-01-01T14:00:00",
          "1970-01-02T06:00:00",
          "1970-01-06T19:00:00",
          "1970-01-03T07:00:00",
          "1970-01-03T23:00:00",
          "1970-01-07T13:00:00",
          "1970-01-08T05:00:00",
          "1970-01-08T19:00:00"
         ],
         "hovertemplate": "Type=j16<br>Start=%{base}<br>Finish=%{x}<br>Resource=%{y}<br>Rule=%{text}<extra></extra>",
         "legendgroup": "j16",
         "marker": {
          "color": "#EB663B",
          "pattern": {
           "shape": ""
          }
         },
         "name": "j16",
         "offsetgroup": "j16",
         "orientation": "h",
         "showlegend": true,
         "text": [
          "MORSPT",
          "MORSPT",
          "MORSPT",
          "MORSPT",
          "MORSPT",
          "SPT",
          "SPT",
          "SPT"
         ],
         "textposition": "auto",
         "type": "bar",
         "x": [
          57600000,
          46800000,
          50400000,
          57600000,
          46800000,
          57600000,
          50400000,
          18000000
         ],
         "xaxis": "x",
         "y": [
          "M6",
          "M6",
          "M5",
          "M3",
          "M3",
          "M1",
          "M1",
          "M1"
         ],
         "yaxis": "y"
        },
        {
         "alignmentgroup": "True",
         "base": [
          "1970-01-04T14:00:00",
          "1970-01-06T09:00:00",
          "1970-01-06T20:00:00"
         ],
         "hovertemplate": "Type=j15<br>Start=%{base}<br>Finish=%{x}<br>Resource=%{y}<br>Rule=%{text}<extra></extra>",
         "legendgroup": "j15",
         "marker": {
          "color": "#511CFB",
          "pattern": {
           "shape": ""
          }
         },
         "name": "j15",
         "offsetgroup": "j15",
         "orientation": "h",
         "showlegend": true,
         "text": [
          "MORSPT",
          "SPT",
          "SPT"
         ],
         "textposition": "auto",
         "type": "bar",
         "x": [
          43200000,
          36000000,
          61200000
         ],
         "xaxis": "x",
         "y": [
          "M6",
          "M5",
          "M1"
         ],
         "yaxis": "y"
        },
        {
         "alignmentgroup": "True",
         "base": [
          "1970-01-08T02:00:00",
          "1970-01-08T21:00:00",
          "1970-01-05T08:00:00",
          "1970-01-04T12:00:00"
         ],
         "hovertemplate": "Type=j14<br>Start=%{base}<br>Finish=%{x}<br>Resource=%{y}<br>Rule=%{text}<extra></extra>",
         "legendgroup": "j14",
         "marker": {
          "color": "#00A08B",
          "pattern": {
           "shape": ""
          }
         },
         "name": "j14",
         "offsetgroup": "j14",
         "orientation": "h",
         "showlegend": true,
         "text": [
          "SPT",
          "SPT",
          "MORSPT",
          "MORSPT"
         ],
         "textposition": "auto",
         "type": "bar",
         "x": [
          64800000,
          54000000,
          39600000,
          61200000
         ],
         "xaxis": "x",
         "y": [
          "M6",
          "M4",
          "M3",
          "M2"
         ],
         "yaxis": "y"
        },
        {
         "alignmentgroup": "True",
         "base": [
          "1970-01-04T00:00:00",
          "1970-01-03T03:00:00",
          "1970-01-05T21:00:00",
          "1970-01-05T03:00:00",
          "1970-01-05T14:00:00"
         ],
         "hovertemplate": "Type=j12<br>Start=%{base}<br>Finish=%{x}<br>Resource=%{y}<br>Rule=%{text}<extra></extra>",
         "legendgroup": "j12",
         "marker": {
          "color": "#FB00D1",
          "pattern": {
           "shape": ""
          }
         },
         "name": "j12",
         "offsetgroup": "j12",
         "orientation": "h",
         "showlegend": true,
         "text": [
          "MORSPT",
          "MORSPT",
          "SPT",
          "MORSPT",
          "MORSPT"
         ],
         "textposition": "auto",
         "type": "bar",
         "x": [
          50400000,
          68400000,
          39600000,
          39600000,
          18000000
         ],
         "xaxis": "x",
         "y": [
          "M6",
          "M4",
          "M2",
          "M1",
          "M1"
         ],
         "yaxis": "y"
        },
        {
         "alignmentgroup": "True",
         "base": [
          "1970-01-06T05:00:00",
          "1970-01-04T01:00:00",
          "1970-01-02T07:00:00",
          "1970-01-02T21:00:00"
         ],
         "hovertemplate": "Type=j1<br>Start=%{base}<br>Finish=%{x}<br>Resource=%{y}<br>Rule=%{text}<extra></extra>",
         "legendgroup": "j1",
         "marker": {
          "color": "#FC0080",
          "pattern": {
           "shape": ""
          }
         },
         "name": "j1",
         "offsetgroup": "j1",
         "orientation": "h",
         "showlegend": true,
         "text": [
          "SPT",
          "MORSPT",
          "MORSPT",
          "MORSPT"
         ],
         "textposition": "auto",
         "type": "bar",
         "x": [
          43200000,
          36000000,
          50400000,
          21600000
         ],
         "xaxis": "x",
         "y": [
          "M6",
          "M5",
          "M4",
          "M4"
         ],
         "yaxis": "y"
        },
        {
         "alignmentgroup": "True",
         "base": [
          "1970-01-09T13:00:00",
          "1970-01-09T16:00:00",
          "1970-01-09T22:00:00",
          "1970-01-10T01:00:00",
          "1970-01-10T03:00:00",
          "1970-01-10T04:00:00",
          "1970-01-10T05:00:00",
          "1970-01-10T03:00:00",
          "1970-01-10T04:00:00",
          "1970-01-10T05:00:00",
          "1970-01-09T12:00:00",
          "1970-01-09T13:00:00",
          "1970-01-09T16:00:00",
          "1970-01-09T22:00:00",
          "1970-01-10T01:00:00",
          "1970-01-10T03:00:00",
          "1970-01-10T04:00:00",
          "1970-01-10T05:00:00",
          "1970-01-09T11:00:00",
          "1970-01-09T12:00:00",
          "1970-01-10T01:00:00",
          "1970-01-10T03:00:00",
          "1970-01-10T04:00:00",
          "1970-01-10T05:00:00",
          "1970-01-10T04:00:00",
          "1970-01-10T05:00:00",
          "1970-01-09T22:00:00"
         ],
         "hovertemplate": "Type=delay_machine<br>Start=%{base}<br>Finish=%{x}<br>Resource=%{y}<br>Rule=%{text}<extra></extra>",
         "legendgroup": "delay_machine",
         "marker": {
          "color": "#B2828D",
          "pattern": {
           "shape": ""
          }
         },
         "name": "delay_machine",
         "offsetgroup": "delay_machine",
         "orientation": "h",
         "showlegend": true,
         "text": [
          "DDA",
          "DDA",
          "DDA",
          "DDA",
          "DDA",
          "DDA",
          "DDA",
          "DDA",
          "DDA",
          "DDA",
          "DDA",
          "DDA",
          "DDA",
          "DDA",
          "DDA",
          "DDA",
          "DDA",
          "DDA",
          "DDA",
          "DDA",
          "DDA",
          "DDA",
          "DDA",
          "DDA",
          "DDA",
          "DDA",
          "DDA"
         ],
         "textposition": "auto",
         "type": "bar",
         "x": [
          10800000,
          21600000,
          10800000,
          7200000,
          3600000,
          3600000,
          97200000,
          3600000,
          3600000,
          97200000,
          3600000,
          10800000,
          21600000,
          10800000,
          7200000,
          3600000,
          3600000,
          97200000,
          3600000,
          3600000,
          7200000,
          3600000,
          3600000,
          97200000,
          3600000,
          97200000,
          10800000
         ],
         "xaxis": "x",
         "y": [
          "M6",
          "M6",
          "M6",
          "M6",
          "M6",
          "M6",
          "M6",
          "M5",
          "M5",
          "M5",
          "M4",
          "M4",
          "M4",
          "M4",
          "M4",
          "M4",
          "M4",
          "M4",
          "M3",
          "M3",
          "M3",
          "M3",
          "M3",
          "M3",
          "M2",
          "M2",
          "M1"
         ],
         "yaxis": "y"
        },
        {
         "alignmentgroup": "True",
         "base": [
          "1970-01-07T22:00:00",
          "1970-01-08T14:00:00",
          "1970-01-09T04:00:00",
          "1970-01-01T21:00:00"
         ],
         "hovertemplate": "Type=j13<br>Start=%{base}<br>Finish=%{x}<br>Resource=%{y}<br>Rule=%{text}<extra></extra>",
         "legendgroup": "j13",
         "marker": {
          "color": "#6C7C32",
          "pattern": {
           "shape": ""
          }
         },
         "name": "j13",
         "offsetgroup": "j13",
         "orientation": "h",
         "showlegend": true,
         "text": [
          "SPT",
          "SPT",
          "SPT",
          "MORSPT"
         ],
         "textposition": "auto",
         "type": "bar",
         "x": [
          57600000,
          50400000,
          82800000,
          36000000
         ],
         "xaxis": "x",
         "y": [
          "M5",
          "M5",
          "M5",
          "M3"
         ],
         "yaxis": "y"
        },
        {
         "alignmentgroup": "True",
         "base": [
          "1970-01-05T12:00:00",
          "1970-01-05T20:00:00",
          "1970-01-06T03:00:00",
          "1970-01-02T13:00:00",
          "1970-01-04T04:00:00",
          "1970-01-04T20:00:00"
         ],
         "hovertemplate": "Type=j11<br>Start=%{base}<br>Finish=%{x}<br>Resource=%{y}<br>Rule=%{text}<extra></extra>",
         "legendgroup": "j11",
         "marker": {
          "color": "#778AAE",
          "pattern": {
           "shape": ""
          }
         },
         "name": "j11",
         "offsetgroup": "j11",
         "orientation": "h",
         "showlegend": true,
         "text": [
          "MORSPT",
          "SPT",
          "SPT",
          "MORSPT",
          "MORSPT",
          "MORSPT"
         ],
         "textposition": "auto",
         "type": "bar",
         "x": [
          28800000,
          25200000,
          21600000,
          64800000,
          57600000,
          25200000
         ],
         "xaxis": "x",
         "y": [
          "M5",
          "M5",
          "M5",
          "M1",
          "M1",
          "M1"
         ],
         "yaxis": "y"
        },
        {
         "alignmentgroup": "True",
         "base": [
          "1970-01-01T23:00:00",
          "1970-01-01T09:00:00",
          "1970-01-07T13:00:00",
          "1970-01-08T04:00:00"
         ],
         "hovertemplate": "Type=j8<br>Start=%{base}<br>Finish=%{x}<br>Resource=%{y}<br>Rule=%{text}<extra></extra>",
         "legendgroup": "j8",
         "marker": {
          "color": "#862A16",
          "pattern": {
           "shape": ""
          }
         },
         "name": "j8",
         "offsetgroup": "j8",
         "orientation": "h",
         "showlegend": true,
         "text": [
          "MORSPT",
          "SPT",
          "SPT",
          "SPT"
         ],
         "textposition": "auto",
         "type": "bar",
         "x": [
          28800000,
          18000000,
          54000000,
          54000000
         ],
         "xaxis": "x",
         "y": [
          "M4",
          "M3",
          "M3",
          "M3"
         ],
         "yaxis": "y"
        },
        {
         "alignmentgroup": "True",
         "base": [
          "1970-01-05T04:00:00",
          "1970-01-06T12:00:00",
          "1970-01-07T03:00:00",
          "1970-01-03T14:00:00",
          "1970-01-04T07:00:00",
          "1970-01-05T19:00:00"
         ],
         "hovertemplate": "Type=j20<br>Start=%{base}<br>Finish=%{x}<br>Resource=%{y}<br>Rule=%{text}<extra></extra>",
         "legendgroup": "j20",
         "marker": {
          "color": "#A777F1",
          "pattern": {
           "shape": ""
          }
         },
         "name": "j20",
         "offsetgroup": "j20",
         "orientation": "h",
         "showlegend": true,
         "text": [
          "MORSPT",
          "SPT",
          "SPT",
          "MORSPT",
          "MORSPT",
          "MORSPT"
         ],
         "textposition": "auto",
         "type": "bar",
         "x": [
          54000000,
          54000000,
          36000000,
          61200000,
          18000000,
          46800000
         ],
         "xaxis": "x",
         "y": [
          "M4",
          "M3",
          "M3",
          "M2",
          "M2",
          "M1"
         ],
         "yaxis": "y"
        },
        {
         "alignmentgroup": "True",
         "base": [
          "1970-01-03T22:00:00",
          "1970-01-04T17:00:00",
          "1970-01-08T19:00:00",
          "1970-01-07T07:00:00",
          "1970-01-07T23:00:00"
         ],
         "hovertemplate": "Type=j18<br>Start=%{base}<br>Finish=%{x}<br>Resource=%{y}<br>Rule=%{text}<extra></extra>",
         "legendgroup": "j18",
         "marker": {
          "color": "#620042",
          "pattern": {
           "shape": ""
          }
         },
         "name": "j18",
         "offsetgroup": "j18",
         "orientation": "h",
         "showlegend": true,
         "text": [
          "MORSPT",
          "MORSPT",
          "SPT",
          "MORSPT",
          "SPT"
         ],
         "textposition": "auto",
         "type": "bar",
         "x": [
          68400000,
          39600000,
          57600000,
          57600000,
          39600000
         ],
         "xaxis": "x",
         "y": [
          "M4",
          "M4",
          "M3",
          "M2",
          "M2"
         ],
         "yaxis": "y"
        },
        {
         "alignmentgroup": "True",
         "base": [
          "1970-01-07T11:00:00",
          "1970-01-05T05:00:00",
          "1970-01-08T10:00:00",
          "1970-01-09T00:00:00"
         ],
         "hovertemplate": "Type=j17<br>Start=%{base}<br>Finish=%{x}<br>Resource=%{y}<br>Rule=%{text}<extra></extra>",
         "legendgroup": "j17",
         "marker": {
          "color": "#1616A7",
          "pattern": {
           "shape": ""
          }
         },
         "name": "j17",
         "offsetgroup": "j17",
         "orientation": "h",
         "showlegend": true,
         "text": [
          "SPT",
          "MORSPT",
          "SPT",
          "SPT"
         ],
         "textposition": "auto",
         "type": "bar",
         "x": [
          57600000,
          57600000,
          50400000,
          79200000
         ],
         "xaxis": "x",
         "y": [
          "M4",
          "M2",
          "M2",
          "M1"
         ],
         "yaxis": "y"
        },
        {
         "alignmentgroup": "True",
         "base": [
          "1970-01-05T19:00:00",
          "1970-01-04T12:00:00",
          "1970-01-05T01:00:00",
          "1970-01-01T09:00:00"
         ],
         "hovertemplate": "Type=j10<br>Start=%{base}<br>Finish=%{x}<br>Resource=%{y}<br>Rule=%{text}<extra></extra>",
         "legendgroup": "j10",
         "marker": {
          "color": "#DA60CA",
          "pattern": {
           "shape": ""
          }
         },
         "name": "j10",
         "offsetgroup": "j10",
         "orientation": "h",
         "showlegend": true,
         "text": [
          "SPT",
          "MORSPT",
          "MORSPT",
          "SPT"
         ],
         "textposition": "auto",
         "type": "bar",
         "x": [
          36000000,
          46800000,
          25200000,
          18000000
         ],
         "xaxis": "x",
         "y": [
          "M4",
          "M3",
          "M3",
          "M1"
         ],
         "yaxis": "y"
        },
        {
         "alignmentgroup": "True",
         "base": [
          "1970-01-01T14:00:00",
          "1970-01-02T19:00:00",
          "1970-01-03T16:00:00",
          "1970-01-04T00:00:00",
          "1970-01-04T14:00:00",
          "1970-01-05T02:00:00",
          "1970-01-05T19:00:00",
          "1970-01-06T05:00:00",
          "1970-01-06T17:00:00",
          "1970-01-07T06:00:00",
          "1970-01-07T14:00:00",
          "1970-01-08T02:00:00",
          "1970-01-08T20:00:00",
          "1970-01-01T19:00:00",
          "1970-01-02T02:00:00",
          "1970-01-03T02:00:00",
          "1970-01-03T11:00:00",
          "1970-01-04T01:00:00",
          "1970-01-04T11:00:00",
          "1970-01-05T12:00:00",
          "1970-01-06T09:00:00",
          "1970-01-07T09:00:00",
          "1970-01-07T22:00:00",
          "1970-01-01T23:00:00",
          "1970-01-02T07:00:00",
          "1970-01-03T03:00:00",
          "1970-01-03T22:00:00",
          "1970-01-05T04:00:00",
          "1970-01-05T19:00:00",
          "1970-01-06T05:00:00",
          "1970-01-06T19:00:00",
          "1970-01-07T11:00:00",
          "1970-01-08T03:00:00",
          "1970-01-08T21:00:00",
          "1970-01-01T14:00:00",
          "1970-01-01T21:00:00",
          "1970-01-02T07:00:00",
          "1970-01-02T16:00:00",
          "1970-01-03T07:00:00",
          "1970-01-04T12:00:00",
          "1970-01-05T08:00:00",
          "1970-01-05T19:00:00",
          "1970-01-06T12:00:00",
          "1970-01-07T13:00:00",
          "1970-01-08T19:00:00",
          "1970-01-09T13:00:00",
          "1970-01-01T19:00:00",
          "1970-01-02T07:00:00",
          "1970-01-02T16:00:00",
          "1970-01-03T14:00:00",
          "1970-01-04T12:00:00",
          "1970-01-05T05:00:00",
          "1970-01-05T21:00:00",
          "1970-01-06T08:00:00",
          "1970-01-06T17:00:00",
          "1970-01-07T07:00:00",
          "1970-01-08T10:00:00",
          "1970-01-09T00:00:00",
          "1970-01-01T14:00:00",
          "1970-01-02T00:00:00",
          "1970-01-02T13:00:00",
          "1970-01-03T07:00:00",
          "1970-01-04T04:00:00",
          "1970-01-05T03:00:00",
          "1970-01-05T19:00:00",
          "1970-01-06T08:00:00",
          "1970-01-06T20:00:00",
          "1970-01-09T00:00:00",
          "1970-01-10T01:00:00"
         ],
         "hovertemplate": "Type=setup<br>Start=%{base}<br>Finish=%{x}<br>Resource=%{y}<br>Rule=%{text}<extra></extra>",
         "legendgroup": "setup",
         "marker": {
          "color": "#6C4516",
          "pattern": {
           "shape": ""
          }
         },
         "name": "setup",
         "offsetgroup": "setup",
         "orientation": "h",
         "showlegend": true,
         "text": "",
         "textposition": "auto",
         "type": "bar",
         "width": 0.7,
         "x": [
          14400000,
          10800000,
          7200000,
          7200000,
          7200000,
          7200000,
          10800000,
          10800000,
          10800000,
          3600000,
          3600000,
          10800000,
          3600000,
          7200000,
          10800000,
          10800000,
          7200000,
          10800000,
          10800000,
          7200000,
          7200000,
          3600000,
          7200000,
          7200000,
          7200000,
          10800000,
          10800000,
          10800000,
          3600000,
          14400000,
          10800000,
          10800000,
          3600000,
          10800000,
          7200000,
          10800000,
          10800000,
          7200000,
          7200000,
          7200000,
          3600000,
          3600000,
          10800000,
          7200000,
          10800000,
          10800000,
          14400000,
          10800000,
          10800000,
          3600000,
          14400000,
          10800000,
          14400000,
          14400000,
          10800000,
          14400000,
          10800000,
          14400000,
          14400000,
          7200000,
          7200000,
          10800000,
          7200000,
          14400000,
          10800000,
          10800000,
          7200000,
          10800000,
          14400000
         ],
         "xaxis": "x",
         "y": [
          "M6",
          "M6",
          "M6",
          "M6",
          "M6",
          "M6",
          "M6",
          "M6",
          "M6",
          "M6",
          "M6",
          "M6",
          "M6",
          "M5",
          "M5",
          "M5",
          "M5",
          "M5",
          "M5",
          "M5",
          "M5",
          "M5",
          "M5",
          "M4",
          "M4",
          "M4",
          "M4",
          "M4",
          "M4",
          "M4",
          "M4",
          "M4",
          "M4",
          "M4",
          "M3",
          "M3",
          "M3",
          "M3",
          "M3",
          "M3",
          "M3",
          "M3",
          "M3",
          "M3",
          "M3",
          "M3",
          "M2",
          "M2",
          "M2",
          "M2",
          "M2",
          "M2",
          "M2",
          "M2",
          "M2",
          "M2",
          "M2",
          "M2",
          "M1",
          "M1",
          "M1",
          "M1",
          "M1",
          "M1",
          "M1",
          "M1",
          "M1",
          "M1",
          "M1"
         ],
         "yaxis": "y"
        }
       ],
       "layout": {
        "barmode": "overlay",
        "height": 800,
        "legend": {
         "title": {
          "text": "Type"
         },
         "tracegroupgap": 0
        },
        "margin": {
         "t": 60
        },
        "template": {
         "data": {
          "bar": [
           {
            "error_x": {
             "color": "rgb(36,36,36)"
            },
            "error_y": {
             "color": "rgb(36,36,36)"
            },
            "marker": {
             "line": {
              "color": "white",
              "width": 0.5
             },
             "pattern": {
              "fillmode": "overlay",
              "size": 10,
              "solidity": 0.2
             }
            },
            "type": "bar"
           }
          ],
          "barpolar": [
           {
            "marker": {
             "line": {
              "color": "white",
              "width": 0.5
             },
             "pattern": {
              "fillmode": "overlay",
              "size": 10,
              "solidity": 0.2
             }
            },
            "type": "barpolar"
           }
          ],
          "carpet": [
           {
            "aaxis": {
             "endlinecolor": "rgb(36,36,36)",
             "gridcolor": "white",
             "linecolor": "white",
             "minorgridcolor": "white",
             "startlinecolor": "rgb(36,36,36)"
            },
            "baxis": {
             "endlinecolor": "rgb(36,36,36)",
             "gridcolor": "white",
             "linecolor": "white",
             "minorgridcolor": "white",
             "startlinecolor": "rgb(36,36,36)"
            },
            "type": "carpet"
           }
          ],
          "choropleth": [
           {
            "colorbar": {
             "outlinewidth": 1,
             "tickcolor": "rgb(36,36,36)",
             "ticks": "outside"
            },
            "type": "choropleth"
           }
          ],
          "contour": [
           {
            "colorbar": {
             "outlinewidth": 1,
             "tickcolor": "rgb(36,36,36)",
             "ticks": "outside"
            },
            "colorscale": [
             [
              0,
              "#440154"
             ],
             [
              0.1111111111111111,
              "#482878"
             ],
             [
              0.2222222222222222,
              "#3e4989"
             ],
             [
              0.3333333333333333,
              "#31688e"
             ],
             [
              0.4444444444444444,
              "#26828e"
             ],
             [
              0.5555555555555556,
              "#1f9e89"
             ],
             [
              0.6666666666666666,
              "#35b779"
             ],
             [
              0.7777777777777778,
              "#6ece58"
             ],
             [
              0.8888888888888888,
              "#b5de2b"
             ],
             [
              1,
              "#fde725"
             ]
            ],
            "type": "contour"
           }
          ],
          "contourcarpet": [
           {
            "colorbar": {
             "outlinewidth": 1,
             "tickcolor": "rgb(36,36,36)",
             "ticks": "outside"
            },
            "type": "contourcarpet"
           }
          ],
          "heatmap": [
           {
            "colorbar": {
             "outlinewidth": 1,
             "tickcolor": "rgb(36,36,36)",
             "ticks": "outside"
            },
            "colorscale": [
             [
              0,
              "#440154"
             ],
             [
              0.1111111111111111,
              "#482878"
             ],
             [
              0.2222222222222222,
              "#3e4989"
             ],
             [
              0.3333333333333333,
              "#31688e"
             ],
             [
              0.4444444444444444,
              "#26828e"
             ],
             [
              0.5555555555555556,
              "#1f9e89"
             ],
             [
              0.6666666666666666,
              "#35b779"
             ],
             [
              0.7777777777777778,
              "#6ece58"
             ],
             [
              0.8888888888888888,
              "#b5de2b"
             ],
             [
              1,
              "#fde725"
             ]
            ],
            "type": "heatmap"
           }
          ],
          "heatmapgl": [
           {
            "colorbar": {
             "outlinewidth": 1,
             "tickcolor": "rgb(36,36,36)",
             "ticks": "outside"
            },
            "colorscale": [
             [
              0,
              "#440154"
             ],
             [
              0.1111111111111111,
              "#482878"
             ],
             [
              0.2222222222222222,
              "#3e4989"
             ],
             [
              0.3333333333333333,
              "#31688e"
             ],
             [
              0.4444444444444444,
              "#26828e"
             ],
             [
              0.5555555555555556,
              "#1f9e89"
             ],
             [
              0.6666666666666666,
              "#35b779"
             ],
             [
              0.7777777777777778,
              "#6ece58"
             ],
             [
              0.8888888888888888,
              "#b5de2b"
             ],
             [
              1,
              "#fde725"
             ]
            ],
            "type": "heatmapgl"
           }
          ],
          "histogram": [
           {
            "marker": {
             "line": {
              "color": "white",
              "width": 0.6
             }
            },
            "type": "histogram"
           }
          ],
          "histogram2d": [
           {
            "colorbar": {
             "outlinewidth": 1,
             "tickcolor": "rgb(36,36,36)",
             "ticks": "outside"
            },
            "colorscale": [
             [
              0,
              "#440154"
             ],
             [
              0.1111111111111111,
              "#482878"
             ],
             [
              0.2222222222222222,
              "#3e4989"
             ],
             [
              0.3333333333333333,
              "#31688e"
             ],
             [
              0.4444444444444444,
              "#26828e"
             ],
             [
              0.5555555555555556,
              "#1f9e89"
             ],
             [
              0.6666666666666666,
              "#35b779"
             ],
             [
              0.7777777777777778,
              "#6ece58"
             ],
             [
              0.8888888888888888,
              "#b5de2b"
             ],
             [
              1,
              "#fde725"
             ]
            ],
            "type": "histogram2d"
           }
          ],
          "histogram2dcontour": [
           {
            "colorbar": {
             "outlinewidth": 1,
             "tickcolor": "rgb(36,36,36)",
             "ticks": "outside"
            },
            "colorscale": [
             [
              0,
              "#440154"
             ],
             [
              0.1111111111111111,
              "#482878"
             ],
             [
              0.2222222222222222,
              "#3e4989"
             ],
             [
              0.3333333333333333,
              "#31688e"
             ],
             [
              0.4444444444444444,
              "#26828e"
             ],
             [
              0.5555555555555556,
              "#1f9e89"
             ],
             [
              0.6666666666666666,
              "#35b779"
             ],
             [
              0.7777777777777778,
              "#6ece58"
             ],
             [
              0.8888888888888888,
              "#b5de2b"
             ],
             [
              1,
              "#fde725"
             ]
            ],
            "type": "histogram2dcontour"
           }
          ],
          "mesh3d": [
           {
            "colorbar": {
             "outlinewidth": 1,
             "tickcolor": "rgb(36,36,36)",
             "ticks": "outside"
            },
            "type": "mesh3d"
           }
          ],
          "parcoords": [
           {
            "line": {
             "colorbar": {
              "outlinewidth": 1,
              "tickcolor": "rgb(36,36,36)",
              "ticks": "outside"
             }
            },
            "type": "parcoords"
           }
          ],
          "pie": [
           {
            "automargin": true,
            "type": "pie"
           }
          ],
          "scatter": [
           {
            "fillpattern": {
             "fillmode": "overlay",
             "size": 10,
             "solidity": 0.2
            },
            "type": "scatter"
           }
          ],
          "scatter3d": [
           {
            "line": {
             "colorbar": {
              "outlinewidth": 1,
              "tickcolor": "rgb(36,36,36)",
              "ticks": "outside"
             }
            },
            "marker": {
             "colorbar": {
              "outlinewidth": 1,
              "tickcolor": "rgb(36,36,36)",
              "ticks": "outside"
             }
            },
            "type": "scatter3d"
           }
          ],
          "scattercarpet": [
           {
            "marker": {
             "colorbar": {
              "outlinewidth": 1,
              "tickcolor": "rgb(36,36,36)",
              "ticks": "outside"
             }
            },
            "type": "scattercarpet"
           }
          ],
          "scattergeo": [
           {
            "marker": {
             "colorbar": {
              "outlinewidth": 1,
              "tickcolor": "rgb(36,36,36)",
              "ticks": "outside"
             }
            },
            "type": "scattergeo"
           }
          ],
          "scattergl": [
           {
            "marker": {
             "colorbar": {
              "outlinewidth": 1,
              "tickcolor": "rgb(36,36,36)",
              "ticks": "outside"
             }
            },
            "type": "scattergl"
           }
          ],
          "scattermapbox": [
           {
            "marker": {
             "colorbar": {
              "outlinewidth": 1,
              "tickcolor": "rgb(36,36,36)",
              "ticks": "outside"
             }
            },
            "type": "scattermapbox"
           }
          ],
          "scatterpolar": [
           {
            "marker": {
             "colorbar": {
              "outlinewidth": 1,
              "tickcolor": "rgb(36,36,36)",
              "ticks": "outside"
             }
            },
            "type": "scatterpolar"
           }
          ],
          "scatterpolargl": [
           {
            "marker": {
             "colorbar": {
              "outlinewidth": 1,
              "tickcolor": "rgb(36,36,36)",
              "ticks": "outside"
             }
            },
            "type": "scatterpolargl"
           }
          ],
          "scatterternary": [
           {
            "marker": {
             "colorbar": {
              "outlinewidth": 1,
              "tickcolor": "rgb(36,36,36)",
              "ticks": "outside"
             }
            },
            "type": "scatterternary"
           }
          ],
          "surface": [
           {
            "colorbar": {
             "outlinewidth": 1,
             "tickcolor": "rgb(36,36,36)",
             "ticks": "outside"
            },
            "colorscale": [
             [
              0,
              "#440154"
             ],
             [
              0.1111111111111111,
              "#482878"
             ],
             [
              0.2222222222222222,
              "#3e4989"
             ],
             [
              0.3333333333333333,
              "#31688e"
             ],
             [
              0.4444444444444444,
              "#26828e"
             ],
             [
              0.5555555555555556,
              "#1f9e89"
             ],
             [
              0.6666666666666666,
              "#35b779"
             ],
             [
              0.7777777777777778,
              "#6ece58"
             ],
             [
              0.8888888888888888,
              "#b5de2b"
             ],
             [
              1,
              "#fde725"
             ]
            ],
            "type": "surface"
           }
          ],
          "table": [
           {
            "cells": {
             "fill": {
              "color": "rgb(237,237,237)"
             },
             "line": {
              "color": "white"
             }
            },
            "header": {
             "fill": {
              "color": "rgb(217,217,217)"
             },
             "line": {
              "color": "white"
             }
            },
            "type": "table"
           }
          ]
         },
         "layout": {
          "annotationdefaults": {
           "arrowhead": 0,
           "arrowwidth": 1
          },
          "autotypenumbers": "strict",
          "coloraxis": {
           "colorbar": {
            "outlinewidth": 1,
            "tickcolor": "rgb(36,36,36)",
            "ticks": "outside"
           }
          },
          "colorscale": {
           "diverging": [
            [
             0,
             "rgb(103,0,31)"
            ],
            [
             0.1,
             "rgb(178,24,43)"
            ],
            [
             0.2,
             "rgb(214,96,77)"
            ],
            [
             0.3,
             "rgb(244,165,130)"
            ],
            [
             0.4,
             "rgb(253,219,199)"
            ],
            [
             0.5,
             "rgb(247,247,247)"
            ],
            [
             0.6,
             "rgb(209,229,240)"
            ],
            [
             0.7,
             "rgb(146,197,222)"
            ],
            [
             0.8,
             "rgb(67,147,195)"
            ],
            [
             0.9,
             "rgb(33,102,172)"
            ],
            [
             1,
             "rgb(5,48,97)"
            ]
           ],
           "sequential": [
            [
             0,
             "#440154"
            ],
            [
             0.1111111111111111,
             "#482878"
            ],
            [
             0.2222222222222222,
             "#3e4989"
            ],
            [
             0.3333333333333333,
             "#31688e"
            ],
            [
             0.4444444444444444,
             "#26828e"
            ],
            [
             0.5555555555555556,
             "#1f9e89"
            ],
            [
             0.6666666666666666,
             "#35b779"
            ],
            [
             0.7777777777777778,
             "#6ece58"
            ],
            [
             0.8888888888888888,
             "#b5de2b"
            ],
            [
             1,
             "#fde725"
            ]
           ],
           "sequentialminus": [
            [
             0,
             "#440154"
            ],
            [
             0.1111111111111111,
             "#482878"
            ],
            [
             0.2222222222222222,
             "#3e4989"
            ],
            [
             0.3333333333333333,
             "#31688e"
            ],
            [
             0.4444444444444444,
             "#26828e"
            ],
            [
             0.5555555555555556,
             "#1f9e89"
            ],
            [
             0.6666666666666666,
             "#35b779"
            ],
            [
             0.7777777777777778,
             "#6ece58"
            ],
            [
             0.8888888888888888,
             "#b5de2b"
            ],
            [
             1,
             "#fde725"
            ]
           ]
          },
          "colorway": [
           "#1F77B4",
           "#FF7F0E",
           "#2CA02C",
           "#D62728",
           "#9467BD",
           "#8C564B",
           "#E377C2",
           "#7F7F7F",
           "#BCBD22",
           "#17BECF"
          ],
          "font": {
           "color": "rgb(36,36,36)"
          },
          "geo": {
           "bgcolor": "white",
           "lakecolor": "white",
           "landcolor": "white",
           "showlakes": true,
           "showland": true,
           "subunitcolor": "white"
          },
          "hoverlabel": {
           "align": "left"
          },
          "hovermode": "closest",
          "mapbox": {
           "style": "light"
          },
          "paper_bgcolor": "white",
          "plot_bgcolor": "white",
          "polar": {
           "angularaxis": {
            "gridcolor": "rgb(232,232,232)",
            "linecolor": "rgb(36,36,36)",
            "showgrid": false,
            "showline": true,
            "ticks": "outside"
           },
           "bgcolor": "white",
           "radialaxis": {
            "gridcolor": "rgb(232,232,232)",
            "linecolor": "rgb(36,36,36)",
            "showgrid": false,
            "showline": true,
            "ticks": "outside"
           }
          },
          "scene": {
           "xaxis": {
            "backgroundcolor": "white",
            "gridcolor": "rgb(232,232,232)",
            "gridwidth": 2,
            "linecolor": "rgb(36,36,36)",
            "showbackground": true,
            "showgrid": false,
            "showline": true,
            "ticks": "outside",
            "zeroline": false,
            "zerolinecolor": "rgb(36,36,36)"
           },
           "yaxis": {
            "backgroundcolor": "white",
            "gridcolor": "rgb(232,232,232)",
            "gridwidth": 2,
            "linecolor": "rgb(36,36,36)",
            "showbackground": true,
            "showgrid": false,
            "showline": true,
            "ticks": "outside",
            "zeroline": false,
            "zerolinecolor": "rgb(36,36,36)"
           },
           "zaxis": {
            "backgroundcolor": "white",
            "gridcolor": "rgb(232,232,232)",
            "gridwidth": 2,
            "linecolor": "rgb(36,36,36)",
            "showbackground": true,
            "showgrid": false,
            "showline": true,
            "ticks": "outside",
            "zeroline": false,
            "zerolinecolor": "rgb(36,36,36)"
           }
          },
          "shapedefaults": {
           "fillcolor": "black",
           "line": {
            "width": 0
           },
           "opacity": 0.3
          },
          "ternary": {
           "aaxis": {
            "gridcolor": "rgb(232,232,232)",
            "linecolor": "rgb(36,36,36)",
            "showgrid": false,
            "showline": true,
            "ticks": "outside"
           },
           "baxis": {
            "gridcolor": "rgb(232,232,232)",
            "linecolor": "rgb(36,36,36)",
            "showgrid": false,
            "showline": true,
            "ticks": "outside"
           },
           "bgcolor": "white",
           "caxis": {
            "gridcolor": "rgb(232,232,232)",
            "linecolor": "rgb(36,36,36)",
            "showgrid": false,
            "showline": true,
            "ticks": "outside"
           }
          },
          "title": {
           "x": 0.05
          },
          "xaxis": {
           "automargin": true,
           "gridcolor": "rgb(232,232,232)",
           "linecolor": "rgb(36,36,36)",
           "showgrid": false,
           "showline": true,
           "ticks": "outside",
           "title": {
            "standoff": 15
           },
           "zeroline": false,
           "zerolinecolor": "rgb(36,36,36)"
          },
          "yaxis": {
           "automargin": true,
           "gridcolor": "rgb(232,232,232)",
           "linecolor": "rgb(36,36,36)",
           "showgrid": false,
           "showline": true,
           "ticks": "outside",
           "title": {
            "standoff": 15
           },
           "zeroline": false,
           "zerolinecolor": "rgb(36,36,36)"
          }
         }
        },
        "width": 2000,
        "xaxis": {
         "anchor": "y",
         "domain": [
          0,
          1
         ],
         "type": "date"
        },
        "yaxis": {
         "anchor": "x",
         "domain": [
          0,
          1
         ],
         "title": {
          "text": "Resource"
         }
        }
       }
      },
      "text/html": [
       "<div>                            <div id=\"a6a8c73a-0135-40c9-8543-aee6cc75b94c\" class=\"plotly-graph-div\" style=\"height:800px; width:2000px;\"></div>            <script type=\"text/javascript\">                require([\"plotly\"], function(Plotly) {                    window.PLOTLYENV=window.PLOTLYENV || {};                                    if (document.getElementById(\"a6a8c73a-0135-40c9-8543-aee6cc75b94c\")) {                    Plotly.newPlot(                        \"a6a8c73a-0135-40c9-8543-aee6cc75b94c\",                        [{\"alignmentgroup\":\"True\",\"base\":[\"1970-01-02T19:00:00\",\"1970-01-03T08:00:00\",\"1970-01-07T06:00:00\",\"1970-01-01T19:00:00\",\"1970-01-06T08:00:00\"],\"hovertemplate\":\"Type=j9<br>Start=%{base}<br>Finish=%{x}<br>Resource=%{y}<br>Rule=%{text}<extra></extra>\",\"legendgroup\":\"j9\",\"marker\":{\"color\":\"#2E91E5\",\"pattern\":{\"shape\":\"\"}},\"name\":\"j9\",\"offsetgroup\":\"j9\",\"orientation\":\"h\",\"showlegend\":true,\"text\":[\"MORSPT\",\"MORSPT\",\"SPT\",\"MORSPT\",\"SPT\"],\"textposition\":\"auto\",\"x\":[46800000.0,28800000.0,28800000.0,43200000.0,43200000.0],\"xaxis\":\"x\",\"y\":[\"M6\",\"M6\",\"M6\",\"M2\",\"M1\"],\"yaxis\":\"y\",\"type\":\"bar\"},{\"alignmentgroup\":\"True\",\"base\":[\"1970-01-07T14:00:00\",\"1970-01-06T19:00:00\",\"1970-01-08T03:00:00\",\"1970-01-02T07:00:00\",\"1970-01-02T16:00:00\",\"1970-01-03T05:00:00\",\"1970-01-01T14:00:00\"],\"hovertemplate\":\"Type=j7<br>Start=%{base}<br>Finish=%{x}<br>Resource=%{y}<br>Rule=%{text}<extra></extra>\",\"legendgroup\":\"j7\",\"marker\":{\"color\":\"#E15F99\",\"pattern\":{\"shape\":\"\"}},\"name\":\"j7\",\"offsetgroup\":\"j7\",\"orientation\":\"h\",\"showlegend\":true,\"text\":[\"SPT\",\"MORSPT\",\"SPT\",\"MORSPT\",\"MORSPT\",\"MORSPT\",\"SPT\"],\"textposition\":\"auto\",\"x\":[43200000.0,57600000.0,64800000.0,32400000.0,46800000.0,32400000.0,36000000.0],\"xaxis\":\"x\",\"y\":[\"M6\",\"M4\",\"M4\",\"M3\",\"M2\",\"M2\",\"M1\"],\"yaxis\":\"y\",\"type\":\"bar\"},{\"alignmentgroup\":\"True\",\"base\":[\"1970-01-06T17:00:00\",\"1970-01-07T09:00:00\",\"1970-01-02T07:00:00\"],\"hovertemplate\":\"Type=j6<br>Start=%{base}<br>Finish=%{x}<br>Resource=%{y}<br>Rule=%{text}<extra></extra>\",\"legendgroup\":\"j6\",\"marker\":{\"color\":\"#1CA71C\",\"pattern\":{\"shape\":\"\"}},\"name\":\"j6\",\"offsetgroup\":\"j6\",\"orientation\":\"h\",\"showlegend\":true,\"text\":[\"SPT\",\"SPT\",\"MORSPT\"],\"textposition\":\"auto\",\"x\":[46800000.0,46800000.0,32400000.0],\"xaxis\":\"x\",\"y\":[\"M6\",\"M5\",\"M2\"],\"yaxis\":\"y\",\"type\":\"bar\"},{\"alignmentgroup\":\"True\",\"base\":[\"1970-01-05T19:00:00\",\"1970-01-02T16:00:00\",\"1970-01-06T08:00:00\",\"1970-01-03T07:00:00\",\"1970-01-03T21:00:00\"],\"hovertemplate\":\"Type=j5<br>Start=%{base}<br>Finish=%{x}<br>Resource=%{y}<br>Rule=%{text}<extra></extra>\",\"legendgroup\":\"j5\",\"marker\":{\"color\":\"#FB0D0D\",\"pattern\":{\"shape\":\"\"}},\"name\":\"j5\",\"offsetgroup\":\"j5\",\"orientation\":\"h\",\"showlegend\":true,\"text\":[\"SPT\",\"MORSPT\",\"SPT\",\"MORSPT\",\"MORSPT\"],\"textposition\":\"auto\",\"x\":[36000000.0,54000000.0,32400000.0,50400000.0,25200000.0],\"xaxis\":\"x\",\"y\":[\"M6\",\"M3\",\"M2\",\"M1\",\"M1\"],\"yaxis\":\"y\",\"type\":\"bar\"},{\"alignmentgroup\":\"True\",\"base\":[\"1970-01-03T16:00:00\",\"1970-01-01T19:00:00\",\"1970-01-01T09:00:00\",\"1970-01-01T14:00:00\",\"1970-01-06T17:00:00\"],\"hovertemplate\":\"Type=j4<br>Start=%{base}<br>Finish=%{x}<br>Resource=%{y}<br>Rule=%{text}<extra></extra>\",\"legendgroup\":\"j4\",\"marker\":{\"color\":\"#DA16FF\",\"pattern\":{\"shape\":\"\"}},\"name\":\"j4\",\"offsetgroup\":\"j4\",\"orientation\":\"h\",\"showlegend\":true,\"text\":[\"MORSPT\",\"MORSPT\",\"SPT\",\"SPT\",\"SPT\"],\"textposition\":\"auto\",\"x\":[28800000.0,25200000.0,18000000.0,18000000.0,50400000.0],\"xaxis\":\"x\",\"y\":[\"M6\",\"M5\",\"M2\",\"M2\",\"M2\"],\"yaxis\":\"y\",\"type\":\"bar\"},{\"alignmentgroup\":\"True\",\"base\":[\"1970-01-01T09:00:00\",\"1970-01-03T02:00:00\",\"1970-01-06T05:00:00\",\"1970-01-01T14:00:00\"],\"hovertemplate\":\"Type=j3<br>Start=%{base}<br>Finish=%{x}<br>Resource=%{y}<br>Rule=%{text}<extra></extra>\",\"legendgroup\":\"j3\",\"marker\":{\"color\":\"#222A2A\",\"pattern\":{\"shape\":\"\"}},\"name\":\"j3\",\"offsetgroup\":\"j3\",\"orientation\":\"h\",\"showlegend\":true,\"text\":[\"SPT\",\"MORSPT\",\"SPT\",\"MORSPT\"],\"textposition\":\"auto\",\"x\":[18000000.0,32400000.0,50400000.0,25200000.0],\"xaxis\":\"x\",\"y\":[\"M6\",\"M5\",\"M4\",\"M3\"],\"yaxis\":\"y\",\"type\":\"bar\"},{\"alignmentgroup\":\"True\",\"base\":[\"1970-01-08T20:00:00\",\"1970-01-01T09:00:00\",\"1970-01-04T11:00:00\",\"1970-01-05T19:00:00\",\"1970-01-09T13:00:00\",\"1970-01-02T00:00:00\",\"1970-01-10T01:00:00\"],\"hovertemplate\":\"Type=j2<br>Start=%{base}<br>Finish=%{x}<br>Resource=%{y}<br>Rule=%{text}<extra></extra>\",\"legendgroup\":\"j2\",\"marker\":{\"color\":\"#B68100\",\"pattern\":{\"shape\":\"\"}},\"name\":\"j2\",\"offsetgroup\":\"j2\",\"orientation\":\"h\",\"showlegend\":true,\"text\":[\"SPT\",\"MORSPT\",\"MORSPT\",\"MORSPT\",\"SPTSSU\",\"MORSPT\",\"SPTSSU\"],\"textposition\":\"auto\",\"x\":[61200000.0,36000000.0,90000000.0,61200000.0,43200000.0,46800000.0,111600000.0],\"xaxis\":\"x\",\"y\":[\"M6\",\"M5\",\"M5\",\"M3\",\"M3\",\"M1\",\"M1\"],\"yaxis\":\"y\",\"type\":\"bar\"},{\"alignmentgroup\":\"True\",\"base\":[\"1970-01-05T02:00:00\",\"1970-01-05T14:00:00\",\"1970-01-02T02:00:00\",\"1970-01-02T12:00:00\",\"1970-01-03T11:00:00\",\"1970-01-01T09:00:00\",\"1970-01-09T00:00:00\"],\"hovertemplate\":\"Type=j19<br>Start=%{base}<br>Finish=%{x}<br>Resource=%{y}<br>Rule=%{text}<extra></extra>\",\"legendgroup\":\"j19\",\"marker\":{\"color\":\"#750D86\",\"pattern\":{\"shape\":\"\"}},\"name\":\"j19\",\"offsetgroup\":\"j19\",\"orientation\":\"h\",\"showlegend\":true,\"text\":[\"MORSPT\",\"MORSPT\",\"MORSPT\",\"MORSPT\",\"MORSPT\",\"MORSPT\",\"SPT\"],\"textposition\":\"auto\",\"x\":[43200000.0,18000000.0,36000000.0,50400000.0,50400000.0,50400000.0,100800000.0],\"xaxis\":\"x\",\"y\":[\"M6\",\"M6\",\"M5\",\"M5\",\"M5\",\"M4\",\"M2\"],\"yaxis\":\"y\",\"type\":\"bar\"},{\"alignmentgroup\":\"True\",\"base\":[\"1970-01-01T14:00:00\",\"1970-01-02T06:00:00\",\"1970-01-06T19:00:00\",\"1970-01-03T07:00:00\",\"1970-01-03T23:00:00\",\"1970-01-07T13:00:00\",\"1970-01-08T05:00:00\",\"1970-01-08T19:00:00\"],\"hovertemplate\":\"Type=j16<br>Start=%{base}<br>Finish=%{x}<br>Resource=%{y}<br>Rule=%{text}<extra></extra>\",\"legendgroup\":\"j16\",\"marker\":{\"color\":\"#EB663B\",\"pattern\":{\"shape\":\"\"}},\"name\":\"j16\",\"offsetgroup\":\"j16\",\"orientation\":\"h\",\"showlegend\":true,\"text\":[\"MORSPT\",\"MORSPT\",\"MORSPT\",\"MORSPT\",\"MORSPT\",\"SPT\",\"SPT\",\"SPT\"],\"textposition\":\"auto\",\"x\":[57600000.0,46800000.0,50400000.0,57600000.0,46800000.0,57600000.0,50400000.0,18000000.0],\"xaxis\":\"x\",\"y\":[\"M6\",\"M6\",\"M5\",\"M3\",\"M3\",\"M1\",\"M1\",\"M1\"],\"yaxis\":\"y\",\"type\":\"bar\"},{\"alignmentgroup\":\"True\",\"base\":[\"1970-01-04T14:00:00\",\"1970-01-06T09:00:00\",\"1970-01-06T20:00:00\"],\"hovertemplate\":\"Type=j15<br>Start=%{base}<br>Finish=%{x}<br>Resource=%{y}<br>Rule=%{text}<extra></extra>\",\"legendgroup\":\"j15\",\"marker\":{\"color\":\"#511CFB\",\"pattern\":{\"shape\":\"\"}},\"name\":\"j15\",\"offsetgroup\":\"j15\",\"orientation\":\"h\",\"showlegend\":true,\"text\":[\"MORSPT\",\"SPT\",\"SPT\"],\"textposition\":\"auto\",\"x\":[43200000.0,36000000.0,61200000.0],\"xaxis\":\"x\",\"y\":[\"M6\",\"M5\",\"M1\"],\"yaxis\":\"y\",\"type\":\"bar\"},{\"alignmentgroup\":\"True\",\"base\":[\"1970-01-08T02:00:00\",\"1970-01-08T21:00:00\",\"1970-01-05T08:00:00\",\"1970-01-04T12:00:00\"],\"hovertemplate\":\"Type=j14<br>Start=%{base}<br>Finish=%{x}<br>Resource=%{y}<br>Rule=%{text}<extra></extra>\",\"legendgroup\":\"j14\",\"marker\":{\"color\":\"#00A08B\",\"pattern\":{\"shape\":\"\"}},\"name\":\"j14\",\"offsetgroup\":\"j14\",\"orientation\":\"h\",\"showlegend\":true,\"text\":[\"SPT\",\"SPT\",\"MORSPT\",\"MORSPT\"],\"textposition\":\"auto\",\"x\":[64800000.0,54000000.0,39600000.0,61200000.0],\"xaxis\":\"x\",\"y\":[\"M6\",\"M4\",\"M3\",\"M2\"],\"yaxis\":\"y\",\"type\":\"bar\"},{\"alignmentgroup\":\"True\",\"base\":[\"1970-01-04T00:00:00\",\"1970-01-03T03:00:00\",\"1970-01-05T21:00:00\",\"1970-01-05T03:00:00\",\"1970-01-05T14:00:00\"],\"hovertemplate\":\"Type=j12<br>Start=%{base}<br>Finish=%{x}<br>Resource=%{y}<br>Rule=%{text}<extra></extra>\",\"legendgroup\":\"j12\",\"marker\":{\"color\":\"#FB00D1\",\"pattern\":{\"shape\":\"\"}},\"name\":\"j12\",\"offsetgroup\":\"j12\",\"orientation\":\"h\",\"showlegend\":true,\"text\":[\"MORSPT\",\"MORSPT\",\"SPT\",\"MORSPT\",\"MORSPT\"],\"textposition\":\"auto\",\"x\":[50400000.0,68400000.0,39600000.0,39600000.0,18000000.0],\"xaxis\":\"x\",\"y\":[\"M6\",\"M4\",\"M2\",\"M1\",\"M1\"],\"yaxis\":\"y\",\"type\":\"bar\"},{\"alignmentgroup\":\"True\",\"base\":[\"1970-01-06T05:00:00\",\"1970-01-04T01:00:00\",\"1970-01-02T07:00:00\",\"1970-01-02T21:00:00\"],\"hovertemplate\":\"Type=j1<br>Start=%{base}<br>Finish=%{x}<br>Resource=%{y}<br>Rule=%{text}<extra></extra>\",\"legendgroup\":\"j1\",\"marker\":{\"color\":\"#FC0080\",\"pattern\":{\"shape\":\"\"}},\"name\":\"j1\",\"offsetgroup\":\"j1\",\"orientation\":\"h\",\"showlegend\":true,\"text\":[\"SPT\",\"MORSPT\",\"MORSPT\",\"MORSPT\"],\"textposition\":\"auto\",\"x\":[43200000.0,36000000.0,50400000.0,21600000.0],\"xaxis\":\"x\",\"y\":[\"M6\",\"M5\",\"M4\",\"M4\"],\"yaxis\":\"y\",\"type\":\"bar\"},{\"alignmentgroup\":\"True\",\"base\":[\"1970-01-09T13:00:00\",\"1970-01-09T16:00:00\",\"1970-01-09T22:00:00\",\"1970-01-10T01:00:00\",\"1970-01-10T03:00:00\",\"1970-01-10T04:00:00\",\"1970-01-10T05:00:00\",\"1970-01-10T03:00:00\",\"1970-01-10T04:00:00\",\"1970-01-10T05:00:00\",\"1970-01-09T12:00:00\",\"1970-01-09T13:00:00\",\"1970-01-09T16:00:00\",\"1970-01-09T22:00:00\",\"1970-01-10T01:00:00\",\"1970-01-10T03:00:00\",\"1970-01-10T04:00:00\",\"1970-01-10T05:00:00\",\"1970-01-09T11:00:00\",\"1970-01-09T12:00:00\",\"1970-01-10T01:00:00\",\"1970-01-10T03:00:00\",\"1970-01-10T04:00:00\",\"1970-01-10T05:00:00\",\"1970-01-10T04:00:00\",\"1970-01-10T05:00:00\",\"1970-01-09T22:00:00\"],\"hovertemplate\":\"Type=delay_machine<br>Start=%{base}<br>Finish=%{x}<br>Resource=%{y}<br>Rule=%{text}<extra></extra>\",\"legendgroup\":\"delay_machine\",\"marker\":{\"color\":\"#B2828D\",\"pattern\":{\"shape\":\"\"}},\"name\":\"delay_machine\",\"offsetgroup\":\"delay_machine\",\"orientation\":\"h\",\"showlegend\":true,\"text\":[\"DDA\",\"DDA\",\"DDA\",\"DDA\",\"DDA\",\"DDA\",\"DDA\",\"DDA\",\"DDA\",\"DDA\",\"DDA\",\"DDA\",\"DDA\",\"DDA\",\"DDA\",\"DDA\",\"DDA\",\"DDA\",\"DDA\",\"DDA\",\"DDA\",\"DDA\",\"DDA\",\"DDA\",\"DDA\",\"DDA\",\"DDA\"],\"textposition\":\"auto\",\"x\":[10800000.0,21600000.0,10800000.0,7200000.0,3600000.0,3600000.0,97200000.0,3600000.0,3600000.0,97200000.0,3600000.0,10800000.0,21600000.0,10800000.0,7200000.0,3600000.0,3600000.0,97200000.0,3600000.0,3600000.0,7200000.0,3600000.0,3600000.0,97200000.0,3600000.0,97200000.0,10800000.0],\"xaxis\":\"x\",\"y\":[\"M6\",\"M6\",\"M6\",\"M6\",\"M6\",\"M6\",\"M6\",\"M5\",\"M5\",\"M5\",\"M4\",\"M4\",\"M4\",\"M4\",\"M4\",\"M4\",\"M4\",\"M4\",\"M3\",\"M3\",\"M3\",\"M3\",\"M3\",\"M3\",\"M2\",\"M2\",\"M1\"],\"yaxis\":\"y\",\"type\":\"bar\"},{\"alignmentgroup\":\"True\",\"base\":[\"1970-01-07T22:00:00\",\"1970-01-08T14:00:00\",\"1970-01-09T04:00:00\",\"1970-01-01T21:00:00\"],\"hovertemplate\":\"Type=j13<br>Start=%{base}<br>Finish=%{x}<br>Resource=%{y}<br>Rule=%{text}<extra></extra>\",\"legendgroup\":\"j13\",\"marker\":{\"color\":\"#6C7C32\",\"pattern\":{\"shape\":\"\"}},\"name\":\"j13\",\"offsetgroup\":\"j13\",\"orientation\":\"h\",\"showlegend\":true,\"text\":[\"SPT\",\"SPT\",\"SPT\",\"MORSPT\"],\"textposition\":\"auto\",\"x\":[57600000.0,50400000.0,82800000.0,36000000.0],\"xaxis\":\"x\",\"y\":[\"M5\",\"M5\",\"M5\",\"M3\"],\"yaxis\":\"y\",\"type\":\"bar\"},{\"alignmentgroup\":\"True\",\"base\":[\"1970-01-05T12:00:00\",\"1970-01-05T20:00:00\",\"1970-01-06T03:00:00\",\"1970-01-02T13:00:00\",\"1970-01-04T04:00:00\",\"1970-01-04T20:00:00\"],\"hovertemplate\":\"Type=j11<br>Start=%{base}<br>Finish=%{x}<br>Resource=%{y}<br>Rule=%{text}<extra></extra>\",\"legendgroup\":\"j11\",\"marker\":{\"color\":\"#778AAE\",\"pattern\":{\"shape\":\"\"}},\"name\":\"j11\",\"offsetgroup\":\"j11\",\"orientation\":\"h\",\"showlegend\":true,\"text\":[\"MORSPT\",\"SPT\",\"SPT\",\"MORSPT\",\"MORSPT\",\"MORSPT\"],\"textposition\":\"auto\",\"x\":[28800000.0,25200000.0,21600000.0,64800000.0,57600000.0,25200000.0],\"xaxis\":\"x\",\"y\":[\"M5\",\"M5\",\"M5\",\"M1\",\"M1\",\"M1\"],\"yaxis\":\"y\",\"type\":\"bar\"},{\"alignmentgroup\":\"True\",\"base\":[\"1970-01-01T23:00:00\",\"1970-01-01T09:00:00\",\"1970-01-07T13:00:00\",\"1970-01-08T04:00:00\"],\"hovertemplate\":\"Type=j8<br>Start=%{base}<br>Finish=%{x}<br>Resource=%{y}<br>Rule=%{text}<extra></extra>\",\"legendgroup\":\"j8\",\"marker\":{\"color\":\"#862A16\",\"pattern\":{\"shape\":\"\"}},\"name\":\"j8\",\"offsetgroup\":\"j8\",\"orientation\":\"h\",\"showlegend\":true,\"text\":[\"MORSPT\",\"SPT\",\"SPT\",\"SPT\"],\"textposition\":\"auto\",\"x\":[28800000.0,18000000.0,54000000.0,54000000.0],\"xaxis\":\"x\",\"y\":[\"M4\",\"M3\",\"M3\",\"M3\"],\"yaxis\":\"y\",\"type\":\"bar\"},{\"alignmentgroup\":\"True\",\"base\":[\"1970-01-05T04:00:00\",\"1970-01-06T12:00:00\",\"1970-01-07T03:00:00\",\"1970-01-03T14:00:00\",\"1970-01-04T07:00:00\",\"1970-01-05T19:00:00\"],\"hovertemplate\":\"Type=j20<br>Start=%{base}<br>Finish=%{x}<br>Resource=%{y}<br>Rule=%{text}<extra></extra>\",\"legendgroup\":\"j20\",\"marker\":{\"color\":\"#A777F1\",\"pattern\":{\"shape\":\"\"}},\"name\":\"j20\",\"offsetgroup\":\"j20\",\"orientation\":\"h\",\"showlegend\":true,\"text\":[\"MORSPT\",\"SPT\",\"SPT\",\"MORSPT\",\"MORSPT\",\"MORSPT\"],\"textposition\":\"auto\",\"x\":[54000000.0,54000000.0,36000000.0,61200000.0,18000000.0,46800000.0],\"xaxis\":\"x\",\"y\":[\"M4\",\"M3\",\"M3\",\"M2\",\"M2\",\"M1\"],\"yaxis\":\"y\",\"type\":\"bar\"},{\"alignmentgroup\":\"True\",\"base\":[\"1970-01-03T22:00:00\",\"1970-01-04T17:00:00\",\"1970-01-08T19:00:00\",\"1970-01-07T07:00:00\",\"1970-01-07T23:00:00\"],\"hovertemplate\":\"Type=j18<br>Start=%{base}<br>Finish=%{x}<br>Resource=%{y}<br>Rule=%{text}<extra></extra>\",\"legendgroup\":\"j18\",\"marker\":{\"color\":\"#620042\",\"pattern\":{\"shape\":\"\"}},\"name\":\"j18\",\"offsetgroup\":\"j18\",\"orientation\":\"h\",\"showlegend\":true,\"text\":[\"MORSPT\",\"MORSPT\",\"SPT\",\"MORSPT\",\"SPT\"],\"textposition\":\"auto\",\"x\":[68400000.0,39600000.0,57600000.0,57600000.0,39600000.0],\"xaxis\":\"x\",\"y\":[\"M4\",\"M4\",\"M3\",\"M2\",\"M2\"],\"yaxis\":\"y\",\"type\":\"bar\"},{\"alignmentgroup\":\"True\",\"base\":[\"1970-01-07T11:00:00\",\"1970-01-05T05:00:00\",\"1970-01-08T10:00:00\",\"1970-01-09T00:00:00\"],\"hovertemplate\":\"Type=j17<br>Start=%{base}<br>Finish=%{x}<br>Resource=%{y}<br>Rule=%{text}<extra></extra>\",\"legendgroup\":\"j17\",\"marker\":{\"color\":\"#1616A7\",\"pattern\":{\"shape\":\"\"}},\"name\":\"j17\",\"offsetgroup\":\"j17\",\"orientation\":\"h\",\"showlegend\":true,\"text\":[\"SPT\",\"MORSPT\",\"SPT\",\"SPT\"],\"textposition\":\"auto\",\"x\":[57600000.0,57600000.0,50400000.0,79200000.0],\"xaxis\":\"x\",\"y\":[\"M4\",\"M2\",\"M2\",\"M1\"],\"yaxis\":\"y\",\"type\":\"bar\"},{\"alignmentgroup\":\"True\",\"base\":[\"1970-01-05T19:00:00\",\"1970-01-04T12:00:00\",\"1970-01-05T01:00:00\",\"1970-01-01T09:00:00\"],\"hovertemplate\":\"Type=j10<br>Start=%{base}<br>Finish=%{x}<br>Resource=%{y}<br>Rule=%{text}<extra></extra>\",\"legendgroup\":\"j10\",\"marker\":{\"color\":\"#DA60CA\",\"pattern\":{\"shape\":\"\"}},\"name\":\"j10\",\"offsetgroup\":\"j10\",\"orientation\":\"h\",\"showlegend\":true,\"text\":[\"SPT\",\"MORSPT\",\"MORSPT\",\"SPT\"],\"textposition\":\"auto\",\"x\":[36000000.0,46800000.0,25200000.0,18000000.0],\"xaxis\":\"x\",\"y\":[\"M4\",\"M3\",\"M3\",\"M1\"],\"yaxis\":\"y\",\"type\":\"bar\"},{\"alignmentgroup\":\"True\",\"base\":[\"1970-01-01T14:00:00\",\"1970-01-02T19:00:00\",\"1970-01-03T16:00:00\",\"1970-01-04T00:00:00\",\"1970-01-04T14:00:00\",\"1970-01-05T02:00:00\",\"1970-01-05T19:00:00\",\"1970-01-06T05:00:00\",\"1970-01-06T17:00:00\",\"1970-01-07T06:00:00\",\"1970-01-07T14:00:00\",\"1970-01-08T02:00:00\",\"1970-01-08T20:00:00\",\"1970-01-01T19:00:00\",\"1970-01-02T02:00:00\",\"1970-01-03T02:00:00\",\"1970-01-03T11:00:00\",\"1970-01-04T01:00:00\",\"1970-01-04T11:00:00\",\"1970-01-05T12:00:00\",\"1970-01-06T09:00:00\",\"1970-01-07T09:00:00\",\"1970-01-07T22:00:00\",\"1970-01-01T23:00:00\",\"1970-01-02T07:00:00\",\"1970-01-03T03:00:00\",\"1970-01-03T22:00:00\",\"1970-01-05T04:00:00\",\"1970-01-05T19:00:00\",\"1970-01-06T05:00:00\",\"1970-01-06T19:00:00\",\"1970-01-07T11:00:00\",\"1970-01-08T03:00:00\",\"1970-01-08T21:00:00\",\"1970-01-01T14:00:00\",\"1970-01-01T21:00:00\",\"1970-01-02T07:00:00\",\"1970-01-02T16:00:00\",\"1970-01-03T07:00:00\",\"1970-01-04T12:00:00\",\"1970-01-05T08:00:00\",\"1970-01-05T19:00:00\",\"1970-01-06T12:00:00\",\"1970-01-07T13:00:00\",\"1970-01-08T19:00:00\",\"1970-01-09T13:00:00\",\"1970-01-01T19:00:00\",\"1970-01-02T07:00:00\",\"1970-01-02T16:00:00\",\"1970-01-03T14:00:00\",\"1970-01-04T12:00:00\",\"1970-01-05T05:00:00\",\"1970-01-05T21:00:00\",\"1970-01-06T08:00:00\",\"1970-01-06T17:00:00\",\"1970-01-07T07:00:00\",\"1970-01-08T10:00:00\",\"1970-01-09T00:00:00\",\"1970-01-01T14:00:00\",\"1970-01-02T00:00:00\",\"1970-01-02T13:00:00\",\"1970-01-03T07:00:00\",\"1970-01-04T04:00:00\",\"1970-01-05T03:00:00\",\"1970-01-05T19:00:00\",\"1970-01-06T08:00:00\",\"1970-01-06T20:00:00\",\"1970-01-09T00:00:00\",\"1970-01-10T01:00:00\"],\"hovertemplate\":\"Type=setup<br>Start=%{base}<br>Finish=%{x}<br>Resource=%{y}<br>Rule=%{text}<extra></extra>\",\"legendgroup\":\"setup\",\"marker\":{\"color\":\"#6C4516\",\"pattern\":{\"shape\":\"\"}},\"name\":\"setup\",\"offsetgroup\":\"setup\",\"orientation\":\"h\",\"showlegend\":true,\"text\":\"\",\"textposition\":\"auto\",\"x\":[14400000.0,10800000.0,7200000.0,7200000.0,7200000.0,7200000.0,10800000.0,10800000.0,10800000.0,3600000.0,3600000.0,10800000.0,3600000.0,7200000.0,10800000.0,10800000.0,7200000.0,10800000.0,10800000.0,7200000.0,7200000.0,3600000.0,7200000.0,7200000.0,7200000.0,10800000.0,10800000.0,10800000.0,3600000.0,14400000.0,10800000.0,10800000.0,3600000.0,10800000.0,7200000.0,10800000.0,10800000.0,7200000.0,7200000.0,7200000.0,3600000.0,3600000.0,10800000.0,7200000.0,10800000.0,10800000.0,14400000.0,10800000.0,10800000.0,3600000.0,14400000.0,10800000.0,14400000.0,14400000.0,10800000.0,14400000.0,10800000.0,14400000.0,14400000.0,7200000.0,7200000.0,10800000.0,7200000.0,14400000.0,10800000.0,10800000.0,7200000.0,10800000.0,14400000.0],\"xaxis\":\"x\",\"y\":[\"M6\",\"M6\",\"M6\",\"M6\",\"M6\",\"M6\",\"M6\",\"M6\",\"M6\",\"M6\",\"M6\",\"M6\",\"M6\",\"M5\",\"M5\",\"M5\",\"M5\",\"M5\",\"M5\",\"M5\",\"M5\",\"M5\",\"M5\",\"M4\",\"M4\",\"M4\",\"M4\",\"M4\",\"M4\",\"M4\",\"M4\",\"M4\",\"M4\",\"M4\",\"M3\",\"M3\",\"M3\",\"M3\",\"M3\",\"M3\",\"M3\",\"M3\",\"M3\",\"M3\",\"M3\",\"M3\",\"M2\",\"M2\",\"M2\",\"M2\",\"M2\",\"M2\",\"M2\",\"M2\",\"M2\",\"M2\",\"M2\",\"M2\",\"M1\",\"M1\",\"M1\",\"M1\",\"M1\",\"M1\",\"M1\",\"M1\",\"M1\",\"M1\",\"M1\"],\"yaxis\":\"y\",\"type\":\"bar\",\"width\":0.7}],                        {\"template\":{\"data\":{\"barpolar\":[{\"marker\":{\"line\":{\"color\":\"white\",\"width\":0.5},\"pattern\":{\"fillmode\":\"overlay\",\"size\":10,\"solidity\":0.2}},\"type\":\"barpolar\"}],\"bar\":[{\"error_x\":{\"color\":\"rgb(36,36,36)\"},\"error_y\":{\"color\":\"rgb(36,36,36)\"},\"marker\":{\"line\":{\"color\":\"white\",\"width\":0.5},\"pattern\":{\"fillmode\":\"overlay\",\"size\":10,\"solidity\":0.2}},\"type\":\"bar\"}],\"carpet\":[{\"aaxis\":{\"endlinecolor\":\"rgb(36,36,36)\",\"gridcolor\":\"white\",\"linecolor\":\"white\",\"minorgridcolor\":\"white\",\"startlinecolor\":\"rgb(36,36,36)\"},\"baxis\":{\"endlinecolor\":\"rgb(36,36,36)\",\"gridcolor\":\"white\",\"linecolor\":\"white\",\"minorgridcolor\":\"white\",\"startlinecolor\":\"rgb(36,36,36)\"},\"type\":\"carpet\"}],\"choropleth\":[{\"colorbar\":{\"outlinewidth\":1,\"tickcolor\":\"rgb(36,36,36)\",\"ticks\":\"outside\"},\"type\":\"choropleth\"}],\"contourcarpet\":[{\"colorbar\":{\"outlinewidth\":1,\"tickcolor\":\"rgb(36,36,36)\",\"ticks\":\"outside\"},\"type\":\"contourcarpet\"}],\"contour\":[{\"colorbar\":{\"outlinewidth\":1,\"tickcolor\":\"rgb(36,36,36)\",\"ticks\":\"outside\"},\"colorscale\":[[0.0,\"#440154\"],[0.1111111111111111,\"#482878\"],[0.2222222222222222,\"#3e4989\"],[0.3333333333333333,\"#31688e\"],[0.4444444444444444,\"#26828e\"],[0.5555555555555556,\"#1f9e89\"],[0.6666666666666666,\"#35b779\"],[0.7777777777777778,\"#6ece58\"],[0.8888888888888888,\"#b5de2b\"],[1.0,\"#fde725\"]],\"type\":\"contour\"}],\"heatmapgl\":[{\"colorbar\":{\"outlinewidth\":1,\"tickcolor\":\"rgb(36,36,36)\",\"ticks\":\"outside\"},\"colorscale\":[[0.0,\"#440154\"],[0.1111111111111111,\"#482878\"],[0.2222222222222222,\"#3e4989\"],[0.3333333333333333,\"#31688e\"],[0.4444444444444444,\"#26828e\"],[0.5555555555555556,\"#1f9e89\"],[0.6666666666666666,\"#35b779\"],[0.7777777777777778,\"#6ece58\"],[0.8888888888888888,\"#b5de2b\"],[1.0,\"#fde725\"]],\"type\":\"heatmapgl\"}],\"heatmap\":[{\"colorbar\":{\"outlinewidth\":1,\"tickcolor\":\"rgb(36,36,36)\",\"ticks\":\"outside\"},\"colorscale\":[[0.0,\"#440154\"],[0.1111111111111111,\"#482878\"],[0.2222222222222222,\"#3e4989\"],[0.3333333333333333,\"#31688e\"],[0.4444444444444444,\"#26828e\"],[0.5555555555555556,\"#1f9e89\"],[0.6666666666666666,\"#35b779\"],[0.7777777777777778,\"#6ece58\"],[0.8888888888888888,\"#b5de2b\"],[1.0,\"#fde725\"]],\"type\":\"heatmap\"}],\"histogram2dcontour\":[{\"colorbar\":{\"outlinewidth\":1,\"tickcolor\":\"rgb(36,36,36)\",\"ticks\":\"outside\"},\"colorscale\":[[0.0,\"#440154\"],[0.1111111111111111,\"#482878\"],[0.2222222222222222,\"#3e4989\"],[0.3333333333333333,\"#31688e\"],[0.4444444444444444,\"#26828e\"],[0.5555555555555556,\"#1f9e89\"],[0.6666666666666666,\"#35b779\"],[0.7777777777777778,\"#6ece58\"],[0.8888888888888888,\"#b5de2b\"],[1.0,\"#fde725\"]],\"type\":\"histogram2dcontour\"}],\"histogram2d\":[{\"colorbar\":{\"outlinewidth\":1,\"tickcolor\":\"rgb(36,36,36)\",\"ticks\":\"outside\"},\"colorscale\":[[0.0,\"#440154\"],[0.1111111111111111,\"#482878\"],[0.2222222222222222,\"#3e4989\"],[0.3333333333333333,\"#31688e\"],[0.4444444444444444,\"#26828e\"],[0.5555555555555556,\"#1f9e89\"],[0.6666666666666666,\"#35b779\"],[0.7777777777777778,\"#6ece58\"],[0.8888888888888888,\"#b5de2b\"],[1.0,\"#fde725\"]],\"type\":\"histogram2d\"}],\"histogram\":[{\"marker\":{\"line\":{\"color\":\"white\",\"width\":0.6}},\"type\":\"histogram\"}],\"mesh3d\":[{\"colorbar\":{\"outlinewidth\":1,\"tickcolor\":\"rgb(36,36,36)\",\"ticks\":\"outside\"},\"type\":\"mesh3d\"}],\"parcoords\":[{\"line\":{\"colorbar\":{\"outlinewidth\":1,\"tickcolor\":\"rgb(36,36,36)\",\"ticks\":\"outside\"}},\"type\":\"parcoords\"}],\"pie\":[{\"automargin\":true,\"type\":\"pie\"}],\"scatter3d\":[{\"line\":{\"colorbar\":{\"outlinewidth\":1,\"tickcolor\":\"rgb(36,36,36)\",\"ticks\":\"outside\"}},\"marker\":{\"colorbar\":{\"outlinewidth\":1,\"tickcolor\":\"rgb(36,36,36)\",\"ticks\":\"outside\"}},\"type\":\"scatter3d\"}],\"scattercarpet\":[{\"marker\":{\"colorbar\":{\"outlinewidth\":1,\"tickcolor\":\"rgb(36,36,36)\",\"ticks\":\"outside\"}},\"type\":\"scattercarpet\"}],\"scattergeo\":[{\"marker\":{\"colorbar\":{\"outlinewidth\":1,\"tickcolor\":\"rgb(36,36,36)\",\"ticks\":\"outside\"}},\"type\":\"scattergeo\"}],\"scattergl\":[{\"marker\":{\"colorbar\":{\"outlinewidth\":1,\"tickcolor\":\"rgb(36,36,36)\",\"ticks\":\"outside\"}},\"type\":\"scattergl\"}],\"scattermapbox\":[{\"marker\":{\"colorbar\":{\"outlinewidth\":1,\"tickcolor\":\"rgb(36,36,36)\",\"ticks\":\"outside\"}},\"type\":\"scattermapbox\"}],\"scatterpolargl\":[{\"marker\":{\"colorbar\":{\"outlinewidth\":1,\"tickcolor\":\"rgb(36,36,36)\",\"ticks\":\"outside\"}},\"type\":\"scatterpolargl\"}],\"scatterpolar\":[{\"marker\":{\"colorbar\":{\"outlinewidth\":1,\"tickcolor\":\"rgb(36,36,36)\",\"ticks\":\"outside\"}},\"type\":\"scatterpolar\"}],\"scatter\":[{\"fillpattern\":{\"fillmode\":\"overlay\",\"size\":10,\"solidity\":0.2},\"type\":\"scatter\"}],\"scatterternary\":[{\"marker\":{\"colorbar\":{\"outlinewidth\":1,\"tickcolor\":\"rgb(36,36,36)\",\"ticks\":\"outside\"}},\"type\":\"scatterternary\"}],\"surface\":[{\"colorbar\":{\"outlinewidth\":1,\"tickcolor\":\"rgb(36,36,36)\",\"ticks\":\"outside\"},\"colorscale\":[[0.0,\"#440154\"],[0.1111111111111111,\"#482878\"],[0.2222222222222222,\"#3e4989\"],[0.3333333333333333,\"#31688e\"],[0.4444444444444444,\"#26828e\"],[0.5555555555555556,\"#1f9e89\"],[0.6666666666666666,\"#35b779\"],[0.7777777777777778,\"#6ece58\"],[0.8888888888888888,\"#b5de2b\"],[1.0,\"#fde725\"]],\"type\":\"surface\"}],\"table\":[{\"cells\":{\"fill\":{\"color\":\"rgb(237,237,237)\"},\"line\":{\"color\":\"white\"}},\"header\":{\"fill\":{\"color\":\"rgb(217,217,217)\"},\"line\":{\"color\":\"white\"}},\"type\":\"table\"}]},\"layout\":{\"annotationdefaults\":{\"arrowhead\":0,\"arrowwidth\":1},\"autotypenumbers\":\"strict\",\"coloraxis\":{\"colorbar\":{\"outlinewidth\":1,\"tickcolor\":\"rgb(36,36,36)\",\"ticks\":\"outside\"}},\"colorscale\":{\"diverging\":[[0.0,\"rgb(103,0,31)\"],[0.1,\"rgb(178,24,43)\"],[0.2,\"rgb(214,96,77)\"],[0.3,\"rgb(244,165,130)\"],[0.4,\"rgb(253,219,199)\"],[0.5,\"rgb(247,247,247)\"],[0.6,\"rgb(209,229,240)\"],[0.7,\"rgb(146,197,222)\"],[0.8,\"rgb(67,147,195)\"],[0.9,\"rgb(33,102,172)\"],[1.0,\"rgb(5,48,97)\"]],\"sequential\":[[0.0,\"#440154\"],[0.1111111111111111,\"#482878\"],[0.2222222222222222,\"#3e4989\"],[0.3333333333333333,\"#31688e\"],[0.4444444444444444,\"#26828e\"],[0.5555555555555556,\"#1f9e89\"],[0.6666666666666666,\"#35b779\"],[0.7777777777777778,\"#6ece58\"],[0.8888888888888888,\"#b5de2b\"],[1.0,\"#fde725\"]],\"sequentialminus\":[[0.0,\"#440154\"],[0.1111111111111111,\"#482878\"],[0.2222222222222222,\"#3e4989\"],[0.3333333333333333,\"#31688e\"],[0.4444444444444444,\"#26828e\"],[0.5555555555555556,\"#1f9e89\"],[0.6666666666666666,\"#35b779\"],[0.7777777777777778,\"#6ece58\"],[0.8888888888888888,\"#b5de2b\"],[1.0,\"#fde725\"]]},\"colorway\":[\"#1F77B4\",\"#FF7F0E\",\"#2CA02C\",\"#D62728\",\"#9467BD\",\"#8C564B\",\"#E377C2\",\"#7F7F7F\",\"#BCBD22\",\"#17BECF\"],\"font\":{\"color\":\"rgb(36,36,36)\"},\"geo\":{\"bgcolor\":\"white\",\"lakecolor\":\"white\",\"landcolor\":\"white\",\"showlakes\":true,\"showland\":true,\"subunitcolor\":\"white\"},\"hoverlabel\":{\"align\":\"left\"},\"hovermode\":\"closest\",\"mapbox\":{\"style\":\"light\"},\"paper_bgcolor\":\"white\",\"plot_bgcolor\":\"white\",\"polar\":{\"angularaxis\":{\"gridcolor\":\"rgb(232,232,232)\",\"linecolor\":\"rgb(36,36,36)\",\"showgrid\":false,\"showline\":true,\"ticks\":\"outside\"},\"bgcolor\":\"white\",\"radialaxis\":{\"gridcolor\":\"rgb(232,232,232)\",\"linecolor\":\"rgb(36,36,36)\",\"showgrid\":false,\"showline\":true,\"ticks\":\"outside\"}},\"scene\":{\"xaxis\":{\"backgroundcolor\":\"white\",\"gridcolor\":\"rgb(232,232,232)\",\"gridwidth\":2,\"linecolor\":\"rgb(36,36,36)\",\"showbackground\":true,\"showgrid\":false,\"showline\":true,\"ticks\":\"outside\",\"zeroline\":false,\"zerolinecolor\":\"rgb(36,36,36)\"},\"yaxis\":{\"backgroundcolor\":\"white\",\"gridcolor\":\"rgb(232,232,232)\",\"gridwidth\":2,\"linecolor\":\"rgb(36,36,36)\",\"showbackground\":true,\"showgrid\":false,\"showline\":true,\"ticks\":\"outside\",\"zeroline\":false,\"zerolinecolor\":\"rgb(36,36,36)\"},\"zaxis\":{\"backgroundcolor\":\"white\",\"gridcolor\":\"rgb(232,232,232)\",\"gridwidth\":2,\"linecolor\":\"rgb(36,36,36)\",\"showbackground\":true,\"showgrid\":false,\"showline\":true,\"ticks\":\"outside\",\"zeroline\":false,\"zerolinecolor\":\"rgb(36,36,36)\"}},\"shapedefaults\":{\"fillcolor\":\"black\",\"line\":{\"width\":0},\"opacity\":0.3},\"ternary\":{\"aaxis\":{\"gridcolor\":\"rgb(232,232,232)\",\"linecolor\":\"rgb(36,36,36)\",\"showgrid\":false,\"showline\":true,\"ticks\":\"outside\"},\"baxis\":{\"gridcolor\":\"rgb(232,232,232)\",\"linecolor\":\"rgb(36,36,36)\",\"showgrid\":false,\"showline\":true,\"ticks\":\"outside\"},\"bgcolor\":\"white\",\"caxis\":{\"gridcolor\":\"rgb(232,232,232)\",\"linecolor\":\"rgb(36,36,36)\",\"showgrid\":false,\"showline\":true,\"ticks\":\"outside\"}},\"title\":{\"x\":0.05},\"xaxis\":{\"automargin\":true,\"gridcolor\":\"rgb(232,232,232)\",\"linecolor\":\"rgb(36,36,36)\",\"showgrid\":false,\"showline\":true,\"ticks\":\"outside\",\"title\":{\"standoff\":15},\"zeroline\":false,\"zerolinecolor\":\"rgb(36,36,36)\"},\"yaxis\":{\"automargin\":true,\"gridcolor\":\"rgb(232,232,232)\",\"linecolor\":\"rgb(36,36,36)\",\"showgrid\":false,\"showline\":true,\"ticks\":\"outside\",\"title\":{\"standoff\":15},\"zeroline\":false,\"zerolinecolor\":\"rgb(36,36,36)\"}}},\"xaxis\":{\"anchor\":\"y\",\"domain\":[0.0,1.0],\"type\":\"date\"},\"yaxis\":{\"anchor\":\"x\",\"domain\":[0.0,1.0],\"title\":{\"text\":\"Resource\"}},\"legend\":{\"title\":{\"text\":\"Type\"},\"tracegroupgap\":0},\"margin\":{\"t\":60},\"barmode\":\"overlay\",\"height\":800,\"width\":2000},                        {\"responsive\": true}                    ).then(function(){\n",
       "                            \n",
       "var gd = document.getElementById('a6a8c73a-0135-40c9-8543-aee6cc75b94c');\n",
       "var x = new MutationObserver(function (mutations, observer) {{\n",
       "        var display = window.getComputedStyle(gd).display;\n",
       "        if (!display || display === 'none') {{\n",
       "            console.log([gd, 'removed!']);\n",
       "            Plotly.purge(gd);\n",
       "            observer.disconnect();\n",
       "        }}\n",
       "}});\n",
       "\n",
       "// Listen for the removal of the full notebook cells\n",
       "var notebookContainer = gd.closest('#notebook-container');\n",
       "if (notebookContainer) {{\n",
       "    x.observe(notebookContainer, {childList: true});\n",
       "}}\n",
       "\n",
       "// Listen for the clearing of the current output cell\n",
       "var outputEl = gd.closest('.output');\n",
       "if (outputEl) {{\n",
       "    x.observe(outputEl, {childList: true});\n",
       "}}\n",
       "\n",
       "                        })                };                });            </script>        </div>"
      ]
     },
     "metadata": {},
     "output_type": "display_data"
    },
    {
     "data": {
      "application/vnd.plotly.v1+json": {
       "config": {
        "plotlyServerURL": "https://plot.ly"
       },
       "data": [
        {
         "alignmentgroup": "True",
         "base": [
          "1970-01-02T19:00:00",
          "1970-01-03T08:00:00",
          "1970-01-07T06:00:00",
          "1970-01-01T19:00:00",
          "1970-01-06T08:00:00"
         ],
         "hovertemplate": "Type=j9<br>Start=%{base}<br>Finish=%{x}<br>Resource=%{y}<br>Step-Rule=%{text}<extra></extra>",
         "legendgroup": "j9",
         "marker": {
          "color": "#2E91E5",
          "pattern": {
           "shape": ""
          }
         },
         "name": "j9",
         "offsetgroup": "j9",
         "orientation": "h",
         "showlegend": true,
         "text": [
          "25-MORSPT",
          "32-MORSPT",
          "77-SPT",
          "11-MORSPT",
          "67-SPT"
         ],
         "textposition": "auto",
         "type": "bar",
         "x": [
          46800000,
          28800000,
          28800000,
          43200000,
          43200000
         ],
         "xaxis": "x",
         "y": [
          "M6",
          "M6",
          "M6",
          "M2",
          "M1"
         ],
         "yaxis": "y"
        },
        {
         "alignmentgroup": "True",
         "base": [
          "1970-01-07T14:00:00",
          "1970-01-06T19:00:00",
          "1970-01-08T03:00:00",
          "1970-01-02T07:00:00",
          "1970-01-02T16:00:00",
          "1970-01-03T05:00:00",
          "1970-01-01T14:00:00"
         ],
         "hovertemplate": "Type=j7<br>Start=%{base}<br>Finish=%{x}<br>Resource=%{y}<br>Step-Rule=%{text}<extra></extra>",
         "legendgroup": "j7",
         "marker": {
          "color": "#E15F99",
          "pattern": {
           "shape": ""
          }
         },
         "name": "j7",
         "offsetgroup": "j7",
         "orientation": "h",
         "showlegend": true,
         "text": [
          "83-SPT",
          "73-MORSPT",
          "87-SPT",
          "19-MORSPT",
          "23-MORSPT",
          "29-MORSPT",
          "7-SPT"
         ],
         "textposition": "auto",
         "type": "bar",
         "x": [
          43200000,
          57600000,
          64800000,
          32400000,
          46800000,
          32400000,
          36000000
         ],
         "xaxis": "x",
         "y": [
          "M6",
          "M4",
          "M4",
          "M3",
          "M2",
          "M2",
          "M1"
         ],
         "yaxis": "y"
        },
        {
         "alignmentgroup": "True",
         "base": [
          "1970-01-06T17:00:00",
          "1970-01-07T09:00:00",
          "1970-01-02T07:00:00"
         ],
         "hovertemplate": "Type=j6<br>Start=%{base}<br>Finish=%{x}<br>Resource=%{y}<br>Step-Rule=%{text}<extra></extra>",
         "legendgroup": "j6",
         "marker": {
          "color": "#1CA71C",
          "pattern": {
           "shape": ""
          }
         },
         "name": "j6",
         "offsetgroup": "j6",
         "orientation": "h",
         "showlegend": true,
         "text": [
          "72-SPT",
          "79-SPT",
          "18-MORSPT"
         ],
         "textposition": "auto",
         "type": "bar",
         "x": [
          46800000,
          46800000,
          32400000
         ],
         "xaxis": "x",
         "y": [
          "M6",
          "M5",
          "M2"
         ],
         "yaxis": "y"
        },
        {
         "alignmentgroup": "True",
         "base": [
          "1970-01-05T19:00:00",
          "1970-01-02T16:00:00",
          "1970-01-06T08:00:00",
          "1970-01-03T07:00:00",
          "1970-01-03T21:00:00"
         ],
         "hovertemplate": "Type=j5<br>Start=%{base}<br>Finish=%{x}<br>Resource=%{y}<br>Step-Rule=%{text}<extra></extra>",
         "legendgroup": "j5",
         "marker": {
          "color": "#FB0D0D",
          "pattern": {
           "shape": ""
          }
         },
         "name": "j5",
         "offsetgroup": "j5",
         "orientation": "h",
         "showlegend": true,
         "text": [
          "61-SPT",
          "24-MORSPT",
          "68-SPT",
          "30-MORSPT",
          "36-MORSPT"
         ],
         "textposition": "auto",
         "type": "bar",
         "x": [
          36000000,
          54000000,
          32400000,
          50400000,
          25200000
         ],
         "xaxis": "x",
         "y": [
          "M6",
          "M3",
          "M2",
          "M1",
          "M1"
         ],
         "yaxis": "y"
        },
        {
         "alignmentgroup": "True",
         "base": [
          "1970-01-03T16:00:00",
          "1970-01-01T19:00:00",
          "1970-01-01T09:00:00",
          "1970-01-01T14:00:00",
          "1970-01-06T17:00:00"
         ],
         "hovertemplate": "Type=j4<br>Start=%{base}<br>Finish=%{x}<br>Resource=%{y}<br>Step-Rule=%{text}<extra></extra>",
         "legendgroup": "j4",
         "marker": {
          "color": "#DA16FF",
          "pattern": {
           "shape": ""
          }
         },
         "name": "j4",
         "offsetgroup": "j4",
         "orientation": "h",
         "showlegend": true,
         "text": [
          "35-MORSPT",
          "12-MORSPT",
          "2-SPT",
          "8-SPT",
          "71-SPT"
         ],
         "textposition": "auto",
         "type": "bar",
         "x": [
          28800000,
          25200000,
          18000000,
          18000000,
          50400000
         ],
         "xaxis": "x",
         "y": [
          "M6",
          "M5",
          "M2",
          "M2",
          "M2"
         ],
         "yaxis": "y"
        },
        {
         "alignmentgroup": "True",
         "base": [
          "1970-01-01T09:00:00",
          "1970-01-03T02:00:00",
          "1970-01-06T05:00:00",
          "1970-01-01T14:00:00"
         ],
         "hovertemplate": "Type=j3<br>Start=%{base}<br>Finish=%{x}<br>Resource=%{y}<br>Step-Rule=%{text}<extra></extra>",
         "legendgroup": "j3",
         "marker": {
          "color": "#222A2A",
          "pattern": {
           "shape": ""
          }
         },
         "name": "j3",
         "offsetgroup": "j3",
         "orientation": "h",
         "showlegend": true,
         "text": [
          "6-SPT",
          "27-MORSPT",
          "65-SPT",
          "9-MORSPT"
         ],
         "textposition": "auto",
         "type": "bar",
         "x": [
          18000000,
          32400000,
          50400000,
          25200000
         ],
         "xaxis": "x",
         "y": [
          "M6",
          "M5",
          "M4",
          "M3"
         ],
         "yaxis": "y"
        },
        {
         "alignmentgroup": "True",
         "base": [
          "1970-01-08T20:00:00",
          "1970-01-01T09:00:00",
          "1970-01-04T11:00:00",
          "1970-01-05T19:00:00",
          "1970-01-09T13:00:00",
          "1970-01-02T00:00:00",
          "1970-01-10T01:00:00"
         ],
         "hovertemplate": "Type=j2<br>Start=%{base}<br>Finish=%{x}<br>Resource=%{y}<br>Step-Rule=%{text}<extra></extra>",
         "legendgroup": "j2",
         "marker": {
          "color": "#B68100",
          "pattern": {
           "shape": ""
          }
         },
         "name": "j2",
         "offsetgroup": "j2",
         "orientation": "h",
         "showlegend": true,
         "text": [
          "94-SPT",
          "5-MORSPT",
          "43-MORSPT",
          "59-MORSPT",
          "99-SPTSSU",
          "15-MORSPT",
          "100-SPTSSU"
         ],
         "textposition": "auto",
         "type": "bar",
         "x": [
          61200000,
          36000000,
          90000000,
          61200000,
          43200000,
          46800000,
          111600000
         ],
         "xaxis": "x",
         "y": [
          "M6",
          "M5",
          "M5",
          "M3",
          "M3",
          "M1",
          "M1"
         ],
         "yaxis": "y"
        },
        {
         "alignmentgroup": "True",
         "base": [
          "1970-01-05T02:00:00",
          "1970-01-05T14:00:00",
          "1970-01-02T02:00:00",
          "1970-01-02T12:00:00",
          "1970-01-03T11:00:00",
          "1970-01-01T09:00:00",
          "1970-01-09T00:00:00"
         ],
         "hovertemplate": "Type=j19<br>Start=%{base}<br>Finish=%{x}<br>Resource=%{y}<br>Step-Rule=%{text}<extra></extra>",
         "legendgroup": "j19",
         "marker": {
          "color": "#750D86",
          "pattern": {
           "shape": ""
          }
         },
         "name": "j19",
         "offsetgroup": "j19",
         "orientation": "h",
         "showlegend": true,
         "text": [
          "50-MORSPT",
          "57-MORSPT",
          "16-MORSPT",
          "21-MORSPT",
          "33-MORSPT",
          "4-MORSPT",
          "97-SPT"
         ],
         "textposition": "auto",
         "type": "bar",
         "x": [
          43200000,
          18000000,
          36000000,
          50400000,
          50400000,
          50400000,
          100800000
         ],
         "xaxis": "x",
         "y": [
          "M6",
          "M6",
          "M5",
          "M5",
          "M5",
          "M4",
          "M2"
         ],
         "yaxis": "y"
        },
        {
         "alignmentgroup": "True",
         "base": [
          "1970-01-01T14:00:00",
          "1970-01-02T06:00:00",
          "1970-01-06T19:00:00",
          "1970-01-03T07:00:00",
          "1970-01-03T23:00:00",
          "1970-01-07T13:00:00",
          "1970-01-08T05:00:00",
          "1970-01-08T19:00:00"
         ],
         "hovertemplate": "Type=j16<br>Start=%{base}<br>Finish=%{x}<br>Resource=%{y}<br>Step-Rule=%{text}<extra></extra>",
         "legendgroup": "j16",
         "marker": {
          "color": "#EB663B",
          "pattern": {
           "shape": ""
          }
         },
         "name": "j16",
         "offsetgroup": "j16",
         "orientation": "h",
         "showlegend": true,
         "text": [
          "10-MORSPT",
          "17-MORSPT",
          "74-MORSPT",
          "31-MORSPT",
          "38-MORSPT",
          "81-SPT",
          "89-SPT",
          "92-SPT"
         ],
         "textposition": "auto",
         "type": "bar",
         "x": [
          57600000,
          46800000,
          50400000,
          57600000,
          46800000,
          57600000,
          50400000,
          18000000
         ],
         "xaxis": "x",
         "y": [
          "M6",
          "M6",
          "M5",
          "M3",
          "M3",
          "M1",
          "M1",
          "M1"
         ],
         "yaxis": "y"
        },
        {
         "alignmentgroup": "True",
         "base": [
          "1970-01-04T14:00:00",
          "1970-01-06T09:00:00",
          "1970-01-06T20:00:00"
         ],
         "hovertemplate": "Type=j15<br>Start=%{base}<br>Finish=%{x}<br>Resource=%{y}<br>Step-Rule=%{text}<extra></extra>",
         "legendgroup": "j15",
         "marker": {
          "color": "#511CFB",
          "pattern": {
           "shape": ""
          }
         },
         "name": "j15",
         "offsetgroup": "j15",
         "orientation": "h",
         "showlegend": true,
         "text": [
          "46-MORSPT",
          "69-SPT",
          "75-SPT"
         ],
         "textposition": "auto",
         "type": "bar",
         "x": [
          43200000,
          36000000,
          61200000
         ],
         "xaxis": "x",
         "y": [
          "M6",
          "M5",
          "M1"
         ],
         "yaxis": "y"
        },
        {
         "alignmentgroup": "True",
         "base": [
          "1970-01-08T02:00:00",
          "1970-01-08T21:00:00",
          "1970-01-05T08:00:00",
          "1970-01-04T12:00:00"
         ],
         "hovertemplate": "Type=j14<br>Start=%{base}<br>Finish=%{x}<br>Resource=%{y}<br>Step-Rule=%{text}<extra></extra>",
         "legendgroup": "j14",
         "marker": {
          "color": "#00A08B",
          "pattern": {
           "shape": ""
          }
         },
         "name": "j14",
         "offsetgroup": "j14",
         "orientation": "h",
         "showlegend": true,
         "text": [
          "86-SPT",
          "95-SPT",
          "54-MORSPT",
          "44-MORSPT"
         ],
         "textposition": "auto",
         "type": "bar",
         "x": [
          64800000,
          54000000,
          39600000,
          61200000
         ],
         "xaxis": "x",
         "y": [
          "M6",
          "M4",
          "M3",
          "M2"
         ],
         "yaxis": "y"
        },
        {
         "alignmentgroup": "True",
         "base": [
          "1970-01-04T00:00:00",
          "1970-01-03T03:00:00",
          "1970-01-05T21:00:00",
          "1970-01-05T03:00:00",
          "1970-01-05T14:00:00"
         ],
         "hovertemplate": "Type=j12<br>Start=%{base}<br>Finish=%{x}<br>Resource=%{y}<br>Step-Rule=%{text}<extra></extra>",
         "legendgroup": "j12",
         "marker": {
          "color": "#FB00D1",
          "pattern": {
           "shape": ""
          }
         },
         "name": "j12",
         "offsetgroup": "j12",
         "orientation": "h",
         "showlegend": true,
         "text": [
          "39-MORSPT",
          "28-MORSPT",
          "63-SPT",
          "51-MORSPT",
          "56-MORSPT"
         ],
         "textposition": "auto",
         "type": "bar",
         "x": [
          50400000,
          68400000,
          39600000,
          39600000,
          18000000
         ],
         "xaxis": "x",
         "y": [
          "M6",
          "M4",
          "M2",
          "M1",
          "M1"
         ],
         "yaxis": "y"
        },
        {
         "alignmentgroup": "True",
         "base": [
          "1970-01-06T05:00:00",
          "1970-01-04T01:00:00",
          "1970-01-02T07:00:00",
          "1970-01-02T21:00:00"
         ],
         "hovertemplate": "Type=j1<br>Start=%{base}<br>Finish=%{x}<br>Resource=%{y}<br>Step-Rule=%{text}<extra></extra>",
         "legendgroup": "j1",
         "marker": {
          "color": "#FC0080",
          "pattern": {
           "shape": ""
          }
         },
         "name": "j1",
         "offsetgroup": "j1",
         "orientation": "h",
         "showlegend": true,
         "text": [
          "66-SPT",
          "40-MORSPT",
          "20-MORSPT",
          "26-MORSPT"
         ],
         "textposition": "auto",
         "type": "bar",
         "x": [
          43200000,
          36000000,
          50400000,
          21600000
         ],
         "xaxis": "x",
         "y": [
          "M6",
          "M5",
          "M4",
          "M4"
         ],
         "yaxis": "y"
        },
        {
         "alignmentgroup": "True",
         "base": [
          "1970-01-09T13:00:00",
          "1970-01-09T16:00:00",
          "1970-01-09T22:00:00",
          "1970-01-10T01:00:00",
          "1970-01-10T03:00:00",
          "1970-01-10T04:00:00",
          "1970-01-10T05:00:00",
          "1970-01-10T03:00:00",
          "1970-01-10T04:00:00",
          "1970-01-10T05:00:00",
          "1970-01-09T12:00:00",
          "1970-01-09T13:00:00",
          "1970-01-09T16:00:00",
          "1970-01-09T22:00:00",
          "1970-01-10T01:00:00",
          "1970-01-10T03:00:00",
          "1970-01-10T04:00:00",
          "1970-01-10T05:00:00",
          "1970-01-09T11:00:00",
          "1970-01-09T12:00:00",
          "1970-01-10T01:00:00",
          "1970-01-10T03:00:00",
          "1970-01-10T04:00:00",
          "1970-01-10T05:00:00",
          "1970-01-10T04:00:00",
          "1970-01-10T05:00:00",
          "1970-01-09T22:00:00"
         ],
         "hovertemplate": "Type=delay_machine<br>Start=%{base}<br>Finish=%{x}<br>Resource=%{y}<br>Step-Rule=%{text}<extra></extra>",
         "legendgroup": "delay_machine",
         "marker": {
          "color": "#B2828D",
          "pattern": {
           "shape": ""
          }
         },
         "name": "delay_machine",
         "offsetgroup": "delay_machine",
         "orientation": "h",
         "showlegend": true,
         "text": [
          "100-DDA",
          "100-DDA",
          "100-DDA",
          "101-DDA",
          "101-DDA",
          "101-DDA",
          "101-DDA",
          "101-DDA",
          "101-DDA",
          "101-DDA",
          "99-DDA",
          "100-DDA",
          "100-DDA",
          "100-DDA",
          "101-DDA",
          "101-DDA",
          "101-DDA",
          "101-DDA",
          "99-DDA",
          "99-DDA",
          "101-DDA",
          "101-DDA",
          "101-DDA",
          "101-DDA",
          "101-DDA",
          "101-DDA",
          "100-DDA"
         ],
         "textposition": "auto",
         "type": "bar",
         "x": [
          10800000,
          21600000,
          10800000,
          7200000,
          3600000,
          3600000,
          97200000,
          3600000,
          3600000,
          97200000,
          3600000,
          10800000,
          21600000,
          10800000,
          7200000,
          3600000,
          3600000,
          97200000,
          3600000,
          3600000,
          7200000,
          3600000,
          3600000,
          97200000,
          3600000,
          97200000,
          10800000
         ],
         "xaxis": "x",
         "y": [
          "M6",
          "M6",
          "M6",
          "M6",
          "M6",
          "M6",
          "M6",
          "M5",
          "M5",
          "M5",
          "M4",
          "M4",
          "M4",
          "M4",
          "M4",
          "M4",
          "M4",
          "M4",
          "M3",
          "M3",
          "M3",
          "M3",
          "M3",
          "M3",
          "M2",
          "M2",
          "M1"
         ],
         "yaxis": "y"
        },
        {
         "alignmentgroup": "True",
         "base": [
          "1970-01-07T22:00:00",
          "1970-01-08T14:00:00",
          "1970-01-09T04:00:00",
          "1970-01-01T21:00:00"
         ],
         "hovertemplate": "Type=j13<br>Start=%{base}<br>Finish=%{x}<br>Resource=%{y}<br>Step-Rule=%{text}<extra></extra>",
         "legendgroup": "j13",
         "marker": {
          "color": "#6C7C32",
          "pattern": {
           "shape": ""
          }
         },
         "name": "j13",
         "offsetgroup": "j13",
         "orientation": "h",
         "showlegend": true,
         "text": [
          "84-SPT",
          "91-SPT",
          "98-SPT",
          "13-MORSPT"
         ],
         "textposition": "auto",
         "type": "bar",
         "x": [
          57600000,
          50400000,
          82800000,
          36000000
         ],
         "xaxis": "x",
         "y": [
          "M5",
          "M5",
          "M5",
          "M3"
         ],
         "yaxis": "y"
        },
        {
         "alignmentgroup": "True",
         "base": [
          "1970-01-05T12:00:00",
          "1970-01-05T20:00:00",
          "1970-01-06T03:00:00",
          "1970-01-02T13:00:00",
          "1970-01-04T04:00:00",
          "1970-01-04T20:00:00"
         ],
         "hovertemplate": "Type=j11<br>Start=%{base}<br>Finish=%{x}<br>Resource=%{y}<br>Step-Rule=%{text}<extra></extra>",
         "legendgroup": "j11",
         "marker": {
          "color": "#778AAE",
          "pattern": {
           "shape": ""
          }
         },
         "name": "j11",
         "offsetgroup": "j11",
         "orientation": "h",
         "showlegend": true,
         "text": [
          "55-MORSPT",
          "62-SPT",
          "64-SPT",
          "22-MORSPT",
          "41-MORSPT",
          "48-MORSPT"
         ],
         "textposition": "auto",
         "type": "bar",
         "x": [
          28800000,
          25200000,
          21600000,
          64800000,
          57600000,
          25200000
         ],
         "xaxis": "x",
         "y": [
          "M5",
          "M5",
          "M5",
          "M1",
          "M1",
          "M1"
         ],
         "yaxis": "y"
        },
        {
         "alignmentgroup": "True",
         "base": [
          "1970-01-01T23:00:00",
          "1970-01-01T09:00:00",
          "1970-01-07T13:00:00",
          "1970-01-08T04:00:00"
         ],
         "hovertemplate": "Type=j8<br>Start=%{base}<br>Finish=%{x}<br>Resource=%{y}<br>Step-Rule=%{text}<extra></extra>",
         "legendgroup": "j8",
         "marker": {
          "color": "#862A16",
          "pattern": {
           "shape": ""
          }
         },
         "name": "j8",
         "offsetgroup": "j8",
         "orientation": "h",
         "showlegend": true,
         "text": [
          "14-MORSPT",
          "3-SPT",
          "82-SPT",
          "88-SPT"
         ],
         "textposition": "auto",
         "type": "bar",
         "x": [
          28800000,
          18000000,
          54000000,
          54000000
         ],
         "xaxis": "x",
         "y": [
          "M4",
          "M3",
          "M3",
          "M3"
         ],
         "yaxis": "y"
        },
        {
         "alignmentgroup": "True",
         "base": [
          "1970-01-05T04:00:00",
          "1970-01-06T12:00:00",
          "1970-01-07T03:00:00",
          "1970-01-03T14:00:00",
          "1970-01-04T07:00:00",
          "1970-01-05T19:00:00"
         ],
         "hovertemplate": "Type=j20<br>Start=%{base}<br>Finish=%{x}<br>Resource=%{y}<br>Step-Rule=%{text}<extra></extra>",
         "legendgroup": "j20",
         "marker": {
          "color": "#A777F1",
          "pattern": {
           "shape": ""
          }
         },
         "name": "j20",
         "offsetgroup": "j20",
         "orientation": "h",
         "showlegend": true,
         "text": [
          "52-MORSPT",
          "70-SPT",
          "76-SPT",
          "34-MORSPT",
          "42-MORSPT",
          "58-MORSPT"
         ],
         "textposition": "auto",
         "type": "bar",
         "x": [
          54000000,
          54000000,
          36000000,
          61200000,
          18000000,
          46800000
         ],
         "xaxis": "x",
         "y": [
          "M4",
          "M3",
          "M3",
          "M2",
          "M2",
          "M1"
         ],
         "yaxis": "y"
        },
        {
         "alignmentgroup": "True",
         "base": [
          "1970-01-03T22:00:00",
          "1970-01-04T17:00:00",
          "1970-01-08T19:00:00",
          "1970-01-07T07:00:00",
          "1970-01-07T23:00:00"
         ],
         "hovertemplate": "Type=j18<br>Start=%{base}<br>Finish=%{x}<br>Resource=%{y}<br>Step-Rule=%{text}<extra></extra>",
         "legendgroup": "j18",
         "marker": {
          "color": "#620042",
          "pattern": {
           "shape": ""
          }
         },
         "name": "j18",
         "offsetgroup": "j18",
         "orientation": "h",
         "showlegend": true,
         "text": [
          "37-MORSPT",
          "47-MORSPT",
          "93-SPT",
          "78-MORSPT",
          "85-SPT"
         ],
         "textposition": "auto",
         "type": "bar",
         "x": [
          68400000,
          39600000,
          57600000,
          57600000,
          39600000
         ],
         "xaxis": "x",
         "y": [
          "M4",
          "M4",
          "M3",
          "M2",
          "M2"
         ],
         "yaxis": "y"
        },
        {
         "alignmentgroup": "True",
         "base": [
          "1970-01-07T11:00:00",
          "1970-01-05T05:00:00",
          "1970-01-08T10:00:00",
          "1970-01-09T00:00:00"
         ],
         "hovertemplate": "Type=j17<br>Start=%{base}<br>Finish=%{x}<br>Resource=%{y}<br>Step-Rule=%{text}<extra></extra>",
         "legendgroup": "j17",
         "marker": {
          "color": "#1616A7",
          "pattern": {
           "shape": ""
          }
         },
         "name": "j17",
         "offsetgroup": "j17",
         "orientation": "h",
         "showlegend": true,
         "text": [
          "80-SPT",
          "53-MORSPT",
          "90-SPT",
          "96-SPT"
         ],
         "textposition": "auto",
         "type": "bar",
         "x": [
          57600000,
          57600000,
          50400000,
          79200000
         ],
         "xaxis": "x",
         "y": [
          "M4",
          "M2",
          "M2",
          "M1"
         ],
         "yaxis": "y"
        },
        {
         "alignmentgroup": "True",
         "base": [
          "1970-01-05T19:00:00",
          "1970-01-04T12:00:00",
          "1970-01-05T01:00:00",
          "1970-01-01T09:00:00"
         ],
         "hovertemplate": "Type=j10<br>Start=%{base}<br>Finish=%{x}<br>Resource=%{y}<br>Step-Rule=%{text}<extra></extra>",
         "legendgroup": "j10",
         "marker": {
          "color": "#DA60CA",
          "pattern": {
           "shape": ""
          }
         },
         "name": "j10",
         "offsetgroup": "j10",
         "orientation": "h",
         "showlegend": true,
         "text": [
          "60-SPT",
          "45-MORSPT",
          "49-MORSPT",
          "1-SPT"
         ],
         "textposition": "auto",
         "type": "bar",
         "x": [
          36000000,
          46800000,
          25200000,
          18000000
         ],
         "xaxis": "x",
         "y": [
          "M4",
          "M3",
          "M3",
          "M1"
         ],
         "yaxis": "y"
        },
        {
         "alignmentgroup": "True",
         "base": [
          "1970-01-01T14:00:00",
          "1970-01-02T19:00:00",
          "1970-01-03T16:00:00",
          "1970-01-04T00:00:00",
          "1970-01-04T14:00:00",
          "1970-01-05T02:00:00",
          "1970-01-05T19:00:00",
          "1970-01-06T05:00:00",
          "1970-01-06T17:00:00",
          "1970-01-07T06:00:00",
          "1970-01-07T14:00:00",
          "1970-01-08T02:00:00",
          "1970-01-08T20:00:00",
          "1970-01-01T19:00:00",
          "1970-01-02T02:00:00",
          "1970-01-03T02:00:00",
          "1970-01-03T11:00:00",
          "1970-01-04T01:00:00",
          "1970-01-04T11:00:00",
          "1970-01-05T12:00:00",
          "1970-01-06T09:00:00",
          "1970-01-07T09:00:00",
          "1970-01-07T22:00:00",
          "1970-01-01T23:00:00",
          "1970-01-02T07:00:00",
          "1970-01-03T03:00:00",
          "1970-01-03T22:00:00",
          "1970-01-05T04:00:00",
          "1970-01-05T19:00:00",
          "1970-01-06T05:00:00",
          "1970-01-06T19:00:00",
          "1970-01-07T11:00:00",
          "1970-01-08T03:00:00",
          "1970-01-08T21:00:00",
          "1970-01-01T14:00:00",
          "1970-01-01T21:00:00",
          "1970-01-02T07:00:00",
          "1970-01-02T16:00:00",
          "1970-01-03T07:00:00",
          "1970-01-04T12:00:00",
          "1970-01-05T08:00:00",
          "1970-01-05T19:00:00",
          "1970-01-06T12:00:00",
          "1970-01-07T13:00:00",
          "1970-01-08T19:00:00",
          "1970-01-09T13:00:00",
          "1970-01-01T19:00:00",
          "1970-01-02T07:00:00",
          "1970-01-02T16:00:00",
          "1970-01-03T14:00:00",
          "1970-01-04T12:00:00",
          "1970-01-05T05:00:00",
          "1970-01-05T21:00:00",
          "1970-01-06T08:00:00",
          "1970-01-06T17:00:00",
          "1970-01-07T07:00:00",
          "1970-01-08T10:00:00",
          "1970-01-09T00:00:00",
          "1970-01-01T14:00:00",
          "1970-01-02T00:00:00",
          "1970-01-02T13:00:00",
          "1970-01-03T07:00:00",
          "1970-01-04T04:00:00",
          "1970-01-05T03:00:00",
          "1970-01-05T19:00:00",
          "1970-01-06T08:00:00",
          "1970-01-06T20:00:00",
          "1970-01-09T00:00:00",
          "1970-01-10T01:00:00"
         ],
         "hovertemplate": "Type=setup<br>Start=%{base}<br>Finish=%{x}<br>Resource=%{y}<br>Step-Rule=%{text}<extra></extra>",
         "legendgroup": "setup",
         "marker": {
          "color": "#6C4516",
          "pattern": {
           "shape": ""
          }
         },
         "name": "setup",
         "offsetgroup": "setup",
         "orientation": "h",
         "showlegend": true,
         "text": "",
         "textposition": "auto",
         "type": "bar",
         "width": 0.7,
         "x": [
          14400000,
          10800000,
          7200000,
          7200000,
          7200000,
          7200000,
          10800000,
          10800000,
          10800000,
          3600000,
          3600000,
          10800000,
          3600000,
          7200000,
          10800000,
          10800000,
          7200000,
          10800000,
          10800000,
          7200000,
          7200000,
          3600000,
          7200000,
          7200000,
          7200000,
          10800000,
          10800000,
          10800000,
          3600000,
          14400000,
          10800000,
          10800000,
          3600000,
          10800000,
          7200000,
          10800000,
          10800000,
          7200000,
          7200000,
          7200000,
          3600000,
          3600000,
          10800000,
          7200000,
          10800000,
          10800000,
          14400000,
          10800000,
          10800000,
          3600000,
          14400000,
          10800000,
          14400000,
          14400000,
          10800000,
          14400000,
          10800000,
          14400000,
          14400000,
          7200000,
          7200000,
          10800000,
          7200000,
          14400000,
          10800000,
          10800000,
          7200000,
          10800000,
          14400000
         ],
         "xaxis": "x",
         "y": [
          "M6",
          "M6",
          "M6",
          "M6",
          "M6",
          "M6",
          "M6",
          "M6",
          "M6",
          "M6",
          "M6",
          "M6",
          "M6",
          "M5",
          "M5",
          "M5",
          "M5",
          "M5",
          "M5",
          "M5",
          "M5",
          "M5",
          "M5",
          "M4",
          "M4",
          "M4",
          "M4",
          "M4",
          "M4",
          "M4",
          "M4",
          "M4",
          "M4",
          "M4",
          "M3",
          "M3",
          "M3",
          "M3",
          "M3",
          "M3",
          "M3",
          "M3",
          "M3",
          "M3",
          "M3",
          "M3",
          "M2",
          "M2",
          "M2",
          "M2",
          "M2",
          "M2",
          "M2",
          "M2",
          "M2",
          "M2",
          "M2",
          "M2",
          "M1",
          "M1",
          "M1",
          "M1",
          "M1",
          "M1",
          "M1",
          "M1",
          "M1",
          "M1",
          "M1"
         ],
         "yaxis": "y"
        }
       ],
       "layout": {
        "barmode": "overlay",
        "height": 800,
        "legend": {
         "title": {
          "text": "Type"
         },
         "tracegroupgap": 0
        },
        "margin": {
         "t": 60
        },
        "template": {
         "data": {
          "bar": [
           {
            "error_x": {
             "color": "rgb(36,36,36)"
            },
            "error_y": {
             "color": "rgb(36,36,36)"
            },
            "marker": {
             "line": {
              "color": "white",
              "width": 0.5
             },
             "pattern": {
              "fillmode": "overlay",
              "size": 10,
              "solidity": 0.2
             }
            },
            "type": "bar"
           }
          ],
          "barpolar": [
           {
            "marker": {
             "line": {
              "color": "white",
              "width": 0.5
             },
             "pattern": {
              "fillmode": "overlay",
              "size": 10,
              "solidity": 0.2
             }
            },
            "type": "barpolar"
           }
          ],
          "carpet": [
           {
            "aaxis": {
             "endlinecolor": "rgb(36,36,36)",
             "gridcolor": "white",
             "linecolor": "white",
             "minorgridcolor": "white",
             "startlinecolor": "rgb(36,36,36)"
            },
            "baxis": {
             "endlinecolor": "rgb(36,36,36)",
             "gridcolor": "white",
             "linecolor": "white",
             "minorgridcolor": "white",
             "startlinecolor": "rgb(36,36,36)"
            },
            "type": "carpet"
           }
          ],
          "choropleth": [
           {
            "colorbar": {
             "outlinewidth": 1,
             "tickcolor": "rgb(36,36,36)",
             "ticks": "outside"
            },
            "type": "choropleth"
           }
          ],
          "contour": [
           {
            "colorbar": {
             "outlinewidth": 1,
             "tickcolor": "rgb(36,36,36)",
             "ticks": "outside"
            },
            "colorscale": [
             [
              0,
              "#440154"
             ],
             [
              0.1111111111111111,
              "#482878"
             ],
             [
              0.2222222222222222,
              "#3e4989"
             ],
             [
              0.3333333333333333,
              "#31688e"
             ],
             [
              0.4444444444444444,
              "#26828e"
             ],
             [
              0.5555555555555556,
              "#1f9e89"
             ],
             [
              0.6666666666666666,
              "#35b779"
             ],
             [
              0.7777777777777778,
              "#6ece58"
             ],
             [
              0.8888888888888888,
              "#b5de2b"
             ],
             [
              1,
              "#fde725"
             ]
            ],
            "type": "contour"
           }
          ],
          "contourcarpet": [
           {
            "colorbar": {
             "outlinewidth": 1,
             "tickcolor": "rgb(36,36,36)",
             "ticks": "outside"
            },
            "type": "contourcarpet"
           }
          ],
          "heatmap": [
           {
            "colorbar": {
             "outlinewidth": 1,
             "tickcolor": "rgb(36,36,36)",
             "ticks": "outside"
            },
            "colorscale": [
             [
              0,
              "#440154"
             ],
             [
              0.1111111111111111,
              "#482878"
             ],
             [
              0.2222222222222222,
              "#3e4989"
             ],
             [
              0.3333333333333333,
              "#31688e"
             ],
             [
              0.4444444444444444,
              "#26828e"
             ],
             [
              0.5555555555555556,
              "#1f9e89"
             ],
             [
              0.6666666666666666,
              "#35b779"
             ],
             [
              0.7777777777777778,
              "#6ece58"
             ],
             [
              0.8888888888888888,
              "#b5de2b"
             ],
             [
              1,
              "#fde725"
             ]
            ],
            "type": "heatmap"
           }
          ],
          "heatmapgl": [
           {
            "colorbar": {
             "outlinewidth": 1,
             "tickcolor": "rgb(36,36,36)",
             "ticks": "outside"
            },
            "colorscale": [
             [
              0,
              "#440154"
             ],
             [
              0.1111111111111111,
              "#482878"
             ],
             [
              0.2222222222222222,
              "#3e4989"
             ],
             [
              0.3333333333333333,
              "#31688e"
             ],
             [
              0.4444444444444444,
              "#26828e"
             ],
             [
              0.5555555555555556,
              "#1f9e89"
             ],
             [
              0.6666666666666666,
              "#35b779"
             ],
             [
              0.7777777777777778,
              "#6ece58"
             ],
             [
              0.8888888888888888,
              "#b5de2b"
             ],
             [
              1,
              "#fde725"
             ]
            ],
            "type": "heatmapgl"
           }
          ],
          "histogram": [
           {
            "marker": {
             "line": {
              "color": "white",
              "width": 0.6
             }
            },
            "type": "histogram"
           }
          ],
          "histogram2d": [
           {
            "colorbar": {
             "outlinewidth": 1,
             "tickcolor": "rgb(36,36,36)",
             "ticks": "outside"
            },
            "colorscale": [
             [
              0,
              "#440154"
             ],
             [
              0.1111111111111111,
              "#482878"
             ],
             [
              0.2222222222222222,
              "#3e4989"
             ],
             [
              0.3333333333333333,
              "#31688e"
             ],
             [
              0.4444444444444444,
              "#26828e"
             ],
             [
              0.5555555555555556,
              "#1f9e89"
             ],
             [
              0.6666666666666666,
              "#35b779"
             ],
             [
              0.7777777777777778,
              "#6ece58"
             ],
             [
              0.8888888888888888,
              "#b5de2b"
             ],
             [
              1,
              "#fde725"
             ]
            ],
            "type": "histogram2d"
           }
          ],
          "histogram2dcontour": [
           {
            "colorbar": {
             "outlinewidth": 1,
             "tickcolor": "rgb(36,36,36)",
             "ticks": "outside"
            },
            "colorscale": [
             [
              0,
              "#440154"
             ],
             [
              0.1111111111111111,
              "#482878"
             ],
             [
              0.2222222222222222,
              "#3e4989"
             ],
             [
              0.3333333333333333,
              "#31688e"
             ],
             [
              0.4444444444444444,
              "#26828e"
             ],
             [
              0.5555555555555556,
              "#1f9e89"
             ],
             [
              0.6666666666666666,
              "#35b779"
             ],
             [
              0.7777777777777778,
              "#6ece58"
             ],
             [
              0.8888888888888888,
              "#b5de2b"
             ],
             [
              1,
              "#fde725"
             ]
            ],
            "type": "histogram2dcontour"
           }
          ],
          "mesh3d": [
           {
            "colorbar": {
             "outlinewidth": 1,
             "tickcolor": "rgb(36,36,36)",
             "ticks": "outside"
            },
            "type": "mesh3d"
           }
          ],
          "parcoords": [
           {
            "line": {
             "colorbar": {
              "outlinewidth": 1,
              "tickcolor": "rgb(36,36,36)",
              "ticks": "outside"
             }
            },
            "type": "parcoords"
           }
          ],
          "pie": [
           {
            "automargin": true,
            "type": "pie"
           }
          ],
          "scatter": [
           {
            "fillpattern": {
             "fillmode": "overlay",
             "size": 10,
             "solidity": 0.2
            },
            "type": "scatter"
           }
          ],
          "scatter3d": [
           {
            "line": {
             "colorbar": {
              "outlinewidth": 1,
              "tickcolor": "rgb(36,36,36)",
              "ticks": "outside"
             }
            },
            "marker": {
             "colorbar": {
              "outlinewidth": 1,
              "tickcolor": "rgb(36,36,36)",
              "ticks": "outside"
             }
            },
            "type": "scatter3d"
           }
          ],
          "scattercarpet": [
           {
            "marker": {
             "colorbar": {
              "outlinewidth": 1,
              "tickcolor": "rgb(36,36,36)",
              "ticks": "outside"
             }
            },
            "type": "scattercarpet"
           }
          ],
          "scattergeo": [
           {
            "marker": {
             "colorbar": {
              "outlinewidth": 1,
              "tickcolor": "rgb(36,36,36)",
              "ticks": "outside"
             }
            },
            "type": "scattergeo"
           }
          ],
          "scattergl": [
           {
            "marker": {
             "colorbar": {
              "outlinewidth": 1,
              "tickcolor": "rgb(36,36,36)",
              "ticks": "outside"
             }
            },
            "type": "scattergl"
           }
          ],
          "scattermapbox": [
           {
            "marker": {
             "colorbar": {
              "outlinewidth": 1,
              "tickcolor": "rgb(36,36,36)",
              "ticks": "outside"
             }
            },
            "type": "scattermapbox"
           }
          ],
          "scatterpolar": [
           {
            "marker": {
             "colorbar": {
              "outlinewidth": 1,
              "tickcolor": "rgb(36,36,36)",
              "ticks": "outside"
             }
            },
            "type": "scatterpolar"
           }
          ],
          "scatterpolargl": [
           {
            "marker": {
             "colorbar": {
              "outlinewidth": 1,
              "tickcolor": "rgb(36,36,36)",
              "ticks": "outside"
             }
            },
            "type": "scatterpolargl"
           }
          ],
          "scatterternary": [
           {
            "marker": {
             "colorbar": {
              "outlinewidth": 1,
              "tickcolor": "rgb(36,36,36)",
              "ticks": "outside"
             }
            },
            "type": "scatterternary"
           }
          ],
          "surface": [
           {
            "colorbar": {
             "outlinewidth": 1,
             "tickcolor": "rgb(36,36,36)",
             "ticks": "outside"
            },
            "colorscale": [
             [
              0,
              "#440154"
             ],
             [
              0.1111111111111111,
              "#482878"
             ],
             [
              0.2222222222222222,
              "#3e4989"
             ],
             [
              0.3333333333333333,
              "#31688e"
             ],
             [
              0.4444444444444444,
              "#26828e"
             ],
             [
              0.5555555555555556,
              "#1f9e89"
             ],
             [
              0.6666666666666666,
              "#35b779"
             ],
             [
              0.7777777777777778,
              "#6ece58"
             ],
             [
              0.8888888888888888,
              "#b5de2b"
             ],
             [
              1,
              "#fde725"
             ]
            ],
            "type": "surface"
           }
          ],
          "table": [
           {
            "cells": {
             "fill": {
              "color": "rgb(237,237,237)"
             },
             "line": {
              "color": "white"
             }
            },
            "header": {
             "fill": {
              "color": "rgb(217,217,217)"
             },
             "line": {
              "color": "white"
             }
            },
            "type": "table"
           }
          ]
         },
         "layout": {
          "annotationdefaults": {
           "arrowhead": 0,
           "arrowwidth": 1
          },
          "autotypenumbers": "strict",
          "coloraxis": {
           "colorbar": {
            "outlinewidth": 1,
            "tickcolor": "rgb(36,36,36)",
            "ticks": "outside"
           }
          },
          "colorscale": {
           "diverging": [
            [
             0,
             "rgb(103,0,31)"
            ],
            [
             0.1,
             "rgb(178,24,43)"
            ],
            [
             0.2,
             "rgb(214,96,77)"
            ],
            [
             0.3,
             "rgb(244,165,130)"
            ],
            [
             0.4,
             "rgb(253,219,199)"
            ],
            [
             0.5,
             "rgb(247,247,247)"
            ],
            [
             0.6,
             "rgb(209,229,240)"
            ],
            [
             0.7,
             "rgb(146,197,222)"
            ],
            [
             0.8,
             "rgb(67,147,195)"
            ],
            [
             0.9,
             "rgb(33,102,172)"
            ],
            [
             1,
             "rgb(5,48,97)"
            ]
           ],
           "sequential": [
            [
             0,
             "#440154"
            ],
            [
             0.1111111111111111,
             "#482878"
            ],
            [
             0.2222222222222222,
             "#3e4989"
            ],
            [
             0.3333333333333333,
             "#31688e"
            ],
            [
             0.4444444444444444,
             "#26828e"
            ],
            [
             0.5555555555555556,
             "#1f9e89"
            ],
            [
             0.6666666666666666,
             "#35b779"
            ],
            [
             0.7777777777777778,
             "#6ece58"
            ],
            [
             0.8888888888888888,
             "#b5de2b"
            ],
            [
             1,
             "#fde725"
            ]
           ],
           "sequentialminus": [
            [
             0,
             "#440154"
            ],
            [
             0.1111111111111111,
             "#482878"
            ],
            [
             0.2222222222222222,
             "#3e4989"
            ],
            [
             0.3333333333333333,
             "#31688e"
            ],
            [
             0.4444444444444444,
             "#26828e"
            ],
            [
             0.5555555555555556,
             "#1f9e89"
            ],
            [
             0.6666666666666666,
             "#35b779"
            ],
            [
             0.7777777777777778,
             "#6ece58"
            ],
            [
             0.8888888888888888,
             "#b5de2b"
            ],
            [
             1,
             "#fde725"
            ]
           ]
          },
          "colorway": [
           "#1F77B4",
           "#FF7F0E",
           "#2CA02C",
           "#D62728",
           "#9467BD",
           "#8C564B",
           "#E377C2",
           "#7F7F7F",
           "#BCBD22",
           "#17BECF"
          ],
          "font": {
           "color": "rgb(36,36,36)"
          },
          "geo": {
           "bgcolor": "white",
           "lakecolor": "white",
           "landcolor": "white",
           "showlakes": true,
           "showland": true,
           "subunitcolor": "white"
          },
          "hoverlabel": {
           "align": "left"
          },
          "hovermode": "closest",
          "mapbox": {
           "style": "light"
          },
          "paper_bgcolor": "white",
          "plot_bgcolor": "white",
          "polar": {
           "angularaxis": {
            "gridcolor": "rgb(232,232,232)",
            "linecolor": "rgb(36,36,36)",
            "showgrid": false,
            "showline": true,
            "ticks": "outside"
           },
           "bgcolor": "white",
           "radialaxis": {
            "gridcolor": "rgb(232,232,232)",
            "linecolor": "rgb(36,36,36)",
            "showgrid": false,
            "showline": true,
            "ticks": "outside"
           }
          },
          "scene": {
           "xaxis": {
            "backgroundcolor": "white",
            "gridcolor": "rgb(232,232,232)",
            "gridwidth": 2,
            "linecolor": "rgb(36,36,36)",
            "showbackground": true,
            "showgrid": false,
            "showline": true,
            "ticks": "outside",
            "zeroline": false,
            "zerolinecolor": "rgb(36,36,36)"
           },
           "yaxis": {
            "backgroundcolor": "white",
            "gridcolor": "rgb(232,232,232)",
            "gridwidth": 2,
            "linecolor": "rgb(36,36,36)",
            "showbackground": true,
            "showgrid": false,
            "showline": true,
            "ticks": "outside",
            "zeroline": false,
            "zerolinecolor": "rgb(36,36,36)"
           },
           "zaxis": {
            "backgroundcolor": "white",
            "gridcolor": "rgb(232,232,232)",
            "gridwidth": 2,
            "linecolor": "rgb(36,36,36)",
            "showbackground": true,
            "showgrid": false,
            "showline": true,
            "ticks": "outside",
            "zeroline": false,
            "zerolinecolor": "rgb(36,36,36)"
           }
          },
          "shapedefaults": {
           "fillcolor": "black",
           "line": {
            "width": 0
           },
           "opacity": 0.3
          },
          "ternary": {
           "aaxis": {
            "gridcolor": "rgb(232,232,232)",
            "linecolor": "rgb(36,36,36)",
            "showgrid": false,
            "showline": true,
            "ticks": "outside"
           },
           "baxis": {
            "gridcolor": "rgb(232,232,232)",
            "linecolor": "rgb(36,36,36)",
            "showgrid": false,
            "showline": true,
            "ticks": "outside"
           },
           "bgcolor": "white",
           "caxis": {
            "gridcolor": "rgb(232,232,232)",
            "linecolor": "rgb(36,36,36)",
            "showgrid": false,
            "showline": true,
            "ticks": "outside"
           }
          },
          "title": {
           "x": 0.05
          },
          "xaxis": {
           "automargin": true,
           "gridcolor": "rgb(232,232,232)",
           "linecolor": "rgb(36,36,36)",
           "showgrid": false,
           "showline": true,
           "ticks": "outside",
           "title": {
            "standoff": 15
           },
           "zeroline": false,
           "zerolinecolor": "rgb(36,36,36)"
          },
          "yaxis": {
           "automargin": true,
           "gridcolor": "rgb(232,232,232)",
           "linecolor": "rgb(36,36,36)",
           "showgrid": false,
           "showline": true,
           "ticks": "outside",
           "title": {
            "standoff": 15
           },
           "zeroline": false,
           "zerolinecolor": "rgb(36,36,36)"
          }
         }
        },
        "width": 2000,
        "xaxis": {
         "anchor": "y",
         "domain": [
          0,
          1
         ],
         "type": "date"
        },
        "yaxis": {
         "anchor": "x",
         "domain": [
          0,
          1
         ],
         "title": {
          "text": "Resource"
         }
        }
       }
      },
      "text/html": [
       "<div>                            <div id=\"4c8e57c1-0591-4064-8105-7474a8664dd8\" class=\"plotly-graph-div\" style=\"height:800px; width:2000px;\"></div>            <script type=\"text/javascript\">                require([\"plotly\"], function(Plotly) {                    window.PLOTLYENV=window.PLOTLYENV || {};                                    if (document.getElementById(\"4c8e57c1-0591-4064-8105-7474a8664dd8\")) {                    Plotly.newPlot(                        \"4c8e57c1-0591-4064-8105-7474a8664dd8\",                        [{\"alignmentgroup\":\"True\",\"base\":[\"1970-01-02T19:00:00\",\"1970-01-03T08:00:00\",\"1970-01-07T06:00:00\",\"1970-01-01T19:00:00\",\"1970-01-06T08:00:00\"],\"hovertemplate\":\"Type=j9<br>Start=%{base}<br>Finish=%{x}<br>Resource=%{y}<br>Step-Rule=%{text}<extra></extra>\",\"legendgroup\":\"j9\",\"marker\":{\"color\":\"#2E91E5\",\"pattern\":{\"shape\":\"\"}},\"name\":\"j9\",\"offsetgroup\":\"j9\",\"orientation\":\"h\",\"showlegend\":true,\"text\":[\"25-MORSPT\",\"32-MORSPT\",\"77-SPT\",\"11-MORSPT\",\"67-SPT\"],\"textposition\":\"auto\",\"x\":[46800000.0,28800000.0,28800000.0,43200000.0,43200000.0],\"xaxis\":\"x\",\"y\":[\"M6\",\"M6\",\"M6\",\"M2\",\"M1\"],\"yaxis\":\"y\",\"type\":\"bar\"},{\"alignmentgroup\":\"True\",\"base\":[\"1970-01-07T14:00:00\",\"1970-01-06T19:00:00\",\"1970-01-08T03:00:00\",\"1970-01-02T07:00:00\",\"1970-01-02T16:00:00\",\"1970-01-03T05:00:00\",\"1970-01-01T14:00:00\"],\"hovertemplate\":\"Type=j7<br>Start=%{base}<br>Finish=%{x}<br>Resource=%{y}<br>Step-Rule=%{text}<extra></extra>\",\"legendgroup\":\"j7\",\"marker\":{\"color\":\"#E15F99\",\"pattern\":{\"shape\":\"\"}},\"name\":\"j7\",\"offsetgroup\":\"j7\",\"orientation\":\"h\",\"showlegend\":true,\"text\":[\"83-SPT\",\"73-MORSPT\",\"87-SPT\",\"19-MORSPT\",\"23-MORSPT\",\"29-MORSPT\",\"7-SPT\"],\"textposition\":\"auto\",\"x\":[43200000.0,57600000.0,64800000.0,32400000.0,46800000.0,32400000.0,36000000.0],\"xaxis\":\"x\",\"y\":[\"M6\",\"M4\",\"M4\",\"M3\",\"M2\",\"M2\",\"M1\"],\"yaxis\":\"y\",\"type\":\"bar\"},{\"alignmentgroup\":\"True\",\"base\":[\"1970-01-06T17:00:00\",\"1970-01-07T09:00:00\",\"1970-01-02T07:00:00\"],\"hovertemplate\":\"Type=j6<br>Start=%{base}<br>Finish=%{x}<br>Resource=%{y}<br>Step-Rule=%{text}<extra></extra>\",\"legendgroup\":\"j6\",\"marker\":{\"color\":\"#1CA71C\",\"pattern\":{\"shape\":\"\"}},\"name\":\"j6\",\"offsetgroup\":\"j6\",\"orientation\":\"h\",\"showlegend\":true,\"text\":[\"72-SPT\",\"79-SPT\",\"18-MORSPT\"],\"textposition\":\"auto\",\"x\":[46800000.0,46800000.0,32400000.0],\"xaxis\":\"x\",\"y\":[\"M6\",\"M5\",\"M2\"],\"yaxis\":\"y\",\"type\":\"bar\"},{\"alignmentgroup\":\"True\",\"base\":[\"1970-01-05T19:00:00\",\"1970-01-02T16:00:00\",\"1970-01-06T08:00:00\",\"1970-01-03T07:00:00\",\"1970-01-03T21:00:00\"],\"hovertemplate\":\"Type=j5<br>Start=%{base}<br>Finish=%{x}<br>Resource=%{y}<br>Step-Rule=%{text}<extra></extra>\",\"legendgroup\":\"j5\",\"marker\":{\"color\":\"#FB0D0D\",\"pattern\":{\"shape\":\"\"}},\"name\":\"j5\",\"offsetgroup\":\"j5\",\"orientation\":\"h\",\"showlegend\":true,\"text\":[\"61-SPT\",\"24-MORSPT\",\"68-SPT\",\"30-MORSPT\",\"36-MORSPT\"],\"textposition\":\"auto\",\"x\":[36000000.0,54000000.0,32400000.0,50400000.0,25200000.0],\"xaxis\":\"x\",\"y\":[\"M6\",\"M3\",\"M2\",\"M1\",\"M1\"],\"yaxis\":\"y\",\"type\":\"bar\"},{\"alignmentgroup\":\"True\",\"base\":[\"1970-01-03T16:00:00\",\"1970-01-01T19:00:00\",\"1970-01-01T09:00:00\",\"1970-01-01T14:00:00\",\"1970-01-06T17:00:00\"],\"hovertemplate\":\"Type=j4<br>Start=%{base}<br>Finish=%{x}<br>Resource=%{y}<br>Step-Rule=%{text}<extra></extra>\",\"legendgroup\":\"j4\",\"marker\":{\"color\":\"#DA16FF\",\"pattern\":{\"shape\":\"\"}},\"name\":\"j4\",\"offsetgroup\":\"j4\",\"orientation\":\"h\",\"showlegend\":true,\"text\":[\"35-MORSPT\",\"12-MORSPT\",\"2-SPT\",\"8-SPT\",\"71-SPT\"],\"textposition\":\"auto\",\"x\":[28800000.0,25200000.0,18000000.0,18000000.0,50400000.0],\"xaxis\":\"x\",\"y\":[\"M6\",\"M5\",\"M2\",\"M2\",\"M2\"],\"yaxis\":\"y\",\"type\":\"bar\"},{\"alignmentgroup\":\"True\",\"base\":[\"1970-01-01T09:00:00\",\"1970-01-03T02:00:00\",\"1970-01-06T05:00:00\",\"1970-01-01T14:00:00\"],\"hovertemplate\":\"Type=j3<br>Start=%{base}<br>Finish=%{x}<br>Resource=%{y}<br>Step-Rule=%{text}<extra></extra>\",\"legendgroup\":\"j3\",\"marker\":{\"color\":\"#222A2A\",\"pattern\":{\"shape\":\"\"}},\"name\":\"j3\",\"offsetgroup\":\"j3\",\"orientation\":\"h\",\"showlegend\":true,\"text\":[\"6-SPT\",\"27-MORSPT\",\"65-SPT\",\"9-MORSPT\"],\"textposition\":\"auto\",\"x\":[18000000.0,32400000.0,50400000.0,25200000.0],\"xaxis\":\"x\",\"y\":[\"M6\",\"M5\",\"M4\",\"M3\"],\"yaxis\":\"y\",\"type\":\"bar\"},{\"alignmentgroup\":\"True\",\"base\":[\"1970-01-08T20:00:00\",\"1970-01-01T09:00:00\",\"1970-01-04T11:00:00\",\"1970-01-05T19:00:00\",\"1970-01-09T13:00:00\",\"1970-01-02T00:00:00\",\"1970-01-10T01:00:00\"],\"hovertemplate\":\"Type=j2<br>Start=%{base}<br>Finish=%{x}<br>Resource=%{y}<br>Step-Rule=%{text}<extra></extra>\",\"legendgroup\":\"j2\",\"marker\":{\"color\":\"#B68100\",\"pattern\":{\"shape\":\"\"}},\"name\":\"j2\",\"offsetgroup\":\"j2\",\"orientation\":\"h\",\"showlegend\":true,\"text\":[\"94-SPT\",\"5-MORSPT\",\"43-MORSPT\",\"59-MORSPT\",\"99-SPTSSU\",\"15-MORSPT\",\"100-SPTSSU\"],\"textposition\":\"auto\",\"x\":[61200000.0,36000000.0,90000000.0,61200000.0,43200000.0,46800000.0,111600000.0],\"xaxis\":\"x\",\"y\":[\"M6\",\"M5\",\"M5\",\"M3\",\"M3\",\"M1\",\"M1\"],\"yaxis\":\"y\",\"type\":\"bar\"},{\"alignmentgroup\":\"True\",\"base\":[\"1970-01-05T02:00:00\",\"1970-01-05T14:00:00\",\"1970-01-02T02:00:00\",\"1970-01-02T12:00:00\",\"1970-01-03T11:00:00\",\"1970-01-01T09:00:00\",\"1970-01-09T00:00:00\"],\"hovertemplate\":\"Type=j19<br>Start=%{base}<br>Finish=%{x}<br>Resource=%{y}<br>Step-Rule=%{text}<extra></extra>\",\"legendgroup\":\"j19\",\"marker\":{\"color\":\"#750D86\",\"pattern\":{\"shape\":\"\"}},\"name\":\"j19\",\"offsetgroup\":\"j19\",\"orientation\":\"h\",\"showlegend\":true,\"text\":[\"50-MORSPT\",\"57-MORSPT\",\"16-MORSPT\",\"21-MORSPT\",\"33-MORSPT\",\"4-MORSPT\",\"97-SPT\"],\"textposition\":\"auto\",\"x\":[43200000.0,18000000.0,36000000.0,50400000.0,50400000.0,50400000.0,100800000.0],\"xaxis\":\"x\",\"y\":[\"M6\",\"M6\",\"M5\",\"M5\",\"M5\",\"M4\",\"M2\"],\"yaxis\":\"y\",\"type\":\"bar\"},{\"alignmentgroup\":\"True\",\"base\":[\"1970-01-01T14:00:00\",\"1970-01-02T06:00:00\",\"1970-01-06T19:00:00\",\"1970-01-03T07:00:00\",\"1970-01-03T23:00:00\",\"1970-01-07T13:00:00\",\"1970-01-08T05:00:00\",\"1970-01-08T19:00:00\"],\"hovertemplate\":\"Type=j16<br>Start=%{base}<br>Finish=%{x}<br>Resource=%{y}<br>Step-Rule=%{text}<extra></extra>\",\"legendgroup\":\"j16\",\"marker\":{\"color\":\"#EB663B\",\"pattern\":{\"shape\":\"\"}},\"name\":\"j16\",\"offsetgroup\":\"j16\",\"orientation\":\"h\",\"showlegend\":true,\"text\":[\"10-MORSPT\",\"17-MORSPT\",\"74-MORSPT\",\"31-MORSPT\",\"38-MORSPT\",\"81-SPT\",\"89-SPT\",\"92-SPT\"],\"textposition\":\"auto\",\"x\":[57600000.0,46800000.0,50400000.0,57600000.0,46800000.0,57600000.0,50400000.0,18000000.0],\"xaxis\":\"x\",\"y\":[\"M6\",\"M6\",\"M5\",\"M3\",\"M3\",\"M1\",\"M1\",\"M1\"],\"yaxis\":\"y\",\"type\":\"bar\"},{\"alignmentgroup\":\"True\",\"base\":[\"1970-01-04T14:00:00\",\"1970-01-06T09:00:00\",\"1970-01-06T20:00:00\"],\"hovertemplate\":\"Type=j15<br>Start=%{base}<br>Finish=%{x}<br>Resource=%{y}<br>Step-Rule=%{text}<extra></extra>\",\"legendgroup\":\"j15\",\"marker\":{\"color\":\"#511CFB\",\"pattern\":{\"shape\":\"\"}},\"name\":\"j15\",\"offsetgroup\":\"j15\",\"orientation\":\"h\",\"showlegend\":true,\"text\":[\"46-MORSPT\",\"69-SPT\",\"75-SPT\"],\"textposition\":\"auto\",\"x\":[43200000.0,36000000.0,61200000.0],\"xaxis\":\"x\",\"y\":[\"M6\",\"M5\",\"M1\"],\"yaxis\":\"y\",\"type\":\"bar\"},{\"alignmentgroup\":\"True\",\"base\":[\"1970-01-08T02:00:00\",\"1970-01-08T21:00:00\",\"1970-01-05T08:00:00\",\"1970-01-04T12:00:00\"],\"hovertemplate\":\"Type=j14<br>Start=%{base}<br>Finish=%{x}<br>Resource=%{y}<br>Step-Rule=%{text}<extra></extra>\",\"legendgroup\":\"j14\",\"marker\":{\"color\":\"#00A08B\",\"pattern\":{\"shape\":\"\"}},\"name\":\"j14\",\"offsetgroup\":\"j14\",\"orientation\":\"h\",\"showlegend\":true,\"text\":[\"86-SPT\",\"95-SPT\",\"54-MORSPT\",\"44-MORSPT\"],\"textposition\":\"auto\",\"x\":[64800000.0,54000000.0,39600000.0,61200000.0],\"xaxis\":\"x\",\"y\":[\"M6\",\"M4\",\"M3\",\"M2\"],\"yaxis\":\"y\",\"type\":\"bar\"},{\"alignmentgroup\":\"True\",\"base\":[\"1970-01-04T00:00:00\",\"1970-01-03T03:00:00\",\"1970-01-05T21:00:00\",\"1970-01-05T03:00:00\",\"1970-01-05T14:00:00\"],\"hovertemplate\":\"Type=j12<br>Start=%{base}<br>Finish=%{x}<br>Resource=%{y}<br>Step-Rule=%{text}<extra></extra>\",\"legendgroup\":\"j12\",\"marker\":{\"color\":\"#FB00D1\",\"pattern\":{\"shape\":\"\"}},\"name\":\"j12\",\"offsetgroup\":\"j12\",\"orientation\":\"h\",\"showlegend\":true,\"text\":[\"39-MORSPT\",\"28-MORSPT\",\"63-SPT\",\"51-MORSPT\",\"56-MORSPT\"],\"textposition\":\"auto\",\"x\":[50400000.0,68400000.0,39600000.0,39600000.0,18000000.0],\"xaxis\":\"x\",\"y\":[\"M6\",\"M4\",\"M2\",\"M1\",\"M1\"],\"yaxis\":\"y\",\"type\":\"bar\"},{\"alignmentgroup\":\"True\",\"base\":[\"1970-01-06T05:00:00\",\"1970-01-04T01:00:00\",\"1970-01-02T07:00:00\",\"1970-01-02T21:00:00\"],\"hovertemplate\":\"Type=j1<br>Start=%{base}<br>Finish=%{x}<br>Resource=%{y}<br>Step-Rule=%{text}<extra></extra>\",\"legendgroup\":\"j1\",\"marker\":{\"color\":\"#FC0080\",\"pattern\":{\"shape\":\"\"}},\"name\":\"j1\",\"offsetgroup\":\"j1\",\"orientation\":\"h\",\"showlegend\":true,\"text\":[\"66-SPT\",\"40-MORSPT\",\"20-MORSPT\",\"26-MORSPT\"],\"textposition\":\"auto\",\"x\":[43200000.0,36000000.0,50400000.0,21600000.0],\"xaxis\":\"x\",\"y\":[\"M6\",\"M5\",\"M4\",\"M4\"],\"yaxis\":\"y\",\"type\":\"bar\"},{\"alignmentgroup\":\"True\",\"base\":[\"1970-01-09T13:00:00\",\"1970-01-09T16:00:00\",\"1970-01-09T22:00:00\",\"1970-01-10T01:00:00\",\"1970-01-10T03:00:00\",\"1970-01-10T04:00:00\",\"1970-01-10T05:00:00\",\"1970-01-10T03:00:00\",\"1970-01-10T04:00:00\",\"1970-01-10T05:00:00\",\"1970-01-09T12:00:00\",\"1970-01-09T13:00:00\",\"1970-01-09T16:00:00\",\"1970-01-09T22:00:00\",\"1970-01-10T01:00:00\",\"1970-01-10T03:00:00\",\"1970-01-10T04:00:00\",\"1970-01-10T05:00:00\",\"1970-01-09T11:00:00\",\"1970-01-09T12:00:00\",\"1970-01-10T01:00:00\",\"1970-01-10T03:00:00\",\"1970-01-10T04:00:00\",\"1970-01-10T05:00:00\",\"1970-01-10T04:00:00\",\"1970-01-10T05:00:00\",\"1970-01-09T22:00:00\"],\"hovertemplate\":\"Type=delay_machine<br>Start=%{base}<br>Finish=%{x}<br>Resource=%{y}<br>Step-Rule=%{text}<extra></extra>\",\"legendgroup\":\"delay_machine\",\"marker\":{\"color\":\"#B2828D\",\"pattern\":{\"shape\":\"\"}},\"name\":\"delay_machine\",\"offsetgroup\":\"delay_machine\",\"orientation\":\"h\",\"showlegend\":true,\"text\":[\"100-DDA\",\"100-DDA\",\"100-DDA\",\"101-DDA\",\"101-DDA\",\"101-DDA\",\"101-DDA\",\"101-DDA\",\"101-DDA\",\"101-DDA\",\"99-DDA\",\"100-DDA\",\"100-DDA\",\"100-DDA\",\"101-DDA\",\"101-DDA\",\"101-DDA\",\"101-DDA\",\"99-DDA\",\"99-DDA\",\"101-DDA\",\"101-DDA\",\"101-DDA\",\"101-DDA\",\"101-DDA\",\"101-DDA\",\"100-DDA\"],\"textposition\":\"auto\",\"x\":[10800000.0,21600000.0,10800000.0,7200000.0,3600000.0,3600000.0,97200000.0,3600000.0,3600000.0,97200000.0,3600000.0,10800000.0,21600000.0,10800000.0,7200000.0,3600000.0,3600000.0,97200000.0,3600000.0,3600000.0,7200000.0,3600000.0,3600000.0,97200000.0,3600000.0,97200000.0,10800000.0],\"xaxis\":\"x\",\"y\":[\"M6\",\"M6\",\"M6\",\"M6\",\"M6\",\"M6\",\"M6\",\"M5\",\"M5\",\"M5\",\"M4\",\"M4\",\"M4\",\"M4\",\"M4\",\"M4\",\"M4\",\"M4\",\"M3\",\"M3\",\"M3\",\"M3\",\"M3\",\"M3\",\"M2\",\"M2\",\"M1\"],\"yaxis\":\"y\",\"type\":\"bar\"},{\"alignmentgroup\":\"True\",\"base\":[\"1970-01-07T22:00:00\",\"1970-01-08T14:00:00\",\"1970-01-09T04:00:00\",\"1970-01-01T21:00:00\"],\"hovertemplate\":\"Type=j13<br>Start=%{base}<br>Finish=%{x}<br>Resource=%{y}<br>Step-Rule=%{text}<extra></extra>\",\"legendgroup\":\"j13\",\"marker\":{\"color\":\"#6C7C32\",\"pattern\":{\"shape\":\"\"}},\"name\":\"j13\",\"offsetgroup\":\"j13\",\"orientation\":\"h\",\"showlegend\":true,\"text\":[\"84-SPT\",\"91-SPT\",\"98-SPT\",\"13-MORSPT\"],\"textposition\":\"auto\",\"x\":[57600000.0,50400000.0,82800000.0,36000000.0],\"xaxis\":\"x\",\"y\":[\"M5\",\"M5\",\"M5\",\"M3\"],\"yaxis\":\"y\",\"type\":\"bar\"},{\"alignmentgroup\":\"True\",\"base\":[\"1970-01-05T12:00:00\",\"1970-01-05T20:00:00\",\"1970-01-06T03:00:00\",\"1970-01-02T13:00:00\",\"1970-01-04T04:00:00\",\"1970-01-04T20:00:00\"],\"hovertemplate\":\"Type=j11<br>Start=%{base}<br>Finish=%{x}<br>Resource=%{y}<br>Step-Rule=%{text}<extra></extra>\",\"legendgroup\":\"j11\",\"marker\":{\"color\":\"#778AAE\",\"pattern\":{\"shape\":\"\"}},\"name\":\"j11\",\"offsetgroup\":\"j11\",\"orientation\":\"h\",\"showlegend\":true,\"text\":[\"55-MORSPT\",\"62-SPT\",\"64-SPT\",\"22-MORSPT\",\"41-MORSPT\",\"48-MORSPT\"],\"textposition\":\"auto\",\"x\":[28800000.0,25200000.0,21600000.0,64800000.0,57600000.0,25200000.0],\"xaxis\":\"x\",\"y\":[\"M5\",\"M5\",\"M5\",\"M1\",\"M1\",\"M1\"],\"yaxis\":\"y\",\"type\":\"bar\"},{\"alignmentgroup\":\"True\",\"base\":[\"1970-01-01T23:00:00\",\"1970-01-01T09:00:00\",\"1970-01-07T13:00:00\",\"1970-01-08T04:00:00\"],\"hovertemplate\":\"Type=j8<br>Start=%{base}<br>Finish=%{x}<br>Resource=%{y}<br>Step-Rule=%{text}<extra></extra>\",\"legendgroup\":\"j8\",\"marker\":{\"color\":\"#862A16\",\"pattern\":{\"shape\":\"\"}},\"name\":\"j8\",\"offsetgroup\":\"j8\",\"orientation\":\"h\",\"showlegend\":true,\"text\":[\"14-MORSPT\",\"3-SPT\",\"82-SPT\",\"88-SPT\"],\"textposition\":\"auto\",\"x\":[28800000.0,18000000.0,54000000.0,54000000.0],\"xaxis\":\"x\",\"y\":[\"M4\",\"M3\",\"M3\",\"M3\"],\"yaxis\":\"y\",\"type\":\"bar\"},{\"alignmentgroup\":\"True\",\"base\":[\"1970-01-05T04:00:00\",\"1970-01-06T12:00:00\",\"1970-01-07T03:00:00\",\"1970-01-03T14:00:00\",\"1970-01-04T07:00:00\",\"1970-01-05T19:00:00\"],\"hovertemplate\":\"Type=j20<br>Start=%{base}<br>Finish=%{x}<br>Resource=%{y}<br>Step-Rule=%{text}<extra></extra>\",\"legendgroup\":\"j20\",\"marker\":{\"color\":\"#A777F1\",\"pattern\":{\"shape\":\"\"}},\"name\":\"j20\",\"offsetgroup\":\"j20\",\"orientation\":\"h\",\"showlegend\":true,\"text\":[\"52-MORSPT\",\"70-SPT\",\"76-SPT\",\"34-MORSPT\",\"42-MORSPT\",\"58-MORSPT\"],\"textposition\":\"auto\",\"x\":[54000000.0,54000000.0,36000000.0,61200000.0,18000000.0,46800000.0],\"xaxis\":\"x\",\"y\":[\"M4\",\"M3\",\"M3\",\"M2\",\"M2\",\"M1\"],\"yaxis\":\"y\",\"type\":\"bar\"},{\"alignmentgroup\":\"True\",\"base\":[\"1970-01-03T22:00:00\",\"1970-01-04T17:00:00\",\"1970-01-08T19:00:00\",\"1970-01-07T07:00:00\",\"1970-01-07T23:00:00\"],\"hovertemplate\":\"Type=j18<br>Start=%{base}<br>Finish=%{x}<br>Resource=%{y}<br>Step-Rule=%{text}<extra></extra>\",\"legendgroup\":\"j18\",\"marker\":{\"color\":\"#620042\",\"pattern\":{\"shape\":\"\"}},\"name\":\"j18\",\"offsetgroup\":\"j18\",\"orientation\":\"h\",\"showlegend\":true,\"text\":[\"37-MORSPT\",\"47-MORSPT\",\"93-SPT\",\"78-MORSPT\",\"85-SPT\"],\"textposition\":\"auto\",\"x\":[68400000.0,39600000.0,57600000.0,57600000.0,39600000.0],\"xaxis\":\"x\",\"y\":[\"M4\",\"M4\",\"M3\",\"M2\",\"M2\"],\"yaxis\":\"y\",\"type\":\"bar\"},{\"alignmentgroup\":\"True\",\"base\":[\"1970-01-07T11:00:00\",\"1970-01-05T05:00:00\",\"1970-01-08T10:00:00\",\"1970-01-09T00:00:00\"],\"hovertemplate\":\"Type=j17<br>Start=%{base}<br>Finish=%{x}<br>Resource=%{y}<br>Step-Rule=%{text}<extra></extra>\",\"legendgroup\":\"j17\",\"marker\":{\"color\":\"#1616A7\",\"pattern\":{\"shape\":\"\"}},\"name\":\"j17\",\"offsetgroup\":\"j17\",\"orientation\":\"h\",\"showlegend\":true,\"text\":[\"80-SPT\",\"53-MORSPT\",\"90-SPT\",\"96-SPT\"],\"textposition\":\"auto\",\"x\":[57600000.0,57600000.0,50400000.0,79200000.0],\"xaxis\":\"x\",\"y\":[\"M4\",\"M2\",\"M2\",\"M1\"],\"yaxis\":\"y\",\"type\":\"bar\"},{\"alignmentgroup\":\"True\",\"base\":[\"1970-01-05T19:00:00\",\"1970-01-04T12:00:00\",\"1970-01-05T01:00:00\",\"1970-01-01T09:00:00\"],\"hovertemplate\":\"Type=j10<br>Start=%{base}<br>Finish=%{x}<br>Resource=%{y}<br>Step-Rule=%{text}<extra></extra>\",\"legendgroup\":\"j10\",\"marker\":{\"color\":\"#DA60CA\",\"pattern\":{\"shape\":\"\"}},\"name\":\"j10\",\"offsetgroup\":\"j10\",\"orientation\":\"h\",\"showlegend\":true,\"text\":[\"60-SPT\",\"45-MORSPT\",\"49-MORSPT\",\"1-SPT\"],\"textposition\":\"auto\",\"x\":[36000000.0,46800000.0,25200000.0,18000000.0],\"xaxis\":\"x\",\"y\":[\"M4\",\"M3\",\"M3\",\"M1\"],\"yaxis\":\"y\",\"type\":\"bar\"},{\"alignmentgroup\":\"True\",\"base\":[\"1970-01-01T14:00:00\",\"1970-01-02T19:00:00\",\"1970-01-03T16:00:00\",\"1970-01-04T00:00:00\",\"1970-01-04T14:00:00\",\"1970-01-05T02:00:00\",\"1970-01-05T19:00:00\",\"1970-01-06T05:00:00\",\"1970-01-06T17:00:00\",\"1970-01-07T06:00:00\",\"1970-01-07T14:00:00\",\"1970-01-08T02:00:00\",\"1970-01-08T20:00:00\",\"1970-01-01T19:00:00\",\"1970-01-02T02:00:00\",\"1970-01-03T02:00:00\",\"1970-01-03T11:00:00\",\"1970-01-04T01:00:00\",\"1970-01-04T11:00:00\",\"1970-01-05T12:00:00\",\"1970-01-06T09:00:00\",\"1970-01-07T09:00:00\",\"1970-01-07T22:00:00\",\"1970-01-01T23:00:00\",\"1970-01-02T07:00:00\",\"1970-01-03T03:00:00\",\"1970-01-03T22:00:00\",\"1970-01-05T04:00:00\",\"1970-01-05T19:00:00\",\"1970-01-06T05:00:00\",\"1970-01-06T19:00:00\",\"1970-01-07T11:00:00\",\"1970-01-08T03:00:00\",\"1970-01-08T21:00:00\",\"1970-01-01T14:00:00\",\"1970-01-01T21:00:00\",\"1970-01-02T07:00:00\",\"1970-01-02T16:00:00\",\"1970-01-03T07:00:00\",\"1970-01-04T12:00:00\",\"1970-01-05T08:00:00\",\"1970-01-05T19:00:00\",\"1970-01-06T12:00:00\",\"1970-01-07T13:00:00\",\"1970-01-08T19:00:00\",\"1970-01-09T13:00:00\",\"1970-01-01T19:00:00\",\"1970-01-02T07:00:00\",\"1970-01-02T16:00:00\",\"1970-01-03T14:00:00\",\"1970-01-04T12:00:00\",\"1970-01-05T05:00:00\",\"1970-01-05T21:00:00\",\"1970-01-06T08:00:00\",\"1970-01-06T17:00:00\",\"1970-01-07T07:00:00\",\"1970-01-08T10:00:00\",\"1970-01-09T00:00:00\",\"1970-01-01T14:00:00\",\"1970-01-02T00:00:00\",\"1970-01-02T13:00:00\",\"1970-01-03T07:00:00\",\"1970-01-04T04:00:00\",\"1970-01-05T03:00:00\",\"1970-01-05T19:00:00\",\"1970-01-06T08:00:00\",\"1970-01-06T20:00:00\",\"1970-01-09T00:00:00\",\"1970-01-10T01:00:00\"],\"hovertemplate\":\"Type=setup<br>Start=%{base}<br>Finish=%{x}<br>Resource=%{y}<br>Step-Rule=%{text}<extra></extra>\",\"legendgroup\":\"setup\",\"marker\":{\"color\":\"#6C4516\",\"pattern\":{\"shape\":\"\"}},\"name\":\"setup\",\"offsetgroup\":\"setup\",\"orientation\":\"h\",\"showlegend\":true,\"text\":\"\",\"textposition\":\"auto\",\"x\":[14400000.0,10800000.0,7200000.0,7200000.0,7200000.0,7200000.0,10800000.0,10800000.0,10800000.0,3600000.0,3600000.0,10800000.0,3600000.0,7200000.0,10800000.0,10800000.0,7200000.0,10800000.0,10800000.0,7200000.0,7200000.0,3600000.0,7200000.0,7200000.0,7200000.0,10800000.0,10800000.0,10800000.0,3600000.0,14400000.0,10800000.0,10800000.0,3600000.0,10800000.0,7200000.0,10800000.0,10800000.0,7200000.0,7200000.0,7200000.0,3600000.0,3600000.0,10800000.0,7200000.0,10800000.0,10800000.0,14400000.0,10800000.0,10800000.0,3600000.0,14400000.0,10800000.0,14400000.0,14400000.0,10800000.0,14400000.0,10800000.0,14400000.0,14400000.0,7200000.0,7200000.0,10800000.0,7200000.0,14400000.0,10800000.0,10800000.0,7200000.0,10800000.0,14400000.0],\"xaxis\":\"x\",\"y\":[\"M6\",\"M6\",\"M6\",\"M6\",\"M6\",\"M6\",\"M6\",\"M6\",\"M6\",\"M6\",\"M6\",\"M6\",\"M6\",\"M5\",\"M5\",\"M5\",\"M5\",\"M5\",\"M5\",\"M5\",\"M5\",\"M5\",\"M5\",\"M4\",\"M4\",\"M4\",\"M4\",\"M4\",\"M4\",\"M4\",\"M4\",\"M4\",\"M4\",\"M4\",\"M3\",\"M3\",\"M3\",\"M3\",\"M3\",\"M3\",\"M3\",\"M3\",\"M3\",\"M3\",\"M3\",\"M3\",\"M2\",\"M2\",\"M2\",\"M2\",\"M2\",\"M2\",\"M2\",\"M2\",\"M2\",\"M2\",\"M2\",\"M2\",\"M1\",\"M1\",\"M1\",\"M1\",\"M1\",\"M1\",\"M1\",\"M1\",\"M1\",\"M1\",\"M1\"],\"yaxis\":\"y\",\"type\":\"bar\",\"width\":0.7}],                        {\"template\":{\"data\":{\"barpolar\":[{\"marker\":{\"line\":{\"color\":\"white\",\"width\":0.5},\"pattern\":{\"fillmode\":\"overlay\",\"size\":10,\"solidity\":0.2}},\"type\":\"barpolar\"}],\"bar\":[{\"error_x\":{\"color\":\"rgb(36,36,36)\"},\"error_y\":{\"color\":\"rgb(36,36,36)\"},\"marker\":{\"line\":{\"color\":\"white\",\"width\":0.5},\"pattern\":{\"fillmode\":\"overlay\",\"size\":10,\"solidity\":0.2}},\"type\":\"bar\"}],\"carpet\":[{\"aaxis\":{\"endlinecolor\":\"rgb(36,36,36)\",\"gridcolor\":\"white\",\"linecolor\":\"white\",\"minorgridcolor\":\"white\",\"startlinecolor\":\"rgb(36,36,36)\"},\"baxis\":{\"endlinecolor\":\"rgb(36,36,36)\",\"gridcolor\":\"white\",\"linecolor\":\"white\",\"minorgridcolor\":\"white\",\"startlinecolor\":\"rgb(36,36,36)\"},\"type\":\"carpet\"}],\"choropleth\":[{\"colorbar\":{\"outlinewidth\":1,\"tickcolor\":\"rgb(36,36,36)\",\"ticks\":\"outside\"},\"type\":\"choropleth\"}],\"contourcarpet\":[{\"colorbar\":{\"outlinewidth\":1,\"tickcolor\":\"rgb(36,36,36)\",\"ticks\":\"outside\"},\"type\":\"contourcarpet\"}],\"contour\":[{\"colorbar\":{\"outlinewidth\":1,\"tickcolor\":\"rgb(36,36,36)\",\"ticks\":\"outside\"},\"colorscale\":[[0.0,\"#440154\"],[0.1111111111111111,\"#482878\"],[0.2222222222222222,\"#3e4989\"],[0.3333333333333333,\"#31688e\"],[0.4444444444444444,\"#26828e\"],[0.5555555555555556,\"#1f9e89\"],[0.6666666666666666,\"#35b779\"],[0.7777777777777778,\"#6ece58\"],[0.8888888888888888,\"#b5de2b\"],[1.0,\"#fde725\"]],\"type\":\"contour\"}],\"heatmapgl\":[{\"colorbar\":{\"outlinewidth\":1,\"tickcolor\":\"rgb(36,36,36)\",\"ticks\":\"outside\"},\"colorscale\":[[0.0,\"#440154\"],[0.1111111111111111,\"#482878\"],[0.2222222222222222,\"#3e4989\"],[0.3333333333333333,\"#31688e\"],[0.4444444444444444,\"#26828e\"],[0.5555555555555556,\"#1f9e89\"],[0.6666666666666666,\"#35b779\"],[0.7777777777777778,\"#6ece58\"],[0.8888888888888888,\"#b5de2b\"],[1.0,\"#fde725\"]],\"type\":\"heatmapgl\"}],\"heatmap\":[{\"colorbar\":{\"outlinewidth\":1,\"tickcolor\":\"rgb(36,36,36)\",\"ticks\":\"outside\"},\"colorscale\":[[0.0,\"#440154\"],[0.1111111111111111,\"#482878\"],[0.2222222222222222,\"#3e4989\"],[0.3333333333333333,\"#31688e\"],[0.4444444444444444,\"#26828e\"],[0.5555555555555556,\"#1f9e89\"],[0.6666666666666666,\"#35b779\"],[0.7777777777777778,\"#6ece58\"],[0.8888888888888888,\"#b5de2b\"],[1.0,\"#fde725\"]],\"type\":\"heatmap\"}],\"histogram2dcontour\":[{\"colorbar\":{\"outlinewidth\":1,\"tickcolor\":\"rgb(36,36,36)\",\"ticks\":\"outside\"},\"colorscale\":[[0.0,\"#440154\"],[0.1111111111111111,\"#482878\"],[0.2222222222222222,\"#3e4989\"],[0.3333333333333333,\"#31688e\"],[0.4444444444444444,\"#26828e\"],[0.5555555555555556,\"#1f9e89\"],[0.6666666666666666,\"#35b779\"],[0.7777777777777778,\"#6ece58\"],[0.8888888888888888,\"#b5de2b\"],[1.0,\"#fde725\"]],\"type\":\"histogram2dcontour\"}],\"histogram2d\":[{\"colorbar\":{\"outlinewidth\":1,\"tickcolor\":\"rgb(36,36,36)\",\"ticks\":\"outside\"},\"colorscale\":[[0.0,\"#440154\"],[0.1111111111111111,\"#482878\"],[0.2222222222222222,\"#3e4989\"],[0.3333333333333333,\"#31688e\"],[0.4444444444444444,\"#26828e\"],[0.5555555555555556,\"#1f9e89\"],[0.6666666666666666,\"#35b779\"],[0.7777777777777778,\"#6ece58\"],[0.8888888888888888,\"#b5de2b\"],[1.0,\"#fde725\"]],\"type\":\"histogram2d\"}],\"histogram\":[{\"marker\":{\"line\":{\"color\":\"white\",\"width\":0.6}},\"type\":\"histogram\"}],\"mesh3d\":[{\"colorbar\":{\"outlinewidth\":1,\"tickcolor\":\"rgb(36,36,36)\",\"ticks\":\"outside\"},\"type\":\"mesh3d\"}],\"parcoords\":[{\"line\":{\"colorbar\":{\"outlinewidth\":1,\"tickcolor\":\"rgb(36,36,36)\",\"ticks\":\"outside\"}},\"type\":\"parcoords\"}],\"pie\":[{\"automargin\":true,\"type\":\"pie\"}],\"scatter3d\":[{\"line\":{\"colorbar\":{\"outlinewidth\":1,\"tickcolor\":\"rgb(36,36,36)\",\"ticks\":\"outside\"}},\"marker\":{\"colorbar\":{\"outlinewidth\":1,\"tickcolor\":\"rgb(36,36,36)\",\"ticks\":\"outside\"}},\"type\":\"scatter3d\"}],\"scattercarpet\":[{\"marker\":{\"colorbar\":{\"outlinewidth\":1,\"tickcolor\":\"rgb(36,36,36)\",\"ticks\":\"outside\"}},\"type\":\"scattercarpet\"}],\"scattergeo\":[{\"marker\":{\"colorbar\":{\"outlinewidth\":1,\"tickcolor\":\"rgb(36,36,36)\",\"ticks\":\"outside\"}},\"type\":\"scattergeo\"}],\"scattergl\":[{\"marker\":{\"colorbar\":{\"outlinewidth\":1,\"tickcolor\":\"rgb(36,36,36)\",\"ticks\":\"outside\"}},\"type\":\"scattergl\"}],\"scattermapbox\":[{\"marker\":{\"colorbar\":{\"outlinewidth\":1,\"tickcolor\":\"rgb(36,36,36)\",\"ticks\":\"outside\"}},\"type\":\"scattermapbox\"}],\"scatterpolargl\":[{\"marker\":{\"colorbar\":{\"outlinewidth\":1,\"tickcolor\":\"rgb(36,36,36)\",\"ticks\":\"outside\"}},\"type\":\"scatterpolargl\"}],\"scatterpolar\":[{\"marker\":{\"colorbar\":{\"outlinewidth\":1,\"tickcolor\":\"rgb(36,36,36)\",\"ticks\":\"outside\"}},\"type\":\"scatterpolar\"}],\"scatter\":[{\"fillpattern\":{\"fillmode\":\"overlay\",\"size\":10,\"solidity\":0.2},\"type\":\"scatter\"}],\"scatterternary\":[{\"marker\":{\"colorbar\":{\"outlinewidth\":1,\"tickcolor\":\"rgb(36,36,36)\",\"ticks\":\"outside\"}},\"type\":\"scatterternary\"}],\"surface\":[{\"colorbar\":{\"outlinewidth\":1,\"tickcolor\":\"rgb(36,36,36)\",\"ticks\":\"outside\"},\"colorscale\":[[0.0,\"#440154\"],[0.1111111111111111,\"#482878\"],[0.2222222222222222,\"#3e4989\"],[0.3333333333333333,\"#31688e\"],[0.4444444444444444,\"#26828e\"],[0.5555555555555556,\"#1f9e89\"],[0.6666666666666666,\"#35b779\"],[0.7777777777777778,\"#6ece58\"],[0.8888888888888888,\"#b5de2b\"],[1.0,\"#fde725\"]],\"type\":\"surface\"}],\"table\":[{\"cells\":{\"fill\":{\"color\":\"rgb(237,237,237)\"},\"line\":{\"color\":\"white\"}},\"header\":{\"fill\":{\"color\":\"rgb(217,217,217)\"},\"line\":{\"color\":\"white\"}},\"type\":\"table\"}]},\"layout\":{\"annotationdefaults\":{\"arrowhead\":0,\"arrowwidth\":1},\"autotypenumbers\":\"strict\",\"coloraxis\":{\"colorbar\":{\"outlinewidth\":1,\"tickcolor\":\"rgb(36,36,36)\",\"ticks\":\"outside\"}},\"colorscale\":{\"diverging\":[[0.0,\"rgb(103,0,31)\"],[0.1,\"rgb(178,24,43)\"],[0.2,\"rgb(214,96,77)\"],[0.3,\"rgb(244,165,130)\"],[0.4,\"rgb(253,219,199)\"],[0.5,\"rgb(247,247,247)\"],[0.6,\"rgb(209,229,240)\"],[0.7,\"rgb(146,197,222)\"],[0.8,\"rgb(67,147,195)\"],[0.9,\"rgb(33,102,172)\"],[1.0,\"rgb(5,48,97)\"]],\"sequential\":[[0.0,\"#440154\"],[0.1111111111111111,\"#482878\"],[0.2222222222222222,\"#3e4989\"],[0.3333333333333333,\"#31688e\"],[0.4444444444444444,\"#26828e\"],[0.5555555555555556,\"#1f9e89\"],[0.6666666666666666,\"#35b779\"],[0.7777777777777778,\"#6ece58\"],[0.8888888888888888,\"#b5de2b\"],[1.0,\"#fde725\"]],\"sequentialminus\":[[0.0,\"#440154\"],[0.1111111111111111,\"#482878\"],[0.2222222222222222,\"#3e4989\"],[0.3333333333333333,\"#31688e\"],[0.4444444444444444,\"#26828e\"],[0.5555555555555556,\"#1f9e89\"],[0.6666666666666666,\"#35b779\"],[0.7777777777777778,\"#6ece58\"],[0.8888888888888888,\"#b5de2b\"],[1.0,\"#fde725\"]]},\"colorway\":[\"#1F77B4\",\"#FF7F0E\",\"#2CA02C\",\"#D62728\",\"#9467BD\",\"#8C564B\",\"#E377C2\",\"#7F7F7F\",\"#BCBD22\",\"#17BECF\"],\"font\":{\"color\":\"rgb(36,36,36)\"},\"geo\":{\"bgcolor\":\"white\",\"lakecolor\":\"white\",\"landcolor\":\"white\",\"showlakes\":true,\"showland\":true,\"subunitcolor\":\"white\"},\"hoverlabel\":{\"align\":\"left\"},\"hovermode\":\"closest\",\"mapbox\":{\"style\":\"light\"},\"paper_bgcolor\":\"white\",\"plot_bgcolor\":\"white\",\"polar\":{\"angularaxis\":{\"gridcolor\":\"rgb(232,232,232)\",\"linecolor\":\"rgb(36,36,36)\",\"showgrid\":false,\"showline\":true,\"ticks\":\"outside\"},\"bgcolor\":\"white\",\"radialaxis\":{\"gridcolor\":\"rgb(232,232,232)\",\"linecolor\":\"rgb(36,36,36)\",\"showgrid\":false,\"showline\":true,\"ticks\":\"outside\"}},\"scene\":{\"xaxis\":{\"backgroundcolor\":\"white\",\"gridcolor\":\"rgb(232,232,232)\",\"gridwidth\":2,\"linecolor\":\"rgb(36,36,36)\",\"showbackground\":true,\"showgrid\":false,\"showline\":true,\"ticks\":\"outside\",\"zeroline\":false,\"zerolinecolor\":\"rgb(36,36,36)\"},\"yaxis\":{\"backgroundcolor\":\"white\",\"gridcolor\":\"rgb(232,232,232)\",\"gridwidth\":2,\"linecolor\":\"rgb(36,36,36)\",\"showbackground\":true,\"showgrid\":false,\"showline\":true,\"ticks\":\"outside\",\"zeroline\":false,\"zerolinecolor\":\"rgb(36,36,36)\"},\"zaxis\":{\"backgroundcolor\":\"white\",\"gridcolor\":\"rgb(232,232,232)\",\"gridwidth\":2,\"linecolor\":\"rgb(36,36,36)\",\"showbackground\":true,\"showgrid\":false,\"showline\":true,\"ticks\":\"outside\",\"zeroline\":false,\"zerolinecolor\":\"rgb(36,36,36)\"}},\"shapedefaults\":{\"fillcolor\":\"black\",\"line\":{\"width\":0},\"opacity\":0.3},\"ternary\":{\"aaxis\":{\"gridcolor\":\"rgb(232,232,232)\",\"linecolor\":\"rgb(36,36,36)\",\"showgrid\":false,\"showline\":true,\"ticks\":\"outside\"},\"baxis\":{\"gridcolor\":\"rgb(232,232,232)\",\"linecolor\":\"rgb(36,36,36)\",\"showgrid\":false,\"showline\":true,\"ticks\":\"outside\"},\"bgcolor\":\"white\",\"caxis\":{\"gridcolor\":\"rgb(232,232,232)\",\"linecolor\":\"rgb(36,36,36)\",\"showgrid\":false,\"showline\":true,\"ticks\":\"outside\"}},\"title\":{\"x\":0.05},\"xaxis\":{\"automargin\":true,\"gridcolor\":\"rgb(232,232,232)\",\"linecolor\":\"rgb(36,36,36)\",\"showgrid\":false,\"showline\":true,\"ticks\":\"outside\",\"title\":{\"standoff\":15},\"zeroline\":false,\"zerolinecolor\":\"rgb(36,36,36)\"},\"yaxis\":{\"automargin\":true,\"gridcolor\":\"rgb(232,232,232)\",\"linecolor\":\"rgb(36,36,36)\",\"showgrid\":false,\"showline\":true,\"ticks\":\"outside\",\"title\":{\"standoff\":15},\"zeroline\":false,\"zerolinecolor\":\"rgb(36,36,36)\"}}},\"xaxis\":{\"anchor\":\"y\",\"domain\":[0.0,1.0],\"type\":\"date\"},\"yaxis\":{\"anchor\":\"x\",\"domain\":[0.0,1.0],\"title\":{\"text\":\"Resource\"}},\"legend\":{\"title\":{\"text\":\"Type\"},\"tracegroupgap\":0},\"margin\":{\"t\":60},\"barmode\":\"overlay\",\"height\":800,\"width\":2000},                        {\"responsive\": true}                    ).then(function(){\n",
       "                            \n",
       "var gd = document.getElementById('4c8e57c1-0591-4064-8105-7474a8664dd8');\n",
       "var x = new MutationObserver(function (mutations, observer) {{\n",
       "        var display = window.getComputedStyle(gd).display;\n",
       "        if (!display || display === 'none') {{\n",
       "            console.log([gd, 'removed!']);\n",
       "            Plotly.purge(gd);\n",
       "            observer.disconnect();\n",
       "        }}\n",
       "}});\n",
       "\n",
       "// Listen for the removal of the full notebook cells\n",
       "var notebookContainer = gd.closest('#notebook-container');\n",
       "if (notebookContainer) {{\n",
       "    x.observe(notebookContainer, {childList: true});\n",
       "}}\n",
       "\n",
       "// Listen for the clearing of the current output cell\n",
       "var outputEl = gd.closest('.output');\n",
       "if (outputEl) {{\n",
       "    x.observe(outputEl, {childList: true});\n",
       "}}\n",
       "\n",
       "                        })                };                });            </script>        </div>"
      ]
     },
     "metadata": {},
     "output_type": "display_data"
    },
    {
     "data": {
      "application/vnd.plotly.v1+json": {
       "config": {
        "plotlyServerURL": "https://plot.ly"
       },
       "data": [
        {
         "alignmentgroup": "True",
         "base": [
          "1970-01-02T19:00:00",
          "1970-01-03T08:00:00",
          "1970-01-03T16:00:00",
          "1970-01-05T02:00:00",
          "1970-01-05T14:00:00",
          "1970-01-01T14:00:00",
          "1970-01-02T06:00:00",
          "1970-01-04T14:00:00",
          "1970-01-04T00:00:00",
          "1970-01-01T19:00:00",
          "1970-01-03T02:00:00",
          "1970-01-01T09:00:00",
          "1970-01-04T11:00:00",
          "1970-01-02T02:00:00",
          "1970-01-02T12:00:00",
          "1970-01-03T11:00:00",
          "1970-01-06T19:00:00",
          "1970-01-05T12:00:00",
          "1970-01-04T01:00:00",
          "1970-01-01T23:00:00",
          "1970-01-06T19:00:00",
          "1970-01-05T04:00:00",
          "1970-01-01T09:00:00",
          "1970-01-03T22:00:00",
          "1970-01-04T17:00:00",
          "1970-01-03T03:00:00",
          "1970-01-02T07:00:00",
          "1970-01-02T21:00:00",
          "1970-01-02T07:00:00",
          "1970-01-02T16:00:00",
          "1970-01-01T14:00:00",
          "1970-01-05T19:00:00",
          "1970-01-03T07:00:00",
          "1970-01-03T23:00:00",
          "1970-01-05T08:00:00",
          "1970-01-01T21:00:00",
          "1970-01-04T12:00:00",
          "1970-01-05T01:00:00",
          "1970-01-01T19:00:00",
          "1970-01-02T16:00:00",
          "1970-01-03T05:00:00",
          "1970-01-02T07:00:00",
          "1970-01-03T14:00:00",
          "1970-01-04T07:00:00",
          "1970-01-07T07:00:00",
          "1970-01-05T05:00:00",
          "1970-01-04T12:00:00",
          "1970-01-03T07:00:00",
          "1970-01-03T21:00:00",
          "1970-01-05T19:00:00",
          "1970-01-02T00:00:00",
          "1970-01-05T03:00:00",
          "1970-01-05T14:00:00",
          "1970-01-02T13:00:00",
          "1970-01-04T04:00:00",
          "1970-01-04T20:00:00"
         ],
         "hovertemplate": "Rule=%{y}<br>Start=%{base}<br>Finish=%{x}<br>Step-Rule=%{text}<extra></extra>",
         "legendgroup": "MORSPT",
         "marker": {
          "color": "#2E91E5",
          "pattern": {
           "shape": ""
          }
         },
         "name": "MORSPT",
         "offsetgroup": "MORSPT",
         "orientation": "h",
         "showlegend": true,
         "text": [
          "25-MORSPT",
          "32-MORSPT",
          "35-MORSPT",
          "50-MORSPT",
          "57-MORSPT",
          "10-MORSPT",
          "17-MORSPT",
          "46-MORSPT",
          "39-MORSPT",
          "12-MORSPT",
          "27-MORSPT",
          "5-MORSPT",
          "43-MORSPT",
          "16-MORSPT",
          "21-MORSPT",
          "33-MORSPT",
          "74-MORSPT",
          "55-MORSPT",
          "40-MORSPT",
          "14-MORSPT",
          "73-MORSPT",
          "52-MORSPT",
          "4-MORSPT",
          "37-MORSPT",
          "47-MORSPT",
          "28-MORSPT",
          "20-MORSPT",
          "26-MORSPT",
          "19-MORSPT",
          "24-MORSPT",
          "9-MORSPT",
          "59-MORSPT",
          "31-MORSPT",
          "38-MORSPT",
          "54-MORSPT",
          "13-MORSPT",
          "45-MORSPT",
          "49-MORSPT",
          "11-MORSPT",
          "23-MORSPT",
          "29-MORSPT",
          "18-MORSPT",
          "34-MORSPT",
          "42-MORSPT",
          "78-MORSPT",
          "53-MORSPT",
          "44-MORSPT",
          "30-MORSPT",
          "36-MORSPT",
          "58-MORSPT",
          "15-MORSPT",
          "51-MORSPT",
          "56-MORSPT",
          "22-MORSPT",
          "41-MORSPT",
          "48-MORSPT"
         ],
         "textposition": "auto",
         "type": "bar",
         "x": [
          46800000,
          28800000,
          28800000,
          43200000,
          18000000,
          57600000,
          46800000,
          43200000,
          50400000,
          25200000,
          32400000,
          36000000,
          90000000,
          36000000,
          50400000,
          50400000,
          50400000,
          28800000,
          36000000,
          28800000,
          57600000,
          54000000,
          50400000,
          68400000,
          39600000,
          68400000,
          50400000,
          21600000,
          32400000,
          54000000,
          25200000,
          61200000,
          57600000,
          46800000,
          39600000,
          36000000,
          46800000,
          25200000,
          43200000,
          46800000,
          32400000,
          32400000,
          61200000,
          18000000,
          57600000,
          57600000,
          61200000,
          50400000,
          25200000,
          46800000,
          46800000,
          39600000,
          18000000,
          64800000,
          57600000,
          25200000
         ],
         "xaxis": "x",
         "y": [
          "MORSPT",
          "MORSPT",
          "MORSPT",
          "MORSPT",
          "MORSPT",
          "MORSPT",
          "MORSPT",
          "MORSPT",
          "MORSPT",
          "MORSPT",
          "MORSPT",
          "MORSPT",
          "MORSPT",
          "MORSPT",
          "MORSPT",
          "MORSPT",
          "MORSPT",
          "MORSPT",
          "MORSPT",
          "MORSPT",
          "MORSPT",
          "MORSPT",
          "MORSPT",
          "MORSPT",
          "MORSPT",
          "MORSPT",
          "MORSPT",
          "MORSPT",
          "MORSPT",
          "MORSPT",
          "MORSPT",
          "MORSPT",
          "MORSPT",
          "MORSPT",
          "MORSPT",
          "MORSPT",
          "MORSPT",
          "MORSPT",
          "MORSPT",
          "MORSPT",
          "MORSPT",
          "MORSPT",
          "MORSPT",
          "MORSPT",
          "MORSPT",
          "MORSPT",
          "MORSPT",
          "MORSPT",
          "MORSPT",
          "MORSPT",
          "MORSPT",
          "MORSPT",
          "MORSPT",
          "MORSPT",
          "MORSPT",
          "MORSPT"
         ],
         "yaxis": "y"
        },
        {
         "alignmentgroup": "True",
         "base": [
          "1970-01-07T06:00:00",
          "1970-01-07T14:00:00",
          "1970-01-06T17:00:00",
          "1970-01-05T19:00:00",
          "1970-01-01T09:00:00",
          "1970-01-08T20:00:00",
          "1970-01-08T02:00:00",
          "1970-01-06T05:00:00",
          "1970-01-07T09:00:00",
          "1970-01-06T09:00:00",
          "1970-01-07T22:00:00",
          "1970-01-08T14:00:00",
          "1970-01-09T04:00:00",
          "1970-01-05T20:00:00",
          "1970-01-06T03:00:00",
          "1970-01-08T03:00:00",
          "1970-01-06T05:00:00",
          "1970-01-07T11:00:00",
          "1970-01-08T21:00:00",
          "1970-01-05T19:00:00",
          "1970-01-01T09:00:00",
          "1970-01-07T13:00:00",
          "1970-01-08T04:00:00",
          "1970-01-06T12:00:00",
          "1970-01-07T03:00:00",
          "1970-01-08T19:00:00",
          "1970-01-06T08:00:00",
          "1970-01-01T09:00:00",
          "1970-01-01T14:00:00",
          "1970-01-06T17:00:00",
          "1970-01-09T00:00:00",
          "1970-01-07T23:00:00",
          "1970-01-08T10:00:00",
          "1970-01-05T21:00:00",
          "1970-01-06T08:00:00",
          "1970-01-01T14:00:00",
          "1970-01-09T00:00:00",
          "1970-01-07T13:00:00",
          "1970-01-08T05:00:00",
          "1970-01-08T19:00:00",
          "1970-01-06T20:00:00",
          "1970-01-01T09:00:00"
         ],
         "hovertemplate": "Rule=%{y}<br>Start=%{base}<br>Finish=%{x}<br>Step-Rule=%{text}<extra></extra>",
         "legendgroup": "SPT",
         "marker": {
          "color": "#E15F99",
          "pattern": {
           "shape": ""
          }
         },
         "name": "SPT",
         "offsetgroup": "SPT",
         "orientation": "h",
         "showlegend": true,
         "text": [
          "77-SPT",
          "83-SPT",
          "72-SPT",
          "61-SPT",
          "6-SPT",
          "94-SPT",
          "86-SPT",
          "66-SPT",
          "79-SPT",
          "69-SPT",
          "84-SPT",
          "91-SPT",
          "98-SPT",
          "62-SPT",
          "64-SPT",
          "87-SPT",
          "65-SPT",
          "80-SPT",
          "95-SPT",
          "60-SPT",
          "3-SPT",
          "82-SPT",
          "88-SPT",
          "70-SPT",
          "76-SPT",
          "93-SPT",
          "68-SPT",
          "2-SPT",
          "8-SPT",
          "71-SPT",
          "97-SPT",
          "85-SPT",
          "90-SPT",
          "63-SPT",
          "67-SPT",
          "7-SPT",
          "96-SPT",
          "81-SPT",
          "89-SPT",
          "92-SPT",
          "75-SPT",
          "1-SPT"
         ],
         "textposition": "auto",
         "type": "bar",
         "x": [
          28800000,
          43200000,
          46800000,
          36000000,
          18000000,
          61200000,
          64800000,
          43200000,
          46800000,
          36000000,
          57600000,
          50400000,
          82800000,
          25200000,
          21600000,
          64800000,
          50400000,
          57600000,
          54000000,
          36000000,
          18000000,
          54000000,
          54000000,
          54000000,
          36000000,
          57600000,
          32400000,
          18000000,
          18000000,
          50400000,
          100800000,
          39600000,
          50400000,
          39600000,
          43200000,
          36000000,
          79200000,
          57600000,
          50400000,
          18000000,
          61200000,
          18000000
         ],
         "xaxis": "x",
         "y": [
          "SPT",
          "SPT",
          "SPT",
          "SPT",
          "SPT",
          "SPT",
          "SPT",
          "SPT",
          "SPT",
          "SPT",
          "SPT",
          "SPT",
          "SPT",
          "SPT",
          "SPT",
          "SPT",
          "SPT",
          "SPT",
          "SPT",
          "SPT",
          "SPT",
          "SPT",
          "SPT",
          "SPT",
          "SPT",
          "SPT",
          "SPT",
          "SPT",
          "SPT",
          "SPT",
          "SPT",
          "SPT",
          "SPT",
          "SPT",
          "SPT",
          "SPT",
          "SPT",
          "SPT",
          "SPT",
          "SPT",
          "SPT",
          "SPT"
         ],
         "yaxis": "y"
        },
        {
         "alignmentgroup": "True",
         "base": [
          "1970-01-09T13:00:00",
          "1970-01-09T16:00:00",
          "1970-01-09T22:00:00",
          "1970-01-10T01:00:00",
          "1970-01-10T03:00:00",
          "1970-01-10T04:00:00",
          "1970-01-10T05:00:00",
          "1970-01-10T03:00:00",
          "1970-01-10T04:00:00",
          "1970-01-10T05:00:00",
          "1970-01-09T12:00:00",
          "1970-01-09T13:00:00",
          "1970-01-09T16:00:00",
          "1970-01-09T22:00:00",
          "1970-01-10T01:00:00",
          "1970-01-10T03:00:00",
          "1970-01-10T04:00:00",
          "1970-01-10T05:00:00",
          "1970-01-09T11:00:00",
          "1970-01-09T12:00:00",
          "1970-01-10T01:00:00",
          "1970-01-10T03:00:00",
          "1970-01-10T04:00:00",
          "1970-01-10T05:00:00",
          "1970-01-10T04:00:00",
          "1970-01-10T05:00:00",
          "1970-01-09T22:00:00"
         ],
         "hovertemplate": "Rule=%{y}<br>Start=%{base}<br>Finish=%{x}<br>Step-Rule=%{text}<extra></extra>",
         "legendgroup": "DDA",
         "marker": {
          "color": "#1CA71C",
          "pattern": {
           "shape": ""
          }
         },
         "name": "DDA",
         "offsetgroup": "DDA",
         "orientation": "h",
         "showlegend": true,
         "text": [
          "100-DDA",
          "100-DDA",
          "100-DDA",
          "101-DDA",
          "101-DDA",
          "101-DDA",
          "101-DDA",
          "101-DDA",
          "101-DDA",
          "101-DDA",
          "99-DDA",
          "100-DDA",
          "100-DDA",
          "100-DDA",
          "101-DDA",
          "101-DDA",
          "101-DDA",
          "101-DDA",
          "99-DDA",
          "99-DDA",
          "101-DDA",
          "101-DDA",
          "101-DDA",
          "101-DDA",
          "101-DDA",
          "101-DDA",
          "100-DDA"
         ],
         "textposition": "auto",
         "type": "bar",
         "x": [
          10800000,
          21600000,
          10800000,
          7200000,
          3600000,
          3600000,
          97200000,
          3600000,
          3600000,
          97200000,
          3600000,
          10800000,
          21600000,
          10800000,
          7200000,
          3600000,
          3600000,
          97200000,
          3600000,
          3600000,
          7200000,
          3600000,
          3600000,
          97200000,
          3600000,
          97200000,
          10800000
         ],
         "xaxis": "x",
         "y": [
          "DDA",
          "DDA",
          "DDA",
          "DDA",
          "DDA",
          "DDA",
          "DDA",
          "DDA",
          "DDA",
          "DDA",
          "DDA",
          "DDA",
          "DDA",
          "DDA",
          "DDA",
          "DDA",
          "DDA",
          "DDA",
          "DDA",
          "DDA",
          "DDA",
          "DDA",
          "DDA",
          "DDA",
          "DDA",
          "DDA",
          "DDA"
         ],
         "yaxis": "y"
        },
        {
         "alignmentgroup": "True",
         "base": [
          "1970-01-09T13:00:00",
          "1970-01-10T01:00:00"
         ],
         "hovertemplate": "Rule=%{y}<br>Start=%{base}<br>Finish=%{x}<br>Step-Rule=%{text}<extra></extra>",
         "legendgroup": "SPTSSU",
         "marker": {
          "color": "#FB0D0D",
          "pattern": {
           "shape": ""
          }
         },
         "name": "SPTSSU",
         "offsetgroup": "SPTSSU",
         "orientation": "h",
         "showlegend": true,
         "text": [
          "99-SPTSSU",
          "100-SPTSSU"
         ],
         "textposition": "auto",
         "type": "bar",
         "x": [
          43200000,
          111600000
         ],
         "xaxis": "x",
         "y": [
          "SPTSSU",
          "SPTSSU"
         ],
         "yaxis": "y"
        },
        {
         "alignmentgroup": "True",
         "base": [
          "1970-01-01T14:00:00",
          "1970-01-02T19:00:00",
          "1970-01-03T16:00:00",
          "1970-01-04T00:00:00",
          "1970-01-04T14:00:00",
          "1970-01-05T02:00:00",
          "1970-01-05T19:00:00",
          "1970-01-06T05:00:00",
          "1970-01-06T17:00:00",
          "1970-01-07T06:00:00",
          "1970-01-07T14:00:00",
          "1970-01-08T02:00:00",
          "1970-01-08T20:00:00",
          "1970-01-01T19:00:00",
          "1970-01-02T02:00:00",
          "1970-01-03T02:00:00",
          "1970-01-03T11:00:00",
          "1970-01-04T01:00:00",
          "1970-01-04T11:00:00",
          "1970-01-05T12:00:00",
          "1970-01-06T09:00:00",
          "1970-01-07T09:00:00",
          "1970-01-07T22:00:00",
          "1970-01-01T23:00:00",
          "1970-01-02T07:00:00",
          "1970-01-03T03:00:00",
          "1970-01-03T22:00:00",
          "1970-01-05T04:00:00",
          "1970-01-05T19:00:00",
          "1970-01-06T05:00:00",
          "1970-01-06T19:00:00",
          "1970-01-07T11:00:00",
          "1970-01-08T03:00:00",
          "1970-01-08T21:00:00",
          "1970-01-01T14:00:00",
          "1970-01-01T21:00:00",
          "1970-01-02T07:00:00",
          "1970-01-02T16:00:00",
          "1970-01-03T07:00:00",
          "1970-01-04T12:00:00",
          "1970-01-05T08:00:00",
          "1970-01-05T19:00:00",
          "1970-01-06T12:00:00",
          "1970-01-07T13:00:00",
          "1970-01-08T19:00:00",
          "1970-01-09T13:00:00",
          "1970-01-01T19:00:00",
          "1970-01-02T07:00:00",
          "1970-01-02T16:00:00",
          "1970-01-03T14:00:00",
          "1970-01-04T12:00:00",
          "1970-01-05T05:00:00",
          "1970-01-05T21:00:00",
          "1970-01-06T08:00:00",
          "1970-01-06T17:00:00",
          "1970-01-07T07:00:00",
          "1970-01-08T10:00:00",
          "1970-01-09T00:00:00",
          "1970-01-01T14:00:00",
          "1970-01-02T00:00:00",
          "1970-01-02T13:00:00",
          "1970-01-03T07:00:00",
          "1970-01-04T04:00:00",
          "1970-01-05T03:00:00",
          "1970-01-05T19:00:00",
          "1970-01-06T08:00:00",
          "1970-01-06T20:00:00",
          "1970-01-09T00:00:00",
          "1970-01-10T01:00:00"
         ],
         "hovertemplate": "Rule=%{y}<br>Start=%{base}<br>Finish=%{x}<br>Step-Rule=%{text}<extra></extra>",
         "legendgroup": "NONE",
         "marker": {
          "color": "#DA16FF",
          "pattern": {
           "shape": ""
          }
         },
         "name": "NONE",
         "offsetgroup": "NONE",
         "orientation": "h",
         "showlegend": true,
         "text": [
          "10-NONE",
          "25-NONE",
          "35-NONE",
          "39-NONE",
          "46-NONE",
          "50-NONE",
          "61-NONE",
          "66-NONE",
          "72-NONE",
          "77-NONE",
          "83-NONE",
          "86-NONE",
          "94-NONE",
          "12-NONE",
          "16-NONE",
          "27-NONE",
          "33-NONE",
          "40-NONE",
          "43-NONE",
          "55-NONE",
          "69-NONE",
          "79-NONE",
          "84-NONE",
          "14-NONE",
          "20-NONE",
          "28-NONE",
          "37-NONE",
          "52-NONE",
          "60-NONE",
          "65-NONE",
          "73-NONE",
          "80-NONE",
          "87-NONE",
          "95-NONE",
          "9-NONE",
          "13-NONE",
          "19-NONE",
          "24-NONE",
          "31-NONE",
          "45-NONE",
          "54-NONE",
          "59-NONE",
          "70-NONE",
          "82-NONE",
          "93-NONE",
          "99-NONE",
          "11-NONE",
          "18-NONE",
          "23-NONE",
          "34-NONE",
          "44-NONE",
          "53-NONE",
          "63-NONE",
          "68-NONE",
          "71-NONE",
          "78-NONE",
          "90-NONE",
          "97-NONE",
          "7-NONE",
          "15-NONE",
          "22-NONE",
          "30-NONE",
          "41-NONE",
          "51-NONE",
          "58-NONE",
          "67-NONE",
          "75-NONE",
          "96-NONE",
          "100-NONE"
         ],
         "textposition": "auto",
         "type": "bar",
         "x": [
          14400000,
          10800000,
          7200000,
          7200000,
          7200000,
          7200000,
          10800000,
          10800000,
          10800000,
          3600000,
          3600000,
          10800000,
          3600000,
          7200000,
          10800000,
          10800000,
          7200000,
          10800000,
          10800000,
          7200000,
          7200000,
          3600000,
          7200000,
          7200000,
          7200000,
          10800000,
          10800000,
          10800000,
          3600000,
          14400000,
          10800000,
          10800000,
          3600000,
          10800000,
          7200000,
          10800000,
          10800000,
          7200000,
          7200000,
          7200000,
          3600000,
          3600000,
          10800000,
          7200000,
          10800000,
          10800000,
          14400000,
          10800000,
          10800000,
          3600000,
          14400000,
          10800000,
          14400000,
          14400000,
          10800000,
          14400000,
          10800000,
          14400000,
          14400000,
          7200000,
          7200000,
          10800000,
          7200000,
          14400000,
          10800000,
          10800000,
          7200000,
          10800000,
          14400000
         ],
         "xaxis": "x",
         "y": [
          "NONE",
          "NONE",
          "NONE",
          "NONE",
          "NONE",
          "NONE",
          "NONE",
          "NONE",
          "NONE",
          "NONE",
          "NONE",
          "NONE",
          "NONE",
          "NONE",
          "NONE",
          "NONE",
          "NONE",
          "NONE",
          "NONE",
          "NONE",
          "NONE",
          "NONE",
          "NONE",
          "NONE",
          "NONE",
          "NONE",
          "NONE",
          "NONE",
          "NONE",
          "NONE",
          "NONE",
          "NONE",
          "NONE",
          "NONE",
          "NONE",
          "NONE",
          "NONE",
          "NONE",
          "NONE",
          "NONE",
          "NONE",
          "NONE",
          "NONE",
          "NONE",
          "NONE",
          "NONE",
          "NONE",
          "NONE",
          "NONE",
          "NONE",
          "NONE",
          "NONE",
          "NONE",
          "NONE",
          "NONE",
          "NONE",
          "NONE",
          "NONE",
          "NONE",
          "NONE",
          "NONE",
          "NONE",
          "NONE",
          "NONE",
          "NONE",
          "NONE",
          "NONE",
          "NONE",
          "NONE"
         ],
         "yaxis": "y"
        }
       ],
       "layout": {
        "barmode": "overlay",
        "height": 800,
        "legend": {
         "title": {
          "text": "Rule"
         },
         "tracegroupgap": 0
        },
        "margin": {
         "t": 60
        },
        "template": {
         "data": {
          "bar": [
           {
            "error_x": {
             "color": "rgb(36,36,36)"
            },
            "error_y": {
             "color": "rgb(36,36,36)"
            },
            "marker": {
             "line": {
              "color": "white",
              "width": 0.5
             },
             "pattern": {
              "fillmode": "overlay",
              "size": 10,
              "solidity": 0.2
             }
            },
            "type": "bar"
           }
          ],
          "barpolar": [
           {
            "marker": {
             "line": {
              "color": "white",
              "width": 0.5
             },
             "pattern": {
              "fillmode": "overlay",
              "size": 10,
              "solidity": 0.2
             }
            },
            "type": "barpolar"
           }
          ],
          "carpet": [
           {
            "aaxis": {
             "endlinecolor": "rgb(36,36,36)",
             "gridcolor": "white",
             "linecolor": "white",
             "minorgridcolor": "white",
             "startlinecolor": "rgb(36,36,36)"
            },
            "baxis": {
             "endlinecolor": "rgb(36,36,36)",
             "gridcolor": "white",
             "linecolor": "white",
             "minorgridcolor": "white",
             "startlinecolor": "rgb(36,36,36)"
            },
            "type": "carpet"
           }
          ],
          "choropleth": [
           {
            "colorbar": {
             "outlinewidth": 1,
             "tickcolor": "rgb(36,36,36)",
             "ticks": "outside"
            },
            "type": "choropleth"
           }
          ],
          "contour": [
           {
            "colorbar": {
             "outlinewidth": 1,
             "tickcolor": "rgb(36,36,36)",
             "ticks": "outside"
            },
            "colorscale": [
             [
              0,
              "#440154"
             ],
             [
              0.1111111111111111,
              "#482878"
             ],
             [
              0.2222222222222222,
              "#3e4989"
             ],
             [
              0.3333333333333333,
              "#31688e"
             ],
             [
              0.4444444444444444,
              "#26828e"
             ],
             [
              0.5555555555555556,
              "#1f9e89"
             ],
             [
              0.6666666666666666,
              "#35b779"
             ],
             [
              0.7777777777777778,
              "#6ece58"
             ],
             [
              0.8888888888888888,
              "#b5de2b"
             ],
             [
              1,
              "#fde725"
             ]
            ],
            "type": "contour"
           }
          ],
          "contourcarpet": [
           {
            "colorbar": {
             "outlinewidth": 1,
             "tickcolor": "rgb(36,36,36)",
             "ticks": "outside"
            },
            "type": "contourcarpet"
           }
          ],
          "heatmap": [
           {
            "colorbar": {
             "outlinewidth": 1,
             "tickcolor": "rgb(36,36,36)",
             "ticks": "outside"
            },
            "colorscale": [
             [
              0,
              "#440154"
             ],
             [
              0.1111111111111111,
              "#482878"
             ],
             [
              0.2222222222222222,
              "#3e4989"
             ],
             [
              0.3333333333333333,
              "#31688e"
             ],
             [
              0.4444444444444444,
              "#26828e"
             ],
             [
              0.5555555555555556,
              "#1f9e89"
             ],
             [
              0.6666666666666666,
              "#35b779"
             ],
             [
              0.7777777777777778,
              "#6ece58"
             ],
             [
              0.8888888888888888,
              "#b5de2b"
             ],
             [
              1,
              "#fde725"
             ]
            ],
            "type": "heatmap"
           }
          ],
          "heatmapgl": [
           {
            "colorbar": {
             "outlinewidth": 1,
             "tickcolor": "rgb(36,36,36)",
             "ticks": "outside"
            },
            "colorscale": [
             [
              0,
              "#440154"
             ],
             [
              0.1111111111111111,
              "#482878"
             ],
             [
              0.2222222222222222,
              "#3e4989"
             ],
             [
              0.3333333333333333,
              "#31688e"
             ],
             [
              0.4444444444444444,
              "#26828e"
             ],
             [
              0.5555555555555556,
              "#1f9e89"
             ],
             [
              0.6666666666666666,
              "#35b779"
             ],
             [
              0.7777777777777778,
              "#6ece58"
             ],
             [
              0.8888888888888888,
              "#b5de2b"
             ],
             [
              1,
              "#fde725"
             ]
            ],
            "type": "heatmapgl"
           }
          ],
          "histogram": [
           {
            "marker": {
             "line": {
              "color": "white",
              "width": 0.6
             }
            },
            "type": "histogram"
           }
          ],
          "histogram2d": [
           {
            "colorbar": {
             "outlinewidth": 1,
             "tickcolor": "rgb(36,36,36)",
             "ticks": "outside"
            },
            "colorscale": [
             [
              0,
              "#440154"
             ],
             [
              0.1111111111111111,
              "#482878"
             ],
             [
              0.2222222222222222,
              "#3e4989"
             ],
             [
              0.3333333333333333,
              "#31688e"
             ],
             [
              0.4444444444444444,
              "#26828e"
             ],
             [
              0.5555555555555556,
              "#1f9e89"
             ],
             [
              0.6666666666666666,
              "#35b779"
             ],
             [
              0.7777777777777778,
              "#6ece58"
             ],
             [
              0.8888888888888888,
              "#b5de2b"
             ],
             [
              1,
              "#fde725"
             ]
            ],
            "type": "histogram2d"
           }
          ],
          "histogram2dcontour": [
           {
            "colorbar": {
             "outlinewidth": 1,
             "tickcolor": "rgb(36,36,36)",
             "ticks": "outside"
            },
            "colorscale": [
             [
              0,
              "#440154"
             ],
             [
              0.1111111111111111,
              "#482878"
             ],
             [
              0.2222222222222222,
              "#3e4989"
             ],
             [
              0.3333333333333333,
              "#31688e"
             ],
             [
              0.4444444444444444,
              "#26828e"
             ],
             [
              0.5555555555555556,
              "#1f9e89"
             ],
             [
              0.6666666666666666,
              "#35b779"
             ],
             [
              0.7777777777777778,
              "#6ece58"
             ],
             [
              0.8888888888888888,
              "#b5de2b"
             ],
             [
              1,
              "#fde725"
             ]
            ],
            "type": "histogram2dcontour"
           }
          ],
          "mesh3d": [
           {
            "colorbar": {
             "outlinewidth": 1,
             "tickcolor": "rgb(36,36,36)",
             "ticks": "outside"
            },
            "type": "mesh3d"
           }
          ],
          "parcoords": [
           {
            "line": {
             "colorbar": {
              "outlinewidth": 1,
              "tickcolor": "rgb(36,36,36)",
              "ticks": "outside"
             }
            },
            "type": "parcoords"
           }
          ],
          "pie": [
           {
            "automargin": true,
            "type": "pie"
           }
          ],
          "scatter": [
           {
            "fillpattern": {
             "fillmode": "overlay",
             "size": 10,
             "solidity": 0.2
            },
            "type": "scatter"
           }
          ],
          "scatter3d": [
           {
            "line": {
             "colorbar": {
              "outlinewidth": 1,
              "tickcolor": "rgb(36,36,36)",
              "ticks": "outside"
             }
            },
            "marker": {
             "colorbar": {
              "outlinewidth": 1,
              "tickcolor": "rgb(36,36,36)",
              "ticks": "outside"
             }
            },
            "type": "scatter3d"
           }
          ],
          "scattercarpet": [
           {
            "marker": {
             "colorbar": {
              "outlinewidth": 1,
              "tickcolor": "rgb(36,36,36)",
              "ticks": "outside"
             }
            },
            "type": "scattercarpet"
           }
          ],
          "scattergeo": [
           {
            "marker": {
             "colorbar": {
              "outlinewidth": 1,
              "tickcolor": "rgb(36,36,36)",
              "ticks": "outside"
             }
            },
            "type": "scattergeo"
           }
          ],
          "scattergl": [
           {
            "marker": {
             "colorbar": {
              "outlinewidth": 1,
              "tickcolor": "rgb(36,36,36)",
              "ticks": "outside"
             }
            },
            "type": "scattergl"
           }
          ],
          "scattermapbox": [
           {
            "marker": {
             "colorbar": {
              "outlinewidth": 1,
              "tickcolor": "rgb(36,36,36)",
              "ticks": "outside"
             }
            },
            "type": "scattermapbox"
           }
          ],
          "scatterpolar": [
           {
            "marker": {
             "colorbar": {
              "outlinewidth": 1,
              "tickcolor": "rgb(36,36,36)",
              "ticks": "outside"
             }
            },
            "type": "scatterpolar"
           }
          ],
          "scatterpolargl": [
           {
            "marker": {
             "colorbar": {
              "outlinewidth": 1,
              "tickcolor": "rgb(36,36,36)",
              "ticks": "outside"
             }
            },
            "type": "scatterpolargl"
           }
          ],
          "scatterternary": [
           {
            "marker": {
             "colorbar": {
              "outlinewidth": 1,
              "tickcolor": "rgb(36,36,36)",
              "ticks": "outside"
             }
            },
            "type": "scatterternary"
           }
          ],
          "surface": [
           {
            "colorbar": {
             "outlinewidth": 1,
             "tickcolor": "rgb(36,36,36)",
             "ticks": "outside"
            },
            "colorscale": [
             [
              0,
              "#440154"
             ],
             [
              0.1111111111111111,
              "#482878"
             ],
             [
              0.2222222222222222,
              "#3e4989"
             ],
             [
              0.3333333333333333,
              "#31688e"
             ],
             [
              0.4444444444444444,
              "#26828e"
             ],
             [
              0.5555555555555556,
              "#1f9e89"
             ],
             [
              0.6666666666666666,
              "#35b779"
             ],
             [
              0.7777777777777778,
              "#6ece58"
             ],
             [
              0.8888888888888888,
              "#b5de2b"
             ],
             [
              1,
              "#fde725"
             ]
            ],
            "type": "surface"
           }
          ],
          "table": [
           {
            "cells": {
             "fill": {
              "color": "rgb(237,237,237)"
             },
             "line": {
              "color": "white"
             }
            },
            "header": {
             "fill": {
              "color": "rgb(217,217,217)"
             },
             "line": {
              "color": "white"
             }
            },
            "type": "table"
           }
          ]
         },
         "layout": {
          "annotationdefaults": {
           "arrowhead": 0,
           "arrowwidth": 1
          },
          "autotypenumbers": "strict",
          "coloraxis": {
           "colorbar": {
            "outlinewidth": 1,
            "tickcolor": "rgb(36,36,36)",
            "ticks": "outside"
           }
          },
          "colorscale": {
           "diverging": [
            [
             0,
             "rgb(103,0,31)"
            ],
            [
             0.1,
             "rgb(178,24,43)"
            ],
            [
             0.2,
             "rgb(214,96,77)"
            ],
            [
             0.3,
             "rgb(244,165,130)"
            ],
            [
             0.4,
             "rgb(253,219,199)"
            ],
            [
             0.5,
             "rgb(247,247,247)"
            ],
            [
             0.6,
             "rgb(209,229,240)"
            ],
            [
             0.7,
             "rgb(146,197,222)"
            ],
            [
             0.8,
             "rgb(67,147,195)"
            ],
            [
             0.9,
             "rgb(33,102,172)"
            ],
            [
             1,
             "rgb(5,48,97)"
            ]
           ],
           "sequential": [
            [
             0,
             "#440154"
            ],
            [
             0.1111111111111111,
             "#482878"
            ],
            [
             0.2222222222222222,
             "#3e4989"
            ],
            [
             0.3333333333333333,
             "#31688e"
            ],
            [
             0.4444444444444444,
             "#26828e"
            ],
            [
             0.5555555555555556,
             "#1f9e89"
            ],
            [
             0.6666666666666666,
             "#35b779"
            ],
            [
             0.7777777777777778,
             "#6ece58"
            ],
            [
             0.8888888888888888,
             "#b5de2b"
            ],
            [
             1,
             "#fde725"
            ]
           ],
           "sequentialminus": [
            [
             0,
             "#440154"
            ],
            [
             0.1111111111111111,
             "#482878"
            ],
            [
             0.2222222222222222,
             "#3e4989"
            ],
            [
             0.3333333333333333,
             "#31688e"
            ],
            [
             0.4444444444444444,
             "#26828e"
            ],
            [
             0.5555555555555556,
             "#1f9e89"
            ],
            [
             0.6666666666666666,
             "#35b779"
            ],
            [
             0.7777777777777778,
             "#6ece58"
            ],
            [
             0.8888888888888888,
             "#b5de2b"
            ],
            [
             1,
             "#fde725"
            ]
           ]
          },
          "colorway": [
           "#1F77B4",
           "#FF7F0E",
           "#2CA02C",
           "#D62728",
           "#9467BD",
           "#8C564B",
           "#E377C2",
           "#7F7F7F",
           "#BCBD22",
           "#17BECF"
          ],
          "font": {
           "color": "rgb(36,36,36)"
          },
          "geo": {
           "bgcolor": "white",
           "lakecolor": "white",
           "landcolor": "white",
           "showlakes": true,
           "showland": true,
           "subunitcolor": "white"
          },
          "hoverlabel": {
           "align": "left"
          },
          "hovermode": "closest",
          "mapbox": {
           "style": "light"
          },
          "paper_bgcolor": "white",
          "plot_bgcolor": "white",
          "polar": {
           "angularaxis": {
            "gridcolor": "rgb(232,232,232)",
            "linecolor": "rgb(36,36,36)",
            "showgrid": false,
            "showline": true,
            "ticks": "outside"
           },
           "bgcolor": "white",
           "radialaxis": {
            "gridcolor": "rgb(232,232,232)",
            "linecolor": "rgb(36,36,36)",
            "showgrid": false,
            "showline": true,
            "ticks": "outside"
           }
          },
          "scene": {
           "xaxis": {
            "backgroundcolor": "white",
            "gridcolor": "rgb(232,232,232)",
            "gridwidth": 2,
            "linecolor": "rgb(36,36,36)",
            "showbackground": true,
            "showgrid": false,
            "showline": true,
            "ticks": "outside",
            "zeroline": false,
            "zerolinecolor": "rgb(36,36,36)"
           },
           "yaxis": {
            "backgroundcolor": "white",
            "gridcolor": "rgb(232,232,232)",
            "gridwidth": 2,
            "linecolor": "rgb(36,36,36)",
            "showbackground": true,
            "showgrid": false,
            "showline": true,
            "ticks": "outside",
            "zeroline": false,
            "zerolinecolor": "rgb(36,36,36)"
           },
           "zaxis": {
            "backgroundcolor": "white",
            "gridcolor": "rgb(232,232,232)",
            "gridwidth": 2,
            "linecolor": "rgb(36,36,36)",
            "showbackground": true,
            "showgrid": false,
            "showline": true,
            "ticks": "outside",
            "zeroline": false,
            "zerolinecolor": "rgb(36,36,36)"
           }
          },
          "shapedefaults": {
           "fillcolor": "black",
           "line": {
            "width": 0
           },
           "opacity": 0.3
          },
          "ternary": {
           "aaxis": {
            "gridcolor": "rgb(232,232,232)",
            "linecolor": "rgb(36,36,36)",
            "showgrid": false,
            "showline": true,
            "ticks": "outside"
           },
           "baxis": {
            "gridcolor": "rgb(232,232,232)",
            "linecolor": "rgb(36,36,36)",
            "showgrid": false,
            "showline": true,
            "ticks": "outside"
           },
           "bgcolor": "white",
           "caxis": {
            "gridcolor": "rgb(232,232,232)",
            "linecolor": "rgb(36,36,36)",
            "showgrid": false,
            "showline": true,
            "ticks": "outside"
           }
          },
          "title": {
           "x": 0.05
          },
          "xaxis": {
           "automargin": true,
           "gridcolor": "rgb(232,232,232)",
           "linecolor": "rgb(36,36,36)",
           "showgrid": false,
           "showline": true,
           "ticks": "outside",
           "title": {
            "standoff": 15
           },
           "zeroline": false,
           "zerolinecolor": "rgb(36,36,36)"
          },
          "yaxis": {
           "automargin": true,
           "gridcolor": "rgb(232,232,232)",
           "linecolor": "rgb(36,36,36)",
           "showgrid": false,
           "showline": true,
           "ticks": "outside",
           "title": {
            "standoff": 15
           },
           "zeroline": false,
           "zerolinecolor": "rgb(36,36,36)"
          }
         }
        },
        "width": 2000,
        "xaxis": {
         "anchor": "y",
         "domain": [
          0,
          1
         ],
         "type": "date"
        },
        "yaxis": {
         "anchor": "x",
         "categoryarray": [
          "NONE",
          "SPTSSU",
          "DDA",
          "SPT",
          "MORSPT"
         ],
         "categoryorder": "array",
         "domain": [
          0,
          1
         ],
         "title": {
          "text": "Rule"
         }
        }
       }
      },
      "text/html": [
       "<div>                            <div id=\"694dfa45-1cfb-403d-b4b0-c5091b1558f6\" class=\"plotly-graph-div\" style=\"height:800px; width:2000px;\"></div>            <script type=\"text/javascript\">                require([\"plotly\"], function(Plotly) {                    window.PLOTLYENV=window.PLOTLYENV || {};                                    if (document.getElementById(\"694dfa45-1cfb-403d-b4b0-c5091b1558f6\")) {                    Plotly.newPlot(                        \"694dfa45-1cfb-403d-b4b0-c5091b1558f6\",                        [{\"alignmentgroup\":\"True\",\"base\":[\"1970-01-02T19:00:00\",\"1970-01-03T08:00:00\",\"1970-01-03T16:00:00\",\"1970-01-05T02:00:00\",\"1970-01-05T14:00:00\",\"1970-01-01T14:00:00\",\"1970-01-02T06:00:00\",\"1970-01-04T14:00:00\",\"1970-01-04T00:00:00\",\"1970-01-01T19:00:00\",\"1970-01-03T02:00:00\",\"1970-01-01T09:00:00\",\"1970-01-04T11:00:00\",\"1970-01-02T02:00:00\",\"1970-01-02T12:00:00\",\"1970-01-03T11:00:00\",\"1970-01-06T19:00:00\",\"1970-01-05T12:00:00\",\"1970-01-04T01:00:00\",\"1970-01-01T23:00:00\",\"1970-01-06T19:00:00\",\"1970-01-05T04:00:00\",\"1970-01-01T09:00:00\",\"1970-01-03T22:00:00\",\"1970-01-04T17:00:00\",\"1970-01-03T03:00:00\",\"1970-01-02T07:00:00\",\"1970-01-02T21:00:00\",\"1970-01-02T07:00:00\",\"1970-01-02T16:00:00\",\"1970-01-01T14:00:00\",\"1970-01-05T19:00:00\",\"1970-01-03T07:00:00\",\"1970-01-03T23:00:00\",\"1970-01-05T08:00:00\",\"1970-01-01T21:00:00\",\"1970-01-04T12:00:00\",\"1970-01-05T01:00:00\",\"1970-01-01T19:00:00\",\"1970-01-02T16:00:00\",\"1970-01-03T05:00:00\",\"1970-01-02T07:00:00\",\"1970-01-03T14:00:00\",\"1970-01-04T07:00:00\",\"1970-01-07T07:00:00\",\"1970-01-05T05:00:00\",\"1970-01-04T12:00:00\",\"1970-01-03T07:00:00\",\"1970-01-03T21:00:00\",\"1970-01-05T19:00:00\",\"1970-01-02T00:00:00\",\"1970-01-05T03:00:00\",\"1970-01-05T14:00:00\",\"1970-01-02T13:00:00\",\"1970-01-04T04:00:00\",\"1970-01-04T20:00:00\"],\"hovertemplate\":\"Rule=%{y}<br>Start=%{base}<br>Finish=%{x}<br>Step-Rule=%{text}<extra></extra>\",\"legendgroup\":\"MORSPT\",\"marker\":{\"color\":\"#2E91E5\",\"pattern\":{\"shape\":\"\"}},\"name\":\"MORSPT\",\"offsetgroup\":\"MORSPT\",\"orientation\":\"h\",\"showlegend\":true,\"text\":[\"25-MORSPT\",\"32-MORSPT\",\"35-MORSPT\",\"50-MORSPT\",\"57-MORSPT\",\"10-MORSPT\",\"17-MORSPT\",\"46-MORSPT\",\"39-MORSPT\",\"12-MORSPT\",\"27-MORSPT\",\"5-MORSPT\",\"43-MORSPT\",\"16-MORSPT\",\"21-MORSPT\",\"33-MORSPT\",\"74-MORSPT\",\"55-MORSPT\",\"40-MORSPT\",\"14-MORSPT\",\"73-MORSPT\",\"52-MORSPT\",\"4-MORSPT\",\"37-MORSPT\",\"47-MORSPT\",\"28-MORSPT\",\"20-MORSPT\",\"26-MORSPT\",\"19-MORSPT\",\"24-MORSPT\",\"9-MORSPT\",\"59-MORSPT\",\"31-MORSPT\",\"38-MORSPT\",\"54-MORSPT\",\"13-MORSPT\",\"45-MORSPT\",\"49-MORSPT\",\"11-MORSPT\",\"23-MORSPT\",\"29-MORSPT\",\"18-MORSPT\",\"34-MORSPT\",\"42-MORSPT\",\"78-MORSPT\",\"53-MORSPT\",\"44-MORSPT\",\"30-MORSPT\",\"36-MORSPT\",\"58-MORSPT\",\"15-MORSPT\",\"51-MORSPT\",\"56-MORSPT\",\"22-MORSPT\",\"41-MORSPT\",\"48-MORSPT\"],\"textposition\":\"auto\",\"x\":[46800000.0,28800000.0,28800000.0,43200000.0,18000000.0,57600000.0,46800000.0,43200000.0,50400000.0,25200000.0,32400000.0,36000000.0,90000000.0,36000000.0,50400000.0,50400000.0,50400000.0,28800000.0,36000000.0,28800000.0,57600000.0,54000000.0,50400000.0,68400000.0,39600000.0,68400000.0,50400000.0,21600000.0,32400000.0,54000000.0,25200000.0,61200000.0,57600000.0,46800000.0,39600000.0,36000000.0,46800000.0,25200000.0,43200000.0,46800000.0,32400000.0,32400000.0,61200000.0,18000000.0,57600000.0,57600000.0,61200000.0,50400000.0,25200000.0,46800000.0,46800000.0,39600000.0,18000000.0,64800000.0,57600000.0,25200000.0],\"xaxis\":\"x\",\"y\":[\"MORSPT\",\"MORSPT\",\"MORSPT\",\"MORSPT\",\"MORSPT\",\"MORSPT\",\"MORSPT\",\"MORSPT\",\"MORSPT\",\"MORSPT\",\"MORSPT\",\"MORSPT\",\"MORSPT\",\"MORSPT\",\"MORSPT\",\"MORSPT\",\"MORSPT\",\"MORSPT\",\"MORSPT\",\"MORSPT\",\"MORSPT\",\"MORSPT\",\"MORSPT\",\"MORSPT\",\"MORSPT\",\"MORSPT\",\"MORSPT\",\"MORSPT\",\"MORSPT\",\"MORSPT\",\"MORSPT\",\"MORSPT\",\"MORSPT\",\"MORSPT\",\"MORSPT\",\"MORSPT\",\"MORSPT\",\"MORSPT\",\"MORSPT\",\"MORSPT\",\"MORSPT\",\"MORSPT\",\"MORSPT\",\"MORSPT\",\"MORSPT\",\"MORSPT\",\"MORSPT\",\"MORSPT\",\"MORSPT\",\"MORSPT\",\"MORSPT\",\"MORSPT\",\"MORSPT\",\"MORSPT\",\"MORSPT\",\"MORSPT\"],\"yaxis\":\"y\",\"type\":\"bar\"},{\"alignmentgroup\":\"True\",\"base\":[\"1970-01-07T06:00:00\",\"1970-01-07T14:00:00\",\"1970-01-06T17:00:00\",\"1970-01-05T19:00:00\",\"1970-01-01T09:00:00\",\"1970-01-08T20:00:00\",\"1970-01-08T02:00:00\",\"1970-01-06T05:00:00\",\"1970-01-07T09:00:00\",\"1970-01-06T09:00:00\",\"1970-01-07T22:00:00\",\"1970-01-08T14:00:00\",\"1970-01-09T04:00:00\",\"1970-01-05T20:00:00\",\"1970-01-06T03:00:00\",\"1970-01-08T03:00:00\",\"1970-01-06T05:00:00\",\"1970-01-07T11:00:00\",\"1970-01-08T21:00:00\",\"1970-01-05T19:00:00\",\"1970-01-01T09:00:00\",\"1970-01-07T13:00:00\",\"1970-01-08T04:00:00\",\"1970-01-06T12:00:00\",\"1970-01-07T03:00:00\",\"1970-01-08T19:00:00\",\"1970-01-06T08:00:00\",\"1970-01-01T09:00:00\",\"1970-01-01T14:00:00\",\"1970-01-06T17:00:00\",\"1970-01-09T00:00:00\",\"1970-01-07T23:00:00\",\"1970-01-08T10:00:00\",\"1970-01-05T21:00:00\",\"1970-01-06T08:00:00\",\"1970-01-01T14:00:00\",\"1970-01-09T00:00:00\",\"1970-01-07T13:00:00\",\"1970-01-08T05:00:00\",\"1970-01-08T19:00:00\",\"1970-01-06T20:00:00\",\"1970-01-01T09:00:00\"],\"hovertemplate\":\"Rule=%{y}<br>Start=%{base}<br>Finish=%{x}<br>Step-Rule=%{text}<extra></extra>\",\"legendgroup\":\"SPT\",\"marker\":{\"color\":\"#E15F99\",\"pattern\":{\"shape\":\"\"}},\"name\":\"SPT\",\"offsetgroup\":\"SPT\",\"orientation\":\"h\",\"showlegend\":true,\"text\":[\"77-SPT\",\"83-SPT\",\"72-SPT\",\"61-SPT\",\"6-SPT\",\"94-SPT\",\"86-SPT\",\"66-SPT\",\"79-SPT\",\"69-SPT\",\"84-SPT\",\"91-SPT\",\"98-SPT\",\"62-SPT\",\"64-SPT\",\"87-SPT\",\"65-SPT\",\"80-SPT\",\"95-SPT\",\"60-SPT\",\"3-SPT\",\"82-SPT\",\"88-SPT\",\"70-SPT\",\"76-SPT\",\"93-SPT\",\"68-SPT\",\"2-SPT\",\"8-SPT\",\"71-SPT\",\"97-SPT\",\"85-SPT\",\"90-SPT\",\"63-SPT\",\"67-SPT\",\"7-SPT\",\"96-SPT\",\"81-SPT\",\"89-SPT\",\"92-SPT\",\"75-SPT\",\"1-SPT\"],\"textposition\":\"auto\",\"x\":[28800000.0,43200000.0,46800000.0,36000000.0,18000000.0,61200000.0,64800000.0,43200000.0,46800000.0,36000000.0,57600000.0,50400000.0,82800000.0,25200000.0,21600000.0,64800000.0,50400000.0,57600000.0,54000000.0,36000000.0,18000000.0,54000000.0,54000000.0,54000000.0,36000000.0,57600000.0,32400000.0,18000000.0,18000000.0,50400000.0,100800000.0,39600000.0,50400000.0,39600000.0,43200000.0,36000000.0,79200000.0,57600000.0,50400000.0,18000000.0,61200000.0,18000000.0],\"xaxis\":\"x\",\"y\":[\"SPT\",\"SPT\",\"SPT\",\"SPT\",\"SPT\",\"SPT\",\"SPT\",\"SPT\",\"SPT\",\"SPT\",\"SPT\",\"SPT\",\"SPT\",\"SPT\",\"SPT\",\"SPT\",\"SPT\",\"SPT\",\"SPT\",\"SPT\",\"SPT\",\"SPT\",\"SPT\",\"SPT\",\"SPT\",\"SPT\",\"SPT\",\"SPT\",\"SPT\",\"SPT\",\"SPT\",\"SPT\",\"SPT\",\"SPT\",\"SPT\",\"SPT\",\"SPT\",\"SPT\",\"SPT\",\"SPT\",\"SPT\",\"SPT\"],\"yaxis\":\"y\",\"type\":\"bar\"},{\"alignmentgroup\":\"True\",\"base\":[\"1970-01-09T13:00:00\",\"1970-01-09T16:00:00\",\"1970-01-09T22:00:00\",\"1970-01-10T01:00:00\",\"1970-01-10T03:00:00\",\"1970-01-10T04:00:00\",\"1970-01-10T05:00:00\",\"1970-01-10T03:00:00\",\"1970-01-10T04:00:00\",\"1970-01-10T05:00:00\",\"1970-01-09T12:00:00\",\"1970-01-09T13:00:00\",\"1970-01-09T16:00:00\",\"1970-01-09T22:00:00\",\"1970-01-10T01:00:00\",\"1970-01-10T03:00:00\",\"1970-01-10T04:00:00\",\"1970-01-10T05:00:00\",\"1970-01-09T11:00:00\",\"1970-01-09T12:00:00\",\"1970-01-10T01:00:00\",\"1970-01-10T03:00:00\",\"1970-01-10T04:00:00\",\"1970-01-10T05:00:00\",\"1970-01-10T04:00:00\",\"1970-01-10T05:00:00\",\"1970-01-09T22:00:00\"],\"hovertemplate\":\"Rule=%{y}<br>Start=%{base}<br>Finish=%{x}<br>Step-Rule=%{text}<extra></extra>\",\"legendgroup\":\"DDA\",\"marker\":{\"color\":\"#1CA71C\",\"pattern\":{\"shape\":\"\"}},\"name\":\"DDA\",\"offsetgroup\":\"DDA\",\"orientation\":\"h\",\"showlegend\":true,\"text\":[\"100-DDA\",\"100-DDA\",\"100-DDA\",\"101-DDA\",\"101-DDA\",\"101-DDA\",\"101-DDA\",\"101-DDA\",\"101-DDA\",\"101-DDA\",\"99-DDA\",\"100-DDA\",\"100-DDA\",\"100-DDA\",\"101-DDA\",\"101-DDA\",\"101-DDA\",\"101-DDA\",\"99-DDA\",\"99-DDA\",\"101-DDA\",\"101-DDA\",\"101-DDA\",\"101-DDA\",\"101-DDA\",\"101-DDA\",\"100-DDA\"],\"textposition\":\"auto\",\"x\":[10800000.0,21600000.0,10800000.0,7200000.0,3600000.0,3600000.0,97200000.0,3600000.0,3600000.0,97200000.0,3600000.0,10800000.0,21600000.0,10800000.0,7200000.0,3600000.0,3600000.0,97200000.0,3600000.0,3600000.0,7200000.0,3600000.0,3600000.0,97200000.0,3600000.0,97200000.0,10800000.0],\"xaxis\":\"x\",\"y\":[\"DDA\",\"DDA\",\"DDA\",\"DDA\",\"DDA\",\"DDA\",\"DDA\",\"DDA\",\"DDA\",\"DDA\",\"DDA\",\"DDA\",\"DDA\",\"DDA\",\"DDA\",\"DDA\",\"DDA\",\"DDA\",\"DDA\",\"DDA\",\"DDA\",\"DDA\",\"DDA\",\"DDA\",\"DDA\",\"DDA\",\"DDA\"],\"yaxis\":\"y\",\"type\":\"bar\"},{\"alignmentgroup\":\"True\",\"base\":[\"1970-01-09T13:00:00\",\"1970-01-10T01:00:00\"],\"hovertemplate\":\"Rule=%{y}<br>Start=%{base}<br>Finish=%{x}<br>Step-Rule=%{text}<extra></extra>\",\"legendgroup\":\"SPTSSU\",\"marker\":{\"color\":\"#FB0D0D\",\"pattern\":{\"shape\":\"\"}},\"name\":\"SPTSSU\",\"offsetgroup\":\"SPTSSU\",\"orientation\":\"h\",\"showlegend\":true,\"text\":[\"99-SPTSSU\",\"100-SPTSSU\"],\"textposition\":\"auto\",\"x\":[43200000.0,111600000.0],\"xaxis\":\"x\",\"y\":[\"SPTSSU\",\"SPTSSU\"],\"yaxis\":\"y\",\"type\":\"bar\"},{\"alignmentgroup\":\"True\",\"base\":[\"1970-01-01T14:00:00\",\"1970-01-02T19:00:00\",\"1970-01-03T16:00:00\",\"1970-01-04T00:00:00\",\"1970-01-04T14:00:00\",\"1970-01-05T02:00:00\",\"1970-01-05T19:00:00\",\"1970-01-06T05:00:00\",\"1970-01-06T17:00:00\",\"1970-01-07T06:00:00\",\"1970-01-07T14:00:00\",\"1970-01-08T02:00:00\",\"1970-01-08T20:00:00\",\"1970-01-01T19:00:00\",\"1970-01-02T02:00:00\",\"1970-01-03T02:00:00\",\"1970-01-03T11:00:00\",\"1970-01-04T01:00:00\",\"1970-01-04T11:00:00\",\"1970-01-05T12:00:00\",\"1970-01-06T09:00:00\",\"1970-01-07T09:00:00\",\"1970-01-07T22:00:00\",\"1970-01-01T23:00:00\",\"1970-01-02T07:00:00\",\"1970-01-03T03:00:00\",\"1970-01-03T22:00:00\",\"1970-01-05T04:00:00\",\"1970-01-05T19:00:00\",\"1970-01-06T05:00:00\",\"1970-01-06T19:00:00\",\"1970-01-07T11:00:00\",\"1970-01-08T03:00:00\",\"1970-01-08T21:00:00\",\"1970-01-01T14:00:00\",\"1970-01-01T21:00:00\",\"1970-01-02T07:00:00\",\"1970-01-02T16:00:00\",\"1970-01-03T07:00:00\",\"1970-01-04T12:00:00\",\"1970-01-05T08:00:00\",\"1970-01-05T19:00:00\",\"1970-01-06T12:00:00\",\"1970-01-07T13:00:00\",\"1970-01-08T19:00:00\",\"1970-01-09T13:00:00\",\"1970-01-01T19:00:00\",\"1970-01-02T07:00:00\",\"1970-01-02T16:00:00\",\"1970-01-03T14:00:00\",\"1970-01-04T12:00:00\",\"1970-01-05T05:00:00\",\"1970-01-05T21:00:00\",\"1970-01-06T08:00:00\",\"1970-01-06T17:00:00\",\"1970-01-07T07:00:00\",\"1970-01-08T10:00:00\",\"1970-01-09T00:00:00\",\"1970-01-01T14:00:00\",\"1970-01-02T00:00:00\",\"1970-01-02T13:00:00\",\"1970-01-03T07:00:00\",\"1970-01-04T04:00:00\",\"1970-01-05T03:00:00\",\"1970-01-05T19:00:00\",\"1970-01-06T08:00:00\",\"1970-01-06T20:00:00\",\"1970-01-09T00:00:00\",\"1970-01-10T01:00:00\"],\"hovertemplate\":\"Rule=%{y}<br>Start=%{base}<br>Finish=%{x}<br>Step-Rule=%{text}<extra></extra>\",\"legendgroup\":\"NONE\",\"marker\":{\"color\":\"#DA16FF\",\"pattern\":{\"shape\":\"\"}},\"name\":\"NONE\",\"offsetgroup\":\"NONE\",\"orientation\":\"h\",\"showlegend\":true,\"text\":[\"10-NONE\",\"25-NONE\",\"35-NONE\",\"39-NONE\",\"46-NONE\",\"50-NONE\",\"61-NONE\",\"66-NONE\",\"72-NONE\",\"77-NONE\",\"83-NONE\",\"86-NONE\",\"94-NONE\",\"12-NONE\",\"16-NONE\",\"27-NONE\",\"33-NONE\",\"40-NONE\",\"43-NONE\",\"55-NONE\",\"69-NONE\",\"79-NONE\",\"84-NONE\",\"14-NONE\",\"20-NONE\",\"28-NONE\",\"37-NONE\",\"52-NONE\",\"60-NONE\",\"65-NONE\",\"73-NONE\",\"80-NONE\",\"87-NONE\",\"95-NONE\",\"9-NONE\",\"13-NONE\",\"19-NONE\",\"24-NONE\",\"31-NONE\",\"45-NONE\",\"54-NONE\",\"59-NONE\",\"70-NONE\",\"82-NONE\",\"93-NONE\",\"99-NONE\",\"11-NONE\",\"18-NONE\",\"23-NONE\",\"34-NONE\",\"44-NONE\",\"53-NONE\",\"63-NONE\",\"68-NONE\",\"71-NONE\",\"78-NONE\",\"90-NONE\",\"97-NONE\",\"7-NONE\",\"15-NONE\",\"22-NONE\",\"30-NONE\",\"41-NONE\",\"51-NONE\",\"58-NONE\",\"67-NONE\",\"75-NONE\",\"96-NONE\",\"100-NONE\"],\"textposition\":\"auto\",\"x\":[14400000.0,10800000.0,7200000.0,7200000.0,7200000.0,7200000.0,10800000.0,10800000.0,10800000.0,3600000.0,3600000.0,10800000.0,3600000.0,7200000.0,10800000.0,10800000.0,7200000.0,10800000.0,10800000.0,7200000.0,7200000.0,3600000.0,7200000.0,7200000.0,7200000.0,10800000.0,10800000.0,10800000.0,3600000.0,14400000.0,10800000.0,10800000.0,3600000.0,10800000.0,7200000.0,10800000.0,10800000.0,7200000.0,7200000.0,7200000.0,3600000.0,3600000.0,10800000.0,7200000.0,10800000.0,10800000.0,14400000.0,10800000.0,10800000.0,3600000.0,14400000.0,10800000.0,14400000.0,14400000.0,10800000.0,14400000.0,10800000.0,14400000.0,14400000.0,7200000.0,7200000.0,10800000.0,7200000.0,14400000.0,10800000.0,10800000.0,7200000.0,10800000.0,14400000.0],\"xaxis\":\"x\",\"y\":[\"NONE\",\"NONE\",\"NONE\",\"NONE\",\"NONE\",\"NONE\",\"NONE\",\"NONE\",\"NONE\",\"NONE\",\"NONE\",\"NONE\",\"NONE\",\"NONE\",\"NONE\",\"NONE\",\"NONE\",\"NONE\",\"NONE\",\"NONE\",\"NONE\",\"NONE\",\"NONE\",\"NONE\",\"NONE\",\"NONE\",\"NONE\",\"NONE\",\"NONE\",\"NONE\",\"NONE\",\"NONE\",\"NONE\",\"NONE\",\"NONE\",\"NONE\",\"NONE\",\"NONE\",\"NONE\",\"NONE\",\"NONE\",\"NONE\",\"NONE\",\"NONE\",\"NONE\",\"NONE\",\"NONE\",\"NONE\",\"NONE\",\"NONE\",\"NONE\",\"NONE\",\"NONE\",\"NONE\",\"NONE\",\"NONE\",\"NONE\",\"NONE\",\"NONE\",\"NONE\",\"NONE\",\"NONE\",\"NONE\",\"NONE\",\"NONE\",\"NONE\",\"NONE\",\"NONE\",\"NONE\"],\"yaxis\":\"y\",\"type\":\"bar\"}],                        {\"template\":{\"data\":{\"barpolar\":[{\"marker\":{\"line\":{\"color\":\"white\",\"width\":0.5},\"pattern\":{\"fillmode\":\"overlay\",\"size\":10,\"solidity\":0.2}},\"type\":\"barpolar\"}],\"bar\":[{\"error_x\":{\"color\":\"rgb(36,36,36)\"},\"error_y\":{\"color\":\"rgb(36,36,36)\"},\"marker\":{\"line\":{\"color\":\"white\",\"width\":0.5},\"pattern\":{\"fillmode\":\"overlay\",\"size\":10,\"solidity\":0.2}},\"type\":\"bar\"}],\"carpet\":[{\"aaxis\":{\"endlinecolor\":\"rgb(36,36,36)\",\"gridcolor\":\"white\",\"linecolor\":\"white\",\"minorgridcolor\":\"white\",\"startlinecolor\":\"rgb(36,36,36)\"},\"baxis\":{\"endlinecolor\":\"rgb(36,36,36)\",\"gridcolor\":\"white\",\"linecolor\":\"white\",\"minorgridcolor\":\"white\",\"startlinecolor\":\"rgb(36,36,36)\"},\"type\":\"carpet\"}],\"choropleth\":[{\"colorbar\":{\"outlinewidth\":1,\"tickcolor\":\"rgb(36,36,36)\",\"ticks\":\"outside\"},\"type\":\"choropleth\"}],\"contourcarpet\":[{\"colorbar\":{\"outlinewidth\":1,\"tickcolor\":\"rgb(36,36,36)\",\"ticks\":\"outside\"},\"type\":\"contourcarpet\"}],\"contour\":[{\"colorbar\":{\"outlinewidth\":1,\"tickcolor\":\"rgb(36,36,36)\",\"ticks\":\"outside\"},\"colorscale\":[[0.0,\"#440154\"],[0.1111111111111111,\"#482878\"],[0.2222222222222222,\"#3e4989\"],[0.3333333333333333,\"#31688e\"],[0.4444444444444444,\"#26828e\"],[0.5555555555555556,\"#1f9e89\"],[0.6666666666666666,\"#35b779\"],[0.7777777777777778,\"#6ece58\"],[0.8888888888888888,\"#b5de2b\"],[1.0,\"#fde725\"]],\"type\":\"contour\"}],\"heatmapgl\":[{\"colorbar\":{\"outlinewidth\":1,\"tickcolor\":\"rgb(36,36,36)\",\"ticks\":\"outside\"},\"colorscale\":[[0.0,\"#440154\"],[0.1111111111111111,\"#482878\"],[0.2222222222222222,\"#3e4989\"],[0.3333333333333333,\"#31688e\"],[0.4444444444444444,\"#26828e\"],[0.5555555555555556,\"#1f9e89\"],[0.6666666666666666,\"#35b779\"],[0.7777777777777778,\"#6ece58\"],[0.8888888888888888,\"#b5de2b\"],[1.0,\"#fde725\"]],\"type\":\"heatmapgl\"}],\"heatmap\":[{\"colorbar\":{\"outlinewidth\":1,\"tickcolor\":\"rgb(36,36,36)\",\"ticks\":\"outside\"},\"colorscale\":[[0.0,\"#440154\"],[0.1111111111111111,\"#482878\"],[0.2222222222222222,\"#3e4989\"],[0.3333333333333333,\"#31688e\"],[0.4444444444444444,\"#26828e\"],[0.5555555555555556,\"#1f9e89\"],[0.6666666666666666,\"#35b779\"],[0.7777777777777778,\"#6ece58\"],[0.8888888888888888,\"#b5de2b\"],[1.0,\"#fde725\"]],\"type\":\"heatmap\"}],\"histogram2dcontour\":[{\"colorbar\":{\"outlinewidth\":1,\"tickcolor\":\"rgb(36,36,36)\",\"ticks\":\"outside\"},\"colorscale\":[[0.0,\"#440154\"],[0.1111111111111111,\"#482878\"],[0.2222222222222222,\"#3e4989\"],[0.3333333333333333,\"#31688e\"],[0.4444444444444444,\"#26828e\"],[0.5555555555555556,\"#1f9e89\"],[0.6666666666666666,\"#35b779\"],[0.7777777777777778,\"#6ece58\"],[0.8888888888888888,\"#b5de2b\"],[1.0,\"#fde725\"]],\"type\":\"histogram2dcontour\"}],\"histogram2d\":[{\"colorbar\":{\"outlinewidth\":1,\"tickcolor\":\"rgb(36,36,36)\",\"ticks\":\"outside\"},\"colorscale\":[[0.0,\"#440154\"],[0.1111111111111111,\"#482878\"],[0.2222222222222222,\"#3e4989\"],[0.3333333333333333,\"#31688e\"],[0.4444444444444444,\"#26828e\"],[0.5555555555555556,\"#1f9e89\"],[0.6666666666666666,\"#35b779\"],[0.7777777777777778,\"#6ece58\"],[0.8888888888888888,\"#b5de2b\"],[1.0,\"#fde725\"]],\"type\":\"histogram2d\"}],\"histogram\":[{\"marker\":{\"line\":{\"color\":\"white\",\"width\":0.6}},\"type\":\"histogram\"}],\"mesh3d\":[{\"colorbar\":{\"outlinewidth\":1,\"tickcolor\":\"rgb(36,36,36)\",\"ticks\":\"outside\"},\"type\":\"mesh3d\"}],\"parcoords\":[{\"line\":{\"colorbar\":{\"outlinewidth\":1,\"tickcolor\":\"rgb(36,36,36)\",\"ticks\":\"outside\"}},\"type\":\"parcoords\"}],\"pie\":[{\"automargin\":true,\"type\":\"pie\"}],\"scatter3d\":[{\"line\":{\"colorbar\":{\"outlinewidth\":1,\"tickcolor\":\"rgb(36,36,36)\",\"ticks\":\"outside\"}},\"marker\":{\"colorbar\":{\"outlinewidth\":1,\"tickcolor\":\"rgb(36,36,36)\",\"ticks\":\"outside\"}},\"type\":\"scatter3d\"}],\"scattercarpet\":[{\"marker\":{\"colorbar\":{\"outlinewidth\":1,\"tickcolor\":\"rgb(36,36,36)\",\"ticks\":\"outside\"}},\"type\":\"scattercarpet\"}],\"scattergeo\":[{\"marker\":{\"colorbar\":{\"outlinewidth\":1,\"tickcolor\":\"rgb(36,36,36)\",\"ticks\":\"outside\"}},\"type\":\"scattergeo\"}],\"scattergl\":[{\"marker\":{\"colorbar\":{\"outlinewidth\":1,\"tickcolor\":\"rgb(36,36,36)\",\"ticks\":\"outside\"}},\"type\":\"scattergl\"}],\"scattermapbox\":[{\"marker\":{\"colorbar\":{\"outlinewidth\":1,\"tickcolor\":\"rgb(36,36,36)\",\"ticks\":\"outside\"}},\"type\":\"scattermapbox\"}],\"scatterpolargl\":[{\"marker\":{\"colorbar\":{\"outlinewidth\":1,\"tickcolor\":\"rgb(36,36,36)\",\"ticks\":\"outside\"}},\"type\":\"scatterpolargl\"}],\"scatterpolar\":[{\"marker\":{\"colorbar\":{\"outlinewidth\":1,\"tickcolor\":\"rgb(36,36,36)\",\"ticks\":\"outside\"}},\"type\":\"scatterpolar\"}],\"scatter\":[{\"fillpattern\":{\"fillmode\":\"overlay\",\"size\":10,\"solidity\":0.2},\"type\":\"scatter\"}],\"scatterternary\":[{\"marker\":{\"colorbar\":{\"outlinewidth\":1,\"tickcolor\":\"rgb(36,36,36)\",\"ticks\":\"outside\"}},\"type\":\"scatterternary\"}],\"surface\":[{\"colorbar\":{\"outlinewidth\":1,\"tickcolor\":\"rgb(36,36,36)\",\"ticks\":\"outside\"},\"colorscale\":[[0.0,\"#440154\"],[0.1111111111111111,\"#482878\"],[0.2222222222222222,\"#3e4989\"],[0.3333333333333333,\"#31688e\"],[0.4444444444444444,\"#26828e\"],[0.5555555555555556,\"#1f9e89\"],[0.6666666666666666,\"#35b779\"],[0.7777777777777778,\"#6ece58\"],[0.8888888888888888,\"#b5de2b\"],[1.0,\"#fde725\"]],\"type\":\"surface\"}],\"table\":[{\"cells\":{\"fill\":{\"color\":\"rgb(237,237,237)\"},\"line\":{\"color\":\"white\"}},\"header\":{\"fill\":{\"color\":\"rgb(217,217,217)\"},\"line\":{\"color\":\"white\"}},\"type\":\"table\"}]},\"layout\":{\"annotationdefaults\":{\"arrowhead\":0,\"arrowwidth\":1},\"autotypenumbers\":\"strict\",\"coloraxis\":{\"colorbar\":{\"outlinewidth\":1,\"tickcolor\":\"rgb(36,36,36)\",\"ticks\":\"outside\"}},\"colorscale\":{\"diverging\":[[0.0,\"rgb(103,0,31)\"],[0.1,\"rgb(178,24,43)\"],[0.2,\"rgb(214,96,77)\"],[0.3,\"rgb(244,165,130)\"],[0.4,\"rgb(253,219,199)\"],[0.5,\"rgb(247,247,247)\"],[0.6,\"rgb(209,229,240)\"],[0.7,\"rgb(146,197,222)\"],[0.8,\"rgb(67,147,195)\"],[0.9,\"rgb(33,102,172)\"],[1.0,\"rgb(5,48,97)\"]],\"sequential\":[[0.0,\"#440154\"],[0.1111111111111111,\"#482878\"],[0.2222222222222222,\"#3e4989\"],[0.3333333333333333,\"#31688e\"],[0.4444444444444444,\"#26828e\"],[0.5555555555555556,\"#1f9e89\"],[0.6666666666666666,\"#35b779\"],[0.7777777777777778,\"#6ece58\"],[0.8888888888888888,\"#b5de2b\"],[1.0,\"#fde725\"]],\"sequentialminus\":[[0.0,\"#440154\"],[0.1111111111111111,\"#482878\"],[0.2222222222222222,\"#3e4989\"],[0.3333333333333333,\"#31688e\"],[0.4444444444444444,\"#26828e\"],[0.5555555555555556,\"#1f9e89\"],[0.6666666666666666,\"#35b779\"],[0.7777777777777778,\"#6ece58\"],[0.8888888888888888,\"#b5de2b\"],[1.0,\"#fde725\"]]},\"colorway\":[\"#1F77B4\",\"#FF7F0E\",\"#2CA02C\",\"#D62728\",\"#9467BD\",\"#8C564B\",\"#E377C2\",\"#7F7F7F\",\"#BCBD22\",\"#17BECF\"],\"font\":{\"color\":\"rgb(36,36,36)\"},\"geo\":{\"bgcolor\":\"white\",\"lakecolor\":\"white\",\"landcolor\":\"white\",\"showlakes\":true,\"showland\":true,\"subunitcolor\":\"white\"},\"hoverlabel\":{\"align\":\"left\"},\"hovermode\":\"closest\",\"mapbox\":{\"style\":\"light\"},\"paper_bgcolor\":\"white\",\"plot_bgcolor\":\"white\",\"polar\":{\"angularaxis\":{\"gridcolor\":\"rgb(232,232,232)\",\"linecolor\":\"rgb(36,36,36)\",\"showgrid\":false,\"showline\":true,\"ticks\":\"outside\"},\"bgcolor\":\"white\",\"radialaxis\":{\"gridcolor\":\"rgb(232,232,232)\",\"linecolor\":\"rgb(36,36,36)\",\"showgrid\":false,\"showline\":true,\"ticks\":\"outside\"}},\"scene\":{\"xaxis\":{\"backgroundcolor\":\"white\",\"gridcolor\":\"rgb(232,232,232)\",\"gridwidth\":2,\"linecolor\":\"rgb(36,36,36)\",\"showbackground\":true,\"showgrid\":false,\"showline\":true,\"ticks\":\"outside\",\"zeroline\":false,\"zerolinecolor\":\"rgb(36,36,36)\"},\"yaxis\":{\"backgroundcolor\":\"white\",\"gridcolor\":\"rgb(232,232,232)\",\"gridwidth\":2,\"linecolor\":\"rgb(36,36,36)\",\"showbackground\":true,\"showgrid\":false,\"showline\":true,\"ticks\":\"outside\",\"zeroline\":false,\"zerolinecolor\":\"rgb(36,36,36)\"},\"zaxis\":{\"backgroundcolor\":\"white\",\"gridcolor\":\"rgb(232,232,232)\",\"gridwidth\":2,\"linecolor\":\"rgb(36,36,36)\",\"showbackground\":true,\"showgrid\":false,\"showline\":true,\"ticks\":\"outside\",\"zeroline\":false,\"zerolinecolor\":\"rgb(36,36,36)\"}},\"shapedefaults\":{\"fillcolor\":\"black\",\"line\":{\"width\":0},\"opacity\":0.3},\"ternary\":{\"aaxis\":{\"gridcolor\":\"rgb(232,232,232)\",\"linecolor\":\"rgb(36,36,36)\",\"showgrid\":false,\"showline\":true,\"ticks\":\"outside\"},\"baxis\":{\"gridcolor\":\"rgb(232,232,232)\",\"linecolor\":\"rgb(36,36,36)\",\"showgrid\":false,\"showline\":true,\"ticks\":\"outside\"},\"bgcolor\":\"white\",\"caxis\":{\"gridcolor\":\"rgb(232,232,232)\",\"linecolor\":\"rgb(36,36,36)\",\"showgrid\":false,\"showline\":true,\"ticks\":\"outside\"}},\"title\":{\"x\":0.05},\"xaxis\":{\"automargin\":true,\"gridcolor\":\"rgb(232,232,232)\",\"linecolor\":\"rgb(36,36,36)\",\"showgrid\":false,\"showline\":true,\"ticks\":\"outside\",\"title\":{\"standoff\":15},\"zeroline\":false,\"zerolinecolor\":\"rgb(36,36,36)\"},\"yaxis\":{\"automargin\":true,\"gridcolor\":\"rgb(232,232,232)\",\"linecolor\":\"rgb(36,36,36)\",\"showgrid\":false,\"showline\":true,\"ticks\":\"outside\",\"title\":{\"standoff\":15},\"zeroline\":false,\"zerolinecolor\":\"rgb(36,36,36)\"}}},\"xaxis\":{\"anchor\":\"y\",\"domain\":[0.0,1.0],\"type\":\"date\"},\"yaxis\":{\"anchor\":\"x\",\"domain\":[0.0,1.0],\"title\":{\"text\":\"Rule\"},\"categoryorder\":\"array\",\"categoryarray\":[\"NONE\",\"SPTSSU\",\"DDA\",\"SPT\",\"MORSPT\"]},\"legend\":{\"title\":{\"text\":\"Rule\"},\"tracegroupgap\":0},\"margin\":{\"t\":60},\"barmode\":\"overlay\",\"height\":800,\"width\":2000},                        {\"responsive\": true}                    ).then(function(){\n",
       "                            \n",
       "var gd = document.getElementById('694dfa45-1cfb-403d-b4b0-c5091b1558f6');\n",
       "var x = new MutationObserver(function (mutations, observer) {{\n",
       "        var display = window.getComputedStyle(gd).display;\n",
       "        if (!display || display === 'none') {{\n",
       "            console.log([gd, 'removed!']);\n",
       "            Plotly.purge(gd);\n",
       "            observer.disconnect();\n",
       "        }}\n",
       "}});\n",
       "\n",
       "// Listen for the removal of the full notebook cells\n",
       "var notebookContainer = gd.closest('#notebook-container');\n",
       "if (notebookContainer) {{\n",
       "    x.observe(notebookContainer, {childList: true});\n",
       "}}\n",
       "\n",
       "// Listen for the clearing of the current output cell\n",
       "var outputEl = gd.closest('.output');\n",
       "if (outputEl) {{\n",
       "    x.observe(outputEl, {childList: true});\n",
       "}}\n",
       "\n",
       "                        })                };                });            </script>        </div>"
      ]
     },
     "metadata": {},
     "output_type": "display_data"
    },
    {
     "name": "stdout",
     "output_type": "stream",
     "text": [
      "FlowTime: 3280\n",
      "machine_util: 0\n",
      "util: 0.7489539748953975\n",
      "makespan: 239\n",
      "Score -1434.0\n"
     ]
    }
   ],
   "source": [
    "# -*- coding: utf-8 -*-\n",
    "\"\"\"\n",
    "Created on Mon Apr  4 23:28:32 2022\n",
    "\n",
    "@author: parkh\n",
    "\"\"\"\n",
    "\n",
    "import torch\n",
    "import torch.nn as nn\n",
    "import torch.nn.functional as F\n",
    "import torch.optim as optim\n",
    "\n",
    "import gym\n",
    "import collections\n",
    "import random\n",
    "from SIM_gannt5 import *\n",
    "\n",
    "learning_rate = 0.001  \n",
    "gamma = 0.99\n",
    "buffer_limit = 10000\n",
    "batch_size = 16\n",
    "\n",
    "class ReplayBuffer():\n",
    "    def __init__(self):\n",
    "        self.buffer = collections.deque(maxlen=buffer_limit);\n",
    "    def put(self, transition):\n",
    "        self.buffer.append(transition)\n",
    "    def sample(self, n):\n",
    "        mini_batch = random.sample(self.buffer, n)\n",
    "        s_lst, a_lst, r_lst, s_prime_lst, done_mask_lst = [],[],[],[],[]\n",
    "        \n",
    "        for transition in mini_batch:\n",
    "            s, a, r, s_prime, done_mask = transition\n",
    "            s_lst.append(s)\n",
    "            a_lst.append([a])\n",
    "            r_lst.append([r])\n",
    "            s_prime_lst.append(s_prime)\n",
    "            done_mask_lst.append([done_mask])\n",
    "            \n",
    "        return torch.tensor(s_lst, dtype=torch. float),torch.tensor(a_lst), torch.tensor(r_lst), torch.tensor(s_prime_lst, dtype=torch. float), torch.tensor(done_mask_lst)\n",
    "    \n",
    "    def size(self):\n",
    "        return len(self.buffer)\n",
    "\n",
    "class Qnet(nn.Module):\n",
    "    def __init__(self):\n",
    "        super(Qnet, self).__init__()\n",
    "        self.fc1 = nn.Linear(132,64)\n",
    "        self.fc2 = nn.Linear(64,32)\n",
    "        self.fc3 = nn.Linear(32,6)\n",
    "        self.number_of_time_list = np.array([1 for x in range(6)])\n",
    "    \n",
    "    def forward(self, x):\n",
    "        x = F.relu(self.fc1(x))\n",
    "        x = F.relu(self.fc2(x))\n",
    "        x = self.fc3(x)\n",
    "        return x\n",
    "    \n",
    "    def sample_action(self, obs, epsilon):\n",
    "        out = self.forward(obs)\n",
    "        #print(out)\n",
    "        out2 = out.detach().numpy()\n",
    "        act_list = out2/self.number_of_time_list\n",
    "        act = np.argmax(act_list)\n",
    "        coin = random.random()\n",
    "        if coin < epsilon:\n",
    "            return random.randint(0, 5)\n",
    "        else:\n",
    "            return act\n",
    "    def select_action(self, obs, epsilon):\n",
    "        out = self.forward(obs)\n",
    "        out2 = out.detach().numpy()\n",
    "        act_list = out2/self.number_of_time_list\n",
    "        act = np.argmax(act_list)\n",
    "        return act,act_list\n",
    "        \n",
    "def train(q, q_target, memory, optimizer):\n",
    "    for i in range(10):\n",
    "        s,a,r,s_prime,done_mask = memory.sample(batch_size)\n",
    "        #q.number_of_time_list[a] += 1    \n",
    "        q_out = q(s)\n",
    "        q_a = q_out.gather(1,a)\n",
    "        max_q_prime = q_target(s_prime).max (1)[0].unsqueeze(1)\n",
    "        target = r + gamma * max_q_prime * done_mask\n",
    "        loss = F.smooth_l1_loss(q_a, target)\n",
    "        optimizer.zero_grad()\n",
    "        loss.backward()\n",
    "        optimizer.step()\n",
    "            \n",
    "def main():\n",
    "    env = FJSP_simulator('C:/Users\\parkh/git_tlsgudcks/simulator/data/FJSP_SIM7_all.csv','C:/Users/parkh/FJSP_SETUP_SIM.csv',1)\n",
    "    q = Qnet()\n",
    "    q_target = Qnet()\n",
    "    q_target.load_state_dict(q.state_dict())\n",
    "    memory = ReplayBuffer()\n",
    "    print_interval = 1\n",
    "    q_load = 20\n",
    "    score = 0.0\n",
    "    optimizer = optim.Adam(q.parameters(), lr=learning_rate)\n",
    "    \n",
    "    for n_epi in range(1000):\n",
    "        epsilon = max(0.01 , 0.08 - 0.02*(n_epi/200))\n",
    "        s = env.reset()\n",
    "        done = False\n",
    "        score = 0.0\n",
    "        while not done:\n",
    "            a = q.sample_action(torch.from_numpy(s). float(), epsilon)\n",
    "            s_prime, r, done = env.step(a)\n",
    "            done_mask =0.0 if done else 1.0\n",
    "            if done == False:\n",
    "                memory.put((s,a,r,s_prime,done_mask))\n",
    "                s = s_prime\n",
    "                score += r\n",
    "            if done:\n",
    "                break\n",
    "        if memory.size()>1000:\n",
    "            train(q, q_target, memory, optimizer)\n",
    "            \n",
    "        if n_epi % print_interval==0 and n_epi!=0:\n",
    "            #q_target.load_state_dict(q.state_dict())\n",
    "            Flow_time, machine_utill ,util, makespan = env.performance_measure()\n",
    "            print(\"--------------------------------------------------\")\n",
    "            print(\"flow time: {}, util : {:.3f}, makespan : {}\".format(Flow_time, util, makespan))\n",
    "            print(\"n_episode: {}, score : {:.1f}, n_buffer : {}, eps : {:.1f}%\".format(n_epi, score/print_interval,memory.size(),epsilon*100))\n",
    "            #score=0.0\n",
    "        if n_epi % q_load ==0 and n_epi!=0:\n",
    "            q_target.load_state_dict(q.state_dict())\n",
    "        s = env.reset()\n",
    "        done = False\n",
    "        score = 0.0\n",
    "    while not done:\n",
    "        a, a_list = q.select_action(torch.from_numpy(s). float(), epsilon)\n",
    "        print(a_list)\n",
    "        print(a)\n",
    "        s_prime, r, done = env.step(a)\n",
    "        print(r)\n",
    "        s = s_prime\n",
    "        score += r\n",
    "        if done:\n",
    "            break\n",
    "    Flow_time, machine_util, util, makespan = env.performance_measure()\n",
    "    env.gannt_chart()\n",
    "    return Flow_time, machine_util, util, makespan, score\n",
    "Flow_time, machine_util, util, makespan, score =main()\n",
    "print(\"FlowTime:\" , Flow_time)\n",
    "print(\"machine_util:\" , machine_util)\n",
    "print(\"util:\" , util)\n",
    "print(\"makespan:\" , makespan)\n",
    "print(\"Score\" , score)\n",
    "      \n",
    "    "
   ]
  },
  {
   "cell_type": "code",
   "execution_count": null,
   "id": "4f44aef7",
   "metadata": {},
   "outputs": [],
   "source": []
  }
 ],
 "metadata": {
  "kernelspec": {
   "display_name": "Python 3",
   "language": "python",
   "name": "python3"
  },
  "language_info": {
   "codemirror_mode": {
    "name": "ipython",
    "version": 3
   },
   "file_extension": ".py",
   "mimetype": "text/x-python",
   "name": "python",
   "nbconvert_exporter": "python",
   "pygments_lexer": "ipython3",
   "version": "3.8.8"
  }
 },
 "nbformat": 4,
 "nbformat_minor": 5
}
