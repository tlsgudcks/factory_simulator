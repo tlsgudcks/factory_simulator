{
 "cells": [
  {
   "cell_type": "code",
   "execution_count": 57,
   "id": "52efd3ad",
   "metadata": {},
   "outputs": [
    {
     "name": "stdout",
     "output_type": "stream",
     "text": [
      "현재 세대 0 최고 해 173\n",
      "population 평균 fitness: 198.02\n",
      "현재 세대 1 최고 해 173\n",
      "population 평균 fitness: 197.0\n",
      "현재 세대 2 최고 해 173\n",
      "population 평균 fitness: 197.29\n",
      "현재 세대 3 최고 해 173\n",
      "population 평균 fitness: 195.64\n",
      "현재 세대 4 최고 해 173\n",
      "population 평균 fitness: 194.35\n",
      "현재 세대 5 최고 해 173\n",
      "population 평균 fitness: 193.67\n",
      "현재 세대 6 최고 해 173\n",
      "population 평균 fitness: 192.74\n",
      "현재 세대 7 최고 해 173\n",
      "population 평균 fitness: 191.66\n",
      "현재 세대 8 최고 해 173\n",
      "population 평균 fitness: 191.12\n",
      "현재 세대 9 최고 해 173\n",
      "population 평균 fitness: 190.23\n",
      "10\n",
      "[[8, 'M3'], [11, 'M4'], [12, 'M1'], [6, 'M2'], [3, 'M3'], [1, 'M2'], [7, 'M1'], [9, 'M4'], [9, 'M1'], [5, 'M2'], [1, 'M4'], [9, 'M1'], [4, 'M3'], [12, 'M3'], [2, 'M4'], [10, 'M2'], [6, 'M3'], [3, 'M1'], [8, 'M4'], [4, 'M2'], [5, 'M1'], [2, 'M4'], [4, 'M2'], [8, 'M3'], [5, 'M1'], [8, 'M2'], [7, 'M1'], [11, 'M4'], [10, 'M3'], [12, 'M2'], [7, 'M1'], [5, 'M2'], [4, 'M3'], [2, 'M4'], [11, 'M1'], [3, 'M3'], [6, 'M1'], [10, 'M2'], [7, 'M4'], [12, 'M2'], [6, 'M3'], [10, 'M1'], [1, 'M4'], [3, 'M2'], [2, 'M2'], [1, 'M3'], [9, 'M4'], [11, 'M3']]\n"
     ]
    },
    {
     "data": {
      "application/vnd.plotly.v1+json": {
       "config": {
        "plotlyServerURL": "https://plot.ly"
       },
       "data": [
        {
         "alignmentgroup": "True",
         "base": [
          "1970-01-01T14:00:00",
          "1970-01-07T12:00:00",
          "1970-01-02T06:00:00",
          "1970-01-02T17:00:00"
         ],
         "hovertemplate": "Task=%{text}<br>Start=%{base}<br>Finish=%{x}<br>Resource=%{y}<extra></extra>",
         "legendgroup": "j9",
         "marker": {
          "color": "#2E91E5",
          "line": {
           "color": "black"
          },
          "pattern": {
           "shape": ""
          }
         },
         "name": "j9",
         "offsetgroup": "j9",
         "orientation": "h",
         "showlegend": true,
         "text": [
          "j9",
          "j9",
          "j9",
          "j9"
         ],
         "textposition": "auto",
         "type": "bar",
         "x": [
          57600000,
          50400000,
          39600000,
          32400000
         ],
         "xaxis": "x",
         "y": [
          "M4",
          "M4",
          "M1",
          "M1"
         ],
         "yaxis": "y"
        },
        {
         "alignmentgroup": "True",
         "base": [
          "1970-01-03T16:00:00",
          "1970-01-01T09:00:00",
          "1970-01-04T03:00:00",
          "1970-01-04T18:00:00"
         ],
         "hovertemplate": "Task=%{text}<br>Start=%{base}<br>Finish=%{x}<br>Resource=%{y}<extra></extra>",
         "legendgroup": "j8",
         "marker": {
          "color": "#E15F99",
          "line": {
           "color": "black"
          },
          "pattern": {
           "shape": ""
          }
         },
         "name": "j8",
         "offsetgroup": "j8",
         "orientation": "h",
         "showlegend": true,
         "text": [
          "j8",
          "j8",
          "j8",
          "j8"
         ],
         "textposition": "auto",
         "type": "bar",
         "x": [
          25200000,
          18000000,
          54000000,
          57600000
         ],
         "xaxis": "x",
         "y": [
          "M4",
          "M3",
          "M3",
          "M2"
         ],
         "yaxis": "y"
        },
        {
         "alignmentgroup": "True",
         "base": [
          "1970-01-06T08:00:00",
          "1970-01-01T14:00:00",
          "1970-01-04T17:00:00",
          "1970-01-05T02:00:00"
         ],
         "hovertemplate": "Task=%{text}<br>Start=%{base}<br>Finish=%{x}<br>Resource=%{y}<extra></extra>",
         "legendgroup": "j7",
         "marker": {
          "color": "#1CA71C",
          "line": {
           "color": "black"
          },
          "pattern": {
           "shape": ""
          }
         },
         "name": "j7",
         "offsetgroup": "j7",
         "orientation": "h",
         "showlegend": true,
         "text": [
          "j7",
          "j7",
          "j7",
          "j7"
         ],
         "textposition": "auto",
         "type": "bar",
         "x": [
          57600000,
          57600000,
          32400000,
          50400000
         ],
         "xaxis": "x",
         "y": [
          "M4",
          "M1",
          "M1",
          "M1"
         ],
         "yaxis": "y"
        },
        {
         "alignmentgroup": "True",
         "base": [
          "1970-01-02T15:00:00",
          "1970-01-03T23:00:00",
          "1970-01-05T13:00:00",
          "1970-01-07T16:00:00"
         ],
         "hovertemplate": "Task=%{text}<br>Start=%{base}<br>Finish=%{x}<br>Resource=%{y}<extra></extra>",
         "legendgroup": "j2",
         "marker": {
          "color": "#FB0D0D",
          "line": {
           "color": "black"
          },
          "pattern": {
           "shape": ""
          }
         },
         "name": "j2",
         "offsetgroup": "j2",
         "orientation": "h",
         "showlegend": true,
         "text": [
          "j2",
          "j2",
          "j2",
          "j2"
         ],
         "textposition": "auto",
         "type": "bar",
         "x": [
          90000000,
          86400000,
          68400000,
          79200000
         ],
         "xaxis": "x",
         "y": [
          "M4",
          "M4",
          "M4",
          "M2"
         ],
         "yaxis": "y"
        },
        {
         "alignmentgroup": "True",
         "base": [
          "1970-01-01T09:00:00",
          "1970-01-04T23:00:00",
          "1970-01-08T02:00:00",
          "1970-01-05T16:00:00"
         ],
         "hovertemplate": "Task=%{text}<br>Start=%{base}<br>Finish=%{x}<br>Resource=%{y}<extra></extra>",
         "legendgroup": "j11",
         "marker": {
          "color": "#DA16FF",
          "line": {
           "color": "black"
          },
          "pattern": {
           "shape": ""
          }
         },
         "name": "j11",
         "offsetgroup": "j11",
         "orientation": "h",
         "showlegend": true,
         "text": [
          "j11",
          "j11",
          "j11",
          "j11"
         ],
         "textposition": "auto",
         "type": "bar",
         "x": [
          18000000,
          50400000,
          43200000,
          39600000
         ],
         "xaxis": "x",
         "y": [
          "M4",
          "M4",
          "M3",
          "M1"
         ],
         "yaxis": "y"
        },
        {
         "alignmentgroup": "True",
         "base": [
          "1970-01-02T08:00:00",
          "1970-01-07T00:00:00",
          "1970-01-07T12:00:00",
          "1970-01-01T15:00:00"
         ],
         "hovertemplate": "Task=%{text}<br>Start=%{base}<br>Finish=%{x}<br>Resource=%{y}<extra></extra>",
         "legendgroup": "j1",
         "marker": {
          "color": "#222A2A",
          "line": {
           "color": "black"
          },
          "pattern": {
           "shape": ""
          }
         },
         "name": "j1",
         "offsetgroup": "j1",
         "orientation": "h",
         "showlegend": true,
         "text": [
          "j1",
          "j1",
          "j1",
          "j1"
         ],
         "textposition": "auto",
         "type": "bar",
         "x": [
          25200000,
          43200000,
          50400000,
          61200000
         ],
         "xaxis": "x",
         "y": [
          "M4",
          "M4",
          "M3",
          "M2"
         ],
         "yaxis": "y"
        },
        {
         "alignmentgroup": "True",
         "base": [
          "1970-01-03T07:00:00",
          "1970-01-06T18:00:00",
          "1970-01-01T09:00:00",
          "1970-01-06T03:00:00"
         ],
         "hovertemplate": "Task=%{text}<br>Start=%{base}<br>Finish=%{x}<br>Resource=%{y}<extra></extra>",
         "legendgroup": "j6",
         "marker": {
          "color": "#B68100",
          "line": {
           "color": "black"
          },
          "pattern": {
           "shape": ""
          }
         },
         "name": "j6",
         "offsetgroup": "j6",
         "orientation": "h",
         "showlegend": true,
         "text": [
          "j6",
          "j6",
          "j6",
          "j6"
         ],
         "textposition": "auto",
         "type": "bar",
         "x": [
          72000000,
          46800000,
          21600000,
          54000000
         ],
         "xaxis": "x",
         "y": [
          "M3",
          "M3",
          "M2",
          "M1"
         ],
         "yaxis": "y"
        },
        {
         "alignmentgroup": "True",
         "base": [
          "1970-01-02T12:00:00",
          "1970-01-05T03:00:00",
          "1970-01-03T17:00:00",
          "1970-01-04T00:00:00"
         ],
         "hovertemplate": "Task=%{text}<br>Start=%{base}<br>Finish=%{x}<br>Resource=%{y}<extra></extra>",
         "legendgroup": "j4",
         "marker": {
          "color": "#750D86",
          "line": {
           "color": "black"
          },
          "pattern": {
           "shape": ""
          }
         },
         "name": "j4",
         "offsetgroup": "j4",
         "orientation": "h",
         "showlegend": true,
         "text": [
          "j4",
          "j4",
          "j4",
          "j4"
         ],
         "textposition": "auto",
         "type": "bar",
         "x": [
          21600000,
          64800000,
          25200000,
          18000000
         ],
         "xaxis": "x",
         "y": [
          "M3",
          "M3",
          "M2",
          "M2"
         ],
         "yaxis": "y"
        },
        {
         "alignmentgroup": "True",
         "base": [
          "1970-01-01T14:00:00",
          "1970-01-05T21:00:00",
          "1970-01-07T10:00:00",
          "1970-01-03T02:00:00"
         ],
         "hovertemplate": "Task=%{text}<br>Start=%{base}<br>Finish=%{x}<br>Resource=%{y}<extra></extra>",
         "legendgroup": "j3",
         "marker": {
          "color": "#EB663B",
          "line": {
           "color": "black"
          },
          "pattern": {
           "shape": ""
          }
         },
         "name": "j3",
         "offsetgroup": "j3",
         "orientation": "h",
         "showlegend": true,
         "text": [
          "j3",
          "j3",
          "j3",
          "j3"
         ],
         "textposition": "auto",
         "type": "bar",
         "x": [
          79200000,
          28800000,
          21600000,
          64800000
         ],
         "xaxis": "x",
         "y": [
          "M3",
          "M3",
          "M2",
          "M1"
         ],
         "yaxis": "y"
        },
        {
         "alignmentgroup": "True",
         "base": [
          "1970-01-02T18:00:00",
          "1970-01-05T10:00:00",
          "1970-01-07T01:00:00",
          "1970-01-01T09:00:00"
         ],
         "hovertemplate": "Task=%{text}<br>Start=%{base}<br>Finish=%{x}<br>Resource=%{y}<extra></extra>",
         "legendgroup": "j12",
         "marker": {
          "color": "#511CFB",
          "line": {
           "color": "black"
          },
          "pattern": {
           "shape": ""
          }
         },
         "name": "j12",
         "offsetgroup": "j12",
         "orientation": "h",
         "showlegend": true,
         "text": [
          "j12",
          "j12",
          "j12",
          "j12"
         ],
         "textposition": "auto",
         "type": "bar",
         "x": [
          46800000,
          25200000,
          32400000,
          18000000
         ],
         "xaxis": "x",
         "y": [
          "M3",
          "M2",
          "M2",
          "M1"
         ],
         "yaxis": "y"
        },
        {
         "alignmentgroup": "True",
         "base": [
          "1970-01-04T18:00:00",
          "1970-01-03T01:00:00",
          "1970-01-06T08:00:00",
          "1970-01-07T01:00:00"
         ],
         "hovertemplate": "Task=%{text}<br>Start=%{base}<br>Finish=%{x}<br>Resource=%{y}<extra></extra>",
         "legendgroup": "j10",
         "marker": {
          "color": "#00A08B",
          "line": {
           "color": "black"
          },
          "pattern": {
           "shape": ""
          }
         },
         "name": "j10",
         "offsetgroup": "j10",
         "orientation": "h",
         "showlegend": true,
         "text": [
          "j10",
          "j10",
          "j10",
          "j10"
         ],
         "textposition": "auto",
         "type": "bar",
         "x": [
          32400000,
          57600000,
          61200000,
          68400000
         ],
         "xaxis": "x",
         "y": [
          "M3",
          "M2",
          "M2",
          "M1"
         ],
         "yaxis": "y"
        },
        {
         "alignmentgroup": "True",
         "base": [
          "1970-01-02T08:00:00",
          "1970-01-05T17:00:00",
          "1970-01-03T20:00:00",
          "1970-01-04T10:00:00"
         ],
         "hovertemplate": "Task=%{text}<br>Start=%{base}<br>Finish=%{x}<br>Resource=%{y}<extra></extra>",
         "legendgroup": "j5",
         "marker": {
          "color": "#FB00D1",
          "line": {
           "color": "black"
          },
          "pattern": {
           "shape": ""
          }
         },
         "name": "j5",
         "offsetgroup": "j5",
         "orientation": "h",
         "showlegend": true,
         "text": [
          "j5",
          "j5",
          "j5",
          "j5"
         ],
         "textposition": "auto",
         "type": "bar",
         "x": [
          61200000,
          54000000,
          50400000,
          25200000
         ],
         "xaxis": "x",
         "y": [
          "M2",
          "M2",
          "M1",
          "M1"
         ],
         "yaxis": "y"
        },
        {
         "alignmentgroup": "True",
         "base": [
          "1970-01-01T14:00:00",
          "1970-01-02T08:00:00",
          "1970-01-02T15:00:00",
          "1970-01-03T16:00:00",
          "1970-01-03T23:00:00",
          "1970-01-04T23:00:00",
          "1970-01-05T13:00:00",
          "1970-01-06T08:00:00",
          "1970-01-07T00:00:00",
          "1970-01-07T12:00:00",
          "1970-01-01T14:00:00",
          "1970-01-02T12:00:00",
          "1970-01-02T18:00:00",
          "1970-01-03T07:00:00",
          "1970-01-04T03:00:00",
          "1970-01-04T18:00:00",
          "1970-01-05T03:00:00",
          "1970-01-05T21:00:00",
          "1970-01-06T18:00:00",
          "1970-01-07T12:00:00",
          "1970-01-08T02:00:00",
          "1970-01-01T15:00:00",
          "1970-01-02T08:00:00",
          "1970-01-03T01:00:00",
          "1970-01-03T17:00:00",
          "1970-01-04T18:00:00",
          "1970-01-05T10:00:00",
          "1970-01-05T17:00:00",
          "1970-01-06T08:00:00",
          "1970-01-07T01:00:00",
          "1970-01-07T10:00:00",
          "1970-01-07T16:00:00",
          "1970-01-01T14:00:00",
          "1970-01-02T06:00:00",
          "1970-01-03T02:00:00",
          "1970-01-03T20:00:00",
          "1970-01-04T17:00:00",
          "1970-01-05T16:00:00",
          "1970-01-06T03:00:00",
          "1970-01-07T01:00:00"
         ],
         "hovertemplate": "Task=%{text}<br>Start=%{base}<br>Finish=%{x}<br>Resource=%{y}<extra></extra>",
         "legendgroup": "setup",
         "marker": {
          "color": "#FC0080",
          "line": {
           "color": "black"
          },
          "pattern": {
           "shape": ""
          }
         },
         "name": "setup",
         "offsetgroup": "setup",
         "orientation": "h",
         "showlegend": true,
         "text": [
          "setup",
          "setup",
          "setup",
          "setup",
          "setup",
          "setup",
          "setup",
          "setup",
          "setup",
          "setup",
          "setup",
          "setup",
          "setup",
          "setup",
          "setup",
          "setup",
          "setup",
          "setup",
          "setup",
          "setup",
          "setup",
          "setup",
          "setup",
          "setup",
          "setup",
          "setup",
          "setup",
          "setup",
          "setup",
          "setup",
          "setup",
          "setup",
          "setup",
          "setup",
          "setup",
          "setup",
          "setup",
          "setup",
          "setup",
          "setup"
         ],
         "textposition": "auto",
         "type": "bar",
         "width": 0.7,
         "x": [
          7200000,
          3600000,
          10800000,
          3600000,
          14400000,
          7200000,
          7200000,
          3600000,
          14400000,
          10800000,
          7200000,
          3600000,
          7200000,
          10800000,
          7200000,
          7200000,
          7200000,
          10800000,
          10800000,
          7200000,
          10800000,
          7200000,
          7200000,
          10800000,
          7200000,
          14400000,
          10800000,
          14400000,
          10800000,
          7200000,
          3600000,
          10800000,
          7200000,
          7200000,
          10800000,
          10800000,
          10800000,
          10800000,
          14400000,
          10800000
         ],
         "xaxis": "x",
         "y": [
          "M4",
          "M4",
          "M4",
          "M4",
          "M4",
          "M4",
          "M4",
          "M4",
          "M4",
          "M4",
          "M3",
          "M3",
          "M3",
          "M3",
          "M3",
          "M3",
          "M3",
          "M3",
          "M3",
          "M3",
          "M3",
          "M2",
          "M2",
          "M2",
          "M2",
          "M2",
          "M2",
          "M2",
          "M2",
          "M2",
          "M2",
          "M2",
          "M1",
          "M1",
          "M1",
          "M1",
          "M1",
          "M1",
          "M1",
          "M1"
         ],
         "yaxis": "y"
        }
       ],
       "layout": {
        "barmode": "overlay",
        "height": 800,
        "legend": {
         "title": {
          "text": "Task"
         },
         "tracegroupgap": 0
        },
        "margin": {
         "t": 60
        },
        "template": {
         "data": {
          "bar": [
           {
            "error_x": {
             "color": "rgb(36,36,36)"
            },
            "error_y": {
             "color": "rgb(36,36,36)"
            },
            "marker": {
             "line": {
              "color": "white",
              "width": 0.5
             },
             "pattern": {
              "fillmode": "overlay",
              "size": 10,
              "solidity": 0.2
             }
            },
            "type": "bar"
           }
          ],
          "barpolar": [
           {
            "marker": {
             "line": {
              "color": "white",
              "width": 0.5
             },
             "pattern": {
              "fillmode": "overlay",
              "size": 10,
              "solidity": 0.2
             }
            },
            "type": "barpolar"
           }
          ],
          "carpet": [
           {
            "aaxis": {
             "endlinecolor": "rgb(36,36,36)",
             "gridcolor": "white",
             "linecolor": "white",
             "minorgridcolor": "white",
             "startlinecolor": "rgb(36,36,36)"
            },
            "baxis": {
             "endlinecolor": "rgb(36,36,36)",
             "gridcolor": "white",
             "linecolor": "white",
             "minorgridcolor": "white",
             "startlinecolor": "rgb(36,36,36)"
            },
            "type": "carpet"
           }
          ],
          "choropleth": [
           {
            "colorbar": {
             "outlinewidth": 1,
             "tickcolor": "rgb(36,36,36)",
             "ticks": "outside"
            },
            "type": "choropleth"
           }
          ],
          "contour": [
           {
            "colorbar": {
             "outlinewidth": 1,
             "tickcolor": "rgb(36,36,36)",
             "ticks": "outside"
            },
            "colorscale": [
             [
              0,
              "#440154"
             ],
             [
              0.1111111111111111,
              "#482878"
             ],
             [
              0.2222222222222222,
              "#3e4989"
             ],
             [
              0.3333333333333333,
              "#31688e"
             ],
             [
              0.4444444444444444,
              "#26828e"
             ],
             [
              0.5555555555555556,
              "#1f9e89"
             ],
             [
              0.6666666666666666,
              "#35b779"
             ],
             [
              0.7777777777777778,
              "#6ece58"
             ],
             [
              0.8888888888888888,
              "#b5de2b"
             ],
             [
              1,
              "#fde725"
             ]
            ],
            "type": "contour"
           }
          ],
          "contourcarpet": [
           {
            "colorbar": {
             "outlinewidth": 1,
             "tickcolor": "rgb(36,36,36)",
             "ticks": "outside"
            },
            "type": "contourcarpet"
           }
          ],
          "heatmap": [
           {
            "colorbar": {
             "outlinewidth": 1,
             "tickcolor": "rgb(36,36,36)",
             "ticks": "outside"
            },
            "colorscale": [
             [
              0,
              "#440154"
             ],
             [
              0.1111111111111111,
              "#482878"
             ],
             [
              0.2222222222222222,
              "#3e4989"
             ],
             [
              0.3333333333333333,
              "#31688e"
             ],
             [
              0.4444444444444444,
              "#26828e"
             ],
             [
              0.5555555555555556,
              "#1f9e89"
             ],
             [
              0.6666666666666666,
              "#35b779"
             ],
             [
              0.7777777777777778,
              "#6ece58"
             ],
             [
              0.8888888888888888,
              "#b5de2b"
             ],
             [
              1,
              "#fde725"
             ]
            ],
            "type": "heatmap"
           }
          ],
          "heatmapgl": [
           {
            "colorbar": {
             "outlinewidth": 1,
             "tickcolor": "rgb(36,36,36)",
             "ticks": "outside"
            },
            "colorscale": [
             [
              0,
              "#440154"
             ],
             [
              0.1111111111111111,
              "#482878"
             ],
             [
              0.2222222222222222,
              "#3e4989"
             ],
             [
              0.3333333333333333,
              "#31688e"
             ],
             [
              0.4444444444444444,
              "#26828e"
             ],
             [
              0.5555555555555556,
              "#1f9e89"
             ],
             [
              0.6666666666666666,
              "#35b779"
             ],
             [
              0.7777777777777778,
              "#6ece58"
             ],
             [
              0.8888888888888888,
              "#b5de2b"
             ],
             [
              1,
              "#fde725"
             ]
            ],
            "type": "heatmapgl"
           }
          ],
          "histogram": [
           {
            "marker": {
             "line": {
              "color": "white",
              "width": 0.6
             }
            },
            "type": "histogram"
           }
          ],
          "histogram2d": [
           {
            "colorbar": {
             "outlinewidth": 1,
             "tickcolor": "rgb(36,36,36)",
             "ticks": "outside"
            },
            "colorscale": [
             [
              0,
              "#440154"
             ],
             [
              0.1111111111111111,
              "#482878"
             ],
             [
              0.2222222222222222,
              "#3e4989"
             ],
             [
              0.3333333333333333,
              "#31688e"
             ],
             [
              0.4444444444444444,
              "#26828e"
             ],
             [
              0.5555555555555556,
              "#1f9e89"
             ],
             [
              0.6666666666666666,
              "#35b779"
             ],
             [
              0.7777777777777778,
              "#6ece58"
             ],
             [
              0.8888888888888888,
              "#b5de2b"
             ],
             [
              1,
              "#fde725"
             ]
            ],
            "type": "histogram2d"
           }
          ],
          "histogram2dcontour": [
           {
            "colorbar": {
             "outlinewidth": 1,
             "tickcolor": "rgb(36,36,36)",
             "ticks": "outside"
            },
            "colorscale": [
             [
              0,
              "#440154"
             ],
             [
              0.1111111111111111,
              "#482878"
             ],
             [
              0.2222222222222222,
              "#3e4989"
             ],
             [
              0.3333333333333333,
              "#31688e"
             ],
             [
              0.4444444444444444,
              "#26828e"
             ],
             [
              0.5555555555555556,
              "#1f9e89"
             ],
             [
              0.6666666666666666,
              "#35b779"
             ],
             [
              0.7777777777777778,
              "#6ece58"
             ],
             [
              0.8888888888888888,
              "#b5de2b"
             ],
             [
              1,
              "#fde725"
             ]
            ],
            "type": "histogram2dcontour"
           }
          ],
          "mesh3d": [
           {
            "colorbar": {
             "outlinewidth": 1,
             "tickcolor": "rgb(36,36,36)",
             "ticks": "outside"
            },
            "type": "mesh3d"
           }
          ],
          "parcoords": [
           {
            "line": {
             "colorbar": {
              "outlinewidth": 1,
              "tickcolor": "rgb(36,36,36)",
              "ticks": "outside"
             }
            },
            "type": "parcoords"
           }
          ],
          "pie": [
           {
            "automargin": true,
            "type": "pie"
           }
          ],
          "scatter": [
           {
            "fillpattern": {
             "fillmode": "overlay",
             "size": 10,
             "solidity": 0.2
            },
            "type": "scatter"
           }
          ],
          "scatter3d": [
           {
            "line": {
             "colorbar": {
              "outlinewidth": 1,
              "tickcolor": "rgb(36,36,36)",
              "ticks": "outside"
             }
            },
            "marker": {
             "colorbar": {
              "outlinewidth": 1,
              "tickcolor": "rgb(36,36,36)",
              "ticks": "outside"
             }
            },
            "type": "scatter3d"
           }
          ],
          "scattercarpet": [
           {
            "marker": {
             "colorbar": {
              "outlinewidth": 1,
              "tickcolor": "rgb(36,36,36)",
              "ticks": "outside"
             }
            },
            "type": "scattercarpet"
           }
          ],
          "scattergeo": [
           {
            "marker": {
             "colorbar": {
              "outlinewidth": 1,
              "tickcolor": "rgb(36,36,36)",
              "ticks": "outside"
             }
            },
            "type": "scattergeo"
           }
          ],
          "scattergl": [
           {
            "marker": {
             "colorbar": {
              "outlinewidth": 1,
              "tickcolor": "rgb(36,36,36)",
              "ticks": "outside"
             }
            },
            "type": "scattergl"
           }
          ],
          "scattermapbox": [
           {
            "marker": {
             "colorbar": {
              "outlinewidth": 1,
              "tickcolor": "rgb(36,36,36)",
              "ticks": "outside"
             }
            },
            "type": "scattermapbox"
           }
          ],
          "scatterpolar": [
           {
            "marker": {
             "colorbar": {
              "outlinewidth": 1,
              "tickcolor": "rgb(36,36,36)",
              "ticks": "outside"
             }
            },
            "type": "scatterpolar"
           }
          ],
          "scatterpolargl": [
           {
            "marker": {
             "colorbar": {
              "outlinewidth": 1,
              "tickcolor": "rgb(36,36,36)",
              "ticks": "outside"
             }
            },
            "type": "scatterpolargl"
           }
          ],
          "scatterternary": [
           {
            "marker": {
             "colorbar": {
              "outlinewidth": 1,
              "tickcolor": "rgb(36,36,36)",
              "ticks": "outside"
             }
            },
            "type": "scatterternary"
           }
          ],
          "surface": [
           {
            "colorbar": {
             "outlinewidth": 1,
             "tickcolor": "rgb(36,36,36)",
             "ticks": "outside"
            },
            "colorscale": [
             [
              0,
              "#440154"
             ],
             [
              0.1111111111111111,
              "#482878"
             ],
             [
              0.2222222222222222,
              "#3e4989"
             ],
             [
              0.3333333333333333,
              "#31688e"
             ],
             [
              0.4444444444444444,
              "#26828e"
             ],
             [
              0.5555555555555556,
              "#1f9e89"
             ],
             [
              0.6666666666666666,
              "#35b779"
             ],
             [
              0.7777777777777778,
              "#6ece58"
             ],
             [
              0.8888888888888888,
              "#b5de2b"
             ],
             [
              1,
              "#fde725"
             ]
            ],
            "type": "surface"
           }
          ],
          "table": [
           {
            "cells": {
             "fill": {
              "color": "rgb(237,237,237)"
             },
             "line": {
              "color": "white"
             }
            },
            "header": {
             "fill": {
              "color": "rgb(217,217,217)"
             },
             "line": {
              "color": "white"
             }
            },
            "type": "table"
           }
          ]
         },
         "layout": {
          "annotationdefaults": {
           "arrowhead": 0,
           "arrowwidth": 1
          },
          "autotypenumbers": "strict",
          "coloraxis": {
           "colorbar": {
            "outlinewidth": 1,
            "tickcolor": "rgb(36,36,36)",
            "ticks": "outside"
           }
          },
          "colorscale": {
           "diverging": [
            [
             0,
             "rgb(103,0,31)"
            ],
            [
             0.1,
             "rgb(178,24,43)"
            ],
            [
             0.2,
             "rgb(214,96,77)"
            ],
            [
             0.3,
             "rgb(244,165,130)"
            ],
            [
             0.4,
             "rgb(253,219,199)"
            ],
            [
             0.5,
             "rgb(247,247,247)"
            ],
            [
             0.6,
             "rgb(209,229,240)"
            ],
            [
             0.7,
             "rgb(146,197,222)"
            ],
            [
             0.8,
             "rgb(67,147,195)"
            ],
            [
             0.9,
             "rgb(33,102,172)"
            ],
            [
             1,
             "rgb(5,48,97)"
            ]
           ],
           "sequential": [
            [
             0,
             "#440154"
            ],
            [
             0.1111111111111111,
             "#482878"
            ],
            [
             0.2222222222222222,
             "#3e4989"
            ],
            [
             0.3333333333333333,
             "#31688e"
            ],
            [
             0.4444444444444444,
             "#26828e"
            ],
            [
             0.5555555555555556,
             "#1f9e89"
            ],
            [
             0.6666666666666666,
             "#35b779"
            ],
            [
             0.7777777777777778,
             "#6ece58"
            ],
            [
             0.8888888888888888,
             "#b5de2b"
            ],
            [
             1,
             "#fde725"
            ]
           ],
           "sequentialminus": [
            [
             0,
             "#440154"
            ],
            [
             0.1111111111111111,
             "#482878"
            ],
            [
             0.2222222222222222,
             "#3e4989"
            ],
            [
             0.3333333333333333,
             "#31688e"
            ],
            [
             0.4444444444444444,
             "#26828e"
            ],
            [
             0.5555555555555556,
             "#1f9e89"
            ],
            [
             0.6666666666666666,
             "#35b779"
            ],
            [
             0.7777777777777778,
             "#6ece58"
            ],
            [
             0.8888888888888888,
             "#b5de2b"
            ],
            [
             1,
             "#fde725"
            ]
           ]
          },
          "colorway": [
           "#1F77B4",
           "#FF7F0E",
           "#2CA02C",
           "#D62728",
           "#9467BD",
           "#8C564B",
           "#E377C2",
           "#7F7F7F",
           "#BCBD22",
           "#17BECF"
          ],
          "font": {
           "color": "rgb(36,36,36)"
          },
          "geo": {
           "bgcolor": "white",
           "lakecolor": "white",
           "landcolor": "white",
           "showlakes": true,
           "showland": true,
           "subunitcolor": "white"
          },
          "hoverlabel": {
           "align": "left"
          },
          "hovermode": "closest",
          "mapbox": {
           "style": "light"
          },
          "paper_bgcolor": "white",
          "plot_bgcolor": "white",
          "polar": {
           "angularaxis": {
            "gridcolor": "rgb(232,232,232)",
            "linecolor": "rgb(36,36,36)",
            "showgrid": false,
            "showline": true,
            "ticks": "outside"
           },
           "bgcolor": "white",
           "radialaxis": {
            "gridcolor": "rgb(232,232,232)",
            "linecolor": "rgb(36,36,36)",
            "showgrid": false,
            "showline": true,
            "ticks": "outside"
           }
          },
          "scene": {
           "xaxis": {
            "backgroundcolor": "white",
            "gridcolor": "rgb(232,232,232)",
            "gridwidth": 2,
            "linecolor": "rgb(36,36,36)",
            "showbackground": true,
            "showgrid": false,
            "showline": true,
            "ticks": "outside",
            "zeroline": false,
            "zerolinecolor": "rgb(36,36,36)"
           },
           "yaxis": {
            "backgroundcolor": "white",
            "gridcolor": "rgb(232,232,232)",
            "gridwidth": 2,
            "linecolor": "rgb(36,36,36)",
            "showbackground": true,
            "showgrid": false,
            "showline": true,
            "ticks": "outside",
            "zeroline": false,
            "zerolinecolor": "rgb(36,36,36)"
           },
           "zaxis": {
            "backgroundcolor": "white",
            "gridcolor": "rgb(232,232,232)",
            "gridwidth": 2,
            "linecolor": "rgb(36,36,36)",
            "showbackground": true,
            "showgrid": false,
            "showline": true,
            "ticks": "outside",
            "zeroline": false,
            "zerolinecolor": "rgb(36,36,36)"
           }
          },
          "shapedefaults": {
           "fillcolor": "black",
           "line": {
            "width": 0
           },
           "opacity": 0.3
          },
          "ternary": {
           "aaxis": {
            "gridcolor": "rgb(232,232,232)",
            "linecolor": "rgb(36,36,36)",
            "showgrid": false,
            "showline": true,
            "ticks": "outside"
           },
           "baxis": {
            "gridcolor": "rgb(232,232,232)",
            "linecolor": "rgb(36,36,36)",
            "showgrid": false,
            "showline": true,
            "ticks": "outside"
           },
           "bgcolor": "white",
           "caxis": {
            "gridcolor": "rgb(232,232,232)",
            "linecolor": "rgb(36,36,36)",
            "showgrid": false,
            "showline": true,
            "ticks": "outside"
           }
          },
          "title": {
           "x": 0.05
          },
          "xaxis": {
           "automargin": true,
           "gridcolor": "rgb(232,232,232)",
           "linecolor": "rgb(36,36,36)",
           "showgrid": false,
           "showline": true,
           "ticks": "outside",
           "title": {
            "standoff": 15
           },
           "zeroline": false,
           "zerolinecolor": "rgb(36,36,36)"
          },
          "yaxis": {
           "automargin": true,
           "gridcolor": "rgb(232,232,232)",
           "linecolor": "rgb(36,36,36)",
           "showgrid": false,
           "showline": true,
           "ticks": "outside",
           "title": {
            "standoff": 15
           },
           "zeroline": false,
           "zerolinecolor": "rgb(36,36,36)"
          }
         }
        },
        "width": 2000,
        "xaxis": {
         "anchor": "y",
         "domain": [
          0,
          1
         ],
         "type": "date"
        },
        "yaxis": {
         "anchor": "x",
         "domain": [
          0,
          1
         ],
         "title": {
          "text": "Resource"
         }
        }
       }
      },
      "text/html": [
       "<div>                            <div id=\"f0e33be8-98e4-4f0c-95bb-84bffca393d3\" class=\"plotly-graph-div\" style=\"height:800px; width:2000px;\"></div>            <script type=\"text/javascript\">                require([\"plotly\"], function(Plotly) {                    window.PLOTLYENV=window.PLOTLYENV || {};                                    if (document.getElementById(\"f0e33be8-98e4-4f0c-95bb-84bffca393d3\")) {                    Plotly.newPlot(                        \"f0e33be8-98e4-4f0c-95bb-84bffca393d3\",                        [{\"alignmentgroup\":\"True\",\"base\":[\"1970-01-01T14:00:00\",\"1970-01-07T12:00:00\",\"1970-01-02T06:00:00\",\"1970-01-02T17:00:00\"],\"hovertemplate\":\"Task=%{text}<br>Start=%{base}<br>Finish=%{x}<br>Resource=%{y}<extra></extra>\",\"legendgroup\":\"j9\",\"marker\":{\"color\":\"#2E91E5\",\"pattern\":{\"shape\":\"\"},\"line\":{\"color\":\"black\"}},\"name\":\"j9\",\"offsetgroup\":\"j9\",\"orientation\":\"h\",\"showlegend\":true,\"text\":[\"j9\",\"j9\",\"j9\",\"j9\"],\"textposition\":\"auto\",\"x\":[57600000.0,50400000.0,39600000.0,32400000.0],\"xaxis\":\"x\",\"y\":[\"M4\",\"M4\",\"M1\",\"M1\"],\"yaxis\":\"y\",\"type\":\"bar\"},{\"alignmentgroup\":\"True\",\"base\":[\"1970-01-03T16:00:00\",\"1970-01-01T09:00:00\",\"1970-01-04T03:00:00\",\"1970-01-04T18:00:00\"],\"hovertemplate\":\"Task=%{text}<br>Start=%{base}<br>Finish=%{x}<br>Resource=%{y}<extra></extra>\",\"legendgroup\":\"j8\",\"marker\":{\"color\":\"#E15F99\",\"pattern\":{\"shape\":\"\"},\"line\":{\"color\":\"black\"}},\"name\":\"j8\",\"offsetgroup\":\"j8\",\"orientation\":\"h\",\"showlegend\":true,\"text\":[\"j8\",\"j8\",\"j8\",\"j8\"],\"textposition\":\"auto\",\"x\":[25200000.0,18000000.0,54000000.0,57600000.0],\"xaxis\":\"x\",\"y\":[\"M4\",\"M3\",\"M3\",\"M2\"],\"yaxis\":\"y\",\"type\":\"bar\"},{\"alignmentgroup\":\"True\",\"base\":[\"1970-01-06T08:00:00\",\"1970-01-01T14:00:00\",\"1970-01-04T17:00:00\",\"1970-01-05T02:00:00\"],\"hovertemplate\":\"Task=%{text}<br>Start=%{base}<br>Finish=%{x}<br>Resource=%{y}<extra></extra>\",\"legendgroup\":\"j7\",\"marker\":{\"color\":\"#1CA71C\",\"pattern\":{\"shape\":\"\"},\"line\":{\"color\":\"black\"}},\"name\":\"j7\",\"offsetgroup\":\"j7\",\"orientation\":\"h\",\"showlegend\":true,\"text\":[\"j7\",\"j7\",\"j7\",\"j7\"],\"textposition\":\"auto\",\"x\":[57600000.0,57600000.0,32400000.0,50400000.0],\"xaxis\":\"x\",\"y\":[\"M4\",\"M1\",\"M1\",\"M1\"],\"yaxis\":\"y\",\"type\":\"bar\"},{\"alignmentgroup\":\"True\",\"base\":[\"1970-01-02T15:00:00\",\"1970-01-03T23:00:00\",\"1970-01-05T13:00:00\",\"1970-01-07T16:00:00\"],\"hovertemplate\":\"Task=%{text}<br>Start=%{base}<br>Finish=%{x}<br>Resource=%{y}<extra></extra>\",\"legendgroup\":\"j2\",\"marker\":{\"color\":\"#FB0D0D\",\"pattern\":{\"shape\":\"\"},\"line\":{\"color\":\"black\"}},\"name\":\"j2\",\"offsetgroup\":\"j2\",\"orientation\":\"h\",\"showlegend\":true,\"text\":[\"j2\",\"j2\",\"j2\",\"j2\"],\"textposition\":\"auto\",\"x\":[90000000.0,86400000.0,68400000.0,79200000.0],\"xaxis\":\"x\",\"y\":[\"M4\",\"M4\",\"M4\",\"M2\"],\"yaxis\":\"y\",\"type\":\"bar\"},{\"alignmentgroup\":\"True\",\"base\":[\"1970-01-01T09:00:00\",\"1970-01-04T23:00:00\",\"1970-01-08T02:00:00\",\"1970-01-05T16:00:00\"],\"hovertemplate\":\"Task=%{text}<br>Start=%{base}<br>Finish=%{x}<br>Resource=%{y}<extra></extra>\",\"legendgroup\":\"j11\",\"marker\":{\"color\":\"#DA16FF\",\"pattern\":{\"shape\":\"\"},\"line\":{\"color\":\"black\"}},\"name\":\"j11\",\"offsetgroup\":\"j11\",\"orientation\":\"h\",\"showlegend\":true,\"text\":[\"j11\",\"j11\",\"j11\",\"j11\"],\"textposition\":\"auto\",\"x\":[18000000.0,50400000.0,43200000.0,39600000.0],\"xaxis\":\"x\",\"y\":[\"M4\",\"M4\",\"M3\",\"M1\"],\"yaxis\":\"y\",\"type\":\"bar\"},{\"alignmentgroup\":\"True\",\"base\":[\"1970-01-02T08:00:00\",\"1970-01-07T00:00:00\",\"1970-01-07T12:00:00\",\"1970-01-01T15:00:00\"],\"hovertemplate\":\"Task=%{text}<br>Start=%{base}<br>Finish=%{x}<br>Resource=%{y}<extra></extra>\",\"legendgroup\":\"j1\",\"marker\":{\"color\":\"#222A2A\",\"pattern\":{\"shape\":\"\"},\"line\":{\"color\":\"black\"}},\"name\":\"j1\",\"offsetgroup\":\"j1\",\"orientation\":\"h\",\"showlegend\":true,\"text\":[\"j1\",\"j1\",\"j1\",\"j1\"],\"textposition\":\"auto\",\"x\":[25200000.0,43200000.0,50400000.0,61200000.0],\"xaxis\":\"x\",\"y\":[\"M4\",\"M4\",\"M3\",\"M2\"],\"yaxis\":\"y\",\"type\":\"bar\"},{\"alignmentgroup\":\"True\",\"base\":[\"1970-01-03T07:00:00\",\"1970-01-06T18:00:00\",\"1970-01-01T09:00:00\",\"1970-01-06T03:00:00\"],\"hovertemplate\":\"Task=%{text}<br>Start=%{base}<br>Finish=%{x}<br>Resource=%{y}<extra></extra>\",\"legendgroup\":\"j6\",\"marker\":{\"color\":\"#B68100\",\"pattern\":{\"shape\":\"\"},\"line\":{\"color\":\"black\"}},\"name\":\"j6\",\"offsetgroup\":\"j6\",\"orientation\":\"h\",\"showlegend\":true,\"text\":[\"j6\",\"j6\",\"j6\",\"j6\"],\"textposition\":\"auto\",\"x\":[72000000.0,46800000.0,21600000.0,54000000.0],\"xaxis\":\"x\",\"y\":[\"M3\",\"M3\",\"M2\",\"M1\"],\"yaxis\":\"y\",\"type\":\"bar\"},{\"alignmentgroup\":\"True\",\"base\":[\"1970-01-02T12:00:00\",\"1970-01-05T03:00:00\",\"1970-01-03T17:00:00\",\"1970-01-04T00:00:00\"],\"hovertemplate\":\"Task=%{text}<br>Start=%{base}<br>Finish=%{x}<br>Resource=%{y}<extra></extra>\",\"legendgroup\":\"j4\",\"marker\":{\"color\":\"#750D86\",\"pattern\":{\"shape\":\"\"},\"line\":{\"color\":\"black\"}},\"name\":\"j4\",\"offsetgroup\":\"j4\",\"orientation\":\"h\",\"showlegend\":true,\"text\":[\"j4\",\"j4\",\"j4\",\"j4\"],\"textposition\":\"auto\",\"x\":[21600000.0,64800000.0,25200000.0,18000000.0],\"xaxis\":\"x\",\"y\":[\"M3\",\"M3\",\"M2\",\"M2\"],\"yaxis\":\"y\",\"type\":\"bar\"},{\"alignmentgroup\":\"True\",\"base\":[\"1970-01-01T14:00:00\",\"1970-01-05T21:00:00\",\"1970-01-07T10:00:00\",\"1970-01-03T02:00:00\"],\"hovertemplate\":\"Task=%{text}<br>Start=%{base}<br>Finish=%{x}<br>Resource=%{y}<extra></extra>\",\"legendgroup\":\"j3\",\"marker\":{\"color\":\"#EB663B\",\"pattern\":{\"shape\":\"\"},\"line\":{\"color\":\"black\"}},\"name\":\"j3\",\"offsetgroup\":\"j3\",\"orientation\":\"h\",\"showlegend\":true,\"text\":[\"j3\",\"j3\",\"j3\",\"j3\"],\"textposition\":\"auto\",\"x\":[79200000.0,28800000.0,21600000.0,64800000.0],\"xaxis\":\"x\",\"y\":[\"M3\",\"M3\",\"M2\",\"M1\"],\"yaxis\":\"y\",\"type\":\"bar\"},{\"alignmentgroup\":\"True\",\"base\":[\"1970-01-02T18:00:00\",\"1970-01-05T10:00:00\",\"1970-01-07T01:00:00\",\"1970-01-01T09:00:00\"],\"hovertemplate\":\"Task=%{text}<br>Start=%{base}<br>Finish=%{x}<br>Resource=%{y}<extra></extra>\",\"legendgroup\":\"j12\",\"marker\":{\"color\":\"#511CFB\",\"pattern\":{\"shape\":\"\"},\"line\":{\"color\":\"black\"}},\"name\":\"j12\",\"offsetgroup\":\"j12\",\"orientation\":\"h\",\"showlegend\":true,\"text\":[\"j12\",\"j12\",\"j12\",\"j12\"],\"textposition\":\"auto\",\"x\":[46800000.0,25200000.0,32400000.0,18000000.0],\"xaxis\":\"x\",\"y\":[\"M3\",\"M2\",\"M2\",\"M1\"],\"yaxis\":\"y\",\"type\":\"bar\"},{\"alignmentgroup\":\"True\",\"base\":[\"1970-01-04T18:00:00\",\"1970-01-03T01:00:00\",\"1970-01-06T08:00:00\",\"1970-01-07T01:00:00\"],\"hovertemplate\":\"Task=%{text}<br>Start=%{base}<br>Finish=%{x}<br>Resource=%{y}<extra></extra>\",\"legendgroup\":\"j10\",\"marker\":{\"color\":\"#00A08B\",\"pattern\":{\"shape\":\"\"},\"line\":{\"color\":\"black\"}},\"name\":\"j10\",\"offsetgroup\":\"j10\",\"orientation\":\"h\",\"showlegend\":true,\"text\":[\"j10\",\"j10\",\"j10\",\"j10\"],\"textposition\":\"auto\",\"x\":[32400000.0,57600000.0,61200000.0,68400000.0],\"xaxis\":\"x\",\"y\":[\"M3\",\"M2\",\"M2\",\"M1\"],\"yaxis\":\"y\",\"type\":\"bar\"},{\"alignmentgroup\":\"True\",\"base\":[\"1970-01-02T08:00:00\",\"1970-01-05T17:00:00\",\"1970-01-03T20:00:00\",\"1970-01-04T10:00:00\"],\"hovertemplate\":\"Task=%{text}<br>Start=%{base}<br>Finish=%{x}<br>Resource=%{y}<extra></extra>\",\"legendgroup\":\"j5\",\"marker\":{\"color\":\"#FB00D1\",\"pattern\":{\"shape\":\"\"},\"line\":{\"color\":\"black\"}},\"name\":\"j5\",\"offsetgroup\":\"j5\",\"orientation\":\"h\",\"showlegend\":true,\"text\":[\"j5\",\"j5\",\"j5\",\"j5\"],\"textposition\":\"auto\",\"x\":[61200000.0,54000000.0,50400000.0,25200000.0],\"xaxis\":\"x\",\"y\":[\"M2\",\"M2\",\"M1\",\"M1\"],\"yaxis\":\"y\",\"type\":\"bar\"},{\"alignmentgroup\":\"True\",\"base\":[\"1970-01-01T14:00:00\",\"1970-01-02T08:00:00\",\"1970-01-02T15:00:00\",\"1970-01-03T16:00:00\",\"1970-01-03T23:00:00\",\"1970-01-04T23:00:00\",\"1970-01-05T13:00:00\",\"1970-01-06T08:00:00\",\"1970-01-07T00:00:00\",\"1970-01-07T12:00:00\",\"1970-01-01T14:00:00\",\"1970-01-02T12:00:00\",\"1970-01-02T18:00:00\",\"1970-01-03T07:00:00\",\"1970-01-04T03:00:00\",\"1970-01-04T18:00:00\",\"1970-01-05T03:00:00\",\"1970-01-05T21:00:00\",\"1970-01-06T18:00:00\",\"1970-01-07T12:00:00\",\"1970-01-08T02:00:00\",\"1970-01-01T15:00:00\",\"1970-01-02T08:00:00\",\"1970-01-03T01:00:00\",\"1970-01-03T17:00:00\",\"1970-01-04T18:00:00\",\"1970-01-05T10:00:00\",\"1970-01-05T17:00:00\",\"1970-01-06T08:00:00\",\"1970-01-07T01:00:00\",\"1970-01-07T10:00:00\",\"1970-01-07T16:00:00\",\"1970-01-01T14:00:00\",\"1970-01-02T06:00:00\",\"1970-01-03T02:00:00\",\"1970-01-03T20:00:00\",\"1970-01-04T17:00:00\",\"1970-01-05T16:00:00\",\"1970-01-06T03:00:00\",\"1970-01-07T01:00:00\"],\"hovertemplate\":\"Task=%{text}<br>Start=%{base}<br>Finish=%{x}<br>Resource=%{y}<extra></extra>\",\"legendgroup\":\"setup\",\"marker\":{\"color\":\"#FC0080\",\"pattern\":{\"shape\":\"\"},\"line\":{\"color\":\"black\"}},\"name\":\"setup\",\"offsetgroup\":\"setup\",\"orientation\":\"h\",\"showlegend\":true,\"text\":[\"setup\",\"setup\",\"setup\",\"setup\",\"setup\",\"setup\",\"setup\",\"setup\",\"setup\",\"setup\",\"setup\",\"setup\",\"setup\",\"setup\",\"setup\",\"setup\",\"setup\",\"setup\",\"setup\",\"setup\",\"setup\",\"setup\",\"setup\",\"setup\",\"setup\",\"setup\",\"setup\",\"setup\",\"setup\",\"setup\",\"setup\",\"setup\",\"setup\",\"setup\",\"setup\",\"setup\",\"setup\",\"setup\",\"setup\",\"setup\"],\"textposition\":\"auto\",\"x\":[7200000.0,3600000.0,10800000.0,3600000.0,14400000.0,7200000.0,7200000.0,3600000.0,14400000.0,10800000.0,7200000.0,3600000.0,7200000.0,10800000.0,7200000.0,7200000.0,7200000.0,10800000.0,10800000.0,7200000.0,10800000.0,7200000.0,7200000.0,10800000.0,7200000.0,14400000.0,10800000.0,14400000.0,10800000.0,7200000.0,3600000.0,10800000.0,7200000.0,7200000.0,10800000.0,10800000.0,10800000.0,10800000.0,14400000.0,10800000.0],\"xaxis\":\"x\",\"y\":[\"M4\",\"M4\",\"M4\",\"M4\",\"M4\",\"M4\",\"M4\",\"M4\",\"M4\",\"M4\",\"M3\",\"M3\",\"M3\",\"M3\",\"M3\",\"M3\",\"M3\",\"M3\",\"M3\",\"M3\",\"M3\",\"M2\",\"M2\",\"M2\",\"M2\",\"M2\",\"M2\",\"M2\",\"M2\",\"M2\",\"M2\",\"M2\",\"M1\",\"M1\",\"M1\",\"M1\",\"M1\",\"M1\",\"M1\",\"M1\"],\"yaxis\":\"y\",\"type\":\"bar\",\"width\":0.7}],                        {\"template\":{\"data\":{\"barpolar\":[{\"marker\":{\"line\":{\"color\":\"white\",\"width\":0.5},\"pattern\":{\"fillmode\":\"overlay\",\"size\":10,\"solidity\":0.2}},\"type\":\"barpolar\"}],\"bar\":[{\"error_x\":{\"color\":\"rgb(36,36,36)\"},\"error_y\":{\"color\":\"rgb(36,36,36)\"},\"marker\":{\"line\":{\"color\":\"white\",\"width\":0.5},\"pattern\":{\"fillmode\":\"overlay\",\"size\":10,\"solidity\":0.2}},\"type\":\"bar\"}],\"carpet\":[{\"aaxis\":{\"endlinecolor\":\"rgb(36,36,36)\",\"gridcolor\":\"white\",\"linecolor\":\"white\",\"minorgridcolor\":\"white\",\"startlinecolor\":\"rgb(36,36,36)\"},\"baxis\":{\"endlinecolor\":\"rgb(36,36,36)\",\"gridcolor\":\"white\",\"linecolor\":\"white\",\"minorgridcolor\":\"white\",\"startlinecolor\":\"rgb(36,36,36)\"},\"type\":\"carpet\"}],\"choropleth\":[{\"colorbar\":{\"outlinewidth\":1,\"tickcolor\":\"rgb(36,36,36)\",\"ticks\":\"outside\"},\"type\":\"choropleth\"}],\"contourcarpet\":[{\"colorbar\":{\"outlinewidth\":1,\"tickcolor\":\"rgb(36,36,36)\",\"ticks\":\"outside\"},\"type\":\"contourcarpet\"}],\"contour\":[{\"colorbar\":{\"outlinewidth\":1,\"tickcolor\":\"rgb(36,36,36)\",\"ticks\":\"outside\"},\"colorscale\":[[0.0,\"#440154\"],[0.1111111111111111,\"#482878\"],[0.2222222222222222,\"#3e4989\"],[0.3333333333333333,\"#31688e\"],[0.4444444444444444,\"#26828e\"],[0.5555555555555556,\"#1f9e89\"],[0.6666666666666666,\"#35b779\"],[0.7777777777777778,\"#6ece58\"],[0.8888888888888888,\"#b5de2b\"],[1.0,\"#fde725\"]],\"type\":\"contour\"}],\"heatmapgl\":[{\"colorbar\":{\"outlinewidth\":1,\"tickcolor\":\"rgb(36,36,36)\",\"ticks\":\"outside\"},\"colorscale\":[[0.0,\"#440154\"],[0.1111111111111111,\"#482878\"],[0.2222222222222222,\"#3e4989\"],[0.3333333333333333,\"#31688e\"],[0.4444444444444444,\"#26828e\"],[0.5555555555555556,\"#1f9e89\"],[0.6666666666666666,\"#35b779\"],[0.7777777777777778,\"#6ece58\"],[0.8888888888888888,\"#b5de2b\"],[1.0,\"#fde725\"]],\"type\":\"heatmapgl\"}],\"heatmap\":[{\"colorbar\":{\"outlinewidth\":1,\"tickcolor\":\"rgb(36,36,36)\",\"ticks\":\"outside\"},\"colorscale\":[[0.0,\"#440154\"],[0.1111111111111111,\"#482878\"],[0.2222222222222222,\"#3e4989\"],[0.3333333333333333,\"#31688e\"],[0.4444444444444444,\"#26828e\"],[0.5555555555555556,\"#1f9e89\"],[0.6666666666666666,\"#35b779\"],[0.7777777777777778,\"#6ece58\"],[0.8888888888888888,\"#b5de2b\"],[1.0,\"#fde725\"]],\"type\":\"heatmap\"}],\"histogram2dcontour\":[{\"colorbar\":{\"outlinewidth\":1,\"tickcolor\":\"rgb(36,36,36)\",\"ticks\":\"outside\"},\"colorscale\":[[0.0,\"#440154\"],[0.1111111111111111,\"#482878\"],[0.2222222222222222,\"#3e4989\"],[0.3333333333333333,\"#31688e\"],[0.4444444444444444,\"#26828e\"],[0.5555555555555556,\"#1f9e89\"],[0.6666666666666666,\"#35b779\"],[0.7777777777777778,\"#6ece58\"],[0.8888888888888888,\"#b5de2b\"],[1.0,\"#fde725\"]],\"type\":\"histogram2dcontour\"}],\"histogram2d\":[{\"colorbar\":{\"outlinewidth\":1,\"tickcolor\":\"rgb(36,36,36)\",\"ticks\":\"outside\"},\"colorscale\":[[0.0,\"#440154\"],[0.1111111111111111,\"#482878\"],[0.2222222222222222,\"#3e4989\"],[0.3333333333333333,\"#31688e\"],[0.4444444444444444,\"#26828e\"],[0.5555555555555556,\"#1f9e89\"],[0.6666666666666666,\"#35b779\"],[0.7777777777777778,\"#6ece58\"],[0.8888888888888888,\"#b5de2b\"],[1.0,\"#fde725\"]],\"type\":\"histogram2d\"}],\"histogram\":[{\"marker\":{\"line\":{\"color\":\"white\",\"width\":0.6}},\"type\":\"histogram\"}],\"mesh3d\":[{\"colorbar\":{\"outlinewidth\":1,\"tickcolor\":\"rgb(36,36,36)\",\"ticks\":\"outside\"},\"type\":\"mesh3d\"}],\"parcoords\":[{\"line\":{\"colorbar\":{\"outlinewidth\":1,\"tickcolor\":\"rgb(36,36,36)\",\"ticks\":\"outside\"}},\"type\":\"parcoords\"}],\"pie\":[{\"automargin\":true,\"type\":\"pie\"}],\"scatter3d\":[{\"line\":{\"colorbar\":{\"outlinewidth\":1,\"tickcolor\":\"rgb(36,36,36)\",\"ticks\":\"outside\"}},\"marker\":{\"colorbar\":{\"outlinewidth\":1,\"tickcolor\":\"rgb(36,36,36)\",\"ticks\":\"outside\"}},\"type\":\"scatter3d\"}],\"scattercarpet\":[{\"marker\":{\"colorbar\":{\"outlinewidth\":1,\"tickcolor\":\"rgb(36,36,36)\",\"ticks\":\"outside\"}},\"type\":\"scattercarpet\"}],\"scattergeo\":[{\"marker\":{\"colorbar\":{\"outlinewidth\":1,\"tickcolor\":\"rgb(36,36,36)\",\"ticks\":\"outside\"}},\"type\":\"scattergeo\"}],\"scattergl\":[{\"marker\":{\"colorbar\":{\"outlinewidth\":1,\"tickcolor\":\"rgb(36,36,36)\",\"ticks\":\"outside\"}},\"type\":\"scattergl\"}],\"scattermapbox\":[{\"marker\":{\"colorbar\":{\"outlinewidth\":1,\"tickcolor\":\"rgb(36,36,36)\",\"ticks\":\"outside\"}},\"type\":\"scattermapbox\"}],\"scatterpolargl\":[{\"marker\":{\"colorbar\":{\"outlinewidth\":1,\"tickcolor\":\"rgb(36,36,36)\",\"ticks\":\"outside\"}},\"type\":\"scatterpolargl\"}],\"scatterpolar\":[{\"marker\":{\"colorbar\":{\"outlinewidth\":1,\"tickcolor\":\"rgb(36,36,36)\",\"ticks\":\"outside\"}},\"type\":\"scatterpolar\"}],\"scatter\":[{\"fillpattern\":{\"fillmode\":\"overlay\",\"size\":10,\"solidity\":0.2},\"type\":\"scatter\"}],\"scatterternary\":[{\"marker\":{\"colorbar\":{\"outlinewidth\":1,\"tickcolor\":\"rgb(36,36,36)\",\"ticks\":\"outside\"}},\"type\":\"scatterternary\"}],\"surface\":[{\"colorbar\":{\"outlinewidth\":1,\"tickcolor\":\"rgb(36,36,36)\",\"ticks\":\"outside\"},\"colorscale\":[[0.0,\"#440154\"],[0.1111111111111111,\"#482878\"],[0.2222222222222222,\"#3e4989\"],[0.3333333333333333,\"#31688e\"],[0.4444444444444444,\"#26828e\"],[0.5555555555555556,\"#1f9e89\"],[0.6666666666666666,\"#35b779\"],[0.7777777777777778,\"#6ece58\"],[0.8888888888888888,\"#b5de2b\"],[1.0,\"#fde725\"]],\"type\":\"surface\"}],\"table\":[{\"cells\":{\"fill\":{\"color\":\"rgb(237,237,237)\"},\"line\":{\"color\":\"white\"}},\"header\":{\"fill\":{\"color\":\"rgb(217,217,217)\"},\"line\":{\"color\":\"white\"}},\"type\":\"table\"}]},\"layout\":{\"annotationdefaults\":{\"arrowhead\":0,\"arrowwidth\":1},\"autotypenumbers\":\"strict\",\"coloraxis\":{\"colorbar\":{\"outlinewidth\":1,\"tickcolor\":\"rgb(36,36,36)\",\"ticks\":\"outside\"}},\"colorscale\":{\"diverging\":[[0.0,\"rgb(103,0,31)\"],[0.1,\"rgb(178,24,43)\"],[0.2,\"rgb(214,96,77)\"],[0.3,\"rgb(244,165,130)\"],[0.4,\"rgb(253,219,199)\"],[0.5,\"rgb(247,247,247)\"],[0.6,\"rgb(209,229,240)\"],[0.7,\"rgb(146,197,222)\"],[0.8,\"rgb(67,147,195)\"],[0.9,\"rgb(33,102,172)\"],[1.0,\"rgb(5,48,97)\"]],\"sequential\":[[0.0,\"#440154\"],[0.1111111111111111,\"#482878\"],[0.2222222222222222,\"#3e4989\"],[0.3333333333333333,\"#31688e\"],[0.4444444444444444,\"#26828e\"],[0.5555555555555556,\"#1f9e89\"],[0.6666666666666666,\"#35b779\"],[0.7777777777777778,\"#6ece58\"],[0.8888888888888888,\"#b5de2b\"],[1.0,\"#fde725\"]],\"sequentialminus\":[[0.0,\"#440154\"],[0.1111111111111111,\"#482878\"],[0.2222222222222222,\"#3e4989\"],[0.3333333333333333,\"#31688e\"],[0.4444444444444444,\"#26828e\"],[0.5555555555555556,\"#1f9e89\"],[0.6666666666666666,\"#35b779\"],[0.7777777777777778,\"#6ece58\"],[0.8888888888888888,\"#b5de2b\"],[1.0,\"#fde725\"]]},\"colorway\":[\"#1F77B4\",\"#FF7F0E\",\"#2CA02C\",\"#D62728\",\"#9467BD\",\"#8C564B\",\"#E377C2\",\"#7F7F7F\",\"#BCBD22\",\"#17BECF\"],\"font\":{\"color\":\"rgb(36,36,36)\"},\"geo\":{\"bgcolor\":\"white\",\"lakecolor\":\"white\",\"landcolor\":\"white\",\"showlakes\":true,\"showland\":true,\"subunitcolor\":\"white\"},\"hoverlabel\":{\"align\":\"left\"},\"hovermode\":\"closest\",\"mapbox\":{\"style\":\"light\"},\"paper_bgcolor\":\"white\",\"plot_bgcolor\":\"white\",\"polar\":{\"angularaxis\":{\"gridcolor\":\"rgb(232,232,232)\",\"linecolor\":\"rgb(36,36,36)\",\"showgrid\":false,\"showline\":true,\"ticks\":\"outside\"},\"bgcolor\":\"white\",\"radialaxis\":{\"gridcolor\":\"rgb(232,232,232)\",\"linecolor\":\"rgb(36,36,36)\",\"showgrid\":false,\"showline\":true,\"ticks\":\"outside\"}},\"scene\":{\"xaxis\":{\"backgroundcolor\":\"white\",\"gridcolor\":\"rgb(232,232,232)\",\"gridwidth\":2,\"linecolor\":\"rgb(36,36,36)\",\"showbackground\":true,\"showgrid\":false,\"showline\":true,\"ticks\":\"outside\",\"zeroline\":false,\"zerolinecolor\":\"rgb(36,36,36)\"},\"yaxis\":{\"backgroundcolor\":\"white\",\"gridcolor\":\"rgb(232,232,232)\",\"gridwidth\":2,\"linecolor\":\"rgb(36,36,36)\",\"showbackground\":true,\"showgrid\":false,\"showline\":true,\"ticks\":\"outside\",\"zeroline\":false,\"zerolinecolor\":\"rgb(36,36,36)\"},\"zaxis\":{\"backgroundcolor\":\"white\",\"gridcolor\":\"rgb(232,232,232)\",\"gridwidth\":2,\"linecolor\":\"rgb(36,36,36)\",\"showbackground\":true,\"showgrid\":false,\"showline\":true,\"ticks\":\"outside\",\"zeroline\":false,\"zerolinecolor\":\"rgb(36,36,36)\"}},\"shapedefaults\":{\"fillcolor\":\"black\",\"line\":{\"width\":0},\"opacity\":0.3},\"ternary\":{\"aaxis\":{\"gridcolor\":\"rgb(232,232,232)\",\"linecolor\":\"rgb(36,36,36)\",\"showgrid\":false,\"showline\":true,\"ticks\":\"outside\"},\"baxis\":{\"gridcolor\":\"rgb(232,232,232)\",\"linecolor\":\"rgb(36,36,36)\",\"showgrid\":false,\"showline\":true,\"ticks\":\"outside\"},\"bgcolor\":\"white\",\"caxis\":{\"gridcolor\":\"rgb(232,232,232)\",\"linecolor\":\"rgb(36,36,36)\",\"showgrid\":false,\"showline\":true,\"ticks\":\"outside\"}},\"title\":{\"x\":0.05},\"xaxis\":{\"automargin\":true,\"gridcolor\":\"rgb(232,232,232)\",\"linecolor\":\"rgb(36,36,36)\",\"showgrid\":false,\"showline\":true,\"ticks\":\"outside\",\"title\":{\"standoff\":15},\"zeroline\":false,\"zerolinecolor\":\"rgb(36,36,36)\"},\"yaxis\":{\"automargin\":true,\"gridcolor\":\"rgb(232,232,232)\",\"linecolor\":\"rgb(36,36,36)\",\"showgrid\":false,\"showline\":true,\"ticks\":\"outside\",\"title\":{\"standoff\":15},\"zeroline\":false,\"zerolinecolor\":\"rgb(36,36,36)\"}}},\"xaxis\":{\"anchor\":\"y\",\"domain\":[0.0,1.0],\"type\":\"date\"},\"yaxis\":{\"anchor\":\"x\",\"domain\":[0.0,1.0],\"title\":{\"text\":\"Resource\"}},\"legend\":{\"title\":{\"text\":\"Task\"},\"tracegroupgap\":0},\"margin\":{\"t\":60},\"barmode\":\"overlay\",\"height\":800,\"width\":2000},                        {\"responsive\": true}                    ).then(function(){\n",
       "                            \n",
       "var gd = document.getElementById('f0e33be8-98e4-4f0c-95bb-84bffca393d3');\n",
       "var x = new MutationObserver(function (mutations, observer) {{\n",
       "        var display = window.getComputedStyle(gd).display;\n",
       "        if (!display || display === 'none') {{\n",
       "            console.log([gd, 'removed!']);\n",
       "            Plotly.purge(gd);\n",
       "            observer.disconnect();\n",
       "        }}\n",
       "}});\n",
       "\n",
       "// Listen for the removal of the full notebook cells\n",
       "var notebookContainer = gd.closest('#notebook-container');\n",
       "if (notebookContainer) {{\n",
       "    x.observe(notebookContainer, {childList: true});\n",
       "}}\n",
       "\n",
       "// Listen for the clearing of the current output cell\n",
       "var outputEl = gd.closest('.output');\n",
       "if (outputEl) {{\n",
       "    x.observe(outputEl, {childList: true});\n",
       "}}\n",
       "\n",
       "                        })                };                });            </script>        </div>"
      ]
     },
     "metadata": {},
     "output_type": "display_data"
    },
    {
     "data": {
      "application/vnd.plotly.v1+json": {
       "config": {
        "plotlyServerURL": "https://plot.ly"
       },
       "data": [
        {
         "alignmentgroup": "True",
         "base": [
          "1970-01-07T12:00:00",
          "1970-01-04T18:00:00",
          "1970-01-08T02:00:00",
          "1970-01-02T18:00:00",
          "1970-01-05T21:00:00",
          "1970-01-01T14:00:00",
          "1970-01-02T12:00:00",
          "1970-01-05T03:00:00",
          "1970-01-03T07:00:00",
          "1970-01-06T18:00:00",
          "1970-01-01T09:00:00",
          "1970-01-04T03:00:00",
          "1970-01-06T18:00:00",
          "1970-01-01T14:00:00",
          "1970-01-07T12:00:00",
          "1970-01-04T18:00:00",
          "1970-01-03T07:00:00",
          "1970-01-05T03:00:00",
          "1970-01-02T18:00:00",
          "1970-01-02T12:00:00",
          "1970-01-05T21:00:00",
          "1970-01-04T03:00:00",
          "1970-01-08T02:00:00"
         ],
         "hovertemplate": "Resource=%{text}<br>Start=%{base}<br>Finish=%{x}<br>Task=%{y}<extra></extra>",
         "legendgroup": "M3",
         "marker": {
          "cmid": 1000,
          "color": "rgb(76,114,176)",
          "line": {
           "color": "yellow"
          },
          "pattern": {
           "shape": ""
          }
         },
         "name": "M3",
         "offsetgroup": "M3",
         "orientation": "h",
         "showlegend": true,
         "text": [
          "M3",
          "M3",
          "M3",
          "M3",
          "M3",
          "M3",
          "M3",
          "M3",
          "M3",
          "M3",
          "M3",
          "M3",
          "M3",
          "M3",
          "M3",
          "M3",
          "M3",
          "M3",
          "M3",
          "M3",
          "M3",
          "M3",
          "M3"
         ],
         "textposition": "auto",
         "type": "bar",
         "x": [
          50400000,
          32400000,
          43200000,
          46800000,
          28800000,
          79200000,
          21600000,
          64800000,
          72000000,
          46800000,
          18000000,
          54000000,
          10800000,
          7200000,
          7200000,
          7200000,
          10800000,
          7200000,
          7200000,
          3600000,
          10800000,
          7200000,
          10800000
         ],
         "xaxis": "x",
         "y": [
          "j1",
          "j10",
          "j11",
          "j12",
          "j3",
          "j3",
          "j4",
          "j4",
          "j6",
          "j6",
          "j8",
          "j8",
          "setup",
          "setup",
          "setup",
          "setup",
          "setup",
          "setup",
          "setup",
          "setup",
          "setup",
          "setup",
          "setup"
         ],
         "yaxis": "y"
        },
        {
         "alignmentgroup": "True",
         "base": [
          "1970-01-01T15:00:00",
          "1970-01-06T08:00:00",
          "1970-01-03T01:00:00",
          "1970-01-05T10:00:00",
          "1970-01-07T01:00:00",
          "1970-01-07T16:00:00",
          "1970-01-07T10:00:00",
          "1970-01-03T17:00:00",
          "1970-01-04T00:00:00",
          "1970-01-02T08:00:00",
          "1970-01-05T17:00:00",
          "1970-01-01T09:00:00",
          "1970-01-04T18:00:00",
          "1970-01-07T01:00:00",
          "1970-01-04T18:00:00",
          "1970-01-07T10:00:00",
          "1970-01-01T15:00:00",
          "1970-01-07T16:00:00",
          "1970-01-02T08:00:00",
          "1970-01-06T08:00:00",
          "1970-01-05T10:00:00",
          "1970-01-05T17:00:00",
          "1970-01-03T01:00:00",
          "1970-01-03T17:00:00"
         ],
         "hovertemplate": "Resource=%{text}<br>Start=%{base}<br>Finish=%{x}<br>Task=%{y}<extra></extra>",
         "legendgroup": "M2",
         "marker": {
          "cmid": 1000,
          "color": "rgb(221,132,82)",
          "line": {
           "color": "yellow"
          },
          "pattern": {
           "shape": ""
          }
         },
         "name": "M2",
         "offsetgroup": "M2",
         "orientation": "h",
         "showlegend": true,
         "text": [
          "M2",
          "M2",
          "M2",
          "M2",
          "M2",
          "M2",
          "M2",
          "M2",
          "M2",
          "M2",
          "M2",
          "M2",
          "M2",
          "M2",
          "M2",
          "M2",
          "M2",
          "M2",
          "M2",
          "M2",
          "M2",
          "M2",
          "M2",
          "M2"
         ],
         "textposition": "auto",
         "type": "bar",
         "x": [
          61200000,
          61200000,
          57600000,
          25200000,
          32400000,
          79200000,
          21600000,
          25200000,
          18000000,
          61200000,
          54000000,
          21600000,
          57600000,
          7200000,
          14400000,
          3600000,
          7200000,
          10800000,
          7200000,
          10800000,
          10800000,
          14400000,
          10800000,
          7200000
         ],
         "xaxis": "x",
         "y": [
          "j1",
          "j10",
          "j10",
          "j12",
          "j12",
          "j2",
          "j3",
          "j4",
          "j4",
          "j5",
          "j5",
          "j6",
          "j8",
          "setup",
          "setup",
          "setup",
          "setup",
          "setup",
          "setup",
          "setup",
          "setup",
          "setup",
          "setup",
          "setup"
         ],
         "yaxis": "y"
        },
        {
         "alignmentgroup": "True",
         "base": [
          "1970-01-02T08:00:00",
          "1970-01-07T00:00:00",
          "1970-01-04T23:00:00",
          "1970-01-01T09:00:00",
          "1970-01-02T15:00:00",
          "1970-01-03T23:00:00",
          "1970-01-05T13:00:00",
          "1970-01-06T08:00:00",
          "1970-01-03T16:00:00",
          "1970-01-07T12:00:00",
          "1970-01-01T14:00:00",
          "1970-01-04T23:00:00",
          "1970-01-01T14:00:00",
          "1970-01-06T08:00:00",
          "1970-01-07T00:00:00",
          "1970-01-03T23:00:00",
          "1970-01-07T12:00:00",
          "1970-01-02T08:00:00",
          "1970-01-03T16:00:00",
          "1970-01-02T15:00:00",
          "1970-01-05T13:00:00"
         ],
         "hovertemplate": "Resource=%{text}<br>Start=%{base}<br>Finish=%{x}<br>Task=%{y}<extra></extra>",
         "legendgroup": "M4",
         "marker": {
          "cmid": 1000,
          "color": "rgb(85,168,104)",
          "line": {
           "color": "yellow"
          },
          "pattern": {
           "shape": ""
          }
         },
         "name": "M4",
         "offsetgroup": "M4",
         "orientation": "h",
         "showlegend": true,
         "text": [
          "M4",
          "M4",
          "M4",
          "M4",
          "M4",
          "M4",
          "M4",
          "M4",
          "M4",
          "M4",
          "M4",
          "M4",
          "M4",
          "M4",
          "M4",
          "M4",
          "M4",
          "M4",
          "M4",
          "M4",
          "M4"
         ],
         "textposition": "auto",
         "type": "bar",
         "x": [
          25200000,
          43200000,
          50400000,
          18000000,
          90000000,
          86400000,
          68400000,
          57600000,
          25200000,
          50400000,
          57600000,
          7200000,
          7200000,
          3600000,
          14400000,
          14400000,
          10800000,
          3600000,
          3600000,
          10800000,
          7200000
         ],
         "xaxis": "x",
         "y": [
          "j1",
          "j1",
          "j11",
          "j11",
          "j2",
          "j2",
          "j2",
          "j7",
          "j8",
          "j9",
          "j9",
          "setup",
          "setup",
          "setup",
          "setup",
          "setup",
          "setup",
          "setup",
          "setup",
          "setup",
          "setup"
         ],
         "yaxis": "y"
        },
        {
         "alignmentgroup": "True",
         "base": [
          "1970-01-07T01:00:00",
          "1970-01-05T16:00:00",
          "1970-01-01T09:00:00",
          "1970-01-03T02:00:00",
          "1970-01-03T20:00:00",
          "1970-01-04T10:00:00",
          "1970-01-06T03:00:00",
          "1970-01-05T02:00:00",
          "1970-01-04T17:00:00",
          "1970-01-01T14:00:00",
          "1970-01-02T06:00:00",
          "1970-01-02T17:00:00",
          "1970-01-02T06:00:00",
          "1970-01-03T20:00:00",
          "1970-01-07T01:00:00",
          "1970-01-01T14:00:00",
          "1970-01-04T17:00:00",
          "1970-01-03T02:00:00",
          "1970-01-05T16:00:00",
          "1970-01-06T03:00:00"
         ],
         "hovertemplate": "Resource=%{text}<br>Start=%{base}<br>Finish=%{x}<br>Task=%{y}<extra></extra>",
         "legendgroup": "M1",
         "marker": {
          "cmid": 1000,
          "color": "rgb(196,78,82)",
          "line": {
           "color": "yellow"
          },
          "pattern": {
           "shape": ""
          }
         },
         "name": "M1",
         "offsetgroup": "M1",
         "orientation": "h",
         "showlegend": true,
         "text": [
          "M1",
          "M1",
          "M1",
          "M1",
          "M1",
          "M1",
          "M1",
          "M1",
          "M1",
          "M1",
          "M1",
          "M1",
          "M1",
          "M1",
          "M1",
          "M1",
          "M1",
          "M1",
          "M1",
          "M1"
         ],
         "textposition": "auto",
         "type": "bar",
         "x": [
          68400000,
          39600000,
          18000000,
          64800000,
          50400000,
          25200000,
          54000000,
          50400000,
          32400000,
          57600000,
          39600000,
          32400000,
          7200000,
          10800000,
          10800000,
          7200000,
          10800000,
          10800000,
          10800000,
          14400000
         ],
         "xaxis": "x",
         "y": [
          "j10",
          "j11",
          "j12",
          "j3",
          "j5",
          "j5",
          "j6",
          "j7",
          "j7",
          "j7",
          "j9",
          "j9",
          "setup",
          "setup",
          "setup",
          "setup",
          "setup",
          "setup",
          "setup",
          "setup"
         ],
         "yaxis": "y"
        }
       ],
       "layout": {
        "barmode": "overlay",
        "height": 1000,
        "legend": {
         "title": {
          "text": "Resource"
         },
         "tracegroupgap": 0
        },
        "margin": {
         "t": 60
        },
        "template": {
         "data": {
          "bar": [
           {
            "error_x": {
             "color": "rgb(36,36,36)"
            },
            "error_y": {
             "color": "rgb(36,36,36)"
            },
            "marker": {
             "line": {
              "color": "rgb(234,234,242)",
              "width": 0.5
             },
             "pattern": {
              "fillmode": "overlay",
              "size": 10,
              "solidity": 0.2
             }
            },
            "type": "bar"
           }
          ],
          "barpolar": [
           {
            "marker": {
             "line": {
              "color": "rgb(234,234,242)",
              "width": 0.5
             },
             "pattern": {
              "fillmode": "overlay",
              "size": 10,
              "solidity": 0.2
             }
            },
            "type": "barpolar"
           }
          ],
          "carpet": [
           {
            "aaxis": {
             "endlinecolor": "rgb(36,36,36)",
             "gridcolor": "white",
             "linecolor": "white",
             "minorgridcolor": "white",
             "startlinecolor": "rgb(36,36,36)"
            },
            "baxis": {
             "endlinecolor": "rgb(36,36,36)",
             "gridcolor": "white",
             "linecolor": "white",
             "minorgridcolor": "white",
             "startlinecolor": "rgb(36,36,36)"
            },
            "type": "carpet"
           }
          ],
          "choropleth": [
           {
            "colorbar": {
             "outlinewidth": 0,
             "tickcolor": "rgb(36,36,36)",
             "ticklen": 8,
             "ticks": "outside",
             "tickwidth": 2
            },
            "type": "choropleth"
           }
          ],
          "contour": [
           {
            "colorbar": {
             "outlinewidth": 0,
             "tickcolor": "rgb(36,36,36)",
             "ticklen": 8,
             "ticks": "outside",
             "tickwidth": 2
            },
            "colorscale": [
             [
              0,
              "rgb(2,4,25)"
             ],
             [
              0.06274509803921569,
              "rgb(24,15,41)"
             ],
             [
              0.12549019607843137,
              "rgb(47,23,57)"
             ],
             [
              0.18823529411764706,
              "rgb(71,28,72)"
             ],
             [
              0.25098039215686274,
              "rgb(97,30,82)"
             ],
             [
              0.3137254901960784,
              "rgb(123,30,89)"
             ],
             [
              0.3764705882352941,
              "rgb(150,27,91)"
             ],
             [
              0.4392156862745098,
              "rgb(177,22,88)"
             ],
             [
              0.5019607843137255,
              "rgb(203,26,79)"
             ],
             [
              0.5647058823529412,
              "rgb(223,47,67)"
             ],
             [
              0.6274509803921569,
              "rgb(236,76,61)"
             ],
             [
              0.6901960784313725,
              "rgb(242,107,73)"
             ],
             [
              0.7529411764705882,
              "rgb(244,135,95)"
             ],
             [
              0.8156862745098039,
              "rgb(245,162,122)"
             ],
             [
              0.8784313725490196,
              "rgb(246,188,153)"
             ],
             [
              0.9411764705882353,
              "rgb(247,212,187)"
             ],
             [
              1,
              "rgb(250,234,220)"
             ]
            ],
            "type": "contour"
           }
          ],
          "contourcarpet": [
           {
            "colorbar": {
             "outlinewidth": 0,
             "tickcolor": "rgb(36,36,36)",
             "ticklen": 8,
             "ticks": "outside",
             "tickwidth": 2
            },
            "type": "contourcarpet"
           }
          ],
          "heatmap": [
           {
            "colorbar": {
             "outlinewidth": 0,
             "tickcolor": "rgb(36,36,36)",
             "ticklen": 8,
             "ticks": "outside",
             "tickwidth": 2
            },
            "colorscale": [
             [
              0,
              "rgb(2,4,25)"
             ],
             [
              0.06274509803921569,
              "rgb(24,15,41)"
             ],
             [
              0.12549019607843137,
              "rgb(47,23,57)"
             ],
             [
              0.18823529411764706,
              "rgb(71,28,72)"
             ],
             [
              0.25098039215686274,
              "rgb(97,30,82)"
             ],
             [
              0.3137254901960784,
              "rgb(123,30,89)"
             ],
             [
              0.3764705882352941,
              "rgb(150,27,91)"
             ],
             [
              0.4392156862745098,
              "rgb(177,22,88)"
             ],
             [
              0.5019607843137255,
              "rgb(203,26,79)"
             ],
             [
              0.5647058823529412,
              "rgb(223,47,67)"
             ],
             [
              0.6274509803921569,
              "rgb(236,76,61)"
             ],
             [
              0.6901960784313725,
              "rgb(242,107,73)"
             ],
             [
              0.7529411764705882,
              "rgb(244,135,95)"
             ],
             [
              0.8156862745098039,
              "rgb(245,162,122)"
             ],
             [
              0.8784313725490196,
              "rgb(246,188,153)"
             ],
             [
              0.9411764705882353,
              "rgb(247,212,187)"
             ],
             [
              1,
              "rgb(250,234,220)"
             ]
            ],
            "type": "heatmap"
           }
          ],
          "heatmapgl": [
           {
            "colorbar": {
             "outlinewidth": 0,
             "tickcolor": "rgb(36,36,36)",
             "ticklen": 8,
             "ticks": "outside",
             "tickwidth": 2
            },
            "colorscale": [
             [
              0,
              "rgb(2,4,25)"
             ],
             [
              0.06274509803921569,
              "rgb(24,15,41)"
             ],
             [
              0.12549019607843137,
              "rgb(47,23,57)"
             ],
             [
              0.18823529411764706,
              "rgb(71,28,72)"
             ],
             [
              0.25098039215686274,
              "rgb(97,30,82)"
             ],
             [
              0.3137254901960784,
              "rgb(123,30,89)"
             ],
             [
              0.3764705882352941,
              "rgb(150,27,91)"
             ],
             [
              0.4392156862745098,
              "rgb(177,22,88)"
             ],
             [
              0.5019607843137255,
              "rgb(203,26,79)"
             ],
             [
              0.5647058823529412,
              "rgb(223,47,67)"
             ],
             [
              0.6274509803921569,
              "rgb(236,76,61)"
             ],
             [
              0.6901960784313725,
              "rgb(242,107,73)"
             ],
             [
              0.7529411764705882,
              "rgb(244,135,95)"
             ],
             [
              0.8156862745098039,
              "rgb(245,162,122)"
             ],
             [
              0.8784313725490196,
              "rgb(246,188,153)"
             ],
             [
              0.9411764705882353,
              "rgb(247,212,187)"
             ],
             [
              1,
              "rgb(250,234,220)"
             ]
            ],
            "type": "heatmapgl"
           }
          ],
          "histogram": [
           {
            "marker": {
             "pattern": {
              "fillmode": "overlay",
              "size": 10,
              "solidity": 0.2
             }
            },
            "type": "histogram"
           }
          ],
          "histogram2d": [
           {
            "colorbar": {
             "outlinewidth": 0,
             "tickcolor": "rgb(36,36,36)",
             "ticklen": 8,
             "ticks": "outside",
             "tickwidth": 2
            },
            "colorscale": [
             [
              0,
              "rgb(2,4,25)"
             ],
             [
              0.06274509803921569,
              "rgb(24,15,41)"
             ],
             [
              0.12549019607843137,
              "rgb(47,23,57)"
             ],
             [
              0.18823529411764706,
              "rgb(71,28,72)"
             ],
             [
              0.25098039215686274,
              "rgb(97,30,82)"
             ],
             [
              0.3137254901960784,
              "rgb(123,30,89)"
             ],
             [
              0.3764705882352941,
              "rgb(150,27,91)"
             ],
             [
              0.4392156862745098,
              "rgb(177,22,88)"
             ],
             [
              0.5019607843137255,
              "rgb(203,26,79)"
             ],
             [
              0.5647058823529412,
              "rgb(223,47,67)"
             ],
             [
              0.6274509803921569,
              "rgb(236,76,61)"
             ],
             [
              0.6901960784313725,
              "rgb(242,107,73)"
             ],
             [
              0.7529411764705882,
              "rgb(244,135,95)"
             ],
             [
              0.8156862745098039,
              "rgb(245,162,122)"
             ],
             [
              0.8784313725490196,
              "rgb(246,188,153)"
             ],
             [
              0.9411764705882353,
              "rgb(247,212,187)"
             ],
             [
              1,
              "rgb(250,234,220)"
             ]
            ],
            "type": "histogram2d"
           }
          ],
          "histogram2dcontour": [
           {
            "colorbar": {
             "outlinewidth": 0,
             "tickcolor": "rgb(36,36,36)",
             "ticklen": 8,
             "ticks": "outside",
             "tickwidth": 2
            },
            "colorscale": [
             [
              0,
              "rgb(2,4,25)"
             ],
             [
              0.06274509803921569,
              "rgb(24,15,41)"
             ],
             [
              0.12549019607843137,
              "rgb(47,23,57)"
             ],
             [
              0.18823529411764706,
              "rgb(71,28,72)"
             ],
             [
              0.25098039215686274,
              "rgb(97,30,82)"
             ],
             [
              0.3137254901960784,
              "rgb(123,30,89)"
             ],
             [
              0.3764705882352941,
              "rgb(150,27,91)"
             ],
             [
              0.4392156862745098,
              "rgb(177,22,88)"
             ],
             [
              0.5019607843137255,
              "rgb(203,26,79)"
             ],
             [
              0.5647058823529412,
              "rgb(223,47,67)"
             ],
             [
              0.6274509803921569,
              "rgb(236,76,61)"
             ],
             [
              0.6901960784313725,
              "rgb(242,107,73)"
             ],
             [
              0.7529411764705882,
              "rgb(244,135,95)"
             ],
             [
              0.8156862745098039,
              "rgb(245,162,122)"
             ],
             [
              0.8784313725490196,
              "rgb(246,188,153)"
             ],
             [
              0.9411764705882353,
              "rgb(247,212,187)"
             ],
             [
              1,
              "rgb(250,234,220)"
             ]
            ],
            "type": "histogram2dcontour"
           }
          ],
          "mesh3d": [
           {
            "colorbar": {
             "outlinewidth": 0,
             "tickcolor": "rgb(36,36,36)",
             "ticklen": 8,
             "ticks": "outside",
             "tickwidth": 2
            },
            "type": "mesh3d"
           }
          ],
          "parcoords": [
           {
            "line": {
             "colorbar": {
              "outlinewidth": 0,
              "tickcolor": "rgb(36,36,36)",
              "ticklen": 8,
              "ticks": "outside",
              "tickwidth": 2
             }
            },
            "type": "parcoords"
           }
          ],
          "pie": [
           {
            "automargin": true,
            "type": "pie"
           }
          ],
          "scatter": [
           {
            "fillpattern": {
             "fillmode": "overlay",
             "size": 10,
             "solidity": 0.2
            },
            "type": "scatter"
           }
          ],
          "scatter3d": [
           {
            "line": {
             "colorbar": {
              "outlinewidth": 0,
              "tickcolor": "rgb(36,36,36)",
              "ticklen": 8,
              "ticks": "outside",
              "tickwidth": 2
             }
            },
            "marker": {
             "colorbar": {
              "outlinewidth": 0,
              "tickcolor": "rgb(36,36,36)",
              "ticklen": 8,
              "ticks": "outside",
              "tickwidth": 2
             }
            },
            "type": "scatter3d"
           }
          ],
          "scattercarpet": [
           {
            "marker": {
             "colorbar": {
              "outlinewidth": 0,
              "tickcolor": "rgb(36,36,36)",
              "ticklen": 8,
              "ticks": "outside",
              "tickwidth": 2
             }
            },
            "type": "scattercarpet"
           }
          ],
          "scattergeo": [
           {
            "marker": {
             "colorbar": {
              "outlinewidth": 0,
              "tickcolor": "rgb(36,36,36)",
              "ticklen": 8,
              "ticks": "outside",
              "tickwidth": 2
             }
            },
            "type": "scattergeo"
           }
          ],
          "scattergl": [
           {
            "marker": {
             "colorbar": {
              "outlinewidth": 0,
              "tickcolor": "rgb(36,36,36)",
              "ticklen": 8,
              "ticks": "outside",
              "tickwidth": 2
             }
            },
            "type": "scattergl"
           }
          ],
          "scattermapbox": [
           {
            "marker": {
             "colorbar": {
              "outlinewidth": 0,
              "tickcolor": "rgb(36,36,36)",
              "ticklen": 8,
              "ticks": "outside",
              "tickwidth": 2
             }
            },
            "type": "scattermapbox"
           }
          ],
          "scatterpolar": [
           {
            "marker": {
             "colorbar": {
              "outlinewidth": 0,
              "tickcolor": "rgb(36,36,36)",
              "ticklen": 8,
              "ticks": "outside",
              "tickwidth": 2
             }
            },
            "type": "scatterpolar"
           }
          ],
          "scatterpolargl": [
           {
            "marker": {
             "colorbar": {
              "outlinewidth": 0,
              "tickcolor": "rgb(36,36,36)",
              "ticklen": 8,
              "ticks": "outside",
              "tickwidth": 2
             }
            },
            "type": "scatterpolargl"
           }
          ],
          "scatterternary": [
           {
            "marker": {
             "colorbar": {
              "outlinewidth": 0,
              "tickcolor": "rgb(36,36,36)",
              "ticklen": 8,
              "ticks": "outside",
              "tickwidth": 2
             }
            },
            "type": "scatterternary"
           }
          ],
          "surface": [
           {
            "colorbar": {
             "outlinewidth": 0,
             "tickcolor": "rgb(36,36,36)",
             "ticklen": 8,
             "ticks": "outside",
             "tickwidth": 2
            },
            "colorscale": [
             [
              0,
              "rgb(2,4,25)"
             ],
             [
              0.06274509803921569,
              "rgb(24,15,41)"
             ],
             [
              0.12549019607843137,
              "rgb(47,23,57)"
             ],
             [
              0.18823529411764706,
              "rgb(71,28,72)"
             ],
             [
              0.25098039215686274,
              "rgb(97,30,82)"
             ],
             [
              0.3137254901960784,
              "rgb(123,30,89)"
             ],
             [
              0.3764705882352941,
              "rgb(150,27,91)"
             ],
             [
              0.4392156862745098,
              "rgb(177,22,88)"
             ],
             [
              0.5019607843137255,
              "rgb(203,26,79)"
             ],
             [
              0.5647058823529412,
              "rgb(223,47,67)"
             ],
             [
              0.6274509803921569,
              "rgb(236,76,61)"
             ],
             [
              0.6901960784313725,
              "rgb(242,107,73)"
             ],
             [
              0.7529411764705882,
              "rgb(244,135,95)"
             ],
             [
              0.8156862745098039,
              "rgb(245,162,122)"
             ],
             [
              0.8784313725490196,
              "rgb(246,188,153)"
             ],
             [
              0.9411764705882353,
              "rgb(247,212,187)"
             ],
             [
              1,
              "rgb(250,234,220)"
             ]
            ],
            "type": "surface"
           }
          ],
          "table": [
           {
            "cells": {
             "fill": {
              "color": "rgb(231,231,240)"
             },
             "line": {
              "color": "white"
             }
            },
            "header": {
             "fill": {
              "color": "rgb(183,183,191)"
             },
             "line": {
              "color": "white"
             }
            },
            "type": "table"
           }
          ]
         },
         "layout": {
          "annotationdefaults": {
           "arrowcolor": "rgb(67,103,167)"
          },
          "autotypenumbers": "strict",
          "coloraxis": {
           "colorbar": {
            "outlinewidth": 0,
            "tickcolor": "rgb(36,36,36)",
            "ticklen": 8,
            "ticks": "outside",
            "tickwidth": 2
           }
          },
          "colorscale": {
           "sequential": [
            [
             0,
             "rgb(2,4,25)"
            ],
            [
             0.06274509803921569,
             "rgb(24,15,41)"
            ],
            [
             0.12549019607843137,
             "rgb(47,23,57)"
            ],
            [
             0.18823529411764706,
             "rgb(71,28,72)"
            ],
            [
             0.25098039215686274,
             "rgb(97,30,82)"
            ],
            [
             0.3137254901960784,
             "rgb(123,30,89)"
            ],
            [
             0.3764705882352941,
             "rgb(150,27,91)"
            ],
            [
             0.4392156862745098,
             "rgb(177,22,88)"
            ],
            [
             0.5019607843137255,
             "rgb(203,26,79)"
            ],
            [
             0.5647058823529412,
             "rgb(223,47,67)"
            ],
            [
             0.6274509803921569,
             "rgb(236,76,61)"
            ],
            [
             0.6901960784313725,
             "rgb(242,107,73)"
            ],
            [
             0.7529411764705882,
             "rgb(244,135,95)"
            ],
            [
             0.8156862745098039,
             "rgb(245,162,122)"
            ],
            [
             0.8784313725490196,
             "rgb(246,188,153)"
            ],
            [
             0.9411764705882353,
             "rgb(247,212,187)"
            ],
            [
             1,
             "rgb(250,234,220)"
            ]
           ],
           "sequentialminus": [
            [
             0,
             "rgb(2,4,25)"
            ],
            [
             0.06274509803921569,
             "rgb(24,15,41)"
            ],
            [
             0.12549019607843137,
             "rgb(47,23,57)"
            ],
            [
             0.18823529411764706,
             "rgb(71,28,72)"
            ],
            [
             0.25098039215686274,
             "rgb(97,30,82)"
            ],
            [
             0.3137254901960784,
             "rgb(123,30,89)"
            ],
            [
             0.3764705882352941,
             "rgb(150,27,91)"
            ],
            [
             0.4392156862745098,
             "rgb(177,22,88)"
            ],
            [
             0.5019607843137255,
             "rgb(203,26,79)"
            ],
            [
             0.5647058823529412,
             "rgb(223,47,67)"
            ],
            [
             0.6274509803921569,
             "rgb(236,76,61)"
            ],
            [
             0.6901960784313725,
             "rgb(242,107,73)"
            ],
            [
             0.7529411764705882,
             "rgb(244,135,95)"
            ],
            [
             0.8156862745098039,
             "rgb(245,162,122)"
            ],
            [
             0.8784313725490196,
             "rgb(246,188,153)"
            ],
            [
             0.9411764705882353,
             "rgb(247,212,187)"
            ],
            [
             1,
             "rgb(250,234,220)"
            ]
           ]
          },
          "colorway": [
           "rgb(76,114,176)",
           "rgb(221,132,82)",
           "rgb(85,168,104)",
           "rgb(196,78,82)",
           "rgb(129,114,179)",
           "rgb(147,120,96)",
           "rgb(218,139,195)",
           "rgb(140,140,140)",
           "rgb(204,185,116)",
           "rgb(100,181,205)"
          ],
          "font": {
           "color": "rgb(36,36,36)"
          },
          "geo": {
           "bgcolor": "white",
           "lakecolor": "white",
           "landcolor": "rgb(234,234,242)",
           "showlakes": true,
           "showland": true,
           "subunitcolor": "white"
          },
          "hoverlabel": {
           "align": "left"
          },
          "hovermode": "closest",
          "paper_bgcolor": "white",
          "plot_bgcolor": "rgb(234,234,242)",
          "polar": {
           "angularaxis": {
            "gridcolor": "white",
            "linecolor": "white",
            "showgrid": true,
            "ticks": ""
           },
           "bgcolor": "rgb(234,234,242)",
           "radialaxis": {
            "gridcolor": "white",
            "linecolor": "white",
            "showgrid": true,
            "ticks": ""
           }
          },
          "scene": {
           "xaxis": {
            "backgroundcolor": "rgb(234,234,242)",
            "gridcolor": "white",
            "gridwidth": 2,
            "linecolor": "white",
            "showbackground": true,
            "showgrid": true,
            "ticks": "",
            "zerolinecolor": "white"
           },
           "yaxis": {
            "backgroundcolor": "rgb(234,234,242)",
            "gridcolor": "white",
            "gridwidth": 2,
            "linecolor": "white",
            "showbackground": true,
            "showgrid": true,
            "ticks": "",
            "zerolinecolor": "white"
           },
           "zaxis": {
            "backgroundcolor": "rgb(234,234,242)",
            "gridcolor": "white",
            "gridwidth": 2,
            "linecolor": "white",
            "showbackground": true,
            "showgrid": true,
            "ticks": "",
            "zerolinecolor": "white"
           }
          },
          "shapedefaults": {
           "fillcolor": "rgb(67,103,167)",
           "line": {
            "width": 0
           },
           "opacity": 0.5
          },
          "ternary": {
           "aaxis": {
            "gridcolor": "white",
            "linecolor": "white",
            "showgrid": true,
            "ticks": ""
           },
           "baxis": {
            "gridcolor": "white",
            "linecolor": "white",
            "showgrid": true,
            "ticks": ""
           },
           "bgcolor": "rgb(234,234,242)",
           "caxis": {
            "gridcolor": "white",
            "linecolor": "white",
            "showgrid": true,
            "ticks": ""
           }
          },
          "xaxis": {
           "automargin": true,
           "gridcolor": "white",
           "linecolor": "white",
           "showgrid": true,
           "ticks": "",
           "title": {
            "standoff": 15
           },
           "zerolinecolor": "white"
          },
          "yaxis": {
           "automargin": true,
           "gridcolor": "white",
           "linecolor": "white",
           "showgrid": true,
           "ticks": "",
           "title": {
            "standoff": 15
           },
           "zerolinecolor": "white"
          }
         }
        },
        "width": 2000,
        "xaxis": {
         "anchor": "y",
         "domain": [
          0,
          1
         ],
         "type": "date"
        },
        "yaxis": {
         "anchor": "x",
         "domain": [
          0,
          1
         ],
         "title": {
          "text": "Task"
         }
        }
       }
      },
      "text/html": [
       "<div>                            <div id=\"9e91cd24-8809-4918-a942-5dc20793bb74\" class=\"plotly-graph-div\" style=\"height:1000px; width:2000px;\"></div>            <script type=\"text/javascript\">                require([\"plotly\"], function(Plotly) {                    window.PLOTLYENV=window.PLOTLYENV || {};                                    if (document.getElementById(\"9e91cd24-8809-4918-a942-5dc20793bb74\")) {                    Plotly.newPlot(                        \"9e91cd24-8809-4918-a942-5dc20793bb74\",                        [{\"alignmentgroup\":\"True\",\"base\":[\"1970-01-07T12:00:00\",\"1970-01-04T18:00:00\",\"1970-01-08T02:00:00\",\"1970-01-02T18:00:00\",\"1970-01-05T21:00:00\",\"1970-01-01T14:00:00\",\"1970-01-02T12:00:00\",\"1970-01-05T03:00:00\",\"1970-01-03T07:00:00\",\"1970-01-06T18:00:00\",\"1970-01-01T09:00:00\",\"1970-01-04T03:00:00\",\"1970-01-06T18:00:00\",\"1970-01-01T14:00:00\",\"1970-01-07T12:00:00\",\"1970-01-04T18:00:00\",\"1970-01-03T07:00:00\",\"1970-01-05T03:00:00\",\"1970-01-02T18:00:00\",\"1970-01-02T12:00:00\",\"1970-01-05T21:00:00\",\"1970-01-04T03:00:00\",\"1970-01-08T02:00:00\"],\"hovertemplate\":\"Resource=%{text}<br>Start=%{base}<br>Finish=%{x}<br>Task=%{y}<extra></extra>\",\"legendgroup\":\"M3\",\"marker\":{\"color\":\"rgb(76,114,176)\",\"pattern\":{\"shape\":\"\"},\"line\":{\"color\":\"yellow\"},\"cmid\":1000},\"name\":\"M3\",\"offsetgroup\":\"M3\",\"orientation\":\"h\",\"showlegend\":true,\"text\":[\"M3\",\"M3\",\"M3\",\"M3\",\"M3\",\"M3\",\"M3\",\"M3\",\"M3\",\"M3\",\"M3\",\"M3\",\"M3\",\"M3\",\"M3\",\"M3\",\"M3\",\"M3\",\"M3\",\"M3\",\"M3\",\"M3\",\"M3\"],\"textposition\":\"auto\",\"x\":[50400000.0,32400000.0,43200000.0,46800000.0,28800000.0,79200000.0,21600000.0,64800000.0,72000000.0,46800000.0,18000000.0,54000000.0,10800000.0,7200000.0,7200000.0,7200000.0,10800000.0,7200000.0,7200000.0,3600000.0,10800000.0,7200000.0,10800000.0],\"xaxis\":\"x\",\"y\":[\"j1\",\"j10\",\"j11\",\"j12\",\"j3\",\"j3\",\"j4\",\"j4\",\"j6\",\"j6\",\"j8\",\"j8\",\"setup\",\"setup\",\"setup\",\"setup\",\"setup\",\"setup\",\"setup\",\"setup\",\"setup\",\"setup\",\"setup\"],\"yaxis\":\"y\",\"type\":\"bar\"},{\"alignmentgroup\":\"True\",\"base\":[\"1970-01-01T15:00:00\",\"1970-01-06T08:00:00\",\"1970-01-03T01:00:00\",\"1970-01-05T10:00:00\",\"1970-01-07T01:00:00\",\"1970-01-07T16:00:00\",\"1970-01-07T10:00:00\",\"1970-01-03T17:00:00\",\"1970-01-04T00:00:00\",\"1970-01-02T08:00:00\",\"1970-01-05T17:00:00\",\"1970-01-01T09:00:00\",\"1970-01-04T18:00:00\",\"1970-01-07T01:00:00\",\"1970-01-04T18:00:00\",\"1970-01-07T10:00:00\",\"1970-01-01T15:00:00\",\"1970-01-07T16:00:00\",\"1970-01-02T08:00:00\",\"1970-01-06T08:00:00\",\"1970-01-05T10:00:00\",\"1970-01-05T17:00:00\",\"1970-01-03T01:00:00\",\"1970-01-03T17:00:00\"],\"hovertemplate\":\"Resource=%{text}<br>Start=%{base}<br>Finish=%{x}<br>Task=%{y}<extra></extra>\",\"legendgroup\":\"M2\",\"marker\":{\"color\":\"rgb(221,132,82)\",\"pattern\":{\"shape\":\"\"},\"line\":{\"color\":\"yellow\"},\"cmid\":1000},\"name\":\"M2\",\"offsetgroup\":\"M2\",\"orientation\":\"h\",\"showlegend\":true,\"text\":[\"M2\",\"M2\",\"M2\",\"M2\",\"M2\",\"M2\",\"M2\",\"M2\",\"M2\",\"M2\",\"M2\",\"M2\",\"M2\",\"M2\",\"M2\",\"M2\",\"M2\",\"M2\",\"M2\",\"M2\",\"M2\",\"M2\",\"M2\",\"M2\"],\"textposition\":\"auto\",\"x\":[61200000.0,61200000.0,57600000.0,25200000.0,32400000.0,79200000.0,21600000.0,25200000.0,18000000.0,61200000.0,54000000.0,21600000.0,57600000.0,7200000.0,14400000.0,3600000.0,7200000.0,10800000.0,7200000.0,10800000.0,10800000.0,14400000.0,10800000.0,7200000.0],\"xaxis\":\"x\",\"y\":[\"j1\",\"j10\",\"j10\",\"j12\",\"j12\",\"j2\",\"j3\",\"j4\",\"j4\",\"j5\",\"j5\",\"j6\",\"j8\",\"setup\",\"setup\",\"setup\",\"setup\",\"setup\",\"setup\",\"setup\",\"setup\",\"setup\",\"setup\",\"setup\"],\"yaxis\":\"y\",\"type\":\"bar\"},{\"alignmentgroup\":\"True\",\"base\":[\"1970-01-02T08:00:00\",\"1970-01-07T00:00:00\",\"1970-01-04T23:00:00\",\"1970-01-01T09:00:00\",\"1970-01-02T15:00:00\",\"1970-01-03T23:00:00\",\"1970-01-05T13:00:00\",\"1970-01-06T08:00:00\",\"1970-01-03T16:00:00\",\"1970-01-07T12:00:00\",\"1970-01-01T14:00:00\",\"1970-01-04T23:00:00\",\"1970-01-01T14:00:00\",\"1970-01-06T08:00:00\",\"1970-01-07T00:00:00\",\"1970-01-03T23:00:00\",\"1970-01-07T12:00:00\",\"1970-01-02T08:00:00\",\"1970-01-03T16:00:00\",\"1970-01-02T15:00:00\",\"1970-01-05T13:00:00\"],\"hovertemplate\":\"Resource=%{text}<br>Start=%{base}<br>Finish=%{x}<br>Task=%{y}<extra></extra>\",\"legendgroup\":\"M4\",\"marker\":{\"color\":\"rgb(85,168,104)\",\"pattern\":{\"shape\":\"\"},\"line\":{\"color\":\"yellow\"},\"cmid\":1000},\"name\":\"M4\",\"offsetgroup\":\"M4\",\"orientation\":\"h\",\"showlegend\":true,\"text\":[\"M4\",\"M4\",\"M4\",\"M4\",\"M4\",\"M4\",\"M4\",\"M4\",\"M4\",\"M4\",\"M4\",\"M4\",\"M4\",\"M4\",\"M4\",\"M4\",\"M4\",\"M4\",\"M4\",\"M4\",\"M4\"],\"textposition\":\"auto\",\"x\":[25200000.0,43200000.0,50400000.0,18000000.0,90000000.0,86400000.0,68400000.0,57600000.0,25200000.0,50400000.0,57600000.0,7200000.0,7200000.0,3600000.0,14400000.0,14400000.0,10800000.0,3600000.0,3600000.0,10800000.0,7200000.0],\"xaxis\":\"x\",\"y\":[\"j1\",\"j1\",\"j11\",\"j11\",\"j2\",\"j2\",\"j2\",\"j7\",\"j8\",\"j9\",\"j9\",\"setup\",\"setup\",\"setup\",\"setup\",\"setup\",\"setup\",\"setup\",\"setup\",\"setup\",\"setup\"],\"yaxis\":\"y\",\"type\":\"bar\"},{\"alignmentgroup\":\"True\",\"base\":[\"1970-01-07T01:00:00\",\"1970-01-05T16:00:00\",\"1970-01-01T09:00:00\",\"1970-01-03T02:00:00\",\"1970-01-03T20:00:00\",\"1970-01-04T10:00:00\",\"1970-01-06T03:00:00\",\"1970-01-05T02:00:00\",\"1970-01-04T17:00:00\",\"1970-01-01T14:00:00\",\"1970-01-02T06:00:00\",\"1970-01-02T17:00:00\",\"1970-01-02T06:00:00\",\"1970-01-03T20:00:00\",\"1970-01-07T01:00:00\",\"1970-01-01T14:00:00\",\"1970-01-04T17:00:00\",\"1970-01-03T02:00:00\",\"1970-01-05T16:00:00\",\"1970-01-06T03:00:00\"],\"hovertemplate\":\"Resource=%{text}<br>Start=%{base}<br>Finish=%{x}<br>Task=%{y}<extra></extra>\",\"legendgroup\":\"M1\",\"marker\":{\"color\":\"rgb(196,78,82)\",\"pattern\":{\"shape\":\"\"},\"line\":{\"color\":\"yellow\"},\"cmid\":1000},\"name\":\"M1\",\"offsetgroup\":\"M1\",\"orientation\":\"h\",\"showlegend\":true,\"text\":[\"M1\",\"M1\",\"M1\",\"M1\",\"M1\",\"M1\",\"M1\",\"M1\",\"M1\",\"M1\",\"M1\",\"M1\",\"M1\",\"M1\",\"M1\",\"M1\",\"M1\",\"M1\",\"M1\",\"M1\"],\"textposition\":\"auto\",\"x\":[68400000.0,39600000.0,18000000.0,64800000.0,50400000.0,25200000.0,54000000.0,50400000.0,32400000.0,57600000.0,39600000.0,32400000.0,7200000.0,10800000.0,10800000.0,7200000.0,10800000.0,10800000.0,10800000.0,14400000.0],\"xaxis\":\"x\",\"y\":[\"j10\",\"j11\",\"j12\",\"j3\",\"j5\",\"j5\",\"j6\",\"j7\",\"j7\",\"j7\",\"j9\",\"j9\",\"setup\",\"setup\",\"setup\",\"setup\",\"setup\",\"setup\",\"setup\",\"setup\"],\"yaxis\":\"y\",\"type\":\"bar\"}],                        {\"template\":{\"data\":{\"barpolar\":[{\"marker\":{\"line\":{\"color\":\"rgb(234,234,242)\",\"width\":0.5},\"pattern\":{\"fillmode\":\"overlay\",\"size\":10,\"solidity\":0.2}},\"type\":\"barpolar\"}],\"bar\":[{\"error_x\":{\"color\":\"rgb(36,36,36)\"},\"error_y\":{\"color\":\"rgb(36,36,36)\"},\"marker\":{\"line\":{\"color\":\"rgb(234,234,242)\",\"width\":0.5},\"pattern\":{\"fillmode\":\"overlay\",\"size\":10,\"solidity\":0.2}},\"type\":\"bar\"}],\"carpet\":[{\"aaxis\":{\"endlinecolor\":\"rgb(36,36,36)\",\"gridcolor\":\"white\",\"linecolor\":\"white\",\"minorgridcolor\":\"white\",\"startlinecolor\":\"rgb(36,36,36)\"},\"baxis\":{\"endlinecolor\":\"rgb(36,36,36)\",\"gridcolor\":\"white\",\"linecolor\":\"white\",\"minorgridcolor\":\"white\",\"startlinecolor\":\"rgb(36,36,36)\"},\"type\":\"carpet\"}],\"choropleth\":[{\"colorbar\":{\"outlinewidth\":0,\"tickcolor\":\"rgb(36,36,36)\",\"ticklen\":8,\"ticks\":\"outside\",\"tickwidth\":2},\"type\":\"choropleth\"}],\"contourcarpet\":[{\"colorbar\":{\"outlinewidth\":0,\"tickcolor\":\"rgb(36,36,36)\",\"ticklen\":8,\"ticks\":\"outside\",\"tickwidth\":2},\"type\":\"contourcarpet\"}],\"contour\":[{\"colorbar\":{\"outlinewidth\":0,\"tickcolor\":\"rgb(36,36,36)\",\"ticklen\":8,\"ticks\":\"outside\",\"tickwidth\":2},\"colorscale\":[[0.0,\"rgb(2,4,25)\"],[0.06274509803921569,\"rgb(24,15,41)\"],[0.12549019607843137,\"rgb(47,23,57)\"],[0.18823529411764706,\"rgb(71,28,72)\"],[0.25098039215686274,\"rgb(97,30,82)\"],[0.3137254901960784,\"rgb(123,30,89)\"],[0.3764705882352941,\"rgb(150,27,91)\"],[0.4392156862745098,\"rgb(177,22,88)\"],[0.5019607843137255,\"rgb(203,26,79)\"],[0.5647058823529412,\"rgb(223,47,67)\"],[0.6274509803921569,\"rgb(236,76,61)\"],[0.6901960784313725,\"rgb(242,107,73)\"],[0.7529411764705882,\"rgb(244,135,95)\"],[0.8156862745098039,\"rgb(245,162,122)\"],[0.8784313725490196,\"rgb(246,188,153)\"],[0.9411764705882353,\"rgb(247,212,187)\"],[1.0,\"rgb(250,234,220)\"]],\"type\":\"contour\"}],\"heatmapgl\":[{\"colorbar\":{\"outlinewidth\":0,\"tickcolor\":\"rgb(36,36,36)\",\"ticklen\":8,\"ticks\":\"outside\",\"tickwidth\":2},\"colorscale\":[[0.0,\"rgb(2,4,25)\"],[0.06274509803921569,\"rgb(24,15,41)\"],[0.12549019607843137,\"rgb(47,23,57)\"],[0.18823529411764706,\"rgb(71,28,72)\"],[0.25098039215686274,\"rgb(97,30,82)\"],[0.3137254901960784,\"rgb(123,30,89)\"],[0.3764705882352941,\"rgb(150,27,91)\"],[0.4392156862745098,\"rgb(177,22,88)\"],[0.5019607843137255,\"rgb(203,26,79)\"],[0.5647058823529412,\"rgb(223,47,67)\"],[0.6274509803921569,\"rgb(236,76,61)\"],[0.6901960784313725,\"rgb(242,107,73)\"],[0.7529411764705882,\"rgb(244,135,95)\"],[0.8156862745098039,\"rgb(245,162,122)\"],[0.8784313725490196,\"rgb(246,188,153)\"],[0.9411764705882353,\"rgb(247,212,187)\"],[1.0,\"rgb(250,234,220)\"]],\"type\":\"heatmapgl\"}],\"heatmap\":[{\"colorbar\":{\"outlinewidth\":0,\"tickcolor\":\"rgb(36,36,36)\",\"ticklen\":8,\"ticks\":\"outside\",\"tickwidth\":2},\"colorscale\":[[0.0,\"rgb(2,4,25)\"],[0.06274509803921569,\"rgb(24,15,41)\"],[0.12549019607843137,\"rgb(47,23,57)\"],[0.18823529411764706,\"rgb(71,28,72)\"],[0.25098039215686274,\"rgb(97,30,82)\"],[0.3137254901960784,\"rgb(123,30,89)\"],[0.3764705882352941,\"rgb(150,27,91)\"],[0.4392156862745098,\"rgb(177,22,88)\"],[0.5019607843137255,\"rgb(203,26,79)\"],[0.5647058823529412,\"rgb(223,47,67)\"],[0.6274509803921569,\"rgb(236,76,61)\"],[0.6901960784313725,\"rgb(242,107,73)\"],[0.7529411764705882,\"rgb(244,135,95)\"],[0.8156862745098039,\"rgb(245,162,122)\"],[0.8784313725490196,\"rgb(246,188,153)\"],[0.9411764705882353,\"rgb(247,212,187)\"],[1.0,\"rgb(250,234,220)\"]],\"type\":\"heatmap\"}],\"histogram2dcontour\":[{\"colorbar\":{\"outlinewidth\":0,\"tickcolor\":\"rgb(36,36,36)\",\"ticklen\":8,\"ticks\":\"outside\",\"tickwidth\":2},\"colorscale\":[[0.0,\"rgb(2,4,25)\"],[0.06274509803921569,\"rgb(24,15,41)\"],[0.12549019607843137,\"rgb(47,23,57)\"],[0.18823529411764706,\"rgb(71,28,72)\"],[0.25098039215686274,\"rgb(97,30,82)\"],[0.3137254901960784,\"rgb(123,30,89)\"],[0.3764705882352941,\"rgb(150,27,91)\"],[0.4392156862745098,\"rgb(177,22,88)\"],[0.5019607843137255,\"rgb(203,26,79)\"],[0.5647058823529412,\"rgb(223,47,67)\"],[0.6274509803921569,\"rgb(236,76,61)\"],[0.6901960784313725,\"rgb(242,107,73)\"],[0.7529411764705882,\"rgb(244,135,95)\"],[0.8156862745098039,\"rgb(245,162,122)\"],[0.8784313725490196,\"rgb(246,188,153)\"],[0.9411764705882353,\"rgb(247,212,187)\"],[1.0,\"rgb(250,234,220)\"]],\"type\":\"histogram2dcontour\"}],\"histogram2d\":[{\"colorbar\":{\"outlinewidth\":0,\"tickcolor\":\"rgb(36,36,36)\",\"ticklen\":8,\"ticks\":\"outside\",\"tickwidth\":2},\"colorscale\":[[0.0,\"rgb(2,4,25)\"],[0.06274509803921569,\"rgb(24,15,41)\"],[0.12549019607843137,\"rgb(47,23,57)\"],[0.18823529411764706,\"rgb(71,28,72)\"],[0.25098039215686274,\"rgb(97,30,82)\"],[0.3137254901960784,\"rgb(123,30,89)\"],[0.3764705882352941,\"rgb(150,27,91)\"],[0.4392156862745098,\"rgb(177,22,88)\"],[0.5019607843137255,\"rgb(203,26,79)\"],[0.5647058823529412,\"rgb(223,47,67)\"],[0.6274509803921569,\"rgb(236,76,61)\"],[0.6901960784313725,\"rgb(242,107,73)\"],[0.7529411764705882,\"rgb(244,135,95)\"],[0.8156862745098039,\"rgb(245,162,122)\"],[0.8784313725490196,\"rgb(246,188,153)\"],[0.9411764705882353,\"rgb(247,212,187)\"],[1.0,\"rgb(250,234,220)\"]],\"type\":\"histogram2d\"}],\"histogram\":[{\"marker\":{\"pattern\":{\"fillmode\":\"overlay\",\"size\":10,\"solidity\":0.2}},\"type\":\"histogram\"}],\"mesh3d\":[{\"colorbar\":{\"outlinewidth\":0,\"tickcolor\":\"rgb(36,36,36)\",\"ticklen\":8,\"ticks\":\"outside\",\"tickwidth\":2},\"type\":\"mesh3d\"}],\"parcoords\":[{\"line\":{\"colorbar\":{\"outlinewidth\":0,\"tickcolor\":\"rgb(36,36,36)\",\"ticklen\":8,\"ticks\":\"outside\",\"tickwidth\":2}},\"type\":\"parcoords\"}],\"pie\":[{\"automargin\":true,\"type\":\"pie\"}],\"scatter3d\":[{\"line\":{\"colorbar\":{\"outlinewidth\":0,\"tickcolor\":\"rgb(36,36,36)\",\"ticklen\":8,\"ticks\":\"outside\",\"tickwidth\":2}},\"marker\":{\"colorbar\":{\"outlinewidth\":0,\"tickcolor\":\"rgb(36,36,36)\",\"ticklen\":8,\"ticks\":\"outside\",\"tickwidth\":2}},\"type\":\"scatter3d\"}],\"scattercarpet\":[{\"marker\":{\"colorbar\":{\"outlinewidth\":0,\"tickcolor\":\"rgb(36,36,36)\",\"ticklen\":8,\"ticks\":\"outside\",\"tickwidth\":2}},\"type\":\"scattercarpet\"}],\"scattergeo\":[{\"marker\":{\"colorbar\":{\"outlinewidth\":0,\"tickcolor\":\"rgb(36,36,36)\",\"ticklen\":8,\"ticks\":\"outside\",\"tickwidth\":2}},\"type\":\"scattergeo\"}],\"scattergl\":[{\"marker\":{\"colorbar\":{\"outlinewidth\":0,\"tickcolor\":\"rgb(36,36,36)\",\"ticklen\":8,\"ticks\":\"outside\",\"tickwidth\":2}},\"type\":\"scattergl\"}],\"scattermapbox\":[{\"marker\":{\"colorbar\":{\"outlinewidth\":0,\"tickcolor\":\"rgb(36,36,36)\",\"ticklen\":8,\"ticks\":\"outside\",\"tickwidth\":2}},\"type\":\"scattermapbox\"}],\"scatterpolargl\":[{\"marker\":{\"colorbar\":{\"outlinewidth\":0,\"tickcolor\":\"rgb(36,36,36)\",\"ticklen\":8,\"ticks\":\"outside\",\"tickwidth\":2}},\"type\":\"scatterpolargl\"}],\"scatterpolar\":[{\"marker\":{\"colorbar\":{\"outlinewidth\":0,\"tickcolor\":\"rgb(36,36,36)\",\"ticklen\":8,\"ticks\":\"outside\",\"tickwidth\":2}},\"type\":\"scatterpolar\"}],\"scatter\":[{\"fillpattern\":{\"fillmode\":\"overlay\",\"size\":10,\"solidity\":0.2},\"type\":\"scatter\"}],\"scatterternary\":[{\"marker\":{\"colorbar\":{\"outlinewidth\":0,\"tickcolor\":\"rgb(36,36,36)\",\"ticklen\":8,\"ticks\":\"outside\",\"tickwidth\":2}},\"type\":\"scatterternary\"}],\"surface\":[{\"colorbar\":{\"outlinewidth\":0,\"tickcolor\":\"rgb(36,36,36)\",\"ticklen\":8,\"ticks\":\"outside\",\"tickwidth\":2},\"colorscale\":[[0.0,\"rgb(2,4,25)\"],[0.06274509803921569,\"rgb(24,15,41)\"],[0.12549019607843137,\"rgb(47,23,57)\"],[0.18823529411764706,\"rgb(71,28,72)\"],[0.25098039215686274,\"rgb(97,30,82)\"],[0.3137254901960784,\"rgb(123,30,89)\"],[0.3764705882352941,\"rgb(150,27,91)\"],[0.4392156862745098,\"rgb(177,22,88)\"],[0.5019607843137255,\"rgb(203,26,79)\"],[0.5647058823529412,\"rgb(223,47,67)\"],[0.6274509803921569,\"rgb(236,76,61)\"],[0.6901960784313725,\"rgb(242,107,73)\"],[0.7529411764705882,\"rgb(244,135,95)\"],[0.8156862745098039,\"rgb(245,162,122)\"],[0.8784313725490196,\"rgb(246,188,153)\"],[0.9411764705882353,\"rgb(247,212,187)\"],[1.0,\"rgb(250,234,220)\"]],\"type\":\"surface\"}],\"table\":[{\"cells\":{\"fill\":{\"color\":\"rgb(231,231,240)\"},\"line\":{\"color\":\"white\"}},\"header\":{\"fill\":{\"color\":\"rgb(183,183,191)\"},\"line\":{\"color\":\"white\"}},\"type\":\"table\"}]},\"layout\":{\"annotationdefaults\":{\"arrowcolor\":\"rgb(67,103,167)\"},\"autotypenumbers\":\"strict\",\"coloraxis\":{\"colorbar\":{\"outlinewidth\":0,\"tickcolor\":\"rgb(36,36,36)\",\"ticklen\":8,\"ticks\":\"outside\",\"tickwidth\":2}},\"colorscale\":{\"sequential\":[[0.0,\"rgb(2,4,25)\"],[0.06274509803921569,\"rgb(24,15,41)\"],[0.12549019607843137,\"rgb(47,23,57)\"],[0.18823529411764706,\"rgb(71,28,72)\"],[0.25098039215686274,\"rgb(97,30,82)\"],[0.3137254901960784,\"rgb(123,30,89)\"],[0.3764705882352941,\"rgb(150,27,91)\"],[0.4392156862745098,\"rgb(177,22,88)\"],[0.5019607843137255,\"rgb(203,26,79)\"],[0.5647058823529412,\"rgb(223,47,67)\"],[0.6274509803921569,\"rgb(236,76,61)\"],[0.6901960784313725,\"rgb(242,107,73)\"],[0.7529411764705882,\"rgb(244,135,95)\"],[0.8156862745098039,\"rgb(245,162,122)\"],[0.8784313725490196,\"rgb(246,188,153)\"],[0.9411764705882353,\"rgb(247,212,187)\"],[1.0,\"rgb(250,234,220)\"]],\"sequentialminus\":[[0.0,\"rgb(2,4,25)\"],[0.06274509803921569,\"rgb(24,15,41)\"],[0.12549019607843137,\"rgb(47,23,57)\"],[0.18823529411764706,\"rgb(71,28,72)\"],[0.25098039215686274,\"rgb(97,30,82)\"],[0.3137254901960784,\"rgb(123,30,89)\"],[0.3764705882352941,\"rgb(150,27,91)\"],[0.4392156862745098,\"rgb(177,22,88)\"],[0.5019607843137255,\"rgb(203,26,79)\"],[0.5647058823529412,\"rgb(223,47,67)\"],[0.6274509803921569,\"rgb(236,76,61)\"],[0.6901960784313725,\"rgb(242,107,73)\"],[0.7529411764705882,\"rgb(244,135,95)\"],[0.8156862745098039,\"rgb(245,162,122)\"],[0.8784313725490196,\"rgb(246,188,153)\"],[0.9411764705882353,\"rgb(247,212,187)\"],[1.0,\"rgb(250,234,220)\"]]},\"colorway\":[\"rgb(76,114,176)\",\"rgb(221,132,82)\",\"rgb(85,168,104)\",\"rgb(196,78,82)\",\"rgb(129,114,179)\",\"rgb(147,120,96)\",\"rgb(218,139,195)\",\"rgb(140,140,140)\",\"rgb(204,185,116)\",\"rgb(100,181,205)\"],\"font\":{\"color\":\"rgb(36,36,36)\"},\"geo\":{\"bgcolor\":\"white\",\"lakecolor\":\"white\",\"landcolor\":\"rgb(234,234,242)\",\"showlakes\":true,\"showland\":true,\"subunitcolor\":\"white\"},\"hoverlabel\":{\"align\":\"left\"},\"hovermode\":\"closest\",\"paper_bgcolor\":\"white\",\"plot_bgcolor\":\"rgb(234,234,242)\",\"polar\":{\"angularaxis\":{\"gridcolor\":\"white\",\"linecolor\":\"white\",\"showgrid\":true,\"ticks\":\"\"},\"bgcolor\":\"rgb(234,234,242)\",\"radialaxis\":{\"gridcolor\":\"white\",\"linecolor\":\"white\",\"showgrid\":true,\"ticks\":\"\"}},\"scene\":{\"xaxis\":{\"backgroundcolor\":\"rgb(234,234,242)\",\"gridcolor\":\"white\",\"gridwidth\":2,\"linecolor\":\"white\",\"showbackground\":true,\"showgrid\":true,\"ticks\":\"\",\"zerolinecolor\":\"white\"},\"yaxis\":{\"backgroundcolor\":\"rgb(234,234,242)\",\"gridcolor\":\"white\",\"gridwidth\":2,\"linecolor\":\"white\",\"showbackground\":true,\"showgrid\":true,\"ticks\":\"\",\"zerolinecolor\":\"white\"},\"zaxis\":{\"backgroundcolor\":\"rgb(234,234,242)\",\"gridcolor\":\"white\",\"gridwidth\":2,\"linecolor\":\"white\",\"showbackground\":true,\"showgrid\":true,\"ticks\":\"\",\"zerolinecolor\":\"white\"}},\"shapedefaults\":{\"fillcolor\":\"rgb(67,103,167)\",\"line\":{\"width\":0},\"opacity\":0.5},\"ternary\":{\"aaxis\":{\"gridcolor\":\"white\",\"linecolor\":\"white\",\"showgrid\":true,\"ticks\":\"\"},\"baxis\":{\"gridcolor\":\"white\",\"linecolor\":\"white\",\"showgrid\":true,\"ticks\":\"\"},\"bgcolor\":\"rgb(234,234,242)\",\"caxis\":{\"gridcolor\":\"white\",\"linecolor\":\"white\",\"showgrid\":true,\"ticks\":\"\"}},\"xaxis\":{\"automargin\":true,\"gridcolor\":\"white\",\"linecolor\":\"white\",\"showgrid\":true,\"ticks\":\"\",\"title\":{\"standoff\":15},\"zerolinecolor\":\"white\"},\"yaxis\":{\"automargin\":true,\"gridcolor\":\"white\",\"linecolor\":\"white\",\"showgrid\":true,\"ticks\":\"\",\"title\":{\"standoff\":15},\"zerolinecolor\":\"white\"}}},\"xaxis\":{\"anchor\":\"y\",\"domain\":[0.0,1.0],\"type\":\"date\"},\"yaxis\":{\"anchor\":\"x\",\"domain\":[0.0,1.0],\"title\":{\"text\":\"Task\"}},\"legend\":{\"title\":{\"text\":\"Resource\"},\"tracegroupgap\":0},\"margin\":{\"t\":60},\"barmode\":\"overlay\",\"height\":1000,\"width\":2000},                        {\"responsive\": true}                    ).then(function(){\n",
       "                            \n",
       "var gd = document.getElementById('9e91cd24-8809-4918-a942-5dc20793bb74');\n",
       "var x = new MutationObserver(function (mutations, observer) {{\n",
       "        var display = window.getComputedStyle(gd).display;\n",
       "        if (!display || display === 'none') {{\n",
       "            console.log([gd, 'removed!']);\n",
       "            Plotly.purge(gd);\n",
       "            observer.disconnect();\n",
       "        }}\n",
       "}});\n",
       "\n",
       "// Listen for the removal of the full notebook cells\n",
       "var notebookContainer = gd.closest('#notebook-container');\n",
       "if (notebookContainer) {{\n",
       "    x.observe(notebookContainer, {childList: true});\n",
       "}}\n",
       "\n",
       "// Listen for the clearing of the current output cell\n",
       "var outputEl = gd.closest('.output');\n",
       "if (outputEl) {{\n",
       "    x.observe(outputEl, {childList: true});\n",
       "}}\n",
       "\n",
       "                        })                };                });            </script>        </div>"
      ]
     },
     "metadata": {},
     "output_type": "display_data"
    },
    {
     "name": "stdout",
     "output_type": "stream",
     "text": [
      "[[8, 11, 12, 6, 3, 1, 7, 9, 9, 5, 1, 9, 4, 12, 2, 10, 6, 3, 8, 4, 5, 2, 4, 8, 5, 8, 7, 11, 10, 12, 7, 5, 4, 2, 11, 3, 6, 10, 7, 12, 6, 10, 1, 3, 2, 1, 9, 11], ['M3', 'M4', 'M1', 'M2', 'M3', 'M2', 'M1', 'M4', 'M1', 'M2', 'M4', 'M1', 'M3', 'M3', 'M4', 'M2', 'M3', 'M1', 'M4', 'M2', 'M1', 'M4', 'M2', 'M3', 'M1', 'M2', 'M1', 'M4', 'M3', 'M2', 'M1', 'M2', 'M3', 'M4', 'M1', 'M3', 'M1', 'M2', 'M4', 'M2', 'M3', 'M1', 'M4', 'M2', 'M2', 'M3', 'M4', 'M3'], 173, '2', 1720, 0.7885196374622356]\n",
      "[[173, 1720, 0.7885196374622356]]\n",
      "100회 실행 평균 최적 makespan:  34.6\n",
      "100회 평균 총 걸린시간:  0.9625002\n",
      "5회 최소값 173\n",
      "5회 최댓값 173\n"
     ]
    }
   ],
   "source": [
    "# -*- coding: utf-8 -*-\n",
    "\"\"\"\n",
    "Created on Thu Jun 30 01:02:50 2022\n",
    "\n",
    "@author: parkh\n",
    "\"\"\"\n",
    "\n",
    "import random\n",
    "import copy\n",
    "import pandas as pd\n",
    "import numpy as np\n",
    "from datetime import datetime\n",
    "from collections import Counter\n",
    "import plotly.express as px\n",
    "from datetime import datetime\n",
    "import matplotlib.pyplot as plt\n",
    "params = {\n",
    "    'MUT': 1,  # 변이확률(%)\n",
    "    'END' : 0.9,  # 설정한 비율만큼 chromosome이 수렴하면 탐색을 멈추게 하는 파라미터 (%)\n",
    "    'POP_SIZE' : 1000,  # population size 10 ~ 100\n",
    "    'RANGE' : 10, # chromosome의 표현 범위, 만약 10이라면 00000 00000 ~ 11111 11111까지임\n",
    "    'NUM_OFFSPRING' : 5, # 한 세대에 발생하는 자식 chromosome의 수\n",
    "    'SELECTION_PRESSURE' : 3, # 선택연산의 선택압\n",
    "    'job_seq' : [y for x in range(1,5) for y in range(1,13)],\n",
    "    'factory_seq' : [1,2]\n",
    "    # 원하는 파라미터는 여기에 삽입할 것\n",
    "    }\n",
    "class JAYA_FJSP():\n",
    "    def __init__(self, parameters):\n",
    "        self.eps = 0.5\n",
    "        self.eps2 = 0.1\n",
    "        self.eps3 = 0.2\n",
    "        self.params = {}\n",
    "        for key, value in parameters.items():\n",
    "            self.params[key] = value\n",
    "        self.p_table = pd.read_csv('C:/Users/parkh/git_tlsgudcks/FJSP/data/FJSP_SIM4.csv',index_col=(0)) #job과 operation을 기록한 테이블\n",
    "        self.s_table = pd.read_csv('C:/Users/parkh/git_tlsgudcks/FJSP/data/FJSP_SETUP_SIM.csv', index_col=(0)) #setup time 테이블\n",
    "        self.job_endTime={'j1':0, 'j2':0, 'j3':0, 'j4':0, 'j5':0, 'j6':0,'j7':0, 'j8':0, 'j9':0, 'j10':0, 'j11':0, 'j12':0} # job의 끝나는 지점을 등록\n",
    "        self.machine_endTime={'M1':0,'M2':0,'M3':0,'M4':0} # machine의 끝나는 지점을 등록\n",
    "        self.machine_prejob={'M1':\"j0\", 'M2':\"j0\",'M3':\"j0\", 'M4':\"j0\",'M5':\"j0\", 'M6':\"j0\",'M7':\"j0\", 'M8':\"j0\"}\n",
    "        self.job_preOperation={'1':1,'2':1,'3':1,'4':1,'5':1,'6':1,'7':1,'8':1,'9':1,'10':1, '11':1, '12':1}\n",
    "        self.job_max_op = {'1':4, '2':4, '3':4, '4':4, '5':4, '6':4, '7':4, '8':4, '9':4, '10':4, '11':4, '12':4}\n",
    "        \n",
    "    def reset(self):\n",
    "        self.job_endTime={'j1':0, 'j2':0, 'j3':0, 'j4':0, 'j5':0, 'j6':0,'j7':0, 'j8':0, 'j9':0, 'j10':0, 'j11':0, 'j12':0} # job의 끝나는 지점을 등록\n",
    "        self.machine_endTime={'M1':0,'M2':0,'M3':0,'M4':0} # machine의 끝나는 지점을 등록\n",
    "        self.machine_prejob={'M1':\"j0\", 'M2':\"j0\",'M3':\"j0\", 'M4':\"j0\",'M5':\"j0\", 'M6':\"j0\",'M7':\"j0\", 'M8':\"j0\"}\n",
    "        self.job_preOperation={'1':1,'2':1,'3':1,'4':1,'5':1,'6':1,'7':1,'8':1,'9':1,'10':1, '11':1, '12':1}\n",
    "    \n",
    "    def operation_check(self, job_type):\n",
    "        if job_type < 10:\n",
    "            job = \"j0\"+str(job_type)\n",
    "        else:\n",
    "            job = \"j\" +str(job_type)\n",
    "        if self.job_preOperation[str(job_type)] < 10:\n",
    "            operation = \"0\"+str(self.job_preOperation[str(job_type)])\n",
    "        else:\n",
    "            operation = str(self.job_preOperation[str(job_type)])\n",
    "        jop = job+operation\n",
    "        \n",
    "        return jop\n",
    "        \n",
    "    def sco(self, dad, mom):\n",
    "        dad_ch = copy.deepcopy(dad)\n",
    "        mom_ch = copy.deepcopy(mom)\n",
    "        point = random.randint(0,47)\n",
    "        os_offspring = [-1 for i in range(48)]\n",
    "        for i in range(point):\n",
    "            os_offspring[i] = dad_ch[0][i]\n",
    "            mom_ch[0].remove(os_offspring[i])\n",
    "        for i in range(48):\n",
    "            if os_offspring[i] == -1:\n",
    "                os_offspring[i] = mom_ch[0].pop(0)\n",
    "        ma_offspring = self.init_MA_LS(os_offspring)\n",
    "        c_max, critical_machine, flow_time, util = self.get_fittness(os_offspring, ma_offspring)\n",
    "        offspring = [os_offspring, ma_offspring, c_max, critical_machine, flow_time, util ]\n",
    "        return offspring\n",
    "    def jco(self, dad, mom):\n",
    "        dad_ch = copy.deepcopy(dad)\n",
    "        mom_ch = copy.deepcopy(mom)\n",
    "        job_list = [x for x in range(1,13)]\n",
    "        for i in range(1,13):\n",
    "            coin = random.random()\n",
    "            if coin >0.5:\n",
    "                job_list.remove(i)\n",
    "        os_offspring = [-1 for i in range(48)]\n",
    "        for i in range(48):\n",
    "            if dad_ch[0][i] in job_list:\n",
    "                os_offspring[i] = dad_ch[0][i]\n",
    "                mom_ch[0].remove(dad_ch[0][i])\n",
    "        for i in range(48):\n",
    "            if os_offspring[i] == -1:\n",
    "                os_offspring[i] = mom_ch[0].pop(0)\n",
    "        ma_offspring = self.init_MA_LS(os_offspring)\n",
    "        c_max, critical_machine, flow_time, util = self.get_fittness(os_offspring, ma_offspring)\n",
    "        offspring = [os_offspring, ma_offspring, c_max, critical_machine, flow_time, util ]\n",
    "        return offspring\n",
    "    def aco(self, dad, mom):\n",
    "        dad_ch = copy.deepcopy(dad)\n",
    "        mom_ch = copy.deepcopy(mom)\n",
    "        os_offspring = copy.deepcopy(dad_ch[0])\n",
    "        ma_offspring = [-1 for i in range(48)]\n",
    "        for i in range(48):\n",
    "            for j in range(48):\n",
    "               if os_offspring[i] == mom_ch[0][j]:\n",
    "                   mom_ch[0][j] = 0\n",
    "                   ma_offspring[i] = mom_ch[1][j]\n",
    "                   break\n",
    "        c_max, critical_machine, flow_time, util = self.get_fittness(os_offspring, ma_offspring)\n",
    "        offspring = [os_offspring, ma_offspring, c_max, critical_machine, flow_time, util ]\n",
    "        return offspring\n",
    "    def get_fittness(self,scheduling_seq,routing_seq):\n",
    "        time_list=[]\n",
    "        p_time_list = []\n",
    "        for j in range(48):\n",
    "            job_number = scheduling_seq[j]\n",
    "            machine = routing_seq[j]\n",
    "            job = \"j\"+str(job_number)\n",
    "            jobOp = self.operation_check(job_number)\n",
    "            self.job_preOperation[str(job_number)] += 1\n",
    "            \n",
    "            setup_list = self.s_table[job]\n",
    "            setup_time=setup_list.loc[self.machine_prejob[machine]]\n",
    "            start_time = max(self.machine_endTime[machine] ,self.job_endTime[job])\n",
    "            p_list = self.p_table[machine]\n",
    "            p_time = p_list.loc[jobOp]\n",
    "            p_time_list.append(p_time)\n",
    "            end_time = start_time +setup_time+p_time\n",
    "            time_list.append([start_time,end_time])\n",
    "            self.machine_endTime[machine]=end_time #기계의 끝나는 시간 설정\n",
    "            self.job_endTime[job]=end_time #job의 끝나는 시간 설정\n",
    "            self.machine_prejob[machine] = job #현재 어떤 machine에서 어떤 job을 수행했는지 기록\n",
    "        all_values = self.machine_endTime.values()\n",
    "        all_values2 = self.job_endTime.values()\n",
    "        all_time = sum(all_values)\n",
    "        flow_time = sum(all_values2)\n",
    "        value_add_time = sum(p_time_list)\n",
    "        util = value_add_time / all_time\n",
    "        c_max=max(all_values)\n",
    "        all_values = list(all_values)\n",
    "        k=0\n",
    "        critical_machine=\"\"\n",
    "        for i in range(4):\n",
    "            if all_values[i] > k:\n",
    "                k=all_values[i]\n",
    "                critical_machine = str(i+1)\n",
    "        return c_max, critical_machine, flow_time, util\n",
    "    def anneal_eps(self):\n",
    "        self.eps -=0.001\n",
    "        self.eps2 +=0.001\n",
    "        self.eps2 = min(self.eps2, 0.6)\n",
    "        self.eps3 +=0.002\n",
    "        self.eps3 = min(self.eps3, 0.8) \n",
    "    def init_OS(self):\n",
    "        random.shuffle(self.params['job_seq'])\n",
    "        scheduling_seq=copy.deepcopy(self.params['job_seq'])\n",
    "        return scheduling_seq\n",
    "    def init_MA_Random(self, scheduling_seq): # 이게 걍 랜덤하게 초기화\n",
    "        routing_seq=[]\n",
    "        for operation in scheduling_seq:\n",
    "            operation2 = self.operation_check(operation)\n",
    "            self.job_preOperation[str(operation)] += 1\n",
    "            for i in self.machine_endTime:\n",
    "                a = self.p_table[i].loc[operation2]\n",
    "                if a != 0:\n",
    "                    routing_seq.append(i)\n",
    "                    break\n",
    "        return routing_seq\n",
    "    def init_MA_LS(self, scheduling_seq): #이건 SPT초기화\n",
    "        routing_seq=[]\n",
    "        for operation in scheduling_seq:\n",
    "            operation2 = self.operation_check(operation)\n",
    "            self.job_preOperation[str(operation)] += 1\n",
    "            machine = self.least_time_machine(operation,operation2)\n",
    "            routing_seq.append(machine)\n",
    "        self.reset()\n",
    "        return routing_seq\n",
    "    def AAM(self, offspring): #local하게 좋은 \n",
    "        coin = random.randint(1, 1)\n",
    "        scheduling_seq ,routing_seq, fittness, critical_machine, flow_time, util = offspring\n",
    "        if coin == 1:\n",
    "            routing_seq2 = copy.deepcopy(routing_seq)\n",
    "            critical_machine_index = []\n",
    "            machine = \"M\"+str(critical_machine)#과부하 걸린 기계\n",
    "            for i in range(48): #과부하 걸린 기계의 순서를 저장해놓음\n",
    "                if machine == routing_seq[i]:\n",
    "                    critical_machine_index.append(i) #[1,13,20,21,24,30,38]\n",
    "            random.shuffle(critical_machine_index)   \n",
    "            job = scheduling_seq[critical_machine_index[0]] # 24의 7이었음\n",
    "            k=0\n",
    "            for i in range(critical_machine_index[0]+1): #24까지 돌면서 7이 몇번나오나\n",
    "                if job == scheduling_seq[i]:\n",
    "                    k+=1\n",
    "            if job>9:\n",
    "                job_op = \"j\"+str(job)+\"0\"+str(k) #72\n",
    "            else:\n",
    "                job_op = \"j0\"+str(job)+\"0\"+str(k) #72\n",
    "            machine = self.random_machine(job, job_op)\n",
    "            routing_seq2[critical_machine_index[0]] = machine\n",
    "            self.reset()\n",
    "            fittness, critical_machine, flow_time, util = self.get_fittness(scheduling_seq, routing_seq2)\n",
    "            solution = [scheduling_seq, routing_seq2, fittness, critical_machine,flow_time,util]\n",
    "        return solution\n",
    "    def least_time_machine(self, job,operation2): #그 시점에서 가장 작은 machine 선택해주는거\n",
    "        best_machine = \"\"\n",
    "        max_endTime=10000\n",
    "        for i in self.machine_endTime:\n",
    "            time = max(self.machine_endTime[i] ,self.job_endTime[\"j\"+str(job)])\n",
    "            df_sorted = self.p_table[i]\n",
    "            p_time = df_sorted.loc[operation2]\n",
    "            if p_time != 0:\n",
    "                df2_sorted = self.s_table[\"j\"+str(job)]\n",
    "                setup_time=df2_sorted.loc[self.machine_prejob[i]]\n",
    "                start = time\n",
    "                end = start+setup_time+p_time\n",
    "                if max_endTime>end:\n",
    "                    max_endTime = end\n",
    "                    best_machine = i\n",
    "        self.machine_endTime[best_machine]=max_endTime #기계의 끝나는 시간 설정\n",
    "        self.job_endTime[job]=max_endTime #job의 끝나는 시간 설정\n",
    "        self.machine_prejob[best_machine] = \"j\"+str(job) #현재 어떤 machine에서 어떤 job을 수행했는지 기록\n",
    "        return best_machine\n",
    "    def random_machine(self, job,operation2): #그 시점에서 가장 작은 machine 선택해주는거\n",
    "        random_machine = \"\"\n",
    "        for i in self.machine_endTime:\n",
    "            df_sorted = self.p_table[i]\n",
    "            p_time = df_sorted.loc[operation2]\n",
    "            if p_time != 0:\n",
    "                random_machine = i\n",
    "                break\n",
    "        return random_machine\n",
    "    def Two_Point_OS_LS(self, solution): #LS 세가지\n",
    "        coin = random.randint(0,2)\n",
    "        scheduling_seq, routing_seq, fittness, critical_machine, flow_time, util = solution\n",
    "        s_v = copy.deepcopy(scheduling_seq)\n",
    "        r_v = copy.deepcopy(routing_seq)\n",
    "        operation_seq = [i for i in range(48)]\n",
    "        k = random.choice(operation_seq)\n",
    "        a = operation_seq.pop(k)\n",
    "        b = random.choice(operation_seq)\n",
    "        if a > b:\n",
    "            a,b = b,a\n",
    "        s_v2 = scheduling_seq[a:b+1]\n",
    "        r_v2 = routing_seq[a:b+1]\n",
    "        s_v3 = copy.deepcopy(s_v2)\n",
    "        if coin == 0:\n",
    "            s_v3.reverse()\n",
    "            r_v3 = []\n",
    "            for i in range(b-a+1):\n",
    "                for j in range(b-a+1):\n",
    "                    if s_v3[i] == s_v2[j]:\n",
    "                        r_v3.append(r_v2[j])\n",
    "                        s_v2[j] = 0\n",
    "                        break\n",
    "            k=0\n",
    "            for i in range(a,b+1):\n",
    "                s_v[i] = s_v3[k]\n",
    "                r_v[i] = r_v3[k]\n",
    "                k+=1\n",
    "            c_max, critical_machine2,flow_time, util = self.get_fittness(s_v, r_v)\n",
    "            solution = [s_v ,r_v, c_max, critical_machine2, flow_time, util]\n",
    "            return solution\n",
    "        elif coin == 1:\n",
    "            s_v3[0] , s_v3[-1] = s_v3[-1], s_v3[0]\n",
    "            r_v3 = []\n",
    "            for i in range(b-a+1):\n",
    "                for j in range(b-a+1):\n",
    "                    if s_v3[i] == s_v2[j]:\n",
    "                        r_v3.append(r_v2[j])\n",
    "                        s_v2[j] = 0\n",
    "                        break\n",
    "            k=0\n",
    "            for i in range(a,b+1):\n",
    "                s_v[i] = s_v3[k]\n",
    "                r_v[i] = r_v3[k]\n",
    "                k+=1\n",
    "            c_max, critical_machine2,flow_time, util = self.get_fittness(s_v, r_v)\n",
    "            solution = [s_v ,r_v, c_max, critical_machine2, flow_time, util]\n",
    "            return solution\n",
    "        elif coin == 2:\n",
    "            k = s_v3.pop(-1)\n",
    "            s_v3.insert(0,k)\n",
    "            r_v3 = []\n",
    "            for i in range(b-a+1):\n",
    "                for j in range(b-a+1):\n",
    "                    if s_v3[i] == s_v2[j]:\n",
    "                        r_v3.append(r_v2[j])\n",
    "                        s_v2[j] = 0\n",
    "                        break\n",
    "            k=0\n",
    "            for i in range(a,b+1):\n",
    "                s_v[i] = s_v3[k]\n",
    "                r_v[i] = r_v3[k]\n",
    "                k+=1\n",
    "            c_max, critical_machine2,flow_time, util = self.get_fittness(s_v, r_v)\n",
    "            solution = [s_v ,r_v, c_max, critical_machine2, flow_time, util]\n",
    "            return solution\n",
    "    \n",
    "    def replacement_operator2(self, population, offsprings):\n",
    "        result_population = population[:]\n",
    "        for i in range(5):\n",
    "            fitness = offsprings[i][2]\n",
    "            for j in range(100):\n",
    "                if population[j][2] > fitness:\n",
    "                    result_population[j] = copy.deepcopy(offsprings[i])\n",
    "                    break\n",
    "        return result_population\n",
    "    def sort_population(self, population):\n",
    "        population.sort(key=lambda x:x[2],reverse=False)\n",
    "        # todo: fitness를 기준으로 population을 내림차순 정렬하고 반환\n",
    "        return population\n",
    "    def selection_operater(self, population):\n",
    "        mom_ch = []\n",
    "        dad_ch = []\n",
    "        fitness_population=copy.deepcopy(population) #리스트 복사\n",
    "        total_score = 0 #유전자의 적합도 총합 계산\n",
    "        sum_fitness = 0 #0부터 적합도들의 합을 더함 이것이 k보다 클 시 그 해를 선택\n",
    "        #유전자별 적합도를 새로운 리스트에 입력\n",
    "        for i in range(len(population)):\n",
    "            fitness_population[i][2]=abs((population[-1][2]-population[i][2])-(population[0][2]-population[-1][2])/(3-1))\n",
    "        #(Cw-Ci)+(Cb-Cw)/(k-1)\n",
    "        \n",
    "        #유전자의 적합도 총합계산\n",
    "        for i in range(len(fitness_population)):\n",
    "            total_score=fitness_population[i][2]+total_score\n",
    "        total_score=int(total_score)\n",
    "        #랜덤함수 호출        \n",
    "        k=random.uniform(0, total_score)\n",
    "        #룰렛 돌리기\n",
    "        for i in range(len(fitness_population)):\n",
    "            sum_fitness=sum_fitness+fitness_population[i][2]\n",
    "            if sum_fitness>=k:\n",
    "                dad_ch=population[i]\n",
    "                fitness_population.pop(i)\n",
    "                break\n",
    "        #적합도 총합을 다시계산해줌, 더했던 적합도들의 합도 다시 계산\n",
    "        sum_fitness=0\n",
    "        total_score=0\n",
    "        for i in range(len(fitness_population)):\n",
    "            total_score=fitness_population[i][2]+total_score\n",
    "        total_score=int(total_score)\n",
    "        #랜덤함수 실행\n",
    "        k2=random.uniform(0, total_score)\n",
    "        #룰렛 돌리기\n",
    "        for i in range(len(fitness_population)):\n",
    "            sum_fitness=sum_fitness+fitness_population[i][2]\n",
    "            if sum_fitness>=k2:\n",
    "                mom_ch=population[i]\n",
    "                break\n",
    "        return mom_ch, dad_ch\n",
    "    def replacement_operator(self, population, offsprings):\n",
    "        # todo: 생성된 자식해들(offsprings)을 이용하여 기존 해집단(population)의 해를 대치하여 새로운 해집단을 return\n",
    "        \"\"\"\n",
    "        세대형 유전 알고리즘 사용\n",
    "        해집단 내에서 가장 품질이 낮은 해를 대치하는 방법 사용(엘리티즘)\n",
    "        \"\"\"\n",
    "        result_population = []\n",
    "        for i in range(5):\n",
    "            population.pop()\n",
    "        for i in range(5):\n",
    "            population.append(offsprings[i])\n",
    "        result_population=population[:]\n",
    "        return result_population\n",
    "    def tournament_selection(self, population):\n",
    "        k=8\n",
    "        tournament_list = []\n",
    "        tournament_list_4 = []\n",
    "        tournament_list_2 = []\n",
    "        for i in range(k):\n",
    "            tournament_list.append(random.choice(population))\n",
    "        for i in range(0,7,2):\n",
    "            if tournament_list[i][2] < tournament_list[i+1][2]:\n",
    "                tournament_list_4.append(tournament_list[i])\n",
    "            else:\n",
    "                tournament_list_4.append(tournament_list[i+1])\n",
    "        for i in range(0,3,2):\n",
    "            if tournament_list_4[i][2] < tournament_list_4[i+1][2]:\n",
    "                tournament_list_2.append(tournament_list_4[i])\n",
    "            else:\n",
    "                tournament_list_2.append(tournament_list_4[i+1])\n",
    "        mom_ch = copy.deepcopy(tournament_list_2[0])\n",
    "        dad_ch = copy.deepcopy(tournament_list_2[1])\n",
    "        return mom_ch, dad_ch\n",
    "    def print_average_fitness(self, population):\n",
    "        # todo: population의 평균 fitness를 출력\n",
    "        population_average_fitness = 0\n",
    "        total_population=0 \n",
    "        for i in range(100):\n",
    "            total_population=total_population+population[i][2]\n",
    "        population_average_fitness=total_population/100\n",
    "        print(\"population 평균 fitness: {}\".format(population_average_fitness))\n",
    "        return population_average_fitness\n",
    "    def gannt_chart(self, population):\n",
    "        assignment = []\n",
    "        for j in range(48):\n",
    "            assignment.append([population[0][0][j],population[0][1][j]])\n",
    "        print(assignment)\n",
    "        \n",
    "        plotlydf = pd.DataFrame([],columns=['Task','Start','Finish','Resource']) #간트차트로 보여주기 위한 데이터프레임\n",
    "        i=0 #간트차트의 인덱싱을 위한 숫자\n",
    "        j=0\n",
    "        for job_num,machine in assignment:  #['j11','M2']의 형태에서 잡과 머신을 가져옴\n",
    "            job = 'j'+str(job_num)        #'j11'의 형태를 j1로 \n",
    "            job_op = self.operation_check(job_num)\n",
    "            self.job_preOperation[str(job_num)] += 1\n",
    "            df2_sorted = self.s_table[job] #셋업테이블에서 job에 해당하는 컬럼을 가져옴\n",
    "            setup_time=df2_sorted.loc[self.machine_prejob[machine]] #컬럼에서 machine에 세팅되어있던 job에서 변경유무 확인\n",
    "            time = max(self.machine_endTime[machine] ,self.job_endTime[job]) #machine과 job의 순서 제약조건을 지키기 위해 더 큰 값을 설정함\n",
    "            df_sorted = self.p_table[machine] #p_time테이블에서 현재 machine에 해당하는 열을 가져옴\n",
    "            p_time = df_sorted.loc[job_op] #해당하는 job과 operation의 시간을 가져옴\n",
    "            start = datetime.fromtimestamp(time*3600) #포매팅 해줌\n",
    "            time = time+setup_time # 프로세스타임과 셋업타임을 더해줌\n",
    "            p_start=datetime.fromtimestamp(time*3600)\n",
    "            time = time+p_time\n",
    "            end = datetime.fromtimestamp(time*3600) #끝나는 시간 포매팅\n",
    "            plotlydf.loc[j] = dict(Task=job, Start=start, Finish=end, Resource=machine) #간트차트를 위한 딕셔너리 생성, 데이터프레임에 집어넣음\n",
    "            if setup_time !=0:\n",
    "                j+=1\n",
    "                plotlydf.loc[j] = dict(Task=\"setup\", Start=start, Finish=p_start, Resource=machine) #간트차트를 위한 딕셔너리 생성, 데이터프레임에 집어넣음\n",
    "            j += 1\n",
    "            i += 1 #데이터 프레임 인덱싱 증가\n",
    "            self.machine_endTime[machine]=time #기계의 끝나는 시간 설정\n",
    "            self.job_endTime[job]=time #job의 끝나는 시간 설정\n",
    "            self.machine_prejob[machine] = job #현재 어떤 machine에서 어떤 job을 수행했는지 기록      \n",
    "        self.reset()\n",
    "        plotlydf2 = plotlydf.sort_values(by=['Resource','Task'], ascending=False)\n",
    "        df = self.to_bottom_setup_df(plotlydf2)\n",
    "        fig = px.timeline(df, x_start=\"Start\", x_end=\"Finish\", y=\"Resource\", template=\"simple_white\",color=\"Task\", color_discrete_sequence=px.colors.qualitative.Dark24 ,text = \"Task\", width=2000, height=800)\n",
    "        #fig = px.timeline(plotlydf2, x_start=\"Start\", x_end=\"Finish\", y=\"Resource\", template=\"simple_white\",color=\"Task\", color_discrete_sequence=px.colors.qualitative.Dark24 ,pattern_shape=\"Task\",text = \"Task\", width=2000, height=800)\n",
    "        #fig = px.timeline(plotlydf2, x_start=\"Start\", x_end=\"Finish\", y=\"Resource\", pattern_shape=\"Task\",text = \"Task\", width=2000, height=800)\n",
    "        fig.update_traces(marker=dict(line_color=\"black\"))\n",
    "        \n",
    "        [(self.modify_width(bar, 0.7))\n",
    "        for bar in fig.data if ('setup' in bar.legendgroup)]\n",
    "        \n",
    "        fig.show()\n",
    "        #fig,write_html(f\"{PathInfo.xlsx}{os.sep}temp_target.html\", default_width=2300, default_height=900)\n",
    "        plotlydf3 = plotlydf.sort_values(by=['Task'], ascending=True)\n",
    "        df = self.to_bottom_setup_df(plotlydf3)\n",
    "        fig2 = px.timeline(df, x_start=\"Start\", x_end=\"Finish\", y=\"Task\", template=\"seaborn\" ,color=\"Resource\",text = \"Resource\", width=2000, height=1000)\n",
    "        fig2.update_traces(marker=dict(line_color=\"yellow\", cmid = 1000))\n",
    "        fig2.show()\n",
    "    def modify_width(self, bar, width):\n",
    "        \"\"\"\n",
    "        막대의 너비를 설정합니다.\n",
    "        width = (단위 px)\n",
    "        \"\"\"\n",
    "        bar.width = width\n",
    "    def to_bottom_setup_df(self, df):\n",
    "        \"\"\"\n",
    "        figure의 경우 위에서 부터 bar 생성됩니다.\n",
    "        track_in event를 df(데이터프레임) 가장 밑 행으로 배치시킵니다.\n",
    "        이 작업을 통해 TRACK_IN 이벤트가 다른 중복되는 차트에 가려지는 것을 방지합니다.\n",
    "        \"\"\"\n",
    "        setup_df = df.loc[df['Task'] == 'setup']\n",
    "        df = df[df['Task'] != 'setup']\n",
    "        df = df.append(setup_df, ignore_index=True)\n",
    "        return df\n",
    "    def search(self):\n",
    "        generation = 0  # 현재 세대 수\n",
    "        population = [] # 해집단\n",
    "        offsprings = [] # 자식해집단\n",
    "        all_list = []                    \n",
    "        for i in range(100):\n",
    "            scheduling_seq = self.init_OS()\n",
    "            routing_seq_m = self.init_MA_LS(scheduling_seq)\n",
    "            self.reset()\n",
    "            fittness,critical_machine,flow_time,util = self.get_fittness(scheduling_seq,routing_seq_m)\n",
    "            self.reset()\n",
    "            population.append([scheduling_seq,routing_seq_m,fittness,critical_machine, flow_time, util])\n",
    "        population = self.sort_population(population)\n",
    "        result=[]\n",
    "        while True:\n",
    "            offsprings = []\n",
    "            count_end=0 #동일 갯수\n",
    "            for i in range(5):\n",
    "                mom_ch, dad_ch = self.tournament_selection(population)\n",
    "                self.reset()\n",
    "                coin = random.randint(0,1)\n",
    "                if coin == 0 :\n",
    "                    offspring = self.sco(dad_ch, mom_ch)\n",
    "                    self.reset()\n",
    "                elif coin == 1:\n",
    "                    offspring = self.jco(dad_ch, mom_ch)\n",
    "                    self.reset()\n",
    "                coin2 = random.random()\n",
    "                if coin2 < 0.15:\n",
    "                    offspring = self.Two_Point_OS_LS(offspring)\n",
    "                offsprings.append(offspring)\n",
    "            population = self.replacement_operator(population, offsprings)\n",
    "            self.reset()\n",
    "            population = self.sort_population(population)\n",
    "            print('현재 세대',generation, '최고 해', population[0][2])\n",
    "            avg = self.print_average_fitness(population)\n",
    "            result.append([population[0][2],avg])\n",
    "            self.anneal_eps()\n",
    "            generation=generation+1\n",
    "            pop_list=[]\n",
    "            for i in range(100):\n",
    "                pop_list.append(population[i][2])\n",
    "            a = Counter(pop_list)\n",
    "            end_number_list=[]\n",
    "            for k in a.values():\n",
    "                end_number_list.append(k)\n",
    "            end_number = max(end_number_list)\n",
    "            if end_number >= 90:\n",
    "                self.reset()\n",
    "                print(generation)\n",
    "                break\n",
    "            if generation == 10:\n",
    "                print(generation)\n",
    "                break\n",
    "        self.gannt_chart(population)\n",
    "        return population, result\n",
    "total_makespan=0\n",
    "solution_list = []\n",
    "makespan_list = []\n",
    "util_list = []\n",
    "flow_time_list = []\n",
    "starttime = datetime.now()\n",
    "for i in range(1):\n",
    "    if __name__ == \"__main__\":\n",
    "        jaya = JAYA_FJSP(params)\n",
    "        population,result = jaya.search()\n",
    "        print(population[0])\n",
    "        total_makespan += population[0][2]\n",
    "        makespan_list.append(population[0][2])\n",
    "        util_list.append(population[0][5])\n",
    "        flow_time_list.append(population[0][4])\n",
    "        solution_list.append([population[0][2],population[0][4],population[0][5]])\n",
    "endtime = datetime.now()\n",
    "elapsed_time = endtime-starttime\n",
    "total_elapsed_time = 0\n",
    "total_elapsed_time += elapsed_time.total_seconds()\n",
    "print(solution_list)\n",
    "print(\"100회 실행 평균 최적 makespan: \", total_makespan/5)\n",
    "print(\"100회 평균 총 걸린시간: \", total_elapsed_time/5)\n",
    "print(\"5회 최소값\", min(makespan_list))\n",
    "print(\"5회 최댓값\", max(makespan_list))\n",
    "\n"
   ]
  },
  {
   "cell_type": "code",
   "execution_count": null,
   "id": "592556be",
   "metadata": {},
   "outputs": [],
   "source": []
  },
  {
   "cell_type": "code",
   "execution_count": null,
   "id": "3bea9a4b",
   "metadata": {},
   "outputs": [],
   "source": []
  }
 ],
 "metadata": {
  "kernelspec": {
   "display_name": "Python 3",
   "language": "python",
   "name": "python3"
  },
  "language_info": {
   "codemirror_mode": {
    "name": "ipython",
    "version": 3
   },
   "file_extension": ".py",
   "mimetype": "text/x-python",
   "name": "python",
   "nbconvert_exporter": "python",
   "pygments_lexer": "ipython3",
   "version": "3.8.8"
  }
 },
 "nbformat": 4,
 "nbformat_minor": 5
}
