{
 "cells": [
  {
   "cell_type": "code",
   "execution_count": 6,
   "id": "49cc2b0e",
   "metadata": {},
   "outputs": [
    {
     "name": "stdout",
     "output_type": "stream",
     "text": [
      "--------------------------------------------------\n",
      "flow time: 4556, util : 0.902, makespan : 301\n",
      "n_episode: 1, score : -171.0, n_buffer : 200, eps : 8.0%\n",
      "--------------------------------------------------\n",
      "flow time: 4543, util : 0.907, makespan : 307\n",
      "n_episode: 2, score : -161.0, n_buffer : 300, eps : 8.0%\n",
      "--------------------------------------------------\n",
      "flow time: 4491, util : 0.901, makespan : 305\n",
      "n_episode: 3, score : -171.0, n_buffer : 400, eps : 8.0%\n",
      "--------------------------------------------------\n",
      "flow time: 4763, util : 0.895, makespan : 313\n",
      "n_episode: 4, score : -184.0, n_buffer : 500, eps : 8.0%\n",
      "--------------------------------------------------\n",
      "flow time: 4761, util : 0.904, makespan : 307\n",
      "n_episode: 5, score : -170.0, n_buffer : 600, eps : 8.0%\n",
      "--------------------------------------------------\n",
      "flow time: 4646, util : 0.902, makespan : 299\n",
      "n_episode: 6, score : -167.0, n_buffer : 700, eps : 7.9%\n",
      "--------------------------------------------------\n",
      "flow time: 4669, util : 0.907, makespan : 302\n",
      "n_episode: 7, score : -157.0, n_buffer : 800, eps : 7.9%\n",
      "--------------------------------------------------\n",
      "flow time: 4677, util : 0.912, makespan : 302\n",
      "n_episode: 8, score : -152.0, n_buffer : 900, eps : 7.9%\n",
      "--------------------------------------------------\n",
      "flow time: 4749, util : 0.901, makespan : 319\n",
      "n_episode: 9, score : -177.0, n_buffer : 1000, eps : 7.9%\n",
      "--------------------------------------------------\n",
      "flow time: 4828, util : 0.898, makespan : 332\n",
      "n_episode: 10, score : -183.0, n_buffer : 1100, eps : 7.9%\n",
      "--------------------------------------------------\n",
      "flow time: 4172, util : 0.889, makespan : 283\n",
      "n_episode: 11, score : -184.0, n_buffer : 1200, eps : 7.9%\n",
      "--------------------------------------------------\n",
      "flow time: 4506, util : 0.879, makespan : 284\n",
      "n_episode: 12, score : -203.0, n_buffer : 1300, eps : 7.9%\n",
      "--------------------------------------------------\n",
      "flow time: 4470, util : 0.876, makespan : 265\n",
      "n_episode: 13, score : -192.0, n_buffer : 1400, eps : 7.9%\n",
      "--------------------------------------------------\n",
      "flow time: 4330, util : 0.856, makespan : 257\n",
      "n_episode: 14, score : -218.0, n_buffer : 1500, eps : 7.9%\n",
      "--------------------------------------------------\n",
      "flow time: 3713, util : 0.868, makespan : 248\n",
      "n_episode: 15, score : -184.0, n_buffer : 1600, eps : 7.8%\n",
      "--------------------------------------------------\n",
      "flow time: 4712, util : 0.899, makespan : 320\n",
      "n_episode: 16, score : -179.0, n_buffer : 1700, eps : 7.8%\n",
      "--------------------------------------------------\n",
      "flow time: 3566, util : 0.866, makespan : 247\n",
      "n_episode: 17, score : -187.0, n_buffer : 1800, eps : 7.8%\n",
      "--------------------------------------------------\n",
      "flow time: 4286, util : 0.891, makespan : 317\n",
      "n_episode: 18, score : -193.0, n_buffer : 1900, eps : 7.8%\n",
      "--------------------------------------------------\n",
      "flow time: 3495, util : 0.884, makespan : 270\n",
      "n_episode: 19, score : -174.0, n_buffer : 2000, eps : 7.8%\n",
      "--------------------------------------------------\n",
      "flow time: 3749, util : 0.838, makespan : 296\n",
      "n_episode: 20, score : -249.0, n_buffer : 2100, eps : 7.8%\n",
      "--------------------------------------------------\n",
      "flow time: 4415, util : 0.884, makespan : 303\n",
      "n_episode: 21, score : -200.0, n_buffer : 2200, eps : 7.8%\n",
      "--------------------------------------------------\n",
      "flow time: 2941, util : 0.929, makespan : 270\n",
      "n_episode: 22, score : -106.0, n_buffer : 2300, eps : 7.8%\n",
      "--------------------------------------------------\n",
      "flow time: 3474, util : 0.904, makespan : 277\n",
      "n_episode: 23, score : -144.0, n_buffer : 2400, eps : 7.8%\n",
      "--------------------------------------------------\n",
      "flow time: 3113, util : 0.912, makespan : 295\n",
      "n_episode: 24, score : -132.0, n_buffer : 2500, eps : 7.8%\n",
      "--------------------------------------------------\n",
      "flow time: 3176, util : 0.943, makespan : 290\n",
      "n_episode: 25, score : -85.0, n_buffer : 2600, eps : 7.8%\n",
      "--------------------------------------------------\n",
      "flow time: 3618, util : 0.902, makespan : 286\n",
      "n_episode: 26, score : -156.0, n_buffer : 2700, eps : 7.7%\n",
      "--------------------------------------------------\n",
      "flow time: 3297, util : 0.923, makespan : 312\n",
      "n_episode: 27, score : -119.0, n_buffer : 2800, eps : 7.7%\n",
      "--------------------------------------------------\n",
      "flow time: 3094, util : 0.934, makespan : 275\n",
      "n_episode: 28, score : -95.0, n_buffer : 2900, eps : 7.7%\n",
      "--------------------------------------------------\n",
      "flow time: 3018, util : 0.943, makespan : 264\n",
      "n_episode: 29, score : -82.0, n_buffer : 3000, eps : 7.7%\n",
      "--------------------------------------------------\n",
      "flow time: 3271, util : 0.929, makespan : 293\n",
      "n_episode: 30, score : -107.0, n_buffer : 3100, eps : 7.7%\n",
      "--------------------------------------------------\n",
      "flow time: 3104, util : 0.919, makespan : 284\n",
      "n_episode: 31, score : -119.0, n_buffer : 3200, eps : 7.7%\n",
      "--------------------------------------------------\n",
      "flow time: 2952, util : 0.935, makespan : 247\n",
      "n_episode: 32, score : -91.0, n_buffer : 3300, eps : 7.7%\n",
      "--------------------------------------------------\n",
      "flow time: 3208, util : 0.941, makespan : 306\n",
      "n_episode: 33, score : -85.0, n_buffer : 3400, eps : 7.7%\n",
      "--------------------------------------------------\n",
      "flow time: 3135, util : 0.932, makespan : 296\n",
      "n_episode: 34, score : -100.0, n_buffer : 3500, eps : 7.7%\n",
      "--------------------------------------------------\n",
      "flow time: 3085, util : 0.909, makespan : 264\n",
      "n_episode: 35, score : -131.0, n_buffer : 3600, eps : 7.6%\n",
      "--------------------------------------------------\n",
      "flow time: 3306, util : 0.910, makespan : 303\n",
      "n_episode: 36, score : -139.0, n_buffer : 3700, eps : 7.6%\n",
      "--------------------------------------------------\n",
      "flow time: 3292, util : 0.932, makespan : 281\n",
      "n_episode: 37, score : -101.0, n_buffer : 3800, eps : 7.6%\n",
      "--------------------------------------------------\n",
      "flow time: 3301, util : 0.938, makespan : 282\n",
      "n_episode: 38, score : -93.0, n_buffer : 3900, eps : 7.6%\n",
      "--------------------------------------------------\n",
      "flow time: 3270, util : 0.930, makespan : 295\n",
      "n_episode: 39, score : -106.0, n_buffer : 4000, eps : 7.6%\n",
      "--------------------------------------------------\n",
      "flow time: 3253, util : 0.909, makespan : 256\n",
      "n_episode: 40, score : -130.0, n_buffer : 4100, eps : 7.6%\n",
      "--------------------------------------------------\n",
      "flow time: 3179, util : 0.944, makespan : 279\n",
      "n_episode: 41, score : -81.0, n_buffer : 4200, eps : 7.6%\n",
      "--------------------------------------------------\n",
      "flow time: 3160, util : 0.914, makespan : 298\n",
      "n_episode: 42, score : -127.0, n_buffer : 4300, eps : 7.6%\n",
      "--------------------------------------------------\n",
      "flow time: 2940, util : 0.910, makespan : 280\n",
      "n_episode: 43, score : -130.0, n_buffer : 4400, eps : 7.6%\n",
      "--------------------------------------------------\n",
      "flow time: 3370, util : 0.899, makespan : 275\n",
      "n_episode: 44, score : -149.0, n_buffer : 4500, eps : 7.6%\n",
      "--------------------------------------------------\n",
      "flow time: 3258, util : 0.921, makespan : 278\n",
      "n_episode: 45, score : -117.0, n_buffer : 4600, eps : 7.5%\n",
      "--------------------------------------------------\n",
      "flow time: 3401, util : 0.932, makespan : 270\n",
      "n_episode: 46, score : -101.0, n_buffer : 4700, eps : 7.5%\n",
      "--------------------------------------------------\n",
      "flow time: 3082, util : 0.927, makespan : 279\n",
      "n_episode: 47, score : -108.0, n_buffer : 4800, eps : 7.5%\n",
      "--------------------------------------------------\n",
      "flow time: 3310, util : 0.918, makespan : 294\n",
      "n_episode: 48, score : -125.0, n_buffer : 4900, eps : 7.5%\n",
      "--------------------------------------------------\n",
      "flow time: 3214, util : 0.941, makespan : 281\n",
      "n_episode: 49, score : -85.0, n_buffer : 5000, eps : 7.5%\n",
      "--------------------------------------------------\n",
      "flow time: 3268, util : 0.939, makespan : 289\n",
      "n_episode: 50, score : -91.0, n_buffer : 5100, eps : 7.5%\n",
      "--------------------------------------------------\n",
      "flow time: 3283, util : 0.929, makespan : 264\n",
      "n_episode: 51, score : -106.0, n_buffer : 5200, eps : 7.5%\n",
      "--------------------------------------------------\n",
      "flow time: 3309, util : 0.905, makespan : 290\n",
      "n_episode: 52, score : -141.0, n_buffer : 5300, eps : 7.5%\n",
      "--------------------------------------------------\n",
      "flow time: 3385, util : 0.921, makespan : 294\n",
      "n_episode: 53, score : -121.0, n_buffer : 5400, eps : 7.5%\n"
     ]
    },
    {
     "name": "stdout",
     "output_type": "stream",
     "text": [
      "--------------------------------------------------\n",
      "flow time: 2913, util : 0.939, makespan : 267\n",
      "n_episode: 54, score : -87.0, n_buffer : 5500, eps : 7.5%\n",
      "--------------------------------------------------\n",
      "flow time: 3140, util : 0.926, makespan : 283\n",
      "n_episode: 55, score : -113.0, n_buffer : 5600, eps : 7.4%\n",
      "--------------------------------------------------\n",
      "flow time: 3270, util : 0.937, makespan : 296\n",
      "n_episode: 56, score : -92.0, n_buffer : 5700, eps : 7.4%\n",
      "--------------------------------------------------\n",
      "flow time: 3621, util : 0.920, makespan : 272\n",
      "n_episode: 57, score : -122.0, n_buffer : 5800, eps : 7.4%\n",
      "--------------------------------------------------\n",
      "flow time: 3459, util : 0.928, makespan : 299\n",
      "n_episode: 58, score : -109.0, n_buffer : 5900, eps : 7.4%\n",
      "--------------------------------------------------\n",
      "flow time: 2947, util : 0.946, makespan : 268\n",
      "n_episode: 59, score : -78.0, n_buffer : 6000, eps : 7.4%\n",
      "--------------------------------------------------\n",
      "flow time: 3196, util : 0.922, makespan : 276\n",
      "n_episode: 60, score : -115.0, n_buffer : 6100, eps : 7.4%\n",
      "--------------------------------------------------\n",
      "flow time: 3305, util : 0.937, makespan : 289\n",
      "n_episode: 61, score : -94.0, n_buffer : 6200, eps : 7.4%\n",
      "--------------------------------------------------\n",
      "flow time: 2697, util : 0.929, makespan : 273\n",
      "n_episode: 62, score : -97.0, n_buffer : 6300, eps : 7.4%\n",
      "--------------------------------------------------\n",
      "flow time: 3172, util : 0.923, makespan : 284\n",
      "n_episode: 63, score : -115.0, n_buffer : 6400, eps : 7.4%\n",
      "--------------------------------------------------\n",
      "flow time: 3160, util : 0.939, makespan : 278\n",
      "n_episode: 64, score : -90.0, n_buffer : 6500, eps : 7.4%\n",
      "--------------------------------------------------\n",
      "flow time: 3251, util : 0.932, makespan : 293\n",
      "n_episode: 65, score : -105.0, n_buffer : 6600, eps : 7.3%\n",
      "--------------------------------------------------\n",
      "flow time: 3063, util : 0.928, makespan : 276\n",
      "n_episode: 66, score : -106.0, n_buffer : 6700, eps : 7.3%\n",
      "--------------------------------------------------\n",
      "flow time: 3194, util : 0.932, makespan : 258\n",
      "n_episode: 67, score : -95.0, n_buffer : 6800, eps : 7.3%\n",
      "--------------------------------------------------\n",
      "flow time: 3116, util : 0.920, makespan : 263\n",
      "n_episode: 68, score : -114.0, n_buffer : 6900, eps : 7.3%\n",
      "--------------------------------------------------\n",
      "flow time: 3174, util : 0.917, makespan : 299\n",
      "n_episode: 69, score : -126.0, n_buffer : 7000, eps : 7.3%\n",
      "--------------------------------------------------\n",
      "flow time: 2871, util : 0.905, makespan : 277\n",
      "n_episode: 70, score : -132.0, n_buffer : 7100, eps : 7.3%\n",
      "--------------------------------------------------\n",
      "flow time: 2819, util : 0.915, makespan : 274\n",
      "n_episode: 71, score : -122.0, n_buffer : 7200, eps : 7.3%\n",
      "--------------------------------------------------\n",
      "flow time: 2877, util : 0.913, makespan : 275\n",
      "n_episode: 72, score : -120.0, n_buffer : 7300, eps : 7.3%\n",
      "--------------------------------------------------\n",
      "flow time: 2763, util : 0.921, makespan : 278\n",
      "n_episode: 73, score : -111.0, n_buffer : 7400, eps : 7.3%\n",
      "--------------------------------------------------\n",
      "flow time: 2817, util : 0.933, makespan : 295\n",
      "n_episode: 74, score : -97.0, n_buffer : 7500, eps : 7.3%\n",
      "--------------------------------------------------\n",
      "flow time: 2733, util : 0.930, makespan : 265\n",
      "n_episode: 75, score : -96.0, n_buffer : 7600, eps : 7.3%\n",
      "--------------------------------------------------\n",
      "flow time: 2871, util : 0.921, makespan : 285\n",
      "n_episode: 76, score : -109.0, n_buffer : 7700, eps : 7.2%\n",
      "--------------------------------------------------\n",
      "flow time: 2800, util : 0.885, makespan : 236\n",
      "n_episode: 77, score : -151.0, n_buffer : 7800, eps : 7.2%\n",
      "--------------------------------------------------\n",
      "flow time: 2967, util : 0.876, makespan : 292\n",
      "n_episode: 78, score : -184.0, n_buffer : 7900, eps : 7.2%\n",
      "--------------------------------------------------\n",
      "flow time: 3038, util : 0.939, makespan : 291\n",
      "n_episode: 79, score : -89.0, n_buffer : 8000, eps : 7.2%\n",
      "--------------------------------------------------\n",
      "flow time: 3190, util : 0.934, makespan : 268\n",
      "n_episode: 80, score : -94.0, n_buffer : 8100, eps : 7.2%\n",
      "--------------------------------------------------\n",
      "flow time: 3003, util : 0.935, makespan : 281\n",
      "n_episode: 81, score : -96.0, n_buffer : 8200, eps : 7.2%\n",
      "--------------------------------------------------\n",
      "flow time: 2948, util : 0.925, makespan : 283\n",
      "n_episode: 82, score : -114.0, n_buffer : 8300, eps : 7.2%\n",
      "--------------------------------------------------\n",
      "flow time: 2922, util : 0.920, makespan : 266\n",
      "n_episode: 83, score : -115.0, n_buffer : 8400, eps : 7.2%\n",
      "--------------------------------------------------\n",
      "flow time: 3133, util : 0.921, makespan : 281\n",
      "n_episode: 84, score : -115.0, n_buffer : 8500, eps : 7.2%\n",
      "--------------------------------------------------\n",
      "flow time: 3316, util : 0.903, makespan : 308\n",
      "n_episode: 85, score : -150.0, n_buffer : 8600, eps : 7.2%\n",
      "--------------------------------------------------\n",
      "flow time: 3054, util : 0.931, makespan : 276\n",
      "n_episode: 86, score : -101.0, n_buffer : 8700, eps : 7.1%\n",
      "--------------------------------------------------\n",
      "flow time: 3223, util : 0.930, makespan : 287\n",
      "n_episode: 87, score : -105.0, n_buffer : 8800, eps : 7.1%\n",
      "--------------------------------------------------\n",
      "flow time: 3170, util : 0.935, makespan : 268\n",
      "n_episode: 88, score : -98.0, n_buffer : 8900, eps : 7.1%\n",
      "--------------------------------------------------\n",
      "flow time: 2982, util : 0.911, makespan : 302\n",
      "n_episode: 89, score : -134.0, n_buffer : 9000, eps : 7.1%\n",
      "--------------------------------------------------\n",
      "flow time: 2962, util : 0.946, makespan : 272\n",
      "n_episode: 90, score : -75.0, n_buffer : 9100, eps : 7.1%\n",
      "--------------------------------------------------\n",
      "flow time: 3260, util : 0.915, makespan : 276\n",
      "n_episode: 91, score : -127.0, n_buffer : 9200, eps : 7.1%\n",
      "--------------------------------------------------\n",
      "flow time: 3219, util : 0.928, makespan : 277\n",
      "n_episode: 92, score : -104.0, n_buffer : 9300, eps : 7.1%\n",
      "--------------------------------------------------\n",
      "flow time: 3108, util : 0.942, makespan : 254\n",
      "n_episode: 93, score : -82.0, n_buffer : 9400, eps : 7.1%\n",
      "--------------------------------------------------\n",
      "flow time: 3340, util : 0.915, makespan : 302\n",
      "n_episode: 94, score : -132.0, n_buffer : 9500, eps : 7.1%\n",
      "--------------------------------------------------\n",
      "flow time: 3241, util : 0.916, makespan : 261\n",
      "n_episode: 95, score : -127.0, n_buffer : 9600, eps : 7.1%\n",
      "--------------------------------------------------\n",
      "flow time: 3048, util : 0.920, makespan : 270\n",
      "n_episode: 96, score : -115.0, n_buffer : 9700, eps : 7.0%\n",
      "--------------------------------------------------\n",
      "flow time: 3330, util : 0.925, makespan : 287\n",
      "n_episode: 97, score : -112.0, n_buffer : 9800, eps : 7.0%\n",
      "--------------------------------------------------\n",
      "flow time: 3259, util : 0.940, makespan : 253\n",
      "n_episode: 98, score : -87.0, n_buffer : 9900, eps : 7.0%\n",
      "--------------------------------------------------\n",
      "flow time: 3264, util : 0.928, makespan : 304\n",
      "n_episode: 99, score : -106.0, n_buffer : 10000, eps : 7.0%\n",
      "--------------------------------------------------\n",
      "flow time: 2879, util : 0.894, makespan : 290\n",
      "n_episode: 100, score : -158.0, n_buffer : 10100, eps : 7.0%\n",
      "--------------------------------------------------\n",
      "flow time: 3009, util : 0.937, makespan : 273\n",
      "n_episode: 101, score : -93.0, n_buffer : 10200, eps : 7.0%\n",
      "--------------------------------------------------\n",
      "flow time: 3020, util : 0.926, makespan : 283\n",
      "n_episode: 102, score : -110.0, n_buffer : 10300, eps : 7.0%\n",
      "--------------------------------------------------\n",
      "flow time: 3069, util : 0.941, makespan : 263\n",
      "n_episode: 103, score : -86.0, n_buffer : 10400, eps : 7.0%\n",
      "--------------------------------------------------\n",
      "flow time: 3179, util : 0.909, makespan : 280\n",
      "n_episode: 104, score : -135.0, n_buffer : 10500, eps : 7.0%\n",
      "--------------------------------------------------\n",
      "flow time: 3335, util : 0.934, makespan : 259\n",
      "n_episode: 105, score : -95.0, n_buffer : 10600, eps : 7.0%\n",
      "--------------------------------------------------\n",
      "flow time: 3034, util : 0.926, makespan : 277\n",
      "n_episode: 106, score : -106.0, n_buffer : 10700, eps : 6.9%\n"
     ]
    },
    {
     "name": "stdout",
     "output_type": "stream",
     "text": [
      "--------------------------------------------------\n",
      "flow time: 3203, util : 0.914, makespan : 278\n",
      "n_episode: 107, score : -124.0, n_buffer : 10800, eps : 6.9%\n",
      "--------------------------------------------------\n",
      "flow time: 3211, util : 0.932, makespan : 271\n",
      "n_episode: 108, score : -100.0, n_buffer : 10900, eps : 6.9%\n",
      "--------------------------------------------------\n",
      "flow time: 3625, util : 0.906, makespan : 273\n",
      "n_episode: 109, score : -146.0, n_buffer : 11000, eps : 6.9%\n",
      "--------------------------------------------------\n",
      "flow time: 3390, util : 0.917, makespan : 283\n",
      "n_episode: 110, score : -126.0, n_buffer : 11100, eps : 6.9%\n",
      "--------------------------------------------------\n",
      "flow time: 3454, util : 0.938, makespan : 249\n",
      "n_episode: 111, score : -90.0, n_buffer : 11200, eps : 6.9%\n",
      "--------------------------------------------------\n",
      "flow time: 3252, util : 0.915, makespan : 284\n",
      "n_episode: 112, score : -129.0, n_buffer : 11300, eps : 6.9%\n",
      "--------------------------------------------------\n",
      "flow time: 2792, util : 0.932, makespan : 275\n",
      "n_episode: 113, score : -99.0, n_buffer : 11400, eps : 6.9%\n",
      "--------------------------------------------------\n",
      "flow time: 3208, util : 0.934, makespan : 259\n",
      "n_episode: 114, score : -91.0, n_buffer : 11500, eps : 6.9%\n",
      "--------------------------------------------------\n",
      "flow time: 3392, util : 0.931, makespan : 257\n",
      "n_episode: 115, score : -98.0, n_buffer : 11600, eps : 6.9%\n",
      "--------------------------------------------------\n",
      "flow time: 3092, util : 0.919, makespan : 262\n",
      "n_episode: 116, score : -113.0, n_buffer : 11700, eps : 6.8%\n",
      "--------------------------------------------------\n",
      "flow time: 3605, util : 0.918, makespan : 299\n",
      "n_episode: 117, score : -128.0, n_buffer : 11800, eps : 6.8%\n",
      "--------------------------------------------------\n",
      "flow time: 3007, util : 0.936, makespan : 265\n",
      "n_episode: 118, score : -93.0, n_buffer : 11900, eps : 6.8%\n",
      "--------------------------------------------------\n",
      "flow time: 3297, util : 0.940, makespan : 294\n",
      "n_episode: 119, score : -91.0, n_buffer : 12000, eps : 6.8%\n",
      "--------------------------------------------------\n",
      "flow time: 3368, util : 0.915, makespan : 280\n",
      "n_episode: 120, score : -129.0, n_buffer : 12100, eps : 6.8%\n",
      "--------------------------------------------------\n",
      "flow time: 3613, util : 0.918, makespan : 296\n",
      "n_episode: 121, score : -126.0, n_buffer : 12200, eps : 6.8%\n",
      "--------------------------------------------------\n",
      "flow time: 3530, util : 0.923, makespan : 282\n",
      "n_episode: 122, score : -115.0, n_buffer : 12300, eps : 6.8%\n",
      "--------------------------------------------------\n",
      "flow time: 3326, util : 0.917, makespan : 263\n",
      "n_episode: 123, score : -119.0, n_buffer : 12400, eps : 6.8%\n",
      "--------------------------------------------------\n",
      "flow time: 3508, util : 0.926, makespan : 291\n",
      "n_episode: 124, score : -111.0, n_buffer : 12500, eps : 6.8%\n",
      "--------------------------------------------------\n",
      "flow time: 3358, util : 0.918, makespan : 253\n",
      "n_episode: 125, score : -115.0, n_buffer : 12600, eps : 6.8%\n",
      "--------------------------------------------------\n",
      "flow time: 3246, util : 0.916, makespan : 265\n",
      "n_episode: 126, score : -120.0, n_buffer : 12700, eps : 6.7%\n",
      "--------------------------------------------------\n",
      "flow time: 2774, util : 0.935, makespan : 261\n",
      "n_episode: 127, score : -93.0, n_buffer : 12800, eps : 6.7%\n",
      "--------------------------------------------------\n",
      "flow time: 2871, util : 0.933, makespan : 256\n",
      "n_episode: 128, score : -95.0, n_buffer : 12900, eps : 6.7%\n",
      "--------------------------------------------------\n",
      "flow time: 3276, util : 0.905, makespan : 291\n",
      "n_episode: 129, score : -140.0, n_buffer : 13000, eps : 6.7%\n",
      "--------------------------------------------------\n",
      "flow time: 3448, util : 0.916, makespan : 289\n",
      "n_episode: 130, score : -125.0, n_buffer : 13100, eps : 6.7%\n",
      "--------------------------------------------------\n",
      "flow time: 3413, util : 0.925, makespan : 266\n",
      "n_episode: 131, score : -111.0, n_buffer : 13200, eps : 6.7%\n",
      "--------------------------------------------------\n",
      "flow time: 3420, util : 0.933, makespan : 263\n",
      "n_episode: 132, score : -99.0, n_buffer : 13300, eps : 6.7%\n",
      "--------------------------------------------------\n",
      "flow time: 2772, util : 0.900, makespan : 272\n",
      "n_episode: 133, score : -146.0, n_buffer : 13400, eps : 6.7%\n",
      "--------------------------------------------------\n",
      "flow time: 2774, util : 0.919, makespan : 275\n",
      "n_episode: 134, score : -116.0, n_buffer : 13500, eps : 6.7%\n",
      "--------------------------------------------------\n",
      "flow time: 3062, util : 0.922, makespan : 260\n",
      "n_episode: 135, score : -110.0, n_buffer : 13600, eps : 6.7%\n",
      "--------------------------------------------------\n",
      "flow time: 3209, util : 0.936, makespan : 281\n",
      "n_episode: 136, score : -95.0, n_buffer : 13700, eps : 6.6%\n",
      "--------------------------------------------------\n",
      "flow time: 2929, util : 0.946, makespan : 277\n",
      "n_episode: 137, score : -78.0, n_buffer : 13800, eps : 6.6%\n",
      "--------------------------------------------------\n",
      "flow time: 3385, util : 0.907, makespan : 257\n",
      "n_episode: 138, score : -135.0, n_buffer : 13900, eps : 6.6%\n",
      "--------------------------------------------------\n",
      "flow time: 3611, util : 0.923, makespan : 269\n",
      "n_episode: 139, score : -117.0, n_buffer : 14000, eps : 6.6%\n",
      "--------------------------------------------------\n",
      "flow time: 3013, util : 0.925, makespan : 289\n",
      "n_episode: 140, score : -113.0, n_buffer : 14100, eps : 6.6%\n",
      "--------------------------------------------------\n",
      "flow time: 2871, util : 0.929, makespan : 272\n",
      "n_episode: 141, score : -102.0, n_buffer : 14200, eps : 6.6%\n",
      "--------------------------------------------------\n",
      "flow time: 3420, util : 0.916, makespan : 256\n",
      "n_episode: 142, score : -124.0, n_buffer : 14300, eps : 6.6%\n",
      "--------------------------------------------------\n",
      "flow time: 2726, util : 0.956, makespan : 291\n",
      "n_episode: 143, score : -63.0, n_buffer : 14400, eps : 6.6%\n",
      "--------------------------------------------------\n",
      "flow time: 2968, util : 0.949, makespan : 297\n",
      "n_episode: 144, score : -78.0, n_buffer : 14500, eps : 6.6%\n",
      "--------------------------------------------------\n",
      "flow time: 3168, util : 0.926, makespan : 255\n",
      "n_episode: 145, score : -105.0, n_buffer : 14600, eps : 6.6%\n",
      "--------------------------------------------------\n",
      "flow time: 2969, util : 0.911, makespan : 278\n",
      "n_episode: 146, score : -130.0, n_buffer : 14700, eps : 6.5%\n",
      "--------------------------------------------------\n",
      "flow time: 2694, util : 0.947, makespan : 264\n",
      "n_episode: 147, score : -73.0, n_buffer : 14800, eps : 6.5%\n",
      "--------------------------------------------------\n",
      "flow time: 2640, util : 0.931, makespan : 268\n",
      "n_episode: 148, score : -95.0, n_buffer : 14900, eps : 6.5%\n",
      "--------------------------------------------------\n",
      "flow time: 2877, util : 0.921, makespan : 268\n",
      "n_episode: 149, score : -116.0, n_buffer : 15000, eps : 6.5%\n",
      "--------------------------------------------------\n",
      "flow time: 2678, util : 0.958, makespan : 248\n",
      "n_episode: 150, score : -57.0, n_buffer : 15100, eps : 6.5%\n",
      "--------------------------------------------------\n",
      "flow time: 2789, util : 0.952, makespan : 303\n",
      "n_episode: 151, score : -69.0, n_buffer : 15200, eps : 6.5%\n",
      "--------------------------------------------------\n",
      "flow time: 3371, util : 0.936, makespan : 275\n",
      "n_episode: 152, score : -95.0, n_buffer : 15300, eps : 6.5%\n",
      "--------------------------------------------------\n",
      "flow time: 2884, util : 0.950, makespan : 271\n",
      "n_episode: 153, score : -72.0, n_buffer : 15400, eps : 6.5%\n",
      "--------------------------------------------------\n",
      "flow time: 2775, util : 0.932, makespan : 295\n",
      "n_episode: 154, score : -99.0, n_buffer : 15500, eps : 6.5%\n",
      "--------------------------------------------------\n",
      "flow time: 2715, util : 0.940, makespan : 284\n",
      "n_episode: 155, score : -85.0, n_buffer : 15600, eps : 6.5%\n",
      "--------------------------------------------------\n",
      "flow time: 2781, util : 0.937, makespan : 283\n",
      "n_episode: 156, score : -92.0, n_buffer : 15700, eps : 6.4%\n",
      "--------------------------------------------------\n",
      "flow time: 2758, util : 0.924, makespan : 284\n",
      "n_episode: 157, score : -113.0, n_buffer : 15800, eps : 6.4%\n",
      "--------------------------------------------------\n",
      "flow time: 3239, util : 0.916, makespan : 281\n",
      "n_episode: 158, score : -124.0, n_buffer : 15900, eps : 6.4%\n"
     ]
    },
    {
     "name": "stdout",
     "output_type": "stream",
     "text": [
      "--------------------------------------------------\n",
      "flow time: 2739, util : 0.942, makespan : 290\n",
      "n_episode: 159, score : -84.0, n_buffer : 16000, eps : 6.4%\n",
      "--------------------------------------------------\n",
      "flow time: 2777, util : 0.939, makespan : 288\n",
      "n_episode: 160, score : -88.0, n_buffer : 16100, eps : 6.4%\n",
      "--------------------------------------------------\n",
      "flow time: 2716, util : 0.942, makespan : 296\n",
      "n_episode: 161, score : -86.0, n_buffer : 16200, eps : 6.4%\n",
      "--------------------------------------------------\n",
      "flow time: 2572, util : 0.908, makespan : 284\n",
      "n_episode: 162, score : -133.0, n_buffer : 16300, eps : 6.4%\n",
      "--------------------------------------------------\n",
      "flow time: 2663, util : 0.946, makespan : 287\n",
      "n_episode: 163, score : -76.0, n_buffer : 16400, eps : 6.4%\n",
      "--------------------------------------------------\n",
      "flow time: 2766, util : 0.942, makespan : 289\n",
      "n_episode: 164, score : -85.0, n_buffer : 16500, eps : 6.4%\n",
      "--------------------------------------------------\n",
      "flow time: 2953, util : 0.936, makespan : 302\n",
      "n_episode: 165, score : -93.0, n_buffer : 16600, eps : 6.3%\n",
      "--------------------------------------------------\n",
      "flow time: 3384, util : 0.935, makespan : 278\n",
      "n_episode: 166, score : -97.0, n_buffer : 16700, eps : 6.3%\n",
      "--------------------------------------------------\n",
      "flow time: 3255, util : 0.936, makespan : 282\n",
      "n_episode: 167, score : -94.0, n_buffer : 16800, eps : 6.3%\n",
      "--------------------------------------------------\n",
      "flow time: 2953, util : 0.908, makespan : 263\n",
      "n_episode: 168, score : -133.0, n_buffer : 16900, eps : 6.3%\n",
      "--------------------------------------------------\n",
      "flow time: 2762, util : 0.928, makespan : 308\n",
      "n_episode: 169, score : -105.0, n_buffer : 17000, eps : 6.3%\n",
      "--------------------------------------------------\n",
      "flow time: 2648, util : 0.944, makespan : 279\n",
      "n_episode: 170, score : -79.0, n_buffer : 17100, eps : 6.3%\n",
      "--------------------------------------------------\n",
      "flow time: 3174, util : 0.924, makespan : 261\n",
      "n_episode: 171, score : -107.0, n_buffer : 17200, eps : 6.3%\n",
      "--------------------------------------------------\n",
      "flow time: 2785, util : 0.947, makespan : 268\n",
      "n_episode: 172, score : -77.0, n_buffer : 17300, eps : 6.3%\n",
      "--------------------------------------------------\n",
      "flow time: 2802, util : 0.942, makespan : 284\n",
      "n_episode: 173, score : -87.0, n_buffer : 17400, eps : 6.3%\n",
      "--------------------------------------------------\n",
      "flow time: 2597, util : 0.934, makespan : 269\n",
      "n_episode: 174, score : -95.0, n_buffer : 17500, eps : 6.3%\n",
      "--------------------------------------------------\n",
      "flow time: 2610, util : 0.954, makespan : 268\n",
      "n_episode: 175, score : -64.0, n_buffer : 17600, eps : 6.2%\n",
      "--------------------------------------------------\n",
      "flow time: 2846, util : 0.922, makespan : 295\n",
      "n_episode: 176, score : -117.0, n_buffer : 17700, eps : 6.2%\n",
      "--------------------------------------------------\n",
      "flow time: 2632, util : 0.946, makespan : 279\n",
      "n_episode: 177, score : -77.0, n_buffer : 17800, eps : 6.2%\n",
      "--------------------------------------------------\n",
      "flow time: 2691, util : 0.958, makespan : 264\n",
      "n_episode: 178, score : -59.0, n_buffer : 17900, eps : 6.2%\n",
      "--------------------------------------------------\n",
      "flow time: 2571, util : 0.944, makespan : 282\n",
      "n_episode: 179, score : -79.0, n_buffer : 18000, eps : 6.2%\n",
      "--------------------------------------------------\n",
      "flow time: 2505, util : 0.949, makespan : 293\n",
      "n_episode: 180, score : -71.0, n_buffer : 18100, eps : 6.2%\n",
      "--------------------------------------------------\n",
      "flow time: 2509, util : 0.954, makespan : 282\n",
      "n_episode: 181, score : -63.0, n_buffer : 18200, eps : 6.2%\n",
      "--------------------------------------------------\n",
      "flow time: 2669, util : 0.942, makespan : 268\n",
      "n_episode: 182, score : -82.0, n_buffer : 18300, eps : 6.2%\n",
      "--------------------------------------------------\n",
      "flow time: 2734, util : 0.920, makespan : 285\n",
      "n_episode: 183, score : -116.0, n_buffer : 18400, eps : 6.2%\n",
      "--------------------------------------------------\n",
      "flow time: 2622, util : 0.961, makespan : 272\n",
      "n_episode: 184, score : -54.0, n_buffer : 18500, eps : 6.2%\n",
      "--------------------------------------------------\n",
      "flow time: 2842, util : 0.926, makespan : 291\n",
      "n_episode: 185, score : -110.0, n_buffer : 18600, eps : 6.2%\n",
      "--------------------------------------------------\n",
      "flow time: 2812, util : 0.918, makespan : 331\n",
      "n_episode: 186, score : -122.0, n_buffer : 18700, eps : 6.1%\n",
      "--------------------------------------------------\n",
      "flow time: 2716, util : 0.942, makespan : 293\n",
      "n_episode: 187, score : -83.0, n_buffer : 18800, eps : 6.1%\n",
      "--------------------------------------------------\n",
      "flow time: 2753, util : 0.945, makespan : 289\n",
      "n_episode: 188, score : -80.0, n_buffer : 18900, eps : 6.1%\n",
      "--------------------------------------------------\n",
      "flow time: 2703, util : 0.934, makespan : 277\n",
      "n_episode: 189, score : -92.0, n_buffer : 19000, eps : 6.1%\n",
      "--------------------------------------------------\n",
      "flow time: 2759, util : 0.932, makespan : 272\n",
      "n_episode: 190, score : -98.0, n_buffer : 19100, eps : 6.1%\n",
      "--------------------------------------------------\n",
      "flow time: 2661, util : 0.951, makespan : 290\n",
      "n_episode: 191, score : -70.0, n_buffer : 19200, eps : 6.1%\n",
      "--------------------------------------------------\n",
      "flow time: 2807, util : 0.921, makespan : 283\n",
      "n_episode: 192, score : -117.0, n_buffer : 19300, eps : 6.1%\n",
      "--------------------------------------------------\n",
      "flow time: 2559, util : 0.965, makespan : 261\n",
      "n_episode: 193, score : -49.0, n_buffer : 19400, eps : 6.1%\n",
      "--------------------------------------------------\n",
      "flow time: 2707, util : 0.941, makespan : 282\n",
      "n_episode: 194, score : -85.0, n_buffer : 19500, eps : 6.1%\n",
      "--------------------------------------------------\n",
      "flow time: 2720, util : 0.938, makespan : 284\n",
      "n_episode: 195, score : -91.0, n_buffer : 19600, eps : 6.0%\n",
      "--------------------------------------------------\n",
      "flow time: 2706, util : 0.938, makespan : 313\n",
      "n_episode: 196, score : -89.0, n_buffer : 19700, eps : 6.0%\n",
      "--------------------------------------------------\n",
      "flow time: 2801, util : 0.947, makespan : 295\n",
      "n_episode: 197, score : -79.0, n_buffer : 19800, eps : 6.0%\n",
      "--------------------------------------------------\n",
      "flow time: 2741, util : 0.951, makespan : 295\n",
      "n_episode: 198, score : -70.0, n_buffer : 19900, eps : 6.0%\n",
      "--------------------------------------------------\n",
      "flow time: 2675, util : 0.939, makespan : 284\n",
      "n_episode: 199, score : -86.0, n_buffer : 20000, eps : 6.0%\n",
      "--------------------------------------------------\n",
      "flow time: 2807, util : 0.942, makespan : 285\n",
      "n_episode: 200, score : -85.0, n_buffer : 20000, eps : 6.0%\n",
      "--------------------------------------------------\n",
      "flow time: 2832, util : 0.935, makespan : 306\n",
      "n_episode: 201, score : -97.0, n_buffer : 20000, eps : 6.0%\n",
      "--------------------------------------------------\n",
      "flow time: 2743, util : 0.916, makespan : 280\n",
      "n_episode: 202, score : -125.0, n_buffer : 20000, eps : 6.0%\n",
      "--------------------------------------------------\n",
      "flow time: 2702, util : 0.927, makespan : 301\n",
      "n_episode: 203, score : -106.0, n_buffer : 20000, eps : 6.0%\n",
      "--------------------------------------------------\n",
      "flow time: 2841, util : 0.928, makespan : 298\n",
      "n_episode: 204, score : -105.0, n_buffer : 20000, eps : 6.0%\n",
      "--------------------------------------------------\n",
      "flow time: 2724, util : 0.960, makespan : 282\n",
      "n_episode: 205, score : -58.0, n_buffer : 20000, eps : 6.0%\n",
      "--------------------------------------------------\n",
      "flow time: 2553, util : 0.956, makespan : 290\n",
      "n_episode: 206, score : -60.0, n_buffer : 20000, eps : 5.9%\n",
      "--------------------------------------------------\n",
      "flow time: 2815, util : 0.940, makespan : 287\n",
      "n_episode: 207, score : -87.0, n_buffer : 20000, eps : 5.9%\n",
      "--------------------------------------------------\n",
      "flow time: 2612, util : 0.964, makespan : 272\n",
      "n_episode: 208, score : -49.0, n_buffer : 20000, eps : 5.9%\n",
      "--------------------------------------------------\n",
      "flow time: 2750, util : 0.939, makespan : 286\n",
      "n_episode: 209, score : -91.0, n_buffer : 20000, eps : 5.9%\n",
      "--------------------------------------------------\n",
      "flow time: 2814, util : 0.931, makespan : 320\n",
      "n_episode: 210, score : -102.0, n_buffer : 20000, eps : 5.9%\n",
      "--------------------------------------------------\n",
      "flow time: 2678, util : 0.943, makespan : 295\n",
      "n_episode: 211, score : -82.0, n_buffer : 20000, eps : 5.9%\n"
     ]
    },
    {
     "name": "stdout",
     "output_type": "stream",
     "text": [
      "--------------------------------------------------\n",
      "flow time: 2734, util : 0.957, makespan : 301\n",
      "n_episode: 212, score : -63.0, n_buffer : 20000, eps : 5.9%\n",
      "--------------------------------------------------\n",
      "flow time: 2727, util : 0.945, makespan : 270\n",
      "n_episode: 213, score : -79.0, n_buffer : 20000, eps : 5.9%\n",
      "--------------------------------------------------\n",
      "flow time: 2745, util : 0.949, makespan : 270\n",
      "n_episode: 214, score : -75.0, n_buffer : 20000, eps : 5.9%\n",
      "--------------------------------------------------\n",
      "flow time: 2530, util : 0.935, makespan : 269\n",
      "n_episode: 215, score : -89.0, n_buffer : 20000, eps : 5.9%\n",
      "--------------------------------------------------\n",
      "flow time: 2692, util : 0.941, makespan : 273\n",
      "n_episode: 216, score : -85.0, n_buffer : 20000, eps : 5.8%\n",
      "--------------------------------------------------\n",
      "flow time: 2531, util : 0.955, makespan : 262\n",
      "n_episode: 217, score : -62.0, n_buffer : 20000, eps : 5.8%\n",
      "--------------------------------------------------\n",
      "flow time: 2717, util : 0.946, makespan : 264\n",
      "n_episode: 218, score : -77.0, n_buffer : 20000, eps : 5.8%\n",
      "--------------------------------------------------\n",
      "flow time: 2875, util : 0.938, makespan : 315\n",
      "n_episode: 219, score : -93.0, n_buffer : 20000, eps : 5.8%\n",
      "--------------------------------------------------\n",
      "flow time: 2574, util : 0.943, makespan : 291\n",
      "n_episode: 220, score : -81.0, n_buffer : 20000, eps : 5.8%\n",
      "--------------------------------------------------\n",
      "flow time: 2737, util : 0.944, makespan : 302\n",
      "n_episode: 221, score : -82.0, n_buffer : 20000, eps : 5.8%\n",
      "--------------------------------------------------\n",
      "flow time: 2490, util : 0.942, makespan : 269\n",
      "n_episode: 222, score : -80.0, n_buffer : 20000, eps : 5.8%\n",
      "--------------------------------------------------\n",
      "flow time: 2808, util : 0.928, makespan : 294\n",
      "n_episode: 223, score : -107.0, n_buffer : 20000, eps : 5.8%\n",
      "--------------------------------------------------\n",
      "flow time: 2751, util : 0.926, makespan : 301\n",
      "n_episode: 224, score : -109.0, n_buffer : 20000, eps : 5.8%\n",
      "--------------------------------------------------\n",
      "flow time: 2581, util : 0.958, makespan : 267\n",
      "n_episode: 225, score : -58.0, n_buffer : 20000, eps : 5.8%\n",
      "--------------------------------------------------\n",
      "flow time: 2798, util : 0.941, makespan : 270\n",
      "n_episode: 226, score : -85.0, n_buffer : 20000, eps : 5.7%\n",
      "--------------------------------------------------\n",
      "flow time: 2556, util : 0.961, makespan : 262\n",
      "n_episode: 227, score : -53.0, n_buffer : 20000, eps : 5.7%\n",
      "--------------------------------------------------\n",
      "flow time: 2728, util : 0.929, makespan : 275\n",
      "n_episode: 228, score : -103.0, n_buffer : 20000, eps : 5.7%\n",
      "--------------------------------------------------\n",
      "flow time: 2643, util : 0.933, makespan : 285\n",
      "n_episode: 229, score : -95.0, n_buffer : 20000, eps : 5.7%\n",
      "--------------------------------------------------\n",
      "flow time: 2637, util : 0.946, makespan : 273\n",
      "n_episode: 230, score : -78.0, n_buffer : 20000, eps : 5.7%\n",
      "--------------------------------------------------\n",
      "flow time: 2691, util : 0.929, makespan : 269\n",
      "n_episode: 231, score : -101.0, n_buffer : 20000, eps : 5.7%\n",
      "--------------------------------------------------\n",
      "flow time: 2813, util : 0.926, makespan : 306\n",
      "n_episode: 232, score : -109.0, n_buffer : 20000, eps : 5.7%\n",
      "--------------------------------------------------\n",
      "flow time: 2784, util : 0.950, makespan : 275\n",
      "n_episode: 233, score : -72.0, n_buffer : 20000, eps : 5.7%\n",
      "--------------------------------------------------\n",
      "flow time: 2805, util : 0.948, makespan : 293\n",
      "n_episode: 234, score : -77.0, n_buffer : 20000, eps : 5.7%\n",
      "--------------------------------------------------\n",
      "flow time: 2608, util : 0.947, makespan : 276\n",
      "n_episode: 235, score : -74.0, n_buffer : 20000, eps : 5.7%\n",
      "--------------------------------------------------\n",
      "flow time: 2901, util : 0.936, makespan : 307\n",
      "n_episode: 236, score : -96.0, n_buffer : 20000, eps : 5.6%\n",
      "--------------------------------------------------\n",
      "flow time: 2830, util : 0.930, makespan : 301\n",
      "n_episode: 237, score : -105.0, n_buffer : 20000, eps : 5.6%\n",
      "--------------------------------------------------\n",
      "flow time: 2820, util : 0.912, makespan : 292\n",
      "n_episode: 238, score : -133.0, n_buffer : 20000, eps : 5.6%\n",
      "--------------------------------------------------\n",
      "flow time: 2773, util : 0.957, makespan : 289\n",
      "n_episode: 239, score : -63.0, n_buffer : 20000, eps : 5.6%\n",
      "--------------------------------------------------\n",
      "flow time: 2637, util : 0.948, makespan : 273\n",
      "n_episode: 240, score : -72.0, n_buffer : 20000, eps : 5.6%\n",
      "--------------------------------------------------\n",
      "flow time: 2732, util : 0.945, makespan : 259\n",
      "n_episode: 241, score : -79.0, n_buffer : 20000, eps : 5.6%\n",
      "--------------------------------------------------\n",
      "flow time: 2595, util : 0.961, makespan : 273\n",
      "n_episode: 242, score : -54.0, n_buffer : 20000, eps : 5.6%\n",
      "--------------------------------------------------\n",
      "flow time: 2792, util : 0.936, makespan : 304\n",
      "n_episode: 243, score : -98.0, n_buffer : 20000, eps : 5.6%\n",
      "--------------------------------------------------\n",
      "flow time: 2623, util : 0.960, makespan : 293\n",
      "n_episode: 244, score : -57.0, n_buffer : 20000, eps : 5.6%\n",
      "--------------------------------------------------\n",
      "flow time: 2568, util : 0.960, makespan : 273\n",
      "n_episode: 245, score : -55.0, n_buffer : 20000, eps : 5.5%\n",
      "--------------------------------------------------\n",
      "flow time: 2665, util : 0.933, makespan : 293\n",
      "n_episode: 246, score : -98.0, n_buffer : 20000, eps : 5.5%\n",
      "--------------------------------------------------\n",
      "flow time: 2626, util : 0.947, makespan : 295\n",
      "n_episode: 247, score : -75.0, n_buffer : 20000, eps : 5.5%\n",
      "--------------------------------------------------\n",
      "flow time: 2658, util : 0.926, makespan : 268\n",
      "n_episode: 248, score : -105.0, n_buffer : 20000, eps : 5.5%\n",
      "--------------------------------------------------\n",
      "flow time: 2784, util : 0.948, makespan : 293\n",
      "n_episode: 249, score : -76.0, n_buffer : 20000, eps : 5.5%\n",
      "--------------------------------------------------\n",
      "flow time: 2731, util : 0.938, makespan : 290\n",
      "n_episode: 250, score : -90.0, n_buffer : 20000, eps : 5.5%\n",
      "--------------------------------------------------\n",
      "flow time: 2641, util : 0.956, makespan : 284\n",
      "n_episode: 251, score : -63.0, n_buffer : 20000, eps : 5.5%\n",
      "--------------------------------------------------\n",
      "flow time: 2751, util : 0.943, makespan : 278\n",
      "n_episode: 252, score : -82.0, n_buffer : 20000, eps : 5.5%\n",
      "--------------------------------------------------\n",
      "flow time: 2745, util : 0.943, makespan : 289\n",
      "n_episode: 253, score : -82.0, n_buffer : 20000, eps : 5.5%\n",
      "--------------------------------------------------\n",
      "flow time: 2767, util : 0.938, makespan : 294\n",
      "n_episode: 254, score : -91.0, n_buffer : 20000, eps : 5.5%\n",
      "--------------------------------------------------\n",
      "flow time: 2783, util : 0.938, makespan : 295\n",
      "n_episode: 255, score : -93.0, n_buffer : 20000, eps : 5.5%\n",
      "--------------------------------------------------\n",
      "flow time: 2643, util : 0.947, makespan : 271\n",
      "n_episode: 256, score : -75.0, n_buffer : 20000, eps : 5.4%\n",
      "--------------------------------------------------\n",
      "flow time: 2576, util : 0.967, makespan : 273\n",
      "n_episode: 257, score : -46.0, n_buffer : 20000, eps : 5.4%\n",
      "--------------------------------------------------\n",
      "flow time: 2783, util : 0.942, makespan : 285\n",
      "n_episode: 258, score : -86.0, n_buffer : 20000, eps : 5.4%\n",
      "--------------------------------------------------\n",
      "flow time: 2599, util : 0.950, makespan : 281\n",
      "n_episode: 259, score : -70.0, n_buffer : 20000, eps : 5.4%\n",
      "--------------------------------------------------\n",
      "flow time: 2515, util : 0.947, makespan : 273\n",
      "n_episode: 260, score : -75.0, n_buffer : 20000, eps : 5.4%\n",
      "--------------------------------------------------\n",
      "flow time: 2636, util : 0.956, makespan : 308\n",
      "n_episode: 261, score : -62.0, n_buffer : 20000, eps : 5.4%\n",
      "--------------------------------------------------\n",
      "flow time: 2653, util : 0.946, makespan : 274\n",
      "n_episode: 262, score : -75.0, n_buffer : 20000, eps : 5.4%\n",
      "--------------------------------------------------\n",
      "flow time: 2760, util : 0.925, makespan : 293\n",
      "n_episode: 263, score : -111.0, n_buffer : 20000, eps : 5.4%\n",
      "--------------------------------------------------\n",
      "flow time: 2619, util : 0.943, makespan : 287\n",
      "n_episode: 264, score : -80.0, n_buffer : 20000, eps : 5.4%\n"
     ]
    },
    {
     "name": "stdout",
     "output_type": "stream",
     "text": [
      "--------------------------------------------------\n",
      "flow time: 2662, util : 0.945, makespan : 273\n",
      "n_episode: 265, score : -76.0, n_buffer : 20000, eps : 5.4%\n",
      "--------------------------------------------------\n",
      "flow time: 2589, util : 0.948, makespan : 297\n",
      "n_episode: 266, score : -72.0, n_buffer : 20000, eps : 5.3%\n",
      "--------------------------------------------------\n",
      "flow time: 2829, util : 0.931, makespan : 307\n",
      "n_episode: 267, score : -102.0, n_buffer : 20000, eps : 5.3%\n",
      "--------------------------------------------------\n",
      "flow time: 2712, util : 0.942, makespan : 283\n",
      "n_episode: 268, score : -85.0, n_buffer : 20000, eps : 5.3%\n",
      "--------------------------------------------------\n",
      "flow time: 2639, util : 0.954, makespan : 283\n",
      "n_episode: 269, score : -65.0, n_buffer : 20000, eps : 5.3%\n",
      "--------------------------------------------------\n",
      "flow time: 2607, util : 0.933, makespan : 275\n",
      "n_episode: 270, score : -96.0, n_buffer : 20000, eps : 5.3%\n",
      "--------------------------------------------------\n",
      "flow time: 2681, util : 0.934, makespan : 277\n",
      "n_episode: 271, score : -94.0, n_buffer : 20000, eps : 5.3%\n",
      "--------------------------------------------------\n",
      "flow time: 2790, util : 0.931, makespan : 284\n",
      "n_episode: 272, score : -102.0, n_buffer : 20000, eps : 5.3%\n",
      "--------------------------------------------------\n",
      "flow time: 2721, util : 0.947, makespan : 274\n",
      "n_episode: 273, score : -73.0, n_buffer : 20000, eps : 5.3%\n",
      "--------------------------------------------------\n",
      "flow time: 2834, util : 0.932, makespan : 282\n",
      "n_episode: 274, score : -100.0, n_buffer : 20000, eps : 5.3%\n",
      "--------------------------------------------------\n",
      "flow time: 2793, util : 0.956, makespan : 305\n",
      "n_episode: 275, score : -65.0, n_buffer : 20000, eps : 5.3%\n",
      "--------------------------------------------------\n",
      "flow time: 2696, util : 0.950, makespan : 301\n",
      "n_episode: 276, score : -72.0, n_buffer : 20000, eps : 5.2%\n",
      "--------------------------------------------------\n",
      "flow time: 2602, util : 0.952, makespan : 283\n",
      "n_episode: 277, score : -66.0, n_buffer : 20000, eps : 5.2%\n",
      "--------------------------------------------------\n",
      "flow time: 2623, util : 0.957, makespan : 273\n",
      "n_episode: 278, score : -60.0, n_buffer : 20000, eps : 5.2%\n",
      "--------------------------------------------------\n",
      "flow time: 2741, util : 0.957, makespan : 277\n",
      "n_episode: 279, score : -63.0, n_buffer : 20000, eps : 5.2%\n",
      "--------------------------------------------------\n",
      "flow time: 2605, util : 0.968, makespan : 293\n",
      "n_episode: 280, score : -45.0, n_buffer : 20000, eps : 5.2%\n",
      "--------------------------------------------------\n",
      "flow time: 2696, util : 0.949, makespan : 267\n",
      "n_episode: 281, score : -74.0, n_buffer : 20000, eps : 5.2%\n",
      "--------------------------------------------------\n",
      "flow time: 2668, util : 0.935, makespan : 295\n",
      "n_episode: 282, score : -95.0, n_buffer : 20000, eps : 5.2%\n",
      "--------------------------------------------------\n",
      "flow time: 2769, util : 0.936, makespan : 269\n",
      "n_episode: 283, score : -91.0, n_buffer : 20000, eps : 5.2%\n",
      "--------------------------------------------------\n",
      "flow time: 2835, util : 0.954, makespan : 294\n",
      "n_episode: 284, score : -69.0, n_buffer : 20000, eps : 5.2%\n",
      "--------------------------------------------------\n",
      "flow time: 2864, util : 0.945, makespan : 281\n",
      "n_episode: 285, score : -79.0, n_buffer : 20000, eps : 5.2%\n",
      "--------------------------------------------------\n",
      "flow time: 2682, util : 0.941, makespan : 289\n",
      "n_episode: 286, score : -83.0, n_buffer : 20000, eps : 5.1%\n",
      "--------------------------------------------------\n",
      "flow time: 2657, util : 0.965, makespan : 279\n",
      "n_episode: 287, score : -51.0, n_buffer : 20000, eps : 5.1%\n",
      "--------------------------------------------------\n",
      "flow time: 2570, util : 0.965, makespan : 273\n",
      "n_episode: 288, score : -48.0, n_buffer : 20000, eps : 5.1%\n",
      "--------------------------------------------------\n",
      "flow time: 2683, util : 0.941, makespan : 308\n",
      "n_episode: 289, score : -85.0, n_buffer : 20000, eps : 5.1%\n",
      "--------------------------------------------------\n",
      "flow time: 2751, util : 0.930, makespan : 296\n",
      "n_episode: 290, score : -103.0, n_buffer : 20000, eps : 5.1%\n",
      "--------------------------------------------------\n",
      "flow time: 2644, util : 0.954, makespan : 280\n",
      "n_episode: 291, score : -66.0, n_buffer : 20000, eps : 5.1%\n",
      "--------------------------------------------------\n",
      "flow time: 2734, util : 0.955, makespan : 279\n",
      "n_episode: 292, score : -64.0, n_buffer : 20000, eps : 5.1%\n",
      "--------------------------------------------------\n",
      "flow time: 2744, util : 0.924, makespan : 282\n",
      "n_episode: 293, score : -110.0, n_buffer : 20000, eps : 5.1%\n",
      "--------------------------------------------------\n",
      "flow time: 2647, util : 0.929, makespan : 275\n",
      "n_episode: 294, score : -101.0, n_buffer : 20000, eps : 5.1%\n",
      "--------------------------------------------------\n",
      "flow time: 2620, util : 0.958, makespan : 271\n",
      "n_episode: 295, score : -58.0, n_buffer : 20000, eps : 5.1%\n",
      "--------------------------------------------------\n",
      "flow time: 2645, util : 0.947, makespan : 277\n",
      "n_episode: 296, score : -74.0, n_buffer : 20000, eps : 5.0%\n",
      "--------------------------------------------------\n",
      "flow time: 2628, util : 0.923, makespan : 271\n",
      "n_episode: 297, score : -107.0, n_buffer : 20000, eps : 5.0%\n",
      "--------------------------------------------------\n",
      "flow time: 2760, util : 0.934, makespan : 293\n",
      "n_episode: 298, score : -94.0, n_buffer : 20000, eps : 5.0%\n",
      "--------------------------------------------------\n",
      "flow time: 2996, util : 0.924, makespan : 276\n",
      "n_episode: 299, score : -115.0, n_buffer : 20000, eps : 5.0%\n",
      "--------------------------------------------------\n",
      "flow time: 2620, util : 0.950, makespan : 282\n",
      "n_episode: 300, score : -71.0, n_buffer : 20000, eps : 5.0%\n",
      "--------------------------------------------------\n",
      "flow time: 2669, util : 0.953, makespan : 274\n",
      "n_episode: 301, score : -67.0, n_buffer : 20000, eps : 5.0%\n",
      "--------------------------------------------------\n",
      "flow time: 2674, util : 0.930, makespan : 280\n",
      "n_episode: 302, score : -101.0, n_buffer : 20000, eps : 5.0%\n",
      "--------------------------------------------------\n",
      "flow time: 2592, util : 0.946, makespan : 289\n",
      "n_episode: 303, score : -75.0, n_buffer : 20000, eps : 5.0%\n",
      "--------------------------------------------------\n",
      "flow time: 2744, util : 0.923, makespan : 311\n",
      "n_episode: 304, score : -115.0, n_buffer : 20000, eps : 5.0%\n",
      "--------------------------------------------------\n",
      "flow time: 2759, util : 0.929, makespan : 282\n",
      "n_episode: 305, score : -103.0, n_buffer : 20000, eps : 5.0%\n",
      "--------------------------------------------------\n",
      "flow time: 2591, util : 0.956, makespan : 288\n",
      "n_episode: 306, score : -63.0, n_buffer : 20000, eps : 4.9%\n",
      "--------------------------------------------------\n",
      "flow time: 2746, util : 0.920, makespan : 291\n",
      "n_episode: 307, score : -119.0, n_buffer : 20000, eps : 4.9%\n",
      "--------------------------------------------------\n",
      "flow time: 2660, util : 0.933, makespan : 282\n",
      "n_episode: 308, score : -96.0, n_buffer : 20000, eps : 4.9%\n",
      "--------------------------------------------------\n",
      "flow time: 2756, util : 0.931, makespan : 276\n",
      "n_episode: 309, score : -101.0, n_buffer : 20000, eps : 4.9%\n",
      "--------------------------------------------------\n",
      "flow time: 2578, util : 0.962, makespan : 267\n",
      "n_episode: 310, score : -52.0, n_buffer : 20000, eps : 4.9%\n",
      "--------------------------------------------------\n",
      "flow time: 2760, util : 0.935, makespan : 276\n",
      "n_episode: 311, score : -95.0, n_buffer : 20000, eps : 4.9%\n",
      "--------------------------------------------------\n",
      "flow time: 2624, util : 0.957, makespan : 295\n",
      "n_episode: 312, score : -61.0, n_buffer : 20000, eps : 4.9%\n",
      "--------------------------------------------------\n",
      "flow time: 2624, util : 0.953, makespan : 293\n",
      "n_episode: 313, score : -67.0, n_buffer : 20000, eps : 4.9%\n",
      "--------------------------------------------------\n",
      "flow time: 2666, util : 0.954, makespan : 275\n",
      "n_episode: 314, score : -65.0, n_buffer : 20000, eps : 4.9%\n",
      "--------------------------------------------------\n",
      "flow time: 2692, util : 0.928, makespan : 283\n",
      "n_episode: 315, score : -106.0, n_buffer : 20000, eps : 4.9%\n",
      "--------------------------------------------------\n",
      "flow time: 2727, util : 0.947, makespan : 285\n",
      "n_episode: 316, score : -77.0, n_buffer : 20000, eps : 4.8%\n",
      "--------------------------------------------------\n",
      "flow time: 2632, util : 0.955, makespan : 270\n",
      "n_episode: 317, score : -63.0, n_buffer : 20000, eps : 4.8%\n"
     ]
    },
    {
     "name": "stdout",
     "output_type": "stream",
     "text": [
      "--------------------------------------------------\n",
      "flow time: 2503, util : 0.937, makespan : 285\n",
      "n_episode: 318, score : -86.0, n_buffer : 20000, eps : 4.8%\n",
      "--------------------------------------------------\n",
      "flow time: 2713, util : 0.944, makespan : 288\n",
      "n_episode: 319, score : -82.0, n_buffer : 20000, eps : 4.8%\n",
      "--------------------------------------------------\n",
      "flow time: 2637, util : 0.947, makespan : 266\n",
      "n_episode: 320, score : -74.0, n_buffer : 20000, eps : 4.8%\n",
      "--------------------------------------------------\n",
      "flow time: 2806, util : 0.941, makespan : 317\n",
      "n_episode: 321, score : -87.0, n_buffer : 20000, eps : 4.8%\n",
      "--------------------------------------------------\n",
      "flow time: 2834, util : 0.928, makespan : 317\n",
      "n_episode: 322, score : -109.0, n_buffer : 20000, eps : 4.8%\n",
      "--------------------------------------------------\n",
      "flow time: 2772, util : 0.943, makespan : 301\n",
      "n_episode: 323, score : -83.0, n_buffer : 20000, eps : 4.8%\n",
      "--------------------------------------------------\n",
      "flow time: 2736, util : 0.946, makespan : 283\n",
      "n_episode: 324, score : -78.0, n_buffer : 20000, eps : 4.8%\n",
      "--------------------------------------------------\n",
      "flow time: 2580, util : 0.942, makespan : 288\n",
      "n_episode: 325, score : -81.0, n_buffer : 20000, eps : 4.8%\n",
      "--------------------------------------------------\n",
      "flow time: 2713, util : 0.938, makespan : 283\n",
      "n_episode: 326, score : -93.0, n_buffer : 20000, eps : 4.7%\n",
      "--------------------------------------------------\n",
      "flow time: 2667, util : 0.939, makespan : 285\n",
      "n_episode: 327, score : -86.0, n_buffer : 20000, eps : 4.7%\n",
      "--------------------------------------------------\n",
      "flow time: 2732, util : 0.947, makespan : 302\n",
      "n_episode: 328, score : -74.0, n_buffer : 20000, eps : 4.7%\n",
      "--------------------------------------------------\n",
      "flow time: 2672, util : 0.932, makespan : 273\n",
      "n_episode: 329, score : -101.0, n_buffer : 20000, eps : 4.7%\n",
      "--------------------------------------------------\n",
      "flow time: 2741, util : 0.952, makespan : 304\n",
      "n_episode: 330, score : -70.0, n_buffer : 20000, eps : 4.7%\n",
      "--------------------------------------------------\n",
      "flow time: 2643, util : 0.942, makespan : 260\n",
      "n_episode: 331, score : -80.0, n_buffer : 20000, eps : 4.7%\n",
      "--------------------------------------------------\n",
      "flow time: 2661, util : 0.938, makespan : 291\n",
      "n_episode: 332, score : -87.0, n_buffer : 20000, eps : 4.7%\n",
      "--------------------------------------------------\n",
      "flow time: 2822, util : 0.899, makespan : 321\n",
      "n_episode: 333, score : -157.0, n_buffer : 20000, eps : 4.7%\n",
      "--------------------------------------------------\n",
      "flow time: 2572, util : 0.920, makespan : 274\n",
      "n_episode: 334, score : -113.0, n_buffer : 20000, eps : 4.7%\n",
      "--------------------------------------------------\n",
      "flow time: 2700, util : 0.946, makespan : 276\n",
      "n_episode: 335, score : -78.0, n_buffer : 20000, eps : 4.7%\n",
      "--------------------------------------------------\n",
      "flow time: 2470, util : 0.950, makespan : 261\n",
      "n_episode: 336, score : -68.0, n_buffer : 20000, eps : 4.6%\n",
      "--------------------------------------------------\n",
      "flow time: 2763, util : 0.947, makespan : 270\n",
      "n_episode: 337, score : -76.0, n_buffer : 20000, eps : 4.6%\n",
      "--------------------------------------------------\n",
      "flow time: 2507, util : 0.930, makespan : 268\n",
      "n_episode: 338, score : -99.0, n_buffer : 20000, eps : 4.6%\n",
      "--------------------------------------------------\n",
      "flow time: 2611, util : 0.945, makespan : 288\n",
      "n_episode: 339, score : -79.0, n_buffer : 20000, eps : 4.6%\n",
      "--------------------------------------------------\n",
      "flow time: 2576, util : 0.967, makespan : 273\n",
      "n_episode: 340, score : -46.0, n_buffer : 20000, eps : 4.6%\n",
      "--------------------------------------------------\n",
      "flow time: 2544, util : 0.939, makespan : 284\n",
      "n_episode: 341, score : -83.0, n_buffer : 20000, eps : 4.6%\n",
      "--------------------------------------------------\n",
      "flow time: 2684, util : 0.955, makespan : 290\n",
      "n_episode: 342, score : -63.0, n_buffer : 20000, eps : 4.6%\n",
      "--------------------------------------------------\n",
      "flow time: 2771, util : 0.947, makespan : 277\n",
      "n_episode: 343, score : -76.0, n_buffer : 20000, eps : 4.6%\n",
      "--------------------------------------------------\n",
      "flow time: 2814, util : 0.934, makespan : 287\n",
      "n_episode: 344, score : -98.0, n_buffer : 20000, eps : 4.6%\n",
      "--------------------------------------------------\n",
      "flow time: 2701, util : 0.958, makespan : 282\n",
      "n_episode: 345, score : -59.0, n_buffer : 20000, eps : 4.5%\n",
      "--------------------------------------------------\n",
      "flow time: 2638, util : 0.943, makespan : 287\n",
      "n_episode: 346, score : -81.0, n_buffer : 20000, eps : 4.5%\n",
      "--------------------------------------------------\n",
      "flow time: 2737, util : 0.942, makespan : 271\n",
      "n_episode: 347, score : -83.0, n_buffer : 20000, eps : 4.5%\n",
      "--------------------------------------------------\n",
      "flow time: 2737, util : 0.947, makespan : 283\n",
      "n_episode: 348, score : -77.0, n_buffer : 20000, eps : 4.5%\n",
      "--------------------------------------------------\n",
      "flow time: 2768, util : 0.929, makespan : 289\n",
      "n_episode: 349, score : -104.0, n_buffer : 20000, eps : 4.5%\n",
      "--------------------------------------------------\n",
      "flow time: 2939, util : 0.928, makespan : 296\n",
      "n_episode: 350, score : -111.0, n_buffer : 20000, eps : 4.5%\n",
      "--------------------------------------------------\n",
      "flow time: 2555, util : 0.941, makespan : 284\n",
      "n_episode: 351, score : -83.0, n_buffer : 20000, eps : 4.5%\n",
      "--------------------------------------------------\n",
      "flow time: 2688, util : 0.909, makespan : 298\n",
      "n_episode: 352, score : -135.0, n_buffer : 20000, eps : 4.5%\n",
      "--------------------------------------------------\n",
      "flow time: 2588, util : 0.934, makespan : 285\n",
      "n_episode: 353, score : -94.0, n_buffer : 20000, eps : 4.5%\n",
      "--------------------------------------------------\n",
      "flow time: 2799, util : 0.922, makespan : 280\n",
      "n_episode: 354, score : -116.0, n_buffer : 20000, eps : 4.5%\n",
      "--------------------------------------------------\n",
      "flow time: 2653, util : 0.936, makespan : 289\n",
      "n_episode: 355, score : -91.0, n_buffer : 20000, eps : 4.5%\n",
      "--------------------------------------------------\n",
      "flow time: 2576, util : 0.967, makespan : 273\n",
      "n_episode: 356, score : -46.0, n_buffer : 20000, eps : 4.4%\n",
      "--------------------------------------------------\n",
      "flow time: 2613, util : 0.950, makespan : 283\n",
      "n_episode: 357, score : -70.0, n_buffer : 20000, eps : 4.4%\n",
      "--------------------------------------------------\n",
      "flow time: 2766, util : 0.946, makespan : 288\n",
      "n_episode: 358, score : -79.0, n_buffer : 20000, eps : 4.4%\n",
      "--------------------------------------------------\n",
      "flow time: 2700, util : 0.925, makespan : 286\n",
      "n_episode: 359, score : -110.0, n_buffer : 20000, eps : 4.4%\n",
      "--------------------------------------------------\n",
      "flow time: 2794, util : 0.939, makespan : 339\n",
      "n_episode: 360, score : -90.0, n_buffer : 20000, eps : 4.4%\n",
      "--------------------------------------------------\n",
      "flow time: 2576, util : 0.967, makespan : 273\n",
      "n_episode: 361, score : -46.0, n_buffer : 20000, eps : 4.4%\n",
      "--------------------------------------------------\n",
      "flow time: 2731, util : 0.938, makespan : 302\n",
      "n_episode: 362, score : -92.0, n_buffer : 20000, eps : 4.4%\n",
      "--------------------------------------------------\n",
      "flow time: 2705, util : 0.948, makespan : 276\n",
      "n_episode: 363, score : -74.0, n_buffer : 20000, eps : 4.4%\n",
      "--------------------------------------------------\n",
      "flow time: 2576, util : 0.967, makespan : 273\n",
      "n_episode: 364, score : -46.0, n_buffer : 20000, eps : 4.4%\n",
      "--------------------------------------------------\n",
      "flow time: 2526, util : 0.956, makespan : 280\n",
      "n_episode: 365, score : -60.0, n_buffer : 20000, eps : 4.4%\n",
      "--------------------------------------------------\n",
      "flow time: 2633, util : 0.946, makespan : 279\n",
      "n_episode: 366, score : -76.0, n_buffer : 20000, eps : 4.3%\n",
      "--------------------------------------------------\n",
      "flow time: 2560, util : 0.964, makespan : 271\n",
      "n_episode: 367, score : -50.0, n_buffer : 20000, eps : 4.3%\n",
      "--------------------------------------------------\n",
      "flow time: 2610, util : 0.952, makespan : 293\n",
      "n_episode: 368, score : -67.0, n_buffer : 20000, eps : 4.3%\n",
      "--------------------------------------------------\n",
      "flow time: 2700, util : 0.945, makespan : 269\n",
      "n_episode: 369, score : -79.0, n_buffer : 20000, eps : 4.3%\n",
      "--------------------------------------------------\n",
      "flow time: 2509, util : 0.954, makespan : 279\n",
      "n_episode: 370, score : -64.0, n_buffer : 20000, eps : 4.3%\n"
     ]
    },
    {
     "name": "stdout",
     "output_type": "stream",
     "text": [
      "--------------------------------------------------\n",
      "flow time: 2721, util : 0.921, makespan : 277\n",
      "n_episode: 371, score : -110.0, n_buffer : 20000, eps : 4.3%\n",
      "--------------------------------------------------\n",
      "flow time: 2651, util : 0.944, makespan : 278\n",
      "n_episode: 372, score : -77.0, n_buffer : 20000, eps : 4.3%\n",
      "--------------------------------------------------\n",
      "flow time: 2601, util : 0.910, makespan : 279\n",
      "n_episode: 373, score : -127.0, n_buffer : 20000, eps : 4.3%\n",
      "--------------------------------------------------\n",
      "flow time: 2670, util : 0.937, makespan : 287\n",
      "n_episode: 374, score : -92.0, n_buffer : 20000, eps : 4.3%\n",
      "--------------------------------------------------\n",
      "flow time: 2870, util : 0.946, makespan : 294\n",
      "n_episode: 375, score : -80.0, n_buffer : 20000, eps : 4.2%\n",
      "--------------------------------------------------\n",
      "flow time: 2725, util : 0.936, makespan : 275\n",
      "n_episode: 376, score : -91.0, n_buffer : 20000, eps : 4.2%\n",
      "--------------------------------------------------\n",
      "flow time: 2775, util : 0.961, makespan : 300\n",
      "n_episode: 377, score : -57.0, n_buffer : 20000, eps : 4.2%\n",
      "--------------------------------------------------\n",
      "flow time: 2597, util : 0.970, makespan : 273\n",
      "n_episode: 378, score : -42.0, n_buffer : 20000, eps : 4.2%\n",
      "--------------------------------------------------\n",
      "flow time: 2552, util : 0.951, makespan : 273\n",
      "n_episode: 379, score : -66.0, n_buffer : 20000, eps : 4.2%\n",
      "--------------------------------------------------\n",
      "flow time: 2713, util : 0.940, makespan : 292\n",
      "n_episode: 380, score : -88.0, n_buffer : 20000, eps : 4.2%\n",
      "--------------------------------------------------\n",
      "flow time: 2568, util : 0.927, makespan : 276\n",
      "n_episode: 381, score : -102.0, n_buffer : 20000, eps : 4.2%\n",
      "--------------------------------------------------\n",
      "flow time: 2800, util : 0.911, makespan : 297\n",
      "n_episode: 382, score : -133.0, n_buffer : 20000, eps : 4.2%\n",
      "--------------------------------------------------\n",
      "flow time: 2708, util : 0.924, makespan : 273\n",
      "n_episode: 383, score : -107.0, n_buffer : 20000, eps : 4.2%\n",
      "--------------------------------------------------\n",
      "flow time: 2695, util : 0.939, makespan : 287\n",
      "n_episode: 384, score : -88.0, n_buffer : 20000, eps : 4.2%\n",
      "--------------------------------------------------\n",
      "flow time: 2678, util : 0.952, makespan : 295\n",
      "n_episode: 385, score : -68.0, n_buffer : 20000, eps : 4.2%\n",
      "--------------------------------------------------\n",
      "flow time: 2709, util : 0.938, makespan : 286\n",
      "n_episode: 386, score : -89.0, n_buffer : 20000, eps : 4.1%\n",
      "--------------------------------------------------\n",
      "flow time: 2722, util : 0.944, makespan : 297\n",
      "n_episode: 387, score : -82.0, n_buffer : 20000, eps : 4.1%\n",
      "--------------------------------------------------\n",
      "flow time: 2695, util : 0.940, makespan : 273\n",
      "n_episode: 388, score : -86.0, n_buffer : 20000, eps : 4.1%\n",
      "--------------------------------------------------\n",
      "flow time: 2652, util : 0.924, makespan : 293\n",
      "n_episode: 389, score : -105.0, n_buffer : 20000, eps : 4.1%\n",
      "--------------------------------------------------\n",
      "flow time: 2646, util : 0.930, makespan : 259\n",
      "n_episode: 390, score : -97.0, n_buffer : 20000, eps : 4.1%\n",
      "--------------------------------------------------\n",
      "flow time: 2797, util : 0.936, makespan : 294\n",
      "n_episode: 391, score : -93.0, n_buffer : 20000, eps : 4.1%\n",
      "--------------------------------------------------\n",
      "flow time: 2802, util : 0.955, makespan : 286\n",
      "n_episode: 392, score : -66.0, n_buffer : 20000, eps : 4.1%\n",
      "--------------------------------------------------\n",
      "flow time: 2804, util : 0.938, makespan : 307\n",
      "n_episode: 393, score : -92.0, n_buffer : 20000, eps : 4.1%\n",
      "--------------------------------------------------\n",
      "flow time: 2677, util : 0.949, makespan : 301\n",
      "n_episode: 394, score : -73.0, n_buffer : 20000, eps : 4.1%\n",
      "--------------------------------------------------\n",
      "flow time: 2558, util : 0.960, makespan : 263\n",
      "n_episode: 395, score : -56.0, n_buffer : 20000, eps : 4.0%\n",
      "--------------------------------------------------\n",
      "flow time: 2905, util : 0.952, makespan : 274\n",
      "n_episode: 396, score : -70.0, n_buffer : 20000, eps : 4.0%\n",
      "--------------------------------------------------\n",
      "flow time: 2554, util : 0.950, makespan : 290\n",
      "n_episode: 397, score : -67.0, n_buffer : 20000, eps : 4.0%\n",
      "--------------------------------------------------\n",
      "flow time: 2701, util : 0.948, makespan : 277\n",
      "n_episode: 398, score : -73.0, n_buffer : 20000, eps : 4.0%\n",
      "--------------------------------------------------\n",
      "flow time: 2901, util : 0.917, makespan : 287\n",
      "n_episode: 399, score : -125.0, n_buffer : 20000, eps : 4.0%\n",
      "--------------------------------------------------\n",
      "flow time: 2692, util : 0.950, makespan : 278\n",
      "n_episode: 400, score : -73.0, n_buffer : 20000, eps : 4.0%\n",
      "--------------------------------------------------\n",
      "flow time: 2722, util : 0.947, makespan : 319\n",
      "n_episode: 401, score : -74.0, n_buffer : 20000, eps : 4.0%\n",
      "--------------------------------------------------\n",
      "flow time: 2784, util : 0.909, makespan : 279\n",
      "n_episode: 402, score : -134.0, n_buffer : 20000, eps : 4.0%\n",
      "--------------------------------------------------\n",
      "flow time: 2709, util : 0.935, makespan : 281\n",
      "n_episode: 403, score : -93.0, n_buffer : 20000, eps : 4.0%\n",
      "--------------------------------------------------\n",
      "flow time: 2717, util : 0.920, makespan : 299\n",
      "n_episode: 404, score : -118.0, n_buffer : 20000, eps : 4.0%\n",
      "--------------------------------------------------\n",
      "flow time: 2722, util : 0.942, makespan : 275\n",
      "n_episode: 405, score : -82.0, n_buffer : 20000, eps : 4.0%\n",
      "--------------------------------------------------\n",
      "flow time: 2762, util : 0.936, makespan : 270\n",
      "n_episode: 406, score : -92.0, n_buffer : 20000, eps : 3.9%\n",
      "--------------------------------------------------\n",
      "flow time: 2750, util : 0.925, makespan : 267\n",
      "n_episode: 407, score : -108.0, n_buffer : 20000, eps : 3.9%\n",
      "--------------------------------------------------\n",
      "flow time: 2608, util : 0.944, makespan : 275\n",
      "n_episode: 408, score : -78.0, n_buffer : 20000, eps : 3.9%\n",
      "--------------------------------------------------\n",
      "flow time: 3048, util : 0.932, makespan : 270\n",
      "n_episode: 409, score : -98.0, n_buffer : 20000, eps : 3.9%\n",
      "--------------------------------------------------\n",
      "flow time: 2666, util : 0.939, makespan : 267\n",
      "n_episode: 410, score : -82.0, n_buffer : 20000, eps : 3.9%\n",
      "--------------------------------------------------\n",
      "flow time: 2711, util : 0.961, makespan : 300\n",
      "n_episode: 411, score : -56.0, n_buffer : 20000, eps : 3.9%\n",
      "--------------------------------------------------\n",
      "flow time: 2616, util : 0.937, makespan : 326\n",
      "n_episode: 412, score : -89.0, n_buffer : 20000, eps : 3.9%\n",
      "--------------------------------------------------\n",
      "flow time: 2819, util : 0.945, makespan : 283\n",
      "n_episode: 413, score : -80.0, n_buffer : 20000, eps : 3.9%\n",
      "--------------------------------------------------\n",
      "flow time: 2786, util : 0.940, makespan : 277\n",
      "n_episode: 414, score : -89.0, n_buffer : 20000, eps : 3.9%\n",
      "--------------------------------------------------\n",
      "flow time: 2482, util : 0.956, makespan : 260\n",
      "n_episode: 415, score : -59.0, n_buffer : 20000, eps : 3.9%\n",
      "--------------------------------------------------\n",
      "flow time: 2497, util : 0.937, makespan : 266\n",
      "n_episode: 416, score : -85.0, n_buffer : 20000, eps : 3.8%\n",
      "--------------------------------------------------\n",
      "flow time: 2605, util : 0.948, makespan : 273\n",
      "n_episode: 417, score : -72.0, n_buffer : 20000, eps : 3.8%\n",
      "--------------------------------------------------\n",
      "flow time: 2641, util : 0.933, makespan : 283\n",
      "n_episode: 418, score : -96.0, n_buffer : 20000, eps : 3.8%\n",
      "--------------------------------------------------\n",
      "flow time: 2922, util : 0.909, makespan : 273\n",
      "n_episode: 419, score : -130.0, n_buffer : 20000, eps : 3.8%\n",
      "--------------------------------------------------\n",
      "flow time: 2755, util : 0.931, makespan : 273\n",
      "n_episode: 420, score : -97.0, n_buffer : 20000, eps : 3.8%\n",
      "--------------------------------------------------\n",
      "flow time: 2636, util : 0.930, makespan : 286\n",
      "n_episode: 421, score : -103.0, n_buffer : 20000, eps : 3.8%\n",
      "--------------------------------------------------\n",
      "flow time: 2976, util : 0.954, makespan : 292\n",
      "n_episode: 422, score : -70.0, n_buffer : 20000, eps : 3.8%\n",
      "--------------------------------------------------\n",
      "flow time: 2698, util : 0.958, makespan : 296\n",
      "n_episode: 423, score : -61.0, n_buffer : 20000, eps : 3.8%\n"
     ]
    },
    {
     "name": "stdout",
     "output_type": "stream",
     "text": [
      "--------------------------------------------------\n",
      "flow time: 2905, util : 0.937, makespan : 300\n",
      "n_episode: 424, score : -98.0, n_buffer : 20000, eps : 3.8%\n",
      "--------------------------------------------------\n",
      "flow time: 2749, util : 0.942, makespan : 267\n",
      "n_episode: 425, score : -83.0, n_buffer : 20000, eps : 3.8%\n",
      "--------------------------------------------------\n",
      "flow time: 2647, util : 0.963, makespan : 301\n",
      "n_episode: 426, score : -52.0, n_buffer : 20000, eps : 3.7%\n",
      "--------------------------------------------------\n",
      "flow time: 2822, util : 0.946, makespan : 293\n",
      "n_episode: 427, score : -77.0, n_buffer : 20000, eps : 3.7%\n",
      "--------------------------------------------------\n",
      "flow time: 2865, util : 0.950, makespan : 298\n",
      "n_episode: 428, score : -73.0, n_buffer : 20000, eps : 3.7%\n",
      "--------------------------------------------------\n",
      "flow time: 2470, util : 0.950, makespan : 261\n",
      "n_episode: 429, score : -68.0, n_buffer : 20000, eps : 3.7%\n",
      "--------------------------------------------------\n",
      "flow time: 2689, util : 0.944, makespan : 306\n",
      "n_episode: 430, score : -81.0, n_buffer : 20000, eps : 3.7%\n",
      "--------------------------------------------------\n",
      "flow time: 2836, util : 0.916, makespan : 283\n",
      "n_episode: 431, score : -123.0, n_buffer : 20000, eps : 3.7%\n",
      "--------------------------------------------------\n",
      "flow time: 2533, util : 0.944, makespan : 287\n",
      "n_episode: 432, score : -78.0, n_buffer : 20000, eps : 3.7%\n",
      "--------------------------------------------------\n",
      "flow time: 2511, util : 0.955, makespan : 273\n",
      "n_episode: 433, score : -63.0, n_buffer : 20000, eps : 3.7%\n",
      "--------------------------------------------------\n",
      "flow time: 2919, util : 0.939, makespan : 291\n",
      "n_episode: 434, score : -94.0, n_buffer : 20000, eps : 3.7%\n",
      "--------------------------------------------------\n",
      "flow time: 2895, util : 0.936, makespan : 295\n",
      "n_episode: 435, score : -95.0, n_buffer : 20000, eps : 3.7%\n",
      "--------------------------------------------------\n",
      "flow time: 2727, util : 0.944, makespan : 285\n",
      "n_episode: 436, score : -82.0, n_buffer : 20000, eps : 3.6%\n",
      "--------------------------------------------------\n",
      "flow time: 2723, util : 0.944, makespan : 289\n",
      "n_episode: 437, score : -80.0, n_buffer : 20000, eps : 3.6%\n",
      "--------------------------------------------------\n",
      "flow time: 2933, util : 0.927, makespan : 279\n",
      "n_episode: 438, score : -105.0, n_buffer : 20000, eps : 3.6%\n",
      "--------------------------------------------------\n",
      "flow time: 2972, util : 0.927, makespan : 285\n",
      "n_episode: 439, score : -111.0, n_buffer : 20000, eps : 3.6%\n",
      "--------------------------------------------------\n",
      "flow time: 2849, util : 0.948, makespan : 314\n",
      "n_episode: 440, score : -76.0, n_buffer : 20000, eps : 3.6%\n",
      "--------------------------------------------------\n",
      "flow time: 2875, util : 0.959, makespan : 294\n",
      "n_episode: 441, score : -63.0, n_buffer : 20000, eps : 3.6%\n",
      "--------------------------------------------------\n",
      "flow time: 3048, util : 0.921, makespan : 301\n",
      "n_episode: 442, score : -117.0, n_buffer : 20000, eps : 3.6%\n",
      "--------------------------------------------------\n",
      "flow time: 2830, util : 0.936, makespan : 286\n",
      "n_episode: 443, score : -94.0, n_buffer : 20000, eps : 3.6%\n",
      "--------------------------------------------------\n",
      "flow time: 2495, util : 0.939, makespan : 297\n",
      "n_episode: 444, score : -85.0, n_buffer : 20000, eps : 3.6%\n",
      "--------------------------------------------------\n",
      "flow time: 2782, util : 0.937, makespan : 292\n",
      "n_episode: 445, score : -94.0, n_buffer : 20000, eps : 3.5%\n",
      "--------------------------------------------------\n",
      "flow time: 2920, util : 0.932, makespan : 272\n",
      "n_episode: 446, score : -100.0, n_buffer : 20000, eps : 3.5%\n",
      "--------------------------------------------------\n",
      "flow time: 2813, util : 0.954, makespan : 283\n",
      "n_episode: 447, score : -66.0, n_buffer : 20000, eps : 3.5%\n",
      "--------------------------------------------------\n",
      "flow time: 3018, util : 0.937, makespan : 322\n",
      "n_episode: 448, score : -98.0, n_buffer : 20000, eps : 3.5%\n",
      "--------------------------------------------------\n",
      "flow time: 2729, util : 0.949, makespan : 289\n",
      "n_episode: 449, score : -72.0, n_buffer : 20000, eps : 3.5%\n",
      "--------------------------------------------------\n",
      "flow time: 2756, util : 0.951, makespan : 288\n",
      "n_episode: 450, score : -72.0, n_buffer : 20000, eps : 3.5%\n",
      "--------------------------------------------------\n",
      "flow time: 2905, util : 0.945, makespan : 293\n",
      "n_episode: 451, score : -82.0, n_buffer : 20000, eps : 3.5%\n",
      "--------------------------------------------------\n",
      "flow time: 2847, util : 0.966, makespan : 294\n",
      "n_episode: 452, score : -50.0, n_buffer : 20000, eps : 3.5%\n",
      "--------------------------------------------------\n",
      "flow time: 2502, util : 0.943, makespan : 287\n",
      "n_episode: 453, score : -77.0, n_buffer : 20000, eps : 3.5%\n",
      "--------------------------------------------------\n",
      "flow time: 2584, util : 0.955, makespan : 274\n",
      "n_episode: 454, score : -62.0, n_buffer : 20000, eps : 3.5%\n",
      "--------------------------------------------------\n",
      "flow time: 2693, util : 0.931, makespan : 279\n",
      "n_episode: 455, score : -100.0, n_buffer : 20000, eps : 3.5%\n",
      "--------------------------------------------------\n",
      "flow time: 2798, util : 0.937, makespan : 290\n",
      "n_episode: 456, score : -94.0, n_buffer : 20000, eps : 3.4%\n",
      "--------------------------------------------------\n",
      "flow time: 2810, util : 0.949, makespan : 311\n",
      "n_episode: 457, score : -77.0, n_buffer : 20000, eps : 3.4%\n",
      "--------------------------------------------------\n",
      "flow time: 2700, util : 0.938, makespan : 279\n",
      "n_episode: 458, score : -89.0, n_buffer : 20000, eps : 3.4%\n",
      "--------------------------------------------------\n",
      "flow time: 2696, util : 0.944, makespan : 273\n",
      "n_episode: 459, score : -78.0, n_buffer : 20000, eps : 3.4%\n",
      "--------------------------------------------------\n",
      "flow time: 2943, util : 0.914, makespan : 305\n",
      "n_episode: 460, score : -128.0, n_buffer : 20000, eps : 3.4%\n",
      "--------------------------------------------------\n",
      "flow time: 2963, util : 0.930, makespan : 306\n",
      "n_episode: 461, score : -105.0, n_buffer : 20000, eps : 3.4%\n",
      "--------------------------------------------------\n",
      "flow time: 2737, util : 0.920, makespan : 285\n",
      "n_episode: 462, score : -115.0, n_buffer : 20000, eps : 3.4%\n",
      "--------------------------------------------------\n",
      "flow time: 2660, util : 0.940, makespan : 255\n",
      "n_episode: 463, score : -84.0, n_buffer : 20000, eps : 3.4%\n",
      "--------------------------------------------------\n",
      "flow time: 2701, util : 0.943, makespan : 276\n",
      "n_episode: 464, score : -82.0, n_buffer : 20000, eps : 3.4%\n",
      "--------------------------------------------------\n",
      "flow time: 2746, util : 0.932, makespan : 289\n",
      "n_episode: 465, score : -97.0, n_buffer : 20000, eps : 3.3%\n",
      "--------------------------------------------------\n",
      "flow time: 2857, util : 0.954, makespan : 265\n",
      "n_episode: 466, score : -64.0, n_buffer : 20000, eps : 3.3%\n",
      "--------------------------------------------------\n",
      "flow time: 2751, util : 0.955, makespan : 278\n",
      "n_episode: 467, score : -65.0, n_buffer : 20000, eps : 3.3%\n",
      "--------------------------------------------------\n",
      "flow time: 2649, util : 0.949, makespan : 268\n",
      "n_episode: 468, score : -71.0, n_buffer : 20000, eps : 3.3%\n",
      "--------------------------------------------------\n",
      "flow time: 2556, util : 0.927, makespan : 254\n",
      "n_episode: 469, score : -100.0, n_buffer : 20000, eps : 3.3%\n",
      "--------------------------------------------------\n",
      "flow time: 2706, util : 0.957, makespan : 280\n",
      "n_episode: 470, score : -61.0, n_buffer : 20000, eps : 3.3%\n",
      "--------------------------------------------------\n",
      "flow time: 2718, util : 0.927, makespan : 316\n",
      "n_episode: 471, score : -107.0, n_buffer : 20000, eps : 3.3%\n",
      "--------------------------------------------------\n",
      "flow time: 2713, util : 0.955, makespan : 274\n",
      "n_episode: 472, score : -64.0, n_buffer : 20000, eps : 3.3%\n",
      "--------------------------------------------------\n",
      "flow time: 2640, util : 0.944, makespan : 283\n",
      "n_episode: 473, score : -79.0, n_buffer : 20000, eps : 3.3%\n",
      "--------------------------------------------------\n",
      "flow time: 2587, util : 0.920, makespan : 259\n",
      "n_episode: 474, score : -109.0, n_buffer : 20000, eps : 3.3%\n",
      "--------------------------------------------------\n",
      "flow time: 2811, util : 0.920, makespan : 276\n",
      "n_episode: 475, score : -111.0, n_buffer : 20000, eps : 3.2%\n",
      "--------------------------------------------------\n",
      "flow time: 2899, util : 0.908, makespan : 273\n",
      "n_episode: 476, score : -131.0, n_buffer : 20000, eps : 3.2%\n"
     ]
    },
    {
     "name": "stdout",
     "output_type": "stream",
     "text": [
      "--------------------------------------------------\n",
      "flow time: 2667, util : 0.935, makespan : 290\n",
      "n_episode: 477, score : -95.0, n_buffer : 20000, eps : 3.2%\n",
      "--------------------------------------------------\n",
      "flow time: 2663, util : 0.945, makespan : 280\n",
      "n_episode: 478, score : -76.0, n_buffer : 20000, eps : 3.2%\n",
      "--------------------------------------------------\n",
      "flow time: 2736, util : 0.945, makespan : 295\n",
      "n_episode: 479, score : -80.0, n_buffer : 20000, eps : 3.2%\n",
      "--------------------------------------------------\n",
      "flow time: 2602, util : 0.929, makespan : 266\n",
      "n_episode: 480, score : -97.0, n_buffer : 20000, eps : 3.2%\n",
      "--------------------------------------------------\n",
      "flow time: 2475, util : 0.952, makespan : 256\n",
      "n_episode: 481, score : -64.0, n_buffer : 20000, eps : 3.2%\n",
      "--------------------------------------------------\n",
      "flow time: 2782, util : 0.931, makespan : 297\n",
      "n_episode: 482, score : -99.0, n_buffer : 20000, eps : 3.2%\n",
      "--------------------------------------------------\n",
      "flow time: 2722, util : 0.935, makespan : 290\n",
      "n_episode: 483, score : -94.0, n_buffer : 20000, eps : 3.2%\n",
      "--------------------------------------------------\n",
      "flow time: 2707, util : 0.957, makespan : 284\n",
      "n_episode: 484, score : -61.0, n_buffer : 20000, eps : 3.2%\n",
      "--------------------------------------------------\n",
      "flow time: 2576, util : 0.967, makespan : 273\n",
      "n_episode: 485, score : -46.0, n_buffer : 20000, eps : 3.2%\n",
      "--------------------------------------------------\n",
      "flow time: 2733, util : 0.948, makespan : 281\n",
      "n_episode: 486, score : -76.0, n_buffer : 20000, eps : 3.1%\n",
      "--------------------------------------------------\n",
      "flow time: 2527, util : 0.945, makespan : 263\n",
      "n_episode: 487, score : -76.0, n_buffer : 20000, eps : 3.1%\n",
      "--------------------------------------------------\n",
      "flow time: 2984, util : 0.937, makespan : 291\n",
      "n_episode: 488, score : -91.0, n_buffer : 20000, eps : 3.1%\n",
      "--------------------------------------------------\n",
      "flow time: 3088, util : 0.948, makespan : 301\n",
      "n_episode: 489, score : -77.0, n_buffer : 20000, eps : 3.1%\n",
      "--------------------------------------------------\n",
      "flow time: 2858, util : 0.941, makespan : 277\n",
      "n_episode: 490, score : -85.0, n_buffer : 20000, eps : 3.1%\n",
      "--------------------------------------------------\n",
      "flow time: 2675, util : 0.939, makespan : 305\n",
      "n_episode: 491, score : -87.0, n_buffer : 20000, eps : 3.1%\n",
      "--------------------------------------------------\n",
      "flow time: 2645, util : 0.941, makespan : 281\n",
      "n_episode: 492, score : -83.0, n_buffer : 20000, eps : 3.1%\n",
      "--------------------------------------------------\n",
      "flow time: 2715, util : 0.937, makespan : 283\n",
      "n_episode: 493, score : -90.0, n_buffer : 20000, eps : 3.1%\n",
      "--------------------------------------------------\n",
      "flow time: 2608, util : 0.945, makespan : 270\n",
      "n_episode: 494, score : -76.0, n_buffer : 20000, eps : 3.1%\n",
      "--------------------------------------------------\n",
      "flow time: 2576, util : 0.967, makespan : 273\n",
      "n_episode: 495, score : -46.0, n_buffer : 20000, eps : 3.0%\n",
      "--------------------------------------------------\n",
      "flow time: 2576, util : 0.967, makespan : 273\n",
      "n_episode: 496, score : -46.0, n_buffer : 20000, eps : 3.0%\n",
      "--------------------------------------------------\n",
      "flow time: 2738, util : 0.952, makespan : 302\n",
      "n_episode: 497, score : -70.0, n_buffer : 20000, eps : 3.0%\n",
      "--------------------------------------------------\n",
      "flow time: 2697, util : 0.951, makespan : 276\n",
      "n_episode: 498, score : -70.0, n_buffer : 20000, eps : 3.0%\n",
      "--------------------------------------------------\n",
      "flow time: 2681, util : 0.950, makespan : 290\n",
      "n_episode: 499, score : -73.0, n_buffer : 20000, eps : 3.0%\n",
      "--------------------------------------------------\n",
      "flow time: 2624, util : 0.962, makespan : 281\n",
      "n_episode: 500, score : -54.0, n_buffer : 20000, eps : 3.0%\n",
      "--------------------------------------------------\n",
      "flow time: 2790, util : 0.938, makespan : 292\n",
      "n_episode: 501, score : -92.0, n_buffer : 20000, eps : 3.0%\n",
      "--------------------------------------------------\n",
      "flow time: 2815, util : 0.927, makespan : 294\n",
      "n_episode: 502, score : -108.0, n_buffer : 20000, eps : 3.0%\n",
      "--------------------------------------------------\n",
      "flow time: 2766, util : 0.939, makespan : 294\n",
      "n_episode: 503, score : -90.0, n_buffer : 20000, eps : 3.0%\n",
      "--------------------------------------------------\n",
      "flow time: 2770, util : 0.928, makespan : 286\n",
      "n_episode: 504, score : -109.0, n_buffer : 20000, eps : 3.0%\n",
      "--------------------------------------------------\n",
      "flow time: 2835, util : 0.946, makespan : 302\n",
      "n_episode: 505, score : -80.0, n_buffer : 20000, eps : 3.0%\n",
      "--------------------------------------------------\n",
      "flow time: 2689, util : 0.940, makespan : 274\n",
      "n_episode: 506, score : -85.0, n_buffer : 20000, eps : 2.9%\n",
      "--------------------------------------------------\n",
      "flow time: 2797, util : 0.929, makespan : 289\n",
      "n_episode: 507, score : -109.0, n_buffer : 20000, eps : 2.9%\n",
      "--------------------------------------------------\n",
      "flow time: 2622, util : 0.958, makespan : 270\n",
      "n_episode: 508, score : -58.0, n_buffer : 20000, eps : 2.9%\n",
      "--------------------------------------------------\n",
      "flow time: 2584, util : 0.956, makespan : 273\n",
      "n_episode: 509, score : -60.0, n_buffer : 20000, eps : 2.9%\n",
      "--------------------------------------------------\n",
      "flow time: 2654, util : 0.941, makespan : 274\n",
      "n_episode: 510, score : -85.0, n_buffer : 20000, eps : 2.9%\n",
      "--------------------------------------------------\n",
      "flow time: 2843, util : 0.926, makespan : 276\n",
      "n_episode: 511, score : -108.0, n_buffer : 20000, eps : 2.9%\n",
      "--------------------------------------------------\n",
      "flow time: 2796, util : 0.925, makespan : 299\n",
      "n_episode: 512, score : -116.0, n_buffer : 20000, eps : 2.9%\n",
      "--------------------------------------------------\n",
      "flow time: 2696, util : 0.944, makespan : 287\n",
      "n_episode: 513, score : -80.0, n_buffer : 20000, eps : 2.9%\n",
      "--------------------------------------------------\n",
      "flow time: 2562, util : 0.928, makespan : 274\n",
      "n_episode: 514, score : -104.0, n_buffer : 20000, eps : 2.9%\n",
      "--------------------------------------------------\n",
      "flow time: 2707, util : 0.953, makespan : 272\n",
      "n_episode: 515, score : -68.0, n_buffer : 20000, eps : 2.8%\n",
      "--------------------------------------------------\n",
      "flow time: 2807, util : 0.920, makespan : 295\n",
      "n_episode: 516, score : -118.0, n_buffer : 20000, eps : 2.8%\n",
      "--------------------------------------------------\n",
      "flow time: 2725, util : 0.947, makespan : 281\n",
      "n_episode: 517, score : -77.0, n_buffer : 20000, eps : 2.8%\n",
      "--------------------------------------------------\n",
      "flow time: 2812, util : 0.941, makespan : 292\n",
      "n_episode: 518, score : -88.0, n_buffer : 20000, eps : 2.8%\n",
      "--------------------------------------------------\n",
      "flow time: 2717, util : 0.937, makespan : 274\n",
      "n_episode: 519, score : -91.0, n_buffer : 20000, eps : 2.8%\n",
      "--------------------------------------------------\n",
      "flow time: 2532, util : 0.954, makespan : 275\n",
      "n_episode: 520, score : -62.0, n_buffer : 20000, eps : 2.8%\n",
      "--------------------------------------------------\n",
      "flow time: 2875, util : 0.934, makespan : 294\n",
      "n_episode: 521, score : -101.0, n_buffer : 20000, eps : 2.8%\n",
      "--------------------------------------------------\n",
      "flow time: 2770, util : 0.920, makespan : 295\n",
      "n_episode: 522, score : -118.0, n_buffer : 20000, eps : 2.8%\n",
      "--------------------------------------------------\n",
      "flow time: 2751, util : 0.909, makespan : 294\n",
      "n_episode: 523, score : -133.0, n_buffer : 20000, eps : 2.8%\n",
      "--------------------------------------------------\n",
      "flow time: 2757, util : 0.927, makespan : 293\n",
      "n_episode: 524, score : -108.0, n_buffer : 20000, eps : 2.8%\n",
      "--------------------------------------------------\n",
      "flow time: 2819, util : 0.932, makespan : 298\n",
      "n_episode: 525, score : -101.0, n_buffer : 20000, eps : 2.8%\n",
      "--------------------------------------------------\n",
      "flow time: 2720, util : 0.929, makespan : 283\n",
      "n_episode: 526, score : -103.0, n_buffer : 20000, eps : 2.7%\n",
      "--------------------------------------------------\n",
      "flow time: 2705, util : 0.945, makespan : 296\n",
      "n_episode: 527, score : -79.0, n_buffer : 20000, eps : 2.7%\n",
      "--------------------------------------------------\n",
      "flow time: 2729, util : 0.950, makespan : 290\n",
      "n_episode: 528, score : -71.0, n_buffer : 20000, eps : 2.7%\n",
      "--------------------------------------------------\n",
      "flow time: 2636, util : 0.956, makespan : 282\n",
      "n_episode: 529, score : -60.0, n_buffer : 20000, eps : 2.7%\n"
     ]
    },
    {
     "name": "stdout",
     "output_type": "stream",
     "text": [
      "--------------------------------------------------\n",
      "flow time: 2760, util : 0.908, makespan : 282\n",
      "n_episode: 530, score : -137.0, n_buffer : 20000, eps : 2.7%\n",
      "--------------------------------------------------\n",
      "flow time: 2675, util : 0.943, makespan : 272\n",
      "n_episode: 531, score : -81.0, n_buffer : 20000, eps : 2.7%\n",
      "--------------------------------------------------\n",
      "flow time: 2733, util : 0.951, makespan : 294\n",
      "n_episode: 532, score : -71.0, n_buffer : 20000, eps : 2.7%\n",
      "--------------------------------------------------\n",
      "flow time: 2767, util : 0.931, makespan : 283\n",
      "n_episode: 533, score : -101.0, n_buffer : 20000, eps : 2.7%\n",
      "--------------------------------------------------\n",
      "flow time: 2513, util : 0.949, makespan : 263\n",
      "n_episode: 534, score : -69.0, n_buffer : 20000, eps : 2.7%\n",
      "--------------------------------------------------\n",
      "flow time: 2845, util : 0.931, makespan : 331\n",
      "n_episode: 535, score : -101.0, n_buffer : 20000, eps : 2.7%\n",
      "--------------------------------------------------\n",
      "flow time: 2837, util : 0.934, makespan : 274\n",
      "n_episode: 536, score : -95.0, n_buffer : 20000, eps : 2.6%\n",
      "--------------------------------------------------\n",
      "flow time: 2800, util : 0.942, makespan : 279\n",
      "n_episode: 537, score : -81.0, n_buffer : 20000, eps : 2.6%\n",
      "--------------------------------------------------\n",
      "flow time: 2772, util : 0.940, makespan : 283\n",
      "n_episode: 538, score : -90.0, n_buffer : 20000, eps : 2.6%\n",
      "--------------------------------------------------\n",
      "flow time: 2821, util : 0.932, makespan : 292\n",
      "n_episode: 539, score : -96.0, n_buffer : 20000, eps : 2.6%\n",
      "--------------------------------------------------\n",
      "flow time: 2741, util : 0.946, makespan : 307\n",
      "n_episode: 540, score : -78.0, n_buffer : 20000, eps : 2.6%\n",
      "--------------------------------------------------\n",
      "flow time: 2700, util : 0.946, makespan : 276\n",
      "n_episode: 541, score : -78.0, n_buffer : 20000, eps : 2.6%\n",
      "--------------------------------------------------\n",
      "flow time: 2693, util : 0.949, makespan : 298\n",
      "n_episode: 542, score : -72.0, n_buffer : 20000, eps : 2.6%\n",
      "--------------------------------------------------\n",
      "flow time: 2820, util : 0.936, makespan : 291\n",
      "n_episode: 543, score : -96.0, n_buffer : 20000, eps : 2.6%\n",
      "--------------------------------------------------\n",
      "flow time: 2977, util : 0.923, makespan : 311\n",
      "n_episode: 544, score : -120.0, n_buffer : 20000, eps : 2.6%\n",
      "--------------------------------------------------\n",
      "flow time: 2730, util : 0.956, makespan : 298\n",
      "n_episode: 545, score : -62.0, n_buffer : 20000, eps : 2.6%\n",
      "--------------------------------------------------\n",
      "flow time: 2822, util : 0.948, makespan : 289\n",
      "n_episode: 546, score : -75.0, n_buffer : 20000, eps : 2.5%\n",
      "--------------------------------------------------\n",
      "flow time: 2581, util : 0.950, makespan : 273\n",
      "n_episode: 547, score : -70.0, n_buffer : 20000, eps : 2.5%\n",
      "--------------------------------------------------\n",
      "flow time: 2738, util : 0.960, makespan : 271\n",
      "n_episode: 548, score : -57.0, n_buffer : 20000, eps : 2.5%\n",
      "--------------------------------------------------\n",
      "flow time: 2470, util : 0.950, makespan : 261\n",
      "n_episode: 549, score : -68.0, n_buffer : 20000, eps : 2.5%\n",
      "--------------------------------------------------\n",
      "flow time: 2661, util : 0.939, makespan : 273\n",
      "n_episode: 550, score : -86.0, n_buffer : 20000, eps : 2.5%\n",
      "--------------------------------------------------\n",
      "flow time: 2771, util : 0.940, makespan : 283\n",
      "n_episode: 551, score : -87.0, n_buffer : 20000, eps : 2.5%\n",
      "--------------------------------------------------\n",
      "flow time: 2780, util : 0.947, makespan : 288\n",
      "n_episode: 552, score : -77.0, n_buffer : 20000, eps : 2.5%\n",
      "--------------------------------------------------\n",
      "flow time: 2826, util : 0.927, makespan : 272\n",
      "n_episode: 553, score : -105.0, n_buffer : 20000, eps : 2.5%\n",
      "--------------------------------------------------\n",
      "flow time: 2766, util : 0.926, makespan : 287\n",
      "n_episode: 554, score : -109.0, n_buffer : 20000, eps : 2.5%\n",
      "--------------------------------------------------\n",
      "flow time: 2765, util : 0.956, makespan : 289\n",
      "n_episode: 555, score : -63.0, n_buffer : 20000, eps : 2.5%\n",
      "--------------------------------------------------\n",
      "flow time: 2760, util : 0.924, makespan : 278\n",
      "n_episode: 556, score : -109.0, n_buffer : 20000, eps : 2.4%\n",
      "--------------------------------------------------\n",
      "flow time: 2616, util : 0.958, makespan : 272\n",
      "n_episode: 557, score : -58.0, n_buffer : 20000, eps : 2.4%\n",
      "--------------------------------------------------\n",
      "flow time: 2637, util : 0.941, makespan : 297\n",
      "n_episode: 558, score : -84.0, n_buffer : 20000, eps : 2.4%\n",
      "--------------------------------------------------\n",
      "flow time: 2637, util : 0.936, makespan : 278\n",
      "n_episode: 559, score : -93.0, n_buffer : 20000, eps : 2.4%\n",
      "--------------------------------------------------\n",
      "flow time: 2572, util : 0.935, makespan : 270\n",
      "n_episode: 560, score : -92.0, n_buffer : 20000, eps : 2.4%\n",
      "--------------------------------------------------\n",
      "flow time: 2516, util : 0.952, makespan : 286\n",
      "n_episode: 561, score : -66.0, n_buffer : 20000, eps : 2.4%\n",
      "--------------------------------------------------\n",
      "flow time: 2736, util : 0.957, makespan : 283\n",
      "n_episode: 562, score : -62.0, n_buffer : 20000, eps : 2.4%\n",
      "--------------------------------------------------\n",
      "flow time: 2801, util : 0.934, makespan : 297\n",
      "n_episode: 563, score : -98.0, n_buffer : 20000, eps : 2.4%\n",
      "--------------------------------------------------\n",
      "flow time: 2711, util : 0.947, makespan : 294\n",
      "n_episode: 564, score : -77.0, n_buffer : 20000, eps : 2.4%\n",
      "--------------------------------------------------\n",
      "flow time: 2466, util : 0.953, makespan : 293\n",
      "n_episode: 565, score : -64.0, n_buffer : 20000, eps : 2.4%\n",
      "--------------------------------------------------\n",
      "flow time: 2781, util : 0.940, makespan : 280\n",
      "n_episode: 566, score : -89.0, n_buffer : 20000, eps : 2.3%\n",
      "--------------------------------------------------\n",
      "flow time: 3004, util : 0.920, makespan : 288\n",
      "n_episode: 567, score : -121.0, n_buffer : 20000, eps : 2.3%\n",
      "--------------------------------------------------\n",
      "flow time: 2826, util : 0.955, makespan : 310\n",
      "n_episode: 568, score : -65.0, n_buffer : 20000, eps : 2.3%\n",
      "--------------------------------------------------\n",
      "flow time: 2610, util : 0.942, makespan : 275\n",
      "n_episode: 569, score : -80.0, n_buffer : 20000, eps : 2.3%\n",
      "--------------------------------------------------\n",
      "flow time: 2877, util : 0.952, makespan : 286\n",
      "n_episode: 570, score : -70.0, n_buffer : 20000, eps : 2.3%\n",
      "--------------------------------------------------\n",
      "flow time: 2776, util : 0.940, makespan : 305\n",
      "n_episode: 571, score : -86.0, n_buffer : 20000, eps : 2.3%\n",
      "--------------------------------------------------\n",
      "flow time: 2988, util : 0.899, makespan : 275\n",
      "n_episode: 572, score : -146.0, n_buffer : 20000, eps : 2.3%\n",
      "--------------------------------------------------\n",
      "flow time: 2793, util : 0.931, makespan : 273\n",
      "n_episode: 573, score : -97.0, n_buffer : 20000, eps : 2.3%\n",
      "--------------------------------------------------\n",
      "flow time: 2990, util : 0.918, makespan : 301\n",
      "n_episode: 574, score : -123.0, n_buffer : 20000, eps : 2.3%\n",
      "--------------------------------------------------\n",
      "flow time: 2716, util : 0.939, makespan : 285\n",
      "n_episode: 575, score : -89.0, n_buffer : 20000, eps : 2.2%\n",
      "--------------------------------------------------\n",
      "flow time: 2669, util : 0.924, makespan : 317\n",
      "n_episode: 576, score : -109.0, n_buffer : 20000, eps : 2.2%\n",
      "--------------------------------------------------\n",
      "flow time: 2680, util : 0.954, makespan : 282\n",
      "n_episode: 577, score : -64.0, n_buffer : 20000, eps : 2.2%\n",
      "--------------------------------------------------\n",
      "flow time: 2698, util : 0.949, makespan : 284\n",
      "n_episode: 578, score : -73.0, n_buffer : 20000, eps : 2.2%\n",
      "--------------------------------------------------\n",
      "flow time: 2772, util : 0.950, makespan : 292\n",
      "n_episode: 579, score : -73.0, n_buffer : 20000, eps : 2.2%\n",
      "--------------------------------------------------\n",
      "flow time: 2930, util : 0.952, makespan : 289\n",
      "n_episode: 580, score : -72.0, n_buffer : 20000, eps : 2.2%\n",
      "--------------------------------------------------\n",
      "flow time: 2765, util : 0.956, makespan : 289\n",
      "n_episode: 581, score : -63.0, n_buffer : 20000, eps : 2.2%\n",
      "--------------------------------------------------\n",
      "flow time: 2750, util : 0.925, makespan : 294\n",
      "n_episode: 582, score : -109.0, n_buffer : 20000, eps : 2.2%\n"
     ]
    },
    {
     "name": "stdout",
     "output_type": "stream",
     "text": [
      "--------------------------------------------------\n",
      "flow time: 2458, util : 0.948, makespan : 249\n",
      "n_episode: 583, score : -70.0, n_buffer : 20000, eps : 2.2%\n",
      "--------------------------------------------------\n",
      "flow time: 2506, util : 0.934, makespan : 265\n",
      "n_episode: 584, score : -91.0, n_buffer : 20000, eps : 2.2%\n",
      "--------------------------------------------------\n",
      "flow time: 2787, util : 0.940, makespan : 296\n",
      "n_episode: 585, score : -89.0, n_buffer : 20000, eps : 2.2%\n",
      "--------------------------------------------------\n",
      "flow time: 2860, util : 0.932, makespan : 285\n",
      "n_episode: 586, score : -100.0, n_buffer : 20000, eps : 2.1%\n",
      "--------------------------------------------------\n",
      "flow time: 2908, util : 0.947, makespan : 293\n",
      "n_episode: 587, score : -80.0, n_buffer : 20000, eps : 2.1%\n",
      "--------------------------------------------------\n",
      "flow time: 2924, util : 0.954, makespan : 297\n",
      "n_episode: 588, score : -70.0, n_buffer : 20000, eps : 2.1%\n",
      "--------------------------------------------------\n",
      "flow time: 2850, util : 0.934, makespan : 295\n",
      "n_episode: 589, score : -94.0, n_buffer : 20000, eps : 2.1%\n",
      "--------------------------------------------------\n",
      "flow time: 2819, util : 0.938, makespan : 298\n",
      "n_episode: 590, score : -95.0, n_buffer : 20000, eps : 2.1%\n",
      "--------------------------------------------------\n",
      "flow time: 2470, util : 0.950, makespan : 261\n",
      "n_episode: 591, score : -68.0, n_buffer : 20000, eps : 2.1%\n",
      "--------------------------------------------------\n",
      "flow time: 2718, util : 0.937, makespan : 310\n",
      "n_episode: 592, score : -92.0, n_buffer : 20000, eps : 2.1%\n",
      "--------------------------------------------------\n",
      "flow time: 2765, util : 0.960, makespan : 276\n",
      "n_episode: 593, score : -58.0, n_buffer : 20000, eps : 2.1%\n",
      "--------------------------------------------------\n",
      "flow time: 2620, util : 0.932, makespan : 280\n",
      "n_episode: 594, score : -97.0, n_buffer : 20000, eps : 2.1%\n",
      "--------------------------------------------------\n",
      "flow time: 2645, util : 0.959, makespan : 291\n",
      "n_episode: 595, score : -59.0, n_buffer : 20000, eps : 2.0%\n",
      "--------------------------------------------------\n",
      "flow time: 2692, util : 0.932, makespan : 298\n",
      "n_episode: 596, score : -100.0, n_buffer : 20000, eps : 2.0%\n",
      "--------------------------------------------------\n",
      "flow time: 2853, util : 0.937, makespan : 279\n",
      "n_episode: 597, score : -92.0, n_buffer : 20000, eps : 2.0%\n",
      "--------------------------------------------------\n",
      "flow time: 2615, util : 0.942, makespan : 263\n",
      "n_episode: 598, score : -81.0, n_buffer : 20000, eps : 2.0%\n",
      "--------------------------------------------------\n",
      "flow time: 2506, util : 0.950, makespan : 279\n",
      "n_episode: 599, score : -68.0, n_buffer : 20000, eps : 2.0%\n",
      "--------------------------------------------------\n",
      "flow time: 2866, util : 0.946, makespan : 313\n",
      "n_episode: 600, score : -80.0, n_buffer : 20000, eps : 2.0%\n",
      "--------------------------------------------------\n",
      "flow time: 2875, util : 0.933, makespan : 286\n",
      "n_episode: 601, score : -99.0, n_buffer : 20000, eps : 2.0%\n",
      "--------------------------------------------------\n",
      "flow time: 2739, util : 0.933, makespan : 289\n",
      "n_episode: 602, score : -97.0, n_buffer : 20000, eps : 2.0%\n",
      "--------------------------------------------------\n",
      "flow time: 2832, util : 0.922, makespan : 263\n",
      "n_episode: 603, score : -108.0, n_buffer : 20000, eps : 2.0%\n",
      "--------------------------------------------------\n",
      "flow time: 3024, util : 0.933, makespan : 297\n",
      "n_episode: 604, score : -97.0, n_buffer : 20000, eps : 2.0%\n",
      "--------------------------------------------------\n",
      "flow time: 2770, util : 0.960, makespan : 284\n",
      "n_episode: 605, score : -58.0, n_buffer : 20000, eps : 2.0%\n",
      "--------------------------------------------------\n",
      "flow time: 2682, util : 0.935, makespan : 280\n",
      "n_episode: 606, score : -95.0, n_buffer : 20000, eps : 1.9%\n",
      "--------------------------------------------------\n",
      "flow time: 2846, util : 0.909, makespan : 266\n",
      "n_episode: 607, score : -129.0, n_buffer : 20000, eps : 1.9%\n",
      "--------------------------------------------------\n",
      "flow time: 2811, util : 0.940, makespan : 282\n",
      "n_episode: 608, score : -89.0, n_buffer : 20000, eps : 1.9%\n",
      "--------------------------------------------------\n",
      "flow time: 2712, util : 0.941, makespan : 290\n",
      "n_episode: 609, score : -86.0, n_buffer : 20000, eps : 1.9%\n",
      "--------------------------------------------------\n",
      "flow time: 2734, util : 0.957, makespan : 301\n",
      "n_episode: 610, score : -63.0, n_buffer : 20000, eps : 1.9%\n",
      "--------------------------------------------------\n",
      "flow time: 2758, util : 0.949, makespan : 287\n",
      "n_episode: 611, score : -74.0, n_buffer : 20000, eps : 1.9%\n",
      "--------------------------------------------------\n",
      "flow time: 2576, util : 0.967, makespan : 273\n",
      "n_episode: 612, score : -46.0, n_buffer : 20000, eps : 1.9%\n",
      "--------------------------------------------------\n",
      "flow time: 2764, util : 0.939, makespan : 305\n",
      "n_episode: 613, score : -91.0, n_buffer : 20000, eps : 1.9%\n",
      "--------------------------------------------------\n",
      "flow time: 2761, util : 0.931, makespan : 288\n",
      "n_episode: 614, score : -100.0, n_buffer : 20000, eps : 1.9%\n",
      "--------------------------------------------------\n",
      "flow time: 2787, util : 0.943, makespan : 295\n",
      "n_episode: 615, score : -83.0, n_buffer : 20000, eps : 1.8%\n",
      "--------------------------------------------------\n",
      "flow time: 2851, util : 0.918, makespan : 289\n",
      "n_episode: 616, score : -126.0, n_buffer : 20000, eps : 1.8%\n",
      "--------------------------------------------------\n",
      "flow time: 2741, util : 0.930, makespan : 298\n",
      "n_episode: 617, score : -104.0, n_buffer : 20000, eps : 1.8%\n",
      "--------------------------------------------------\n",
      "flow time: 2648, util : 0.929, makespan : 284\n",
      "n_episode: 618, score : -100.0, n_buffer : 20000, eps : 1.8%\n",
      "--------------------------------------------------\n",
      "flow time: 2602, util : 0.957, makespan : 272\n",
      "n_episode: 619, score : -59.0, n_buffer : 20000, eps : 1.8%\n",
      "--------------------------------------------------\n",
      "flow time: 2719, util : 0.943, makespan : 286\n",
      "n_episode: 620, score : -82.0, n_buffer : 20000, eps : 1.8%\n",
      "--------------------------------------------------\n",
      "flow time: 2806, util : 0.935, makespan : 286\n",
      "n_episode: 621, score : -96.0, n_buffer : 20000, eps : 1.8%\n",
      "--------------------------------------------------\n",
      "flow time: 2651, util : 0.945, makespan : 284\n",
      "n_episode: 622, score : -80.0, n_buffer : 20000, eps : 1.8%\n",
      "--------------------------------------------------\n",
      "flow time: 2576, util : 0.967, makespan : 273\n",
      "n_episode: 623, score : -46.0, n_buffer : 20000, eps : 1.8%\n",
      "--------------------------------------------------\n",
      "flow time: 2723, util : 0.948, makespan : 272\n",
      "n_episode: 624, score : -75.0, n_buffer : 20000, eps : 1.8%\n",
      "--------------------------------------------------\n",
      "flow time: 2954, util : 0.952, makespan : 286\n",
      "n_episode: 625, score : -71.0, n_buffer : 20000, eps : 1.8%\n",
      "--------------------------------------------------\n",
      "flow time: 2727, util : 0.947, makespan : 313\n",
      "n_episode: 626, score : -78.0, n_buffer : 20000, eps : 1.7%\n",
      "--------------------------------------------------\n",
      "flow time: 2707, util : 0.932, makespan : 290\n",
      "n_episode: 627, score : -98.0, n_buffer : 20000, eps : 1.7%\n",
      "--------------------------------------------------\n",
      "flow time: 2732, util : 0.919, makespan : 263\n",
      "n_episode: 628, score : -114.0, n_buffer : 20000, eps : 1.7%\n",
      "--------------------------------------------------\n",
      "flow time: 2794, util : 0.933, makespan : 320\n",
      "n_episode: 629, score : -98.0, n_buffer : 20000, eps : 1.7%\n",
      "--------------------------------------------------\n",
      "flow time: 2907, util : 0.944, makespan : 288\n",
      "n_episode: 630, score : -83.0, n_buffer : 20000, eps : 1.7%\n",
      "--------------------------------------------------\n",
      "flow time: 2894, util : 0.940, makespan : 298\n",
      "n_episode: 631, score : -87.0, n_buffer : 20000, eps : 1.7%\n",
      "--------------------------------------------------\n",
      "flow time: 2931, util : 0.936, makespan : 287\n",
      "n_episode: 632, score : -94.0, n_buffer : 20000, eps : 1.7%\n",
      "--------------------------------------------------\n",
      "flow time: 2954, util : 0.952, makespan : 286\n",
      "n_episode: 633, score : -71.0, n_buffer : 20000, eps : 1.7%\n",
      "--------------------------------------------------\n",
      "flow time: 2954, util : 0.952, makespan : 286\n",
      "n_episode: 634, score : -71.0, n_buffer : 20000, eps : 1.7%\n",
      "--------------------------------------------------\n",
      "flow time: 2965, util : 0.931, makespan : 264\n",
      "n_episode: 635, score : -100.0, n_buffer : 20000, eps : 1.7%\n"
     ]
    },
    {
     "name": "stdout",
     "output_type": "stream",
     "text": [
      "--------------------------------------------------\n",
      "flow time: 2992, util : 0.901, makespan : 327\n",
      "n_episode: 636, score : -153.0, n_buffer : 20000, eps : 1.6%\n",
      "--------------------------------------------------\n",
      "flow time: 2827, util : 0.944, makespan : 296\n",
      "n_episode: 637, score : -81.0, n_buffer : 20000, eps : 1.6%\n",
      "--------------------------------------------------\n",
      "flow time: 2918, util : 0.937, makespan : 295\n",
      "n_episode: 638, score : -95.0, n_buffer : 20000, eps : 1.6%\n",
      "--------------------------------------------------\n",
      "flow time: 2791, util : 0.931, makespan : 304\n",
      "n_episode: 639, score : -102.0, n_buffer : 20000, eps : 1.6%\n",
      "--------------------------------------------------\n",
      "flow time: 2750, util : 0.946, makespan : 275\n",
      "n_episode: 640, score : -78.0, n_buffer : 20000, eps : 1.6%\n",
      "--------------------------------------------------\n",
      "flow time: 3051, util : 0.915, makespan : 303\n",
      "n_episode: 641, score : -131.0, n_buffer : 20000, eps : 1.6%\n",
      "--------------------------------------------------\n",
      "flow time: 3105, util : 0.909, makespan : 296\n",
      "n_episode: 642, score : -143.0, n_buffer : 20000, eps : 1.6%\n",
      "--------------------------------------------------\n",
      "flow time: 2631, util : 0.958, makespan : 273\n",
      "n_episode: 643, score : -58.0, n_buffer : 20000, eps : 1.6%\n",
      "--------------------------------------------------\n",
      "flow time: 2912, util : 0.932, makespan : 271\n",
      "n_episode: 644, score : -96.0, n_buffer : 20000, eps : 1.6%\n",
      "--------------------------------------------------\n",
      "flow time: 3002, util : 0.939, makespan : 284\n",
      "n_episode: 645, score : -92.0, n_buffer : 20000, eps : 1.6%\n",
      "--------------------------------------------------\n",
      "flow time: 2981, util : 0.940, makespan : 291\n",
      "n_episode: 646, score : -89.0, n_buffer : 20000, eps : 1.5%\n",
      "--------------------------------------------------\n",
      "flow time: 3015, util : 0.925, makespan : 295\n",
      "n_episode: 647, score : -110.0, n_buffer : 20000, eps : 1.5%\n",
      "--------------------------------------------------\n",
      "flow time: 2983, util : 0.922, makespan : 281\n",
      "n_episode: 648, score : -114.0, n_buffer : 20000, eps : 1.5%\n",
      "--------------------------------------------------\n",
      "flow time: 2761, util : 0.943, makespan : 274\n",
      "n_episode: 649, score : -84.0, n_buffer : 20000, eps : 1.5%\n",
      "--------------------------------------------------\n",
      "flow time: 2636, util : 0.960, makespan : 265\n",
      "n_episode: 650, score : -56.0, n_buffer : 20000, eps : 1.5%\n",
      "--------------------------------------------------\n",
      "flow time: 2631, util : 0.938, makespan : 299\n",
      "n_episode: 651, score : -87.0, n_buffer : 20000, eps : 1.5%\n",
      "--------------------------------------------------\n",
      "flow time: 2636, util : 0.957, makespan : 293\n",
      "n_episode: 652, score : -61.0, n_buffer : 20000, eps : 1.5%\n",
      "--------------------------------------------------\n",
      "flow time: 2716, util : 0.942, makespan : 296\n",
      "n_episode: 653, score : -86.0, n_buffer : 20000, eps : 1.5%\n",
      "--------------------------------------------------\n",
      "flow time: 2671, util : 0.956, makespan : 287\n",
      "n_episode: 654, score : -63.0, n_buffer : 20000, eps : 1.5%\n",
      "--------------------------------------------------\n",
      "flow time: 2725, util : 0.952, makespan : 290\n",
      "n_episode: 655, score : -69.0, n_buffer : 20000, eps : 1.4%\n",
      "--------------------------------------------------\n",
      "flow time: 2781, util : 0.936, makespan : 294\n",
      "n_episode: 656, score : -94.0, n_buffer : 20000, eps : 1.4%\n",
      "--------------------------------------------------\n",
      "flow time: 2806, util : 0.944, makespan : 298\n",
      "n_episode: 657, score : -82.0, n_buffer : 20000, eps : 1.4%\n",
      "--------------------------------------------------\n",
      "flow time: 2866, util : 0.922, makespan : 277\n",
      "n_episode: 658, score : -115.0, n_buffer : 20000, eps : 1.4%\n",
      "--------------------------------------------------\n",
      "flow time: 2923, util : 0.946, makespan : 293\n",
      "n_episode: 659, score : -80.0, n_buffer : 20000, eps : 1.4%\n",
      "--------------------------------------------------\n",
      "flow time: 2802, util : 0.948, makespan : 280\n",
      "n_episode: 660, score : -74.0, n_buffer : 20000, eps : 1.4%\n",
      "--------------------------------------------------\n",
      "flow time: 2773, util : 0.946, makespan : 294\n",
      "n_episode: 661, score : -78.0, n_buffer : 20000, eps : 1.4%\n",
      "--------------------------------------------------\n",
      "flow time: 2831, util : 0.930, makespan : 268\n",
      "n_episode: 662, score : -100.0, n_buffer : 20000, eps : 1.4%\n",
      "--------------------------------------------------\n",
      "flow time: 2912, util : 0.930, makespan : 285\n",
      "n_episode: 663, score : -104.0, n_buffer : 20000, eps : 1.4%\n",
      "--------------------------------------------------\n",
      "flow time: 2911, util : 0.935, makespan : 304\n",
      "n_episode: 664, score : -94.0, n_buffer : 20000, eps : 1.4%\n",
      "--------------------------------------------------\n",
      "flow time: 2727, util : 0.946, makespan : 300\n",
      "n_episode: 665, score : -77.0, n_buffer : 20000, eps : 1.3%\n",
      "--------------------------------------------------\n",
      "flow time: 2716, util : 0.942, makespan : 296\n",
      "n_episode: 666, score : -86.0, n_buffer : 20000, eps : 1.3%\n",
      "--------------------------------------------------\n",
      "flow time: 2416, util : 0.952, makespan : 269\n",
      "n_episode: 667, score : -63.0, n_buffer : 20000, eps : 1.3%\n",
      "--------------------------------------------------\n",
      "flow time: 2654, util : 0.951, makespan : 293\n",
      "n_episode: 668, score : -69.0, n_buffer : 20000, eps : 1.3%\n",
      "--------------------------------------------------\n",
      "flow time: 2709, util : 0.939, makespan : 277\n",
      "n_episode: 669, score : -87.0, n_buffer : 20000, eps : 1.3%\n",
      "--------------------------------------------------\n",
      "flow time: 2535, util : 0.933, makespan : 280\n",
      "n_episode: 670, score : -95.0, n_buffer : 20000, eps : 1.3%\n",
      "--------------------------------------------------\n",
      "flow time: 3201, util : 0.936, makespan : 305\n",
      "n_episode: 671, score : -100.0, n_buffer : 20000, eps : 1.3%\n",
      "--------------------------------------------------\n",
      "flow time: 2876, util : 0.922, makespan : 282\n",
      "n_episode: 672, score : -113.0, n_buffer : 20000, eps : 1.3%\n",
      "--------------------------------------------------\n",
      "flow time: 3182, util : 0.941, makespan : 312\n",
      "n_episode: 673, score : -90.0, n_buffer : 20000, eps : 1.3%\n",
      "--------------------------------------------------\n",
      "flow time: 3231, util : 0.927, makespan : 289\n",
      "n_episode: 674, score : -109.0, n_buffer : 20000, eps : 1.3%\n",
      "--------------------------------------------------\n",
      "flow time: 3019, util : 0.929, makespan : 292\n",
      "n_episode: 675, score : -107.0, n_buffer : 20000, eps : 1.2%\n",
      "--------------------------------------------------\n",
      "flow time: 2901, util : 0.931, makespan : 279\n",
      "n_episode: 676, score : -102.0, n_buffer : 20000, eps : 1.2%\n",
      "--------------------------------------------------\n",
      "flow time: 2690, util : 0.932, makespan : 254\n",
      "n_episode: 677, score : -92.0, n_buffer : 20000, eps : 1.2%\n",
      "--------------------------------------------------\n",
      "flow time: 2709, util : 0.930, makespan : 287\n",
      "n_episode: 678, score : -101.0, n_buffer : 20000, eps : 1.2%\n",
      "--------------------------------------------------\n",
      "flow time: 2830, util : 0.935, makespan : 276\n",
      "n_episode: 679, score : -95.0, n_buffer : 20000, eps : 1.2%\n",
      "--------------------------------------------------\n",
      "flow time: 2702, util : 0.953, makespan : 276\n",
      "n_episode: 680, score : -67.0, n_buffer : 20000, eps : 1.2%\n",
      "--------------------------------------------------\n",
      "flow time: 2470, util : 0.950, makespan : 261\n",
      "n_episode: 681, score : -68.0, n_buffer : 20000, eps : 1.2%\n",
      "--------------------------------------------------\n",
      "flow time: 2470, util : 0.950, makespan : 261\n",
      "n_episode: 682, score : -68.0, n_buffer : 20000, eps : 1.2%\n",
      "--------------------------------------------------\n",
      "flow time: 2470, util : 0.950, makespan : 261\n",
      "n_episode: 683, score : -68.0, n_buffer : 20000, eps : 1.2%\n",
      "--------------------------------------------------\n",
      "flow time: 2710, util : 0.945, makespan : 285\n",
      "n_episode: 684, score : -81.0, n_buffer : 20000, eps : 1.2%\n",
      "--------------------------------------------------\n",
      "flow time: 2710, util : 0.945, makespan : 285\n",
      "n_episode: 685, score : -81.0, n_buffer : 20000, eps : 1.2%\n",
      "--------------------------------------------------\n",
      "flow time: 2660, util : 0.916, makespan : 279\n",
      "n_episode: 686, score : -124.0, n_buffer : 20000, eps : 1.1%\n",
      "--------------------------------------------------\n",
      "flow time: 2710, util : 0.945, makespan : 285\n",
      "n_episode: 687, score : -81.0, n_buffer : 20000, eps : 1.1%\n",
      "--------------------------------------------------\n",
      "flow time: 2745, util : 0.907, makespan : 288\n",
      "n_episode: 688, score : -142.0, n_buffer : 20000, eps : 1.1%\n"
     ]
    },
    {
     "name": "stdout",
     "output_type": "stream",
     "text": [
      "--------------------------------------------------\n",
      "flow time: 2667, util : 0.943, makespan : 276\n",
      "n_episode: 689, score : -80.0, n_buffer : 20000, eps : 1.1%\n",
      "--------------------------------------------------\n",
      "flow time: 2530, util : 0.944, makespan : 274\n",
      "n_episode: 690, score : -79.0, n_buffer : 20000, eps : 1.1%\n",
      "--------------------------------------------------\n",
      "flow time: 2667, util : 0.943, makespan : 267\n",
      "n_episode: 691, score : -82.0, n_buffer : 20000, eps : 1.1%\n",
      "--------------------------------------------------\n",
      "flow time: 2705, util : 0.943, makespan : 276\n",
      "n_episode: 692, score : -83.0, n_buffer : 20000, eps : 1.1%\n",
      "--------------------------------------------------\n",
      "flow time: 2624, util : 0.964, makespan : 266\n",
      "n_episode: 693, score : -50.0, n_buffer : 20000, eps : 1.1%\n",
      "--------------------------------------------------\n",
      "flow time: 2648, util : 0.958, makespan : 291\n",
      "n_episode: 694, score : -60.0, n_buffer : 20000, eps : 1.1%\n",
      "--------------------------------------------------\n",
      "flow time: 2706, util : 0.931, makespan : 294\n",
      "n_episode: 695, score : -101.0, n_buffer : 20000, eps : 1.0%\n",
      "--------------------------------------------------\n",
      "flow time: 2682, util : 0.941, makespan : 304\n",
      "n_episode: 696, score : -85.0, n_buffer : 20000, eps : 1.0%\n",
      "--------------------------------------------------\n",
      "flow time: 2576, util : 0.967, makespan : 273\n",
      "n_episode: 697, score : -46.0, n_buffer : 20000, eps : 1.0%\n",
      "--------------------------------------------------\n",
      "flow time: 2589, util : 0.915, makespan : 286\n",
      "n_episode: 698, score : -125.0, n_buffer : 20000, eps : 1.0%\n",
      "--------------------------------------------------\n",
      "flow time: 2470, util : 0.950, makespan : 261\n",
      "n_episode: 699, score : -68.0, n_buffer : 20000, eps : 1.0%\n",
      "--------------------------------------------------\n",
      "flow time: 2576, util : 0.967, makespan : 273\n",
      "n_episode: 700, score : -46.0, n_buffer : 20000, eps : 1.0%\n",
      "--------------------------------------------------\n",
      "flow time: 2576, util : 0.967, makespan : 273\n",
      "n_episode: 701, score : -46.0, n_buffer : 20000, eps : 1.0%\n",
      "--------------------------------------------------\n",
      "flow time: 2811, util : 0.926, makespan : 276\n",
      "n_episode: 702, score : -106.0, n_buffer : 20000, eps : 1.0%\n",
      "--------------------------------------------------\n",
      "flow time: 2950, util : 0.899, makespan : 282\n",
      "n_episode: 703, score : -140.0, n_buffer : 20000, eps : 1.0%\n",
      "--------------------------------------------------\n",
      "flow time: 2978, util : 0.909, makespan : 248\n",
      "n_episode: 704, score : -128.0, n_buffer : 20000, eps : 1.0%\n",
      "--------------------------------------------------\n",
      "flow time: 2599, util : 0.953, makespan : 281\n",
      "n_episode: 705, score : -66.0, n_buffer : 20000, eps : 1.0%\n",
      "--------------------------------------------------\n",
      "flow time: 2676, util : 0.941, makespan : 272\n",
      "n_episode: 706, score : -85.0, n_buffer : 20000, eps : 1.0%\n",
      "--------------------------------------------------\n",
      "flow time: 2506, util : 0.950, makespan : 279\n",
      "n_episode: 707, score : -68.0, n_buffer : 20000, eps : 1.0%\n",
      "--------------------------------------------------\n",
      "flow time: 2485, util : 0.959, makespan : 280\n",
      "n_episode: 708, score : -56.0, n_buffer : 20000, eps : 1.0%\n",
      "--------------------------------------------------\n",
      "flow time: 2741, util : 0.946, makespan : 296\n",
      "n_episode: 709, score : -79.0, n_buffer : 20000, eps : 1.0%\n",
      "--------------------------------------------------\n",
      "flow time: 2716, util : 0.942, makespan : 296\n",
      "n_episode: 710, score : -86.0, n_buffer : 20000, eps : 1.0%\n",
      "--------------------------------------------------\n",
      "flow time: 2602, util : 0.969, makespan : 293\n",
      "n_episode: 711, score : -44.0, n_buffer : 20000, eps : 1.0%\n",
      "--------------------------------------------------\n",
      "flow time: 2649, util : 0.932, makespan : 285\n",
      "n_episode: 712, score : -97.0, n_buffer : 20000, eps : 1.0%\n",
      "--------------------------------------------------\n",
      "flow time: 2610, util : 0.959, makespan : 270\n",
      "n_episode: 713, score : -57.0, n_buffer : 20000, eps : 1.0%\n",
      "--------------------------------------------------\n",
      "flow time: 2676, util : 0.942, makespan : 298\n",
      "n_episode: 714, score : -84.0, n_buffer : 20000, eps : 1.0%\n",
      "--------------------------------------------------\n",
      "flow time: 2470, util : 0.950, makespan : 261\n",
      "n_episode: 715, score : -68.0, n_buffer : 20000, eps : 1.0%\n",
      "--------------------------------------------------\n",
      "flow time: 2627, util : 0.953, makespan : 293\n",
      "n_episode: 716, score : -67.0, n_buffer : 20000, eps : 1.0%\n",
      "--------------------------------------------------\n",
      "flow time: 2576, util : 0.967, makespan : 273\n",
      "n_episode: 717, score : -46.0, n_buffer : 20000, eps : 1.0%\n",
      "--------------------------------------------------\n",
      "flow time: 2576, util : 0.967, makespan : 273\n",
      "n_episode: 718, score : -46.0, n_buffer : 20000, eps : 1.0%\n",
      "--------------------------------------------------\n",
      "flow time: 2624, util : 0.960, makespan : 272\n",
      "n_episode: 719, score : -55.0, n_buffer : 20000, eps : 1.0%\n",
      "--------------------------------------------------\n",
      "flow time: 2698, util : 0.949, makespan : 284\n",
      "n_episode: 720, score : -73.0, n_buffer : 20000, eps : 1.0%\n",
      "--------------------------------------------------\n",
      "flow time: 2576, util : 0.967, makespan : 273\n",
      "n_episode: 721, score : -46.0, n_buffer : 20000, eps : 1.0%\n",
      "--------------------------------------------------\n",
      "flow time: 2711, util : 0.939, makespan : 282\n",
      "n_episode: 722, score : -88.0, n_buffer : 20000, eps : 1.0%\n",
      "--------------------------------------------------\n",
      "flow time: 2792, util : 0.936, makespan : 304\n",
      "n_episode: 723, score : -98.0, n_buffer : 20000, eps : 1.0%\n",
      "--------------------------------------------------\n",
      "flow time: 2548, util : 0.946, makespan : 274\n",
      "n_episode: 724, score : -74.0, n_buffer : 20000, eps : 1.0%\n",
      "--------------------------------------------------\n",
      "flow time: 2599, util : 0.953, makespan : 281\n",
      "n_episode: 725, score : -66.0, n_buffer : 20000, eps : 1.0%\n",
      "--------------------------------------------------\n",
      "flow time: 2576, util : 0.967, makespan : 273\n",
      "n_episode: 726, score : -46.0, n_buffer : 20000, eps : 1.0%\n",
      "--------------------------------------------------\n",
      "flow time: 2644, util : 0.924, makespan : 296\n",
      "n_episode: 727, score : -111.0, n_buffer : 20000, eps : 1.0%\n",
      "--------------------------------------------------\n",
      "flow time: 2599, util : 0.953, makespan : 281\n",
      "n_episode: 728, score : -66.0, n_buffer : 20000, eps : 1.0%\n",
      "--------------------------------------------------\n",
      "flow time: 2705, util : 0.935, makespan : 291\n",
      "n_episode: 729, score : -96.0, n_buffer : 20000, eps : 1.0%\n",
      "--------------------------------------------------\n",
      "flow time: 2700, util : 0.946, makespan : 276\n",
      "n_episode: 730, score : -78.0, n_buffer : 20000, eps : 1.0%\n",
      "--------------------------------------------------\n",
      "flow time: 2576, util : 0.967, makespan : 273\n",
      "n_episode: 731, score : -46.0, n_buffer : 20000, eps : 1.0%\n",
      "--------------------------------------------------\n",
      "flow time: 2576, util : 0.967, makespan : 273\n",
      "n_episode: 732, score : -46.0, n_buffer : 20000, eps : 1.0%\n",
      "--------------------------------------------------\n",
      "flow time: 2613, util : 0.958, makespan : 300\n",
      "n_episode: 733, score : -59.0, n_buffer : 20000, eps : 1.0%\n",
      "--------------------------------------------------\n",
      "flow time: 2576, util : 0.967, makespan : 273\n",
      "n_episode: 734, score : -46.0, n_buffer : 20000, eps : 1.0%\n",
      "--------------------------------------------------\n",
      "flow time: 2630, util : 0.959, makespan : 281\n",
      "n_episode: 735, score : -57.0, n_buffer : 20000, eps : 1.0%\n",
      "--------------------------------------------------\n",
      "flow time: 2576, util : 0.967, makespan : 273\n",
      "n_episode: 736, score : -46.0, n_buffer : 20000, eps : 1.0%\n",
      "--------------------------------------------------\n",
      "flow time: 2576, util : 0.967, makespan : 273\n",
      "n_episode: 737, score : -46.0, n_buffer : 20000, eps : 1.0%\n",
      "--------------------------------------------------\n",
      "flow time: 2805, util : 0.922, makespan : 273\n",
      "n_episode: 738, score : -112.0, n_buffer : 20000, eps : 1.0%\n",
      "--------------------------------------------------\n",
      "flow time: 2975, util : 0.900, makespan : 285\n",
      "n_episode: 739, score : -143.0, n_buffer : 20000, eps : 1.0%\n",
      "--------------------------------------------------\n",
      "flow time: 2905, util : 0.927, makespan : 298\n",
      "n_episode: 740, score : -110.0, n_buffer : 20000, eps : 1.0%\n",
      "--------------------------------------------------\n",
      "flow time: 2875, util : 0.934, makespan : 298\n",
      "n_episode: 741, score : -97.0, n_buffer : 20000, eps : 1.0%\n"
     ]
    },
    {
     "name": "stdout",
     "output_type": "stream",
     "text": [
      "--------------------------------------------------\n",
      "flow time: 2631, util : 0.955, makespan : 293\n",
      "n_episode: 742, score : -65.0, n_buffer : 20000, eps : 1.0%\n",
      "--------------------------------------------------\n",
      "flow time: 2576, util : 0.967, makespan : 273\n",
      "n_episode: 743, score : -46.0, n_buffer : 20000, eps : 1.0%\n",
      "--------------------------------------------------\n",
      "flow time: 2597, util : 0.956, makespan : 280\n",
      "n_episode: 744, score : -62.0, n_buffer : 20000, eps : 1.0%\n",
      "--------------------------------------------------\n",
      "flow time: 2652, util : 0.946, makespan : 301\n",
      "n_episode: 745, score : -78.0, n_buffer : 20000, eps : 1.0%\n",
      "--------------------------------------------------\n",
      "flow time: 2762, util : 0.955, makespan : 298\n",
      "n_episode: 746, score : -65.0, n_buffer : 20000, eps : 1.0%\n",
      "--------------------------------------------------\n",
      "flow time: 2576, util : 0.967, makespan : 273\n",
      "n_episode: 747, score : -46.0, n_buffer : 20000, eps : 1.0%\n",
      "--------------------------------------------------\n",
      "flow time: 2775, util : 0.961, makespan : 300\n",
      "n_episode: 748, score : -57.0, n_buffer : 20000, eps : 1.0%\n",
      "--------------------------------------------------\n",
      "flow time: 2576, util : 0.967, makespan : 273\n",
      "n_episode: 749, score : -46.0, n_buffer : 20000, eps : 1.0%\n",
      "--------------------------------------------------\n",
      "flow time: 2576, util : 0.967, makespan : 273\n",
      "n_episode: 750, score : -46.0, n_buffer : 20000, eps : 1.0%\n",
      "--------------------------------------------------\n",
      "flow time: 2576, util : 0.967, makespan : 273\n",
      "n_episode: 751, score : -46.0, n_buffer : 20000, eps : 1.0%\n",
      "--------------------------------------------------\n",
      "flow time: 2576, util : 0.967, makespan : 273\n",
      "n_episode: 752, score : -46.0, n_buffer : 20000, eps : 1.0%\n",
      "--------------------------------------------------\n",
      "flow time: 2675, util : 0.946, makespan : 305\n",
      "n_episode: 753, score : -79.0, n_buffer : 20000, eps : 1.0%\n",
      "--------------------------------------------------\n",
      "flow time: 2576, util : 0.967, makespan : 273\n",
      "n_episode: 754, score : -46.0, n_buffer : 20000, eps : 1.0%\n",
      "--------------------------------------------------\n",
      "flow time: 2576, util : 0.967, makespan : 273\n",
      "n_episode: 755, score : -46.0, n_buffer : 20000, eps : 1.0%\n",
      "--------------------------------------------------\n",
      "flow time: 2576, util : 0.967, makespan : 273\n",
      "n_episode: 756, score : -46.0, n_buffer : 20000, eps : 1.0%\n",
      "--------------------------------------------------\n",
      "flow time: 2576, util : 0.967, makespan : 273\n",
      "n_episode: 757, score : -46.0, n_buffer : 20000, eps : 1.0%\n",
      "--------------------------------------------------\n",
      "flow time: 2576, util : 0.967, makespan : 273\n",
      "n_episode: 758, score : -46.0, n_buffer : 20000, eps : 1.0%\n",
      "--------------------------------------------------\n",
      "flow time: 2684, util : 0.959, makespan : 295\n",
      "n_episode: 759, score : -58.0, n_buffer : 20000, eps : 1.0%\n",
      "--------------------------------------------------\n",
      "flow time: 2610, util : 0.943, makespan : 267\n",
      "n_episode: 760, score : -80.0, n_buffer : 20000, eps : 1.0%\n",
      "--------------------------------------------------\n",
      "flow time: 2630, util : 0.934, makespan : 267\n",
      "n_episode: 761, score : -94.0, n_buffer : 20000, eps : 1.0%\n",
      "--------------------------------------------------\n",
      "flow time: 2686, util : 0.952, makespan : 275\n",
      "n_episode: 762, score : -69.0, n_buffer : 20000, eps : 1.0%\n",
      "--------------------------------------------------\n",
      "flow time: 2595, util : 0.961, makespan : 273\n",
      "n_episode: 763, score : -54.0, n_buffer : 20000, eps : 1.0%\n",
      "--------------------------------------------------\n",
      "flow time: 2631, util : 0.957, makespan : 296\n",
      "n_episode: 764, score : -59.0, n_buffer : 20000, eps : 1.0%\n",
      "--------------------------------------------------\n",
      "flow time: 2576, util : 0.967, makespan : 273\n",
      "n_episode: 765, score : -46.0, n_buffer : 20000, eps : 1.0%\n",
      "--------------------------------------------------\n",
      "flow time: 2754, util : 0.942, makespan : 286\n",
      "n_episode: 766, score : -83.0, n_buffer : 20000, eps : 1.0%\n",
      "--------------------------------------------------\n",
      "flow time: 2703, util : 0.938, makespan : 282\n",
      "n_episode: 767, score : -89.0, n_buffer : 20000, eps : 1.0%\n",
      "--------------------------------------------------\n",
      "flow time: 2576, util : 0.967, makespan : 273\n",
      "n_episode: 768, score : -46.0, n_buffer : 20000, eps : 1.0%\n",
      "--------------------------------------------------\n",
      "flow time: 2576, util : 0.967, makespan : 273\n",
      "n_episode: 769, score : -46.0, n_buffer : 20000, eps : 1.0%\n",
      "--------------------------------------------------\n",
      "flow time: 2576, util : 0.967, makespan : 273\n",
      "n_episode: 770, score : -46.0, n_buffer : 20000, eps : 1.0%\n",
      "--------------------------------------------------\n",
      "flow time: 2620, util : 0.938, makespan : 283\n",
      "n_episode: 771, score : -88.0, n_buffer : 20000, eps : 1.0%\n",
      "--------------------------------------------------\n",
      "flow time: 2607, util : 0.969, makespan : 277\n",
      "n_episode: 772, score : -44.0, n_buffer : 20000, eps : 1.0%\n",
      "--------------------------------------------------\n",
      "flow time: 2599, util : 0.953, makespan : 281\n",
      "n_episode: 773, score : -66.0, n_buffer : 20000, eps : 1.0%\n",
      "--------------------------------------------------\n",
      "flow time: 2576, util : 0.967, makespan : 273\n",
      "n_episode: 774, score : -46.0, n_buffer : 20000, eps : 1.0%\n",
      "--------------------------------------------------\n",
      "flow time: 2734, util : 0.957, makespan : 283\n",
      "n_episode: 775, score : -62.0, n_buffer : 20000, eps : 1.0%\n",
      "--------------------------------------------------\n",
      "flow time: 2668, util : 0.922, makespan : 292\n",
      "n_episode: 776, score : -117.0, n_buffer : 20000, eps : 1.0%\n",
      "--------------------------------------------------\n",
      "flow time: 2648, util : 0.958, makespan : 291\n",
      "n_episode: 777, score : -60.0, n_buffer : 20000, eps : 1.0%\n",
      "--------------------------------------------------\n",
      "flow time: 2576, util : 0.967, makespan : 273\n",
      "n_episode: 778, score : -46.0, n_buffer : 20000, eps : 1.0%\n",
      "--------------------------------------------------\n",
      "flow time: 2684, util : 0.955, makespan : 290\n",
      "n_episode: 779, score : -63.0, n_buffer : 20000, eps : 1.0%\n",
      "--------------------------------------------------\n",
      "flow time: 2614, util : 0.947, makespan : 279\n",
      "n_episode: 780, score : -75.0, n_buffer : 20000, eps : 1.0%\n",
      "--------------------------------------------------\n",
      "flow time: 2633, util : 0.942, makespan : 267\n",
      "n_episode: 781, score : -83.0, n_buffer : 20000, eps : 1.0%\n",
      "--------------------------------------------------\n",
      "flow time: 2642, util : 0.931, makespan : 282\n",
      "n_episode: 782, score : -101.0, n_buffer : 20000, eps : 1.0%\n",
      "--------------------------------------------------\n",
      "flow time: 2576, util : 0.967, makespan : 273\n",
      "n_episode: 783, score : -46.0, n_buffer : 20000, eps : 1.0%\n",
      "--------------------------------------------------\n",
      "flow time: 2682, util : 0.947, makespan : 298\n",
      "n_episode: 784, score : -76.0, n_buffer : 20000, eps : 1.0%\n",
      "--------------------------------------------------\n",
      "flow time: 2654, util : 0.951, makespan : 293\n",
      "n_episode: 785, score : -69.0, n_buffer : 20000, eps : 1.0%\n",
      "--------------------------------------------------\n",
      "flow time: 2639, util : 0.933, makespan : 288\n",
      "n_episode: 786, score : -94.0, n_buffer : 20000, eps : 1.0%\n",
      "--------------------------------------------------\n",
      "flow time: 2619, util : 0.947, makespan : 279\n",
      "n_episode: 787, score : -75.0, n_buffer : 20000, eps : 1.0%\n",
      "--------------------------------------------------\n",
      "flow time: 2599, util : 0.953, makespan : 281\n",
      "n_episode: 788, score : -66.0, n_buffer : 20000, eps : 1.0%\n",
      "--------------------------------------------------\n",
      "flow time: 2576, util : 0.967, makespan : 273\n",
      "n_episode: 789, score : -46.0, n_buffer : 20000, eps : 1.0%\n",
      "--------------------------------------------------\n",
      "flow time: 2576, util : 0.967, makespan : 273\n",
      "n_episode: 790, score : -46.0, n_buffer : 20000, eps : 1.0%\n",
      "--------------------------------------------------\n",
      "flow time: 2576, util : 0.967, makespan : 273\n",
      "n_episode: 791, score : -46.0, n_buffer : 20000, eps : 1.0%\n",
      "--------------------------------------------------\n",
      "flow time: 2620, util : 0.955, makespan : 293\n",
      "n_episode: 792, score : -65.0, n_buffer : 20000, eps : 1.0%\n",
      "--------------------------------------------------\n",
      "flow time: 2597, util : 0.959, makespan : 303\n",
      "n_episode: 793, score : -57.0, n_buffer : 20000, eps : 1.0%\n",
      "--------------------------------------------------\n",
      "flow time: 2576, util : 0.967, makespan : 273\n",
      "n_episode: 794, score : -46.0, n_buffer : 20000, eps : 1.0%\n"
     ]
    },
    {
     "name": "stdout",
     "output_type": "stream",
     "text": [
      "--------------------------------------------------\n",
      "flow time: 2569, util : 0.959, makespan : 273\n",
      "n_episode: 795, score : -56.0, n_buffer : 20000, eps : 1.0%\n",
      "--------------------------------------------------\n",
      "flow time: 2705, util : 0.917, makespan : 291\n",
      "n_episode: 796, score : -123.0, n_buffer : 20000, eps : 1.0%\n",
      "--------------------------------------------------\n",
      "flow time: 2631, util : 0.957, makespan : 296\n",
      "n_episode: 797, score : -59.0, n_buffer : 20000, eps : 1.0%\n",
      "--------------------------------------------------\n",
      "flow time: 2751, util : 0.942, makespan : 302\n",
      "n_episode: 798, score : -82.0, n_buffer : 20000, eps : 1.0%\n",
      "--------------------------------------------------\n",
      "flow time: 2576, util : 0.967, makespan : 273\n",
      "n_episode: 799, score : -46.0, n_buffer : 20000, eps : 1.0%\n",
      "--------------------------------------------------\n",
      "flow time: 2608, util : 0.964, makespan : 293\n",
      "n_episode: 800, score : -50.0, n_buffer : 20000, eps : 1.0%\n",
      "--------------------------------------------------\n",
      "flow time: 2652, util : 0.942, makespan : 299\n",
      "n_episode: 801, score : -85.0, n_buffer : 20000, eps : 1.0%\n",
      "--------------------------------------------------\n",
      "flow time: 2576, util : 0.967, makespan : 273\n",
      "n_episode: 802, score : -46.0, n_buffer : 20000, eps : 1.0%\n",
      "--------------------------------------------------\n",
      "flow time: 2576, util : 0.967, makespan : 273\n",
      "n_episode: 803, score : -46.0, n_buffer : 20000, eps : 1.0%\n",
      "--------------------------------------------------\n",
      "flow time: 2751, util : 0.952, makespan : 298\n",
      "n_episode: 804, score : -71.0, n_buffer : 20000, eps : 1.0%\n",
      "--------------------------------------------------\n",
      "flow time: 2612, util : 0.934, makespan : 280\n",
      "n_episode: 805, score : -95.0, n_buffer : 20000, eps : 1.0%\n",
      "--------------------------------------------------\n",
      "flow time: 2601, util : 0.931, makespan : 291\n",
      "n_episode: 806, score : -97.0, n_buffer : 20000, eps : 1.0%\n",
      "--------------------------------------------------\n",
      "flow time: 2835, util : 0.952, makespan : 295\n",
      "n_episode: 807, score : -72.0, n_buffer : 20000, eps : 1.0%\n",
      "--------------------------------------------------\n",
      "flow time: 2576, util : 0.967, makespan : 273\n",
      "n_episode: 808, score : -46.0, n_buffer : 20000, eps : 1.0%\n",
      "--------------------------------------------------\n",
      "flow time: 2619, util : 0.933, makespan : 276\n",
      "n_episode: 809, score : -96.0, n_buffer : 20000, eps : 1.0%\n",
      "--------------------------------------------------\n",
      "flow time: 2615, util : 0.929, makespan : 289\n",
      "n_episode: 810, score : -102.0, n_buffer : 20000, eps : 1.0%\n",
      "--------------------------------------------------\n",
      "flow time: 2576, util : 0.967, makespan : 273\n",
      "n_episode: 811, score : -46.0, n_buffer : 20000, eps : 1.0%\n",
      "--------------------------------------------------\n",
      "flow time: 2576, util : 0.967, makespan : 273\n",
      "n_episode: 812, score : -46.0, n_buffer : 20000, eps : 1.0%\n",
      "--------------------------------------------------\n",
      "flow time: 2715, util : 0.952, makespan : 301\n",
      "n_episode: 813, score : -69.0, n_buffer : 20000, eps : 1.0%\n",
      "--------------------------------------------------\n",
      "flow time: 2645, util : 0.959, makespan : 291\n",
      "n_episode: 814, score : -59.0, n_buffer : 20000, eps : 1.0%\n",
      "--------------------------------------------------\n",
      "flow time: 2938, util : 0.932, makespan : 283\n",
      "n_episode: 815, score : -99.0, n_buffer : 20000, eps : 1.0%\n",
      "--------------------------------------------------\n",
      "flow time: 2963, util : 0.932, makespan : 282\n",
      "n_episode: 816, score : -99.0, n_buffer : 20000, eps : 1.0%\n",
      "--------------------------------------------------\n",
      "flow time: 3260, util : 0.926, makespan : 252\n",
      "n_episode: 817, score : -110.0, n_buffer : 20000, eps : 1.0%\n",
      "--------------------------------------------------\n",
      "flow time: 3228, util : 0.924, makespan : 260\n",
      "n_episode: 818, score : -111.0, n_buffer : 20000, eps : 1.0%\n",
      "--------------------------------------------------\n",
      "flow time: 3262, util : 0.922, makespan : 281\n",
      "n_episode: 819, score : -119.0, n_buffer : 20000, eps : 1.0%\n",
      "--------------------------------------------------\n",
      "flow time: 2901, util : 0.937, makespan : 279\n",
      "n_episode: 820, score : -92.0, n_buffer : 20000, eps : 1.0%\n",
      "--------------------------------------------------\n",
      "flow time: 2576, util : 0.967, makespan : 273\n",
      "n_episode: 821, score : -46.0, n_buffer : 20000, eps : 1.0%\n",
      "--------------------------------------------------\n",
      "flow time: 2576, util : 0.967, makespan : 273\n",
      "n_episode: 822, score : -46.0, n_buffer : 20000, eps : 1.0%\n",
      "--------------------------------------------------\n",
      "flow time: 2576, util : 0.967, makespan : 273\n",
      "n_episode: 823, score : -46.0, n_buffer : 20000, eps : 1.0%\n",
      "--------------------------------------------------\n",
      "flow time: 2576, util : 0.967, makespan : 273\n",
      "n_episode: 824, score : -46.0, n_buffer : 20000, eps : 1.0%\n",
      "--------------------------------------------------\n",
      "flow time: 2711, util : 0.945, makespan : 284\n",
      "n_episode: 825, score : -79.0, n_buffer : 20000, eps : 1.0%\n",
      "--------------------------------------------------\n",
      "flow time: 2620, util : 0.968, makespan : 267\n",
      "n_episode: 826, score : -46.0, n_buffer : 20000, eps : 1.0%\n",
      "--------------------------------------------------\n",
      "flow time: 2576, util : 0.967, makespan : 273\n",
      "n_episode: 827, score : -46.0, n_buffer : 20000, eps : 1.0%\n",
      "--------------------------------------------------\n",
      "flow time: 2577, util : 0.950, makespan : 267\n",
      "n_episode: 828, score : -69.0, n_buffer : 20000, eps : 1.0%\n",
      "--------------------------------------------------\n",
      "flow time: 2592, util : 0.959, makespan : 281\n",
      "n_episode: 829, score : -56.0, n_buffer : 20000, eps : 1.0%\n",
      "--------------------------------------------------\n",
      "flow time: 2576, util : 0.967, makespan : 273\n",
      "n_episode: 830, score : -46.0, n_buffer : 20000, eps : 1.0%\n",
      "--------------------------------------------------\n",
      "flow time: 2576, util : 0.967, makespan : 273\n",
      "n_episode: 831, score : -46.0, n_buffer : 20000, eps : 1.0%\n",
      "--------------------------------------------------\n",
      "flow time: 2576, util : 0.967, makespan : 273\n",
      "n_episode: 832, score : -46.0, n_buffer : 20000, eps : 1.0%\n",
      "--------------------------------------------------\n",
      "flow time: 2620, util : 0.937, makespan : 289\n",
      "n_episode: 833, score : -89.0, n_buffer : 20000, eps : 1.0%\n",
      "--------------------------------------------------\n",
      "flow time: 2576, util : 0.967, makespan : 273\n",
      "n_episode: 834, score : -46.0, n_buffer : 20000, eps : 1.0%\n",
      "--------------------------------------------------\n",
      "flow time: 2576, util : 0.967, makespan : 273\n",
      "n_episode: 835, score : -46.0, n_buffer : 20000, eps : 1.0%\n",
      "--------------------------------------------------\n",
      "flow time: 2568, util : 0.958, makespan : 273\n",
      "n_episode: 836, score : -58.0, n_buffer : 20000, eps : 1.0%\n",
      "--------------------------------------------------\n",
      "flow time: 2576, util : 0.967, makespan : 273\n",
      "n_episode: 837, score : -46.0, n_buffer : 20000, eps : 1.0%\n",
      "--------------------------------------------------\n",
      "flow time: 2624, util : 0.953, makespan : 293\n",
      "n_episode: 838, score : -67.0, n_buffer : 20000, eps : 1.0%\n",
      "--------------------------------------------------\n",
      "flow time: 2654, util : 0.946, makespan : 291\n",
      "n_episode: 839, score : -78.0, n_buffer : 20000, eps : 1.0%\n",
      "--------------------------------------------------\n",
      "flow time: 2627, util : 0.953, makespan : 293\n",
      "n_episode: 840, score : -67.0, n_buffer : 20000, eps : 1.0%\n",
      "--------------------------------------------------\n",
      "flow time: 2645, util : 0.959, makespan : 291\n",
      "n_episode: 841, score : -59.0, n_buffer : 20000, eps : 1.0%\n",
      "--------------------------------------------------\n",
      "flow time: 2610, util : 0.959, makespan : 270\n",
      "n_episode: 842, score : -57.0, n_buffer : 20000, eps : 1.0%\n",
      "--------------------------------------------------\n",
      "flow time: 2698, util : 0.953, makespan : 290\n",
      "n_episode: 843, score : -68.0, n_buffer : 20000, eps : 1.0%\n",
      "--------------------------------------------------\n",
      "flow time: 2630, util : 0.969, makespan : 266\n",
      "n_episode: 844, score : -43.0, n_buffer : 20000, eps : 1.0%\n",
      "--------------------------------------------------\n",
      "flow time: 2597, util : 0.970, makespan : 273\n",
      "n_episode: 845, score : -42.0, n_buffer : 20000, eps : 1.0%\n",
      "--------------------------------------------------\n",
      "flow time: 2667, util : 0.939, makespan : 285\n",
      "n_episode: 846, score : -86.0, n_buffer : 20000, eps : 1.0%\n",
      "--------------------------------------------------\n",
      "flow time: 2648, util : 0.958, makespan : 291\n",
      "n_episode: 847, score : -60.0, n_buffer : 20000, eps : 1.0%\n"
     ]
    },
    {
     "name": "stdout",
     "output_type": "stream",
     "text": [
      "--------------------------------------------------\n",
      "flow time: 2648, util : 0.958, makespan : 291\n",
      "n_episode: 848, score : -60.0, n_buffer : 20000, eps : 1.0%\n",
      "--------------------------------------------------\n",
      "flow time: 2619, util : 0.933, makespan : 276\n",
      "n_episode: 849, score : -96.0, n_buffer : 20000, eps : 1.0%\n",
      "--------------------------------------------------\n",
      "flow time: 2576, util : 0.967, makespan : 273\n",
      "n_episode: 850, score : -46.0, n_buffer : 20000, eps : 1.0%\n",
      "--------------------------------------------------\n",
      "flow time: 2638, util : 0.951, makespan : 285\n",
      "n_episode: 851, score : -69.0, n_buffer : 20000, eps : 1.0%\n",
      "--------------------------------------------------\n",
      "flow time: 2668, util : 0.922, makespan : 292\n",
      "n_episode: 852, score : -117.0, n_buffer : 20000, eps : 1.0%\n",
      "--------------------------------------------------\n",
      "flow time: 2640, util : 0.946, makespan : 279\n",
      "n_episode: 853, score : -76.0, n_buffer : 20000, eps : 1.0%\n",
      "--------------------------------------------------\n",
      "flow time: 2597, util : 0.970, makespan : 273\n",
      "n_episode: 854, score : -42.0, n_buffer : 20000, eps : 1.0%\n",
      "--------------------------------------------------\n",
      "flow time: 2624, util : 0.955, makespan : 273\n",
      "n_episode: 855, score : -64.0, n_buffer : 20000, eps : 1.0%\n",
      "--------------------------------------------------\n",
      "flow time: 2614, util : 0.947, makespan : 273\n",
      "n_episode: 856, score : -75.0, n_buffer : 20000, eps : 1.0%\n",
      "--------------------------------------------------\n",
      "flow time: 2576, util : 0.967, makespan : 273\n",
      "n_episode: 857, score : -46.0, n_buffer : 20000, eps : 1.0%\n",
      "--------------------------------------------------\n",
      "flow time: 2884, util : 0.924, makespan : 279\n",
      "n_episode: 858, score : -111.0, n_buffer : 20000, eps : 1.0%\n",
      "--------------------------------------------------\n",
      "flow time: 2651, util : 0.955, makespan : 286\n",
      "n_episode: 859, score : -65.0, n_buffer : 20000, eps : 1.0%\n",
      "--------------------------------------------------\n",
      "flow time: 2576, util : 0.967, makespan : 273\n",
      "n_episode: 860, score : -46.0, n_buffer : 20000, eps : 1.0%\n",
      "--------------------------------------------------\n",
      "flow time: 2576, util : 0.967, makespan : 273\n",
      "n_episode: 861, score : -46.0, n_buffer : 20000, eps : 1.0%\n",
      "--------------------------------------------------\n",
      "flow time: 2731, util : 0.957, makespan : 304\n",
      "n_episode: 862, score : -62.0, n_buffer : 20000, eps : 1.0%\n",
      "--------------------------------------------------\n",
      "flow time: 2635, util : 0.955, makespan : 293\n",
      "n_episode: 863, score : -65.0, n_buffer : 20000, eps : 1.0%\n",
      "--------------------------------------------------\n",
      "flow time: 2596, util : 0.949, makespan : 267\n",
      "n_episode: 864, score : -70.0, n_buffer : 20000, eps : 1.0%\n",
      "--------------------------------------------------\n",
      "flow time: 2854, util : 0.938, makespan : 260\n",
      "n_episode: 865, score : -84.0, n_buffer : 20000, eps : 1.0%\n",
      "--------------------------------------------------\n",
      "flow time: 2557, util : 0.955, makespan : 273\n",
      "n_episode: 866, score : -61.0, n_buffer : 20000, eps : 1.0%\n",
      "--------------------------------------------------\n",
      "flow time: 2576, util : 0.967, makespan : 273\n",
      "n_episode: 867, score : -46.0, n_buffer : 20000, eps : 1.0%\n",
      "--------------------------------------------------\n",
      "flow time: 2576, util : 0.967, makespan : 273\n",
      "n_episode: 868, score : -46.0, n_buffer : 20000, eps : 1.0%\n",
      "--------------------------------------------------\n",
      "flow time: 2576, util : 0.967, makespan : 273\n",
      "n_episode: 869, score : -46.0, n_buffer : 20000, eps : 1.0%\n",
      "--------------------------------------------------\n",
      "flow time: 2576, util : 0.967, makespan : 273\n",
      "n_episode: 870, score : -46.0, n_buffer : 20000, eps : 1.0%\n",
      "--------------------------------------------------\n",
      "flow time: 2614, util : 0.947, makespan : 279\n",
      "n_episode: 871, score : -75.0, n_buffer : 20000, eps : 1.0%\n",
      "--------------------------------------------------\n",
      "flow time: 2668, util : 0.922, makespan : 292\n",
      "n_episode: 872, score : -117.0, n_buffer : 20000, eps : 1.0%\n",
      "--------------------------------------------------\n",
      "flow time: 2645, util : 0.959, makespan : 291\n",
      "n_episode: 873, score : -59.0, n_buffer : 20000, eps : 1.0%\n",
      "--------------------------------------------------\n",
      "flow time: 2733, util : 0.943, makespan : 294\n",
      "n_episode: 874, score : -83.0, n_buffer : 20000, eps : 1.0%\n",
      "--------------------------------------------------\n",
      "flow time: 2576, util : 0.967, makespan : 273\n",
      "n_episode: 875, score : -46.0, n_buffer : 20000, eps : 1.0%\n",
      "--------------------------------------------------\n",
      "flow time: 2576, util : 0.967, makespan : 273\n",
      "n_episode: 876, score : -46.0, n_buffer : 20000, eps : 1.0%\n",
      "--------------------------------------------------\n",
      "flow time: 3053, util : 0.940, makespan : 270\n",
      "n_episode: 877, score : -86.0, n_buffer : 20000, eps : 1.0%\n",
      "--------------------------------------------------\n",
      "flow time: 3148, util : 0.928, makespan : 277\n",
      "n_episode: 878, score : -101.0, n_buffer : 20000, eps : 1.0%\n",
      "--------------------------------------------------\n",
      "flow time: 2630, util : 0.969, makespan : 266\n",
      "n_episode: 879, score : -43.0, n_buffer : 20000, eps : 1.0%\n",
      "--------------------------------------------------\n",
      "flow time: 2645, util : 0.960, makespan : 280\n",
      "n_episode: 880, score : -56.0, n_buffer : 20000, eps : 1.0%\n",
      "--------------------------------------------------\n",
      "flow time: 2675, util : 0.951, makespan : 299\n",
      "n_episode: 881, score : -71.0, n_buffer : 20000, eps : 1.0%\n",
      "--------------------------------------------------\n",
      "flow time: 2725, util : 0.955, makespan : 290\n",
      "n_episode: 882, score : -65.0, n_buffer : 20000, eps : 1.0%\n",
      "--------------------------------------------------\n",
      "flow time: 2576, util : 0.967, makespan : 273\n",
      "n_episode: 883, score : -46.0, n_buffer : 20000, eps : 1.0%\n",
      "--------------------------------------------------\n",
      "flow time: 2682, util : 0.947, makespan : 298\n",
      "n_episode: 884, score : -76.0, n_buffer : 20000, eps : 1.0%\n",
      "--------------------------------------------------\n",
      "flow time: 2612, util : 0.934, makespan : 280\n",
      "n_episode: 885, score : -95.0, n_buffer : 20000, eps : 1.0%\n",
      "--------------------------------------------------\n",
      "flow time: 2648, util : 0.961, makespan : 278\n",
      "n_episode: 886, score : -55.0, n_buffer : 20000, eps : 1.0%\n",
      "--------------------------------------------------\n",
      "flow time: 2576, util : 0.967, makespan : 273\n",
      "n_episode: 887, score : -46.0, n_buffer : 20000, eps : 1.0%\n",
      "--------------------------------------------------\n",
      "flow time: 2699, util : 0.950, makespan : 300\n",
      "n_episode: 888, score : -71.0, n_buffer : 20000, eps : 1.0%\n",
      "--------------------------------------------------\n",
      "flow time: 2610, util : 0.947, makespan : 266\n",
      "n_episode: 889, score : -73.0, n_buffer : 20000, eps : 1.0%\n",
      "--------------------------------------------------\n",
      "flow time: 2576, util : 0.967, makespan : 273\n",
      "n_episode: 890, score : -46.0, n_buffer : 20000, eps : 1.0%\n",
      "--------------------------------------------------\n",
      "flow time: 2698, util : 0.932, makespan : 305\n",
      "n_episode: 891, score : -100.0, n_buffer : 20000, eps : 1.0%\n",
      "--------------------------------------------------\n",
      "flow time: 2614, util : 0.961, makespan : 299\n",
      "n_episode: 892, score : -55.0, n_buffer : 20000, eps : 1.0%\n",
      "--------------------------------------------------\n",
      "flow time: 2576, util : 0.967, makespan : 273\n",
      "n_episode: 893, score : -46.0, n_buffer : 20000, eps : 1.0%\n",
      "--------------------------------------------------\n",
      "flow time: 2576, util : 0.967, makespan : 273\n",
      "n_episode: 894, score : -46.0, n_buffer : 20000, eps : 1.0%\n",
      "--------------------------------------------------\n",
      "flow time: 2599, util : 0.953, makespan : 281\n",
      "n_episode: 895, score : -66.0, n_buffer : 20000, eps : 1.0%\n",
      "--------------------------------------------------\n",
      "flow time: 2576, util : 0.967, makespan : 273\n",
      "n_episode: 896, score : -46.0, n_buffer : 20000, eps : 1.0%\n",
      "--------------------------------------------------\n",
      "flow time: 2576, util : 0.967, makespan : 273\n",
      "n_episode: 897, score : -46.0, n_buffer : 20000, eps : 1.0%\n",
      "--------------------------------------------------\n",
      "flow time: 2614, util : 0.968, makespan : 293\n",
      "n_episode: 898, score : -44.0, n_buffer : 20000, eps : 1.0%\n",
      "--------------------------------------------------\n",
      "flow time: 2576, util : 0.967, makespan : 273\n",
      "n_episode: 899, score : -46.0, n_buffer : 20000, eps : 1.0%\n",
      "--------------------------------------------------\n",
      "flow time: 2576, util : 0.967, makespan : 273\n",
      "n_episode: 900, score : -46.0, n_buffer : 20000, eps : 1.0%\n"
     ]
    },
    {
     "name": "stdout",
     "output_type": "stream",
     "text": [
      "--------------------------------------------------\n",
      "flow time: 2764, util : 0.950, makespan : 307\n",
      "n_episode: 901, score : -75.0, n_buffer : 20000, eps : 1.0%\n",
      "--------------------------------------------------\n",
      "flow time: 2576, util : 0.967, makespan : 273\n",
      "n_episode: 902, score : -46.0, n_buffer : 20000, eps : 1.0%\n",
      "--------------------------------------------------\n",
      "flow time: 2632, util : 0.930, makespan : 277\n",
      "n_episode: 903, score : -100.0, n_buffer : 20000, eps : 1.0%\n",
      "--------------------------------------------------\n",
      "flow time: 2576, util : 0.967, makespan : 273\n",
      "n_episode: 904, score : -46.0, n_buffer : 20000, eps : 1.0%\n",
      "--------------------------------------------------\n",
      "flow time: 2576, util : 0.967, makespan : 273\n",
      "n_episode: 905, score : -46.0, n_buffer : 20000, eps : 1.0%\n",
      "--------------------------------------------------\n",
      "flow time: 2576, util : 0.967, makespan : 273\n",
      "n_episode: 906, score : -46.0, n_buffer : 20000, eps : 1.0%\n",
      "--------------------------------------------------\n",
      "flow time: 2631, util : 0.958, makespan : 274\n",
      "n_episode: 907, score : -59.0, n_buffer : 20000, eps : 1.0%\n",
      "--------------------------------------------------\n",
      "flow time: 2576, util : 0.967, makespan : 273\n",
      "n_episode: 908, score : -46.0, n_buffer : 20000, eps : 1.0%\n",
      "--------------------------------------------------\n",
      "flow time: 2599, util : 0.953, makespan : 281\n",
      "n_episode: 909, score : -66.0, n_buffer : 20000, eps : 1.0%\n",
      "--------------------------------------------------\n",
      "flow time: 2576, util : 0.967, makespan : 273\n",
      "n_episode: 910, score : -46.0, n_buffer : 20000, eps : 1.0%\n",
      "--------------------------------------------------\n",
      "flow time: 2576, util : 0.967, makespan : 273\n",
      "n_episode: 911, score : -46.0, n_buffer : 20000, eps : 1.0%\n",
      "--------------------------------------------------\n",
      "flow time: 2698, util : 0.958, makespan : 296\n",
      "n_episode: 912, score : -61.0, n_buffer : 20000, eps : 1.0%\n",
      "--------------------------------------------------\n",
      "flow time: 2800, util : 0.943, makespan : 284\n",
      "n_episode: 913, score : -85.0, n_buffer : 20000, eps : 1.0%\n",
      "--------------------------------------------------\n",
      "flow time: 2576, util : 0.967, makespan : 273\n",
      "n_episode: 914, score : -46.0, n_buffer : 20000, eps : 1.0%\n",
      "--------------------------------------------------\n",
      "flow time: 2599, util : 0.953, makespan : 281\n",
      "n_episode: 915, score : -66.0, n_buffer : 20000, eps : 1.0%\n",
      "--------------------------------------------------\n",
      "flow time: 2576, util : 0.967, makespan : 273\n",
      "n_episode: 916, score : -46.0, n_buffer : 20000, eps : 1.0%\n",
      "--------------------------------------------------\n",
      "flow time: 3014, util : 0.936, makespan : 274\n",
      "n_episode: 917, score : -91.0, n_buffer : 20000, eps : 1.0%\n",
      "--------------------------------------------------\n",
      "flow time: 2604, util : 0.921, makespan : 284\n",
      "n_episode: 918, score : -112.0, n_buffer : 20000, eps : 1.0%\n",
      "--------------------------------------------------\n",
      "flow time: 2576, util : 0.967, makespan : 273\n",
      "n_episode: 919, score : -46.0, n_buffer : 20000, eps : 1.0%\n",
      "--------------------------------------------------\n",
      "flow time: 2576, util : 0.967, makespan : 273\n",
      "n_episode: 920, score : -46.0, n_buffer : 20000, eps : 1.0%\n",
      "--------------------------------------------------\n",
      "flow time: 2745, util : 0.943, makespan : 293\n",
      "n_episode: 921, score : -84.0, n_buffer : 20000, eps : 1.0%\n",
      "--------------------------------------------------\n",
      "flow time: 2576, util : 0.967, makespan : 273\n",
      "n_episode: 922, score : -46.0, n_buffer : 20000, eps : 1.0%\n",
      "--------------------------------------------------\n",
      "flow time: 2576, util : 0.967, makespan : 273\n",
      "n_episode: 923, score : -46.0, n_buffer : 20000, eps : 1.0%\n",
      "--------------------------------------------------\n",
      "flow time: 2792, util : 0.936, makespan : 304\n",
      "n_episode: 924, score : -98.0, n_buffer : 20000, eps : 1.0%\n",
      "--------------------------------------------------\n",
      "flow time: 2576, util : 0.967, makespan : 273\n",
      "n_episode: 925, score : -46.0, n_buffer : 20000, eps : 1.0%\n",
      "--------------------------------------------------\n",
      "flow time: 2689, util : 0.943, makespan : 283\n",
      "n_episode: 926, score : -82.0, n_buffer : 20000, eps : 1.0%\n",
      "--------------------------------------------------\n",
      "flow time: 2576, util : 0.967, makespan : 273\n",
      "n_episode: 927, score : -46.0, n_buffer : 20000, eps : 1.0%\n",
      "--------------------------------------------------\n",
      "flow time: 2646, util : 0.955, makespan : 288\n",
      "n_episode: 928, score : -64.0, n_buffer : 20000, eps : 1.0%\n",
      "--------------------------------------------------\n",
      "flow time: 2609, util : 0.957, makespan : 285\n",
      "n_episode: 929, score : -60.0, n_buffer : 20000, eps : 1.0%\n",
      "--------------------------------------------------\n",
      "flow time: 2597, util : 0.962, makespan : 273\n",
      "n_episode: 930, score : -53.0, n_buffer : 20000, eps : 1.0%\n",
      "--------------------------------------------------\n",
      "flow time: 2778, util : 0.942, makespan : 277\n",
      "n_episode: 931, score : -86.0, n_buffer : 20000, eps : 1.0%\n",
      "--------------------------------------------------\n",
      "flow time: 2576, util : 0.967, makespan : 273\n",
      "n_episode: 932, score : -46.0, n_buffer : 20000, eps : 1.0%\n",
      "--------------------------------------------------\n",
      "flow time: 2576, util : 0.967, makespan : 273\n",
      "n_episode: 933, score : -46.0, n_buffer : 20000, eps : 1.0%\n",
      "--------------------------------------------------\n",
      "flow time: 2576, util : 0.967, makespan : 273\n",
      "n_episode: 934, score : -46.0, n_buffer : 20000, eps : 1.0%\n",
      "--------------------------------------------------\n",
      "flow time: 2636, util : 0.932, makespan : 286\n",
      "n_episode: 935, score : -97.0, n_buffer : 20000, eps : 1.0%\n",
      "--------------------------------------------------\n",
      "flow time: 2576, util : 0.967, makespan : 273\n",
      "n_episode: 936, score : -46.0, n_buffer : 20000, eps : 1.0%\n",
      "--------------------------------------------------\n",
      "flow time: 2614, util : 0.947, makespan : 279\n",
      "n_episode: 937, score : -75.0, n_buffer : 20000, eps : 1.0%\n",
      "--------------------------------------------------\n",
      "flow time: 2623, util : 0.960, makespan : 293\n",
      "n_episode: 938, score : -57.0, n_buffer : 20000, eps : 1.0%\n",
      "--------------------------------------------------\n",
      "flow time: 2576, util : 0.967, makespan : 273\n",
      "n_episode: 939, score : -46.0, n_buffer : 20000, eps : 1.0%\n",
      "--------------------------------------------------\n",
      "flow time: 2645, util : 0.959, makespan : 291\n",
      "n_episode: 940, score : -59.0, n_buffer : 20000, eps : 1.0%\n",
      "--------------------------------------------------\n",
      "flow time: 2576, util : 0.967, makespan : 273\n",
      "n_episode: 941, score : -46.0, n_buffer : 20000, eps : 1.0%\n",
      "--------------------------------------------------\n",
      "flow time: 2576, util : 0.967, makespan : 273\n",
      "n_episode: 942, score : -46.0, n_buffer : 20000, eps : 1.0%\n",
      "--------------------------------------------------\n",
      "flow time: 2576, util : 0.967, makespan : 273\n",
      "n_episode: 943, score : -46.0, n_buffer : 20000, eps : 1.0%\n",
      "--------------------------------------------------\n",
      "flow time: 2576, util : 0.967, makespan : 273\n",
      "n_episode: 944, score : -46.0, n_buffer : 20000, eps : 1.0%\n",
      "--------------------------------------------------\n",
      "flow time: 2598, util : 0.961, makespan : 266\n",
      "n_episode: 945, score : -54.0, n_buffer : 20000, eps : 1.0%\n",
      "--------------------------------------------------\n",
      "flow time: 2591, util : 0.952, makespan : 277\n",
      "n_episode: 946, score : -67.0, n_buffer : 20000, eps : 1.0%\n",
      "--------------------------------------------------\n",
      "flow time: 2652, util : 0.953, makespan : 293\n",
      "n_episode: 947, score : -67.0, n_buffer : 20000, eps : 1.0%\n",
      "--------------------------------------------------\n",
      "flow time: 2910, util : 0.938, makespan : 308\n",
      "n_episode: 948, score : -94.0, n_buffer : 20000, eps : 1.0%\n",
      "--------------------------------------------------\n",
      "flow time: 2752, util : 0.947, makespan : 305\n",
      "n_episode: 949, score : -77.0, n_buffer : 20000, eps : 1.0%\n",
      "--------------------------------------------------\n",
      "flow time: 2889, util : 0.950, makespan : 281\n",
      "n_episode: 950, score : -71.0, n_buffer : 20000, eps : 1.0%\n",
      "--------------------------------------------------\n",
      "flow time: 3323, util : 0.906, makespan : 302\n",
      "n_episode: 951, score : -147.0, n_buffer : 20000, eps : 1.0%\n",
      "--------------------------------------------------\n",
      "flow time: 3291, util : 0.936, makespan : 289\n",
      "n_episode: 952, score : -95.0, n_buffer : 20000, eps : 1.0%\n",
      "--------------------------------------------------\n",
      "flow time: 3297, util : 0.933, makespan : 302\n",
      "n_episode: 953, score : -102.0, n_buffer : 20000, eps : 1.0%\n"
     ]
    },
    {
     "name": "stdout",
     "output_type": "stream",
     "text": [
      "--------------------------------------------------\n",
      "flow time: 3054, util : 0.946, makespan : 301\n",
      "n_episode: 954, score : -81.0, n_buffer : 20000, eps : 1.0%\n",
      "--------------------------------------------------\n",
      "flow time: 2653, util : 0.954, makespan : 280\n",
      "n_episode: 955, score : -64.0, n_buffer : 20000, eps : 1.0%\n",
      "--------------------------------------------------\n",
      "flow time: 2595, util : 0.961, makespan : 273\n",
      "n_episode: 956, score : -54.0, n_buffer : 20000, eps : 1.0%\n",
      "--------------------------------------------------\n",
      "flow time: 2576, util : 0.967, makespan : 273\n",
      "n_episode: 957, score : -46.0, n_buffer : 20000, eps : 1.0%\n",
      "--------------------------------------------------\n",
      "flow time: 2576, util : 0.967, makespan : 273\n",
      "n_episode: 958, score : -46.0, n_buffer : 20000, eps : 1.0%\n",
      "--------------------------------------------------\n",
      "flow time: 2891, util : 0.938, makespan : 288\n",
      "n_episode: 959, score : -90.0, n_buffer : 20000, eps : 1.0%\n",
      "--------------------------------------------------\n",
      "flow time: 2952, util : 0.943, makespan : 302\n",
      "n_episode: 960, score : -86.0, n_buffer : 20000, eps : 1.0%\n",
      "--------------------------------------------------\n",
      "flow time: 2705, util : 0.964, makespan : 284\n",
      "n_episode: 961, score : -51.0, n_buffer : 20000, eps : 1.0%\n",
      "--------------------------------------------------\n",
      "flow time: 2511, util : 0.954, makespan : 270\n",
      "n_episode: 962, score : -62.0, n_buffer : 20000, eps : 1.0%\n",
      "--------------------------------------------------\n",
      "flow time: 2886, util : 0.946, makespan : 282\n",
      "n_episode: 963, score : -79.0, n_buffer : 20000, eps : 1.0%\n",
      "--------------------------------------------------\n",
      "flow time: 2982, util : 0.934, makespan : 282\n",
      "n_episode: 964, score : -96.0, n_buffer : 20000, eps : 1.0%\n",
      "--------------------------------------------------\n",
      "flow time: 3459, util : 0.933, makespan : 304\n",
      "n_episode: 965, score : -105.0, n_buffer : 20000, eps : 1.0%\n",
      "--------------------------------------------------\n",
      "flow time: 3370, util : 0.908, makespan : 293\n",
      "n_episode: 966, score : -146.0, n_buffer : 20000, eps : 1.0%\n",
      "--------------------------------------------------\n",
      "flow time: 3451, util : 0.931, makespan : 297\n",
      "n_episode: 967, score : -108.0, n_buffer : 20000, eps : 1.0%\n",
      "--------------------------------------------------\n",
      "flow time: 3333, util : 0.939, makespan : 297\n",
      "n_episode: 968, score : -94.0, n_buffer : 20000, eps : 1.0%\n",
      "--------------------------------------------------\n",
      "flow time: 3297, util : 0.920, makespan : 348\n",
      "n_episode: 969, score : -126.0, n_buffer : 20000, eps : 1.0%\n",
      "--------------------------------------------------\n",
      "flow time: 3463, util : 0.916, makespan : 321\n",
      "n_episode: 970, score : -135.0, n_buffer : 20000, eps : 1.0%\n",
      "--------------------------------------------------\n",
      "flow time: 3264, util : 0.934, makespan : 295\n",
      "n_episode: 971, score : -100.0, n_buffer : 20000, eps : 1.0%\n",
      "--------------------------------------------------\n",
      "flow time: 2579, util : 0.952, makespan : 273\n",
      "n_episode: 972, score : -67.0, n_buffer : 20000, eps : 1.0%\n",
      "--------------------------------------------------\n",
      "flow time: 2720, util : 0.966, makespan : 299\n",
      "n_episode: 973, score : -49.0, n_buffer : 20000, eps : 1.0%\n",
      "--------------------------------------------------\n",
      "flow time: 2576, util : 0.967, makespan : 273\n",
      "n_episode: 974, score : -46.0, n_buffer : 20000, eps : 1.0%\n",
      "--------------------------------------------------\n",
      "flow time: 2612, util : 0.934, makespan : 280\n",
      "n_episode: 975, score : -95.0, n_buffer : 20000, eps : 1.0%\n",
      "--------------------------------------------------\n",
      "flow time: 2576, util : 0.967, makespan : 273\n",
      "n_episode: 976, score : -46.0, n_buffer : 20000, eps : 1.0%\n",
      "--------------------------------------------------\n",
      "flow time: 2620, util : 0.938, makespan : 271\n",
      "n_episode: 977, score : -87.0, n_buffer : 20000, eps : 1.0%\n",
      "--------------------------------------------------\n",
      "flow time: 2630, util : 0.969, makespan : 266\n",
      "n_episode: 978, score : -43.0, n_buffer : 20000, eps : 1.0%\n",
      "--------------------------------------------------\n",
      "flow time: 2599, util : 0.953, makespan : 281\n",
      "n_episode: 979, score : -66.0, n_buffer : 20000, eps : 1.0%\n",
      "--------------------------------------------------\n",
      "flow time: 2576, util : 0.967, makespan : 273\n",
      "n_episode: 980, score : -46.0, n_buffer : 20000, eps : 1.0%\n",
      "--------------------------------------------------\n",
      "flow time: 2668, util : 0.947, makespan : 293\n",
      "n_episode: 981, score : -75.0, n_buffer : 20000, eps : 1.0%\n",
      "--------------------------------------------------\n",
      "flow time: 2880, util : 0.937, makespan : 282\n",
      "n_episode: 982, score : -90.0, n_buffer : 20000, eps : 1.0%\n",
      "--------------------------------------------------\n",
      "flow time: 2576, util : 0.967, makespan : 273\n",
      "n_episode: 983, score : -46.0, n_buffer : 20000, eps : 1.0%\n",
      "--------------------------------------------------\n",
      "flow time: 2731, util : 0.927, makespan : 304\n",
      "n_episode: 984, score : -106.0, n_buffer : 20000, eps : 1.0%\n",
      "--------------------------------------------------\n",
      "flow time: 2800, util : 0.960, makespan : 294\n",
      "n_episode: 985, score : -59.0, n_buffer : 20000, eps : 1.0%\n",
      "--------------------------------------------------\n",
      "flow time: 2783, util : 0.930, makespan : 292\n",
      "n_episode: 986, score : -107.0, n_buffer : 20000, eps : 1.0%\n",
      "--------------------------------------------------\n",
      "flow time: 2645, util : 0.964, makespan : 293\n",
      "n_episode: 987, score : -51.0, n_buffer : 20000, eps : 1.0%\n",
      "--------------------------------------------------\n",
      "flow time: 2639, util : 0.932, makespan : 289\n",
      "n_episode: 988, score : -95.0, n_buffer : 20000, eps : 1.0%\n",
      "--------------------------------------------------\n",
      "flow time: 2698, util : 0.932, makespan : 305\n",
      "n_episode: 989, score : -100.0, n_buffer : 20000, eps : 1.0%\n",
      "--------------------------------------------------\n",
      "flow time: 2596, util : 0.954, makespan : 266\n",
      "n_episode: 990, score : -64.0, n_buffer : 20000, eps : 1.0%\n",
      "--------------------------------------------------\n",
      "flow time: 2576, util : 0.967, makespan : 273\n",
      "n_episode: 991, score : -46.0, n_buffer : 20000, eps : 1.0%\n",
      "--------------------------------------------------\n",
      "flow time: 2679, util : 0.946, makespan : 293\n",
      "n_episode: 992, score : -76.0, n_buffer : 20000, eps : 1.0%\n",
      "--------------------------------------------------\n",
      "flow time: 2859, util : 0.943, makespan : 296\n",
      "n_episode: 993, score : -84.0, n_buffer : 20000, eps : 1.0%\n",
      "--------------------------------------------------\n",
      "flow time: 2576, util : 0.967, makespan : 273\n",
      "n_episode: 994, score : -46.0, n_buffer : 20000, eps : 1.0%\n",
      "--------------------------------------------------\n",
      "flow time: 2668, util : 0.956, makespan : 280\n",
      "n_episode: 995, score : -63.0, n_buffer : 20000, eps : 1.0%\n",
      "--------------------------------------------------\n",
      "flow time: 2576, util : 0.967, makespan : 273\n",
      "n_episode: 996, score : -46.0, n_buffer : 20000, eps : 1.0%\n",
      "--------------------------------------------------\n",
      "flow time: 2705, util : 0.945, makespan : 298\n",
      "n_episode: 997, score : -80.0, n_buffer : 20000, eps : 1.0%\n",
      "--------------------------------------------------\n",
      "flow time: 2849, util : 0.952, makespan : 298\n",
      "n_episode: 998, score : -71.0, n_buffer : 20000, eps : 1.0%\n",
      "--------------------------------------------------\n",
      "flow time: 2801, util : 0.949, makespan : 320\n",
      "n_episode: 999, score : -75.0, n_buffer : 20000, eps : 1.0%\n",
      "[-23.60320473 -24.3253994  -25.75084305 -25.08078384 -22.66628265\n",
      " -23.44612503]\n",
      "4\n",
      "0\n",
      "[-24.72748566 -25.09960365 -26.69011497 -26.2532444  -23.86757469\n",
      " -24.29777145]\n",
      "4\n",
      "0\n",
      "[-25.78055573 -25.77911949 -27.86887741 -26.97377586 -24.24308777\n",
      " -25.01991272]\n",
      "4\n",
      "0\n",
      "[-26.05421829 -26.11419868 -28.25646019 -27.41875076 -24.47924423\n",
      " -25.36856842]\n",
      "4\n",
      "0\n",
      "[-26.55825996 -26.28995323 -28.60540771 -27.80208397 -24.85663223\n",
      " -25.57393265]\n",
      "4\n",
      "0\n",
      "[-27.22377777 -26.80142403 -29.23566437 -28.59189224 -25.46102524\n",
      " -26.09540176]\n",
      "4\n",
      "0\n",
      "[-27.90107346 -27.33432961 -29.98381805 -29.10454369 -25.76483727\n",
      " -26.46913528]\n",
      "4\n",
      "0\n",
      "[-28.06333733 -27.48689079 -30.13996506 -29.32060242 -25.90385056\n",
      " -26.58665657]\n",
      "4\n",
      "0\n",
      "[-28.33968163 -27.68487358 -30.36206245 -29.55264473 -26.14282417\n",
      " -26.74346542]\n",
      "4\n",
      "0\n",
      "[-28.12697792 -27.34846306 -29.92559814 -29.45164299 -26.25917053\n",
      " -26.58802414]\n",
      "4\n",
      "0\n",
      "[-28.25867462 -27.47239304 -30.0516777  -29.52147675 -26.28170967\n",
      " -26.63455391]\n",
      "4\n",
      "0\n",
      "[-28.31616783 -27.498312   -30.03436661 -29.58782768 -26.45815849\n",
      " -26.71875381]\n",
      "4\n",
      "0\n",
      "[-28.37117195 -27.58970451 -30.13741302 -29.65125275 -26.45875931\n",
      " -26.78404999]\n",
      "4\n",
      "0\n",
      "[-28.16529274 -27.32954597 -29.86713791 -29.44040108 -26.30708313\n",
      " -26.5400753 ]\n",
      "4\n",
      "0\n",
      "[-28.3159008  -27.47374344 -30.01029205 -29.62645149 -26.51288986\n",
      " -26.73015213]\n",
      "4\n",
      "0\n",
      "[-28.25890541 -27.38601875 -29.86639404 -29.57216072 -26.59217262\n",
      " -26.70949745]\n",
      "4\n",
      "0\n",
      "[-28.42718506 -27.57841873 -30.0712471  -29.75906944 -26.72938538\n",
      " -26.8682251 ]\n",
      "4\n",
      "0\n",
      "[-28.36843681 -27.45220566 -29.91656113 -29.70860481 -26.73138809\n",
      " -26.73096085]\n",
      "5\n"
     ]
    },
    {
     "name": "stdout",
     "output_type": "stream",
     "text": [
      "-3\n",
      "[-25.93317032 -25.25827217 -27.34619522 -27.20015907 -24.64415359\n",
      " -24.80605316]\n",
      "4\n",
      "0\n",
      "[-26.14229774 -25.3961525  -27.40854645 -27.46208    -25.14763641\n",
      " -25.09041405]\n",
      "5\n",
      "-3\n",
      "[-24.77641678 -23.87716866 -25.84093475 -26.0150795  -23.89720917\n",
      " -23.5305748 ]\n",
      "5\n",
      "-1\n",
      "[-23.9782505  -23.0923748  -24.74385452 -25.1129055  -23.4179039\n",
      " -22.86286545]\n",
      "5\n",
      "-2\n",
      "[-21.95002937 -21.25506783 -22.7087059  -22.79494286 -21.15794373\n",
      " -20.93946838]\n",
      "5\n",
      "-3\n",
      "[-22.70022392 -22.0155735  -23.29155159 -23.43559647 -21.86864853\n",
      " -21.53766251]\n",
      "5\n",
      "-2\n",
      "[-22.88827705 -22.25429726 -23.4471035  -23.55666924 -21.97557068\n",
      " -21.72079086]\n",
      "5\n",
      "-4\n",
      "[-22.51416016 -21.91779518 -23.13074112 -23.27207375 -21.54269028\n",
      " -21.31187248]\n",
      "5\n",
      "-4\n",
      "[-19.04525948 -19.13288116 -20.04283524 -19.62122726 -17.45650291\n",
      " -18.27635193]\n",
      "4\n",
      "-3\n",
      "[-17.24699974 -17.56369972 -18.45133972 -17.75393486 -15.46219444\n",
      " -16.7035408 ]\n",
      "4\n",
      "-3\n",
      "[-16.89890671 -17.282444   -18.22934914 -17.34710693 -14.88773918\n",
      " -16.29187965]\n",
      "4\n",
      "-1\n",
      "[-15.93081379 -16.34464073 -17.24069595 -16.40324974 -14.01675034\n",
      " -15.41587639]\n",
      "4\n",
      "-3\n",
      "[-15.43059731 -15.86547089 -16.63635254 -15.91847706 -13.59299088\n",
      " -14.92716217]\n",
      "4\n",
      "0\n",
      "[-15.64798832 -16.08740234 -16.87591362 -16.14871216 -13.74746704\n",
      " -15.11341667]\n",
      "4\n",
      "-2\n",
      "[-15.06671524 -15.51874161 -16.2735672  -15.58362484 -13.20814705\n",
      " -14.56365013]\n",
      "4\n",
      "0\n",
      "[-14.41700363 -14.86934185 -15.62943554 -14.95624065 -12.52777004\n",
      " -13.88566685]\n",
      "4\n",
      "-2\n",
      "[-13.03625011 -13.48818874 -14.03165436 -13.45026493 -11.18437576\n",
      " -12.44278336]\n",
      "4\n",
      "0\n",
      "[-13.61075592 -14.09090328 -14.63242054 -14.03492451 -11.73644924\n",
      " -13.04804039]\n",
      "4\n",
      "0\n",
      "[-13.68161678 -14.14587021 -14.69647884 -14.08289623 -11.74190617\n",
      " -13.05832863]\n",
      "4\n",
      "-4\n",
      "[-13.46842766 -13.92086506 -14.37261105 -13.82230663 -11.59941578\n",
      " -12.83133125]\n",
      "4\n",
      "0\n",
      "[-13.3304491  -13.78037548 -14.15787792 -13.65586758 -11.55843449\n",
      " -12.72509003]\n",
      "4\n",
      "0\n",
      "[-11.64149094 -11.99296093 -12.27975559 -11.88134098  -9.93730354\n",
      " -11.00431633]\n",
      "4\n",
      "0\n",
      "[-11.1765871  -11.51087761 -11.67826939 -11.36621571  -9.54314041\n",
      " -10.54556561]\n",
      "4\n",
      "0\n",
      "[-11.40585804 -11.74391079 -11.87183475 -11.57999611  -9.77252388\n",
      " -10.75548363]\n",
      "4\n",
      "0\n",
      "[-11.32855415 -11.64010525 -11.79034996 -11.49187946  -9.63645649\n",
      " -10.6468792 ]\n",
      "4\n",
      "0\n",
      "[-10.91896057 -11.21448708 -11.3255415  -11.06156635  -9.24787617\n",
      " -10.23569584]\n",
      "4\n",
      "0\n",
      "[-10.35555077 -10.58252048 -10.6618948  -10.45279121  -8.70233154\n",
      "  -9.68321037]\n",
      "4\n",
      "0\n",
      "[-10.84785748 -11.09743881 -11.16944027 -10.95170879  -9.16500759\n",
      " -10.17235565]\n",
      "4\n",
      "0\n",
      "[-11.01596069 -11.27538967 -11.34681034 -11.13667965  -9.31764412\n",
      " -10.35015869]\n",
      "4\n",
      "-3\n",
      "[-8.76581764 -8.84068012 -8.78221035 -8.70316124 -7.10959768 -7.95972967]\n",
      "4\n",
      "0\n",
      "[-8.41027355 -8.45632172 -8.33506584 -8.31969452 -6.85687304 -7.65200663]\n",
      "4\n",
      "0\n",
      "[-8.24682522 -8.28621769 -8.07482433 -8.12545013 -6.72066069 -7.49445724]\n",
      "4\n",
      "0\n",
      "[-8.8310833  -8.8918705  -8.69750118 -8.72219563 -7.23518896 -8.06060696]\n",
      "4\n",
      "-2\n",
      "[-7.65804148 -7.6951437  -7.52215815 -7.61753798 -6.10994196 -6.93104649]\n",
      "4\n",
      "0\n",
      "[-7.77341413 -7.80921698 -7.62809944 -7.71639395 -6.21114492 -7.02636433]\n",
      "4\n",
      "0\n",
      "[-7.33900261 -7.39558125 -7.23476696 -7.40090227 -5.75756311 -6.63349962]\n",
      "4\n",
      "0\n",
      "[-7.32225752 -7.38571215 -7.20464182 -7.45713997 -5.70795298 -6.60428381]\n",
      "4\n",
      "0\n",
      "[-7.44973469 -7.55051041 -7.31257486 -7.61337423 -5.87814093 -6.79282141]\n",
      "4\n",
      "-3\n",
      "[-6.97180891 -7.08510542 -6.84374666 -7.16308737 -5.62854624 -6.4381876 ]\n",
      "4\n",
      "0\n",
      "[-6.8801322  -7.00369406 -6.74242496 -7.09313107 -5.62663603 -6.40309715]\n",
      "4\n",
      "0\n",
      "[-6.87878323 -6.98371887 -6.76302719 -7.07590723 -5.60489702 -6.39132071]\n",
      "4\n",
      "-3\n",
      "[-6.46874714 -6.54123497 -6.37930632 -6.65240383 -5.31646299 -5.99392176]\n",
      "4\n",
      "0\n",
      "[-6.64535999 -6.69262981 -6.5566206  -6.814991   -5.42785645 -6.11797523]\n",
      "4\n",
      "-2\n",
      "[-6.67839289 -6.73075056 -6.60585928 -6.84255695 -5.43610287 -6.16641235]\n",
      "4\n",
      "0\n",
      "[-6.72695637 -6.76289368 -6.67930508 -6.87616634 -5.45776939 -6.21340561]\n",
      "4\n",
      "0\n",
      "[-6.27255869 -6.29810858 -6.22515965 -6.43643188 -5.18967867 -5.81579638]\n",
      "4\n",
      "0\n",
      "[-5.8185339  -5.82332373 -5.78314829 -5.95967388 -4.89878416 -5.41816902]\n",
      "4\n",
      "-3\n",
      "[-5.76137495 -5.78059673 -5.69783163 -5.95357847 -4.90416479 -5.39620733]\n",
      "4\n",
      "0\n",
      "[-5.71765995 -5.72793436 -5.64867544 -5.90265894 -4.88607645 -5.35212231]\n",
      "4\n",
      "0\n",
      "[-5.83694029 -5.83553553 -5.77119493 -6.00991678 -4.96988344 -5.450459  ]\n",
      "4\n",
      "0\n",
      "[-5.65188599 -5.63322115 -5.57010174 -5.81564713 -4.84963274 -5.25042152]\n",
      "4\n",
      "0\n",
      "[-5.42625523 -5.38349628 -5.34945297 -5.57006693 -4.69310331 -5.03576088]\n",
      "4\n",
      "0\n",
      "[-5.44402885 -5.38556337 -5.39281988 -5.54918623 -4.69030046 -5.05611706]\n",
      "4\n",
      "0\n",
      "[-5.39832592 -5.33479691 -5.33824348 -5.51274443 -4.6783185  -5.02122688]\n",
      "4\n",
      "0\n",
      "[-4.81617117 -4.71037436 -4.76506805 -4.8783021  -4.25086403 -4.44863844]\n",
      "4\n",
      "0\n",
      "[-4.84362698 -4.73064899 -4.79639006 -4.89542389 -4.269701   -4.47041082]\n",
      "4\n",
      "0\n",
      "[-4.53671455 -4.40194798 -4.49427462 -4.56565666 -4.05054998 -4.1778307 ]\n",
      "4\n",
      "0\n",
      "[-4.33932304 -4.18541336 -4.27352047 -4.36210632 -3.91915798 -3.94974613]\n",
      "4\n",
      "0\n",
      "[-4.46482038 -4.3217802  -4.38510656 -4.52223873 -4.05230427 -4.10741043]\n",
      "4\n",
      "-3\n",
      "[-4.49867487 -4.33559656 -4.424932   -4.53546047 -4.06797028 -4.11606312]\n",
      "4\n",
      "0\n",
      "[-4.57317257 -4.41256666 -4.49392414 -4.61525726 -4.13646364 -4.19424009]\n",
      "4\n",
      "-1\n",
      "[-4.76772785 -4.61015177 -4.67416525 -4.80566835 -4.28876066 -4.35892153]\n",
      "4\n",
      "0\n",
      "[-4.78475428 -4.60400486 -4.69468832 -4.79957581 -4.29648733 -4.34910965]\n",
      "4\n",
      "-18\n",
      "[-4.93193388 -4.75879097 -4.82876492 -4.96604681 -4.45416403 -4.53040123]\n",
      "4\n",
      "0\n",
      "[-5.02901697 -4.85951948 -4.91237783 -5.07155657 -4.53834343 -4.61543655]\n",
      "4\n",
      "0\n",
      "[-5.042274   -4.86739874 -4.92737722 -5.0811038  -4.54408932 -4.62073708]\n",
      "4\n",
      "0\n",
      "[-5.16270494 -5.0002079  -5.03388977 -5.23385811 -4.67046404 -4.77061701]\n",
      "4\n",
      "0\n",
      "[-5.15966415 -4.98211145 -5.03558493 -5.21239042 -4.66685057 -4.75668192]\n",
      "4\n",
      "0\n",
      "[-5.11734962 -4.9244175  -5.00111866 -5.14438915 -4.63959455 -4.71560144]\n",
      "4\n",
      "-6\n",
      "[-5.08893442 -4.89422607 -4.97337866 -5.10180569 -4.61431408 -4.67927551]\n",
      "4\n",
      "0\n",
      "[-5.11344814 -4.90717793 -4.99952316 -5.1151762  -4.63170242 -4.69113588]\n",
      "4\n",
      "0\n",
      "[-5.09544897 -4.87754583 -4.98571587 -5.07497931 -4.62267399 -4.67028332]\n",
      "4\n",
      "0\n",
      "[-5.21359777 -5.00598621 -5.09040356 -5.22559881 -4.74927473 -4.81947565]\n",
      "4\n",
      "0\n",
      "[-5.25865364 -5.03867149 -5.13498068 -5.25871801 -4.78457785 -4.8486867 ]\n",
      "4\n",
      "0\n",
      "[-5.27551985 -5.06189966 -5.14587069 -5.27508116 -4.80337667 -4.86540651]\n",
      "4\n",
      "0\n",
      "[-5.225173   -4.99524069 -5.10037899 -5.18477821 -4.78258276 -4.81995583]\n",
      "4\n",
      "0\n",
      "[-5.27606487 -5.02450991 -5.15345764 -5.21463394 -4.81863213 -4.84490824]\n",
      "4\n",
      "0\n",
      "[-5.37532377 -5.13226604 -5.24219084 -5.34353828 -4.92772198 -4.97556067]\n",
      "4\n",
      "0\n",
      "[-5.4609499  -5.19512653 -5.32764864 -5.40573597 -4.99055672 -5.02789783]\n",
      "4\n",
      "0\n",
      "[-5.46889782 -5.19615269 -5.33292246 -5.39045    -5.01226187 -5.03504562]\n",
      "4\n",
      "0\n",
      "[-5.60196161 -5.34036922 -5.45212603 -5.5592103  -5.15340662 -5.20320463]\n",
      "4\n",
      "-3\n",
      "[-5.74589825 -5.49065495 -5.57787323 -5.72510195 -5.27011108 -5.32724905]\n",
      "4\n",
      "0\n",
      "[-5.75593138 -5.48206425 -5.59250641 -5.70882845 -5.27481699 -5.31808662]\n",
      "4\n",
      "0\n"
     ]
    },
    {
     "data": {
      "application/vnd.plotly.v1+json": {
       "config": {
        "plotlyServerURL": "https://plot.ly"
       },
       "data": [
        {
         "alignmentgroup": "True",
         "base": [
          "1970-01-07T09:00:00",
          "1970-01-07T21:00:00",
          "1970-01-08T15:00:00",
          "1970-01-09T12:00:00",
          "1970-01-10T04:00:00",
          "1970-01-10T14:00:00",
          "1970-01-03T04:00:00"
         ],
         "customdata": [
          [
           "LOR"
          ],
          [
           "LOR"
          ],
          [
           "LOR"
          ],
          [
           "LOR"
          ],
          [
           "LOR"
          ],
          [
           "LOR"
          ],
          [
           "LPT"
          ]
         ],
         "hovertemplate": "Type=j19<br>Start=%{base}<br>Finish=%{x}<br>Resource=%{y}<br>Task=%{text}<br>Rule=%{customdata[0]}<extra></extra>",
         "legendgroup": "j19",
         "marker": {
          "color": "#2E91E5",
          "line": {
           "color": "black"
          },
          "pattern": {
           "shape": ""
          }
         },
         "name": "j19",
         "offsetgroup": "j19",
         "orientation": "h",
         "showlegend": true,
         "text": [
          "j1902",
          "j1903",
          "j1904",
          "j1905",
          "j1906",
          "j1907",
          "j1901"
         ],
         "textposition": "auto",
         "type": "bar",
         "x": [
          43200000,
          64800000,
          75600000,
          57600000,
          36000000,
          64800000,
          86400000
         ],
         "xaxis": "x",
         "y": [
          "M6",
          "M6",
          "M6",
          "M5",
          "M4",
          "M4",
          "M2"
         ],
         "yaxis": "y"
        },
        {
         "alignmentgroup": "True",
         "base": [
          "1970-01-03T00:00:00",
          "1970-01-04T19:00:00",
          "1970-01-05T07:00:00",
          "1970-01-05T20:00:00",
          "1970-01-06T13:00:00"
         ],
         "customdata": [
          [
           "LPT"
          ],
          [
           "LOR"
          ],
          [
           "LOR"
          ],
          [
           "LOR"
          ],
          [
           "LOR"
          ]
         ],
         "hovertemplate": "Type=j18<br>Start=%{base}<br>Finish=%{x}<br>Resource=%{y}<br>Task=%{text}<br>Rule=%{customdata[0]}<extra></extra>",
         "legendgroup": "j18",
         "marker": {
          "color": "#E15F99",
          "line": {
           "color": "black"
          },
          "pattern": {
           "shape": ""
          }
         },
         "name": "j18",
         "offsetgroup": "j18",
         "orientation": "h",
         "showlegend": true,
         "text": [
          "j1801",
          "j1802",
          "j1803",
          "j1804",
          "j1805"
         ],
         "textposition": "auto",
         "type": "bar",
         "x": [
          90000000,
          43200000,
          46800000,
          61200000,
          72000000
         ],
         "xaxis": "x",
         "y": [
          "M6",
          "M6",
          "M6",
          "M6",
          "M6"
         ],
         "yaxis": "y"
        },
        {
         "alignmentgroup": "True",
         "base": [
          "1970-01-01T09:00:00",
          "1970-01-01T14:00:00",
          "1970-01-02T01:00:00",
          "1970-01-02T08:00:00"
         ],
         "customdata": [
          [
           "LOR"
          ],
          [
           "LOR"
          ],
          [
           "LOR"
          ],
          [
           "LOR"
          ]
         ],
         "hovertemplate": "Type=j10<br>Start=%{base}<br>Finish=%{x}<br>Resource=%{y}<br>Task=%{text}<br>Rule=%{customdata[0]}<extra></extra>",
         "legendgroup": "j10",
         "marker": {
          "color": "#1CA71C",
          "line": {
           "color": "black"
          },
          "pattern": {
           "shape": ""
          }
         },
         "name": "j10",
         "offsetgroup": "j10",
         "orientation": "h",
         "showlegend": true,
         "text": [
          "j1001",
          "j1002",
          "j1003",
          "j1004"
         ],
         "textposition": "auto",
         "type": "bar",
         "x": [
          18000000,
          39600000,
          25200000,
          57600000
         ],
         "xaxis": "x",
         "y": [
          "M6",
          "M6",
          "M6",
          "M6"
         ],
         "yaxis": "y"
        },
        {
         "alignmentgroup": "True",
         "base": [
          "1970-01-04T01:00:00",
          "1970-01-04T10:00:00",
          "1970-01-01T09:00:00",
          "1970-01-02T03:00:00"
         ],
         "customdata": [
          [
           "LOR"
          ],
          [
           "LOR"
          ],
          [
           "LOR"
          ],
          [
           "LOR"
          ]
         ],
         "hovertemplate": "Type=j1<br>Start=%{base}<br>Finish=%{x}<br>Resource=%{y}<br>Task=%{text}<br>Rule=%{customdata[0]}<extra></extra>",
         "legendgroup": "j1",
         "marker": {
          "color": "#FB0D0D",
          "line": {
           "color": "black"
          },
          "pattern": {
           "shape": ""
          }
         },
         "name": "j1",
         "offsetgroup": "j1",
         "orientation": "h",
         "showlegend": true,
         "text": [
          "j0103",
          "j0104",
          "j0101",
          "j0102"
         ],
         "textposition": "auto",
         "type": "bar",
         "x": [
          32400000,
          32400000,
          64800000,
          28800000
         ],
         "xaxis": "x",
         "y": [
          "M6",
          "M6",
          "M3",
          "M3"
         ],
         "yaxis": "y"
        },
        {
         "alignmentgroup": "True",
         "base": [
          "1970-01-01T09:00:00",
          "1970-01-01T15:00:00",
          "1970-01-01T20:00:00",
          "1970-01-04T01:00:00"
         ],
         "customdata": [
          [
           "LOR"
          ],
          [
           "LOR"
          ],
          [
           "LOR"
          ],
          [
           "LOR"
          ]
         ],
         "hovertemplate": "Type=j8<br>Start=%{base}<br>Finish=%{x}<br>Resource=%{y}<br>Task=%{text}<br>Rule=%{customdata[0]}<extra></extra>",
         "legendgroup": "j8",
         "marker": {
          "color": "#DA16FF",
          "line": {
           "color": "black"
          },
          "pattern": {
           "shape": ""
          }
         },
         "name": "j8",
         "offsetgroup": "j8",
         "orientation": "h",
         "showlegend": true,
         "text": [
          "j0801",
          "j0802",
          "j0803",
          "j0804"
         ],
         "textposition": "auto",
         "type": "bar",
         "x": [
          21600000,
          18000000,
          64800000,
          82800000
         ],
         "xaxis": "x",
         "y": [
          "M5",
          "M5",
          "M5",
          "M4"
         ],
         "yaxis": "y"
        },
        {
         "alignmentgroup": "True",
         "base": [
          "1970-01-03T16:00:00",
          "1970-01-04T21:00:00",
          "1970-01-05T15:00:00",
          "1970-01-02T11:00:00"
         ],
         "customdata": [
          [
           "LPT"
          ],
          [
           "LOR"
          ],
          [
           "LOR"
          ],
          [
           "LPT"
          ]
         ],
         "hovertemplate": "Type=j17<br>Start=%{base}<br>Finish=%{x}<br>Resource=%{y}<br>Task=%{text}<br>Rule=%{customdata[0]}<extra></extra>",
         "legendgroup": "j17",
         "marker": {
          "color": "#222A2A",
          "line": {
           "color": "black"
          },
          "pattern": {
           "shape": ""
          }
         },
         "name": "j17",
         "offsetgroup": "j17",
         "orientation": "h",
         "showlegend": true,
         "text": [
          "j1702",
          "j1703",
          "j1704",
          "j1701"
         ],
         "textposition": "auto",
         "type": "bar",
         "x": [
          104400000,
          64800000,
          90000000,
          97200000
         ],
         "xaxis": "x",
         "y": [
          "M5",
          "M5",
          "M5",
          "M3"
         ],
         "yaxis": "y"
        },
        {
         "alignmentgroup": "True",
         "base": [
          "1970-01-02T14:00:00",
          "1970-01-06T16:00:00",
          "1970-01-07T13:00:00",
          "1970-01-08T00:00:00",
          "1970-01-08T06:00:00",
          "1970-01-08T13:00:00"
         ],
         "customdata": [
          [
           "LPT"
          ],
          [
           "LOR"
          ],
          [
           "LOR"
          ],
          [
           "LOR"
          ],
          [
           "LOR"
          ],
          [
           "LOR"
          ]
         ],
         "hovertemplate": "Type=j11<br>Start=%{base}<br>Finish=%{x}<br>Resource=%{y}<br>Task=%{text}<br>Rule=%{customdata[0]}<extra></extra>",
         "legendgroup": "j11",
         "marker": {
          "color": "#B68100",
          "line": {
           "color": "black"
          },
          "pattern": {
           "shape": ""
          }
         },
         "name": "j11",
         "offsetgroup": "j11",
         "orientation": "h",
         "showlegend": true,
         "text": [
          "j1101",
          "j1102",
          "j1103",
          "j1104",
          "j1105",
          "j1106"
         ],
         "textposition": "auto",
         "type": "bar",
         "x": [
          93600000,
          75600000,
          39600000,
          21600000,
          25200000,
          21600000
         ],
         "xaxis": "x",
         "y": [
          "M5",
          "M5",
          "M5",
          "M5",
          "M5",
          "M5"
         ],
         "yaxis": "y"
        },
        {
         "alignmentgroup": "True",
         "base": [
          "1970-01-05T00:00:00",
          "1970-01-05T10:00:00",
          "1970-01-05T16:00:00",
          "1970-01-05T23:00:00",
          "1970-01-06T07:00:00"
         ],
         "customdata": [
          [
           "LOR"
          ],
          [
           "LOR"
          ],
          [
           "LOR"
          ],
          [
           "LOR"
          ],
          [
           "LOR"
          ]
         ],
         "hovertemplate": "Type=j4<br>Start=%{base}<br>Finish=%{x}<br>Resource=%{y}<br>Task=%{text}<br>Rule=%{customdata[0]}<extra></extra>",
         "legendgroup": "j4",
         "marker": {
          "color": "#750D86",
          "line": {
           "color": "black"
          },
          "pattern": {
           "shape": ""
          }
         },
         "name": "j4",
         "offsetgroup": "j4",
         "orientation": "h",
         "showlegend": true,
         "text": [
          "j0401",
          "j0402",
          "j0403",
          "j0404",
          "j0405"
         ],
         "textposition": "auto",
         "type": "bar",
         "x": [
          36000000,
          21600000,
          25200000,
          28800000,
          64800000
         ],
         "xaxis": "x",
         "y": [
          "M4",
          "M4",
          "M4",
          "M4",
          "M4"
         ],
         "yaxis": "y"
        },
        {
         "alignmentgroup": "True",
         "base": [
          "1970-01-01T09:00:00",
          "1970-01-01T21:00:00",
          "1970-01-02T06:00:00",
          "1970-01-02T13:00:00"
         ],
         "customdata": [
          [
           "LOR"
          ],
          [
           "LOR"
          ],
          [
           "LOR"
          ],
          [
           "LOR"
          ]
         ],
         "hovertemplate": "Type=j3<br>Start=%{base}<br>Finish=%{x}<br>Resource=%{y}<br>Task=%{text}<br>Rule=%{customdata[0]}<extra></extra>",
         "legendgroup": "j3",
         "marker": {
          "color": "#EB663B",
          "line": {
           "color": "black"
          },
          "pattern": {
           "shape": ""
          }
         },
         "name": "j3",
         "offsetgroup": "j3",
         "orientation": "h",
         "showlegend": true,
         "text": [
          "j0301",
          "j0302",
          "j0303",
          "j0304"
         ],
         "textposition": "auto",
         "type": "bar",
         "x": [
          43200000,
          32400000,
          25200000,
          36000000
         ],
         "xaxis": "x",
         "y": [
          "M4",
          "M4",
          "M4",
          "M4"
         ],
         "yaxis": "y"
        },
        {
         "alignmentgroup": "True",
         "base": [
          "1970-01-07T01:00:00",
          "1970-01-07T12:00:00",
          "1970-01-08T00:00:00",
          "1970-01-08T14:00:00",
          "1970-01-09T13:00:00",
          "1970-01-02T19:00:00"
         ],
         "customdata": [
          [
           "LOR"
          ],
          [
           "LOR"
          ],
          [
           "LOR"
          ],
          [
           "LOR"
          ],
          [
           "LOR"
          ],
          [
           "LPT"
          ]
         ],
         "hovertemplate": "Type=j20<br>Start=%{base}<br>Finish=%{x}<br>Resource=%{y}<br>Task=%{text}<br>Rule=%{customdata[0]}<extra></extra>",
         "legendgroup": "j20",
         "marker": {
          "color": "#511CFB",
          "line": {
           "color": "black"
          },
          "pattern": {
           "shape": ""
          }
         },
         "name": "j20",
         "offsetgroup": "j20",
         "orientation": "h",
         "showlegend": true,
         "text": [
          "j2002",
          "j2003",
          "j2004",
          "j2005",
          "j2006",
          "j2001"
         ],
         "textposition": "auto",
         "type": "bar",
         "x": [
          39600000,
          43200000,
          50400000,
          82800000,
          43200000,
          93600000
         ],
         "xaxis": "x",
         "y": [
          "M4",
          "M4",
          "M4",
          "M4",
          "M4",
          "M1"
         ],
         "yaxis": "y"
        },
        {
         "alignmentgroup": "True",
         "base": [
          "1970-01-02T23:00:00",
          "1970-01-04T04:00:00",
          "1970-01-04T21:00:00",
          "1970-01-05T11:00:00"
         ],
         "customdata": [
          [
           "LPT"
          ],
          [
           "LOR"
          ],
          [
           "LOR"
          ],
          [
           "LOR"
          ]
         ],
         "hovertemplate": "Type=j14<br>Start=%{base}<br>Finish=%{x}<br>Resource=%{y}<br>Task=%{text}<br>Rule=%{customdata[0]}<extra></extra>",
         "legendgroup": "j14",
         "marker": {
          "color": "#00A08B",
          "line": {
           "color": "black"
          },
          "pattern": {
           "shape": ""
          }
         },
         "name": "j14",
         "offsetgroup": "j14",
         "orientation": "h",
         "showlegend": true,
         "text": [
          "j1401",
          "j1402",
          "j1403",
          "j1404"
         ],
         "textposition": "auto",
         "type": "bar",
         "x": [
          93600000,
          61200000,
          50400000,
          28800000
         ],
         "xaxis": "x",
         "y": [
          "M4",
          "M2",
          "M2",
          "M2"
         ],
         "yaxis": "y"
        },
        {
         "alignmentgroup": "True",
         "base": [
          "1970-01-05T23:00:00",
          "1970-01-06T11:00:00",
          "1970-01-07T00:00:00",
          "1970-01-07T12:00:00",
          "1970-01-08T02:00:00"
         ],
         "customdata": [
          [
           "LOR"
          ],
          [
           "LOR"
          ],
          [
           "LOR"
          ],
          [
           "LOR"
          ],
          [
           "LOR"
          ]
         ],
         "hovertemplate": "Type=j9<br>Start=%{base}<br>Finish=%{x}<br>Resource=%{y}<br>Task=%{text}<br>Rule=%{customdata[0]}<extra></extra>",
         "legendgroup": "j9",
         "marker": {
          "color": "#FB00D1",
          "line": {
           "color": "black"
          },
          "pattern": {
           "shape": ""
          }
         },
         "name": "j9",
         "offsetgroup": "j9",
         "orientation": "h",
         "showlegend": true,
         "text": [
          "j0901",
          "j0902",
          "j0903",
          "j0904",
          "j0905"
         ],
         "textposition": "auto",
         "type": "bar",
         "x": [
          43200000,
          46800000,
          43200000,
          50400000,
          54000000
         ],
         "xaxis": "x",
         "y": [
          "M3",
          "M3",
          "M3",
          "M3",
          "M3"
         ],
         "yaxis": "y"
        },
        {
         "alignmentgroup": "True",
         "base": [
          "1970-01-08T17:00:00",
          "1970-01-09T13:00:00",
          "1970-01-09T19:00:00",
          "1970-01-10T09:00:00",
          "1970-01-10T22:00:00",
          "1970-01-11T19:00:00",
          "1970-01-12T13:00:00",
          "1970-01-13T06:00:00"
         ],
         "customdata": [
          [
           "LOR"
          ],
          [
           "LOR"
          ],
          [
           "LOR"
          ],
          [
           "LOR"
          ],
          [
           "LOR"
          ],
          [
           "LOR"
          ],
          [
           "LOR"
          ],
          [
           "LOR"
          ]
         ],
         "hovertemplate": "Type=j16<br>Start=%{base}<br>Finish=%{x}<br>Resource=%{y}<br>Task=%{text}<br>Rule=%{customdata[0]}<extra></extra>",
         "legendgroup": "j16",
         "marker": {
          "color": "#FC0080",
          "line": {
           "color": "black"
          },
          "pattern": {
           "shape": ""
          }
         },
         "name": "j16",
         "offsetgroup": "j16",
         "orientation": "h",
         "showlegend": true,
         "text": [
          "j1601",
          "j1602",
          "j1603",
          "j1604",
          "j1605",
          "j1606",
          "j1607",
          "j1608"
         ],
         "textposition": "auto",
         "type": "bar",
         "x": [
          72000000,
          21600000,
          50400000,
          46800000,
          75600000,
          64800000,
          61200000,
          39600000
         ],
         "xaxis": "x",
         "y": [
          "M3",
          "M3",
          "M3",
          "M3",
          "M3",
          "M3",
          "M2",
          "M2"
         ],
         "yaxis": "y"
        },
        {
         "alignmentgroup": "True",
         "base": [
          "1970-01-03T14:00:00",
          "1970-01-04T13:00:00",
          "1970-01-05T01:00:00",
          "1970-01-05T12:00:00",
          "1970-01-05T17:00:00"
         ],
         "customdata": [
          [
           "LPT"
          ],
          [
           "LOR"
          ],
          [
           "LOR"
          ],
          [
           "LOR"
          ],
          [
           "LOR"
          ]
         ],
         "hovertemplate": "Type=j12<br>Start=%{base}<br>Finish=%{x}<br>Resource=%{y}<br>Task=%{text}<br>Rule=%{customdata[0]}<extra></extra>",
         "legendgroup": "j12",
         "marker": {
          "color": "#B2828D",
          "line": {
           "color": "black"
          },
          "pattern": {
           "shape": ""
          }
         },
         "name": "j12",
         "offsetgroup": "j12",
         "orientation": "h",
         "showlegend": true,
         "text": [
          "j1201",
          "j1202",
          "j1203",
          "j1204",
          "j1205"
         ],
         "textposition": "auto",
         "type": "bar",
         "x": [
          82800000,
          43200000,
          39600000,
          18000000,
          21600000
         ],
         "xaxis": "x",
         "y": [
          "M3",
          "M3",
          "M3",
          "M3",
          "M3"
         ],
         "yaxis": "y"
        },
        {
         "alignmentgroup": "True",
         "base": [
          "1970-01-08T14:00:00",
          "1970-01-09T03:00:00",
          "1970-01-09T18:00:00",
          "1970-01-10T04:00:00",
          "1970-01-10T13:00:00",
          "1970-01-11T00:00:00",
          "1970-01-11T16:00:00"
         ],
         "customdata": [
          [
           "LOR"
          ],
          [
           "LOR"
          ],
          [
           "LOR"
          ],
          [
           "LOR"
          ],
          [
           "LOR"
          ],
          [
           "LOR"
          ],
          [
           "LOR"
          ]
         ],
         "hovertemplate": "Type=j7<br>Start=%{base}<br>Finish=%{x}<br>Resource=%{y}<br>Task=%{text}<br>Rule=%{customdata[0]}<extra></extra>",
         "legendgroup": "j7",
         "marker": {
          "color": "#6C7C32",
          "line": {
           "color": "black"
          },
          "pattern": {
           "shape": ""
          }
         },
         "name": "j7",
         "offsetgroup": "j7",
         "orientation": "h",
         "showlegend": true,
         "text": [
          "j0701",
          "j0702",
          "j0703",
          "j0704",
          "j0705",
          "j0706",
          "j0707"
         ],
         "textposition": "auto",
         "type": "bar",
         "x": [
          46800000,
          54000000,
          36000000,
          32400000,
          39600000,
          57600000,
          72000000
         ],
         "xaxis": "x",
         "y": [
          "M2",
          "M2",
          "M2",
          "M2",
          "M2",
          "M2",
          "M2"
         ],
         "yaxis": "y"
        },
        {
         "alignmentgroup": "True",
         "base": [
          "1970-01-05T19:00:00",
          "1970-01-06T13:00:00",
          "1970-01-07T05:00:00",
          "1970-01-07T22:00:00",
          "1970-01-08T09:00:00"
         ],
         "customdata": [
          [
           "LOR"
          ],
          [
           "LOR"
          ],
          [
           "LOR"
          ],
          [
           "LOR"
          ],
          [
           "LOR"
          ]
         ],
         "hovertemplate": "Type=j5<br>Start=%{base}<br>Finish=%{x}<br>Resource=%{y}<br>Task=%{text}<br>Rule=%{customdata[0]}<extra></extra>",
         "legendgroup": "j5",
         "marker": {
          "color": "#778AAE",
          "line": {
           "color": "black"
          },
          "pattern": {
           "shape": ""
          }
         },
         "name": "j5",
         "offsetgroup": "j5",
         "orientation": "h",
         "showlegend": true,
         "text": [
          "j0501",
          "j0502",
          "j0503",
          "j0504",
          "j0505"
         ],
         "textposition": "auto",
         "type": "bar",
         "x": [
          64800000,
          57600000,
          61200000,
          39600000,
          18000000
         ],
         "xaxis": "x",
         "y": [
          "M2",
          "M2",
          "M2",
          "M2",
          "M2"
         ],
         "yaxis": "y"
        },
        {
         "alignmentgroup": "True",
         "base": [
          "1970-01-01T09:00:00",
          "1970-01-02T02:00:00",
          "1970-01-02T10:00:00"
         ],
         "customdata": [
          [
           "LOR"
          ],
          [
           "LOR"
          ],
          [
           "LOR"
          ]
         ],
         "hovertemplate": "Type=j15<br>Start=%{base}<br>Finish=%{x}<br>Resource=%{y}<br>Task=%{text}<br>Rule=%{customdata[0]}<extra></extra>",
         "legendgroup": "j15",
         "marker": {
          "color": "#862A16",
          "line": {
           "color": "black"
          },
          "pattern": {
           "shape": ""
          }
         },
         "name": "j15",
         "offsetgroup": "j15",
         "orientation": "h",
         "showlegend": true,
         "text": [
          "j1501",
          "j1502",
          "j1503"
         ],
         "textposition": "auto",
         "type": "bar",
         "x": [
          61200000,
          28800000,
          64800000
         ],
         "xaxis": "x",
         "y": [
          "M2",
          "M2",
          "M2"
         ],
         "yaxis": "y"
        },
        {
         "alignmentgroup": "True",
         "base": [
          "1970-01-01T09:00:00",
          "1970-01-01T20:00:00",
          "1970-01-03T21:00:00"
         ],
         "customdata": [
          [
           "LOR"
          ],
          [
           "LOR"
          ],
          [
           "LOR"
          ]
         ],
         "hovertemplate": "Type=j6<br>Start=%{base}<br>Finish=%{x}<br>Resource=%{y}<br>Task=%{text}<br>Rule=%{customdata[0]}<extra></extra>",
         "legendgroup": "j6",
         "marker": {
          "color": "#A777F1",
          "line": {
           "color": "black"
          },
          "pattern": {
           "shape": ""
          }
         },
         "name": "j6",
         "offsetgroup": "j6",
         "orientation": "h",
         "showlegend": true,
         "text": [
          "j0601",
          "j0602",
          "j0603"
         ],
         "textposition": "auto",
         "type": "bar",
         "x": [
          39600000,
          82800000,
          50400000
         ],
         "xaxis": "x",
         "y": [
          "M1",
          "M1",
          "M1"
         ],
         "yaxis": "y"
        },
        {
         "alignmentgroup": "True",
         "base": [
          "1970-01-07T14:00:00",
          "1970-01-08T03:00:00",
          "1970-01-08T14:00:00",
          "1970-01-09T15:00:00",
          "1970-01-10T13:00:00",
          "1970-01-11T12:00:00",
          "1970-01-12T12:00:00"
         ],
         "customdata": [
          [
           "LOR"
          ],
          [
           "LOR"
          ],
          [
           "LOR"
          ],
          [
           "LOR"
          ],
          [
           "LOR"
          ],
          [
           "LOR"
          ],
          [
           "LOR"
          ]
         ],
         "hovertemplate": "Type=j2<br>Start=%{base}<br>Finish=%{x}<br>Resource=%{y}<br>Task=%{text}<br>Rule=%{customdata[0]}<extra></extra>",
         "legendgroup": "j2",
         "marker": {
          "color": "#620042",
          "line": {
           "color": "black"
          },
          "pattern": {
           "shape": ""
          }
         },
         "name": "j2",
         "offsetgroup": "j2",
         "orientation": "h",
         "showlegend": true,
         "text": [
          "j0201",
          "j0202",
          "j0203",
          "j0204",
          "j0205",
          "j0206",
          "j0207"
         ],
         "textposition": "auto",
         "type": "bar",
         "x": [
          46800000,
          39600000,
          90000000,
          79200000,
          82800000,
          86400000,
          97200000
         ],
         "xaxis": "x",
         "y": [
          "M1",
          "M1",
          "M1",
          "M1",
          "M1",
          "M1",
          "M1"
         ],
         "yaxis": "y"
        },
        {
         "alignmentgroup": "True",
         "base": [
          "1970-01-04T11:00:00",
          "1970-01-05T00:00:00",
          "1970-01-05T20:00:00",
          "1970-01-06T22:00:00"
         ],
         "customdata": [
          [
           "LOR"
          ],
          [
           "LOR"
          ],
          [
           "LOR"
          ],
          [
           "LOR"
          ]
         ],
         "hovertemplate": "Type=j13<br>Start=%{base}<br>Finish=%{x}<br>Resource=%{y}<br>Task=%{text}<br>Rule=%{customdata[0]}<extra></extra>",
         "legendgroup": "j13",
         "marker": {
          "color": "#1616A7",
          "line": {
           "color": "black"
          },
          "pattern": {
           "shape": ""
          }
         },
         "name": "j13",
         "offsetgroup": "j13",
         "orientation": "h",
         "showlegend": true,
         "text": [
          "j1301",
          "j1302",
          "j1303",
          "j1304"
         ],
         "textposition": "auto",
         "type": "bar",
         "x": [
          46800000,
          72000000,
          93600000,
          57600000
         ],
         "xaxis": "x",
         "y": [
          "M1",
          "M1",
          "M1",
          "M1"
         ],
         "yaxis": "y"
        },
        {
         "alignmentgroup": "True",
         "base": [
          "1970-01-03T00:00:00",
          "1970-01-04T01:00:00",
          "1970-01-04T19:00:00",
          "1970-01-07T09:00:00",
          "1970-01-02T14:00:00",
          "1970-01-03T16:00:00",
          "1970-01-06T16:00:00",
          "1970-01-09T12:00:00",
          "1970-01-02T23:00:00",
          "1970-01-04T01:00:00",
          "1970-01-05T00:00:00",
          "1970-01-07T01:00:00",
          "1970-01-10T04:00:00",
          "1970-01-02T11:00:00",
          "1970-01-03T14:00:00",
          "1970-01-05T23:00:00",
          "1970-01-08T17:00:00",
          "1970-01-03T04:00:00",
          "1970-01-04T04:00:00",
          "1970-01-05T19:00:00",
          "1970-01-08T14:00:00",
          "1970-01-12T13:00:00",
          "1970-01-02T19:00:00",
          "1970-01-03T21:00:00",
          "1970-01-04T11:00:00",
          "1970-01-07T14:00:00"
         ],
         "customdata": [
          [
           "NONE"
          ],
          [
           "NONE"
          ],
          [
           "NONE"
          ],
          [
           "NONE"
          ],
          [
           "NONE"
          ],
          [
           "NONE"
          ],
          [
           "NONE"
          ],
          [
           "NONE"
          ],
          [
           "NONE"
          ],
          [
           "NONE"
          ],
          [
           "NONE"
          ],
          [
           "NONE"
          ],
          [
           "NONE"
          ],
          [
           "NONE"
          ],
          [
           "NONE"
          ],
          [
           "NONE"
          ],
          [
           "NONE"
          ],
          [
           "NONE"
          ],
          [
           "NONE"
          ],
          [
           "NONE"
          ],
          [
           "NONE"
          ],
          [
           "NONE"
          ],
          [
           "NONE"
          ],
          [
           "NONE"
          ],
          [
           "NONE"
          ],
          [
           "NONE"
          ]
         ],
         "hovertemplate": "Type=setup<br>Start=%{base}<br>Finish=%{x}<br>Resource=%{y}<br>Task=%{text}<br>Rule=%{customdata[0]}<extra></extra>",
         "legendgroup": "setup",
         "marker": {
          "color": "#DA60CA",
          "line": {
           "color": "black"
          },
          "pattern": {
           "shape": ""
          }
         },
         "name": "setup",
         "offsetgroup": "setup",
         "orientation": "h",
         "showlegend": true,
         "text": [
          "setup",
          "setup",
          "setup",
          "setup",
          "setup",
          "setup",
          "setup",
          "setup",
          "setup",
          "setup",
          "setup",
          "setup",
          "setup",
          "setup",
          "setup",
          "setup",
          "setup",
          "setup",
          "setup",
          "setup",
          "setup",
          "setup",
          "setup",
          "setup",
          "setup",
          "setup"
         ],
         "textposition": "auto",
         "type": "bar",
         "width": 0.7,
         "x": [
          10800000,
          3600000,
          7200000,
          7200000,
          10800000,
          14400000,
          10800000,
          3600000,
          7200000,
          10800000,
          14400000,
          10800000,
          10800000,
          10800000,
          14400000,
          7200000,
          3600000,
          7200000,
          10800000,
          10800000,
          10800000,
          7200000,
          3600000,
          10800000,
          7200000,
          10800000
         ],
         "xaxis": "x",
         "y": [
          "M6",
          "M6",
          "M6",
          "M6",
          "M5",
          "M5",
          "M5",
          "M5",
          "M4",
          "M4",
          "M4",
          "M4",
          "M4",
          "M3",
          "M3",
          "M3",
          "M3",
          "M2",
          "M2",
          "M2",
          "M2",
          "M2",
          "M1",
          "M1",
          "M1",
          "M1"
         ],
         "yaxis": "y"
        }
       ],
       "layout": {
        "barmode": "overlay",
        "height": 800,
        "legend": {
         "title": {
          "text": "Type"
         },
         "tracegroupgap": 0
        },
        "margin": {
         "t": 60
        },
        "template": {
         "data": {
          "bar": [
           {
            "error_x": {
             "color": "rgb(36,36,36)"
            },
            "error_y": {
             "color": "rgb(36,36,36)"
            },
            "marker": {
             "line": {
              "color": "white",
              "width": 0.5
             },
             "pattern": {
              "fillmode": "overlay",
              "size": 10,
              "solidity": 0.2
             }
            },
            "type": "bar"
           }
          ],
          "barpolar": [
           {
            "marker": {
             "line": {
              "color": "white",
              "width": 0.5
             },
             "pattern": {
              "fillmode": "overlay",
              "size": 10,
              "solidity": 0.2
             }
            },
            "type": "barpolar"
           }
          ],
          "carpet": [
           {
            "aaxis": {
             "endlinecolor": "rgb(36,36,36)",
             "gridcolor": "white",
             "linecolor": "white",
             "minorgridcolor": "white",
             "startlinecolor": "rgb(36,36,36)"
            },
            "baxis": {
             "endlinecolor": "rgb(36,36,36)",
             "gridcolor": "white",
             "linecolor": "white",
             "minorgridcolor": "white",
             "startlinecolor": "rgb(36,36,36)"
            },
            "type": "carpet"
           }
          ],
          "choropleth": [
           {
            "colorbar": {
             "outlinewidth": 1,
             "tickcolor": "rgb(36,36,36)",
             "ticks": "outside"
            },
            "type": "choropleth"
           }
          ],
          "contour": [
           {
            "colorbar": {
             "outlinewidth": 1,
             "tickcolor": "rgb(36,36,36)",
             "ticks": "outside"
            },
            "colorscale": [
             [
              0,
              "#440154"
             ],
             [
              0.1111111111111111,
              "#482878"
             ],
             [
              0.2222222222222222,
              "#3e4989"
             ],
             [
              0.3333333333333333,
              "#31688e"
             ],
             [
              0.4444444444444444,
              "#26828e"
             ],
             [
              0.5555555555555556,
              "#1f9e89"
             ],
             [
              0.6666666666666666,
              "#35b779"
             ],
             [
              0.7777777777777778,
              "#6ece58"
             ],
             [
              0.8888888888888888,
              "#b5de2b"
             ],
             [
              1,
              "#fde725"
             ]
            ],
            "type": "contour"
           }
          ],
          "contourcarpet": [
           {
            "colorbar": {
             "outlinewidth": 1,
             "tickcolor": "rgb(36,36,36)",
             "ticks": "outside"
            },
            "type": "contourcarpet"
           }
          ],
          "heatmap": [
           {
            "colorbar": {
             "outlinewidth": 1,
             "tickcolor": "rgb(36,36,36)",
             "ticks": "outside"
            },
            "colorscale": [
             [
              0,
              "#440154"
             ],
             [
              0.1111111111111111,
              "#482878"
             ],
             [
              0.2222222222222222,
              "#3e4989"
             ],
             [
              0.3333333333333333,
              "#31688e"
             ],
             [
              0.4444444444444444,
              "#26828e"
             ],
             [
              0.5555555555555556,
              "#1f9e89"
             ],
             [
              0.6666666666666666,
              "#35b779"
             ],
             [
              0.7777777777777778,
              "#6ece58"
             ],
             [
              0.8888888888888888,
              "#b5de2b"
             ],
             [
              1,
              "#fde725"
             ]
            ],
            "type": "heatmap"
           }
          ],
          "heatmapgl": [
           {
            "colorbar": {
             "outlinewidth": 1,
             "tickcolor": "rgb(36,36,36)",
             "ticks": "outside"
            },
            "colorscale": [
             [
              0,
              "#440154"
             ],
             [
              0.1111111111111111,
              "#482878"
             ],
             [
              0.2222222222222222,
              "#3e4989"
             ],
             [
              0.3333333333333333,
              "#31688e"
             ],
             [
              0.4444444444444444,
              "#26828e"
             ],
             [
              0.5555555555555556,
              "#1f9e89"
             ],
             [
              0.6666666666666666,
              "#35b779"
             ],
             [
              0.7777777777777778,
              "#6ece58"
             ],
             [
              0.8888888888888888,
              "#b5de2b"
             ],
             [
              1,
              "#fde725"
             ]
            ],
            "type": "heatmapgl"
           }
          ],
          "histogram": [
           {
            "marker": {
             "line": {
              "color": "white",
              "width": 0.6
             }
            },
            "type": "histogram"
           }
          ],
          "histogram2d": [
           {
            "colorbar": {
             "outlinewidth": 1,
             "tickcolor": "rgb(36,36,36)",
             "ticks": "outside"
            },
            "colorscale": [
             [
              0,
              "#440154"
             ],
             [
              0.1111111111111111,
              "#482878"
             ],
             [
              0.2222222222222222,
              "#3e4989"
             ],
             [
              0.3333333333333333,
              "#31688e"
             ],
             [
              0.4444444444444444,
              "#26828e"
             ],
             [
              0.5555555555555556,
              "#1f9e89"
             ],
             [
              0.6666666666666666,
              "#35b779"
             ],
             [
              0.7777777777777778,
              "#6ece58"
             ],
             [
              0.8888888888888888,
              "#b5de2b"
             ],
             [
              1,
              "#fde725"
             ]
            ],
            "type": "histogram2d"
           }
          ],
          "histogram2dcontour": [
           {
            "colorbar": {
             "outlinewidth": 1,
             "tickcolor": "rgb(36,36,36)",
             "ticks": "outside"
            },
            "colorscale": [
             [
              0,
              "#440154"
             ],
             [
              0.1111111111111111,
              "#482878"
             ],
             [
              0.2222222222222222,
              "#3e4989"
             ],
             [
              0.3333333333333333,
              "#31688e"
             ],
             [
              0.4444444444444444,
              "#26828e"
             ],
             [
              0.5555555555555556,
              "#1f9e89"
             ],
             [
              0.6666666666666666,
              "#35b779"
             ],
             [
              0.7777777777777778,
              "#6ece58"
             ],
             [
              0.8888888888888888,
              "#b5de2b"
             ],
             [
              1,
              "#fde725"
             ]
            ],
            "type": "histogram2dcontour"
           }
          ],
          "mesh3d": [
           {
            "colorbar": {
             "outlinewidth": 1,
             "tickcolor": "rgb(36,36,36)",
             "ticks": "outside"
            },
            "type": "mesh3d"
           }
          ],
          "parcoords": [
           {
            "line": {
             "colorbar": {
              "outlinewidth": 1,
              "tickcolor": "rgb(36,36,36)",
              "ticks": "outside"
             }
            },
            "type": "parcoords"
           }
          ],
          "pie": [
           {
            "automargin": true,
            "type": "pie"
           }
          ],
          "scatter": [
           {
            "fillpattern": {
             "fillmode": "overlay",
             "size": 10,
             "solidity": 0.2
            },
            "type": "scatter"
           }
          ],
          "scatter3d": [
           {
            "line": {
             "colorbar": {
              "outlinewidth": 1,
              "tickcolor": "rgb(36,36,36)",
              "ticks": "outside"
             }
            },
            "marker": {
             "colorbar": {
              "outlinewidth": 1,
              "tickcolor": "rgb(36,36,36)",
              "ticks": "outside"
             }
            },
            "type": "scatter3d"
           }
          ],
          "scattercarpet": [
           {
            "marker": {
             "colorbar": {
              "outlinewidth": 1,
              "tickcolor": "rgb(36,36,36)",
              "ticks": "outside"
             }
            },
            "type": "scattercarpet"
           }
          ],
          "scattergeo": [
           {
            "marker": {
             "colorbar": {
              "outlinewidth": 1,
              "tickcolor": "rgb(36,36,36)",
              "ticks": "outside"
             }
            },
            "type": "scattergeo"
           }
          ],
          "scattergl": [
           {
            "marker": {
             "colorbar": {
              "outlinewidth": 1,
              "tickcolor": "rgb(36,36,36)",
              "ticks": "outside"
             }
            },
            "type": "scattergl"
           }
          ],
          "scattermapbox": [
           {
            "marker": {
             "colorbar": {
              "outlinewidth": 1,
              "tickcolor": "rgb(36,36,36)",
              "ticks": "outside"
             }
            },
            "type": "scattermapbox"
           }
          ],
          "scatterpolar": [
           {
            "marker": {
             "colorbar": {
              "outlinewidth": 1,
              "tickcolor": "rgb(36,36,36)",
              "ticks": "outside"
             }
            },
            "type": "scatterpolar"
           }
          ],
          "scatterpolargl": [
           {
            "marker": {
             "colorbar": {
              "outlinewidth": 1,
              "tickcolor": "rgb(36,36,36)",
              "ticks": "outside"
             }
            },
            "type": "scatterpolargl"
           }
          ],
          "scatterternary": [
           {
            "marker": {
             "colorbar": {
              "outlinewidth": 1,
              "tickcolor": "rgb(36,36,36)",
              "ticks": "outside"
             }
            },
            "type": "scatterternary"
           }
          ],
          "surface": [
           {
            "colorbar": {
             "outlinewidth": 1,
             "tickcolor": "rgb(36,36,36)",
             "ticks": "outside"
            },
            "colorscale": [
             [
              0,
              "#440154"
             ],
             [
              0.1111111111111111,
              "#482878"
             ],
             [
              0.2222222222222222,
              "#3e4989"
             ],
             [
              0.3333333333333333,
              "#31688e"
             ],
             [
              0.4444444444444444,
              "#26828e"
             ],
             [
              0.5555555555555556,
              "#1f9e89"
             ],
             [
              0.6666666666666666,
              "#35b779"
             ],
             [
              0.7777777777777778,
              "#6ece58"
             ],
             [
              0.8888888888888888,
              "#b5de2b"
             ],
             [
              1,
              "#fde725"
             ]
            ],
            "type": "surface"
           }
          ],
          "table": [
           {
            "cells": {
             "fill": {
              "color": "rgb(237,237,237)"
             },
             "line": {
              "color": "white"
             }
            },
            "header": {
             "fill": {
              "color": "rgb(217,217,217)"
             },
             "line": {
              "color": "white"
             }
            },
            "type": "table"
           }
          ]
         },
         "layout": {
          "annotationdefaults": {
           "arrowhead": 0,
           "arrowwidth": 1
          },
          "autotypenumbers": "strict",
          "coloraxis": {
           "colorbar": {
            "outlinewidth": 1,
            "tickcolor": "rgb(36,36,36)",
            "ticks": "outside"
           }
          },
          "colorscale": {
           "diverging": [
            [
             0,
             "rgb(103,0,31)"
            ],
            [
             0.1,
             "rgb(178,24,43)"
            ],
            [
             0.2,
             "rgb(214,96,77)"
            ],
            [
             0.3,
             "rgb(244,165,130)"
            ],
            [
             0.4,
             "rgb(253,219,199)"
            ],
            [
             0.5,
             "rgb(247,247,247)"
            ],
            [
             0.6,
             "rgb(209,229,240)"
            ],
            [
             0.7,
             "rgb(146,197,222)"
            ],
            [
             0.8,
             "rgb(67,147,195)"
            ],
            [
             0.9,
             "rgb(33,102,172)"
            ],
            [
             1,
             "rgb(5,48,97)"
            ]
           ],
           "sequential": [
            [
             0,
             "#440154"
            ],
            [
             0.1111111111111111,
             "#482878"
            ],
            [
             0.2222222222222222,
             "#3e4989"
            ],
            [
             0.3333333333333333,
             "#31688e"
            ],
            [
             0.4444444444444444,
             "#26828e"
            ],
            [
             0.5555555555555556,
             "#1f9e89"
            ],
            [
             0.6666666666666666,
             "#35b779"
            ],
            [
             0.7777777777777778,
             "#6ece58"
            ],
            [
             0.8888888888888888,
             "#b5de2b"
            ],
            [
             1,
             "#fde725"
            ]
           ],
           "sequentialminus": [
            [
             0,
             "#440154"
            ],
            [
             0.1111111111111111,
             "#482878"
            ],
            [
             0.2222222222222222,
             "#3e4989"
            ],
            [
             0.3333333333333333,
             "#31688e"
            ],
            [
             0.4444444444444444,
             "#26828e"
            ],
            [
             0.5555555555555556,
             "#1f9e89"
            ],
            [
             0.6666666666666666,
             "#35b779"
            ],
            [
             0.7777777777777778,
             "#6ece58"
            ],
            [
             0.8888888888888888,
             "#b5de2b"
            ],
            [
             1,
             "#fde725"
            ]
           ]
          },
          "colorway": [
           "#1F77B4",
           "#FF7F0E",
           "#2CA02C",
           "#D62728",
           "#9467BD",
           "#8C564B",
           "#E377C2",
           "#7F7F7F",
           "#BCBD22",
           "#17BECF"
          ],
          "font": {
           "color": "rgb(36,36,36)"
          },
          "geo": {
           "bgcolor": "white",
           "lakecolor": "white",
           "landcolor": "white",
           "showlakes": true,
           "showland": true,
           "subunitcolor": "white"
          },
          "hoverlabel": {
           "align": "left"
          },
          "hovermode": "closest",
          "mapbox": {
           "style": "light"
          },
          "paper_bgcolor": "white",
          "plot_bgcolor": "white",
          "polar": {
           "angularaxis": {
            "gridcolor": "rgb(232,232,232)",
            "linecolor": "rgb(36,36,36)",
            "showgrid": false,
            "showline": true,
            "ticks": "outside"
           },
           "bgcolor": "white",
           "radialaxis": {
            "gridcolor": "rgb(232,232,232)",
            "linecolor": "rgb(36,36,36)",
            "showgrid": false,
            "showline": true,
            "ticks": "outside"
           }
          },
          "scene": {
           "xaxis": {
            "backgroundcolor": "white",
            "gridcolor": "rgb(232,232,232)",
            "gridwidth": 2,
            "linecolor": "rgb(36,36,36)",
            "showbackground": true,
            "showgrid": false,
            "showline": true,
            "ticks": "outside",
            "zeroline": false,
            "zerolinecolor": "rgb(36,36,36)"
           },
           "yaxis": {
            "backgroundcolor": "white",
            "gridcolor": "rgb(232,232,232)",
            "gridwidth": 2,
            "linecolor": "rgb(36,36,36)",
            "showbackground": true,
            "showgrid": false,
            "showline": true,
            "ticks": "outside",
            "zeroline": false,
            "zerolinecolor": "rgb(36,36,36)"
           },
           "zaxis": {
            "backgroundcolor": "white",
            "gridcolor": "rgb(232,232,232)",
            "gridwidth": 2,
            "linecolor": "rgb(36,36,36)",
            "showbackground": true,
            "showgrid": false,
            "showline": true,
            "ticks": "outside",
            "zeroline": false,
            "zerolinecolor": "rgb(36,36,36)"
           }
          },
          "shapedefaults": {
           "fillcolor": "black",
           "line": {
            "width": 0
           },
           "opacity": 0.3
          },
          "ternary": {
           "aaxis": {
            "gridcolor": "rgb(232,232,232)",
            "linecolor": "rgb(36,36,36)",
            "showgrid": false,
            "showline": true,
            "ticks": "outside"
           },
           "baxis": {
            "gridcolor": "rgb(232,232,232)",
            "linecolor": "rgb(36,36,36)",
            "showgrid": false,
            "showline": true,
            "ticks": "outside"
           },
           "bgcolor": "white",
           "caxis": {
            "gridcolor": "rgb(232,232,232)",
            "linecolor": "rgb(36,36,36)",
            "showgrid": false,
            "showline": true,
            "ticks": "outside"
           }
          },
          "title": {
           "x": 0.05
          },
          "xaxis": {
           "automargin": true,
           "gridcolor": "rgb(232,232,232)",
           "linecolor": "rgb(36,36,36)",
           "showgrid": false,
           "showline": true,
           "ticks": "outside",
           "title": {
            "standoff": 15
           },
           "zeroline": false,
           "zerolinecolor": "rgb(36,36,36)"
          },
          "yaxis": {
           "automargin": true,
           "gridcolor": "rgb(232,232,232)",
           "linecolor": "rgb(36,36,36)",
           "showgrid": false,
           "showline": true,
           "ticks": "outside",
           "title": {
            "standoff": 15
           },
           "zeroline": false,
           "zerolinecolor": "rgb(36,36,36)"
          }
         }
        },
        "width": 2000,
        "xaxis": {
         "anchor": "y",
         "domain": [
          0,
          1
         ],
         "type": "date"
        },
        "yaxis": {
         "anchor": "x",
         "domain": [
          0,
          1
         ],
         "title": {
          "text": "Resource"
         }
        }
       }
      },
      "text/html": [
       "<div>                            <div id=\"b47190ca-48d7-4655-af01-0d1b894e6114\" class=\"plotly-graph-div\" style=\"height:800px; width:2000px;\"></div>            <script type=\"text/javascript\">                require([\"plotly\"], function(Plotly) {                    window.PLOTLYENV=window.PLOTLYENV || {};                                    if (document.getElementById(\"b47190ca-48d7-4655-af01-0d1b894e6114\")) {                    Plotly.newPlot(                        \"b47190ca-48d7-4655-af01-0d1b894e6114\",                        [{\"alignmentgroup\":\"True\",\"base\":[\"1970-01-07T09:00:00\",\"1970-01-07T21:00:00\",\"1970-01-08T15:00:00\",\"1970-01-09T12:00:00\",\"1970-01-10T04:00:00\",\"1970-01-10T14:00:00\",\"1970-01-03T04:00:00\"],\"customdata\":[[\"LOR\"],[\"LOR\"],[\"LOR\"],[\"LOR\"],[\"LOR\"],[\"LOR\"],[\"LPT\"]],\"hovertemplate\":\"Type=j19<br>Start=%{base}<br>Finish=%{x}<br>Resource=%{y}<br>Task=%{text}<br>Rule=%{customdata[0]}<extra></extra>\",\"legendgroup\":\"j19\",\"marker\":{\"color\":\"#2E91E5\",\"pattern\":{\"shape\":\"\"},\"line\":{\"color\":\"black\"}},\"name\":\"j19\",\"offsetgroup\":\"j19\",\"orientation\":\"h\",\"showlegend\":true,\"text\":[\"j1902\",\"j1903\",\"j1904\",\"j1905\",\"j1906\",\"j1907\",\"j1901\"],\"textposition\":\"auto\",\"x\":[43200000.0,64800000.0,75600000.0,57600000.0,36000000.0,64800000.0,86400000.0],\"xaxis\":\"x\",\"y\":[\"M6\",\"M6\",\"M6\",\"M5\",\"M4\",\"M4\",\"M2\"],\"yaxis\":\"y\",\"type\":\"bar\"},{\"alignmentgroup\":\"True\",\"base\":[\"1970-01-03T00:00:00\",\"1970-01-04T19:00:00\",\"1970-01-05T07:00:00\",\"1970-01-05T20:00:00\",\"1970-01-06T13:00:00\"],\"customdata\":[[\"LPT\"],[\"LOR\"],[\"LOR\"],[\"LOR\"],[\"LOR\"]],\"hovertemplate\":\"Type=j18<br>Start=%{base}<br>Finish=%{x}<br>Resource=%{y}<br>Task=%{text}<br>Rule=%{customdata[0]}<extra></extra>\",\"legendgroup\":\"j18\",\"marker\":{\"color\":\"#E15F99\",\"pattern\":{\"shape\":\"\"},\"line\":{\"color\":\"black\"}},\"name\":\"j18\",\"offsetgroup\":\"j18\",\"orientation\":\"h\",\"showlegend\":true,\"text\":[\"j1801\",\"j1802\",\"j1803\",\"j1804\",\"j1805\"],\"textposition\":\"auto\",\"x\":[90000000.0,43200000.0,46800000.0,61200000.0,72000000.0],\"xaxis\":\"x\",\"y\":[\"M6\",\"M6\",\"M6\",\"M6\",\"M6\"],\"yaxis\":\"y\",\"type\":\"bar\"},{\"alignmentgroup\":\"True\",\"base\":[\"1970-01-01T09:00:00\",\"1970-01-01T14:00:00\",\"1970-01-02T01:00:00\",\"1970-01-02T08:00:00\"],\"customdata\":[[\"LOR\"],[\"LOR\"],[\"LOR\"],[\"LOR\"]],\"hovertemplate\":\"Type=j10<br>Start=%{base}<br>Finish=%{x}<br>Resource=%{y}<br>Task=%{text}<br>Rule=%{customdata[0]}<extra></extra>\",\"legendgroup\":\"j10\",\"marker\":{\"color\":\"#1CA71C\",\"pattern\":{\"shape\":\"\"},\"line\":{\"color\":\"black\"}},\"name\":\"j10\",\"offsetgroup\":\"j10\",\"orientation\":\"h\",\"showlegend\":true,\"text\":[\"j1001\",\"j1002\",\"j1003\",\"j1004\"],\"textposition\":\"auto\",\"x\":[18000000.0,39600000.0,25200000.0,57600000.0],\"xaxis\":\"x\",\"y\":[\"M6\",\"M6\",\"M6\",\"M6\"],\"yaxis\":\"y\",\"type\":\"bar\"},{\"alignmentgroup\":\"True\",\"base\":[\"1970-01-04T01:00:00\",\"1970-01-04T10:00:00\",\"1970-01-01T09:00:00\",\"1970-01-02T03:00:00\"],\"customdata\":[[\"LOR\"],[\"LOR\"],[\"LOR\"],[\"LOR\"]],\"hovertemplate\":\"Type=j1<br>Start=%{base}<br>Finish=%{x}<br>Resource=%{y}<br>Task=%{text}<br>Rule=%{customdata[0]}<extra></extra>\",\"legendgroup\":\"j1\",\"marker\":{\"color\":\"#FB0D0D\",\"pattern\":{\"shape\":\"\"},\"line\":{\"color\":\"black\"}},\"name\":\"j1\",\"offsetgroup\":\"j1\",\"orientation\":\"h\",\"showlegend\":true,\"text\":[\"j0103\",\"j0104\",\"j0101\",\"j0102\"],\"textposition\":\"auto\",\"x\":[32400000.0,32400000.0,64800000.0,28800000.0],\"xaxis\":\"x\",\"y\":[\"M6\",\"M6\",\"M3\",\"M3\"],\"yaxis\":\"y\",\"type\":\"bar\"},{\"alignmentgroup\":\"True\",\"base\":[\"1970-01-01T09:00:00\",\"1970-01-01T15:00:00\",\"1970-01-01T20:00:00\",\"1970-01-04T01:00:00\"],\"customdata\":[[\"LOR\"],[\"LOR\"],[\"LOR\"],[\"LOR\"]],\"hovertemplate\":\"Type=j8<br>Start=%{base}<br>Finish=%{x}<br>Resource=%{y}<br>Task=%{text}<br>Rule=%{customdata[0]}<extra></extra>\",\"legendgroup\":\"j8\",\"marker\":{\"color\":\"#DA16FF\",\"pattern\":{\"shape\":\"\"},\"line\":{\"color\":\"black\"}},\"name\":\"j8\",\"offsetgroup\":\"j8\",\"orientation\":\"h\",\"showlegend\":true,\"text\":[\"j0801\",\"j0802\",\"j0803\",\"j0804\"],\"textposition\":\"auto\",\"x\":[21600000.0,18000000.0,64800000.0,82800000.0],\"xaxis\":\"x\",\"y\":[\"M5\",\"M5\",\"M5\",\"M4\"],\"yaxis\":\"y\",\"type\":\"bar\"},{\"alignmentgroup\":\"True\",\"base\":[\"1970-01-03T16:00:00\",\"1970-01-04T21:00:00\",\"1970-01-05T15:00:00\",\"1970-01-02T11:00:00\"],\"customdata\":[[\"LPT\"],[\"LOR\"],[\"LOR\"],[\"LPT\"]],\"hovertemplate\":\"Type=j17<br>Start=%{base}<br>Finish=%{x}<br>Resource=%{y}<br>Task=%{text}<br>Rule=%{customdata[0]}<extra></extra>\",\"legendgroup\":\"j17\",\"marker\":{\"color\":\"#222A2A\",\"pattern\":{\"shape\":\"\"},\"line\":{\"color\":\"black\"}},\"name\":\"j17\",\"offsetgroup\":\"j17\",\"orientation\":\"h\",\"showlegend\":true,\"text\":[\"j1702\",\"j1703\",\"j1704\",\"j1701\"],\"textposition\":\"auto\",\"x\":[104400000.0,64800000.0,90000000.0,97200000.0],\"xaxis\":\"x\",\"y\":[\"M5\",\"M5\",\"M5\",\"M3\"],\"yaxis\":\"y\",\"type\":\"bar\"},{\"alignmentgroup\":\"True\",\"base\":[\"1970-01-02T14:00:00\",\"1970-01-06T16:00:00\",\"1970-01-07T13:00:00\",\"1970-01-08T00:00:00\",\"1970-01-08T06:00:00\",\"1970-01-08T13:00:00\"],\"customdata\":[[\"LPT\"],[\"LOR\"],[\"LOR\"],[\"LOR\"],[\"LOR\"],[\"LOR\"]],\"hovertemplate\":\"Type=j11<br>Start=%{base}<br>Finish=%{x}<br>Resource=%{y}<br>Task=%{text}<br>Rule=%{customdata[0]}<extra></extra>\",\"legendgroup\":\"j11\",\"marker\":{\"color\":\"#B68100\",\"pattern\":{\"shape\":\"\"},\"line\":{\"color\":\"black\"}},\"name\":\"j11\",\"offsetgroup\":\"j11\",\"orientation\":\"h\",\"showlegend\":true,\"text\":[\"j1101\",\"j1102\",\"j1103\",\"j1104\",\"j1105\",\"j1106\"],\"textposition\":\"auto\",\"x\":[93600000.0,75600000.0,39600000.0,21600000.0,25200000.0,21600000.0],\"xaxis\":\"x\",\"y\":[\"M5\",\"M5\",\"M5\",\"M5\",\"M5\",\"M5\"],\"yaxis\":\"y\",\"type\":\"bar\"},{\"alignmentgroup\":\"True\",\"base\":[\"1970-01-05T00:00:00\",\"1970-01-05T10:00:00\",\"1970-01-05T16:00:00\",\"1970-01-05T23:00:00\",\"1970-01-06T07:00:00\"],\"customdata\":[[\"LOR\"],[\"LOR\"],[\"LOR\"],[\"LOR\"],[\"LOR\"]],\"hovertemplate\":\"Type=j4<br>Start=%{base}<br>Finish=%{x}<br>Resource=%{y}<br>Task=%{text}<br>Rule=%{customdata[0]}<extra></extra>\",\"legendgroup\":\"j4\",\"marker\":{\"color\":\"#750D86\",\"pattern\":{\"shape\":\"\"},\"line\":{\"color\":\"black\"}},\"name\":\"j4\",\"offsetgroup\":\"j4\",\"orientation\":\"h\",\"showlegend\":true,\"text\":[\"j0401\",\"j0402\",\"j0403\",\"j0404\",\"j0405\"],\"textposition\":\"auto\",\"x\":[36000000.0,21600000.0,25200000.0,28800000.0,64800000.0],\"xaxis\":\"x\",\"y\":[\"M4\",\"M4\",\"M4\",\"M4\",\"M4\"],\"yaxis\":\"y\",\"type\":\"bar\"},{\"alignmentgroup\":\"True\",\"base\":[\"1970-01-01T09:00:00\",\"1970-01-01T21:00:00\",\"1970-01-02T06:00:00\",\"1970-01-02T13:00:00\"],\"customdata\":[[\"LOR\"],[\"LOR\"],[\"LOR\"],[\"LOR\"]],\"hovertemplate\":\"Type=j3<br>Start=%{base}<br>Finish=%{x}<br>Resource=%{y}<br>Task=%{text}<br>Rule=%{customdata[0]}<extra></extra>\",\"legendgroup\":\"j3\",\"marker\":{\"color\":\"#EB663B\",\"pattern\":{\"shape\":\"\"},\"line\":{\"color\":\"black\"}},\"name\":\"j3\",\"offsetgroup\":\"j3\",\"orientation\":\"h\",\"showlegend\":true,\"text\":[\"j0301\",\"j0302\",\"j0303\",\"j0304\"],\"textposition\":\"auto\",\"x\":[43200000.0,32400000.0,25200000.0,36000000.0],\"xaxis\":\"x\",\"y\":[\"M4\",\"M4\",\"M4\",\"M4\"],\"yaxis\":\"y\",\"type\":\"bar\"},{\"alignmentgroup\":\"True\",\"base\":[\"1970-01-07T01:00:00\",\"1970-01-07T12:00:00\",\"1970-01-08T00:00:00\",\"1970-01-08T14:00:00\",\"1970-01-09T13:00:00\",\"1970-01-02T19:00:00\"],\"customdata\":[[\"LOR\"],[\"LOR\"],[\"LOR\"],[\"LOR\"],[\"LOR\"],[\"LPT\"]],\"hovertemplate\":\"Type=j20<br>Start=%{base}<br>Finish=%{x}<br>Resource=%{y}<br>Task=%{text}<br>Rule=%{customdata[0]}<extra></extra>\",\"legendgroup\":\"j20\",\"marker\":{\"color\":\"#511CFB\",\"pattern\":{\"shape\":\"\"},\"line\":{\"color\":\"black\"}},\"name\":\"j20\",\"offsetgroup\":\"j20\",\"orientation\":\"h\",\"showlegend\":true,\"text\":[\"j2002\",\"j2003\",\"j2004\",\"j2005\",\"j2006\",\"j2001\"],\"textposition\":\"auto\",\"x\":[39600000.0,43200000.0,50400000.0,82800000.0,43200000.0,93600000.0],\"xaxis\":\"x\",\"y\":[\"M4\",\"M4\",\"M4\",\"M4\",\"M4\",\"M1\"],\"yaxis\":\"y\",\"type\":\"bar\"},{\"alignmentgroup\":\"True\",\"base\":[\"1970-01-02T23:00:00\",\"1970-01-04T04:00:00\",\"1970-01-04T21:00:00\",\"1970-01-05T11:00:00\"],\"customdata\":[[\"LPT\"],[\"LOR\"],[\"LOR\"],[\"LOR\"]],\"hovertemplate\":\"Type=j14<br>Start=%{base}<br>Finish=%{x}<br>Resource=%{y}<br>Task=%{text}<br>Rule=%{customdata[0]}<extra></extra>\",\"legendgroup\":\"j14\",\"marker\":{\"color\":\"#00A08B\",\"pattern\":{\"shape\":\"\"},\"line\":{\"color\":\"black\"}},\"name\":\"j14\",\"offsetgroup\":\"j14\",\"orientation\":\"h\",\"showlegend\":true,\"text\":[\"j1401\",\"j1402\",\"j1403\",\"j1404\"],\"textposition\":\"auto\",\"x\":[93600000.0,61200000.0,50400000.0,28800000.0],\"xaxis\":\"x\",\"y\":[\"M4\",\"M2\",\"M2\",\"M2\"],\"yaxis\":\"y\",\"type\":\"bar\"},{\"alignmentgroup\":\"True\",\"base\":[\"1970-01-05T23:00:00\",\"1970-01-06T11:00:00\",\"1970-01-07T00:00:00\",\"1970-01-07T12:00:00\",\"1970-01-08T02:00:00\"],\"customdata\":[[\"LOR\"],[\"LOR\"],[\"LOR\"],[\"LOR\"],[\"LOR\"]],\"hovertemplate\":\"Type=j9<br>Start=%{base}<br>Finish=%{x}<br>Resource=%{y}<br>Task=%{text}<br>Rule=%{customdata[0]}<extra></extra>\",\"legendgroup\":\"j9\",\"marker\":{\"color\":\"#FB00D1\",\"pattern\":{\"shape\":\"\"},\"line\":{\"color\":\"black\"}},\"name\":\"j9\",\"offsetgroup\":\"j9\",\"orientation\":\"h\",\"showlegend\":true,\"text\":[\"j0901\",\"j0902\",\"j0903\",\"j0904\",\"j0905\"],\"textposition\":\"auto\",\"x\":[43200000.0,46800000.0,43200000.0,50400000.0,54000000.0],\"xaxis\":\"x\",\"y\":[\"M3\",\"M3\",\"M3\",\"M3\",\"M3\"],\"yaxis\":\"y\",\"type\":\"bar\"},{\"alignmentgroup\":\"True\",\"base\":[\"1970-01-08T17:00:00\",\"1970-01-09T13:00:00\",\"1970-01-09T19:00:00\",\"1970-01-10T09:00:00\",\"1970-01-10T22:00:00\",\"1970-01-11T19:00:00\",\"1970-01-12T13:00:00\",\"1970-01-13T06:00:00\"],\"customdata\":[[\"LOR\"],[\"LOR\"],[\"LOR\"],[\"LOR\"],[\"LOR\"],[\"LOR\"],[\"LOR\"],[\"LOR\"]],\"hovertemplate\":\"Type=j16<br>Start=%{base}<br>Finish=%{x}<br>Resource=%{y}<br>Task=%{text}<br>Rule=%{customdata[0]}<extra></extra>\",\"legendgroup\":\"j16\",\"marker\":{\"color\":\"#FC0080\",\"pattern\":{\"shape\":\"\"},\"line\":{\"color\":\"black\"}},\"name\":\"j16\",\"offsetgroup\":\"j16\",\"orientation\":\"h\",\"showlegend\":true,\"text\":[\"j1601\",\"j1602\",\"j1603\",\"j1604\",\"j1605\",\"j1606\",\"j1607\",\"j1608\"],\"textposition\":\"auto\",\"x\":[72000000.0,21600000.0,50400000.0,46800000.0,75600000.0,64800000.0,61200000.0,39600000.0],\"xaxis\":\"x\",\"y\":[\"M3\",\"M3\",\"M3\",\"M3\",\"M3\",\"M3\",\"M2\",\"M2\"],\"yaxis\":\"y\",\"type\":\"bar\"},{\"alignmentgroup\":\"True\",\"base\":[\"1970-01-03T14:00:00\",\"1970-01-04T13:00:00\",\"1970-01-05T01:00:00\",\"1970-01-05T12:00:00\",\"1970-01-05T17:00:00\"],\"customdata\":[[\"LPT\"],[\"LOR\"],[\"LOR\"],[\"LOR\"],[\"LOR\"]],\"hovertemplate\":\"Type=j12<br>Start=%{base}<br>Finish=%{x}<br>Resource=%{y}<br>Task=%{text}<br>Rule=%{customdata[0]}<extra></extra>\",\"legendgroup\":\"j12\",\"marker\":{\"color\":\"#B2828D\",\"pattern\":{\"shape\":\"\"},\"line\":{\"color\":\"black\"}},\"name\":\"j12\",\"offsetgroup\":\"j12\",\"orientation\":\"h\",\"showlegend\":true,\"text\":[\"j1201\",\"j1202\",\"j1203\",\"j1204\",\"j1205\"],\"textposition\":\"auto\",\"x\":[82800000.0,43200000.0,39600000.0,18000000.0,21600000.0],\"xaxis\":\"x\",\"y\":[\"M3\",\"M3\",\"M3\",\"M3\",\"M3\"],\"yaxis\":\"y\",\"type\":\"bar\"},{\"alignmentgroup\":\"True\",\"base\":[\"1970-01-08T14:00:00\",\"1970-01-09T03:00:00\",\"1970-01-09T18:00:00\",\"1970-01-10T04:00:00\",\"1970-01-10T13:00:00\",\"1970-01-11T00:00:00\",\"1970-01-11T16:00:00\"],\"customdata\":[[\"LOR\"],[\"LOR\"],[\"LOR\"],[\"LOR\"],[\"LOR\"],[\"LOR\"],[\"LOR\"]],\"hovertemplate\":\"Type=j7<br>Start=%{base}<br>Finish=%{x}<br>Resource=%{y}<br>Task=%{text}<br>Rule=%{customdata[0]}<extra></extra>\",\"legendgroup\":\"j7\",\"marker\":{\"color\":\"#6C7C32\",\"pattern\":{\"shape\":\"\"},\"line\":{\"color\":\"black\"}},\"name\":\"j7\",\"offsetgroup\":\"j7\",\"orientation\":\"h\",\"showlegend\":true,\"text\":[\"j0701\",\"j0702\",\"j0703\",\"j0704\",\"j0705\",\"j0706\",\"j0707\"],\"textposition\":\"auto\",\"x\":[46800000.0,54000000.0,36000000.0,32400000.0,39600000.0,57600000.0,72000000.0],\"xaxis\":\"x\",\"y\":[\"M2\",\"M2\",\"M2\",\"M2\",\"M2\",\"M2\",\"M2\"],\"yaxis\":\"y\",\"type\":\"bar\"},{\"alignmentgroup\":\"True\",\"base\":[\"1970-01-05T19:00:00\",\"1970-01-06T13:00:00\",\"1970-01-07T05:00:00\",\"1970-01-07T22:00:00\",\"1970-01-08T09:00:00\"],\"customdata\":[[\"LOR\"],[\"LOR\"],[\"LOR\"],[\"LOR\"],[\"LOR\"]],\"hovertemplate\":\"Type=j5<br>Start=%{base}<br>Finish=%{x}<br>Resource=%{y}<br>Task=%{text}<br>Rule=%{customdata[0]}<extra></extra>\",\"legendgroup\":\"j5\",\"marker\":{\"color\":\"#778AAE\",\"pattern\":{\"shape\":\"\"},\"line\":{\"color\":\"black\"}},\"name\":\"j5\",\"offsetgroup\":\"j5\",\"orientation\":\"h\",\"showlegend\":true,\"text\":[\"j0501\",\"j0502\",\"j0503\",\"j0504\",\"j0505\"],\"textposition\":\"auto\",\"x\":[64800000.0,57600000.0,61200000.0,39600000.0,18000000.0],\"xaxis\":\"x\",\"y\":[\"M2\",\"M2\",\"M2\",\"M2\",\"M2\"],\"yaxis\":\"y\",\"type\":\"bar\"},{\"alignmentgroup\":\"True\",\"base\":[\"1970-01-01T09:00:00\",\"1970-01-02T02:00:00\",\"1970-01-02T10:00:00\"],\"customdata\":[[\"LOR\"],[\"LOR\"],[\"LOR\"]],\"hovertemplate\":\"Type=j15<br>Start=%{base}<br>Finish=%{x}<br>Resource=%{y}<br>Task=%{text}<br>Rule=%{customdata[0]}<extra></extra>\",\"legendgroup\":\"j15\",\"marker\":{\"color\":\"#862A16\",\"pattern\":{\"shape\":\"\"},\"line\":{\"color\":\"black\"}},\"name\":\"j15\",\"offsetgroup\":\"j15\",\"orientation\":\"h\",\"showlegend\":true,\"text\":[\"j1501\",\"j1502\",\"j1503\"],\"textposition\":\"auto\",\"x\":[61200000.0,28800000.0,64800000.0],\"xaxis\":\"x\",\"y\":[\"M2\",\"M2\",\"M2\"],\"yaxis\":\"y\",\"type\":\"bar\"},{\"alignmentgroup\":\"True\",\"base\":[\"1970-01-01T09:00:00\",\"1970-01-01T20:00:00\",\"1970-01-03T21:00:00\"],\"customdata\":[[\"LOR\"],[\"LOR\"],[\"LOR\"]],\"hovertemplate\":\"Type=j6<br>Start=%{base}<br>Finish=%{x}<br>Resource=%{y}<br>Task=%{text}<br>Rule=%{customdata[0]}<extra></extra>\",\"legendgroup\":\"j6\",\"marker\":{\"color\":\"#A777F1\",\"pattern\":{\"shape\":\"\"},\"line\":{\"color\":\"black\"}},\"name\":\"j6\",\"offsetgroup\":\"j6\",\"orientation\":\"h\",\"showlegend\":true,\"text\":[\"j0601\",\"j0602\",\"j0603\"],\"textposition\":\"auto\",\"x\":[39600000.0,82800000.0,50400000.0],\"xaxis\":\"x\",\"y\":[\"M1\",\"M1\",\"M1\"],\"yaxis\":\"y\",\"type\":\"bar\"},{\"alignmentgroup\":\"True\",\"base\":[\"1970-01-07T14:00:00\",\"1970-01-08T03:00:00\",\"1970-01-08T14:00:00\",\"1970-01-09T15:00:00\",\"1970-01-10T13:00:00\",\"1970-01-11T12:00:00\",\"1970-01-12T12:00:00\"],\"customdata\":[[\"LOR\"],[\"LOR\"],[\"LOR\"],[\"LOR\"],[\"LOR\"],[\"LOR\"],[\"LOR\"]],\"hovertemplate\":\"Type=j2<br>Start=%{base}<br>Finish=%{x}<br>Resource=%{y}<br>Task=%{text}<br>Rule=%{customdata[0]}<extra></extra>\",\"legendgroup\":\"j2\",\"marker\":{\"color\":\"#620042\",\"pattern\":{\"shape\":\"\"},\"line\":{\"color\":\"black\"}},\"name\":\"j2\",\"offsetgroup\":\"j2\",\"orientation\":\"h\",\"showlegend\":true,\"text\":[\"j0201\",\"j0202\",\"j0203\",\"j0204\",\"j0205\",\"j0206\",\"j0207\"],\"textposition\":\"auto\",\"x\":[46800000.0,39600000.0,90000000.0,79200000.0,82800000.0,86400000.0,97200000.0],\"xaxis\":\"x\",\"y\":[\"M1\",\"M1\",\"M1\",\"M1\",\"M1\",\"M1\",\"M1\"],\"yaxis\":\"y\",\"type\":\"bar\"},{\"alignmentgroup\":\"True\",\"base\":[\"1970-01-04T11:00:00\",\"1970-01-05T00:00:00\",\"1970-01-05T20:00:00\",\"1970-01-06T22:00:00\"],\"customdata\":[[\"LOR\"],[\"LOR\"],[\"LOR\"],[\"LOR\"]],\"hovertemplate\":\"Type=j13<br>Start=%{base}<br>Finish=%{x}<br>Resource=%{y}<br>Task=%{text}<br>Rule=%{customdata[0]}<extra></extra>\",\"legendgroup\":\"j13\",\"marker\":{\"color\":\"#1616A7\",\"pattern\":{\"shape\":\"\"},\"line\":{\"color\":\"black\"}},\"name\":\"j13\",\"offsetgroup\":\"j13\",\"orientation\":\"h\",\"showlegend\":true,\"text\":[\"j1301\",\"j1302\",\"j1303\",\"j1304\"],\"textposition\":\"auto\",\"x\":[46800000.0,72000000.0,93600000.0,57600000.0],\"xaxis\":\"x\",\"y\":[\"M1\",\"M1\",\"M1\",\"M1\"],\"yaxis\":\"y\",\"type\":\"bar\"},{\"alignmentgroup\":\"True\",\"base\":[\"1970-01-03T00:00:00\",\"1970-01-04T01:00:00\",\"1970-01-04T19:00:00\",\"1970-01-07T09:00:00\",\"1970-01-02T14:00:00\",\"1970-01-03T16:00:00\",\"1970-01-06T16:00:00\",\"1970-01-09T12:00:00\",\"1970-01-02T23:00:00\",\"1970-01-04T01:00:00\",\"1970-01-05T00:00:00\",\"1970-01-07T01:00:00\",\"1970-01-10T04:00:00\",\"1970-01-02T11:00:00\",\"1970-01-03T14:00:00\",\"1970-01-05T23:00:00\",\"1970-01-08T17:00:00\",\"1970-01-03T04:00:00\",\"1970-01-04T04:00:00\",\"1970-01-05T19:00:00\",\"1970-01-08T14:00:00\",\"1970-01-12T13:00:00\",\"1970-01-02T19:00:00\",\"1970-01-03T21:00:00\",\"1970-01-04T11:00:00\",\"1970-01-07T14:00:00\"],\"customdata\":[[\"NONE\"],[\"NONE\"],[\"NONE\"],[\"NONE\"],[\"NONE\"],[\"NONE\"],[\"NONE\"],[\"NONE\"],[\"NONE\"],[\"NONE\"],[\"NONE\"],[\"NONE\"],[\"NONE\"],[\"NONE\"],[\"NONE\"],[\"NONE\"],[\"NONE\"],[\"NONE\"],[\"NONE\"],[\"NONE\"],[\"NONE\"],[\"NONE\"],[\"NONE\"],[\"NONE\"],[\"NONE\"],[\"NONE\"]],\"hovertemplate\":\"Type=setup<br>Start=%{base}<br>Finish=%{x}<br>Resource=%{y}<br>Task=%{text}<br>Rule=%{customdata[0]}<extra></extra>\",\"legendgroup\":\"setup\",\"marker\":{\"color\":\"#DA60CA\",\"pattern\":{\"shape\":\"\"},\"line\":{\"color\":\"black\"}},\"name\":\"setup\",\"offsetgroup\":\"setup\",\"orientation\":\"h\",\"showlegend\":true,\"text\":[\"setup\",\"setup\",\"setup\",\"setup\",\"setup\",\"setup\",\"setup\",\"setup\",\"setup\",\"setup\",\"setup\",\"setup\",\"setup\",\"setup\",\"setup\",\"setup\",\"setup\",\"setup\",\"setup\",\"setup\",\"setup\",\"setup\",\"setup\",\"setup\",\"setup\",\"setup\"],\"textposition\":\"auto\",\"x\":[10800000.0,3600000.0,7200000.0,7200000.0,10800000.0,14400000.0,10800000.0,3600000.0,7200000.0,10800000.0,14400000.0,10800000.0,10800000.0,10800000.0,14400000.0,7200000.0,3600000.0,7200000.0,10800000.0,10800000.0,10800000.0,7200000.0,3600000.0,10800000.0,7200000.0,10800000.0],\"xaxis\":\"x\",\"y\":[\"M6\",\"M6\",\"M6\",\"M6\",\"M5\",\"M5\",\"M5\",\"M5\",\"M4\",\"M4\",\"M4\",\"M4\",\"M4\",\"M3\",\"M3\",\"M3\",\"M3\",\"M2\",\"M2\",\"M2\",\"M2\",\"M2\",\"M1\",\"M1\",\"M1\",\"M1\"],\"yaxis\":\"y\",\"type\":\"bar\",\"width\":0.7}],                        {\"template\":{\"data\":{\"barpolar\":[{\"marker\":{\"line\":{\"color\":\"white\",\"width\":0.5},\"pattern\":{\"fillmode\":\"overlay\",\"size\":10,\"solidity\":0.2}},\"type\":\"barpolar\"}],\"bar\":[{\"error_x\":{\"color\":\"rgb(36,36,36)\"},\"error_y\":{\"color\":\"rgb(36,36,36)\"},\"marker\":{\"line\":{\"color\":\"white\",\"width\":0.5},\"pattern\":{\"fillmode\":\"overlay\",\"size\":10,\"solidity\":0.2}},\"type\":\"bar\"}],\"carpet\":[{\"aaxis\":{\"endlinecolor\":\"rgb(36,36,36)\",\"gridcolor\":\"white\",\"linecolor\":\"white\",\"minorgridcolor\":\"white\",\"startlinecolor\":\"rgb(36,36,36)\"},\"baxis\":{\"endlinecolor\":\"rgb(36,36,36)\",\"gridcolor\":\"white\",\"linecolor\":\"white\",\"minorgridcolor\":\"white\",\"startlinecolor\":\"rgb(36,36,36)\"},\"type\":\"carpet\"}],\"choropleth\":[{\"colorbar\":{\"outlinewidth\":1,\"tickcolor\":\"rgb(36,36,36)\",\"ticks\":\"outside\"},\"type\":\"choropleth\"}],\"contourcarpet\":[{\"colorbar\":{\"outlinewidth\":1,\"tickcolor\":\"rgb(36,36,36)\",\"ticks\":\"outside\"},\"type\":\"contourcarpet\"}],\"contour\":[{\"colorbar\":{\"outlinewidth\":1,\"tickcolor\":\"rgb(36,36,36)\",\"ticks\":\"outside\"},\"colorscale\":[[0.0,\"#440154\"],[0.1111111111111111,\"#482878\"],[0.2222222222222222,\"#3e4989\"],[0.3333333333333333,\"#31688e\"],[0.4444444444444444,\"#26828e\"],[0.5555555555555556,\"#1f9e89\"],[0.6666666666666666,\"#35b779\"],[0.7777777777777778,\"#6ece58\"],[0.8888888888888888,\"#b5de2b\"],[1.0,\"#fde725\"]],\"type\":\"contour\"}],\"heatmapgl\":[{\"colorbar\":{\"outlinewidth\":1,\"tickcolor\":\"rgb(36,36,36)\",\"ticks\":\"outside\"},\"colorscale\":[[0.0,\"#440154\"],[0.1111111111111111,\"#482878\"],[0.2222222222222222,\"#3e4989\"],[0.3333333333333333,\"#31688e\"],[0.4444444444444444,\"#26828e\"],[0.5555555555555556,\"#1f9e89\"],[0.6666666666666666,\"#35b779\"],[0.7777777777777778,\"#6ece58\"],[0.8888888888888888,\"#b5de2b\"],[1.0,\"#fde725\"]],\"type\":\"heatmapgl\"}],\"heatmap\":[{\"colorbar\":{\"outlinewidth\":1,\"tickcolor\":\"rgb(36,36,36)\",\"ticks\":\"outside\"},\"colorscale\":[[0.0,\"#440154\"],[0.1111111111111111,\"#482878\"],[0.2222222222222222,\"#3e4989\"],[0.3333333333333333,\"#31688e\"],[0.4444444444444444,\"#26828e\"],[0.5555555555555556,\"#1f9e89\"],[0.6666666666666666,\"#35b779\"],[0.7777777777777778,\"#6ece58\"],[0.8888888888888888,\"#b5de2b\"],[1.0,\"#fde725\"]],\"type\":\"heatmap\"}],\"histogram2dcontour\":[{\"colorbar\":{\"outlinewidth\":1,\"tickcolor\":\"rgb(36,36,36)\",\"ticks\":\"outside\"},\"colorscale\":[[0.0,\"#440154\"],[0.1111111111111111,\"#482878\"],[0.2222222222222222,\"#3e4989\"],[0.3333333333333333,\"#31688e\"],[0.4444444444444444,\"#26828e\"],[0.5555555555555556,\"#1f9e89\"],[0.6666666666666666,\"#35b779\"],[0.7777777777777778,\"#6ece58\"],[0.8888888888888888,\"#b5de2b\"],[1.0,\"#fde725\"]],\"type\":\"histogram2dcontour\"}],\"histogram2d\":[{\"colorbar\":{\"outlinewidth\":1,\"tickcolor\":\"rgb(36,36,36)\",\"ticks\":\"outside\"},\"colorscale\":[[0.0,\"#440154\"],[0.1111111111111111,\"#482878\"],[0.2222222222222222,\"#3e4989\"],[0.3333333333333333,\"#31688e\"],[0.4444444444444444,\"#26828e\"],[0.5555555555555556,\"#1f9e89\"],[0.6666666666666666,\"#35b779\"],[0.7777777777777778,\"#6ece58\"],[0.8888888888888888,\"#b5de2b\"],[1.0,\"#fde725\"]],\"type\":\"histogram2d\"}],\"histogram\":[{\"marker\":{\"line\":{\"color\":\"white\",\"width\":0.6}},\"type\":\"histogram\"}],\"mesh3d\":[{\"colorbar\":{\"outlinewidth\":1,\"tickcolor\":\"rgb(36,36,36)\",\"ticks\":\"outside\"},\"type\":\"mesh3d\"}],\"parcoords\":[{\"line\":{\"colorbar\":{\"outlinewidth\":1,\"tickcolor\":\"rgb(36,36,36)\",\"ticks\":\"outside\"}},\"type\":\"parcoords\"}],\"pie\":[{\"automargin\":true,\"type\":\"pie\"}],\"scatter3d\":[{\"line\":{\"colorbar\":{\"outlinewidth\":1,\"tickcolor\":\"rgb(36,36,36)\",\"ticks\":\"outside\"}},\"marker\":{\"colorbar\":{\"outlinewidth\":1,\"tickcolor\":\"rgb(36,36,36)\",\"ticks\":\"outside\"}},\"type\":\"scatter3d\"}],\"scattercarpet\":[{\"marker\":{\"colorbar\":{\"outlinewidth\":1,\"tickcolor\":\"rgb(36,36,36)\",\"ticks\":\"outside\"}},\"type\":\"scattercarpet\"}],\"scattergeo\":[{\"marker\":{\"colorbar\":{\"outlinewidth\":1,\"tickcolor\":\"rgb(36,36,36)\",\"ticks\":\"outside\"}},\"type\":\"scattergeo\"}],\"scattergl\":[{\"marker\":{\"colorbar\":{\"outlinewidth\":1,\"tickcolor\":\"rgb(36,36,36)\",\"ticks\":\"outside\"}},\"type\":\"scattergl\"}],\"scattermapbox\":[{\"marker\":{\"colorbar\":{\"outlinewidth\":1,\"tickcolor\":\"rgb(36,36,36)\",\"ticks\":\"outside\"}},\"type\":\"scattermapbox\"}],\"scatterpolargl\":[{\"marker\":{\"colorbar\":{\"outlinewidth\":1,\"tickcolor\":\"rgb(36,36,36)\",\"ticks\":\"outside\"}},\"type\":\"scatterpolargl\"}],\"scatterpolar\":[{\"marker\":{\"colorbar\":{\"outlinewidth\":1,\"tickcolor\":\"rgb(36,36,36)\",\"ticks\":\"outside\"}},\"type\":\"scatterpolar\"}],\"scatter\":[{\"fillpattern\":{\"fillmode\":\"overlay\",\"size\":10,\"solidity\":0.2},\"type\":\"scatter\"}],\"scatterternary\":[{\"marker\":{\"colorbar\":{\"outlinewidth\":1,\"tickcolor\":\"rgb(36,36,36)\",\"ticks\":\"outside\"}},\"type\":\"scatterternary\"}],\"surface\":[{\"colorbar\":{\"outlinewidth\":1,\"tickcolor\":\"rgb(36,36,36)\",\"ticks\":\"outside\"},\"colorscale\":[[0.0,\"#440154\"],[0.1111111111111111,\"#482878\"],[0.2222222222222222,\"#3e4989\"],[0.3333333333333333,\"#31688e\"],[0.4444444444444444,\"#26828e\"],[0.5555555555555556,\"#1f9e89\"],[0.6666666666666666,\"#35b779\"],[0.7777777777777778,\"#6ece58\"],[0.8888888888888888,\"#b5de2b\"],[1.0,\"#fde725\"]],\"type\":\"surface\"}],\"table\":[{\"cells\":{\"fill\":{\"color\":\"rgb(237,237,237)\"},\"line\":{\"color\":\"white\"}},\"header\":{\"fill\":{\"color\":\"rgb(217,217,217)\"},\"line\":{\"color\":\"white\"}},\"type\":\"table\"}]},\"layout\":{\"annotationdefaults\":{\"arrowhead\":0,\"arrowwidth\":1},\"autotypenumbers\":\"strict\",\"coloraxis\":{\"colorbar\":{\"outlinewidth\":1,\"tickcolor\":\"rgb(36,36,36)\",\"ticks\":\"outside\"}},\"colorscale\":{\"diverging\":[[0.0,\"rgb(103,0,31)\"],[0.1,\"rgb(178,24,43)\"],[0.2,\"rgb(214,96,77)\"],[0.3,\"rgb(244,165,130)\"],[0.4,\"rgb(253,219,199)\"],[0.5,\"rgb(247,247,247)\"],[0.6,\"rgb(209,229,240)\"],[0.7,\"rgb(146,197,222)\"],[0.8,\"rgb(67,147,195)\"],[0.9,\"rgb(33,102,172)\"],[1.0,\"rgb(5,48,97)\"]],\"sequential\":[[0.0,\"#440154\"],[0.1111111111111111,\"#482878\"],[0.2222222222222222,\"#3e4989\"],[0.3333333333333333,\"#31688e\"],[0.4444444444444444,\"#26828e\"],[0.5555555555555556,\"#1f9e89\"],[0.6666666666666666,\"#35b779\"],[0.7777777777777778,\"#6ece58\"],[0.8888888888888888,\"#b5de2b\"],[1.0,\"#fde725\"]],\"sequentialminus\":[[0.0,\"#440154\"],[0.1111111111111111,\"#482878\"],[0.2222222222222222,\"#3e4989\"],[0.3333333333333333,\"#31688e\"],[0.4444444444444444,\"#26828e\"],[0.5555555555555556,\"#1f9e89\"],[0.6666666666666666,\"#35b779\"],[0.7777777777777778,\"#6ece58\"],[0.8888888888888888,\"#b5de2b\"],[1.0,\"#fde725\"]]},\"colorway\":[\"#1F77B4\",\"#FF7F0E\",\"#2CA02C\",\"#D62728\",\"#9467BD\",\"#8C564B\",\"#E377C2\",\"#7F7F7F\",\"#BCBD22\",\"#17BECF\"],\"font\":{\"color\":\"rgb(36,36,36)\"},\"geo\":{\"bgcolor\":\"white\",\"lakecolor\":\"white\",\"landcolor\":\"white\",\"showlakes\":true,\"showland\":true,\"subunitcolor\":\"white\"},\"hoverlabel\":{\"align\":\"left\"},\"hovermode\":\"closest\",\"mapbox\":{\"style\":\"light\"},\"paper_bgcolor\":\"white\",\"plot_bgcolor\":\"white\",\"polar\":{\"angularaxis\":{\"gridcolor\":\"rgb(232,232,232)\",\"linecolor\":\"rgb(36,36,36)\",\"showgrid\":false,\"showline\":true,\"ticks\":\"outside\"},\"bgcolor\":\"white\",\"radialaxis\":{\"gridcolor\":\"rgb(232,232,232)\",\"linecolor\":\"rgb(36,36,36)\",\"showgrid\":false,\"showline\":true,\"ticks\":\"outside\"}},\"scene\":{\"xaxis\":{\"backgroundcolor\":\"white\",\"gridcolor\":\"rgb(232,232,232)\",\"gridwidth\":2,\"linecolor\":\"rgb(36,36,36)\",\"showbackground\":true,\"showgrid\":false,\"showline\":true,\"ticks\":\"outside\",\"zeroline\":false,\"zerolinecolor\":\"rgb(36,36,36)\"},\"yaxis\":{\"backgroundcolor\":\"white\",\"gridcolor\":\"rgb(232,232,232)\",\"gridwidth\":2,\"linecolor\":\"rgb(36,36,36)\",\"showbackground\":true,\"showgrid\":false,\"showline\":true,\"ticks\":\"outside\",\"zeroline\":false,\"zerolinecolor\":\"rgb(36,36,36)\"},\"zaxis\":{\"backgroundcolor\":\"white\",\"gridcolor\":\"rgb(232,232,232)\",\"gridwidth\":2,\"linecolor\":\"rgb(36,36,36)\",\"showbackground\":true,\"showgrid\":false,\"showline\":true,\"ticks\":\"outside\",\"zeroline\":false,\"zerolinecolor\":\"rgb(36,36,36)\"}},\"shapedefaults\":{\"fillcolor\":\"black\",\"line\":{\"width\":0},\"opacity\":0.3},\"ternary\":{\"aaxis\":{\"gridcolor\":\"rgb(232,232,232)\",\"linecolor\":\"rgb(36,36,36)\",\"showgrid\":false,\"showline\":true,\"ticks\":\"outside\"},\"baxis\":{\"gridcolor\":\"rgb(232,232,232)\",\"linecolor\":\"rgb(36,36,36)\",\"showgrid\":false,\"showline\":true,\"ticks\":\"outside\"},\"bgcolor\":\"white\",\"caxis\":{\"gridcolor\":\"rgb(232,232,232)\",\"linecolor\":\"rgb(36,36,36)\",\"showgrid\":false,\"showline\":true,\"ticks\":\"outside\"}},\"title\":{\"x\":0.05},\"xaxis\":{\"automargin\":true,\"gridcolor\":\"rgb(232,232,232)\",\"linecolor\":\"rgb(36,36,36)\",\"showgrid\":false,\"showline\":true,\"ticks\":\"outside\",\"title\":{\"standoff\":15},\"zeroline\":false,\"zerolinecolor\":\"rgb(36,36,36)\"},\"yaxis\":{\"automargin\":true,\"gridcolor\":\"rgb(232,232,232)\",\"linecolor\":\"rgb(36,36,36)\",\"showgrid\":false,\"showline\":true,\"ticks\":\"outside\",\"title\":{\"standoff\":15},\"zeroline\":false,\"zerolinecolor\":\"rgb(36,36,36)\"}}},\"xaxis\":{\"anchor\":\"y\",\"domain\":[0.0,1.0],\"type\":\"date\"},\"yaxis\":{\"anchor\":\"x\",\"domain\":[0.0,1.0],\"title\":{\"text\":\"Resource\"}},\"legend\":{\"title\":{\"text\":\"Type\"},\"tracegroupgap\":0},\"margin\":{\"t\":60},\"barmode\":\"overlay\",\"height\":800,\"width\":2000},                        {\"responsive\": true}                    ).then(function(){\n",
       "                            \n",
       "var gd = document.getElementById('b47190ca-48d7-4655-af01-0d1b894e6114');\n",
       "var x = new MutationObserver(function (mutations, observer) {{\n",
       "        var display = window.getComputedStyle(gd).display;\n",
       "        if (!display || display === 'none') {{\n",
       "            console.log([gd, 'removed!']);\n",
       "            Plotly.purge(gd);\n",
       "            observer.disconnect();\n",
       "        }}\n",
       "}});\n",
       "\n",
       "// Listen for the removal of the full notebook cells\n",
       "var notebookContainer = gd.closest('#notebook-container');\n",
       "if (notebookContainer) {{\n",
       "    x.observe(notebookContainer, {childList: true});\n",
       "}}\n",
       "\n",
       "// Listen for the clearing of the current output cell\n",
       "var outputEl = gd.closest('.output');\n",
       "if (outputEl) {{\n",
       "    x.observe(outputEl, {childList: true});\n",
       "}}\n",
       "\n",
       "                        })                };                });            </script>        </div>"
      ]
     },
     "metadata": {},
     "output_type": "display_data"
    },
    {
     "data": {
      "application/vnd.plotly.v1+json": {
       "config": {
        "plotlyServerURL": "https://plot.ly"
       },
       "data": [
        {
         "alignmentgroup": "True",
         "base": [
          "1970-01-04T01:00:00",
          "1970-01-04T10:00:00",
          "1970-01-02T08:00:00",
          "1970-01-02T01:00:00",
          "1970-01-01T09:00:00",
          "1970-01-01T14:00:00",
          "1970-01-05T07:00:00",
          "1970-01-05T20:00:00",
          "1970-01-03T00:00:00",
          "1970-01-06T13:00:00",
          "1970-01-04T19:00:00",
          "1970-01-07T21:00:00",
          "1970-01-08T15:00:00",
          "1970-01-07T09:00:00",
          "1970-01-04T01:00:00",
          "1970-01-04T19:00:00",
          "1970-01-07T09:00:00",
          "1970-01-03T00:00:00"
         ],
         "hovertemplate": "Resource=%{text}<br>Start=%{base}<br>Finish=%{x}<br>Type=%{y}<extra></extra>",
         "legendgroup": "M6",
         "marker": {
          "cmid": 1000,
          "color": "rgb(76,114,176)",
          "line": {
           "color": "yellow"
          },
          "pattern": {
           "shape": ""
          }
         },
         "name": "M6",
         "offsetgroup": "M6",
         "orientation": "h",
         "showlegend": true,
         "text": [
          "M6",
          "M6",
          "M6",
          "M6",
          "M6",
          "M6",
          "M6",
          "M6",
          "M6",
          "M6",
          "M6",
          "M6",
          "M6",
          "M6",
          "M6",
          "M6",
          "M6",
          "M6"
         ],
         "textposition": "auto",
         "type": "bar",
         "x": [
          32400000,
          32400000,
          57600000,
          25200000,
          18000000,
          39600000,
          46800000,
          61200000,
          90000000,
          72000000,
          43200000,
          64800000,
          75600000,
          43200000,
          3600000,
          7200000,
          7200000,
          10800000
         ],
         "xaxis": "x",
         "y": [
          "j1",
          "j1",
          "j10",
          "j10",
          "j10",
          "j10",
          "j18",
          "j18",
          "j18",
          "j18",
          "j18",
          "j19",
          "j19",
          "j19",
          "setup",
          "setup",
          "setup",
          "setup"
         ],
         "yaxis": "y"
        },
        {
         "alignmentgroup": "True",
         "base": [
          "1970-01-02T03:00:00",
          "1970-01-01T09:00:00",
          "1970-01-04T13:00:00",
          "1970-01-05T01:00:00",
          "1970-01-05T12:00:00",
          "1970-01-03T14:00:00",
          "1970-01-05T17:00:00",
          "1970-01-11T19:00:00",
          "1970-01-08T17:00:00",
          "1970-01-09T13:00:00",
          "1970-01-10T22:00:00",
          "1970-01-10T09:00:00",
          "1970-01-09T19:00:00",
          "1970-01-02T11:00:00",
          "1970-01-05T23:00:00",
          "1970-01-08T02:00:00",
          "1970-01-06T11:00:00",
          "1970-01-07T12:00:00",
          "1970-01-07T00:00:00",
          "1970-01-02T11:00:00",
          "1970-01-05T23:00:00",
          "1970-01-03T14:00:00",
          "1970-01-08T17:00:00"
         ],
         "hovertemplate": "Resource=%{text}<br>Start=%{base}<br>Finish=%{x}<br>Type=%{y}<extra></extra>",
         "legendgroup": "M3",
         "marker": {
          "cmid": 1000,
          "color": "rgb(221,132,82)",
          "line": {
           "color": "yellow"
          },
          "pattern": {
           "shape": ""
          }
         },
         "name": "M3",
         "offsetgroup": "M3",
         "orientation": "h",
         "showlegend": true,
         "text": [
          "M3",
          "M3",
          "M3",
          "M3",
          "M3",
          "M3",
          "M3",
          "M3",
          "M3",
          "M3",
          "M3",
          "M3",
          "M3",
          "M3",
          "M3",
          "M3",
          "M3",
          "M3",
          "M3",
          "M3",
          "M3",
          "M3",
          "M3"
         ],
         "textposition": "auto",
         "type": "bar",
         "x": [
          28800000,
          64800000,
          43200000,
          39600000,
          18000000,
          82800000,
          21600000,
          64800000,
          72000000,
          21600000,
          75600000,
          46800000,
          50400000,
          97200000,
          43200000,
          54000000,
          46800000,
          50400000,
          43200000,
          10800000,
          7200000,
          14400000,
          3600000
         ],
         "xaxis": "x",
         "y": [
          "j1",
          "j1",
          "j12",
          "j12",
          "j12",
          "j12",
          "j12",
          "j16",
          "j16",
          "j16",
          "j16",
          "j16",
          "j16",
          "j17",
          "j9",
          "j9",
          "j9",
          "j9",
          "j9",
          "setup",
          "setup",
          "setup",
          "setup"
         ],
         "yaxis": "y"
        },
        {
         "alignmentgroup": "True",
         "base": [
          "1970-01-02T14:00:00",
          "1970-01-08T13:00:00",
          "1970-01-08T06:00:00",
          "1970-01-08T00:00:00",
          "1970-01-07T13:00:00",
          "1970-01-06T16:00:00",
          "1970-01-04T21:00:00",
          "1970-01-03T16:00:00",
          "1970-01-05T15:00:00",
          "1970-01-09T12:00:00",
          "1970-01-01T20:00:00",
          "1970-01-01T09:00:00",
          "1970-01-01T15:00:00",
          "1970-01-03T16:00:00",
          "1970-01-02T14:00:00",
          "1970-01-06T16:00:00",
          "1970-01-09T12:00:00"
         ],
         "hovertemplate": "Resource=%{text}<br>Start=%{base}<br>Finish=%{x}<br>Type=%{y}<extra></extra>",
         "legendgroup": "M5",
         "marker": {
          "cmid": 1000,
          "color": "rgb(85,168,104)",
          "line": {
           "color": "yellow"
          },
          "pattern": {
           "shape": ""
          }
         },
         "name": "M5",
         "offsetgroup": "M5",
         "orientation": "h",
         "showlegend": true,
         "text": [
          "M5",
          "M5",
          "M5",
          "M5",
          "M5",
          "M5",
          "M5",
          "M5",
          "M5",
          "M5",
          "M5",
          "M5",
          "M5",
          "M5",
          "M5",
          "M5",
          "M5"
         ],
         "textposition": "auto",
         "type": "bar",
         "x": [
          93600000,
          21600000,
          25200000,
          21600000,
          39600000,
          75600000,
          64800000,
          104400000,
          90000000,
          57600000,
          64800000,
          21600000,
          18000000,
          14400000,
          10800000,
          10800000,
          3600000
         ],
         "xaxis": "x",
         "y": [
          "j11",
          "j11",
          "j11",
          "j11",
          "j11",
          "j11",
          "j17",
          "j17",
          "j17",
          "j19",
          "j8",
          "j8",
          "j8",
          "setup",
          "setup",
          "setup",
          "setup"
         ],
         "yaxis": "y"
        },
        {
         "alignmentgroup": "True",
         "base": [
          "1970-01-04T11:00:00",
          "1970-01-05T00:00:00",
          "1970-01-05T20:00:00",
          "1970-01-06T22:00:00",
          "1970-01-12T12:00:00",
          "1970-01-08T14:00:00",
          "1970-01-08T03:00:00",
          "1970-01-09T15:00:00",
          "1970-01-11T12:00:00",
          "1970-01-10T13:00:00",
          "1970-01-07T14:00:00",
          "1970-01-02T19:00:00",
          "1970-01-01T09:00:00",
          "1970-01-03T21:00:00",
          "1970-01-01T20:00:00",
          "1970-01-03T21:00:00",
          "1970-01-04T11:00:00",
          "1970-01-07T14:00:00",
          "1970-01-02T19:00:00"
         ],
         "hovertemplate": "Resource=%{text}<br>Start=%{base}<br>Finish=%{x}<br>Type=%{y}<extra></extra>",
         "legendgroup": "M1",
         "marker": {
          "cmid": 1000,
          "color": "rgb(196,78,82)",
          "line": {
           "color": "yellow"
          },
          "pattern": {
           "shape": ""
          }
         },
         "name": "M1",
         "offsetgroup": "M1",
         "orientation": "h",
         "showlegend": true,
         "text": [
          "M1",
          "M1",
          "M1",
          "M1",
          "M1",
          "M1",
          "M1",
          "M1",
          "M1",
          "M1",
          "M1",
          "M1",
          "M1",
          "M1",
          "M1",
          "M1",
          "M1",
          "M1",
          "M1"
         ],
         "textposition": "auto",
         "type": "bar",
         "x": [
          46800000,
          72000000,
          93600000,
          57600000,
          97200000,
          90000000,
          39600000,
          79200000,
          86400000,
          82800000,
          46800000,
          93600000,
          39600000,
          50400000,
          82800000,
          10800000,
          7200000,
          10800000,
          3600000
         ],
         "xaxis": "x",
         "y": [
          "j13",
          "j13",
          "j13",
          "j13",
          "j2",
          "j2",
          "j2",
          "j2",
          "j2",
          "j2",
          "j2",
          "j20",
          "j6",
          "j6",
          "j6",
          "setup",
          "setup",
          "setup",
          "setup"
         ],
         "yaxis": "y"
        },
        {
         "alignmentgroup": "True",
         "base": [
          "1970-01-05T11:00:00",
          "1970-01-04T21:00:00",
          "1970-01-04T04:00:00",
          "1970-01-02T10:00:00",
          "1970-01-02T02:00:00",
          "1970-01-01T09:00:00",
          "1970-01-12T13:00:00",
          "1970-01-13T06:00:00",
          "1970-01-03T04:00:00",
          "1970-01-07T22:00:00",
          "1970-01-08T09:00:00",
          "1970-01-07T05:00:00",
          "1970-01-05T19:00:00",
          "1970-01-06T13:00:00",
          "1970-01-10T13:00:00",
          "1970-01-11T16:00:00",
          "1970-01-11T00:00:00",
          "1970-01-09T18:00:00",
          "1970-01-09T03:00:00",
          "1970-01-10T04:00:00",
          "1970-01-08T14:00:00",
          "1970-01-12T13:00:00",
          "1970-01-03T04:00:00",
          "1970-01-08T14:00:00",
          "1970-01-05T19:00:00",
          "1970-01-04T04:00:00"
         ],
         "hovertemplate": "Resource=%{text}<br>Start=%{base}<br>Finish=%{x}<br>Type=%{y}<extra></extra>",
         "legendgroup": "M2",
         "marker": {
          "cmid": 1000,
          "color": "rgb(129,114,179)",
          "line": {
           "color": "yellow"
          },
          "pattern": {
           "shape": ""
          }
         },
         "name": "M2",
         "offsetgroup": "M2",
         "orientation": "h",
         "showlegend": true,
         "text": [
          "M2",
          "M2",
          "M2",
          "M2",
          "M2",
          "M2",
          "M2",
          "M2",
          "M2",
          "M2",
          "M2",
          "M2",
          "M2",
          "M2",
          "M2",
          "M2",
          "M2",
          "M2",
          "M2",
          "M2",
          "M2",
          "M2",
          "M2",
          "M2",
          "M2",
          "M2"
         ],
         "textposition": "auto",
         "type": "bar",
         "x": [
          28800000,
          50400000,
          61200000,
          64800000,
          28800000,
          61200000,
          61200000,
          39600000,
          86400000,
          39600000,
          18000000,
          61200000,
          64800000,
          57600000,
          39600000,
          72000000,
          57600000,
          36000000,
          54000000,
          32400000,
          46800000,
          7200000,
          7200000,
          10800000,
          10800000,
          10800000
         ],
         "xaxis": "x",
         "y": [
          "j14",
          "j14",
          "j14",
          "j15",
          "j15",
          "j15",
          "j16",
          "j16",
          "j19",
          "j5",
          "j5",
          "j5",
          "j5",
          "j5",
          "j7",
          "j7",
          "j7",
          "j7",
          "j7",
          "j7",
          "j7",
          "setup",
          "setup",
          "setup",
          "setup",
          "setup"
         ],
         "yaxis": "y"
        },
        {
         "alignmentgroup": "True",
         "base": [
          "1970-01-02T23:00:00",
          "1970-01-10T14:00:00",
          "1970-01-10T04:00:00",
          "1970-01-07T12:00:00",
          "1970-01-09T13:00:00",
          "1970-01-08T14:00:00",
          "1970-01-07T01:00:00",
          "1970-01-08T00:00:00",
          "1970-01-02T13:00:00",
          "1970-01-02T06:00:00",
          "1970-01-01T21:00:00",
          "1970-01-01T09:00:00",
          "1970-01-05T16:00:00",
          "1970-01-06T07:00:00",
          "1970-01-05T10:00:00",
          "1970-01-05T00:00:00",
          "1970-01-05T23:00:00",
          "1970-01-04T01:00:00",
          "1970-01-04T01:00:00",
          "1970-01-05T00:00:00",
          "1970-01-07T01:00:00",
          "1970-01-10T04:00:00",
          "1970-01-02T23:00:00"
         ],
         "hovertemplate": "Resource=%{text}<br>Start=%{base}<br>Finish=%{x}<br>Type=%{y}<extra></extra>",
         "legendgroup": "M4",
         "marker": {
          "cmid": 1000,
          "color": "rgb(147,120,96)",
          "line": {
           "color": "yellow"
          },
          "pattern": {
           "shape": ""
          }
         },
         "name": "M4",
         "offsetgroup": "M4",
         "orientation": "h",
         "showlegend": true,
         "text": [
          "M4",
          "M4",
          "M4",
          "M4",
          "M4",
          "M4",
          "M4",
          "M4",
          "M4",
          "M4",
          "M4",
          "M4",
          "M4",
          "M4",
          "M4",
          "M4",
          "M4",
          "M4",
          "M4",
          "M4",
          "M4",
          "M4",
          "M4"
         ],
         "textposition": "auto",
         "type": "bar",
         "x": [
          93600000,
          64800000,
          36000000,
          43200000,
          43200000,
          82800000,
          39600000,
          50400000,
          36000000,
          25200000,
          32400000,
          43200000,
          25200000,
          64800000,
          21600000,
          36000000,
          28800000,
          82800000,
          10800000,
          14400000,
          10800000,
          10800000,
          7200000
         ],
         "xaxis": "x",
         "y": [
          "j14",
          "j19",
          "j19",
          "j20",
          "j20",
          "j20",
          "j20",
          "j20",
          "j3",
          "j3",
          "j3",
          "j3",
          "j4",
          "j4",
          "j4",
          "j4",
          "j4",
          "j8",
          "setup",
          "setup",
          "setup",
          "setup",
          "setup"
         ],
         "yaxis": "y"
        }
       ],
       "layout": {
        "barmode": "overlay",
        "height": 1000,
        "legend": {
         "title": {
          "text": "Resource"
         },
         "tracegroupgap": 0
        },
        "margin": {
         "t": 60
        },
        "template": {
         "data": {
          "bar": [
           {
            "error_x": {
             "color": "rgb(36,36,36)"
            },
            "error_y": {
             "color": "rgb(36,36,36)"
            },
            "marker": {
             "line": {
              "color": "rgb(234,234,242)",
              "width": 0.5
             },
             "pattern": {
              "fillmode": "overlay",
              "size": 10,
              "solidity": 0.2
             }
            },
            "type": "bar"
           }
          ],
          "barpolar": [
           {
            "marker": {
             "line": {
              "color": "rgb(234,234,242)",
              "width": 0.5
             },
             "pattern": {
              "fillmode": "overlay",
              "size": 10,
              "solidity": 0.2
             }
            },
            "type": "barpolar"
           }
          ],
          "carpet": [
           {
            "aaxis": {
             "endlinecolor": "rgb(36,36,36)",
             "gridcolor": "white",
             "linecolor": "white",
             "minorgridcolor": "white",
             "startlinecolor": "rgb(36,36,36)"
            },
            "baxis": {
             "endlinecolor": "rgb(36,36,36)",
             "gridcolor": "white",
             "linecolor": "white",
             "minorgridcolor": "white",
             "startlinecolor": "rgb(36,36,36)"
            },
            "type": "carpet"
           }
          ],
          "choropleth": [
           {
            "colorbar": {
             "outlinewidth": 0,
             "tickcolor": "rgb(36,36,36)",
             "ticklen": 8,
             "ticks": "outside",
             "tickwidth": 2
            },
            "type": "choropleth"
           }
          ],
          "contour": [
           {
            "colorbar": {
             "outlinewidth": 0,
             "tickcolor": "rgb(36,36,36)",
             "ticklen": 8,
             "ticks": "outside",
             "tickwidth": 2
            },
            "colorscale": [
             [
              0,
              "rgb(2,4,25)"
             ],
             [
              0.06274509803921569,
              "rgb(24,15,41)"
             ],
             [
              0.12549019607843137,
              "rgb(47,23,57)"
             ],
             [
              0.18823529411764706,
              "rgb(71,28,72)"
             ],
             [
              0.25098039215686274,
              "rgb(97,30,82)"
             ],
             [
              0.3137254901960784,
              "rgb(123,30,89)"
             ],
             [
              0.3764705882352941,
              "rgb(150,27,91)"
             ],
             [
              0.4392156862745098,
              "rgb(177,22,88)"
             ],
             [
              0.5019607843137255,
              "rgb(203,26,79)"
             ],
             [
              0.5647058823529412,
              "rgb(223,47,67)"
             ],
             [
              0.6274509803921569,
              "rgb(236,76,61)"
             ],
             [
              0.6901960784313725,
              "rgb(242,107,73)"
             ],
             [
              0.7529411764705882,
              "rgb(244,135,95)"
             ],
             [
              0.8156862745098039,
              "rgb(245,162,122)"
             ],
             [
              0.8784313725490196,
              "rgb(246,188,153)"
             ],
             [
              0.9411764705882353,
              "rgb(247,212,187)"
             ],
             [
              1,
              "rgb(250,234,220)"
             ]
            ],
            "type": "contour"
           }
          ],
          "contourcarpet": [
           {
            "colorbar": {
             "outlinewidth": 0,
             "tickcolor": "rgb(36,36,36)",
             "ticklen": 8,
             "ticks": "outside",
             "tickwidth": 2
            },
            "type": "contourcarpet"
           }
          ],
          "heatmap": [
           {
            "colorbar": {
             "outlinewidth": 0,
             "tickcolor": "rgb(36,36,36)",
             "ticklen": 8,
             "ticks": "outside",
             "tickwidth": 2
            },
            "colorscale": [
             [
              0,
              "rgb(2,4,25)"
             ],
             [
              0.06274509803921569,
              "rgb(24,15,41)"
             ],
             [
              0.12549019607843137,
              "rgb(47,23,57)"
             ],
             [
              0.18823529411764706,
              "rgb(71,28,72)"
             ],
             [
              0.25098039215686274,
              "rgb(97,30,82)"
             ],
             [
              0.3137254901960784,
              "rgb(123,30,89)"
             ],
             [
              0.3764705882352941,
              "rgb(150,27,91)"
             ],
             [
              0.4392156862745098,
              "rgb(177,22,88)"
             ],
             [
              0.5019607843137255,
              "rgb(203,26,79)"
             ],
             [
              0.5647058823529412,
              "rgb(223,47,67)"
             ],
             [
              0.6274509803921569,
              "rgb(236,76,61)"
             ],
             [
              0.6901960784313725,
              "rgb(242,107,73)"
             ],
             [
              0.7529411764705882,
              "rgb(244,135,95)"
             ],
             [
              0.8156862745098039,
              "rgb(245,162,122)"
             ],
             [
              0.8784313725490196,
              "rgb(246,188,153)"
             ],
             [
              0.9411764705882353,
              "rgb(247,212,187)"
             ],
             [
              1,
              "rgb(250,234,220)"
             ]
            ],
            "type": "heatmap"
           }
          ],
          "heatmapgl": [
           {
            "colorbar": {
             "outlinewidth": 0,
             "tickcolor": "rgb(36,36,36)",
             "ticklen": 8,
             "ticks": "outside",
             "tickwidth": 2
            },
            "colorscale": [
             [
              0,
              "rgb(2,4,25)"
             ],
             [
              0.06274509803921569,
              "rgb(24,15,41)"
             ],
             [
              0.12549019607843137,
              "rgb(47,23,57)"
             ],
             [
              0.18823529411764706,
              "rgb(71,28,72)"
             ],
             [
              0.25098039215686274,
              "rgb(97,30,82)"
             ],
             [
              0.3137254901960784,
              "rgb(123,30,89)"
             ],
             [
              0.3764705882352941,
              "rgb(150,27,91)"
             ],
             [
              0.4392156862745098,
              "rgb(177,22,88)"
             ],
             [
              0.5019607843137255,
              "rgb(203,26,79)"
             ],
             [
              0.5647058823529412,
              "rgb(223,47,67)"
             ],
             [
              0.6274509803921569,
              "rgb(236,76,61)"
             ],
             [
              0.6901960784313725,
              "rgb(242,107,73)"
             ],
             [
              0.7529411764705882,
              "rgb(244,135,95)"
             ],
             [
              0.8156862745098039,
              "rgb(245,162,122)"
             ],
             [
              0.8784313725490196,
              "rgb(246,188,153)"
             ],
             [
              0.9411764705882353,
              "rgb(247,212,187)"
             ],
             [
              1,
              "rgb(250,234,220)"
             ]
            ],
            "type": "heatmapgl"
           }
          ],
          "histogram": [
           {
            "marker": {
             "pattern": {
              "fillmode": "overlay",
              "size": 10,
              "solidity": 0.2
             }
            },
            "type": "histogram"
           }
          ],
          "histogram2d": [
           {
            "colorbar": {
             "outlinewidth": 0,
             "tickcolor": "rgb(36,36,36)",
             "ticklen": 8,
             "ticks": "outside",
             "tickwidth": 2
            },
            "colorscale": [
             [
              0,
              "rgb(2,4,25)"
             ],
             [
              0.06274509803921569,
              "rgb(24,15,41)"
             ],
             [
              0.12549019607843137,
              "rgb(47,23,57)"
             ],
             [
              0.18823529411764706,
              "rgb(71,28,72)"
             ],
             [
              0.25098039215686274,
              "rgb(97,30,82)"
             ],
             [
              0.3137254901960784,
              "rgb(123,30,89)"
             ],
             [
              0.3764705882352941,
              "rgb(150,27,91)"
             ],
             [
              0.4392156862745098,
              "rgb(177,22,88)"
             ],
             [
              0.5019607843137255,
              "rgb(203,26,79)"
             ],
             [
              0.5647058823529412,
              "rgb(223,47,67)"
             ],
             [
              0.6274509803921569,
              "rgb(236,76,61)"
             ],
             [
              0.6901960784313725,
              "rgb(242,107,73)"
             ],
             [
              0.7529411764705882,
              "rgb(244,135,95)"
             ],
             [
              0.8156862745098039,
              "rgb(245,162,122)"
             ],
             [
              0.8784313725490196,
              "rgb(246,188,153)"
             ],
             [
              0.9411764705882353,
              "rgb(247,212,187)"
             ],
             [
              1,
              "rgb(250,234,220)"
             ]
            ],
            "type": "histogram2d"
           }
          ],
          "histogram2dcontour": [
           {
            "colorbar": {
             "outlinewidth": 0,
             "tickcolor": "rgb(36,36,36)",
             "ticklen": 8,
             "ticks": "outside",
             "tickwidth": 2
            },
            "colorscale": [
             [
              0,
              "rgb(2,4,25)"
             ],
             [
              0.06274509803921569,
              "rgb(24,15,41)"
             ],
             [
              0.12549019607843137,
              "rgb(47,23,57)"
             ],
             [
              0.18823529411764706,
              "rgb(71,28,72)"
             ],
             [
              0.25098039215686274,
              "rgb(97,30,82)"
             ],
             [
              0.3137254901960784,
              "rgb(123,30,89)"
             ],
             [
              0.3764705882352941,
              "rgb(150,27,91)"
             ],
             [
              0.4392156862745098,
              "rgb(177,22,88)"
             ],
             [
              0.5019607843137255,
              "rgb(203,26,79)"
             ],
             [
              0.5647058823529412,
              "rgb(223,47,67)"
             ],
             [
              0.6274509803921569,
              "rgb(236,76,61)"
             ],
             [
              0.6901960784313725,
              "rgb(242,107,73)"
             ],
             [
              0.7529411764705882,
              "rgb(244,135,95)"
             ],
             [
              0.8156862745098039,
              "rgb(245,162,122)"
             ],
             [
              0.8784313725490196,
              "rgb(246,188,153)"
             ],
             [
              0.9411764705882353,
              "rgb(247,212,187)"
             ],
             [
              1,
              "rgb(250,234,220)"
             ]
            ],
            "type": "histogram2dcontour"
           }
          ],
          "mesh3d": [
           {
            "colorbar": {
             "outlinewidth": 0,
             "tickcolor": "rgb(36,36,36)",
             "ticklen": 8,
             "ticks": "outside",
             "tickwidth": 2
            },
            "type": "mesh3d"
           }
          ],
          "parcoords": [
           {
            "line": {
             "colorbar": {
              "outlinewidth": 0,
              "tickcolor": "rgb(36,36,36)",
              "ticklen": 8,
              "ticks": "outside",
              "tickwidth": 2
             }
            },
            "type": "parcoords"
           }
          ],
          "pie": [
           {
            "automargin": true,
            "type": "pie"
           }
          ],
          "scatter": [
           {
            "fillpattern": {
             "fillmode": "overlay",
             "size": 10,
             "solidity": 0.2
            },
            "type": "scatter"
           }
          ],
          "scatter3d": [
           {
            "line": {
             "colorbar": {
              "outlinewidth": 0,
              "tickcolor": "rgb(36,36,36)",
              "ticklen": 8,
              "ticks": "outside",
              "tickwidth": 2
             }
            },
            "marker": {
             "colorbar": {
              "outlinewidth": 0,
              "tickcolor": "rgb(36,36,36)",
              "ticklen": 8,
              "ticks": "outside",
              "tickwidth": 2
             }
            },
            "type": "scatter3d"
           }
          ],
          "scattercarpet": [
           {
            "marker": {
             "colorbar": {
              "outlinewidth": 0,
              "tickcolor": "rgb(36,36,36)",
              "ticklen": 8,
              "ticks": "outside",
              "tickwidth": 2
             }
            },
            "type": "scattercarpet"
           }
          ],
          "scattergeo": [
           {
            "marker": {
             "colorbar": {
              "outlinewidth": 0,
              "tickcolor": "rgb(36,36,36)",
              "ticklen": 8,
              "ticks": "outside",
              "tickwidth": 2
             }
            },
            "type": "scattergeo"
           }
          ],
          "scattergl": [
           {
            "marker": {
             "colorbar": {
              "outlinewidth": 0,
              "tickcolor": "rgb(36,36,36)",
              "ticklen": 8,
              "ticks": "outside",
              "tickwidth": 2
             }
            },
            "type": "scattergl"
           }
          ],
          "scattermapbox": [
           {
            "marker": {
             "colorbar": {
              "outlinewidth": 0,
              "tickcolor": "rgb(36,36,36)",
              "ticklen": 8,
              "ticks": "outside",
              "tickwidth": 2
             }
            },
            "type": "scattermapbox"
           }
          ],
          "scatterpolar": [
           {
            "marker": {
             "colorbar": {
              "outlinewidth": 0,
              "tickcolor": "rgb(36,36,36)",
              "ticklen": 8,
              "ticks": "outside",
              "tickwidth": 2
             }
            },
            "type": "scatterpolar"
           }
          ],
          "scatterpolargl": [
           {
            "marker": {
             "colorbar": {
              "outlinewidth": 0,
              "tickcolor": "rgb(36,36,36)",
              "ticklen": 8,
              "ticks": "outside",
              "tickwidth": 2
             }
            },
            "type": "scatterpolargl"
           }
          ],
          "scatterternary": [
           {
            "marker": {
             "colorbar": {
              "outlinewidth": 0,
              "tickcolor": "rgb(36,36,36)",
              "ticklen": 8,
              "ticks": "outside",
              "tickwidth": 2
             }
            },
            "type": "scatterternary"
           }
          ],
          "surface": [
           {
            "colorbar": {
             "outlinewidth": 0,
             "tickcolor": "rgb(36,36,36)",
             "ticklen": 8,
             "ticks": "outside",
             "tickwidth": 2
            },
            "colorscale": [
             [
              0,
              "rgb(2,4,25)"
             ],
             [
              0.06274509803921569,
              "rgb(24,15,41)"
             ],
             [
              0.12549019607843137,
              "rgb(47,23,57)"
             ],
             [
              0.18823529411764706,
              "rgb(71,28,72)"
             ],
             [
              0.25098039215686274,
              "rgb(97,30,82)"
             ],
             [
              0.3137254901960784,
              "rgb(123,30,89)"
             ],
             [
              0.3764705882352941,
              "rgb(150,27,91)"
             ],
             [
              0.4392156862745098,
              "rgb(177,22,88)"
             ],
             [
              0.5019607843137255,
              "rgb(203,26,79)"
             ],
             [
              0.5647058823529412,
              "rgb(223,47,67)"
             ],
             [
              0.6274509803921569,
              "rgb(236,76,61)"
             ],
             [
              0.6901960784313725,
              "rgb(242,107,73)"
             ],
             [
              0.7529411764705882,
              "rgb(244,135,95)"
             ],
             [
              0.8156862745098039,
              "rgb(245,162,122)"
             ],
             [
              0.8784313725490196,
              "rgb(246,188,153)"
             ],
             [
              0.9411764705882353,
              "rgb(247,212,187)"
             ],
             [
              1,
              "rgb(250,234,220)"
             ]
            ],
            "type": "surface"
           }
          ],
          "table": [
           {
            "cells": {
             "fill": {
              "color": "rgb(231,231,240)"
             },
             "line": {
              "color": "white"
             }
            },
            "header": {
             "fill": {
              "color": "rgb(183,183,191)"
             },
             "line": {
              "color": "white"
             }
            },
            "type": "table"
           }
          ]
         },
         "layout": {
          "annotationdefaults": {
           "arrowcolor": "rgb(67,103,167)"
          },
          "autotypenumbers": "strict",
          "coloraxis": {
           "colorbar": {
            "outlinewidth": 0,
            "tickcolor": "rgb(36,36,36)",
            "ticklen": 8,
            "ticks": "outside",
            "tickwidth": 2
           }
          },
          "colorscale": {
           "sequential": [
            [
             0,
             "rgb(2,4,25)"
            ],
            [
             0.06274509803921569,
             "rgb(24,15,41)"
            ],
            [
             0.12549019607843137,
             "rgb(47,23,57)"
            ],
            [
             0.18823529411764706,
             "rgb(71,28,72)"
            ],
            [
             0.25098039215686274,
             "rgb(97,30,82)"
            ],
            [
             0.3137254901960784,
             "rgb(123,30,89)"
            ],
            [
             0.3764705882352941,
             "rgb(150,27,91)"
            ],
            [
             0.4392156862745098,
             "rgb(177,22,88)"
            ],
            [
             0.5019607843137255,
             "rgb(203,26,79)"
            ],
            [
             0.5647058823529412,
             "rgb(223,47,67)"
            ],
            [
             0.6274509803921569,
             "rgb(236,76,61)"
            ],
            [
             0.6901960784313725,
             "rgb(242,107,73)"
            ],
            [
             0.7529411764705882,
             "rgb(244,135,95)"
            ],
            [
             0.8156862745098039,
             "rgb(245,162,122)"
            ],
            [
             0.8784313725490196,
             "rgb(246,188,153)"
            ],
            [
             0.9411764705882353,
             "rgb(247,212,187)"
            ],
            [
             1,
             "rgb(250,234,220)"
            ]
           ],
           "sequentialminus": [
            [
             0,
             "rgb(2,4,25)"
            ],
            [
             0.06274509803921569,
             "rgb(24,15,41)"
            ],
            [
             0.12549019607843137,
             "rgb(47,23,57)"
            ],
            [
             0.18823529411764706,
             "rgb(71,28,72)"
            ],
            [
             0.25098039215686274,
             "rgb(97,30,82)"
            ],
            [
             0.3137254901960784,
             "rgb(123,30,89)"
            ],
            [
             0.3764705882352941,
             "rgb(150,27,91)"
            ],
            [
             0.4392156862745098,
             "rgb(177,22,88)"
            ],
            [
             0.5019607843137255,
             "rgb(203,26,79)"
            ],
            [
             0.5647058823529412,
             "rgb(223,47,67)"
            ],
            [
             0.6274509803921569,
             "rgb(236,76,61)"
            ],
            [
             0.6901960784313725,
             "rgb(242,107,73)"
            ],
            [
             0.7529411764705882,
             "rgb(244,135,95)"
            ],
            [
             0.8156862745098039,
             "rgb(245,162,122)"
            ],
            [
             0.8784313725490196,
             "rgb(246,188,153)"
            ],
            [
             0.9411764705882353,
             "rgb(247,212,187)"
            ],
            [
             1,
             "rgb(250,234,220)"
            ]
           ]
          },
          "colorway": [
           "rgb(76,114,176)",
           "rgb(221,132,82)",
           "rgb(85,168,104)",
           "rgb(196,78,82)",
           "rgb(129,114,179)",
           "rgb(147,120,96)",
           "rgb(218,139,195)",
           "rgb(140,140,140)",
           "rgb(204,185,116)",
           "rgb(100,181,205)"
          ],
          "font": {
           "color": "rgb(36,36,36)"
          },
          "geo": {
           "bgcolor": "white",
           "lakecolor": "white",
           "landcolor": "rgb(234,234,242)",
           "showlakes": true,
           "showland": true,
           "subunitcolor": "white"
          },
          "hoverlabel": {
           "align": "left"
          },
          "hovermode": "closest",
          "paper_bgcolor": "white",
          "plot_bgcolor": "rgb(234,234,242)",
          "polar": {
           "angularaxis": {
            "gridcolor": "white",
            "linecolor": "white",
            "showgrid": true,
            "ticks": ""
           },
           "bgcolor": "rgb(234,234,242)",
           "radialaxis": {
            "gridcolor": "white",
            "linecolor": "white",
            "showgrid": true,
            "ticks": ""
           }
          },
          "scene": {
           "xaxis": {
            "backgroundcolor": "rgb(234,234,242)",
            "gridcolor": "white",
            "gridwidth": 2,
            "linecolor": "white",
            "showbackground": true,
            "showgrid": true,
            "ticks": "",
            "zerolinecolor": "white"
           },
           "yaxis": {
            "backgroundcolor": "rgb(234,234,242)",
            "gridcolor": "white",
            "gridwidth": 2,
            "linecolor": "white",
            "showbackground": true,
            "showgrid": true,
            "ticks": "",
            "zerolinecolor": "white"
           },
           "zaxis": {
            "backgroundcolor": "rgb(234,234,242)",
            "gridcolor": "white",
            "gridwidth": 2,
            "linecolor": "white",
            "showbackground": true,
            "showgrid": true,
            "ticks": "",
            "zerolinecolor": "white"
           }
          },
          "shapedefaults": {
           "fillcolor": "rgb(67,103,167)",
           "line": {
            "width": 0
           },
           "opacity": 0.5
          },
          "ternary": {
           "aaxis": {
            "gridcolor": "white",
            "linecolor": "white",
            "showgrid": true,
            "ticks": ""
           },
           "baxis": {
            "gridcolor": "white",
            "linecolor": "white",
            "showgrid": true,
            "ticks": ""
           },
           "bgcolor": "rgb(234,234,242)",
           "caxis": {
            "gridcolor": "white",
            "linecolor": "white",
            "showgrid": true,
            "ticks": ""
           }
          },
          "xaxis": {
           "automargin": true,
           "gridcolor": "white",
           "linecolor": "white",
           "showgrid": true,
           "ticks": "",
           "title": {
            "standoff": 15
           },
           "zerolinecolor": "white"
          },
          "yaxis": {
           "automargin": true,
           "gridcolor": "white",
           "linecolor": "white",
           "showgrid": true,
           "ticks": "",
           "title": {
            "standoff": 15
           },
           "zerolinecolor": "white"
          }
         }
        },
        "width": 2000,
        "xaxis": {
         "anchor": "y",
         "domain": [
          0,
          1
         ],
         "type": "date"
        },
        "yaxis": {
         "anchor": "x",
         "domain": [
          0,
          1
         ],
         "title": {
          "text": "Type"
         }
        }
       }
      },
      "text/html": [
       "<div>                            <div id=\"af81bd0e-00dd-4c93-b688-a0b35eed3427\" class=\"plotly-graph-div\" style=\"height:1000px; width:2000px;\"></div>            <script type=\"text/javascript\">                require([\"plotly\"], function(Plotly) {                    window.PLOTLYENV=window.PLOTLYENV || {};                                    if (document.getElementById(\"af81bd0e-00dd-4c93-b688-a0b35eed3427\")) {                    Plotly.newPlot(                        \"af81bd0e-00dd-4c93-b688-a0b35eed3427\",                        [{\"alignmentgroup\":\"True\",\"base\":[\"1970-01-04T01:00:00\",\"1970-01-04T10:00:00\",\"1970-01-02T08:00:00\",\"1970-01-02T01:00:00\",\"1970-01-01T09:00:00\",\"1970-01-01T14:00:00\",\"1970-01-05T07:00:00\",\"1970-01-05T20:00:00\",\"1970-01-03T00:00:00\",\"1970-01-06T13:00:00\",\"1970-01-04T19:00:00\",\"1970-01-07T21:00:00\",\"1970-01-08T15:00:00\",\"1970-01-07T09:00:00\",\"1970-01-04T01:00:00\",\"1970-01-04T19:00:00\",\"1970-01-07T09:00:00\",\"1970-01-03T00:00:00\"],\"hovertemplate\":\"Resource=%{text}<br>Start=%{base}<br>Finish=%{x}<br>Type=%{y}<extra></extra>\",\"legendgroup\":\"M6\",\"marker\":{\"color\":\"rgb(76,114,176)\",\"pattern\":{\"shape\":\"\"},\"line\":{\"color\":\"yellow\"},\"cmid\":1000},\"name\":\"M6\",\"offsetgroup\":\"M6\",\"orientation\":\"h\",\"showlegend\":true,\"text\":[\"M6\",\"M6\",\"M6\",\"M6\",\"M6\",\"M6\",\"M6\",\"M6\",\"M6\",\"M6\",\"M6\",\"M6\",\"M6\",\"M6\",\"M6\",\"M6\",\"M6\",\"M6\"],\"textposition\":\"auto\",\"x\":[32400000.0,32400000.0,57600000.0,25200000.0,18000000.0,39600000.0,46800000.0,61200000.0,90000000.0,72000000.0,43200000.0,64800000.0,75600000.0,43200000.0,3600000.0,7200000.0,7200000.0,10800000.0],\"xaxis\":\"x\",\"y\":[\"j1\",\"j1\",\"j10\",\"j10\",\"j10\",\"j10\",\"j18\",\"j18\",\"j18\",\"j18\",\"j18\",\"j19\",\"j19\",\"j19\",\"setup\",\"setup\",\"setup\",\"setup\"],\"yaxis\":\"y\",\"type\":\"bar\"},{\"alignmentgroup\":\"True\",\"base\":[\"1970-01-02T03:00:00\",\"1970-01-01T09:00:00\",\"1970-01-04T13:00:00\",\"1970-01-05T01:00:00\",\"1970-01-05T12:00:00\",\"1970-01-03T14:00:00\",\"1970-01-05T17:00:00\",\"1970-01-11T19:00:00\",\"1970-01-08T17:00:00\",\"1970-01-09T13:00:00\",\"1970-01-10T22:00:00\",\"1970-01-10T09:00:00\",\"1970-01-09T19:00:00\",\"1970-01-02T11:00:00\",\"1970-01-05T23:00:00\",\"1970-01-08T02:00:00\",\"1970-01-06T11:00:00\",\"1970-01-07T12:00:00\",\"1970-01-07T00:00:00\",\"1970-01-02T11:00:00\",\"1970-01-05T23:00:00\",\"1970-01-03T14:00:00\",\"1970-01-08T17:00:00\"],\"hovertemplate\":\"Resource=%{text}<br>Start=%{base}<br>Finish=%{x}<br>Type=%{y}<extra></extra>\",\"legendgroup\":\"M3\",\"marker\":{\"color\":\"rgb(221,132,82)\",\"pattern\":{\"shape\":\"\"},\"line\":{\"color\":\"yellow\"},\"cmid\":1000},\"name\":\"M3\",\"offsetgroup\":\"M3\",\"orientation\":\"h\",\"showlegend\":true,\"text\":[\"M3\",\"M3\",\"M3\",\"M3\",\"M3\",\"M3\",\"M3\",\"M3\",\"M3\",\"M3\",\"M3\",\"M3\",\"M3\",\"M3\",\"M3\",\"M3\",\"M3\",\"M3\",\"M3\",\"M3\",\"M3\",\"M3\",\"M3\"],\"textposition\":\"auto\",\"x\":[28800000.0,64800000.0,43200000.0,39600000.0,18000000.0,82800000.0,21600000.0,64800000.0,72000000.0,21600000.0,75600000.0,46800000.0,50400000.0,97200000.0,43200000.0,54000000.0,46800000.0,50400000.0,43200000.0,10800000.0,7200000.0,14400000.0,3600000.0],\"xaxis\":\"x\",\"y\":[\"j1\",\"j1\",\"j12\",\"j12\",\"j12\",\"j12\",\"j12\",\"j16\",\"j16\",\"j16\",\"j16\",\"j16\",\"j16\",\"j17\",\"j9\",\"j9\",\"j9\",\"j9\",\"j9\",\"setup\",\"setup\",\"setup\",\"setup\"],\"yaxis\":\"y\",\"type\":\"bar\"},{\"alignmentgroup\":\"True\",\"base\":[\"1970-01-02T14:00:00\",\"1970-01-08T13:00:00\",\"1970-01-08T06:00:00\",\"1970-01-08T00:00:00\",\"1970-01-07T13:00:00\",\"1970-01-06T16:00:00\",\"1970-01-04T21:00:00\",\"1970-01-03T16:00:00\",\"1970-01-05T15:00:00\",\"1970-01-09T12:00:00\",\"1970-01-01T20:00:00\",\"1970-01-01T09:00:00\",\"1970-01-01T15:00:00\",\"1970-01-03T16:00:00\",\"1970-01-02T14:00:00\",\"1970-01-06T16:00:00\",\"1970-01-09T12:00:00\"],\"hovertemplate\":\"Resource=%{text}<br>Start=%{base}<br>Finish=%{x}<br>Type=%{y}<extra></extra>\",\"legendgroup\":\"M5\",\"marker\":{\"color\":\"rgb(85,168,104)\",\"pattern\":{\"shape\":\"\"},\"line\":{\"color\":\"yellow\"},\"cmid\":1000},\"name\":\"M5\",\"offsetgroup\":\"M5\",\"orientation\":\"h\",\"showlegend\":true,\"text\":[\"M5\",\"M5\",\"M5\",\"M5\",\"M5\",\"M5\",\"M5\",\"M5\",\"M5\",\"M5\",\"M5\",\"M5\",\"M5\",\"M5\",\"M5\",\"M5\",\"M5\"],\"textposition\":\"auto\",\"x\":[93600000.0,21600000.0,25200000.0,21600000.0,39600000.0,75600000.0,64800000.0,104400000.0,90000000.0,57600000.0,64800000.0,21600000.0,18000000.0,14400000.0,10800000.0,10800000.0,3600000.0],\"xaxis\":\"x\",\"y\":[\"j11\",\"j11\",\"j11\",\"j11\",\"j11\",\"j11\",\"j17\",\"j17\",\"j17\",\"j19\",\"j8\",\"j8\",\"j8\",\"setup\",\"setup\",\"setup\",\"setup\"],\"yaxis\":\"y\",\"type\":\"bar\"},{\"alignmentgroup\":\"True\",\"base\":[\"1970-01-04T11:00:00\",\"1970-01-05T00:00:00\",\"1970-01-05T20:00:00\",\"1970-01-06T22:00:00\",\"1970-01-12T12:00:00\",\"1970-01-08T14:00:00\",\"1970-01-08T03:00:00\",\"1970-01-09T15:00:00\",\"1970-01-11T12:00:00\",\"1970-01-10T13:00:00\",\"1970-01-07T14:00:00\",\"1970-01-02T19:00:00\",\"1970-01-01T09:00:00\",\"1970-01-03T21:00:00\",\"1970-01-01T20:00:00\",\"1970-01-03T21:00:00\",\"1970-01-04T11:00:00\",\"1970-01-07T14:00:00\",\"1970-01-02T19:00:00\"],\"hovertemplate\":\"Resource=%{text}<br>Start=%{base}<br>Finish=%{x}<br>Type=%{y}<extra></extra>\",\"legendgroup\":\"M1\",\"marker\":{\"color\":\"rgb(196,78,82)\",\"pattern\":{\"shape\":\"\"},\"line\":{\"color\":\"yellow\"},\"cmid\":1000},\"name\":\"M1\",\"offsetgroup\":\"M1\",\"orientation\":\"h\",\"showlegend\":true,\"text\":[\"M1\",\"M1\",\"M1\",\"M1\",\"M1\",\"M1\",\"M1\",\"M1\",\"M1\",\"M1\",\"M1\",\"M1\",\"M1\",\"M1\",\"M1\",\"M1\",\"M1\",\"M1\",\"M1\"],\"textposition\":\"auto\",\"x\":[46800000.0,72000000.0,93600000.0,57600000.0,97200000.0,90000000.0,39600000.0,79200000.0,86400000.0,82800000.0,46800000.0,93600000.0,39600000.0,50400000.0,82800000.0,10800000.0,7200000.0,10800000.0,3600000.0],\"xaxis\":\"x\",\"y\":[\"j13\",\"j13\",\"j13\",\"j13\",\"j2\",\"j2\",\"j2\",\"j2\",\"j2\",\"j2\",\"j2\",\"j20\",\"j6\",\"j6\",\"j6\",\"setup\",\"setup\",\"setup\",\"setup\"],\"yaxis\":\"y\",\"type\":\"bar\"},{\"alignmentgroup\":\"True\",\"base\":[\"1970-01-05T11:00:00\",\"1970-01-04T21:00:00\",\"1970-01-04T04:00:00\",\"1970-01-02T10:00:00\",\"1970-01-02T02:00:00\",\"1970-01-01T09:00:00\",\"1970-01-12T13:00:00\",\"1970-01-13T06:00:00\",\"1970-01-03T04:00:00\",\"1970-01-07T22:00:00\",\"1970-01-08T09:00:00\",\"1970-01-07T05:00:00\",\"1970-01-05T19:00:00\",\"1970-01-06T13:00:00\",\"1970-01-10T13:00:00\",\"1970-01-11T16:00:00\",\"1970-01-11T00:00:00\",\"1970-01-09T18:00:00\",\"1970-01-09T03:00:00\",\"1970-01-10T04:00:00\",\"1970-01-08T14:00:00\",\"1970-01-12T13:00:00\",\"1970-01-03T04:00:00\",\"1970-01-08T14:00:00\",\"1970-01-05T19:00:00\",\"1970-01-04T04:00:00\"],\"hovertemplate\":\"Resource=%{text}<br>Start=%{base}<br>Finish=%{x}<br>Type=%{y}<extra></extra>\",\"legendgroup\":\"M2\",\"marker\":{\"color\":\"rgb(129,114,179)\",\"pattern\":{\"shape\":\"\"},\"line\":{\"color\":\"yellow\"},\"cmid\":1000},\"name\":\"M2\",\"offsetgroup\":\"M2\",\"orientation\":\"h\",\"showlegend\":true,\"text\":[\"M2\",\"M2\",\"M2\",\"M2\",\"M2\",\"M2\",\"M2\",\"M2\",\"M2\",\"M2\",\"M2\",\"M2\",\"M2\",\"M2\",\"M2\",\"M2\",\"M2\",\"M2\",\"M2\",\"M2\",\"M2\",\"M2\",\"M2\",\"M2\",\"M2\",\"M2\"],\"textposition\":\"auto\",\"x\":[28800000.0,50400000.0,61200000.0,64800000.0,28800000.0,61200000.0,61200000.0,39600000.0,86400000.0,39600000.0,18000000.0,61200000.0,64800000.0,57600000.0,39600000.0,72000000.0,57600000.0,36000000.0,54000000.0,32400000.0,46800000.0,7200000.0,7200000.0,10800000.0,10800000.0,10800000.0],\"xaxis\":\"x\",\"y\":[\"j14\",\"j14\",\"j14\",\"j15\",\"j15\",\"j15\",\"j16\",\"j16\",\"j19\",\"j5\",\"j5\",\"j5\",\"j5\",\"j5\",\"j7\",\"j7\",\"j7\",\"j7\",\"j7\",\"j7\",\"j7\",\"setup\",\"setup\",\"setup\",\"setup\",\"setup\"],\"yaxis\":\"y\",\"type\":\"bar\"},{\"alignmentgroup\":\"True\",\"base\":[\"1970-01-02T23:00:00\",\"1970-01-10T14:00:00\",\"1970-01-10T04:00:00\",\"1970-01-07T12:00:00\",\"1970-01-09T13:00:00\",\"1970-01-08T14:00:00\",\"1970-01-07T01:00:00\",\"1970-01-08T00:00:00\",\"1970-01-02T13:00:00\",\"1970-01-02T06:00:00\",\"1970-01-01T21:00:00\",\"1970-01-01T09:00:00\",\"1970-01-05T16:00:00\",\"1970-01-06T07:00:00\",\"1970-01-05T10:00:00\",\"1970-01-05T00:00:00\",\"1970-01-05T23:00:00\",\"1970-01-04T01:00:00\",\"1970-01-04T01:00:00\",\"1970-01-05T00:00:00\",\"1970-01-07T01:00:00\",\"1970-01-10T04:00:00\",\"1970-01-02T23:00:00\"],\"hovertemplate\":\"Resource=%{text}<br>Start=%{base}<br>Finish=%{x}<br>Type=%{y}<extra></extra>\",\"legendgroup\":\"M4\",\"marker\":{\"color\":\"rgb(147,120,96)\",\"pattern\":{\"shape\":\"\"},\"line\":{\"color\":\"yellow\"},\"cmid\":1000},\"name\":\"M4\",\"offsetgroup\":\"M4\",\"orientation\":\"h\",\"showlegend\":true,\"text\":[\"M4\",\"M4\",\"M4\",\"M4\",\"M4\",\"M4\",\"M4\",\"M4\",\"M4\",\"M4\",\"M4\",\"M4\",\"M4\",\"M4\",\"M4\",\"M4\",\"M4\",\"M4\",\"M4\",\"M4\",\"M4\",\"M4\",\"M4\"],\"textposition\":\"auto\",\"x\":[93600000.0,64800000.0,36000000.0,43200000.0,43200000.0,82800000.0,39600000.0,50400000.0,36000000.0,25200000.0,32400000.0,43200000.0,25200000.0,64800000.0,21600000.0,36000000.0,28800000.0,82800000.0,10800000.0,14400000.0,10800000.0,10800000.0,7200000.0],\"xaxis\":\"x\",\"y\":[\"j14\",\"j19\",\"j19\",\"j20\",\"j20\",\"j20\",\"j20\",\"j20\",\"j3\",\"j3\",\"j3\",\"j3\",\"j4\",\"j4\",\"j4\",\"j4\",\"j4\",\"j8\",\"setup\",\"setup\",\"setup\",\"setup\",\"setup\"],\"yaxis\":\"y\",\"type\":\"bar\"}],                        {\"template\":{\"data\":{\"barpolar\":[{\"marker\":{\"line\":{\"color\":\"rgb(234,234,242)\",\"width\":0.5},\"pattern\":{\"fillmode\":\"overlay\",\"size\":10,\"solidity\":0.2}},\"type\":\"barpolar\"}],\"bar\":[{\"error_x\":{\"color\":\"rgb(36,36,36)\"},\"error_y\":{\"color\":\"rgb(36,36,36)\"},\"marker\":{\"line\":{\"color\":\"rgb(234,234,242)\",\"width\":0.5},\"pattern\":{\"fillmode\":\"overlay\",\"size\":10,\"solidity\":0.2}},\"type\":\"bar\"}],\"carpet\":[{\"aaxis\":{\"endlinecolor\":\"rgb(36,36,36)\",\"gridcolor\":\"white\",\"linecolor\":\"white\",\"minorgridcolor\":\"white\",\"startlinecolor\":\"rgb(36,36,36)\"},\"baxis\":{\"endlinecolor\":\"rgb(36,36,36)\",\"gridcolor\":\"white\",\"linecolor\":\"white\",\"minorgridcolor\":\"white\",\"startlinecolor\":\"rgb(36,36,36)\"},\"type\":\"carpet\"}],\"choropleth\":[{\"colorbar\":{\"outlinewidth\":0,\"tickcolor\":\"rgb(36,36,36)\",\"ticklen\":8,\"ticks\":\"outside\",\"tickwidth\":2},\"type\":\"choropleth\"}],\"contourcarpet\":[{\"colorbar\":{\"outlinewidth\":0,\"tickcolor\":\"rgb(36,36,36)\",\"ticklen\":8,\"ticks\":\"outside\",\"tickwidth\":2},\"type\":\"contourcarpet\"}],\"contour\":[{\"colorbar\":{\"outlinewidth\":0,\"tickcolor\":\"rgb(36,36,36)\",\"ticklen\":8,\"ticks\":\"outside\",\"tickwidth\":2},\"colorscale\":[[0.0,\"rgb(2,4,25)\"],[0.06274509803921569,\"rgb(24,15,41)\"],[0.12549019607843137,\"rgb(47,23,57)\"],[0.18823529411764706,\"rgb(71,28,72)\"],[0.25098039215686274,\"rgb(97,30,82)\"],[0.3137254901960784,\"rgb(123,30,89)\"],[0.3764705882352941,\"rgb(150,27,91)\"],[0.4392156862745098,\"rgb(177,22,88)\"],[0.5019607843137255,\"rgb(203,26,79)\"],[0.5647058823529412,\"rgb(223,47,67)\"],[0.6274509803921569,\"rgb(236,76,61)\"],[0.6901960784313725,\"rgb(242,107,73)\"],[0.7529411764705882,\"rgb(244,135,95)\"],[0.8156862745098039,\"rgb(245,162,122)\"],[0.8784313725490196,\"rgb(246,188,153)\"],[0.9411764705882353,\"rgb(247,212,187)\"],[1.0,\"rgb(250,234,220)\"]],\"type\":\"contour\"}],\"heatmapgl\":[{\"colorbar\":{\"outlinewidth\":0,\"tickcolor\":\"rgb(36,36,36)\",\"ticklen\":8,\"ticks\":\"outside\",\"tickwidth\":2},\"colorscale\":[[0.0,\"rgb(2,4,25)\"],[0.06274509803921569,\"rgb(24,15,41)\"],[0.12549019607843137,\"rgb(47,23,57)\"],[0.18823529411764706,\"rgb(71,28,72)\"],[0.25098039215686274,\"rgb(97,30,82)\"],[0.3137254901960784,\"rgb(123,30,89)\"],[0.3764705882352941,\"rgb(150,27,91)\"],[0.4392156862745098,\"rgb(177,22,88)\"],[0.5019607843137255,\"rgb(203,26,79)\"],[0.5647058823529412,\"rgb(223,47,67)\"],[0.6274509803921569,\"rgb(236,76,61)\"],[0.6901960784313725,\"rgb(242,107,73)\"],[0.7529411764705882,\"rgb(244,135,95)\"],[0.8156862745098039,\"rgb(245,162,122)\"],[0.8784313725490196,\"rgb(246,188,153)\"],[0.9411764705882353,\"rgb(247,212,187)\"],[1.0,\"rgb(250,234,220)\"]],\"type\":\"heatmapgl\"}],\"heatmap\":[{\"colorbar\":{\"outlinewidth\":0,\"tickcolor\":\"rgb(36,36,36)\",\"ticklen\":8,\"ticks\":\"outside\",\"tickwidth\":2},\"colorscale\":[[0.0,\"rgb(2,4,25)\"],[0.06274509803921569,\"rgb(24,15,41)\"],[0.12549019607843137,\"rgb(47,23,57)\"],[0.18823529411764706,\"rgb(71,28,72)\"],[0.25098039215686274,\"rgb(97,30,82)\"],[0.3137254901960784,\"rgb(123,30,89)\"],[0.3764705882352941,\"rgb(150,27,91)\"],[0.4392156862745098,\"rgb(177,22,88)\"],[0.5019607843137255,\"rgb(203,26,79)\"],[0.5647058823529412,\"rgb(223,47,67)\"],[0.6274509803921569,\"rgb(236,76,61)\"],[0.6901960784313725,\"rgb(242,107,73)\"],[0.7529411764705882,\"rgb(244,135,95)\"],[0.8156862745098039,\"rgb(245,162,122)\"],[0.8784313725490196,\"rgb(246,188,153)\"],[0.9411764705882353,\"rgb(247,212,187)\"],[1.0,\"rgb(250,234,220)\"]],\"type\":\"heatmap\"}],\"histogram2dcontour\":[{\"colorbar\":{\"outlinewidth\":0,\"tickcolor\":\"rgb(36,36,36)\",\"ticklen\":8,\"ticks\":\"outside\",\"tickwidth\":2},\"colorscale\":[[0.0,\"rgb(2,4,25)\"],[0.06274509803921569,\"rgb(24,15,41)\"],[0.12549019607843137,\"rgb(47,23,57)\"],[0.18823529411764706,\"rgb(71,28,72)\"],[0.25098039215686274,\"rgb(97,30,82)\"],[0.3137254901960784,\"rgb(123,30,89)\"],[0.3764705882352941,\"rgb(150,27,91)\"],[0.4392156862745098,\"rgb(177,22,88)\"],[0.5019607843137255,\"rgb(203,26,79)\"],[0.5647058823529412,\"rgb(223,47,67)\"],[0.6274509803921569,\"rgb(236,76,61)\"],[0.6901960784313725,\"rgb(242,107,73)\"],[0.7529411764705882,\"rgb(244,135,95)\"],[0.8156862745098039,\"rgb(245,162,122)\"],[0.8784313725490196,\"rgb(246,188,153)\"],[0.9411764705882353,\"rgb(247,212,187)\"],[1.0,\"rgb(250,234,220)\"]],\"type\":\"histogram2dcontour\"}],\"histogram2d\":[{\"colorbar\":{\"outlinewidth\":0,\"tickcolor\":\"rgb(36,36,36)\",\"ticklen\":8,\"ticks\":\"outside\",\"tickwidth\":2},\"colorscale\":[[0.0,\"rgb(2,4,25)\"],[0.06274509803921569,\"rgb(24,15,41)\"],[0.12549019607843137,\"rgb(47,23,57)\"],[0.18823529411764706,\"rgb(71,28,72)\"],[0.25098039215686274,\"rgb(97,30,82)\"],[0.3137254901960784,\"rgb(123,30,89)\"],[0.3764705882352941,\"rgb(150,27,91)\"],[0.4392156862745098,\"rgb(177,22,88)\"],[0.5019607843137255,\"rgb(203,26,79)\"],[0.5647058823529412,\"rgb(223,47,67)\"],[0.6274509803921569,\"rgb(236,76,61)\"],[0.6901960784313725,\"rgb(242,107,73)\"],[0.7529411764705882,\"rgb(244,135,95)\"],[0.8156862745098039,\"rgb(245,162,122)\"],[0.8784313725490196,\"rgb(246,188,153)\"],[0.9411764705882353,\"rgb(247,212,187)\"],[1.0,\"rgb(250,234,220)\"]],\"type\":\"histogram2d\"}],\"histogram\":[{\"marker\":{\"pattern\":{\"fillmode\":\"overlay\",\"size\":10,\"solidity\":0.2}},\"type\":\"histogram\"}],\"mesh3d\":[{\"colorbar\":{\"outlinewidth\":0,\"tickcolor\":\"rgb(36,36,36)\",\"ticklen\":8,\"ticks\":\"outside\",\"tickwidth\":2},\"type\":\"mesh3d\"}],\"parcoords\":[{\"line\":{\"colorbar\":{\"outlinewidth\":0,\"tickcolor\":\"rgb(36,36,36)\",\"ticklen\":8,\"ticks\":\"outside\",\"tickwidth\":2}},\"type\":\"parcoords\"}],\"pie\":[{\"automargin\":true,\"type\":\"pie\"}],\"scatter3d\":[{\"line\":{\"colorbar\":{\"outlinewidth\":0,\"tickcolor\":\"rgb(36,36,36)\",\"ticklen\":8,\"ticks\":\"outside\",\"tickwidth\":2}},\"marker\":{\"colorbar\":{\"outlinewidth\":0,\"tickcolor\":\"rgb(36,36,36)\",\"ticklen\":8,\"ticks\":\"outside\",\"tickwidth\":2}},\"type\":\"scatter3d\"}],\"scattercarpet\":[{\"marker\":{\"colorbar\":{\"outlinewidth\":0,\"tickcolor\":\"rgb(36,36,36)\",\"ticklen\":8,\"ticks\":\"outside\",\"tickwidth\":2}},\"type\":\"scattercarpet\"}],\"scattergeo\":[{\"marker\":{\"colorbar\":{\"outlinewidth\":0,\"tickcolor\":\"rgb(36,36,36)\",\"ticklen\":8,\"ticks\":\"outside\",\"tickwidth\":2}},\"type\":\"scattergeo\"}],\"scattergl\":[{\"marker\":{\"colorbar\":{\"outlinewidth\":0,\"tickcolor\":\"rgb(36,36,36)\",\"ticklen\":8,\"ticks\":\"outside\",\"tickwidth\":2}},\"type\":\"scattergl\"}],\"scattermapbox\":[{\"marker\":{\"colorbar\":{\"outlinewidth\":0,\"tickcolor\":\"rgb(36,36,36)\",\"ticklen\":8,\"ticks\":\"outside\",\"tickwidth\":2}},\"type\":\"scattermapbox\"}],\"scatterpolargl\":[{\"marker\":{\"colorbar\":{\"outlinewidth\":0,\"tickcolor\":\"rgb(36,36,36)\",\"ticklen\":8,\"ticks\":\"outside\",\"tickwidth\":2}},\"type\":\"scatterpolargl\"}],\"scatterpolar\":[{\"marker\":{\"colorbar\":{\"outlinewidth\":0,\"tickcolor\":\"rgb(36,36,36)\",\"ticklen\":8,\"ticks\":\"outside\",\"tickwidth\":2}},\"type\":\"scatterpolar\"}],\"scatter\":[{\"fillpattern\":{\"fillmode\":\"overlay\",\"size\":10,\"solidity\":0.2},\"type\":\"scatter\"}],\"scatterternary\":[{\"marker\":{\"colorbar\":{\"outlinewidth\":0,\"tickcolor\":\"rgb(36,36,36)\",\"ticklen\":8,\"ticks\":\"outside\",\"tickwidth\":2}},\"type\":\"scatterternary\"}],\"surface\":[{\"colorbar\":{\"outlinewidth\":0,\"tickcolor\":\"rgb(36,36,36)\",\"ticklen\":8,\"ticks\":\"outside\",\"tickwidth\":2},\"colorscale\":[[0.0,\"rgb(2,4,25)\"],[0.06274509803921569,\"rgb(24,15,41)\"],[0.12549019607843137,\"rgb(47,23,57)\"],[0.18823529411764706,\"rgb(71,28,72)\"],[0.25098039215686274,\"rgb(97,30,82)\"],[0.3137254901960784,\"rgb(123,30,89)\"],[0.3764705882352941,\"rgb(150,27,91)\"],[0.4392156862745098,\"rgb(177,22,88)\"],[0.5019607843137255,\"rgb(203,26,79)\"],[0.5647058823529412,\"rgb(223,47,67)\"],[0.6274509803921569,\"rgb(236,76,61)\"],[0.6901960784313725,\"rgb(242,107,73)\"],[0.7529411764705882,\"rgb(244,135,95)\"],[0.8156862745098039,\"rgb(245,162,122)\"],[0.8784313725490196,\"rgb(246,188,153)\"],[0.9411764705882353,\"rgb(247,212,187)\"],[1.0,\"rgb(250,234,220)\"]],\"type\":\"surface\"}],\"table\":[{\"cells\":{\"fill\":{\"color\":\"rgb(231,231,240)\"},\"line\":{\"color\":\"white\"}},\"header\":{\"fill\":{\"color\":\"rgb(183,183,191)\"},\"line\":{\"color\":\"white\"}},\"type\":\"table\"}]},\"layout\":{\"annotationdefaults\":{\"arrowcolor\":\"rgb(67,103,167)\"},\"autotypenumbers\":\"strict\",\"coloraxis\":{\"colorbar\":{\"outlinewidth\":0,\"tickcolor\":\"rgb(36,36,36)\",\"ticklen\":8,\"ticks\":\"outside\",\"tickwidth\":2}},\"colorscale\":{\"sequential\":[[0.0,\"rgb(2,4,25)\"],[0.06274509803921569,\"rgb(24,15,41)\"],[0.12549019607843137,\"rgb(47,23,57)\"],[0.18823529411764706,\"rgb(71,28,72)\"],[0.25098039215686274,\"rgb(97,30,82)\"],[0.3137254901960784,\"rgb(123,30,89)\"],[0.3764705882352941,\"rgb(150,27,91)\"],[0.4392156862745098,\"rgb(177,22,88)\"],[0.5019607843137255,\"rgb(203,26,79)\"],[0.5647058823529412,\"rgb(223,47,67)\"],[0.6274509803921569,\"rgb(236,76,61)\"],[0.6901960784313725,\"rgb(242,107,73)\"],[0.7529411764705882,\"rgb(244,135,95)\"],[0.8156862745098039,\"rgb(245,162,122)\"],[0.8784313725490196,\"rgb(246,188,153)\"],[0.9411764705882353,\"rgb(247,212,187)\"],[1.0,\"rgb(250,234,220)\"]],\"sequentialminus\":[[0.0,\"rgb(2,4,25)\"],[0.06274509803921569,\"rgb(24,15,41)\"],[0.12549019607843137,\"rgb(47,23,57)\"],[0.18823529411764706,\"rgb(71,28,72)\"],[0.25098039215686274,\"rgb(97,30,82)\"],[0.3137254901960784,\"rgb(123,30,89)\"],[0.3764705882352941,\"rgb(150,27,91)\"],[0.4392156862745098,\"rgb(177,22,88)\"],[0.5019607843137255,\"rgb(203,26,79)\"],[0.5647058823529412,\"rgb(223,47,67)\"],[0.6274509803921569,\"rgb(236,76,61)\"],[0.6901960784313725,\"rgb(242,107,73)\"],[0.7529411764705882,\"rgb(244,135,95)\"],[0.8156862745098039,\"rgb(245,162,122)\"],[0.8784313725490196,\"rgb(246,188,153)\"],[0.9411764705882353,\"rgb(247,212,187)\"],[1.0,\"rgb(250,234,220)\"]]},\"colorway\":[\"rgb(76,114,176)\",\"rgb(221,132,82)\",\"rgb(85,168,104)\",\"rgb(196,78,82)\",\"rgb(129,114,179)\",\"rgb(147,120,96)\",\"rgb(218,139,195)\",\"rgb(140,140,140)\",\"rgb(204,185,116)\",\"rgb(100,181,205)\"],\"font\":{\"color\":\"rgb(36,36,36)\"},\"geo\":{\"bgcolor\":\"white\",\"lakecolor\":\"white\",\"landcolor\":\"rgb(234,234,242)\",\"showlakes\":true,\"showland\":true,\"subunitcolor\":\"white\"},\"hoverlabel\":{\"align\":\"left\"},\"hovermode\":\"closest\",\"paper_bgcolor\":\"white\",\"plot_bgcolor\":\"rgb(234,234,242)\",\"polar\":{\"angularaxis\":{\"gridcolor\":\"white\",\"linecolor\":\"white\",\"showgrid\":true,\"ticks\":\"\"},\"bgcolor\":\"rgb(234,234,242)\",\"radialaxis\":{\"gridcolor\":\"white\",\"linecolor\":\"white\",\"showgrid\":true,\"ticks\":\"\"}},\"scene\":{\"xaxis\":{\"backgroundcolor\":\"rgb(234,234,242)\",\"gridcolor\":\"white\",\"gridwidth\":2,\"linecolor\":\"white\",\"showbackground\":true,\"showgrid\":true,\"ticks\":\"\",\"zerolinecolor\":\"white\"},\"yaxis\":{\"backgroundcolor\":\"rgb(234,234,242)\",\"gridcolor\":\"white\",\"gridwidth\":2,\"linecolor\":\"white\",\"showbackground\":true,\"showgrid\":true,\"ticks\":\"\",\"zerolinecolor\":\"white\"},\"zaxis\":{\"backgroundcolor\":\"rgb(234,234,242)\",\"gridcolor\":\"white\",\"gridwidth\":2,\"linecolor\":\"white\",\"showbackground\":true,\"showgrid\":true,\"ticks\":\"\",\"zerolinecolor\":\"white\"}},\"shapedefaults\":{\"fillcolor\":\"rgb(67,103,167)\",\"line\":{\"width\":0},\"opacity\":0.5},\"ternary\":{\"aaxis\":{\"gridcolor\":\"white\",\"linecolor\":\"white\",\"showgrid\":true,\"ticks\":\"\"},\"baxis\":{\"gridcolor\":\"white\",\"linecolor\":\"white\",\"showgrid\":true,\"ticks\":\"\"},\"bgcolor\":\"rgb(234,234,242)\",\"caxis\":{\"gridcolor\":\"white\",\"linecolor\":\"white\",\"showgrid\":true,\"ticks\":\"\"}},\"xaxis\":{\"automargin\":true,\"gridcolor\":\"white\",\"linecolor\":\"white\",\"showgrid\":true,\"ticks\":\"\",\"title\":{\"standoff\":15},\"zerolinecolor\":\"white\"},\"yaxis\":{\"automargin\":true,\"gridcolor\":\"white\",\"linecolor\":\"white\",\"showgrid\":true,\"ticks\":\"\",\"title\":{\"standoff\":15},\"zerolinecolor\":\"white\"}}},\"xaxis\":{\"anchor\":\"y\",\"domain\":[0.0,1.0],\"type\":\"date\"},\"yaxis\":{\"anchor\":\"x\",\"domain\":[0.0,1.0],\"title\":{\"text\":\"Type\"}},\"legend\":{\"title\":{\"text\":\"Resource\"},\"tracegroupgap\":0},\"margin\":{\"t\":60},\"barmode\":\"overlay\",\"height\":1000,\"width\":2000},                        {\"responsive\": true}                    ).then(function(){\n",
       "                            \n",
       "var gd = document.getElementById('af81bd0e-00dd-4c93-b688-a0b35eed3427');\n",
       "var x = new MutationObserver(function (mutations, observer) {{\n",
       "        var display = window.getComputedStyle(gd).display;\n",
       "        if (!display || display === 'none') {{\n",
       "            console.log([gd, 'removed!']);\n",
       "            Plotly.purge(gd);\n",
       "            observer.disconnect();\n",
       "        }}\n",
       "}});\n",
       "\n",
       "// Listen for the removal of the full notebook cells\n",
       "var notebookContainer = gd.closest('#notebook-container');\n",
       "if (notebookContainer) {{\n",
       "    x.observe(notebookContainer, {childList: true});\n",
       "}}\n",
       "\n",
       "// Listen for the clearing of the current output cell\n",
       "var outputEl = gd.closest('.output');\n",
       "if (outputEl) {{\n",
       "    x.observe(outputEl, {childList: true});\n",
       "}}\n",
       "\n",
       "                        })                };                });            </script>        </div>"
      ]
     },
     "metadata": {},
     "output_type": "display_data"
    },
    {
     "data": {
      "application/vnd.plotly.v1+json": {
       "config": {
        "plotlyServerURL": "https://plot.ly"
       },
       "data": [
        {
         "alignmentgroup": "True",
         "base": [
          "1970-01-07T09:00:00",
          "1970-01-07T21:00:00",
          "1970-01-08T15:00:00",
          "1970-01-09T12:00:00",
          "1970-01-10T04:00:00",
          "1970-01-10T14:00:00",
          "1970-01-03T04:00:00"
         ],
         "hovertemplate": "Type=j19<br>Start=%{base}<br>Finish=%{x}<br>Resource=%{y}<br>Rule=%{text}<extra></extra>",
         "legendgroup": "j19",
         "marker": {
          "color": "#2E91E5",
          "pattern": {
           "shape": ""
          }
         },
         "name": "j19",
         "offsetgroup": "j19",
         "orientation": "h",
         "showlegend": true,
         "text": [
          "LOR",
          "LOR",
          "LOR",
          "LOR",
          "LOR",
          "LOR",
          "LPT"
         ],
         "textposition": "auto",
         "type": "bar",
         "x": [
          43200000,
          64800000,
          75600000,
          57600000,
          36000000,
          64800000,
          86400000
         ],
         "xaxis": "x",
         "y": [
          "M6",
          "M6",
          "M6",
          "M5",
          "M4",
          "M4",
          "M2"
         ],
         "yaxis": "y"
        },
        {
         "alignmentgroup": "True",
         "base": [
          "1970-01-03T00:00:00",
          "1970-01-04T19:00:00",
          "1970-01-05T07:00:00",
          "1970-01-05T20:00:00",
          "1970-01-06T13:00:00"
         ],
         "hovertemplate": "Type=j18<br>Start=%{base}<br>Finish=%{x}<br>Resource=%{y}<br>Rule=%{text}<extra></extra>",
         "legendgroup": "j18",
         "marker": {
          "color": "#E15F99",
          "pattern": {
           "shape": ""
          }
         },
         "name": "j18",
         "offsetgroup": "j18",
         "orientation": "h",
         "showlegend": true,
         "text": [
          "LPT",
          "LOR",
          "LOR",
          "LOR",
          "LOR"
         ],
         "textposition": "auto",
         "type": "bar",
         "x": [
          90000000,
          43200000,
          46800000,
          61200000,
          72000000
         ],
         "xaxis": "x",
         "y": [
          "M6",
          "M6",
          "M6",
          "M6",
          "M6"
         ],
         "yaxis": "y"
        },
        {
         "alignmentgroup": "True",
         "base": [
          "1970-01-01T09:00:00",
          "1970-01-01T14:00:00",
          "1970-01-02T01:00:00",
          "1970-01-02T08:00:00"
         ],
         "hovertemplate": "Type=j10<br>Start=%{base}<br>Finish=%{x}<br>Resource=%{y}<br>Rule=%{text}<extra></extra>",
         "legendgroup": "j10",
         "marker": {
          "color": "#1CA71C",
          "pattern": {
           "shape": ""
          }
         },
         "name": "j10",
         "offsetgroup": "j10",
         "orientation": "h",
         "showlegend": true,
         "text": [
          "LOR",
          "LOR",
          "LOR",
          "LOR"
         ],
         "textposition": "auto",
         "type": "bar",
         "x": [
          18000000,
          39600000,
          25200000,
          57600000
         ],
         "xaxis": "x",
         "y": [
          "M6",
          "M6",
          "M6",
          "M6"
         ],
         "yaxis": "y"
        },
        {
         "alignmentgroup": "True",
         "base": [
          "1970-01-04T01:00:00",
          "1970-01-04T10:00:00",
          "1970-01-01T09:00:00",
          "1970-01-02T03:00:00"
         ],
         "hovertemplate": "Type=j1<br>Start=%{base}<br>Finish=%{x}<br>Resource=%{y}<br>Rule=%{text}<extra></extra>",
         "legendgroup": "j1",
         "marker": {
          "color": "#FB0D0D",
          "pattern": {
           "shape": ""
          }
         },
         "name": "j1",
         "offsetgroup": "j1",
         "orientation": "h",
         "showlegend": true,
         "text": [
          "LOR",
          "LOR",
          "LOR",
          "LOR"
         ],
         "textposition": "auto",
         "type": "bar",
         "x": [
          32400000,
          32400000,
          64800000,
          28800000
         ],
         "xaxis": "x",
         "y": [
          "M6",
          "M6",
          "M3",
          "M3"
         ],
         "yaxis": "y"
        },
        {
         "alignmentgroup": "True",
         "base": [
          "1970-01-01T09:00:00",
          "1970-01-01T15:00:00",
          "1970-01-01T20:00:00",
          "1970-01-04T01:00:00"
         ],
         "hovertemplate": "Type=j8<br>Start=%{base}<br>Finish=%{x}<br>Resource=%{y}<br>Rule=%{text}<extra></extra>",
         "legendgroup": "j8",
         "marker": {
          "color": "#DA16FF",
          "pattern": {
           "shape": ""
          }
         },
         "name": "j8",
         "offsetgroup": "j8",
         "orientation": "h",
         "showlegend": true,
         "text": [
          "LOR",
          "LOR",
          "LOR",
          "LOR"
         ],
         "textposition": "auto",
         "type": "bar",
         "x": [
          21600000,
          18000000,
          64800000,
          82800000
         ],
         "xaxis": "x",
         "y": [
          "M5",
          "M5",
          "M5",
          "M4"
         ],
         "yaxis": "y"
        },
        {
         "alignmentgroup": "True",
         "base": [
          "1970-01-03T16:00:00",
          "1970-01-04T21:00:00",
          "1970-01-05T15:00:00",
          "1970-01-02T11:00:00"
         ],
         "hovertemplate": "Type=j17<br>Start=%{base}<br>Finish=%{x}<br>Resource=%{y}<br>Rule=%{text}<extra></extra>",
         "legendgroup": "j17",
         "marker": {
          "color": "#222A2A",
          "pattern": {
           "shape": ""
          }
         },
         "name": "j17",
         "offsetgroup": "j17",
         "orientation": "h",
         "showlegend": true,
         "text": [
          "LPT",
          "LOR",
          "LOR",
          "LPT"
         ],
         "textposition": "auto",
         "type": "bar",
         "x": [
          104400000,
          64800000,
          90000000,
          97200000
         ],
         "xaxis": "x",
         "y": [
          "M5",
          "M5",
          "M5",
          "M3"
         ],
         "yaxis": "y"
        },
        {
         "alignmentgroup": "True",
         "base": [
          "1970-01-02T14:00:00",
          "1970-01-06T16:00:00",
          "1970-01-07T13:00:00",
          "1970-01-08T00:00:00",
          "1970-01-08T06:00:00",
          "1970-01-08T13:00:00"
         ],
         "hovertemplate": "Type=j11<br>Start=%{base}<br>Finish=%{x}<br>Resource=%{y}<br>Rule=%{text}<extra></extra>",
         "legendgroup": "j11",
         "marker": {
          "color": "#B68100",
          "pattern": {
           "shape": ""
          }
         },
         "name": "j11",
         "offsetgroup": "j11",
         "orientation": "h",
         "showlegend": true,
         "text": [
          "LPT",
          "LOR",
          "LOR",
          "LOR",
          "LOR",
          "LOR"
         ],
         "textposition": "auto",
         "type": "bar",
         "x": [
          93600000,
          75600000,
          39600000,
          21600000,
          25200000,
          21600000
         ],
         "xaxis": "x",
         "y": [
          "M5",
          "M5",
          "M5",
          "M5",
          "M5",
          "M5"
         ],
         "yaxis": "y"
        },
        {
         "alignmentgroup": "True",
         "base": [
          "1970-01-05T00:00:00",
          "1970-01-05T10:00:00",
          "1970-01-05T16:00:00",
          "1970-01-05T23:00:00",
          "1970-01-06T07:00:00"
         ],
         "hovertemplate": "Type=j4<br>Start=%{base}<br>Finish=%{x}<br>Resource=%{y}<br>Rule=%{text}<extra></extra>",
         "legendgroup": "j4",
         "marker": {
          "color": "#750D86",
          "pattern": {
           "shape": ""
          }
         },
         "name": "j4",
         "offsetgroup": "j4",
         "orientation": "h",
         "showlegend": true,
         "text": [
          "LOR",
          "LOR",
          "LOR",
          "LOR",
          "LOR"
         ],
         "textposition": "auto",
         "type": "bar",
         "x": [
          36000000,
          21600000,
          25200000,
          28800000,
          64800000
         ],
         "xaxis": "x",
         "y": [
          "M4",
          "M4",
          "M4",
          "M4",
          "M4"
         ],
         "yaxis": "y"
        },
        {
         "alignmentgroup": "True",
         "base": [
          "1970-01-01T09:00:00",
          "1970-01-01T21:00:00",
          "1970-01-02T06:00:00",
          "1970-01-02T13:00:00"
         ],
         "hovertemplate": "Type=j3<br>Start=%{base}<br>Finish=%{x}<br>Resource=%{y}<br>Rule=%{text}<extra></extra>",
         "legendgroup": "j3",
         "marker": {
          "color": "#EB663B",
          "pattern": {
           "shape": ""
          }
         },
         "name": "j3",
         "offsetgroup": "j3",
         "orientation": "h",
         "showlegend": true,
         "text": [
          "LOR",
          "LOR",
          "LOR",
          "LOR"
         ],
         "textposition": "auto",
         "type": "bar",
         "x": [
          43200000,
          32400000,
          25200000,
          36000000
         ],
         "xaxis": "x",
         "y": [
          "M4",
          "M4",
          "M4",
          "M4"
         ],
         "yaxis": "y"
        },
        {
         "alignmentgroup": "True",
         "base": [
          "1970-01-07T01:00:00",
          "1970-01-07T12:00:00",
          "1970-01-08T00:00:00",
          "1970-01-08T14:00:00",
          "1970-01-09T13:00:00",
          "1970-01-02T19:00:00"
         ],
         "hovertemplate": "Type=j20<br>Start=%{base}<br>Finish=%{x}<br>Resource=%{y}<br>Rule=%{text}<extra></extra>",
         "legendgroup": "j20",
         "marker": {
          "color": "#511CFB",
          "pattern": {
           "shape": ""
          }
         },
         "name": "j20",
         "offsetgroup": "j20",
         "orientation": "h",
         "showlegend": true,
         "text": [
          "LOR",
          "LOR",
          "LOR",
          "LOR",
          "LOR",
          "LPT"
         ],
         "textposition": "auto",
         "type": "bar",
         "x": [
          39600000,
          43200000,
          50400000,
          82800000,
          43200000,
          93600000
         ],
         "xaxis": "x",
         "y": [
          "M4",
          "M4",
          "M4",
          "M4",
          "M4",
          "M1"
         ],
         "yaxis": "y"
        },
        {
         "alignmentgroup": "True",
         "base": [
          "1970-01-02T23:00:00",
          "1970-01-04T04:00:00",
          "1970-01-04T21:00:00",
          "1970-01-05T11:00:00"
         ],
         "hovertemplate": "Type=j14<br>Start=%{base}<br>Finish=%{x}<br>Resource=%{y}<br>Rule=%{text}<extra></extra>",
         "legendgroup": "j14",
         "marker": {
          "color": "#00A08B",
          "pattern": {
           "shape": ""
          }
         },
         "name": "j14",
         "offsetgroup": "j14",
         "orientation": "h",
         "showlegend": true,
         "text": [
          "LPT",
          "LOR",
          "LOR",
          "LOR"
         ],
         "textposition": "auto",
         "type": "bar",
         "x": [
          93600000,
          61200000,
          50400000,
          28800000
         ],
         "xaxis": "x",
         "y": [
          "M4",
          "M2",
          "M2",
          "M2"
         ],
         "yaxis": "y"
        },
        {
         "alignmentgroup": "True",
         "base": [
          "1970-01-05T23:00:00",
          "1970-01-06T11:00:00",
          "1970-01-07T00:00:00",
          "1970-01-07T12:00:00",
          "1970-01-08T02:00:00"
         ],
         "hovertemplate": "Type=j9<br>Start=%{base}<br>Finish=%{x}<br>Resource=%{y}<br>Rule=%{text}<extra></extra>",
         "legendgroup": "j9",
         "marker": {
          "color": "#FB00D1",
          "pattern": {
           "shape": ""
          }
         },
         "name": "j9",
         "offsetgroup": "j9",
         "orientation": "h",
         "showlegend": true,
         "text": [
          "LOR",
          "LOR",
          "LOR",
          "LOR",
          "LOR"
         ],
         "textposition": "auto",
         "type": "bar",
         "x": [
          43200000,
          46800000,
          43200000,
          50400000,
          54000000
         ],
         "xaxis": "x",
         "y": [
          "M3",
          "M3",
          "M3",
          "M3",
          "M3"
         ],
         "yaxis": "y"
        },
        {
         "alignmentgroup": "True",
         "base": [
          "1970-01-08T17:00:00",
          "1970-01-09T13:00:00",
          "1970-01-09T19:00:00",
          "1970-01-10T09:00:00",
          "1970-01-10T22:00:00",
          "1970-01-11T19:00:00",
          "1970-01-12T13:00:00",
          "1970-01-13T06:00:00"
         ],
         "hovertemplate": "Type=j16<br>Start=%{base}<br>Finish=%{x}<br>Resource=%{y}<br>Rule=%{text}<extra></extra>",
         "legendgroup": "j16",
         "marker": {
          "color": "#FC0080",
          "pattern": {
           "shape": ""
          }
         },
         "name": "j16",
         "offsetgroup": "j16",
         "orientation": "h",
         "showlegend": true,
         "text": [
          "LOR",
          "LOR",
          "LOR",
          "LOR",
          "LOR",
          "LOR",
          "LOR",
          "LOR"
         ],
         "textposition": "auto",
         "type": "bar",
         "x": [
          72000000,
          21600000,
          50400000,
          46800000,
          75600000,
          64800000,
          61200000,
          39600000
         ],
         "xaxis": "x",
         "y": [
          "M3",
          "M3",
          "M3",
          "M3",
          "M3",
          "M3",
          "M2",
          "M2"
         ],
         "yaxis": "y"
        },
        {
         "alignmentgroup": "True",
         "base": [
          "1970-01-03T14:00:00",
          "1970-01-04T13:00:00",
          "1970-01-05T01:00:00",
          "1970-01-05T12:00:00",
          "1970-01-05T17:00:00"
         ],
         "hovertemplate": "Type=j12<br>Start=%{base}<br>Finish=%{x}<br>Resource=%{y}<br>Rule=%{text}<extra></extra>",
         "legendgroup": "j12",
         "marker": {
          "color": "#B2828D",
          "pattern": {
           "shape": ""
          }
         },
         "name": "j12",
         "offsetgroup": "j12",
         "orientation": "h",
         "showlegend": true,
         "text": [
          "LPT",
          "LOR",
          "LOR",
          "LOR",
          "LOR"
         ],
         "textposition": "auto",
         "type": "bar",
         "x": [
          82800000,
          43200000,
          39600000,
          18000000,
          21600000
         ],
         "xaxis": "x",
         "y": [
          "M3",
          "M3",
          "M3",
          "M3",
          "M3"
         ],
         "yaxis": "y"
        },
        {
         "alignmentgroup": "True",
         "base": [
          "1970-01-08T14:00:00",
          "1970-01-09T03:00:00",
          "1970-01-09T18:00:00",
          "1970-01-10T04:00:00",
          "1970-01-10T13:00:00",
          "1970-01-11T00:00:00",
          "1970-01-11T16:00:00"
         ],
         "hovertemplate": "Type=j7<br>Start=%{base}<br>Finish=%{x}<br>Resource=%{y}<br>Rule=%{text}<extra></extra>",
         "legendgroup": "j7",
         "marker": {
          "color": "#6C7C32",
          "pattern": {
           "shape": ""
          }
         },
         "name": "j7",
         "offsetgroup": "j7",
         "orientation": "h",
         "showlegend": true,
         "text": [
          "LOR",
          "LOR",
          "LOR",
          "LOR",
          "LOR",
          "LOR",
          "LOR"
         ],
         "textposition": "auto",
         "type": "bar",
         "x": [
          46800000,
          54000000,
          36000000,
          32400000,
          39600000,
          57600000,
          72000000
         ],
         "xaxis": "x",
         "y": [
          "M2",
          "M2",
          "M2",
          "M2",
          "M2",
          "M2",
          "M2"
         ],
         "yaxis": "y"
        },
        {
         "alignmentgroup": "True",
         "base": [
          "1970-01-05T19:00:00",
          "1970-01-06T13:00:00",
          "1970-01-07T05:00:00",
          "1970-01-07T22:00:00",
          "1970-01-08T09:00:00"
         ],
         "hovertemplate": "Type=j5<br>Start=%{base}<br>Finish=%{x}<br>Resource=%{y}<br>Rule=%{text}<extra></extra>",
         "legendgroup": "j5",
         "marker": {
          "color": "#778AAE",
          "pattern": {
           "shape": ""
          }
         },
         "name": "j5",
         "offsetgroup": "j5",
         "orientation": "h",
         "showlegend": true,
         "text": [
          "LOR",
          "LOR",
          "LOR",
          "LOR",
          "LOR"
         ],
         "textposition": "auto",
         "type": "bar",
         "x": [
          64800000,
          57600000,
          61200000,
          39600000,
          18000000
         ],
         "xaxis": "x",
         "y": [
          "M2",
          "M2",
          "M2",
          "M2",
          "M2"
         ],
         "yaxis": "y"
        },
        {
         "alignmentgroup": "True",
         "base": [
          "1970-01-01T09:00:00",
          "1970-01-02T02:00:00",
          "1970-01-02T10:00:00"
         ],
         "hovertemplate": "Type=j15<br>Start=%{base}<br>Finish=%{x}<br>Resource=%{y}<br>Rule=%{text}<extra></extra>",
         "legendgroup": "j15",
         "marker": {
          "color": "#862A16",
          "pattern": {
           "shape": ""
          }
         },
         "name": "j15",
         "offsetgroup": "j15",
         "orientation": "h",
         "showlegend": true,
         "text": [
          "LOR",
          "LOR",
          "LOR"
         ],
         "textposition": "auto",
         "type": "bar",
         "x": [
          61200000,
          28800000,
          64800000
         ],
         "xaxis": "x",
         "y": [
          "M2",
          "M2",
          "M2"
         ],
         "yaxis": "y"
        },
        {
         "alignmentgroup": "True",
         "base": [
          "1970-01-01T09:00:00",
          "1970-01-01T20:00:00",
          "1970-01-03T21:00:00"
         ],
         "hovertemplate": "Type=j6<br>Start=%{base}<br>Finish=%{x}<br>Resource=%{y}<br>Rule=%{text}<extra></extra>",
         "legendgroup": "j6",
         "marker": {
          "color": "#A777F1",
          "pattern": {
           "shape": ""
          }
         },
         "name": "j6",
         "offsetgroup": "j6",
         "orientation": "h",
         "showlegend": true,
         "text": [
          "LOR",
          "LOR",
          "LOR"
         ],
         "textposition": "auto",
         "type": "bar",
         "x": [
          39600000,
          82800000,
          50400000
         ],
         "xaxis": "x",
         "y": [
          "M1",
          "M1",
          "M1"
         ],
         "yaxis": "y"
        },
        {
         "alignmentgroup": "True",
         "base": [
          "1970-01-07T14:00:00",
          "1970-01-08T03:00:00",
          "1970-01-08T14:00:00",
          "1970-01-09T15:00:00",
          "1970-01-10T13:00:00",
          "1970-01-11T12:00:00",
          "1970-01-12T12:00:00"
         ],
         "hovertemplate": "Type=j2<br>Start=%{base}<br>Finish=%{x}<br>Resource=%{y}<br>Rule=%{text}<extra></extra>",
         "legendgroup": "j2",
         "marker": {
          "color": "#620042",
          "pattern": {
           "shape": ""
          }
         },
         "name": "j2",
         "offsetgroup": "j2",
         "orientation": "h",
         "showlegend": true,
         "text": [
          "LOR",
          "LOR",
          "LOR",
          "LOR",
          "LOR",
          "LOR",
          "LOR"
         ],
         "textposition": "auto",
         "type": "bar",
         "x": [
          46800000,
          39600000,
          90000000,
          79200000,
          82800000,
          86400000,
          97200000
         ],
         "xaxis": "x",
         "y": [
          "M1",
          "M1",
          "M1",
          "M1",
          "M1",
          "M1",
          "M1"
         ],
         "yaxis": "y"
        },
        {
         "alignmentgroup": "True",
         "base": [
          "1970-01-04T11:00:00",
          "1970-01-05T00:00:00",
          "1970-01-05T20:00:00",
          "1970-01-06T22:00:00"
         ],
         "hovertemplate": "Type=j13<br>Start=%{base}<br>Finish=%{x}<br>Resource=%{y}<br>Rule=%{text}<extra></extra>",
         "legendgroup": "j13",
         "marker": {
          "color": "#1616A7",
          "pattern": {
           "shape": ""
          }
         },
         "name": "j13",
         "offsetgroup": "j13",
         "orientation": "h",
         "showlegend": true,
         "text": [
          "LOR",
          "LOR",
          "LOR",
          "LOR"
         ],
         "textposition": "auto",
         "type": "bar",
         "x": [
          46800000,
          72000000,
          93600000,
          57600000
         ],
         "xaxis": "x",
         "y": [
          "M1",
          "M1",
          "M1",
          "M1"
         ],
         "yaxis": "y"
        },
        {
         "alignmentgroup": "True",
         "base": [
          "1970-01-03T00:00:00",
          "1970-01-04T01:00:00",
          "1970-01-04T19:00:00",
          "1970-01-07T09:00:00",
          "1970-01-02T14:00:00",
          "1970-01-03T16:00:00",
          "1970-01-06T16:00:00",
          "1970-01-09T12:00:00",
          "1970-01-02T23:00:00",
          "1970-01-04T01:00:00",
          "1970-01-05T00:00:00",
          "1970-01-07T01:00:00",
          "1970-01-10T04:00:00",
          "1970-01-02T11:00:00",
          "1970-01-03T14:00:00",
          "1970-01-05T23:00:00",
          "1970-01-08T17:00:00",
          "1970-01-03T04:00:00",
          "1970-01-04T04:00:00",
          "1970-01-05T19:00:00",
          "1970-01-08T14:00:00",
          "1970-01-12T13:00:00",
          "1970-01-02T19:00:00",
          "1970-01-03T21:00:00",
          "1970-01-04T11:00:00",
          "1970-01-07T14:00:00"
         ],
         "hovertemplate": "Type=setup<br>Start=%{base}<br>Finish=%{x}<br>Resource=%{y}<br>Rule=%{text}<extra></extra>",
         "legendgroup": "setup",
         "marker": {
          "color": "#DA60CA",
          "pattern": {
           "shape": ""
          }
         },
         "name": "setup",
         "offsetgroup": "setup",
         "orientation": "h",
         "showlegend": true,
         "text": "",
         "textposition": "auto",
         "type": "bar",
         "width": 0.7,
         "x": [
          10800000,
          3600000,
          7200000,
          7200000,
          10800000,
          14400000,
          10800000,
          3600000,
          7200000,
          10800000,
          14400000,
          10800000,
          10800000,
          10800000,
          14400000,
          7200000,
          3600000,
          7200000,
          10800000,
          10800000,
          10800000,
          7200000,
          3600000,
          10800000,
          7200000,
          10800000
         ],
         "xaxis": "x",
         "y": [
          "M6",
          "M6",
          "M6",
          "M6",
          "M5",
          "M5",
          "M5",
          "M5",
          "M4",
          "M4",
          "M4",
          "M4",
          "M4",
          "M3",
          "M3",
          "M3",
          "M3",
          "M2",
          "M2",
          "M2",
          "M2",
          "M2",
          "M1",
          "M1",
          "M1",
          "M1"
         ],
         "yaxis": "y"
        }
       ],
       "layout": {
        "barmode": "overlay",
        "height": 800,
        "legend": {
         "title": {
          "text": "Type"
         },
         "tracegroupgap": 0
        },
        "margin": {
         "t": 60
        },
        "template": {
         "data": {
          "bar": [
           {
            "error_x": {
             "color": "rgb(36,36,36)"
            },
            "error_y": {
             "color": "rgb(36,36,36)"
            },
            "marker": {
             "line": {
              "color": "white",
              "width": 0.5
             },
             "pattern": {
              "fillmode": "overlay",
              "size": 10,
              "solidity": 0.2
             }
            },
            "type": "bar"
           }
          ],
          "barpolar": [
           {
            "marker": {
             "line": {
              "color": "white",
              "width": 0.5
             },
             "pattern": {
              "fillmode": "overlay",
              "size": 10,
              "solidity": 0.2
             }
            },
            "type": "barpolar"
           }
          ],
          "carpet": [
           {
            "aaxis": {
             "endlinecolor": "rgb(36,36,36)",
             "gridcolor": "white",
             "linecolor": "white",
             "minorgridcolor": "white",
             "startlinecolor": "rgb(36,36,36)"
            },
            "baxis": {
             "endlinecolor": "rgb(36,36,36)",
             "gridcolor": "white",
             "linecolor": "white",
             "minorgridcolor": "white",
             "startlinecolor": "rgb(36,36,36)"
            },
            "type": "carpet"
           }
          ],
          "choropleth": [
           {
            "colorbar": {
             "outlinewidth": 1,
             "tickcolor": "rgb(36,36,36)",
             "ticks": "outside"
            },
            "type": "choropleth"
           }
          ],
          "contour": [
           {
            "colorbar": {
             "outlinewidth": 1,
             "tickcolor": "rgb(36,36,36)",
             "ticks": "outside"
            },
            "colorscale": [
             [
              0,
              "#440154"
             ],
             [
              0.1111111111111111,
              "#482878"
             ],
             [
              0.2222222222222222,
              "#3e4989"
             ],
             [
              0.3333333333333333,
              "#31688e"
             ],
             [
              0.4444444444444444,
              "#26828e"
             ],
             [
              0.5555555555555556,
              "#1f9e89"
             ],
             [
              0.6666666666666666,
              "#35b779"
             ],
             [
              0.7777777777777778,
              "#6ece58"
             ],
             [
              0.8888888888888888,
              "#b5de2b"
             ],
             [
              1,
              "#fde725"
             ]
            ],
            "type": "contour"
           }
          ],
          "contourcarpet": [
           {
            "colorbar": {
             "outlinewidth": 1,
             "tickcolor": "rgb(36,36,36)",
             "ticks": "outside"
            },
            "type": "contourcarpet"
           }
          ],
          "heatmap": [
           {
            "colorbar": {
             "outlinewidth": 1,
             "tickcolor": "rgb(36,36,36)",
             "ticks": "outside"
            },
            "colorscale": [
             [
              0,
              "#440154"
             ],
             [
              0.1111111111111111,
              "#482878"
             ],
             [
              0.2222222222222222,
              "#3e4989"
             ],
             [
              0.3333333333333333,
              "#31688e"
             ],
             [
              0.4444444444444444,
              "#26828e"
             ],
             [
              0.5555555555555556,
              "#1f9e89"
             ],
             [
              0.6666666666666666,
              "#35b779"
             ],
             [
              0.7777777777777778,
              "#6ece58"
             ],
             [
              0.8888888888888888,
              "#b5de2b"
             ],
             [
              1,
              "#fde725"
             ]
            ],
            "type": "heatmap"
           }
          ],
          "heatmapgl": [
           {
            "colorbar": {
             "outlinewidth": 1,
             "tickcolor": "rgb(36,36,36)",
             "ticks": "outside"
            },
            "colorscale": [
             [
              0,
              "#440154"
             ],
             [
              0.1111111111111111,
              "#482878"
             ],
             [
              0.2222222222222222,
              "#3e4989"
             ],
             [
              0.3333333333333333,
              "#31688e"
             ],
             [
              0.4444444444444444,
              "#26828e"
             ],
             [
              0.5555555555555556,
              "#1f9e89"
             ],
             [
              0.6666666666666666,
              "#35b779"
             ],
             [
              0.7777777777777778,
              "#6ece58"
             ],
             [
              0.8888888888888888,
              "#b5de2b"
             ],
             [
              1,
              "#fde725"
             ]
            ],
            "type": "heatmapgl"
           }
          ],
          "histogram": [
           {
            "marker": {
             "line": {
              "color": "white",
              "width": 0.6
             }
            },
            "type": "histogram"
           }
          ],
          "histogram2d": [
           {
            "colorbar": {
             "outlinewidth": 1,
             "tickcolor": "rgb(36,36,36)",
             "ticks": "outside"
            },
            "colorscale": [
             [
              0,
              "#440154"
             ],
             [
              0.1111111111111111,
              "#482878"
             ],
             [
              0.2222222222222222,
              "#3e4989"
             ],
             [
              0.3333333333333333,
              "#31688e"
             ],
             [
              0.4444444444444444,
              "#26828e"
             ],
             [
              0.5555555555555556,
              "#1f9e89"
             ],
             [
              0.6666666666666666,
              "#35b779"
             ],
             [
              0.7777777777777778,
              "#6ece58"
             ],
             [
              0.8888888888888888,
              "#b5de2b"
             ],
             [
              1,
              "#fde725"
             ]
            ],
            "type": "histogram2d"
           }
          ],
          "histogram2dcontour": [
           {
            "colorbar": {
             "outlinewidth": 1,
             "tickcolor": "rgb(36,36,36)",
             "ticks": "outside"
            },
            "colorscale": [
             [
              0,
              "#440154"
             ],
             [
              0.1111111111111111,
              "#482878"
             ],
             [
              0.2222222222222222,
              "#3e4989"
             ],
             [
              0.3333333333333333,
              "#31688e"
             ],
             [
              0.4444444444444444,
              "#26828e"
             ],
             [
              0.5555555555555556,
              "#1f9e89"
             ],
             [
              0.6666666666666666,
              "#35b779"
             ],
             [
              0.7777777777777778,
              "#6ece58"
             ],
             [
              0.8888888888888888,
              "#b5de2b"
             ],
             [
              1,
              "#fde725"
             ]
            ],
            "type": "histogram2dcontour"
           }
          ],
          "mesh3d": [
           {
            "colorbar": {
             "outlinewidth": 1,
             "tickcolor": "rgb(36,36,36)",
             "ticks": "outside"
            },
            "type": "mesh3d"
           }
          ],
          "parcoords": [
           {
            "line": {
             "colorbar": {
              "outlinewidth": 1,
              "tickcolor": "rgb(36,36,36)",
              "ticks": "outside"
             }
            },
            "type": "parcoords"
           }
          ],
          "pie": [
           {
            "automargin": true,
            "type": "pie"
           }
          ],
          "scatter": [
           {
            "fillpattern": {
             "fillmode": "overlay",
             "size": 10,
             "solidity": 0.2
            },
            "type": "scatter"
           }
          ],
          "scatter3d": [
           {
            "line": {
             "colorbar": {
              "outlinewidth": 1,
              "tickcolor": "rgb(36,36,36)",
              "ticks": "outside"
             }
            },
            "marker": {
             "colorbar": {
              "outlinewidth": 1,
              "tickcolor": "rgb(36,36,36)",
              "ticks": "outside"
             }
            },
            "type": "scatter3d"
           }
          ],
          "scattercarpet": [
           {
            "marker": {
             "colorbar": {
              "outlinewidth": 1,
              "tickcolor": "rgb(36,36,36)",
              "ticks": "outside"
             }
            },
            "type": "scattercarpet"
           }
          ],
          "scattergeo": [
           {
            "marker": {
             "colorbar": {
              "outlinewidth": 1,
              "tickcolor": "rgb(36,36,36)",
              "ticks": "outside"
             }
            },
            "type": "scattergeo"
           }
          ],
          "scattergl": [
           {
            "marker": {
             "colorbar": {
              "outlinewidth": 1,
              "tickcolor": "rgb(36,36,36)",
              "ticks": "outside"
             }
            },
            "type": "scattergl"
           }
          ],
          "scattermapbox": [
           {
            "marker": {
             "colorbar": {
              "outlinewidth": 1,
              "tickcolor": "rgb(36,36,36)",
              "ticks": "outside"
             }
            },
            "type": "scattermapbox"
           }
          ],
          "scatterpolar": [
           {
            "marker": {
             "colorbar": {
              "outlinewidth": 1,
              "tickcolor": "rgb(36,36,36)",
              "ticks": "outside"
             }
            },
            "type": "scatterpolar"
           }
          ],
          "scatterpolargl": [
           {
            "marker": {
             "colorbar": {
              "outlinewidth": 1,
              "tickcolor": "rgb(36,36,36)",
              "ticks": "outside"
             }
            },
            "type": "scatterpolargl"
           }
          ],
          "scatterternary": [
           {
            "marker": {
             "colorbar": {
              "outlinewidth": 1,
              "tickcolor": "rgb(36,36,36)",
              "ticks": "outside"
             }
            },
            "type": "scatterternary"
           }
          ],
          "surface": [
           {
            "colorbar": {
             "outlinewidth": 1,
             "tickcolor": "rgb(36,36,36)",
             "ticks": "outside"
            },
            "colorscale": [
             [
              0,
              "#440154"
             ],
             [
              0.1111111111111111,
              "#482878"
             ],
             [
              0.2222222222222222,
              "#3e4989"
             ],
             [
              0.3333333333333333,
              "#31688e"
             ],
             [
              0.4444444444444444,
              "#26828e"
             ],
             [
              0.5555555555555556,
              "#1f9e89"
             ],
             [
              0.6666666666666666,
              "#35b779"
             ],
             [
              0.7777777777777778,
              "#6ece58"
             ],
             [
              0.8888888888888888,
              "#b5de2b"
             ],
             [
              1,
              "#fde725"
             ]
            ],
            "type": "surface"
           }
          ],
          "table": [
           {
            "cells": {
             "fill": {
              "color": "rgb(237,237,237)"
             },
             "line": {
              "color": "white"
             }
            },
            "header": {
             "fill": {
              "color": "rgb(217,217,217)"
             },
             "line": {
              "color": "white"
             }
            },
            "type": "table"
           }
          ]
         },
         "layout": {
          "annotationdefaults": {
           "arrowhead": 0,
           "arrowwidth": 1
          },
          "autotypenumbers": "strict",
          "coloraxis": {
           "colorbar": {
            "outlinewidth": 1,
            "tickcolor": "rgb(36,36,36)",
            "ticks": "outside"
           }
          },
          "colorscale": {
           "diverging": [
            [
             0,
             "rgb(103,0,31)"
            ],
            [
             0.1,
             "rgb(178,24,43)"
            ],
            [
             0.2,
             "rgb(214,96,77)"
            ],
            [
             0.3,
             "rgb(244,165,130)"
            ],
            [
             0.4,
             "rgb(253,219,199)"
            ],
            [
             0.5,
             "rgb(247,247,247)"
            ],
            [
             0.6,
             "rgb(209,229,240)"
            ],
            [
             0.7,
             "rgb(146,197,222)"
            ],
            [
             0.8,
             "rgb(67,147,195)"
            ],
            [
             0.9,
             "rgb(33,102,172)"
            ],
            [
             1,
             "rgb(5,48,97)"
            ]
           ],
           "sequential": [
            [
             0,
             "#440154"
            ],
            [
             0.1111111111111111,
             "#482878"
            ],
            [
             0.2222222222222222,
             "#3e4989"
            ],
            [
             0.3333333333333333,
             "#31688e"
            ],
            [
             0.4444444444444444,
             "#26828e"
            ],
            [
             0.5555555555555556,
             "#1f9e89"
            ],
            [
             0.6666666666666666,
             "#35b779"
            ],
            [
             0.7777777777777778,
             "#6ece58"
            ],
            [
             0.8888888888888888,
             "#b5de2b"
            ],
            [
             1,
             "#fde725"
            ]
           ],
           "sequentialminus": [
            [
             0,
             "#440154"
            ],
            [
             0.1111111111111111,
             "#482878"
            ],
            [
             0.2222222222222222,
             "#3e4989"
            ],
            [
             0.3333333333333333,
             "#31688e"
            ],
            [
             0.4444444444444444,
             "#26828e"
            ],
            [
             0.5555555555555556,
             "#1f9e89"
            ],
            [
             0.6666666666666666,
             "#35b779"
            ],
            [
             0.7777777777777778,
             "#6ece58"
            ],
            [
             0.8888888888888888,
             "#b5de2b"
            ],
            [
             1,
             "#fde725"
            ]
           ]
          },
          "colorway": [
           "#1F77B4",
           "#FF7F0E",
           "#2CA02C",
           "#D62728",
           "#9467BD",
           "#8C564B",
           "#E377C2",
           "#7F7F7F",
           "#BCBD22",
           "#17BECF"
          ],
          "font": {
           "color": "rgb(36,36,36)"
          },
          "geo": {
           "bgcolor": "white",
           "lakecolor": "white",
           "landcolor": "white",
           "showlakes": true,
           "showland": true,
           "subunitcolor": "white"
          },
          "hoverlabel": {
           "align": "left"
          },
          "hovermode": "closest",
          "mapbox": {
           "style": "light"
          },
          "paper_bgcolor": "white",
          "plot_bgcolor": "white",
          "polar": {
           "angularaxis": {
            "gridcolor": "rgb(232,232,232)",
            "linecolor": "rgb(36,36,36)",
            "showgrid": false,
            "showline": true,
            "ticks": "outside"
           },
           "bgcolor": "white",
           "radialaxis": {
            "gridcolor": "rgb(232,232,232)",
            "linecolor": "rgb(36,36,36)",
            "showgrid": false,
            "showline": true,
            "ticks": "outside"
           }
          },
          "scene": {
           "xaxis": {
            "backgroundcolor": "white",
            "gridcolor": "rgb(232,232,232)",
            "gridwidth": 2,
            "linecolor": "rgb(36,36,36)",
            "showbackground": true,
            "showgrid": false,
            "showline": true,
            "ticks": "outside",
            "zeroline": false,
            "zerolinecolor": "rgb(36,36,36)"
           },
           "yaxis": {
            "backgroundcolor": "white",
            "gridcolor": "rgb(232,232,232)",
            "gridwidth": 2,
            "linecolor": "rgb(36,36,36)",
            "showbackground": true,
            "showgrid": false,
            "showline": true,
            "ticks": "outside",
            "zeroline": false,
            "zerolinecolor": "rgb(36,36,36)"
           },
           "zaxis": {
            "backgroundcolor": "white",
            "gridcolor": "rgb(232,232,232)",
            "gridwidth": 2,
            "linecolor": "rgb(36,36,36)",
            "showbackground": true,
            "showgrid": false,
            "showline": true,
            "ticks": "outside",
            "zeroline": false,
            "zerolinecolor": "rgb(36,36,36)"
           }
          },
          "shapedefaults": {
           "fillcolor": "black",
           "line": {
            "width": 0
           },
           "opacity": 0.3
          },
          "ternary": {
           "aaxis": {
            "gridcolor": "rgb(232,232,232)",
            "linecolor": "rgb(36,36,36)",
            "showgrid": false,
            "showline": true,
            "ticks": "outside"
           },
           "baxis": {
            "gridcolor": "rgb(232,232,232)",
            "linecolor": "rgb(36,36,36)",
            "showgrid": false,
            "showline": true,
            "ticks": "outside"
           },
           "bgcolor": "white",
           "caxis": {
            "gridcolor": "rgb(232,232,232)",
            "linecolor": "rgb(36,36,36)",
            "showgrid": false,
            "showline": true,
            "ticks": "outside"
           }
          },
          "title": {
           "x": 0.05
          },
          "xaxis": {
           "automargin": true,
           "gridcolor": "rgb(232,232,232)",
           "linecolor": "rgb(36,36,36)",
           "showgrid": false,
           "showline": true,
           "ticks": "outside",
           "title": {
            "standoff": 15
           },
           "zeroline": false,
           "zerolinecolor": "rgb(36,36,36)"
          },
          "yaxis": {
           "automargin": true,
           "gridcolor": "rgb(232,232,232)",
           "linecolor": "rgb(36,36,36)",
           "showgrid": false,
           "showline": true,
           "ticks": "outside",
           "title": {
            "standoff": 15
           },
           "zeroline": false,
           "zerolinecolor": "rgb(36,36,36)"
          }
         }
        },
        "width": 2000,
        "xaxis": {
         "anchor": "y",
         "domain": [
          0,
          1
         ],
         "type": "date"
        },
        "yaxis": {
         "anchor": "x",
         "domain": [
          0,
          1
         ],
         "title": {
          "text": "Resource"
         }
        }
       }
      },
      "text/html": [
       "<div>                            <div id=\"ddc707fd-839b-46f0-95b2-9e80864db24f\" class=\"plotly-graph-div\" style=\"height:800px; width:2000px;\"></div>            <script type=\"text/javascript\">                require([\"plotly\"], function(Plotly) {                    window.PLOTLYENV=window.PLOTLYENV || {};                                    if (document.getElementById(\"ddc707fd-839b-46f0-95b2-9e80864db24f\")) {                    Plotly.newPlot(                        \"ddc707fd-839b-46f0-95b2-9e80864db24f\",                        [{\"alignmentgroup\":\"True\",\"base\":[\"1970-01-07T09:00:00\",\"1970-01-07T21:00:00\",\"1970-01-08T15:00:00\",\"1970-01-09T12:00:00\",\"1970-01-10T04:00:00\",\"1970-01-10T14:00:00\",\"1970-01-03T04:00:00\"],\"hovertemplate\":\"Type=j19<br>Start=%{base}<br>Finish=%{x}<br>Resource=%{y}<br>Rule=%{text}<extra></extra>\",\"legendgroup\":\"j19\",\"marker\":{\"color\":\"#2E91E5\",\"pattern\":{\"shape\":\"\"}},\"name\":\"j19\",\"offsetgroup\":\"j19\",\"orientation\":\"h\",\"showlegend\":true,\"text\":[\"LOR\",\"LOR\",\"LOR\",\"LOR\",\"LOR\",\"LOR\",\"LPT\"],\"textposition\":\"auto\",\"x\":[43200000.0,64800000.0,75600000.0,57600000.0,36000000.0,64800000.0,86400000.0],\"xaxis\":\"x\",\"y\":[\"M6\",\"M6\",\"M6\",\"M5\",\"M4\",\"M4\",\"M2\"],\"yaxis\":\"y\",\"type\":\"bar\"},{\"alignmentgroup\":\"True\",\"base\":[\"1970-01-03T00:00:00\",\"1970-01-04T19:00:00\",\"1970-01-05T07:00:00\",\"1970-01-05T20:00:00\",\"1970-01-06T13:00:00\"],\"hovertemplate\":\"Type=j18<br>Start=%{base}<br>Finish=%{x}<br>Resource=%{y}<br>Rule=%{text}<extra></extra>\",\"legendgroup\":\"j18\",\"marker\":{\"color\":\"#E15F99\",\"pattern\":{\"shape\":\"\"}},\"name\":\"j18\",\"offsetgroup\":\"j18\",\"orientation\":\"h\",\"showlegend\":true,\"text\":[\"LPT\",\"LOR\",\"LOR\",\"LOR\",\"LOR\"],\"textposition\":\"auto\",\"x\":[90000000.0,43200000.0,46800000.0,61200000.0,72000000.0],\"xaxis\":\"x\",\"y\":[\"M6\",\"M6\",\"M6\",\"M6\",\"M6\"],\"yaxis\":\"y\",\"type\":\"bar\"},{\"alignmentgroup\":\"True\",\"base\":[\"1970-01-01T09:00:00\",\"1970-01-01T14:00:00\",\"1970-01-02T01:00:00\",\"1970-01-02T08:00:00\"],\"hovertemplate\":\"Type=j10<br>Start=%{base}<br>Finish=%{x}<br>Resource=%{y}<br>Rule=%{text}<extra></extra>\",\"legendgroup\":\"j10\",\"marker\":{\"color\":\"#1CA71C\",\"pattern\":{\"shape\":\"\"}},\"name\":\"j10\",\"offsetgroup\":\"j10\",\"orientation\":\"h\",\"showlegend\":true,\"text\":[\"LOR\",\"LOR\",\"LOR\",\"LOR\"],\"textposition\":\"auto\",\"x\":[18000000.0,39600000.0,25200000.0,57600000.0],\"xaxis\":\"x\",\"y\":[\"M6\",\"M6\",\"M6\",\"M6\"],\"yaxis\":\"y\",\"type\":\"bar\"},{\"alignmentgroup\":\"True\",\"base\":[\"1970-01-04T01:00:00\",\"1970-01-04T10:00:00\",\"1970-01-01T09:00:00\",\"1970-01-02T03:00:00\"],\"hovertemplate\":\"Type=j1<br>Start=%{base}<br>Finish=%{x}<br>Resource=%{y}<br>Rule=%{text}<extra></extra>\",\"legendgroup\":\"j1\",\"marker\":{\"color\":\"#FB0D0D\",\"pattern\":{\"shape\":\"\"}},\"name\":\"j1\",\"offsetgroup\":\"j1\",\"orientation\":\"h\",\"showlegend\":true,\"text\":[\"LOR\",\"LOR\",\"LOR\",\"LOR\"],\"textposition\":\"auto\",\"x\":[32400000.0,32400000.0,64800000.0,28800000.0],\"xaxis\":\"x\",\"y\":[\"M6\",\"M6\",\"M3\",\"M3\"],\"yaxis\":\"y\",\"type\":\"bar\"},{\"alignmentgroup\":\"True\",\"base\":[\"1970-01-01T09:00:00\",\"1970-01-01T15:00:00\",\"1970-01-01T20:00:00\",\"1970-01-04T01:00:00\"],\"hovertemplate\":\"Type=j8<br>Start=%{base}<br>Finish=%{x}<br>Resource=%{y}<br>Rule=%{text}<extra></extra>\",\"legendgroup\":\"j8\",\"marker\":{\"color\":\"#DA16FF\",\"pattern\":{\"shape\":\"\"}},\"name\":\"j8\",\"offsetgroup\":\"j8\",\"orientation\":\"h\",\"showlegend\":true,\"text\":[\"LOR\",\"LOR\",\"LOR\",\"LOR\"],\"textposition\":\"auto\",\"x\":[21600000.0,18000000.0,64800000.0,82800000.0],\"xaxis\":\"x\",\"y\":[\"M5\",\"M5\",\"M5\",\"M4\"],\"yaxis\":\"y\",\"type\":\"bar\"},{\"alignmentgroup\":\"True\",\"base\":[\"1970-01-03T16:00:00\",\"1970-01-04T21:00:00\",\"1970-01-05T15:00:00\",\"1970-01-02T11:00:00\"],\"hovertemplate\":\"Type=j17<br>Start=%{base}<br>Finish=%{x}<br>Resource=%{y}<br>Rule=%{text}<extra></extra>\",\"legendgroup\":\"j17\",\"marker\":{\"color\":\"#222A2A\",\"pattern\":{\"shape\":\"\"}},\"name\":\"j17\",\"offsetgroup\":\"j17\",\"orientation\":\"h\",\"showlegend\":true,\"text\":[\"LPT\",\"LOR\",\"LOR\",\"LPT\"],\"textposition\":\"auto\",\"x\":[104400000.0,64800000.0,90000000.0,97200000.0],\"xaxis\":\"x\",\"y\":[\"M5\",\"M5\",\"M5\",\"M3\"],\"yaxis\":\"y\",\"type\":\"bar\"},{\"alignmentgroup\":\"True\",\"base\":[\"1970-01-02T14:00:00\",\"1970-01-06T16:00:00\",\"1970-01-07T13:00:00\",\"1970-01-08T00:00:00\",\"1970-01-08T06:00:00\",\"1970-01-08T13:00:00\"],\"hovertemplate\":\"Type=j11<br>Start=%{base}<br>Finish=%{x}<br>Resource=%{y}<br>Rule=%{text}<extra></extra>\",\"legendgroup\":\"j11\",\"marker\":{\"color\":\"#B68100\",\"pattern\":{\"shape\":\"\"}},\"name\":\"j11\",\"offsetgroup\":\"j11\",\"orientation\":\"h\",\"showlegend\":true,\"text\":[\"LPT\",\"LOR\",\"LOR\",\"LOR\",\"LOR\",\"LOR\"],\"textposition\":\"auto\",\"x\":[93600000.0,75600000.0,39600000.0,21600000.0,25200000.0,21600000.0],\"xaxis\":\"x\",\"y\":[\"M5\",\"M5\",\"M5\",\"M5\",\"M5\",\"M5\"],\"yaxis\":\"y\",\"type\":\"bar\"},{\"alignmentgroup\":\"True\",\"base\":[\"1970-01-05T00:00:00\",\"1970-01-05T10:00:00\",\"1970-01-05T16:00:00\",\"1970-01-05T23:00:00\",\"1970-01-06T07:00:00\"],\"hovertemplate\":\"Type=j4<br>Start=%{base}<br>Finish=%{x}<br>Resource=%{y}<br>Rule=%{text}<extra></extra>\",\"legendgroup\":\"j4\",\"marker\":{\"color\":\"#750D86\",\"pattern\":{\"shape\":\"\"}},\"name\":\"j4\",\"offsetgroup\":\"j4\",\"orientation\":\"h\",\"showlegend\":true,\"text\":[\"LOR\",\"LOR\",\"LOR\",\"LOR\",\"LOR\"],\"textposition\":\"auto\",\"x\":[36000000.0,21600000.0,25200000.0,28800000.0,64800000.0],\"xaxis\":\"x\",\"y\":[\"M4\",\"M4\",\"M4\",\"M4\",\"M4\"],\"yaxis\":\"y\",\"type\":\"bar\"},{\"alignmentgroup\":\"True\",\"base\":[\"1970-01-01T09:00:00\",\"1970-01-01T21:00:00\",\"1970-01-02T06:00:00\",\"1970-01-02T13:00:00\"],\"hovertemplate\":\"Type=j3<br>Start=%{base}<br>Finish=%{x}<br>Resource=%{y}<br>Rule=%{text}<extra></extra>\",\"legendgroup\":\"j3\",\"marker\":{\"color\":\"#EB663B\",\"pattern\":{\"shape\":\"\"}},\"name\":\"j3\",\"offsetgroup\":\"j3\",\"orientation\":\"h\",\"showlegend\":true,\"text\":[\"LOR\",\"LOR\",\"LOR\",\"LOR\"],\"textposition\":\"auto\",\"x\":[43200000.0,32400000.0,25200000.0,36000000.0],\"xaxis\":\"x\",\"y\":[\"M4\",\"M4\",\"M4\",\"M4\"],\"yaxis\":\"y\",\"type\":\"bar\"},{\"alignmentgroup\":\"True\",\"base\":[\"1970-01-07T01:00:00\",\"1970-01-07T12:00:00\",\"1970-01-08T00:00:00\",\"1970-01-08T14:00:00\",\"1970-01-09T13:00:00\",\"1970-01-02T19:00:00\"],\"hovertemplate\":\"Type=j20<br>Start=%{base}<br>Finish=%{x}<br>Resource=%{y}<br>Rule=%{text}<extra></extra>\",\"legendgroup\":\"j20\",\"marker\":{\"color\":\"#511CFB\",\"pattern\":{\"shape\":\"\"}},\"name\":\"j20\",\"offsetgroup\":\"j20\",\"orientation\":\"h\",\"showlegend\":true,\"text\":[\"LOR\",\"LOR\",\"LOR\",\"LOR\",\"LOR\",\"LPT\"],\"textposition\":\"auto\",\"x\":[39600000.0,43200000.0,50400000.0,82800000.0,43200000.0,93600000.0],\"xaxis\":\"x\",\"y\":[\"M4\",\"M4\",\"M4\",\"M4\",\"M4\",\"M1\"],\"yaxis\":\"y\",\"type\":\"bar\"},{\"alignmentgroup\":\"True\",\"base\":[\"1970-01-02T23:00:00\",\"1970-01-04T04:00:00\",\"1970-01-04T21:00:00\",\"1970-01-05T11:00:00\"],\"hovertemplate\":\"Type=j14<br>Start=%{base}<br>Finish=%{x}<br>Resource=%{y}<br>Rule=%{text}<extra></extra>\",\"legendgroup\":\"j14\",\"marker\":{\"color\":\"#00A08B\",\"pattern\":{\"shape\":\"\"}},\"name\":\"j14\",\"offsetgroup\":\"j14\",\"orientation\":\"h\",\"showlegend\":true,\"text\":[\"LPT\",\"LOR\",\"LOR\",\"LOR\"],\"textposition\":\"auto\",\"x\":[93600000.0,61200000.0,50400000.0,28800000.0],\"xaxis\":\"x\",\"y\":[\"M4\",\"M2\",\"M2\",\"M2\"],\"yaxis\":\"y\",\"type\":\"bar\"},{\"alignmentgroup\":\"True\",\"base\":[\"1970-01-05T23:00:00\",\"1970-01-06T11:00:00\",\"1970-01-07T00:00:00\",\"1970-01-07T12:00:00\",\"1970-01-08T02:00:00\"],\"hovertemplate\":\"Type=j9<br>Start=%{base}<br>Finish=%{x}<br>Resource=%{y}<br>Rule=%{text}<extra></extra>\",\"legendgroup\":\"j9\",\"marker\":{\"color\":\"#FB00D1\",\"pattern\":{\"shape\":\"\"}},\"name\":\"j9\",\"offsetgroup\":\"j9\",\"orientation\":\"h\",\"showlegend\":true,\"text\":[\"LOR\",\"LOR\",\"LOR\",\"LOR\",\"LOR\"],\"textposition\":\"auto\",\"x\":[43200000.0,46800000.0,43200000.0,50400000.0,54000000.0],\"xaxis\":\"x\",\"y\":[\"M3\",\"M3\",\"M3\",\"M3\",\"M3\"],\"yaxis\":\"y\",\"type\":\"bar\"},{\"alignmentgroup\":\"True\",\"base\":[\"1970-01-08T17:00:00\",\"1970-01-09T13:00:00\",\"1970-01-09T19:00:00\",\"1970-01-10T09:00:00\",\"1970-01-10T22:00:00\",\"1970-01-11T19:00:00\",\"1970-01-12T13:00:00\",\"1970-01-13T06:00:00\"],\"hovertemplate\":\"Type=j16<br>Start=%{base}<br>Finish=%{x}<br>Resource=%{y}<br>Rule=%{text}<extra></extra>\",\"legendgroup\":\"j16\",\"marker\":{\"color\":\"#FC0080\",\"pattern\":{\"shape\":\"\"}},\"name\":\"j16\",\"offsetgroup\":\"j16\",\"orientation\":\"h\",\"showlegend\":true,\"text\":[\"LOR\",\"LOR\",\"LOR\",\"LOR\",\"LOR\",\"LOR\",\"LOR\",\"LOR\"],\"textposition\":\"auto\",\"x\":[72000000.0,21600000.0,50400000.0,46800000.0,75600000.0,64800000.0,61200000.0,39600000.0],\"xaxis\":\"x\",\"y\":[\"M3\",\"M3\",\"M3\",\"M3\",\"M3\",\"M3\",\"M2\",\"M2\"],\"yaxis\":\"y\",\"type\":\"bar\"},{\"alignmentgroup\":\"True\",\"base\":[\"1970-01-03T14:00:00\",\"1970-01-04T13:00:00\",\"1970-01-05T01:00:00\",\"1970-01-05T12:00:00\",\"1970-01-05T17:00:00\"],\"hovertemplate\":\"Type=j12<br>Start=%{base}<br>Finish=%{x}<br>Resource=%{y}<br>Rule=%{text}<extra></extra>\",\"legendgroup\":\"j12\",\"marker\":{\"color\":\"#B2828D\",\"pattern\":{\"shape\":\"\"}},\"name\":\"j12\",\"offsetgroup\":\"j12\",\"orientation\":\"h\",\"showlegend\":true,\"text\":[\"LPT\",\"LOR\",\"LOR\",\"LOR\",\"LOR\"],\"textposition\":\"auto\",\"x\":[82800000.0,43200000.0,39600000.0,18000000.0,21600000.0],\"xaxis\":\"x\",\"y\":[\"M3\",\"M3\",\"M3\",\"M3\",\"M3\"],\"yaxis\":\"y\",\"type\":\"bar\"},{\"alignmentgroup\":\"True\",\"base\":[\"1970-01-08T14:00:00\",\"1970-01-09T03:00:00\",\"1970-01-09T18:00:00\",\"1970-01-10T04:00:00\",\"1970-01-10T13:00:00\",\"1970-01-11T00:00:00\",\"1970-01-11T16:00:00\"],\"hovertemplate\":\"Type=j7<br>Start=%{base}<br>Finish=%{x}<br>Resource=%{y}<br>Rule=%{text}<extra></extra>\",\"legendgroup\":\"j7\",\"marker\":{\"color\":\"#6C7C32\",\"pattern\":{\"shape\":\"\"}},\"name\":\"j7\",\"offsetgroup\":\"j7\",\"orientation\":\"h\",\"showlegend\":true,\"text\":[\"LOR\",\"LOR\",\"LOR\",\"LOR\",\"LOR\",\"LOR\",\"LOR\"],\"textposition\":\"auto\",\"x\":[46800000.0,54000000.0,36000000.0,32400000.0,39600000.0,57600000.0,72000000.0],\"xaxis\":\"x\",\"y\":[\"M2\",\"M2\",\"M2\",\"M2\",\"M2\",\"M2\",\"M2\"],\"yaxis\":\"y\",\"type\":\"bar\"},{\"alignmentgroup\":\"True\",\"base\":[\"1970-01-05T19:00:00\",\"1970-01-06T13:00:00\",\"1970-01-07T05:00:00\",\"1970-01-07T22:00:00\",\"1970-01-08T09:00:00\"],\"hovertemplate\":\"Type=j5<br>Start=%{base}<br>Finish=%{x}<br>Resource=%{y}<br>Rule=%{text}<extra></extra>\",\"legendgroup\":\"j5\",\"marker\":{\"color\":\"#778AAE\",\"pattern\":{\"shape\":\"\"}},\"name\":\"j5\",\"offsetgroup\":\"j5\",\"orientation\":\"h\",\"showlegend\":true,\"text\":[\"LOR\",\"LOR\",\"LOR\",\"LOR\",\"LOR\"],\"textposition\":\"auto\",\"x\":[64800000.0,57600000.0,61200000.0,39600000.0,18000000.0],\"xaxis\":\"x\",\"y\":[\"M2\",\"M2\",\"M2\",\"M2\",\"M2\"],\"yaxis\":\"y\",\"type\":\"bar\"},{\"alignmentgroup\":\"True\",\"base\":[\"1970-01-01T09:00:00\",\"1970-01-02T02:00:00\",\"1970-01-02T10:00:00\"],\"hovertemplate\":\"Type=j15<br>Start=%{base}<br>Finish=%{x}<br>Resource=%{y}<br>Rule=%{text}<extra></extra>\",\"legendgroup\":\"j15\",\"marker\":{\"color\":\"#862A16\",\"pattern\":{\"shape\":\"\"}},\"name\":\"j15\",\"offsetgroup\":\"j15\",\"orientation\":\"h\",\"showlegend\":true,\"text\":[\"LOR\",\"LOR\",\"LOR\"],\"textposition\":\"auto\",\"x\":[61200000.0,28800000.0,64800000.0],\"xaxis\":\"x\",\"y\":[\"M2\",\"M2\",\"M2\"],\"yaxis\":\"y\",\"type\":\"bar\"},{\"alignmentgroup\":\"True\",\"base\":[\"1970-01-01T09:00:00\",\"1970-01-01T20:00:00\",\"1970-01-03T21:00:00\"],\"hovertemplate\":\"Type=j6<br>Start=%{base}<br>Finish=%{x}<br>Resource=%{y}<br>Rule=%{text}<extra></extra>\",\"legendgroup\":\"j6\",\"marker\":{\"color\":\"#A777F1\",\"pattern\":{\"shape\":\"\"}},\"name\":\"j6\",\"offsetgroup\":\"j6\",\"orientation\":\"h\",\"showlegend\":true,\"text\":[\"LOR\",\"LOR\",\"LOR\"],\"textposition\":\"auto\",\"x\":[39600000.0,82800000.0,50400000.0],\"xaxis\":\"x\",\"y\":[\"M1\",\"M1\",\"M1\"],\"yaxis\":\"y\",\"type\":\"bar\"},{\"alignmentgroup\":\"True\",\"base\":[\"1970-01-07T14:00:00\",\"1970-01-08T03:00:00\",\"1970-01-08T14:00:00\",\"1970-01-09T15:00:00\",\"1970-01-10T13:00:00\",\"1970-01-11T12:00:00\",\"1970-01-12T12:00:00\"],\"hovertemplate\":\"Type=j2<br>Start=%{base}<br>Finish=%{x}<br>Resource=%{y}<br>Rule=%{text}<extra></extra>\",\"legendgroup\":\"j2\",\"marker\":{\"color\":\"#620042\",\"pattern\":{\"shape\":\"\"}},\"name\":\"j2\",\"offsetgroup\":\"j2\",\"orientation\":\"h\",\"showlegend\":true,\"text\":[\"LOR\",\"LOR\",\"LOR\",\"LOR\",\"LOR\",\"LOR\",\"LOR\"],\"textposition\":\"auto\",\"x\":[46800000.0,39600000.0,90000000.0,79200000.0,82800000.0,86400000.0,97200000.0],\"xaxis\":\"x\",\"y\":[\"M1\",\"M1\",\"M1\",\"M1\",\"M1\",\"M1\",\"M1\"],\"yaxis\":\"y\",\"type\":\"bar\"},{\"alignmentgroup\":\"True\",\"base\":[\"1970-01-04T11:00:00\",\"1970-01-05T00:00:00\",\"1970-01-05T20:00:00\",\"1970-01-06T22:00:00\"],\"hovertemplate\":\"Type=j13<br>Start=%{base}<br>Finish=%{x}<br>Resource=%{y}<br>Rule=%{text}<extra></extra>\",\"legendgroup\":\"j13\",\"marker\":{\"color\":\"#1616A7\",\"pattern\":{\"shape\":\"\"}},\"name\":\"j13\",\"offsetgroup\":\"j13\",\"orientation\":\"h\",\"showlegend\":true,\"text\":[\"LOR\",\"LOR\",\"LOR\",\"LOR\"],\"textposition\":\"auto\",\"x\":[46800000.0,72000000.0,93600000.0,57600000.0],\"xaxis\":\"x\",\"y\":[\"M1\",\"M1\",\"M1\",\"M1\"],\"yaxis\":\"y\",\"type\":\"bar\"},{\"alignmentgroup\":\"True\",\"base\":[\"1970-01-03T00:00:00\",\"1970-01-04T01:00:00\",\"1970-01-04T19:00:00\",\"1970-01-07T09:00:00\",\"1970-01-02T14:00:00\",\"1970-01-03T16:00:00\",\"1970-01-06T16:00:00\",\"1970-01-09T12:00:00\",\"1970-01-02T23:00:00\",\"1970-01-04T01:00:00\",\"1970-01-05T00:00:00\",\"1970-01-07T01:00:00\",\"1970-01-10T04:00:00\",\"1970-01-02T11:00:00\",\"1970-01-03T14:00:00\",\"1970-01-05T23:00:00\",\"1970-01-08T17:00:00\",\"1970-01-03T04:00:00\",\"1970-01-04T04:00:00\",\"1970-01-05T19:00:00\",\"1970-01-08T14:00:00\",\"1970-01-12T13:00:00\",\"1970-01-02T19:00:00\",\"1970-01-03T21:00:00\",\"1970-01-04T11:00:00\",\"1970-01-07T14:00:00\"],\"hovertemplate\":\"Type=setup<br>Start=%{base}<br>Finish=%{x}<br>Resource=%{y}<br>Rule=%{text}<extra></extra>\",\"legendgroup\":\"setup\",\"marker\":{\"color\":\"#DA60CA\",\"pattern\":{\"shape\":\"\"}},\"name\":\"setup\",\"offsetgroup\":\"setup\",\"orientation\":\"h\",\"showlegend\":true,\"text\":\"\",\"textposition\":\"auto\",\"x\":[10800000.0,3600000.0,7200000.0,7200000.0,10800000.0,14400000.0,10800000.0,3600000.0,7200000.0,10800000.0,14400000.0,10800000.0,10800000.0,10800000.0,14400000.0,7200000.0,3600000.0,7200000.0,10800000.0,10800000.0,10800000.0,7200000.0,3600000.0,10800000.0,7200000.0,10800000.0],\"xaxis\":\"x\",\"y\":[\"M6\",\"M6\",\"M6\",\"M6\",\"M5\",\"M5\",\"M5\",\"M5\",\"M4\",\"M4\",\"M4\",\"M4\",\"M4\",\"M3\",\"M3\",\"M3\",\"M3\",\"M2\",\"M2\",\"M2\",\"M2\",\"M2\",\"M1\",\"M1\",\"M1\",\"M1\"],\"yaxis\":\"y\",\"type\":\"bar\",\"width\":0.7}],                        {\"template\":{\"data\":{\"barpolar\":[{\"marker\":{\"line\":{\"color\":\"white\",\"width\":0.5},\"pattern\":{\"fillmode\":\"overlay\",\"size\":10,\"solidity\":0.2}},\"type\":\"barpolar\"}],\"bar\":[{\"error_x\":{\"color\":\"rgb(36,36,36)\"},\"error_y\":{\"color\":\"rgb(36,36,36)\"},\"marker\":{\"line\":{\"color\":\"white\",\"width\":0.5},\"pattern\":{\"fillmode\":\"overlay\",\"size\":10,\"solidity\":0.2}},\"type\":\"bar\"}],\"carpet\":[{\"aaxis\":{\"endlinecolor\":\"rgb(36,36,36)\",\"gridcolor\":\"white\",\"linecolor\":\"white\",\"minorgridcolor\":\"white\",\"startlinecolor\":\"rgb(36,36,36)\"},\"baxis\":{\"endlinecolor\":\"rgb(36,36,36)\",\"gridcolor\":\"white\",\"linecolor\":\"white\",\"minorgridcolor\":\"white\",\"startlinecolor\":\"rgb(36,36,36)\"},\"type\":\"carpet\"}],\"choropleth\":[{\"colorbar\":{\"outlinewidth\":1,\"tickcolor\":\"rgb(36,36,36)\",\"ticks\":\"outside\"},\"type\":\"choropleth\"}],\"contourcarpet\":[{\"colorbar\":{\"outlinewidth\":1,\"tickcolor\":\"rgb(36,36,36)\",\"ticks\":\"outside\"},\"type\":\"contourcarpet\"}],\"contour\":[{\"colorbar\":{\"outlinewidth\":1,\"tickcolor\":\"rgb(36,36,36)\",\"ticks\":\"outside\"},\"colorscale\":[[0.0,\"#440154\"],[0.1111111111111111,\"#482878\"],[0.2222222222222222,\"#3e4989\"],[0.3333333333333333,\"#31688e\"],[0.4444444444444444,\"#26828e\"],[0.5555555555555556,\"#1f9e89\"],[0.6666666666666666,\"#35b779\"],[0.7777777777777778,\"#6ece58\"],[0.8888888888888888,\"#b5de2b\"],[1.0,\"#fde725\"]],\"type\":\"contour\"}],\"heatmapgl\":[{\"colorbar\":{\"outlinewidth\":1,\"tickcolor\":\"rgb(36,36,36)\",\"ticks\":\"outside\"},\"colorscale\":[[0.0,\"#440154\"],[0.1111111111111111,\"#482878\"],[0.2222222222222222,\"#3e4989\"],[0.3333333333333333,\"#31688e\"],[0.4444444444444444,\"#26828e\"],[0.5555555555555556,\"#1f9e89\"],[0.6666666666666666,\"#35b779\"],[0.7777777777777778,\"#6ece58\"],[0.8888888888888888,\"#b5de2b\"],[1.0,\"#fde725\"]],\"type\":\"heatmapgl\"}],\"heatmap\":[{\"colorbar\":{\"outlinewidth\":1,\"tickcolor\":\"rgb(36,36,36)\",\"ticks\":\"outside\"},\"colorscale\":[[0.0,\"#440154\"],[0.1111111111111111,\"#482878\"],[0.2222222222222222,\"#3e4989\"],[0.3333333333333333,\"#31688e\"],[0.4444444444444444,\"#26828e\"],[0.5555555555555556,\"#1f9e89\"],[0.6666666666666666,\"#35b779\"],[0.7777777777777778,\"#6ece58\"],[0.8888888888888888,\"#b5de2b\"],[1.0,\"#fde725\"]],\"type\":\"heatmap\"}],\"histogram2dcontour\":[{\"colorbar\":{\"outlinewidth\":1,\"tickcolor\":\"rgb(36,36,36)\",\"ticks\":\"outside\"},\"colorscale\":[[0.0,\"#440154\"],[0.1111111111111111,\"#482878\"],[0.2222222222222222,\"#3e4989\"],[0.3333333333333333,\"#31688e\"],[0.4444444444444444,\"#26828e\"],[0.5555555555555556,\"#1f9e89\"],[0.6666666666666666,\"#35b779\"],[0.7777777777777778,\"#6ece58\"],[0.8888888888888888,\"#b5de2b\"],[1.0,\"#fde725\"]],\"type\":\"histogram2dcontour\"}],\"histogram2d\":[{\"colorbar\":{\"outlinewidth\":1,\"tickcolor\":\"rgb(36,36,36)\",\"ticks\":\"outside\"},\"colorscale\":[[0.0,\"#440154\"],[0.1111111111111111,\"#482878\"],[0.2222222222222222,\"#3e4989\"],[0.3333333333333333,\"#31688e\"],[0.4444444444444444,\"#26828e\"],[0.5555555555555556,\"#1f9e89\"],[0.6666666666666666,\"#35b779\"],[0.7777777777777778,\"#6ece58\"],[0.8888888888888888,\"#b5de2b\"],[1.0,\"#fde725\"]],\"type\":\"histogram2d\"}],\"histogram\":[{\"marker\":{\"line\":{\"color\":\"white\",\"width\":0.6}},\"type\":\"histogram\"}],\"mesh3d\":[{\"colorbar\":{\"outlinewidth\":1,\"tickcolor\":\"rgb(36,36,36)\",\"ticks\":\"outside\"},\"type\":\"mesh3d\"}],\"parcoords\":[{\"line\":{\"colorbar\":{\"outlinewidth\":1,\"tickcolor\":\"rgb(36,36,36)\",\"ticks\":\"outside\"}},\"type\":\"parcoords\"}],\"pie\":[{\"automargin\":true,\"type\":\"pie\"}],\"scatter3d\":[{\"line\":{\"colorbar\":{\"outlinewidth\":1,\"tickcolor\":\"rgb(36,36,36)\",\"ticks\":\"outside\"}},\"marker\":{\"colorbar\":{\"outlinewidth\":1,\"tickcolor\":\"rgb(36,36,36)\",\"ticks\":\"outside\"}},\"type\":\"scatter3d\"}],\"scattercarpet\":[{\"marker\":{\"colorbar\":{\"outlinewidth\":1,\"tickcolor\":\"rgb(36,36,36)\",\"ticks\":\"outside\"}},\"type\":\"scattercarpet\"}],\"scattergeo\":[{\"marker\":{\"colorbar\":{\"outlinewidth\":1,\"tickcolor\":\"rgb(36,36,36)\",\"ticks\":\"outside\"}},\"type\":\"scattergeo\"}],\"scattergl\":[{\"marker\":{\"colorbar\":{\"outlinewidth\":1,\"tickcolor\":\"rgb(36,36,36)\",\"ticks\":\"outside\"}},\"type\":\"scattergl\"}],\"scattermapbox\":[{\"marker\":{\"colorbar\":{\"outlinewidth\":1,\"tickcolor\":\"rgb(36,36,36)\",\"ticks\":\"outside\"}},\"type\":\"scattermapbox\"}],\"scatterpolargl\":[{\"marker\":{\"colorbar\":{\"outlinewidth\":1,\"tickcolor\":\"rgb(36,36,36)\",\"ticks\":\"outside\"}},\"type\":\"scatterpolargl\"}],\"scatterpolar\":[{\"marker\":{\"colorbar\":{\"outlinewidth\":1,\"tickcolor\":\"rgb(36,36,36)\",\"ticks\":\"outside\"}},\"type\":\"scatterpolar\"}],\"scatter\":[{\"fillpattern\":{\"fillmode\":\"overlay\",\"size\":10,\"solidity\":0.2},\"type\":\"scatter\"}],\"scatterternary\":[{\"marker\":{\"colorbar\":{\"outlinewidth\":1,\"tickcolor\":\"rgb(36,36,36)\",\"ticks\":\"outside\"}},\"type\":\"scatterternary\"}],\"surface\":[{\"colorbar\":{\"outlinewidth\":1,\"tickcolor\":\"rgb(36,36,36)\",\"ticks\":\"outside\"},\"colorscale\":[[0.0,\"#440154\"],[0.1111111111111111,\"#482878\"],[0.2222222222222222,\"#3e4989\"],[0.3333333333333333,\"#31688e\"],[0.4444444444444444,\"#26828e\"],[0.5555555555555556,\"#1f9e89\"],[0.6666666666666666,\"#35b779\"],[0.7777777777777778,\"#6ece58\"],[0.8888888888888888,\"#b5de2b\"],[1.0,\"#fde725\"]],\"type\":\"surface\"}],\"table\":[{\"cells\":{\"fill\":{\"color\":\"rgb(237,237,237)\"},\"line\":{\"color\":\"white\"}},\"header\":{\"fill\":{\"color\":\"rgb(217,217,217)\"},\"line\":{\"color\":\"white\"}},\"type\":\"table\"}]},\"layout\":{\"annotationdefaults\":{\"arrowhead\":0,\"arrowwidth\":1},\"autotypenumbers\":\"strict\",\"coloraxis\":{\"colorbar\":{\"outlinewidth\":1,\"tickcolor\":\"rgb(36,36,36)\",\"ticks\":\"outside\"}},\"colorscale\":{\"diverging\":[[0.0,\"rgb(103,0,31)\"],[0.1,\"rgb(178,24,43)\"],[0.2,\"rgb(214,96,77)\"],[0.3,\"rgb(244,165,130)\"],[0.4,\"rgb(253,219,199)\"],[0.5,\"rgb(247,247,247)\"],[0.6,\"rgb(209,229,240)\"],[0.7,\"rgb(146,197,222)\"],[0.8,\"rgb(67,147,195)\"],[0.9,\"rgb(33,102,172)\"],[1.0,\"rgb(5,48,97)\"]],\"sequential\":[[0.0,\"#440154\"],[0.1111111111111111,\"#482878\"],[0.2222222222222222,\"#3e4989\"],[0.3333333333333333,\"#31688e\"],[0.4444444444444444,\"#26828e\"],[0.5555555555555556,\"#1f9e89\"],[0.6666666666666666,\"#35b779\"],[0.7777777777777778,\"#6ece58\"],[0.8888888888888888,\"#b5de2b\"],[1.0,\"#fde725\"]],\"sequentialminus\":[[0.0,\"#440154\"],[0.1111111111111111,\"#482878\"],[0.2222222222222222,\"#3e4989\"],[0.3333333333333333,\"#31688e\"],[0.4444444444444444,\"#26828e\"],[0.5555555555555556,\"#1f9e89\"],[0.6666666666666666,\"#35b779\"],[0.7777777777777778,\"#6ece58\"],[0.8888888888888888,\"#b5de2b\"],[1.0,\"#fde725\"]]},\"colorway\":[\"#1F77B4\",\"#FF7F0E\",\"#2CA02C\",\"#D62728\",\"#9467BD\",\"#8C564B\",\"#E377C2\",\"#7F7F7F\",\"#BCBD22\",\"#17BECF\"],\"font\":{\"color\":\"rgb(36,36,36)\"},\"geo\":{\"bgcolor\":\"white\",\"lakecolor\":\"white\",\"landcolor\":\"white\",\"showlakes\":true,\"showland\":true,\"subunitcolor\":\"white\"},\"hoverlabel\":{\"align\":\"left\"},\"hovermode\":\"closest\",\"mapbox\":{\"style\":\"light\"},\"paper_bgcolor\":\"white\",\"plot_bgcolor\":\"white\",\"polar\":{\"angularaxis\":{\"gridcolor\":\"rgb(232,232,232)\",\"linecolor\":\"rgb(36,36,36)\",\"showgrid\":false,\"showline\":true,\"ticks\":\"outside\"},\"bgcolor\":\"white\",\"radialaxis\":{\"gridcolor\":\"rgb(232,232,232)\",\"linecolor\":\"rgb(36,36,36)\",\"showgrid\":false,\"showline\":true,\"ticks\":\"outside\"}},\"scene\":{\"xaxis\":{\"backgroundcolor\":\"white\",\"gridcolor\":\"rgb(232,232,232)\",\"gridwidth\":2,\"linecolor\":\"rgb(36,36,36)\",\"showbackground\":true,\"showgrid\":false,\"showline\":true,\"ticks\":\"outside\",\"zeroline\":false,\"zerolinecolor\":\"rgb(36,36,36)\"},\"yaxis\":{\"backgroundcolor\":\"white\",\"gridcolor\":\"rgb(232,232,232)\",\"gridwidth\":2,\"linecolor\":\"rgb(36,36,36)\",\"showbackground\":true,\"showgrid\":false,\"showline\":true,\"ticks\":\"outside\",\"zeroline\":false,\"zerolinecolor\":\"rgb(36,36,36)\"},\"zaxis\":{\"backgroundcolor\":\"white\",\"gridcolor\":\"rgb(232,232,232)\",\"gridwidth\":2,\"linecolor\":\"rgb(36,36,36)\",\"showbackground\":true,\"showgrid\":false,\"showline\":true,\"ticks\":\"outside\",\"zeroline\":false,\"zerolinecolor\":\"rgb(36,36,36)\"}},\"shapedefaults\":{\"fillcolor\":\"black\",\"line\":{\"width\":0},\"opacity\":0.3},\"ternary\":{\"aaxis\":{\"gridcolor\":\"rgb(232,232,232)\",\"linecolor\":\"rgb(36,36,36)\",\"showgrid\":false,\"showline\":true,\"ticks\":\"outside\"},\"baxis\":{\"gridcolor\":\"rgb(232,232,232)\",\"linecolor\":\"rgb(36,36,36)\",\"showgrid\":false,\"showline\":true,\"ticks\":\"outside\"},\"bgcolor\":\"white\",\"caxis\":{\"gridcolor\":\"rgb(232,232,232)\",\"linecolor\":\"rgb(36,36,36)\",\"showgrid\":false,\"showline\":true,\"ticks\":\"outside\"}},\"title\":{\"x\":0.05},\"xaxis\":{\"automargin\":true,\"gridcolor\":\"rgb(232,232,232)\",\"linecolor\":\"rgb(36,36,36)\",\"showgrid\":false,\"showline\":true,\"ticks\":\"outside\",\"title\":{\"standoff\":15},\"zeroline\":false,\"zerolinecolor\":\"rgb(36,36,36)\"},\"yaxis\":{\"automargin\":true,\"gridcolor\":\"rgb(232,232,232)\",\"linecolor\":\"rgb(36,36,36)\",\"showgrid\":false,\"showline\":true,\"ticks\":\"outside\",\"title\":{\"standoff\":15},\"zeroline\":false,\"zerolinecolor\":\"rgb(36,36,36)\"}}},\"xaxis\":{\"anchor\":\"y\",\"domain\":[0.0,1.0],\"type\":\"date\"},\"yaxis\":{\"anchor\":\"x\",\"domain\":[0.0,1.0],\"title\":{\"text\":\"Resource\"}},\"legend\":{\"title\":{\"text\":\"Type\"},\"tracegroupgap\":0},\"margin\":{\"t\":60},\"barmode\":\"overlay\",\"height\":800,\"width\":2000},                        {\"responsive\": true}                    ).then(function(){\n",
       "                            \n",
       "var gd = document.getElementById('ddc707fd-839b-46f0-95b2-9e80864db24f');\n",
       "var x = new MutationObserver(function (mutations, observer) {{\n",
       "        var display = window.getComputedStyle(gd).display;\n",
       "        if (!display || display === 'none') {{\n",
       "            console.log([gd, 'removed!']);\n",
       "            Plotly.purge(gd);\n",
       "            observer.disconnect();\n",
       "        }}\n",
       "}});\n",
       "\n",
       "// Listen for the removal of the full notebook cells\n",
       "var notebookContainer = gd.closest('#notebook-container');\n",
       "if (notebookContainer) {{\n",
       "    x.observe(notebookContainer, {childList: true});\n",
       "}}\n",
       "\n",
       "// Listen for the clearing of the current output cell\n",
       "var outputEl = gd.closest('.output');\n",
       "if (outputEl) {{\n",
       "    x.observe(outputEl, {childList: true});\n",
       "}}\n",
       "\n",
       "                        })                };                });            </script>        </div>"
      ]
     },
     "metadata": {},
     "output_type": "display_data"
    },
    {
     "data": {
      "application/vnd.plotly.v1+json": {
       "config": {
        "plotlyServerURL": "https://plot.ly"
       },
       "data": [
        {
         "alignmentgroup": "True",
         "base": [
          "1970-01-07T09:00:00",
          "1970-01-07T21:00:00",
          "1970-01-08T15:00:00",
          "1970-01-09T12:00:00",
          "1970-01-10T04:00:00",
          "1970-01-10T14:00:00",
          "1970-01-03T04:00:00"
         ],
         "hovertemplate": "Type=j19<br>Start=%{base}<br>Finish=%{x}<br>Resource=%{y}<br>Step-Rule=%{text}<extra></extra>",
         "legendgroup": "j19",
         "marker": {
          "color": "#2E91E5",
          "pattern": {
           "shape": ""
          }
         },
         "name": "j19",
         "offsetgroup": "j19",
         "orientation": "h",
         "showlegend": true,
         "text": [
          "61-LOR",
          "66-LOR",
          "78-LOR",
          "81-LOR",
          "87-LOR",
          "92-LOR",
          "24-LPT"
         ],
         "textposition": "auto",
         "type": "bar",
         "x": [
          43200000,
          64800000,
          75600000,
          57600000,
          36000000,
          64800000,
          86400000
         ],
         "xaxis": "x",
         "y": [
          "M6",
          "M6",
          "M6",
          "M5",
          "M4",
          "M4",
          "M2"
         ],
         "yaxis": "y"
        },
        {
         "alignmentgroup": "True",
         "base": [
          "1970-01-03T00:00:00",
          "1970-01-04T19:00:00",
          "1970-01-05T07:00:00",
          "1970-01-05T20:00:00",
          "1970-01-06T13:00:00"
         ],
         "hovertemplate": "Type=j18<br>Start=%{base}<br>Finish=%{x}<br>Resource=%{y}<br>Step-Rule=%{text}<extra></extra>",
         "legendgroup": "j18",
         "marker": {
          "color": "#E15F99",
          "pattern": {
           "shape": ""
          }
         },
         "name": "j18",
         "offsetgroup": "j18",
         "orientation": "h",
         "showlegend": true,
         "text": [
          "23-LPT",
          "34-LOR",
          "40-LOR",
          "49-LOR",
          "55-LOR"
         ],
         "textposition": "auto",
         "type": "bar",
         "x": [
          90000000,
          43200000,
          46800000,
          61200000,
          72000000
         ],
         "xaxis": "x",
         "y": [
          "M6",
          "M6",
          "M6",
          "M6",
          "M6"
         ],
         "yaxis": "y"
        },
        {
         "alignmentgroup": "True",
         "base": [
          "1970-01-01T09:00:00",
          "1970-01-01T14:00:00",
          "1970-01-02T01:00:00",
          "1970-01-02T08:00:00"
         ],
         "hovertemplate": "Type=j10<br>Start=%{base}<br>Finish=%{x}<br>Resource=%{y}<br>Step-Rule=%{text}<extra></extra>",
         "legendgroup": "j10",
         "marker": {
          "color": "#1CA71C",
          "pattern": {
           "shape": ""
          }
         },
         "name": "j10",
         "offsetgroup": "j10",
         "orientation": "h",
         "showlegend": true,
         "text": [
          "6-LOR",
          "7-LOR",
          "12-LOR",
          "16-LOR"
         ],
         "textposition": "auto",
         "type": "bar",
         "x": [
          18000000,
          39600000,
          25200000,
          57600000
         ],
         "xaxis": "x",
         "y": [
          "M6",
          "M6",
          "M6",
          "M6"
         ],
         "yaxis": "y"
        },
        {
         "alignmentgroup": "True",
         "base": [
          "1970-01-04T01:00:00",
          "1970-01-04T10:00:00",
          "1970-01-01T09:00:00",
          "1970-01-02T03:00:00"
         ],
         "hovertemplate": "Type=j1<br>Start=%{base}<br>Finish=%{x}<br>Resource=%{y}<br>Step-Rule=%{text}<extra></extra>",
         "legendgroup": "j1",
         "marker": {
          "color": "#FB0D0D",
          "pattern": {
           "shape": ""
          }
         },
         "name": "j1",
         "offsetgroup": "j1",
         "orientation": "h",
         "showlegend": true,
         "text": [
          "29-LOR",
          "31-LOR",
          "3-LOR",
          "14-LOR"
         ],
         "textposition": "auto",
         "type": "bar",
         "x": [
          32400000,
          32400000,
          64800000,
          28800000
         ],
         "xaxis": "x",
         "y": [
          "M6",
          "M6",
          "M3",
          "M3"
         ],
         "yaxis": "y"
        },
        {
         "alignmentgroup": "True",
         "base": [
          "1970-01-01T09:00:00",
          "1970-01-01T15:00:00",
          "1970-01-01T20:00:00",
          "1970-01-04T01:00:00"
         ],
         "hovertemplate": "Type=j8<br>Start=%{base}<br>Finish=%{x}<br>Resource=%{y}<br>Step-Rule=%{text}<extra></extra>",
         "legendgroup": "j8",
         "marker": {
          "color": "#DA16FF",
          "pattern": {
           "shape": ""
          }
         },
         "name": "j8",
         "offsetgroup": "j8",
         "orientation": "h",
         "showlegend": true,
         "text": [
          "5-LOR",
          "8-LOR",
          "10-LOR",
          "28-LOR"
         ],
         "textposition": "auto",
         "type": "bar",
         "x": [
          21600000,
          18000000,
          64800000,
          82800000
         ],
         "xaxis": "x",
         "y": [
          "M5",
          "M5",
          "M5",
          "M4"
         ],
         "yaxis": "y"
        },
        {
         "alignmentgroup": "True",
         "base": [
          "1970-01-03T16:00:00",
          "1970-01-04T21:00:00",
          "1970-01-05T15:00:00",
          "1970-01-02T11:00:00"
         ],
         "hovertemplate": "Type=j17<br>Start=%{base}<br>Finish=%{x}<br>Resource=%{y}<br>Step-Rule=%{text}<extra></extra>",
         "legendgroup": "j17",
         "marker": {
          "color": "#222A2A",
          "pattern": {
           "shape": ""
          }
         },
         "name": "j17",
         "offsetgroup": "j17",
         "orientation": "h",
         "showlegend": true,
         "text": [
          "26-LPT",
          "35-LOR",
          "44-LOR",
          "18-LPT"
         ],
         "textposition": "auto",
         "type": "bar",
         "x": [
          104400000,
          64800000,
          90000000,
          97200000
         ],
         "xaxis": "x",
         "y": [
          "M5",
          "M5",
          "M5",
          "M3"
         ],
         "yaxis": "y"
        },
        {
         "alignmentgroup": "True",
         "base": [
          "1970-01-02T14:00:00",
          "1970-01-06T16:00:00",
          "1970-01-07T13:00:00",
          "1970-01-08T00:00:00",
          "1970-01-08T06:00:00",
          "1970-01-08T13:00:00"
         ],
         "hovertemplate": "Type=j11<br>Start=%{base}<br>Finish=%{x}<br>Resource=%{y}<br>Step-Rule=%{text}<extra></extra>",
         "legendgroup": "j11",
         "marker": {
          "color": "#B68100",
          "pattern": {
           "shape": ""
          }
         },
         "name": "j11",
         "offsetgroup": "j11",
         "orientation": "h",
         "showlegend": true,
         "text": [
          "20-LPT",
          "56-LOR",
          "64-LOR",
          "69-LOR",
          "72-LOR",
          "74-LOR"
         ],
         "textposition": "auto",
         "type": "bar",
         "x": [
          93600000,
          75600000,
          39600000,
          21600000,
          25200000,
          21600000
         ],
         "xaxis": "x",
         "y": [
          "M5",
          "M5",
          "M5",
          "M5",
          "M5",
          "M5"
         ],
         "yaxis": "y"
        },
        {
         "alignmentgroup": "True",
         "base": [
          "1970-01-05T00:00:00",
          "1970-01-05T10:00:00",
          "1970-01-05T16:00:00",
          "1970-01-05T23:00:00",
          "1970-01-06T07:00:00"
         ],
         "hovertemplate": "Type=j4<br>Start=%{base}<br>Finish=%{x}<br>Resource=%{y}<br>Step-Rule=%{text}<extra></extra>",
         "legendgroup": "j4",
         "marker": {
          "color": "#750D86",
          "pattern": {
           "shape": ""
          }
         },
         "name": "j4",
         "offsetgroup": "j4",
         "orientation": "h",
         "showlegend": true,
         "text": [
          "37-LOR",
          "41-LOR",
          "45-LOR",
          "50-LOR",
          "52-LOR"
         ],
         "textposition": "auto",
         "type": "bar",
         "x": [
          36000000,
          21600000,
          25200000,
          28800000,
          64800000
         ],
         "xaxis": "x",
         "y": [
          "M4",
          "M4",
          "M4",
          "M4",
          "M4"
         ],
         "yaxis": "y"
        },
        {
         "alignmentgroup": "True",
         "base": [
          "1970-01-01T09:00:00",
          "1970-01-01T21:00:00",
          "1970-01-02T06:00:00",
          "1970-01-02T13:00:00"
         ],
         "hovertemplate": "Type=j3<br>Start=%{base}<br>Finish=%{x}<br>Resource=%{y}<br>Step-Rule=%{text}<extra></extra>",
         "legendgroup": "j3",
         "marker": {
          "color": "#EB663B",
          "pattern": {
           "shape": ""
          }
         },
         "name": "j3",
         "offsetgroup": "j3",
         "orientation": "h",
         "showlegend": true,
         "text": [
          "4-LOR",
          "11-LOR",
          "15-LOR",
          "19-LOR"
         ],
         "textposition": "auto",
         "type": "bar",
         "x": [
          43200000,
          32400000,
          25200000,
          36000000
         ],
         "xaxis": "x",
         "y": [
          "M4",
          "M4",
          "M4",
          "M4"
         ],
         "yaxis": "y"
        },
        {
         "alignmentgroup": "True",
         "base": [
          "1970-01-07T01:00:00",
          "1970-01-07T12:00:00",
          "1970-01-08T00:00:00",
          "1970-01-08T14:00:00",
          "1970-01-09T13:00:00",
          "1970-01-02T19:00:00"
         ],
         "hovertemplate": "Type=j20<br>Start=%{base}<br>Finish=%{x}<br>Resource=%{y}<br>Step-Rule=%{text}<extra></extra>",
         "legendgroup": "j20",
         "marker": {
          "color": "#511CFB",
          "pattern": {
           "shape": ""
          }
         },
         "name": "j20",
         "offsetgroup": "j20",
         "orientation": "h",
         "showlegend": true,
         "text": [
          "59-LOR",
          "63-LOR",
          "68-LOR",
          "75-LOR",
          "82-LOR",
          "21-LPT"
         ],
         "textposition": "auto",
         "type": "bar",
         "x": [
          39600000,
          43200000,
          50400000,
          82800000,
          43200000,
          93600000
         ],
         "xaxis": "x",
         "y": [
          "M4",
          "M4",
          "M4",
          "M4",
          "M4",
          "M1"
         ],
         "yaxis": "y"
        },
        {
         "alignmentgroup": "True",
         "base": [
          "1970-01-02T23:00:00",
          "1970-01-04T04:00:00",
          "1970-01-04T21:00:00",
          "1970-01-05T11:00:00"
         ],
         "hovertemplate": "Type=j14<br>Start=%{base}<br>Finish=%{x}<br>Resource=%{y}<br>Step-Rule=%{text}<extra></extra>",
         "legendgroup": "j14",
         "marker": {
          "color": "#00A08B",
          "pattern": {
           "shape": ""
          }
         },
         "name": "j14",
         "offsetgroup": "j14",
         "orientation": "h",
         "showlegend": true,
         "text": [
          "22-LPT",
          "30-LOR",
          "36-LOR",
          "42-LOR"
         ],
         "textposition": "auto",
         "type": "bar",
         "x": [
          93600000,
          61200000,
          50400000,
          28800000
         ],
         "xaxis": "x",
         "y": [
          "M4",
          "M2",
          "M2",
          "M2"
         ],
         "yaxis": "y"
        },
        {
         "alignmentgroup": "True",
         "base": [
          "1970-01-05T23:00:00",
          "1970-01-06T11:00:00",
          "1970-01-07T00:00:00",
          "1970-01-07T12:00:00",
          "1970-01-08T02:00:00"
         ],
         "hovertemplate": "Type=j9<br>Start=%{base}<br>Finish=%{x}<br>Resource=%{y}<br>Step-Rule=%{text}<extra></extra>",
         "legendgroup": "j9",
         "marker": {
          "color": "#FB00D1",
          "pattern": {
           "shape": ""
          }
         },
         "name": "j9",
         "offsetgroup": "j9",
         "orientation": "h",
         "showlegend": true,
         "text": [
          "51-LOR",
          "53-LOR",
          "58-LOR",
          "62-LOR",
          "70-LOR"
         ],
         "textposition": "auto",
         "type": "bar",
         "x": [
          43200000,
          46800000,
          43200000,
          50400000,
          54000000
         ],
         "xaxis": "x",
         "y": [
          "M3",
          "M3",
          "M3",
          "M3",
          "M3"
         ],
         "yaxis": "y"
        },
        {
         "alignmentgroup": "True",
         "base": [
          "1970-01-08T17:00:00",
          "1970-01-09T13:00:00",
          "1970-01-09T19:00:00",
          "1970-01-10T09:00:00",
          "1970-01-10T22:00:00",
          "1970-01-11T19:00:00",
          "1970-01-12T13:00:00",
          "1970-01-13T06:00:00"
         ],
         "hovertemplate": "Type=j16<br>Start=%{base}<br>Finish=%{x}<br>Resource=%{y}<br>Step-Rule=%{text}<extra></extra>",
         "legendgroup": "j16",
         "marker": {
          "color": "#FC0080",
          "pattern": {
           "shape": ""
          }
         },
         "name": "j16",
         "offsetgroup": "j16",
         "orientation": "h",
         "showlegend": true,
         "text": [
          "79-LOR",
          "83-LOR",
          "86-LOR",
          "89-LOR",
          "93-LOR",
          "97-LOR",
          "99-LOR",
          "100-LOR"
         ],
         "textposition": "auto",
         "type": "bar",
         "x": [
          72000000,
          21600000,
          50400000,
          46800000,
          75600000,
          64800000,
          61200000,
          39600000
         ],
         "xaxis": "x",
         "y": [
          "M3",
          "M3",
          "M3",
          "M3",
          "M3",
          "M3",
          "M2",
          "M2"
         ],
         "yaxis": "y"
        },
        {
         "alignmentgroup": "True",
         "base": [
          "1970-01-03T14:00:00",
          "1970-01-04T13:00:00",
          "1970-01-05T01:00:00",
          "1970-01-05T12:00:00",
          "1970-01-05T17:00:00"
         ],
         "hovertemplate": "Type=j12<br>Start=%{base}<br>Finish=%{x}<br>Resource=%{y}<br>Step-Rule=%{text}<extra></extra>",
         "legendgroup": "j12",
         "marker": {
          "color": "#B2828D",
          "pattern": {
           "shape": ""
          }
         },
         "name": "j12",
         "offsetgroup": "j12",
         "orientation": "h",
         "showlegend": true,
         "text": [
          "25-LPT",
          "33-LOR",
          "39-LOR",
          "43-LOR",
          "46-LOR"
         ],
         "textposition": "auto",
         "type": "bar",
         "x": [
          82800000,
          43200000,
          39600000,
          18000000,
          21600000
         ],
         "xaxis": "x",
         "y": [
          "M3",
          "M3",
          "M3",
          "M3",
          "M3"
         ],
         "yaxis": "y"
        },
        {
         "alignmentgroup": "True",
         "base": [
          "1970-01-08T14:00:00",
          "1970-01-09T03:00:00",
          "1970-01-09T18:00:00",
          "1970-01-10T04:00:00",
          "1970-01-10T13:00:00",
          "1970-01-11T00:00:00",
          "1970-01-11T16:00:00"
         ],
         "hovertemplate": "Type=j7<br>Start=%{base}<br>Finish=%{x}<br>Resource=%{y}<br>Step-Rule=%{text}<extra></extra>",
         "legendgroup": "j7",
         "marker": {
          "color": "#6C7C32",
          "pattern": {
           "shape": ""
          }
         },
         "name": "j7",
         "offsetgroup": "j7",
         "orientation": "h",
         "showlegend": true,
         "text": [
          "77-LOR",
          "80-LOR",
          "85-LOR",
          "88-LOR",
          "91-LOR",
          "94-LOR",
          "96-LOR"
         ],
         "textposition": "auto",
         "type": "bar",
         "x": [
          46800000,
          54000000,
          36000000,
          32400000,
          39600000,
          57600000,
          72000000
         ],
         "xaxis": "x",
         "y": [
          "M2",
          "M2",
          "M2",
          "M2",
          "M2",
          "M2",
          "M2"
         ],
         "yaxis": "y"
        },
        {
         "alignmentgroup": "True",
         "base": [
          "1970-01-05T19:00:00",
          "1970-01-06T13:00:00",
          "1970-01-07T05:00:00",
          "1970-01-07T22:00:00",
          "1970-01-08T09:00:00"
         ],
         "hovertemplate": "Type=j5<br>Start=%{base}<br>Finish=%{x}<br>Resource=%{y}<br>Step-Rule=%{text}<extra></extra>",
         "legendgroup": "j5",
         "marker": {
          "color": "#778AAE",
          "pattern": {
           "shape": ""
          }
         },
         "name": "j5",
         "offsetgroup": "j5",
         "orientation": "h",
         "showlegend": true,
         "text": [
          "47-LOR",
          "54-LOR",
          "60-LOR",
          "67-LOR",
          "73-LOR"
         ],
         "textposition": "auto",
         "type": "bar",
         "x": [
          64800000,
          57600000,
          61200000,
          39600000,
          18000000
         ],
         "xaxis": "x",
         "y": [
          "M2",
          "M2",
          "M2",
          "M2",
          "M2"
         ],
         "yaxis": "y"
        },
        {
         "alignmentgroup": "True",
         "base": [
          "1970-01-01T09:00:00",
          "1970-01-02T02:00:00",
          "1970-01-02T10:00:00"
         ],
         "hovertemplate": "Type=j15<br>Start=%{base}<br>Finish=%{x}<br>Resource=%{y}<br>Step-Rule=%{text}<extra></extra>",
         "legendgroup": "j15",
         "marker": {
          "color": "#862A16",
          "pattern": {
           "shape": ""
          }
         },
         "name": "j15",
         "offsetgroup": "j15",
         "orientation": "h",
         "showlegend": true,
         "text": [
          "2-LOR",
          "13-LOR",
          "17-LOR"
         ],
         "textposition": "auto",
         "type": "bar",
         "x": [
          61200000,
          28800000,
          64800000
         ],
         "xaxis": "x",
         "y": [
          "M2",
          "M2",
          "M2"
         ],
         "yaxis": "y"
        },
        {
         "alignmentgroup": "True",
         "base": [
          "1970-01-01T09:00:00",
          "1970-01-01T20:00:00",
          "1970-01-03T21:00:00"
         ],
         "hovertemplate": "Type=j6<br>Start=%{base}<br>Finish=%{x}<br>Resource=%{y}<br>Step-Rule=%{text}<extra></extra>",
         "legendgroup": "j6",
         "marker": {
          "color": "#A777F1",
          "pattern": {
           "shape": ""
          }
         },
         "name": "j6",
         "offsetgroup": "j6",
         "orientation": "h",
         "showlegend": true,
         "text": [
          "1-LOR",
          "9-LOR",
          "27-LOR"
         ],
         "textposition": "auto",
         "type": "bar",
         "x": [
          39600000,
          82800000,
          50400000
         ],
         "xaxis": "x",
         "y": [
          "M1",
          "M1",
          "M1"
         ],
         "yaxis": "y"
        },
        {
         "alignmentgroup": "True",
         "base": [
          "1970-01-07T14:00:00",
          "1970-01-08T03:00:00",
          "1970-01-08T14:00:00",
          "1970-01-09T15:00:00",
          "1970-01-10T13:00:00",
          "1970-01-11T12:00:00",
          "1970-01-12T12:00:00"
         ],
         "hovertemplate": "Type=j2<br>Start=%{base}<br>Finish=%{x}<br>Resource=%{y}<br>Step-Rule=%{text}<extra></extra>",
         "legendgroup": "j2",
         "marker": {
          "color": "#620042",
          "pattern": {
           "shape": ""
          }
         },
         "name": "j2",
         "offsetgroup": "j2",
         "orientation": "h",
         "showlegend": true,
         "text": [
          "65-LOR",
          "71-LOR",
          "76-LOR",
          "84-LOR",
          "90-LOR",
          "95-LOR",
          "98-LOR"
         ],
         "textposition": "auto",
         "type": "bar",
         "x": [
          46800000,
          39600000,
          90000000,
          79200000,
          82800000,
          86400000,
          97200000
         ],
         "xaxis": "x",
         "y": [
          "M1",
          "M1",
          "M1",
          "M1",
          "M1",
          "M1",
          "M1"
         ],
         "yaxis": "y"
        },
        {
         "alignmentgroup": "True",
         "base": [
          "1970-01-04T11:00:00",
          "1970-01-05T00:00:00",
          "1970-01-05T20:00:00",
          "1970-01-06T22:00:00"
         ],
         "hovertemplate": "Type=j13<br>Start=%{base}<br>Finish=%{x}<br>Resource=%{y}<br>Step-Rule=%{text}<extra></extra>",
         "legendgroup": "j13",
         "marker": {
          "color": "#1616A7",
          "pattern": {
           "shape": ""
          }
         },
         "name": "j13",
         "offsetgroup": "j13",
         "orientation": "h",
         "showlegend": true,
         "text": [
          "32-LOR",
          "38-LOR",
          "48-LOR",
          "57-LOR"
         ],
         "textposition": "auto",
         "type": "bar",
         "x": [
          46800000,
          72000000,
          93600000,
          57600000
         ],
         "xaxis": "x",
         "y": [
          "M1",
          "M1",
          "M1",
          "M1"
         ],
         "yaxis": "y"
        },
        {
         "alignmentgroup": "True",
         "base": [
          "1970-01-03T00:00:00",
          "1970-01-04T01:00:00",
          "1970-01-04T19:00:00",
          "1970-01-07T09:00:00",
          "1970-01-02T14:00:00",
          "1970-01-03T16:00:00",
          "1970-01-06T16:00:00",
          "1970-01-09T12:00:00",
          "1970-01-02T23:00:00",
          "1970-01-04T01:00:00",
          "1970-01-05T00:00:00",
          "1970-01-07T01:00:00",
          "1970-01-10T04:00:00",
          "1970-01-02T11:00:00",
          "1970-01-03T14:00:00",
          "1970-01-05T23:00:00",
          "1970-01-08T17:00:00",
          "1970-01-03T04:00:00",
          "1970-01-04T04:00:00",
          "1970-01-05T19:00:00",
          "1970-01-08T14:00:00",
          "1970-01-12T13:00:00",
          "1970-01-02T19:00:00",
          "1970-01-03T21:00:00",
          "1970-01-04T11:00:00",
          "1970-01-07T14:00:00"
         ],
         "hovertemplate": "Type=setup<br>Start=%{base}<br>Finish=%{x}<br>Resource=%{y}<br>Step-Rule=%{text}<extra></extra>",
         "legendgroup": "setup",
         "marker": {
          "color": "#DA60CA",
          "pattern": {
           "shape": ""
          }
         },
         "name": "setup",
         "offsetgroup": "setup",
         "orientation": "h",
         "showlegend": true,
         "text": "",
         "textposition": "auto",
         "type": "bar",
         "width": 0.7,
         "x": [
          10800000,
          3600000,
          7200000,
          7200000,
          10800000,
          14400000,
          10800000,
          3600000,
          7200000,
          10800000,
          14400000,
          10800000,
          10800000,
          10800000,
          14400000,
          7200000,
          3600000,
          7200000,
          10800000,
          10800000,
          10800000,
          7200000,
          3600000,
          10800000,
          7200000,
          10800000
         ],
         "xaxis": "x",
         "y": [
          "M6",
          "M6",
          "M6",
          "M6",
          "M5",
          "M5",
          "M5",
          "M5",
          "M4",
          "M4",
          "M4",
          "M4",
          "M4",
          "M3",
          "M3",
          "M3",
          "M3",
          "M2",
          "M2",
          "M2",
          "M2",
          "M2",
          "M1",
          "M1",
          "M1",
          "M1"
         ],
         "yaxis": "y"
        }
       ],
       "layout": {
        "barmode": "overlay",
        "height": 800,
        "legend": {
         "title": {
          "text": "Type"
         },
         "tracegroupgap": 0
        },
        "margin": {
         "t": 60
        },
        "template": {
         "data": {
          "bar": [
           {
            "error_x": {
             "color": "rgb(36,36,36)"
            },
            "error_y": {
             "color": "rgb(36,36,36)"
            },
            "marker": {
             "line": {
              "color": "white",
              "width": 0.5
             },
             "pattern": {
              "fillmode": "overlay",
              "size": 10,
              "solidity": 0.2
             }
            },
            "type": "bar"
           }
          ],
          "barpolar": [
           {
            "marker": {
             "line": {
              "color": "white",
              "width": 0.5
             },
             "pattern": {
              "fillmode": "overlay",
              "size": 10,
              "solidity": 0.2
             }
            },
            "type": "barpolar"
           }
          ],
          "carpet": [
           {
            "aaxis": {
             "endlinecolor": "rgb(36,36,36)",
             "gridcolor": "white",
             "linecolor": "white",
             "minorgridcolor": "white",
             "startlinecolor": "rgb(36,36,36)"
            },
            "baxis": {
             "endlinecolor": "rgb(36,36,36)",
             "gridcolor": "white",
             "linecolor": "white",
             "minorgridcolor": "white",
             "startlinecolor": "rgb(36,36,36)"
            },
            "type": "carpet"
           }
          ],
          "choropleth": [
           {
            "colorbar": {
             "outlinewidth": 1,
             "tickcolor": "rgb(36,36,36)",
             "ticks": "outside"
            },
            "type": "choropleth"
           }
          ],
          "contour": [
           {
            "colorbar": {
             "outlinewidth": 1,
             "tickcolor": "rgb(36,36,36)",
             "ticks": "outside"
            },
            "colorscale": [
             [
              0,
              "#440154"
             ],
             [
              0.1111111111111111,
              "#482878"
             ],
             [
              0.2222222222222222,
              "#3e4989"
             ],
             [
              0.3333333333333333,
              "#31688e"
             ],
             [
              0.4444444444444444,
              "#26828e"
             ],
             [
              0.5555555555555556,
              "#1f9e89"
             ],
             [
              0.6666666666666666,
              "#35b779"
             ],
             [
              0.7777777777777778,
              "#6ece58"
             ],
             [
              0.8888888888888888,
              "#b5de2b"
             ],
             [
              1,
              "#fde725"
             ]
            ],
            "type": "contour"
           }
          ],
          "contourcarpet": [
           {
            "colorbar": {
             "outlinewidth": 1,
             "tickcolor": "rgb(36,36,36)",
             "ticks": "outside"
            },
            "type": "contourcarpet"
           }
          ],
          "heatmap": [
           {
            "colorbar": {
             "outlinewidth": 1,
             "tickcolor": "rgb(36,36,36)",
             "ticks": "outside"
            },
            "colorscale": [
             [
              0,
              "#440154"
             ],
             [
              0.1111111111111111,
              "#482878"
             ],
             [
              0.2222222222222222,
              "#3e4989"
             ],
             [
              0.3333333333333333,
              "#31688e"
             ],
             [
              0.4444444444444444,
              "#26828e"
             ],
             [
              0.5555555555555556,
              "#1f9e89"
             ],
             [
              0.6666666666666666,
              "#35b779"
             ],
             [
              0.7777777777777778,
              "#6ece58"
             ],
             [
              0.8888888888888888,
              "#b5de2b"
             ],
             [
              1,
              "#fde725"
             ]
            ],
            "type": "heatmap"
           }
          ],
          "heatmapgl": [
           {
            "colorbar": {
             "outlinewidth": 1,
             "tickcolor": "rgb(36,36,36)",
             "ticks": "outside"
            },
            "colorscale": [
             [
              0,
              "#440154"
             ],
             [
              0.1111111111111111,
              "#482878"
             ],
             [
              0.2222222222222222,
              "#3e4989"
             ],
             [
              0.3333333333333333,
              "#31688e"
             ],
             [
              0.4444444444444444,
              "#26828e"
             ],
             [
              0.5555555555555556,
              "#1f9e89"
             ],
             [
              0.6666666666666666,
              "#35b779"
             ],
             [
              0.7777777777777778,
              "#6ece58"
             ],
             [
              0.8888888888888888,
              "#b5de2b"
             ],
             [
              1,
              "#fde725"
             ]
            ],
            "type": "heatmapgl"
           }
          ],
          "histogram": [
           {
            "marker": {
             "line": {
              "color": "white",
              "width": 0.6
             }
            },
            "type": "histogram"
           }
          ],
          "histogram2d": [
           {
            "colorbar": {
             "outlinewidth": 1,
             "tickcolor": "rgb(36,36,36)",
             "ticks": "outside"
            },
            "colorscale": [
             [
              0,
              "#440154"
             ],
             [
              0.1111111111111111,
              "#482878"
             ],
             [
              0.2222222222222222,
              "#3e4989"
             ],
             [
              0.3333333333333333,
              "#31688e"
             ],
             [
              0.4444444444444444,
              "#26828e"
             ],
             [
              0.5555555555555556,
              "#1f9e89"
             ],
             [
              0.6666666666666666,
              "#35b779"
             ],
             [
              0.7777777777777778,
              "#6ece58"
             ],
             [
              0.8888888888888888,
              "#b5de2b"
             ],
             [
              1,
              "#fde725"
             ]
            ],
            "type": "histogram2d"
           }
          ],
          "histogram2dcontour": [
           {
            "colorbar": {
             "outlinewidth": 1,
             "tickcolor": "rgb(36,36,36)",
             "ticks": "outside"
            },
            "colorscale": [
             [
              0,
              "#440154"
             ],
             [
              0.1111111111111111,
              "#482878"
             ],
             [
              0.2222222222222222,
              "#3e4989"
             ],
             [
              0.3333333333333333,
              "#31688e"
             ],
             [
              0.4444444444444444,
              "#26828e"
             ],
             [
              0.5555555555555556,
              "#1f9e89"
             ],
             [
              0.6666666666666666,
              "#35b779"
             ],
             [
              0.7777777777777778,
              "#6ece58"
             ],
             [
              0.8888888888888888,
              "#b5de2b"
             ],
             [
              1,
              "#fde725"
             ]
            ],
            "type": "histogram2dcontour"
           }
          ],
          "mesh3d": [
           {
            "colorbar": {
             "outlinewidth": 1,
             "tickcolor": "rgb(36,36,36)",
             "ticks": "outside"
            },
            "type": "mesh3d"
           }
          ],
          "parcoords": [
           {
            "line": {
             "colorbar": {
              "outlinewidth": 1,
              "tickcolor": "rgb(36,36,36)",
              "ticks": "outside"
             }
            },
            "type": "parcoords"
           }
          ],
          "pie": [
           {
            "automargin": true,
            "type": "pie"
           }
          ],
          "scatter": [
           {
            "fillpattern": {
             "fillmode": "overlay",
             "size": 10,
             "solidity": 0.2
            },
            "type": "scatter"
           }
          ],
          "scatter3d": [
           {
            "line": {
             "colorbar": {
              "outlinewidth": 1,
              "tickcolor": "rgb(36,36,36)",
              "ticks": "outside"
             }
            },
            "marker": {
             "colorbar": {
              "outlinewidth": 1,
              "tickcolor": "rgb(36,36,36)",
              "ticks": "outside"
             }
            },
            "type": "scatter3d"
           }
          ],
          "scattercarpet": [
           {
            "marker": {
             "colorbar": {
              "outlinewidth": 1,
              "tickcolor": "rgb(36,36,36)",
              "ticks": "outside"
             }
            },
            "type": "scattercarpet"
           }
          ],
          "scattergeo": [
           {
            "marker": {
             "colorbar": {
              "outlinewidth": 1,
              "tickcolor": "rgb(36,36,36)",
              "ticks": "outside"
             }
            },
            "type": "scattergeo"
           }
          ],
          "scattergl": [
           {
            "marker": {
             "colorbar": {
              "outlinewidth": 1,
              "tickcolor": "rgb(36,36,36)",
              "ticks": "outside"
             }
            },
            "type": "scattergl"
           }
          ],
          "scattermapbox": [
           {
            "marker": {
             "colorbar": {
              "outlinewidth": 1,
              "tickcolor": "rgb(36,36,36)",
              "ticks": "outside"
             }
            },
            "type": "scattermapbox"
           }
          ],
          "scatterpolar": [
           {
            "marker": {
             "colorbar": {
              "outlinewidth": 1,
              "tickcolor": "rgb(36,36,36)",
              "ticks": "outside"
             }
            },
            "type": "scatterpolar"
           }
          ],
          "scatterpolargl": [
           {
            "marker": {
             "colorbar": {
              "outlinewidth": 1,
              "tickcolor": "rgb(36,36,36)",
              "ticks": "outside"
             }
            },
            "type": "scatterpolargl"
           }
          ],
          "scatterternary": [
           {
            "marker": {
             "colorbar": {
              "outlinewidth": 1,
              "tickcolor": "rgb(36,36,36)",
              "ticks": "outside"
             }
            },
            "type": "scatterternary"
           }
          ],
          "surface": [
           {
            "colorbar": {
             "outlinewidth": 1,
             "tickcolor": "rgb(36,36,36)",
             "ticks": "outside"
            },
            "colorscale": [
             [
              0,
              "#440154"
             ],
             [
              0.1111111111111111,
              "#482878"
             ],
             [
              0.2222222222222222,
              "#3e4989"
             ],
             [
              0.3333333333333333,
              "#31688e"
             ],
             [
              0.4444444444444444,
              "#26828e"
             ],
             [
              0.5555555555555556,
              "#1f9e89"
             ],
             [
              0.6666666666666666,
              "#35b779"
             ],
             [
              0.7777777777777778,
              "#6ece58"
             ],
             [
              0.8888888888888888,
              "#b5de2b"
             ],
             [
              1,
              "#fde725"
             ]
            ],
            "type": "surface"
           }
          ],
          "table": [
           {
            "cells": {
             "fill": {
              "color": "rgb(237,237,237)"
             },
             "line": {
              "color": "white"
             }
            },
            "header": {
             "fill": {
              "color": "rgb(217,217,217)"
             },
             "line": {
              "color": "white"
             }
            },
            "type": "table"
           }
          ]
         },
         "layout": {
          "annotationdefaults": {
           "arrowhead": 0,
           "arrowwidth": 1
          },
          "autotypenumbers": "strict",
          "coloraxis": {
           "colorbar": {
            "outlinewidth": 1,
            "tickcolor": "rgb(36,36,36)",
            "ticks": "outside"
           }
          },
          "colorscale": {
           "diverging": [
            [
             0,
             "rgb(103,0,31)"
            ],
            [
             0.1,
             "rgb(178,24,43)"
            ],
            [
             0.2,
             "rgb(214,96,77)"
            ],
            [
             0.3,
             "rgb(244,165,130)"
            ],
            [
             0.4,
             "rgb(253,219,199)"
            ],
            [
             0.5,
             "rgb(247,247,247)"
            ],
            [
             0.6,
             "rgb(209,229,240)"
            ],
            [
             0.7,
             "rgb(146,197,222)"
            ],
            [
             0.8,
             "rgb(67,147,195)"
            ],
            [
             0.9,
             "rgb(33,102,172)"
            ],
            [
             1,
             "rgb(5,48,97)"
            ]
           ],
           "sequential": [
            [
             0,
             "#440154"
            ],
            [
             0.1111111111111111,
             "#482878"
            ],
            [
             0.2222222222222222,
             "#3e4989"
            ],
            [
             0.3333333333333333,
             "#31688e"
            ],
            [
             0.4444444444444444,
             "#26828e"
            ],
            [
             0.5555555555555556,
             "#1f9e89"
            ],
            [
             0.6666666666666666,
             "#35b779"
            ],
            [
             0.7777777777777778,
             "#6ece58"
            ],
            [
             0.8888888888888888,
             "#b5de2b"
            ],
            [
             1,
             "#fde725"
            ]
           ],
           "sequentialminus": [
            [
             0,
             "#440154"
            ],
            [
             0.1111111111111111,
             "#482878"
            ],
            [
             0.2222222222222222,
             "#3e4989"
            ],
            [
             0.3333333333333333,
             "#31688e"
            ],
            [
             0.4444444444444444,
             "#26828e"
            ],
            [
             0.5555555555555556,
             "#1f9e89"
            ],
            [
             0.6666666666666666,
             "#35b779"
            ],
            [
             0.7777777777777778,
             "#6ece58"
            ],
            [
             0.8888888888888888,
             "#b5de2b"
            ],
            [
             1,
             "#fde725"
            ]
           ]
          },
          "colorway": [
           "#1F77B4",
           "#FF7F0E",
           "#2CA02C",
           "#D62728",
           "#9467BD",
           "#8C564B",
           "#E377C2",
           "#7F7F7F",
           "#BCBD22",
           "#17BECF"
          ],
          "font": {
           "color": "rgb(36,36,36)"
          },
          "geo": {
           "bgcolor": "white",
           "lakecolor": "white",
           "landcolor": "white",
           "showlakes": true,
           "showland": true,
           "subunitcolor": "white"
          },
          "hoverlabel": {
           "align": "left"
          },
          "hovermode": "closest",
          "mapbox": {
           "style": "light"
          },
          "paper_bgcolor": "white",
          "plot_bgcolor": "white",
          "polar": {
           "angularaxis": {
            "gridcolor": "rgb(232,232,232)",
            "linecolor": "rgb(36,36,36)",
            "showgrid": false,
            "showline": true,
            "ticks": "outside"
           },
           "bgcolor": "white",
           "radialaxis": {
            "gridcolor": "rgb(232,232,232)",
            "linecolor": "rgb(36,36,36)",
            "showgrid": false,
            "showline": true,
            "ticks": "outside"
           }
          },
          "scene": {
           "xaxis": {
            "backgroundcolor": "white",
            "gridcolor": "rgb(232,232,232)",
            "gridwidth": 2,
            "linecolor": "rgb(36,36,36)",
            "showbackground": true,
            "showgrid": false,
            "showline": true,
            "ticks": "outside",
            "zeroline": false,
            "zerolinecolor": "rgb(36,36,36)"
           },
           "yaxis": {
            "backgroundcolor": "white",
            "gridcolor": "rgb(232,232,232)",
            "gridwidth": 2,
            "linecolor": "rgb(36,36,36)",
            "showbackground": true,
            "showgrid": false,
            "showline": true,
            "ticks": "outside",
            "zeroline": false,
            "zerolinecolor": "rgb(36,36,36)"
           },
           "zaxis": {
            "backgroundcolor": "white",
            "gridcolor": "rgb(232,232,232)",
            "gridwidth": 2,
            "linecolor": "rgb(36,36,36)",
            "showbackground": true,
            "showgrid": false,
            "showline": true,
            "ticks": "outside",
            "zeroline": false,
            "zerolinecolor": "rgb(36,36,36)"
           }
          },
          "shapedefaults": {
           "fillcolor": "black",
           "line": {
            "width": 0
           },
           "opacity": 0.3
          },
          "ternary": {
           "aaxis": {
            "gridcolor": "rgb(232,232,232)",
            "linecolor": "rgb(36,36,36)",
            "showgrid": false,
            "showline": true,
            "ticks": "outside"
           },
           "baxis": {
            "gridcolor": "rgb(232,232,232)",
            "linecolor": "rgb(36,36,36)",
            "showgrid": false,
            "showline": true,
            "ticks": "outside"
           },
           "bgcolor": "white",
           "caxis": {
            "gridcolor": "rgb(232,232,232)",
            "linecolor": "rgb(36,36,36)",
            "showgrid": false,
            "showline": true,
            "ticks": "outside"
           }
          },
          "title": {
           "x": 0.05
          },
          "xaxis": {
           "automargin": true,
           "gridcolor": "rgb(232,232,232)",
           "linecolor": "rgb(36,36,36)",
           "showgrid": false,
           "showline": true,
           "ticks": "outside",
           "title": {
            "standoff": 15
           },
           "zeroline": false,
           "zerolinecolor": "rgb(36,36,36)"
          },
          "yaxis": {
           "automargin": true,
           "gridcolor": "rgb(232,232,232)",
           "linecolor": "rgb(36,36,36)",
           "showgrid": false,
           "showline": true,
           "ticks": "outside",
           "title": {
            "standoff": 15
           },
           "zeroline": false,
           "zerolinecolor": "rgb(36,36,36)"
          }
         }
        },
        "width": 2000,
        "xaxis": {
         "anchor": "y",
         "domain": [
          0,
          1
         ],
         "type": "date"
        },
        "yaxis": {
         "anchor": "x",
         "domain": [
          0,
          1
         ],
         "title": {
          "text": "Resource"
         }
        }
       }
      },
      "text/html": [
       "<div>                            <div id=\"799832d2-d170-410e-98d5-f2bffeb1d884\" class=\"plotly-graph-div\" style=\"height:800px; width:2000px;\"></div>            <script type=\"text/javascript\">                require([\"plotly\"], function(Plotly) {                    window.PLOTLYENV=window.PLOTLYENV || {};                                    if (document.getElementById(\"799832d2-d170-410e-98d5-f2bffeb1d884\")) {                    Plotly.newPlot(                        \"799832d2-d170-410e-98d5-f2bffeb1d884\",                        [{\"alignmentgroup\":\"True\",\"base\":[\"1970-01-07T09:00:00\",\"1970-01-07T21:00:00\",\"1970-01-08T15:00:00\",\"1970-01-09T12:00:00\",\"1970-01-10T04:00:00\",\"1970-01-10T14:00:00\",\"1970-01-03T04:00:00\"],\"hovertemplate\":\"Type=j19<br>Start=%{base}<br>Finish=%{x}<br>Resource=%{y}<br>Step-Rule=%{text}<extra></extra>\",\"legendgroup\":\"j19\",\"marker\":{\"color\":\"#2E91E5\",\"pattern\":{\"shape\":\"\"}},\"name\":\"j19\",\"offsetgroup\":\"j19\",\"orientation\":\"h\",\"showlegend\":true,\"text\":[\"61-LOR\",\"66-LOR\",\"78-LOR\",\"81-LOR\",\"87-LOR\",\"92-LOR\",\"24-LPT\"],\"textposition\":\"auto\",\"x\":[43200000.0,64800000.0,75600000.0,57600000.0,36000000.0,64800000.0,86400000.0],\"xaxis\":\"x\",\"y\":[\"M6\",\"M6\",\"M6\",\"M5\",\"M4\",\"M4\",\"M2\"],\"yaxis\":\"y\",\"type\":\"bar\"},{\"alignmentgroup\":\"True\",\"base\":[\"1970-01-03T00:00:00\",\"1970-01-04T19:00:00\",\"1970-01-05T07:00:00\",\"1970-01-05T20:00:00\",\"1970-01-06T13:00:00\"],\"hovertemplate\":\"Type=j18<br>Start=%{base}<br>Finish=%{x}<br>Resource=%{y}<br>Step-Rule=%{text}<extra></extra>\",\"legendgroup\":\"j18\",\"marker\":{\"color\":\"#E15F99\",\"pattern\":{\"shape\":\"\"}},\"name\":\"j18\",\"offsetgroup\":\"j18\",\"orientation\":\"h\",\"showlegend\":true,\"text\":[\"23-LPT\",\"34-LOR\",\"40-LOR\",\"49-LOR\",\"55-LOR\"],\"textposition\":\"auto\",\"x\":[90000000.0,43200000.0,46800000.0,61200000.0,72000000.0],\"xaxis\":\"x\",\"y\":[\"M6\",\"M6\",\"M6\",\"M6\",\"M6\"],\"yaxis\":\"y\",\"type\":\"bar\"},{\"alignmentgroup\":\"True\",\"base\":[\"1970-01-01T09:00:00\",\"1970-01-01T14:00:00\",\"1970-01-02T01:00:00\",\"1970-01-02T08:00:00\"],\"hovertemplate\":\"Type=j10<br>Start=%{base}<br>Finish=%{x}<br>Resource=%{y}<br>Step-Rule=%{text}<extra></extra>\",\"legendgroup\":\"j10\",\"marker\":{\"color\":\"#1CA71C\",\"pattern\":{\"shape\":\"\"}},\"name\":\"j10\",\"offsetgroup\":\"j10\",\"orientation\":\"h\",\"showlegend\":true,\"text\":[\"6-LOR\",\"7-LOR\",\"12-LOR\",\"16-LOR\"],\"textposition\":\"auto\",\"x\":[18000000.0,39600000.0,25200000.0,57600000.0],\"xaxis\":\"x\",\"y\":[\"M6\",\"M6\",\"M6\",\"M6\"],\"yaxis\":\"y\",\"type\":\"bar\"},{\"alignmentgroup\":\"True\",\"base\":[\"1970-01-04T01:00:00\",\"1970-01-04T10:00:00\",\"1970-01-01T09:00:00\",\"1970-01-02T03:00:00\"],\"hovertemplate\":\"Type=j1<br>Start=%{base}<br>Finish=%{x}<br>Resource=%{y}<br>Step-Rule=%{text}<extra></extra>\",\"legendgroup\":\"j1\",\"marker\":{\"color\":\"#FB0D0D\",\"pattern\":{\"shape\":\"\"}},\"name\":\"j1\",\"offsetgroup\":\"j1\",\"orientation\":\"h\",\"showlegend\":true,\"text\":[\"29-LOR\",\"31-LOR\",\"3-LOR\",\"14-LOR\"],\"textposition\":\"auto\",\"x\":[32400000.0,32400000.0,64800000.0,28800000.0],\"xaxis\":\"x\",\"y\":[\"M6\",\"M6\",\"M3\",\"M3\"],\"yaxis\":\"y\",\"type\":\"bar\"},{\"alignmentgroup\":\"True\",\"base\":[\"1970-01-01T09:00:00\",\"1970-01-01T15:00:00\",\"1970-01-01T20:00:00\",\"1970-01-04T01:00:00\"],\"hovertemplate\":\"Type=j8<br>Start=%{base}<br>Finish=%{x}<br>Resource=%{y}<br>Step-Rule=%{text}<extra></extra>\",\"legendgroup\":\"j8\",\"marker\":{\"color\":\"#DA16FF\",\"pattern\":{\"shape\":\"\"}},\"name\":\"j8\",\"offsetgroup\":\"j8\",\"orientation\":\"h\",\"showlegend\":true,\"text\":[\"5-LOR\",\"8-LOR\",\"10-LOR\",\"28-LOR\"],\"textposition\":\"auto\",\"x\":[21600000.0,18000000.0,64800000.0,82800000.0],\"xaxis\":\"x\",\"y\":[\"M5\",\"M5\",\"M5\",\"M4\"],\"yaxis\":\"y\",\"type\":\"bar\"},{\"alignmentgroup\":\"True\",\"base\":[\"1970-01-03T16:00:00\",\"1970-01-04T21:00:00\",\"1970-01-05T15:00:00\",\"1970-01-02T11:00:00\"],\"hovertemplate\":\"Type=j17<br>Start=%{base}<br>Finish=%{x}<br>Resource=%{y}<br>Step-Rule=%{text}<extra></extra>\",\"legendgroup\":\"j17\",\"marker\":{\"color\":\"#222A2A\",\"pattern\":{\"shape\":\"\"}},\"name\":\"j17\",\"offsetgroup\":\"j17\",\"orientation\":\"h\",\"showlegend\":true,\"text\":[\"26-LPT\",\"35-LOR\",\"44-LOR\",\"18-LPT\"],\"textposition\":\"auto\",\"x\":[104400000.0,64800000.0,90000000.0,97200000.0],\"xaxis\":\"x\",\"y\":[\"M5\",\"M5\",\"M5\",\"M3\"],\"yaxis\":\"y\",\"type\":\"bar\"},{\"alignmentgroup\":\"True\",\"base\":[\"1970-01-02T14:00:00\",\"1970-01-06T16:00:00\",\"1970-01-07T13:00:00\",\"1970-01-08T00:00:00\",\"1970-01-08T06:00:00\",\"1970-01-08T13:00:00\"],\"hovertemplate\":\"Type=j11<br>Start=%{base}<br>Finish=%{x}<br>Resource=%{y}<br>Step-Rule=%{text}<extra></extra>\",\"legendgroup\":\"j11\",\"marker\":{\"color\":\"#B68100\",\"pattern\":{\"shape\":\"\"}},\"name\":\"j11\",\"offsetgroup\":\"j11\",\"orientation\":\"h\",\"showlegend\":true,\"text\":[\"20-LPT\",\"56-LOR\",\"64-LOR\",\"69-LOR\",\"72-LOR\",\"74-LOR\"],\"textposition\":\"auto\",\"x\":[93600000.0,75600000.0,39600000.0,21600000.0,25200000.0,21600000.0],\"xaxis\":\"x\",\"y\":[\"M5\",\"M5\",\"M5\",\"M5\",\"M5\",\"M5\"],\"yaxis\":\"y\",\"type\":\"bar\"},{\"alignmentgroup\":\"True\",\"base\":[\"1970-01-05T00:00:00\",\"1970-01-05T10:00:00\",\"1970-01-05T16:00:00\",\"1970-01-05T23:00:00\",\"1970-01-06T07:00:00\"],\"hovertemplate\":\"Type=j4<br>Start=%{base}<br>Finish=%{x}<br>Resource=%{y}<br>Step-Rule=%{text}<extra></extra>\",\"legendgroup\":\"j4\",\"marker\":{\"color\":\"#750D86\",\"pattern\":{\"shape\":\"\"}},\"name\":\"j4\",\"offsetgroup\":\"j4\",\"orientation\":\"h\",\"showlegend\":true,\"text\":[\"37-LOR\",\"41-LOR\",\"45-LOR\",\"50-LOR\",\"52-LOR\"],\"textposition\":\"auto\",\"x\":[36000000.0,21600000.0,25200000.0,28800000.0,64800000.0],\"xaxis\":\"x\",\"y\":[\"M4\",\"M4\",\"M4\",\"M4\",\"M4\"],\"yaxis\":\"y\",\"type\":\"bar\"},{\"alignmentgroup\":\"True\",\"base\":[\"1970-01-01T09:00:00\",\"1970-01-01T21:00:00\",\"1970-01-02T06:00:00\",\"1970-01-02T13:00:00\"],\"hovertemplate\":\"Type=j3<br>Start=%{base}<br>Finish=%{x}<br>Resource=%{y}<br>Step-Rule=%{text}<extra></extra>\",\"legendgroup\":\"j3\",\"marker\":{\"color\":\"#EB663B\",\"pattern\":{\"shape\":\"\"}},\"name\":\"j3\",\"offsetgroup\":\"j3\",\"orientation\":\"h\",\"showlegend\":true,\"text\":[\"4-LOR\",\"11-LOR\",\"15-LOR\",\"19-LOR\"],\"textposition\":\"auto\",\"x\":[43200000.0,32400000.0,25200000.0,36000000.0],\"xaxis\":\"x\",\"y\":[\"M4\",\"M4\",\"M4\",\"M4\"],\"yaxis\":\"y\",\"type\":\"bar\"},{\"alignmentgroup\":\"True\",\"base\":[\"1970-01-07T01:00:00\",\"1970-01-07T12:00:00\",\"1970-01-08T00:00:00\",\"1970-01-08T14:00:00\",\"1970-01-09T13:00:00\",\"1970-01-02T19:00:00\"],\"hovertemplate\":\"Type=j20<br>Start=%{base}<br>Finish=%{x}<br>Resource=%{y}<br>Step-Rule=%{text}<extra></extra>\",\"legendgroup\":\"j20\",\"marker\":{\"color\":\"#511CFB\",\"pattern\":{\"shape\":\"\"}},\"name\":\"j20\",\"offsetgroup\":\"j20\",\"orientation\":\"h\",\"showlegend\":true,\"text\":[\"59-LOR\",\"63-LOR\",\"68-LOR\",\"75-LOR\",\"82-LOR\",\"21-LPT\"],\"textposition\":\"auto\",\"x\":[39600000.0,43200000.0,50400000.0,82800000.0,43200000.0,93600000.0],\"xaxis\":\"x\",\"y\":[\"M4\",\"M4\",\"M4\",\"M4\",\"M4\",\"M1\"],\"yaxis\":\"y\",\"type\":\"bar\"},{\"alignmentgroup\":\"True\",\"base\":[\"1970-01-02T23:00:00\",\"1970-01-04T04:00:00\",\"1970-01-04T21:00:00\",\"1970-01-05T11:00:00\"],\"hovertemplate\":\"Type=j14<br>Start=%{base}<br>Finish=%{x}<br>Resource=%{y}<br>Step-Rule=%{text}<extra></extra>\",\"legendgroup\":\"j14\",\"marker\":{\"color\":\"#00A08B\",\"pattern\":{\"shape\":\"\"}},\"name\":\"j14\",\"offsetgroup\":\"j14\",\"orientation\":\"h\",\"showlegend\":true,\"text\":[\"22-LPT\",\"30-LOR\",\"36-LOR\",\"42-LOR\"],\"textposition\":\"auto\",\"x\":[93600000.0,61200000.0,50400000.0,28800000.0],\"xaxis\":\"x\",\"y\":[\"M4\",\"M2\",\"M2\",\"M2\"],\"yaxis\":\"y\",\"type\":\"bar\"},{\"alignmentgroup\":\"True\",\"base\":[\"1970-01-05T23:00:00\",\"1970-01-06T11:00:00\",\"1970-01-07T00:00:00\",\"1970-01-07T12:00:00\",\"1970-01-08T02:00:00\"],\"hovertemplate\":\"Type=j9<br>Start=%{base}<br>Finish=%{x}<br>Resource=%{y}<br>Step-Rule=%{text}<extra></extra>\",\"legendgroup\":\"j9\",\"marker\":{\"color\":\"#FB00D1\",\"pattern\":{\"shape\":\"\"}},\"name\":\"j9\",\"offsetgroup\":\"j9\",\"orientation\":\"h\",\"showlegend\":true,\"text\":[\"51-LOR\",\"53-LOR\",\"58-LOR\",\"62-LOR\",\"70-LOR\"],\"textposition\":\"auto\",\"x\":[43200000.0,46800000.0,43200000.0,50400000.0,54000000.0],\"xaxis\":\"x\",\"y\":[\"M3\",\"M3\",\"M3\",\"M3\",\"M3\"],\"yaxis\":\"y\",\"type\":\"bar\"},{\"alignmentgroup\":\"True\",\"base\":[\"1970-01-08T17:00:00\",\"1970-01-09T13:00:00\",\"1970-01-09T19:00:00\",\"1970-01-10T09:00:00\",\"1970-01-10T22:00:00\",\"1970-01-11T19:00:00\",\"1970-01-12T13:00:00\",\"1970-01-13T06:00:00\"],\"hovertemplate\":\"Type=j16<br>Start=%{base}<br>Finish=%{x}<br>Resource=%{y}<br>Step-Rule=%{text}<extra></extra>\",\"legendgroup\":\"j16\",\"marker\":{\"color\":\"#FC0080\",\"pattern\":{\"shape\":\"\"}},\"name\":\"j16\",\"offsetgroup\":\"j16\",\"orientation\":\"h\",\"showlegend\":true,\"text\":[\"79-LOR\",\"83-LOR\",\"86-LOR\",\"89-LOR\",\"93-LOR\",\"97-LOR\",\"99-LOR\",\"100-LOR\"],\"textposition\":\"auto\",\"x\":[72000000.0,21600000.0,50400000.0,46800000.0,75600000.0,64800000.0,61200000.0,39600000.0],\"xaxis\":\"x\",\"y\":[\"M3\",\"M3\",\"M3\",\"M3\",\"M3\",\"M3\",\"M2\",\"M2\"],\"yaxis\":\"y\",\"type\":\"bar\"},{\"alignmentgroup\":\"True\",\"base\":[\"1970-01-03T14:00:00\",\"1970-01-04T13:00:00\",\"1970-01-05T01:00:00\",\"1970-01-05T12:00:00\",\"1970-01-05T17:00:00\"],\"hovertemplate\":\"Type=j12<br>Start=%{base}<br>Finish=%{x}<br>Resource=%{y}<br>Step-Rule=%{text}<extra></extra>\",\"legendgroup\":\"j12\",\"marker\":{\"color\":\"#B2828D\",\"pattern\":{\"shape\":\"\"}},\"name\":\"j12\",\"offsetgroup\":\"j12\",\"orientation\":\"h\",\"showlegend\":true,\"text\":[\"25-LPT\",\"33-LOR\",\"39-LOR\",\"43-LOR\",\"46-LOR\"],\"textposition\":\"auto\",\"x\":[82800000.0,43200000.0,39600000.0,18000000.0,21600000.0],\"xaxis\":\"x\",\"y\":[\"M3\",\"M3\",\"M3\",\"M3\",\"M3\"],\"yaxis\":\"y\",\"type\":\"bar\"},{\"alignmentgroup\":\"True\",\"base\":[\"1970-01-08T14:00:00\",\"1970-01-09T03:00:00\",\"1970-01-09T18:00:00\",\"1970-01-10T04:00:00\",\"1970-01-10T13:00:00\",\"1970-01-11T00:00:00\",\"1970-01-11T16:00:00\"],\"hovertemplate\":\"Type=j7<br>Start=%{base}<br>Finish=%{x}<br>Resource=%{y}<br>Step-Rule=%{text}<extra></extra>\",\"legendgroup\":\"j7\",\"marker\":{\"color\":\"#6C7C32\",\"pattern\":{\"shape\":\"\"}},\"name\":\"j7\",\"offsetgroup\":\"j7\",\"orientation\":\"h\",\"showlegend\":true,\"text\":[\"77-LOR\",\"80-LOR\",\"85-LOR\",\"88-LOR\",\"91-LOR\",\"94-LOR\",\"96-LOR\"],\"textposition\":\"auto\",\"x\":[46800000.0,54000000.0,36000000.0,32400000.0,39600000.0,57600000.0,72000000.0],\"xaxis\":\"x\",\"y\":[\"M2\",\"M2\",\"M2\",\"M2\",\"M2\",\"M2\",\"M2\"],\"yaxis\":\"y\",\"type\":\"bar\"},{\"alignmentgroup\":\"True\",\"base\":[\"1970-01-05T19:00:00\",\"1970-01-06T13:00:00\",\"1970-01-07T05:00:00\",\"1970-01-07T22:00:00\",\"1970-01-08T09:00:00\"],\"hovertemplate\":\"Type=j5<br>Start=%{base}<br>Finish=%{x}<br>Resource=%{y}<br>Step-Rule=%{text}<extra></extra>\",\"legendgroup\":\"j5\",\"marker\":{\"color\":\"#778AAE\",\"pattern\":{\"shape\":\"\"}},\"name\":\"j5\",\"offsetgroup\":\"j5\",\"orientation\":\"h\",\"showlegend\":true,\"text\":[\"47-LOR\",\"54-LOR\",\"60-LOR\",\"67-LOR\",\"73-LOR\"],\"textposition\":\"auto\",\"x\":[64800000.0,57600000.0,61200000.0,39600000.0,18000000.0],\"xaxis\":\"x\",\"y\":[\"M2\",\"M2\",\"M2\",\"M2\",\"M2\"],\"yaxis\":\"y\",\"type\":\"bar\"},{\"alignmentgroup\":\"True\",\"base\":[\"1970-01-01T09:00:00\",\"1970-01-02T02:00:00\",\"1970-01-02T10:00:00\"],\"hovertemplate\":\"Type=j15<br>Start=%{base}<br>Finish=%{x}<br>Resource=%{y}<br>Step-Rule=%{text}<extra></extra>\",\"legendgroup\":\"j15\",\"marker\":{\"color\":\"#862A16\",\"pattern\":{\"shape\":\"\"}},\"name\":\"j15\",\"offsetgroup\":\"j15\",\"orientation\":\"h\",\"showlegend\":true,\"text\":[\"2-LOR\",\"13-LOR\",\"17-LOR\"],\"textposition\":\"auto\",\"x\":[61200000.0,28800000.0,64800000.0],\"xaxis\":\"x\",\"y\":[\"M2\",\"M2\",\"M2\"],\"yaxis\":\"y\",\"type\":\"bar\"},{\"alignmentgroup\":\"True\",\"base\":[\"1970-01-01T09:00:00\",\"1970-01-01T20:00:00\",\"1970-01-03T21:00:00\"],\"hovertemplate\":\"Type=j6<br>Start=%{base}<br>Finish=%{x}<br>Resource=%{y}<br>Step-Rule=%{text}<extra></extra>\",\"legendgroup\":\"j6\",\"marker\":{\"color\":\"#A777F1\",\"pattern\":{\"shape\":\"\"}},\"name\":\"j6\",\"offsetgroup\":\"j6\",\"orientation\":\"h\",\"showlegend\":true,\"text\":[\"1-LOR\",\"9-LOR\",\"27-LOR\"],\"textposition\":\"auto\",\"x\":[39600000.0,82800000.0,50400000.0],\"xaxis\":\"x\",\"y\":[\"M1\",\"M1\",\"M1\"],\"yaxis\":\"y\",\"type\":\"bar\"},{\"alignmentgroup\":\"True\",\"base\":[\"1970-01-07T14:00:00\",\"1970-01-08T03:00:00\",\"1970-01-08T14:00:00\",\"1970-01-09T15:00:00\",\"1970-01-10T13:00:00\",\"1970-01-11T12:00:00\",\"1970-01-12T12:00:00\"],\"hovertemplate\":\"Type=j2<br>Start=%{base}<br>Finish=%{x}<br>Resource=%{y}<br>Step-Rule=%{text}<extra></extra>\",\"legendgroup\":\"j2\",\"marker\":{\"color\":\"#620042\",\"pattern\":{\"shape\":\"\"}},\"name\":\"j2\",\"offsetgroup\":\"j2\",\"orientation\":\"h\",\"showlegend\":true,\"text\":[\"65-LOR\",\"71-LOR\",\"76-LOR\",\"84-LOR\",\"90-LOR\",\"95-LOR\",\"98-LOR\"],\"textposition\":\"auto\",\"x\":[46800000.0,39600000.0,90000000.0,79200000.0,82800000.0,86400000.0,97200000.0],\"xaxis\":\"x\",\"y\":[\"M1\",\"M1\",\"M1\",\"M1\",\"M1\",\"M1\",\"M1\"],\"yaxis\":\"y\",\"type\":\"bar\"},{\"alignmentgroup\":\"True\",\"base\":[\"1970-01-04T11:00:00\",\"1970-01-05T00:00:00\",\"1970-01-05T20:00:00\",\"1970-01-06T22:00:00\"],\"hovertemplate\":\"Type=j13<br>Start=%{base}<br>Finish=%{x}<br>Resource=%{y}<br>Step-Rule=%{text}<extra></extra>\",\"legendgroup\":\"j13\",\"marker\":{\"color\":\"#1616A7\",\"pattern\":{\"shape\":\"\"}},\"name\":\"j13\",\"offsetgroup\":\"j13\",\"orientation\":\"h\",\"showlegend\":true,\"text\":[\"32-LOR\",\"38-LOR\",\"48-LOR\",\"57-LOR\"],\"textposition\":\"auto\",\"x\":[46800000.0,72000000.0,93600000.0,57600000.0],\"xaxis\":\"x\",\"y\":[\"M1\",\"M1\",\"M1\",\"M1\"],\"yaxis\":\"y\",\"type\":\"bar\"},{\"alignmentgroup\":\"True\",\"base\":[\"1970-01-03T00:00:00\",\"1970-01-04T01:00:00\",\"1970-01-04T19:00:00\",\"1970-01-07T09:00:00\",\"1970-01-02T14:00:00\",\"1970-01-03T16:00:00\",\"1970-01-06T16:00:00\",\"1970-01-09T12:00:00\",\"1970-01-02T23:00:00\",\"1970-01-04T01:00:00\",\"1970-01-05T00:00:00\",\"1970-01-07T01:00:00\",\"1970-01-10T04:00:00\",\"1970-01-02T11:00:00\",\"1970-01-03T14:00:00\",\"1970-01-05T23:00:00\",\"1970-01-08T17:00:00\",\"1970-01-03T04:00:00\",\"1970-01-04T04:00:00\",\"1970-01-05T19:00:00\",\"1970-01-08T14:00:00\",\"1970-01-12T13:00:00\",\"1970-01-02T19:00:00\",\"1970-01-03T21:00:00\",\"1970-01-04T11:00:00\",\"1970-01-07T14:00:00\"],\"hovertemplate\":\"Type=setup<br>Start=%{base}<br>Finish=%{x}<br>Resource=%{y}<br>Step-Rule=%{text}<extra></extra>\",\"legendgroup\":\"setup\",\"marker\":{\"color\":\"#DA60CA\",\"pattern\":{\"shape\":\"\"}},\"name\":\"setup\",\"offsetgroup\":\"setup\",\"orientation\":\"h\",\"showlegend\":true,\"text\":\"\",\"textposition\":\"auto\",\"x\":[10800000.0,3600000.0,7200000.0,7200000.0,10800000.0,14400000.0,10800000.0,3600000.0,7200000.0,10800000.0,14400000.0,10800000.0,10800000.0,10800000.0,14400000.0,7200000.0,3600000.0,7200000.0,10800000.0,10800000.0,10800000.0,7200000.0,3600000.0,10800000.0,7200000.0,10800000.0],\"xaxis\":\"x\",\"y\":[\"M6\",\"M6\",\"M6\",\"M6\",\"M5\",\"M5\",\"M5\",\"M5\",\"M4\",\"M4\",\"M4\",\"M4\",\"M4\",\"M3\",\"M3\",\"M3\",\"M3\",\"M2\",\"M2\",\"M2\",\"M2\",\"M2\",\"M1\",\"M1\",\"M1\",\"M1\"],\"yaxis\":\"y\",\"type\":\"bar\",\"width\":0.7}],                        {\"template\":{\"data\":{\"barpolar\":[{\"marker\":{\"line\":{\"color\":\"white\",\"width\":0.5},\"pattern\":{\"fillmode\":\"overlay\",\"size\":10,\"solidity\":0.2}},\"type\":\"barpolar\"}],\"bar\":[{\"error_x\":{\"color\":\"rgb(36,36,36)\"},\"error_y\":{\"color\":\"rgb(36,36,36)\"},\"marker\":{\"line\":{\"color\":\"white\",\"width\":0.5},\"pattern\":{\"fillmode\":\"overlay\",\"size\":10,\"solidity\":0.2}},\"type\":\"bar\"}],\"carpet\":[{\"aaxis\":{\"endlinecolor\":\"rgb(36,36,36)\",\"gridcolor\":\"white\",\"linecolor\":\"white\",\"minorgridcolor\":\"white\",\"startlinecolor\":\"rgb(36,36,36)\"},\"baxis\":{\"endlinecolor\":\"rgb(36,36,36)\",\"gridcolor\":\"white\",\"linecolor\":\"white\",\"minorgridcolor\":\"white\",\"startlinecolor\":\"rgb(36,36,36)\"},\"type\":\"carpet\"}],\"choropleth\":[{\"colorbar\":{\"outlinewidth\":1,\"tickcolor\":\"rgb(36,36,36)\",\"ticks\":\"outside\"},\"type\":\"choropleth\"}],\"contourcarpet\":[{\"colorbar\":{\"outlinewidth\":1,\"tickcolor\":\"rgb(36,36,36)\",\"ticks\":\"outside\"},\"type\":\"contourcarpet\"}],\"contour\":[{\"colorbar\":{\"outlinewidth\":1,\"tickcolor\":\"rgb(36,36,36)\",\"ticks\":\"outside\"},\"colorscale\":[[0.0,\"#440154\"],[0.1111111111111111,\"#482878\"],[0.2222222222222222,\"#3e4989\"],[0.3333333333333333,\"#31688e\"],[0.4444444444444444,\"#26828e\"],[0.5555555555555556,\"#1f9e89\"],[0.6666666666666666,\"#35b779\"],[0.7777777777777778,\"#6ece58\"],[0.8888888888888888,\"#b5de2b\"],[1.0,\"#fde725\"]],\"type\":\"contour\"}],\"heatmapgl\":[{\"colorbar\":{\"outlinewidth\":1,\"tickcolor\":\"rgb(36,36,36)\",\"ticks\":\"outside\"},\"colorscale\":[[0.0,\"#440154\"],[0.1111111111111111,\"#482878\"],[0.2222222222222222,\"#3e4989\"],[0.3333333333333333,\"#31688e\"],[0.4444444444444444,\"#26828e\"],[0.5555555555555556,\"#1f9e89\"],[0.6666666666666666,\"#35b779\"],[0.7777777777777778,\"#6ece58\"],[0.8888888888888888,\"#b5de2b\"],[1.0,\"#fde725\"]],\"type\":\"heatmapgl\"}],\"heatmap\":[{\"colorbar\":{\"outlinewidth\":1,\"tickcolor\":\"rgb(36,36,36)\",\"ticks\":\"outside\"},\"colorscale\":[[0.0,\"#440154\"],[0.1111111111111111,\"#482878\"],[0.2222222222222222,\"#3e4989\"],[0.3333333333333333,\"#31688e\"],[0.4444444444444444,\"#26828e\"],[0.5555555555555556,\"#1f9e89\"],[0.6666666666666666,\"#35b779\"],[0.7777777777777778,\"#6ece58\"],[0.8888888888888888,\"#b5de2b\"],[1.0,\"#fde725\"]],\"type\":\"heatmap\"}],\"histogram2dcontour\":[{\"colorbar\":{\"outlinewidth\":1,\"tickcolor\":\"rgb(36,36,36)\",\"ticks\":\"outside\"},\"colorscale\":[[0.0,\"#440154\"],[0.1111111111111111,\"#482878\"],[0.2222222222222222,\"#3e4989\"],[0.3333333333333333,\"#31688e\"],[0.4444444444444444,\"#26828e\"],[0.5555555555555556,\"#1f9e89\"],[0.6666666666666666,\"#35b779\"],[0.7777777777777778,\"#6ece58\"],[0.8888888888888888,\"#b5de2b\"],[1.0,\"#fde725\"]],\"type\":\"histogram2dcontour\"}],\"histogram2d\":[{\"colorbar\":{\"outlinewidth\":1,\"tickcolor\":\"rgb(36,36,36)\",\"ticks\":\"outside\"},\"colorscale\":[[0.0,\"#440154\"],[0.1111111111111111,\"#482878\"],[0.2222222222222222,\"#3e4989\"],[0.3333333333333333,\"#31688e\"],[0.4444444444444444,\"#26828e\"],[0.5555555555555556,\"#1f9e89\"],[0.6666666666666666,\"#35b779\"],[0.7777777777777778,\"#6ece58\"],[0.8888888888888888,\"#b5de2b\"],[1.0,\"#fde725\"]],\"type\":\"histogram2d\"}],\"histogram\":[{\"marker\":{\"line\":{\"color\":\"white\",\"width\":0.6}},\"type\":\"histogram\"}],\"mesh3d\":[{\"colorbar\":{\"outlinewidth\":1,\"tickcolor\":\"rgb(36,36,36)\",\"ticks\":\"outside\"},\"type\":\"mesh3d\"}],\"parcoords\":[{\"line\":{\"colorbar\":{\"outlinewidth\":1,\"tickcolor\":\"rgb(36,36,36)\",\"ticks\":\"outside\"}},\"type\":\"parcoords\"}],\"pie\":[{\"automargin\":true,\"type\":\"pie\"}],\"scatter3d\":[{\"line\":{\"colorbar\":{\"outlinewidth\":1,\"tickcolor\":\"rgb(36,36,36)\",\"ticks\":\"outside\"}},\"marker\":{\"colorbar\":{\"outlinewidth\":1,\"tickcolor\":\"rgb(36,36,36)\",\"ticks\":\"outside\"}},\"type\":\"scatter3d\"}],\"scattercarpet\":[{\"marker\":{\"colorbar\":{\"outlinewidth\":1,\"tickcolor\":\"rgb(36,36,36)\",\"ticks\":\"outside\"}},\"type\":\"scattercarpet\"}],\"scattergeo\":[{\"marker\":{\"colorbar\":{\"outlinewidth\":1,\"tickcolor\":\"rgb(36,36,36)\",\"ticks\":\"outside\"}},\"type\":\"scattergeo\"}],\"scattergl\":[{\"marker\":{\"colorbar\":{\"outlinewidth\":1,\"tickcolor\":\"rgb(36,36,36)\",\"ticks\":\"outside\"}},\"type\":\"scattergl\"}],\"scattermapbox\":[{\"marker\":{\"colorbar\":{\"outlinewidth\":1,\"tickcolor\":\"rgb(36,36,36)\",\"ticks\":\"outside\"}},\"type\":\"scattermapbox\"}],\"scatterpolargl\":[{\"marker\":{\"colorbar\":{\"outlinewidth\":1,\"tickcolor\":\"rgb(36,36,36)\",\"ticks\":\"outside\"}},\"type\":\"scatterpolargl\"}],\"scatterpolar\":[{\"marker\":{\"colorbar\":{\"outlinewidth\":1,\"tickcolor\":\"rgb(36,36,36)\",\"ticks\":\"outside\"}},\"type\":\"scatterpolar\"}],\"scatter\":[{\"fillpattern\":{\"fillmode\":\"overlay\",\"size\":10,\"solidity\":0.2},\"type\":\"scatter\"}],\"scatterternary\":[{\"marker\":{\"colorbar\":{\"outlinewidth\":1,\"tickcolor\":\"rgb(36,36,36)\",\"ticks\":\"outside\"}},\"type\":\"scatterternary\"}],\"surface\":[{\"colorbar\":{\"outlinewidth\":1,\"tickcolor\":\"rgb(36,36,36)\",\"ticks\":\"outside\"},\"colorscale\":[[0.0,\"#440154\"],[0.1111111111111111,\"#482878\"],[0.2222222222222222,\"#3e4989\"],[0.3333333333333333,\"#31688e\"],[0.4444444444444444,\"#26828e\"],[0.5555555555555556,\"#1f9e89\"],[0.6666666666666666,\"#35b779\"],[0.7777777777777778,\"#6ece58\"],[0.8888888888888888,\"#b5de2b\"],[1.0,\"#fde725\"]],\"type\":\"surface\"}],\"table\":[{\"cells\":{\"fill\":{\"color\":\"rgb(237,237,237)\"},\"line\":{\"color\":\"white\"}},\"header\":{\"fill\":{\"color\":\"rgb(217,217,217)\"},\"line\":{\"color\":\"white\"}},\"type\":\"table\"}]},\"layout\":{\"annotationdefaults\":{\"arrowhead\":0,\"arrowwidth\":1},\"autotypenumbers\":\"strict\",\"coloraxis\":{\"colorbar\":{\"outlinewidth\":1,\"tickcolor\":\"rgb(36,36,36)\",\"ticks\":\"outside\"}},\"colorscale\":{\"diverging\":[[0.0,\"rgb(103,0,31)\"],[0.1,\"rgb(178,24,43)\"],[0.2,\"rgb(214,96,77)\"],[0.3,\"rgb(244,165,130)\"],[0.4,\"rgb(253,219,199)\"],[0.5,\"rgb(247,247,247)\"],[0.6,\"rgb(209,229,240)\"],[0.7,\"rgb(146,197,222)\"],[0.8,\"rgb(67,147,195)\"],[0.9,\"rgb(33,102,172)\"],[1.0,\"rgb(5,48,97)\"]],\"sequential\":[[0.0,\"#440154\"],[0.1111111111111111,\"#482878\"],[0.2222222222222222,\"#3e4989\"],[0.3333333333333333,\"#31688e\"],[0.4444444444444444,\"#26828e\"],[0.5555555555555556,\"#1f9e89\"],[0.6666666666666666,\"#35b779\"],[0.7777777777777778,\"#6ece58\"],[0.8888888888888888,\"#b5de2b\"],[1.0,\"#fde725\"]],\"sequentialminus\":[[0.0,\"#440154\"],[0.1111111111111111,\"#482878\"],[0.2222222222222222,\"#3e4989\"],[0.3333333333333333,\"#31688e\"],[0.4444444444444444,\"#26828e\"],[0.5555555555555556,\"#1f9e89\"],[0.6666666666666666,\"#35b779\"],[0.7777777777777778,\"#6ece58\"],[0.8888888888888888,\"#b5de2b\"],[1.0,\"#fde725\"]]},\"colorway\":[\"#1F77B4\",\"#FF7F0E\",\"#2CA02C\",\"#D62728\",\"#9467BD\",\"#8C564B\",\"#E377C2\",\"#7F7F7F\",\"#BCBD22\",\"#17BECF\"],\"font\":{\"color\":\"rgb(36,36,36)\"},\"geo\":{\"bgcolor\":\"white\",\"lakecolor\":\"white\",\"landcolor\":\"white\",\"showlakes\":true,\"showland\":true,\"subunitcolor\":\"white\"},\"hoverlabel\":{\"align\":\"left\"},\"hovermode\":\"closest\",\"mapbox\":{\"style\":\"light\"},\"paper_bgcolor\":\"white\",\"plot_bgcolor\":\"white\",\"polar\":{\"angularaxis\":{\"gridcolor\":\"rgb(232,232,232)\",\"linecolor\":\"rgb(36,36,36)\",\"showgrid\":false,\"showline\":true,\"ticks\":\"outside\"},\"bgcolor\":\"white\",\"radialaxis\":{\"gridcolor\":\"rgb(232,232,232)\",\"linecolor\":\"rgb(36,36,36)\",\"showgrid\":false,\"showline\":true,\"ticks\":\"outside\"}},\"scene\":{\"xaxis\":{\"backgroundcolor\":\"white\",\"gridcolor\":\"rgb(232,232,232)\",\"gridwidth\":2,\"linecolor\":\"rgb(36,36,36)\",\"showbackground\":true,\"showgrid\":false,\"showline\":true,\"ticks\":\"outside\",\"zeroline\":false,\"zerolinecolor\":\"rgb(36,36,36)\"},\"yaxis\":{\"backgroundcolor\":\"white\",\"gridcolor\":\"rgb(232,232,232)\",\"gridwidth\":2,\"linecolor\":\"rgb(36,36,36)\",\"showbackground\":true,\"showgrid\":false,\"showline\":true,\"ticks\":\"outside\",\"zeroline\":false,\"zerolinecolor\":\"rgb(36,36,36)\"},\"zaxis\":{\"backgroundcolor\":\"white\",\"gridcolor\":\"rgb(232,232,232)\",\"gridwidth\":2,\"linecolor\":\"rgb(36,36,36)\",\"showbackground\":true,\"showgrid\":false,\"showline\":true,\"ticks\":\"outside\",\"zeroline\":false,\"zerolinecolor\":\"rgb(36,36,36)\"}},\"shapedefaults\":{\"fillcolor\":\"black\",\"line\":{\"width\":0},\"opacity\":0.3},\"ternary\":{\"aaxis\":{\"gridcolor\":\"rgb(232,232,232)\",\"linecolor\":\"rgb(36,36,36)\",\"showgrid\":false,\"showline\":true,\"ticks\":\"outside\"},\"baxis\":{\"gridcolor\":\"rgb(232,232,232)\",\"linecolor\":\"rgb(36,36,36)\",\"showgrid\":false,\"showline\":true,\"ticks\":\"outside\"},\"bgcolor\":\"white\",\"caxis\":{\"gridcolor\":\"rgb(232,232,232)\",\"linecolor\":\"rgb(36,36,36)\",\"showgrid\":false,\"showline\":true,\"ticks\":\"outside\"}},\"title\":{\"x\":0.05},\"xaxis\":{\"automargin\":true,\"gridcolor\":\"rgb(232,232,232)\",\"linecolor\":\"rgb(36,36,36)\",\"showgrid\":false,\"showline\":true,\"ticks\":\"outside\",\"title\":{\"standoff\":15},\"zeroline\":false,\"zerolinecolor\":\"rgb(36,36,36)\"},\"yaxis\":{\"automargin\":true,\"gridcolor\":\"rgb(232,232,232)\",\"linecolor\":\"rgb(36,36,36)\",\"showgrid\":false,\"showline\":true,\"ticks\":\"outside\",\"title\":{\"standoff\":15},\"zeroline\":false,\"zerolinecolor\":\"rgb(36,36,36)\"}}},\"xaxis\":{\"anchor\":\"y\",\"domain\":[0.0,1.0],\"type\":\"date\"},\"yaxis\":{\"anchor\":\"x\",\"domain\":[0.0,1.0],\"title\":{\"text\":\"Resource\"}},\"legend\":{\"title\":{\"text\":\"Type\"},\"tracegroupgap\":0},\"margin\":{\"t\":60},\"barmode\":\"overlay\",\"height\":800,\"width\":2000},                        {\"responsive\": true}                    ).then(function(){\n",
       "                            \n",
       "var gd = document.getElementById('799832d2-d170-410e-98d5-f2bffeb1d884');\n",
       "var x = new MutationObserver(function (mutations, observer) {{\n",
       "        var display = window.getComputedStyle(gd).display;\n",
       "        if (!display || display === 'none') {{\n",
       "            console.log([gd, 'removed!']);\n",
       "            Plotly.purge(gd);\n",
       "            observer.disconnect();\n",
       "        }}\n",
       "}});\n",
       "\n",
       "// Listen for the removal of the full notebook cells\n",
       "var notebookContainer = gd.closest('#notebook-container');\n",
       "if (notebookContainer) {{\n",
       "    x.observe(notebookContainer, {childList: true});\n",
       "}}\n",
       "\n",
       "// Listen for the clearing of the current output cell\n",
       "var outputEl = gd.closest('.output');\n",
       "if (outputEl) {{\n",
       "    x.observe(outputEl, {childList: true});\n",
       "}}\n",
       "\n",
       "                        })                };                });            </script>        </div>"
      ]
     },
     "metadata": {},
     "output_type": "display_data"
    },
    {
     "data": {
      "application/vnd.plotly.v1+json": {
       "config": {
        "plotlyServerURL": "https://plot.ly"
       },
       "data": [
        {
         "alignmentgroup": "True",
         "base": [
          "1970-01-07T09:00:00",
          "1970-01-07T21:00:00",
          "1970-01-08T15:00:00",
          "1970-01-04T19:00:00",
          "1970-01-05T07:00:00",
          "1970-01-05T20:00:00",
          "1970-01-06T13:00:00",
          "1970-01-01T09:00:00",
          "1970-01-01T14:00:00",
          "1970-01-02T01:00:00",
          "1970-01-02T08:00:00",
          "1970-01-04T01:00:00",
          "1970-01-04T10:00:00",
          "1970-01-01T09:00:00",
          "1970-01-01T15:00:00",
          "1970-01-01T20:00:00",
          "1970-01-09T12:00:00",
          "1970-01-04T21:00:00",
          "1970-01-05T15:00:00",
          "1970-01-06T16:00:00",
          "1970-01-07T13:00:00",
          "1970-01-08T00:00:00",
          "1970-01-08T06:00:00",
          "1970-01-08T13:00:00",
          "1970-01-04T01:00:00",
          "1970-01-05T00:00:00",
          "1970-01-05T10:00:00",
          "1970-01-05T16:00:00",
          "1970-01-05T23:00:00",
          "1970-01-06T07:00:00",
          "1970-01-01T09:00:00",
          "1970-01-01T21:00:00",
          "1970-01-02T06:00:00",
          "1970-01-02T13:00:00",
          "1970-01-07T01:00:00",
          "1970-01-07T12:00:00",
          "1970-01-08T00:00:00",
          "1970-01-08T14:00:00",
          "1970-01-09T13:00:00",
          "1970-01-10T04:00:00",
          "1970-01-10T14:00:00",
          "1970-01-05T23:00:00",
          "1970-01-06T11:00:00",
          "1970-01-07T00:00:00",
          "1970-01-07T12:00:00",
          "1970-01-08T02:00:00",
          "1970-01-08T17:00:00",
          "1970-01-09T13:00:00",
          "1970-01-09T19:00:00",
          "1970-01-10T09:00:00",
          "1970-01-10T22:00:00",
          "1970-01-11T19:00:00",
          "1970-01-04T13:00:00",
          "1970-01-05T01:00:00",
          "1970-01-05T12:00:00",
          "1970-01-05T17:00:00",
          "1970-01-01T09:00:00",
          "1970-01-02T03:00:00",
          "1970-01-08T14:00:00",
          "1970-01-09T03:00:00",
          "1970-01-09T18:00:00",
          "1970-01-10T04:00:00",
          "1970-01-10T13:00:00",
          "1970-01-11T00:00:00",
          "1970-01-11T16:00:00",
          "1970-01-05T19:00:00",
          "1970-01-06T13:00:00",
          "1970-01-07T05:00:00",
          "1970-01-07T22:00:00",
          "1970-01-08T09:00:00",
          "1970-01-12T13:00:00",
          "1970-01-13T06:00:00",
          "1970-01-01T09:00:00",
          "1970-01-02T02:00:00",
          "1970-01-02T10:00:00",
          "1970-01-04T04:00:00",
          "1970-01-04T21:00:00",
          "1970-01-05T11:00:00",
          "1970-01-01T09:00:00",
          "1970-01-01T20:00:00",
          "1970-01-03T21:00:00",
          "1970-01-07T14:00:00",
          "1970-01-08T03:00:00",
          "1970-01-08T14:00:00",
          "1970-01-09T15:00:00",
          "1970-01-10T13:00:00",
          "1970-01-11T12:00:00",
          "1970-01-12T12:00:00",
          "1970-01-04T11:00:00",
          "1970-01-05T00:00:00",
          "1970-01-05T20:00:00",
          "1970-01-06T22:00:00"
         ],
         "hovertemplate": "Rule=%{y}<br>Start=%{base}<br>Finish=%{x}<br>Step-Rule=%{text}<extra></extra>",
         "legendgroup": "LOR",
         "marker": {
          "color": "#2E91E5",
          "pattern": {
           "shape": ""
          }
         },
         "name": "LOR",
         "offsetgroup": "LOR",
         "orientation": "h",
         "showlegend": true,
         "text": [
          "61-LOR",
          "66-LOR",
          "78-LOR",
          "34-LOR",
          "40-LOR",
          "49-LOR",
          "55-LOR",
          "6-LOR",
          "7-LOR",
          "12-LOR",
          "16-LOR",
          "29-LOR",
          "31-LOR",
          "5-LOR",
          "8-LOR",
          "10-LOR",
          "81-LOR",
          "35-LOR",
          "44-LOR",
          "56-LOR",
          "64-LOR",
          "69-LOR",
          "72-LOR",
          "74-LOR",
          "28-LOR",
          "37-LOR",
          "41-LOR",
          "45-LOR",
          "50-LOR",
          "52-LOR",
          "4-LOR",
          "11-LOR",
          "15-LOR",
          "19-LOR",
          "59-LOR",
          "63-LOR",
          "68-LOR",
          "75-LOR",
          "82-LOR",
          "87-LOR",
          "92-LOR",
          "51-LOR",
          "53-LOR",
          "58-LOR",
          "62-LOR",
          "70-LOR",
          "79-LOR",
          "83-LOR",
          "86-LOR",
          "89-LOR",
          "93-LOR",
          "97-LOR",
          "33-LOR",
          "39-LOR",
          "43-LOR",
          "46-LOR",
          "3-LOR",
          "14-LOR",
          "77-LOR",
          "80-LOR",
          "85-LOR",
          "88-LOR",
          "91-LOR",
          "94-LOR",
          "96-LOR",
          "47-LOR",
          "54-LOR",
          "60-LOR",
          "67-LOR",
          "73-LOR",
          "99-LOR",
          "100-LOR",
          "2-LOR",
          "13-LOR",
          "17-LOR",
          "30-LOR",
          "36-LOR",
          "42-LOR",
          "1-LOR",
          "9-LOR",
          "27-LOR",
          "65-LOR",
          "71-LOR",
          "76-LOR",
          "84-LOR",
          "90-LOR",
          "95-LOR",
          "98-LOR",
          "32-LOR",
          "38-LOR",
          "48-LOR",
          "57-LOR"
         ],
         "textposition": "auto",
         "type": "bar",
         "x": [
          43200000,
          64800000,
          75600000,
          43200000,
          46800000,
          61200000,
          72000000,
          18000000,
          39600000,
          25200000,
          57600000,
          32400000,
          32400000,
          21600000,
          18000000,
          64800000,
          57600000,
          64800000,
          90000000,
          75600000,
          39600000,
          21600000,
          25200000,
          21600000,
          82800000,
          36000000,
          21600000,
          25200000,
          28800000,
          64800000,
          43200000,
          32400000,
          25200000,
          36000000,
          39600000,
          43200000,
          50400000,
          82800000,
          43200000,
          36000000,
          64800000,
          43200000,
          46800000,
          43200000,
          50400000,
          54000000,
          72000000,
          21600000,
          50400000,
          46800000,
          75600000,
          64800000,
          43200000,
          39600000,
          18000000,
          21600000,
          64800000,
          28800000,
          46800000,
          54000000,
          36000000,
          32400000,
          39600000,
          57600000,
          72000000,
          64800000,
          57600000,
          61200000,
          39600000,
          18000000,
          61200000,
          39600000,
          61200000,
          28800000,
          64800000,
          61200000,
          50400000,
          28800000,
          39600000,
          82800000,
          50400000,
          46800000,
          39600000,
          90000000,
          79200000,
          82800000,
          86400000,
          97200000,
          46800000,
          72000000,
          93600000,
          57600000
         ],
         "xaxis": "x",
         "y": [
          "LOR",
          "LOR",
          "LOR",
          "LOR",
          "LOR",
          "LOR",
          "LOR",
          "LOR",
          "LOR",
          "LOR",
          "LOR",
          "LOR",
          "LOR",
          "LOR",
          "LOR",
          "LOR",
          "LOR",
          "LOR",
          "LOR",
          "LOR",
          "LOR",
          "LOR",
          "LOR",
          "LOR",
          "LOR",
          "LOR",
          "LOR",
          "LOR",
          "LOR",
          "LOR",
          "LOR",
          "LOR",
          "LOR",
          "LOR",
          "LOR",
          "LOR",
          "LOR",
          "LOR",
          "LOR",
          "LOR",
          "LOR",
          "LOR",
          "LOR",
          "LOR",
          "LOR",
          "LOR",
          "LOR",
          "LOR",
          "LOR",
          "LOR",
          "LOR",
          "LOR",
          "LOR",
          "LOR",
          "LOR",
          "LOR",
          "LOR",
          "LOR",
          "LOR",
          "LOR",
          "LOR",
          "LOR",
          "LOR",
          "LOR",
          "LOR",
          "LOR",
          "LOR",
          "LOR",
          "LOR",
          "LOR",
          "LOR",
          "LOR",
          "LOR",
          "LOR",
          "LOR",
          "LOR",
          "LOR",
          "LOR",
          "LOR",
          "LOR",
          "LOR",
          "LOR",
          "LOR",
          "LOR",
          "LOR",
          "LOR",
          "LOR",
          "LOR",
          "LOR",
          "LOR",
          "LOR",
          "LOR"
         ],
         "yaxis": "y"
        },
        {
         "alignmentgroup": "True",
         "base": [
          "1970-01-03T00:00:00",
          "1970-01-03T16:00:00",
          "1970-01-02T14:00:00",
          "1970-01-02T23:00:00",
          "1970-01-02T11:00:00",
          "1970-01-03T14:00:00",
          "1970-01-03T04:00:00",
          "1970-01-02T19:00:00"
         ],
         "hovertemplate": "Rule=%{y}<br>Start=%{base}<br>Finish=%{x}<br>Step-Rule=%{text}<extra></extra>",
         "legendgroup": "LPT",
         "marker": {
          "color": "#E15F99",
          "pattern": {
           "shape": ""
          }
         },
         "name": "LPT",
         "offsetgroup": "LPT",
         "orientation": "h",
         "showlegend": true,
         "text": [
          "23-LPT",
          "26-LPT",
          "20-LPT",
          "22-LPT",
          "18-LPT",
          "25-LPT",
          "24-LPT",
          "21-LPT"
         ],
         "textposition": "auto",
         "type": "bar",
         "x": [
          90000000,
          104400000,
          93600000,
          93600000,
          97200000,
          82800000,
          86400000,
          93600000
         ],
         "xaxis": "x",
         "y": [
          "LPT",
          "LPT",
          "LPT",
          "LPT",
          "LPT",
          "LPT",
          "LPT",
          "LPT"
         ],
         "yaxis": "y"
        },
        {
         "alignmentgroup": "True",
         "base": [
          "1970-01-03T00:00:00",
          "1970-01-04T01:00:00",
          "1970-01-04T19:00:00",
          "1970-01-07T09:00:00",
          "1970-01-02T14:00:00",
          "1970-01-03T16:00:00",
          "1970-01-06T16:00:00",
          "1970-01-09T12:00:00",
          "1970-01-02T23:00:00",
          "1970-01-04T01:00:00",
          "1970-01-05T00:00:00",
          "1970-01-07T01:00:00",
          "1970-01-10T04:00:00",
          "1970-01-02T11:00:00",
          "1970-01-03T14:00:00",
          "1970-01-05T23:00:00",
          "1970-01-08T17:00:00",
          "1970-01-03T04:00:00",
          "1970-01-04T04:00:00",
          "1970-01-05T19:00:00",
          "1970-01-08T14:00:00",
          "1970-01-12T13:00:00",
          "1970-01-02T19:00:00",
          "1970-01-03T21:00:00",
          "1970-01-04T11:00:00",
          "1970-01-07T14:00:00"
         ],
         "hovertemplate": "Rule=%{y}<br>Start=%{base}<br>Finish=%{x}<br>Step-Rule=%{text}<extra></extra>",
         "legendgroup": "NONE",
         "marker": {
          "color": "#1CA71C",
          "pattern": {
           "shape": ""
          }
         },
         "name": "NONE",
         "offsetgroup": "NONE",
         "orientation": "h",
         "showlegend": true,
         "text": [
          "23-NONE",
          "29-NONE",
          "34-NONE",
          "61-NONE",
          "20-NONE",
          "26-NONE",
          "56-NONE",
          "81-NONE",
          "22-NONE",
          "28-NONE",
          "37-NONE",
          "59-NONE",
          "87-NONE",
          "18-NONE",
          "25-NONE",
          "51-NONE",
          "79-NONE",
          "24-NONE",
          "30-NONE",
          "47-NONE",
          "77-NONE",
          "99-NONE",
          "21-NONE",
          "27-NONE",
          "32-NONE",
          "65-NONE"
         ],
         "textposition": "auto",
         "type": "bar",
         "x": [
          10800000,
          3600000,
          7200000,
          7200000,
          10800000,
          14400000,
          10800000,
          3600000,
          7200000,
          10800000,
          14400000,
          10800000,
          10800000,
          10800000,
          14400000,
          7200000,
          3600000,
          7200000,
          10800000,
          10800000,
          10800000,
          7200000,
          3600000,
          10800000,
          7200000,
          10800000
         ],
         "xaxis": "x",
         "y": [
          "NONE",
          "NONE",
          "NONE",
          "NONE",
          "NONE",
          "NONE",
          "NONE",
          "NONE",
          "NONE",
          "NONE",
          "NONE",
          "NONE",
          "NONE",
          "NONE",
          "NONE",
          "NONE",
          "NONE",
          "NONE",
          "NONE",
          "NONE",
          "NONE",
          "NONE",
          "NONE",
          "NONE",
          "NONE",
          "NONE"
         ],
         "yaxis": "y"
        }
       ],
       "layout": {
        "barmode": "overlay",
        "height": 800,
        "legend": {
         "title": {
          "text": "Rule"
         },
         "tracegroupgap": 0
        },
        "margin": {
         "t": 60
        },
        "template": {
         "data": {
          "bar": [
           {
            "error_x": {
             "color": "rgb(36,36,36)"
            },
            "error_y": {
             "color": "rgb(36,36,36)"
            },
            "marker": {
             "line": {
              "color": "white",
              "width": 0.5
             },
             "pattern": {
              "fillmode": "overlay",
              "size": 10,
              "solidity": 0.2
             }
            },
            "type": "bar"
           }
          ],
          "barpolar": [
           {
            "marker": {
             "line": {
              "color": "white",
              "width": 0.5
             },
             "pattern": {
              "fillmode": "overlay",
              "size": 10,
              "solidity": 0.2
             }
            },
            "type": "barpolar"
           }
          ],
          "carpet": [
           {
            "aaxis": {
             "endlinecolor": "rgb(36,36,36)",
             "gridcolor": "white",
             "linecolor": "white",
             "minorgridcolor": "white",
             "startlinecolor": "rgb(36,36,36)"
            },
            "baxis": {
             "endlinecolor": "rgb(36,36,36)",
             "gridcolor": "white",
             "linecolor": "white",
             "minorgridcolor": "white",
             "startlinecolor": "rgb(36,36,36)"
            },
            "type": "carpet"
           }
          ],
          "choropleth": [
           {
            "colorbar": {
             "outlinewidth": 1,
             "tickcolor": "rgb(36,36,36)",
             "ticks": "outside"
            },
            "type": "choropleth"
           }
          ],
          "contour": [
           {
            "colorbar": {
             "outlinewidth": 1,
             "tickcolor": "rgb(36,36,36)",
             "ticks": "outside"
            },
            "colorscale": [
             [
              0,
              "#440154"
             ],
             [
              0.1111111111111111,
              "#482878"
             ],
             [
              0.2222222222222222,
              "#3e4989"
             ],
             [
              0.3333333333333333,
              "#31688e"
             ],
             [
              0.4444444444444444,
              "#26828e"
             ],
             [
              0.5555555555555556,
              "#1f9e89"
             ],
             [
              0.6666666666666666,
              "#35b779"
             ],
             [
              0.7777777777777778,
              "#6ece58"
             ],
             [
              0.8888888888888888,
              "#b5de2b"
             ],
             [
              1,
              "#fde725"
             ]
            ],
            "type": "contour"
           }
          ],
          "contourcarpet": [
           {
            "colorbar": {
             "outlinewidth": 1,
             "tickcolor": "rgb(36,36,36)",
             "ticks": "outside"
            },
            "type": "contourcarpet"
           }
          ],
          "heatmap": [
           {
            "colorbar": {
             "outlinewidth": 1,
             "tickcolor": "rgb(36,36,36)",
             "ticks": "outside"
            },
            "colorscale": [
             [
              0,
              "#440154"
             ],
             [
              0.1111111111111111,
              "#482878"
             ],
             [
              0.2222222222222222,
              "#3e4989"
             ],
             [
              0.3333333333333333,
              "#31688e"
             ],
             [
              0.4444444444444444,
              "#26828e"
             ],
             [
              0.5555555555555556,
              "#1f9e89"
             ],
             [
              0.6666666666666666,
              "#35b779"
             ],
             [
              0.7777777777777778,
              "#6ece58"
             ],
             [
              0.8888888888888888,
              "#b5de2b"
             ],
             [
              1,
              "#fde725"
             ]
            ],
            "type": "heatmap"
           }
          ],
          "heatmapgl": [
           {
            "colorbar": {
             "outlinewidth": 1,
             "tickcolor": "rgb(36,36,36)",
             "ticks": "outside"
            },
            "colorscale": [
             [
              0,
              "#440154"
             ],
             [
              0.1111111111111111,
              "#482878"
             ],
             [
              0.2222222222222222,
              "#3e4989"
             ],
             [
              0.3333333333333333,
              "#31688e"
             ],
             [
              0.4444444444444444,
              "#26828e"
             ],
             [
              0.5555555555555556,
              "#1f9e89"
             ],
             [
              0.6666666666666666,
              "#35b779"
             ],
             [
              0.7777777777777778,
              "#6ece58"
             ],
             [
              0.8888888888888888,
              "#b5de2b"
             ],
             [
              1,
              "#fde725"
             ]
            ],
            "type": "heatmapgl"
           }
          ],
          "histogram": [
           {
            "marker": {
             "line": {
              "color": "white",
              "width": 0.6
             }
            },
            "type": "histogram"
           }
          ],
          "histogram2d": [
           {
            "colorbar": {
             "outlinewidth": 1,
             "tickcolor": "rgb(36,36,36)",
             "ticks": "outside"
            },
            "colorscale": [
             [
              0,
              "#440154"
             ],
             [
              0.1111111111111111,
              "#482878"
             ],
             [
              0.2222222222222222,
              "#3e4989"
             ],
             [
              0.3333333333333333,
              "#31688e"
             ],
             [
              0.4444444444444444,
              "#26828e"
             ],
             [
              0.5555555555555556,
              "#1f9e89"
             ],
             [
              0.6666666666666666,
              "#35b779"
             ],
             [
              0.7777777777777778,
              "#6ece58"
             ],
             [
              0.8888888888888888,
              "#b5de2b"
             ],
             [
              1,
              "#fde725"
             ]
            ],
            "type": "histogram2d"
           }
          ],
          "histogram2dcontour": [
           {
            "colorbar": {
             "outlinewidth": 1,
             "tickcolor": "rgb(36,36,36)",
             "ticks": "outside"
            },
            "colorscale": [
             [
              0,
              "#440154"
             ],
             [
              0.1111111111111111,
              "#482878"
             ],
             [
              0.2222222222222222,
              "#3e4989"
             ],
             [
              0.3333333333333333,
              "#31688e"
             ],
             [
              0.4444444444444444,
              "#26828e"
             ],
             [
              0.5555555555555556,
              "#1f9e89"
             ],
             [
              0.6666666666666666,
              "#35b779"
             ],
             [
              0.7777777777777778,
              "#6ece58"
             ],
             [
              0.8888888888888888,
              "#b5de2b"
             ],
             [
              1,
              "#fde725"
             ]
            ],
            "type": "histogram2dcontour"
           }
          ],
          "mesh3d": [
           {
            "colorbar": {
             "outlinewidth": 1,
             "tickcolor": "rgb(36,36,36)",
             "ticks": "outside"
            },
            "type": "mesh3d"
           }
          ],
          "parcoords": [
           {
            "line": {
             "colorbar": {
              "outlinewidth": 1,
              "tickcolor": "rgb(36,36,36)",
              "ticks": "outside"
             }
            },
            "type": "parcoords"
           }
          ],
          "pie": [
           {
            "automargin": true,
            "type": "pie"
           }
          ],
          "scatter": [
           {
            "fillpattern": {
             "fillmode": "overlay",
             "size": 10,
             "solidity": 0.2
            },
            "type": "scatter"
           }
          ],
          "scatter3d": [
           {
            "line": {
             "colorbar": {
              "outlinewidth": 1,
              "tickcolor": "rgb(36,36,36)",
              "ticks": "outside"
             }
            },
            "marker": {
             "colorbar": {
              "outlinewidth": 1,
              "tickcolor": "rgb(36,36,36)",
              "ticks": "outside"
             }
            },
            "type": "scatter3d"
           }
          ],
          "scattercarpet": [
           {
            "marker": {
             "colorbar": {
              "outlinewidth": 1,
              "tickcolor": "rgb(36,36,36)",
              "ticks": "outside"
             }
            },
            "type": "scattercarpet"
           }
          ],
          "scattergeo": [
           {
            "marker": {
             "colorbar": {
              "outlinewidth": 1,
              "tickcolor": "rgb(36,36,36)",
              "ticks": "outside"
             }
            },
            "type": "scattergeo"
           }
          ],
          "scattergl": [
           {
            "marker": {
             "colorbar": {
              "outlinewidth": 1,
              "tickcolor": "rgb(36,36,36)",
              "ticks": "outside"
             }
            },
            "type": "scattergl"
           }
          ],
          "scattermapbox": [
           {
            "marker": {
             "colorbar": {
              "outlinewidth": 1,
              "tickcolor": "rgb(36,36,36)",
              "ticks": "outside"
             }
            },
            "type": "scattermapbox"
           }
          ],
          "scatterpolar": [
           {
            "marker": {
             "colorbar": {
              "outlinewidth": 1,
              "tickcolor": "rgb(36,36,36)",
              "ticks": "outside"
             }
            },
            "type": "scatterpolar"
           }
          ],
          "scatterpolargl": [
           {
            "marker": {
             "colorbar": {
              "outlinewidth": 1,
              "tickcolor": "rgb(36,36,36)",
              "ticks": "outside"
             }
            },
            "type": "scatterpolargl"
           }
          ],
          "scatterternary": [
           {
            "marker": {
             "colorbar": {
              "outlinewidth": 1,
              "tickcolor": "rgb(36,36,36)",
              "ticks": "outside"
             }
            },
            "type": "scatterternary"
           }
          ],
          "surface": [
           {
            "colorbar": {
             "outlinewidth": 1,
             "tickcolor": "rgb(36,36,36)",
             "ticks": "outside"
            },
            "colorscale": [
             [
              0,
              "#440154"
             ],
             [
              0.1111111111111111,
              "#482878"
             ],
             [
              0.2222222222222222,
              "#3e4989"
             ],
             [
              0.3333333333333333,
              "#31688e"
             ],
             [
              0.4444444444444444,
              "#26828e"
             ],
             [
              0.5555555555555556,
              "#1f9e89"
             ],
             [
              0.6666666666666666,
              "#35b779"
             ],
             [
              0.7777777777777778,
              "#6ece58"
             ],
             [
              0.8888888888888888,
              "#b5de2b"
             ],
             [
              1,
              "#fde725"
             ]
            ],
            "type": "surface"
           }
          ],
          "table": [
           {
            "cells": {
             "fill": {
              "color": "rgb(237,237,237)"
             },
             "line": {
              "color": "white"
             }
            },
            "header": {
             "fill": {
              "color": "rgb(217,217,217)"
             },
             "line": {
              "color": "white"
             }
            },
            "type": "table"
           }
          ]
         },
         "layout": {
          "annotationdefaults": {
           "arrowhead": 0,
           "arrowwidth": 1
          },
          "autotypenumbers": "strict",
          "coloraxis": {
           "colorbar": {
            "outlinewidth": 1,
            "tickcolor": "rgb(36,36,36)",
            "ticks": "outside"
           }
          },
          "colorscale": {
           "diverging": [
            [
             0,
             "rgb(103,0,31)"
            ],
            [
             0.1,
             "rgb(178,24,43)"
            ],
            [
             0.2,
             "rgb(214,96,77)"
            ],
            [
             0.3,
             "rgb(244,165,130)"
            ],
            [
             0.4,
             "rgb(253,219,199)"
            ],
            [
             0.5,
             "rgb(247,247,247)"
            ],
            [
             0.6,
             "rgb(209,229,240)"
            ],
            [
             0.7,
             "rgb(146,197,222)"
            ],
            [
             0.8,
             "rgb(67,147,195)"
            ],
            [
             0.9,
             "rgb(33,102,172)"
            ],
            [
             1,
             "rgb(5,48,97)"
            ]
           ],
           "sequential": [
            [
             0,
             "#440154"
            ],
            [
             0.1111111111111111,
             "#482878"
            ],
            [
             0.2222222222222222,
             "#3e4989"
            ],
            [
             0.3333333333333333,
             "#31688e"
            ],
            [
             0.4444444444444444,
             "#26828e"
            ],
            [
             0.5555555555555556,
             "#1f9e89"
            ],
            [
             0.6666666666666666,
             "#35b779"
            ],
            [
             0.7777777777777778,
             "#6ece58"
            ],
            [
             0.8888888888888888,
             "#b5de2b"
            ],
            [
             1,
             "#fde725"
            ]
           ],
           "sequentialminus": [
            [
             0,
             "#440154"
            ],
            [
             0.1111111111111111,
             "#482878"
            ],
            [
             0.2222222222222222,
             "#3e4989"
            ],
            [
             0.3333333333333333,
             "#31688e"
            ],
            [
             0.4444444444444444,
             "#26828e"
            ],
            [
             0.5555555555555556,
             "#1f9e89"
            ],
            [
             0.6666666666666666,
             "#35b779"
            ],
            [
             0.7777777777777778,
             "#6ece58"
            ],
            [
             0.8888888888888888,
             "#b5de2b"
            ],
            [
             1,
             "#fde725"
            ]
           ]
          },
          "colorway": [
           "#1F77B4",
           "#FF7F0E",
           "#2CA02C",
           "#D62728",
           "#9467BD",
           "#8C564B",
           "#E377C2",
           "#7F7F7F",
           "#BCBD22",
           "#17BECF"
          ],
          "font": {
           "color": "rgb(36,36,36)"
          },
          "geo": {
           "bgcolor": "white",
           "lakecolor": "white",
           "landcolor": "white",
           "showlakes": true,
           "showland": true,
           "subunitcolor": "white"
          },
          "hoverlabel": {
           "align": "left"
          },
          "hovermode": "closest",
          "mapbox": {
           "style": "light"
          },
          "paper_bgcolor": "white",
          "plot_bgcolor": "white",
          "polar": {
           "angularaxis": {
            "gridcolor": "rgb(232,232,232)",
            "linecolor": "rgb(36,36,36)",
            "showgrid": false,
            "showline": true,
            "ticks": "outside"
           },
           "bgcolor": "white",
           "radialaxis": {
            "gridcolor": "rgb(232,232,232)",
            "linecolor": "rgb(36,36,36)",
            "showgrid": false,
            "showline": true,
            "ticks": "outside"
           }
          },
          "scene": {
           "xaxis": {
            "backgroundcolor": "white",
            "gridcolor": "rgb(232,232,232)",
            "gridwidth": 2,
            "linecolor": "rgb(36,36,36)",
            "showbackground": true,
            "showgrid": false,
            "showline": true,
            "ticks": "outside",
            "zeroline": false,
            "zerolinecolor": "rgb(36,36,36)"
           },
           "yaxis": {
            "backgroundcolor": "white",
            "gridcolor": "rgb(232,232,232)",
            "gridwidth": 2,
            "linecolor": "rgb(36,36,36)",
            "showbackground": true,
            "showgrid": false,
            "showline": true,
            "ticks": "outside",
            "zeroline": false,
            "zerolinecolor": "rgb(36,36,36)"
           },
           "zaxis": {
            "backgroundcolor": "white",
            "gridcolor": "rgb(232,232,232)",
            "gridwidth": 2,
            "linecolor": "rgb(36,36,36)",
            "showbackground": true,
            "showgrid": false,
            "showline": true,
            "ticks": "outside",
            "zeroline": false,
            "zerolinecolor": "rgb(36,36,36)"
           }
          },
          "shapedefaults": {
           "fillcolor": "black",
           "line": {
            "width": 0
           },
           "opacity": 0.3
          },
          "ternary": {
           "aaxis": {
            "gridcolor": "rgb(232,232,232)",
            "linecolor": "rgb(36,36,36)",
            "showgrid": false,
            "showline": true,
            "ticks": "outside"
           },
           "baxis": {
            "gridcolor": "rgb(232,232,232)",
            "linecolor": "rgb(36,36,36)",
            "showgrid": false,
            "showline": true,
            "ticks": "outside"
           },
           "bgcolor": "white",
           "caxis": {
            "gridcolor": "rgb(232,232,232)",
            "linecolor": "rgb(36,36,36)",
            "showgrid": false,
            "showline": true,
            "ticks": "outside"
           }
          },
          "title": {
           "x": 0.05
          },
          "xaxis": {
           "automargin": true,
           "gridcolor": "rgb(232,232,232)",
           "linecolor": "rgb(36,36,36)",
           "showgrid": false,
           "showline": true,
           "ticks": "outside",
           "title": {
            "standoff": 15
           },
           "zeroline": false,
           "zerolinecolor": "rgb(36,36,36)"
          },
          "yaxis": {
           "automargin": true,
           "gridcolor": "rgb(232,232,232)",
           "linecolor": "rgb(36,36,36)",
           "showgrid": false,
           "showline": true,
           "ticks": "outside",
           "title": {
            "standoff": 15
           },
           "zeroline": false,
           "zerolinecolor": "rgb(36,36,36)"
          }
         }
        },
        "width": 2000,
        "xaxis": {
         "anchor": "y",
         "domain": [
          0,
          1
         ],
         "type": "date"
        },
        "yaxis": {
         "anchor": "x",
         "categoryarray": [
          "NONE",
          "LPT",
          "LOR"
         ],
         "categoryorder": "array",
         "domain": [
          0,
          1
         ],
         "title": {
          "text": "Rule"
         }
        }
       }
      },
      "text/html": [
       "<div>                            <div id=\"808f23df-d311-4dca-902f-ee290d03370b\" class=\"plotly-graph-div\" style=\"height:800px; width:2000px;\"></div>            <script type=\"text/javascript\">                require([\"plotly\"], function(Plotly) {                    window.PLOTLYENV=window.PLOTLYENV || {};                                    if (document.getElementById(\"808f23df-d311-4dca-902f-ee290d03370b\")) {                    Plotly.newPlot(                        \"808f23df-d311-4dca-902f-ee290d03370b\",                        [{\"alignmentgroup\":\"True\",\"base\":[\"1970-01-07T09:00:00\",\"1970-01-07T21:00:00\",\"1970-01-08T15:00:00\",\"1970-01-04T19:00:00\",\"1970-01-05T07:00:00\",\"1970-01-05T20:00:00\",\"1970-01-06T13:00:00\",\"1970-01-01T09:00:00\",\"1970-01-01T14:00:00\",\"1970-01-02T01:00:00\",\"1970-01-02T08:00:00\",\"1970-01-04T01:00:00\",\"1970-01-04T10:00:00\",\"1970-01-01T09:00:00\",\"1970-01-01T15:00:00\",\"1970-01-01T20:00:00\",\"1970-01-09T12:00:00\",\"1970-01-04T21:00:00\",\"1970-01-05T15:00:00\",\"1970-01-06T16:00:00\",\"1970-01-07T13:00:00\",\"1970-01-08T00:00:00\",\"1970-01-08T06:00:00\",\"1970-01-08T13:00:00\",\"1970-01-04T01:00:00\",\"1970-01-05T00:00:00\",\"1970-01-05T10:00:00\",\"1970-01-05T16:00:00\",\"1970-01-05T23:00:00\",\"1970-01-06T07:00:00\",\"1970-01-01T09:00:00\",\"1970-01-01T21:00:00\",\"1970-01-02T06:00:00\",\"1970-01-02T13:00:00\",\"1970-01-07T01:00:00\",\"1970-01-07T12:00:00\",\"1970-01-08T00:00:00\",\"1970-01-08T14:00:00\",\"1970-01-09T13:00:00\",\"1970-01-10T04:00:00\",\"1970-01-10T14:00:00\",\"1970-01-05T23:00:00\",\"1970-01-06T11:00:00\",\"1970-01-07T00:00:00\",\"1970-01-07T12:00:00\",\"1970-01-08T02:00:00\",\"1970-01-08T17:00:00\",\"1970-01-09T13:00:00\",\"1970-01-09T19:00:00\",\"1970-01-10T09:00:00\",\"1970-01-10T22:00:00\",\"1970-01-11T19:00:00\",\"1970-01-04T13:00:00\",\"1970-01-05T01:00:00\",\"1970-01-05T12:00:00\",\"1970-01-05T17:00:00\",\"1970-01-01T09:00:00\",\"1970-01-02T03:00:00\",\"1970-01-08T14:00:00\",\"1970-01-09T03:00:00\",\"1970-01-09T18:00:00\",\"1970-01-10T04:00:00\",\"1970-01-10T13:00:00\",\"1970-01-11T00:00:00\",\"1970-01-11T16:00:00\",\"1970-01-05T19:00:00\",\"1970-01-06T13:00:00\",\"1970-01-07T05:00:00\",\"1970-01-07T22:00:00\",\"1970-01-08T09:00:00\",\"1970-01-12T13:00:00\",\"1970-01-13T06:00:00\",\"1970-01-01T09:00:00\",\"1970-01-02T02:00:00\",\"1970-01-02T10:00:00\",\"1970-01-04T04:00:00\",\"1970-01-04T21:00:00\",\"1970-01-05T11:00:00\",\"1970-01-01T09:00:00\",\"1970-01-01T20:00:00\",\"1970-01-03T21:00:00\",\"1970-01-07T14:00:00\",\"1970-01-08T03:00:00\",\"1970-01-08T14:00:00\",\"1970-01-09T15:00:00\",\"1970-01-10T13:00:00\",\"1970-01-11T12:00:00\",\"1970-01-12T12:00:00\",\"1970-01-04T11:00:00\",\"1970-01-05T00:00:00\",\"1970-01-05T20:00:00\",\"1970-01-06T22:00:00\"],\"hovertemplate\":\"Rule=%{y}<br>Start=%{base}<br>Finish=%{x}<br>Step-Rule=%{text}<extra></extra>\",\"legendgroup\":\"LOR\",\"marker\":{\"color\":\"#2E91E5\",\"pattern\":{\"shape\":\"\"}},\"name\":\"LOR\",\"offsetgroup\":\"LOR\",\"orientation\":\"h\",\"showlegend\":true,\"text\":[\"61-LOR\",\"66-LOR\",\"78-LOR\",\"34-LOR\",\"40-LOR\",\"49-LOR\",\"55-LOR\",\"6-LOR\",\"7-LOR\",\"12-LOR\",\"16-LOR\",\"29-LOR\",\"31-LOR\",\"5-LOR\",\"8-LOR\",\"10-LOR\",\"81-LOR\",\"35-LOR\",\"44-LOR\",\"56-LOR\",\"64-LOR\",\"69-LOR\",\"72-LOR\",\"74-LOR\",\"28-LOR\",\"37-LOR\",\"41-LOR\",\"45-LOR\",\"50-LOR\",\"52-LOR\",\"4-LOR\",\"11-LOR\",\"15-LOR\",\"19-LOR\",\"59-LOR\",\"63-LOR\",\"68-LOR\",\"75-LOR\",\"82-LOR\",\"87-LOR\",\"92-LOR\",\"51-LOR\",\"53-LOR\",\"58-LOR\",\"62-LOR\",\"70-LOR\",\"79-LOR\",\"83-LOR\",\"86-LOR\",\"89-LOR\",\"93-LOR\",\"97-LOR\",\"33-LOR\",\"39-LOR\",\"43-LOR\",\"46-LOR\",\"3-LOR\",\"14-LOR\",\"77-LOR\",\"80-LOR\",\"85-LOR\",\"88-LOR\",\"91-LOR\",\"94-LOR\",\"96-LOR\",\"47-LOR\",\"54-LOR\",\"60-LOR\",\"67-LOR\",\"73-LOR\",\"99-LOR\",\"100-LOR\",\"2-LOR\",\"13-LOR\",\"17-LOR\",\"30-LOR\",\"36-LOR\",\"42-LOR\",\"1-LOR\",\"9-LOR\",\"27-LOR\",\"65-LOR\",\"71-LOR\",\"76-LOR\",\"84-LOR\",\"90-LOR\",\"95-LOR\",\"98-LOR\",\"32-LOR\",\"38-LOR\",\"48-LOR\",\"57-LOR\"],\"textposition\":\"auto\",\"x\":[43200000.0,64800000.0,75600000.0,43200000.0,46800000.0,61200000.0,72000000.0,18000000.0,39600000.0,25200000.0,57600000.0,32400000.0,32400000.0,21600000.0,18000000.0,64800000.0,57600000.0,64800000.0,90000000.0,75600000.0,39600000.0,21600000.0,25200000.0,21600000.0,82800000.0,36000000.0,21600000.0,25200000.0,28800000.0,64800000.0,43200000.0,32400000.0,25200000.0,36000000.0,39600000.0,43200000.0,50400000.0,82800000.0,43200000.0,36000000.0,64800000.0,43200000.0,46800000.0,43200000.0,50400000.0,54000000.0,72000000.0,21600000.0,50400000.0,46800000.0,75600000.0,64800000.0,43200000.0,39600000.0,18000000.0,21600000.0,64800000.0,28800000.0,46800000.0,54000000.0,36000000.0,32400000.0,39600000.0,57600000.0,72000000.0,64800000.0,57600000.0,61200000.0,39600000.0,18000000.0,61200000.0,39600000.0,61200000.0,28800000.0,64800000.0,61200000.0,50400000.0,28800000.0,39600000.0,82800000.0,50400000.0,46800000.0,39600000.0,90000000.0,79200000.0,82800000.0,86400000.0,97200000.0,46800000.0,72000000.0,93600000.0,57600000.0],\"xaxis\":\"x\",\"y\":[\"LOR\",\"LOR\",\"LOR\",\"LOR\",\"LOR\",\"LOR\",\"LOR\",\"LOR\",\"LOR\",\"LOR\",\"LOR\",\"LOR\",\"LOR\",\"LOR\",\"LOR\",\"LOR\",\"LOR\",\"LOR\",\"LOR\",\"LOR\",\"LOR\",\"LOR\",\"LOR\",\"LOR\",\"LOR\",\"LOR\",\"LOR\",\"LOR\",\"LOR\",\"LOR\",\"LOR\",\"LOR\",\"LOR\",\"LOR\",\"LOR\",\"LOR\",\"LOR\",\"LOR\",\"LOR\",\"LOR\",\"LOR\",\"LOR\",\"LOR\",\"LOR\",\"LOR\",\"LOR\",\"LOR\",\"LOR\",\"LOR\",\"LOR\",\"LOR\",\"LOR\",\"LOR\",\"LOR\",\"LOR\",\"LOR\",\"LOR\",\"LOR\",\"LOR\",\"LOR\",\"LOR\",\"LOR\",\"LOR\",\"LOR\",\"LOR\",\"LOR\",\"LOR\",\"LOR\",\"LOR\",\"LOR\",\"LOR\",\"LOR\",\"LOR\",\"LOR\",\"LOR\",\"LOR\",\"LOR\",\"LOR\",\"LOR\",\"LOR\",\"LOR\",\"LOR\",\"LOR\",\"LOR\",\"LOR\",\"LOR\",\"LOR\",\"LOR\",\"LOR\",\"LOR\",\"LOR\",\"LOR\"],\"yaxis\":\"y\",\"type\":\"bar\"},{\"alignmentgroup\":\"True\",\"base\":[\"1970-01-03T00:00:00\",\"1970-01-03T16:00:00\",\"1970-01-02T14:00:00\",\"1970-01-02T23:00:00\",\"1970-01-02T11:00:00\",\"1970-01-03T14:00:00\",\"1970-01-03T04:00:00\",\"1970-01-02T19:00:00\"],\"hovertemplate\":\"Rule=%{y}<br>Start=%{base}<br>Finish=%{x}<br>Step-Rule=%{text}<extra></extra>\",\"legendgroup\":\"LPT\",\"marker\":{\"color\":\"#E15F99\",\"pattern\":{\"shape\":\"\"}},\"name\":\"LPT\",\"offsetgroup\":\"LPT\",\"orientation\":\"h\",\"showlegend\":true,\"text\":[\"23-LPT\",\"26-LPT\",\"20-LPT\",\"22-LPT\",\"18-LPT\",\"25-LPT\",\"24-LPT\",\"21-LPT\"],\"textposition\":\"auto\",\"x\":[90000000.0,104400000.0,93600000.0,93600000.0,97200000.0,82800000.0,86400000.0,93600000.0],\"xaxis\":\"x\",\"y\":[\"LPT\",\"LPT\",\"LPT\",\"LPT\",\"LPT\",\"LPT\",\"LPT\",\"LPT\"],\"yaxis\":\"y\",\"type\":\"bar\"},{\"alignmentgroup\":\"True\",\"base\":[\"1970-01-03T00:00:00\",\"1970-01-04T01:00:00\",\"1970-01-04T19:00:00\",\"1970-01-07T09:00:00\",\"1970-01-02T14:00:00\",\"1970-01-03T16:00:00\",\"1970-01-06T16:00:00\",\"1970-01-09T12:00:00\",\"1970-01-02T23:00:00\",\"1970-01-04T01:00:00\",\"1970-01-05T00:00:00\",\"1970-01-07T01:00:00\",\"1970-01-10T04:00:00\",\"1970-01-02T11:00:00\",\"1970-01-03T14:00:00\",\"1970-01-05T23:00:00\",\"1970-01-08T17:00:00\",\"1970-01-03T04:00:00\",\"1970-01-04T04:00:00\",\"1970-01-05T19:00:00\",\"1970-01-08T14:00:00\",\"1970-01-12T13:00:00\",\"1970-01-02T19:00:00\",\"1970-01-03T21:00:00\",\"1970-01-04T11:00:00\",\"1970-01-07T14:00:00\"],\"hovertemplate\":\"Rule=%{y}<br>Start=%{base}<br>Finish=%{x}<br>Step-Rule=%{text}<extra></extra>\",\"legendgroup\":\"NONE\",\"marker\":{\"color\":\"#1CA71C\",\"pattern\":{\"shape\":\"\"}},\"name\":\"NONE\",\"offsetgroup\":\"NONE\",\"orientation\":\"h\",\"showlegend\":true,\"text\":[\"23-NONE\",\"29-NONE\",\"34-NONE\",\"61-NONE\",\"20-NONE\",\"26-NONE\",\"56-NONE\",\"81-NONE\",\"22-NONE\",\"28-NONE\",\"37-NONE\",\"59-NONE\",\"87-NONE\",\"18-NONE\",\"25-NONE\",\"51-NONE\",\"79-NONE\",\"24-NONE\",\"30-NONE\",\"47-NONE\",\"77-NONE\",\"99-NONE\",\"21-NONE\",\"27-NONE\",\"32-NONE\",\"65-NONE\"],\"textposition\":\"auto\",\"x\":[10800000.0,3600000.0,7200000.0,7200000.0,10800000.0,14400000.0,10800000.0,3600000.0,7200000.0,10800000.0,14400000.0,10800000.0,10800000.0,10800000.0,14400000.0,7200000.0,3600000.0,7200000.0,10800000.0,10800000.0,10800000.0,7200000.0,3600000.0,10800000.0,7200000.0,10800000.0],\"xaxis\":\"x\",\"y\":[\"NONE\",\"NONE\",\"NONE\",\"NONE\",\"NONE\",\"NONE\",\"NONE\",\"NONE\",\"NONE\",\"NONE\",\"NONE\",\"NONE\",\"NONE\",\"NONE\",\"NONE\",\"NONE\",\"NONE\",\"NONE\",\"NONE\",\"NONE\",\"NONE\",\"NONE\",\"NONE\",\"NONE\",\"NONE\",\"NONE\"],\"yaxis\":\"y\",\"type\":\"bar\"}],                        {\"template\":{\"data\":{\"barpolar\":[{\"marker\":{\"line\":{\"color\":\"white\",\"width\":0.5},\"pattern\":{\"fillmode\":\"overlay\",\"size\":10,\"solidity\":0.2}},\"type\":\"barpolar\"}],\"bar\":[{\"error_x\":{\"color\":\"rgb(36,36,36)\"},\"error_y\":{\"color\":\"rgb(36,36,36)\"},\"marker\":{\"line\":{\"color\":\"white\",\"width\":0.5},\"pattern\":{\"fillmode\":\"overlay\",\"size\":10,\"solidity\":0.2}},\"type\":\"bar\"}],\"carpet\":[{\"aaxis\":{\"endlinecolor\":\"rgb(36,36,36)\",\"gridcolor\":\"white\",\"linecolor\":\"white\",\"minorgridcolor\":\"white\",\"startlinecolor\":\"rgb(36,36,36)\"},\"baxis\":{\"endlinecolor\":\"rgb(36,36,36)\",\"gridcolor\":\"white\",\"linecolor\":\"white\",\"minorgridcolor\":\"white\",\"startlinecolor\":\"rgb(36,36,36)\"},\"type\":\"carpet\"}],\"choropleth\":[{\"colorbar\":{\"outlinewidth\":1,\"tickcolor\":\"rgb(36,36,36)\",\"ticks\":\"outside\"},\"type\":\"choropleth\"}],\"contourcarpet\":[{\"colorbar\":{\"outlinewidth\":1,\"tickcolor\":\"rgb(36,36,36)\",\"ticks\":\"outside\"},\"type\":\"contourcarpet\"}],\"contour\":[{\"colorbar\":{\"outlinewidth\":1,\"tickcolor\":\"rgb(36,36,36)\",\"ticks\":\"outside\"},\"colorscale\":[[0.0,\"#440154\"],[0.1111111111111111,\"#482878\"],[0.2222222222222222,\"#3e4989\"],[0.3333333333333333,\"#31688e\"],[0.4444444444444444,\"#26828e\"],[0.5555555555555556,\"#1f9e89\"],[0.6666666666666666,\"#35b779\"],[0.7777777777777778,\"#6ece58\"],[0.8888888888888888,\"#b5de2b\"],[1.0,\"#fde725\"]],\"type\":\"contour\"}],\"heatmapgl\":[{\"colorbar\":{\"outlinewidth\":1,\"tickcolor\":\"rgb(36,36,36)\",\"ticks\":\"outside\"},\"colorscale\":[[0.0,\"#440154\"],[0.1111111111111111,\"#482878\"],[0.2222222222222222,\"#3e4989\"],[0.3333333333333333,\"#31688e\"],[0.4444444444444444,\"#26828e\"],[0.5555555555555556,\"#1f9e89\"],[0.6666666666666666,\"#35b779\"],[0.7777777777777778,\"#6ece58\"],[0.8888888888888888,\"#b5de2b\"],[1.0,\"#fde725\"]],\"type\":\"heatmapgl\"}],\"heatmap\":[{\"colorbar\":{\"outlinewidth\":1,\"tickcolor\":\"rgb(36,36,36)\",\"ticks\":\"outside\"},\"colorscale\":[[0.0,\"#440154\"],[0.1111111111111111,\"#482878\"],[0.2222222222222222,\"#3e4989\"],[0.3333333333333333,\"#31688e\"],[0.4444444444444444,\"#26828e\"],[0.5555555555555556,\"#1f9e89\"],[0.6666666666666666,\"#35b779\"],[0.7777777777777778,\"#6ece58\"],[0.8888888888888888,\"#b5de2b\"],[1.0,\"#fde725\"]],\"type\":\"heatmap\"}],\"histogram2dcontour\":[{\"colorbar\":{\"outlinewidth\":1,\"tickcolor\":\"rgb(36,36,36)\",\"ticks\":\"outside\"},\"colorscale\":[[0.0,\"#440154\"],[0.1111111111111111,\"#482878\"],[0.2222222222222222,\"#3e4989\"],[0.3333333333333333,\"#31688e\"],[0.4444444444444444,\"#26828e\"],[0.5555555555555556,\"#1f9e89\"],[0.6666666666666666,\"#35b779\"],[0.7777777777777778,\"#6ece58\"],[0.8888888888888888,\"#b5de2b\"],[1.0,\"#fde725\"]],\"type\":\"histogram2dcontour\"}],\"histogram2d\":[{\"colorbar\":{\"outlinewidth\":1,\"tickcolor\":\"rgb(36,36,36)\",\"ticks\":\"outside\"},\"colorscale\":[[0.0,\"#440154\"],[0.1111111111111111,\"#482878\"],[0.2222222222222222,\"#3e4989\"],[0.3333333333333333,\"#31688e\"],[0.4444444444444444,\"#26828e\"],[0.5555555555555556,\"#1f9e89\"],[0.6666666666666666,\"#35b779\"],[0.7777777777777778,\"#6ece58\"],[0.8888888888888888,\"#b5de2b\"],[1.0,\"#fde725\"]],\"type\":\"histogram2d\"}],\"histogram\":[{\"marker\":{\"line\":{\"color\":\"white\",\"width\":0.6}},\"type\":\"histogram\"}],\"mesh3d\":[{\"colorbar\":{\"outlinewidth\":1,\"tickcolor\":\"rgb(36,36,36)\",\"ticks\":\"outside\"},\"type\":\"mesh3d\"}],\"parcoords\":[{\"line\":{\"colorbar\":{\"outlinewidth\":1,\"tickcolor\":\"rgb(36,36,36)\",\"ticks\":\"outside\"}},\"type\":\"parcoords\"}],\"pie\":[{\"automargin\":true,\"type\":\"pie\"}],\"scatter3d\":[{\"line\":{\"colorbar\":{\"outlinewidth\":1,\"tickcolor\":\"rgb(36,36,36)\",\"ticks\":\"outside\"}},\"marker\":{\"colorbar\":{\"outlinewidth\":1,\"tickcolor\":\"rgb(36,36,36)\",\"ticks\":\"outside\"}},\"type\":\"scatter3d\"}],\"scattercarpet\":[{\"marker\":{\"colorbar\":{\"outlinewidth\":1,\"tickcolor\":\"rgb(36,36,36)\",\"ticks\":\"outside\"}},\"type\":\"scattercarpet\"}],\"scattergeo\":[{\"marker\":{\"colorbar\":{\"outlinewidth\":1,\"tickcolor\":\"rgb(36,36,36)\",\"ticks\":\"outside\"}},\"type\":\"scattergeo\"}],\"scattergl\":[{\"marker\":{\"colorbar\":{\"outlinewidth\":1,\"tickcolor\":\"rgb(36,36,36)\",\"ticks\":\"outside\"}},\"type\":\"scattergl\"}],\"scattermapbox\":[{\"marker\":{\"colorbar\":{\"outlinewidth\":1,\"tickcolor\":\"rgb(36,36,36)\",\"ticks\":\"outside\"}},\"type\":\"scattermapbox\"}],\"scatterpolargl\":[{\"marker\":{\"colorbar\":{\"outlinewidth\":1,\"tickcolor\":\"rgb(36,36,36)\",\"ticks\":\"outside\"}},\"type\":\"scatterpolargl\"}],\"scatterpolar\":[{\"marker\":{\"colorbar\":{\"outlinewidth\":1,\"tickcolor\":\"rgb(36,36,36)\",\"ticks\":\"outside\"}},\"type\":\"scatterpolar\"}],\"scatter\":[{\"fillpattern\":{\"fillmode\":\"overlay\",\"size\":10,\"solidity\":0.2},\"type\":\"scatter\"}],\"scatterternary\":[{\"marker\":{\"colorbar\":{\"outlinewidth\":1,\"tickcolor\":\"rgb(36,36,36)\",\"ticks\":\"outside\"}},\"type\":\"scatterternary\"}],\"surface\":[{\"colorbar\":{\"outlinewidth\":1,\"tickcolor\":\"rgb(36,36,36)\",\"ticks\":\"outside\"},\"colorscale\":[[0.0,\"#440154\"],[0.1111111111111111,\"#482878\"],[0.2222222222222222,\"#3e4989\"],[0.3333333333333333,\"#31688e\"],[0.4444444444444444,\"#26828e\"],[0.5555555555555556,\"#1f9e89\"],[0.6666666666666666,\"#35b779\"],[0.7777777777777778,\"#6ece58\"],[0.8888888888888888,\"#b5de2b\"],[1.0,\"#fde725\"]],\"type\":\"surface\"}],\"table\":[{\"cells\":{\"fill\":{\"color\":\"rgb(237,237,237)\"},\"line\":{\"color\":\"white\"}},\"header\":{\"fill\":{\"color\":\"rgb(217,217,217)\"},\"line\":{\"color\":\"white\"}},\"type\":\"table\"}]},\"layout\":{\"annotationdefaults\":{\"arrowhead\":0,\"arrowwidth\":1},\"autotypenumbers\":\"strict\",\"coloraxis\":{\"colorbar\":{\"outlinewidth\":1,\"tickcolor\":\"rgb(36,36,36)\",\"ticks\":\"outside\"}},\"colorscale\":{\"diverging\":[[0.0,\"rgb(103,0,31)\"],[0.1,\"rgb(178,24,43)\"],[0.2,\"rgb(214,96,77)\"],[0.3,\"rgb(244,165,130)\"],[0.4,\"rgb(253,219,199)\"],[0.5,\"rgb(247,247,247)\"],[0.6,\"rgb(209,229,240)\"],[0.7,\"rgb(146,197,222)\"],[0.8,\"rgb(67,147,195)\"],[0.9,\"rgb(33,102,172)\"],[1.0,\"rgb(5,48,97)\"]],\"sequential\":[[0.0,\"#440154\"],[0.1111111111111111,\"#482878\"],[0.2222222222222222,\"#3e4989\"],[0.3333333333333333,\"#31688e\"],[0.4444444444444444,\"#26828e\"],[0.5555555555555556,\"#1f9e89\"],[0.6666666666666666,\"#35b779\"],[0.7777777777777778,\"#6ece58\"],[0.8888888888888888,\"#b5de2b\"],[1.0,\"#fde725\"]],\"sequentialminus\":[[0.0,\"#440154\"],[0.1111111111111111,\"#482878\"],[0.2222222222222222,\"#3e4989\"],[0.3333333333333333,\"#31688e\"],[0.4444444444444444,\"#26828e\"],[0.5555555555555556,\"#1f9e89\"],[0.6666666666666666,\"#35b779\"],[0.7777777777777778,\"#6ece58\"],[0.8888888888888888,\"#b5de2b\"],[1.0,\"#fde725\"]]},\"colorway\":[\"#1F77B4\",\"#FF7F0E\",\"#2CA02C\",\"#D62728\",\"#9467BD\",\"#8C564B\",\"#E377C2\",\"#7F7F7F\",\"#BCBD22\",\"#17BECF\"],\"font\":{\"color\":\"rgb(36,36,36)\"},\"geo\":{\"bgcolor\":\"white\",\"lakecolor\":\"white\",\"landcolor\":\"white\",\"showlakes\":true,\"showland\":true,\"subunitcolor\":\"white\"},\"hoverlabel\":{\"align\":\"left\"},\"hovermode\":\"closest\",\"mapbox\":{\"style\":\"light\"},\"paper_bgcolor\":\"white\",\"plot_bgcolor\":\"white\",\"polar\":{\"angularaxis\":{\"gridcolor\":\"rgb(232,232,232)\",\"linecolor\":\"rgb(36,36,36)\",\"showgrid\":false,\"showline\":true,\"ticks\":\"outside\"},\"bgcolor\":\"white\",\"radialaxis\":{\"gridcolor\":\"rgb(232,232,232)\",\"linecolor\":\"rgb(36,36,36)\",\"showgrid\":false,\"showline\":true,\"ticks\":\"outside\"}},\"scene\":{\"xaxis\":{\"backgroundcolor\":\"white\",\"gridcolor\":\"rgb(232,232,232)\",\"gridwidth\":2,\"linecolor\":\"rgb(36,36,36)\",\"showbackground\":true,\"showgrid\":false,\"showline\":true,\"ticks\":\"outside\",\"zeroline\":false,\"zerolinecolor\":\"rgb(36,36,36)\"},\"yaxis\":{\"backgroundcolor\":\"white\",\"gridcolor\":\"rgb(232,232,232)\",\"gridwidth\":2,\"linecolor\":\"rgb(36,36,36)\",\"showbackground\":true,\"showgrid\":false,\"showline\":true,\"ticks\":\"outside\",\"zeroline\":false,\"zerolinecolor\":\"rgb(36,36,36)\"},\"zaxis\":{\"backgroundcolor\":\"white\",\"gridcolor\":\"rgb(232,232,232)\",\"gridwidth\":2,\"linecolor\":\"rgb(36,36,36)\",\"showbackground\":true,\"showgrid\":false,\"showline\":true,\"ticks\":\"outside\",\"zeroline\":false,\"zerolinecolor\":\"rgb(36,36,36)\"}},\"shapedefaults\":{\"fillcolor\":\"black\",\"line\":{\"width\":0},\"opacity\":0.3},\"ternary\":{\"aaxis\":{\"gridcolor\":\"rgb(232,232,232)\",\"linecolor\":\"rgb(36,36,36)\",\"showgrid\":false,\"showline\":true,\"ticks\":\"outside\"},\"baxis\":{\"gridcolor\":\"rgb(232,232,232)\",\"linecolor\":\"rgb(36,36,36)\",\"showgrid\":false,\"showline\":true,\"ticks\":\"outside\"},\"bgcolor\":\"white\",\"caxis\":{\"gridcolor\":\"rgb(232,232,232)\",\"linecolor\":\"rgb(36,36,36)\",\"showgrid\":false,\"showline\":true,\"ticks\":\"outside\"}},\"title\":{\"x\":0.05},\"xaxis\":{\"automargin\":true,\"gridcolor\":\"rgb(232,232,232)\",\"linecolor\":\"rgb(36,36,36)\",\"showgrid\":false,\"showline\":true,\"ticks\":\"outside\",\"title\":{\"standoff\":15},\"zeroline\":false,\"zerolinecolor\":\"rgb(36,36,36)\"},\"yaxis\":{\"automargin\":true,\"gridcolor\":\"rgb(232,232,232)\",\"linecolor\":\"rgb(36,36,36)\",\"showgrid\":false,\"showline\":true,\"ticks\":\"outside\",\"title\":{\"standoff\":15},\"zeroline\":false,\"zerolinecolor\":\"rgb(36,36,36)\"}}},\"xaxis\":{\"anchor\":\"y\",\"domain\":[0.0,1.0],\"type\":\"date\"},\"yaxis\":{\"anchor\":\"x\",\"domain\":[0.0,1.0],\"title\":{\"text\":\"Rule\"},\"categoryorder\":\"array\",\"categoryarray\":[\"NONE\",\"LPT\",\"LOR\"]},\"legend\":{\"title\":{\"text\":\"Rule\"},\"tracegroupgap\":0},\"margin\":{\"t\":60},\"barmode\":\"overlay\",\"height\":800,\"width\":2000},                        {\"responsive\": true}                    ).then(function(){\n",
       "                            \n",
       "var gd = document.getElementById('808f23df-d311-4dca-902f-ee290d03370b');\n",
       "var x = new MutationObserver(function (mutations, observer) {{\n",
       "        var display = window.getComputedStyle(gd).display;\n",
       "        if (!display || display === 'none') {{\n",
       "            console.log([gd, 'removed!']);\n",
       "            Plotly.purge(gd);\n",
       "            observer.disconnect();\n",
       "        }}\n",
       "}});\n",
       "\n",
       "// Listen for the removal of the full notebook cells\n",
       "var notebookContainer = gd.closest('#notebook-container');\n",
       "if (notebookContainer) {{\n",
       "    x.observe(notebookContainer, {childList: true});\n",
       "}}\n",
       "\n",
       "// Listen for the clearing of the current output cell\n",
       "var outputEl = gd.closest('.output');\n",
       "if (outputEl) {{\n",
       "    x.observe(outputEl, {childList: true});\n",
       "}}\n",
       "\n",
       "                        })                };                });            </script>        </div>"
      ]
     },
     "metadata": {},
     "output_type": "display_data"
    },
    {
     "name": "stdout",
     "output_type": "stream",
     "text": [
      "FlowTime: 2966\n",
      "machine_util: 0\n",
      "util: 0.9421157684630739\n",
      "makespan: 296\n",
      "Score -87.0\n"
     ]
    }
   ],
   "source": [
    "# -*- coding: utf-8 -*-\n",
    "\"\"\"\n",
    "Created on Mon Apr  4 23:28:32 2022\n",
    "\n",
    "@author: parkh\n",
    "\"\"\"\n",
    "\n",
    "import torch\n",
    "import torch.nn as nn\n",
    "import torch.nn.functional as F\n",
    "import torch.optim as optim\n",
    "\n",
    "import gym\n",
    "import collections\n",
    "import random\n",
    "from SIM_gannt import *\n",
    "\n",
    "learning_rate = 0.001  \n",
    "gamma = 1\n",
    "buffer_limit = 20000\n",
    "batch_size = 16\n",
    "\n",
    "class ReplayBuffer():\n",
    "    def __init__(self):\n",
    "        self.buffer = collections.deque(maxlen=buffer_limit);\n",
    "    def put(self, transition):\n",
    "        self.buffer.append(transition)\n",
    "    def sample(self, n):\n",
    "        mini_batch = random.sample(self.buffer, n)\n",
    "        s_lst, a_lst, r_lst, s_prime_lst, done_mask_lst = [],[],[],[],[]\n",
    "        \n",
    "        for transition in mini_batch:\n",
    "            s, a, r, s_prime, done_mask = transition\n",
    "            s_lst.append(s)\n",
    "            a_lst.append([a])\n",
    "            r_lst.append([r])\n",
    "            s_prime_lst.append(s_prime)\n",
    "            done_mask_lst.append([done_mask])\n",
    "            \n",
    "        return torch.tensor(s_lst, dtype=torch. float),torch.tensor(a_lst), torch.tensor(r_lst), torch.tensor(s_prime_lst, dtype=torch. float), torch.tensor(done_mask_lst)\n",
    "    \n",
    "    def size(self):\n",
    "        return len(self.buffer)\n",
    "\n",
    "class Qnet(nn.Module):\n",
    "    def __init__(self):\n",
    "        super(Qnet, self).__init__()\n",
    "        self.fc1 = nn.Linear(132,64)\n",
    "        self.fc2 = nn.Linear(64,32)\n",
    "        self.fc3 = nn.Linear(32,6)\n",
    "        self.number_of_time_list = np.array([1 for x in range(6)])\n",
    "    \n",
    "    def forward(self, x):\n",
    "        x = F.relu(self.fc1(x))\n",
    "        x = F.relu(self.fc2(x))\n",
    "        x = self.fc3(x)\n",
    "        return x\n",
    "    \n",
    "    def sample_action(self, obs, epsilon):\n",
    "        out = self.forward(obs)\n",
    "        #print(out)\n",
    "        out2 = out.detach().numpy()\n",
    "        act_list = out2/self.number_of_time_list\n",
    "        act = np.argmax(act_list)\n",
    "        coin = random.random()\n",
    "        if coin < epsilon:\n",
    "            return random.randint(0, 5)\n",
    "        else:\n",
    "            return act\n",
    "    def select_action(self, obs, epsilon):\n",
    "        out = self.forward(obs)\n",
    "        out2 = out.detach().numpy()\n",
    "        act_list = out2/self.number_of_time_list\n",
    "        act = np.argmax(act_list)\n",
    "        return act,act_list\n",
    "        \n",
    "def train(q, q_target, memory, optimizer):\n",
    "    for i in range(10):\n",
    "        s,a,r,s_prime,done_mask = memory.sample(batch_size)\n",
    "        #q.number_of_time_list[a] += 1    \n",
    "        q_out = q(s)\n",
    "        q_a = q_out.gather(1,a)\n",
    "        max_q_prime = q_target(s_prime).max (1)[0].unsqueeze(1)\n",
    "        target = r + gamma * max_q_prime * done_mask\n",
    "        loss = F.smooth_l1_loss(q_a, target)\n",
    "        optimizer.zero_grad()\n",
    "        loss.backward()\n",
    "        optimizer.step()\n",
    "            \n",
    "def main():\n",
    "    env = FJSP_simulator('C:/Users\\parkh/git_tlsgudcks/simulator/data/FJSP_SIM7_all.csv','C:/Users/parkh/FJSP_SETUP_SIM.csv',1)\n",
    "    q = Qnet()\n",
    "    q_target = Qnet()\n",
    "    q_target.load_state_dict(q.state_dict())\n",
    "    memory = ReplayBuffer()\n",
    "    print_interval = 1\n",
    "    q_load = 20\n",
    "    score = 0.0\n",
    "    optimizer = optim.Adam(q.parameters(), lr=learning_rate)\n",
    "    \n",
    "    for n_epi in range(1000):\n",
    "        epsilon = max(0.01 , 0.08 - 0.02*(n_epi/200))\n",
    "        s = env.reset()\n",
    "        done = False\n",
    "        score = 0.0\n",
    "        while not done:\n",
    "            a = q.sample_action(torch.from_numpy(s). float(), epsilon)\n",
    "            s_prime, r, done = env.step(a)\n",
    "            done_mask =0.0 if done else 1.0\n",
    "            if done == False:\n",
    "                memory.put((s,a,r,s_prime,done_mask))\n",
    "                s = s_prime\n",
    "                score += r\n",
    "            if done:\n",
    "                break\n",
    "        if memory.size()>1000:\n",
    "            train(q, q_target, memory, optimizer)\n",
    "            \n",
    "        if n_epi % print_interval==0 and n_epi!=0:\n",
    "            #q_target.load_state_dict(q.state_dict())\n",
    "            Flow_time, machine_utill ,util, makespan = env.performance_measure()\n",
    "            print(\"--------------------------------------------------\")\n",
    "            print(\"flow time: {}, util : {:.3f}, makespan : {}\".format(Flow_time, util, makespan))\n",
    "            print(\"n_episode: {}, score : {:.1f}, n_buffer : {}, eps : {:.1f}%\".format(n_epi, score/print_interval,memory.size(),epsilon*100))\n",
    "            #score=0.0\n",
    "        if n_epi % q_load ==0 and n_epi!=0:\n",
    "            q_target.load_state_dict(q.state_dict())\n",
    "        s = env.reset()\n",
    "        done = False\n",
    "        score = 0.0\n",
    "    while not done:\n",
    "        a, a_list = q.select_action(torch.from_numpy(s). float(), epsilon)\n",
    "        print(a_list)\n",
    "        print(a)\n",
    "        s_prime, r, done = env.step(a)\n",
    "        print(r)\n",
    "        s = s_prime\n",
    "        score += r\n",
    "        if done:\n",
    "            break\n",
    "    Flow_time, machine_util, util, makespan = env.performance_measure()\n",
    "    env.gannt_chart()\n",
    "    return Flow_time, machine_util, util, makespan, score\n",
    "Flow_time, machine_util, util, makespan, score =main()\n",
    "print(\"FlowTime:\" , Flow_time)\n",
    "print(\"machine_util:\" , machine_util)\n",
    "print(\"util:\" , util)\n",
    "print(\"makespan:\" , makespan)\n",
    "print(\"Score\" , score)\n",
    "      \n",
    "    "
   ]
  },
  {
   "cell_type": "code",
   "execution_count": null,
   "id": "4f44aef7",
   "metadata": {},
   "outputs": [],
   "source": []
  }
 ],
 "metadata": {
  "kernelspec": {
   "display_name": "Python 3",
   "language": "python",
   "name": "python3"
  },
  "language_info": {
   "codemirror_mode": {
    "name": "ipython",
    "version": 3
   },
   "file_extension": ".py",
   "mimetype": "text/x-python",
   "name": "python",
   "nbconvert_exporter": "python",
   "pygments_lexer": "ipython3",
   "version": "3.8.8"
  }
 },
 "nbformat": 4,
 "nbformat_minor": 5
}
